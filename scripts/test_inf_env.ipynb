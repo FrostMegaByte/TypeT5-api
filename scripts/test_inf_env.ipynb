{
 "cells": [
  {
   "cell_type": "code",
   "execution_count": 1,
   "metadata": {},
   "outputs": [],
   "source": [
    "%load_ext autoreload\n",
    "%autoreload 2"
   ]
  },
  {
   "cell_type": "code",
   "execution_count": 2,
   "metadata": {},
   "outputs": [],
   "source": [
    "from spot.utils import cst, read_file, write_file, seq_flatten, proj_root, parallel_map_unordered\n",
    "import os\n",
    "from spot.type_env import (\n",
    "    collect_annotations, MypyChecker, AnnotPath, mypy_checker, \n",
    "    TypeInfEnv, TypeInfState, TypeInfAction, SelectAnnotations)\n",
    "from spot.data_prepare import GitRepo\n",
    "import shutil\n",
    "import pickle\n",
    "from pathlib import Path\n",
    "import pandas as pd\n",
    "import plotly.express as px\n",
    "from tqdm import tqdm\n",
    "from concurrent.futures import ProcessPoolExecutor\n",
    "import time\n",
    "from typing import *\n",
    "\n",
    "os.chdir(proj_root())\n",
    "\n",
    "datadir = Path(os.getenv(\"datadir\"))\n",
    "repos_dir = datadir / \"SPOT-data/repos\"\n",
    "\n",
    "useful_repos_path = proj_root() / \"scripts\" / \"useful_repos.pkl\"\n",
    "with useful_repos_path.open(\"rb\") as f:\n",
    "    useful_repos: list[GitRepo] = pickle.load(f)"
   ]
  },
  {
   "cell_type": "code",
   "execution_count": 3,
   "metadata": {},
   "outputs": [],
   "source": [
    "# remove `data/temp` if it exists\n",
    "inference_dir = \"data/code_output/inference\"\n",
    "if os.path.exists(inference_dir):\n",
    "    shutil.rmtree(inference_dir)\n",
    "if not os.path.exists(inference_dir):\n",
    "    os.mkdir(inference_dir)\n",
    "write_file(f\"{inference_dir}/env_code_1.py\", read_file(\"data/code/env_code_1.py\"))"
   ]
  },
  {
   "cell_type": "code",
   "execution_count": 4,
   "metadata": {},
   "outputs": [
    {
     "name": "stdout",
     "output_type": "stream",
     "text": [
      "Daemon started\n",
      "\n",
      "num_errors: 0\n",
      "num_to_annot: 11\n",
      "to_annotate: [AnnotPath('fib.n'), AnnotPath('fib.<return>'), AnnotPath('foo.bar'), AnnotPath('foo.<return>'), AnnotPath('int_add.a'), AnnotPath('int_add.b'), AnnotPath('int_add.<return>'), AnnotPath('int_tripple_add.a'), AnnotPath('int_tripple_add.b'), AnnotPath('int_tripple_add.c'), AnnotPath('int_tripple_add.<return>')]\n",
      "------------------------ code -------------------------------\n",
      "# Env example 1: no existing annotations\n",
      "\n",
      "from typing import Any  # [added by SPOT]\n",
      "def fib(n):\n",
      "    if n == 0:\n",
      "        return 0\n",
      "    elif n == 1:\n",
      "        return 1\n",
      "    else:\n",
      "        return fib(n-1) + fib(n-2)\n",
      "\n",
      "def foo(bar):\n",
      "    return fib(bar)\n",
      "\n",
      "def int_add(a, b):\n",
      "    return a + b + \"c\"\n",
      "\n",
      "def int_tripple_add(a, b, c):\n",
      "    return a + b + c\n",
      "\n"
     ]
    }
   ],
   "source": [
    "inf_checker = MypyChecker(\".venv/bin/dmypy\", inference_dir)\n",
    "env = TypeInfEnv(inf_checker, f\"{inference_dir}/env_code_1.py\", select_annotations=SelectAnnotations.select_all_paths)\n",
    "env.reset()\n",
    "print(env.state)"
   ]
  },
  {
   "cell_type": "code",
   "execution_count": 5,
   "metadata": {},
   "outputs": [],
   "source": [
    "import ipywidgets as widgets\n",
    "\n",
    "def display_code_sequence(texts: list[str], titles=None):\n",
    "    if titles is None:\n",
    "        titles = range(len(texts))\n",
    "    outputs = [widgets.HTML(value=f\"<pre style='line-height:1.2;'>{s}</pre>\") for s in texts]\n",
    "\n",
    "    tab = widgets.Tab(outputs)\n",
    "    for i, t in enumerate(titles):\n",
    "        tab.set_title(i, str(t))\n",
    "    return tab\n",
    "\n",
    "\n",
    "def test_policy(env: TypeInfEnv, pi: Callable[[TypeInfState], TypeInfAction]):\n",
    "    env.reset()\n",
    "    state_seq = [str(env.state)]\n",
    "\n",
    "    while len(env.state.to_annot) > 0:\n",
    "        env.step(pi(env.state))\n",
    "        state_seq.append(str(env.state))\n",
    "\n",
    "    return display_code_sequence(state_seq)"
   ]
  },
  {
   "cell_type": "code",
   "execution_count": 47,
   "metadata": {},
   "outputs": [
    {
     "data": {
      "application/vnd.jupyter.widget-view+json": {
       "model_id": "e1f0a9db843647c094dea2f0e6e4e5e7",
       "version_major": 2,
       "version_minor": 0
      },
      "text/plain": [
       "Tab(children=(HTML(value='<pre style=\\'line-height:1.2;\\'>\\nnum_errors: 0\\nnum_to_annot: 11\\nto_annotate: [Ann…"
      ]
     },
     "metadata": {},
     "output_type": "display_data"
    }
   ],
   "source": [
    "test_policy(env, lambda s: TypeInfAction(s.to_annot[0], cst.Name(\"str\")))"
   ]
  },
  {
   "cell_type": "code",
   "execution_count": 48,
   "metadata": {},
   "outputs": [
    {
     "data": {
      "application/vnd.jupyter.widget-view+json": {
       "model_id": "4899c0b972aa473cbe4c0e5aecd65fc7",
       "version_major": 2,
       "version_minor": 0
      },
      "text/plain": [
       "Tab(children=(HTML(value='<pre style=\\'line-height:1.2;\\'>\\nnum_errors: 0\\nnum_to_annot: 11\\nto_annotate: [Ann…"
      ]
     },
     "metadata": {},
     "output_type": "display_data"
    }
   ],
   "source": [
    "test_policy(env, lambda s: TypeInfAction(s.to_annot[0], cst.Name(\"int\")))"
   ]
  },
  {
   "cell_type": "code",
   "execution_count": 50,
   "metadata": {},
   "outputs": [
    {
     "data": {
      "application/vnd.jupyter.widget-view+json": {
       "model_id": "ebe827563e32471485f4cbe154d25dee",
       "version_major": 2,
       "version_minor": 0
      },
      "text/plain": [
       "Tab(children=(HTML(value='<pre style=\\'line-height:1.2;\\'>\\nnum_errors: 0\\nnum_to_annot: 11\\nto_annotate: [Ann…"
      ]
     },
     "metadata": {},
     "output_type": "display_data"
    }
   ],
   "source": [
    "import random\n",
    "\n",
    "test_policy(env, lambda s: \n",
    "    TypeInfAction(s.to_annot[0], cst.Name(random.choice([\"int\", \"str\"]))))"
   ]
  },
  {
   "cell_type": "code",
   "execution_count": 58,
   "metadata": {},
   "outputs": [
    {
     "name": "stderr",
     "output_type": "stream",
     "text": [
      "\n",
      "\n",
      "\u001b[A\u001b[A"
     ]
    },
    {
     "name": "stdout",
     "output_type": "stream",
     "text": [
      "Daemon started\n",
      "Daemon started\n"
     ]
    },
    {
     "name": "stderr",
     "output_type": "stream",
     "text": [
      "  0%|          | 0/10 [16:34<?, ?it/s]\n",
      " 20%|██        | 3/15 [09:53<39:32, 197.72s/it]\n",
      "\n",
      "\n",
      "\u001b[A\u001b[A"
     ]
    },
    {
     "name": "stdout",
     "output_type": "stream",
     "text": [
      "Daemon stopped\n"
     ]
    },
    {
     "name": "stderr",
     "output_type": "stream",
     "text": [
      "  0%|          | 0/10 [16:58<?, ?it/s]\n",
      " 20%|██        | 3/15 [10:17<41:11, 205.98s/it]\n",
      "\n",
      "\n",
      "100%|██████████| 2/2 [00:52<00:00, 26.03s/it]"
     ]
    },
    {
     "name": "stdout",
     "output_type": "stream",
     "text": [
      "Daemon stopped\n",
      "479 checks in 69.5186333656311 seconds\n",
      "6.890239016649167 checks/second\n"
     ]
    },
    {
     "name": "stderr",
     "output_type": "stream",
     "text": [
      "\n"
     ]
    }
   ],
   "source": [
    "from spot.type_env import test_inference_performance\n",
    "from spot.utils import parallel_map_unordered\n",
    "\n",
    "test_dirs = [r.repo_dir(repos_dir) for r in useful_repos[:2] if r.lines_of_code < 10000]\n",
    "with ProcessPoolExecutor(max_workers=10) as executor:\n",
    "    results = parallel_map_unordered(test_inference_performance, test_dirs, executor)\n",
    "n_checks = sum(r[\"n_checks\"] for r in results)\n",
    "total_time = sum(r[\"time\"] for r in results)\n",
    "print(f\"{n_checks} checks in {total_time} seconds\")\n",
    "print(f\"{n_checks / total_time} checks/second\")"
   ]
  }
 ],
 "metadata": {
  "interpreter": {
   "hash": "f6ffc72953da4dd16b2e00785be9c4013ef131f465a8658f3921b6634d4eeec8"
  },
  "kernelspec": {
   "display_name": "Python 3.9.7 ('.venv': pipenv)",
   "language": "python",
   "name": "python3"
  },
  "language_info": {
   "codemirror_mode": {
    "name": "ipython",
    "version": 3
   },
   "file_extension": ".py",
   "mimetype": "text/x-python",
   "name": "python",
   "nbconvert_exporter": "python",
   "pygments_lexer": "ipython3",
   "version": "3.10.4"
  },
  "orig_nbformat": 4
 },
 "nbformat": 4,
 "nbformat_minor": 2
}
