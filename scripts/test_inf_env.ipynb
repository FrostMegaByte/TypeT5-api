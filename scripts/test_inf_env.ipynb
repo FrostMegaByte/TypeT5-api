{
 "cells": [
  {
   "cell_type": "code",
   "execution_count": 1,
   "metadata": {},
   "outputs": [],
   "source": [
    "%load_ext autoreload\n",
    "%autoreload 2"
   ]
  },
  {
   "cell_type": "code",
   "execution_count": 2,
   "metadata": {},
   "outputs": [],
   "source": [
    "from spot.utils import cst, read_file, write_file, seq_flatten, proj_root\n",
    "import os\n",
    "from spot.type_env import (\n",
    "    collect_annotations, MypyChecker, AnnotPath, mypy_checker, \n",
    "    TypeInfEnv, TypeInfState, TypeInfAction, SelectAnnotations)\n",
    "from spot.data_prepare import GitRepo\n",
    "import shutil\n",
    "import pickle\n",
    "from pathlib import Path\n",
    "import pandas as pd\n",
    "import plotly.express as px\n",
    "from tqdm import tqdm\n",
    "from concurrent.futures import ProcessPoolExecutor\n",
    "import time\n",
    "from typing import *\n",
    "\n",
    "os.chdir(proj_root())\n",
    "\n",
    "datadir = Path(os.getenv(\"datadir\"))\n",
    "repos_dir = datadir / \"SPOT-data/repos\"\n",
    "\n",
    "useful_repos_path = proj_root() / \"scripts\" / \"useful_repos.pkl\"\n",
    "with useful_repos_path.open(\"rb\") as f:\n",
    "    useful_repos: list[GitRepo] = pickle.load(f)"
   ]
  },
  {
   "cell_type": "code",
   "execution_count": 9,
   "metadata": {},
   "outputs": [],
   "source": [
    "import ipywidgets as widgets\n",
    "import html\n",
    "\n",
    "def display_code_sequence(texts: list[str], titles=None):\n",
    "    if titles is None:\n",
    "        titles = range(len(texts))\n",
    "    outputs = [widgets.HTML(value=f\"<pre style='line-height:1.2;'>{html.escape(s)}</pre>\") for s in texts]\n",
    "\n",
    "    tab = widgets.Tab(outputs)\n",
    "    for i, t in enumerate(titles):\n",
    "        tab.set_title(i, str(t))\n",
    "    return tab\n",
    "\n",
    "\n",
    "def test_policy(env: TypeInfEnv, pi: Callable[[TypeInfState], TypeInfAction]):\n",
    "    env.reset()\n",
    "    state_seq = [str(env.state)]\n",
    "\n",
    "    while len(env.state.to_annot) > 0:\n",
    "        if env.step(act := pi(env.state)):\n",
    "            type_str = env.state.module.code_for_node(act.type)\n",
    "            print(f\"Action rejected: {type_str} @ {str(act.path)}\")\n",
    "        state_seq.append(str(env.state))\n",
    "\n",
    "    return display_code_sequence(state_seq)"
   ]
  },
  {
   "cell_type": "code",
   "execution_count": 4,
   "metadata": {},
   "outputs": [],
   "source": [
    "# remove `inference_dir` if it exists\n",
    "inference_dir = Path(\"data/code_output/inference\")\n",
    "if inference_dir.exists():\n",
    "    shutil.rmtree(inference_dir)\n",
    "inference_dir.mkdir(parents=True)\n",
    "write_file(inference_dir/\"env_code_1.py\", read_file(\"data/code/env_code_1.py\"))"
   ]
  },
  {
   "cell_type": "code",
   "execution_count": 5,
   "metadata": {},
   "outputs": [
    {
     "name": "stdout",
     "output_type": "stream",
     "text": [
      "Daemon started\n",
      "\n",
      "num_errors: 0\n",
      "num_to_annot: 11\n",
      "to_annotate: [AnnotPath('fib.n'), AnnotPath('fib.<return>'), AnnotPath('foo.bar'), AnnotPath('foo.<return>'), AnnotPath('int_add.a'), AnnotPath('int_add.b'), AnnotPath('int_add.<return>'), AnnotPath('int_tripple_add.a'), AnnotPath('int_tripple_add.b'), AnnotPath('int_tripple_add.c'), AnnotPath('int_tripple_add.<return>')]\n",
      "------------------------ code -------------------------------\n",
      "# Env example 1: no existing annotations\n",
      "\n",
      "from typing import Any  # [added by SPOT]\n",
      "def fib(n):\n",
      "    if n == 0:\n",
      "        return 0\n",
      "    elif n == 1:\n",
      "        return 1\n",
      "    else:\n",
      "        return fib(n-1) + fib(n-2)\n",
      "\n",
      "def foo(bar):\n",
      "    return fib(bar)\n",
      "\n",
      "def int_add(a, b):\n",
      "    return a + b + \"c\"\n",
      "\n",
      "def int_tripple_add(a, b, c):\n",
      "    return a + b + c\n",
      "\n"
     ]
    }
   ],
   "source": [
    "inf_checker = MypyChecker(\".venv/bin/dmypy\", inference_dir)\n",
    "env = TypeInfEnv(inf_checker, inference_dir/\"env_code_1.py\", select_annotations=SelectAnnotations.select_all_paths)\n",
    "env.reset()\n",
    "print(env.state)"
   ]
  },
  {
   "cell_type": "code",
   "execution_count": 10,
   "metadata": {},
   "outputs": [
    {
     "name": "stdout",
     "output_type": "stream",
     "text": [
      "Action rejected: str @ 'fib.n'\n",
      "Action rejected: str @ 'fib.<return>'\n"
     ]
    },
    {
     "data": {
      "application/vnd.jupyter.widget-view+json": {
       "model_id": "327e7b8daab84adfb72a0c4f05985552",
       "version_major": 2,
       "version_minor": 0
      },
      "text/plain": [
       "Tab(children=(HTML(value=\"<pre style='line-height:1.2;'>\\nnum_errors: 0\\nnum_to_annot: 11\\nto_annotate: [Annot…"
      ]
     },
     "metadata": {},
     "output_type": "display_data"
    }
   ],
   "source": [
    "test_policy(env, lambda s: TypeInfAction(s.to_annot[0], cst.Name(\"str\")))"
   ]
  },
  {
   "cell_type": "code",
   "execution_count": 11,
   "metadata": {},
   "outputs": [
    {
     "name": "stdout",
     "output_type": "stream",
     "text": [
      "Action rejected: int @ 'int_add.b'\n"
     ]
    },
    {
     "data": {
      "application/vnd.jupyter.widget-view+json": {
       "model_id": "0dd54caa37014975b1341d25aa54301a",
       "version_major": 2,
       "version_minor": 0
      },
      "text/plain": [
       "Tab(children=(HTML(value=\"<pre style='line-height:1.2;'>\\nnum_errors: 0\\nnum_to_annot: 11\\nto_annotate: [Annot…"
      ]
     },
     "metadata": {},
     "output_type": "display_data"
    }
   ],
   "source": [
    "int_policy = lambda s: TypeInfAction(s.to_annot[0], cst.Name(\"int\"))\n",
    "test_policy(env, int_policy)"
   ]
  },
  {
   "cell_type": "code",
   "execution_count": 12,
   "metadata": {},
   "outputs": [
    {
     "name": "stderr",
     "output_type": "stream",
     "text": [
      "/home/jiayi/Projects/SPOT/.venv/lib/python3.10/site-packages/torch/nn/modules/module.py:1402: UserWarning: positional arguments and argument \"destination\" are deprecated. nn.Module.state_dict will not accept them in the future. Refer to https://pytorch.org/docs/master/generated/torch.nn.Module.html#torch.nn.Module.state_dict for details.\n",
      "  warnings.warn(\n"
     ]
    }
   ],
   "source": [
    "model_dir = \"./checkpoints/saved/SPOT-CodeT5-fine-tune/checkpoint-1500\"\n",
    "\n",
    "import torch\n",
    "from transformers import RobertaTokenizer, T5ForConditionalGeneration, DataCollatorForSeq2Seq\n",
    "from transformers.models.t5 import T5ForConditionalGeneration\n",
    "\n",
    "device = torch.device(\"cuda:0\" if torch.cuda.is_available() else \"cpu\")\n",
    "tokenizer: RobertaTokenizer = RobertaTokenizer.from_pretrained(model_dir)\n",
    "model: T5ForConditionalGeneration = T5ForConditionalGeneration.from_pretrained(model_dir).to(device)"
   ]
  },
  {
   "cell_type": "code",
   "execution_count": 13,
   "metadata": {},
   "outputs": [],
   "source": [
    "from transformers.models.t5 import T5ForConditionalGeneration\n",
    "from transformers import RobertaTokenizer\n",
    "from spot.type_env import apply_annotations\n",
    "from spot.utils import join_str\n",
    "import re\n",
    "\n",
    "def greedy_policy_from_model(model: T5ForConditionalGeneration, tokenizer: RobertaTokenizer):\n",
    "    def pi(s: TypeInfState) -> TypeInfAction:\n",
    "        path = s.to_annot[0]\n",
    "        annot = cst.Annotation(cst.Name(\"SPOT_TYPE_MASK\"))\n",
    "        m1 = apply_annotations(s.module, {path: annot})\n",
    "        code_input = m1.code.replace(\"SPOT_TYPE_MASK\", \"<extra_id_0>\")\n",
    "        dec = model.generate(\n",
    "            tokenizer.encode(code_input, return_tensors='pt').to(model.device),\n",
    "            max_length=20,\n",
    "            num_beams=16,\n",
    "        )[0]\n",
    "        pred = tokenizer.decode(dec, skip_special_tokens=True)\n",
    "        print(f\"Prediction for {path.__str__()}:\", pred)\n",
    "        try:\n",
    "            type_ex = cst.parse_expression(pred)\n",
    "        except Exception as e:\n",
    "            print(\"Failed to parse:\", pred)\n",
    "            type_ex = cst.Name(\"Any\")\n",
    "        return TypeInfAction(path, type_ex)\n",
    "    return pi\n",
    "\n",
    "def planner_policy_from_model(model: T5ForConditionalGeneration, tokenizer: RobertaTokenizer):\n",
    "    def pi(s: TypeInfState) -> TypeInfAction:\n",
    "        path = s.to_annot[0]\n",
    "        annot = cst.Annotation(cst.Name(\"SPOT_TYPE_MASK\"))\n",
    "        m1 = apply_annotations(s.module, {p: annot for p in s.to_annot})\n",
    "        code_segs = m1.code.split(\"SPOT_TYPE_MASK\")\n",
    "        mask_tokens = [f\"<extra_id_{i}>\" for i in range(len(s.to_annot))]\n",
    "        code_input = join_str(code_segs, mask_tokens)\n",
    "        dec = model.generate(\n",
    "            tokenizer.encode(code_input, return_tensors='pt').to(model.device),\n",
    "            max_length=56,\n",
    "            num_beams=16,\n",
    "        )[0]\n",
    "        dec = tokenizer.decode(dec)\n",
    "        mr = re.match(r\".+<extra_id_0>(.+)<extra_id_1>.+\", dec)\n",
    "        if mr is None:\n",
    "            mr = re.match(r\".+<extra_id_0>(.+)</s>\", dec)\n",
    "        if mr is not None:\n",
    "            type_str = mr.group(1)\n",
    "            print(f\"Prediction for {path.__str__()}:\", type_str)\n",
    "            try:\n",
    "                type_ex = cst.parse_expression(type_str)\n",
    "            except Exception as e:\n",
    "                print(\"Failed to parse as type:\", type_str)\n",
    "                raise e\n",
    "                type_ex = cst.Name(\"Any\")\n",
    "        else:\n",
    "            print(f\"Failed to parse model output: {dec}\")\n",
    "            type_ex = cst.Name(\"Any\")\n",
    "        return TypeInfAction(path, type_ex)\n",
    "    return pi\n",
    "\n",
    "greedy_policy = greedy_policy_from_model(model, tokenizer)\n",
    "planner_policy = planner_policy_from_model(model, tokenizer)"
   ]
  },
  {
   "cell_type": "code",
   "execution_count": 14,
   "metadata": {},
   "outputs": [
    {
     "name": "stdout",
     "output_type": "stream",
     "text": [
      "Prediction for 'fib.n': Any\n",
      "Prediction for 'fib.<return>': int\n",
      "Prediction for 'foo.bar': Any\n",
      "Prediction for 'foo.<return>': int\n",
      "Prediction for 'int_add.a': int\n",
      "Prediction for 'int_add.b': int\n",
      "Action rejected: int @ 'int_add.b'\n",
      "Prediction for 'int_add.<return>': str\n",
      "Prediction for 'int_tripple_add.a': int\n",
      "Prediction for 'int_tripple_add.b': Any\n",
      "Prediction for 'int_tripple_add.c': Any\n",
      "Prediction for 'int_tripple_add.<return>': str\n"
     ]
    },
    {
     "data": {
      "application/vnd.jupyter.widget-view+json": {
       "model_id": "f9100220a33b4c9d8e7f70698bd1b772",
       "version_major": 2,
       "version_minor": 0
      },
      "text/plain": [
       "Tab(children=(HTML(value=\"<pre style='line-height:1.2;'>\\nnum_errors: 0\\nnum_to_annot: 11\\nto_annotate: [Annot…"
      ]
     },
     "metadata": {},
     "output_type": "display_data"
    }
   ],
   "source": [
    "test_policy(env, greedy_policy)"
   ]
  },
  {
   "cell_type": "code",
   "execution_count": 15,
   "metadata": {},
   "outputs": [
    {
     "name": "stdout",
     "output_type": "stream",
     "text": [
      "Prediction for 'fib.n': int\n",
      "Prediction for 'fib.<return>': int\n",
      "Prediction for 'foo.bar': Any\n",
      "Prediction for 'foo.<return>': int\n",
      "Prediction for 'int_add.a': int\n",
      "Prediction for 'int_add.b': int\n",
      "Action rejected: int @ 'int_add.b'\n",
      "Prediction for 'int_add.<return>': str\n",
      "Prediction for 'int_tripple_add.a': int\n",
      "Prediction for 'int_tripple_add.b': Any\n",
      "Prediction for 'int_tripple_add.c': Any\n",
      "Prediction for 'int_tripple_add.<return>': str\n"
     ]
    },
    {
     "data": {
      "application/vnd.jupyter.widget-view+json": {
       "model_id": "952c116d16ad42d0ad090e880288496a",
       "version_major": 2,
       "version_minor": 0
      },
      "text/plain": [
       "Tab(children=(HTML(value=\"<pre style='line-height:1.2;'>\\nnum_errors: 0\\nnum_to_annot: 11\\nto_annotate: [Annot…"
      ]
     },
     "metadata": {},
     "output_type": "display_data"
    }
   ],
   "source": [
    "test_policy(env, planner_policy)"
   ]
  },
  {
   "cell_type": "code",
   "execution_count": 88,
   "metadata": {},
   "outputs": [
    {
     "name": "stdout",
     "output_type": "stream",
     "text": [
      "Daemon stopped\n"
     ]
    }
   ],
   "source": [
    "test_src = \"src/spot/utils.py\"\n",
    "write_file(inference_dir/\"utils.py\", read_file(test_src))\n",
    "inf_checker.close()"
   ]
  },
  {
   "cell_type": "code",
   "execution_count": 93,
   "metadata": {},
   "outputs": [
    {
     "name": "stderr",
     "output_type": "stream",
     "text": [
      "Daemon is still alive\n"
     ]
    },
    {
     "name": "stdout",
     "output_type": "stream",
     "text": [
      "{\"validate_meta_time\": 9.5367431640625e-07, \"files_parsed\": 1, \"modules_parsed\": 1, \"stubs_parsed\": 0, \"parse_time\": 0.0006725788116455078, \"find_module_time\": 0.0019850730895996094, \"find_module_calls\": 17, \"semanal_time\": 0.0012164115905761719, \"typecheck_time\": 0.0046253204345703125, \"finish_passes_time\": 0.000457763671875, \"load_fg_deps_time\": 1.430511474609375e-06, \"update_isolated_time\": 0.009349346160888672, \"propagate_time\": 0.00028395652770996094, \"find_changes_time\": 0.003499269485473633, \"fg_update_time\": 0.009707450866699219, \"files_changed\": 1}Daemon is up and running\n",
      "{\"/home/jiayi/Projects/SPOT/data/code_output/inference/env_code_1.py\": [1651261265.6999123, 399, \"2168858f3ebddd243021eb78ac3ff1d85a19c6a7c4852a5afbb80053a4c69f03\"], \"/home/jiayi/Projects/SPOT/data/code_output/inference/utils.py\": [1651264940.4920394, 1210, \"0470849f22faa12bb878d718caf653f6458dbc388c915659a1dec327bd2fe5fd\"]}{\"find_changes_time\": 0.0045735836029052734, \"fg_update_time\": 9.298324584960938e-06, \"files_changed\": 0}Daemon is up and running\n",
      "{\"/home/jiayi/Projects/SPOT/data/code_output/inference/env_code_1.py\": [1651261265.6999123, 399, \"2168858f3ebddd243021eb78ac3ff1d85a19c6a7c4852a5afbb80053a4c69f03\"], \"/home/jiayi/Projects/SPOT/data/code_output/inference/utils.py\": [1651264940.4920394, 1210, \"0470849f22faa12bb878d718caf653f6458dbc388c915659a1dec327bd2fe5fd\"]}action:  TypeInfAction('read_file.<return>' : int)\n",
      "mypy output: Success: no issues found in 2 source files\n",
      "\n",
      "{\"find_changes_time\": 0.004590749740600586, \"fg_update_time\": 5.7220458984375e-06, \"files_changed\": 0}Daemon is up and running\n",
      "{\"/home/jiayi/Projects/SPOT/data/code_output/inference/env_code_1.py\": [1651261265.6999123, 399, \"2168858f3ebddd243021eb78ac3ff1d85a19c6a7c4852a5afbb80053a4c69f03\"], \"/home/jiayi/Projects/SPOT/data/code_output/inference/utils.py\": [1651264940.4920394, 1210, \"0470849f22faa12bb878d718caf653f6458dbc388c915659a1dec327bd2fe5fd\"]}action:  TypeInfAction('write_file.content' : int)\n",
      "mypy output: Success: no issues found in 2 source files\n",
      "\n",
      "{\"validate_meta_time\": 1.9073486328125e-06, \"files_parsed\": 1, \"modules_parsed\": 1, \"stubs_parsed\": 0, \"parse_time\": 0.001409769058227539, \"find_module_time\": 0.0043904781341552734, \"find_module_calls\": 17, \"semanal_time\": 0.002149343490600586, \"typecheck_time\": 0.0048635005950927734, \"finish_passes_time\": 0.0004715919494628906, \"load_fg_deps_time\": 1.1920928955078125e-06, \"update_isolated_time\": 0.014113426208496094, \"propagate_time\": 0.0002818107604980469, \"find_changes_time\": 0.004847526550292969, \"fg_update_time\": 0.014544486999511719, \"files_changed\": 1}Daemon is up and running\n",
      "{\"/home/jiayi/Projects/SPOT/data/code_output/inference/env_code_1.py\": [1651261265.6999123, 399, \"2168858f3ebddd243021eb78ac3ff1d85a19c6a7c4852a5afbb80053a4c69f03\"], \"/home/jiayi/Projects/SPOT/data/code_output/inference/utils.py\": [1651264941.0800395, 1210, \"53b0bc45e9e451dac208a32bf7b268c7e47b4e5ebe0a5fd8004d74ef33ca968e\"]}action:  TypeInfAction('write_file.<return>' : int)\n",
      "mypy output: utils.py:28: error: Incompatible return value type (got \"str\", expected \"int\")\n",
      "utils.py:31: error: Missing return statement\n",
      "utils.py:34: error: Argument 1 to \"write\" of \"TextIOBase\" has incompatible type \"int\"; expected \"str\"\n",
      "Found 3 errors in 1 file (checked 2 source files)\n",
      "\n",
      "{\"find_changes_time\": 0.005162715911865234, \"fg_update_time\": 1.1444091796875e-05, \"files_changed\": 0}Daemon is up and running\n",
      "{\"/home/jiayi/Projects/SPOT/data/code_output/inference/env_code_1.py\": [1651261265.6999123, 399, \"2168858f3ebddd243021eb78ac3ff1d85a19c6a7c4852a5afbb80053a4c69f03\"], \"/home/jiayi/Projects/SPOT/data/code_output/inference/utils.py\": [1651264941.0800395, 1210, \"53b0bc45e9e451dac208a32bf7b268c7e47b4e5ebe0a5fd8004d74ef33ca968e\"]}Unexpected exception formatting exception. Falling back to standard exception\n"
     ]
    },
    {
     "name": "stderr",
     "output_type": "stream",
     "text": [
      "Traceback (most recent call last):\n",
      "  File \"/home/jiayi/Projects/SPOT/.venv/lib/python3.10/site-packages/IPython/core/interactiveshell.py\", line 3369, in run_code\n",
      "    exec(code_obj, self.user_global_ns, self.user_ns)\n",
      "  File \"/tmp/ipykernel_19000/2311706083.py\", line 7, in <cell line: 5>\n",
      "    env.step(int_policy(env.state))\n",
      "  File \"/home/jiayi/Projects/SPOT/src/spot/type_env.py\", line 446, in step\n",
      "    assert out.num_errors == state.num_errors, (\n",
      "AssertionError: Adding Any should not trigger more type errors.\n",
      "original errors: 0, new errors: 3\n",
      "action: TypeInfAction('write_file.<return>' : int)\n",
      "mypy output: utils.py:28: error: Incompatible return value type (got \"str\", expected \"int\")\n",
      "utils.py:31: error: Missing return statement\n",
      "utils.py:34: error: Argument 1 to \"write\" of \"TextIOBase\" has incompatible type \"int\"; expected \"str\"\n",
      "Found 3 errors in 1 file (checked 2 source files)\n",
      "\n",
      "---------Code---------\n",
      " from typing import Any  # [added by SPOT]\n",
      "from concurrent.futures import ProcessPoolExecutor, ThreadPoolExecutor, as_completed\n",
      "from typing import (\n",
      "    Callable,\n",
      "    Sequence,\n",
      "    Optional,\n",
      "    TypeVar,\n",
      "    Union,\n",
      "    Generator,\n",
      ")\n",
      "from typing import cast\n",
      "import libcst as cst\n",
      "import os\n",
      "from pathlib import Path\n",
      "from tqdm.auto import tqdm\n",
      "from tqdm.contrib.concurrent import process_map\n",
      "\n",
      "\n",
      "class SpecialNames:\n",
      "    Return = \"<return>\"\n",
      "    Missing = \"<missing>\"\n",
      "    Lambda = \"<lambda>\"\n",
      "\n",
      "\n",
      "def read_file(path) -> int:\n",
      "    \"\"\"read file content as string.\"\"\"\n",
      "    with open(path, \"r\") as f:\n",
      "        return f.read()\n",
      "\n",
      "\n",
      "def write_file(path, content: int) -> Any:\n",
      "    \"\"\"write content to file.\"\"\"\n",
      "    with open(path, \"w\") as f:\n",
      "        f.write(content)\n",
      "\n",
      "\n",
      "def proj_root() -> Any:\n",
      "    return Path(__file__).parent.parent.parent\n",
      "\n",
      "\n",
      "T1 = TypeVar(\"T1\")\n",
      "T2 = TypeVar(\"T2\")\n",
      "\n",
      "\n",
      "def seq_flatten(xs: Any) -> Any:\n",
      "    return (item for sublist in xs for item in sublist)\n",
      "\n",
      "\n",
      "def join_str(segs: Any, seps: Any) -> Any:\n",
      "    assert len(seps) == len(segs) - 1, f\"{len(seps)} != {len(segs) - 1}\"\n",
      "    all_segs = [segs[0]]\n",
      "    for s, sep in zip(segs[1:], seps):\n",
      "        all_segs.append(sep)\n",
      "        all_segs.append(s)\n",
      "    return \"\".join(all_segs)\n",
      "\n",
      "\n",
      "During handling of the above exception, another exception occurred:\n",
      "\n",
      "Traceback (most recent call last):\n",
      "  File \"/home/jiayi/Projects/SPOT/.venv/lib/python3.10/site-packages/IPython/core/interactiveshell.py\", line 1982, in showtraceback\n",
      "    stb = self.InteractiveTB.structured_traceback(\n",
      "  File \"/home/jiayi/Projects/SPOT/.venv/lib/python3.10/site-packages/IPython/core/ultratb.py\", line 1118, in structured_traceback\n",
      "    return FormattedTB.structured_traceback(\n",
      "  File \"/home/jiayi/Projects/SPOT/.venv/lib/python3.10/site-packages/IPython/core/ultratb.py\", line 1012, in structured_traceback\n",
      "    return VerboseTB.structured_traceback(\n",
      "  File \"/home/jiayi/Projects/SPOT/.venv/lib/python3.10/site-packages/IPython/core/ultratb.py\", line 865, in structured_traceback\n",
      "    formatted_exception = self.format_exception_as_a_whole(etype, evalue, etb, number_of_lines_of_context,\n",
      "  File \"/home/jiayi/Projects/SPOT/.venv/lib/python3.10/site-packages/IPython/core/ultratb.py\", line 818, in format_exception_as_a_whole\n",
      "    frames.append(self.format_record(r))\n",
      "  File \"/home/jiayi/Projects/SPOT/.venv/lib/python3.10/site-packages/IPython/core/ultratb.py\", line 736, in format_record\n",
      "    result += ''.join(_format_traceback_lines(frame_info.lines, Colors, self.has_colors, lvals))\n",
      "  File \"/home/jiayi/Projects/SPOT/.venv/lib/python3.10/site-packages/stack_data/utils.py\", line 145, in cached_property_wrapper\n",
      "    value = obj.__dict__[self.func.__name__] = self.func(obj)\n",
      "  File \"/home/jiayi/Projects/SPOT/.venv/lib/python3.10/site-packages/stack_data/core.py\", line 698, in lines\n",
      "    pieces = self.included_pieces\n",
      "  File \"/home/jiayi/Projects/SPOT/.venv/lib/python3.10/site-packages/stack_data/utils.py\", line 145, in cached_property_wrapper\n",
      "    value = obj.__dict__[self.func.__name__] = self.func(obj)\n",
      "  File \"/home/jiayi/Projects/SPOT/.venv/lib/python3.10/site-packages/stack_data/core.py\", line 649, in included_pieces\n",
      "    pos = scope_pieces.index(self.executing_piece)\n",
      "  File \"/home/jiayi/Projects/SPOT/.venv/lib/python3.10/site-packages/stack_data/utils.py\", line 145, in cached_property_wrapper\n",
      "    value = obj.__dict__[self.func.__name__] = self.func(obj)\n",
      "  File \"/home/jiayi/Projects/SPOT/.venv/lib/python3.10/site-packages/stack_data/core.py\", line 628, in executing_piece\n",
      "    return only(\n",
      "  File \"/home/jiayi/Projects/SPOT/.venv/lib/python3.10/site-packages/executing/executing.py\", line 164, in only\n",
      "    raise NotOneValueFound('Expected one value, found 0')\n",
      "executing.executing.NotOneValueFound: Expected one value, found 0\n"
     ]
    }
   ],
   "source": [
    "from spot.type_env import type_inf_env\n",
    "\n",
    "\n",
    "inf_checker = MypyChecker(\".venv/bin/dmypy\", inference_dir)\n",
    "with type_inf_env(inf_checker, inference_dir / \"utils.py\", SelectAnnotations.select_annotated, check_any=True, print_mypy_output=True) as env:\n",
    "    while env.state.to_annot:\n",
    "        env.step(int_policy(env.state))"
   ]
  },
  {
   "cell_type": "code",
   "execution_count": 30,
   "metadata": {},
   "outputs": [
    {
     "name": "stdout",
     "output_type": "stream",
     "text": [
      "Daemon started\n",
      "action:  TypeInfAction('read_file.<return>' : int)\n",
      "mypy output: Success: no issues found in 1 source file\n",
      "\n",
      "action:  TypeInfAction('write_file.content' : int)\n",
      "mypy output: utils.py:28: error: Incompatible return value type (got \"str\", expected \"int\")\n",
      "utils.py:34: error: Argument 1 to \"write\" of \"TextIOBase\" has incompatible type \"int\"; expected \"str\"\n",
      "Found 2 errors in 1 file (checked 1 source file)\n",
      "\n"
     ]
    },
    {
     "ename": "AssertionError",
     "evalue": "Adding Any should not trigger more type errors.\noriginal errors: 0, new errors: 1\naction: TypeInfAction('write_file.content' : int)\nmypy output: utils.py:28: error: Incompatible return value type (got \"str\", expected \"int\")\nFound 1 error in 1 file (checked 1 source file)\n\n---------Code---------\n from typing import Any  # [added by SPOT]\nfrom concurrent.futures import ProcessPoolExecutor, ThreadPoolExecutor, as_completed\nfrom typing import (\n    Callable,\n    Sequence,\n    Optional,\n    TypeVar,\n    Union,\n    Generator,\n)\nfrom typing import cast\nimport libcst as cst\nimport os\nfrom pathlib import Path\nfrom tqdm.auto import tqdm\nfrom tqdm.contrib.concurrent import process_map\n\n\nclass SpecialNames:\n    Return = \"<return>\"\n    Missing = \"<missing>\"\n    Lambda = \"<lambda>\"\n\n\ndef read_file(path) -> int:\n    \"\"\"read file content as string.\"\"\"\n    with open(path, \"r\") as f:\n        return f.read()\n\n\ndef write_file(path, content: Any) -> Any:\n    \"\"\"write content to file.\"\"\"\n    with open(path, \"w\") as f:\n        f.write(content)\n\n\ndef proj_root() -> Any:\n    return Path(__file__).parent.parent.parent\n\n\nT1 = TypeVar(\"T1\")\nT2 = TypeVar(\"T2\")\n\n\ndef seq_flatten(xs: Any) -> Any:\n    return (item for sublist in xs for item in sublist)\n\n\ndef join_str(segs: Any, seps: Any) -> Any:\n    assert len(seps) == len(segs) - 1, f\"{len(seps)} != {len(segs) - 1}\"\n    all_segs = [segs[0]]\n    for s, sep in zip(segs[1:], seps):\n        all_segs.append(sep)\n        all_segs.append(s)\n    return \"\".join(all_segs)\n",
     "output_type": "error",
     "traceback": [
      "\u001b[0;31m---------------------------------------------------------------------------\u001b[0m",
      "\u001b[0;31mAssertionError\u001b[0m                            Traceback (most recent call last)",
      "\u001b[1;32m/home/jiayi/Projects/SPOT/scripts/test_inf_env.ipynb Cell 14'\u001b[0m in \u001b[0;36m<cell line: 4>\u001b[0;34m()\u001b[0m\n\u001b[1;32m      <a href='vscode-notebook-cell://ssh-remote%2Butopia3/home/jiayi/Projects/SPOT/scripts/test_inf_env.ipynb#ch0000015vscode-remote?line=2'>3</a>\u001b[0m inf_checker \u001b[39m=\u001b[39m MypyChecker(\u001b[39m\"\u001b[39m\u001b[39m.venv/bin/dmypy\u001b[39m\u001b[39m\"\u001b[39m, inference_dir)\n\u001b[1;32m      <a href='vscode-notebook-cell://ssh-remote%2Butopia3/home/jiayi/Projects/SPOT/scripts/test_inf_env.ipynb#ch0000015vscode-remote?line=3'>4</a>\u001b[0m \u001b[39mwith\u001b[39;00m type_inf_env(inf_checker, inference_dir \u001b[39m/\u001b[39m \u001b[39m\"\u001b[39m\u001b[39mutils.py\u001b[39m\u001b[39m\"\u001b[39m, check_any\u001b[39m=\u001b[39m\u001b[39mTrue\u001b[39;00m, print_mypy_output\u001b[39m=\u001b[39m\u001b[39mTrue\u001b[39;00m) \u001b[39mas\u001b[39;00m env:\n\u001b[1;32m      <a href='vscode-notebook-cell://ssh-remote%2Butopia3/home/jiayi/Projects/SPOT/scripts/test_inf_env.ipynb#ch0000015vscode-remote?line=4'>5</a>\u001b[0m     \u001b[39m# test_r=test_policy(env, planner_policy)\u001b[39;00m\n\u001b[0;32m----> <a href='vscode-notebook-cell://ssh-remote%2Butopia3/home/jiayi/Projects/SPOT/scripts/test_inf_env.ipynb#ch0000015vscode-remote?line=5'>6</a>\u001b[0m     test_r\u001b[39m=\u001b[39mtest_policy(env, int_policy)\n\u001b[1;32m      <a href='vscode-notebook-cell://ssh-remote%2Butopia3/home/jiayi/Projects/SPOT/scripts/test_inf_env.ipynb#ch0000015vscode-remote?line=6'>7</a>\u001b[0m test_r\n",
      "\u001b[1;32m/home/jiayi/Projects/SPOT/scripts/test_inf_env.ipynb Cell 3'\u001b[0m in \u001b[0;36mtest_policy\u001b[0;34m(env, pi)\u001b[0m\n\u001b[1;32m     <a href='vscode-notebook-cell://ssh-remote%2Butopia3/home/jiayi/Projects/SPOT/scripts/test_inf_env.ipynb#ch0000019vscode-remote?line=16'>17</a>\u001b[0m state_seq \u001b[39m=\u001b[39m [\u001b[39mstr\u001b[39m(env\u001b[39m.\u001b[39mstate)]\n\u001b[1;32m     <a href='vscode-notebook-cell://ssh-remote%2Butopia3/home/jiayi/Projects/SPOT/scripts/test_inf_env.ipynb#ch0000019vscode-remote?line=18'>19</a>\u001b[0m \u001b[39mwhile\u001b[39;00m \u001b[39mlen\u001b[39m(env\u001b[39m.\u001b[39mstate\u001b[39m.\u001b[39mto_annot) \u001b[39m>\u001b[39m \u001b[39m0\u001b[39m:\n\u001b[0;32m---> <a href='vscode-notebook-cell://ssh-remote%2Butopia3/home/jiayi/Projects/SPOT/scripts/test_inf_env.ipynb#ch0000019vscode-remote?line=19'>20</a>\u001b[0m     \u001b[39mif\u001b[39;00m env\u001b[39m.\u001b[39;49mstep(act \u001b[39m:=\u001b[39;49m pi(env\u001b[39m.\u001b[39;49mstate)):\n\u001b[1;32m     <a href='vscode-notebook-cell://ssh-remote%2Butopia3/home/jiayi/Projects/SPOT/scripts/test_inf_env.ipynb#ch0000019vscode-remote?line=20'>21</a>\u001b[0m         type_str \u001b[39m=\u001b[39m env\u001b[39m.\u001b[39mstate\u001b[39m.\u001b[39mmodule\u001b[39m.\u001b[39mcode_for_node(act\u001b[39m.\u001b[39mtype)\n\u001b[1;32m     <a href='vscode-notebook-cell://ssh-remote%2Butopia3/home/jiayi/Projects/SPOT/scripts/test_inf_env.ipynb#ch0000019vscode-remote?line=21'>22</a>\u001b[0m         \u001b[39mprint\u001b[39m(\u001b[39mf\u001b[39m\u001b[39m\"\u001b[39m\u001b[39mAction rejected: \u001b[39m\u001b[39m{\u001b[39;00mtype_str\u001b[39m}\u001b[39;00m\u001b[39m @ \u001b[39m\u001b[39m{\u001b[39;00m\u001b[39mstr\u001b[39m(act\u001b[39m.\u001b[39mpath)\u001b[39m}\u001b[39;00m\u001b[39m\"\u001b[39m)\n",
      "File \u001b[0;32m~/Projects/SPOT/src/spot/type_env.py:433\u001b[0m, in \u001b[0;36mstep\u001b[0;34m(self, action)\u001b[0m\n\u001b[1;32m    <a href='file:///home/jiayi/Projects/SPOT/src/spot/type_env.py?line=424'>425</a>\u001b[0m     if self.check_any:\n\u001b[1;32m    <a href='file:///home/jiayi/Projects/SPOT/src/spot/type_env.py?line=425'>426</a>\u001b[0m         check_r = self.checker.recheck_files(self.src_file)\n\u001b[1;32m    <a href='file:///home/jiayi/Projects/SPOT/src/spot/type_env.py?line=426'>427</a>\u001b[0m         assert check_r.num_errors == state.num_errors, (\n\u001b[1;32m    <a href='file:///home/jiayi/Projects/SPOT/src/spot/type_env.py?line=427'>428</a>\u001b[0m             \"Adding Any should not trigger more type errors.\\n\"\n\u001b[1;32m    <a href='file:///home/jiayi/Projects/SPOT/src/spot/type_env.py?line=428'>429</a>\u001b[0m             f\"original errors: {state.num_errors}, new errors: {check_r.num_errors}\\n\"\n\u001b[1;32m    <a href='file:///home/jiayi/Projects/SPOT/src/spot/type_env.py?line=429'>430</a>\u001b[0m             f\"action: {action}\\n\"\n\u001b[1;32m    <a href='file:///home/jiayi/Projects/SPOT/src/spot/type_env.py?line=430'>431</a>\u001b[0m             f\"mypy output: {check_r.output_str}\\n\"\n\u001b[1;32m    <a href='file:///home/jiayi/Projects/SPOT/src/spot/type_env.py?line=431'>432</a>\u001b[0m             f\"---------State---------\\n {state}\\n\"\n\u001b[0;32m--> <a href='file:///home/jiayi/Projects/SPOT/src/spot/type_env.py?line=432'>433</a>\u001b[0m         )\n\u001b[1;32m    <a href='file:///home/jiayi/Projects/SPOT/src/spot/type_env.py?line=433'>434</a>\u001b[0m state.to_annot.remove(action.path)\n\u001b[1;32m    <a href='file:///home/jiayi/Projects/SPOT/src/spot/type_env.py?line=434'>435</a>\u001b[0m state.annotated[action.path] = type\n",
      "\u001b[0;31mAssertionError\u001b[0m: Adding Any should not trigger more type errors.\noriginal errors: 0, new errors: 1\naction: TypeInfAction('write_file.content' : int)\nmypy output: utils.py:28: error: Incompatible return value type (got \"str\", expected \"int\")\nFound 1 error in 1 file (checked 1 source file)\n\n---------Code---------\n from typing import Any  # [added by SPOT]\nfrom concurrent.futures import ProcessPoolExecutor, ThreadPoolExecutor, as_completed\nfrom typing import (\n    Callable,\n    Sequence,\n    Optional,\n    TypeVar,\n    Union,\n    Generator,\n)\nfrom typing import cast\nimport libcst as cst\nimport os\nfrom pathlib import Path\nfrom tqdm.auto import tqdm\nfrom tqdm.contrib.concurrent import process_map\n\n\nclass SpecialNames:\n    Return = \"<return>\"\n    Missing = \"<missing>\"\n    Lambda = \"<lambda>\"\n\n\ndef read_file(path) -> int:\n    \"\"\"read file content as string.\"\"\"\n    with open(path, \"r\") as f:\n        return f.read()\n\n\ndef write_file(path, content: Any) -> Any:\n    \"\"\"write content to file.\"\"\"\n    with open(path, \"w\") as f:\n        f.write(content)\n\n\ndef proj_root() -> Any:\n    return Path(__file__).parent.parent.parent\n\n\nT1 = TypeVar(\"T1\")\nT2 = TypeVar(\"T2\")\n\n\ndef seq_flatten(xs: Any) -> Any:\n    return (item for sublist in xs for item in sublist)\n\n\ndef join_str(segs: Any, seps: Any) -> Any:\n    assert len(seps) == len(segs) - 1, f\"{len(seps)} != {len(segs) - 1}\"\n    all_segs = [segs[0]]\n    for s, sep in zip(segs[1:], seps):\n        all_segs.append(sep)\n        all_segs.append(s)\n    return \"\".join(all_segs)\n"
     ]
    }
   ],
   "source": [
    "from spot.type_env import type_inf_env\n",
    "\n",
    "inf_checker = MypyChecker(\".venv/bin/dmypy\", inference_dir)\n",
    "with type_inf_env(inf_checker, inference_dir / \"utils.py\", check_any=True, print_mypy_output=True) as env:\n",
    "    # test_r=test_policy(env, planner_policy)\n",
    "    test_r=test_policy(env, int_policy)\n",
    "test_r"
   ]
  },
  {
   "cell_type": "code",
   "execution_count": 58,
   "metadata": {},
   "outputs": [
    {
     "name": "stderr",
     "output_type": "stream",
     "text": [
      "\n",
      "\n",
      "\u001b[A\u001b[A"
     ]
    },
    {
     "name": "stdout",
     "output_type": "stream",
     "text": [
      "Daemon started\n",
      "Daemon started\n"
     ]
    },
    {
     "name": "stderr",
     "output_type": "stream",
     "text": [
      "  0%|          | 0/10 [16:34<?, ?it/s]\n",
      " 20%|██        | 3/15 [09:53<39:32, 197.72s/it]\n",
      "\n",
      "\n",
      "\u001b[A\u001b[A"
     ]
    },
    {
     "name": "stdout",
     "output_type": "stream",
     "text": [
      "Daemon stopped\n"
     ]
    },
    {
     "name": "stderr",
     "output_type": "stream",
     "text": [
      "  0%|          | 0/10 [16:58<?, ?it/s]\n",
      " 20%|██        | 3/15 [10:17<41:11, 205.98s/it]\n",
      "\n",
      "\n",
      "100%|██████████| 2/2 [00:52<00:00, 26.03s/it]"
     ]
    },
    {
     "name": "stdout",
     "output_type": "stream",
     "text": [
      "Daemon stopped\n",
      "479 checks in 69.5186333656311 seconds\n",
      "6.890239016649167 checks/second\n"
     ]
    },
    {
     "name": "stderr",
     "output_type": "stream",
     "text": [
      "\n"
     ]
    }
   ],
   "source": [
    "from spot.type_env import test_inference_performance\n",
    "from spot.utils import parallel_map_unordered\n",
    "\n",
    "test_dirs = [r.repo_dir(repos_dir) for r in useful_repos[:2] if r.lines_of_code < 10000]\n",
    "with ProcessPoolExecutor(max_workers=10) as executor:\n",
    "    results = parallel_map_unordered(test_inference_performance, test_dirs, executor)\n",
    "n_checks = sum(r[\"n_checks\"] for r in results)\n",
    "total_time = sum(r[\"time\"] for r in results)\n",
    "print(f\"{n_checks} checks in {total_time} seconds\")\n",
    "print(f\"{n_checks / total_time} checks/second\")"
   ]
  }
 ],
 "metadata": {
  "interpreter": {
   "hash": "f6ffc72953da4dd16b2e00785be9c4013ef131f465a8658f3921b6634d4eeec8"
  },
  "kernelspec": {
   "display_name": "Python 3.9.7 ('.venv': pipenv)",
   "language": "python",
   "name": "python3"
  },
  "language_info": {
   "codemirror_mode": {
    "name": "ipython",
    "version": 3
   },
   "file_extension": ".py",
   "mimetype": "text/x-python",
   "name": "python",
   "nbconvert_exporter": "python",
   "pygments_lexer": "ipython3",
   "version": "3.10.4"
  },
  "orig_nbformat": 4
 },
 "nbformat": 4,
 "nbformat_minor": 2
}
