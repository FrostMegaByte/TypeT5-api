{
 "cells": [
  {
   "cell_type": "code",
   "execution_count": 1,
   "metadata": {},
   "outputs": [],
   "source": [
    "%load_ext autoreload\n",
    "%autoreload 2\n",
    "\n",
    "from spot.utils import *\n",
    "\n",
    "os.chdir(proj_root())"
   ]
  },
  {
   "cell_type": "code",
   "execution_count": 37,
   "metadata": {},
   "outputs": [
    {
     "name": "stderr",
     "output_type": "stream",
     "text": [
      "Loading test projects: 100%|██████████| 3/3 [00:11<00:00,  3.94s/it]\n"
     ]
    }
   ],
   "source": [
    "from spot.function_dataset import data_project_from_dir\n",
    "from spot.function_decoding import EvalResult\n",
    "\n",
    "dataset_name = \"InferTypes4Py\"\n",
    "\n",
    "strategies = [\"non-incr\", \"caller2callee\", \"callee2caller\", \"double-traversal\"]\n",
    "\n",
    "eval_dir = get_eval_dir(\n",
    "    dataset_name,\n",
    "    \"(implicit_imports, new) model-v7--TrainingConfig(drop_env_types=False, add_implicit_rel_imports=True)\",\n",
    ")\n",
    "evals: list[EvalResult] = [pickle_load(eval_dir / f\"{s}-EvalResult.pkl\") for s in strategies]\n",
    "\n",
    "# load test projects\n",
    "repos_dir = get_dataset_dir(dataset_name) / \"repos\" / \"test\"\n",
    "test_repo_paths = [f for f in repos_dir.iterdir() if f.is_dir()]\n",
    "test_projects = pmap(\n",
    "    data_project_from_dir,\n",
    "    test_repo_paths,\n",
    "    desc=\"Loading test projects\",\n",
    ")\n",
    "assert len(test_projects) > 0\n"
   ]
  },
  {
   "cell_type": "code",
   "execution_count": 38,
   "metadata": {},
   "outputs": [
    {
     "name": "stdout",
     "output_type": "stream",
     "text": [
      "Project: SPOT\n",
      "\tnon-incr errors: 585\n",
      "\tcaller2callee errors: 532\n",
      "\tcallee2caller errors: 482\n",
      "\tdouble-traversal errors: 478\n",
      "Project: typilus\n",
      "\tnon-incr errors: 401\n",
      "\tcaller2callee errors: 267\n",
      "\tcallee2caller errors: 232\n",
      "\tdouble-traversal errors: 238\n",
      "Project: type4py\n",
      "\tnon-incr errors: 163\n",
      "\tcaller2callee errors: 158\n",
      "\tcallee2caller errors: 147\n",
      "\tdouble-traversal errors: 155\n"
     ]
    }
   ],
   "source": [
    "from spot.experiments.utils import (\n",
    "    apply_sigmap,\n",
    "    apply_sigmap_and_typecheck,\n",
    "    count_type_errors,\n",
    ")\n",
    "import shutil\n",
    "\n",
    "bin_paths = [\n",
    "    None,\n",
    "    Path(\"/home/jiayi/Projects/typilus/.venv/bin\"),\n",
    "    Path(\"/home/jiayi/Projects/type4py/.venv/bin\"),\n",
    "]\n",
    "\n",
    "\n",
    "def compare_results(proj_id: int):\n",
    "    ex_project = test_projects[proj_id]\n",
    "    print(\"Project:\", ex_project.name)\n",
    "    for s, eval in zip(strategies, evals):\n",
    "        sigmap = eval.predictions[proj_id].assignments\n",
    "        workdir = Path(\"data/mypy_temp\")\n",
    "        shutil.rmtree(workdir, ignore_errors=True)\n",
    "        workdir.mkdir(exist_ok=True, parents=True)\n",
    "        check_r = apply_sigmap_and_typecheck(\n",
    "            ex_project, sigmap, workdir, binary_path=bin_paths[proj_id]\n",
    "        )\n",
    "        num_errors = count_type_errors(check_r).total()\n",
    "        print(f\"\\t{s} errors:\", num_errors)\n",
    "\n",
    "for i in range(len(test_projects)):\n",
    "    compare_results(i)\n"
   ]
  }
 ],
 "metadata": {
  "kernelspec": {
   "display_name": "Python 3.10.4 ('.venv': pipenv)",
   "language": "python",
   "name": "python3"
  },
  "language_info": {
   "codemirror_mode": {
    "name": "ipython",
    "version": 3
   },
   "file_extension": ".py",
   "mimetype": "text/x-python",
   "name": "python",
   "nbconvert_exporter": "python",
   "pygments_lexer": "ipython3",
   "version": "3.10.4"
  },
  "orig_nbformat": 4,
  "vscode": {
   "interpreter": {
    "hash": "f6ffc72953da4dd16b2e00785be9c4013ef131f465a8658f3921b6634d4eeec8"
   }
  }
 },
 "nbformat": 4,
 "nbformat_minor": 2
}
