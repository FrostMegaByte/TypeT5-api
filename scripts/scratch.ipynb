{
 "cells": [
  {
   "cell_type": "code",
   "execution_count": 1,
   "metadata": {},
   "outputs": [],
   "source": [
    "%load_ext autoreload\n",
    "%autoreload 2"
   ]
  },
  {
   "cell_type": "code",
   "execution_count": 2,
   "metadata": {},
   "outputs": [],
   "source": [
    "import os\n",
    "import pickle\n",
    "import pandas as pd\n",
    "import plotly.express as px\n",
    "\n",
    "from spot.utils import (\n",
    "    cst,\n",
    "    read_file,\n",
    "    write_file,\n",
    "    seq_flatten,\n",
    "    proj_root,\n",
    "    tqdm,\n",
    ")\n",
    "from spot.type_env import (\n",
    "    collect_annotations,\n",
    "    MypyChecker,\n",
    "    AnnotPath,\n",
    "    mypy_checker,\n",
    "    TypeInfEnv,\n",
    "    TypeInfState,\n",
    "    TypeInfAction,\n",
    "    SelectAnnotations,\n",
    ")\n",
    "from spot.data_prepare import GitRepo\n",
    "\n",
    "from pathlib import Path\n",
    "from concurrent.futures import ProcessPoolExecutor\n",
    "from typing import *\n",
    "\n",
    "os.chdir(proj_root())\n",
    "\n",
    "datadir = Path(os.getenv(\"datadir\"))\n",
    "repos_dir = datadir / \"SPOT-data/repos\"\n",
    "\n",
    "useful_repos_path = proj_root() / \"scripts\" / \"useful_repos.pkl\"\n",
    "with useful_repos_path.open(\"rb\") as f:\n",
    "    useful_repos: list[GitRepo] = pickle.load(f)\n",
    "\n",
    "import random\n",
    "\n",
    "random.seed(42)\n",
    "random.shuffle(useful_repos)\n"
   ]
  },
  {
   "cell_type": "code",
   "execution_count": 46,
   "metadata": {},
   "outputs": [
    {
     "name": "stderr",
     "output_type": "stream",
     "text": [
      "Didn't find file ./checkpoints/SPOT-CodeT5-fine-tune/checkpoint-1500/added_tokens.json. We won't load it.\n",
      "loading file ./checkpoints/SPOT-CodeT5-fine-tune/checkpoint-1500/vocab.json\n",
      "loading file ./checkpoints/SPOT-CodeT5-fine-tune/checkpoint-1500/merges.txt\n",
      "loading file None\n",
      "loading file ./checkpoints/SPOT-CodeT5-fine-tune/checkpoint-1500/special_tokens_map.json\n",
      "loading file ./checkpoints/SPOT-CodeT5-fine-tune/checkpoint-1500/tokenizer_config.json\n",
      "loading configuration file ./checkpoints/SPOT-CodeT5-fine-tune/checkpoint-1500/config.json\n",
      "Model config T5Config {\n",
      "  \"_name_or_path\": \"Salesforce/codet5-base\",\n",
      "  \"architectures\": [\n",
      "    \"T5ForConditionalGeneration\"\n",
      "  ],\n",
      "  \"bos_token_id\": 1,\n",
      "  \"d_ff\": 3072,\n",
      "  \"d_kv\": 64,\n",
      "  \"d_model\": 768,\n",
      "  \"decoder_start_token_id\": 0,\n",
      "  \"dropout_rate\": 0.1,\n",
      "  \"eos_token_id\": 2,\n",
      "  \"feed_forward_proj\": \"relu\",\n",
      "  \"gradient_checkpointing\": false,\n",
      "  \"id2label\": {\n",
      "    \"0\": \"LABEL_0\"\n",
      "  },\n",
      "  \"initializer_factor\": 1.0,\n",
      "  \"is_encoder_decoder\": true,\n",
      "  \"label2id\": {\n",
      "    \"LABEL_0\": 0\n",
      "  },\n",
      "  \"layer_norm_epsilon\": 1e-06,\n",
      "  \"model_type\": \"t5\",\n",
      "  \"n_positions\": 512,\n",
      "  \"num_decoder_layers\": 12,\n",
      "  \"num_heads\": 12,\n",
      "  \"num_layers\": 12,\n",
      "  \"output_past\": true,\n",
      "  \"pad_token_id\": 0,\n",
      "  \"relative_attention_max_distance\": 128,\n",
      "  \"relative_attention_num_buckets\": 32,\n",
      "  \"task_specific_params\": {\n",
      "    \"summarization\": {\n",
      "      \"early_stopping\": true,\n",
      "      \"length_penalty\": 2.0,\n",
      "      \"max_length\": 200,\n",
      "      \"min_length\": 30,\n",
      "      \"no_repeat_ngram_size\": 3,\n",
      "      \"num_beams\": 4,\n",
      "      \"prefix\": \"summarize: \"\n",
      "    },\n",
      "    \"translation_en_to_de\": {\n",
      "      \"early_stopping\": true,\n",
      "      \"max_length\": 300,\n",
      "      \"num_beams\": 4,\n",
      "      \"prefix\": \"translate English to German: \"\n",
      "    },\n",
      "    \"translation_en_to_fr\": {\n",
      "      \"early_stopping\": true,\n",
      "      \"max_length\": 300,\n",
      "      \"num_beams\": 4,\n",
      "      \"prefix\": \"translate English to French: \"\n",
      "    },\n",
      "    \"translation_en_to_ro\": {\n",
      "      \"early_stopping\": true,\n",
      "      \"max_length\": 300,\n",
      "      \"num_beams\": 4,\n",
      "      \"prefix\": \"translate English to Romanian: \"\n",
      "    }\n",
      "  },\n",
      "  \"torch_dtype\": \"float32\",\n",
      "  \"transformers_version\": \"4.18.0\",\n",
      "  \"use_cache\": true,\n",
      "  \"vocab_size\": 32100\n",
      "}\n",
      "\n",
      "loading weights file ./checkpoints/SPOT-CodeT5-fine-tune/checkpoint-1500/pytorch_model.bin\n",
      "/home/jiayi/Projects/SPOT/.venv/lib/python3.10/site-packages/torch/nn/modules/module.py:1402: UserWarning: positional arguments and argument \"destination\" are deprecated. nn.Module.state_dict will not accept them in the future. Refer to https://pytorch.org/docs/master/generated/torch.nn.Module.html#torch.nn.Module.state_dict for details.\n",
      "  warnings.warn(\n",
      "All model checkpoint weights were used when initializing T5ForConditionalGeneration.\n",
      "\n",
      "All the weights of T5ForConditionalGeneration were initialized from the model checkpoint at ./checkpoints/SPOT-CodeT5-fine-tune/checkpoint-1500.\n",
      "If your task is similar to the task the model of the checkpoint was trained on, you can already use T5ForConditionalGeneration for predictions without further training.\n"
     ]
    }
   ],
   "source": [
    "# loading pre-trained model and tokenizer\n",
    "\n",
    "model_dir = \"./checkpoints/SPOT-CodeT5-fine-tune/checkpoint-1500\"\n",
    "\n",
    "import torch\n",
    "from transformers import RobertaTokenizer, T5ForConditionalGeneration, DataCollatorForSeq2Seq\n",
    "from transformers.models.t5 import T5ForConditionalGeneration\n",
    "\n",
    "device = torch.device(\"cuda:0\" if torch.cuda.is_available() else \"cpu\")\n",
    "tokenizer: RobertaTokenizer = RobertaTokenizer.from_pretrained(model_dir)\n",
    "model: T5ForConditionalGeneration = T5ForConditionalGeneration.from_pretrained(model_dir).to(device)\n",
    "max_target_length=128"
   ]
  },
  {
   "cell_type": "code",
   "execution_count": null,
   "metadata": {},
   "outputs": [],
   "source": [
    "from spot.data_prepare import tokenize_masked, mask_type_annots, chunk_masked_code\n",
    "\n",
    "test_code = \"\"\"\n",
    "# a, b, c are all ints.\n",
    "def int_add(a: int, b: int, c: int) -> int:\n",
    "    return a + b + c\n",
    "\"\"\"\n",
    "\n",
    "def run_model(code: str):\n",
    "    tks = tokenize_masked(mask_type_annots(code), tokenizer, device)\n",
    "    loss = model.forward(**tks).loss\n",
    "    dec = model.generate(\n",
    "        tks['input_ids'],\n",
    "        max_length=max_target_length,\n",
    "        num_beams=32,\n",
    "        # do_sample=True,\n",
    "    )[0]\n",
    "    return {'loss': loss, 'generation': tokenizer.decode(dec)}\n",
    "\n",
    "run_model(test_code)"
   ]
  },
  {
   "cell_type": "code",
   "execution_count": 45,
   "metadata": {},
   "outputs": [
    {
     "data": {
      "text/plain": [
       "{'loss': tensor(0.3881, device='cuda:0', grad_fn=<NllLossBackward0>),\n",
       " 'generation': '<pad><s><extra_id_0>str<extra_id_1>str<extra_id_2>None<extra_id_3>Path<extra_id_4>Sequence[T1]<extra_id_5>Sequence[T2]<extra_id_6>Sequence[str]<extra_id_7>Sequence[str]<extra_id_8>str</s>'}"
      ]
     },
     "execution_count": 45,
     "metadata": {},
     "output_type": "execute_result"
    }
   ],
   "source": [
    "test_code_2 = read_file(proj_root() / \"src\" / \"spot\" / \"utils.py\")\n",
    "run_model(test_code_2)"
   ]
  }
 ],
 "metadata": {
  "interpreter": {
   "hash": "f6ffc72953da4dd16b2e00785be9c4013ef131f465a8658f3921b6634d4eeec8"
  },
  "kernelspec": {
   "display_name": "Python 3.9.7 ('.venv': pipenv)",
   "language": "python",
   "name": "python3"
  },
  "language_info": {
   "codemirror_mode": {
    "name": "ipython",
    "version": 3
   },
   "file_extension": ".py",
   "mimetype": "text/x-python",
   "name": "python",
   "nbconvert_exporter": "python",
   "pygments_lexer": "ipython3",
   "version": "3.10.4"
  },
  "orig_nbformat": 4
 },
 "nbformat": 4,
 "nbformat_minor": 2
}
