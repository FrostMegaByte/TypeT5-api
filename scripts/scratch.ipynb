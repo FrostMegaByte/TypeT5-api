{
 "cells": [
  {
   "cell_type": "code",
   "execution_count": 1,
   "metadata": {},
   "outputs": [],
   "source": [
    "%load_ext autoreload\n",
    "%autoreload 2"
   ]
  },
  {
   "cell_type": "code",
   "execution_count": 2,
   "metadata": {},
   "outputs": [],
   "source": [
    "from spot.utils import cst, read_file, write_file, seq_flatten, proj_root, parallel_map_unordered\n",
    "import os\n",
    "from spot.type_env import collect_annotations, MypyChecker, AnnotPath, mypy_checker, TypeInfEnv, TypeInfAction\n",
    "from spot.data_prepare import GitRepo\n",
    "import shutil\n",
    "import pickle\n",
    "from pathlib import Path\n",
    "import ast\n",
    "import pandas as pd\n",
    "import plotly.express as px\n",
    "from tqdm import tqdm\n",
    "from concurrent.futures import ProcessPoolExecutor\n",
    "\n",
    "os.chdir(proj_root())\n",
    "\n",
    "datadir = Path(os.getenv(\"datadir\"))\n",
    "repos_dir = datadir / \"SPOT-data/repos\"\n",
    "\n",
    "useful_repos_path = proj_root() / \"scripts\" / \"useful_repos.pkl\"\n",
    "with useful_repos_path.open(\"rb\") as f:\n",
    "    useful_repos: list[GitRepo] = pickle.load(f)"
   ]
  },
  {
   "cell_type": "code",
   "execution_count": 43,
   "metadata": {},
   "outputs": [
    {
     "data": {
      "text/plain": [
       "([AnnotPath('x_str'),\n",
       "  AnnotPath('y'),\n",
       "  AnnotPath('z_str'),\n",
       "  AnnotPath('Foo.__init__.x'),\n",
       "  AnnotPath('Foo.__init__.self.x'),\n",
       "  AnnotPath('Foo.__init__.self.y'),\n",
       "  AnnotPath('Foo.__init__.<return>'),\n",
       "  AnnotPath('Foo.foo.z'),\n",
       "  AnnotPath('Foo.foo.<return>')],\n",
       " {AnnotPath('x_str'): Annotation(\n",
       "      annotation=Name(\n",
       "          value='str',\n",
       "          lpar=[],\n",
       "          rpar=[],\n",
       "      ),\n",
       "      whitespace_before_indicator=SimpleWhitespace(\n",
       "          value='',\n",
       "      ),\n",
       "      whitespace_after_indicator=SimpleWhitespace(\n",
       "          value=' ',\n",
       "      ),\n",
       "  ),\n",
       "  AnnotPath('y'): Annotation(\n",
       "      annotation=Name(\n",
       "          value='Any',\n",
       "          lpar=[],\n",
       "          rpar=[],\n",
       "      ),\n",
       "      whitespace_before_indicator=SimpleWhitespace(\n",
       "          value='',\n",
       "      ),\n",
       "      whitespace_after_indicator=SimpleWhitespace(\n",
       "          value=' ',\n",
       "      ),\n",
       "  ),\n",
       "  AnnotPath('z_str'): Annotation(\n",
       "      annotation=Name(\n",
       "          value='str',\n",
       "          lpar=[],\n",
       "          rpar=[],\n",
       "      ),\n",
       "      whitespace_before_indicator=SimpleWhitespace(\n",
       "          value='',\n",
       "      ),\n",
       "      whitespace_after_indicator=SimpleWhitespace(\n",
       "          value=' ',\n",
       "      ),\n",
       "  ),\n",
       "  AnnotPath('Foo.__init__.x'): Annotation(\n",
       "      annotation=Name(\n",
       "          value='int',\n",
       "          lpar=[],\n",
       "          rpar=[],\n",
       "      ),\n",
       "      whitespace_before_indicator=SimpleWhitespace(\n",
       "          value='',\n",
       "      ),\n",
       "      whitespace_after_indicator=SimpleWhitespace(\n",
       "          value=' ',\n",
       "      ),\n",
       "  ),\n",
       "  AnnotPath('Foo.__init__.self.x'): Annotation(\n",
       "      annotation=Name(\n",
       "          value='int',\n",
       "          lpar=[],\n",
       "          rpar=[],\n",
       "      ),\n",
       "      whitespace_before_indicator=SimpleWhitespace(\n",
       "          value='',\n",
       "      ),\n",
       "      whitespace_after_indicator=SimpleWhitespace(\n",
       "          value=' ',\n",
       "      ),\n",
       "  ),\n",
       "  AnnotPath('Foo.__init__.self.y'): Annotation(\n",
       "      annotation=Subscript(\n",
       "          value=Name(\n",
       "              value='Optional',\n",
       "              lpar=[],\n",
       "              rpar=[],\n",
       "          ),\n",
       "          slice=[\n",
       "              SubscriptElement(\n",
       "                  slice=Index(\n",
       "                      value=Name(\n",
       "                          value='int',\n",
       "                          lpar=[],\n",
       "                          rpar=[],\n",
       "                      ),\n",
       "                  ),\n",
       "                  comma=MaybeSentinel.DEFAULT,\n",
       "              ),\n",
       "          ],\n",
       "          lbracket=LeftSquareBracket(\n",
       "              whitespace_after=SimpleWhitespace(\n",
       "                  value='',\n",
       "              ),\n",
       "          ),\n",
       "          rbracket=RightSquareBracket(\n",
       "              whitespace_before=SimpleWhitespace(\n",
       "                  value='',\n",
       "              ),\n",
       "          ),\n",
       "          lpar=[],\n",
       "          rpar=[],\n",
       "          whitespace_after_value=SimpleWhitespace(\n",
       "              value='',\n",
       "          ),\n",
       "      ),\n",
       "      whitespace_before_indicator=SimpleWhitespace(\n",
       "          value='',\n",
       "      ),\n",
       "      whitespace_after_indicator=SimpleWhitespace(\n",
       "          value=' ',\n",
       "      ),\n",
       "  ),\n",
       "  AnnotPath('Foo.foo.z'): Annotation(\n",
       "      annotation=Name(\n",
       "          value='str',\n",
       "          lpar=[],\n",
       "          rpar=[],\n",
       "      ),\n",
       "      whitespace_before_indicator=SimpleWhitespace(\n",
       "          value='',\n",
       "      ),\n",
       "      whitespace_after_indicator=SimpleWhitespace(\n",
       "          value=' ',\n",
       "      ),\n",
       "  ),\n",
       "  AnnotPath('Foo.foo.<return>'): Annotation(\n",
       "      annotation=Name(\n",
       "          value='int',\n",
       "          lpar=[],\n",
       "          rpar=[],\n",
       "      ),\n",
       "      whitespace_before_indicator=SimpleWhitespace(\n",
       "          value=' ',\n",
       "      ),\n",
       "      whitespace_after_indicator=SimpleWhitespace(\n",
       "          value=' ',\n",
       "      ),\n",
       "  )})"
      ]
     },
     "execution_count": 43,
     "metadata": {},
     "output_type": "execute_result"
    }
   ],
   "source": [
    "parsed = cst.parse_module(read_file(\"data/code/good_code_1.py\"))\n",
    "collect_annotations(parsed)"
   ]
  },
  {
   "cell_type": "code",
   "execution_count": null,
   "metadata": {},
   "outputs": [
    {
     "name": "stdout",
     "output_type": "stream",
     "text": [
      "Daemon started\n",
      "{'bad_code_1.py': 7, 'bad_code_2.py': 1}\n",
      "Daemon stopped\n"
     ]
    }
   ],
   "source": [
    "with mypy_checker(\".venv/bin/dmypy\", \"data/code\") as checker:\n",
    "    check_r = checker.check_code_dir()\n",
    "    print(check_r.num_error_dict)"
   ]
  },
  {
   "cell_type": "code",
   "execution_count": null,
   "metadata": {},
   "outputs": [],
   "source": [
    "# remove `data/temp` if it exists\n",
    "inference_dir = \"data/code_output/inference\"\n",
    "if os.path.exists(inference_dir):\n",
    "    shutil.rmtree(inference_dir)\n",
    "if not os.path.exists(inference_dir):\n",
    "    os.mkdir(inference_dir)\n",
    "write_file(f\"{inference_dir}/env_code_1.py\", read_file(\"data/code/env_code_1.py\"))"
   ]
  },
  {
   "cell_type": "code",
   "execution_count": null,
   "metadata": {},
   "outputs": [
    {
     "name": "stdout",
     "output_type": "stream",
     "text": [
      "Daemon started\n",
      "\n",
      "num_errors: 0\n",
      "num_to_annot: 11\n",
      "to_annotate: [AnnotPath('n'), AnnotPath('<return>'), AnnotPath('bar'), AnnotPath('<return>'), AnnotPath('a'), AnnotPath('b'), AnnotPath('<return>'), AnnotPath('a'), AnnotPath('b'), AnnotPath('c'), AnnotPath('<return>')]\n",
      "------------------------ code -------------------------------\n",
      "from typing import Any\n",
      "\n",
      "# A recursive fibonacci function\n",
      "def fib(n):\n",
      "    if n == 0:\n",
      "        return 0\n",
      "    elif n == 1:\n",
      "        return 1\n",
      "    else:\n",
      "        return fib(n-1) + fib(n-2)\n",
      "\n",
      "def foo(bar):\n",
      "    return fib(bar)\n",
      "\n",
      "\n",
      "def int_add(a, b):\n",
      "    return a + b + \"c\"\n",
      "\n",
      "def int_tripple_add(a, b, c):\n",
      "    return a + b + c\n",
      "        \n"
     ]
    }
   ],
   "source": [
    "inf_checker = MypyChecker(\".venv/bin/dmypy\", inference_dir)\n",
    "env = TypeInfEnv(inf_checker, f\"{inference_dir}/env_code_1.py\")\n",
    "print(env.state)"
   ]
  },
  {
   "cell_type": "code",
   "execution_count": null,
   "metadata": {},
   "outputs": [
    {
     "name": "stdout",
     "output_type": "stream",
     "text": [
      "\n",
      "num_errors: 0\n",
      "num_to_annot: 10\n",
      "to_annotate: [AnnotPath('<return>'), AnnotPath('bar'), AnnotPath('<return>'), AnnotPath('a'), AnnotPath('b'), AnnotPath('<return>'), AnnotPath('a'), AnnotPath('b'), AnnotPath('c'), AnnotPath('<return>')]\n",
      "------------------------ code -------------------------------\n",
      "from typing import Any\n",
      "\n",
      "# A recursive fibonacci function\n",
      "def fib(n):\n",
      "    if n == 0:\n",
      "        return 0\n",
      "    elif n == 1:\n",
      "        return 1\n",
      "    else:\n",
      "        return fib(n-1) + fib(n-2)\n",
      "\n",
      "def foo(bar):\n",
      "    return fib(bar)\n",
      "\n",
      "\n",
      "def int_add(a, b):\n",
      "    return a + b + \"c\"\n",
      "\n",
      "def int_tripple_add(a, b, c):\n",
      "    return a + b + c\n",
      "        \n"
     ]
    }
   ],
   "source": [
    "env.step(TypeInfAction(env.state.to_annot[0], cst.Name(\"str\")))\n",
    "print(env.state)"
   ]
  },
  {
   "cell_type": "code",
   "execution_count": null,
   "metadata": {},
   "outputs": [],
   "source": [
    "env.reset()"
   ]
  },
  {
   "cell_type": "code",
   "execution_count": null,
   "metadata": {},
   "outputs": [
    {
     "data": {
      "text/plain": [
       "MypyResult(num_errors=0, num_error_dict={}, output_str='Success: no issues found in 2 source files\\n')"
      ]
     },
     "execution_count": 17,
     "metadata": {},
     "output_type": "execute_result"
    }
   ],
   "source": [
    "inf_checker.recheck_files(\"env_code_1.py\")"
   ]
  },
  {
   "cell_type": "code",
   "execution_count": null,
   "metadata": {},
   "outputs": [
    {
     "name": "stdout",
     "output_type": "stream",
     "text": [
      "\n",
      "num_errors: 0\n",
      "num_to_annot: 10\n",
      "to_annotate: [AnnotPath('<return>'), AnnotPath('bar'), AnnotPath('<return>'), AnnotPath('a'), AnnotPath('b'), AnnotPath('<return>'), AnnotPath('a'), AnnotPath('b'), AnnotPath('c'), AnnotPath('<return>')]\n",
      "------------------------ code -------------------------------\n",
      "from typing import Any\n",
      "\n",
      "# A recursive fibonacci function\n",
      "def fib(n):\n",
      "    if n == 0:\n",
      "        return 0\n",
      "    elif n == 1:\n",
      "        return 1\n",
      "    else:\n",
      "        return fib(n-1) + fib(n-2)\n",
      "\n",
      "def foo(bar):\n",
      "    return fib(bar)\n",
      "\n",
      "\n",
      "def int_add(a, b):\n",
      "    return a + b + \"c\"\n",
      "\n",
      "def int_tripple_add(a, b, c):\n",
      "    return a + b + c\n",
      "        \n"
     ]
    }
   ],
   "source": [
    "env.step(TypeInfAction(env.state.to_annot[0], cst.Name(\"str\")))\n",
    "print(env.state)"
   ]
  },
  {
   "cell_type": "code",
   "execution_count": null,
   "metadata": {},
   "outputs": [
    {
     "name": "stdout",
     "output_type": "stream",
     "text": [
      "\n",
      "num_errors: 0\n",
      "num_to_annot: 0\n",
      "to_annotate: []\n",
      "------------------------ code -------------------------------\n",
      "from typing import Any\n",
      "\n",
      "# A recursive fibonacci function\n",
      "def fib(n):\n",
      "    if n == 0:\n",
      "        return 0\n",
      "    elif n == 1:\n",
      "        return 1\n",
      "    else:\n",
      "        return fib(n-1) + fib(n-2)\n",
      "\n",
      "def foo(bar):\n",
      "    return fib(bar)\n",
      "\n",
      "\n",
      "def int_add(a, b):\n",
      "    return a + b + \"c\"\n",
      "\n",
      "def int_tripple_add(a, b, c):\n",
      "    return a + b + c\n",
      "        \n"
     ]
    }
   ],
   "source": [
    "env.reset()\n",
    "\n",
    "while len(env.state.to_annot) > 0:\n",
    "    env.step(TypeInfAction(env.state.to_annot[0], cst.Name(\"str\")))\n",
    "\n",
    "print(env.state)"
   ]
  },
  {
   "cell_type": "code",
   "execution_count": null,
   "metadata": {},
   "outputs": [
    {
     "name": "stdout",
     "output_type": "stream",
     "text": [
      "\n",
      "num_errors: 0\n",
      "num_to_annot: 0\n",
      "to_annotate: []\n",
      "------------------------ code -------------------------------\n",
      "from typing import Any\n",
      "\n",
      "# A recursive fibonacci function\n",
      "def fib(n):\n",
      "    if n == 0:\n",
      "        return 0\n",
      "    elif n == 1:\n",
      "        return 1\n",
      "    else:\n",
      "        return fib(n-1) + fib(n-2)\n",
      "\n",
      "def foo(bar):\n",
      "    return fib(bar)\n",
      "\n",
      "\n",
      "def int_add(a, b):\n",
      "    return a + b + \"c\"\n",
      "\n",
      "def int_tripple_add(a, b, c):\n",
      "    return a + b + c\n",
      "        \n"
     ]
    }
   ],
   "source": [
    "env.reset()\n",
    "\n",
    "while len(env.state.to_annot) > 0:\n",
    "    env.step(TypeInfAction(env.state.to_annot[0], cst.Name(\"int\")))\n",
    "\n",
    "print(env.state)"
   ]
  },
  {
   "cell_type": "code",
   "execution_count": null,
   "metadata": {},
   "outputs": [
    {
     "name": "stdout",
     "output_type": "stream",
     "text": [
      "\n",
      "num_errors: 0\n",
      "num_to_annot: 0\n",
      "to_annotate: []\n",
      "------------------------ code -------------------------------\n",
      "from typing import Any\n",
      "\n",
      "# A recursive fibonacci function\n",
      "def fib(n):\n",
      "    if n == 0:\n",
      "        return 0\n",
      "    elif n == 1:\n",
      "        return 1\n",
      "    else:\n",
      "        return fib(n-1) + fib(n-2)\n",
      "\n",
      "def foo(bar):\n",
      "    return fib(bar)\n",
      "\n",
      "\n",
      "def int_add(a, b):\n",
      "    return a + b + \"c\"\n",
      "\n",
      "def int_tripple_add(a, b, c):\n",
      "    return a + b + c\n",
      "        \n"
     ]
    }
   ],
   "source": [
    "import random\n",
    "\n",
    "env.reset()\n",
    "\n",
    "while len(env.state.to_annot) > 0:\n",
    "    ty = cst.Name(random.choice([\"int\", \"str\"]))\n",
    "    env.step(TypeInfAction(env.state.to_annot[0], ty))\n",
    "\n",
    "print(env.state)"
   ]
  }
 ],
 "metadata": {
  "interpreter": {
   "hash": "f6ffc72953da4dd16b2e00785be9c4013ef131f465a8658f3921b6634d4eeec8"
  },
  "kernelspec": {
   "display_name": "Python 3.9.7 ('.venv': pipenv)",
   "language": "python",
   "name": "python3"
  },
  "language_info": {
   "codemirror_mode": {
    "name": "ipython",
    "version": 3
   },
   "file_extension": ".py",
   "mimetype": "text/x-python",
   "name": "python",
   "nbconvert_exporter": "python",
   "pygments_lexer": "ipython3",
   "version": "3.10.4"
  },
  "orig_nbformat": 4
 },
 "nbformat": 4,
 "nbformat_minor": 2
}
