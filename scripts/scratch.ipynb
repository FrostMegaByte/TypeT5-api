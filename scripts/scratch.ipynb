{
 "cells": [
  {
   "cell_type": "code",
   "execution_count": 1,
   "metadata": {},
   "outputs": [],
   "source": [
    "%load_ext autoreload\n",
    "%autoreload 2"
   ]
  },
  {
   "cell_type": "code",
   "execution_count": 2,
   "metadata": {},
   "outputs": [],
   "source": [
    "import os\n",
    "import pickle\n",
    "import pandas as pd\n",
    "import plotly.express as px\n",
    "\n",
    "from spot.utils import (\n",
    "    cst,\n",
    "    read_file,\n",
    "    write_file,\n",
    "    seq_flatten,\n",
    "    proj_root,\n",
    "    tqdm,\n",
    ")\n",
    "from spot.type_env import (\n",
    "    collect_annotations,\n",
    "    MypyChecker,\n",
    "    AnnotPath,\n",
    "    mypy_checker,\n",
    "    TypeInfEnv,\n",
    "    TypeInfState,\n",
    "    TypeInfAction,\n",
    "    SelectAnnotations,\n",
    ")\n",
    "from spot.data import GitRepo, ModuleRemapUnpickler\n",
    "\n",
    "from pathlib import Path\n",
    "from concurrent.futures import ProcessPoolExecutor\n",
    "from typing import *\n",
    "\n",
    "os.chdir(proj_root())\n",
    "\n",
    "datadir = Path(os.getenv(\"datadir\"))\n",
    "repos_dir = datadir / \"SPOT-data/repos\"\n",
    "\n",
    "useful_repos_path = proj_root() / \"scripts\" / \"useful_repos.pkl\"\n",
    "rename_module = lambda n: \"spot.data\" if n == \"spot.data_prepare\" else n\n",
    "with useful_repos_path.open(\"rb\") as f:\n",
    "    useful_repos: list[GitRepo] = ModuleRemapUnpickler(f, rename_module).load()\n",
    "\n",
    "import random\n",
    "\n",
    "random.seed(42)\n",
    "random.shuffle(useful_repos)\n"
   ]
  },
  {
   "cell_type": "code",
   "execution_count": 3,
   "metadata": {},
   "outputs": [
    {
     "name": "stderr",
     "output_type": "stream",
     "text": [
      "/home/jiayi/Projects/SPOT/.venv/lib/python3.10/site-packages/torch/nn/modules/module.py:1402: UserWarning: positional arguments and argument \"destination\" are deprecated. nn.Module.state_dict will not accept them in the future. Refer to https://pytorch.org/docs/master/generated/torch.nn.Module.html#torch.nn.Module.state_dict for details.\n",
      "  warnings.warn(\n"
     ]
    }
   ],
   "source": [
    "# loading pre-trained model and tokenizer\n",
    "\n",
    "model_dir = \"./checkpoints/saved/SPOT-CodeT5-fine-tune/checkpoint-1500\"\n",
    "\n",
    "import torch\n",
    "from transformers import (\n",
    "    RobertaTokenizer,\n",
    "    T5ForConditionalGeneration,\n",
    "    DataCollatorForSeq2Seq,\n",
    ")\n",
    "from transformers.models.t5 import T5ForConditionalGeneration\n",
    "\n",
    "device = torch.device(\"cuda:0\" if torch.cuda.is_available() else \"cpu\")\n",
    "tokenizer: RobertaTokenizer = RobertaTokenizer.from_pretrained(model_dir)\n",
    "model: T5ForConditionalGeneration = T5ForConditionalGeneration.from_pretrained(\n",
    "    model_dir\n",
    ").to(device)\n",
    "max_target_length = 128\n"
   ]
  },
  {
   "cell_type": "code",
   "execution_count": 4,
   "metadata": {},
   "outputs": [
    {
     "data": {
      "text/plain": [
       "{'loss': tensor(3.8123, device='cuda:0'),\n",
       " 'predicted types': [int[...], int[...], int[...], int[...]],\n",
       " 'labels': [int, int, int, int],\n",
       " 'generation': '<pad><s><extra_id_0>int [... ]<extra_id_1>int [... ]<extra_id_2>int [... ]<extra_id_3>int [... ]</s>'}"
      ]
     },
     "execution_count": 4,
     "metadata": {},
     "output_type": "execute_result"
    }
   ],
   "source": [
    "from spot.data import tokenize_masked, mask_type_annots, output_ids_as_types\n",
    "\n",
    "test_code = \"\"\"\n",
    "# a, b, c are all ints.\n",
    "def int_add(a: int, b: int, c: int) -> int:\n",
    "    return a + b + c\n",
    "\"\"\"\n",
    "\n",
    "\n",
    "def run_model(code: str, num_beams=16):\n",
    "    tks = tokenize_masked(mask_type_annots(code), tokenizer, device)\n",
    "    with torch.no_grad():\n",
    "        loss = model.forward(**tks).loss\n",
    "        dec = model.generate(\n",
    "            tks[\"input_ids\"],\n",
    "            max_length=max_target_length,\n",
    "            num_beams=num_beams,\n",
    "            # do_sample=True,\n",
    "        )[0]\n",
    "    return {\n",
    "        \"loss\": loss,\n",
    "        \"predicted types\": output_ids_as_types(dec, tokenizer),\n",
    "        \"labels\": output_ids_as_types(tks[\"labels\"][0], tokenizer),\n",
    "        \"generation\": tokenizer.decode(dec),\n",
    "    }\n",
    "\n",
    "\n",
    "run_model(test_code, num_beams=10)\n"
   ]
  },
  {
   "cell_type": "code",
   "execution_count": 5,
   "metadata": {},
   "outputs": [],
   "source": [
    "if False:\n",
    "    test_code_2 = read_file(proj_root() / \"src\" / \"spot\" / \"type_env.py\")\n",
    "    test_code_2.replace(\"SPOT_TYPE_MASK\", \"MAGIC_STR\")\n",
    "    run_model(test_code_2, num_beams=8)\n"
   ]
  },
  {
   "cell_type": "code",
   "execution_count": 6,
   "metadata": {},
   "outputs": [
    {
     "name": "stderr",
     "output_type": "stream",
     "text": [
      "Using amp half precision backend\n"
     ]
    }
   ],
   "source": [
    "# test accuracy on the test set\n",
    "from datasets import Dataset\n",
    "from transformers import Seq2SeqTrainingArguments, Seq2SeqTrainer, EvalPrediction\n",
    "from transformers.trainer import Trainer\n",
    "import numpy as np\n",
    "\n",
    "\n",
    "testset = Dataset.load_from_disk(datadir / \"SPOT-data/repos-processed/test\")\n",
    "# testset = Dataset.from_dict(testset[0:100])  # for quick test\n",
    "\n",
    "\n",
    "def compute_metrics(evalp: EvalPrediction):\n",
    "    # apply the tokenizer decoder to each rows\n",
    "    out_ids: np.array = evalp.predictions\n",
    "    label_ids: np.array = evalp.label_ids\n",
    "    assert len(out_ids.shape) == 2\n",
    "    assert (n_rows := out_ids.shape[0]) == label_ids.shape[0]\n",
    "    n_labels = 0\n",
    "    n_preds = 0\n",
    "    n_correct_partial = 0\n",
    "    n_correct_full = 0\n",
    "    for i in tqdm(range(n_rows), desc=\"decoding types\"):\n",
    "        pred = output_ids_as_types(out_ids[i, :], tokenizer)\n",
    "        label = output_ids_as_types(label_ids[i, :], tokenizer)\n",
    "        n_labels += len(label)\n",
    "        n_preds += len(pred)\n",
    "        for (p, l) in zip(pred, label):\n",
    "            if p == l:\n",
    "                n_correct_full += 1\n",
    "            if p.head_name() == l.head_name():\n",
    "                n_correct_partial += 1\n",
    "\n",
    "    return {\n",
    "        \"accuracy_partial\": n_correct_partial / n_labels,\n",
    "        \"accuracy_full\": n_correct_full / n_labels,\n",
    "        \"n_predictions\": n_preds,\n",
    "        \"n_labels\": n_labels,\n",
    "    }\n",
    "\n",
    "\n",
    "test_args = Seq2SeqTrainingArguments(\n",
    "    \"checkpoints/test-SPOT-CodeT5-fine-tune\",\n",
    "    per_device_eval_batch_size=16,\n",
    "    fp16=True,\n",
    "    eval_accumulation_steps=8,\n",
    "    predict_with_generate=True,\n",
    "    generation_max_length=128,\n",
    "    generation_num_beams=10,\n",
    ")\n",
    "\n",
    "test_trainer: Trainer = Seq2SeqTrainer(\n",
    "    model,\n",
    "    args=test_args,\n",
    "    data_collator=DataCollatorForSeq2Seq(tokenizer, model),\n",
    "    tokenizer=tokenizer,\n",
    "    compute_metrics=compute_metrics,\n",
    ")\n"
   ]
  },
  {
   "cell_type": "code",
   "execution_count": 7,
   "metadata": {},
   "outputs": [
    {
     "name": "stderr",
     "output_type": "stream",
     "text": [
      "The following columns in the evaluation set  don't have a corresponding argument in `T5ForConditionalGeneration.forward` and have been ignored: types. If types are not expected by `T5ForConditionalGeneration.forward`,  you can safely ignore this message.\n",
      "***** Running Evaluation *****\n",
      "  Num examples = 3191\n",
      "  Batch size = 16\n",
      "/home/jiayi/Projects/SPOT/.venv/lib/python3.10/site-packages/torch/nn/parallel/_functions.py:68: UserWarning: Was asked to gather along dimension 0, but all input tensors were scalars; will instead unsqueeze and return a vector.\n",
      "  warnings.warn('Was asked to gather along dimension 0, but all '\n"
     ]
    },
    {
     "data": {
      "text/html": [
       "\n",
       "    <div>\n",
       "      \n",
       "      <progress value='100' max='100' style='width:300px; height:20px; vertical-align: middle;'></progress>\n",
       "      [100/100 22:06]\n",
       "    </div>\n",
       "    "
      ],
      "text/plain": [
       "<IPython.core.display.HTML object>"
      ]
     },
     "metadata": {},
     "output_type": "display_data"
    },
    {
     "data": {
      "application/vnd.jupyter.widget-view+json": {
       "model_id": "eb8d762d6232410aa07435718c01fc2c",
       "version_major": 2,
       "version_minor": 0
      },
      "text/plain": [
       "decoding types:   0%|          | 0/3191 [00:00<?, ?it/s]"
      ]
     },
     "metadata": {},
     "output_type": "display_data"
    },
    {
     "name": "stderr",
     "output_type": "stream",
     "text": [
      "Automatic Weights & Biases logging enabled, to disable set os.environ[\"WANDB_DISABLED\"] = \"true\"\n",
      "Failed to detect the name of this notebook, you can set it manually with the WANDB_NOTEBOOK_NAME environment variable to enable code saving.\n",
      "\u001b[34m\u001b[1mwandb\u001b[0m: Currently logged in as: \u001b[33mmrvplusone\u001b[0m (use `wandb login --relogin` to force relogin)\n"
     ]
    },
    {
     "data": {
      "text/html": [
       "Tracking run with wandb version 0.12.15"
      ],
      "text/plain": [
       "<IPython.core.display.HTML object>"
      ]
     },
     "metadata": {},
     "output_type": "display_data"
    },
    {
     "data": {
      "text/html": [
       "Run data is saved locally in <code>/home/jiayi/Projects/SPOT/wandb/run-20220501_221131-14kbwznx</code>"
      ],
      "text/plain": [
       "<IPython.core.display.HTML object>"
      ]
     },
     "metadata": {},
     "output_type": "display_data"
    },
    {
     "data": {
      "text/html": [
       "Syncing run <strong><a href=\"https://wandb.ai/mrvplusone/huggingface/runs/14kbwznx\" target=\"_blank\">checkpoints/test-SPOT-CodeT5-fine-tune</a></strong> to <a href=\"https://wandb.ai/mrvplusone/huggingface\" target=\"_blank\">Weights & Biases</a> (<a href=\"https://wandb.me/run\" target=\"_blank\">docs</a>)<br/>"
      ],
      "text/plain": [
       "<IPython.core.display.HTML object>"
      ]
     },
     "metadata": {},
     "output_type": "display_data"
    },
    {
     "data": {
      "text/plain": [
       "{'test_loss': 0.4768402576446533,\n",
       " 'test_accuracy_partial': 0.6298545923062765,\n",
       " 'test_accuracy_full': 0.5494202098288239,\n",
       " 'test_n_predictions': 16140,\n",
       " 'test_n_labels': 16299,\n",
       " 'test_runtime': 1370.2288,\n",
       " 'test_samples_per_second': 2.329,\n",
       " 'test_steps_per_second': 0.073}"
      ]
     },
     "execution_count": 7,
     "metadata": {},
     "output_type": "execute_result"
    },
    {
     "name": "stderr",
     "output_type": "stream",
     "text": [
      "wandb: Network error (ReadTimeout), entering retry loop.\n"
     ]
    }
   ],
   "source": [
    "test_trainer.evaluate(testset, metric_key_prefix=\"test\")"
   ]
  }
 ],
 "metadata": {
  "interpreter": {
   "hash": "f6ffc72953da4dd16b2e00785be9c4013ef131f465a8658f3921b6634d4eeec8"
  },
  "kernelspec": {
   "display_name": "Python 3.9.7 ('.venv': pipenv)",
   "language": "python",
   "name": "python3"
  },
  "language_info": {
   "codemirror_mode": {
    "name": "ipython",
    "version": 3
   },
   "file_extension": ".py",
   "mimetype": "text/x-python",
   "name": "python",
   "nbconvert_exporter": "python",
   "pygments_lexer": "ipython3",
   "version": "3.10.4"
  },
  "orig_nbformat": 4
 },
 "nbformat": 4,
 "nbformat_minor": 2
}
