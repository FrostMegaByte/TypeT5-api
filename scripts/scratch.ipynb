{
 "cells": [
  {
   "cell_type": "code",
   "execution_count": 69,
   "metadata": {},
   "outputs": [
    {
     "name": "stdout",
     "output_type": "stream",
     "text": [
      "The autoreload extension is already loaded. To reload it, use:\n",
      "  %reload_ext autoreload\n"
     ]
    }
   ],
   "source": [
    "%load_ext autoreload\n",
    "%autoreload 2"
   ]
  },
  {
   "cell_type": "code",
   "execution_count": 70,
   "metadata": {},
   "outputs": [],
   "source": [
    "from spot.utils import cst, read_file, write_file, SpecialNames\n",
    "import os\n",
    "from spot.type_checking import AnnotCollector, AnnotApplier, MypyChecker, AnnotPath, mypy_checker\n",
    "from spot.type_inference import TypeInfEnv, TypeInfAction\n",
    "import shutil\n",
    "\n",
    "\n",
    "if os.getcwd().endswith('scripts'):\n",
    "    os.chdir(\"..\")"
   ]
  },
  {
   "cell_type": "code",
   "execution_count": 71,
   "metadata": {},
   "outputs": [
    {
     "name": "stdout",
     "output_type": "stream",
     "text": [
      "Daemon started\n",
      "{'bad_code_1.py': 7, 'bad_code_2.py': 1}\n",
      "Daemon stopped\n"
     ]
    }
   ],
   "source": [
    "with mypy_checker(\".venv/bin/dmypy\", \"data/code\") as checker:\n",
    "    check_r = checker.check_code_dir()\n",
    "    print(check_r.num_error_dict)"
   ]
  },
  {
   "cell_type": "code",
   "execution_count": 80,
   "metadata": {},
   "outputs": [],
   "source": [
    "# remove `data/temp` if it exists\n",
    "inference_dir = \"data/code_output/inference\"\n",
    "if os.path.exists(inference_dir):\n",
    "    shutil.rmtree(inference_dir)\n",
    "if not os.path.exists(inference_dir):\n",
    "    os.mkdir(inference_dir)\n",
    "write_file(f\"{inference_dir}/env_code_1.py\", read_file(\"data/code/env_code_1.py\"))"
   ]
  },
  {
   "cell_type": "code",
   "execution_count": 81,
   "metadata": {},
   "outputs": [
    {
     "name": "stdout",
     "output_type": "stream",
     "text": [
      "Daemon started\n",
      "\n",
      "num_errors: 0\n",
      "num_to_annot: 11\n",
      "to_annotate: [AnnotPath('fib.n'), AnnotPath('fib.<return>'), AnnotPath('foo.bar'), AnnotPath('foo.<return>'), AnnotPath('int_add.a'), AnnotPath('int_add.b'), AnnotPath('int_add.<return>'), AnnotPath('int_tripple_add.a'), AnnotPath('int_tripple_add.b'), AnnotPath('int_tripple_add.c'), AnnotPath('int_tripple_add.<return>')]\n",
      "------------------------ code -------------------------------\n",
      "from typing import Any\n",
      "\n",
      "# A recursive fibonacci function\n",
      "def fib(n):\n",
      "    if n == 0:\n",
      "        return 0\n",
      "    elif n == 1:\n",
      "        return 1\n",
      "    else:\n",
      "        return fib(n-1) + fib(n-2)\n",
      "\n",
      "def foo(bar):\n",
      "    return fib(bar)\n",
      "\n",
      "\n",
      "def int_add(a, b):\n",
      "    return a + b + \"c\"\n",
      "\n",
      "def int_tripple_add(a, b, c):\n",
      "    return a + b + c\n",
      "        \n"
     ]
    }
   ],
   "source": [
    "inf_checker = MypyChecker(\".venv/bin/dmypy\", inference_dir)\n",
    "env = TypeInfEnv(inf_checker, f\"{inference_dir}/env_code_1.py\")\n",
    "print(env.state)"
   ]
  },
  {
   "cell_type": "code",
   "execution_count": 74,
   "metadata": {},
   "outputs": [
    {
     "name": "stdout",
     "output_type": "stream",
     "text": [
      "\n",
      "num_errors: 0\n",
      "num_to_annot: 10\n",
      "to_annotate: [AnnotPath('fib.<return>'), AnnotPath('foo.bar'), AnnotPath('foo.<return>'), AnnotPath('int_add.a'), AnnotPath('int_add.b'), AnnotPath('int_add.<return>'), AnnotPath('int_tripple_add.a'), AnnotPath('int_tripple_add.b'), AnnotPath('int_tripple_add.c'), AnnotPath('int_tripple_add.<return>')]\n",
      "------------------------ code -------------------------------\n",
      "from typing import Any\n",
      "\n",
      "# A recursive fibonacci function\n",
      "def fib(n: Any):\n",
      "    if n == 0:\n",
      "        return 0\n",
      "    elif n == 1:\n",
      "        return 1\n",
      "    else:\n",
      "        return fib(n-1) + fib(n-2)\n",
      "\n",
      "def foo(bar):\n",
      "    return fib(bar)\n",
      "\n",
      "\n",
      "def int_add(a, b):\n",
      "    return a + b\n",
      "\n",
      "def int_tripple_add(a, b, c):\n",
      "    return a + b + c\n",
      "        \n"
     ]
    }
   ],
   "source": [
    "env.step(TypeInfAction(env.state.to_annot[0], cst.Name(\"str\")))\n",
    "print(env.state)"
   ]
  },
  {
   "cell_type": "code",
   "execution_count": 75,
   "metadata": {},
   "outputs": [],
   "source": [
    "env.reset()"
   ]
  },
  {
   "cell_type": "code",
   "execution_count": 76,
   "metadata": {},
   "outputs": [
    {
     "data": {
      "text/plain": [
       "MypyResult(num_errors=0, num_error_dict={}, output_str='Success: no issues found in 2 source files\\n')"
      ]
     },
     "execution_count": 76,
     "metadata": {},
     "output_type": "execute_result"
    }
   ],
   "source": [
    "inf_checker.recheck_files(\"env_code_1.py\")"
   ]
  },
  {
   "cell_type": "code",
   "execution_count": 82,
   "metadata": {},
   "outputs": [
    {
     "name": "stdout",
     "output_type": "stream",
     "text": [
      "\n",
      "num_errors: 0\n",
      "num_to_annot: 10\n",
      "to_annotate: [AnnotPath('fib.<return>'), AnnotPath('foo.bar'), AnnotPath('foo.<return>'), AnnotPath('int_add.a'), AnnotPath('int_add.b'), AnnotPath('int_add.<return>'), AnnotPath('int_tripple_add.a'), AnnotPath('int_tripple_add.b'), AnnotPath('int_tripple_add.c'), AnnotPath('int_tripple_add.<return>')]\n",
      "------------------------ code -------------------------------\n",
      "from typing import Any\n",
      "\n",
      "# A recursive fibonacci function\n",
      "def fib(n: Any):\n",
      "    if n == 0:\n",
      "        return 0\n",
      "    elif n == 1:\n",
      "        return 1\n",
      "    else:\n",
      "        return fib(n-1) + fib(n-2)\n",
      "\n",
      "def foo(bar):\n",
      "    return fib(bar)\n",
      "\n",
      "\n",
      "def int_add(a, b):\n",
      "    return a + b + \"c\"\n",
      "\n",
      "def int_tripple_add(a, b, c):\n",
      "    return a + b + c\n",
      "        \n"
     ]
    }
   ],
   "source": [
    "env.step(TypeInfAction(env.state.to_annot[0], cst.Name(\"str\")))\n",
    "print(env.state)"
   ]
  },
  {
   "cell_type": "code",
   "execution_count": 83,
   "metadata": {},
   "outputs": [
    {
     "name": "stdout",
     "output_type": "stream",
     "text": [
      "\n",
      "num_errors: 0\n",
      "num_to_annot: 0\n",
      "to_annotate: []\n",
      "------------------------ code -------------------------------\n",
      "from typing import Any\n",
      "\n",
      "# A recursive fibonacci function\n",
      "def fib(n: Any) -> Any:\n",
      "    if n == 0:\n",
      "        return 0\n",
      "    elif n == 1:\n",
      "        return 1\n",
      "    else:\n",
      "        return fib(n-1) + fib(n-2)\n",
      "\n",
      "def foo(bar: str) -> str:\n",
      "    return fib(bar)\n",
      "\n",
      "\n",
      "def int_add(a: str, b: str) -> str:\n",
      "    return a + b + \"c\"\n",
      "\n",
      "def int_tripple_add(a: str, b: str, c: str) -> str:\n",
      "    return a + b + c\n",
      "        \n"
     ]
    }
   ],
   "source": [
    "env.reset()\n",
    "\n",
    "while len(env.state.to_annot) > 0:\n",
    "    env.step(TypeInfAction(env.state.to_annot[0], cst.Name(\"str\")))\n",
    "\n",
    "print(env.state)"
   ]
  },
  {
   "cell_type": "code",
   "execution_count": 84,
   "metadata": {},
   "outputs": [
    {
     "name": "stdout",
     "output_type": "stream",
     "text": [
      "\n",
      "num_errors: 0\n",
      "num_to_annot: 0\n",
      "to_annotate: []\n",
      "------------------------ code -------------------------------\n",
      "from typing import Any\n",
      "\n",
      "# A recursive fibonacci function\n",
      "def fib(n: int) -> int:\n",
      "    if n == 0:\n",
      "        return 0\n",
      "    elif n == 1:\n",
      "        return 1\n",
      "    else:\n",
      "        return fib(n-1) + fib(n-2)\n",
      "\n",
      "def foo(bar: int) -> int:\n",
      "    return fib(bar)\n",
      "\n",
      "\n",
      "def int_add(a: int, b: Any) -> int:\n",
      "    return a + b + \"c\"\n",
      "\n",
      "def int_tripple_add(a: int, b: int, c: int) -> int:\n",
      "    return a + b + c\n",
      "        \n"
     ]
    }
   ],
   "source": [
    "env.reset()\n",
    "\n",
    "while len(env.state.to_annot) > 0:\n",
    "    env.step(TypeInfAction(env.state.to_annot[0], cst.Name(\"int\")))\n",
    "\n",
    "print(env.state)"
   ]
  },
  {
   "cell_type": "code",
   "execution_count": 87,
   "metadata": {},
   "outputs": [
    {
     "name": "stdout",
     "output_type": "stream",
     "text": [
      "\n",
      "num_errors: 0\n",
      "num_to_annot: 0\n",
      "to_annotate: []\n",
      "------------------------ code -------------------------------\n",
      "from typing import Any\n",
      "\n",
      "# A recursive fibonacci function\n",
      "def fib(n: Any) -> int:\n",
      "    if n == 0:\n",
      "        return 0\n",
      "    elif n == 1:\n",
      "        return 1\n",
      "    else:\n",
      "        return fib(n-1) + fib(n-2)\n",
      "\n",
      "def foo(bar: int) -> int:\n",
      "    return fib(bar)\n",
      "\n",
      "\n",
      "def int_add(a: int, b: Any) -> int:\n",
      "    return a + b + \"c\"\n",
      "\n",
      "def int_tripple_add(a: str, b: str, c: str) -> Any:\n",
      "    return a + b + c\n",
      "        \n"
     ]
    }
   ],
   "source": [
    "import random\n",
    "\n",
    "env.reset()\n",
    "\n",
    "while len(env.state.to_annot) > 0:\n",
    "    ty = cst.Name(random.choice([\"int\", \"str\"]))\n",
    "    env.step(TypeInfAction(env.state.to_annot[0], ty))\n",
    "\n",
    "print(env.state)"
   ]
  }
 ],
 "metadata": {
  "interpreter": {
   "hash": "f6ffc72953da4dd16b2e00785be9c4013ef131f465a8658f3921b6634d4eeec8"
  },
  "kernelspec": {
   "display_name": "Python 3.9.7 ('.venv': pipenv)",
   "language": "python",
   "name": "python3"
  },
  "language_info": {
   "codemirror_mode": {
    "name": "ipython",
    "version": 3
   },
   "file_extension": ".py",
   "mimetype": "text/x-python",
   "name": "python",
   "nbconvert_exporter": "python",
   "pygments_lexer": "ipython3",
   "version": "3.9.7"
  },
  "orig_nbformat": 4
 },
 "nbformat": 4,
 "nbformat_minor": 2
}
