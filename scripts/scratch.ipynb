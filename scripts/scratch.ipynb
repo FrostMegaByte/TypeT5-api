{
 "cells": [
  {
   "cell_type": "code",
   "execution_count": 31,
   "metadata": {},
   "outputs": [
    {
     "name": "stdout",
     "output_type": "stream",
     "text": [
      "The autoreload extension is already loaded. To reload it, use:\n",
      "  %reload_ext autoreload\n"
     ]
    }
   ],
   "source": [
    "%load_ext autoreload\n",
    "%autoreload 2"
   ]
  },
  {
   "cell_type": "code",
   "execution_count": 32,
   "metadata": {},
   "outputs": [],
   "source": [
    "from spot.utils import cst, read_file, write_file, SpecialNames\n",
    "import os\n",
    "\n",
    "if os.getcwd().endswith('scripts'):\n",
    "    os.chdir('..')\n",
    "\n",
    "parsed = cst.parse_module(read_file(f\"data/code/bad_code_1.py\"))"
   ]
  },
  {
   "cell_type": "code",
   "execution_count": 33,
   "metadata": {},
   "outputs": [
    {
     "data": {
      "text/plain": [
       "dict_keys([('fib', '<return>'), ('fib', 'n'), ('t_add', '<return>'), ('t_add', 'x'), ('t_add', 'y'), ('x',)])"
      ]
     },
     "execution_count": 33,
     "metadata": {},
     "output_type": "execute_result"
    }
   ],
   "source": [
    "from spot.type_checking import AnnotCollector, AnnotApplier, MypyChecker\n",
    "\n",
    "collector = AnnotCollector()\n",
    "parsed.visit(collector)\n",
    "collector.annotations.keys()"
   ]
  },
  {
   "cell_type": "code",
   "execution_count": 34,
   "metadata": {},
   "outputs": [
    {
     "name": "stdout",
     "output_type": "stream",
     "text": [
      "from typing import List\n",
      "\n",
      "# A recursive fibonacci function\n",
      "def fib(n: int) -> int:\n",
      "    if n == 0:\n",
      "        return 0\n",
      "    elif n == 1:\n",
      "        return 1\n",
      "    else:\n",
      "        return fib(n-1) + fib(n-2)\n",
      "\n",
      "def t_add(x: str, y: str) -> int:\n",
      "    r = x + y\n",
      "    return r\n",
      "\n",
      "x: int = fib(3)\n"
     ]
    }
   ],
   "source": [
    "# TODO: make unit tests\n",
    "# print(parsed.visit(AnnotApplier((\"fib\", SpecialNames.Return), cst.Annotation(cst.Name(\"int\")))).code)\n",
    "applier = AnnotApplier({\n",
    "    (\"fib\", \"n\"): cst.Annotation(cst.Name(\"int\")),\n",
    "    (\"fib\", SpecialNames.Return): cst.Annotation(cst.Name(\"int\")),\n",
    "})\n",
    "print(parsed.visit(applier).code)\n",
    "# applier.prefixes"
   ]
  },
  {
   "cell_type": "code",
   "execution_count": 35,
   "metadata": {},
   "outputs": [
    {
     "data": {
      "text/plain": [
       "'dmypy 0.942\\n'"
      ]
     },
     "execution_count": 35,
     "metadata": {},
     "output_type": "execute_result"
    }
   ],
   "source": [
    "checker = MypyChecker(\".venv/bin/dmypy\", \"data/code\")\n",
    "checker.mypy_version"
   ]
  },
  {
   "cell_type": "code",
   "execution_count": 36,
   "metadata": {},
   "outputs": [
    {
     "name": "stdout",
     "output_type": "stream",
     "text": [
      "chekcing!\n",
      "bad_code_1.py:6: error: Incompatible return value type (got \"int\", expected \"List[int]\")\n",
      "bad_code_1.py:8: error: Incompatible return value type (got \"int\", expected \"List[int]\")\n",
      "bad_code_1.py:10: error: Unsupported operand types for - (\"str\" and \"int\")\n",
      "bad_code_1.py:10: error: Argument 1 to \"fib\" has incompatible type \"int\"; expected \"str\"\n",
      "bad_code_1.py:14: error: Incompatible return value type (got \"str\", expected \"int\")\n",
      "bad_code_1.py:16: error: Incompatible types in assignment (expression has type \"List[int]\", variable has type \"int\")\n",
      "bad_code_1.py:16: error: Argument 1 to \"fib\" has incompatible type \"int\"; expected \"str\"\n",
      "bad_code_2.py:3: error: Argument 1 to \"fib\" has incompatible type \"int\"; expected \"str\"\n",
      "Found 8 errors in 2 files (checked 3 source files)\n",
      "\n"
     ]
    },
    {
     "data": {
      "text/plain": [
       "{'bad_code_1.py': 7, 'bad_code_2.py': 1}"
      ]
     },
     "execution_count": 36,
     "metadata": {},
     "output_type": "execute_result"
    }
   ],
   "source": [
    "check_r = checker.check_file(\".\")\n",
    "print(check_r.output_str)\n",
    "check_r.num_error_dict"
   ]
  },
  {
   "cell_type": "code",
   "execution_count": 37,
   "metadata": {},
   "outputs": [
    {
     "name": "stdout",
     "output_type": "stream",
     "text": [
      "Daemon stopped\n"
     ]
    }
   ],
   "source": [
    "out_checker = MypyChecker(\".venv/bin/dmypy\", \"data/code_output\")"
   ]
  },
  {
   "cell_type": "code",
   "execution_count": 44,
   "metadata": {},
   "outputs": [
    {
     "name": "stdout",
     "output_type": "stream",
     "text": [
      "chekcing!\n",
      "before:  8\n",
      "chekcing!\n",
      "after:  1\n"
     ]
    }
   ],
   "source": [
    "write_file(\"data/code_output/bad_code_1.py\", parsed.code)\n",
    "print(\"before: \", checker.check_file(\".\").num_errors)\n",
    "write_file(\"data/code_output/bad_code_1.py\", parsed.visit(applier).code)\n",
    "print(\"after: \", out_checker.check_file(\".\").num_errors)"
   ]
  }
 ],
 "metadata": {
  "interpreter": {
   "hash": "f6ffc72953da4dd16b2e00785be9c4013ef131f465a8658f3921b6634d4eeec8"
  },
  "kernelspec": {
   "display_name": "Python 3.9.7 ('.venv': pipenv)",
   "language": "python",
   "name": "python3"
  },
  "language_info": {
   "codemirror_mode": {
    "name": "ipython",
    "version": 3
   },
   "file_extension": ".py",
   "mimetype": "text/x-python",
   "name": "python",
   "nbconvert_exporter": "python",
   "pygments_lexer": "ipython3",
   "version": "3.9.7"
  },
  "orig_nbformat": 4
 },
 "nbformat": 4,
 "nbformat_minor": 2
}
