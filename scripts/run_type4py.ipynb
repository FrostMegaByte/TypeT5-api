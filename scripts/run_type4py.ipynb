{
 "cells": [
  {
   "cell_type": "code",
   "execution_count": null,
   "metadata": {},
   "outputs": [],
   "source": [
    "\n"
   ]
  },
  {
   "cell_type": "code",
   "execution_count": null,
   "metadata": {},
   "outputs": [],
   "source": [
    "import requests\n",
    "from spot.utils import proj_root\n",
    "\n",
    "# Replace `example.py` with your desired Python source file.\n",
    "with open(proj_root() / 'data/code/good_code_2.py') as f:\n",
    "    r = requests.post(\"https://type4py.com/api/predict?tc=0\", f.read())\n",
    "r.json()"
   ]
  },
  {
   "cell_type": "code",
   "execution_count": null,
   "metadata": {},
   "outputs": [],
   "source": [
    "res_json = r.json()[\"response\"]\n",
    "res_json"
   ]
  },
  {
   "cell_type": "code",
   "execution_count": 13,
   "metadata": {},
   "outputs": [
    {
     "data": {
      "text/plain": [
       "{'ctx_args': [['str', 0.262955513851708],\n",
       "  ['int', 0.20040486741829183],\n",
       "  ['Dict[str, Dict[str, Any]]', 0.14470794278737809],\n",
       "  ['List[Union[Any, Any]]', 0.1076166887940718],\n",
       "  ['List[str]', 0.10089842318062654],\n",
       "  ['list', 0.07659333086864245],\n",
       "  ['Type[Tuple[Any, Any]]', 0.05063646266431431]],\n",
       " 'diversity_penalty': [['str', 0.4],\n",
       "  ['List[str]', 0.1],\n",
       "  ['int', 0.1],\n",
       "  ['raiden.utils.WithdrawAmount', 0.1],\n",
       "  ['Dict[str, List[Any]]', 0.1],\n",
       "  ['Tuple[str, str, str, str, str, str, str, str]', 0.1],\n",
       "  ['numpy.array', 0.1]],\n",
       " 'do_sample': [['bool', 0.49999999999999994],\n",
       "  ['int', 0.3],\n",
       "  ['str', 0.19999999999999998]],\n",
       " 'length_penalty': [['str', 0.4],\n",
       "  ['List[str]', 0.1],\n",
       "  ['int', 0.1],\n",
       "  ['raiden.utils.WithdrawAmount', 0.1],\n",
       "  ['Dict[str, List[Any]]', 0.1],\n",
       "  ['Tuple[str, str, str, str, str, str, str, str]', 0.1],\n",
       "  ['numpy.array', 0.1]],\n",
       " 'max_workers': [['str', 0.4],\n",
       "  ['List[str]', 0.1],\n",
       "  ['int', 0.1],\n",
       "  ['raiden.utils.WithdrawAmount', 0.1],\n",
       "  ['Dict[str, List[Any]]', 0.1],\n",
       "  ['Tuple[str, str, str, str, str, str, str, str]', 0.1],\n",
       "  ['numpy.array', 0.1]],\n",
       " 'num_beam_groups': [['int', 0.8999999999999999], ['List[int]', 0.1]],\n",
       " 'num_beams': [['int', 0.8999999999999999], ['List[int]', 0.1]],\n",
       " 'sampling_max_tokens': [['str', 0.7999999999999999],\n",
       "  ['bool', 0.1],\n",
       "  ['List[List[Any]]', 0.1]],\n",
       " 'slack_tokens': [['str', 0.6000000000000001],\n",
       "  ['staticmethod', 0.10000000000000002],\n",
       "  ['Dict[str, int]', 0.10000000000000002],\n",
       "  ['int', 0.10000000000000002]],\n",
       " 'tokens_per_type': [['int', 0.9999999995404177],\n",
       "  ['Dict[str, int]', 1.0484620219110678e-10],\n",
       "  ['str', 8.726415829035054e-11],\n",
       "  ['myia.operations.utils.Operation', 6.578019336727449e-11],\n",
       "  ['Type[Generator[Any, Any, Any]]', 3.856217520659978e-11],\n",
       "  ['Optional[str]', 3.5933288347448606e-11]],\n",
       " 'top_p': [['str', 0.4],\n",
       "  ['List[str]', 0.1],\n",
       "  ['int', 0.1],\n",
       "  ['raiden.utils.WithdrawAmount', 0.1],\n",
       "  ['Dict[str, List[Any]]', 0.1],\n",
       "  ['Tuple[str, str, str, str, str, str, str, str]', 0.1],\n",
       "  ['numpy.array', 0.1]]}"
      ]
     },
     "execution_count": 13,
     "metadata": {},
     "output_type": "execute_result"
    }
   ],
   "source": [
    "res_json[\"classes\"][0][\"variables_p\"]"
   ]
  }
 ],
 "metadata": {
  "kernelspec": {
   "display_name": "Python 3.10.4 ('.venv': pipenv)",
   "language": "python",
   "name": "python3"
  },
  "language_info": {
   "codemirror_mode": {
    "name": "ipython",
    "version": 3
   },
   "file_extension": ".py",
   "mimetype": "text/x-python",
   "name": "python",
   "nbconvert_exporter": "python",
   "pygments_lexer": "ipython3",
   "version": "3.10.4"
  },
  "orig_nbformat": 4,
  "vscode": {
   "interpreter": {
    "hash": "f6ffc72953da4dd16b2e00785be9c4013ef131f465a8658f3921b6634d4eeec8"
   }
  }
 },
 "nbformat": 4,
 "nbformat_minor": 2
}
