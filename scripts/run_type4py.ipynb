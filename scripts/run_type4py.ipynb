{
 "cells": [
  {
   "cell_type": "code",
   "execution_count": 1,
   "metadata": {},
   "outputs": [],
   "source": [
    "%load_ext autoreload\n",
    "%autoreload 2\n",
    "\n",
    "from spot.utils import proj_root, os\n",
    "os.chdir(proj_root())"
   ]
  },
  {
   "cell_type": "code",
   "execution_count": 16,
   "metadata": {},
   "outputs": [],
   "source": [
    "import requests\n",
    "from spot.utils import proj_root\n",
    "\n",
    "# Replace `example.py` with your desired Python source file.\n",
    "with open(proj_root() / 'src/spot/model.py') as f:\n",
    "    r = requests.post(\"https://type4py.com/api/predict?tc=0\", f.read())"
   ]
  },
  {
   "cell_type": "code",
   "execution_count": 9,
   "metadata": {},
   "outputs": [
    {
     "name": "stdout",
     "output_type": "stream",
     "text": [
      "spot.model/dynamic_dataloader\n",
      "\tFuncSig((collate_fn: cst'torch.Tensor', dataset: cst'torch.Tensor', max_tokens: cst'int', shuffle: cst'Optional[bool]') -> cst'str')\n",
      "spot.model/DecodingArgs.scale_ctx_size\n",
      "\tMethodSig((factor: cst'float') -> cst'List[str]')\n",
      "spot.model/DecodingArgs.__repr__\n",
      "\tMethodSig(() -> cst'str')\n",
      "spot.model/DatasetPredResult.accuracies\n",
      "\tMethodSig((common_type_names: cst'str') -> cst'str')\n",
      "spot.model/DatasetPredResult.group_by_repo\n",
      "\tMethodSig(() -> cst'dict')\n",
      "spot.model/ModelWrapper.scale_ctx_size\n",
      "\tMethodSig(() -> cst'str')\n",
      "spot.model/ModelWrapper.decode_row\n",
      "\tMethodSig((n_labels: cst'int', row: cst'str') -> cst'str')\n",
      "spot.model/ModelWrapper.predict_on_batch\n",
      "\tMethodSig((batch: cst'bool', num_return_sequences: cst'Callable[..., T]') -> cst'str')\n",
      "spot.model/ModelWrapper.predict\n",
      "\tMethodSig((dataset: cst'numpy.ndarray', num_return_sequences: cst'int', tqdm_args: cst'bytes') -> cst'str')\n",
      "spot.model/ModelWrapper.save_pretrained\n",
      "\tMethodSig((path: cst'List[str]') -> MISSING)\n",
      "spot.model/ModelWrapper.to\n",
      "\tMethodSig((device: cst'bool') -> cst'numpy.ndarray')\n",
      "spot.model/ModelWrapper.from_pretrained\n",
      "\tMethodSig((path: cst'str') -> cst'int')\n",
      "spot.model/ModelWrapper.eval_on_dataset\n",
      "\tMethodSig((max_labels: cst'int', src_data: cst'str', tqdm_args: cst'dict') -> cst'int')\n"
     ]
    }
   ],
   "source": [
    "from spot.experiments.type4py import Type4PyResponseParser\n",
    "from spot.static_analysis import FunctionSignature\n",
    "pred_signatures = Type4PyResponseParser(\"spot.model\").parse(r.json())\n",
    "for path, sig in pred_signatures.items():\n",
    "    if isinstance(sig, FunctionSignature):\n",
    "        print(path)\n",
    "        print(\"\\t\" + str(sig))"
   ]
  },
  {
   "cell_type": "code",
   "execution_count": 15,
   "metadata": {},
   "outputs": [
    {
     "name": "stdout",
     "output_type": "stream",
     "text": [
      "partial_acc: 27.91% (count=43)\n",
      "full_acc: 25.58% (count=43)\n",
      "full_acc_by_common:\n",
      "   rare: 25.58% (count=43)\n",
      "full_acc_by_cat:\n",
      "   FuncArg: 40.00% (count=15)\n",
      "   FuncReturn: 11.11% (count=9)\n",
      "   ClassAtribute: 21.05% (count=19)\n",
      "full_acc_by_pos:\n",
      "   range(0, 1): 20.69% (count=29)\n",
      "   range(1, 2): 22.22% (count=9)\n",
      "   range(2, 4): 60.00% (count=5)\n",
      "avg_label_size: 1.0465\n",
      "avg_pred_size: 1.0465\n"
     ]
    }
   ],
   "source": [
    "from spot.static_analysis import PythonProject\n",
    "from spot.function_dataset import accuracy_from_signatures\n",
    "from spot.visualization import pretty_print_dict, assert_eq\n",
    "\n",
    "ex_proj = PythonProject.from_root(proj_root(), file_filter=lambda f: f.name == \"model.py\")\n",
    "label_signatures = {e.path: e.get_signature() for e in ex_proj.all_elems()}\n",
    "\n",
    "pred_seq = []\n",
    "label_seq = []\n",
    "for path in label_signatures:\n",
    "    label_seq.append(l_sig := label_signatures[path])\n",
    "    pred_seq.append(p_sig := pred_signatures[path])\n",
    "\n",
    "accs = accuracy_from_signatures(pred_seq, label_seq, set())\n",
    "pretty_print_dict(accs)"
   ]
  }
 ],
 "metadata": {
  "kernelspec": {
   "display_name": "Python 3.10.4 ('.venv': pipenv)",
   "language": "python",
   "name": "python3"
  },
  "language_info": {
   "codemirror_mode": {
    "name": "ipython",
    "version": 3
   },
   "file_extension": ".py",
   "mimetype": "text/x-python",
   "name": "python",
   "nbconvert_exporter": "python",
   "pygments_lexer": "ipython3",
   "version": "3.10.4"
  },
  "orig_nbformat": 4,
  "vscode": {
   "interpreter": {
    "hash": "f6ffc72953da4dd16b2e00785be9c4013ef131f465a8658f3921b6634d4eeec8"
   }
  }
 },
 "nbformat": 4,
 "nbformat_minor": 2
}
