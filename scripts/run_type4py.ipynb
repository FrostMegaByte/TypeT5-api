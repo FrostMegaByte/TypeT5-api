{
 "cells": [
  {
   "cell_type": "code",
   "execution_count": 1,
   "metadata": {},
   "outputs": [],
   "source": [
    "%load_ext autoreload\n",
    "%autoreload 2\n",
    "\n",
    "from spot.utils import proj_root, os\n",
    "os.chdir(proj_root())"
   ]
  },
  {
   "cell_type": "code",
   "execution_count": 2,
   "metadata": {},
   "outputs": [
    {
     "name": "stderr",
     "output_type": "stream",
     "text": [
      "Loading test projects: 100%|██████████| 50/50 [00:25<00:00,  1.94it/s]\n"
     ]
    }
   ],
   "source": [
    "from spot.static_analysis import PythonProject\n",
    "from spot.utils import *\n",
    "from spot.model import ModelWrapper\n",
    "from spot.visualization import pretty_print_dict, assert_eq\n",
    "from spot.experiments.type4py import eval_type4py_on_projects\n",
    "from spot.function_dataset import data_project_from_dir\n",
    "\n",
    "\n",
    "dataset_name = \"ManyTypes4Py\"\n",
    "# dataset_name = \"InferTypes4Py\"\n",
    "# dataset_name = \"TinyEval\"\n",
    "\n",
    "# test_projects = [PythonProject.from_root(proj_root(), ignore_dirs={\".venv\", \"data\"})]\n",
    "\n",
    "repos_dir = get_dataset_dir(dataset_name) / \"repos\" / \"test\"\n",
    "test_repo_paths = [f for f in repos_dir.iterdir() if f.is_dir()]\n",
    "test_projects = pmap(\n",
    "    data_project_from_dir,\n",
    "    test_repo_paths,\n",
    "    desc=\"Loading test projects\",\n",
    ")\n",
    "cache = PickleCache(Path(f\"caches/run_type4py\"))\n",
    "# cache.clear()\n",
    "\n",
    "eval_r = cache.cached(f\"{dataset_name}.pkl\", lambda: eval_type4py_on_projects(test_projects, max_workers=4))\n"
   ]
  },
  {
   "cell_type": "code",
   "execution_count": 3,
   "metadata": {},
   "outputs": [
    {
     "name": "stdout",
     "output_type": "stream",
     "text": [
      "Accuracies on all types:\n",
      "header:  ['full.all', 'calibrated.all', 'calibrated.simple', 'calibrated.complex', 'base.all']\n",
      "34.32 & 34.55 & 35.87 & 19.94 & 35.61\n",
      "Accuracies on common types:\n",
      "header:  ['full.all', 'calibrated.all', 'calibrated.simple', 'calibrated.complex', 'base.all']\n",
      "51.72 & 49.57 & 51.15 & 31.76 & 47.51\n",
      "Accuracies on rare types:\n",
      "header:  ['full.all', 'calibrated.all', 'calibrated.simple', 'calibrated.complex', 'base.all']\n",
      "0.56 & 12.62 & 13.46 & 3.60 & 14.15\n",
      "full_acc:\n",
      "   full_acc: 34.32% (count=15.2k)\n",
      "   full_acc_by_cat:\n",
      "      FuncArg: 28.62% (count=7.5k)\n",
      "      FuncReturn: 45.84% (count=5.7k)\n",
      "      ClassAtribute: 22.73% (count=1.8k)\n",
      "      GlobalVar: 13.33% (count=105)\n",
      "   full_acc_by_simple:\n",
      "      complex: 14.42% (count=1.7k)\n",
      "      simple: 36.92% (count=13.4k)\n",
      "   full_acc_label_size: 1.4182\n",
      "   full_acc_pred_size: 1.2303\n",
      "   full_acc_ignored_labels: 0\n",
      "   n_skipped_types: 271\n",
      "   n_missing_types: 323\n",
      "full_acc_common:\n",
      "   full_acc_common: 51.72% (count=10.0k)\n",
      "   full_acc_common_by_cat:\n",
      "      FuncArg: 50.50% (count=5.0k)\n",
      "      FuncReturn: 52.46% (count=3.8k)\n",
      "      ClassAtribute: 53.83% (count=1.1k)\n",
      "      GlobalVar: 63.22% (count=87)\n",
      "   full_acc_common_by_simple:\n",
      "      complex: 22.71% (count=1.1k)\n",
      "      simple: 55.27% (count=8.9k)\n",
      "   full_acc_common_label_size: 1.4221\n",
      "   full_acc_common_pred_size: 1.2198\n",
      "   full_acc_common_ignored_labels: 5155\n",
      "   n_skipped_types: 271\n",
      "   n_missing_types: 323\n",
      "full_acc_rare:\n",
      "   full_acc_rare: 0.56% (count=5.2k)\n",
      "   full_acc_rare_by_cat:\n",
      "      FuncArg: 0.74% (count=2.9k)\n",
      "      FuncReturn: 0.31% (count=1.9k)\n",
      "      ClassAtribute: 0.57% (count=349)\n",
      "      GlobalVar: 0.00% (count=34)\n",
      "   full_acc_rare_by_simple:\n",
      "      complex: 0.61% (count=656)\n",
      "      simple: 0.56% (count=4.5k)\n",
      "   full_acc_rare_label_size: 1.4105\n",
      "   full_acc_rare_pred_size: 1.2508\n",
      "   full_acc_rare_ignored_labels: 10002\n",
      "   n_skipped_types: 271\n",
      "   n_missing_types: 323\n",
      "acc:\n",
      "   acc: 34.55% (count=12.7k)\n",
      "   acc_by_cat:\n",
      "      FuncArg: 34.23% (count=6.2k)\n",
      "      FuncReturn: 34.56% (count=4.9k)\n",
      "      ClassAtribute: 35.41% (count=1.5k)\n",
      "      GlobalVar: 41.24% (count=97)\n",
      "   acc_by_simple:\n",
      "      complex: 19.94% (count=1.1k)\n",
      "      simple: 35.87% (count=11.7k)\n",
      "   acc_label_size: 1.3126\n",
      "   acc_pred_size: 1.1597\n",
      "   acc_ignored_labels: 2426\n",
      "   n_skipped_types: 271\n",
      "   n_missing_types: 323\n",
      "acc_common:\n",
      "   acc_common: 49.57% (count=7.6k)\n",
      "   acc_common_by_cat:\n",
      "      FuncArg: 49.26% (count=3.8k)\n",
      "      FuncReturn: 49.00% (count=2.8k)\n",
      "      ClassAtribute: 52.38% (count=861)\n",
      "      GlobalVar: 55.74% (count=61)\n",
      "   acc_common_by_simple:\n",
      "      complex: 31.76% (count=614)\n",
      "      simple: 51.15% (count=6.9k)\n",
      "   acc_common_label_size: 1.3523\n",
      "   acc_common_pred_size: 1.1582\n",
      "   acc_common_ignored_labels: 7602\n",
      "   n_skipped_types: 271\n",
      "   n_missing_types: 323\n",
      "acc_rare:\n",
      "   acc_rare: 12.62% (count=5.2k)\n",
      "   acc_rare_by_cat:\n",
      "      FuncArg: 11.32% (count=2.9k)\n",
      "      FuncReturn: 14.35% (count=1.9k)\n",
      "      ClassAtribute: 12.54% (count=351)\n",
      "      GlobalVar: 23.53% (count=34)\n",
      "   acc_rare_by_simple:\n",
      "      complex: 3.60% (count=444)\n",
      "      simple: 13.46% (count=4.7k)\n",
      "   acc_rare_label_size: 1.2546\n",
      "   acc_rare_pred_size: 1.1619\n",
      "   acc_rare_ignored_labels: 9981\n",
      "   n_skipped_types: 271\n",
      "   n_missing_types: 323\n",
      "base_acc:\n",
      "   base_acc: 35.61% (count=12.7k)\n",
      "   base_acc_by_cat:\n",
      "      FuncArg: 35.27% (count=6.2k)\n",
      "      FuncReturn: 35.57% (count=4.9k)\n",
      "      ClassAtribute: 36.77% (count=1.5k)\n",
      "      GlobalVar: 41.24% (count=97)\n",
      "   base_acc_ignored_labels: 2426\n",
      "   n_skipped_types: 271\n",
      "   n_missing_types: 323\n",
      "base_acc_common:\n",
      "   base_acc_common: 47.51% (count=8.2k)\n",
      "   base_acc_common_by_cat:\n",
      "      FuncArg: 47.31% (count=4.1k)\n",
      "      FuncReturn: 48.39% (count=3.1k)\n",
      "      ClassAtribute: 45.91% (count=880)\n",
      "      GlobalVar: 39.06% (count=64)\n",
      "   base_acc_common_ignored_labels: 6969\n",
      "   n_skipped_types: 271\n",
      "   n_missing_types: 323\n",
      "base_acc_rare:\n",
      "   base_acc_rare: 14.15% (count=4.5k)\n",
      "   base_acc_rare_by_cat:\n",
      "      FuncArg: 14.31% (count=2.6k)\n",
      "      FuncReturn: 15.05% (count=1.6k)\n",
      "      ClassAtribute: 7.95% (count=327)\n",
      "      GlobalVar: 20.00% (count=30)\n",
      "   base_acc_rare_ignored_labels: 10614\n",
      "   n_skipped_types: 271\n",
      "   n_missing_types: 323\n"
     ]
    }
   ],
   "source": [
    "from spot.static_analysis import SignatureErrorAnalysis, AccuracyMetric\n",
    "from spot.experiments.typet5 import accs_as_table_row\n",
    "\n",
    "\n",
    "common_names = ModelWrapper.load_common_type_names(\n",
    "    get_model_dir() / \"model-v7--TrainingConfig(drop_env_types=False)\"\n",
    ")\n",
    "metrics = AccuracyMetric.default_metrics(common_type_names=common_names)\n",
    "# acc_metric = AccuracyMetric(common_type_names=ubiq_names)\n",
    "\n",
    "accs = {\n",
    "    m.name: SignatureErrorAnalysis(\n",
    "        eval_r.pred_maps,\n",
    "        eval_r.label_maps,\n",
    "        m,\n",
    "        error_on_mismatched_signature=False,\n",
    "    ).accuracies\n",
    "    for m in metrics\n",
    "}\n",
    "\n",
    "accs_as_table_row(accs)\n",
    "pretty_print_dict(accs)"
   ]
  },
  {
   "cell_type": "code",
   "execution_count": 9,
   "metadata": {},
   "outputs": [
    {
     "name": "stderr",
     "output_type": "stream",
     "text": [
      "Counting type errors:  28%|██▊       | 14/50 [00:05<00:13,  2.69it/s]"
     ]
    },
    {
     "name": "stdout",
     "output_type": "stream",
     "text": [
      "Warning: mypy failed for project: rakitaj__daily-programmer\n"
     ]
    },
    {
     "name": "stderr",
     "output_type": "stream",
     "text": [
      "Counting type errors: 100%|██████████| 50/50 [00:28<00:00,  1.73it/s]"
     ]
    },
    {
     "name": "stdout",
     "output_type": "stream",
     "text": [
      "Error Count: 51\n"
     ]
    },
    {
     "name": "stderr",
     "output_type": "stream",
     "text": [
      "\n"
     ]
    }
   ],
   "source": [
    "from spot.experiments.utils import count_project_type_errors, count_type_errors\n",
    "\n",
    "pred_maps = eval_r.pred_maps\n",
    "\n",
    "background_errors = pmap(\n",
    "    count_project_type_errors,\n",
    "    test_projects,\n",
    "    [{k: v.drop_types() for k, v in pred.items()} for pred in pred_maps.values()],\n",
    "    [Path(\"mypy_temp\")] * len(test_projects),\n",
    "    [None] * len(test_projects),\n",
    "    desc=f\"Counting background type errors\",\n",
    ")\n",
    "\n",
    "background_count = count_type_errors(seq_flatten(background_errors))\n",
    "print(\"Background Brrors:\", background_count)\n",
    "\n",
    "all_errors = pmap(\n",
    "    count_project_type_errors,\n",
    "    test_projects,\n",
    "    list(pred_maps.values()),\n",
    "    [Path(\"mypy_temp\")] * len(test_projects),\n",
    "    [None] * len(test_projects),\n",
    "    desc=f\"Counting type errors\",\n",
    ")\n",
    "\n",
    "error_count = count_type_errors(seq_flatten(all_errors)) - background_count\n",
    "print(\"Error Count:\", error_count)"
   ]
  },
  {
   "cell_type": "code",
   "execution_count": 12,
   "metadata": {},
   "outputs": [
    {
     "data": {
      "text/plain": [
       "16881"
      ]
     },
     "execution_count": 12,
     "metadata": {},
     "output_type": "execute_result"
    }
   ],
   "source": [
    "sum(1 for p in test_projects for e in p.all_elems())"
   ]
  },
  {
   "cell_type": "code",
   "execution_count": null,
   "metadata": {},
   "outputs": [
    {
     "name": "stdout",
     "output_type": "stream",
     "text": [
      "==================== book-classics ====================\n",
      "\t goodreads/Book.__init__ : (title: bool, author: bool, original_publication_year: bool, str_distance: bool) -> None\n",
      "\t goodreads/Book.__str__ : () -> str\n",
      "\t goodreads/GoodreadsBook.__init__ : (title: str, author: str, original_publication_year: str, str_distance: str, num_ratings: int, node: bool) -> None\n",
      "\t goodreads/GoodreadsBook.get_goodreads_id : () -> str\n",
      "\t goodreads/search_for_book : (title: str) -> str\n",
      "\t goodreads/suggest_book_from_results : (searched_title: List[str], root: str) -> str\n",
      "\t goodreads/get_books_from_file : (fname: str) -> None\n",
      "\t goodreads/get_obviously_correct_book : (relevant_books: bool) -> bool\n",
      "\t goodreads/resolve_via_human : (query: dict, relevant_books: str) -> str\n",
      "\t goodreads/save_chosen_books : (person: str, chosen_books: bool) -> None\n",
      "\t goodreads/get_output_fname : (person: str) -> str\n",
      "\t goodreads/confirm : (msg: str) -> bool\n",
      "\t goodreads/GoodreadsResolutionCache.__init__ : (cache: bool, is_dirty: bool) -> None\n",
      "\t goodreads/GoodreadsResolutionCache.load : () -> bool\n",
      "\t goodreads/GoodreadsResolutionCache.save : () -> None\n",
      "\t goodreads/GoodreadsResolutionCache.__contains__ : (search_str: str) -> bool\n",
      "\t goodreads/GoodreadsResolutionCache.save_title_resolution : (search_str: Dict[str, bool], goodreads_id: str, book: str) -> None\n",
      "\t goodreads/GoodreadsResolutionCache.get_book : (search_str: str) -> str\n",
      "\t goodreads/skip_or_exit : () -> bool\n",
      "\t goodreads/main : () -> bool\n",
      "\t goodreads/GOODREADS_CACHE_DIR : VarSig(cst'str')\n",
      "\t goodreads/RESOLVED_PICKS_DIR : VarSig(cst'str')\n",
      "\t goodreads/args : VarSig(cst'argparse.Namespace')\n",
      "\t goodreads/parser : VarSig(cst'argparse.ArgumentParser')\n",
      "\t goodreads/GoodreadsResolutionCache.FNAME : AttrSig(cst'int')\n",
      "==================== ActivityWatch ====================\n",
      "\t util/split_event_on_time : (event: str, timestamp: datetime.datetime) -> str\n",
      "\t util/next_hour : (timestamp: datetime.datetime) -> datetime.datetime\n",
      "\t util/test_next_hour : () -> None\n",
      "\t util/split_event_on_hour : (event: raiden_libs.events.Event) -> str\n",
      "\t util/test_split_event_on_hour : () -> None\n",
      "\t util/start_of_day : (dt: datetime.date.time) -> str\n",
      "\t util/end_of_day : (dt: datetime.datetime) -> float\n",
      "\t util/get_week_start : (dt: datetime.date) -> int\n",
      "\t util/is_in_same_week : (dt1: datetime.datetime, dt2: datetime.datetime) -> str\n",
      "\t util/split_into_weeks : (start: Optional[int], end: datetime.datetime) -> float\n",
      "\t util/test_split_into_weeks : () -> None\n",
      "\t util/split_into_days : (start: datetime.datetime, end: datetime.datetime) -> Tuple[int, int]\n",
      "\t util/test_split_into_days : () -> None\n",
      "\t util/verify_no_overlap : (events: List[aw_core.Event]) -> None\n",
      "\t util/categorytime_per_day : (events: Callable, category: float) -> dict\n",
      "\t util/categorytime_during_day : (events: str, category: str, day: datetime.datetime) -> int\n",
      "==================== webwatcher ====================\n",
      "\t storage/Persistable.artefacts : () -> None\n",
      "\t storage/Persistable.get_meta_info : () -> None\n",
      "\t storage/StorageFailureException.__init__ : (msg: str) -> None\n",
      "\t storage/Storage.__init__ : (storage_root: str) -> None\n",
      "\t storage/Storage.persist : (persistable: dict) -> None\n",
      "\t storage/Storage.find : () -> dict\n",
      "\t storage/FromPersistence.__init__ : (data: Dict[str, Any]) -> None\n",
      "\t storage/FromPersistence.__getitem__ : (key: str) -> str\n",
      "\t storage/FromPersistence.fetch_local : (key: str) -> Optional[float]\n",
      "\t storage/StorageQuery.__init__ : (backing_storage: int, filter_args: \"Sequence\") -> None\n",
      "\t storage/StorageQuery.having : () -> int\n",
      "\t storage/StorageQuery.order_by : (order_fields: bool, desc: bool) -> int\n",
      "\t storage/StorageQuery.fetch : () -> Set[int]\n",
      "\t storage/_de_jsonsafe : (jsonsafe_data: Dict[str, Any]) -> bool\n",
      "\t storage/_filter_match : (filters: Dict[str, Any], data: str) -> bool\n",
      "\t storage/_json_safe : (v: bool) -> bool\n",
      "\t storage/_storage_filename_for : (existing_file: str) -> str\n",
      "\t storage/_read_file_chunks : (fileobject: Union[str, IO]) -> None\n",
      "\t storage/file_hash : (path: str) -> int\n",
      "\t storage/cache_folder : (name: str) -> dict\n",
      "\t storage/data_folder : (name: str) -> Dict[str, bool]\n",
      "\t storage/_ensure_exists : (folder: pathlib.Path) -> Union[tuple, list]\n",
      "\t storage/_appdir_with_override : (env_var_name: str, default_app_dir: str) -> Optional[datetime.datetime]\n",
      "\t storage/_data_root : () -> MutableMapping[str, Any]\n",
      "\t storage/_cache_root : () -> bool\n",
      "\t storage/_json_dateformat : VarSig(cst'datetime.timedelta')\n"
     ]
    },
    {
     "ename": "",
     "evalue": "",
     "output_type": "error",
     "traceback": [
      "\u001b[1;31mnotebook controller is DISPOSED. \n",
      "\u001b[1;31mView Jupyter <a href='command:jupyter.viewOutput'>log</a> for further details."
     ]
    }
   ],
   "source": [
    "if False:\n",
    "    # for inspecting small projects only\n",
    "    for project, sig_map in eval_r.pred_maps.items():\n",
    "        print(\"=\" * 20, project, \"=\" * 20)\n",
    "        for path, sig in sig_map.items():\n",
    "            print(\"\\t\", path, \":\", str(sig))"
   ]
  }
 ],
 "metadata": {
  "kernelspec": {
   "display_name": "Python 3.10.4 ('.venv': pipenv)",
   "language": "python",
   "name": "python3"
  },
  "language_info": {
   "codemirror_mode": {
    "name": "ipython",
    "version": 3
   },
   "file_extension": ".py",
   "mimetype": "text/x-python",
   "name": "python",
   "nbconvert_exporter": "python",
   "pygments_lexer": "ipython3",
   "version": "3.10.4"
  },
  "orig_nbformat": 4,
  "vscode": {
   "interpreter": {
    "hash": "f6ffc72953da4dd16b2e00785be9c4013ef131f465a8658f3921b6634d4eeec8"
   }
  }
 },
 "nbformat": 4,
 "nbformat_minor": 2
}
