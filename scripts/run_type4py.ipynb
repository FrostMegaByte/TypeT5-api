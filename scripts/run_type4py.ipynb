{
 "cells": [
  {
   "cell_type": "code",
   "execution_count": 3,
   "metadata": {},
   "outputs": [],
   "source": [
    "%load_ext autoreload\n",
    "%autoreload 2\n",
    "\n",
    "from spot.utils import proj_root, os\n",
    "os.chdir(proj_root())"
   ]
  },
  {
   "cell_type": "code",
   "execution_count": 2,
   "metadata": {},
   "outputs": [
    {
     "data": {
      "text/plain": [
       "ty'Union[int, str]'"
      ]
     },
     "execution_count": 2,
     "metadata": {},
     "output_type": "execute_result"
    }
   ],
   "source": [
    "from spot.type_check import parse_type_str, normalize_type\n",
    "\n",
    "normalize_type(parse_type_str(\"int | str\"))\n"
   ]
  },
  {
   "cell_type": "code",
   "execution_count": 58,
   "metadata": {},
   "outputs": [
    {
     "name": "stdout",
     "output_type": "stream",
     "text": [
      "\n",
      "from typing import Any, List, Tuple, Dict, Set, Union, Optional\n",
      "def show_dict_with_change(d: Dict, prev: Union[Dict, None]):\n",
      "    result = dict()\n",
      "    for k in d:\n",
      "        v = d[k]\n",
      "        v0 = prev.get(k, None) if prev is not None else None\n",
      "        if (v, v0) == (CountedAcc(), CountedAcc()):\n",
      "            pass\n",
      "        elif (v, v0) == (CountedAcc(), a):\n",
      "            result[k] = f\"{str(v)}\"\n",
      "    return result\n",
      "\n"
     ]
    }
   ],
   "source": [
    "bad_code = \"\"\"\n",
    "def show_dict_with_change(d: dict, prev: Optional[dict]):\n",
    "    result = dict()\n",
    "    for k in d:\n",
    "        v = d[k]\n",
    "        v0 = prev.get(k, None) if prev is not None else None\n",
    "        match v, v0:\n",
    "            case (CountedAcc() as v, CountedAcc() as v0):\n",
    "                pass\n",
    "            case (CountedAcc(), a):\n",
    "                result[k] = f\"{str(v)}\"\n",
    "    return result\n",
    "\"\"\"\n",
    "from spot.experiments.type4py import cst, remove_newer_syntax\n",
    "\n",
    "bad_code = remove_newer_syntax(cst.parse_module(bad_code)).code\n",
    "print(bad_code)\n"
   ]
  },
  {
   "cell_type": "code",
   "execution_count": 55,
   "metadata": {},
   "outputs": [
    {
     "data": {
      "text/plain": [
       "{'error': None,\n",
       " 'response': {'classes': [],\n",
       "  'funcs': [{'docstring': {'func': None, 'long_descr': None, 'ret': None},\n",
       "    'fn_lc': [[3, 0], [12, 17]],\n",
       "    'fn_var_ln': {'result': [[4, 4], [4, 10]],\n",
       "     'v': [[6, 8], [6, 9]],\n",
       "     'v0': [[7, 8], [7, 10]]},\n",
       "    'fn_var_occur': {'result': [['result', 'dict'],\n",
       "      ['result', 'k', 'str', 'v']],\n",
       "     'v': [['v', 'd', 'k'],\n",
       "      ['v', 'v0', 'CountedAcc', 'CountedAcc'],\n",
       "      ['v', 'v0', 'CountedAcc', 'a'],\n",
       "      ['result', 'k', 'str', 'v']],\n",
       "     'v0': [['v0', 'prev', 'get', 'k', 'None', 'prev', 'None', 'None'],\n",
       "      ['v', 'v0', 'CountedAcc', 'CountedAcc'],\n",
       "      ['v', 'v0', 'CountedAcc', 'a']]},\n",
       "    'name': 'show_dict_with_change',\n",
       "    'params': {'d': 'typing.Dict', 'prev': 'typing.Union[typing.Dict, None]'},\n",
       "    'params_descr': {'d': '', 'prev': ''},\n",
       "    'params_occur': {'d': [['v', 'd', 'k']],\n",
       "     'prev': [['v0', 'prev', 'get', 'k', 'None', 'prev', 'None', 'None']]},\n",
       "    'params_p': {'args': [],\n",
       "     'd': [['str', 0.23530553509771707],\n",
       "      ['Optional[str]', 0.14764782120340625],\n",
       "      ['bool', 0.09511146266609774],\n",
       "      ['AnyStr', 0.09453083513226954],\n",
       "      ['int', 0.08426691607808738]],\n",
       "     'kwargs': [],\n",
       "     'prev': [['Dict[str, Any]', 0.2837333626769803],\n",
       "      ['dict', 0.16712118486191613]]},\n",
       "    'q_name': 'show_dict_with_change',\n",
       "    'ret_exprs': ['return result'],\n",
       "    'ret_type': '',\n",
       "    'ret_type_p': [['Dict[str, Any]', 0.4058552955746977],\n",
       "     ['dict', 0.30439147168102326],\n",
       "     ['list', 0.18828940885060447]],\n",
       "    'variables': {'result': '', 'v': '', 'v0': ''},\n",
       "    'variables_p': {'result': [['dict', 0.8127461995333378],\n",
       "      ['OrderedDict', 0.09772930911991336],\n",
       "      ['Dict[str, str]', 0.08952449134674881]],\n",
       "     'v': [['dict', 0.17043272382727104],\n",
       "      ['float', 0.13701920746144983],\n",
       "      ['int', 0.13258264271208386],\n",
       "      ['str', 0.10576495758786876],\n",
       "      ['List[List[str]]', 0.08301002843800344]],\n",
       "     'v0': [['dict', 0.2196555592202749],\n",
       "      ['int', 0.19246079241602335],\n",
       "      ['Tuple[Tuple[str, Any]]', 0.10538899976412704],\n",
       "      ['Dict[str, Dict[str, Any]]', 0.10395134858889113],\n",
       "      ['Dict[str, Any]', 0.0955556149589232],\n",
       "      ['OrderedDict[str, int]', 0.0907795843692713]]}}],\n",
       "  'imports': ['typing',\n",
       "   'Any',\n",
       "   'List',\n",
       "   'Tuple',\n",
       "   'Dict',\n",
       "   'Set',\n",
       "   'Union',\n",
       "   'Optional'],\n",
       "  'mod_var_ln': {},\n",
       "  'mod_var_occur': {},\n",
       "  'no_types_annot': {'D': 2, 'I': 0, 'U': 4},\n",
       "  'session_id': 'wkojScz0U1jke0QqgBqdZFntVbGqVoHnxIb1a6vaoTQ',\n",
       "  'set': None,\n",
       "  'tc': [False, None],\n",
       "  'type_annot_cove': 0.33,\n",
       "  'typed_seq': '',\n",
       "  'untyped_seq': '',\n",
       "  'variables': {},\n",
       "  'variables_p': {}}}"
      ]
     },
     "execution_count": 55,
     "metadata": {},
     "output_type": "execute_result"
    }
   ],
   "source": [
    "import requests\n",
    "from spot.utils import proj_root, read_file\n",
    "\n",
    "\n",
    "r = requests.post(\"https://type4py.com/api/predict?tc=0\", bad_code)\n",
    "r.json()\n"
   ]
  },
  {
   "cell_type": "code",
   "execution_count": 14,
   "metadata": {},
   "outputs": [
    {
     "data": {
      "text/plain": [
       "{'error': 'Could not predict types for the given source file!',\n",
       " 'response': None}"
      ]
     },
     "execution_count": 14,
     "metadata": {},
     "output_type": "execute_result"
    }
   ],
   "source": [
    "import requests\n",
    "from spot.utils import proj_root, read_file\n",
    "\n",
    "ex_file = proj_root() / \"src/spot/experiments/type4py.py\"\n",
    "r = requests.post(\"https://type4py.com/api/predict?tc=0\", read_file(ex_file))\n",
    "r.json()\n"
   ]
  },
  {
   "cell_type": "code",
   "execution_count": 3,
   "metadata": {},
   "outputs": [
    {
     "name": "stdout",
     "output_type": "stream",
     "text": [
      "spot.model/dynamic_dataloader\n",
      "\tFuncSig((collate_fn: cst'torch.Tensor', dataset: cst'torch.Tensor', max_tokens: cst'int', shuffle: cst'Optional[bool]') -> cst'str')\n",
      "spot.model/DecodingArgs.scale_ctx_size\n",
      "\tMethodSig((factor: cst'float') -> cst'List[str]')\n",
      "spot.model/DecodingArgs.__repr__\n",
      "\tMethodSig(() -> cst'str')\n",
      "spot.model/DatasetPredResult.accuracies\n",
      "\tMethodSig((common_type_names: cst'str') -> cst'str')\n",
      "spot.model/DatasetPredResult.group_by_repo\n",
      "\tMethodSig(() -> cst'dict')\n",
      "spot.model/ModelWrapper.scale_ctx_size\n",
      "\tMethodSig(() -> cst'str')\n",
      "spot.model/ModelWrapper.decode_row\n",
      "\tMethodSig((n_labels: cst'int', row: cst'str') -> cst'str')\n",
      "spot.model/ModelWrapper.predict_on_batch\n",
      "\tMethodSig((batch: cst'bool', num_return_sequences: cst'Callable[..., T]') -> cst'str')\n",
      "spot.model/ModelWrapper.predict\n",
      "\tMethodSig((dataset: cst'numpy.ndarray', num_return_sequences: cst'int', tqdm_args: cst'bytes') -> cst'str')\n",
      "spot.model/ModelWrapper.save_pretrained\n",
      "\tMethodSig((path: cst'List[str]') -> MISSING)\n",
      "spot.model/ModelWrapper.to\n",
      "\tMethodSig((device: cst'bool') -> cst'numpy.ndarray')\n",
      "spot.model/ModelWrapper.from_pretrained\n",
      "\tMethodSig((path: cst'str') -> cst'int')\n",
      "spot.model/ModelWrapper.eval_on_dataset\n",
      "\tMethodSig((max_labels: cst'int', src_data: cst'str', tqdm_args: cst'dict') -> cst'int')\n"
     ]
    }
   ],
   "source": [
    "from spot.experiments.type4py import Type4PyResponseParser\n",
    "from spot.static_analysis import FunctionSignature\n",
    "\n",
    "pred_signatures = Type4PyResponseParser(\"spot.model\").parse(r.json())\n",
    "for path, sig in pred_signatures.items():\n",
    "    if isinstance(sig, FunctionSignature):\n",
    "        print(path)\n",
    "        print(\"\\t\" + str(sig))\n"
   ]
  },
  {
   "cell_type": "code",
   "execution_count": null,
   "metadata": {},
   "outputs": [
    {
     "name": "stdout",
     "output_type": "stream",
     "text": [
      "partial_acc: 27.91% (count=43)\n",
      "full_acc: 25.58% (count=43)\n",
      "full_acc_by_common:\n",
      "   rare: 25.58% (count=43)\n",
      "full_acc_by_cat:\n",
      "   FuncArg: 40.00% (count=15)\n",
      "   FuncReturn: 11.11% (count=9)\n",
      "   ClassAtribute: 21.05% (count=19)\n",
      "full_acc_by_pos:\n",
      "   range(0, 1): 20.69% (count=29)\n",
      "   range(1, 2): 22.22% (count=9)\n",
      "   range(2, 4): 60.00% (count=5)\n",
      "avg_label_size: 1.0465\n",
      "avg_pred_size: 1.0465\n"
     ]
    }
   ],
   "source": [
    "from spot.static_analysis import PythonProject\n",
    "from spot.function_dataset import check_predicted_signatures\n",
    "from spot.visualization import pretty_print_dict, assert_eq\n",
    "\n",
    "ex_proj = PythonProject.from_root(\n",
    "    proj_root(), file_filter=lambda f: f.name == \"model.py\"\n",
    ")\n",
    "label_signatures = {e.path: e.get_signature() for e in ex_proj.all_elems()}\n",
    "\n",
    "ubiq_names = {\"str\", \"int\", \"list\", \"bool\", \"float\"}\n",
    "accs = check_predicted_signatures(\n",
    "    {\"spot\": pred_signatures}, {\"spot\": label_signatures}, common_type_names=ubiq_names,\n",
    ")\n",
    "pretty_print_dict(accs)\n"
   ]
  },
  {
   "cell_type": "code",
   "execution_count": 65,
   "metadata": {},
   "outputs": [
    {
     "name": "stderr",
     "output_type": "stream",
     "text": [
      "Calling Type4Py: 100%|██████████| 26/26 [00:21<00:00,  1.23it/s]\n"
     ]
    }
   ],
   "source": [
    "from spot.static_analysis import PythonProject\n",
    "from spot.visualization import pretty_print_dict, assert_eq\n",
    "from spot.experiments.type4py import eval_type4py_on_project\n",
    "\n",
    "ex_proj = PythonProject.from_root(proj_root(), ignore_dirs={\".venv\", \"data\"})\n",
    "eval_r = eval_type4py_on_project(ex_proj, max_workers=6)\n"
   ]
  },
  {
   "cell_type": "code",
   "execution_count": 66,
   "metadata": {},
   "outputs": [
    {
     "name": "stdout",
     "output_type": "stream",
     "text": [
      "partial_acc: 19.26% (count=1.1k)\n",
      "full_acc: 18.42% (count=1.1k)\n",
      "full_acc_by_common:\n",
      "   rare: 4.90% (count=775)\n",
      "   common: 53.33% (count=300)\n",
      "full_acc_by_cat:\n",
      "   FuncArg: 18.29% (count=607)\n",
      "   FuncReturn: 20.62% (count=257)\n",
      "   ClassAtribute: 15.71% (count=210)\n",
      "   GlobalVar: 100.00% (count=1)\n",
      "full_acc_by_pos:\n",
      "   range(0, 1): 18.37% (count=539)\n",
      "   range(1, 2): 19.32% (count=264)\n",
      "   range(2, 4): 19.60% (count=199)\n",
      "   range(4, 8): 13.85% (count=65)\n",
      "   range(8, 16): 0.00% (count=8)\n",
      "avg_label_size: 1.1823\n",
      "avg_pred_size: 1.0521\n",
      "n_label_types: 1110\n",
      "n_skipped_types: 0\n",
      "n_missing_types: 35\n"
     ]
    }
   ],
   "source": [
    "from spot.function_dataset import check_predicted_signatures\n",
    "\n",
    "ubiq_names = {\"str\", \"int\", \"list\", \"bool\", \"float\"}\n",
    "accs = check_predicted_signatures(\n",
    "    eval_r.pred_maps, eval_r.label_maps, ubiq_names, error_on_mismatched_signature=False\n",
    ")\n",
    "pretty_print_dict(accs)\n"
   ]
  }
 ],
 "metadata": {
  "kernelspec": {
   "display_name": "Python 3.10.4 ('.venv': pipenv)",
   "language": "python",
   "name": "python3"
  },
  "language_info": {
   "codemirror_mode": {
    "name": "ipython",
    "version": 3
   },
   "file_extension": ".py",
   "mimetype": "text/x-python",
   "name": "python",
   "nbconvert_exporter": "python",
   "pygments_lexer": "ipython3",
   "version": "3.10.4"
  },
  "orig_nbformat": 4,
  "vscode": {
   "interpreter": {
    "hash": "f6ffc72953da4dd16b2e00785be9c4013ef131f465a8658f3921b6634d4eeec8"
   }
  }
 },
 "nbformat": 4,
 "nbformat_minor": 2
}
