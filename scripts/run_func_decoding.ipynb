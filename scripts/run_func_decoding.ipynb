{
 "cells": [
  {
   "cell_type": "code",
   "execution_count": 2,
   "metadata": {},
   "outputs": [
    {
     "name": "stdout",
     "output_type": "stream",
     "text": [
      "The autoreload extension is already loaded. To reload it, use:\n",
      "  %reload_ext autoreload\n",
      "Model loaded to cuda:1\n"
     ]
    }
   ],
   "source": [
    "%load_ext autoreload\n",
    "%autoreload 2\n",
    "\n",
    "# first, load the trained model\n",
    "import os\n",
    "import torch\n",
    "from typing import *\n",
    "\n",
    "from spot.model import ModelWrapper\n",
    "from spot.utils import get_model_dir, proj_root, get_data_dir\n",
    "\n",
    "os.chdir(proj_root())\n",
    "\n",
    "gpu_id = 1\n",
    "modeldir = get_model_dir()\n",
    "\n",
    "model_name=\"model-v4--TrainingConfig(func_only=True, drop_env_types=False, left_margin=1536, preamble_size=768, right_margin=2048)\"\n",
    "wrapper = ModelWrapper.from_pretrained(\n",
    "    modeldir / model_name\n",
    ")\n",
    "device = torch.device(f\"cuda:{gpu_id}\" if torch.cuda.is_available() else \"cpu\")\n",
    "wrapper.to(device)\n",
    "print(f\"Model loaded to {device}\")\n"
   ]
  },
  {
   "cell_type": "code",
   "execution_count": 7,
   "metadata": {},
   "outputs": [],
   "source": [
    "from spot.static_analysis import (\n",
    "    PythonProject,\n",
    "    PythonModule,\n",
    "    UsageAnalysis,\n",
    "    mask_types,\n",
    "    remove_comments,\n",
    ")\n",
    "from spot.utils import cst, read_file, SpecialNames\n",
    "from spot.function_dataset import data_project_from_dir\n",
    "from spot.visualization import show_code_range\n",
    "\n",
    "# ex_code = read_file(\"src/spot/function_decoding.py\")\n",
    "# ex_module = mask_types(cst.parse_module(ex_code))\n",
    "# ex_project = PythonProject.from_modules([PythonModule.from_cst(ex_module, \"spot.function_decoding\")])\n",
    "\n",
    "src_set = {\n",
    "    \"function_decoding.py\",\n",
    "    \"data.py\",\n",
    "    \"type_env.py\",\n",
    "    \"function_dataset.py\",\n",
    "    \"tokenized_src.py\",\n",
    "    \"type_check.py\",\n",
    "    \"model.py\",\n",
    "    \"utils.py\",\n",
    "    \"static_analysis.py\",\n",
    "}\n",
    "\n",
    "ex_project = data_project_from_dir(proj_root(), file_filter=lambda f: f.name in {\"model.py\"})\n"
   ]
  },
  {
   "cell_type": "code",
   "execution_count": 10,
   "metadata": {},
   "outputs": [
    {
     "name": "stdout",
     "output_type": "stream",
     "text": [
      "GlobalFunction(path=spot.model/dynamic_dataloader)\n",
      "\tsrc/spot/model.py: [231:1--255:6]\n",
      "ClassAttribute(path=spot.model/DecodingArgs.ctx_args)\n",
      "\tsrc/spot/model.py: [26:5--26:22]\n",
      "ClassAttribute(path=spot.model/DecodingArgs.sampling_max_tokens)\n",
      "\tsrc/spot/model.py: [27:5--27:29]\n",
      "ClassAttribute(path=spot.model/DecodingArgs.max_workers)\n",
      "\tsrc/spot/model.py: [28:5--28:38]\n",
      "ClassAttribute(path=spot.model/DecodingArgs.tokens_per_type)\n",
      "\tsrc/spot/model.py: [29:5--29:30]\n",
      "ClassAttribute(path=spot.model/DecodingArgs.slack_tokens)\n",
      "\tsrc/spot/model.py: [30:5--30:27]\n",
      "ClassAttribute(path=spot.model/DecodingArgs.do_sample)\n",
      "\tsrc/spot/model.py: [31:5--31:28]\n",
      "ClassAttribute(path=spot.model/DecodingArgs.top_p)\n",
      "\tsrc/spot/model.py: [32:5--32:23]\n",
      "ClassAttribute(path=spot.model/DecodingArgs.num_beams)\n",
      "\tsrc/spot/model.py: [33:5--33:36]\n",
      "ClassAttribute(path=spot.model/DecodingArgs.num_beam_groups)\n",
      "\tsrc/spot/model.py: [34:5--34:42]\n",
      "ClassAttribute(path=spot.model/DecodingArgs.length_penalty)\n",
      "\tsrc/spot/model.py: [35:5--35:32]\n",
      "ClassAttribute(path=spot.model/DecodingArgs.diversity_penalty)\n",
      "\tsrc/spot/model.py: [36:5--36:43]\n",
      "ClassMethod(path=spot.model/DecodingArgs.scale_ctx_size)\n",
      "\tsrc/spot/model.py: [38:5--49:22]\n",
      "ClassMethod(path=spot.model/DecodingArgs.__repr__)\n",
      "\tsrc/spot/model.py: [51:5--52:40]\n",
      "ClassAttribute(path=spot.model/DatasetPredResult.chunks)\n",
      "\tsrc/spot/model.py: [57:5--57:27]\n",
      "ClassAttribute(path=spot.model/DatasetPredResult.predictions)\n",
      "\tsrc/spot/model.py: [58:5--58:40]\n",
      "ClassAttribute(path=spot.model/DatasetPredResult.extra_info)\n",
      "\tsrc/spot/model.py: [59:5--59:55]\n",
      "ClassMethod(path=spot.model/DatasetPredResult.accuracies)\n",
      "\tsrc/spot/model.py: [61:5--62:85]\n",
      "ClassMethod(path=spot.model/DatasetPredResult.group_by_repo)\n",
      "\tsrc/spot/model.py: [64:5--80:22]\n",
      "ClassAttribute(path=spot.model/ModelWrapper.model)\n",
      "\tsrc/spot/model.py: [85:5--85:21]\n",
      "ClassAttribute(path=spot.model/ModelWrapper.tokenizer)\n",
      "\tsrc/spot/model.py: [86:5--86:29]\n",
      "ClassAttribute(path=spot.model/ModelWrapper.args)\n",
      "\tsrc/spot/model.py: [87:5--87:23]\n",
      "ClassAttribute(path=spot.model/ModelWrapper.common_type_names)\n",
      "\tsrc/spot/model.py: [88:5--88:32]\n",
      "ClassAttribute(path=spot.model/ModelWrapper.monitor)\n",
      "\tsrc/spot/model.py: [89:5--89:49]\n",
      "ClassMethod(path=spot.model/ModelWrapper.scale_ctx_size)\n",
      "\tsrc/spot/model.py: [91:5--94:17]\n",
      "ClassMethod(path=spot.model/ModelWrapper.predict_on_batch)\n",
      "\tsrc/spot/model.py: [96:5--138:33]\n",
      "ClassMethod(path=spot.model/ModelWrapper.predict)\n",
      "\tsrc/spot/model.py: [152:5--184:71]\n",
      "ClassMethod(path=spot.model/ModelWrapper.save_pretrained)\n",
      "\tsrc/spot/model.py: [186:5--190:71]\n",
      "ClassMethod(path=spot.model/ModelWrapper.to)\n",
      "\tsrc/spot/model.py: [192:5--194:20]\n",
      "ClassMethod(path=spot.model/ModelWrapper.from_pretrained)\n",
      "\tsrc/spot/model.py: [197:5--211:10]\n",
      "ClassMethod(path=spot.model/ModelWrapper.eval_on_dataset)\n",
      "\tsrc/spot/model.py: [213:5--228:48]\n"
     ]
    }
   ],
   "source": [
    "for e in ex_project.all_elems():\n",
    "    file, span = ex_project.get_elem_location(e.path)\n",
    "    print(e)\n",
    "    print(f\"\\t{file}: {show_code_range(span)}\")"
   ]
  },
  {
   "cell_type": "code",
   "execution_count": 27,
   "metadata": {},
   "outputs": [
    {
     "name": "stderr",
     "output_type": "stream",
     "text": [
      "evaluate_on_projects: 100%|██████████| 898/898 [09:27<00:00,  1.58it/s]"
     ]
    },
    {
     "name": "stdout",
     "output_type": "stream",
     "text": [
      "partial_acc: 69.46% (count=1.1k)\n",
      "full_acc: 64.50% (count=1.1k)\n",
      "full_acc_by_common:\n",
      "   rare: 64.50% (count=1.1k)\n",
      "full_acc_by_cat:\n",
      "   FuncArg: 59.75% (count=641)\n",
      "   FuncReturn: 71.95% (count=246)\n",
      "   ClassAtribute: 70.14% (count=211)\n",
      "   GlobalVar: 66.67% (count=12)\n",
      "full_acc_by_pos:\n",
      "   range(0, 1): 62.32% (count=568)\n",
      "   range(1, 2): 62.26% (count=257)\n",
      "   range(2, 4): 71.78% (count=202)\n",
      "   range(4, 8): 72.60% (count=73)\n",
      "   range(8, 16): 40.00% (count=10)\n",
      "avg_label_size: 1.1739\n",
      "avg_pred_size: 1.091\n"
     ]
    },
    {
     "name": "stderr",
     "output_type": "stream",
     "text": [
      "\n"
     ]
    }
   ],
   "source": [
    "from spot.function_decoding import (\n",
    "    RolloutCtx,\n",
    "    PreprocessArgs,\n",
    "    DecodingOrders,\n",
    "    ProcessPoolExecutor,\n",
    "    ThreadPoolExecutor,\n",
    ")\n",
    "from spot.model import DecodingArgs\n",
    "from spot.visualization import pretty_print_dict\n",
    "\n",
    "ctx_args = wrapper.args.ctx_args\n",
    "wrapper.args = DecodingArgs(\n",
    "    sampling_max_tokens=ctx_args.ctx_size,\n",
    "    ctx_args=ctx_args,\n",
    "    do_sample=False,\n",
    "    num_beams=16,\n",
    "    tokens_per_type=16,\n",
    "    length_penalty=0.2,\n",
    ")\n",
    "\n",
    "rctx = RolloutCtx(\n",
    "    model=wrapper,\n",
    ")\n",
    "\n",
    "pre_args = PreprocessArgs()\n",
    "\n",
    "evalr = await rctx.evaluate_on_projects(\n",
    "    [ex_project], pre_args, DecodingOrders.Callee2Caller(), common_type_names=set()\n",
    ")\n",
    "\n",
    "pretty_print_dict(evalr.accuracies)\n"
   ]
  },
  {
   "cell_type": "code",
   "execution_count": 28,
   "metadata": {},
   "outputs": [
    {
     "name": "stderr",
     "output_type": "stream",
     "text": [
      "evaluate_on_projects: 1796it [18:50,  1.59it/s]                        \n"
     ]
    },
    {
     "name": "stdout",
     "output_type": "stream",
     "text": [
      "partial_acc: 70.18% (count=1.1k)\n",
      "full_acc: 65.77% (count=1.1k)\n",
      "full_acc_by_common:\n",
      "   rare: 65.77% (count=1.1k)\n",
      "full_acc_by_cat:\n",
      "   FuncArg: 60.06% (count=641)\n",
      "   FuncReturn: 72.76% (count=246)\n",
      "   ClassAtribute: 74.88% (count=211)\n",
      "   GlobalVar: 66.67% (count=12)\n",
      "full_acc_by_pos:\n",
      "   range(0, 1): 64.26% (count=568)\n",
      "   range(1, 2): 63.04% (count=257)\n",
      "   range(2, 4): 71.78% (count=202)\n",
      "   range(4, 8): 71.23% (count=73)\n",
      "   range(8, 16): 60.00% (count=10)\n",
      "avg_label_size: 1.1739\n",
      "avg_pred_size: 1.1\n"
     ]
    }
   ],
   "source": [
    "evalr = await rctx.evaluate_on_projects(\n",
    "    [ex_project], pre_args, DecodingOrders.DoubleTraversal(), common_type_names=set()\n",
    ")\n",
    "\n",
    "pretty_print_dict(evalr.accuracies)\n"
   ]
  },
  {
   "cell_type": "code",
   "execution_count": 26,
   "metadata": {},
   "outputs": [
    {
     "name": "stderr",
     "output_type": "stream",
     "text": [
      "evaluate_on_projects: 100%|██████████| 898/898 [09:25<00:00,  1.59it/s]\n"
     ]
    },
    {
     "name": "stdout",
     "output_type": "stream",
     "text": [
      "partial_acc: 68.20% (count=1.1k)\n",
      "full_acc: 62.97% (count=1.1k)\n",
      "full_acc_by_common:\n",
      "   rare: 62.97% (count=1.1k)\n",
      "full_acc_by_cat:\n",
      "   FuncArg: 57.41% (count=641)\n",
      "   FuncReturn: 71.14% (count=246)\n",
      "   ClassAtribute: 71.09% (count=211)\n",
      "   GlobalVar: 50.00% (count=12)\n",
      "full_acc_by_pos:\n",
      "   range(0, 1): 60.56% (count=568)\n",
      "   range(1, 2): 63.42% (count=257)\n",
      "   range(2, 4): 69.31% (count=202)\n",
      "   range(4, 8): 67.12% (count=73)\n",
      "   range(8, 16): 30.00% (count=10)\n",
      "avg_label_size: 1.1739\n",
      "avg_pred_size: 1.1\n"
     ]
    }
   ],
   "source": [
    "evalr = await rctx.evaluate_on_projects(\n",
    "    [ex_project], pre_args, DecodingOrders.RandomOrder(), common_type_names=set()\n",
    ")\n",
    "\n",
    "pretty_print_dict(evalr.accuracies)\n"
   ]
  },
  {
   "cell_type": "code",
   "execution_count": 29,
   "metadata": {},
   "outputs": [
    {
     "name": "stderr",
     "output_type": "stream",
     "text": [
      "evaluate_on_projects: 100%|██████████| 898/898 [09:14<00:00,  1.62it/s]\n"
     ]
    },
    {
     "name": "stdout",
     "output_type": "stream",
     "text": [
      "partial_acc: 66.13% (count=1.1k)\n",
      "full_acc: 60.45% (count=1.1k)\n",
      "full_acc_by_common:\n",
      "   rare: 60.45% (count=1.1k)\n",
      "full_acc_by_cat:\n",
      "   FuncArg: 57.10% (count=641)\n",
      "   FuncReturn: 70.73% (count=246)\n",
      "   ClassAtribute: 59.24% (count=211)\n",
      "   GlobalVar: 50.00% (count=12)\n",
      "full_acc_by_pos:\n",
      "   range(0, 1): 58.10% (count=568)\n",
      "   range(1, 2): 61.48% (count=257)\n",
      "   range(2, 4): 64.36% (count=202)\n",
      "   range(4, 8): 67.12% (count=73)\n",
      "   range(8, 16): 40.00% (count=10)\n",
      "avg_label_size: 1.1739\n",
      "avg_pred_size: 1.082\n"
     ]
    }
   ],
   "source": [
    "# ablation: no incremental decoding\n",
    "evalr = await rctx.evaluate_on_projects(\n",
    "    [ex_project],\n",
    "    pre_args,\n",
    "    DecodingOrders.IndependentOrder(),\n",
    "    common_type_names=set(),\n",
    ")\n",
    "\n",
    "pretty_print_dict(evalr.accuracies)\n"
   ]
  },
  {
   "cell_type": "code",
   "execution_count": null,
   "metadata": {},
   "outputs": [
    {
     "name": "stdout",
     "output_type": "stream",
     "text": [
      "spot.function_decoding/DecodingOrders.caller2callee 4\n",
      "spot.function_decoding/DecodingOrders.random_order 2\n",
      "spot.function_decoding/RolloutCtx.project_rollout 8\n",
      "spot.function_decoding/RolloutCtx.model 1\n",
      "spot.function_decoding/RolloutPrediction.elem2inputs 1\n",
      "spot.function_decoding/RolloutPrediction.elem2preds 1\n",
      "spot.function_decoding/RolloutPrediction.assignments 1\n",
      "spot.function_decoding/construct_model_inputs 7\n",
      "spot.function_decoding/is_mask_annot 2\n",
      "\n"
     ]
    }
   ],
   "source": [
    "from spot.function_decoding import (\n",
    "    RolloutCtx,\n",
    "    PreprocessArgs,\n",
    "    DecodingOrders,\n",
    "    ProcessPoolExecutor,\n",
    "    ThreadPoolExecutor,\n",
    ")\n",
    "\n",
    "rctx = RolloutCtx(\n",
    "    model=wrapper,\n",
    ")\n",
    "\n",
    "pre_args = PreprocessArgs()\n",
    "\n",
    "with ProcessPoolExecutor(20) as cpu_executor, ThreadPoolExecutor(1) as model_executor:\n",
    "    result = await rctx.project_rollout(\n",
    "        ex_project,\n",
    "        pre_args,\n",
    "        decode_order=DecodingOrders.Callee2Caller(),\n",
    "        cpu_executor=cpu_executor,\n",
    "        model_executor=model_executor,\n",
    "        progress_cbk=lambda e, p: print(e.path, len(p)),\n",
    "    )\n",
    "    print()\n"
   ]
  },
  {
   "cell_type": "code",
   "execution_count": null,
   "metadata": {},
   "outputs": [],
   "source": [
    "from spot.utils import decode_tokens\n",
    "\n",
    "for elem, preds in result.elem2preds.items():\n",
    "    if \"function_decoding\" in elem.module:\n",
    "        print(\"-----------------------------------------------------------\")\n",
    "        print(f\"{elem.path}: {[str(p) for p in preds]}\")\n",
    "        print(\"model inputs:\")\n",
    "        print(decode_tokens(result.elem2inputs[elem][\"input_ids\"][0]))\n"
   ]
  }
 ],
 "metadata": {
  "kernelspec": {
   "display_name": "Python 3.10.4 ('.venv': pipenv)",
   "language": "python",
   "name": "python3"
  },
  "language_info": {
   "codemirror_mode": {
    "name": "ipython",
    "version": 3
   },
   "file_extension": ".py",
   "mimetype": "text/x-python",
   "name": "python",
   "nbconvert_exporter": "python",
   "pygments_lexer": "ipython3",
   "version": "3.10.4"
  },
  "orig_nbformat": 4,
  "vscode": {
   "interpreter": {
    "hash": "f6ffc72953da4dd16b2e00785be9c4013ef131f465a8658f3921b6634d4eeec8"
   }
  }
 },
 "nbformat": 4,
 "nbformat_minor": 2
}
