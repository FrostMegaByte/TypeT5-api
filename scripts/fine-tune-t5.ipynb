{
 "cells": [
  {
   "cell_type": "code",
   "execution_count": 1,
   "metadata": {},
   "outputs": [],
   "source": [
    "%load_ext autoreload\n",
    "%autoreload 2"
   ]
  },
  {
   "cell_type": "code",
   "execution_count": 2,
   "metadata": {},
   "outputs": [],
   "source": [
    "import os\n",
    "import pickle\n",
    "import pandas as pd\n",
    "import plotly.express as px\n",
    "\n",
    "from spot.utils import (\n",
    "    cst,\n",
    "    read_file,\n",
    "    write_file,\n",
    "    seq_flatten,\n",
    "    proj_root,\n",
    "    tqdm,\n",
    ")\n",
    "from spot.type_env import (\n",
    "    collect_annotations,\n",
    "    MypyChecker,\n",
    "    AnnotPath,\n",
    "    mypy_checker,\n",
    "    TypeInfEnv,\n",
    "    TypeInfState,\n",
    "    TypeInfAction,\n",
    "    SelectAnnotations,\n",
    ")\n",
    "from spot.data import GitRepo\n",
    "\n",
    "from pathlib import Path\n",
    "from concurrent.futures import ProcessPoolExecutor\n",
    "from typing import *\n",
    "\n",
    "os.chdir(proj_root())\n",
    "\n",
    "datadir = Path(os.getenv(\"datadir\"))\n",
    "repos_dir = datadir / \"SPOT-data/repos\"\n",
    "\n",
    "useful_repos_path = proj_root() / \"scripts\" / \"useful_repos.pkl\"\n",
    "with useful_repos_path.open(\"rb\") as f:\n",
    "    useful_repos: list[GitRepo] = pickle.load(f)\n",
    "\n",
    "import random\n",
    "\n",
    "random.seed(42)\n",
    "random.shuffle(useful_repos)\n"
   ]
  },
  {
   "cell_type": "code",
   "execution_count": 3,
   "metadata": {},
   "outputs": [
    {
     "name": "stderr",
     "output_type": "stream",
     "text": [
      "/home/jiayi/Projects/SPOT/.venv/lib/python3.10/site-packages/torch/nn/modules/module.py:1402: UserWarning: positional arguments and argument \"destination\" are deprecated. nn.Module.state_dict will not accept them in the future. Refer to https://pytorch.org/docs/master/generated/torch.nn.Module.html#torch.nn.Module.state_dict for details.\n",
      "  warnings.warn(\n"
     ]
    }
   ],
   "source": [
    "# loading pre-trained model and tokenizer\n",
    "\n",
    "import torch\n",
    "from transformers import RobertaTokenizer, T5ForConditionalGeneration, DataCollatorForSeq2Seq\n",
    "from transformers.models.t5 import T5ForConditionalGeneration\n",
    "\n",
    "device = torch.device(\"cuda:0\" if torch.cuda.is_available() else \"cpu\")\n",
    "tokenizer: RobertaTokenizer = RobertaTokenizer.from_pretrained(\"Salesforce/codet5-base\")\n",
    "model: T5ForConditionalGeneration = T5ForConditionalGeneration.from_pretrained(\n",
    "    \"Salesforce/codet5-base\"\n",
    ").to(device)\n",
    "max_target_length=128"
   ]
  },
  {
   "cell_type": "code",
   "execution_count": 4,
   "metadata": {},
   "outputs": [
    {
     "data": {
      "text/plain": [
       "{'loss': tensor(4.6308, device='cuda:0', grad_fn=<NllLossBackward0>),\n",
       " 'generation': '<pad><s><extra_id_0>int, b: int, c: int,<extra_id_1>int, c: int, a: int<extra_id_2>int, b: int, c: int<extra_id_3>int : # noinspection PyProtectedMember,PyTypeChecker,PyTypeChecker,PyTypeChecker,PyTypeChecker,PyTypeChecker,PyTypeChecker,PyTypeChecker,PyTypeChecker,PyTypeChecker,PyTypeChecker,PyTypeChecker,PyTypeChecker,PyTypeChecker,PyTypeChecker,PyType</s>'}"
      ]
     },
     "execution_count": 4,
     "metadata": {},
     "output_type": "execute_result"
    }
   ],
   "source": [
    "from spot.data import tokenize_masked, mask_type_annots, chunk_masked_code\n",
    "\n",
    "test_code = \"\"\"\n",
    "# a, b, c are all ints.\n",
    "def int_add(a: int, b: int, c: int) -> int:\n",
    "    return a + b + c\n",
    "\"\"\"\n",
    "\n",
    "def run_model(code: str):\n",
    "    tks = tokenize_masked(mask_type_annots(code), tokenizer, device)\n",
    "    loss = model.forward(**tks).loss\n",
    "    dec = model.generate(\n",
    "        tks['input_ids'],\n",
    "        max_length=max_target_length,\n",
    "        num_beams=32,\n",
    "        # do_sample=True,\n",
    "    )[0]\n",
    "    return {'loss': loss, 'generation': tokenizer.decode(dec)}\n",
    "\n",
    "run_model(test_code)\n"
   ]
  },
  {
   "cell_type": "code",
   "execution_count": 18,
   "metadata": {},
   "outputs": [
    {
     "name": "stdout",
     "output_type": "stream",
     "text": [
      "Loading datasets from: /mnt/data0/jiayi/SPOT-data/repos-processed\n"
     ]
    }
   ],
   "source": [
    "from spot.data import load_or_process_datasets\n",
    "from spot.utils import process_map\n",
    "from datasets import Dataset\n",
    "\n",
    "tk_datasets, repos_split = load_or_process_datasets(\n",
    "    datadir / \"SPOT-data/repos-processed\",\n",
    "    tokenizer,\n",
    "    repos_dir,\n",
    "    repos_test=useful_repos[0:30],\n",
    "    repos_valid=useful_repos[30:60],\n",
    "    repos_train = useful_repos[60:],\n",
    "    regenerate=False,\n",
    ")"
   ]
  },
  {
   "cell_type": "code",
   "execution_count": 6,
   "metadata": {},
   "outputs": [
    {
     "name": "stderr",
     "output_type": "stream",
     "text": [
      "Failed to detect the name of this notebook, you can set it manually with the WANDB_NOTEBOOK_NAME environment variable to enable code saving.\n",
      "\u001b[34m\u001b[1mwandb\u001b[0m: Currently logged in as: \u001b[33mmrvplusone\u001b[0m (use `wandb login --relogin` to force relogin)\n"
     ]
    },
    {
     "data": {
      "text/html": [
       "Tracking run with wandb version 0.12.15"
      ],
      "text/plain": [
       "<IPython.core.display.HTML object>"
      ]
     },
     "metadata": {},
     "output_type": "display_data"
    },
    {
     "data": {
      "text/html": [
       "Run data is saved locally in <code>/home/jiayi/Projects/SPOT/wandb/run-20220428_222320-r8vmogpo</code>"
      ],
      "text/plain": [
       "<IPython.core.display.HTML object>"
      ]
     },
     "metadata": {},
     "output_type": "display_data"
    },
    {
     "data": {
      "text/html": [
       "Syncing run <strong><a href=\"https://wandb.ai/mrvplusone/SPOT-CodeT5-fine-tune/runs/r8vmogpo\" target=\"_blank\">lyric-bee-7</a></strong> to <a href=\"https://wandb.ai/mrvplusone/SPOT-CodeT5-fine-tune\" target=\"_blank\">Weights & Biases</a> (<a href=\"https://wandb.me/run\" target=\"_blank\">docs</a>)<br/>"
      ],
      "text/plain": [
       "<IPython.core.display.HTML object>"
      ]
     },
     "metadata": {},
     "output_type": "display_data"
    },
    {
     "data": {
      "text/html": [
       "<button onClick=\"this.nextSibling.style.display='block';this.style.display='none';\">Display W&B run</button><iframe src=\"https://wandb.ai/mrvplusone/SPOT-CodeT5-fine-tune/runs/r8vmogpo?jupyter=true\" style=\"border:none;width:100%;height:420px;display:none;\"></iframe>"
      ],
      "text/plain": [
       "<wandb.sdk.wandb_run.Run at 0x7ff2e2227ac0>"
      ]
     },
     "execution_count": 6,
     "metadata": {},
     "output_type": "execute_result"
    }
   ],
   "source": [
    "import wandb\n",
    "wandb.init(project=\"SPOT-CodeT5-fine-tune\", config={\"dataset\": \"full\"})"
   ]
  },
  {
   "cell_type": "code",
   "execution_count": 7,
   "metadata": {},
   "outputs": [
    {
     "name": "stderr",
     "output_type": "stream",
     "text": [
      "Using amp half precision backend\n"
     ]
    }
   ],
   "source": [
    "from transformers import Seq2SeqTrainingArguments, Seq2SeqTrainer, EarlyStoppingCallback\n",
    "from transformers.trainer import Trainer\n",
    "\n",
    "data_collator = DataCollatorForSeq2Seq(tokenizer, model)\n",
    "for d in tk_datasets.values():\n",
    "    d.set_format('torch', columns=['input_ids', 'labels'])\n",
    "\n",
    "args = Seq2SeqTrainingArguments(\n",
    "    f\"checkpoints/SPOT-CodeT5-fine-tune\",\n",
    "    evaluation_strategy=\"steps\",\n",
    "    eval_steps=100,\n",
    "    logging_steps=100,\n",
    "    prediction_loss_only=True,\n",
    "    save_strategy=\"steps\",\n",
    "    save_steps=500,\n",
    "    save_total_limit=3,\n",
    "    learning_rate=2e-5,\n",
    "    per_device_train_batch_size=30,\n",
    "    per_device_eval_batch_size=64,\n",
    "    weight_decay=0.01,\n",
    "    num_train_epochs=3,\n",
    "    # predict_with_generate=True,\n",
    "    load_best_model_at_end=True,\n",
    "    fp16=True,\n",
    "    push_to_hub=False,\n",
    "    report_to='wandb',\n",
    ")\n",
    "\n",
    "trainer: Trainer = Seq2SeqTrainer(\n",
    "    model,\n",
    "    args,\n",
    "    train_dataset=tk_datasets['train'],\n",
    "    eval_dataset=tk_datasets['valid'],\n",
    "    data_collator=data_collator,\n",
    "    tokenizer=tokenizer,\n",
    "    callbacks=[EarlyStoppingCallback(2)],\n",
    "    # compute_metrics=compute_metrics,\n",
    ")\n",
    "\n",
    "max_target_length = 128"
   ]
  },
  {
   "cell_type": "code",
   "execution_count": 8,
   "metadata": {},
   "outputs": [
    {
     "name": "stderr",
     "output_type": "stream",
     "text": [
      "The following columns in the evaluation set  don't have a corresponding argument in `T5ForConditionalGeneration.forward` and have been ignored: types. If types are not expected by `T5ForConditionalGeneration.forward`,  you can safely ignore this message.\n",
      "***** Running Evaluation *****\n",
      "  Num examples = 2524\n",
      "  Batch size = 64\n",
      "/home/jiayi/Projects/SPOT/.venv/lib/python3.10/site-packages/torch/nn/parallel/_functions.py:68: UserWarning: Was asked to gather along dimension 0, but all input tensors were scalars; will instead unsqueeze and return a vector.\n",
      "  warnings.warn('Was asked to gather along dimension 0, but all '\n"
     ]
    },
    {
     "data": {
      "text/html": [
       "\n",
       "    <div>\n",
       "      \n",
       "      <progress value='40' max='20' style='width:300px; height:20px; vertical-align: middle;'></progress>\n",
       "      [20/20 02:26]\n",
       "    </div>\n",
       "    "
      ],
      "text/plain": [
       "<IPython.core.display.HTML object>"
      ]
     },
     "metadata": {},
     "output_type": "display_data"
    },
    {
     "name": "stderr",
     "output_type": "stream",
     "text": [
      "Automatic Weights & Biases logging enabled, to disable set os.environ[\"WANDB_DISABLED\"] = \"true\"\n"
     ]
    },
    {
     "name": "stdout",
     "output_type": "stream",
     "text": [
      "{'eval_loss': 2.7134897708892822, 'eval_runtime': 21.3023, 'eval_samples_per_second': 118.485, 'eval_steps_per_second': 0.939}\n"
     ]
    }
   ],
   "source": [
    "init_perf=trainer.evaluate(max_length=max_target_length)\n",
    "print(init_perf)"
   ]
  },
  {
   "cell_type": "code",
   "execution_count": 9,
   "metadata": {},
   "outputs": [
    {
     "name": "stderr",
     "output_type": "stream",
     "text": [
      "The following columns in the training set  don't have a corresponding argument in `T5ForConditionalGeneration.forward` and have been ignored: types. If types are not expected by `T5ForConditionalGeneration.forward`,  you can safely ignore this message.\n",
      "/home/jiayi/Projects/SPOT/.venv/lib/python3.10/site-packages/transformers/optimization.py:306: FutureWarning: This implementation of AdamW is deprecated and will be removed in a future version. Use the PyTorch implementation torch.optim.AdamW instead, or set `no_deprecation_warning=True` to disable this warning\n",
      "  warnings.warn(\n",
      "***** Running training *****\n",
      "  Num examples = 78603\n",
      "  Num Epochs = 3\n",
      "  Instantaneous batch size per device = 30\n",
      "  Total train batch size (w. parallel, distributed & accumulation) = 60\n",
      "  Gradient Accumulation steps = 1\n",
      "  Total optimization steps = 3933\n"
     ]
    },
    {
     "data": {
      "text/html": [
       "\n",
       "    <div>\n",
       "      \n",
       "      <progress value='1700' max='3933' style='width:300px; height:20px; vertical-align: middle;'></progress>\n",
       "      [1700/3933 36:00 < 47:21, 0.79 it/s, Epoch 1/3]\n",
       "    </div>\n",
       "    <table border=\"1\" class=\"dataframe\">\n",
       "  <thead>\n",
       " <tr style=\"text-align: left;\">\n",
       "      <th>Step</th>\n",
       "      <th>Training Loss</th>\n",
       "      <th>Validation Loss</th>\n",
       "    </tr>\n",
       "  </thead>\n",
       "  <tbody>\n",
       "    <tr>\n",
       "      <td>100</td>\n",
       "      <td>1.000500</td>\n",
       "      <td>0.759564</td>\n",
       "    </tr>\n",
       "    <tr>\n",
       "      <td>200</td>\n",
       "      <td>0.797800</td>\n",
       "      <td>0.715636</td>\n",
       "    </tr>\n",
       "    <tr>\n",
       "      <td>300</td>\n",
       "      <td>0.699400</td>\n",
       "      <td>0.689998</td>\n",
       "    </tr>\n",
       "    <tr>\n",
       "      <td>400</td>\n",
       "      <td>0.667100</td>\n",
       "      <td>0.668939</td>\n",
       "    </tr>\n",
       "    <tr>\n",
       "      <td>500</td>\n",
       "      <td>0.641700</td>\n",
       "      <td>0.654426</td>\n",
       "    </tr>\n",
       "    <tr>\n",
       "      <td>600</td>\n",
       "      <td>0.637400</td>\n",
       "      <td>0.644231</td>\n",
       "    </tr>\n",
       "    <tr>\n",
       "      <td>700</td>\n",
       "      <td>0.614100</td>\n",
       "      <td>0.631834</td>\n",
       "    </tr>\n",
       "    <tr>\n",
       "      <td>800</td>\n",
       "      <td>0.591800</td>\n",
       "      <td>0.622236</td>\n",
       "    </tr>\n",
       "    <tr>\n",
       "      <td>900</td>\n",
       "      <td>0.569200</td>\n",
       "      <td>0.620083</td>\n",
       "    </tr>\n",
       "    <tr>\n",
       "      <td>1000</td>\n",
       "      <td>0.560900</td>\n",
       "      <td>0.616649</td>\n",
       "    </tr>\n",
       "    <tr>\n",
       "      <td>1100</td>\n",
       "      <td>0.553300</td>\n",
       "      <td>0.619049</td>\n",
       "    </tr>\n",
       "    <tr>\n",
       "      <td>1200</td>\n",
       "      <td>0.546300</td>\n",
       "      <td>0.609654</td>\n",
       "    </tr>\n",
       "    <tr>\n",
       "      <td>1300</td>\n",
       "      <td>0.530900</td>\n",
       "      <td>0.604811</td>\n",
       "    </tr>\n",
       "    <tr>\n",
       "      <td>1400</td>\n",
       "      <td>0.489000</td>\n",
       "      <td>0.593819</td>\n",
       "    </tr>\n",
       "    <tr>\n",
       "      <td>1500</td>\n",
       "      <td>0.475100</td>\n",
       "      <td>0.589620</td>\n",
       "    </tr>\n",
       "    <tr>\n",
       "      <td>1600</td>\n",
       "      <td>0.496500</td>\n",
       "      <td>0.590044</td>\n",
       "    </tr>\n",
       "    <tr>\n",
       "      <td>1700</td>\n",
       "      <td>0.483400</td>\n",
       "      <td>0.596654</td>\n",
       "    </tr>\n",
       "  </tbody>\n",
       "</table><p>"
      ],
      "text/plain": [
       "<IPython.core.display.HTML object>"
      ]
     },
     "metadata": {},
     "output_type": "display_data"
    },
    {
     "name": "stderr",
     "output_type": "stream",
     "text": [
      "The following columns in the evaluation set  don't have a corresponding argument in `T5ForConditionalGeneration.forward` and have been ignored: types. If types are not expected by `T5ForConditionalGeneration.forward`,  you can safely ignore this message.\n",
      "***** Running Evaluation *****\n",
      "  Num examples = 2524\n",
      "  Batch size = 64\n",
      "The following columns in the evaluation set  don't have a corresponding argument in `T5ForConditionalGeneration.forward` and have been ignored: types. If types are not expected by `T5ForConditionalGeneration.forward`,  you can safely ignore this message.\n",
      "***** Running Evaluation *****\n",
      "  Num examples = 2524\n",
      "  Batch size = 64\n",
      "The following columns in the evaluation set  don't have a corresponding argument in `T5ForConditionalGeneration.forward` and have been ignored: types. If types are not expected by `T5ForConditionalGeneration.forward`,  you can safely ignore this message.\n",
      "***** Running Evaluation *****\n",
      "  Num examples = 2524\n",
      "  Batch size = 64\n",
      "The following columns in the evaluation set  don't have a corresponding argument in `T5ForConditionalGeneration.forward` and have been ignored: types. If types are not expected by `T5ForConditionalGeneration.forward`,  you can safely ignore this message.\n",
      "***** Running Evaluation *****\n",
      "  Num examples = 2524\n",
      "  Batch size = 64\n",
      "The following columns in the evaluation set  don't have a corresponding argument in `T5ForConditionalGeneration.forward` and have been ignored: types. If types are not expected by `T5ForConditionalGeneration.forward`,  you can safely ignore this message.\n",
      "***** Running Evaluation *****\n",
      "  Num examples = 2524\n",
      "  Batch size = 64\n",
      "Saving model checkpoint to checkpoints/SPOT-CodeT5-fine-tune/checkpoint-500\n",
      "Configuration saved in checkpoints/SPOT-CodeT5-fine-tune/checkpoint-500/config.json\n",
      "/home/jiayi/Projects/SPOT/.venv/lib/python3.10/site-packages/torch/nn/modules/module.py:1402: UserWarning: positional arguments and argument \"destination\" are deprecated. nn.Module.state_dict will not accept them in the future. Refer to https://pytorch.org/docs/master/generated/torch.nn.Module.html#torch.nn.Module.state_dict for details.\n",
      "  warnings.warn(\n",
      "Model weights saved in checkpoints/SPOT-CodeT5-fine-tune/checkpoint-500/pytorch_model.bin\n",
      "tokenizer config file saved in checkpoints/SPOT-CodeT5-fine-tune/checkpoint-500/tokenizer_config.json\n",
      "Special tokens file saved in checkpoints/SPOT-CodeT5-fine-tune/checkpoint-500/special_tokens_map.json\n",
      "/home/jiayi/Projects/SPOT/.venv/lib/python3.10/site-packages/torch/nn/parallel/_functions.py:68: UserWarning: Was asked to gather along dimension 0, but all input tensors were scalars; will instead unsqueeze and return a vector.\n",
      "  warnings.warn('Was asked to gather along dimension 0, but all '\n",
      "The following columns in the evaluation set  don't have a corresponding argument in `T5ForConditionalGeneration.forward` and have been ignored: types. If types are not expected by `T5ForConditionalGeneration.forward`,  you can safely ignore this message.\n",
      "***** Running Evaluation *****\n",
      "  Num examples = 2524\n",
      "  Batch size = 64\n",
      "The following columns in the evaluation set  don't have a corresponding argument in `T5ForConditionalGeneration.forward` and have been ignored: types. If types are not expected by `T5ForConditionalGeneration.forward`,  you can safely ignore this message.\n",
      "***** Running Evaluation *****\n",
      "  Num examples = 2524\n",
      "  Batch size = 64\n",
      "The following columns in the evaluation set  don't have a corresponding argument in `T5ForConditionalGeneration.forward` and have been ignored: types. If types are not expected by `T5ForConditionalGeneration.forward`,  you can safely ignore this message.\n",
      "***** Running Evaluation *****\n",
      "  Num examples = 2524\n",
      "  Batch size = 64\n",
      "The following columns in the evaluation set  don't have a corresponding argument in `T5ForConditionalGeneration.forward` and have been ignored: types. If types are not expected by `T5ForConditionalGeneration.forward`,  you can safely ignore this message.\n",
      "***** Running Evaluation *****\n",
      "  Num examples = 2524\n",
      "  Batch size = 64\n",
      "The following columns in the evaluation set  don't have a corresponding argument in `T5ForConditionalGeneration.forward` and have been ignored: types. If types are not expected by `T5ForConditionalGeneration.forward`,  you can safely ignore this message.\n",
      "***** Running Evaluation *****\n",
      "  Num examples = 2524\n",
      "  Batch size = 64\n",
      "Saving model checkpoint to checkpoints/SPOT-CodeT5-fine-tune/checkpoint-1000\n",
      "Configuration saved in checkpoints/SPOT-CodeT5-fine-tune/checkpoint-1000/config.json\n",
      "/home/jiayi/Projects/SPOT/.venv/lib/python3.10/site-packages/torch/nn/modules/module.py:1402: UserWarning: positional arguments and argument \"destination\" are deprecated. nn.Module.state_dict will not accept them in the future. Refer to https://pytorch.org/docs/master/generated/torch.nn.Module.html#torch.nn.Module.state_dict for details.\n",
      "  warnings.warn(\n",
      "Model weights saved in checkpoints/SPOT-CodeT5-fine-tune/checkpoint-1000/pytorch_model.bin\n",
      "tokenizer config file saved in checkpoints/SPOT-CodeT5-fine-tune/checkpoint-1000/tokenizer_config.json\n",
      "Special tokens file saved in checkpoints/SPOT-CodeT5-fine-tune/checkpoint-1000/special_tokens_map.json\n",
      "Deleting older checkpoint [checkpoints/SPOT-CodeT5-fine-tune/checkpoint-119] due to args.save_total_limit\n",
      "/home/jiayi/Projects/SPOT/.venv/lib/python3.10/site-packages/torch/nn/parallel/_functions.py:68: UserWarning: Was asked to gather along dimension 0, but all input tensors were scalars; will instead unsqueeze and return a vector.\n",
      "  warnings.warn('Was asked to gather along dimension 0, but all '\n",
      "The following columns in the evaluation set  don't have a corresponding argument in `T5ForConditionalGeneration.forward` and have been ignored: types. If types are not expected by `T5ForConditionalGeneration.forward`,  you can safely ignore this message.\n",
      "***** Running Evaluation *****\n",
      "  Num examples = 2524\n",
      "  Batch size = 64\n",
      "The following columns in the evaluation set  don't have a corresponding argument in `T5ForConditionalGeneration.forward` and have been ignored: types. If types are not expected by `T5ForConditionalGeneration.forward`,  you can safely ignore this message.\n",
      "***** Running Evaluation *****\n",
      "  Num examples = 2524\n",
      "  Batch size = 64\n",
      "The following columns in the evaluation set  don't have a corresponding argument in `T5ForConditionalGeneration.forward` and have been ignored: types. If types are not expected by `T5ForConditionalGeneration.forward`,  you can safely ignore this message.\n",
      "***** Running Evaluation *****\n",
      "  Num examples = 2524\n",
      "  Batch size = 64\n",
      "The following columns in the evaluation set  don't have a corresponding argument in `T5ForConditionalGeneration.forward` and have been ignored: types. If types are not expected by `T5ForConditionalGeneration.forward`,  you can safely ignore this message.\n",
      "***** Running Evaluation *****\n",
      "  Num examples = 2524\n",
      "  Batch size = 64\n",
      "The following columns in the evaluation set  don't have a corresponding argument in `T5ForConditionalGeneration.forward` and have been ignored: types. If types are not expected by `T5ForConditionalGeneration.forward`,  you can safely ignore this message.\n",
      "***** Running Evaluation *****\n",
      "  Num examples = 2524\n",
      "  Batch size = 64\n",
      "Saving model checkpoint to checkpoints/SPOT-CodeT5-fine-tune/checkpoint-1500\n",
      "Configuration saved in checkpoints/SPOT-CodeT5-fine-tune/checkpoint-1500/config.json\n",
      "/home/jiayi/Projects/SPOT/.venv/lib/python3.10/site-packages/torch/nn/modules/module.py:1402: UserWarning: positional arguments and argument \"destination\" are deprecated. nn.Module.state_dict will not accept them in the future. Refer to https://pytorch.org/docs/master/generated/torch.nn.Module.html#torch.nn.Module.state_dict for details.\n",
      "  warnings.warn(\n",
      "Model weights saved in checkpoints/SPOT-CodeT5-fine-tune/checkpoint-1500/pytorch_model.bin\n",
      "tokenizer config file saved in checkpoints/SPOT-CodeT5-fine-tune/checkpoint-1500/tokenizer_config.json\n",
      "Special tokens file saved in checkpoints/SPOT-CodeT5-fine-tune/checkpoint-1500/special_tokens_map.json\n",
      "Deleting older checkpoint [checkpoints/SPOT-CodeT5-fine-tune/checkpoint-238] due to args.save_total_limit\n",
      "/home/jiayi/Projects/SPOT/.venv/lib/python3.10/site-packages/torch/nn/parallel/_functions.py:68: UserWarning: Was asked to gather along dimension 0, but all input tensors were scalars; will instead unsqueeze and return a vector.\n",
      "  warnings.warn('Was asked to gather along dimension 0, but all '\n",
      "The following columns in the evaluation set  don't have a corresponding argument in `T5ForConditionalGeneration.forward` and have been ignored: types. If types are not expected by `T5ForConditionalGeneration.forward`,  you can safely ignore this message.\n",
      "***** Running Evaluation *****\n",
      "  Num examples = 2524\n",
      "  Batch size = 64\n",
      "The following columns in the evaluation set  don't have a corresponding argument in `T5ForConditionalGeneration.forward` and have been ignored: types. If types are not expected by `T5ForConditionalGeneration.forward`,  you can safely ignore this message.\n",
      "***** Running Evaluation *****\n",
      "  Num examples = 2524\n",
      "  Batch size = 64\n",
      "\n",
      "\n",
      "Training completed. Do not forget to share your model on huggingface.co/models =)\n",
      "\n",
      "\n",
      "Loading best model from checkpoints/SPOT-CodeT5-fine-tune/checkpoint-1500 (score: 0.589619517326355).\n"
     ]
    },
    {
     "data": {
      "text/plain": [
       "TrainOutput(global_step=1700, training_loss=0.6090784274830537, metrics={'train_runtime': 2162.1728, 'train_samples_per_second': 109.061, 'train_steps_per_second': 1.819, 'total_flos': 6.207899423735808e+16, 'train_loss': 0.6090784274830537, 'epoch': 1.3})"
      ]
     },
     "execution_count": 9,
     "metadata": {},
     "output_type": "execute_result"
    }
   ],
   "source": [
    "trainer.train()"
   ]
  },
  {
   "cell_type": "code",
   "execution_count": 10,
   "metadata": {},
   "outputs": [
    {
     "name": "stderr",
     "output_type": "stream",
     "text": [
      "The following columns in the evaluation set  don't have a corresponding argument in `T5ForConditionalGeneration.forward` and have been ignored: types. If types are not expected by `T5ForConditionalGeneration.forward`,  you can safely ignore this message.\n",
      "***** Running Evaluation *****\n",
      "  Num examples = 2524\n",
      "  Batch size = 64\n"
     ]
    },
    {
     "data": {
      "text/html": [
       "\n",
       "    <div>\n",
       "      \n",
       "      <progress value='20' max='20' style='width:300px; height:20px; vertical-align: middle;'></progress>\n",
       "      [20/20 00:19]\n",
       "    </div>\n",
       "    "
      ],
      "text/plain": [
       "<IPython.core.display.HTML object>"
      ]
     },
     "metadata": {},
     "output_type": "display_data"
    },
    {
     "name": "stdout",
     "output_type": "stream",
     "text": [
      "{'eval_loss': 0.589619517326355, 'eval_runtime': 20.1007, 'eval_samples_per_second': 125.568, 'eval_steps_per_second': 0.995, 'epoch': 1.3}\n"
     ]
    }
   ],
   "source": [
    "print(trainer.evaluate(max_length=max_target_length))"
   ]
  },
  {
   "cell_type": "code",
   "execution_count": 14,
   "metadata": {},
   "outputs": [
    {
     "data": {
      "text/plain": [
       "{'loss': tensor(1.1911, device='cuda:0', grad_fn=<NllLossBackward0>),\n",
       " 'generation': '<pad><s><extra_id_0>typing.List[int]<extra_id_1>typing.List[int]<extra_id_2>typing.List[int]<extra_id_3>typing.List[int]<extra_id_4>typing.Dict[str, typing.Any]<extra_id_5>RobertaTokenizer<extra_id_6>typing.Any<extra_id_7>typing.Dict[str, typing.Any]</s>'}"
      ]
     },
     "execution_count": 14,
     "metadata": {},
     "output_type": "execute_result"
    }
   ],
   "source": [
    "test_code = '''\n",
    "def int_add(a: int, b: int, c: int) -> str:\n",
    "    \"\"\"a, b, c are all ints.\"\"\"\n",
    "    ''.join(a, b, c)\n",
    "\n",
    "from transformers import RobertaTokenizer\n",
    "\n",
    "def tokenize_masked(masked: Dict, tokenizer: RobertaTokenizer, device: torch.device) -> Dict:\n",
    "    mask_tokens = [f\"<extra_id_{i}>\" for i in range(len(masked['types']))]\n",
    "    input_ids = tokenizer.encode(join_str(masked[\"code_segs\"], mask_tokens), return_tensors=\"pt\")\n",
    "    label_str = \"\".join(a + str(b) for a, b in zip(mask_tokens, masked[\"types\"]))\n",
    "    labels = tokenizer.encode(label_str, return_tensors=\"pt\")\n",
    "    return {\"input_ids\": input_ids.to(device), \"labels\": labels.to(device)}\n",
    "'''\n",
    "run_model(test_code)"
   ]
  },
  {
   "cell_type": "code",
   "execution_count": 45,
   "metadata": {},
   "outputs": [
    {
     "data": {
      "text/plain": [
       "{'loss': tensor(0.3881, device='cuda:0', grad_fn=<NllLossBackward0>),\n",
       " 'generation': '<pad><s><extra_id_0>str<extra_id_1>str<extra_id_2>None<extra_id_3>Path<extra_id_4>Sequence[T1]<extra_id_5>Sequence[T2]<extra_id_6>Sequence[str]<extra_id_7>Sequence[str]<extra_id_8>str</s>'}"
      ]
     },
     "execution_count": 45,
     "metadata": {},
     "output_type": "execute_result"
    }
   ],
   "source": [
    "test_code_2 = read_file(proj_root() / \"src\" / \"spot\" / \"utils.py\")\n",
    "run_model(test_code_2)"
   ]
  },
  {
   "cell_type": "code",
   "execution_count": 35,
   "metadata": {},
   "outputs": [
    {
     "data": {
      "text/plain": [
       "{'loss': tensor(0.0269, device='cuda:0', grad_fn=<NllLossBackward0>),\n",
       " 'generation': '<pad><s><extra_id_0>t.Callable<extra_id_1>None<extra_id_2>t.Callable<extra_id_3>None<extra_id_4>t.Callable<extra_id_5>t.Callable<extra_id_6>None<extra_id_7>t.Callable<extra_id_8>t.Callable<extra_id_9>None<extra_id_10>t.Callable<extra_id_11>t.Callable<extra_id_12>None<extra_id_13>None<extra_id_14>None<extra_id_15>None</s>'}"
      ]
     },
     "execution_count": 35,
     "metadata": {},
     "output_type": "execute_result"
    }
   ],
   "source": [
    "run_model(test_code_2)"
   ]
  }
 ],
 "metadata": {
  "interpreter": {
   "hash": "f6ffc72953da4dd16b2e00785be9c4013ef131f465a8658f3921b6634d4eeec8"
  },
  "kernelspec": {
   "display_name": "Python 3.9.7 ('.venv': pipenv)",
   "language": "python",
   "name": "python3"
  },
  "language_info": {
   "codemirror_mode": {
    "name": "ipython",
    "version": 3
   },
   "file_extension": ".py",
   "mimetype": "text/x-python",
   "name": "python",
   "nbconvert_exporter": "python",
   "pygments_lexer": "ipython3",
   "version": "3.10.4"
  },
  "orig_nbformat": 4
 },
 "nbformat": 4,
 "nbformat_minor": 2
}
