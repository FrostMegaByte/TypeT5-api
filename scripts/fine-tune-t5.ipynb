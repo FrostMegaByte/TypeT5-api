{
 "cells": [
  {
   "cell_type": "code",
   "execution_count": 1,
   "metadata": {},
   "outputs": [],
   "source": [
    "%load_ext autoreload\n",
    "%autoreload 2\n",
    "\n",
    "import os\n",
    "import pickle\n",
    "from concurrent.futures import ProcessPoolExecutor\n",
    "from pathlib import Path\n",
    "from typing import *\n",
    "\n",
    "import pandas as pd\n",
    "import plotly.express as px\n",
    "\n",
    "from spot.data import GitRepo\n",
    "from spot.type_env import (\n",
    "    AnnotPath,\n",
    "    MypyChecker,\n",
    "    SelectAnnotations,\n",
    "    TypeInfAction,\n",
    "    TypeInfEnv,\n",
    "    TypeInfState,\n",
    "    collect_annotations,\n",
    "    mypy_checker,\n",
    ")\n",
    "from spot.utils import cst, proj_root, read_file, seq_flatten, tqdm, write_file\n",
    "\n",
    "os.chdir(proj_root())\n",
    "\n",
    "datadir = Path(os.getenv(\"datadir\"))\n",
    "repos_dir = datadir / \"SPOT-data/repos\"\n",
    "\n",
    "useful_repos_path = proj_root() / \"scripts\" / \"useful_repos.pkl\"\n",
    "with useful_repos_path.open(\"rb\") as f:\n",
    "    useful_repos: list[GitRepo] = pickle.load(f)"
   ]
  },
  {
   "cell_type": "code",
   "execution_count": 15,
   "metadata": {},
   "outputs": [
    {
     "name": "stderr",
     "output_type": "stream",
     "text": [
      "/home/jiayi/Projects/SPOT/.venv/lib/python3.10/site-packages/torch/nn/modules/module.py:1402: UserWarning: positional arguments and argument \"destination\" are deprecated. nn.Module.state_dict will not accept them in the future. Refer to https://pytorch.org/docs/master/generated/torch.nn.Module.html#torch.nn.Module.state_dict for details.\n",
      "  warnings.warn(\n"
     ]
    }
   ],
   "source": [
    "load_trained = True\n",
    "\n",
    "if load_trained:\n",
    "    model_path = datadir / \"checkpoints/saved/SPOT-CodeT5-with_margin\"\n",
    "else:\n",
    "    model_path = \"Salesforce/codet5-base\"\n",
    "\n",
    "import torch\n",
    "from transformers import (\n",
    "    DataCollatorForSeq2Seq,\n",
    "    RobertaTokenizer,\n",
    "    T5ForConditionalGeneration,\n",
    ")\n",
    "from transformers.models.t5 import T5ForConditionalGeneration\n",
    "\n",
    "device = torch.device(\"cuda:0\" if torch.cuda.is_available() else \"cpu\")\n",
    "tokenizer: RobertaTokenizer = RobertaTokenizer.from_pretrained(model_path)\n",
    "model: T5ForConditionalGeneration\n",
    "model = T5ForConditionalGeneration.from_pretrained(model_path).to(device)\n",
    "max_target_length = 256\n"
   ]
  },
  {
   "cell_type": "code",
   "execution_count": 17,
   "metadata": {},
   "outputs": [
    {
     "data": {
      "text/plain": [
       "{'loss': tensor(3.4084, device='cuda:0', grad_fn=<NllLossBackward0>),\n",
       " 'generation': '<pad><s><extra_id_0>typing.Union[int, float, int]<extra_id_1>typing.Union[int, float, int, float, float]<extra_id_2>typing.Union[int, float, float, float, float, float]<extra_id_3>typing.Union[int, float, float, float, float,'}"
      ]
     },
     "execution_count": 17,
     "metadata": {},
     "output_type": "execute_result"
    }
   ],
   "source": [
    "from spot.data import chunk_masked_code, mask_type_annots, tokenize_masked\n",
    "\n",
    "test_code = \"\"\"\n",
    "# a, b, c are all of type int.\n",
    "def int_add(a: int, b: int, c: int) -> int:\n",
    "    return a + b + c\n",
    "\"\"\"\n",
    "\n",
    "\n",
    "def run_model(code: str):\n",
    "    tks = tokenize_masked(mask_type_annots(code), tokenizer, device)\n",
    "    loss = model.forward(**tks).loss\n",
    "    dec = model.generate(\n",
    "        tks[\"input_ids\"],\n",
    "        max_length=64,\n",
    "        num_beams=10,\n",
    "        # do_sample=True,\n",
    "    )[0]\n",
    "    return {\"loss\": loss, \"generation\": tokenizer.decode(dec)}\n",
    "\n",
    "\n",
    "run_model(test_code)\n"
   ]
  },
  {
   "cell_type": "code",
   "execution_count": 14,
   "metadata": {},
   "outputs": [
    {
     "name": "stdout",
     "output_type": "stream",
     "text": [
      "Deleting old datasets at: /mnt/data0/jiayi/SPOT-data/repos-processed-with_margin\n",
      "Processing dataset: train\n"
     ]
    },
    {
     "data": {
      "application/vnd.jupyter.widget-view+json": {
       "model_id": "bb9361c2f06f4a4ea828a024bd69a7e8",
       "version_major": 2,
       "version_minor": 0
      },
      "text/plain": [
       "read_files:   0%|          | 0/574 [00:00<?, ?it/s]"
      ]
     },
     "metadata": {},
     "output_type": "display_data"
    },
    {
     "data": {
      "application/vnd.jupyter.widget-view+json": {
       "model_id": "325bebd306e940c59b680e25780d0372",
       "version_major": 2,
       "version_minor": 0
      },
      "text/plain": [
       "tokenize sources:   0%|          | 0/29843 [00:00<?, ?it/s]"
      ]
     },
     "metadata": {},
     "output_type": "display_data"
    },
    {
     "name": "stderr",
     "output_type": "stream",
     "text": [
      "WARNING:root:Failed to parse src file: `/mnt/data0/jiayi/SPOT-data/repos/downloaded/oddworldng__cmsysbot-telegram/cmsysbot/system/plugin.py`\n"
     ]
    },
    {
     "data": {
      "application/vnd.jupyter.widget-view+json": {
       "model_id": "2e66ed36365f4df0a0fc269808b6f690",
       "version_major": 2,
       "version_minor": 0
      },
      "text/plain": [
       "Concatinating all srcs:   0%|          | 0/29842 [00:00<?, ?it/s]"
      ]
     },
     "metadata": {},
     "output_type": "display_data"
    },
    {
     "data": {
      "application/vnd.jupyter.widget-view+json": {
       "model_id": "3de0913bb363406897c4df3e6964bdee",
       "version_major": 2,
       "version_minor": 0
      },
      "text/plain": [
       "Chunking:   0%|          | 0/150645 [00:00<?, ?it/s]"
      ]
     },
     "metadata": {},
     "output_type": "display_data"
    },
    {
     "name": "stdout",
     "output_type": "stream",
     "text": [
      "Processing dataset: valid\n"
     ]
    },
    {
     "data": {
      "application/vnd.jupyter.widget-view+json": {
       "model_id": "68b0b912d1b344a8a886ff6c28b80745",
       "version_major": 2,
       "version_minor": 0
      },
      "text/plain": [
       "read_files:   0%|          | 0/40 [00:00<?, ?it/s]"
      ]
     },
     "metadata": {},
     "output_type": "display_data"
    },
    {
     "data": {
      "application/vnd.jupyter.widget-view+json": {
       "model_id": "462cae7f955e415bbd980a8c5575e3a4",
       "version_major": 2,
       "version_minor": 0
      },
      "text/plain": [
       "tokenize sources:   0%|          | 0/1953 [00:00<?, ?it/s]"
      ]
     },
     "metadata": {},
     "output_type": "display_data"
    },
    {
     "data": {
      "application/vnd.jupyter.widget-view+json": {
       "model_id": "192c04d5a9184848926e6785d735aa80",
       "version_major": 2,
       "version_minor": 0
      },
      "text/plain": [
       "Concatinating all srcs:   0%|          | 0/1953 [00:00<?, ?it/s]"
      ]
     },
     "metadata": {},
     "output_type": "display_data"
    },
    {
     "data": {
      "application/vnd.jupyter.widget-view+json": {
       "model_id": "a927474d7c364fcc9cd37baea4fbda8e",
       "version_major": 2,
       "version_minor": 0
      },
      "text/plain": [
       "Chunking:   0%|          | 0/10843 [00:00<?, ?it/s]"
      ]
     },
     "metadata": {},
     "output_type": "display_data"
    },
    {
     "name": "stdout",
     "output_type": "stream",
     "text": [
      "Processing dataset: test\n"
     ]
    },
    {
     "data": {
      "application/vnd.jupyter.widget-view+json": {
       "model_id": "fa79896b2089408b8d810275103d5aeb",
       "version_major": 2,
       "version_minor": 0
      },
      "text/plain": [
       "read_files:   0%|          | 0/50 [00:00<?, ?it/s]"
      ]
     },
     "metadata": {},
     "output_type": "display_data"
    },
    {
     "data": {
      "application/vnd.jupyter.widget-view+json": {
       "model_id": "bb69c6d293354925badc3c3b5de695e4",
       "version_major": 2,
       "version_minor": 0
      },
      "text/plain": [
       "tokenize sources:   0%|          | 0/1594 [00:00<?, ?it/s]"
      ]
     },
     "metadata": {},
     "output_type": "display_data"
    },
    {
     "data": {
      "application/vnd.jupyter.widget-view+json": {
       "model_id": "962f6e50909545f7a59a1c5671b62bfc",
       "version_major": 2,
       "version_minor": 0
      },
      "text/plain": [
       "Concatinating all srcs:   0%|          | 0/1594 [00:00<?, ?it/s]"
      ]
     },
     "metadata": {},
     "output_type": "display_data"
    },
    {
     "data": {
      "application/vnd.jupyter.widget-view+json": {
       "model_id": "1b279f113c654793bb3684789bb45271",
       "version_major": 2,
       "version_minor": 0
      },
      "text/plain": [
       "Chunking:   0%|          | 0/7146 [00:00<?, ?it/s]"
      ]
     },
     "metadata": {},
     "output_type": "display_data"
    }
   ],
   "source": [
    "from spot.data import load_or_process_datasets\n",
    "\n",
    "with_margin = True\n",
    "\n",
    "margin_tag = \"with_margin\" if with_margin else \"no_margin\"\n",
    "ctx_margin = tokenizer.model_max_length // 4 if with_margin else 0\n",
    "\n",
    "test_parsing = False\n",
    "\n",
    "tk_datasets, repos_split = load_or_process_datasets(\n",
    "    datadir / f\"SPOT-data/repos-processed-{margin_tag}\",\n",
    "    tokenizer,\n",
    "    repos_dir,\n",
    "    repos_test=useful_repos[0:50] if not test_parsing else useful_repos[0:1],\n",
    "    repos_valid=useful_repos[50:90] if not test_parsing else useful_repos[1:2],\n",
    "    repos_train=useful_repos[90:] if not test_parsing else useful_repos[2:4],\n",
    "    regenerate=True,\n",
    "    ctx_margin=ctx_margin,\n",
    ")\n"
   ]
  },
  {
   "cell_type": "code",
   "execution_count": 6,
   "metadata": {},
   "outputs": [
    {
     "name": "stdout",
     "output_type": "stream",
     "text": [
      "average label length:  17.262881004381807\n"
     ]
    }
   ],
   "source": [
    "import numpy as np\n",
    "\n",
    "print(\n",
    "    \"average label length: \",\n",
    "    np.mean([len(ts) for ts in tk_datasets[\"train\"][\"labels\"] if bool(ts)]),\n",
    ")\n"
   ]
  },
  {
   "cell_type": "code",
   "execution_count": 8,
   "metadata": {},
   "outputs": [
    {
     "data": {
      "text/plain": [
       "72801"
      ]
     },
     "execution_count": 8,
     "metadata": {},
     "output_type": "execute_result"
    }
   ],
   "source": [
    "tk_datasets[\"train\"].num_rows\n"
   ]
  },
  {
   "cell_type": "code",
   "execution_count": 10,
   "metadata": {},
   "outputs": [
    {
     "name": "stderr",
     "output_type": "stream",
     "text": [
      "Failed to detect the name of this notebook, you can set it manually with the WANDB_NOTEBOOK_NAME environment variable to enable code saving.\n",
      "\u001b[34m\u001b[1mwandb\u001b[0m: Currently logged in as: \u001b[33mmrvplusone\u001b[0m (use `wandb login --relogin` to force relogin)\n"
     ]
    },
    {
     "data": {
      "text/html": [
       "wandb version 0.12.16 is available!  To upgrade, please run:\n",
       " $ pip install wandb --upgrade"
      ],
      "text/plain": [
       "<IPython.core.display.HTML object>"
      ]
     },
     "metadata": {},
     "output_type": "display_data"
    },
    {
     "data": {
      "text/html": [
       "Tracking run with wandb version 0.12.15"
      ],
      "text/plain": [
       "<IPython.core.display.HTML object>"
      ]
     },
     "metadata": {},
     "output_type": "display_data"
    },
    {
     "data": {
      "text/html": [
       "Run data is saved locally in <code>/home/jiayi/Projects/SPOT/wandb/run-20220503_222715-b4gqbyf4</code>"
      ],
      "text/plain": [
       "<IPython.core.display.HTML object>"
      ]
     },
     "metadata": {},
     "output_type": "display_data"
    },
    {
     "data": {
      "text/html": [
       "Syncing run <strong><a href=\"https://wandb.ai/mrvplusone/SPOT-CodeT5-with_margin/runs/b4gqbyf4\" target=\"_blank\">firm-hill-2</a></strong> to <a href=\"https://wandb.ai/mrvplusone/SPOT-CodeT5-with_margin\" target=\"_blank\">Weights & Biases</a> (<a href=\"https://wandb.me/run\" target=\"_blank\">docs</a>)<br/>"
      ],
      "text/plain": [
       "<IPython.core.display.HTML object>"
      ]
     },
     "metadata": {},
     "output_type": "display_data"
    }
   ],
   "source": [
    "from datasets import Dataset\n",
    "\n",
    "import wandb\n",
    "\n",
    "if not load_trained:\n",
    "    n_train = tk_datasets[\"train\"].num_rows // 3\n",
    "    tk_datasets[\"train\"] = Dataset.from_dict(tk_datasets[\"train\"][1:n_train])\n",
    "\n",
    "    wandb.init(\n",
    "        project=f\"SPOT-CodeT5-{margin_tag}\",\n",
    "        config={\"train_data\": \"1/3\", \"ctx_margin\": ctx_margin},\n",
    "    )\n"
   ]
  },
  {
   "cell_type": "code",
   "execution_count": 11,
   "metadata": {},
   "outputs": [
    {
     "name": "stderr",
     "output_type": "stream",
     "text": [
      "Using amp half precision backend\n"
     ]
    }
   ],
   "source": [
    "from transformers import EarlyStoppingCallback, Seq2SeqTrainer, Seq2SeqTrainingArguments\n",
    "from transformers.trainer import Trainer\n",
    "\n",
    "data_collator = DataCollatorForSeq2Seq(tokenizer, model)\n",
    "for k, d in tk_datasets.items():\n",
    "    # tk_datasets[k] = d.remove_columns('types')\n",
    "    tk_datasets[k].set_format(\"torch\", columns=[\"input_ids\", \"labels\"])\n",
    "\n",
    "if not load_trained:\n",
    "    args = Seq2SeqTrainingArguments(\n",
    "        datadir / f\"checkpoints/SPOT-CodeT5-{margin_tag}\",\n",
    "        evaluation_strategy=\"steps\",\n",
    "        eval_steps=100,\n",
    "        logging_steps=100,\n",
    "        prediction_loss_only=True,\n",
    "        save_strategy=\"steps\",\n",
    "        save_steps=500,\n",
    "        save_total_limit=3,\n",
    "        learning_rate=2e-5,\n",
    "        per_device_train_batch_size=32,\n",
    "        per_device_eval_batch_size=64,\n",
    "        weight_decay=0.01,\n",
    "        num_train_epochs=10,\n",
    "        load_best_model_at_end=True,\n",
    "        fp16=True,\n",
    "        push_to_hub=False,\n",
    "        report_to=\"wandb\",\n",
    "    )\n",
    "\n",
    "    trainer: Trainer = Seq2SeqTrainer(\n",
    "        model,\n",
    "        args,\n",
    "        train_dataset=tk_datasets[\"train\"],\n",
    "        eval_dataset=tk_datasets[\"valid\"],\n",
    "        data_collator=data_collator,\n",
    "        tokenizer=tokenizer,\n",
    "        callbacks=[EarlyStoppingCallback(2)],\n",
    "    )\n"
   ]
  },
  {
   "cell_type": "code",
   "execution_count": 12,
   "metadata": {},
   "outputs": [
    {
     "name": "stderr",
     "output_type": "stream",
     "text": [
      "***** Running Evaluation *****\n",
      "  Num examples = 4818\n",
      "  Batch size = 64\n",
      "/home/jiayi/Projects/SPOT/.venv/lib/python3.10/site-packages/torch/nn/parallel/_functions.py:68: UserWarning: Was asked to gather along dimension 0, but all input tensors were scalars; will instead unsqueeze and return a vector.\n",
      "  warnings.warn('Was asked to gather along dimension 0, but all '\n"
     ]
    },
    {
     "data": {
      "text/html": [
       "\n",
       "    <div>\n",
       "      \n",
       "      <progress value='76' max='38' style='width:300px; height:20px; vertical-align: middle;'></progress>\n",
       "      [38/38 02:55]\n",
       "    </div>\n",
       "    "
      ],
      "text/plain": [
       "<IPython.core.display.HTML object>"
      ]
     },
     "metadata": {},
     "output_type": "display_data"
    },
    {
     "name": "stderr",
     "output_type": "stream",
     "text": [
      "Automatic Weights & Biases logging enabled, to disable set os.environ[\"WANDB_DISABLED\"] = \"true\"\n",
      "/home/jiayi/Projects/SPOT/.venv/lib/python3.10/site-packages/transformers/optimization.py:306: FutureWarning: This implementation of AdamW is deprecated and will be removed in a future version. Use the PyTorch implementation torch.optim.AdamW instead, or set `no_deprecation_warning=True` to disable this warning\n",
      "  warnings.warn(\n",
      "***** Running training *****\n",
      "  Num examples = 24266\n",
      "  Num Epochs = 10\n",
      "  Instantaneous batch size per device = 32\n",
      "  Total train batch size (w. parallel, distributed & accumulation) = 64\n",
      "  Gradient Accumulation steps = 1\n",
      "  Total optimization steps = 3800\n"
     ]
    },
    {
     "name": "stdout",
     "output_type": "stream",
     "text": [
      "initial performance: {'eval_loss': 1.841802954673767, 'eval_runtime': 35.2092, 'eval_samples_per_second': 136.839, 'eval_steps_per_second': 1.079}\n"
     ]
    },
    {
     "data": {
      "text/html": [
       "\n",
       "    <div>\n",
       "      \n",
       "      <progress value='1200' max='3800' style='width:300px; height:20px; vertical-align: middle;'></progress>\n",
       "      [1200/3800 28:29 < 1:01:50, 0.70 it/s, Epoch 3/10]\n",
       "    </div>\n",
       "    <table border=\"1\" class=\"dataframe\">\n",
       "  <thead>\n",
       " <tr style=\"text-align: left;\">\n",
       "      <th>Step</th>\n",
       "      <th>Training Loss</th>\n",
       "      <th>Validation Loss</th>\n",
       "    </tr>\n",
       "  </thead>\n",
       "  <tbody>\n",
       "    <tr>\n",
       "      <td>100</td>\n",
       "      <td>0.701300</td>\n",
       "      <td>0.579331</td>\n",
       "    </tr>\n",
       "    <tr>\n",
       "      <td>200</td>\n",
       "      <td>0.516500</td>\n",
       "      <td>0.549614</td>\n",
       "    </tr>\n",
       "    <tr>\n",
       "      <td>300</td>\n",
       "      <td>0.474900</td>\n",
       "      <td>0.534947</td>\n",
       "    </tr>\n",
       "    <tr>\n",
       "      <td>400</td>\n",
       "      <td>0.433500</td>\n",
       "      <td>0.527596</td>\n",
       "    </tr>\n",
       "    <tr>\n",
       "      <td>500</td>\n",
       "      <td>0.382900</td>\n",
       "      <td>0.529907</td>\n",
       "    </tr>\n",
       "    <tr>\n",
       "      <td>600</td>\n",
       "      <td>0.375600</td>\n",
       "      <td>0.517477</td>\n",
       "    </tr>\n",
       "    <tr>\n",
       "      <td>700</td>\n",
       "      <td>0.356300</td>\n",
       "      <td>0.516439</td>\n",
       "    </tr>\n",
       "    <tr>\n",
       "      <td>800</td>\n",
       "      <td>0.335000</td>\n",
       "      <td>0.522821</td>\n",
       "    </tr>\n",
       "    <tr>\n",
       "      <td>900</td>\n",
       "      <td>0.300300</td>\n",
       "      <td>0.513431</td>\n",
       "    </tr>\n",
       "    <tr>\n",
       "      <td>1000</td>\n",
       "      <td>0.313500</td>\n",
       "      <td>0.512348</td>\n",
       "    </tr>\n",
       "    <tr>\n",
       "      <td>1100</td>\n",
       "      <td>0.295600</td>\n",
       "      <td>0.526196</td>\n",
       "    </tr>\n",
       "    <tr>\n",
       "      <td>1200</td>\n",
       "      <td>0.265600</td>\n",
       "      <td>0.533746</td>\n",
       "    </tr>\n",
       "  </tbody>\n",
       "</table><p>"
      ],
      "text/plain": [
       "<IPython.core.display.HTML object>"
      ]
     },
     "metadata": {},
     "output_type": "display_data"
    },
    {
     "name": "stderr",
     "output_type": "stream",
     "text": [
      "***** Running Evaluation *****\n",
      "  Num examples = 4818\n",
      "  Batch size = 64\n",
      "***** Running Evaluation *****\n",
      "  Num examples = 4818\n",
      "  Batch size = 64\n",
      "***** Running Evaluation *****\n",
      "  Num examples = 4818\n",
      "  Batch size = 64\n",
      "***** Running Evaluation *****\n",
      "  Num examples = 4818\n",
      "  Batch size = 64\n",
      "***** Running Evaluation *****\n",
      "  Num examples = 4818\n",
      "  Batch size = 64\n",
      "Saving model checkpoint to /mnt/data0/jiayi/checkpoints/SPOT-CodeT5-with_margin/checkpoint-500\n",
      "Configuration saved in /mnt/data0/jiayi/checkpoints/SPOT-CodeT5-with_margin/checkpoint-500/config.json\n",
      "/home/jiayi/Projects/SPOT/.venv/lib/python3.10/site-packages/torch/nn/modules/module.py:1402: UserWarning: positional arguments and argument \"destination\" are deprecated. nn.Module.state_dict will not accept them in the future. Refer to https://pytorch.org/docs/master/generated/torch.nn.Module.html#torch.nn.Module.state_dict for details.\n",
      "  warnings.warn(\n",
      "Model weights saved in /mnt/data0/jiayi/checkpoints/SPOT-CodeT5-with_margin/checkpoint-500/pytorch_model.bin\n",
      "tokenizer config file saved in /mnt/data0/jiayi/checkpoints/SPOT-CodeT5-with_margin/checkpoint-500/tokenizer_config.json\n",
      "Special tokens file saved in /mnt/data0/jiayi/checkpoints/SPOT-CodeT5-with_margin/checkpoint-500/special_tokens_map.json\n",
      "/home/jiayi/Projects/SPOT/.venv/lib/python3.10/site-packages/torch/nn/parallel/_functions.py:68: UserWarning: Was asked to gather along dimension 0, but all input tensors were scalars; will instead unsqueeze and return a vector.\n",
      "  warnings.warn('Was asked to gather along dimension 0, but all '\n",
      "***** Running Evaluation *****\n",
      "  Num examples = 4818\n",
      "  Batch size = 64\n",
      "***** Running Evaluation *****\n",
      "  Num examples = 4818\n",
      "  Batch size = 64\n",
      "***** Running Evaluation *****\n",
      "  Num examples = 4818\n",
      "  Batch size = 64\n",
      "***** Running Evaluation *****\n",
      "  Num examples = 4818\n",
      "  Batch size = 64\n",
      "***** Running Evaluation *****\n",
      "  Num examples = 4818\n",
      "  Batch size = 64\n",
      "Saving model checkpoint to /mnt/data0/jiayi/checkpoints/SPOT-CodeT5-with_margin/checkpoint-1000\n",
      "Configuration saved in /mnt/data0/jiayi/checkpoints/SPOT-CodeT5-with_margin/checkpoint-1000/config.json\n",
      "/home/jiayi/Projects/SPOT/.venv/lib/python3.10/site-packages/torch/nn/modules/module.py:1402: UserWarning: positional arguments and argument \"destination\" are deprecated. nn.Module.state_dict will not accept them in the future. Refer to https://pytorch.org/docs/master/generated/torch.nn.Module.html#torch.nn.Module.state_dict for details.\n",
      "  warnings.warn(\n",
      "Model weights saved in /mnt/data0/jiayi/checkpoints/SPOT-CodeT5-with_margin/checkpoint-1000/pytorch_model.bin\n",
      "tokenizer config file saved in /mnt/data0/jiayi/checkpoints/SPOT-CodeT5-with_margin/checkpoint-1000/tokenizer_config.json\n",
      "Special tokens file saved in /mnt/data0/jiayi/checkpoints/SPOT-CodeT5-with_margin/checkpoint-1000/special_tokens_map.json\n",
      "/home/jiayi/Projects/SPOT/.venv/lib/python3.10/site-packages/torch/nn/parallel/_functions.py:68: UserWarning: Was asked to gather along dimension 0, but all input tensors were scalars; will instead unsqueeze and return a vector.\n",
      "  warnings.warn('Was asked to gather along dimension 0, but all '\n",
      "***** Running Evaluation *****\n",
      "  Num examples = 4818\n",
      "  Batch size = 64\n",
      "***** Running Evaluation *****\n",
      "  Num examples = 4818\n",
      "  Batch size = 64\n",
      "\n",
      "\n",
      "Training completed. Do not forget to share your model on huggingface.co/models =)\n",
      "\n",
      "\n",
      "Loading best model from /mnt/data0/jiayi/checkpoints/SPOT-CodeT5-with_margin/checkpoint-1000 (score: 0.5123476982116699).\n"
     ]
    }
   ],
   "source": [
    "if not load_trained:\n",
    "    init_perf = trainer.evaluate(max_length=max_target_length)\n",
    "    print(\"initial performance:\", init_perf)\n",
    "    trainer.train()\n"
   ]
  },
  {
   "cell_type": "code",
   "execution_count": 13,
   "metadata": {},
   "outputs": [
    {
     "name": "stderr",
     "output_type": "stream",
     "text": [
      "***** Running Evaluation *****\n",
      "  Num examples = 4818\n",
      "  Batch size = 64\n"
     ]
    },
    {
     "data": {
      "text/html": [
       "\n",
       "    <div>\n",
       "      \n",
       "      <progress value='38' max='38' style='width:300px; height:20px; vertical-align: middle;'></progress>\n",
       "      [38/38 00:33]\n",
       "    </div>\n",
       "    "
      ],
      "text/plain": [
       "<IPython.core.display.HTML object>"
      ]
     },
     "metadata": {},
     "output_type": "display_data"
    },
    {
     "name": "stdout",
     "output_type": "stream",
     "text": [
      "Final performance: {'eval_loss': 0.5123476982116699, 'eval_runtime': 33.9115, 'eval_samples_per_second': 142.076, 'eval_steps_per_second': 1.121, 'epoch': 3.16}\n"
     ]
    }
   ],
   "source": [
    "if not load_trained:\n",
    "    print(\"Final performance:\", trainer.evaluate(max_length=max_target_length))\n"
   ]
  },
  {
   "cell_type": "code",
   "execution_count": 22,
   "metadata": {},
   "outputs": [
    {
     "name": "stderr",
     "output_type": "stream",
     "text": [
      "PyTorch: setting up devices\n",
      "The default value for the training argument `--report_to` will change in v5 (from all installed integrations to none). In v5, you will need to use `--report_to all` to get the same behavior as now. You should start updating your code and make this info disappear :-).\n",
      "Using amp half precision backend\n",
      "The following columns in the evaluation set  don't have a corresponding argument in `T5ForConditionalGeneration.forward` and have been ignored: types_cat, types. If types_cat, types are not expected by `T5ForConditionalGeneration.forward`,  you can safely ignore this message.\n",
      "***** Running Evaluation *****\n",
      "  Num examples = 3956\n",
      "  Batch size = 16\n",
      "/home/jiayi/Projects/SPOT/.venv/lib/python3.10/site-packages/torch/nn/parallel/_functions.py:68: UserWarning: Was asked to gather along dimension 0, but all input tensors were scalars; will instead unsqueeze and return a vector.\n",
      "  warnings.warn('Was asked to gather along dimension 0, but all '\n"
     ]
    },
    {
     "data": {
      "text/html": [
       "\n",
       "    <div>\n",
       "      \n",
       "      <progress value='4' max='124' style='width:300px; height:20px; vertical-align: middle;'></progress>\n",
       "      [  4/124 00:24 < 16:00, 0.12 it/s]\n",
       "    </div>\n",
       "    "
      ],
      "text/plain": [
       "<IPython.core.display.HTML object>"
      ]
     },
     "metadata": {},
     "output_type": "display_data"
    }
   ],
   "source": [
    "# test accuracy on the test set\n",
    "import matplotlib.pyplot as plt\n",
    "import numpy as np\n",
    "from datasets import Dataset\n",
    "from sklearn.metrics import ConfusionMatrixDisplay\n",
    "from transformers import EvalPrediction, Seq2SeqTrainer, Seq2SeqTrainingArguments\n",
    "from transformers.trainer import Trainer\n",
    "\n",
    "from spot.model import compute_metrics\n",
    "from spot import AnnotCat\n",
    "\n",
    "eval_testrun = False\n",
    "\n",
    "testset = tk_datasets[\"test\"]\n",
    "if eval_testrun:\n",
    "    testset = Dataset.from_dict(tk_datasets[\"test\"][:100])\n",
    "testset.set_format(None)\n",
    "test_cats = [[AnnotCat(i) for i in row] for row in testset[\"types_cat\"]]\n",
    "testset.set_format(\"torch\", columns=[\"input_ids\", \"labels\"])\n",
    "max_target_length = 160\n",
    "\n",
    "test_args = Seq2SeqTrainingArguments(\n",
    "    datadir / f\"checkpoints/test/SPOT-CodeT5-{margin_tag}\",\n",
    "    per_device_eval_batch_size=16,\n",
    "    fp16=True,\n",
    "    eval_accumulation_steps=8,\n",
    "    predict_with_generate=True,\n",
    "    generation_max_length=max_target_length,\n",
    "    generation_num_beams=10,\n",
    ")\n",
    "\n",
    "\n",
    "test_trainer: Trainer = Seq2SeqTrainer(\n",
    "    model,\n",
    "    args=test_args,\n",
    "    data_collator=DataCollatorForSeq2Seq(tokenizer, model),\n",
    "    tokenizer=tokenizer,\n",
    "    compute_metrics=lambda e: compute_metrics(\n",
    "        e.predictions, e.label_ids, test_cats, tokenizer\n",
    "    ),\n",
    ")\n",
    "\n",
    "eval_result = test_trainer.evaluate(testset, metric_key_prefix=\"test\")\n"
   ]
  },
  {
   "cell_type": "code",
   "execution_count": null,
   "metadata": {},
   "outputs": [
    {
     "name": "stdout",
     "output_type": "stream",
     "text": [
      "loss: 0.4949595630168915\n",
      "n_predictions: 400\n",
      "n_labels: 400\n",
      "accuracy_partial:\n",
      "    total: 0.72\n",
      "    FuncArg: 0.7112299465240641\n",
      "    FuncReturn: 0.8106060606060606\n",
      "    LocalVar: 0.8333333333333334\n",
      "    ClassAtribute: 0.5507246376811594\n",
      "accuracy_full:\n",
      "    total: 0.6375\n",
      "    FuncArg: 0.6149732620320856\n",
      "    FuncReturn: 0.7424242424242424\n",
      "    LocalVar: 0.5\n",
      "    ClassAtribute: 0.5217391304347826\n"
     ]
    },
    {
     "data": {
      "image/png": "[encoded data removed]",
      "text/plain": [
       "<Figure size 720x720 with 1 Axes>"
      ]
     },
     "metadata": {
      "needs_background": "light"
     },
     "output_type": "display_data"
    },
    {
     "data": {
      "text/plain": [
       "       label  accuracy  count\n",
       "0        str  0.831683    101\n",
       "1       List  0.758621     58\n",
       "2        int  0.447368     38\n",
       "3   Optional  0.548387     31\n",
       "4       None  0.962963     27\n",
       "5       Dict  0.900000     20\n",
       "6       bool  0.850000     20\n",
       "7       Path  0.800000     10\n",
       "8  Islanders  0.500000     10\n",
       "9   Iterator  0.666667      9"
      ]
     },
     "metadata": {},
     "output_type": "display_data"
    }
   ],
   "source": [
    "from IPython.display import display_pretty\n",
    "\n",
    "from spot.type_env import normalize_type_name\n",
    "from spot.utils import accuracy_by_labels, confusion_matrix_top_k\n",
    "\n",
    "ConfusionMatrixDisplay.from_predictions\n",
    "\n",
    "\n",
    "def display_conf_matrix(conf_matrix: dict):\n",
    "    match conf_matrix:\n",
    "        case {\"matrix\": cm, \"labels\": labels}:\n",
    "            n_labels = len(labels)\n",
    "            fig, ax = plt.subplots(figsize=(n_labels, n_labels))\n",
    "            disp = ConfusionMatrixDisplay(confusion_matrix=cm, display_labels=labels)\n",
    "            disp.plot(cmap=\"Reds\", values_format=\".2f\", ax=ax, colorbar=False)\n",
    "            plt.title(\"Normalized confusion matrix\")\n",
    "            plt.show()\n",
    "\n",
    "\n",
    "for k in [\"loss\", \"n_predictions\", \"n_labels\"]:\n",
    "    print(f\"{k}:\", eval_result[f\"test_{k}\"])\n",
    "for k in [\"accuracy_partial\", \"accuracy_full\"]:\n",
    "    print(f\"{k}:\")\n",
    "    for k2, v in eval_result[f\"test_{k}\"].items():\n",
    "        print(f\"    {k2}: {v}\")\n",
    "\n",
    "pred_types = list(map(normalize_type_name, eval_result[\"test_pred_types\"]))\n",
    "label_types = list(map(normalize_type_name, eval_result[\"test_label_types\"]))\n",
    "conf_matrix = confusion_matrix_top_k(pred_types, label_types, 10)\n",
    "display_conf_matrix(conf_matrix)\n",
    "accs = accuracy_by_labels(pred_types, label_types, 10)\n",
    "stats = []\n",
    "for t, n in Counter(label_types).most_common(10):\n",
    "    stats.append({\"label\": t, \"accuracy\": accs[t], \"count\": n})\n",
    "display_pretty(pd.DataFrame(stats))\n"
   ]
  },
  {
   "cell_type": "code",
   "execution_count": null,
   "metadata": {},
   "outputs": [
    {
     "data": {
      "text/html": [
       "Waiting for W&B process to finish... <strong style=\"color:green\">(success).</strong>"
      ],
      "text/plain": [
       "<IPython.core.display.HTML object>"
      ]
     },
     "metadata": {},
     "output_type": "display_data"
    },
    {
     "data": {
      "application/vnd.jupyter.widget-view+json": {
       "model_id": "b1b7c86a41be49ddad8a12f4401c11c9",
       "version_major": 2,
       "version_minor": 0
      },
      "text/plain": [
       "VBox(children=(Label(value='0.001 MB of 0.001 MB uploaded (0.000 MB deduped)\\r'), FloatProgress(value=1.0, max…"
      ]
     },
     "metadata": {},
     "output_type": "display_data"
    },
    {
     "data": {
      "text/html": [
       "<style>\n",
       "    table.wandb td:nth-child(1) { padding: 0 10px; text-align: right }\n",
       "    .wandb-row { display: flex; flex-direction: row; flex-wrap: wrap; width: 100% }\n",
       "    .wandb-col { display: flex; flex-direction: column; flex-basis: 100%; flex: 1; padding: 10px; }\n",
       "    </style>\n",
       "<div class=\"wandb-row\"><div class=\"wandb-col\"><h3>Run history:</h3><br/><table class=\"wandb\"><tr><td>eval/loss</td><td>█▂▁▁▁▁▁▁▁▁▁▁▁▁▁▁▁▁▁</td></tr><tr><td>eval/runtime</td><td>█▁▁▂▁▁▁▁▁▁▂▁▁▁▂▂▁▂▁</td></tr><tr><td>eval/samples_per_second</td><td>▁██▇██████▇███▇▇█▇█</td></tr><tr><td>eval/steps_per_second</td><td>▁██▇██████▇███▇▇█▇█</td></tr><tr><td>test/accuracy_full</td><td>▁</td></tr><tr><td>test/accuracy_partial</td><td>▁</td></tr><tr><td>test/loss</td><td>▁</td></tr><tr><td>test/n_labels</td><td>▁</td></tr><tr><td>test/n_predictions</td><td>▁</td></tr><tr><td>test/runtime</td><td>▁</td></tr><tr><td>test/samples_per_second</td><td>▁</td></tr><tr><td>test/steps_per_second</td><td>▁</td></tr><tr><td>train/epoch</td><td>▁▁▁▁▂▂▂▂▃▃▃▃▄▄▄▄▅▅▅▅▅▅▆▆▆▆▇▇▇▇██████</td></tr><tr><td>train/global_step</td><td>▁▁▁▂▂▂▂▃▃▃▃▃▃▄▄▄▄▅▅▅▅▆▆▆▆▆▆▇▇▇▇██████▁</td></tr><tr><td>train/learning_rate</td><td>██▇▇▆▆▅▅▅▄▄▃▃▂▂▁▁</td></tr><tr><td>train/loss</td><td>█▅▄▄▃▃▃▃▂▂▂▂▁▁▁▁▁</td></tr><tr><td>train/total_flos</td><td>▁</td></tr><tr><td>train/train_loss</td><td>▁</td></tr><tr><td>train/train_runtime</td><td>▁</td></tr><tr><td>train/train_samples_per_second</td><td>▁</td></tr><tr><td>train/train_steps_per_second</td><td>▁</td></tr></table><br/></div><div class=\"wandb-col\"><h3>Run summary:</h3><br/><table class=\"wandb\"><tr><td>eval/loss</td><td>0.45976</td></tr><tr><td>eval/runtime</td><td>33.8908</td></tr><tr><td>eval/samples_per_second</td><td>142.162</td></tr><tr><td>eval/steps_per_second</td><td>1.121</td></tr><tr><td>test/accuracy_full</td><td>0.6955</td></tr><tr><td>test/accuracy_partial</td><td>0.76764</td></tr><tr><td>test/loss</td><td>0.46713</td></tr><tr><td>test/n_labels</td><td>17770</td></tr><tr><td>test/n_predictions</td><td>17761</td></tr><tr><td>test/runtime</td><td>1490.8825</td></tr><tr><td>test/samples_per_second</td><td>2.653</td></tr><tr><td>test/steps_per_second</td><td>0.083</td></tr><tr><td>train/epoch</td><td>1.4</td></tr><tr><td>train/global_step</td><td>0</td></tr><tr><td>train/learning_rate</td><td>1e-05</td></tr><tr><td>train/loss</td><td>0.3887</td></tr><tr><td>train/total_flos</td><td>6.208995547938816e+16</td></tr><tr><td>train/train_loss</td><td>0.48702</td></tr><tr><td>train/train_runtime</td><td>2349.1256</td></tr><tr><td>train/train_samples_per_second</td><td>92.972</td></tr><tr><td>train/train_steps_per_second</td><td>1.55</td></tr></table><br/></div></div>"
      ],
      "text/plain": [
       "<IPython.core.display.HTML object>"
      ]
     },
     "metadata": {},
     "output_type": "display_data"
    },
    {
     "data": {
      "text/html": [
       "Synced <strong style=\"color:#cdcd00\">colorful-feather-1</strong>: <a href=\"https://wandb.ai/mrvplusone/SPOT-CodeT5-with_margin/runs/22faijlt\" target=\"_blank\">https://wandb.ai/mrvplusone/SPOT-CodeT5-with_margin/runs/22faijlt</a><br/>Synced 5 W&B file(s), 0 media file(s), 0 artifact file(s) and 0 other file(s)"
      ],
      "text/plain": [
       "<IPython.core.display.HTML object>"
      ]
     },
     "metadata": {},
     "output_type": "display_data"
    },
    {
     "data": {
      "text/html": [
       "Find logs at: <code>./wandb/run-20220503_001243-22faijlt/logs</code>"
      ],
      "text/plain": [
       "<IPython.core.display.HTML object>"
      ]
     },
     "metadata": {},
     "output_type": "display_data"
    }
   ],
   "source": [
    "wandb.finish()\n"
   ]
  },
  {
   "cell_type": "code",
   "execution_count": 53,
   "metadata": {},
   "outputs": [
    {
     "data": {
      "text/plain": [
       "[('Union', 53),\n",
       " ('Optional', 34),\n",
       " ('str', 29),\n",
       " ('List', 16),\n",
       " ('Any', 13),\n",
       " ('T', 13),\n",
       " ('Tuple', 8),\n",
       " ('Expr', 8),\n",
       " ('Dict', 7),\n",
       " ('int', 6),\n",
       " ('bool', 5),\n",
       " ('SpecialForm', 5),\n",
       " ('Response', 4),\n",
       " ('HttpStatusCode', 3),\n",
       " ('TypingType', 2),\n",
       " ('float', 2),\n",
       " ('bytes', 2),\n",
       " ('TripDistance', 2),\n",
       " ('AvroModel', 2),\n",
       " ('BytesIO', 2),\n",
       " ('Iterable', 2),\n",
       " ('Symbol', 2),\n",
       " ('Form', 2),\n",
       " ('OASFileType', 1),\n",
       " ('Type', 1),\n",
       " ('None', 1),\n",
       " ('UnusableDataSource', 1),\n",
       " ('Vec3D', 1),\n",
       " ('Session', 1),\n",
       " ('datetime', 1),\n",
       " ('StrIntT', 1),\n",
       " ('Tensor', 1),\n",
       " ('CrawlOut', 1),\n",
       " ('S3Storage', 1),\n",
       " ('DefaultStorage', 1),\n",
       " ('Storage', 1),\n",
       " ('UserTypeEnum', 1),\n",
       " ('AvroField', 1),\n",
       " ('date', 1),\n",
       " ('LogicalTypes', 1),\n",
       " ('Keyword', 1),\n",
       " ('LispReaderForm', 1),\n",
       " ('Namespace', 1),\n",
       " ('IPersistentList', 1),\n",
       " ('DefTypeASTGenerator', 1),\n",
       " ('FunctionDef', 1),\n",
       " ('ISeq', 1),\n",
       " ('Set', 1),\n",
       " ('MetaGetter', 1),\n",
       " ('IForm', 1),\n",
       " ('HostField', 1),\n",
       " ('VarRef', 1),\n",
       " ('Local', 1),\n",
       " ('PyDict', 1),\n",
       " ('RV', 1),\n",
       " ('Xlsb', 1),\n",
       " ('BufferedIOBase', 1),\n",
       " ('Iterator', 1),\n",
       " ('SyntaxNode', 1),\n",
       " ('LookMlNode', 1),\n",
       " ('IO', 1),\n",
       " ('DataType', 1)]"
      ]
     },
     "execution_count": 53,
     "metadata": {},
     "output_type": "execute_result"
    }
   ],
   "source": [
    "preds_for_compile_fn = Counter()\n",
    "for p, l in zip(pred_types, label_types):\n",
    "    l: str\n",
    "    if l.strip().endswith(\"Union\"):\n",
    "        preds_for_compile_fn[p.strip()] += 1\n",
    "\n",
    "preds_for_compile_fn.most_common()\n"
   ]
  }
 ],
 "metadata": {
  "interpreter": {
   "hash": "f6ffc72953da4dd16b2e00785be9c4013ef131f465a8658f3921b6634d4eeec8"
  },
  "kernelspec": {
   "display_name": "Python 3.9.7 ('.venv': pipenv)",
   "language": "python",
   "name": "python3"
  },
  "language_info": {
   "codemirror_mode": {
    "name": "ipython",
    "version": 3
   },
   "file_extension": ".py",
   "mimetype": "text/x-python",
   "name": "python",
   "nbconvert_exporter": "python",
   "pygments_lexer": "ipython3",
   "version": "3.10.4"
  },
  "orig_nbformat": 4
 },
 "nbformat": 4,
 "nbformat_minor": 2
}
