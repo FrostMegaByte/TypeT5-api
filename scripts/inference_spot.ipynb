{
 "cells": [
  {
   "cell_type": "code",
   "execution_count": 1,
   "metadata": {},
   "outputs": [],
   "source": [
    "%load_ext autoreload\n",
    "%autoreload 2\n",
    "\n",
    "import os\n",
    "from pathlib import Path\n",
    "from typing import *\n",
    "\n",
    "from spot.utils import proj_root, get_data_dir\n",
    "\n",
    "os.chdir(proj_root())\n",
    "\n",
    "datadir = get_data_dir()\n",
    "repos_dir = datadir / \"SPOT-data/repos\""
   ]
  },
  {
   "cell_type": "code",
   "execution_count": 2,
   "metadata": {},
   "outputs": [
    {
     "name": "stderr",
     "output_type": "stream",
     "text": [
      "/home/jiayi/Projects/SPOT/.venv/lib/python3.10/site-packages/torchvision/io/image.py:13: UserWarning: Failed to load image Python extension: libtorch_cuda_cu.so: cannot open shared object file: No such file or directory\n",
      "  warn(f\"Failed to load image Python extension: {e}\")\n"
     ]
    },
    {
     "name": "stdout",
     "output_type": "stream",
     "text": [
      "Loading datasets:  src_datasets-all_labels-drop_comments\n"
     ]
    }
   ],
   "source": [
    "# experiment configurations\n",
    "\n",
    "import torch\n",
    "\n",
    "from spot.data import (\n",
    "    SrcDataset,\n",
    "    get_dataset_name,\n",
    "    load_src_datasets,\n",
    ")\n",
    "from copy import copy\n",
    "from spot.train import TrainingConfig, TypeCheckArgs\n",
    "\n",
    "config = TrainingConfig(quicktest=False, all_labels=True)\n",
    "train_R1: bool = True\n",
    "gpu_id = 1\n",
    "\n",
    "project_name = \"test-SPOT\" if config.quicktest else \"SPOT\"\n",
    "train_ctx_args = config.train_ctx_args()\n",
    "\n",
    "max_tokens_per_file = config.ctx_size\n",
    "\n",
    "datasets_name = get_dataset_name(\n",
    "    drop_comments=config.drop_comments,\n",
    "    all_labels=config.all_labels,\n",
    ")\n",
    "\n",
    "tc_args = TypeCheckArgs(check_in_isolation=config.check_in_isolation)\n",
    "\n",
    "r0_model_name = \"R0-model--\" + config._replace(quicktest=False).as_name()\n",
    "\n",
    "src_datasets = load_src_datasets(\n",
    "    datadir,\n",
    "    datasets_name,\n",
    "    data_reduction=config.data_reduction,\n",
    "    repos_root=datadir / \"SPOT-data/repos\",\n",
    "    quicktest=config.quicktest,\n",
    ")\n"
   ]
  },
  {
   "cell_type": "code",
   "execution_count": 3,
   "metadata": {},
   "outputs": [
    {
     "name": "stdout",
     "output_type": "stream",
     "text": [
      "DecodingArgs(ctx_args=CtxArgs(ctx_size=4096, left_margin=2048, right_margin=1024), sampling_max_tokens=32768, max_workers=20)\n"
     ]
    }
   ],
   "source": [
    "# load trained model\n",
    "from spot.utils import pickle_load, pickle_dump\n",
    "from spot.model import ModelWrapper\n",
    "\n",
    "\n",
    "r0_wrapper = ModelWrapper.from_pretrained(\n",
    "    datadir / f\"checkpoints/lit-saved/{r0_model_name}\"\n",
    ")\n",
    "# if train_R1:\n",
    "#     r0_extra = pickle_load(datadir / f\"checkpoints/lit-saved/{r0_model_name}/extra.pkl\")\n",
    "#     r1_src_datasets: dict[str, SrcDataset] = r0_extra[\"R1-src_datasets\"]\n",
    "device = torch.device(f\"cuda:{gpu_id}\" if torch.cuda.is_available() else \"cpu\")\n",
    "r0_wrapper.to(device)\n",
    "print(r0_wrapper.args)\n"
   ]
  },
  {
   "cell_type": "code",
   "execution_count": 4,
   "metadata": {},
   "outputs": [
    {
     "name": "stdout",
     "output_type": "stream",
     "text": [
      "Critics loaded.\n"
     ]
    }
   ],
   "source": [
    "# load the critics\n",
    "\n",
    "from spot.critic import CriticModel\n",
    "\n",
    "critics = dict[bool, CriticModel]()\n",
    "for no_feedback in [True, False]:\n",
    "    feedback_tag = \"no_feedback-\" if no_feedback else \"\"\n",
    "    critic_name = (\n",
    "        \"critic-model--\" + feedback_tag + config._replace(quicktest=False).as_name()\n",
    "    )\n",
    "    critic = CriticModel.load(datadir / f\"checkpoints/lit-saved/{critic_name}\")\n",
    "    critic.to(device)\n",
    "    critics[no_feedback] = critic\n",
    "print(\"Critics loaded.\")\n"
   ]
  },
  {
   "cell_type": "code",
   "execution_count": 27,
   "metadata": {},
   "outputs": [
    {
     "name": "stderr",
     "output_type": "stream",
     "text": [
      "WARNING:root:No cache found at: /home/jiayi/Projects/SPOT/caches/inference_spot/R0-model--all_labels=True, skip clearing.\n"
     ]
    },
    {
     "name": "stdout",
     "output_type": "stream",
     "text": [
      "Starting task: Computing results\n"
     ]
    },
    {
     "name": "stderr",
     "output_type": "stream",
     "text": [
      "chunk_srcs_per_file: 100%|██████████| 94/94 [00:01<00:00, 59.63it/s]\n",
      "verify_labels: 100%|██████████| 179/179 [00:00<00:00, 15879.79it/s]\n",
      "predict: 100%|██████████| 179/179 [05:05<00:00,  1.71s/it]\n",
      "map type_check_src_in_project: 100%|██████████| 2864/2864 [04:20<00:00, 10.98it/s]"
     ]
    },
    {
     "name": "stdout",
     "output_type": "stream",
     "text": [
      "Type checking success rate: 100.00%\n",
      "Average number of feedbacks per check: 1.50\n"
     ]
    },
    {
     "name": "stderr",
     "output_type": "stream",
     "text": [
      "\n",
      "map to_critic_inputs: 100%|██████████| 2864/2864 [03:12<00:00, 14.90it/s]\n",
      "predict: 100%|██████████| 2993/2993 [07:00<00:00,  7.12it/s] \n"
     ]
    },
    {
     "name": "stdout",
     "output_type": "stream",
     "text": [
      "Average number of errors after selection: 0.88268156424581\n",
      "Pushover: (Finished: 'Computing results'.) Time taken: 1189.2s\n"
     ]
    }
   ],
   "source": [
    "# compute results\n",
    "from spot.decode import (\n",
    "    sample_candidates,\n",
    "    select_candidates_by_type_errors,\n",
    "    select_candidates_using_oracle,\n",
    "    select_candidates_using_critic,\n",
    "    select_first_candidates,\n",
    ")\n",
    "from spot.train import evaluate_model\n",
    "from spot.model import DatasetPredResult\n",
    "from spot.utils import pretty_print_dict, run_long_task, PickleCache\n",
    "from spot.model import CtxArgs, DecodingArgs, ModelSPOT\n",
    "\n",
    "testset = src_datasets[\"test\"][1:-1:10]\n",
    "\n",
    "# used for inference\n",
    "n_samples = 16\n",
    "greedy_args = DecodingArgs(\n",
    "    sampling_max_tokens=8 * max_tokens_per_file,\n",
    "    ctx_args=config.dec_ctx_args(),\n",
    "    max_workers=28,\n",
    "    do_sample=False,\n",
    ")\n",
    "\n",
    "sample_args = DecodingArgs(\n",
    "    sampling_max_tokens=8 * max_tokens_per_file,\n",
    "    ctx_args=config.dec_ctx_args(),\n",
    "    max_workers=28,\n",
    "    do_sample=True,\n",
    "    top_p=0.9,\n",
    ")\n",
    "\n",
    "bs_args = DecodingArgs(\n",
    "    sampling_max_tokens=max_tokens_per_file,\n",
    "    ctx_args=config.dec_ctx_args(),\n",
    "    max_workers=28,\n",
    "    do_sample=False,\n",
    "    num_beams=n_samples,\n",
    ")\n",
    "\n",
    "dbs_args = DecodingArgs(\n",
    "    sampling_max_tokens=max_tokens_per_file,\n",
    "    ctx_args=config.dec_ctx_args(),\n",
    "    max_workers=28,\n",
    "    do_sample=False,\n",
    "    num_beams=n_samples,\n",
    "    num_beam_groups=n_samples,\n",
    "    diversity_penalty=0.5,\n",
    ")\n",
    "\n",
    "\n",
    "def critic_result_name(no_feedback: bool) -> str:\n",
    "    return \"Critic (no feedback)\" if no_feedback else \"Critic\"\n",
    "\n",
    "\n",
    "results = dict[str, DatasetPredResult]()\n",
    "\n",
    "eval_cache = PickleCache(proj_root() / \"caches\" / \"inference_spot\" / r0_model_name)\n",
    "# eval_cache.clear()\n",
    "\n",
    "def score_transform(x: float):\n",
    "    if x <= 0.25:\n",
    "        return x - 0.25\n",
    "    if x >= 0.75:\n",
    "        return x - 0.75\n",
    "    return 0.0\n",
    "\n",
    "with run_long_task(\"Computing results\"):\n",
    "    # r0_wrapper.args = greedy_args\n",
    "    # results[\"greedy\"] = evaluate_model(r0_wrapper, None, testset, eval_cache=eval_cache, tc_args=tc_args)[0][1]\n",
    "\n",
    "    # r0_wrapper.args = bs_args\n",
    "    # results[\"BS\"] = evaluate_model(r0_wrapper, None, testset, eval_cache=eval_cache, tc_args=tc_args)[0][1]\n",
    "\n",
    "    r0_wrapper.args = bs_args\n",
    "    test_chunks, pred_candidates = eval_cache.cached(\n",
    "        \"sample_candidates\",\n",
    "        lambda: sample_candidates(r0_wrapper, testset, n_samples=n_samples),\n",
    "    )\n",
    "\n",
    "    results[\"BS\"] = select_first_candidates(test_chunks, pred_candidates)\n",
    "\n",
    "    # sample_eval = select_candidates_by_type_errors(testset, test_chunks, pred_candidates)\n",
    "    # results[\"Counting\"] = sample_eval\n",
    "\n",
    "    for no_feedback in [False]:  # [True, False]:\n",
    "        critic = critics[no_feedback]\n",
    "        sample_eval = select_candidates_using_critic(\n",
    "            critic,\n",
    "            no_feedback,\n",
    "            testset,\n",
    "            test_chunks,\n",
    "            pred_candidates,\n",
    "            dec_args=greedy_args,\n",
    "            score_transform=score_transform,\n",
    "        )\n",
    "        results[critic_result_name(no_feedback)] = sample_eval\n",
    "\n",
    "    oracle_eval = select_candidates_using_oracle(test_chunks, pred_candidates)\n",
    "    results[\"Oracle\"] = oracle_eval\n"
   ]
  },
  {
   "cell_type": "code",
   "execution_count": 37,
   "metadata": {},
   "outputs": [
    {
     "name": "stderr",
     "output_type": "stream",
     "text": [
      "map type_check_src_in_project: 100%|██████████| 2864/2864 [04:21<00:00, 10.96it/s]\n"
     ]
    },
    {
     "name": "stdout",
     "output_type": "stream",
     "text": [
      "Type checking success rate: 100.00%\n",
      "Average number of feedbacks per check: 1.50\n"
     ]
    },
    {
     "name": "stderr",
     "output_type": "stream",
     "text": [
      "map to_critic_inputs: 100%|██████████| 2864/2864 [03:14<00:00, 14.69it/s]\n",
      "classify_data: 100%|██████████| 2993/2993 [07:00<00:00,  7.12it/s] "
     ]
    },
    {
     "name": "stdout",
     "output_type": "stream",
     "text": [
      "Average number of errors after selection: 0.8379888268156425\n"
     ]
    },
    {
     "name": "stderr",
     "output_type": "stream",
     "text": [
      "\n"
     ]
    }
   ],
   "source": [
    "def score_transform(x: float):\n",
    "    if x <= 0.1:\n",
    "        return -1.0\n",
    "    if x >= 0.9:\n",
    "        return 1.0\n",
    "    return 0.0\n",
    "\n",
    "for no_feedback in [False]:  # [True, False]:\n",
    "    critic = critics[no_feedback]\n",
    "    sample_eval = select_candidates_using_critic(\n",
    "        critic,\n",
    "        no_feedback,\n",
    "        testset,\n",
    "        test_chunks,\n",
    "        pred_candidates,\n",
    "        dec_args=greedy_args,\n",
    "        score_transform=score_transform,\n",
    "    )\n",
    "    results[critic_result_name(no_feedback)] = sample_eval"
   ]
  },
  {
   "cell_type": "code",
   "execution_count": 39,
   "metadata": {},
   "outputs": [
    {
     "data": {
      "text/html": [
       "<!DOCTYPE html>\n",
       "<html lang=\"en\">\n",
       "<head>\n",
       "    <meta charset=\"UTF-8\">\n",
       "    <title>IPyWidget export</title>\n",
       "</head>\n",
       "<body>\n",
       "\n",
       "\n",
       "<!-- Load require.js. Delete this if your page already loads require.js -->\n",
       "<script src=\"https://cdnjs.cloudflare.com/ajax/libs/require.js/2.3.4/require.min.js\" integrity=\"sha256-Ae2Vz/4ePdIu6ZyI/5ZGsYnb+m0JlOmKPjt6XZ9JJkA=\" crossorigin=\"anonymous\"></script>\n",
       "<script src=\"https://unpkg.com/@jupyter-widgets/html-manager@^0.20.1/dist/embed-amd.js\" crossorigin=\"anonymous\"></script>\n",
       "\n",
       "<script type=\"application/vnd.jupyter.widget-state+json\">\n",
       "{\n",
       "  \"version_major\": 2,\n",
       "  \"version_minor\": 0,\n",
       "  \"state\": {\n",
       "    \"0adc8509b12246d39d5c6f6140f6d97f\": {\n",
       "      \"model_name\": \"LayoutModel\",\n",
       "      \"model_module\": \"@jupyter-widgets/base\",\n",
       "      \"model_module_version\": \"1.2.0\",\n",
       "      \"state\": {}\n",
       "    },\n",
       "    \"23b8c3efef2e45c7a5948f33f78d4221\": {\n",
       "      \"model_name\": \"DescriptionStyleModel\",\n",
       "      \"model_module\": \"@jupyter-widgets/controls\",\n",
       "      \"model_module_version\": \"1.5.0\",\n",
       "      \"state\": {}\n",
       "    },\n",
       "    \"6fc774181aa34060bbc971de5b987485\": {\n",
       "      \"model_name\": \"HTMLModel\",\n",
       "      \"model_module\": \"@jupyter-widgets/controls\",\n",
       "      \"model_module_version\": \"1.5.0\",\n",
       "      \"state\": {\n",
       "        \"_dom_classes\": [],\n",
       "        \"layout\": \"IPY_MODEL_0adc8509b12246d39d5c6f6140f6d97f\",\n",
       "        \"style\": \"IPY_MODEL_23b8c3efef2e45c7a5948f33f78d4221\",\n",
       "        \"value\": \"<div style='white-space: pre-wrap; line-height: 1.2; font-family: monospace, monospace;'>By rank: ...\\nBy score: ...\\n</div>\"\n",
       "      }\n",
       "    },\n",
       "    \"19ecee06424d4aefbb124c14ad13598f\": {\n",
       "      \"model_name\": \"LayoutModel\",\n",
       "      \"model_module\": \"@jupyter-widgets/base\",\n",
       "      \"model_module_version\": \"1.2.0\",\n",
       "      \"state\": {}\n",
       "    },\n",
       "    \"bb4db7e7bae340578aa64612e5a0c473\": {\n",
       "      \"model_name\": \"DescriptionStyleModel\",\n",
       "      \"model_module\": \"@jupyter-widgets/controls\",\n",
       "      \"model_module_version\": \"1.5.0\",\n",
       "      \"state\": {}\n",
       "    },\n",
       "    \"180654fe2b734f9da67fb7541cc0ab38\": {\n",
       "      \"model_name\": \"HTMLModel\",\n",
       "      \"model_module\": \"@jupyter-widgets/controls\",\n",
       "      \"model_module_version\": \"1.5.0\",\n",
       "      \"state\": {\n",
       "        \"_dom_classes\": [],\n",
       "        \"layout\": \"IPY_MODEL_19ecee06424d4aefbb124c14ad13598f\",\n",
       "        \"style\": \"IPY_MODEL_bb4db7e7bae340578aa64612e5a0c473\",\n",
       "        \"value\": \"<div style='white-space: pre-wrap; line-height: 1.2; font-family: monospace, monospace;'>By rank:\\n   0: 65.34% (count=1.9k)\\n   1: 62.15% (count=1.9k)\\n   2: 60.88% (count=1.9k)\\n   3: 60.08% (count=1.9k)\\n   4: 60.03% (count=1.9k)\\n   5: 59.39% (count=1.9k)\\n   6: 59.08% (count=1.9k)\\n   7: 59.45% (count=1.9k)\\n   8: 59.82% (count=1.9k)\\n   9: 58.76% (count=1.9k)\\n   10: 58.65% (count=1.9k)\\n   11: 59.39% (count=1.9k)\\n   12: 59.71% (count=1.9k)\\n   13: 58.23% (count=1.9k)\\n   14: 59.02% (count=1.9k)\\n   15: 59.24% (count=1.9k)\\nBy score:\\n   0.0: 13.79% (count=3.8k)\\n   0.1: 24.00% (count=1.1k)\\n   0.2: 22.95% (count=1.1k)\\n   0.3: 26.86% (count=942)\\n   0.4: 29.71% (count=1.5k)\\n   0.5: 33.56% (count=1.8k)\\n   0.6: 46.88% (count=1.9k)\\n   0.7: 67.14% (count=2.4k)\\n   0.8: 70.00% (count=3.1k)\\n   0.9: 88.32% (count=12.5k)\\n</div>\"\n",
       "      }\n",
       "    },\n",
       "    \"b7314ed93b8f4dcca92b9ec0c836b961\": {\n",
       "      \"model_name\": \"LayoutModel\",\n",
       "      \"model_module\": \"@jupyter-widgets/base\",\n",
       "      \"model_module_version\": \"1.2.0\",\n",
       "      \"state\": {}\n",
       "    },\n",
       "    \"78541bdf6c194d778a302b5cbb20ff37\": {\n",
       "      \"model_name\": \"TabModel\",\n",
       "      \"model_module\": \"@jupyter-widgets/controls\",\n",
       "      \"model_module_version\": \"1.5.0\",\n",
       "      \"state\": {\n",
       "        \"_dom_classes\": [],\n",
       "        \"_titles\": {\n",
       "          \"0\": \"Compressed\",\n",
       "          \"1\": \"Expanded\"\n",
       "        },\n",
       "        \"children\": [\n",
       "          \"IPY_MODEL_6fc774181aa34060bbc971de5b987485\",\n",
       "          \"IPY_MODEL_180654fe2b734f9da67fb7541cc0ab38\"\n",
       "        ],\n",
       "        \"layout\": \"IPY_MODEL_b7314ed93b8f4dcca92b9ec0c836b961\"\n",
       "      }\n",
       "    },\n",
       "    \"4e6095858c994a0d84d98324e44bc1ad\": {\n",
       "      \"model_name\": \"LayoutModel\",\n",
       "      \"model_module\": \"@jupyter-widgets/base\",\n",
       "      \"model_module_version\": \"1.2.0\",\n",
       "      \"state\": {}\n",
       "    },\n",
       "    \"6c3bf4ed318b46978bb4fe6ae77be7f1\": {\n",
       "      \"model_name\": \"DescriptionStyleModel\",\n",
       "      \"model_module\": \"@jupyter-widgets/controls\",\n",
       "      \"model_module_version\": \"1.5.0\",\n",
       "      \"state\": {}\n",
       "    },\n",
       "    \"c13d6123eba24c0cbd867d3cf219f4b9\": {\n",
       "      \"model_name\": \"HTMLModel\",\n",
       "      \"model_module\": \"@jupyter-widgets/controls\",\n",
       "      \"model_module_version\": \"1.5.0\",\n",
       "      \"state\": {\n",
       "        \"_dom_classes\": [],\n",
       "        \"layout\": \"IPY_MODEL_4e6095858c994a0d84d98324e44bc1ad\",\n",
       "        \"style\": \"IPY_MODEL_6c3bf4ed318b46978bb4fe6ae77be7f1\",\n",
       "        \"value\": \"<div style='white-space: pre-wrap; line-height: 1.2; font-family: monospace, monospace;'>Model acc by rank: ...\\nModel acc by score: ...\\nCritic acc by rank: ...\\nCritic acc by score: ...\\n</div>\"\n",
       "      }\n",
       "    },\n",
       "    \"ebd998d9a0d04ab693c7fde70d8ab54f\": {\n",
       "      \"model_name\": \"LayoutModel\",\n",
       "      \"model_module\": \"@jupyter-widgets/base\",\n",
       "      \"model_module_version\": \"1.2.0\",\n",
       "      \"state\": {}\n",
       "    },\n",
       "    \"abdf968b1804498c965f14920a16f62b\": {\n",
       "      \"model_name\": \"DescriptionStyleModel\",\n",
       "      \"model_module\": \"@jupyter-widgets/controls\",\n",
       "      \"model_module_version\": \"1.5.0\",\n",
       "      \"state\": {}\n",
       "    },\n",
       "    \"568a5fe8828f4253a602e103b1a0482b\": {\n",
       "      \"model_name\": \"HTMLModel\",\n",
       "      \"model_module\": \"@jupyter-widgets/controls\",\n",
       "      \"model_module_version\": \"1.5.0\",\n",
       "      \"state\": {\n",
       "        \"_dom_classes\": [],\n",
       "        \"layout\": \"IPY_MODEL_ebd998d9a0d04ab693c7fde70d8ab54f\",\n",
       "        \"style\": \"IPY_MODEL_abdf968b1804498c965f14920a16f62b\",\n",
       "        \"value\": \"<div style='white-space: pre-wrap; line-height: 1.2; font-family: monospace, monospace;'>Model acc by rank:\\n   0: 65.34% (count=1.9k)\\n   1: 62.15% (count=1.9k)\\n   2: 60.88% (count=1.9k)\\n   3: 60.08% (count=1.9k)\\n   4: 60.03% (count=1.9k)\\n   5: 59.39% (count=1.9k)\\n   6: 59.08% (count=1.9k)\\n   7: 59.45% (count=1.9k)\\n   8: 59.82% (count=1.9k)\\n   9: 58.76% (count=1.9k)\\n   10: 58.65% (count=1.9k)\\n   11: 59.39% (count=1.9k)\\n   12: 59.71% (count=1.9k)\\n   13: 58.23% (count=1.9k)\\n   14: 59.02% (count=1.9k)\\n   15: 59.24% (count=1.9k)\\nModel acc by score:\\n   0.0: 13.79% (count=3.8k)\\n   0.1: 24.00% (count=1.1k)\\n   0.2: 22.95% (count=1.1k)\\n   0.3: 26.86% (count=942)\\n   0.4: 29.71% (count=1.5k)\\n   0.5: 33.56% (count=1.8k)\\n   0.6: 46.88% (count=1.9k)\\n   0.7: 67.14% (count=2.4k)\\n   0.8: 70.00% (count=3.1k)\\n   0.9: 88.32% (count=12.5k)\\nCritic acc by rank:\\n   0: 76.96% (count=1.9k)\\n   1: 75.96% (count=1.9k)\\n   2: 76.91% (count=1.9k)\\n   3: 76.38% (count=1.9k)\\n   4: 76.43% (count=1.9k)\\n   5: 75.69% (count=1.9k)\\n   6: 76.96% (count=1.9k)\\n   7: 77.55% (count=1.9k)\\n   8: 76.59% (count=1.9k)\\n   9: 76.38% (count=1.9k)\\n   10: 76.22% (count=1.9k)\\n   11: 76.86% (count=1.9k)\\n   12: 76.01% (count=1.9k)\\n   13: 74.42% (count=1.9k)\\n   14: 76.70% (count=1.9k)\\n   15: 77.18% (count=1.9k)\\nCritic acc by score:\\n   0.0: 86.21% (count=3.8k)\\n   0.1: 76.00% (count=1.1k)\\n   0.2: 77.05% (count=1.1k)\\n   0.3: 73.14% (count=942)\\n   0.4: 70.29% (count=1.5k)\\n   0.5: 33.67% (count=1.8k)\\n   0.6: 46.88% (count=1.9k)\\n   0.7: 67.14% (count=2.4k)\\n   0.8: 70.00% (count=3.1k)\\n   0.9: 88.32% (count=12.5k)\\n</div>\"\n",
       "      }\n",
       "    },\n",
       "    \"c4fda012735047a4ba4af4044e88aa2a\": {\n",
       "      \"model_name\": \"LayoutModel\",\n",
       "      \"model_module\": \"@jupyter-widgets/base\",\n",
       "      \"model_module_version\": \"1.2.0\",\n",
       "      \"state\": {}\n",
       "    },\n",
       "    \"ced6b3b0d0614d199d61b4f8ca93236b\": {\n",
       "      \"model_name\": \"TabModel\",\n",
       "      \"model_module\": \"@jupyter-widgets/controls\",\n",
       "      \"model_module_version\": \"1.5.0\",\n",
       "      \"state\": {\n",
       "        \"_dom_classes\": [],\n",
       "        \"_titles\": {\n",
       "          \"0\": \"Compressed\",\n",
       "          \"1\": \"Expanded\"\n",
       "        },\n",
       "        \"children\": [\n",
       "          \"IPY_MODEL_c13d6123eba24c0cbd867d3cf219f4b9\",\n",
       "          \"IPY_MODEL_568a5fe8828f4253a602e103b1a0482b\"\n",
       "        ],\n",
       "        \"layout\": \"IPY_MODEL_c4fda012735047a4ba4af4044e88aa2a\"\n",
       "      }\n",
       "    },\n",
       "    \"c6338e92558b46aeab8045dedb50012b\": {\n",
       "      \"model_name\": \"LayoutModel\",\n",
       "      \"model_module\": \"@jupyter-widgets/base\",\n",
       "      \"model_module_version\": \"1.2.0\",\n",
       "      \"state\": {}\n",
       "    },\n",
       "    \"8de16851e2a44cda8910d350312cfc5f\": {\n",
       "      \"model_name\": \"DescriptionStyleModel\",\n",
       "      \"model_module\": \"@jupyter-widgets/controls\",\n",
       "      \"model_module_version\": \"1.5.0\",\n",
       "      \"state\": {}\n",
       "    },\n",
       "    \"bdbeabfe2adb435faac5d3cbd4e96c34\": {\n",
       "      \"model_name\": \"HTMLModel\",\n",
       "      \"model_module\": \"@jupyter-widgets/controls\",\n",
       "      \"model_module_version\": \"1.5.0\",\n",
       "      \"state\": {\n",
       "        \"_dom_classes\": [],\n",
       "        \"layout\": \"IPY_MODEL_c6338e92558b46aeab8045dedb50012b\",\n",
       "        \"style\": \"IPY_MODEL_8de16851e2a44cda8910d350312cfc5f\",\n",
       "        \"value\": \"<div style='white-space: pre-wrap; line-height: 1.2; font-family: monospace, monospace;'>Model acc by rank: ...\\nModel acc by score: ...\\nCritic acc by rank: ...\\nCritic acc by score: ...\\n</div>\"\n",
       "      }\n",
       "    },\n",
       "    \"cebc1b7b835a4fbfbedc32f8b365efa4\": {\n",
       "      \"model_name\": \"LayoutModel\",\n",
       "      \"model_module\": \"@jupyter-widgets/base\",\n",
       "      \"model_module_version\": \"1.2.0\",\n",
       "      \"state\": {}\n",
       "    },\n",
       "    \"ef3e1a3a87ee479eb5fe245281e75169\": {\n",
       "      \"model_name\": \"DescriptionStyleModel\",\n",
       "      \"model_module\": \"@jupyter-widgets/controls\",\n",
       "      \"model_module_version\": \"1.5.0\",\n",
       "      \"state\": {}\n",
       "    },\n",
       "    \"4e933fb103c3487da929cf71eb010147\": {\n",
       "      \"model_name\": \"HTMLModel\",\n",
       "      \"model_module\": \"@jupyter-widgets/controls\",\n",
       "      \"model_module_version\": \"1.5.0\",\n",
       "      \"state\": {\n",
       "        \"_dom_classes\": [],\n",
       "        \"layout\": \"IPY_MODEL_cebc1b7b835a4fbfbedc32f8b365efa4\",\n",
       "        \"style\": \"IPY_MODEL_ef3e1a3a87ee479eb5fe245281e75169\",\n",
       "        \"value\": \"<div style='white-space: pre-wrap; line-height: 1.2; font-family: monospace, monospace;'>Model acc by rank:\\n   0: 65.34% (count=1.9k)\\n   1: 62.15% (count=1.9k)\\n   2: 60.88% (count=1.9k)\\n   3: 60.08% (count=1.9k)\\n   4: 60.03% (count=1.9k)\\n   5: 59.39% (count=1.9k)\\n   6: 59.08% (count=1.9k)\\n   7: 59.45% (count=1.9k)\\n   8: 59.82% (count=1.9k)\\n   9: 58.76% (count=1.9k)\\n   10: 58.65% (count=1.9k)\\n   11: 59.39% (count=1.9k)\\n   12: 59.71% (count=1.9k)\\n   13: 58.23% (count=1.9k)\\n   14: 59.02% (count=1.9k)\\n   15: 59.24% (count=1.9k)\\nModel acc by score:\\n   0.0: 9.07% (count=3.1k)\\n   0.05: 32.23% (count=782)\\n   0.1: 22.42% (count=571)\\n   0.15: 25.70% (count=533)\\n   0.2: 25.80% (count=566)\\n   0.25: 19.72% (count=497)\\n   0.3: 27.40% (count=489)\\n   0.35: 26.27% (count=453)\\n   0.4: 31.90% (count=652)\\n   0.45: 28.01% (count=846)\\n   0.5: 35.77% (count=794)\\n   0.55: 31.76% (count=973)\\n   0.6: 40.19% (count=826)\\n   0.65: 52.14% (count=1.1k)\\n   0.7: 61.40% (count=1.1k)\\n   0.75: 72.09% (count=1.3k)\\n   0.8: 70.26% (count=1.5k)\\n   0.85: 69.74% (count=1.6k)\\n   0.9: 74.04% (count=2.4k)\\n   0.95: 91.67% (count=10.1k)\\nCritic acc by rank:\\n   0: 76.96% (count=1.9k)\\n   1: 75.96% (count=1.9k)\\n   2: 76.91% (count=1.9k)\\n   3: 76.38% (count=1.9k)\\n   4: 76.43% (count=1.9k)\\n   5: 75.69% (count=1.9k)\\n   6: 76.96% (count=1.9k)\\n   7: 77.55% (count=1.9k)\\n   8: 76.59% (count=1.9k)\\n   9: 76.38% (count=1.9k)\\n   10: 76.22% (count=1.9k)\\n   11: 76.86% (count=1.9k)\\n   12: 76.01% (count=1.9k)\\n   13: 74.42% (count=1.9k)\\n   14: 76.70% (count=1.9k)\\n   15: 77.18% (count=1.9k)\\nCritic acc by score:\\n   0.0: 90.93% (count=3.1k)\\n   0.05: 67.77% (count=782)\\n   0.1: 77.58% (count=571)\\n   0.15: 74.30% (count=533)\\n   0.2: 74.20% (count=566)\\n   0.25: 80.28% (count=497)\\n   0.3: 72.60% (count=489)\\n   0.35: 73.73% (count=453)\\n   0.4: 68.10% (count=652)\\n   0.45: 71.99% (count=846)\\n   0.5: 36.02% (count=794)\\n   0.55: 31.76% (count=973)\\n   0.6: 40.19% (count=826)\\n   0.65: 52.14% (count=1.1k)\\n   0.7: 61.40% (count=1.1k)\\n   0.75: 72.09% (count=1.3k)\\n   0.8: 70.26% (count=1.5k)\\n   0.85: 69.74% (count=1.6k)\\n   0.9: 74.04% (count=2.4k)\\n   0.95: 91.67% (count=10.1k)\\n</div>\"\n",
       "      }\n",
       "    },\n",
       "    \"20496fe50fdc4ba6adef60bdc822c84c\": {\n",
       "      \"model_name\": \"LayoutModel\",\n",
       "      \"model_module\": \"@jupyter-widgets/base\",\n",
       "      \"model_module_version\": \"1.2.0\",\n",
       "      \"state\": {}\n",
       "    },\n",
       "    \"ff2365ab7bb74427ac22924429664f72\": {\n",
       "      \"model_name\": \"TabModel\",\n",
       "      \"model_module\": \"@jupyter-widgets/controls\",\n",
       "      \"model_module_version\": \"1.5.0\",\n",
       "      \"state\": {\n",
       "        \"_dom_classes\": [],\n",
       "        \"_titles\": {\n",
       "          \"0\": \"Compressed\",\n",
       "          \"1\": \"Expanded\"\n",
       "        },\n",
       "        \"children\": [\n",
       "          \"IPY_MODEL_bdbeabfe2adb435faac5d3cbd4e96c34\",\n",
       "          \"IPY_MODEL_4e933fb103c3487da929cf71eb010147\"\n",
       "        ],\n",
       "        \"layout\": \"IPY_MODEL_20496fe50fdc4ba6adef60bdc822c84c\"\n",
       "      }\n",
       "    },\n",
       "    \"b1e7d739974049689329055800bd0509\": {\n",
       "      \"model_name\": \"LayoutModel\",\n",
       "      \"model_module\": \"@jupyter-widgets/base\",\n",
       "      \"model_module_version\": \"1.2.0\",\n",
       "      \"state\": {}\n",
       "    },\n",
       "    \"bed0906cca844810ad3d7bd896df99ca\": {\n",
       "      \"model_name\": \"DescriptionStyleModel\",\n",
       "      \"model_module\": \"@jupyter-widgets/controls\",\n",
       "      \"model_module_version\": \"1.5.0\",\n",
       "      \"state\": {}\n",
       "    },\n",
       "    \"99247122f1f14d56a21fd5632c07d8cc\": {\n",
       "      \"model_name\": \"HTMLModel\",\n",
       "      \"model_module\": \"@jupyter-widgets/controls\",\n",
       "      \"model_module_version\": \"1.5.0\",\n",
       "      \"state\": {\n",
       "        \"_dom_classes\": [],\n",
       "        \"layout\": \"IPY_MODEL_b1e7d739974049689329055800bd0509\",\n",
       "        \"style\": \"IPY_MODEL_bed0906cca844810ad3d7bd896df99ca\",\n",
       "        \"value\": \"<div style='white-space: pre-wrap; line-height: 1.2; font-family: monospace, monospace;'>Model acc by rank: ...\\nModel acc by score: ...\\nCritic acc by rank: ...\\nCritic acc by score: ...\\n</div>\"\n",
       "      }\n",
       "    },\n",
       "    \"d7ea6c80e61f44eaaeecb242d5a7e18a\": {\n",
       "      \"model_name\": \"LayoutModel\",\n",
       "      \"model_module\": \"@jupyter-widgets/base\",\n",
       "      \"model_module_version\": \"1.2.0\",\n",
       "      \"state\": {}\n",
       "    },\n",
       "    \"a436f2b5529948aeb9e5df5c6c7151fc\": {\n",
       "      \"model_name\": \"DescriptionStyleModel\",\n",
       "      \"model_module\": \"@jupyter-widgets/controls\",\n",
       "      \"model_module_version\": \"1.5.0\",\n",
       "      \"state\": {}\n",
       "    },\n",
       "    \"c7f68cbd20744da8b87710aedcd5bcd8\": {\n",
       "      \"model_name\": \"HTMLModel\",\n",
       "      \"model_module\": \"@jupyter-widgets/controls\",\n",
       "      \"model_module_version\": \"1.5.0\",\n",
       "      \"state\": {\n",
       "        \"_dom_classes\": [],\n",
       "        \"layout\": \"IPY_MODEL_d7ea6c80e61f44eaaeecb242d5a7e18a\",\n",
       "        \"style\": \"IPY_MODEL_a436f2b5529948aeb9e5df5c6c7151fc\",\n",
       "        \"value\": \"<div style='white-space: pre-wrap; line-height: 1.2; font-family: monospace, monospace;'>Model acc by rank:\\n   0: 65.34% (count=1.9k)\\n   1: 62.15% (count=1.9k)\\n   2: 60.88% (count=1.9k)\\n   3: 60.08% (count=1.9k)\\n   4: 60.03% (count=1.9k)\\n   5: 59.39% (count=1.9k)\\n   6: 59.08% (count=1.9k)\\n   7: 59.45% (count=1.9k)\\n   8: 59.82% (count=1.9k)\\n   9: 58.76% (count=1.9k)\\n   10: 58.65% (count=1.9k)\\n   11: 59.39% (count=1.9k)\\n   12: 59.71% (count=1.9k)\\n   13: 58.23% (count=1.9k)\\n   14: 59.02% (count=1.9k)\\n   15: 59.24% (count=1.9k)\\nModel acc by score:\\n   0.000000%: 9.07% (count=3.1k)\\n   10.000000%: 22.42% (count=571)\\n   15.000000%: 25.70% (count=533)\\n   20.000000%: 25.80% (count=566)\\n   25.000000%: 19.72% (count=497)\\n   30.000000%: 27.40% (count=489)\\n   35.000000%: 26.27% (count=453)\\n   40.000000%: 31.90% (count=652)\\n   45.000000%: 28.01% (count=846)\\n   5.000000%: 32.23% (count=782)\\n   50.000000%: 35.77% (count=794)\\n   55.000000%: 31.76% (count=973)\\n   60.000000%: 40.19% (count=826)\\n   65.000000%: 52.14% (count=1.1k)\\n   70.000000%: 61.40% (count=1.1k)\\n   75.000000%: 72.09% (count=1.3k)\\n   80.000000%: 70.26% (count=1.5k)\\n   85.000000%: 69.74% (count=1.6k)\\n   90.000000%: 74.04% (count=2.4k)\\n   95.000000%: 91.67% (count=10.1k)\\nCritic acc by rank:\\n   0: 76.96% (count=1.9k)\\n   1: 75.96% (count=1.9k)\\n   2: 76.91% (count=1.9k)\\n   3: 76.38% (count=1.9k)\\n   4: 76.43% (count=1.9k)\\n   5: 75.69% (count=1.9k)\\n   6: 76.96% (count=1.9k)\\n   7: 77.55% (count=1.9k)\\n   8: 76.59% (count=1.9k)\\n   9: 76.38% (count=1.9k)\\n   10: 76.22% (count=1.9k)\\n   11: 76.86% (count=1.9k)\\n   12: 76.01% (count=1.9k)\\n   13: 74.42% (count=1.9k)\\n   14: 76.70% (count=1.9k)\\n   15: 77.18% (count=1.9k)\\nCritic acc by score:\\n   0.000000%: 90.93% (count=3.1k)\\n   10.000000%: 77.58% (count=571)\\n   15.000000%: 74.30% (count=533)\\n   20.000000%: 74.20% (count=566)\\n   25.000000%: 80.28% (count=497)\\n   30.000000%: 72.60% (count=489)\\n   35.000000%: 73.73% (count=453)\\n   40.000000%: 68.10% (count=652)\\n   45.000000%: 71.99% (count=846)\\n   5.000000%: 67.77% (count=782)\\n   50.000000%: 36.02% (count=794)\\n   55.000000%: 31.76% (count=973)\\n   60.000000%: 40.19% (count=826)\\n   65.000000%: 52.14% (count=1.1k)\\n   70.000000%: 61.40% (count=1.1k)\\n   75.000000%: 72.09% (count=1.3k)\\n   80.000000%: 70.26% (count=1.5k)\\n   85.000000%: 69.74% (count=1.6k)\\n   90.000000%: 74.04% (count=2.4k)\\n   95.000000%: 91.67% (count=10.1k)\\n</div>\"\n",
       "      }\n",
       "    },\n",
       "    \"062545b3798a4bbd8227be04dfa17ea1\": {\n",
       "      \"model_name\": \"LayoutModel\",\n",
       "      \"model_module\": \"@jupyter-widgets/base\",\n",
       "      \"model_module_version\": \"1.2.0\",\n",
       "      \"state\": {}\n",
       "    },\n",
       "    \"8b5117ad178742ee9f493630833c1894\": {\n",
       "      \"model_name\": \"TabModel\",\n",
       "      \"model_module\": \"@jupyter-widgets/controls\",\n",
       "      \"model_module_version\": \"1.5.0\",\n",
       "      \"state\": {\n",
       "        \"_dom_classes\": [],\n",
       "        \"_titles\": {\n",
       "          \"0\": \"Compressed\",\n",
       "          \"1\": \"Expanded\"\n",
       "        },\n",
       "        \"children\": [\n",
       "          \"IPY_MODEL_99247122f1f14d56a21fd5632c07d8cc\",\n",
       "          \"IPY_MODEL_c7f68cbd20744da8b87710aedcd5bcd8\"\n",
       "        ],\n",
       "        \"layout\": \"IPY_MODEL_062545b3798a4bbd8227be04dfa17ea1\"\n",
       "      }\n",
       "    },\n",
       "    \"f365cb8d6f9844999ead4e85f2827e0c\": {\n",
       "      \"model_name\": \"LayoutModel\",\n",
       "      \"model_module\": \"@jupyter-widgets/base\",\n",
       "      \"model_module_version\": \"1.2.0\",\n",
       "      \"state\": {}\n",
       "    },\n",
       "    \"b412d02554b14990ba0def81c610a2e1\": {\n",
       "      \"model_name\": \"DescriptionStyleModel\",\n",
       "      \"model_module\": \"@jupyter-widgets/controls\",\n",
       "      \"model_module_version\": \"1.5.0\",\n",
       "      \"state\": {}\n",
       "    },\n",
       "    \"16231b3afe1e45f5b0e2034e25ec64d0\": {\n",
       "      \"model_name\": \"HTMLModel\",\n",
       "      \"model_module\": \"@jupyter-widgets/controls\",\n",
       "      \"model_module_version\": \"1.5.0\",\n",
       "      \"state\": {\n",
       "        \"_dom_classes\": [],\n",
       "        \"layout\": \"IPY_MODEL_f365cb8d6f9844999ead4e85f2827e0c\",\n",
       "        \"style\": \"IPY_MODEL_b412d02554b14990ba0def81c610a2e1\",\n",
       "        \"value\": \"<div style='white-space: pre-wrap; line-height: 1.2; font-family: monospace, monospace;'>Model acc by rank: ...\\nModel acc by score: ...\\nCritic acc by rank: ...\\nCritic acc by score: ...\\n</div>\"\n",
       "      }\n",
       "    },\n",
       "    \"e18462eded3445d796b4bf9d051c9ce2\": {\n",
       "      \"model_name\": \"LayoutModel\",\n",
       "      \"model_module\": \"@jupyter-widgets/base\",\n",
       "      \"model_module_version\": \"1.2.0\",\n",
       "      \"state\": {}\n",
       "    },\n",
       "    \"d4462eb8ef80463f833f77f6586f47fc\": {\n",
       "      \"model_name\": \"DescriptionStyleModel\",\n",
       "      \"model_module\": \"@jupyter-widgets/controls\",\n",
       "      \"model_module_version\": \"1.5.0\",\n",
       "      \"state\": {}\n",
       "    },\n",
       "    \"54908641e4d94c66b5d64fc917ba0e66\": {\n",
       "      \"model_name\": \"HTMLModel\",\n",
       "      \"model_module\": \"@jupyter-widgets/controls\",\n",
       "      \"model_module_version\": \"1.5.0\",\n",
       "      \"state\": {\n",
       "        \"_dom_classes\": [],\n",
       "        \"layout\": \"IPY_MODEL_e18462eded3445d796b4bf9d051c9ce2\",\n",
       "        \"style\": \"IPY_MODEL_d4462eb8ef80463f833f77f6586f47fc\",\n",
       "        \"value\": \"<div style='white-space: pre-wrap; line-height: 1.2; font-family: monospace, monospace;'>Model acc by rank:\\n   0: 65.34% (count=1.9k)\\n   1: 62.15% (count=1.9k)\\n   2: 60.88% (count=1.9k)\\n   3: 60.08% (count=1.9k)\\n   4: 60.03% (count=1.9k)\\n   5: 59.39% (count=1.9k)\\n   6: 59.08% (count=1.9k)\\n   7: 59.45% (count=1.9k)\\n   8: 59.82% (count=1.9k)\\n   9: 58.76% (count=1.9k)\\n   10: 58.65% (count=1.9k)\\n   11: 59.39% (count=1.9k)\\n   12: 59.71% (count=1.9k)\\n   13: 58.23% (count=1.9k)\\n   14: 59.02% (count=1.9k)\\n   15: 59.24% (count=1.9k)\\nModel acc by score:\\n   0%: 9.07% (count=3.1k)\\n   10%: 22.42% (count=571)\\n   15%: 25.70% (count=533)\\n   20%: 25.80% (count=566)\\n   25%: 19.72% (count=497)\\n   30%: 27.40% (count=489)\\n   35%: 26.27% (count=453)\\n   40%: 31.90% (count=652)\\n   45%: 28.01% (count=846)\\n   5%: 32.23% (count=782)\\n   50%: 35.77% (count=794)\\n   55%: 31.76% (count=973)\\n   60%: 40.19% (count=826)\\n   65%: 52.14% (count=1.1k)\\n   70%: 61.40% (count=1.1k)\\n   75%: 72.09% (count=1.3k)\\n   80%: 70.26% (count=1.5k)\\n   85%: 69.74% (count=1.6k)\\n   90%: 74.04% (count=2.4k)\\n   95%: 91.67% (count=10.1k)\\nCritic acc by rank:\\n   0: 76.96% (count=1.9k)\\n   1: 75.96% (count=1.9k)\\n   2: 76.91% (count=1.9k)\\n   3: 76.38% (count=1.9k)\\n   4: 76.43% (count=1.9k)\\n   5: 75.69% (count=1.9k)\\n   6: 76.96% (count=1.9k)\\n   7: 77.55% (count=1.9k)\\n   8: 76.59% (count=1.9k)\\n   9: 76.38% (count=1.9k)\\n   10: 76.22% (count=1.9k)\\n   11: 76.86% (count=1.9k)\\n   12: 76.01% (count=1.9k)\\n   13: 74.42% (count=1.9k)\\n   14: 76.70% (count=1.9k)\\n   15: 77.18% (count=1.9k)\\nCritic acc by score:\\n   0%: 90.93% (count=3.1k)\\n   10%: 77.58% (count=571)\\n   15%: 74.30% (count=533)\\n   20%: 74.20% (count=566)\\n   25%: 80.28% (count=497)\\n   30%: 72.60% (count=489)\\n   35%: 73.73% (count=453)\\n   40%: 68.10% (count=652)\\n   45%: 71.99% (count=846)\\n   5%: 67.77% (count=782)\\n   50%: 36.02% (count=794)\\n   55%: 31.76% (count=973)\\n   60%: 40.19% (count=826)\\n   65%: 52.14% (count=1.1k)\\n   70%: 61.40% (count=1.1k)\\n   75%: 72.09% (count=1.3k)\\n   80%: 70.26% (count=1.5k)\\n   85%: 69.74% (count=1.6k)\\n   90%: 74.04% (count=2.4k)\\n   95%: 91.67% (count=10.1k)\\n</div>\"\n",
       "      }\n",
       "    },\n",
       "    \"ddddd91472c04460a6bb439fcc757888\": {\n",
       "      \"model_name\": \"LayoutModel\",\n",
       "      \"model_module\": \"@jupyter-widgets/base\",\n",
       "      \"model_module_version\": \"1.2.0\",\n",
       "      \"state\": {}\n",
       "    },\n",
       "    \"9cfc79f410f44eac910288084b2c367e\": {\n",
       "      \"model_name\": \"TabModel\",\n",
       "      \"model_module\": \"@jupyter-widgets/controls\",\n",
       "      \"model_module_version\": \"1.5.0\",\n",
       "      \"state\": {\n",
       "        \"_dom_classes\": [],\n",
       "        \"_titles\": {\n",
       "          \"0\": \"Compressed\",\n",
       "          \"1\": \"Expanded\"\n",
       "        },\n",
       "        \"children\": [\n",
       "          \"IPY_MODEL_16231b3afe1e45f5b0e2034e25ec64d0\",\n",
       "          \"IPY_MODEL_54908641e4d94c66b5d64fc917ba0e66\"\n",
       "        ],\n",
       "        \"layout\": \"IPY_MODEL_ddddd91472c04460a6bb439fcc757888\"\n",
       "      }\n",
       "    },\n",
       "    \"de3de2bf07ae4711a48bc53b4eb6c569\": {\n",
       "      \"model_name\": \"LayoutModel\",\n",
       "      \"model_module\": \"@jupyter-widgets/base\",\n",
       "      \"model_module_version\": \"1.2.0\",\n",
       "      \"state\": {}\n",
       "    },\n",
       "    \"7487cf86c4c543cf945884981c47fcf7\": {\n",
       "      \"model_name\": \"DescriptionStyleModel\",\n",
       "      \"model_module\": \"@jupyter-widgets/controls\",\n",
       "      \"model_module_version\": \"1.5.0\",\n",
       "      \"state\": {}\n",
       "    },\n",
       "    \"bdfc916505ae4a71a09ce8ba2f4c6864\": {\n",
       "      \"model_name\": \"HTMLModel\",\n",
       "      \"model_module\": \"@jupyter-widgets/controls\",\n",
       "      \"model_module_version\": \"1.5.0\",\n",
       "      \"state\": {\n",
       "        \"_dom_classes\": [],\n",
       "        \"layout\": \"IPY_MODEL_de3de2bf07ae4711a48bc53b4eb6c569\",\n",
       "        \"style\": \"IPY_MODEL_7487cf86c4c543cf945884981c47fcf7\",\n",
       "        \"value\": \"<div style='white-space: pre-wrap; line-height: 1.2; font-family: monospace, monospace;'>Model acc by rank: ...\\nModel acc by score: ...\\nCritic acc by rank: ...\\nCritic acc by score: ...\\n</div>\"\n",
       "      }\n",
       "    },\n",
       "    \"570782f6e7a940c293ca68aceae0680e\": {\n",
       "      \"model_name\": \"LayoutModel\",\n",
       "      \"model_module\": \"@jupyter-widgets/base\",\n",
       "      \"model_module_version\": \"1.2.0\",\n",
       "      \"state\": {}\n",
       "    },\n",
       "    \"763cb304249e423b98b824ecf24cc2b1\": {\n",
       "      \"model_name\": \"DescriptionStyleModel\",\n",
       "      \"model_module\": \"@jupyter-widgets/controls\",\n",
       "      \"model_module_version\": \"1.5.0\",\n",
       "      \"state\": {}\n",
       "    },\n",
       "    \"3d5aad815d294615b0f24e884f73cf30\": {\n",
       "      \"model_name\": \"HTMLModel\",\n",
       "      \"model_module\": \"@jupyter-widgets/controls\",\n",
       "      \"model_module_version\": \"1.5.0\",\n",
       "      \"state\": {\n",
       "        \"_dom_classes\": [],\n",
       "        \"layout\": \"IPY_MODEL_570782f6e7a940c293ca68aceae0680e\",\n",
       "        \"style\": \"IPY_MODEL_763cb304249e423b98b824ecf24cc2b1\",\n",
       "        \"value\": \"<div style='white-space: pre-wrap; line-height: 1.2; font-family: monospace, monospace;'>Model acc by rank:\\n   0: 65.34% (count=1.9k)\\n   1: 62.15% (count=1.9k)\\n   2: 60.88% (count=1.9k)\\n   3: 60.08% (count=1.9k)\\n   4: 60.03% (count=1.9k)\\n   5: 59.39% (count=1.9k)\\n   6: 59.08% (count=1.9k)\\n   7: 59.45% (count=1.9k)\\n   8: 59.82% (count=1.9k)\\n   9: 58.76% (count=1.9k)\\n   10: 58.65% (count=1.9k)\\n   11: 59.39% (count=1.9k)\\n   12: 59.71% (count=1.9k)\\n   13: 58.23% (count=1.9k)\\n   14: 59.02% (count=1.9k)\\n   15: 59.24% (count=1.9k)\\nModel acc by score:\\n   0.0%: 9.07% (count=3.1k)\\n   10.0%: 22.42% (count=571)\\n   15.0%: 25.70% (count=533)\\n   20.0%: 25.80% (count=566)\\n   25.0%: 19.72% (count=497)\\n   30.0%: 27.40% (count=489)\\n   35.0%: 26.27% (count=453)\\n   40.0%: 31.90% (count=652)\\n   45.0%: 28.01% (count=846)\\n   5.0%: 32.23% (count=782)\\n   50.0%: 35.77% (count=794)\\n   55.00000000000001%: 31.76% (count=973)\\n   60.0%: 40.19% (count=826)\\n   65.0%: 52.14% (count=1.1k)\\n   70.0%: 61.40% (count=1.1k)\\n   75.0%: 72.09% (count=1.3k)\\n   80.0%: 70.26% (count=1.5k)\\n   85.0%: 69.74% (count=1.6k)\\n   90.0%: 74.04% (count=2.4k)\\n   95.0%: 91.67% (count=10.1k)\\nCritic acc by rank:\\n   0: 76.96% (count=1.9k)\\n   1: 75.96% (count=1.9k)\\n   2: 76.91% (count=1.9k)\\n   3: 76.38% (count=1.9k)\\n   4: 76.43% (count=1.9k)\\n   5: 75.69% (count=1.9k)\\n   6: 76.96% (count=1.9k)\\n   7: 77.55% (count=1.9k)\\n   8: 76.59% (count=1.9k)\\n   9: 76.38% (count=1.9k)\\n   10: 76.22% (count=1.9k)\\n   11: 76.86% (count=1.9k)\\n   12: 76.01% (count=1.9k)\\n   13: 74.42% (count=1.9k)\\n   14: 76.70% (count=1.9k)\\n   15: 77.18% (count=1.9k)\\nCritic acc by score:\\n   0.0%: 90.93% (count=3.1k)\\n   10.0%: 77.58% (count=571)\\n   15.0%: 74.30% (count=533)\\n   20.0%: 74.20% (count=566)\\n   25.0%: 80.28% (count=497)\\n   30.0%: 72.60% (count=489)\\n   35.0%: 73.73% (count=453)\\n   40.0%: 68.10% (count=652)\\n   45.0%: 71.99% (count=846)\\n   5.0%: 67.77% (count=782)\\n   50.0%: 36.02% (count=794)\\n   55.00000000000001%: 31.76% (count=973)\\n   60.0%: 40.19% (count=826)\\n   65.0%: 52.14% (count=1.1k)\\n   70.0%: 61.40% (count=1.1k)\\n   75.0%: 72.09% (count=1.3k)\\n   80.0%: 70.26% (count=1.5k)\\n   85.0%: 69.74% (count=1.6k)\\n   90.0%: 74.04% (count=2.4k)\\n   95.0%: 91.67% (count=10.1k)\\n</div>\"\n",
       "      }\n",
       "    },\n",
       "    \"b944f7405b66432587ed00f1ab131972\": {\n",
       "      \"model_name\": \"LayoutModel\",\n",
       "      \"model_module\": \"@jupyter-widgets/base\",\n",
       "      \"model_module_version\": \"1.2.0\",\n",
       "      \"state\": {}\n",
       "    },\n",
       "    \"a998d7e439ff4fd194eb7e97489b1288\": {\n",
       "      \"model_name\": \"TabModel\",\n",
       "      \"model_module\": \"@jupyter-widgets/controls\",\n",
       "      \"model_module_version\": \"1.5.0\",\n",
       "      \"state\": {\n",
       "        \"_dom_classes\": [],\n",
       "        \"_titles\": {\n",
       "          \"0\": \"Compressed\",\n",
       "          \"1\": \"Expanded\"\n",
       "        },\n",
       "        \"children\": [\n",
       "          \"IPY_MODEL_bdfc916505ae4a71a09ce8ba2f4c6864\",\n",
       "          \"IPY_MODEL_3d5aad815d294615b0f24e884f73cf30\"\n",
       "        ],\n",
       "        \"layout\": \"IPY_MODEL_b944f7405b66432587ed00f1ab131972\"\n",
       "      }\n",
       "    },\n",
       "    \"13fa93a99170489b95656e683e19f578\": {\n",
       "      \"model_name\": \"LayoutModel\",\n",
       "      \"model_module\": \"@jupyter-widgets/base\",\n",
       "      \"model_module_version\": \"1.2.0\",\n",
       "      \"state\": {}\n",
       "    },\n",
       "    \"b3af7f58e05844c4858aadf6f5346635\": {\n",
       "      \"model_name\": \"DescriptionStyleModel\",\n",
       "      \"model_module\": \"@jupyter-widgets/controls\",\n",
       "      \"model_module_version\": \"1.5.0\",\n",
       "      \"state\": {}\n",
       "    },\n",
       "    \"3fe35c37fca643138ec1dc754eb92f7a\": {\n",
       "      \"model_name\": \"HTMLModel\",\n",
       "      \"model_module\": \"@jupyter-widgets/controls\",\n",
       "      \"model_module_version\": \"1.5.0\",\n",
       "      \"state\": {\n",
       "        \"_dom_classes\": [],\n",
       "        \"layout\": \"IPY_MODEL_13fa93a99170489b95656e683e19f578\",\n",
       "        \"style\": \"IPY_MODEL_b3af7f58e05844c4858aadf6f5346635\",\n",
       "        \"value\": \"<div style='white-space: pre-wrap; line-height: 1.2; font-family: monospace, monospace;'>Model acc by rank: ...\\nModel acc by score: ...\\nCritic acc by rank: ...\\nCritic acc by score: ...\\n</div>\"\n",
       "      }\n",
       "    },\n",
       "    \"e5e032cc32d2417bb837447ca4282294\": {\n",
       "      \"model_name\": \"LayoutModel\",\n",
       "      \"model_module\": \"@jupyter-widgets/base\",\n",
       "      \"model_module_version\": \"1.2.0\",\n",
       "      \"state\": {}\n",
       "    },\n",
       "    \"9c0b5d974abe467cbfe8a59a0e46f867\": {\n",
       "      \"model_name\": \"DescriptionStyleModel\",\n",
       "      \"model_module\": \"@jupyter-widgets/controls\",\n",
       "      \"model_module_version\": \"1.5.0\",\n",
       "      \"state\": {}\n",
       "    },\n",
       "    \"78e0bc0edb6f4d259e7d677221fd10f0\": {\n",
       "      \"model_name\": \"HTMLModel\",\n",
       "      \"model_module\": \"@jupyter-widgets/controls\",\n",
       "      \"model_module_version\": \"1.5.0\",\n",
       "      \"state\": {\n",
       "        \"_dom_classes\": [],\n",
       "        \"layout\": \"IPY_MODEL_e5e032cc32d2417bb837447ca4282294\",\n",
       "        \"style\": \"IPY_MODEL_9c0b5d974abe467cbfe8a59a0e46f867\",\n",
       "        \"value\": \"<div style='white-space: pre-wrap; line-height: 1.2; font-family: monospace, monospace;'>Model acc by rank:\\n   0: 65.34% (count=1.9k)\\n   1: 62.15% (count=1.9k)\\n   2: 60.88% (count=1.9k)\\n   3: 60.08% (count=1.9k)\\n   4: 60.03% (count=1.9k)\\n   5: 59.39% (count=1.9k)\\n   6: 59.08% (count=1.9k)\\n   7: 59.45% (count=1.9k)\\n   8: 59.82% (count=1.9k)\\n   9: 58.76% (count=1.9k)\\n   10: 58.65% (count=1.9k)\\n   11: 59.39% (count=1.9k)\\n   12: 59.71% (count=1.9k)\\n   13: 58.23% (count=1.9k)\\n   14: 59.02% (count=1.9k)\\n   15: 59.24% (count=1.9k)\\nModel acc by score:\\n   0.00: 9.07% (count=3.1k)\\n   0.05: 32.23% (count=782)\\n   0.10: 22.42% (count=571)\\n   0.15: 25.70% (count=533)\\n   0.20: 25.80% (count=566)\\n   0.25: 19.72% (count=497)\\n   0.30: 27.40% (count=489)\\n   0.35: 26.27% (count=453)\\n   0.40: 31.90% (count=652)\\n   0.45: 28.01% (count=846)\\n   0.50: 35.77% (count=794)\\n   0.55: 31.76% (count=973)\\n   0.60: 40.19% (count=826)\\n   0.65: 52.14% (count=1.1k)\\n   0.70: 61.40% (count=1.1k)\\n   0.75: 72.09% (count=1.3k)\\n   0.80: 70.26% (count=1.5k)\\n   0.85: 69.74% (count=1.6k)\\n   0.90: 74.04% (count=2.4k)\\n   0.95: 91.67% (count=10.1k)\\nCritic acc by rank:\\n   0: 76.96% (count=1.9k)\\n   1: 75.96% (count=1.9k)\\n   2: 76.91% (count=1.9k)\\n   3: 76.38% (count=1.9k)\\n   4: 76.43% (count=1.9k)\\n   5: 75.69% (count=1.9k)\\n   6: 76.96% (count=1.9k)\\n   7: 77.55% (count=1.9k)\\n   8: 76.59% (count=1.9k)\\n   9: 76.38% (count=1.9k)\\n   10: 76.22% (count=1.9k)\\n   11: 76.86% (count=1.9k)\\n   12: 76.01% (count=1.9k)\\n   13: 74.42% (count=1.9k)\\n   14: 76.70% (count=1.9k)\\n   15: 77.18% (count=1.9k)\\nCritic acc by score:\\n   0.00: 90.93% (count=3.1k)\\n   0.05: 67.77% (count=782)\\n   0.10: 77.58% (count=571)\\n   0.15: 74.30% (count=533)\\n   0.20: 74.20% (count=566)\\n   0.25: 80.28% (count=497)\\n   0.30: 72.60% (count=489)\\n   0.35: 73.73% (count=453)\\n   0.40: 68.10% (count=652)\\n   0.45: 71.99% (count=846)\\n   0.50: 36.02% (count=794)\\n   0.55: 31.76% (count=973)\\n   0.60: 40.19% (count=826)\\n   0.65: 52.14% (count=1.1k)\\n   0.70: 61.40% (count=1.1k)\\n   0.75: 72.09% (count=1.3k)\\n   0.80: 70.26% (count=1.5k)\\n   0.85: 69.74% (count=1.6k)\\n   0.90: 74.04% (count=2.4k)\\n   0.95: 91.67% (count=10.1k)\\n</div>\"\n",
       "      }\n",
       "    },\n",
       "    \"fe2cacc8587f40d6a01d281a1c3d5c27\": {\n",
       "      \"model_name\": \"LayoutModel\",\n",
       "      \"model_module\": \"@jupyter-widgets/base\",\n",
       "      \"model_module_version\": \"1.2.0\",\n",
       "      \"state\": {}\n",
       "    },\n",
       "    \"7bf0a069477c419e89f27a43644d150f\": {\n",
       "      \"model_name\": \"TabModel\",\n",
       "      \"model_module\": \"@jupyter-widgets/controls\",\n",
       "      \"model_module_version\": \"1.5.0\",\n",
       "      \"state\": {\n",
       "        \"_dom_classes\": [],\n",
       "        \"_titles\": {\n",
       "          \"0\": \"Compressed\",\n",
       "          \"1\": \"Expanded\"\n",
       "        },\n",
       "        \"children\": [\n",
       "          \"IPY_MODEL_3fe35c37fca643138ec1dc754eb92f7a\",\n",
       "          \"IPY_MODEL_78e0bc0edb6f4d259e7d677221fd10f0\"\n",
       "        ],\n",
       "        \"layout\": \"IPY_MODEL_fe2cacc8587f40d6a01d281a1c3d5c27\"\n",
       "      }\n",
       "    },\n",
       "    \"8208574b47104dda87ca42a288e449ad\": {\n",
       "      \"model_name\": \"LayoutModel\",\n",
       "      \"model_module\": \"@jupyter-widgets/base\",\n",
       "      \"model_module_version\": \"1.2.0\",\n",
       "      \"state\": {}\n",
       "    },\n",
       "    \"b5cf751ba57b4a7296da6e5a6b1f6e43\": {\n",
       "      \"model_name\": \"DescriptionStyleModel\",\n",
       "      \"model_module\": \"@jupyter-widgets/controls\",\n",
       "      \"model_module_version\": \"1.5.0\",\n",
       "      \"state\": {}\n",
       "    },\n",
       "    \"3d69898dee0c491d9d209cf9b13cc96f\": {\n",
       "      \"model_name\": \"HTMLModel\",\n",
       "      \"model_module\": \"@jupyter-widgets/controls\",\n",
       "      \"model_module_version\": \"1.5.0\",\n",
       "      \"state\": {\n",
       "        \"_dom_classes\": [],\n",
       "        \"layout\": \"IPY_MODEL_8208574b47104dda87ca42a288e449ad\",\n",
       "        \"style\": \"IPY_MODEL_b5cf751ba57b4a7296da6e5a6b1f6e43\",\n",
       "        \"value\": \"<div style='white-space: pre-wrap; line-height: 1.2; font-family: monospace, monospace;'>Model acc by rank: ...\\nModel acc by score: ...\\nCritic acc by rank: ...\\nCritic acc by score: ...\\n</div>\"\n",
       "      }\n",
       "    },\n",
       "    \"979ce44f7fbb4cfaa85f35dde96597bc\": {\n",
       "      \"model_name\": \"LayoutModel\",\n",
       "      \"model_module\": \"@jupyter-widgets/base\",\n",
       "      \"model_module_version\": \"1.2.0\",\n",
       "      \"state\": {}\n",
       "    },\n",
       "    \"59b57f6ced6f4aa19505c532ed78b535\": {\n",
       "      \"model_name\": \"DescriptionStyleModel\",\n",
       "      \"model_module\": \"@jupyter-widgets/controls\",\n",
       "      \"model_module_version\": \"1.5.0\",\n",
       "      \"state\": {}\n",
       "    },\n",
       "    \"69532e5104a6457b8910c1c029611d94\": {\n",
       "      \"model_name\": \"HTMLModel\",\n",
       "      \"model_module\": \"@jupyter-widgets/controls\",\n",
       "      \"model_module_version\": \"1.5.0\",\n",
       "      \"state\": {\n",
       "        \"_dom_classes\": [],\n",
       "        \"layout\": \"IPY_MODEL_979ce44f7fbb4cfaa85f35dde96597bc\",\n",
       "        \"style\": \"IPY_MODEL_59b57f6ced6f4aa19505c532ed78b535\",\n",
       "        \"value\": \"<div style='white-space: pre-wrap; line-height: 1.2; font-family: monospace, monospace;'>Model acc by rank:\\n   0: 65.34% (count=1.9k)\\n   1: 62.15% (count=1.9k)\\n   2: 60.88% (count=1.9k)\\n   3: 60.08% (count=1.9k)\\n   4: 60.03% (count=1.9k)\\n   5: 59.39% (count=1.9k)\\n   6: 59.08% (count=1.9k)\\n   7: 59.45% (count=1.9k)\\n   8: 59.82% (count=1.9k)\\n   9: 58.76% (count=1.9k)\\n   10: 58.65% (count=1.9k)\\n   11: 59.39% (count=1.9k)\\n   12: 59.71% (count=1.9k)\\n   13: 58.23% (count=1.9k)\\n   14: 59.02% (count=1.9k)\\n   15: 59.24% (count=1.9k)\\nModel acc by score:\\n   0.0: 13.79% (count=3.8k)\\n   0.1: 24.00% (count=1.1k)\\n   0.2: 22.95% (count=1.1k)\\n   0.3: 26.86% (count=942)\\n   0.4: 29.71% (count=1.5k)\\n   0.5: 33.56% (count=1.8k)\\n   0.6: 46.88% (count=1.9k)\\n   0.7: 67.14% (count=2.4k)\\n   0.8: 70.00% (count=3.1k)\\n   0.9: 88.32% (count=12.5k)\\nCritic acc by rank:\\n   0: 76.96% (count=1.9k)\\n   1: 75.96% (count=1.9k)\\n   2: 76.91% (count=1.9k)\\n   3: 76.38% (count=1.9k)\\n   4: 76.43% (count=1.9k)\\n   5: 75.69% (count=1.9k)\\n   6: 76.96% (count=1.9k)\\n   7: 77.55% (count=1.9k)\\n   8: 76.59% (count=1.9k)\\n   9: 76.38% (count=1.9k)\\n   10: 76.22% (count=1.9k)\\n   11: 76.86% (count=1.9k)\\n   12: 76.01% (count=1.9k)\\n   13: 74.42% (count=1.9k)\\n   14: 76.70% (count=1.9k)\\n   15: 77.18% (count=1.9k)\\nCritic acc by score:\\n   0.0: 86.21% (count=3.8k)\\n   0.1: 76.00% (count=1.1k)\\n   0.2: 77.05% (count=1.1k)\\n   0.3: 73.14% (count=942)\\n   0.4: 70.29% (count=1.5k)\\n   0.5: 33.67% (count=1.8k)\\n   0.6: 46.88% (count=1.9k)\\n   0.7: 67.14% (count=2.4k)\\n   0.8: 70.00% (count=3.1k)\\n   0.9: 88.32% (count=12.5k)\\n</div>\"\n",
       "      }\n",
       "    },\n",
       "    \"111e025db5e34fd892f1542ab57fbc3e\": {\n",
       "      \"model_name\": \"LayoutModel\",\n",
       "      \"model_module\": \"@jupyter-widgets/base\",\n",
       "      \"model_module_version\": \"1.2.0\",\n",
       "      \"state\": {}\n",
       "    },\n",
       "    \"f9e010dfc06446619b5215b2c6a6357c\": {\n",
       "      \"model_name\": \"TabModel\",\n",
       "      \"model_module\": \"@jupyter-widgets/controls\",\n",
       "      \"model_module_version\": \"1.5.0\",\n",
       "      \"state\": {\n",
       "        \"_dom_classes\": [],\n",
       "        \"_titles\": {\n",
       "          \"0\": \"Compressed\",\n",
       "          \"1\": \"Expanded\"\n",
       "        },\n",
       "        \"children\": [\n",
       "          \"IPY_MODEL_3d69898dee0c491d9d209cf9b13cc96f\",\n",
       "          \"IPY_MODEL_69532e5104a6457b8910c1c029611d94\"\n",
       "        ],\n",
       "        \"layout\": \"IPY_MODEL_111e025db5e34fd892f1542ab57fbc3e\"\n",
       "      }\n",
       "    },\n",
       "    \"a94c6dc6cf90421da698665b75afda45\": {\n",
       "      \"model_name\": \"LayoutModel\",\n",
       "      \"model_module\": \"@jupyter-widgets/base\",\n",
       "      \"model_module_version\": \"1.2.0\",\n",
       "      \"state\": {}\n",
       "    },\n",
       "    \"526858ca6dc84273919e349a2e69c800\": {\n",
       "      \"model_name\": \"DescriptionStyleModel\",\n",
       "      \"model_module\": \"@jupyter-widgets/controls\",\n",
       "      \"model_module_version\": \"1.5.0\",\n",
       "      \"state\": {}\n",
       "    },\n",
       "    \"f577c324dceb4e67a4864000194b7ef9\": {\n",
       "      \"model_name\": \"HTMLModel\",\n",
       "      \"model_module\": \"@jupyter-widgets/controls\",\n",
       "      \"model_module_version\": \"1.5.0\",\n",
       "      \"state\": {\n",
       "        \"_dom_classes\": [],\n",
       "        \"layout\": \"IPY_MODEL_a94c6dc6cf90421da698665b75afda45\",\n",
       "        \"style\": \"IPY_MODEL_526858ca6dc84273919e349a2e69c800\",\n",
       "        \"value\": \"<div style='white-space: pre-wrap; line-height: 1.2; font-family: monospace, monospace;'>partial_acc: 72.88% (count=1.9k)\\nast_acc: 65.84% (count=2.6k)\\nfull_acc: 65.34% (count=1.9k)\\npartial_acc_by_cat: ...\\npartial_acc_by_pos: ...\\navg_label_size: 1.397\\navg_pred_size: 1.459\\n</div>\"\n",
       "      }\n",
       "    },\n",
       "    \"218dd522f57a4e75922519b6ba5cebc9\": {\n",
       "      \"model_name\": \"LayoutModel\",\n",
       "      \"model_module\": \"@jupyter-widgets/base\",\n",
       "      \"model_module_version\": \"1.2.0\",\n",
       "      \"state\": {}\n",
       "    },\n",
       "    \"3e2950f6f6b4491eb0bf13c3a097ad3d\": {\n",
       "      \"model_name\": \"DescriptionStyleModel\",\n",
       "      \"model_module\": \"@jupyter-widgets/controls\",\n",
       "      \"model_module_version\": \"1.5.0\",\n",
       "      \"state\": {}\n",
       "    },\n",
       "    \"62dafc66fdb842d3b2e2145695224f60\": {\n",
       "      \"model_name\": \"HTMLModel\",\n",
       "      \"model_module\": \"@jupyter-widgets/controls\",\n",
       "      \"model_module_version\": \"1.5.0\",\n",
       "      \"state\": {\n",
       "        \"_dom_classes\": [],\n",
       "        \"layout\": \"IPY_MODEL_218dd522f57a4e75922519b6ba5cebc9\",\n",
       "        \"style\": \"IPY_MODEL_3e2950f6f6b4491eb0bf13c3a097ad3d\",\n",
       "        \"value\": \"<div style='white-space: pre-wrap; line-height: 1.2; font-family: monospace, monospace;'>partial_acc: 72.88% (count=1.9k)\\nast_acc: 65.84% (count=2.6k)\\nfull_acc: 65.34% (count=1.9k)\\npartial_acc_by_cat:\\n   FuncArg: 63.82% (count=1.0k)\\n   FuncReturn: 84.24% (count=622)\\n   ClassAtribute: 81.43% (count=140)\\n   GlobalVar: 41.67% (count=12)\\n   LocalVar: 84.62% (count=104)\\npartial_acc_by_pos:\\n   range(0, 1): 74.30% (count=179)\\n   range(1, 2): 69.46% (count=167)\\n   range(2, 4): 74.18% (count=306)\\n   range(4, 8): 74.57% (count=519)\\n   range(8, 16): 71.53% (count=713)\\navg_label_size: 1.397\\navg_pred_size: 1.459\\n</div>\"\n",
       "      }\n",
       "    },\n",
       "    \"5470c823e877425ea92437df50ff42c3\": {\n",
       "      \"model_name\": \"LayoutModel\",\n",
       "      \"model_module\": \"@jupyter-widgets/base\",\n",
       "      \"model_module_version\": \"1.2.0\",\n",
       "      \"state\": {}\n",
       "    },\n",
       "    \"e74d73074cf843aca543e2da368e7b9f\": {\n",
       "      \"model_name\": \"TabModel\",\n",
       "      \"model_module\": \"@jupyter-widgets/controls\",\n",
       "      \"model_module_version\": \"1.5.0\",\n",
       "      \"state\": {\n",
       "        \"_dom_classes\": [],\n",
       "        \"_titles\": {\n",
       "          \"0\": \"Compressed\",\n",
       "          \"1\": \"Expanded\"\n",
       "        },\n",
       "        \"children\": [\n",
       "          \"IPY_MODEL_f577c324dceb4e67a4864000194b7ef9\",\n",
       "          \"IPY_MODEL_62dafc66fdb842d3b2e2145695224f60\"\n",
       "        ],\n",
       "        \"layout\": \"IPY_MODEL_5470c823e877425ea92437df50ff42c3\"\n",
       "      }\n",
       "    },\n",
       "    \"3938b496825649509166c9b7038ec0b5\": {\n",
       "      \"model_name\": \"LayoutModel\",\n",
       "      \"model_module\": \"@jupyter-widgets/base\",\n",
       "      \"model_module_version\": \"1.2.0\",\n",
       "      \"state\": {}\n",
       "    },\n",
       "    \"4519558ada0941919404c095fb5b5341\": {\n",
       "      \"model_name\": \"DescriptionStyleModel\",\n",
       "      \"model_module\": \"@jupyter-widgets/controls\",\n",
       "      \"model_module_version\": \"1.5.0\",\n",
       "      \"state\": {}\n",
       "    },\n",
       "    \"9850ca76d7cb4887a523412e7d692541\": {\n",
       "      \"model_name\": \"HTMLModel\",\n",
       "      \"model_module\": \"@jupyter-widgets/controls\",\n",
       "      \"model_module_version\": \"1.5.0\",\n",
       "      \"state\": {\n",
       "        \"_dom_classes\": [],\n",
       "        \"layout\": \"IPY_MODEL_3938b496825649509166c9b7038ec0b5\",\n",
       "        \"style\": \"IPY_MODEL_4519558ada0941919404c095fb5b5341\",\n",
       "        \"value\": \"<div style='white-space: pre-wrap; line-height: 1.2; font-family: monospace, monospace;'>partial_acc: 72.08% (count=1.9k) [-0.80%]\\nast_acc: 64.40% (count=2.6k) [-1.44%]\\nfull_acc: 64.28% (count=1.9k) [-1.06%]\\npartial_acc_by_cat: ...\\npartial_acc_by_pos: ...\\navg_label_size: 1.397 [0]\\navg_pred_size: 1.429 [-0.02972]\\n</div>\"\n",
       "      }\n",
       "    },\n",
       "    \"13ec41b79f71493685ee7873f9280c5c\": {\n",
       "      \"model_name\": \"LayoutModel\",\n",
       "      \"model_module\": \"@jupyter-widgets/base\",\n",
       "      \"model_module_version\": \"1.2.0\",\n",
       "      \"state\": {}\n",
       "    },\n",
       "    \"9794c7ee6bcd47c2884a701feafd1cb3\": {\n",
       "      \"model_name\": \"DescriptionStyleModel\",\n",
       "      \"model_module\": \"@jupyter-widgets/controls\",\n",
       "      \"model_module_version\": \"1.5.0\",\n",
       "      \"state\": {}\n",
       "    },\n",
       "    \"188a0521cc8b4a1eb1903eeb0c714340\": {\n",
       "      \"model_name\": \"HTMLModel\",\n",
       "      \"model_module\": \"@jupyter-widgets/controls\",\n",
       "      \"model_module_version\": \"1.5.0\",\n",
       "      \"state\": {\n",
       "        \"_dom_classes\": [],\n",
       "        \"layout\": \"IPY_MODEL_13ec41b79f71493685ee7873f9280c5c\",\n",
       "        \"style\": \"IPY_MODEL_9794c7ee6bcd47c2884a701feafd1cb3\",\n",
       "        \"value\": \"<div style='white-space: pre-wrap; line-height: 1.2; font-family: monospace, monospace;'>partial_acc: 72.08% (count=1.9k) [-0.80%]\\nast_acc: 64.40% (count=2.6k) [-1.44%]\\nfull_acc: 64.28% (count=1.9k) [-1.06%]\\npartial_acc_by_cat:\\n   FuncArg: 62.43% (count=1.0k) [-1.39%]\\n   FuncReturn: 86.17% (count=622) [+1.93%]\\n   ClassAtribute: 84.29% (count=140) [+2.86%]\\n   GlobalVar: 41.67% (count=12) [+0.00%]\\n   LocalVar: 68.27% (count=104) [-16.35%]\\npartial_acc_by_pos:\\n   range(0, 1): 73.18% (count=179) [-1.12%]\\n   range(1, 2): 69.46% (count=167) [+0.00%]\\n   range(2, 4): 73.20% (count=306) [-0.98%]\\n   range(4, 8): 74.76% (count=519) [+0.19%]\\n   range(8, 16): 69.99% (count=713) [-1.54%]\\navg_label_size: 1.397 [0]\\navg_pred_size: 1.429 [-0.02972]\\n</div>\"\n",
       "      }\n",
       "    },\n",
       "    \"875aefe10f0f4a2ab32149c722912b5d\": {\n",
       "      \"model_name\": \"LayoutModel\",\n",
       "      \"model_module\": \"@jupyter-widgets/base\",\n",
       "      \"model_module_version\": \"1.2.0\",\n",
       "      \"state\": {}\n",
       "    },\n",
       "    \"c7d0d73f5073453995802a2da8f8d60f\": {\n",
       "      \"model_name\": \"TabModel\",\n",
       "      \"model_module\": \"@jupyter-widgets/controls\",\n",
       "      \"model_module_version\": \"1.5.0\",\n",
       "      \"state\": {\n",
       "        \"_dom_classes\": [],\n",
       "        \"_titles\": {\n",
       "          \"0\": \"Compressed\",\n",
       "          \"1\": \"Expanded\"\n",
       "        },\n",
       "        \"children\": [\n",
       "          \"IPY_MODEL_9850ca76d7cb4887a523412e7d692541\",\n",
       "          \"IPY_MODEL_188a0521cc8b4a1eb1903eeb0c714340\"\n",
       "        ],\n",
       "        \"layout\": \"IPY_MODEL_875aefe10f0f4a2ab32149c722912b5d\"\n",
       "      }\n",
       "    },\n",
       "    \"0714fa231fb74e1ab86d7b931de9c79d\": {\n",
       "      \"model_name\": \"LayoutModel\",\n",
       "      \"model_module\": \"@jupyter-widgets/base\",\n",
       "      \"model_module_version\": \"1.2.0\",\n",
       "      \"state\": {}\n",
       "    },\n",
       "    \"07d19e874aa748b5aafcd1de452c87df\": {\n",
       "      \"model_name\": \"DescriptionStyleModel\",\n",
       "      \"model_module\": \"@jupyter-widgets/controls\",\n",
       "      \"model_module_version\": \"1.5.0\",\n",
       "      \"state\": {}\n",
       "    },\n",
       "    \"2ae793a70c1744a28911b02e4d8fee52\": {\n",
       "      \"model_name\": \"HTMLModel\",\n",
       "      \"model_module\": \"@jupyter-widgets/controls\",\n",
       "      \"model_module_version\": \"1.5.0\",\n",
       "      \"state\": {\n",
       "        \"_dom_classes\": [],\n",
       "        \"layout\": \"IPY_MODEL_0714fa231fb74e1ab86d7b931de9c79d\",\n",
       "        \"style\": \"IPY_MODEL_07d19e874aa748b5aafcd1de452c87df\",\n",
       "        \"value\": \"<div style='white-space: pre-wrap; line-height: 1.2; font-family: monospace, monospace;'>partial_acc: 77.76% (count=1.9k) [+5.68%]\\nast_acc: 72.23% (count=2.6k) [+7.83%]\\nfull_acc: 72.61% (count=1.9k) [+8.33%]\\npartial_acc_by_cat: ...\\npartial_acc_by_pos: ...\\navg_label_size: 1.397 [0]\\navg_pred_size: 1.45 [0.02123]\\n</div>\"\n",
       "      }\n",
       "    },\n",
       "    \"3c33f370a61f4c6790a3605e8175445f\": {\n",
       "      \"model_name\": \"LayoutModel\",\n",
       "      \"model_module\": \"@jupyter-widgets/base\",\n",
       "      \"model_module_version\": \"1.2.0\",\n",
       "      \"state\": {}\n",
       "    },\n",
       "    \"7b4796de2a9a4e7eb6035ba2ab43f39d\": {\n",
       "      \"model_name\": \"DescriptionStyleModel\",\n",
       "      \"model_module\": \"@jupyter-widgets/controls\",\n",
       "      \"model_module_version\": \"1.5.0\",\n",
       "      \"state\": {}\n",
       "    },\n",
       "    \"fef5990c9d3a4023957ae41bc74f1cda\": {\n",
       "      \"model_name\": \"HTMLModel\",\n",
       "      \"model_module\": \"@jupyter-widgets/controls\",\n",
       "      \"model_module_version\": \"1.5.0\",\n",
       "      \"state\": {\n",
       "        \"_dom_classes\": [],\n",
       "        \"layout\": \"IPY_MODEL_3c33f370a61f4c6790a3605e8175445f\",\n",
       "        \"style\": \"IPY_MODEL_7b4796de2a9a4e7eb6035ba2ab43f39d\",\n",
       "        \"value\": \"<div style='white-space: pre-wrap; line-height: 1.2; font-family: monospace, monospace;'>partial_acc: 77.76% (count=1.9k) [+5.68%]\\nast_acc: 72.23% (count=2.6k) [+7.83%]\\nfull_acc: 72.61% (count=1.9k) [+8.33%]\\npartial_acc_by_cat:\\n   FuncArg: 69.28% (count=1.0k) [+6.86%]\\n   FuncReturn: 88.75% (count=622) [+2.57%]\\n   ClassAtribute: 85.71% (count=140) [+1.43%]\\n   GlobalVar: 41.67% (count=12) [+0.00%]\\n   LocalVar: 87.50% (count=104) [+19.23%]\\npartial_acc_by_pos:\\n   range(0, 1): 79.89% (count=179) [+6.70%]\\n   range(1, 2): 75.45% (count=167) [+5.99%]\\n   range(2, 4): 80.07% (count=306) [+6.86%]\\n   range(4, 8): 79.00% (count=519) [+4.24%]\\n   range(8, 16): 75.88% (count=713) [+5.89%]\\navg_label_size: 1.397 [0]\\navg_pred_size: 1.45 [0.02123]\\n</div>\"\n",
       "      }\n",
       "    },\n",
       "    \"fd91d2cfb8634a97989dbb4915e43be7\": {\n",
       "      \"model_name\": \"LayoutModel\",\n",
       "      \"model_module\": \"@jupyter-widgets/base\",\n",
       "      \"model_module_version\": \"1.2.0\",\n",
       "      \"state\": {}\n",
       "    },\n",
       "    \"50b1574d278e40fdb16df15adccdae10\": {\n",
       "      \"model_name\": \"TabModel\",\n",
       "      \"model_module\": \"@jupyter-widgets/controls\",\n",
       "      \"model_module_version\": \"1.5.0\",\n",
       "      \"state\": {\n",
       "        \"_dom_classes\": [],\n",
       "        \"_titles\": {\n",
       "          \"0\": \"Compressed\",\n",
       "          \"1\": \"Expanded\"\n",
       "        },\n",
       "        \"children\": [\n",
       "          \"IPY_MODEL_2ae793a70c1744a28911b02e4d8fee52\",\n",
       "          \"IPY_MODEL_fef5990c9d3a4023957ae41bc74f1cda\"\n",
       "        ],\n",
       "        \"layout\": \"IPY_MODEL_fd91d2cfb8634a97989dbb4915e43be7\"\n",
       "      }\n",
       "    },\n",
       "    \"736e3285dd58496bbddc26393bc061c9\": {\n",
       "      \"model_name\": \"LayoutModel\",\n",
       "      \"model_module\": \"@jupyter-widgets/base\",\n",
       "      \"model_module_version\": \"1.2.0\",\n",
       "      \"state\": {}\n",
       "    },\n",
       "    \"e395aee1480e4e3c8c182b775f173a2c\": {\n",
       "      \"model_name\": \"TabModel\",\n",
       "      \"model_module\": \"@jupyter-widgets/controls\",\n",
       "      \"model_module_version\": \"1.5.0\",\n",
       "      \"state\": {\n",
       "        \"_dom_classes\": [],\n",
       "        \"_titles\": {\n",
       "          \"0\": \"BS\",\n",
       "          \"1\": \"Critic\",\n",
       "          \"2\": \"Oracle\"\n",
       "        },\n",
       "        \"children\": [\n",
       "          \"IPY_MODEL_e74d73074cf843aca543e2da368e7b9f\",\n",
       "          \"IPY_MODEL_c7d0d73f5073453995802a2da8f8d60f\",\n",
       "          \"IPY_MODEL_50b1574d278e40fdb16df15adccdae10\"\n",
       "        ],\n",
       "        \"layout\": \"IPY_MODEL_736e3285dd58496bbddc26393bc061c9\",\n",
       "        \"selected_index\": 2\n",
       "      }\n",
       "    },\n",
       "    \"2f00f7bb2b3642f482c3095239efe8fe\": {\n",
       "      \"model_name\": \"LayoutModel\",\n",
       "      \"model_module\": \"@jupyter-widgets/base\",\n",
       "      \"model_module_version\": \"1.2.0\",\n",
       "      \"state\": {\n",
       "        \"overflow\": \"scroll\"\n",
       "      }\n",
       "    },\n",
       "    \"4e14cc51973f48f0832aadbdbb4cedd2\": {\n",
       "      \"model_name\": \"VBoxModel\",\n",
       "      \"model_module\": \"@jupyter-widgets/controls\",\n",
       "      \"model_module_version\": \"1.5.0\",\n",
       "      \"state\": {\n",
       "        \"_dom_classes\": [],\n",
       "        \"children\": [\n",
       "          \"IPY_MODEL_e395aee1480e4e3c8c182b775f173a2c\"\n",
       "        ],\n",
       "        \"layout\": \"IPY_MODEL_2f00f7bb2b3642f482c3095239efe8fe\"\n",
       "      }\n",
       "    },\n",
       "    \"e12800c0c3ff43069f54f1b026b65b6d\": {\n",
       "      \"model_name\": \"LayoutModel\",\n",
       "      \"model_module\": \"@jupyter-widgets/base\",\n",
       "      \"model_module_version\": \"1.2.0\",\n",
       "      \"state\": {}\n",
       "    },\n",
       "    \"c0afe57e962b420181b4e93e906cfb24\": {\n",
       "      \"model_name\": \"DescriptionStyleModel\",\n",
       "      \"model_module\": \"@jupyter-widgets/controls\",\n",
       "      \"model_module_version\": \"1.5.0\",\n",
       "      \"state\": {}\n",
       "    },\n",
       "    \"c86be6a1b7dc405495d921e25032d783\": {\n",
       "      \"model_name\": \"HTMLModel\",\n",
       "      \"model_module\": \"@jupyter-widgets/controls\",\n",
       "      \"model_module_version\": \"1.5.0\",\n",
       "      \"state\": {\n",
       "        \"_dom_classes\": [],\n",
       "        \"layout\": \"IPY_MODEL_e12800c0c3ff43069f54f1b026b65b6d\",\n",
       "        \"style\": \"IPY_MODEL_c0afe57e962b420181b4e93e906cfb24\",\n",
       "        \"value\": \"<div style='white-space: pre-wrap; line-height: 1.2; font-family: monospace, monospace;'>partial_acc: 72.88% (count=1.9k)\\nast_acc: 65.84% (count=2.6k)\\nfull_acc: 65.34% (count=1.9k)\\npartial_acc_by_cat: ...\\npartial_acc_by_pos: ...\\navg_label_size: 1.397\\navg_pred_size: 1.459\\n</div>\"\n",
       "      }\n",
       "    },\n",
       "    \"90b13c21e9a84ee3a9b0b1ba9e317569\": {\n",
       "      \"model_name\": \"LayoutModel\",\n",
       "      \"model_module\": \"@jupyter-widgets/base\",\n",
       "      \"model_module_version\": \"1.2.0\",\n",
       "      \"state\": {}\n",
       "    },\n",
       "    \"bd1653deadee49a5ba7ae3363594de0a\": {\n",
       "      \"model_name\": \"DescriptionStyleModel\",\n",
       "      \"model_module\": \"@jupyter-widgets/controls\",\n",
       "      \"model_module_version\": \"1.5.0\",\n",
       "      \"state\": {}\n",
       "    },\n",
       "    \"028bb605ebc3461593326b9545196fab\": {\n",
       "      \"model_name\": \"HTMLModel\",\n",
       "      \"model_module\": \"@jupyter-widgets/controls\",\n",
       "      \"model_module_version\": \"1.5.0\",\n",
       "      \"state\": {\n",
       "        \"_dom_classes\": [],\n",
       "        \"layout\": \"IPY_MODEL_90b13c21e9a84ee3a9b0b1ba9e317569\",\n",
       "        \"style\": \"IPY_MODEL_bd1653deadee49a5ba7ae3363594de0a\",\n",
       "        \"value\": \"<div style='white-space: pre-wrap; line-height: 1.2; font-family: monospace, monospace;'>partial_acc: 72.88% (count=1.9k)\\nast_acc: 65.84% (count=2.6k)\\nfull_acc: 65.34% (count=1.9k)\\npartial_acc_by_cat:\\n   FuncArg: 63.82% (count=1.0k)\\n   FuncReturn: 84.24% (count=622)\\n   ClassAtribute: 81.43% (count=140)\\n   GlobalVar: 41.67% (count=12)\\n   LocalVar: 84.62% (count=104)\\npartial_acc_by_pos:\\n   range(0, 1): 74.30% (count=179)\\n   range(1, 2): 69.46% (count=167)\\n   range(2, 4): 74.18% (count=306)\\n   range(4, 8): 74.57% (count=519)\\n   range(8, 16): 71.53% (count=713)\\navg_label_size: 1.397\\navg_pred_size: 1.459\\n</div>\"\n",
       "      }\n",
       "    },\n",
       "    \"775ff22091664d869d24f2bc92cb2b0a\": {\n",
       "      \"model_name\": \"LayoutModel\",\n",
       "      \"model_module\": \"@jupyter-widgets/base\",\n",
       "      \"model_module_version\": \"1.2.0\",\n",
       "      \"state\": {}\n",
       "    },\n",
       "    \"189cb7d0908c4267b7d879d263a17324\": {\n",
       "      \"model_name\": \"TabModel\",\n",
       "      \"model_module\": \"@jupyter-widgets/controls\",\n",
       "      \"model_module_version\": \"1.5.0\",\n",
       "      \"state\": {\n",
       "        \"_dom_classes\": [],\n",
       "        \"_titles\": {\n",
       "          \"0\": \"Compressed\",\n",
       "          \"1\": \"Expanded\"\n",
       "        },\n",
       "        \"children\": [\n",
       "          \"IPY_MODEL_c86be6a1b7dc405495d921e25032d783\",\n",
       "          \"IPY_MODEL_028bb605ebc3461593326b9545196fab\"\n",
       "        ],\n",
       "        \"layout\": \"IPY_MODEL_775ff22091664d869d24f2bc92cb2b0a\"\n",
       "      }\n",
       "    },\n",
       "    \"64ee0813e38348e1ad04f08658d04b9a\": {\n",
       "      \"model_name\": \"LayoutModel\",\n",
       "      \"model_module\": \"@jupyter-widgets/base\",\n",
       "      \"model_module_version\": \"1.2.0\",\n",
       "      \"state\": {}\n",
       "    },\n",
       "    \"3b1953fb9e354d30baf28cb057aa3482\": {\n",
       "      \"model_name\": \"DescriptionStyleModel\",\n",
       "      \"model_module\": \"@jupyter-widgets/controls\",\n",
       "      \"model_module_version\": \"1.5.0\",\n",
       "      \"state\": {}\n",
       "    },\n",
       "    \"6fe94d21a95045e988f92806dcde9aa3\": {\n",
       "      \"model_name\": \"HTMLModel\",\n",
       "      \"model_module\": \"@jupyter-widgets/controls\",\n",
       "      \"model_module_version\": \"1.5.0\",\n",
       "      \"state\": {\n",
       "        \"_dom_classes\": [],\n",
       "        \"layout\": \"IPY_MODEL_64ee0813e38348e1ad04f08658d04b9a\",\n",
       "        \"style\": \"IPY_MODEL_3b1953fb9e354d30baf28cb057aa3482\",\n",
       "        \"value\": \"<div style='white-space: pre-wrap; line-height: 1.2; font-family: monospace, monospace;'>partial_acc: 73.78% (count=1.9k) [+0.90%]\\nast_acc: 66.60% (count=2.6k) [+0.76%]\\nfull_acc: 65.98% (count=1.9k) [+0.64%]\\npartial_acc_by_cat: ...\\npartial_acc_by_pos: ...\\navg_label_size: 1.397 [0]\\navg_pred_size: 1.461 [0.002654]\\n</div>\"\n",
       "      }\n",
       "    },\n",
       "    \"b13b37cdea3b478285b831109c6edc1b\": {\n",
       "      \"model_name\": \"LayoutModel\",\n",
       "      \"model_module\": \"@jupyter-widgets/base\",\n",
       "      \"model_module_version\": \"1.2.0\",\n",
       "      \"state\": {}\n",
       "    },\n",
       "    \"b8a11598fc4544028194638403ef8965\": {\n",
       "      \"model_name\": \"DescriptionStyleModel\",\n",
       "      \"model_module\": \"@jupyter-widgets/controls\",\n",
       "      \"model_module_version\": \"1.5.0\",\n",
       "      \"state\": {}\n",
       "    },\n",
       "    \"81a84873319a44abbf7ea585df1f31b2\": {\n",
       "      \"model_name\": \"HTMLModel\",\n",
       "      \"model_module\": \"@jupyter-widgets/controls\",\n",
       "      \"model_module_version\": \"1.5.0\",\n",
       "      \"state\": {\n",
       "        \"_dom_classes\": [],\n",
       "        \"layout\": \"IPY_MODEL_b13b37cdea3b478285b831109c6edc1b\",\n",
       "        \"style\": \"IPY_MODEL_b8a11598fc4544028194638403ef8965\",\n",
       "        \"value\": \"<div style='white-space: pre-wrap; line-height: 1.2; font-family: monospace, monospace;'>partial_acc: 73.78% (count=1.9k) [+0.90%]\\nast_acc: 66.60% (count=2.6k) [+0.76%]\\nfull_acc: 65.98% (count=1.9k) [+0.64%]\\npartial_acc_by_cat:\\n   FuncArg: 64.51% (count=1.0k) [+0.70%]\\n   FuncReturn: 85.05% (count=622) [+0.80%]\\n   ClassAtribute: 85.00% (count=140) [+3.57%]\\n   GlobalVar: 41.67% (count=12) [+0.00%]\\n   LocalVar: 84.62% (count=104) [+0.00%]\\npartial_acc_by_pos:\\n   range(0, 1): 73.74% (count=179) [-0.56%]\\n   range(1, 2): 70.66% (count=167) [+1.20%]\\n   range(2, 4): 75.16% (count=306) [+0.98%]\\n   range(4, 8): 75.53% (count=519) [+0.96%]\\n   range(8, 16): 72.65% (count=713) [+1.12%]\\navg_label_size: 1.397 [0]\\navg_pred_size: 1.461 [0.002654]\\n</div>\"\n",
       "      }\n",
       "    },\n",
       "    \"1450c510559044ab97122a5ee617ecfc\": {\n",
       "      \"model_name\": \"LayoutModel\",\n",
       "      \"model_module\": \"@jupyter-widgets/base\",\n",
       "      \"model_module_version\": \"1.2.0\",\n",
       "      \"state\": {}\n",
       "    },\n",
       "    \"c59f7aafd9b045fe9b0e4b41f8765469\": {\n",
       "      \"model_name\": \"TabModel\",\n",
       "      \"model_module\": \"@jupyter-widgets/controls\",\n",
       "      \"model_module_version\": \"1.5.0\",\n",
       "      \"state\": {\n",
       "        \"_dom_classes\": [],\n",
       "        \"_titles\": {\n",
       "          \"0\": \"Compressed\",\n",
       "          \"1\": \"Expanded\"\n",
       "        },\n",
       "        \"children\": [\n",
       "          \"IPY_MODEL_6fe94d21a95045e988f92806dcde9aa3\",\n",
       "          \"IPY_MODEL_81a84873319a44abbf7ea585df1f31b2\"\n",
       "        ],\n",
       "        \"layout\": \"IPY_MODEL_1450c510559044ab97122a5ee617ecfc\"\n",
       "      }\n",
       "    },\n",
       "    \"a3ec8722b2d3425cb2cdac39107ede3e\": {\n",
       "      \"model_name\": \"LayoutModel\",\n",
       "      \"model_module\": \"@jupyter-widgets/base\",\n",
       "      \"model_module_version\": \"1.2.0\",\n",
       "      \"state\": {}\n",
       "    },\n",
       "    \"103b87bc4b5d4012a99dfe6180a9252b\": {\n",
       "      \"model_name\": \"DescriptionStyleModel\",\n",
       "      \"model_module\": \"@jupyter-widgets/controls\",\n",
       "      \"model_module_version\": \"1.5.0\",\n",
       "      \"state\": {}\n",
       "    },\n",
       "    \"d55b088bb31b48ddb4a76ab33a0f41c9\": {\n",
       "      \"model_name\": \"HTMLModel\",\n",
       "      \"model_module\": \"@jupyter-widgets/controls\",\n",
       "      \"model_module_version\": \"1.5.0\",\n",
       "      \"state\": {\n",
       "        \"_dom_classes\": [],\n",
       "        \"layout\": \"IPY_MODEL_a3ec8722b2d3425cb2cdac39107ede3e\",\n",
       "        \"style\": \"IPY_MODEL_103b87bc4b5d4012a99dfe6180a9252b\",\n",
       "        \"value\": \"<div style='white-space: pre-wrap; line-height: 1.2; font-family: monospace, monospace;'>partial_acc: 77.76% (count=1.9k) [+3.98%]\\nast_acc: 72.23% (count=2.6k) [+5.62%]\\nfull_acc: 72.61% (count=1.9k) [+6.63%]\\npartial_acc_by_cat: ...\\npartial_acc_by_pos: ...\\navg_label_size: 1.397 [0]\\navg_pred_size: 1.45 [-0.01115]\\n</div>\"\n",
       "      }\n",
       "    },\n",
       "    \"a05131b8c576478e9dddc7700fb570c8\": {\n",
       "      \"model_name\": \"LayoutModel\",\n",
       "      \"model_module\": \"@jupyter-widgets/base\",\n",
       "      \"model_module_version\": \"1.2.0\",\n",
       "      \"state\": {}\n",
       "    },\n",
       "    \"54381e7671f94f598f5c593b1620363f\": {\n",
       "      \"model_name\": \"DescriptionStyleModel\",\n",
       "      \"model_module\": \"@jupyter-widgets/controls\",\n",
       "      \"model_module_version\": \"1.5.0\",\n",
       "      \"state\": {}\n",
       "    },\n",
       "    \"7e83a3f8076b49dd940f16eddbc28a02\": {\n",
       "      \"model_name\": \"HTMLModel\",\n",
       "      \"model_module\": \"@jupyter-widgets/controls\",\n",
       "      \"model_module_version\": \"1.5.0\",\n",
       "      \"state\": {\n",
       "        \"_dom_classes\": [],\n",
       "        \"layout\": \"IPY_MODEL_a05131b8c576478e9dddc7700fb570c8\",\n",
       "        \"style\": \"IPY_MODEL_54381e7671f94f598f5c593b1620363f\",\n",
       "        \"value\": \"<div style='white-space: pre-wrap; line-height: 1.2; font-family: monospace, monospace;'>partial_acc: 77.76% (count=1.9k) [+3.98%]\\nast_acc: 72.23% (count=2.6k) [+5.62%]\\nfull_acc: 72.61% (count=1.9k) [+6.63%]\\npartial_acc_by_cat:\\n   FuncArg: 69.28% (count=1.0k) [+4.77%]\\n   FuncReturn: 88.75% (count=622) [+3.70%]\\n   ClassAtribute: 85.71% (count=140) [+0.71%]\\n   GlobalVar: 41.67% (count=12) [+0.00%]\\n   LocalVar: 87.50% (count=104) [+2.88%]\\npartial_acc_by_pos:\\n   range(0, 1): 79.89% (count=179) [+6.15%]\\n   range(1, 2): 75.45% (count=167) [+4.79%]\\n   range(2, 4): 80.07% (count=306) [+4.90%]\\n   range(4, 8): 79.00% (count=519) [+3.47%]\\n   range(8, 16): 75.88% (count=713) [+3.23%]\\navg_label_size: 1.397 [0]\\navg_pred_size: 1.45 [-0.01115]\\n</div>\"\n",
       "      }\n",
       "    },\n",
       "    \"87879b4ba85448629a6ee2fca9524c13\": {\n",
       "      \"model_name\": \"LayoutModel\",\n",
       "      \"model_module\": \"@jupyter-widgets/base\",\n",
       "      \"model_module_version\": \"1.2.0\",\n",
       "      \"state\": {}\n",
       "    },\n",
       "    \"7b6f6d7e477a46eab5d44bf54a1e2505\": {\n",
       "      \"model_name\": \"TabModel\",\n",
       "      \"model_module\": \"@jupyter-widgets/controls\",\n",
       "      \"model_module_version\": \"1.5.0\",\n",
       "      \"state\": {\n",
       "        \"_dom_classes\": [],\n",
       "        \"_titles\": {\n",
       "          \"0\": \"Compressed\",\n",
       "          \"1\": \"Expanded\"\n",
       "        },\n",
       "        \"children\": [\n",
       "          \"IPY_MODEL_d55b088bb31b48ddb4a76ab33a0f41c9\",\n",
       "          \"IPY_MODEL_7e83a3f8076b49dd940f16eddbc28a02\"\n",
       "        ],\n",
       "        \"layout\": \"IPY_MODEL_87879b4ba85448629a6ee2fca9524c13\"\n",
       "      }\n",
       "    },\n",
       "    \"cbc8d4035faa43fea101038f6dfdfcd7\": {\n",
       "      \"model_name\": \"LayoutModel\",\n",
       "      \"model_module\": \"@jupyter-widgets/base\",\n",
       "      \"model_module_version\": \"1.2.0\",\n",
       "      \"state\": {}\n",
       "    },\n",
       "    \"79005126215448a4bc006de924ea9f58\": {\n",
       "      \"model_name\": \"TabModel\",\n",
       "      \"model_module\": \"@jupyter-widgets/controls\",\n",
       "      \"model_module_version\": \"1.5.0\",\n",
       "      \"state\": {\n",
       "        \"_dom_classes\": [],\n",
       "        \"_titles\": {\n",
       "          \"0\": \"BS\",\n",
       "          \"1\": \"Critic\",\n",
       "          \"2\": \"Oracle\"\n",
       "        },\n",
       "        \"children\": [\n",
       "          \"IPY_MODEL_189cb7d0908c4267b7d879d263a17324\",\n",
       "          \"IPY_MODEL_c59f7aafd9b045fe9b0e4b41f8765469\",\n",
       "          \"IPY_MODEL_7b6f6d7e477a46eab5d44bf54a1e2505\"\n",
       "        ],\n",
       "        \"layout\": \"IPY_MODEL_cbc8d4035faa43fea101038f6dfdfcd7\",\n",
       "        \"selected_index\": 2\n",
       "      }\n",
       "    },\n",
       "    \"cf307f0c2e594a00b41ccc8ba42ce1aa\": {\n",
       "      \"model_name\": \"LayoutModel\",\n",
       "      \"model_module\": \"@jupyter-widgets/base\",\n",
       "      \"model_module_version\": \"1.2.0\",\n",
       "      \"state\": {\n",
       "        \"overflow\": \"scroll\"\n",
       "      }\n",
       "    },\n",
       "    \"6e847e51ac8140aabb422683acfd585f\": {\n",
       "      \"model_name\": \"VBoxModel\",\n",
       "      \"model_module\": \"@jupyter-widgets/controls\",\n",
       "      \"model_module_version\": \"1.5.0\",\n",
       "      \"state\": {\n",
       "        \"_dom_classes\": [],\n",
       "        \"children\": [\n",
       "          \"IPY_MODEL_79005126215448a4bc006de924ea9f58\"\n",
       "        ],\n",
       "        \"layout\": \"IPY_MODEL_cf307f0c2e594a00b41ccc8ba42ce1aa\"\n",
       "      }\n",
       "    },\n",
       "    \"6a0f63e030364b80847aff5f140ad5e7\": {\n",
       "      \"model_name\": \"LayoutModel\",\n",
       "      \"model_module\": \"@jupyter-widgets/base\",\n",
       "      \"model_module_version\": \"1.2.0\",\n",
       "      \"state\": {}\n",
       "    },\n",
       "    \"2279eada49d1452cb8511c576613744e\": {\n",
       "      \"model_name\": \"DescriptionStyleModel\",\n",
       "      \"model_module\": \"@jupyter-widgets/controls\",\n",
       "      \"model_module_version\": \"1.5.0\",\n",
       "      \"state\": {}\n",
       "    },\n",
       "    \"d5a69f07ed77407dadfd3440db96780c\": {\n",
       "      \"model_name\": \"HTMLModel\",\n",
       "      \"model_module\": \"@jupyter-widgets/controls\",\n",
       "      \"model_module_version\": \"1.5.0\",\n",
       "      \"state\": {\n",
       "        \"_dom_classes\": [],\n",
       "        \"layout\": \"IPY_MODEL_6a0f63e030364b80847aff5f140ad5e7\",\n",
       "        \"style\": \"IPY_MODEL_2279eada49d1452cb8511c576613744e\",\n",
       "        \"value\": \"<div style='white-space: pre-wrap; line-height: 1.2; font-family: monospace, monospace;'>partial_acc: 72.88% (count=1.9k)\\nast_acc: 65.84% (count=2.6k)\\nfull_acc: 65.34% (count=1.9k)\\npartial_acc_by_cat: ...\\npartial_acc_by_pos: ...\\navg_label_size: 1.397\\navg_pred_size: 1.459\\n</div>\"\n",
       "      }\n",
       "    },\n",
       "    \"9d5be917c1424729b11c71b0857f2387\": {\n",
       "      \"model_name\": \"LayoutModel\",\n",
       "      \"model_module\": \"@jupyter-widgets/base\",\n",
       "      \"model_module_version\": \"1.2.0\",\n",
       "      \"state\": {}\n",
       "    },\n",
       "    \"6bf3d920edcb43e1bb2612323c128865\": {\n",
       "      \"model_name\": \"DescriptionStyleModel\",\n",
       "      \"model_module\": \"@jupyter-widgets/controls\",\n",
       "      \"model_module_version\": \"1.5.0\",\n",
       "      \"state\": {}\n",
       "    },\n",
       "    \"5b6022c897ad4f7496571a2a3273ec16\": {\n",
       "      \"model_name\": \"HTMLModel\",\n",
       "      \"model_module\": \"@jupyter-widgets/controls\",\n",
       "      \"model_module_version\": \"1.5.0\",\n",
       "      \"state\": {\n",
       "        \"_dom_classes\": [],\n",
       "        \"layout\": \"IPY_MODEL_9d5be917c1424729b11c71b0857f2387\",\n",
       "        \"style\": \"IPY_MODEL_6bf3d920edcb43e1bb2612323c128865\",\n",
       "        \"value\": \"<div style='white-space: pre-wrap; line-height: 1.2; font-family: monospace, monospace;'>partial_acc: 72.88% (count=1.9k)\\nast_acc: 65.84% (count=2.6k)\\nfull_acc: 65.34% (count=1.9k)\\npartial_acc_by_cat:\\n   FuncArg: 63.82% (count=1.0k)\\n   FuncReturn: 84.24% (count=622)\\n   ClassAtribute: 81.43% (count=140)\\n   GlobalVar: 41.67% (count=12)\\n   LocalVar: 84.62% (count=104)\\npartial_acc_by_pos:\\n   range(0, 1): 74.30% (count=179)\\n   range(1, 2): 69.46% (count=167)\\n   range(2, 4): 74.18% (count=306)\\n   range(4, 8): 74.57% (count=519)\\n   range(8, 16): 71.53% (count=713)\\navg_label_size: 1.397\\navg_pred_size: 1.459\\n</div>\"\n",
       "      }\n",
       "    },\n",
       "    \"8b87096437824f2583ea83e24f2afdbe\": {\n",
       "      \"model_name\": \"LayoutModel\",\n",
       "      \"model_module\": \"@jupyter-widgets/base\",\n",
       "      \"model_module_version\": \"1.2.0\",\n",
       "      \"state\": {}\n",
       "    },\n",
       "    \"d83078e2fbb14cf39c812fc01ebe32b9\": {\n",
       "      \"model_name\": \"TabModel\",\n",
       "      \"model_module\": \"@jupyter-widgets/controls\",\n",
       "      \"model_module_version\": \"1.5.0\",\n",
       "      \"state\": {\n",
       "        \"_dom_classes\": [],\n",
       "        \"_titles\": {\n",
       "          \"0\": \"Compressed\",\n",
       "          \"1\": \"Expanded\"\n",
       "        },\n",
       "        \"children\": [\n",
       "          \"IPY_MODEL_d5a69f07ed77407dadfd3440db96780c\",\n",
       "          \"IPY_MODEL_5b6022c897ad4f7496571a2a3273ec16\"\n",
       "        ],\n",
       "        \"layout\": \"IPY_MODEL_8b87096437824f2583ea83e24f2afdbe\"\n",
       "      }\n",
       "    },\n",
       "    \"a5cc2551f6614266bcad4d748d661920\": {\n",
       "      \"model_name\": \"LayoutModel\",\n",
       "      \"model_module\": \"@jupyter-widgets/base\",\n",
       "      \"model_module_version\": \"1.2.0\",\n",
       "      \"state\": {}\n",
       "    },\n",
       "    \"ea3f13e203404b2bb08aac8d8a87733c\": {\n",
       "      \"model_name\": \"DescriptionStyleModel\",\n",
       "      \"model_module\": \"@jupyter-widgets/controls\",\n",
       "      \"model_module_version\": \"1.5.0\",\n",
       "      \"state\": {}\n",
       "    },\n",
       "    \"69f65e08a0e3406fa89ca31fa01ae28f\": {\n",
       "      \"model_name\": \"HTMLModel\",\n",
       "      \"model_module\": \"@jupyter-widgets/controls\",\n",
       "      \"model_module_version\": \"1.5.0\",\n",
       "      \"state\": {\n",
       "        \"_dom_classes\": [],\n",
       "        \"layout\": \"IPY_MODEL_a5cc2551f6614266bcad4d748d661920\",\n",
       "        \"style\": \"IPY_MODEL_ea3f13e203404b2bb08aac8d8a87733c\",\n",
       "        \"value\": \"<div style='white-space: pre-wrap; line-height: 1.2; font-family: monospace, monospace;'>partial_acc: 72.45% (count=1.9k) [-0.42%]\\nast_acc: 65.05% (count=2.6k) [-0.80%]\\nfull_acc: 64.07% (count=1.9k) [-1.27%]\\npartial_acc_by_cat: ...\\npartial_acc_by_pos: ...\\navg_label_size: 1.397 [0]\\navg_pred_size: 1.441 [-0.01805]\\n</div>\"\n",
       "      }\n",
       "    },\n",
       "    \"464594638098418ea6f26b124cd10638\": {\n",
       "      \"model_name\": \"LayoutModel\",\n",
       "      \"model_module\": \"@jupyter-widgets/base\",\n",
       "      \"model_module_version\": \"1.2.0\",\n",
       "      \"state\": {}\n",
       "    },\n",
       "    \"15be794a44b24a52bccea41231acaa5d\": {\n",
       "      \"model_name\": \"DescriptionStyleModel\",\n",
       "      \"model_module\": \"@jupyter-widgets/controls\",\n",
       "      \"model_module_version\": \"1.5.0\",\n",
       "      \"state\": {}\n",
       "    },\n",
       "    \"6661a7aaa1494492b694b55ce76738f5\": {\n",
       "      \"model_name\": \"HTMLModel\",\n",
       "      \"model_module\": \"@jupyter-widgets/controls\",\n",
       "      \"model_module_version\": \"1.5.0\",\n",
       "      \"state\": {\n",
       "        \"_dom_classes\": [],\n",
       "        \"layout\": \"IPY_MODEL_464594638098418ea6f26b124cd10638\",\n",
       "        \"style\": \"IPY_MODEL_15be794a44b24a52bccea41231acaa5d\",\n",
       "        \"value\": \"<div style='white-space: pre-wrap; line-height: 1.2; font-family: monospace, monospace;'>partial_acc: 72.45% (count=1.9k) [-0.42%]\\nast_acc: 65.05% (count=2.6k) [-0.80%]\\nfull_acc: 64.07% (count=1.9k) [-1.27%]\\npartial_acc_by_cat:\\n   FuncArg: 63.32% (count=1.0k) [-0.50%]\\n   FuncReturn: 86.01% (count=622) [+1.77%]\\n   ClassAtribute: 83.57% (count=140) [+2.14%]\\n   GlobalVar: 41.67% (count=12) [+0.00%]\\n   LocalVar: 68.27% (count=104) [-16.35%]\\npartial_acc_by_pos:\\n   range(0, 1): 72.63% (count=179) [-1.68%]\\n   range(1, 2): 70.06% (count=167) [+0.60%]\\n   range(2, 4): 74.84% (count=306) [+0.65%]\\n   range(4, 8): 74.18% (count=519) [-0.39%]\\n   range(8, 16): 70.69% (count=713) [-0.84%]\\navg_label_size: 1.397 [0]\\navg_pred_size: 1.441 [-0.01805]\\n</div>\"\n",
       "      }\n",
       "    },\n",
       "    \"8a9ac5b77ff949f79c3f8acf7ce1582c\": {\n",
       "      \"model_name\": \"LayoutModel\",\n",
       "      \"model_module\": \"@jupyter-widgets/base\",\n",
       "      \"model_module_version\": \"1.2.0\",\n",
       "      \"state\": {}\n",
       "    },\n",
       "    \"d4a85e612ec44e2393b626d923966a6d\": {\n",
       "      \"model_name\": \"TabModel\",\n",
       "      \"model_module\": \"@jupyter-widgets/controls\",\n",
       "      \"model_module_version\": \"1.5.0\",\n",
       "      \"state\": {\n",
       "        \"_dom_classes\": [],\n",
       "        \"_titles\": {\n",
       "          \"0\": \"Compressed\",\n",
       "          \"1\": \"Expanded\"\n",
       "        },\n",
       "        \"children\": [\n",
       "          \"IPY_MODEL_69f65e08a0e3406fa89ca31fa01ae28f\",\n",
       "          \"IPY_MODEL_6661a7aaa1494492b694b55ce76738f5\"\n",
       "        ],\n",
       "        \"layout\": \"IPY_MODEL_8a9ac5b77ff949f79c3f8acf7ce1582c\"\n",
       "      }\n",
       "    },\n",
       "    \"1091be0daa83452aba1425edca0bd87c\": {\n",
       "      \"model_name\": \"LayoutModel\",\n",
       "      \"model_module\": \"@jupyter-widgets/base\",\n",
       "      \"model_module_version\": \"1.2.0\",\n",
       "      \"state\": {}\n",
       "    },\n",
       "    \"8498c06c715b4735af06de67aaf0cbf1\": {\n",
       "      \"model_name\": \"DescriptionStyleModel\",\n",
       "      \"model_module\": \"@jupyter-widgets/controls\",\n",
       "      \"model_module_version\": \"1.5.0\",\n",
       "      \"state\": {}\n",
       "    },\n",
       "    \"09b33fb77902499a973d561e7547c2d2\": {\n",
       "      \"model_name\": \"HTMLModel\",\n",
       "      \"model_module\": \"@jupyter-widgets/controls\",\n",
       "      \"model_module_version\": \"1.5.0\",\n",
       "      \"state\": {\n",
       "        \"_dom_classes\": [],\n",
       "        \"layout\": \"IPY_MODEL_1091be0daa83452aba1425edca0bd87c\",\n",
       "        \"style\": \"IPY_MODEL_8498c06c715b4735af06de67aaf0cbf1\",\n",
       "        \"value\": \"<div style='white-space: pre-wrap; line-height: 1.2; font-family: monospace, monospace;'>partial_acc: 77.76% (count=1.9k) [+5.31%]\\nast_acc: 72.23% (count=2.6k) [+7.18%]\\nfull_acc: 72.61% (count=1.9k) [+8.55%]\\npartial_acc_by_cat: ...\\npartial_acc_by_pos: ...\\navg_label_size: 1.397 [0]\\navg_pred_size: 1.45 [0.009554]\\n</div>\"\n",
       "      }\n",
       "    },\n",
       "    \"d4a66d18faf84fa38125075fdbf0d56d\": {\n",
       "      \"model_name\": \"LayoutModel\",\n",
       "      \"model_module\": \"@jupyter-widgets/base\",\n",
       "      \"model_module_version\": \"1.2.0\",\n",
       "      \"state\": {}\n",
       "    },\n",
       "    \"c3a3adb0bbb5480f941b784859e494e3\": {\n",
       "      \"model_name\": \"DescriptionStyleModel\",\n",
       "      \"model_module\": \"@jupyter-widgets/controls\",\n",
       "      \"model_module_version\": \"1.5.0\",\n",
       "      \"state\": {}\n",
       "    },\n",
       "    \"98989c7c142d4f72b0f2c45b4095bd11\": {\n",
       "      \"model_name\": \"HTMLModel\",\n",
       "      \"model_module\": \"@jupyter-widgets/controls\",\n",
       "      \"model_module_version\": \"1.5.0\",\n",
       "      \"state\": {\n",
       "        \"_dom_classes\": [],\n",
       "        \"layout\": \"IPY_MODEL_d4a66d18faf84fa38125075fdbf0d56d\",\n",
       "        \"style\": \"IPY_MODEL_c3a3adb0bbb5480f941b784859e494e3\",\n",
       "        \"value\": \"<div style='white-space: pre-wrap; line-height: 1.2; font-family: monospace, monospace;'>partial_acc: 77.76% (count=1.9k) [+5.31%]\\nast_acc: 72.23% (count=2.6k) [+7.18%]\\nfull_acc: 72.61% (count=1.9k) [+8.55%]\\npartial_acc_by_cat:\\n   FuncArg: 69.28% (count=1.0k) [+5.96%]\\n   FuncReturn: 88.75% (count=622) [+2.73%]\\n   ClassAtribute: 85.71% (count=140) [+2.14%]\\n   GlobalVar: 41.67% (count=12) [+0.00%]\\n   LocalVar: 87.50% (count=104) [+19.23%]\\npartial_acc_by_pos:\\n   range(0, 1): 79.89% (count=179) [+7.26%]\\n   range(1, 2): 75.45% (count=167) [+5.39%]\\n   range(2, 4): 80.07% (count=306) [+5.23%]\\n   range(4, 8): 79.00% (count=519) [+4.82%]\\n   range(8, 16): 75.88% (count=713) [+5.19%]\\navg_label_size: 1.397 [0]\\navg_pred_size: 1.45 [0.009554]\\n</div>\"\n",
       "      }\n",
       "    },\n",
       "    \"7225e2aed5c74407aceb007b72b57062\": {\n",
       "      \"model_name\": \"LayoutModel\",\n",
       "      \"model_module\": \"@jupyter-widgets/base\",\n",
       "      \"model_module_version\": \"1.2.0\",\n",
       "      \"state\": {}\n",
       "    },\n",
       "    \"2c45aefc48284ed187af59d1bcad2194\": {\n",
       "      \"model_name\": \"TabModel\",\n",
       "      \"model_module\": \"@jupyter-widgets/controls\",\n",
       "      \"model_module_version\": \"1.5.0\",\n",
       "      \"state\": {\n",
       "        \"_dom_classes\": [],\n",
       "        \"_titles\": {\n",
       "          \"0\": \"Compressed\",\n",
       "          \"1\": \"Expanded\"\n",
       "        },\n",
       "        \"children\": [\n",
       "          \"IPY_MODEL_09b33fb77902499a973d561e7547c2d2\",\n",
       "          \"IPY_MODEL_98989c7c142d4f72b0f2c45b4095bd11\"\n",
       "        ],\n",
       "        \"layout\": \"IPY_MODEL_7225e2aed5c74407aceb007b72b57062\"\n",
       "      }\n",
       "    },\n",
       "    \"885407b59b564ddd9d6769ffbb511b8a\": {\n",
       "      \"model_name\": \"LayoutModel\",\n",
       "      \"model_module\": \"@jupyter-widgets/base\",\n",
       "      \"model_module_version\": \"1.2.0\",\n",
       "      \"state\": {}\n",
       "    },\n",
       "    \"fc62e7b47f9741ac9c7ef4a10e4bde24\": {\n",
       "      \"model_name\": \"TabModel\",\n",
       "      \"model_module\": \"@jupyter-widgets/controls\",\n",
       "      \"model_module_version\": \"1.5.0\",\n",
       "      \"state\": {\n",
       "        \"_dom_classes\": [],\n",
       "        \"_titles\": {\n",
       "          \"0\": \"BS\",\n",
       "          \"1\": \"Critic\",\n",
       "          \"2\": \"Oracle\"\n",
       "        },\n",
       "        \"children\": [\n",
       "          \"IPY_MODEL_d83078e2fbb14cf39c812fc01ebe32b9\",\n",
       "          \"IPY_MODEL_d4a85e612ec44e2393b626d923966a6d\",\n",
       "          \"IPY_MODEL_2c45aefc48284ed187af59d1bcad2194\"\n",
       "        ],\n",
       "        \"layout\": \"IPY_MODEL_885407b59b564ddd9d6769ffbb511b8a\",\n",
       "        \"selected_index\": 2\n",
       "      }\n",
       "    },\n",
       "    \"150de81fe92743118295990f23ddd94d\": {\n",
       "      \"model_name\": \"LayoutModel\",\n",
       "      \"model_module\": \"@jupyter-widgets/base\",\n",
       "      \"model_module_version\": \"1.2.0\",\n",
       "      \"state\": {\n",
       "        \"overflow\": \"scroll\"\n",
       "      }\n",
       "    },\n",
       "    \"1acb49079f7846a7965607e60bb1f28f\": {\n",
       "      \"model_name\": \"VBoxModel\",\n",
       "      \"model_module\": \"@jupyter-widgets/controls\",\n",
       "      \"model_module_version\": \"1.5.0\",\n",
       "      \"state\": {\n",
       "        \"_dom_classes\": [],\n",
       "        \"children\": [\n",
       "          \"IPY_MODEL_fc62e7b47f9741ac9c7ef4a10e4bde24\"\n",
       "        ],\n",
       "        \"layout\": \"IPY_MODEL_150de81fe92743118295990f23ddd94d\"\n",
       "      }\n",
       "    },\n",
       "    \"dade6356fc4b410fbe8f89ca342270f5\": {\n",
       "      \"model_name\": \"LayoutModel\",\n",
       "      \"model_module\": \"@jupyter-widgets/base\",\n",
       "      \"model_module_version\": \"1.2.0\",\n",
       "      \"state\": {}\n",
       "    },\n",
       "    \"d25f2ae1bbf74e7882f58312be1c35b7\": {\n",
       "      \"model_name\": \"DescriptionStyleModel\",\n",
       "      \"model_module\": \"@jupyter-widgets/controls\",\n",
       "      \"model_module_version\": \"1.5.0\",\n",
       "      \"state\": {}\n",
       "    },\n",
       "    \"66bf4803aa3f48c387e2afc1f2a2b9fb\": {\n",
       "      \"model_name\": \"HTMLModel\",\n",
       "      \"model_module\": \"@jupyter-widgets/controls\",\n",
       "      \"model_module_version\": \"1.5.0\",\n",
       "      \"state\": {\n",
       "        \"_dom_classes\": [],\n",
       "        \"layout\": \"IPY_MODEL_dade6356fc4b410fbe8f89ca342270f5\",\n",
       "        \"style\": \"IPY_MODEL_d25f2ae1bbf74e7882f58312be1c35b7\",\n",
       "        \"value\": \"<div style='white-space: pre-wrap; line-height: 1.2; font-family: monospace, monospace;'>partial_acc: 72.88% (count=1.9k)\\nast_acc: 65.84% (count=2.6k)\\nfull_acc: 65.34% (count=1.9k)\\npartial_acc_by_cat: ...\\npartial_acc_by_pos: ...\\navg_label_size: 1.397\\navg_pred_size: 1.459\\n</div>\"\n",
       "      }\n",
       "    },\n",
       "    \"d935136160ef476983df3b2742993b3b\": {\n",
       "      \"model_name\": \"LayoutModel\",\n",
       "      \"model_module\": \"@jupyter-widgets/base\",\n",
       "      \"model_module_version\": \"1.2.0\",\n",
       "      \"state\": {}\n",
       "    },\n",
       "    \"3821a002807147d591bd0a6816eeeec6\": {\n",
       "      \"model_name\": \"DescriptionStyleModel\",\n",
       "      \"model_module\": \"@jupyter-widgets/controls\",\n",
       "      \"model_module_version\": \"1.5.0\",\n",
       "      \"state\": {}\n",
       "    },\n",
       "    \"f651ea4ab8604950959505c042a6172a\": {\n",
       "      \"model_name\": \"HTMLModel\",\n",
       "      \"model_module\": \"@jupyter-widgets/controls\",\n",
       "      \"model_module_version\": \"1.5.0\",\n",
       "      \"state\": {\n",
       "        \"_dom_classes\": [],\n",
       "        \"layout\": \"IPY_MODEL_d935136160ef476983df3b2742993b3b\",\n",
       "        \"style\": \"IPY_MODEL_3821a002807147d591bd0a6816eeeec6\",\n",
       "        \"value\": \"<div style='white-space: pre-wrap; line-height: 1.2; font-family: monospace, monospace;'>partial_acc: 72.88% (count=1.9k)\\nast_acc: 65.84% (count=2.6k)\\nfull_acc: 65.34% (count=1.9k)\\npartial_acc_by_cat:\\n   FuncArg: 63.82% (count=1.0k)\\n   FuncReturn: 84.24% (count=622)\\n   ClassAtribute: 81.43% (count=140)\\n   GlobalVar: 41.67% (count=12)\\n   LocalVar: 84.62% (count=104)\\npartial_acc_by_pos:\\n   range(0, 1): 74.30% (count=179)\\n   range(1, 2): 69.46% (count=167)\\n   range(2, 4): 74.18% (count=306)\\n   range(4, 8): 74.57% (count=519)\\n   range(8, 16): 71.53% (count=713)\\navg_label_size: 1.397\\navg_pred_size: 1.459\\n</div>\"\n",
       "      }\n",
       "    },\n",
       "    \"653c4e4e0a2a4228b66871a123424e16\": {\n",
       "      \"model_name\": \"LayoutModel\",\n",
       "      \"model_module\": \"@jupyter-widgets/base\",\n",
       "      \"model_module_version\": \"1.2.0\",\n",
       "      \"state\": {}\n",
       "    },\n",
       "    \"798c446ea4eb4bb4b58049f8a43fe768\": {\n",
       "      \"model_name\": \"TabModel\",\n",
       "      \"model_module\": \"@jupyter-widgets/controls\",\n",
       "      \"model_module_version\": \"1.5.0\",\n",
       "      \"state\": {\n",
       "        \"_dom_classes\": [],\n",
       "        \"_titles\": {\n",
       "          \"0\": \"Compressed\",\n",
       "          \"1\": \"Expanded\"\n",
       "        },\n",
       "        \"children\": [\n",
       "          \"IPY_MODEL_66bf4803aa3f48c387e2afc1f2a2b9fb\",\n",
       "          \"IPY_MODEL_f651ea4ab8604950959505c042a6172a\"\n",
       "        ],\n",
       "        \"layout\": \"IPY_MODEL_653c4e4e0a2a4228b66871a123424e16\"\n",
       "      }\n",
       "    },\n",
       "    \"26c74291f9db4e58a92ac3b2a4784f4c\": {\n",
       "      \"model_name\": \"LayoutModel\",\n",
       "      \"model_module\": \"@jupyter-widgets/base\",\n",
       "      \"model_module_version\": \"1.2.0\",\n",
       "      \"state\": {}\n",
       "    },\n",
       "    \"f63ddb2d96e042e8aa7a2bf286abc112\": {\n",
       "      \"model_name\": \"DescriptionStyleModel\",\n",
       "      \"model_module\": \"@jupyter-widgets/controls\",\n",
       "      \"model_module_version\": \"1.5.0\",\n",
       "      \"state\": {}\n",
       "    },\n",
       "    \"67632b592470454c9a1b5a5fcc4b1281\": {\n",
       "      \"model_name\": \"HTMLModel\",\n",
       "      \"model_module\": \"@jupyter-widgets/controls\",\n",
       "      \"model_module_version\": \"1.5.0\",\n",
       "      \"state\": {\n",
       "        \"_dom_classes\": [],\n",
       "        \"layout\": \"IPY_MODEL_26c74291f9db4e58a92ac3b2a4784f4c\",\n",
       "        \"style\": \"IPY_MODEL_f63ddb2d96e042e8aa7a2bf286abc112\",\n",
       "        \"value\": \"<div style='white-space: pre-wrap; line-height: 1.2; font-family: monospace, monospace;'>partial_acc: 73.35% (count=1.9k) [+0.48%]\\nast_acc: 66.34% (count=2.6k) [+0.49%]\\nfull_acc: 65.76% (count=1.9k) [+0.42%]\\npartial_acc_by_cat: ...\\npartial_acc_by_pos: ...\\navg_label_size: 1.397 [0]\\navg_pred_size: 1.447 [-0.01168]\\n</div>\"\n",
       "      }\n",
       "    },\n",
       "    \"2e6677a950dc4ae8b08283f522f7789a\": {\n",
       "      \"model_name\": \"LayoutModel\",\n",
       "      \"model_module\": \"@jupyter-widgets/base\",\n",
       "      \"model_module_version\": \"1.2.0\",\n",
       "      \"state\": {}\n",
       "    },\n",
       "    \"8c9e0fb6cc5f4cfe9af623f1cbbdc822\": {\n",
       "      \"model_name\": \"DescriptionStyleModel\",\n",
       "      \"model_module\": \"@jupyter-widgets/controls\",\n",
       "      \"model_module_version\": \"1.5.0\",\n",
       "      \"state\": {}\n",
       "    },\n",
       "    \"b2bb2ec5f11840a2908c0fa08049b7c6\": {\n",
       "      \"model_name\": \"HTMLModel\",\n",
       "      \"model_module\": \"@jupyter-widgets/controls\",\n",
       "      \"model_module_version\": \"1.5.0\",\n",
       "      \"state\": {\n",
       "        \"_dom_classes\": [],\n",
       "        \"layout\": \"IPY_MODEL_2e6677a950dc4ae8b08283f522f7789a\",\n",
       "        \"style\": \"IPY_MODEL_8c9e0fb6cc5f4cfe9af623f1cbbdc822\",\n",
       "        \"value\": \"<div style='white-space: pre-wrap; line-height: 1.2; font-family: monospace, monospace;'>partial_acc: 73.35% (count=1.9k) [+0.48%]\\nast_acc: 66.34% (count=2.6k) [+0.49%]\\nfull_acc: 65.76% (count=1.9k) [+0.42%]\\npartial_acc_by_cat:\\n   FuncArg: 64.41% (count=1.0k) [+0.60%]\\n   FuncReturn: 84.73% (count=622) [+0.48%]\\n   ClassAtribute: 81.43% (count=140) [+0.00%]\\n   GlobalVar: 41.67% (count=12) [+0.00%]\\n   LocalVar: 84.62% (count=104) [+0.00%]\\npartial_acc_by_pos:\\n   range(0, 1): 75.42% (count=179) [+1.12%]\\n   range(1, 2): 70.06% (count=167) [+0.60%]\\n   range(2, 4): 74.51% (count=306) [+0.33%]\\n   range(4, 8): 74.95% (count=519) [+0.39%]\\n   range(8, 16): 71.95% (count=713) [+0.42%]\\navg_label_size: 1.397 [0]\\navg_pred_size: 1.447 [-0.01168]\\n</div>\"\n",
       "      }\n",
       "    },\n",
       "    \"aaa609ef963941e195c6c02ac18155dc\": {\n",
       "      \"model_name\": \"LayoutModel\",\n",
       "      \"model_module\": \"@jupyter-widgets/base\",\n",
       "      \"model_module_version\": \"1.2.0\",\n",
       "      \"state\": {}\n",
       "    },\n",
       "    \"1ecd77fb517847c9b79be6a45e4e2a63\": {\n",
       "      \"model_name\": \"TabModel\",\n",
       "      \"model_module\": \"@jupyter-widgets/controls\",\n",
       "      \"model_module_version\": \"1.5.0\",\n",
       "      \"state\": {\n",
       "        \"_dom_classes\": [],\n",
       "        \"_titles\": {\n",
       "          \"0\": \"Compressed\",\n",
       "          \"1\": \"Expanded\"\n",
       "        },\n",
       "        \"children\": [\n",
       "          \"IPY_MODEL_67632b592470454c9a1b5a5fcc4b1281\",\n",
       "          \"IPY_MODEL_b2bb2ec5f11840a2908c0fa08049b7c6\"\n",
       "        ],\n",
       "        \"layout\": \"IPY_MODEL_aaa609ef963941e195c6c02ac18155dc\"\n",
       "      }\n",
       "    },\n",
       "    \"4dc45061fdfe4c0b940104e01e48b5c0\": {\n",
       "      \"model_name\": \"LayoutModel\",\n",
       "      \"model_module\": \"@jupyter-widgets/base\",\n",
       "      \"model_module_version\": \"1.2.0\",\n",
       "      \"state\": {}\n",
       "    },\n",
       "    \"70c771389af24cbd9cfaebeec334b6d0\": {\n",
       "      \"model_name\": \"DescriptionStyleModel\",\n",
       "      \"model_module\": \"@jupyter-widgets/controls\",\n",
       "      \"model_module_version\": \"1.5.0\",\n",
       "      \"state\": {}\n",
       "    },\n",
       "    \"e1ab159d56a142cebadd4897152a2d8b\": {\n",
       "      \"model_name\": \"HTMLModel\",\n",
       "      \"model_module\": \"@jupyter-widgets/controls\",\n",
       "      \"model_module_version\": \"1.5.0\",\n",
       "      \"state\": {\n",
       "        \"_dom_classes\": [],\n",
       "        \"layout\": \"IPY_MODEL_4dc45061fdfe4c0b940104e01e48b5c0\",\n",
       "        \"style\": \"IPY_MODEL_70c771389af24cbd9cfaebeec334b6d0\",\n",
       "        \"value\": \"<div style='white-space: pre-wrap; line-height: 1.2; font-family: monospace, monospace;'>partial_acc: 77.76% (count=1.9k) [+4.41%]\\nast_acc: 72.23% (count=2.6k) [+5.89%]\\nfull_acc: 72.61% (count=1.9k) [+6.85%]\\npartial_acc_by_cat: ...\\npartial_acc_by_pos: ...\\navg_label_size: 1.397 [0]\\navg_pred_size: 1.45 [0.003185]\\n</div>\"\n",
       "      }\n",
       "    },\n",
       "    \"ae63f0e7c5674a02a73c72062feae659\": {\n",
       "      \"model_name\": \"LayoutModel\",\n",
       "      \"model_module\": \"@jupyter-widgets/base\",\n",
       "      \"model_module_version\": \"1.2.0\",\n",
       "      \"state\": {}\n",
       "    },\n",
       "    \"360dc7bf935d409880c2e9388aab223d\": {\n",
       "      \"model_name\": \"DescriptionStyleModel\",\n",
       "      \"model_module\": \"@jupyter-widgets/controls\",\n",
       "      \"model_module_version\": \"1.5.0\",\n",
       "      \"state\": {}\n",
       "    },\n",
       "    \"fba554e8e905495c9dfeec047617f3ac\": {\n",
       "      \"model_name\": \"HTMLModel\",\n",
       "      \"model_module\": \"@jupyter-widgets/controls\",\n",
       "      \"model_module_version\": \"1.5.0\",\n",
       "      \"state\": {\n",
       "        \"_dom_classes\": [],\n",
       "        \"layout\": \"IPY_MODEL_ae63f0e7c5674a02a73c72062feae659\",\n",
       "        \"style\": \"IPY_MODEL_360dc7bf935d409880c2e9388aab223d\",\n",
       "        \"value\": \"<div style='white-space: pre-wrap; line-height: 1.2; font-family: monospace, monospace;'>partial_acc: 77.76% (count=1.9k) [+4.41%]\\nast_acc: 72.23% (count=2.6k) [+5.89%]\\nfull_acc: 72.61% (count=1.9k) [+6.85%]\\npartial_acc_by_cat:\\n   FuncArg: 69.28% (count=1.0k) [+4.87%]\\n   FuncReturn: 88.75% (count=622) [+4.02%]\\n   ClassAtribute: 85.71% (count=140) [+4.29%]\\n   GlobalVar: 41.67% (count=12) [+0.00%]\\n   LocalVar: 87.50% (count=104) [+2.88%]\\npartial_acc_by_pos:\\n   range(0, 1): 79.89% (count=179) [+4.47%]\\n   range(1, 2): 75.45% (count=167) [+5.39%]\\n   range(2, 4): 80.07% (count=306) [+5.56%]\\n   range(4, 8): 79.00% (count=519) [+4.05%]\\n   range(8, 16): 75.88% (count=713) [+3.93%]\\navg_label_size: 1.397 [0]\\navg_pred_size: 1.45 [0.003185]\\n</div>\"\n",
       "      }\n",
       "    },\n",
       "    \"7cba278e362b444faa10f0b3521fae5f\": {\n",
       "      \"model_name\": \"LayoutModel\",\n",
       "      \"model_module\": \"@jupyter-widgets/base\",\n",
       "      \"model_module_version\": \"1.2.0\",\n",
       "      \"state\": {}\n",
       "    },\n",
       "    \"0451ae63e0604dfea0e7024138fcc3d8\": {\n",
       "      \"model_name\": \"TabModel\",\n",
       "      \"model_module\": \"@jupyter-widgets/controls\",\n",
       "      \"model_module_version\": \"1.5.0\",\n",
       "      \"state\": {\n",
       "        \"_dom_classes\": [],\n",
       "        \"_titles\": {\n",
       "          \"0\": \"Compressed\",\n",
       "          \"1\": \"Expanded\"\n",
       "        },\n",
       "        \"children\": [\n",
       "          \"IPY_MODEL_e1ab159d56a142cebadd4897152a2d8b\",\n",
       "          \"IPY_MODEL_fba554e8e905495c9dfeec047617f3ac\"\n",
       "        ],\n",
       "        \"layout\": \"IPY_MODEL_7cba278e362b444faa10f0b3521fae5f\"\n",
       "      }\n",
       "    },\n",
       "    \"4f565fe393b643ce84ed8a8cd15547f9\": {\n",
       "      \"model_name\": \"LayoutModel\",\n",
       "      \"model_module\": \"@jupyter-widgets/base\",\n",
       "      \"model_module_version\": \"1.2.0\",\n",
       "      \"state\": {}\n",
       "    },\n",
       "    \"7f6ae63dabf248f48bd40d3ea246d50f\": {\n",
       "      \"model_name\": \"TabModel\",\n",
       "      \"model_module\": \"@jupyter-widgets/controls\",\n",
       "      \"model_module_version\": \"1.5.0\",\n",
       "      \"state\": {\n",
       "        \"_dom_classes\": [],\n",
       "        \"_titles\": {\n",
       "          \"0\": \"BS\",\n",
       "          \"1\": \"Critic\",\n",
       "          \"2\": \"Oracle\"\n",
       "        },\n",
       "        \"children\": [\n",
       "          \"IPY_MODEL_798c446ea4eb4bb4b58049f8a43fe768\",\n",
       "          \"IPY_MODEL_1ecd77fb517847c9b79be6a45e4e2a63\",\n",
       "          \"IPY_MODEL_0451ae63e0604dfea0e7024138fcc3d8\"\n",
       "        ],\n",
       "        \"layout\": \"IPY_MODEL_4f565fe393b643ce84ed8a8cd15547f9\",\n",
       "        \"selected_index\": 2\n",
       "      }\n",
       "    },\n",
       "    \"bcde5c171700409c8aad9e24cf0b5c70\": {\n",
       "      \"model_name\": \"LayoutModel\",\n",
       "      \"model_module\": \"@jupyter-widgets/base\",\n",
       "      \"model_module_version\": \"1.2.0\",\n",
       "      \"state\": {\n",
       "        \"overflow\": \"scroll\"\n",
       "      }\n",
       "    },\n",
       "    \"af6307d911994f5a835fa3c5ba703245\": {\n",
       "      \"model_name\": \"VBoxModel\",\n",
       "      \"model_module\": \"@jupyter-widgets/controls\",\n",
       "      \"model_module_version\": \"1.5.0\",\n",
       "      \"state\": {\n",
       "        \"_dom_classes\": [],\n",
       "        \"children\": [\n",
       "          \"IPY_MODEL_7f6ae63dabf248f48bd40d3ea246d50f\"\n",
       "        ],\n",
       "        \"layout\": \"IPY_MODEL_bcde5c171700409c8aad9e24cf0b5c70\"\n",
       "      }\n",
       "    },\n",
       "    \"15c2bb124edc4008b12fdbd8c61e903b\": {\n",
       "      \"model_name\": \"LayoutModel\",\n",
       "      \"model_module\": \"@jupyter-widgets/base\",\n",
       "      \"model_module_version\": \"1.2.0\",\n",
       "      \"state\": {}\n",
       "    },\n",
       "    \"0a17d9be56a448cb8429b187679a27e8\": {\n",
       "      \"model_name\": \"DescriptionStyleModel\",\n",
       "      \"model_module\": \"@jupyter-widgets/controls\",\n",
       "      \"model_module_version\": \"1.5.0\",\n",
       "      \"state\": {}\n",
       "    },\n",
       "    \"c17c27665f204723b7a16cf0e1f20a6e\": {\n",
       "      \"model_name\": \"HTMLModel\",\n",
       "      \"model_module\": \"@jupyter-widgets/controls\",\n",
       "      \"model_module_version\": \"1.5.0\",\n",
       "      \"state\": {\n",
       "        \"_dom_classes\": [],\n",
       "        \"layout\": \"IPY_MODEL_15c2bb124edc4008b12fdbd8c61e903b\",\n",
       "        \"style\": \"IPY_MODEL_0a17d9be56a448cb8429b187679a27e8\",\n",
       "        \"value\": \"<div style='white-space: pre-wrap; line-height: 1.2; font-family: monospace, monospace;'>partial_acc: 72.88% (count=1.9k)\\nast_acc: 65.84% (count=2.6k)\\nfull_acc: 65.34% (count=1.9k)\\npartial_acc_by_cat: ...\\npartial_acc_by_pos: ...\\navg_label_size: 1.397\\navg_pred_size: 1.459\\n</div>\"\n",
       "      }\n",
       "    },\n",
       "    \"c20a10953937464d8a9fd011597f09a2\": {\n",
       "      \"model_name\": \"LayoutModel\",\n",
       "      \"model_module\": \"@jupyter-widgets/base\",\n",
       "      \"model_module_version\": \"1.2.0\",\n",
       "      \"state\": {}\n",
       "    },\n",
       "    \"77f0ccea43854e1e9e41d8c441da1ba0\": {\n",
       "      \"model_name\": \"DescriptionStyleModel\",\n",
       "      \"model_module\": \"@jupyter-widgets/controls\",\n",
       "      \"model_module_version\": \"1.5.0\",\n",
       "      \"state\": {}\n",
       "    },\n",
       "    \"2049b38bea474b55b18b9b900b470050\": {\n",
       "      \"model_name\": \"HTMLModel\",\n",
       "      \"model_module\": \"@jupyter-widgets/controls\",\n",
       "      \"model_module_version\": \"1.5.0\",\n",
       "      \"state\": {\n",
       "        \"_dom_classes\": [],\n",
       "        \"layout\": \"IPY_MODEL_c20a10953937464d8a9fd011597f09a2\",\n",
       "        \"style\": \"IPY_MODEL_77f0ccea43854e1e9e41d8c441da1ba0\",\n",
       "        \"value\": \"<div style='white-space: pre-wrap; line-height: 1.2; font-family: monospace, monospace;'>partial_acc: 72.88% (count=1.9k)\\nast_acc: 65.84% (count=2.6k)\\nfull_acc: 65.34% (count=1.9k)\\npartial_acc_by_cat:\\n   FuncArg: 63.82% (count=1.0k)\\n   FuncReturn: 84.24% (count=622)\\n   ClassAtribute: 81.43% (count=140)\\n   GlobalVar: 41.67% (count=12)\\n   LocalVar: 84.62% (count=104)\\npartial_acc_by_pos:\\n   range(0, 1): 74.30% (count=179)\\n   range(1, 2): 69.46% (count=167)\\n   range(2, 4): 74.18% (count=306)\\n   range(4, 8): 74.57% (count=519)\\n   range(8, 16): 71.53% (count=713)\\navg_label_size: 1.397\\navg_pred_size: 1.459\\n</div>\"\n",
       "      }\n",
       "    },\n",
       "    \"cd9e21486ec04fb587e39dd76ef78799\": {\n",
       "      \"model_name\": \"LayoutModel\",\n",
       "      \"model_module\": \"@jupyter-widgets/base\",\n",
       "      \"model_module_version\": \"1.2.0\",\n",
       "      \"state\": {}\n",
       "    },\n",
       "    \"5127936967084f17b9ada222fb037dad\": {\n",
       "      \"model_name\": \"TabModel\",\n",
       "      \"model_module\": \"@jupyter-widgets/controls\",\n",
       "      \"model_module_version\": \"1.5.0\",\n",
       "      \"state\": {\n",
       "        \"_dom_classes\": [],\n",
       "        \"_titles\": {\n",
       "          \"0\": \"Compressed\",\n",
       "          \"1\": \"Expanded\"\n",
       "        },\n",
       "        \"children\": [\n",
       "          \"IPY_MODEL_c17c27665f204723b7a16cf0e1f20a6e\",\n",
       "          \"IPY_MODEL_2049b38bea474b55b18b9b900b470050\"\n",
       "        ],\n",
       "        \"layout\": \"IPY_MODEL_cd9e21486ec04fb587e39dd76ef78799\"\n",
       "      }\n",
       "    },\n",
       "    \"5a6c987f4439451b887c91e17f9a7c58\": {\n",
       "      \"model_name\": \"LayoutModel\",\n",
       "      \"model_module\": \"@jupyter-widgets/base\",\n",
       "      \"model_module_version\": \"1.2.0\",\n",
       "      \"state\": {}\n",
       "    },\n",
       "    \"806370e473684a768c23287c9b8a7567\": {\n",
       "      \"model_name\": \"DescriptionStyleModel\",\n",
       "      \"model_module\": \"@jupyter-widgets/controls\",\n",
       "      \"model_module_version\": \"1.5.0\",\n",
       "      \"state\": {}\n",
       "    },\n",
       "    \"fed3fe11c62c4fbe824347694a5d2f75\": {\n",
       "      \"model_name\": \"HTMLModel\",\n",
       "      \"model_module\": \"@jupyter-widgets/controls\",\n",
       "      \"model_module_version\": \"1.5.0\",\n",
       "      \"state\": {\n",
       "        \"_dom_classes\": [],\n",
       "        \"layout\": \"IPY_MODEL_5a6c987f4439451b887c91e17f9a7c58\",\n",
       "        \"style\": \"IPY_MODEL_806370e473684a768c23287c9b8a7567\",\n",
       "        \"value\": \"<div style='white-space: pre-wrap; line-height: 1.2; font-family: monospace, monospace;'>partial_acc: 72.93% (count=1.9k) [+0.05%]\\nast_acc: 66.15% (count=2.6k) [+0.30%]\\nfull_acc: 65.66% (count=1.9k) [+0.32%]\\npartial_acc_by_cat: ...\\npartial_acc_by_pos: ...\\navg_label_size: 1.397 [0]\\navg_pred_size: 1.443 [-0.01592]\\n</div>\"\n",
       "      }\n",
       "    },\n",
       "    \"31180ea0f6224a908a1c10079c0c48b2\": {\n",
       "      \"model_name\": \"LayoutModel\",\n",
       "      \"model_module\": \"@jupyter-widgets/base\",\n",
       "      \"model_module_version\": \"1.2.0\",\n",
       "      \"state\": {}\n",
       "    },\n",
       "    \"688a93de34674562b456257de69c47cf\": {\n",
       "      \"model_name\": \"DescriptionStyleModel\",\n",
       "      \"model_module\": \"@jupyter-widgets/controls\",\n",
       "      \"model_module_version\": \"1.5.0\",\n",
       "      \"state\": {}\n",
       "    },\n",
       "    \"3f596bc1ee7f432d848ee75f9d4cbd6f\": {\n",
       "      \"model_name\": \"HTMLModel\",\n",
       "      \"model_module\": \"@jupyter-widgets/controls\",\n",
       "      \"model_module_version\": \"1.5.0\",\n",
       "      \"state\": {\n",
       "        \"_dom_classes\": [],\n",
       "        \"layout\": \"IPY_MODEL_31180ea0f6224a908a1c10079c0c48b2\",\n",
       "        \"style\": \"IPY_MODEL_688a93de34674562b456257de69c47cf\",\n",
       "        \"value\": \"<div style='white-space: pre-wrap; line-height: 1.2; font-family: monospace, monospace;'>partial_acc: 72.93% (count=1.9k) [+0.05%]\\nast_acc: 66.15% (count=2.6k) [+0.30%]\\nfull_acc: 65.66% (count=1.9k) [+0.32%]\\npartial_acc_by_cat:\\n   FuncArg: 62.82% (count=1.0k) [-0.99%]\\n   FuncReturn: 85.37% (count=622) [+1.13%]\\n   ClassAtribute: 83.57% (count=140) [+2.14%]\\n   GlobalVar: 41.67% (count=12) [+0.00%]\\n   LocalVar: 85.58% (count=104) [+0.96%]\\npartial_acc_by_pos:\\n   range(0, 1): 74.30% (count=179) [+0.00%]\\n   range(1, 2): 69.46% (count=167) [+0.00%]\\n   range(2, 4): 75.16% (count=306) [+0.98%]\\n   range(4, 8): 74.76% (count=519) [+0.19%]\\n   range(8, 16): 71.11% (count=713) [-0.42%]\\navg_label_size: 1.397 [0]\\navg_pred_size: 1.443 [-0.01592]\\n</div>\"\n",
       "      }\n",
       "    },\n",
       "    \"551e7bf84deb4b0d91552bcb63a3dd9b\": {\n",
       "      \"model_name\": \"LayoutModel\",\n",
       "      \"model_module\": \"@jupyter-widgets/base\",\n",
       "      \"model_module_version\": \"1.2.0\",\n",
       "      \"state\": {}\n",
       "    },\n",
       "    \"477a4fdc31d547cea6960e66bfc88cd8\": {\n",
       "      \"model_name\": \"TabModel\",\n",
       "      \"model_module\": \"@jupyter-widgets/controls\",\n",
       "      \"model_module_version\": \"1.5.0\",\n",
       "      \"state\": {\n",
       "        \"_dom_classes\": [],\n",
       "        \"_titles\": {\n",
       "          \"0\": \"Compressed\",\n",
       "          \"1\": \"Expanded\"\n",
       "        },\n",
       "        \"children\": [\n",
       "          \"IPY_MODEL_fed3fe11c62c4fbe824347694a5d2f75\",\n",
       "          \"IPY_MODEL_3f596bc1ee7f432d848ee75f9d4cbd6f\"\n",
       "        ],\n",
       "        \"layout\": \"IPY_MODEL_551e7bf84deb4b0d91552bcb63a3dd9b\"\n",
       "      }\n",
       "    },\n",
       "    \"7bc8b3ae69bc43e2b601122279b233a5\": {\n",
       "      \"model_name\": \"LayoutModel\",\n",
       "      \"model_module\": \"@jupyter-widgets/base\",\n",
       "      \"model_module_version\": \"1.2.0\",\n",
       "      \"state\": {}\n",
       "    },\n",
       "    \"7151e073cb6346d088759de7abf5ce3e\": {\n",
       "      \"model_name\": \"DescriptionStyleModel\",\n",
       "      \"model_module\": \"@jupyter-widgets/controls\",\n",
       "      \"model_module_version\": \"1.5.0\",\n",
       "      \"state\": {}\n",
       "    },\n",
       "    \"c318a9da80c840db91e87d4cd28e245d\": {\n",
       "      \"model_name\": \"HTMLModel\",\n",
       "      \"model_module\": \"@jupyter-widgets/controls\",\n",
       "      \"model_module_version\": \"1.5.0\",\n",
       "      \"state\": {\n",
       "        \"_dom_classes\": [],\n",
       "        \"layout\": \"IPY_MODEL_7bc8b3ae69bc43e2b601122279b233a5\",\n",
       "        \"style\": \"IPY_MODEL_7151e073cb6346d088759de7abf5ce3e\",\n",
       "        \"value\": \"<div style='white-space: pre-wrap; line-height: 1.2; font-family: monospace, monospace;'>partial_acc: 77.76% (count=1.9k) [+4.83%]\\nast_acc: 72.23% (count=2.6k) [+6.08%]\\nfull_acc: 72.61% (count=1.9k) [+6.95%]\\npartial_acc_by_cat: ...\\npartial_acc_by_pos: ...\\navg_label_size: 1.397 [0]\\navg_pred_size: 1.45 [0.007431]\\n</div>\"\n",
       "      }\n",
       "    },\n",
       "    \"0ea19910eea94cf28cda1fdb2aeec7a9\": {\n",
       "      \"model_name\": \"LayoutModel\",\n",
       "      \"model_module\": \"@jupyter-widgets/base\",\n",
       "      \"model_module_version\": \"1.2.0\",\n",
       "      \"state\": {}\n",
       "    },\n",
       "    \"05491cf900d542ffaec0f1b9bf44e183\": {\n",
       "      \"model_name\": \"DescriptionStyleModel\",\n",
       "      \"model_module\": \"@jupyter-widgets/controls\",\n",
       "      \"model_module_version\": \"1.5.0\",\n",
       "      \"state\": {}\n",
       "    },\n",
       "    \"41cffff5629348df85f2c3591babfaf6\": {\n",
       "      \"model_name\": \"HTMLModel\",\n",
       "      \"model_module\": \"@jupyter-widgets/controls\",\n",
       "      \"model_module_version\": \"1.5.0\",\n",
       "      \"state\": {\n",
       "        \"_dom_classes\": [],\n",
       "        \"layout\": \"IPY_MODEL_0ea19910eea94cf28cda1fdb2aeec7a9\",\n",
       "        \"style\": \"IPY_MODEL_05491cf900d542ffaec0f1b9bf44e183\",\n",
       "        \"value\": \"<div style='white-space: pre-wrap; line-height: 1.2; font-family: monospace, monospace;'>partial_acc: 77.76% (count=1.9k) [+4.83%]\\nast_acc: 72.23% (count=2.6k) [+6.08%]\\nfull_acc: 72.61% (count=1.9k) [+6.95%]\\npartial_acc_by_cat:\\n   FuncArg: 69.28% (count=1.0k) [+6.46%]\\n   FuncReturn: 88.75% (count=622) [+3.38%]\\n   ClassAtribute: 85.71% (count=140) [+2.14%]\\n   GlobalVar: 41.67% (count=12) [+0.00%]\\n   LocalVar: 87.50% (count=104) [+1.92%]\\npartial_acc_by_pos:\\n   range(0, 1): 79.89% (count=179) [+5.59%]\\n   range(1, 2): 75.45% (count=167) [+5.99%]\\n   range(2, 4): 80.07% (count=306) [+4.90%]\\n   range(4, 8): 79.00% (count=519) [+4.24%]\\n   range(8, 16): 75.88% (count=713) [+4.77%]\\navg_label_size: 1.397 [0]\\navg_pred_size: 1.45 [0.007431]\\n</div>\"\n",
       "      }\n",
       "    },\n",
       "    \"19133add595043ce94b500fb6704c8e6\": {\n",
       "      \"model_name\": \"LayoutModel\",\n",
       "      \"model_module\": \"@jupyter-widgets/base\",\n",
       "      \"model_module_version\": \"1.2.0\",\n",
       "      \"state\": {}\n",
       "    },\n",
       "    \"9133db27edee4219a64729ed5c3838c5\": {\n",
       "      \"model_name\": \"TabModel\",\n",
       "      \"model_module\": \"@jupyter-widgets/controls\",\n",
       "      \"model_module_version\": \"1.5.0\",\n",
       "      \"state\": {\n",
       "        \"_dom_classes\": [],\n",
       "        \"_titles\": {\n",
       "          \"0\": \"Compressed\",\n",
       "          \"1\": \"Expanded\"\n",
       "        },\n",
       "        \"children\": [\n",
       "          \"IPY_MODEL_c318a9da80c840db91e87d4cd28e245d\",\n",
       "          \"IPY_MODEL_41cffff5629348df85f2c3591babfaf6\"\n",
       "        ],\n",
       "        \"layout\": \"IPY_MODEL_19133add595043ce94b500fb6704c8e6\"\n",
       "      }\n",
       "    },\n",
       "    \"78caaa26b1034c25b1ceb159370fb190\": {\n",
       "      \"model_name\": \"LayoutModel\",\n",
       "      \"model_module\": \"@jupyter-widgets/base\",\n",
       "      \"model_module_version\": \"1.2.0\",\n",
       "      \"state\": {}\n",
       "    },\n",
       "    \"9ac0bb814f5f41fabaccf4d8b9aebc81\": {\n",
       "      \"model_name\": \"TabModel\",\n",
       "      \"model_module\": \"@jupyter-widgets/controls\",\n",
       "      \"model_module_version\": \"1.5.0\",\n",
       "      \"state\": {\n",
       "        \"_dom_classes\": [],\n",
       "        \"_titles\": {\n",
       "          \"0\": \"BS\",\n",
       "          \"1\": \"Critic\",\n",
       "          \"2\": \"Oracle\"\n",
       "        },\n",
       "        \"children\": [\n",
       "          \"IPY_MODEL_5127936967084f17b9ada222fb037dad\",\n",
       "          \"IPY_MODEL_477a4fdc31d547cea6960e66bfc88cd8\",\n",
       "          \"IPY_MODEL_9133db27edee4219a64729ed5c3838c5\"\n",
       "        ],\n",
       "        \"layout\": \"IPY_MODEL_78caaa26b1034c25b1ceb159370fb190\",\n",
       "        \"selected_index\": 2\n",
       "      }\n",
       "    },\n",
       "    \"df7cf27a6d404f0c8c45a22bd2cfcb99\": {\n",
       "      \"model_name\": \"LayoutModel\",\n",
       "      \"model_module\": \"@jupyter-widgets/base\",\n",
       "      \"model_module_version\": \"1.2.0\",\n",
       "      \"state\": {\n",
       "        \"overflow\": \"scroll\"\n",
       "      }\n",
       "    },\n",
       "    \"f7b2842795114501bf1638db511d5b7b\": {\n",
       "      \"model_name\": \"VBoxModel\",\n",
       "      \"model_module\": \"@jupyter-widgets/controls\",\n",
       "      \"model_module_version\": \"1.5.0\",\n",
       "      \"state\": {\n",
       "        \"_dom_classes\": [],\n",
       "        \"children\": [\n",
       "          \"IPY_MODEL_9ac0bb814f5f41fabaccf4d8b9aebc81\"\n",
       "        ],\n",
       "        \"layout\": \"IPY_MODEL_df7cf27a6d404f0c8c45a22bd2cfcb99\"\n",
       "      }\n",
       "    },\n",
       "    \"2add894db6014d55a6419fd0e733276c\": {\n",
       "      \"model_name\": \"LayoutModel\",\n",
       "      \"model_module\": \"@jupyter-widgets/base\",\n",
       "      \"model_module_version\": \"1.2.0\",\n",
       "      \"state\": {}\n",
       "    },\n",
       "    \"fd85b86c0a644967be413b0cd2ba0894\": {\n",
       "      \"model_name\": \"DescriptionStyleModel\",\n",
       "      \"model_module\": \"@jupyter-widgets/controls\",\n",
       "      \"model_module_version\": \"1.5.0\",\n",
       "      \"state\": {}\n",
       "    },\n",
       "    \"a94200c54e5f46d79dd821b5400197f1\": {\n",
       "      \"model_name\": \"HTMLModel\",\n",
       "      \"model_module\": \"@jupyter-widgets/controls\",\n",
       "      \"model_module_version\": \"1.5.0\",\n",
       "      \"state\": {\n",
       "        \"_dom_classes\": [],\n",
       "        \"layout\": \"IPY_MODEL_2add894db6014d55a6419fd0e733276c\",\n",
       "        \"style\": \"IPY_MODEL_fd85b86c0a644967be413b0cd2ba0894\",\n",
       "        \"value\": \"<div style='white-space: pre-wrap; line-height: 1.2; font-family: monospace, monospace;'>partial_acc: 72.88% (count=1.9k)\\nast_acc: 65.84% (count=2.6k)\\nfull_acc: 65.34% (count=1.9k)\\npartial_acc_by_cat: ...\\npartial_acc_by_pos: ...\\navg_label_size: 1.397\\navg_pred_size: 1.459\\n</div>\"\n",
       "      }\n",
       "    },\n",
       "    \"c71b630322b14be78334731826ff8375\": {\n",
       "      \"model_name\": \"LayoutModel\",\n",
       "      \"model_module\": \"@jupyter-widgets/base\",\n",
       "      \"model_module_version\": \"1.2.0\",\n",
       "      \"state\": {}\n",
       "    },\n",
       "    \"e4d21439a00d441e83f29d493a3d7bcd\": {\n",
       "      \"model_name\": \"DescriptionStyleModel\",\n",
       "      \"model_module\": \"@jupyter-widgets/controls\",\n",
       "      \"model_module_version\": \"1.5.0\",\n",
       "      \"state\": {}\n",
       "    },\n",
       "    \"8245bfa835944b1ba6b20b932de9bdc1\": {\n",
       "      \"model_name\": \"HTMLModel\",\n",
       "      \"model_module\": \"@jupyter-widgets/controls\",\n",
       "      \"model_module_version\": \"1.5.0\",\n",
       "      \"state\": {\n",
       "        \"_dom_classes\": [],\n",
       "        \"layout\": \"IPY_MODEL_c71b630322b14be78334731826ff8375\",\n",
       "        \"style\": \"IPY_MODEL_e4d21439a00d441e83f29d493a3d7bcd\",\n",
       "        \"value\": \"<div style='white-space: pre-wrap; line-height: 1.2; font-family: monospace, monospace;'>partial_acc: 72.88% (count=1.9k)\\nast_acc: 65.84% (count=2.6k)\\nfull_acc: 65.34% (count=1.9k)\\npartial_acc_by_cat:\\n   FuncArg: 63.82% (count=1.0k)\\n   FuncReturn: 84.24% (count=622)\\n   ClassAtribute: 81.43% (count=140)\\n   GlobalVar: 41.67% (count=12)\\n   LocalVar: 84.62% (count=104)\\npartial_acc_by_pos:\\n   range(0, 1): 74.30% (count=179)\\n   range(1, 2): 69.46% (count=167)\\n   range(2, 4): 74.18% (count=306)\\n   range(4, 8): 74.57% (count=519)\\n   range(8, 16): 71.53% (count=713)\\navg_label_size: 1.397\\navg_pred_size: 1.459\\n</div>\"\n",
       "      }\n",
       "    },\n",
       "    \"d5e37d9e09f342399cce4a2a3ee73d1c\": {\n",
       "      \"model_name\": \"LayoutModel\",\n",
       "      \"model_module\": \"@jupyter-widgets/base\",\n",
       "      \"model_module_version\": \"1.2.0\",\n",
       "      \"state\": {}\n",
       "    },\n",
       "    \"e1673c79380044f08af9f859efc98a33\": {\n",
       "      \"model_name\": \"TabModel\",\n",
       "      \"model_module\": \"@jupyter-widgets/controls\",\n",
       "      \"model_module_version\": \"1.5.0\",\n",
       "      \"state\": {\n",
       "        \"_dom_classes\": [],\n",
       "        \"_titles\": {\n",
       "          \"0\": \"Compressed\",\n",
       "          \"1\": \"Expanded\"\n",
       "        },\n",
       "        \"children\": [\n",
       "          \"IPY_MODEL_a94200c54e5f46d79dd821b5400197f1\",\n",
       "          \"IPY_MODEL_8245bfa835944b1ba6b20b932de9bdc1\"\n",
       "        ],\n",
       "        \"layout\": \"IPY_MODEL_d5e37d9e09f342399cce4a2a3ee73d1c\"\n",
       "      }\n",
       "    },\n",
       "    \"05759742b5aa444faffc564fdd289b34\": {\n",
       "      \"model_name\": \"LayoutModel\",\n",
       "      \"model_module\": \"@jupyter-widgets/base\",\n",
       "      \"model_module_version\": \"1.2.0\",\n",
       "      \"state\": {}\n",
       "    },\n",
       "    \"101932f387594b19b9877a9d054c98d7\": {\n",
       "      \"model_name\": \"DescriptionStyleModel\",\n",
       "      \"model_module\": \"@jupyter-widgets/controls\",\n",
       "      \"model_module_version\": \"1.5.0\",\n",
       "      \"state\": {}\n",
       "    },\n",
       "    \"21678c3805ff45b1b8617e740c50b776\": {\n",
       "      \"model_name\": \"HTMLModel\",\n",
       "      \"model_module\": \"@jupyter-widgets/controls\",\n",
       "      \"model_module_version\": \"1.5.0\",\n",
       "      \"state\": {\n",
       "        \"_dom_classes\": [],\n",
       "        \"layout\": \"IPY_MODEL_05759742b5aa444faffc564fdd289b34\",\n",
       "        \"style\": \"IPY_MODEL_101932f387594b19b9877a9d054c98d7\",\n",
       "        \"value\": \"<div style='white-space: pre-wrap; line-height: 1.2; font-family: monospace, monospace;'>partial_acc: 73.09% (count=1.9k) [+0.21%]\\nast_acc: 66.30% (count=2.6k) [+0.46%]\\nfull_acc: 65.61% (count=1.9k) [+0.27%]\\npartial_acc_by_cat: ...\\npartial_acc_by_pos: ...\\navg_label_size: 1.397 [0]\\navg_pred_size: 1.447 [-0.01168]\\n</div>\"\n",
       "      }\n",
       "    },\n",
       "    \"aa4f86ebcc114ad59e0ffd48ca7aecba\": {\n",
       "      \"model_name\": \"LayoutModel\",\n",
       "      \"model_module\": \"@jupyter-widgets/base\",\n",
       "      \"model_module_version\": \"1.2.0\",\n",
       "      \"state\": {}\n",
       "    },\n",
       "    \"5eb3020f3e3a4e45b7dd9915802e944e\": {\n",
       "      \"model_name\": \"DescriptionStyleModel\",\n",
       "      \"model_module\": \"@jupyter-widgets/controls\",\n",
       "      \"model_module_version\": \"1.5.0\",\n",
       "      \"state\": {}\n",
       "    },\n",
       "    \"7fa793004fe34de6b5cf961a034cbf0f\": {\n",
       "      \"model_name\": \"HTMLModel\",\n",
       "      \"model_module\": \"@jupyter-widgets/controls\",\n",
       "      \"model_module_version\": \"1.5.0\",\n",
       "      \"state\": {\n",
       "        \"_dom_classes\": [],\n",
       "        \"layout\": \"IPY_MODEL_aa4f86ebcc114ad59e0ffd48ca7aecba\",\n",
       "        \"style\": \"IPY_MODEL_5eb3020f3e3a4e45b7dd9915802e944e\",\n",
       "        \"value\": \"<div style='white-space: pre-wrap; line-height: 1.2; font-family: monospace, monospace;'>partial_acc: 73.09% (count=1.9k) [+0.21%]\\nast_acc: 66.30% (count=2.6k) [+0.46%]\\nfull_acc: 65.61% (count=1.9k) [+0.27%]\\npartial_acc_by_cat:\\n   FuncArg: 63.02% (count=1.0k) [-0.80%]\\n   FuncReturn: 85.21% (count=622) [+0.96%]\\n   ClassAtribute: 85.00% (count=140) [+3.57%]\\n   GlobalVar: 41.67% (count=12) [+0.00%]\\n   LocalVar: 85.58% (count=104) [+0.96%]\\npartial_acc_by_pos:\\n   range(0, 1): 73.74% (count=179) [-0.56%]\\n   range(1, 2): 69.46% (count=167) [+0.00%]\\n   range(2, 4): 75.49% (count=306) [+1.31%]\\n   range(4, 8): 74.57% (count=519) [+0.00%]\\n   range(8, 16): 71.67% (count=713) [+0.14%]\\navg_label_size: 1.397 [0]\\navg_pred_size: 1.447 [-0.01168]\\n</div>\"\n",
       "      }\n",
       "    },\n",
       "    \"6ea99a18f29643deb06620e128be6c43\": {\n",
       "      \"model_name\": \"LayoutModel\",\n",
       "      \"model_module\": \"@jupyter-widgets/base\",\n",
       "      \"model_module_version\": \"1.2.0\",\n",
       "      \"state\": {}\n",
       "    },\n",
       "    \"58c29e8f280f4defb5faf087b07df0b7\": {\n",
       "      \"model_name\": \"TabModel\",\n",
       "      \"model_module\": \"@jupyter-widgets/controls\",\n",
       "      \"model_module_version\": \"1.5.0\",\n",
       "      \"state\": {\n",
       "        \"_dom_classes\": [],\n",
       "        \"_titles\": {\n",
       "          \"0\": \"Compressed\",\n",
       "          \"1\": \"Expanded\"\n",
       "        },\n",
       "        \"children\": [\n",
       "          \"IPY_MODEL_21678c3805ff45b1b8617e740c50b776\",\n",
       "          \"IPY_MODEL_7fa793004fe34de6b5cf961a034cbf0f\"\n",
       "        ],\n",
       "        \"layout\": \"IPY_MODEL_6ea99a18f29643deb06620e128be6c43\"\n",
       "      }\n",
       "    },\n",
       "    \"22a08d584f704e3cb9b89f1f30393a11\": {\n",
       "      \"model_name\": \"LayoutModel\",\n",
       "      \"model_module\": \"@jupyter-widgets/base\",\n",
       "      \"model_module_version\": \"1.2.0\",\n",
       "      \"state\": {}\n",
       "    },\n",
       "    \"75db1564b6104a159605d887a3073a4c\": {\n",
       "      \"model_name\": \"DescriptionStyleModel\",\n",
       "      \"model_module\": \"@jupyter-widgets/controls\",\n",
       "      \"model_module_version\": \"1.5.0\",\n",
       "      \"state\": {}\n",
       "    },\n",
       "    \"efe6d49395bc4929a9a9a37a86c00ea8\": {\n",
       "      \"model_name\": \"HTMLModel\",\n",
       "      \"model_module\": \"@jupyter-widgets/controls\",\n",
       "      \"model_module_version\": \"1.5.0\",\n",
       "      \"state\": {\n",
       "        \"_dom_classes\": [],\n",
       "        \"layout\": \"IPY_MODEL_22a08d584f704e3cb9b89f1f30393a11\",\n",
       "        \"style\": \"IPY_MODEL_75db1564b6104a159605d887a3073a4c\",\n",
       "        \"value\": \"<div style='white-space: pre-wrap; line-height: 1.2; font-family: monospace, monospace;'>partial_acc: 77.76% (count=1.9k) [+4.67%]\\nast_acc: 72.23% (count=2.6k) [+5.93%]\\nfull_acc: 72.61% (count=1.9k) [+7.01%]\\npartial_acc_by_cat: ...\\npartial_acc_by_pos: ...\\navg_label_size: 1.397 [0]\\navg_pred_size: 1.45 [0.003185]\\n</div>\"\n",
       "      }\n",
       "    },\n",
       "    \"fa254545d0254abca6334aceea229a9a\": {\n",
       "      \"model_name\": \"LayoutModel\",\n",
       "      \"model_module\": \"@jupyter-widgets/base\",\n",
       "      \"model_module_version\": \"1.2.0\",\n",
       "      \"state\": {}\n",
       "    },\n",
       "    \"cf85429bc8b443e789a6b1f3f97941ed\": {\n",
       "      \"model_name\": \"DescriptionStyleModel\",\n",
       "      \"model_module\": \"@jupyter-widgets/controls\",\n",
       "      \"model_module_version\": \"1.5.0\",\n",
       "      \"state\": {}\n",
       "    },\n",
       "    \"4be82b3119004bb498d54005bbdeded6\": {\n",
       "      \"model_name\": \"HTMLModel\",\n",
       "      \"model_module\": \"@jupyter-widgets/controls\",\n",
       "      \"model_module_version\": \"1.5.0\",\n",
       "      \"state\": {\n",
       "        \"_dom_classes\": [],\n",
       "        \"layout\": \"IPY_MODEL_fa254545d0254abca6334aceea229a9a\",\n",
       "        \"style\": \"IPY_MODEL_cf85429bc8b443e789a6b1f3f97941ed\",\n",
       "        \"value\": \"<div style='white-space: pre-wrap; line-height: 1.2; font-family: monospace, monospace;'>partial_acc: 77.76% (count=1.9k) [+4.67%]\\nast_acc: 72.23% (count=2.6k) [+5.93%]\\nfull_acc: 72.61% (count=1.9k) [+7.01%]\\npartial_acc_by_cat:\\n   FuncArg: 69.28% (count=1.0k) [+6.26%]\\n   FuncReturn: 88.75% (count=622) [+3.54%]\\n   ClassAtribute: 85.71% (count=140) [+0.71%]\\n   GlobalVar: 41.67% (count=12) [+0.00%]\\n   LocalVar: 87.50% (count=104) [+1.92%]\\npartial_acc_by_pos:\\n   range(0, 1): 79.89% (count=179) [+6.15%]\\n   range(1, 2): 75.45% (count=167) [+5.99%]\\n   range(2, 4): 80.07% (count=306) [+4.58%]\\n   range(4, 8): 79.00% (count=519) [+4.43%]\\n   range(8, 16): 75.88% (count=713) [+4.21%]\\navg_label_size: 1.397 [0]\\navg_pred_size: 1.45 [0.003185]\\n</div>\"\n",
       "      }\n",
       "    },\n",
       "    \"3c1c27f466b8424db782bd126938a3cb\": {\n",
       "      \"model_name\": \"LayoutModel\",\n",
       "      \"model_module\": \"@jupyter-widgets/base\",\n",
       "      \"model_module_version\": \"1.2.0\",\n",
       "      \"state\": {}\n",
       "    },\n",
       "    \"654aa9394dbf421e9f2680922cabb5f7\": {\n",
       "      \"model_name\": \"TabModel\",\n",
       "      \"model_module\": \"@jupyter-widgets/controls\",\n",
       "      \"model_module_version\": \"1.5.0\",\n",
       "      \"state\": {\n",
       "        \"_dom_classes\": [],\n",
       "        \"_titles\": {\n",
       "          \"0\": \"Compressed\",\n",
       "          \"1\": \"Expanded\"\n",
       "        },\n",
       "        \"children\": [\n",
       "          \"IPY_MODEL_efe6d49395bc4929a9a9a37a86c00ea8\",\n",
       "          \"IPY_MODEL_4be82b3119004bb498d54005bbdeded6\"\n",
       "        ],\n",
       "        \"layout\": \"IPY_MODEL_3c1c27f466b8424db782bd126938a3cb\"\n",
       "      }\n",
       "    },\n",
       "    \"fdff516d68c34c4ab5c3dfdccf1fac0c\": {\n",
       "      \"model_name\": \"LayoutModel\",\n",
       "      \"model_module\": \"@jupyter-widgets/base\",\n",
       "      \"model_module_version\": \"1.2.0\",\n",
       "      \"state\": {}\n",
       "    },\n",
       "    \"7912e8facd7146799f8a7095cdc6b7e6\": {\n",
       "      \"model_name\": \"TabModel\",\n",
       "      \"model_module\": \"@jupyter-widgets/controls\",\n",
       "      \"model_module_version\": \"1.5.0\",\n",
       "      \"state\": {\n",
       "        \"_dom_classes\": [],\n",
       "        \"_titles\": {\n",
       "          \"0\": \"BS\",\n",
       "          \"1\": \"Critic\",\n",
       "          \"2\": \"Oracle\"\n",
       "        },\n",
       "        \"children\": [\n",
       "          \"IPY_MODEL_e1673c79380044f08af9f859efc98a33\",\n",
       "          \"IPY_MODEL_58c29e8f280f4defb5faf087b07df0b7\",\n",
       "          \"IPY_MODEL_654aa9394dbf421e9f2680922cabb5f7\"\n",
       "        ],\n",
       "        \"layout\": \"IPY_MODEL_fdff516d68c34c4ab5c3dfdccf1fac0c\",\n",
       "        \"selected_index\": 2\n",
       "      }\n",
       "    },\n",
       "    \"be674587c1cd48faafb4bbf98b795f68\": {\n",
       "      \"model_name\": \"LayoutModel\",\n",
       "      \"model_module\": \"@jupyter-widgets/base\",\n",
       "      \"model_module_version\": \"1.2.0\",\n",
       "      \"state\": {\n",
       "        \"overflow\": \"scroll\"\n",
       "      }\n",
       "    },\n",
       "    \"51f9009182e64972a74571e75daac722\": {\n",
       "      \"model_name\": \"VBoxModel\",\n",
       "      \"model_module\": \"@jupyter-widgets/controls\",\n",
       "      \"model_module_version\": \"1.5.0\",\n",
       "      \"state\": {\n",
       "        \"_dom_classes\": [],\n",
       "        \"children\": [\n",
       "          \"IPY_MODEL_7912e8facd7146799f8a7095cdc6b7e6\"\n",
       "        ],\n",
       "        \"layout\": \"IPY_MODEL_be674587c1cd48faafb4bbf98b795f68\"\n",
       "      }\n",
       "    },\n",
       "    \"1d159993af404d85b6936905aa5e25f0\": {\n",
       "      \"model_name\": \"LayoutModel\",\n",
       "      \"model_module\": \"@jupyter-widgets/base\",\n",
       "      \"model_module_version\": \"1.2.0\",\n",
       "      \"state\": {}\n",
       "    },\n",
       "    \"56a5eba3b7144e0c8a2b82bc073ca52c\": {\n",
       "      \"model_name\": \"DescriptionStyleModel\",\n",
       "      \"model_module\": \"@jupyter-widgets/controls\",\n",
       "      \"model_module_version\": \"1.5.0\",\n",
       "      \"state\": {}\n",
       "    },\n",
       "    \"3d61f5e976624507a29df2bbb047a695\": {\n",
       "      \"model_name\": \"HTMLModel\",\n",
       "      \"model_module\": \"@jupyter-widgets/controls\",\n",
       "      \"model_module_version\": \"1.5.0\",\n",
       "      \"state\": {\n",
       "        \"_dom_classes\": [],\n",
       "        \"layout\": \"IPY_MODEL_1d159993af404d85b6936905aa5e25f0\",\n",
       "        \"style\": \"IPY_MODEL_56a5eba3b7144e0c8a2b82bc073ca52c\",\n",
       "        \"value\": \"<div style='white-space: pre-wrap; line-height: 1.2; font-family: monospace, monospace;'>partial_acc: 72.88% (count=1.9k)\\nast_acc: 65.84% (count=2.6k)\\nfull_acc: 65.34% (count=1.9k)\\npartial_acc_by_cat: ...\\npartial_acc_by_pos: ...\\navg_label_size: 1.397\\navg_pred_size: 1.459\\n</div>\"\n",
       "      }\n",
       "    },\n",
       "    \"7e9e1da127c04420a5ce037ddf732154\": {\n",
       "      \"model_name\": \"LayoutModel\",\n",
       "      \"model_module\": \"@jupyter-widgets/base\",\n",
       "      \"model_module_version\": \"1.2.0\",\n",
       "      \"state\": {}\n",
       "    },\n",
       "    \"dbb8220bb3a04e23b2612a7aa33e177d\": {\n",
       "      \"model_name\": \"DescriptionStyleModel\",\n",
       "      \"model_module\": \"@jupyter-widgets/controls\",\n",
       "      \"model_module_version\": \"1.5.0\",\n",
       "      \"state\": {}\n",
       "    },\n",
       "    \"28e15c47f8874e7c8dedbd217ff66ad7\": {\n",
       "      \"model_name\": \"HTMLModel\",\n",
       "      \"model_module\": \"@jupyter-widgets/controls\",\n",
       "      \"model_module_version\": \"1.5.0\",\n",
       "      \"state\": {\n",
       "        \"_dom_classes\": [],\n",
       "        \"layout\": \"IPY_MODEL_7e9e1da127c04420a5ce037ddf732154\",\n",
       "        \"style\": \"IPY_MODEL_dbb8220bb3a04e23b2612a7aa33e177d\",\n",
       "        \"value\": \"<div style='white-space: pre-wrap; line-height: 1.2; font-family: monospace, monospace;'>partial_acc: 72.88% (count=1.9k)\\nast_acc: 65.84% (count=2.6k)\\nfull_acc: 65.34% (count=1.9k)\\npartial_acc_by_cat:\\n   FuncArg: 63.82% (count=1.0k)\\n   FuncReturn: 84.24% (count=622)\\n   ClassAtribute: 81.43% (count=140)\\n   GlobalVar: 41.67% (count=12)\\n   LocalVar: 84.62% (count=104)\\npartial_acc_by_pos:\\n   range(0, 1): 74.30% (count=179)\\n   range(1, 2): 69.46% (count=167)\\n   range(2, 4): 74.18% (count=306)\\n   range(4, 8): 74.57% (count=519)\\n   range(8, 16): 71.53% (count=713)\\navg_label_size: 1.397\\navg_pred_size: 1.459\\n</div>\"\n",
       "      }\n",
       "    },\n",
       "    \"8fcdbab36d914cad94a2cae79f5efdc5\": {\n",
       "      \"model_name\": \"LayoutModel\",\n",
       "      \"model_module\": \"@jupyter-widgets/base\",\n",
       "      \"model_module_version\": \"1.2.0\",\n",
       "      \"state\": {}\n",
       "    },\n",
       "    \"94cdce7186d54c6d84e21124272b3234\": {\n",
       "      \"model_name\": \"TabModel\",\n",
       "      \"model_module\": \"@jupyter-widgets/controls\",\n",
       "      \"model_module_version\": \"1.5.0\",\n",
       "      \"state\": {\n",
       "        \"_dom_classes\": [],\n",
       "        \"_titles\": {\n",
       "          \"0\": \"Compressed\",\n",
       "          \"1\": \"Expanded\"\n",
       "        },\n",
       "        \"children\": [\n",
       "          \"IPY_MODEL_3d61f5e976624507a29df2bbb047a695\",\n",
       "          \"IPY_MODEL_28e15c47f8874e7c8dedbd217ff66ad7\"\n",
       "        ],\n",
       "        \"layout\": \"IPY_MODEL_8fcdbab36d914cad94a2cae79f5efdc5\"\n",
       "      }\n",
       "    },\n",
       "    \"9e291e838513471bb6c133932379f817\": {\n",
       "      \"model_name\": \"LayoutModel\",\n",
       "      \"model_module\": \"@jupyter-widgets/base\",\n",
       "      \"model_module_version\": \"1.2.0\",\n",
       "      \"state\": {}\n",
       "    },\n",
       "    \"3d683ed2588746c0ac4bf33bf2dc533a\": {\n",
       "      \"model_name\": \"DescriptionStyleModel\",\n",
       "      \"model_module\": \"@jupyter-widgets/controls\",\n",
       "      \"model_module_version\": \"1.5.0\",\n",
       "      \"state\": {}\n",
       "    },\n",
       "    \"b9549afeaccc468d96a0ed4bd2c8d223\": {\n",
       "      \"model_name\": \"HTMLModel\",\n",
       "      \"model_module\": \"@jupyter-widgets/controls\",\n",
       "      \"model_module_version\": \"1.5.0\",\n",
       "      \"state\": {\n",
       "        \"_dom_classes\": [],\n",
       "        \"layout\": \"IPY_MODEL_9e291e838513471bb6c133932379f817\",\n",
       "        \"style\": \"IPY_MODEL_3d683ed2588746c0ac4bf33bf2dc533a\",\n",
       "        \"value\": \"<div style='white-space: pre-wrap; line-height: 1.2; font-family: monospace, monospace;'>partial_acc: 73.09% (count=1.9k) [+0.21%]\\nast_acc: 66.30% (count=2.6k) [+0.46%]\\nfull_acc: 65.61% (count=1.9k) [+0.27%]\\npartial_acc_by_cat: ...\\npartial_acc_by_pos: ...\\navg_label_size: 1.397 [0]\\navg_pred_size: 1.447 [-0.01168]\\n</div>\"\n",
       "      }\n",
       "    },\n",
       "    \"ec02b7685eca46c79ef4e38815964977\": {\n",
       "      \"model_name\": \"LayoutModel\",\n",
       "      \"model_module\": \"@jupyter-widgets/base\",\n",
       "      \"model_module_version\": \"1.2.0\",\n",
       "      \"state\": {}\n",
       "    },\n",
       "    \"fc6789f9e8c544de9361b5b888a5f575\": {\n",
       "      \"model_name\": \"DescriptionStyleModel\",\n",
       "      \"model_module\": \"@jupyter-widgets/controls\",\n",
       "      \"model_module_version\": \"1.5.0\",\n",
       "      \"state\": {}\n",
       "    },\n",
       "    \"1cc37468b7b34a769aeb0cb5d84ed52a\": {\n",
       "      \"model_name\": \"HTMLModel\",\n",
       "      \"model_module\": \"@jupyter-widgets/controls\",\n",
       "      \"model_module_version\": \"1.5.0\",\n",
       "      \"state\": {\n",
       "        \"_dom_classes\": [],\n",
       "        \"layout\": \"IPY_MODEL_ec02b7685eca46c79ef4e38815964977\",\n",
       "        \"style\": \"IPY_MODEL_fc6789f9e8c544de9361b5b888a5f575\",\n",
       "        \"value\": \"<div style='white-space: pre-wrap; line-height: 1.2; font-family: monospace, monospace;'>partial_acc: 73.09% (count=1.9k) [+0.21%]\\nast_acc: 66.30% (count=2.6k) [+0.46%]\\nfull_acc: 65.61% (count=1.9k) [+0.27%]\\npartial_acc_by_cat:\\n   FuncArg: 63.02% (count=1.0k) [-0.80%]\\n   FuncReturn: 85.21% (count=622) [+0.96%]\\n   ClassAtribute: 85.00% (count=140) [+3.57%]\\n   GlobalVar: 41.67% (count=12) [+0.00%]\\n   LocalVar: 85.58% (count=104) [+0.96%]\\npartial_acc_by_pos:\\n   range(0, 1): 73.74% (count=179) [-0.56%]\\n   range(1, 2): 69.46% (count=167) [+0.00%]\\n   range(2, 4): 75.49% (count=306) [+1.31%]\\n   range(4, 8): 74.57% (count=519) [+0.00%]\\n   range(8, 16): 71.67% (count=713) [+0.14%]\\navg_label_size: 1.397 [0]\\navg_pred_size: 1.447 [-0.01168]\\n</div>\"\n",
       "      }\n",
       "    },\n",
       "    \"791bdb8a8f8d4d9080e33f3f2533129b\": {\n",
       "      \"model_name\": \"LayoutModel\",\n",
       "      \"model_module\": \"@jupyter-widgets/base\",\n",
       "      \"model_module_version\": \"1.2.0\",\n",
       "      \"state\": {}\n",
       "    },\n",
       "    \"1f2bc257672b46869d6aec3f62278456\": {\n",
       "      \"model_name\": \"TabModel\",\n",
       "      \"model_module\": \"@jupyter-widgets/controls\",\n",
       "      \"model_module_version\": \"1.5.0\",\n",
       "      \"state\": {\n",
       "        \"_dom_classes\": [],\n",
       "        \"_titles\": {\n",
       "          \"0\": \"Compressed\",\n",
       "          \"1\": \"Expanded\"\n",
       "        },\n",
       "        \"children\": [\n",
       "          \"IPY_MODEL_b9549afeaccc468d96a0ed4bd2c8d223\",\n",
       "          \"IPY_MODEL_1cc37468b7b34a769aeb0cb5d84ed52a\"\n",
       "        ],\n",
       "        \"layout\": \"IPY_MODEL_791bdb8a8f8d4d9080e33f3f2533129b\"\n",
       "      }\n",
       "    },\n",
       "    \"3179668bd3814cff9106476c3aa4dbfb\": {\n",
       "      \"model_name\": \"LayoutModel\",\n",
       "      \"model_module\": \"@jupyter-widgets/base\",\n",
       "      \"model_module_version\": \"1.2.0\",\n",
       "      \"state\": {}\n",
       "    },\n",
       "    \"aeeab52ac53f45348edad38e84e4dc5d\": {\n",
       "      \"model_name\": \"DescriptionStyleModel\",\n",
       "      \"model_module\": \"@jupyter-widgets/controls\",\n",
       "      \"model_module_version\": \"1.5.0\",\n",
       "      \"state\": {}\n",
       "    },\n",
       "    \"cee5487e97fb43aeadfcc83d3cd6bae0\": {\n",
       "      \"model_name\": \"HTMLModel\",\n",
       "      \"model_module\": \"@jupyter-widgets/controls\",\n",
       "      \"model_module_version\": \"1.5.0\",\n",
       "      \"state\": {\n",
       "        \"_dom_classes\": [],\n",
       "        \"layout\": \"IPY_MODEL_3179668bd3814cff9106476c3aa4dbfb\",\n",
       "        \"style\": \"IPY_MODEL_aeeab52ac53f45348edad38e84e4dc5d\",\n",
       "        \"value\": \"<div style='white-space: pre-wrap; line-height: 1.2; font-family: monospace, monospace;'>partial_acc: 77.76% (count=1.9k) [+4.67%]\\nast_acc: 72.23% (count=2.6k) [+5.93%]\\nfull_acc: 72.61% (count=1.9k) [+7.01%]\\npartial_acc_by_cat: ...\\npartial_acc_by_pos: ...\\navg_label_size: 1.397 [0]\\navg_pred_size: 1.45 [0.003185]\\n</div>\"\n",
       "      }\n",
       "    },\n",
       "    \"d6fadcc57fd14029ab5021f13dff09d1\": {\n",
       "      \"model_name\": \"LayoutModel\",\n",
       "      \"model_module\": \"@jupyter-widgets/base\",\n",
       "      \"model_module_version\": \"1.2.0\",\n",
       "      \"state\": {}\n",
       "    },\n",
       "    \"08a466d39f1d4bccaffe0147f6e2b158\": {\n",
       "      \"model_name\": \"DescriptionStyleModel\",\n",
       "      \"model_module\": \"@jupyter-widgets/controls\",\n",
       "      \"model_module_version\": \"1.5.0\",\n",
       "      \"state\": {}\n",
       "    },\n",
       "    \"5c9e0964b90a47148e62eb773decc982\": {\n",
       "      \"model_name\": \"HTMLModel\",\n",
       "      \"model_module\": \"@jupyter-widgets/controls\",\n",
       "      \"model_module_version\": \"1.5.0\",\n",
       "      \"state\": {\n",
       "        \"_dom_classes\": [],\n",
       "        \"layout\": \"IPY_MODEL_d6fadcc57fd14029ab5021f13dff09d1\",\n",
       "        \"style\": \"IPY_MODEL_08a466d39f1d4bccaffe0147f6e2b158\",\n",
       "        \"value\": \"<div style='white-space: pre-wrap; line-height: 1.2; font-family: monospace, monospace;'>partial_acc: 77.76% (count=1.9k) [+4.67%]\\nast_acc: 72.23% (count=2.6k) [+5.93%]\\nfull_acc: 72.61% (count=1.9k) [+7.01%]\\npartial_acc_by_cat:\\n   FuncArg: 69.28% (count=1.0k) [+6.26%]\\n   FuncReturn: 88.75% (count=622) [+3.54%]\\n   ClassAtribute: 85.71% (count=140) [+0.71%]\\n   GlobalVar: 41.67% (count=12) [+0.00%]\\n   LocalVar: 87.50% (count=104) [+1.92%]\\npartial_acc_by_pos:\\n   range(0, 1): 79.89% (count=179) [+6.15%]\\n   range(1, 2): 75.45% (count=167) [+5.99%]\\n   range(2, 4): 80.07% (count=306) [+4.58%]\\n   range(4, 8): 79.00% (count=519) [+4.43%]\\n   range(8, 16): 75.88% (count=713) [+4.21%]\\navg_label_size: 1.397 [0]\\navg_pred_size: 1.45 [0.003185]\\n</div>\"\n",
       "      }\n",
       "    },\n",
       "    \"98fda22acf334b9cbaf845429e99d866\": {\n",
       "      \"model_name\": \"LayoutModel\",\n",
       "      \"model_module\": \"@jupyter-widgets/base\",\n",
       "      \"model_module_version\": \"1.2.0\",\n",
       "      \"state\": {}\n",
       "    },\n",
       "    \"7e79a9a47982432ebac2e9c7b06f02e2\": {\n",
       "      \"model_name\": \"TabModel\",\n",
       "      \"model_module\": \"@jupyter-widgets/controls\",\n",
       "      \"model_module_version\": \"1.5.0\",\n",
       "      \"state\": {\n",
       "        \"_dom_classes\": [],\n",
       "        \"_titles\": {\n",
       "          \"0\": \"Compressed\",\n",
       "          \"1\": \"Expanded\"\n",
       "        },\n",
       "        \"children\": [\n",
       "          \"IPY_MODEL_cee5487e97fb43aeadfcc83d3cd6bae0\",\n",
       "          \"IPY_MODEL_5c9e0964b90a47148e62eb773decc982\"\n",
       "        ],\n",
       "        \"layout\": \"IPY_MODEL_98fda22acf334b9cbaf845429e99d866\"\n",
       "      }\n",
       "    },\n",
       "    \"0a016ad5931647818952cc255db89f1a\": {\n",
       "      \"model_name\": \"LayoutModel\",\n",
       "      \"model_module\": \"@jupyter-widgets/base\",\n",
       "      \"model_module_version\": \"1.2.0\",\n",
       "      \"state\": {}\n",
       "    },\n",
       "    \"7e2a00d6f36741759fab01f31d85558f\": {\n",
       "      \"model_name\": \"TabModel\",\n",
       "      \"model_module\": \"@jupyter-widgets/controls\",\n",
       "      \"model_module_version\": \"1.5.0\",\n",
       "      \"state\": {\n",
       "        \"_dom_classes\": [],\n",
       "        \"_titles\": {\n",
       "          \"0\": \"BS\",\n",
       "          \"1\": \"Critic\",\n",
       "          \"2\": \"Oracle\"\n",
       "        },\n",
       "        \"children\": [\n",
       "          \"IPY_MODEL_94cdce7186d54c6d84e21124272b3234\",\n",
       "          \"IPY_MODEL_1f2bc257672b46869d6aec3f62278456\",\n",
       "          \"IPY_MODEL_7e79a9a47982432ebac2e9c7b06f02e2\"\n",
       "        ],\n",
       "        \"layout\": \"IPY_MODEL_0a016ad5931647818952cc255db89f1a\",\n",
       "        \"selected_index\": 2\n",
       "      }\n",
       "    },\n",
       "    \"368255a4c44642e8b28b0a3f6ab6bbbe\": {\n",
       "      \"model_name\": \"LayoutModel\",\n",
       "      \"model_module\": \"@jupyter-widgets/base\",\n",
       "      \"model_module_version\": \"1.2.0\",\n",
       "      \"state\": {\n",
       "        \"overflow\": \"scroll\"\n",
       "      }\n",
       "    },\n",
       "    \"1c30847bef9d4b22bbc86a56e2643678\": {\n",
       "      \"model_name\": \"VBoxModel\",\n",
       "      \"model_module\": \"@jupyter-widgets/controls\",\n",
       "      \"model_module_version\": \"1.5.0\",\n",
       "      \"state\": {\n",
       "        \"_dom_classes\": [],\n",
       "        \"children\": [\n",
       "          \"IPY_MODEL_7e2a00d6f36741759fab01f31d85558f\"\n",
       "        ],\n",
       "        \"layout\": \"IPY_MODEL_368255a4c44642e8b28b0a3f6ab6bbbe\"\n",
       "      }\n",
       "    }\n",
       "  }\n",
       "}\n",
       "</script>\n",
       "<script type=\"application/vnd.jupyter.widget-view+json\">\n",
       "{\"version_major\": 2, \"version_minor\": 0, \"model_id\": \"1c30847bef9d4b22bbc86a56e2643678\"}\n",
       "</script>\n",
       "\n",
       "</body>\n",
       "</html>\n"
      ],
      "text/plain": [
       "<IPython.core.display.HTML object>"
      ]
     },
     "metadata": {},
     "output_type": "display_data"
    }
   ],
   "source": [
    "from spot.visualization import display_persist, visualize_dicts\n",
    "\n",
    "display_persist(\n",
    "    visualize_dicts(\n",
    "        [x.accuracies for x in results.values()], titles=list(results.keys())\n",
    "    )\n",
    ")\n"
   ]
  },
  {
   "cell_type": "code",
   "execution_count": 29,
   "metadata": {},
   "outputs": [
    {
     "name": "stdout",
     "output_type": "stream",
     "text": [
      "diff_ratio: 0.085987\n",
      "diff_critic_error: 0.47598\n",
      "all_critic_error: 0.067515\n",
      "diff_critic_abs_error: 0.56754\n",
      "all_critic_abs_error: 0.26956\n",
      "diff_scores_distr: ...\n",
      "all_scores_distr: ...\n"
     ]
    }
   ],
   "source": [
    "from spot.debug_critic import check_delta\n",
    "from spot.utils import pretty_print_dict\n",
    "\n",
    "delta_stats = check_delta(\n",
    "    results[\"BS\"], results[\"Oracle\"], results[critic_result_name(False)]\n",
    ")\n",
    "pretty_print_dict(delta_stats, max_show_level=0)\n"
   ]
  },
  {
   "cell_type": "code",
   "execution_count": null,
   "metadata": {},
   "outputs": [
    {
     "data": {
      "application/vnd.plotly.v1+json": {
       "config": {
        "plotlyServerURL": "https://plot.ly"
       },
       "data": [
        {
         "alignmentgroup": "True",
         "hovertemplate": "Source=Source<br>critic score=%{x}<br>Count=%{y}<extra></extra>",
         "legendgroup": "Source",
         "marker": {
          "color": "#636efa",
          "pattern": {
           "shape": ""
          }
         },
         "name": "Source",
         "offsetgroup": "Source",
         "orientation": "v",
         "showlegend": true,
         "textposition": "auto",
         "type": "bar",
         "x": [
          "0.0",
          "0.1",
          "0.2",
          "0.3",
          "0.4",
          "0.5",
          "0.6",
          "0.7",
          "0.8",
          "0.9"
         ],
         "xaxis": "x",
         "y": [
          7,
          4,
          5,
          6,
          8,
          13,
          15,
          21,
          28,
          55
         ],
         "yaxis": "y"
        }
       ],
       "layout": {
        "barmode": "relative",
        "legend": {
         "title": {
          "text": "Source"
         },
         "tracegroupgap": 0
        },
        "template": {
         "data": {
          "bar": [
           {
            "error_x": {
             "color": "#2a3f5f"
            },
            "error_y": {
             "color": "#2a3f5f"
            },
            "marker": {
             "line": {
              "color": "#E5ECF6",
              "width": 0.5
             },
             "pattern": {
              "fillmode": "overlay",
              "size": 10,
              "solidity": 0.2
             }
            },
            "type": "bar"
           }
          ],
          "barpolar": [
           {
            "marker": {
             "line": {
              "color": "#E5ECF6",
              "width": 0.5
             },
             "pattern": {
              "fillmode": "overlay",
              "size": 10,
              "solidity": 0.2
             }
            },
            "type": "barpolar"
           }
          ],
          "carpet": [
           {
            "aaxis": {
             "endlinecolor": "#2a3f5f",
             "gridcolor": "white",
             "linecolor": "white",
             "minorgridcolor": "white",
             "startlinecolor": "#2a3f5f"
            },
            "baxis": {
             "endlinecolor": "#2a3f5f",
             "gridcolor": "white",
             "linecolor": "white",
             "minorgridcolor": "white",
             "startlinecolor": "#2a3f5f"
            },
            "type": "carpet"
           }
          ],
          "choropleth": [
           {
            "colorbar": {
             "outlinewidth": 0,
             "ticks": ""
            },
            "type": "choropleth"
           }
          ],
          "contour": [
           {
            "colorbar": {
             "outlinewidth": 0,
             "ticks": ""
            },
            "colorscale": [
             [
              0,
              "#0d0887"
             ],
             [
              0.1111111111111111,
              "#46039f"
             ],
             [
              0.2222222222222222,
              "#7201a8"
             ],
             [
              0.3333333333333333,
              "#9c179e"
             ],
             [
              0.4444444444444444,
              "#bd3786"
             ],
             [
              0.5555555555555556,
              "#d8576b"
             ],
             [
              0.6666666666666666,
              "#ed7953"
             ],
             [
              0.7777777777777778,
              "#fb9f3a"
             ],
             [
              0.8888888888888888,
              "#fdca26"
             ],
             [
              1,
              "#f0f921"
             ]
            ],
            "type": "contour"
           }
          ],
          "contourcarpet": [
           {
            "colorbar": {
             "outlinewidth": 0,
             "ticks": ""
            },
            "type": "contourcarpet"
           }
          ],
          "heatmap": [
           {
            "colorbar": {
             "outlinewidth": 0,
             "ticks": ""
            },
            "colorscale": [
             [
              0,
              "#0d0887"
             ],
             [
              0.1111111111111111,
              "#46039f"
             ],
             [
              0.2222222222222222,
              "#7201a8"
             ],
             [
              0.3333333333333333,
              "#9c179e"
             ],
             [
              0.4444444444444444,
              "#bd3786"
             ],
             [
              0.5555555555555556,
              "#d8576b"
             ],
             [
              0.6666666666666666,
              "#ed7953"
             ],
             [
              0.7777777777777778,
              "#fb9f3a"
             ],
             [
              0.8888888888888888,
              "#fdca26"
             ],
             [
              1,
              "#f0f921"
             ]
            ],
            "type": "heatmap"
           }
          ],
          "heatmapgl": [
           {
            "colorbar": {
             "outlinewidth": 0,
             "ticks": ""
            },
            "colorscale": [
             [
              0,
              "#0d0887"
             ],
             [
              0.1111111111111111,
              "#46039f"
             ],
             [
              0.2222222222222222,
              "#7201a8"
             ],
             [
              0.3333333333333333,
              "#9c179e"
             ],
             [
              0.4444444444444444,
              "#bd3786"
             ],
             [
              0.5555555555555556,
              "#d8576b"
             ],
             [
              0.6666666666666666,
              "#ed7953"
             ],
             [
              0.7777777777777778,
              "#fb9f3a"
             ],
             [
              0.8888888888888888,
              "#fdca26"
             ],
             [
              1,
              "#f0f921"
             ]
            ],
            "type": "heatmapgl"
           }
          ],
          "histogram": [
           {
            "marker": {
             "pattern": {
              "fillmode": "overlay",
              "size": 10,
              "solidity": 0.2
             }
            },
            "type": "histogram"
           }
          ],
          "histogram2d": [
           {
            "colorbar": {
             "outlinewidth": 0,
             "ticks": ""
            },
            "colorscale": [
             [
              0,
              "#0d0887"
             ],
             [
              0.1111111111111111,
              "#46039f"
             ],
             [
              0.2222222222222222,
              "#7201a8"
             ],
             [
              0.3333333333333333,
              "#9c179e"
             ],
             [
              0.4444444444444444,
              "#bd3786"
             ],
             [
              0.5555555555555556,
              "#d8576b"
             ],
             [
              0.6666666666666666,
              "#ed7953"
             ],
             [
              0.7777777777777778,
              "#fb9f3a"
             ],
             [
              0.8888888888888888,
              "#fdca26"
             ],
             [
              1,
              "#f0f921"
             ]
            ],
            "type": "histogram2d"
           }
          ],
          "histogram2dcontour": [
           {
            "colorbar": {
             "outlinewidth": 0,
             "ticks": ""
            },
            "colorscale": [
             [
              0,
              "#0d0887"
             ],
             [
              0.1111111111111111,
              "#46039f"
             ],
             [
              0.2222222222222222,
              "#7201a8"
             ],
             [
              0.3333333333333333,
              "#9c179e"
             ],
             [
              0.4444444444444444,
              "#bd3786"
             ],
             [
              0.5555555555555556,
              "#d8576b"
             ],
             [
              0.6666666666666666,
              "#ed7953"
             ],
             [
              0.7777777777777778,
              "#fb9f3a"
             ],
             [
              0.8888888888888888,
              "#fdca26"
             ],
             [
              1,
              "#f0f921"
             ]
            ],
            "type": "histogram2dcontour"
           }
          ],
          "mesh3d": [
           {
            "colorbar": {
             "outlinewidth": 0,
             "ticks": ""
            },
            "type": "mesh3d"
           }
          ],
          "parcoords": [
           {
            "line": {
             "colorbar": {
              "outlinewidth": 0,
              "ticks": ""
             }
            },
            "type": "parcoords"
           }
          ],
          "pie": [
           {
            "automargin": true,
            "type": "pie"
           }
          ],
          "scatter": [
           {
            "fillpattern": {
             "fillmode": "overlay",
             "size": 10,
             "solidity": 0.2
            },
            "type": "scatter"
           }
          ],
          "scatter3d": [
           {
            "line": {
             "colorbar": {
              "outlinewidth": 0,
              "ticks": ""
             }
            },
            "marker": {
             "colorbar": {
              "outlinewidth": 0,
              "ticks": ""
             }
            },
            "type": "scatter3d"
           }
          ],
          "scattercarpet": [
           {
            "marker": {
             "colorbar": {
              "outlinewidth": 0,
              "ticks": ""
             }
            },
            "type": "scattercarpet"
           }
          ],
          "scattergeo": [
           {
            "marker": {
             "colorbar": {
              "outlinewidth": 0,
              "ticks": ""
             }
            },
            "type": "scattergeo"
           }
          ],
          "scattergl": [
           {
            "marker": {
             "colorbar": {
              "outlinewidth": 0,
              "ticks": ""
             }
            },
            "type": "scattergl"
           }
          ],
          "scattermapbox": [
           {
            "marker": {
             "colorbar": {
              "outlinewidth": 0,
              "ticks": ""
             }
            },
            "type": "scattermapbox"
           }
          ],
          "scatterpolar": [
           {
            "marker": {
             "colorbar": {
              "outlinewidth": 0,
              "ticks": ""
             }
            },
            "type": "scatterpolar"
           }
          ],
          "scatterpolargl": [
           {
            "marker": {
             "colorbar": {
              "outlinewidth": 0,
              "ticks": ""
             }
            },
            "type": "scatterpolargl"
           }
          ],
          "scatterternary": [
           {
            "marker": {
             "colorbar": {
              "outlinewidth": 0,
              "ticks": ""
             }
            },
            "type": "scatterternary"
           }
          ],
          "surface": [
           {
            "colorbar": {
             "outlinewidth": 0,
             "ticks": ""
            },
            "colorscale": [
             [
              0,
              "#0d0887"
             ],
             [
              0.1111111111111111,
              "#46039f"
             ],
             [
              0.2222222222222222,
              "#7201a8"
             ],
             [
              0.3333333333333333,
              "#9c179e"
             ],
             [
              0.4444444444444444,
              "#bd3786"
             ],
             [
              0.5555555555555556,
              "#d8576b"
             ],
             [
              0.6666666666666666,
              "#ed7953"
             ],
             [
              0.7777777777777778,
              "#fb9f3a"
             ],
             [
              0.8888888888888888,
              "#fdca26"
             ],
             [
              1,
              "#f0f921"
             ]
            ],
            "type": "surface"
           }
          ],
          "table": [
           {
            "cells": {
             "fill": {
              "color": "#EBF0F8"
             },
             "line": {
              "color": "white"
             }
            },
            "header": {
             "fill": {
              "color": "#C8D4E3"
             },
             "line": {
              "color": "white"
             }
            },
            "type": "table"
           }
          ]
         },
         "layout": {
          "annotationdefaults": {
           "arrowcolor": "#2a3f5f",
           "arrowhead": 0,
           "arrowwidth": 1
          },
          "autotypenumbers": "strict",
          "coloraxis": {
           "colorbar": {
            "outlinewidth": 0,
            "ticks": ""
           }
          },
          "colorscale": {
           "diverging": [
            [
             0,
             "#8e0152"
            ],
            [
             0.1,
             "#c51b7d"
            ],
            [
             0.2,
             "#de77ae"
            ],
            [
             0.3,
             "#f1b6da"
            ],
            [
             0.4,
             "#fde0ef"
            ],
            [
             0.5,
             "#f7f7f7"
            ],
            [
             0.6,
             "#e6f5d0"
            ],
            [
             0.7,
             "#b8e186"
            ],
            [
             0.8,
             "#7fbc41"
            ],
            [
             0.9,
             "#4d9221"
            ],
            [
             1,
             "#276419"
            ]
           ],
           "sequential": [
            [
             0,
             "#0d0887"
            ],
            [
             0.1111111111111111,
             "#46039f"
            ],
            [
             0.2222222222222222,
             "#7201a8"
            ],
            [
             0.3333333333333333,
             "#9c179e"
            ],
            [
             0.4444444444444444,
             "#bd3786"
            ],
            [
             0.5555555555555556,
             "#d8576b"
            ],
            [
             0.6666666666666666,
             "#ed7953"
            ],
            [
             0.7777777777777778,
             "#fb9f3a"
            ],
            [
             0.8888888888888888,
             "#fdca26"
            ],
            [
             1,
             "#f0f921"
            ]
           ],
           "sequentialminus": [
            [
             0,
             "#0d0887"
            ],
            [
             0.1111111111111111,
             "#46039f"
            ],
            [
             0.2222222222222222,
             "#7201a8"
            ],
            [
             0.3333333333333333,
             "#9c179e"
            ],
            [
             0.4444444444444444,
             "#bd3786"
            ],
            [
             0.5555555555555556,
             "#d8576b"
            ],
            [
             0.6666666666666666,
             "#ed7953"
            ],
            [
             0.7777777777777778,
             "#fb9f3a"
            ],
            [
             0.8888888888888888,
             "#fdca26"
            ],
            [
             1,
             "#f0f921"
            ]
           ]
          },
          "colorway": [
           "#636efa",
           "#EF553B",
           "#00cc96",
           "#ab63fa",
           "#FFA15A",
           "#19d3f3",
           "#FF6692",
           "#B6E880",
           "#FF97FF",
           "#FECB52"
          ],
          "font": {
           "color": "#2a3f5f"
          },
          "geo": {
           "bgcolor": "white",
           "lakecolor": "white",
           "landcolor": "#E5ECF6",
           "showlakes": true,
           "showland": true,
           "subunitcolor": "white"
          },
          "hoverlabel": {
           "align": "left"
          },
          "hovermode": "closest",
          "mapbox": {
           "style": "light"
          },
          "paper_bgcolor": "white",
          "plot_bgcolor": "#E5ECF6",
          "polar": {
           "angularaxis": {
            "gridcolor": "white",
            "linecolor": "white",
            "ticks": ""
           },
           "bgcolor": "#E5ECF6",
           "radialaxis": {
            "gridcolor": "white",
            "linecolor": "white",
            "ticks": ""
           }
          },
          "scene": {
           "xaxis": {
            "backgroundcolor": "#E5ECF6",
            "gridcolor": "white",
            "gridwidth": 2,
            "linecolor": "white",
            "showbackground": true,
            "ticks": "",
            "zerolinecolor": "white"
           },
           "yaxis": {
            "backgroundcolor": "#E5ECF6",
            "gridcolor": "white",
            "gridwidth": 2,
            "linecolor": "white",
            "showbackground": true,
            "ticks": "",
            "zerolinecolor": "white"
           },
           "zaxis": {
            "backgroundcolor": "#E5ECF6",
            "gridcolor": "white",
            "gridwidth": 2,
            "linecolor": "white",
            "showbackground": true,
            "ticks": "",
            "zerolinecolor": "white"
           }
          },
          "shapedefaults": {
           "line": {
            "color": "#2a3f5f"
           }
          },
          "ternary": {
           "aaxis": {
            "gridcolor": "white",
            "linecolor": "white",
            "ticks": ""
           },
           "baxis": {
            "gridcolor": "white",
            "linecolor": "white",
            "ticks": ""
           },
           "bgcolor": "#E5ECF6",
           "caxis": {
            "gridcolor": "white",
            "linecolor": "white",
            "ticks": ""
           }
          },
          "title": {
           "x": 0.05
          },
          "xaxis": {
           "automargin": true,
           "gridcolor": "white",
           "linecolor": "white",
           "ticks": "",
           "title": {
            "standoff": 15
           },
           "zerolinecolor": "white",
           "zerolinewidth": 2
          },
          "yaxis": {
           "automargin": true,
           "gridcolor": "white",
           "linecolor": "white",
           "ticks": "",
           "title": {
            "standoff": 15
           },
           "zerolinecolor": "white",
           "zerolinewidth": 2
          }
         }
        },
        "title": {
         "text": "critic score distribution"
        },
        "xaxis": {
         "anchor": "y",
         "domain": [
          0,
          1
         ],
         "title": {
          "text": "critic score"
         }
        },
        "yaxis": {
         "anchor": "x",
         "domain": [
          0,
          1
         ],
         "title": {
          "text": "Count"
         }
        }
       }
      },
      "text/html": [
       "<div>                            <div id=\"4f87d1f8-383f-41f8-9b18-33540f318534\" class=\"plotly-graph-div\" style=\"height:525px; width:100%;\"></div>            <script type=\"text/javascript\">                require([\"plotly\"], function(Plotly) {                    window.PLOTLYENV=window.PLOTLYENV || {};                                    if (document.getElementById(\"4f87d1f8-383f-41f8-9b18-33540f318534\")) {                    Plotly.newPlot(                        \"4f87d1f8-383f-41f8-9b18-33540f318534\",                        [{\"alignmentgroup\":\"True\",\"hovertemplate\":\"Source=Source<br>critic score=%{x}<br>Count=%{y}<extra></extra>\",\"legendgroup\":\"Source\",\"marker\":{\"color\":\"#636efa\",\"pattern\":{\"shape\":\"\"}},\"name\":\"Source\",\"offsetgroup\":\"Source\",\"orientation\":\"v\",\"showlegend\":true,\"textposition\":\"auto\",\"x\":[\"0.0\",\"0.1\",\"0.2\",\"0.3\",\"0.4\",\"0.5\",\"0.6\",\"0.7\",\"0.8\",\"0.9\"],\"xaxis\":\"x\",\"y\":[7,4,5,6,8,13,15,21,28,55],\"yaxis\":\"y\",\"type\":\"bar\"}],                        {\"template\":{\"data\":{\"histogram2dcontour\":[{\"type\":\"histogram2dcontour\",\"colorbar\":{\"outlinewidth\":0,\"ticks\":\"\"},\"colorscale\":[[0.0,\"#0d0887\"],[0.1111111111111111,\"#46039f\"],[0.2222222222222222,\"#7201a8\"],[0.3333333333333333,\"#9c179e\"],[0.4444444444444444,\"#bd3786\"],[0.5555555555555556,\"#d8576b\"],[0.6666666666666666,\"#ed7953\"],[0.7777777777777778,\"#fb9f3a\"],[0.8888888888888888,\"#fdca26\"],[1.0,\"#f0f921\"]]}],\"choropleth\":[{\"type\":\"choropleth\",\"colorbar\":{\"outlinewidth\":0,\"ticks\":\"\"}}],\"histogram2d\":[{\"type\":\"histogram2d\",\"colorbar\":{\"outlinewidth\":0,\"ticks\":\"\"},\"colorscale\":[[0.0,\"#0d0887\"],[0.1111111111111111,\"#46039f\"],[0.2222222222222222,\"#7201a8\"],[0.3333333333333333,\"#9c179e\"],[0.4444444444444444,\"#bd3786\"],[0.5555555555555556,\"#d8576b\"],[0.6666666666666666,\"#ed7953\"],[0.7777777777777778,\"#fb9f3a\"],[0.8888888888888888,\"#fdca26\"],[1.0,\"#f0f921\"]]}],\"heatmap\":[{\"type\":\"heatmap\",\"colorbar\":{\"outlinewidth\":0,\"ticks\":\"\"},\"colorscale\":[[0.0,\"#0d0887\"],[0.1111111111111111,\"#46039f\"],[0.2222222222222222,\"#7201a8\"],[0.3333333333333333,\"#9c179e\"],[0.4444444444444444,\"#bd3786\"],[0.5555555555555556,\"#d8576b\"],[0.6666666666666666,\"#ed7953\"],[0.7777777777777778,\"#fb9f3a\"],[0.8888888888888888,\"#fdca26\"],[1.0,\"#f0f921\"]]}],\"heatmapgl\":[{\"type\":\"heatmapgl\",\"colorbar\":{\"outlinewidth\":0,\"ticks\":\"\"},\"colorscale\":[[0.0,\"#0d0887\"],[0.1111111111111111,\"#46039f\"],[0.2222222222222222,\"#7201a8\"],[0.3333333333333333,\"#9c179e\"],[0.4444444444444444,\"#bd3786\"],[0.5555555555555556,\"#d8576b\"],[0.6666666666666666,\"#ed7953\"],[0.7777777777777778,\"#fb9f3a\"],[0.8888888888888888,\"#fdca26\"],[1.0,\"#f0f921\"]]}],\"contourcarpet\":[{\"type\":\"contourcarpet\",\"colorbar\":{\"outlinewidth\":0,\"ticks\":\"\"}}],\"contour\":[{\"type\":\"contour\",\"colorbar\":{\"outlinewidth\":0,\"ticks\":\"\"},\"colorscale\":[[0.0,\"#0d0887\"],[0.1111111111111111,\"#46039f\"],[0.2222222222222222,\"#7201a8\"],[0.3333333333333333,\"#9c179e\"],[0.4444444444444444,\"#bd3786\"],[0.5555555555555556,\"#d8576b\"],[0.6666666666666666,\"#ed7953\"],[0.7777777777777778,\"#fb9f3a\"],[0.8888888888888888,\"#fdca26\"],[1.0,\"#f0f921\"]]}],\"surface\":[{\"type\":\"surface\",\"colorbar\":{\"outlinewidth\":0,\"ticks\":\"\"},\"colorscale\":[[0.0,\"#0d0887\"],[0.1111111111111111,\"#46039f\"],[0.2222222222222222,\"#7201a8\"],[0.3333333333333333,\"#9c179e\"],[0.4444444444444444,\"#bd3786\"],[0.5555555555555556,\"#d8576b\"],[0.6666666666666666,\"#ed7953\"],[0.7777777777777778,\"#fb9f3a\"],[0.8888888888888888,\"#fdca26\"],[1.0,\"#f0f921\"]]}],\"mesh3d\":[{\"type\":\"mesh3d\",\"colorbar\":{\"outlinewidth\":0,\"ticks\":\"\"}}],\"scatter\":[{\"fillpattern\":{\"fillmode\":\"overlay\",\"size\":10,\"solidity\":0.2},\"type\":\"scatter\"}],\"parcoords\":[{\"type\":\"parcoords\",\"line\":{\"colorbar\":{\"outlinewidth\":0,\"ticks\":\"\"}}}],\"scatterpolargl\":[{\"type\":\"scatterpolargl\",\"marker\":{\"colorbar\":{\"outlinewidth\":0,\"ticks\":\"\"}}}],\"bar\":[{\"error_x\":{\"color\":\"#2a3f5f\"},\"error_y\":{\"color\":\"#2a3f5f\"},\"marker\":{\"line\":{\"color\":\"#E5ECF6\",\"width\":0.5},\"pattern\":{\"fillmode\":\"overlay\",\"size\":10,\"solidity\":0.2}},\"type\":\"bar\"}],\"scattergeo\":[{\"type\":\"scattergeo\",\"marker\":{\"colorbar\":{\"outlinewidth\":0,\"ticks\":\"\"}}}],\"scatterpolar\":[{\"type\":\"scatterpolar\",\"marker\":{\"colorbar\":{\"outlinewidth\":0,\"ticks\":\"\"}}}],\"histogram\":[{\"marker\":{\"pattern\":{\"fillmode\":\"overlay\",\"size\":10,\"solidity\":0.2}},\"type\":\"histogram\"}],\"scattergl\":[{\"type\":\"scattergl\",\"marker\":{\"colorbar\":{\"outlinewidth\":0,\"ticks\":\"\"}}}],\"scatter3d\":[{\"type\":\"scatter3d\",\"line\":{\"colorbar\":{\"outlinewidth\":0,\"ticks\":\"\"}},\"marker\":{\"colorbar\":{\"outlinewidth\":0,\"ticks\":\"\"}}}],\"scattermapbox\":[{\"type\":\"scattermapbox\",\"marker\":{\"colorbar\":{\"outlinewidth\":0,\"ticks\":\"\"}}}],\"scatterternary\":[{\"type\":\"scatterternary\",\"marker\":{\"colorbar\":{\"outlinewidth\":0,\"ticks\":\"\"}}}],\"scattercarpet\":[{\"type\":\"scattercarpet\",\"marker\":{\"colorbar\":{\"outlinewidth\":0,\"ticks\":\"\"}}}],\"carpet\":[{\"aaxis\":{\"endlinecolor\":\"#2a3f5f\",\"gridcolor\":\"white\",\"linecolor\":\"white\",\"minorgridcolor\":\"white\",\"startlinecolor\":\"#2a3f5f\"},\"baxis\":{\"endlinecolor\":\"#2a3f5f\",\"gridcolor\":\"white\",\"linecolor\":\"white\",\"minorgridcolor\":\"white\",\"startlinecolor\":\"#2a3f5f\"},\"type\":\"carpet\"}],\"table\":[{\"cells\":{\"fill\":{\"color\":\"#EBF0F8\"},\"line\":{\"color\":\"white\"}},\"header\":{\"fill\":{\"color\":\"#C8D4E3\"},\"line\":{\"color\":\"white\"}},\"type\":\"table\"}],\"barpolar\":[{\"marker\":{\"line\":{\"color\":\"#E5ECF6\",\"width\":0.5},\"pattern\":{\"fillmode\":\"overlay\",\"size\":10,\"solidity\":0.2}},\"type\":\"barpolar\"}],\"pie\":[{\"automargin\":true,\"type\":\"pie\"}]},\"layout\":{\"autotypenumbers\":\"strict\",\"colorway\":[\"#636efa\",\"#EF553B\",\"#00cc96\",\"#ab63fa\",\"#FFA15A\",\"#19d3f3\",\"#FF6692\",\"#B6E880\",\"#FF97FF\",\"#FECB52\"],\"font\":{\"color\":\"#2a3f5f\"},\"hovermode\":\"closest\",\"hoverlabel\":{\"align\":\"left\"},\"paper_bgcolor\":\"white\",\"plot_bgcolor\":\"#E5ECF6\",\"polar\":{\"bgcolor\":\"#E5ECF6\",\"angularaxis\":{\"gridcolor\":\"white\",\"linecolor\":\"white\",\"ticks\":\"\"},\"radialaxis\":{\"gridcolor\":\"white\",\"linecolor\":\"white\",\"ticks\":\"\"}},\"ternary\":{\"bgcolor\":\"#E5ECF6\",\"aaxis\":{\"gridcolor\":\"white\",\"linecolor\":\"white\",\"ticks\":\"\"},\"baxis\":{\"gridcolor\":\"white\",\"linecolor\":\"white\",\"ticks\":\"\"},\"caxis\":{\"gridcolor\":\"white\",\"linecolor\":\"white\",\"ticks\":\"\"}},\"coloraxis\":{\"colorbar\":{\"outlinewidth\":0,\"ticks\":\"\"}},\"colorscale\":{\"sequential\":[[0.0,\"#0d0887\"],[0.1111111111111111,\"#46039f\"],[0.2222222222222222,\"#7201a8\"],[0.3333333333333333,\"#9c179e\"],[0.4444444444444444,\"#bd3786\"],[0.5555555555555556,\"#d8576b\"],[0.6666666666666666,\"#ed7953\"],[0.7777777777777778,\"#fb9f3a\"],[0.8888888888888888,\"#fdca26\"],[1.0,\"#f0f921\"]],\"sequentialminus\":[[0.0,\"#0d0887\"],[0.1111111111111111,\"#46039f\"],[0.2222222222222222,\"#7201a8\"],[0.3333333333333333,\"#9c179e\"],[0.4444444444444444,\"#bd3786\"],[0.5555555555555556,\"#d8576b\"],[0.6666666666666666,\"#ed7953\"],[0.7777777777777778,\"#fb9f3a\"],[0.8888888888888888,\"#fdca26\"],[1.0,\"#f0f921\"]],\"diverging\":[[0,\"#8e0152\"],[0.1,\"#c51b7d\"],[0.2,\"#de77ae\"],[0.3,\"#f1b6da\"],[0.4,\"#fde0ef\"],[0.5,\"#f7f7f7\"],[0.6,\"#e6f5d0\"],[0.7,\"#b8e186\"],[0.8,\"#7fbc41\"],[0.9,\"#4d9221\"],[1,\"#276419\"]]},\"xaxis\":{\"gridcolor\":\"white\",\"linecolor\":\"white\",\"ticks\":\"\",\"title\":{\"standoff\":15},\"zerolinecolor\":\"white\",\"automargin\":true,\"zerolinewidth\":2},\"yaxis\":{\"gridcolor\":\"white\",\"linecolor\":\"white\",\"ticks\":\"\",\"title\":{\"standoff\":15},\"zerolinecolor\":\"white\",\"automargin\":true,\"zerolinewidth\":2},\"scene\":{\"xaxis\":{\"backgroundcolor\":\"#E5ECF6\",\"gridcolor\":\"white\",\"linecolor\":\"white\",\"showbackground\":true,\"ticks\":\"\",\"zerolinecolor\":\"white\",\"gridwidth\":2},\"yaxis\":{\"backgroundcolor\":\"#E5ECF6\",\"gridcolor\":\"white\",\"linecolor\":\"white\",\"showbackground\":true,\"ticks\":\"\",\"zerolinecolor\":\"white\",\"gridwidth\":2},\"zaxis\":{\"backgroundcolor\":\"#E5ECF6\",\"gridcolor\":\"white\",\"linecolor\":\"white\",\"showbackground\":true,\"ticks\":\"\",\"zerolinecolor\":\"white\",\"gridwidth\":2}},\"shapedefaults\":{\"line\":{\"color\":\"#2a3f5f\"}},\"annotationdefaults\":{\"arrowcolor\":\"#2a3f5f\",\"arrowhead\":0,\"arrowwidth\":1},\"geo\":{\"bgcolor\":\"white\",\"landcolor\":\"#E5ECF6\",\"subunitcolor\":\"white\",\"showland\":true,\"showlakes\":true,\"lakecolor\":\"white\"},\"title\":{\"x\":0.05},\"mapbox\":{\"style\":\"light\"}}},\"xaxis\":{\"anchor\":\"y\",\"domain\":[0.0,1.0],\"title\":{\"text\":\"critic score\"}},\"yaxis\":{\"anchor\":\"x\",\"domain\":[0.0,1.0],\"title\":{\"text\":\"Count\"}},\"legend\":{\"title\":{\"text\":\"Source\"},\"tracegroupgap\":0},\"title\":{\"text\":\"critic score distribution\"},\"barmode\":\"relative\"},                        {\"responsive\": true}                    ).then(function(){\n",
       "                            \n",
       "var gd = document.getElementById('4f87d1f8-383f-41f8-9b18-33540f318534');\n",
       "var x = new MutationObserver(function (mutations, observer) {{\n",
       "        var display = window.getComputedStyle(gd).display;\n",
       "        if (!display || display === 'none') {{\n",
       "            console.log([gd, 'removed!']);\n",
       "            Plotly.purge(gd);\n",
       "            observer.disconnect();\n",
       "        }}\n",
       "}});\n",
       "\n",
       "// Listen for the removal of the full notebook cells\n",
       "var notebookContainer = gd.closest('#notebook-container');\n",
       "if (notebookContainer) {{\n",
       "    x.observe(notebookContainer, {childList: true});\n",
       "}}\n",
       "\n",
       "// Listen for the clearing of the current output cell\n",
       "var outputEl = gd.closest('.output');\n",
       "if (outputEl) {{\n",
       "    x.observe(outputEl, {childList: true});\n",
       "}}\n",
       "\n",
       "                        })                };                });            </script>        </div>"
      ]
     },
     "metadata": {},
     "output_type": "display_data"
    },
    {
     "data": {
      "application/vnd.plotly.v1+json": {
       "config": {
        "plotlyServerURL": "https://plot.ly"
       },
       "data": [
        {
         "alignmentgroup": "True",
         "hovertemplate": "Source=Source<br>critic score=%{x}<br>Count=%{y}<extra></extra>",
         "legendgroup": "Source",
         "marker": {
          "color": "#636efa",
          "pattern": {
           "shape": ""
          }
         },
         "name": "Source",
         "offsetgroup": "Source",
         "orientation": "v",
         "showlegend": true,
         "textposition": "auto",
         "type": "bar",
         "x": [
          "0.0",
          "0.1",
          "0.2",
          "0.3",
          "0.4",
          "0.5",
          "0.6",
          "0.7",
          "0.8",
          "0.9"
         ],
         "xaxis": "x",
         "y": [
          136,
          49,
          39,
          38,
          73,
          94,
          126,
          166,
          257,
          906
         ],
         "yaxis": "y"
        }
       ],
       "layout": {
        "barmode": "relative",
        "legend": {
         "title": {
          "text": "Source"
         },
         "tracegroupgap": 0
        },
        "template": {
         "data": {
          "bar": [
           {
            "error_x": {
             "color": "#2a3f5f"
            },
            "error_y": {
             "color": "#2a3f5f"
            },
            "marker": {
             "line": {
              "color": "#E5ECF6",
              "width": 0.5
             },
             "pattern": {
              "fillmode": "overlay",
              "size": 10,
              "solidity": 0.2
             }
            },
            "type": "bar"
           }
          ],
          "barpolar": [
           {
            "marker": {
             "line": {
              "color": "#E5ECF6",
              "width": 0.5
             },
             "pattern": {
              "fillmode": "overlay",
              "size": 10,
              "solidity": 0.2
             }
            },
            "type": "barpolar"
           }
          ],
          "carpet": [
           {
            "aaxis": {
             "endlinecolor": "#2a3f5f",
             "gridcolor": "white",
             "linecolor": "white",
             "minorgridcolor": "white",
             "startlinecolor": "#2a3f5f"
            },
            "baxis": {
             "endlinecolor": "#2a3f5f",
             "gridcolor": "white",
             "linecolor": "white",
             "minorgridcolor": "white",
             "startlinecolor": "#2a3f5f"
            },
            "type": "carpet"
           }
          ],
          "choropleth": [
           {
            "colorbar": {
             "outlinewidth": 0,
             "ticks": ""
            },
            "type": "choropleth"
           }
          ],
          "contour": [
           {
            "colorbar": {
             "outlinewidth": 0,
             "ticks": ""
            },
            "colorscale": [
             [
              0,
              "#0d0887"
             ],
             [
              0.1111111111111111,
              "#46039f"
             ],
             [
              0.2222222222222222,
              "#7201a8"
             ],
             [
              0.3333333333333333,
              "#9c179e"
             ],
             [
              0.4444444444444444,
              "#bd3786"
             ],
             [
              0.5555555555555556,
              "#d8576b"
             ],
             [
              0.6666666666666666,
              "#ed7953"
             ],
             [
              0.7777777777777778,
              "#fb9f3a"
             ],
             [
              0.8888888888888888,
              "#fdca26"
             ],
             [
              1,
              "#f0f921"
             ]
            ],
            "type": "contour"
           }
          ],
          "contourcarpet": [
           {
            "colorbar": {
             "outlinewidth": 0,
             "ticks": ""
            },
            "type": "contourcarpet"
           }
          ],
          "heatmap": [
           {
            "colorbar": {
             "outlinewidth": 0,
             "ticks": ""
            },
            "colorscale": [
             [
              0,
              "#0d0887"
             ],
             [
              0.1111111111111111,
              "#46039f"
             ],
             [
              0.2222222222222222,
              "#7201a8"
             ],
             [
              0.3333333333333333,
              "#9c179e"
             ],
             [
              0.4444444444444444,
              "#bd3786"
             ],
             [
              0.5555555555555556,
              "#d8576b"
             ],
             [
              0.6666666666666666,
              "#ed7953"
             ],
             [
              0.7777777777777778,
              "#fb9f3a"
             ],
             [
              0.8888888888888888,
              "#fdca26"
             ],
             [
              1,
              "#f0f921"
             ]
            ],
            "type": "heatmap"
           }
          ],
          "heatmapgl": [
           {
            "colorbar": {
             "outlinewidth": 0,
             "ticks": ""
            },
            "colorscale": [
             [
              0,
              "#0d0887"
             ],
             [
              0.1111111111111111,
              "#46039f"
             ],
             [
              0.2222222222222222,
              "#7201a8"
             ],
             [
              0.3333333333333333,
              "#9c179e"
             ],
             [
              0.4444444444444444,
              "#bd3786"
             ],
             [
              0.5555555555555556,
              "#d8576b"
             ],
             [
              0.6666666666666666,
              "#ed7953"
             ],
             [
              0.7777777777777778,
              "#fb9f3a"
             ],
             [
              0.8888888888888888,
              "#fdca26"
             ],
             [
              1,
              "#f0f921"
             ]
            ],
            "type": "heatmapgl"
           }
          ],
          "histogram": [
           {
            "marker": {
             "pattern": {
              "fillmode": "overlay",
              "size": 10,
              "solidity": 0.2
             }
            },
            "type": "histogram"
           }
          ],
          "histogram2d": [
           {
            "colorbar": {
             "outlinewidth": 0,
             "ticks": ""
            },
            "colorscale": [
             [
              0,
              "#0d0887"
             ],
             [
              0.1111111111111111,
              "#46039f"
             ],
             [
              0.2222222222222222,
              "#7201a8"
             ],
             [
              0.3333333333333333,
              "#9c179e"
             ],
             [
              0.4444444444444444,
              "#bd3786"
             ],
             [
              0.5555555555555556,
              "#d8576b"
             ],
             [
              0.6666666666666666,
              "#ed7953"
             ],
             [
              0.7777777777777778,
              "#fb9f3a"
             ],
             [
              0.8888888888888888,
              "#fdca26"
             ],
             [
              1,
              "#f0f921"
             ]
            ],
            "type": "histogram2d"
           }
          ],
          "histogram2dcontour": [
           {
            "colorbar": {
             "outlinewidth": 0,
             "ticks": ""
            },
            "colorscale": [
             [
              0,
              "#0d0887"
             ],
             [
              0.1111111111111111,
              "#46039f"
             ],
             [
              0.2222222222222222,
              "#7201a8"
             ],
             [
              0.3333333333333333,
              "#9c179e"
             ],
             [
              0.4444444444444444,
              "#bd3786"
             ],
             [
              0.5555555555555556,
              "#d8576b"
             ],
             [
              0.6666666666666666,
              "#ed7953"
             ],
             [
              0.7777777777777778,
              "#fb9f3a"
             ],
             [
              0.8888888888888888,
              "#fdca26"
             ],
             [
              1,
              "#f0f921"
             ]
            ],
            "type": "histogram2dcontour"
           }
          ],
          "mesh3d": [
           {
            "colorbar": {
             "outlinewidth": 0,
             "ticks": ""
            },
            "type": "mesh3d"
           }
          ],
          "parcoords": [
           {
            "line": {
             "colorbar": {
              "outlinewidth": 0,
              "ticks": ""
             }
            },
            "type": "parcoords"
           }
          ],
          "pie": [
           {
            "automargin": true,
            "type": "pie"
           }
          ],
          "scatter": [
           {
            "fillpattern": {
             "fillmode": "overlay",
             "size": 10,
             "solidity": 0.2
            },
            "type": "scatter"
           }
          ],
          "scatter3d": [
           {
            "line": {
             "colorbar": {
              "outlinewidth": 0,
              "ticks": ""
             }
            },
            "marker": {
             "colorbar": {
              "outlinewidth": 0,
              "ticks": ""
             }
            },
            "type": "scatter3d"
           }
          ],
          "scattercarpet": [
           {
            "marker": {
             "colorbar": {
              "outlinewidth": 0,
              "ticks": ""
             }
            },
            "type": "scattercarpet"
           }
          ],
          "scattergeo": [
           {
            "marker": {
             "colorbar": {
              "outlinewidth": 0,
              "ticks": ""
             }
            },
            "type": "scattergeo"
           }
          ],
          "scattergl": [
           {
            "marker": {
             "colorbar": {
              "outlinewidth": 0,
              "ticks": ""
             }
            },
            "type": "scattergl"
           }
          ],
          "scattermapbox": [
           {
            "marker": {
             "colorbar": {
              "outlinewidth": 0,
              "ticks": ""
             }
            },
            "type": "scattermapbox"
           }
          ],
          "scatterpolar": [
           {
            "marker": {
             "colorbar": {
              "outlinewidth": 0,
              "ticks": ""
             }
            },
            "type": "scatterpolar"
           }
          ],
          "scatterpolargl": [
           {
            "marker": {
             "colorbar": {
              "outlinewidth": 0,
              "ticks": ""
             }
            },
            "type": "scatterpolargl"
           }
          ],
          "scatterternary": [
           {
            "marker": {
             "colorbar": {
              "outlinewidth": 0,
              "ticks": ""
             }
            },
            "type": "scatterternary"
           }
          ],
          "surface": [
           {
            "colorbar": {
             "outlinewidth": 0,
             "ticks": ""
            },
            "colorscale": [
             [
              0,
              "#0d0887"
             ],
             [
              0.1111111111111111,
              "#46039f"
             ],
             [
              0.2222222222222222,
              "#7201a8"
             ],
             [
              0.3333333333333333,
              "#9c179e"
             ],
             [
              0.4444444444444444,
              "#bd3786"
             ],
             [
              0.5555555555555556,
              "#d8576b"
             ],
             [
              0.6666666666666666,
              "#ed7953"
             ],
             [
              0.7777777777777778,
              "#fb9f3a"
             ],
             [
              0.8888888888888888,
              "#fdca26"
             ],
             [
              1,
              "#f0f921"
             ]
            ],
            "type": "surface"
           }
          ],
          "table": [
           {
            "cells": {
             "fill": {
              "color": "#EBF0F8"
             },
             "line": {
              "color": "white"
             }
            },
            "header": {
             "fill": {
              "color": "#C8D4E3"
             },
             "line": {
              "color": "white"
             }
            },
            "type": "table"
           }
          ]
         },
         "layout": {
          "annotationdefaults": {
           "arrowcolor": "#2a3f5f",
           "arrowhead": 0,
           "arrowwidth": 1
          },
          "autotypenumbers": "strict",
          "coloraxis": {
           "colorbar": {
            "outlinewidth": 0,
            "ticks": ""
           }
          },
          "colorscale": {
           "diverging": [
            [
             0,
             "#8e0152"
            ],
            [
             0.1,
             "#c51b7d"
            ],
            [
             0.2,
             "#de77ae"
            ],
            [
             0.3,
             "#f1b6da"
            ],
            [
             0.4,
             "#fde0ef"
            ],
            [
             0.5,
             "#f7f7f7"
            ],
            [
             0.6,
             "#e6f5d0"
            ],
            [
             0.7,
             "#b8e186"
            ],
            [
             0.8,
             "#7fbc41"
            ],
            [
             0.9,
             "#4d9221"
            ],
            [
             1,
             "#276419"
            ]
           ],
           "sequential": [
            [
             0,
             "#0d0887"
            ],
            [
             0.1111111111111111,
             "#46039f"
            ],
            [
             0.2222222222222222,
             "#7201a8"
            ],
            [
             0.3333333333333333,
             "#9c179e"
            ],
            [
             0.4444444444444444,
             "#bd3786"
            ],
            [
             0.5555555555555556,
             "#d8576b"
            ],
            [
             0.6666666666666666,
             "#ed7953"
            ],
            [
             0.7777777777777778,
             "#fb9f3a"
            ],
            [
             0.8888888888888888,
             "#fdca26"
            ],
            [
             1,
             "#f0f921"
            ]
           ],
           "sequentialminus": [
            [
             0,
             "#0d0887"
            ],
            [
             0.1111111111111111,
             "#46039f"
            ],
            [
             0.2222222222222222,
             "#7201a8"
            ],
            [
             0.3333333333333333,
             "#9c179e"
            ],
            [
             0.4444444444444444,
             "#bd3786"
            ],
            [
             0.5555555555555556,
             "#d8576b"
            ],
            [
             0.6666666666666666,
             "#ed7953"
            ],
            [
             0.7777777777777778,
             "#fb9f3a"
            ],
            [
             0.8888888888888888,
             "#fdca26"
            ],
            [
             1,
             "#f0f921"
            ]
           ]
          },
          "colorway": [
           "#636efa",
           "#EF553B",
           "#00cc96",
           "#ab63fa",
           "#FFA15A",
           "#19d3f3",
           "#FF6692",
           "#B6E880",
           "#FF97FF",
           "#FECB52"
          ],
          "font": {
           "color": "#2a3f5f"
          },
          "geo": {
           "bgcolor": "white",
           "lakecolor": "white",
           "landcolor": "#E5ECF6",
           "showlakes": true,
           "showland": true,
           "subunitcolor": "white"
          },
          "hoverlabel": {
           "align": "left"
          },
          "hovermode": "closest",
          "mapbox": {
           "style": "light"
          },
          "paper_bgcolor": "white",
          "plot_bgcolor": "#E5ECF6",
          "polar": {
           "angularaxis": {
            "gridcolor": "white",
            "linecolor": "white",
            "ticks": ""
           },
           "bgcolor": "#E5ECF6",
           "radialaxis": {
            "gridcolor": "white",
            "linecolor": "white",
            "ticks": ""
           }
          },
          "scene": {
           "xaxis": {
            "backgroundcolor": "#E5ECF6",
            "gridcolor": "white",
            "gridwidth": 2,
            "linecolor": "white",
            "showbackground": true,
            "ticks": "",
            "zerolinecolor": "white"
           },
           "yaxis": {
            "backgroundcolor": "#E5ECF6",
            "gridcolor": "white",
            "gridwidth": 2,
            "linecolor": "white",
            "showbackground": true,
            "ticks": "",
            "zerolinecolor": "white"
           },
           "zaxis": {
            "backgroundcolor": "#E5ECF6",
            "gridcolor": "white",
            "gridwidth": 2,
            "linecolor": "white",
            "showbackground": true,
            "ticks": "",
            "zerolinecolor": "white"
           }
          },
          "shapedefaults": {
           "line": {
            "color": "#2a3f5f"
           }
          },
          "ternary": {
           "aaxis": {
            "gridcolor": "white",
            "linecolor": "white",
            "ticks": ""
           },
           "baxis": {
            "gridcolor": "white",
            "linecolor": "white",
            "ticks": ""
           },
           "bgcolor": "#E5ECF6",
           "caxis": {
            "gridcolor": "white",
            "linecolor": "white",
            "ticks": ""
           }
          },
          "title": {
           "x": 0.05
          },
          "xaxis": {
           "automargin": true,
           "gridcolor": "white",
           "linecolor": "white",
           "ticks": "",
           "title": {
            "standoff": 15
           },
           "zerolinecolor": "white",
           "zerolinewidth": 2
          },
          "yaxis": {
           "automargin": true,
           "gridcolor": "white",
           "linecolor": "white",
           "ticks": "",
           "title": {
            "standoff": 15
           },
           "zerolinecolor": "white",
           "zerolinewidth": 2
          }
         }
        },
        "title": {
         "text": "critic score distribution"
        },
        "xaxis": {
         "anchor": "y",
         "domain": [
          0,
          1
         ],
         "title": {
          "text": "critic score"
         }
        },
        "yaxis": {
         "anchor": "x",
         "domain": [
          0,
          1
         ],
         "title": {
          "text": "Count"
         }
        }
       }
      },
      "text/html": [
       "<div>                            <div id=\"6685012d-dea0-4970-9988-a8b303d4ef27\" class=\"plotly-graph-div\" style=\"height:525px; width:100%;\"></div>            <script type=\"text/javascript\">                require([\"plotly\"], function(Plotly) {                    window.PLOTLYENV=window.PLOTLYENV || {};                                    if (document.getElementById(\"6685012d-dea0-4970-9988-a8b303d4ef27\")) {                    Plotly.newPlot(                        \"6685012d-dea0-4970-9988-a8b303d4ef27\",                        [{\"alignmentgroup\":\"True\",\"hovertemplate\":\"Source=Source<br>critic score=%{x}<br>Count=%{y}<extra></extra>\",\"legendgroup\":\"Source\",\"marker\":{\"color\":\"#636efa\",\"pattern\":{\"shape\":\"\"}},\"name\":\"Source\",\"offsetgroup\":\"Source\",\"orientation\":\"v\",\"showlegend\":true,\"textposition\":\"auto\",\"x\":[\"0.0\",\"0.1\",\"0.2\",\"0.3\",\"0.4\",\"0.5\",\"0.6\",\"0.7\",\"0.8\",\"0.9\"],\"xaxis\":\"x\",\"y\":[136,49,39,38,73,94,126,166,257,906],\"yaxis\":\"y\",\"type\":\"bar\"}],                        {\"template\":{\"data\":{\"histogram2dcontour\":[{\"type\":\"histogram2dcontour\",\"colorbar\":{\"outlinewidth\":0,\"ticks\":\"\"},\"colorscale\":[[0.0,\"#0d0887\"],[0.1111111111111111,\"#46039f\"],[0.2222222222222222,\"#7201a8\"],[0.3333333333333333,\"#9c179e\"],[0.4444444444444444,\"#bd3786\"],[0.5555555555555556,\"#d8576b\"],[0.6666666666666666,\"#ed7953\"],[0.7777777777777778,\"#fb9f3a\"],[0.8888888888888888,\"#fdca26\"],[1.0,\"#f0f921\"]]}],\"choropleth\":[{\"type\":\"choropleth\",\"colorbar\":{\"outlinewidth\":0,\"ticks\":\"\"}}],\"histogram2d\":[{\"type\":\"histogram2d\",\"colorbar\":{\"outlinewidth\":0,\"ticks\":\"\"},\"colorscale\":[[0.0,\"#0d0887\"],[0.1111111111111111,\"#46039f\"],[0.2222222222222222,\"#7201a8\"],[0.3333333333333333,\"#9c179e\"],[0.4444444444444444,\"#bd3786\"],[0.5555555555555556,\"#d8576b\"],[0.6666666666666666,\"#ed7953\"],[0.7777777777777778,\"#fb9f3a\"],[0.8888888888888888,\"#fdca26\"],[1.0,\"#f0f921\"]]}],\"heatmap\":[{\"type\":\"heatmap\",\"colorbar\":{\"outlinewidth\":0,\"ticks\":\"\"},\"colorscale\":[[0.0,\"#0d0887\"],[0.1111111111111111,\"#46039f\"],[0.2222222222222222,\"#7201a8\"],[0.3333333333333333,\"#9c179e\"],[0.4444444444444444,\"#bd3786\"],[0.5555555555555556,\"#d8576b\"],[0.6666666666666666,\"#ed7953\"],[0.7777777777777778,\"#fb9f3a\"],[0.8888888888888888,\"#fdca26\"],[1.0,\"#f0f921\"]]}],\"heatmapgl\":[{\"type\":\"heatmapgl\",\"colorbar\":{\"outlinewidth\":0,\"ticks\":\"\"},\"colorscale\":[[0.0,\"#0d0887\"],[0.1111111111111111,\"#46039f\"],[0.2222222222222222,\"#7201a8\"],[0.3333333333333333,\"#9c179e\"],[0.4444444444444444,\"#bd3786\"],[0.5555555555555556,\"#d8576b\"],[0.6666666666666666,\"#ed7953\"],[0.7777777777777778,\"#fb9f3a\"],[0.8888888888888888,\"#fdca26\"],[1.0,\"#f0f921\"]]}],\"contourcarpet\":[{\"type\":\"contourcarpet\",\"colorbar\":{\"outlinewidth\":0,\"ticks\":\"\"}}],\"contour\":[{\"type\":\"contour\",\"colorbar\":{\"outlinewidth\":0,\"ticks\":\"\"},\"colorscale\":[[0.0,\"#0d0887\"],[0.1111111111111111,\"#46039f\"],[0.2222222222222222,\"#7201a8\"],[0.3333333333333333,\"#9c179e\"],[0.4444444444444444,\"#bd3786\"],[0.5555555555555556,\"#d8576b\"],[0.6666666666666666,\"#ed7953\"],[0.7777777777777778,\"#fb9f3a\"],[0.8888888888888888,\"#fdca26\"],[1.0,\"#f0f921\"]]}],\"surface\":[{\"type\":\"surface\",\"colorbar\":{\"outlinewidth\":0,\"ticks\":\"\"},\"colorscale\":[[0.0,\"#0d0887\"],[0.1111111111111111,\"#46039f\"],[0.2222222222222222,\"#7201a8\"],[0.3333333333333333,\"#9c179e\"],[0.4444444444444444,\"#bd3786\"],[0.5555555555555556,\"#d8576b\"],[0.6666666666666666,\"#ed7953\"],[0.7777777777777778,\"#fb9f3a\"],[0.8888888888888888,\"#fdca26\"],[1.0,\"#f0f921\"]]}],\"mesh3d\":[{\"type\":\"mesh3d\",\"colorbar\":{\"outlinewidth\":0,\"ticks\":\"\"}}],\"scatter\":[{\"fillpattern\":{\"fillmode\":\"overlay\",\"size\":10,\"solidity\":0.2},\"type\":\"scatter\"}],\"parcoords\":[{\"type\":\"parcoords\",\"line\":{\"colorbar\":{\"outlinewidth\":0,\"ticks\":\"\"}}}],\"scatterpolargl\":[{\"type\":\"scatterpolargl\",\"marker\":{\"colorbar\":{\"outlinewidth\":0,\"ticks\":\"\"}}}],\"bar\":[{\"error_x\":{\"color\":\"#2a3f5f\"},\"error_y\":{\"color\":\"#2a3f5f\"},\"marker\":{\"line\":{\"color\":\"#E5ECF6\",\"width\":0.5},\"pattern\":{\"fillmode\":\"overlay\",\"size\":10,\"solidity\":0.2}},\"type\":\"bar\"}],\"scattergeo\":[{\"type\":\"scattergeo\",\"marker\":{\"colorbar\":{\"outlinewidth\":0,\"ticks\":\"\"}}}],\"scatterpolar\":[{\"type\":\"scatterpolar\",\"marker\":{\"colorbar\":{\"outlinewidth\":0,\"ticks\":\"\"}}}],\"histogram\":[{\"marker\":{\"pattern\":{\"fillmode\":\"overlay\",\"size\":10,\"solidity\":0.2}},\"type\":\"histogram\"}],\"scattergl\":[{\"type\":\"scattergl\",\"marker\":{\"colorbar\":{\"outlinewidth\":0,\"ticks\":\"\"}}}],\"scatter3d\":[{\"type\":\"scatter3d\",\"line\":{\"colorbar\":{\"outlinewidth\":0,\"ticks\":\"\"}},\"marker\":{\"colorbar\":{\"outlinewidth\":0,\"ticks\":\"\"}}}],\"scattermapbox\":[{\"type\":\"scattermapbox\",\"marker\":{\"colorbar\":{\"outlinewidth\":0,\"ticks\":\"\"}}}],\"scatterternary\":[{\"type\":\"scatterternary\",\"marker\":{\"colorbar\":{\"outlinewidth\":0,\"ticks\":\"\"}}}],\"scattercarpet\":[{\"type\":\"scattercarpet\",\"marker\":{\"colorbar\":{\"outlinewidth\":0,\"ticks\":\"\"}}}],\"carpet\":[{\"aaxis\":{\"endlinecolor\":\"#2a3f5f\",\"gridcolor\":\"white\",\"linecolor\":\"white\",\"minorgridcolor\":\"white\",\"startlinecolor\":\"#2a3f5f\"},\"baxis\":{\"endlinecolor\":\"#2a3f5f\",\"gridcolor\":\"white\",\"linecolor\":\"white\",\"minorgridcolor\":\"white\",\"startlinecolor\":\"#2a3f5f\"},\"type\":\"carpet\"}],\"table\":[{\"cells\":{\"fill\":{\"color\":\"#EBF0F8\"},\"line\":{\"color\":\"white\"}},\"header\":{\"fill\":{\"color\":\"#C8D4E3\"},\"line\":{\"color\":\"white\"}},\"type\":\"table\"}],\"barpolar\":[{\"marker\":{\"line\":{\"color\":\"#E5ECF6\",\"width\":0.5},\"pattern\":{\"fillmode\":\"overlay\",\"size\":10,\"solidity\":0.2}},\"type\":\"barpolar\"}],\"pie\":[{\"automargin\":true,\"type\":\"pie\"}]},\"layout\":{\"autotypenumbers\":\"strict\",\"colorway\":[\"#636efa\",\"#EF553B\",\"#00cc96\",\"#ab63fa\",\"#FFA15A\",\"#19d3f3\",\"#FF6692\",\"#B6E880\",\"#FF97FF\",\"#FECB52\"],\"font\":{\"color\":\"#2a3f5f\"},\"hovermode\":\"closest\",\"hoverlabel\":{\"align\":\"left\"},\"paper_bgcolor\":\"white\",\"plot_bgcolor\":\"#E5ECF6\",\"polar\":{\"bgcolor\":\"#E5ECF6\",\"angularaxis\":{\"gridcolor\":\"white\",\"linecolor\":\"white\",\"ticks\":\"\"},\"radialaxis\":{\"gridcolor\":\"white\",\"linecolor\":\"white\",\"ticks\":\"\"}},\"ternary\":{\"bgcolor\":\"#E5ECF6\",\"aaxis\":{\"gridcolor\":\"white\",\"linecolor\":\"white\",\"ticks\":\"\"},\"baxis\":{\"gridcolor\":\"white\",\"linecolor\":\"white\",\"ticks\":\"\"},\"caxis\":{\"gridcolor\":\"white\",\"linecolor\":\"white\",\"ticks\":\"\"}},\"coloraxis\":{\"colorbar\":{\"outlinewidth\":0,\"ticks\":\"\"}},\"colorscale\":{\"sequential\":[[0.0,\"#0d0887\"],[0.1111111111111111,\"#46039f\"],[0.2222222222222222,\"#7201a8\"],[0.3333333333333333,\"#9c179e\"],[0.4444444444444444,\"#bd3786\"],[0.5555555555555556,\"#d8576b\"],[0.6666666666666666,\"#ed7953\"],[0.7777777777777778,\"#fb9f3a\"],[0.8888888888888888,\"#fdca26\"],[1.0,\"#f0f921\"]],\"sequentialminus\":[[0.0,\"#0d0887\"],[0.1111111111111111,\"#46039f\"],[0.2222222222222222,\"#7201a8\"],[0.3333333333333333,\"#9c179e\"],[0.4444444444444444,\"#bd3786\"],[0.5555555555555556,\"#d8576b\"],[0.6666666666666666,\"#ed7953\"],[0.7777777777777778,\"#fb9f3a\"],[0.8888888888888888,\"#fdca26\"],[1.0,\"#f0f921\"]],\"diverging\":[[0,\"#8e0152\"],[0.1,\"#c51b7d\"],[0.2,\"#de77ae\"],[0.3,\"#f1b6da\"],[0.4,\"#fde0ef\"],[0.5,\"#f7f7f7\"],[0.6,\"#e6f5d0\"],[0.7,\"#b8e186\"],[0.8,\"#7fbc41\"],[0.9,\"#4d9221\"],[1,\"#276419\"]]},\"xaxis\":{\"gridcolor\":\"white\",\"linecolor\":\"white\",\"ticks\":\"\",\"title\":{\"standoff\":15},\"zerolinecolor\":\"white\",\"automargin\":true,\"zerolinewidth\":2},\"yaxis\":{\"gridcolor\":\"white\",\"linecolor\":\"white\",\"ticks\":\"\",\"title\":{\"standoff\":15},\"zerolinecolor\":\"white\",\"automargin\":true,\"zerolinewidth\":2},\"scene\":{\"xaxis\":{\"backgroundcolor\":\"#E5ECF6\",\"gridcolor\":\"white\",\"linecolor\":\"white\",\"showbackground\":true,\"ticks\":\"\",\"zerolinecolor\":\"white\",\"gridwidth\":2},\"yaxis\":{\"backgroundcolor\":\"#E5ECF6\",\"gridcolor\":\"white\",\"linecolor\":\"white\",\"showbackground\":true,\"ticks\":\"\",\"zerolinecolor\":\"white\",\"gridwidth\":2},\"zaxis\":{\"backgroundcolor\":\"#E5ECF6\",\"gridcolor\":\"white\",\"linecolor\":\"white\",\"showbackground\":true,\"ticks\":\"\",\"zerolinecolor\":\"white\",\"gridwidth\":2}},\"shapedefaults\":{\"line\":{\"color\":\"#2a3f5f\"}},\"annotationdefaults\":{\"arrowcolor\":\"#2a3f5f\",\"arrowhead\":0,\"arrowwidth\":1},\"geo\":{\"bgcolor\":\"white\",\"landcolor\":\"#E5ECF6\",\"subunitcolor\":\"white\",\"showland\":true,\"showlakes\":true,\"lakecolor\":\"white\"},\"title\":{\"x\":0.05},\"mapbox\":{\"style\":\"light\"}}},\"xaxis\":{\"anchor\":\"y\",\"domain\":[0.0,1.0],\"title\":{\"text\":\"critic score\"}},\"yaxis\":{\"anchor\":\"x\",\"domain\":[0.0,1.0],\"title\":{\"text\":\"Count\"}},\"legend\":{\"title\":{\"text\":\"Source\"},\"tracegroupgap\":0},\"title\":{\"text\":\"critic score distribution\"},\"barmode\":\"relative\"},                        {\"responsive\": true}                    ).then(function(){\n",
       "                            \n",
       "var gd = document.getElementById('6685012d-dea0-4970-9988-a8b303d4ef27');\n",
       "var x = new MutationObserver(function (mutations, observer) {{\n",
       "        var display = window.getComputedStyle(gd).display;\n",
       "        if (!display || display === 'none') {{\n",
       "            console.log([gd, 'removed!']);\n",
       "            Plotly.purge(gd);\n",
       "            observer.disconnect();\n",
       "        }}\n",
       "}});\n",
       "\n",
       "// Listen for the removal of the full notebook cells\n",
       "var notebookContainer = gd.closest('#notebook-container');\n",
       "if (notebookContainer) {{\n",
       "    x.observe(notebookContainer, {childList: true});\n",
       "}}\n",
       "\n",
       "// Listen for the clearing of the current output cell\n",
       "var outputEl = gd.closest('.output');\n",
       "if (outputEl) {{\n",
       "    x.observe(outputEl, {childList: true});\n",
       "}}\n",
       "\n",
       "                        })                };                });            </script>        </div>"
      ]
     },
     "metadata": {},
     "output_type": "display_data"
    }
   ],
   "source": [
    "from spot.visualization import visualize_counts\n",
    "\n",
    "\n",
    "def display_score_dist(score_counts: Counter):\n",
    "    display(visualize_counts(score_counts, \"critic score\", top_k=score_counts.keys()))\n",
    "\n",
    "\n",
    "display_score_dist(delta_stats[\"diff_scores_distr\"])\n",
    "display_score_dist(delta_stats[\"all_scores_distr\"])\n"
   ]
  },
  {
   "cell_type": "code",
   "execution_count": null,
   "metadata": {},
   "outputs": [
    {
     "data": {
      "text/html": [
       "<!DOCTYPE html>\n",
       "<html lang=\"en\">\n",
       "<head>\n",
       "    <meta charset=\"UTF-8\">\n",
       "    <title>IPyWidget export</title>\n",
       "</head>\n",
       "<body>\n",
       "\n",
       "\n",
       "<!-- Load require.js. Delete this if your page already loads require.js -->\n",
       "<script src=\"https://cdnjs.cloudflare.com/ajax/libs/require.js/2.3.4/require.min.js\" integrity=\"sha256-Ae2Vz/4ePdIu6ZyI/5ZGsYnb+m0JlOmKPjt6XZ9JJkA=\" crossorigin=\"anonymous\"></script>\n",
       "<script src=\"https://unpkg.com/@jupyter-widgets/html-manager@^0.20.1/dist/embed-amd.js\" crossorigin=\"anonymous\"></script>\n",
       "\n",
       "<script type=\"application/vnd.jupyter.widget-state+json\">\n",
       "{\n",
       "  \"version_major\": 2,\n",
       "  \"version_minor\": 0,\n",
       "  \"state\": {\n",
       "    \"0adc8509b12246d39d5c6f6140f6d97f\": {\n",
       "      \"model_name\": \"LayoutModel\",\n",
       "      \"model_module\": \"@jupyter-widgets/base\",\n",
       "      \"model_module_version\": \"1.2.0\",\n",
       "      \"state\": {}\n",
       "    },\n",
       "    \"23b8c3efef2e45c7a5948f33f78d4221\": {\n",
       "      \"model_name\": \"DescriptionStyleModel\",\n",
       "      \"model_module\": \"@jupyter-widgets/controls\",\n",
       "      \"model_module_version\": \"1.5.0\",\n",
       "      \"state\": {}\n",
       "    },\n",
       "    \"6fc774181aa34060bbc971de5b987485\": {\n",
       "      \"model_name\": \"HTMLModel\",\n",
       "      \"model_module\": \"@jupyter-widgets/controls\",\n",
       "      \"model_module_version\": \"1.5.0\",\n",
       "      \"state\": {\n",
       "        \"_dom_classes\": [],\n",
       "        \"layout\": \"IPY_MODEL_0adc8509b12246d39d5c6f6140f6d97f\",\n",
       "        \"style\": \"IPY_MODEL_23b8c3efef2e45c7a5948f33f78d4221\",\n",
       "        \"value\": \"<div style='white-space: pre-wrap; line-height: 1.2; font-family: monospace, monospace;'>By rank: ...\\nBy score: ...\\n</div>\"\n",
       "      }\n",
       "    },\n",
       "    \"19ecee06424d4aefbb124c14ad13598f\": {\n",
       "      \"model_name\": \"LayoutModel\",\n",
       "      \"model_module\": \"@jupyter-widgets/base\",\n",
       "      \"model_module_version\": \"1.2.0\",\n",
       "      \"state\": {}\n",
       "    },\n",
       "    \"bb4db7e7bae340578aa64612e5a0c473\": {\n",
       "      \"model_name\": \"DescriptionStyleModel\",\n",
       "      \"model_module\": \"@jupyter-widgets/controls\",\n",
       "      \"model_module_version\": \"1.5.0\",\n",
       "      \"state\": {}\n",
       "    },\n",
       "    \"180654fe2b734f9da67fb7541cc0ab38\": {\n",
       "      \"model_name\": \"HTMLModel\",\n",
       "      \"model_module\": \"@jupyter-widgets/controls\",\n",
       "      \"model_module_version\": \"1.5.0\",\n",
       "      \"state\": {\n",
       "        \"_dom_classes\": [],\n",
       "        \"layout\": \"IPY_MODEL_19ecee06424d4aefbb124c14ad13598f\",\n",
       "        \"style\": \"IPY_MODEL_bb4db7e7bae340578aa64612e5a0c473\",\n",
       "        \"value\": \"<div style='white-space: pre-wrap; line-height: 1.2; font-family: monospace, monospace;'>By rank:\\n   0: 65.34% (count=1.9k)\\n   1: 62.15% (count=1.9k)\\n   2: 60.88% (count=1.9k)\\n   3: 60.08% (count=1.9k)\\n   4: 60.03% (count=1.9k)\\n   5: 59.39% (count=1.9k)\\n   6: 59.08% (count=1.9k)\\n   7: 59.45% (count=1.9k)\\n   8: 59.82% (count=1.9k)\\n   9: 58.76% (count=1.9k)\\n   10: 58.65% (count=1.9k)\\n   11: 59.39% (count=1.9k)\\n   12: 59.71% (count=1.9k)\\n   13: 58.23% (count=1.9k)\\n   14: 59.02% (count=1.9k)\\n   15: 59.24% (count=1.9k)\\nBy score:\\n   0.0: 13.79% (count=3.8k)\\n   0.1: 24.00% (count=1.1k)\\n   0.2: 22.95% (count=1.1k)\\n   0.3: 26.86% (count=942)\\n   0.4: 29.71% (count=1.5k)\\n   0.5: 33.56% (count=1.8k)\\n   0.6: 46.88% (count=1.9k)\\n   0.7: 67.14% (count=2.4k)\\n   0.8: 70.00% (count=3.1k)\\n   0.9: 88.32% (count=12.5k)\\n</div>\"\n",
       "      }\n",
       "    },\n",
       "    \"b7314ed93b8f4dcca92b9ec0c836b961\": {\n",
       "      \"model_name\": \"LayoutModel\",\n",
       "      \"model_module\": \"@jupyter-widgets/base\",\n",
       "      \"model_module_version\": \"1.2.0\",\n",
       "      \"state\": {}\n",
       "    },\n",
       "    \"78541bdf6c194d778a302b5cbb20ff37\": {\n",
       "      \"model_name\": \"TabModel\",\n",
       "      \"model_module\": \"@jupyter-widgets/controls\",\n",
       "      \"model_module_version\": \"1.5.0\",\n",
       "      \"state\": {\n",
       "        \"_dom_classes\": [],\n",
       "        \"_titles\": {\n",
       "          \"0\": \"Compressed\",\n",
       "          \"1\": \"Expanded\"\n",
       "        },\n",
       "        \"children\": [\n",
       "          \"IPY_MODEL_6fc774181aa34060bbc971de5b987485\",\n",
       "          \"IPY_MODEL_180654fe2b734f9da67fb7541cc0ab38\"\n",
       "        ],\n",
       "        \"layout\": \"IPY_MODEL_b7314ed93b8f4dcca92b9ec0c836b961\"\n",
       "      }\n",
       "    },\n",
       "    \"4e6095858c994a0d84d98324e44bc1ad\": {\n",
       "      \"model_name\": \"LayoutModel\",\n",
       "      \"model_module\": \"@jupyter-widgets/base\",\n",
       "      \"model_module_version\": \"1.2.0\",\n",
       "      \"state\": {}\n",
       "    },\n",
       "    \"6c3bf4ed318b46978bb4fe6ae77be7f1\": {\n",
       "      \"model_name\": \"DescriptionStyleModel\",\n",
       "      \"model_module\": \"@jupyter-widgets/controls\",\n",
       "      \"model_module_version\": \"1.5.0\",\n",
       "      \"state\": {}\n",
       "    },\n",
       "    \"c13d6123eba24c0cbd867d3cf219f4b9\": {\n",
       "      \"model_name\": \"HTMLModel\",\n",
       "      \"model_module\": \"@jupyter-widgets/controls\",\n",
       "      \"model_module_version\": \"1.5.0\",\n",
       "      \"state\": {\n",
       "        \"_dom_classes\": [],\n",
       "        \"layout\": \"IPY_MODEL_4e6095858c994a0d84d98324e44bc1ad\",\n",
       "        \"style\": \"IPY_MODEL_6c3bf4ed318b46978bb4fe6ae77be7f1\",\n",
       "        \"value\": \"<div style='white-space: pre-wrap; line-height: 1.2; font-family: monospace, monospace;'>Model acc by rank: ...\\nModel acc by score: ...\\nCritic acc by rank: ...\\nCritic acc by score: ...\\n</div>\"\n",
       "      }\n",
       "    },\n",
       "    \"ebd998d9a0d04ab693c7fde70d8ab54f\": {\n",
       "      \"model_name\": \"LayoutModel\",\n",
       "      \"model_module\": \"@jupyter-widgets/base\",\n",
       "      \"model_module_version\": \"1.2.0\",\n",
       "      \"state\": {}\n",
       "    },\n",
       "    \"abdf968b1804498c965f14920a16f62b\": {\n",
       "      \"model_name\": \"DescriptionStyleModel\",\n",
       "      \"model_module\": \"@jupyter-widgets/controls\",\n",
       "      \"model_module_version\": \"1.5.0\",\n",
       "      \"state\": {}\n",
       "    },\n",
       "    \"568a5fe8828f4253a602e103b1a0482b\": {\n",
       "      \"model_name\": \"HTMLModel\",\n",
       "      \"model_module\": \"@jupyter-widgets/controls\",\n",
       "      \"model_module_version\": \"1.5.0\",\n",
       "      \"state\": {\n",
       "        \"_dom_classes\": [],\n",
       "        \"layout\": \"IPY_MODEL_ebd998d9a0d04ab693c7fde70d8ab54f\",\n",
       "        \"style\": \"IPY_MODEL_abdf968b1804498c965f14920a16f62b\",\n",
       "        \"value\": \"<div style='white-space: pre-wrap; line-height: 1.2; font-family: monospace, monospace;'>Model acc by rank:\\n   0: 65.34% (count=1.9k)\\n   1: 62.15% (count=1.9k)\\n   2: 60.88% (count=1.9k)\\n   3: 60.08% (count=1.9k)\\n   4: 60.03% (count=1.9k)\\n   5: 59.39% (count=1.9k)\\n   6: 59.08% (count=1.9k)\\n   7: 59.45% (count=1.9k)\\n   8: 59.82% (count=1.9k)\\n   9: 58.76% (count=1.9k)\\n   10: 58.65% (count=1.9k)\\n   11: 59.39% (count=1.9k)\\n   12: 59.71% (count=1.9k)\\n   13: 58.23% (count=1.9k)\\n   14: 59.02% (count=1.9k)\\n   15: 59.24% (count=1.9k)\\nModel acc by score:\\n   0.0: 13.79% (count=3.8k)\\n   0.1: 24.00% (count=1.1k)\\n   0.2: 22.95% (count=1.1k)\\n   0.3: 26.86% (count=942)\\n   0.4: 29.71% (count=1.5k)\\n   0.5: 33.56% (count=1.8k)\\n   0.6: 46.88% (count=1.9k)\\n   0.7: 67.14% (count=2.4k)\\n   0.8: 70.00% (count=3.1k)\\n   0.9: 88.32% (count=12.5k)\\nCritic acc by rank:\\n   0: 76.96% (count=1.9k)\\n   1: 75.96% (count=1.9k)\\n   2: 76.91% (count=1.9k)\\n   3: 76.38% (count=1.9k)\\n   4: 76.43% (count=1.9k)\\n   5: 75.69% (count=1.9k)\\n   6: 76.96% (count=1.9k)\\n   7: 77.55% (count=1.9k)\\n   8: 76.59% (count=1.9k)\\n   9: 76.38% (count=1.9k)\\n   10: 76.22% (count=1.9k)\\n   11: 76.86% (count=1.9k)\\n   12: 76.01% (count=1.9k)\\n   13: 74.42% (count=1.9k)\\n   14: 76.70% (count=1.9k)\\n   15: 77.18% (count=1.9k)\\nCritic acc by score:\\n   0.0: 86.21% (count=3.8k)\\n   0.1: 76.00% (count=1.1k)\\n   0.2: 77.05% (count=1.1k)\\n   0.3: 73.14% (count=942)\\n   0.4: 70.29% (count=1.5k)\\n   0.5: 33.67% (count=1.8k)\\n   0.6: 46.88% (count=1.9k)\\n   0.7: 67.14% (count=2.4k)\\n   0.8: 70.00% (count=3.1k)\\n   0.9: 88.32% (count=12.5k)\\n</div>\"\n",
       "      }\n",
       "    },\n",
       "    \"c4fda012735047a4ba4af4044e88aa2a\": {\n",
       "      \"model_name\": \"LayoutModel\",\n",
       "      \"model_module\": \"@jupyter-widgets/base\",\n",
       "      \"model_module_version\": \"1.2.0\",\n",
       "      \"state\": {}\n",
       "    },\n",
       "    \"ced6b3b0d0614d199d61b4f8ca93236b\": {\n",
       "      \"model_name\": \"TabModel\",\n",
       "      \"model_module\": \"@jupyter-widgets/controls\",\n",
       "      \"model_module_version\": \"1.5.0\",\n",
       "      \"state\": {\n",
       "        \"_dom_classes\": [],\n",
       "        \"_titles\": {\n",
       "          \"0\": \"Compressed\",\n",
       "          \"1\": \"Expanded\"\n",
       "        },\n",
       "        \"children\": [\n",
       "          \"IPY_MODEL_c13d6123eba24c0cbd867d3cf219f4b9\",\n",
       "          \"IPY_MODEL_568a5fe8828f4253a602e103b1a0482b\"\n",
       "        ],\n",
       "        \"layout\": \"IPY_MODEL_c4fda012735047a4ba4af4044e88aa2a\"\n",
       "      }\n",
       "    },\n",
       "    \"c6338e92558b46aeab8045dedb50012b\": {\n",
       "      \"model_name\": \"LayoutModel\",\n",
       "      \"model_module\": \"@jupyter-widgets/base\",\n",
       "      \"model_module_version\": \"1.2.0\",\n",
       "      \"state\": {}\n",
       "    },\n",
       "    \"8de16851e2a44cda8910d350312cfc5f\": {\n",
       "      \"model_name\": \"DescriptionStyleModel\",\n",
       "      \"model_module\": \"@jupyter-widgets/controls\",\n",
       "      \"model_module_version\": \"1.5.0\",\n",
       "      \"state\": {}\n",
       "    },\n",
       "    \"bdbeabfe2adb435faac5d3cbd4e96c34\": {\n",
       "      \"model_name\": \"HTMLModel\",\n",
       "      \"model_module\": \"@jupyter-widgets/controls\",\n",
       "      \"model_module_version\": \"1.5.0\",\n",
       "      \"state\": {\n",
       "        \"_dom_classes\": [],\n",
       "        \"layout\": \"IPY_MODEL_c6338e92558b46aeab8045dedb50012b\",\n",
       "        \"style\": \"IPY_MODEL_8de16851e2a44cda8910d350312cfc5f\",\n",
       "        \"value\": \"<div style='white-space: pre-wrap; line-height: 1.2; font-family: monospace, monospace;'>Model acc by rank: ...\\nModel acc by score: ...\\nCritic acc by rank: ...\\nCritic acc by score: ...\\n</div>\"\n",
       "      }\n",
       "    },\n",
       "    \"cebc1b7b835a4fbfbedc32f8b365efa4\": {\n",
       "      \"model_name\": \"LayoutModel\",\n",
       "      \"model_module\": \"@jupyter-widgets/base\",\n",
       "      \"model_module_version\": \"1.2.0\",\n",
       "      \"state\": {}\n",
       "    },\n",
       "    \"ef3e1a3a87ee479eb5fe245281e75169\": {\n",
       "      \"model_name\": \"DescriptionStyleModel\",\n",
       "      \"model_module\": \"@jupyter-widgets/controls\",\n",
       "      \"model_module_version\": \"1.5.0\",\n",
       "      \"state\": {}\n",
       "    },\n",
       "    \"4e933fb103c3487da929cf71eb010147\": {\n",
       "      \"model_name\": \"HTMLModel\",\n",
       "      \"model_module\": \"@jupyter-widgets/controls\",\n",
       "      \"model_module_version\": \"1.5.0\",\n",
       "      \"state\": {\n",
       "        \"_dom_classes\": [],\n",
       "        \"layout\": \"IPY_MODEL_cebc1b7b835a4fbfbedc32f8b365efa4\",\n",
       "        \"style\": \"IPY_MODEL_ef3e1a3a87ee479eb5fe245281e75169\",\n",
       "        \"value\": \"<div style='white-space: pre-wrap; line-height: 1.2; font-family: monospace, monospace;'>Model acc by rank:\\n   0: 65.34% (count=1.9k)\\n   1: 62.15% (count=1.9k)\\n   2: 60.88% (count=1.9k)\\n   3: 60.08% (count=1.9k)\\n   4: 60.03% (count=1.9k)\\n   5: 59.39% (count=1.9k)\\n   6: 59.08% (count=1.9k)\\n   7: 59.45% (count=1.9k)\\n   8: 59.82% (count=1.9k)\\n   9: 58.76% (count=1.9k)\\n   10: 58.65% (count=1.9k)\\n   11: 59.39% (count=1.9k)\\n   12: 59.71% (count=1.9k)\\n   13: 58.23% (count=1.9k)\\n   14: 59.02% (count=1.9k)\\n   15: 59.24% (count=1.9k)\\nModel acc by score:\\n   0.0: 9.07% (count=3.1k)\\n   0.05: 32.23% (count=782)\\n   0.1: 22.42% (count=571)\\n   0.15: 25.70% (count=533)\\n   0.2: 25.80% (count=566)\\n   0.25: 19.72% (count=497)\\n   0.3: 27.40% (count=489)\\n   0.35: 26.27% (count=453)\\n   0.4: 31.90% (count=652)\\n   0.45: 28.01% (count=846)\\n   0.5: 35.77% (count=794)\\n   0.55: 31.76% (count=973)\\n   0.6: 40.19% (count=826)\\n   0.65: 52.14% (count=1.1k)\\n   0.7: 61.40% (count=1.1k)\\n   0.75: 72.09% (count=1.3k)\\n   0.8: 70.26% (count=1.5k)\\n   0.85: 69.74% (count=1.6k)\\n   0.9: 74.04% (count=2.4k)\\n   0.95: 91.67% (count=10.1k)\\nCritic acc by rank:\\n   0: 76.96% (count=1.9k)\\n   1: 75.96% (count=1.9k)\\n   2: 76.91% (count=1.9k)\\n   3: 76.38% (count=1.9k)\\n   4: 76.43% (count=1.9k)\\n   5: 75.69% (count=1.9k)\\n   6: 76.96% (count=1.9k)\\n   7: 77.55% (count=1.9k)\\n   8: 76.59% (count=1.9k)\\n   9: 76.38% (count=1.9k)\\n   10: 76.22% (count=1.9k)\\n   11: 76.86% (count=1.9k)\\n   12: 76.01% (count=1.9k)\\n   13: 74.42% (count=1.9k)\\n   14: 76.70% (count=1.9k)\\n   15: 77.18% (count=1.9k)\\nCritic acc by score:\\n   0.0: 90.93% (count=3.1k)\\n   0.05: 67.77% (count=782)\\n   0.1: 77.58% (count=571)\\n   0.15: 74.30% (count=533)\\n   0.2: 74.20% (count=566)\\n   0.25: 80.28% (count=497)\\n   0.3: 72.60% (count=489)\\n   0.35: 73.73% (count=453)\\n   0.4: 68.10% (count=652)\\n   0.45: 71.99% (count=846)\\n   0.5: 36.02% (count=794)\\n   0.55: 31.76% (count=973)\\n   0.6: 40.19% (count=826)\\n   0.65: 52.14% (count=1.1k)\\n   0.7: 61.40% (count=1.1k)\\n   0.75: 72.09% (count=1.3k)\\n   0.8: 70.26% (count=1.5k)\\n   0.85: 69.74% (count=1.6k)\\n   0.9: 74.04% (count=2.4k)\\n   0.95: 91.67% (count=10.1k)\\n</div>\"\n",
       "      }\n",
       "    },\n",
       "    \"20496fe50fdc4ba6adef60bdc822c84c\": {\n",
       "      \"model_name\": \"LayoutModel\",\n",
       "      \"model_module\": \"@jupyter-widgets/base\",\n",
       "      \"model_module_version\": \"1.2.0\",\n",
       "      \"state\": {}\n",
       "    },\n",
       "    \"ff2365ab7bb74427ac22924429664f72\": {\n",
       "      \"model_name\": \"TabModel\",\n",
       "      \"model_module\": \"@jupyter-widgets/controls\",\n",
       "      \"model_module_version\": \"1.5.0\",\n",
       "      \"state\": {\n",
       "        \"_dom_classes\": [],\n",
       "        \"_titles\": {\n",
       "          \"0\": \"Compressed\",\n",
       "          \"1\": \"Expanded\"\n",
       "        },\n",
       "        \"children\": [\n",
       "          \"IPY_MODEL_bdbeabfe2adb435faac5d3cbd4e96c34\",\n",
       "          \"IPY_MODEL_4e933fb103c3487da929cf71eb010147\"\n",
       "        ],\n",
       "        \"layout\": \"IPY_MODEL_20496fe50fdc4ba6adef60bdc822c84c\"\n",
       "      }\n",
       "    },\n",
       "    \"b1e7d739974049689329055800bd0509\": {\n",
       "      \"model_name\": \"LayoutModel\",\n",
       "      \"model_module\": \"@jupyter-widgets/base\",\n",
       "      \"model_module_version\": \"1.2.0\",\n",
       "      \"state\": {}\n",
       "    },\n",
       "    \"bed0906cca844810ad3d7bd896df99ca\": {\n",
       "      \"model_name\": \"DescriptionStyleModel\",\n",
       "      \"model_module\": \"@jupyter-widgets/controls\",\n",
       "      \"model_module_version\": \"1.5.0\",\n",
       "      \"state\": {}\n",
       "    },\n",
       "    \"99247122f1f14d56a21fd5632c07d8cc\": {\n",
       "      \"model_name\": \"HTMLModel\",\n",
       "      \"model_module\": \"@jupyter-widgets/controls\",\n",
       "      \"model_module_version\": \"1.5.0\",\n",
       "      \"state\": {\n",
       "        \"_dom_classes\": [],\n",
       "        \"layout\": \"IPY_MODEL_b1e7d739974049689329055800bd0509\",\n",
       "        \"style\": \"IPY_MODEL_bed0906cca844810ad3d7bd896df99ca\",\n",
       "        \"value\": \"<div style='white-space: pre-wrap; line-height: 1.2; font-family: monospace, monospace;'>Model acc by rank: ...\\nModel acc by score: ...\\nCritic acc by rank: ...\\nCritic acc by score: ...\\n</div>\"\n",
       "      }\n",
       "    },\n",
       "    \"d7ea6c80e61f44eaaeecb242d5a7e18a\": {\n",
       "      \"model_name\": \"LayoutModel\",\n",
       "      \"model_module\": \"@jupyter-widgets/base\",\n",
       "      \"model_module_version\": \"1.2.0\",\n",
       "      \"state\": {}\n",
       "    },\n",
       "    \"a436f2b5529948aeb9e5df5c6c7151fc\": {\n",
       "      \"model_name\": \"DescriptionStyleModel\",\n",
       "      \"model_module\": \"@jupyter-widgets/controls\",\n",
       "      \"model_module_version\": \"1.5.0\",\n",
       "      \"state\": {}\n",
       "    },\n",
       "    \"c7f68cbd20744da8b87710aedcd5bcd8\": {\n",
       "      \"model_name\": \"HTMLModel\",\n",
       "      \"model_module\": \"@jupyter-widgets/controls\",\n",
       "      \"model_module_version\": \"1.5.0\",\n",
       "      \"state\": {\n",
       "        \"_dom_classes\": [],\n",
       "        \"layout\": \"IPY_MODEL_d7ea6c80e61f44eaaeecb242d5a7e18a\",\n",
       "        \"style\": \"IPY_MODEL_a436f2b5529948aeb9e5df5c6c7151fc\",\n",
       "        \"value\": \"<div style='white-space: pre-wrap; line-height: 1.2; font-family: monospace, monospace;'>Model acc by rank:\\n   0: 65.34% (count=1.9k)\\n   1: 62.15% (count=1.9k)\\n   2: 60.88% (count=1.9k)\\n   3: 60.08% (count=1.9k)\\n   4: 60.03% (count=1.9k)\\n   5: 59.39% (count=1.9k)\\n   6: 59.08% (count=1.9k)\\n   7: 59.45% (count=1.9k)\\n   8: 59.82% (count=1.9k)\\n   9: 58.76% (count=1.9k)\\n   10: 58.65% (count=1.9k)\\n   11: 59.39% (count=1.9k)\\n   12: 59.71% (count=1.9k)\\n   13: 58.23% (count=1.9k)\\n   14: 59.02% (count=1.9k)\\n   15: 59.24% (count=1.9k)\\nModel acc by score:\\n   0.000000%: 9.07% (count=3.1k)\\n   10.000000%: 22.42% (count=571)\\n   15.000000%: 25.70% (count=533)\\n   20.000000%: 25.80% (count=566)\\n   25.000000%: 19.72% (count=497)\\n   30.000000%: 27.40% (count=489)\\n   35.000000%: 26.27% (count=453)\\n   40.000000%: 31.90% (count=652)\\n   45.000000%: 28.01% (count=846)\\n   5.000000%: 32.23% (count=782)\\n   50.000000%: 35.77% (count=794)\\n   55.000000%: 31.76% (count=973)\\n   60.000000%: 40.19% (count=826)\\n   65.000000%: 52.14% (count=1.1k)\\n   70.000000%: 61.40% (count=1.1k)\\n   75.000000%: 72.09% (count=1.3k)\\n   80.000000%: 70.26% (count=1.5k)\\n   85.000000%: 69.74% (count=1.6k)\\n   90.000000%: 74.04% (count=2.4k)\\n   95.000000%: 91.67% (count=10.1k)\\nCritic acc by rank:\\n   0: 76.96% (count=1.9k)\\n   1: 75.96% (count=1.9k)\\n   2: 76.91% (count=1.9k)\\n   3: 76.38% (count=1.9k)\\n   4: 76.43% (count=1.9k)\\n   5: 75.69% (count=1.9k)\\n   6: 76.96% (count=1.9k)\\n   7: 77.55% (count=1.9k)\\n   8: 76.59% (count=1.9k)\\n   9: 76.38% (count=1.9k)\\n   10: 76.22% (count=1.9k)\\n   11: 76.86% (count=1.9k)\\n   12: 76.01% (count=1.9k)\\n   13: 74.42% (count=1.9k)\\n   14: 76.70% (count=1.9k)\\n   15: 77.18% (count=1.9k)\\nCritic acc by score:\\n   0.000000%: 90.93% (count=3.1k)\\n   10.000000%: 77.58% (count=571)\\n   15.000000%: 74.30% (count=533)\\n   20.000000%: 74.20% (count=566)\\n   25.000000%: 80.28% (count=497)\\n   30.000000%: 72.60% (count=489)\\n   35.000000%: 73.73% (count=453)\\n   40.000000%: 68.10% (count=652)\\n   45.000000%: 71.99% (count=846)\\n   5.000000%: 67.77% (count=782)\\n   50.000000%: 36.02% (count=794)\\n   55.000000%: 31.76% (count=973)\\n   60.000000%: 40.19% (count=826)\\n   65.000000%: 52.14% (count=1.1k)\\n   70.000000%: 61.40% (count=1.1k)\\n   75.000000%: 72.09% (count=1.3k)\\n   80.000000%: 70.26% (count=1.5k)\\n   85.000000%: 69.74% (count=1.6k)\\n   90.000000%: 74.04% (count=2.4k)\\n   95.000000%: 91.67% (count=10.1k)\\n</div>\"\n",
       "      }\n",
       "    },\n",
       "    \"062545b3798a4bbd8227be04dfa17ea1\": {\n",
       "      \"model_name\": \"LayoutModel\",\n",
       "      \"model_module\": \"@jupyter-widgets/base\",\n",
       "      \"model_module_version\": \"1.2.0\",\n",
       "      \"state\": {}\n",
       "    },\n",
       "    \"8b5117ad178742ee9f493630833c1894\": {\n",
       "      \"model_name\": \"TabModel\",\n",
       "      \"model_module\": \"@jupyter-widgets/controls\",\n",
       "      \"model_module_version\": \"1.5.0\",\n",
       "      \"state\": {\n",
       "        \"_dom_classes\": [],\n",
       "        \"_titles\": {\n",
       "          \"0\": \"Compressed\",\n",
       "          \"1\": \"Expanded\"\n",
       "        },\n",
       "        \"children\": [\n",
       "          \"IPY_MODEL_99247122f1f14d56a21fd5632c07d8cc\",\n",
       "          \"IPY_MODEL_c7f68cbd20744da8b87710aedcd5bcd8\"\n",
       "        ],\n",
       "        \"layout\": \"IPY_MODEL_062545b3798a4bbd8227be04dfa17ea1\"\n",
       "      }\n",
       "    },\n",
       "    \"f365cb8d6f9844999ead4e85f2827e0c\": {\n",
       "      \"model_name\": \"LayoutModel\",\n",
       "      \"model_module\": \"@jupyter-widgets/base\",\n",
       "      \"model_module_version\": \"1.2.0\",\n",
       "      \"state\": {}\n",
       "    },\n",
       "    \"b412d02554b14990ba0def81c610a2e1\": {\n",
       "      \"model_name\": \"DescriptionStyleModel\",\n",
       "      \"model_module\": \"@jupyter-widgets/controls\",\n",
       "      \"model_module_version\": \"1.5.0\",\n",
       "      \"state\": {}\n",
       "    },\n",
       "    \"16231b3afe1e45f5b0e2034e25ec64d0\": {\n",
       "      \"model_name\": \"HTMLModel\",\n",
       "      \"model_module\": \"@jupyter-widgets/controls\",\n",
       "      \"model_module_version\": \"1.5.0\",\n",
       "      \"state\": {\n",
       "        \"_dom_classes\": [],\n",
       "        \"layout\": \"IPY_MODEL_f365cb8d6f9844999ead4e85f2827e0c\",\n",
       "        \"style\": \"IPY_MODEL_b412d02554b14990ba0def81c610a2e1\",\n",
       "        \"value\": \"<div style='white-space: pre-wrap; line-height: 1.2; font-family: monospace, monospace;'>Model acc by rank: ...\\nModel acc by score: ...\\nCritic acc by rank: ...\\nCritic acc by score: ...\\n</div>\"\n",
       "      }\n",
       "    },\n",
       "    \"e18462eded3445d796b4bf9d051c9ce2\": {\n",
       "      \"model_name\": \"LayoutModel\",\n",
       "      \"model_module\": \"@jupyter-widgets/base\",\n",
       "      \"model_module_version\": \"1.2.0\",\n",
       "      \"state\": {}\n",
       "    },\n",
       "    \"d4462eb8ef80463f833f77f6586f47fc\": {\n",
       "      \"model_name\": \"DescriptionStyleModel\",\n",
       "      \"model_module\": \"@jupyter-widgets/controls\",\n",
       "      \"model_module_version\": \"1.5.0\",\n",
       "      \"state\": {}\n",
       "    },\n",
       "    \"54908641e4d94c66b5d64fc917ba0e66\": {\n",
       "      \"model_name\": \"HTMLModel\",\n",
       "      \"model_module\": \"@jupyter-widgets/controls\",\n",
       "      \"model_module_version\": \"1.5.0\",\n",
       "      \"state\": {\n",
       "        \"_dom_classes\": [],\n",
       "        \"layout\": \"IPY_MODEL_e18462eded3445d796b4bf9d051c9ce2\",\n",
       "        \"style\": \"IPY_MODEL_d4462eb8ef80463f833f77f6586f47fc\",\n",
       "        \"value\": \"<div style='white-space: pre-wrap; line-height: 1.2; font-family: monospace, monospace;'>Model acc by rank:\\n   0: 65.34% (count=1.9k)\\n   1: 62.15% (count=1.9k)\\n   2: 60.88% (count=1.9k)\\n   3: 60.08% (count=1.9k)\\n   4: 60.03% (count=1.9k)\\n   5: 59.39% (count=1.9k)\\n   6: 59.08% (count=1.9k)\\n   7: 59.45% (count=1.9k)\\n   8: 59.82% (count=1.9k)\\n   9: 58.76% (count=1.9k)\\n   10: 58.65% (count=1.9k)\\n   11: 59.39% (count=1.9k)\\n   12: 59.71% (count=1.9k)\\n   13: 58.23% (count=1.9k)\\n   14: 59.02% (count=1.9k)\\n   15: 59.24% (count=1.9k)\\nModel acc by score:\\n   0%: 9.07% (count=3.1k)\\n   10%: 22.42% (count=571)\\n   15%: 25.70% (count=533)\\n   20%: 25.80% (count=566)\\n   25%: 19.72% (count=497)\\n   30%: 27.40% (count=489)\\n   35%: 26.27% (count=453)\\n   40%: 31.90% (count=652)\\n   45%: 28.01% (count=846)\\n   5%: 32.23% (count=782)\\n   50%: 35.77% (count=794)\\n   55%: 31.76% (count=973)\\n   60%: 40.19% (count=826)\\n   65%: 52.14% (count=1.1k)\\n   70%: 61.40% (count=1.1k)\\n   75%: 72.09% (count=1.3k)\\n   80%: 70.26% (count=1.5k)\\n   85%: 69.74% (count=1.6k)\\n   90%: 74.04% (count=2.4k)\\n   95%: 91.67% (count=10.1k)\\nCritic acc by rank:\\n   0: 76.96% (count=1.9k)\\n   1: 75.96% (count=1.9k)\\n   2: 76.91% (count=1.9k)\\n   3: 76.38% (count=1.9k)\\n   4: 76.43% (count=1.9k)\\n   5: 75.69% (count=1.9k)\\n   6: 76.96% (count=1.9k)\\n   7: 77.55% (count=1.9k)\\n   8: 76.59% (count=1.9k)\\n   9: 76.38% (count=1.9k)\\n   10: 76.22% (count=1.9k)\\n   11: 76.86% (count=1.9k)\\n   12: 76.01% (count=1.9k)\\n   13: 74.42% (count=1.9k)\\n   14: 76.70% (count=1.9k)\\n   15: 77.18% (count=1.9k)\\nCritic acc by score:\\n   0%: 90.93% (count=3.1k)\\n   10%: 77.58% (count=571)\\n   15%: 74.30% (count=533)\\n   20%: 74.20% (count=566)\\n   25%: 80.28% (count=497)\\n   30%: 72.60% (count=489)\\n   35%: 73.73% (count=453)\\n   40%: 68.10% (count=652)\\n   45%: 71.99% (count=846)\\n   5%: 67.77% (count=782)\\n   50%: 36.02% (count=794)\\n   55%: 31.76% (count=973)\\n   60%: 40.19% (count=826)\\n   65%: 52.14% (count=1.1k)\\n   70%: 61.40% (count=1.1k)\\n   75%: 72.09% (count=1.3k)\\n   80%: 70.26% (count=1.5k)\\n   85%: 69.74% (count=1.6k)\\n   90%: 74.04% (count=2.4k)\\n   95%: 91.67% (count=10.1k)\\n</div>\"\n",
       "      }\n",
       "    },\n",
       "    \"ddddd91472c04460a6bb439fcc757888\": {\n",
       "      \"model_name\": \"LayoutModel\",\n",
       "      \"model_module\": \"@jupyter-widgets/base\",\n",
       "      \"model_module_version\": \"1.2.0\",\n",
       "      \"state\": {}\n",
       "    },\n",
       "    \"9cfc79f410f44eac910288084b2c367e\": {\n",
       "      \"model_name\": \"TabModel\",\n",
       "      \"model_module\": \"@jupyter-widgets/controls\",\n",
       "      \"model_module_version\": \"1.5.0\",\n",
       "      \"state\": {\n",
       "        \"_dom_classes\": [],\n",
       "        \"_titles\": {\n",
       "          \"0\": \"Compressed\",\n",
       "          \"1\": \"Expanded\"\n",
       "        },\n",
       "        \"children\": [\n",
       "          \"IPY_MODEL_16231b3afe1e45f5b0e2034e25ec64d0\",\n",
       "          \"IPY_MODEL_54908641e4d94c66b5d64fc917ba0e66\"\n",
       "        ],\n",
       "        \"layout\": \"IPY_MODEL_ddddd91472c04460a6bb439fcc757888\"\n",
       "      }\n",
       "    },\n",
       "    \"de3de2bf07ae4711a48bc53b4eb6c569\": {\n",
       "      \"model_name\": \"LayoutModel\",\n",
       "      \"model_module\": \"@jupyter-widgets/base\",\n",
       "      \"model_module_version\": \"1.2.0\",\n",
       "      \"state\": {}\n",
       "    },\n",
       "    \"7487cf86c4c543cf945884981c47fcf7\": {\n",
       "      \"model_name\": \"DescriptionStyleModel\",\n",
       "      \"model_module\": \"@jupyter-widgets/controls\",\n",
       "      \"model_module_version\": \"1.5.0\",\n",
       "      \"state\": {}\n",
       "    },\n",
       "    \"bdfc916505ae4a71a09ce8ba2f4c6864\": {\n",
       "      \"model_name\": \"HTMLModel\",\n",
       "      \"model_module\": \"@jupyter-widgets/controls\",\n",
       "      \"model_module_version\": \"1.5.0\",\n",
       "      \"state\": {\n",
       "        \"_dom_classes\": [],\n",
       "        \"layout\": \"IPY_MODEL_de3de2bf07ae4711a48bc53b4eb6c569\",\n",
       "        \"style\": \"IPY_MODEL_7487cf86c4c543cf945884981c47fcf7\",\n",
       "        \"value\": \"<div style='white-space: pre-wrap; line-height: 1.2; font-family: monospace, monospace;'>Model acc by rank: ...\\nModel acc by score: ...\\nCritic acc by rank: ...\\nCritic acc by score: ...\\n</div>\"\n",
       "      }\n",
       "    },\n",
       "    \"570782f6e7a940c293ca68aceae0680e\": {\n",
       "      \"model_name\": \"LayoutModel\",\n",
       "      \"model_module\": \"@jupyter-widgets/base\",\n",
       "      \"model_module_version\": \"1.2.0\",\n",
       "      \"state\": {}\n",
       "    },\n",
       "    \"763cb304249e423b98b824ecf24cc2b1\": {\n",
       "      \"model_name\": \"DescriptionStyleModel\",\n",
       "      \"model_module\": \"@jupyter-widgets/controls\",\n",
       "      \"model_module_version\": \"1.5.0\",\n",
       "      \"state\": {}\n",
       "    },\n",
       "    \"3d5aad815d294615b0f24e884f73cf30\": {\n",
       "      \"model_name\": \"HTMLModel\",\n",
       "      \"model_module\": \"@jupyter-widgets/controls\",\n",
       "      \"model_module_version\": \"1.5.0\",\n",
       "      \"state\": {\n",
       "        \"_dom_classes\": [],\n",
       "        \"layout\": \"IPY_MODEL_570782f6e7a940c293ca68aceae0680e\",\n",
       "        \"style\": \"IPY_MODEL_763cb304249e423b98b824ecf24cc2b1\",\n",
       "        \"value\": \"<div style='white-space: pre-wrap; line-height: 1.2; font-family: monospace, monospace;'>Model acc by rank:\\n   0: 65.34% (count=1.9k)\\n   1: 62.15% (count=1.9k)\\n   2: 60.88% (count=1.9k)\\n   3: 60.08% (count=1.9k)\\n   4: 60.03% (count=1.9k)\\n   5: 59.39% (count=1.9k)\\n   6: 59.08% (count=1.9k)\\n   7: 59.45% (count=1.9k)\\n   8: 59.82% (count=1.9k)\\n   9: 58.76% (count=1.9k)\\n   10: 58.65% (count=1.9k)\\n   11: 59.39% (count=1.9k)\\n   12: 59.71% (count=1.9k)\\n   13: 58.23% (count=1.9k)\\n   14: 59.02% (count=1.9k)\\n   15: 59.24% (count=1.9k)\\nModel acc by score:\\n   0.0%: 9.07% (count=3.1k)\\n   10.0%: 22.42% (count=571)\\n   15.0%: 25.70% (count=533)\\n   20.0%: 25.80% (count=566)\\n   25.0%: 19.72% (count=497)\\n   30.0%: 27.40% (count=489)\\n   35.0%: 26.27% (count=453)\\n   40.0%: 31.90% (count=652)\\n   45.0%: 28.01% (count=846)\\n   5.0%: 32.23% (count=782)\\n   50.0%: 35.77% (count=794)\\n   55.00000000000001%: 31.76% (count=973)\\n   60.0%: 40.19% (count=826)\\n   65.0%: 52.14% (count=1.1k)\\n   70.0%: 61.40% (count=1.1k)\\n   75.0%: 72.09% (count=1.3k)\\n   80.0%: 70.26% (count=1.5k)\\n   85.0%: 69.74% (count=1.6k)\\n   90.0%: 74.04% (count=2.4k)\\n   95.0%: 91.67% (count=10.1k)\\nCritic acc by rank:\\n   0: 76.96% (count=1.9k)\\n   1: 75.96% (count=1.9k)\\n   2: 76.91% (count=1.9k)\\n   3: 76.38% (count=1.9k)\\n   4: 76.43% (count=1.9k)\\n   5: 75.69% (count=1.9k)\\n   6: 76.96% (count=1.9k)\\n   7: 77.55% (count=1.9k)\\n   8: 76.59% (count=1.9k)\\n   9: 76.38% (count=1.9k)\\n   10: 76.22% (count=1.9k)\\n   11: 76.86% (count=1.9k)\\n   12: 76.01% (count=1.9k)\\n   13: 74.42% (count=1.9k)\\n   14: 76.70% (count=1.9k)\\n   15: 77.18% (count=1.9k)\\nCritic acc by score:\\n   0.0%: 90.93% (count=3.1k)\\n   10.0%: 77.58% (count=571)\\n   15.0%: 74.30% (count=533)\\n   20.0%: 74.20% (count=566)\\n   25.0%: 80.28% (count=497)\\n   30.0%: 72.60% (count=489)\\n   35.0%: 73.73% (count=453)\\n   40.0%: 68.10% (count=652)\\n   45.0%: 71.99% (count=846)\\n   5.0%: 67.77% (count=782)\\n   50.0%: 36.02% (count=794)\\n   55.00000000000001%: 31.76% (count=973)\\n   60.0%: 40.19% (count=826)\\n   65.0%: 52.14% (count=1.1k)\\n   70.0%: 61.40% (count=1.1k)\\n   75.0%: 72.09% (count=1.3k)\\n   80.0%: 70.26% (count=1.5k)\\n   85.0%: 69.74% (count=1.6k)\\n   90.0%: 74.04% (count=2.4k)\\n   95.0%: 91.67% (count=10.1k)\\n</div>\"\n",
       "      }\n",
       "    },\n",
       "    \"b944f7405b66432587ed00f1ab131972\": {\n",
       "      \"model_name\": \"LayoutModel\",\n",
       "      \"model_module\": \"@jupyter-widgets/base\",\n",
       "      \"model_module_version\": \"1.2.0\",\n",
       "      \"state\": {}\n",
       "    },\n",
       "    \"a998d7e439ff4fd194eb7e97489b1288\": {\n",
       "      \"model_name\": \"TabModel\",\n",
       "      \"model_module\": \"@jupyter-widgets/controls\",\n",
       "      \"model_module_version\": \"1.5.0\",\n",
       "      \"state\": {\n",
       "        \"_dom_classes\": [],\n",
       "        \"_titles\": {\n",
       "          \"0\": \"Compressed\",\n",
       "          \"1\": \"Expanded\"\n",
       "        },\n",
       "        \"children\": [\n",
       "          \"IPY_MODEL_bdfc916505ae4a71a09ce8ba2f4c6864\",\n",
       "          \"IPY_MODEL_3d5aad815d294615b0f24e884f73cf30\"\n",
       "        ],\n",
       "        \"layout\": \"IPY_MODEL_b944f7405b66432587ed00f1ab131972\"\n",
       "      }\n",
       "    },\n",
       "    \"13fa93a99170489b95656e683e19f578\": {\n",
       "      \"model_name\": \"LayoutModel\",\n",
       "      \"model_module\": \"@jupyter-widgets/base\",\n",
       "      \"model_module_version\": \"1.2.0\",\n",
       "      \"state\": {}\n",
       "    },\n",
       "    \"b3af7f58e05844c4858aadf6f5346635\": {\n",
       "      \"model_name\": \"DescriptionStyleModel\",\n",
       "      \"model_module\": \"@jupyter-widgets/controls\",\n",
       "      \"model_module_version\": \"1.5.0\",\n",
       "      \"state\": {}\n",
       "    },\n",
       "    \"3fe35c37fca643138ec1dc754eb92f7a\": {\n",
       "      \"model_name\": \"HTMLModel\",\n",
       "      \"model_module\": \"@jupyter-widgets/controls\",\n",
       "      \"model_module_version\": \"1.5.0\",\n",
       "      \"state\": {\n",
       "        \"_dom_classes\": [],\n",
       "        \"layout\": \"IPY_MODEL_13fa93a99170489b95656e683e19f578\",\n",
       "        \"style\": \"IPY_MODEL_b3af7f58e05844c4858aadf6f5346635\",\n",
       "        \"value\": \"<div style='white-space: pre-wrap; line-height: 1.2; font-family: monospace, monospace;'>Model acc by rank: ...\\nModel acc by score: ...\\nCritic acc by rank: ...\\nCritic acc by score: ...\\n</div>\"\n",
       "      }\n",
       "    },\n",
       "    \"e5e032cc32d2417bb837447ca4282294\": {\n",
       "      \"model_name\": \"LayoutModel\",\n",
       "      \"model_module\": \"@jupyter-widgets/base\",\n",
       "      \"model_module_version\": \"1.2.0\",\n",
       "      \"state\": {}\n",
       "    },\n",
       "    \"9c0b5d974abe467cbfe8a59a0e46f867\": {\n",
       "      \"model_name\": \"DescriptionStyleModel\",\n",
       "      \"model_module\": \"@jupyter-widgets/controls\",\n",
       "      \"model_module_version\": \"1.5.0\",\n",
       "      \"state\": {}\n",
       "    },\n",
       "    \"78e0bc0edb6f4d259e7d677221fd10f0\": {\n",
       "      \"model_name\": \"HTMLModel\",\n",
       "      \"model_module\": \"@jupyter-widgets/controls\",\n",
       "      \"model_module_version\": \"1.5.0\",\n",
       "      \"state\": {\n",
       "        \"_dom_classes\": [],\n",
       "        \"layout\": \"IPY_MODEL_e5e032cc32d2417bb837447ca4282294\",\n",
       "        \"style\": \"IPY_MODEL_9c0b5d974abe467cbfe8a59a0e46f867\",\n",
       "        \"value\": \"<div style='white-space: pre-wrap; line-height: 1.2; font-family: monospace, monospace;'>Model acc by rank:\\n   0: 65.34% (count=1.9k)\\n   1: 62.15% (count=1.9k)\\n   2: 60.88% (count=1.9k)\\n   3: 60.08% (count=1.9k)\\n   4: 60.03% (count=1.9k)\\n   5: 59.39% (count=1.9k)\\n   6: 59.08% (count=1.9k)\\n   7: 59.45% (count=1.9k)\\n   8: 59.82% (count=1.9k)\\n   9: 58.76% (count=1.9k)\\n   10: 58.65% (count=1.9k)\\n   11: 59.39% (count=1.9k)\\n   12: 59.71% (count=1.9k)\\n   13: 58.23% (count=1.9k)\\n   14: 59.02% (count=1.9k)\\n   15: 59.24% (count=1.9k)\\nModel acc by score:\\n   0.00: 9.07% (count=3.1k)\\n   0.05: 32.23% (count=782)\\n   0.10: 22.42% (count=571)\\n   0.15: 25.70% (count=533)\\n   0.20: 25.80% (count=566)\\n   0.25: 19.72% (count=497)\\n   0.30: 27.40% (count=489)\\n   0.35: 26.27% (count=453)\\n   0.40: 31.90% (count=652)\\n   0.45: 28.01% (count=846)\\n   0.50: 35.77% (count=794)\\n   0.55: 31.76% (count=973)\\n   0.60: 40.19% (count=826)\\n   0.65: 52.14% (count=1.1k)\\n   0.70: 61.40% (count=1.1k)\\n   0.75: 72.09% (count=1.3k)\\n   0.80: 70.26% (count=1.5k)\\n   0.85: 69.74% (count=1.6k)\\n   0.90: 74.04% (count=2.4k)\\n   0.95: 91.67% (count=10.1k)\\nCritic acc by rank:\\n   0: 76.96% (count=1.9k)\\n   1: 75.96% (count=1.9k)\\n   2: 76.91% (count=1.9k)\\n   3: 76.38% (count=1.9k)\\n   4: 76.43% (count=1.9k)\\n   5: 75.69% (count=1.9k)\\n   6: 76.96% (count=1.9k)\\n   7: 77.55% (count=1.9k)\\n   8: 76.59% (count=1.9k)\\n   9: 76.38% (count=1.9k)\\n   10: 76.22% (count=1.9k)\\n   11: 76.86% (count=1.9k)\\n   12: 76.01% (count=1.9k)\\n   13: 74.42% (count=1.9k)\\n   14: 76.70% (count=1.9k)\\n   15: 77.18% (count=1.9k)\\nCritic acc by score:\\n   0.00: 90.93% (count=3.1k)\\n   0.05: 67.77% (count=782)\\n   0.10: 77.58% (count=571)\\n   0.15: 74.30% (count=533)\\n   0.20: 74.20% (count=566)\\n   0.25: 80.28% (count=497)\\n   0.30: 72.60% (count=489)\\n   0.35: 73.73% (count=453)\\n   0.40: 68.10% (count=652)\\n   0.45: 71.99% (count=846)\\n   0.50: 36.02% (count=794)\\n   0.55: 31.76% (count=973)\\n   0.60: 40.19% (count=826)\\n   0.65: 52.14% (count=1.1k)\\n   0.70: 61.40% (count=1.1k)\\n   0.75: 72.09% (count=1.3k)\\n   0.80: 70.26% (count=1.5k)\\n   0.85: 69.74% (count=1.6k)\\n   0.90: 74.04% (count=2.4k)\\n   0.95: 91.67% (count=10.1k)\\n</div>\"\n",
       "      }\n",
       "    },\n",
       "    \"fe2cacc8587f40d6a01d281a1c3d5c27\": {\n",
       "      \"model_name\": \"LayoutModel\",\n",
       "      \"model_module\": \"@jupyter-widgets/base\",\n",
       "      \"model_module_version\": \"1.2.0\",\n",
       "      \"state\": {}\n",
       "    },\n",
       "    \"7bf0a069477c419e89f27a43644d150f\": {\n",
       "      \"model_name\": \"TabModel\",\n",
       "      \"model_module\": \"@jupyter-widgets/controls\",\n",
       "      \"model_module_version\": \"1.5.0\",\n",
       "      \"state\": {\n",
       "        \"_dom_classes\": [],\n",
       "        \"_titles\": {\n",
       "          \"0\": \"Compressed\",\n",
       "          \"1\": \"Expanded\"\n",
       "        },\n",
       "        \"children\": [\n",
       "          \"IPY_MODEL_3fe35c37fca643138ec1dc754eb92f7a\",\n",
       "          \"IPY_MODEL_78e0bc0edb6f4d259e7d677221fd10f0\"\n",
       "        ],\n",
       "        \"layout\": \"IPY_MODEL_fe2cacc8587f40d6a01d281a1c3d5c27\"\n",
       "      }\n",
       "    },\n",
       "    \"8208574b47104dda87ca42a288e449ad\": {\n",
       "      \"model_name\": \"LayoutModel\",\n",
       "      \"model_module\": \"@jupyter-widgets/base\",\n",
       "      \"model_module_version\": \"1.2.0\",\n",
       "      \"state\": {}\n",
       "    },\n",
       "    \"b5cf751ba57b4a7296da6e5a6b1f6e43\": {\n",
       "      \"model_name\": \"DescriptionStyleModel\",\n",
       "      \"model_module\": \"@jupyter-widgets/controls\",\n",
       "      \"model_module_version\": \"1.5.0\",\n",
       "      \"state\": {}\n",
       "    },\n",
       "    \"3d69898dee0c491d9d209cf9b13cc96f\": {\n",
       "      \"model_name\": \"HTMLModel\",\n",
       "      \"model_module\": \"@jupyter-widgets/controls\",\n",
       "      \"model_module_version\": \"1.5.0\",\n",
       "      \"state\": {\n",
       "        \"_dom_classes\": [],\n",
       "        \"layout\": \"IPY_MODEL_8208574b47104dda87ca42a288e449ad\",\n",
       "        \"style\": \"IPY_MODEL_b5cf751ba57b4a7296da6e5a6b1f6e43\",\n",
       "        \"value\": \"<div style='white-space: pre-wrap; line-height: 1.2; font-family: monospace, monospace;'>Model acc by rank: ...\\nModel acc by score: ...\\nCritic acc by rank: ...\\nCritic acc by score: ...\\n</div>\"\n",
       "      }\n",
       "    },\n",
       "    \"979ce44f7fbb4cfaa85f35dde96597bc\": {\n",
       "      \"model_name\": \"LayoutModel\",\n",
       "      \"model_module\": \"@jupyter-widgets/base\",\n",
       "      \"model_module_version\": \"1.2.0\",\n",
       "      \"state\": {}\n",
       "    },\n",
       "    \"59b57f6ced6f4aa19505c532ed78b535\": {\n",
       "      \"model_name\": \"DescriptionStyleModel\",\n",
       "      \"model_module\": \"@jupyter-widgets/controls\",\n",
       "      \"model_module_version\": \"1.5.0\",\n",
       "      \"state\": {}\n",
       "    },\n",
       "    \"69532e5104a6457b8910c1c029611d94\": {\n",
       "      \"model_name\": \"HTMLModel\",\n",
       "      \"model_module\": \"@jupyter-widgets/controls\",\n",
       "      \"model_module_version\": \"1.5.0\",\n",
       "      \"state\": {\n",
       "        \"_dom_classes\": [],\n",
       "        \"layout\": \"IPY_MODEL_979ce44f7fbb4cfaa85f35dde96597bc\",\n",
       "        \"style\": \"IPY_MODEL_59b57f6ced6f4aa19505c532ed78b535\",\n",
       "        \"value\": \"<div style='white-space: pre-wrap; line-height: 1.2; font-family: monospace, monospace;'>Model acc by rank:\\n   0: 65.34% (count=1.9k)\\n   1: 62.15% (count=1.9k)\\n   2: 60.88% (count=1.9k)\\n   3: 60.08% (count=1.9k)\\n   4: 60.03% (count=1.9k)\\n   5: 59.39% (count=1.9k)\\n   6: 59.08% (count=1.9k)\\n   7: 59.45% (count=1.9k)\\n   8: 59.82% (count=1.9k)\\n   9: 58.76% (count=1.9k)\\n   10: 58.65% (count=1.9k)\\n   11: 59.39% (count=1.9k)\\n   12: 59.71% (count=1.9k)\\n   13: 58.23% (count=1.9k)\\n   14: 59.02% (count=1.9k)\\n   15: 59.24% (count=1.9k)\\nModel acc by score:\\n   0.0: 13.79% (count=3.8k)\\n   0.1: 24.00% (count=1.1k)\\n   0.2: 22.95% (count=1.1k)\\n   0.3: 26.86% (count=942)\\n   0.4: 29.71% (count=1.5k)\\n   0.5: 33.56% (count=1.8k)\\n   0.6: 46.88% (count=1.9k)\\n   0.7: 67.14% (count=2.4k)\\n   0.8: 70.00% (count=3.1k)\\n   0.9: 88.32% (count=12.5k)\\nCritic acc by rank:\\n   0: 76.96% (count=1.9k)\\n   1: 75.96% (count=1.9k)\\n   2: 76.91% (count=1.9k)\\n   3: 76.38% (count=1.9k)\\n   4: 76.43% (count=1.9k)\\n   5: 75.69% (count=1.9k)\\n   6: 76.96% (count=1.9k)\\n   7: 77.55% (count=1.9k)\\n   8: 76.59% (count=1.9k)\\n   9: 76.38% (count=1.9k)\\n   10: 76.22% (count=1.9k)\\n   11: 76.86% (count=1.9k)\\n   12: 76.01% (count=1.9k)\\n   13: 74.42% (count=1.9k)\\n   14: 76.70% (count=1.9k)\\n   15: 77.18% (count=1.9k)\\nCritic acc by score:\\n   0.0: 86.21% (count=3.8k)\\n   0.1: 76.00% (count=1.1k)\\n   0.2: 77.05% (count=1.1k)\\n   0.3: 73.14% (count=942)\\n   0.4: 70.29% (count=1.5k)\\n   0.5: 33.67% (count=1.8k)\\n   0.6: 46.88% (count=1.9k)\\n   0.7: 67.14% (count=2.4k)\\n   0.8: 70.00% (count=3.1k)\\n   0.9: 88.32% (count=12.5k)\\n</div>\"\n",
       "      }\n",
       "    },\n",
       "    \"111e025db5e34fd892f1542ab57fbc3e\": {\n",
       "      \"model_name\": \"LayoutModel\",\n",
       "      \"model_module\": \"@jupyter-widgets/base\",\n",
       "      \"model_module_version\": \"1.2.0\",\n",
       "      \"state\": {}\n",
       "    },\n",
       "    \"f9e010dfc06446619b5215b2c6a6357c\": {\n",
       "      \"model_name\": \"TabModel\",\n",
       "      \"model_module\": \"@jupyter-widgets/controls\",\n",
       "      \"model_module_version\": \"1.5.0\",\n",
       "      \"state\": {\n",
       "        \"_dom_classes\": [],\n",
       "        \"_titles\": {\n",
       "          \"0\": \"Compressed\",\n",
       "          \"1\": \"Expanded\"\n",
       "        },\n",
       "        \"children\": [\n",
       "          \"IPY_MODEL_3d69898dee0c491d9d209cf9b13cc96f\",\n",
       "          \"IPY_MODEL_69532e5104a6457b8910c1c029611d94\"\n",
       "        ],\n",
       "        \"layout\": \"IPY_MODEL_111e025db5e34fd892f1542ab57fbc3e\"\n",
       "      }\n",
       "    }\n",
       "  }\n",
       "}\n",
       "</script>\n",
       "<script type=\"application/vnd.jupyter.widget-view+json\">\n",
       "{\"version_major\": 2, \"version_minor\": 0, \"model_id\": \"f9e010dfc06446619b5215b2c6a6357c\"}\n",
       "</script>\n",
       "\n",
       "</body>\n",
       "</html>\n"
      ],
      "text/plain": [
       "<IPython.core.display.HTML object>"
      ]
     },
     "metadata": {},
     "output_type": "display_data"
    }
   ],
   "source": [
    "from spot.debug_critic import inspect_critic_on_beams\n",
    "from spot.visualization import dict_widget, display_persist\n",
    "\n",
    "\n",
    "def check_critic(no_feedback: bool):\n",
    "    sample_eval = results[critic_result_name(no_feedback)]\n",
    "    r = inspect_critic_on_beams(sample_eval, pred_candidates)\n",
    "    display_persist(dict_widget(r))\n",
    "\n",
    "\n",
    "check_critic(False)\n"
   ]
  },
  {
   "cell_type": "code",
   "execution_count": null,
   "metadata": {},
   "outputs": [
    {
     "data": {
      "text/html": [
       "<div>\n",
       "<style scoped>\n",
       "    .dataframe tbody tr th:only-of-type {\n",
       "        vertical-align: middle;\n",
       "    }\n",
       "\n",
       "    .dataframe tbody tr th {\n",
       "        vertical-align: top;\n",
       "    }\n",
       "\n",
       "    .dataframe thead th {\n",
       "        text-align: right;\n",
       "    }\n",
       "</style>\n",
       "<table border=\"1\" class=\"dataframe\">\n",
       "  <thead>\n",
       "    <tr style=\"text-align: right;\">\n",
       "      <th></th>\n",
       "      <th>Repo</th>\n",
       "      <th>BS</th>\n",
       "      <th>Critic</th>\n",
       "      <th>Oracle</th>\n",
       "    </tr>\n",
       "  </thead>\n",
       "  <tbody>\n",
       "    <tr>\n",
       "      <th>0</th>\n",
       "      <td>basilisp-lang__basilisp</td>\n",
       "      <td>47.43% (count=3.4k)</td>\n",
       "      <td>47.14% (count=3.4k)</td>\n",
       "      <td>53.56% (count=3.4k)</td>\n",
       "    </tr>\n",
       "    <tr>\n",
       "      <th>1</th>\n",
       "      <td>kornicameister__axion</td>\n",
       "      <td>47.11% (count=1.2k)</td>\n",
       "      <td>46.08% (count=1.2k)</td>\n",
       "      <td>54.52% (count=1.2k)</td>\n",
       "    </tr>\n",
       "    <tr>\n",
       "      <th>2</th>\n",
       "      <td>nabla-c0d3__sslyze</td>\n",
       "      <td>74.02% (count=1.1k)</td>\n",
       "      <td>71.90% (count=1.1k)</td>\n",
       "      <td>82.00% (count=1.1k)</td>\n",
       "    </tr>\n",
       "    <tr>\n",
       "      <th>3</th>\n",
       "      <td>marcosschroh__dataclasses-avroschema</td>\n",
       "      <td>60.10% (count=822)</td>\n",
       "      <td>57.06% (count=822)</td>\n",
       "      <td>69.46% (count=822)</td>\n",
       "    </tr>\n",
       "    <tr>\n",
       "      <th>4</th>\n",
       "      <td>scalableminds__webknossos-connect</td>\n",
       "      <td>67.80% (count=736)</td>\n",
       "      <td>68.61% (count=736)</td>\n",
       "      <td>77.31% (count=736)</td>\n",
       "    </tr>\n",
       "    <tr>\n",
       "      <th>5</th>\n",
       "      <td>rakitaj__daily-programmer</td>\n",
       "      <td>76.50% (count=634)</td>\n",
       "      <td>79.65% (count=634)</td>\n",
       "      <td>91.48% (count=634)</td>\n",
       "    </tr>\n",
       "    <tr>\n",
       "      <th>6</th>\n",
       "      <td>seattleflu__id3c</td>\n",
       "      <td>59.58% (count=621)</td>\n",
       "      <td>57.17% (count=621)</td>\n",
       "      <td>72.46% (count=621)</td>\n",
       "    </tr>\n",
       "    <tr>\n",
       "      <th>7</th>\n",
       "      <td>nubark__instark</td>\n",
       "      <td>84.91% (count=570)</td>\n",
       "      <td>85.09% (count=570)</td>\n",
       "      <td>96.14% (count=570)</td>\n",
       "    </tr>\n",
       "    <tr>\n",
       "      <th>8</th>\n",
       "      <td>lucaswerkmeister__tool-quickcategories</td>\n",
       "      <td>79.62% (count=422)</td>\n",
       "      <td>77.96% (count=422)</td>\n",
       "      <td>86.73% (count=422)</td>\n",
       "    </tr>\n",
       "    <tr>\n",
       "      <th>9</th>\n",
       "      <td>paulcwatts__drf-json-schema</td>\n",
       "      <td>66.25% (count=400)</td>\n",
       "      <td>67.50% (count=400)</td>\n",
       "      <td>76.25% (count=400)</td>\n",
       "    </tr>\n",
       "    <tr>\n",
       "      <th>10</th>\n",
       "      <td>flopp__GpxTrackPoster</td>\n",
       "      <td>76.80% (count=375)</td>\n",
       "      <td>72.80% (count=375)</td>\n",
       "      <td>86.40% (count=375)</td>\n",
       "    </tr>\n",
       "    <tr>\n",
       "      <th>11</th>\n",
       "      <td>futursolo__magichttp</td>\n",
       "      <td>62.77% (count=368)</td>\n",
       "      <td>63.59% (count=368)</td>\n",
       "      <td>69.02% (count=368)</td>\n",
       "    </tr>\n",
       "    <tr>\n",
       "      <th>12</th>\n",
       "      <td>everyclass__everyclass-server</td>\n",
       "      <td>77.26% (count=365)</td>\n",
       "      <td>76.16% (count=365)</td>\n",
       "      <td>86.03% (count=365)</td>\n",
       "    </tr>\n",
       "    <tr>\n",
       "      <th>13</th>\n",
       "      <td>webrecorder__browsertrix</td>\n",
       "      <td>52.11% (count=332)</td>\n",
       "      <td>49.10% (count=332)</td>\n",
       "      <td>64.76% (count=332)</td>\n",
       "    </tr>\n",
       "    <tr>\n",
       "      <th>14</th>\n",
       "      <td>knowark__estimark</td>\n",
       "      <td>84.86% (count=317)</td>\n",
       "      <td>83.60% (count=317)</td>\n",
       "      <td>92.11% (count=317)</td>\n",
       "    </tr>\n",
       "    <tr>\n",
       "      <th>15</th>\n",
       "      <td>albertyw__git-browse</td>\n",
       "      <td>82.41% (count=307)</td>\n",
       "      <td>81.43% (count=307)</td>\n",
       "      <td>90.55% (count=307)</td>\n",
       "    </tr>\n",
       "    <tr>\n",
       "      <th>16</th>\n",
       "      <td>AxelVoitier__lookups</td>\n",
       "      <td>43.93% (count=305)</td>\n",
       "      <td>44.59% (count=305)</td>\n",
       "      <td>51.80% (count=305)</td>\n",
       "    </tr>\n",
       "    <tr>\n",
       "      <th>17</th>\n",
       "      <td>jreese__aql</td>\n",
       "      <td>60.87% (count=299)</td>\n",
       "      <td>53.18% (count=299)</td>\n",
       "      <td>71.57% (count=299)</td>\n",
       "    </tr>\n",
       "    <tr>\n",
       "      <th>18</th>\n",
       "      <td>joshtemple__lkml</td>\n",
       "      <td>75.09% (count=269)</td>\n",
       "      <td>72.12% (count=269)</td>\n",
       "      <td>80.30% (count=269)</td>\n",
       "    </tr>\n",
       "    <tr>\n",
       "      <th>19</th>\n",
       "      <td>srittau__FakeSMTPd</td>\n",
       "      <td>92.69% (count=260)</td>\n",
       "      <td>89.62% (count=260)</td>\n",
       "      <td>96.15% (count=260)</td>\n",
       "    </tr>\n",
       "    <tr>\n",
       "      <th>20</th>\n",
       "      <td>sonic182__aiosonic</td>\n",
       "      <td>61.14% (count=229)</td>\n",
       "      <td>61.14% (count=229)</td>\n",
       "      <td>66.38% (count=229)</td>\n",
       "    </tr>\n",
       "    <tr>\n",
       "      <th>21</th>\n",
       "      <td>TomerFi__aioswitcher</td>\n",
       "      <td>82.27% (count=220)</td>\n",
       "      <td>82.27% (count=220)</td>\n",
       "      <td>90.45% (count=220)</td>\n",
       "    </tr>\n",
       "    <tr>\n",
       "      <th>22</th>\n",
       "      <td>linw1995__data_extractor</td>\n",
       "      <td>60.95% (count=210)</td>\n",
       "      <td>61.90% (count=210)</td>\n",
       "      <td>67.62% (count=210)</td>\n",
       "    </tr>\n",
       "    <tr>\n",
       "      <th>23</th>\n",
       "      <td>reddit__baseplate.py-upgrader</td>\n",
       "      <td>87.62% (count=202)</td>\n",
       "      <td>86.14% (count=202)</td>\n",
       "      <td>95.05% (count=202)</td>\n",
       "    </tr>\n",
       "    <tr>\n",
       "      <th>24</th>\n",
       "      <td>kitsuyui__bamboo-crawler</td>\n",
       "      <td>70.79% (count=202)</td>\n",
       "      <td>68.81% (count=202)</td>\n",
       "      <td>83.66% (count=202)</td>\n",
       "    </tr>\n",
       "    <tr>\n",
       "      <th>25</th>\n",
       "      <td>ClearcodeHQ__mirakuru</td>\n",
       "      <td>77.16% (count=197)</td>\n",
       "      <td>81.22% (count=197)</td>\n",
       "      <td>88.83% (count=197)</td>\n",
       "    </tr>\n",
       "    <tr>\n",
       "      <th>26</th>\n",
       "      <td>ShadowTemplate__beautiful-python-3</td>\n",
       "      <td>96.45% (count=197)</td>\n",
       "      <td>96.45% (count=197)</td>\n",
       "      <td>97.97% (count=197)</td>\n",
       "    </tr>\n",
       "    <tr>\n",
       "      <th>27</th>\n",
       "      <td>ocf__slackbridge</td>\n",
       "      <td>85.56% (count=180)</td>\n",
       "      <td>81.11% (count=180)</td>\n",
       "      <td>93.89% (count=180)</td>\n",
       "    </tr>\n",
       "    <tr>\n",
       "      <th>28</th>\n",
       "      <td>antonagestam__collectfast</td>\n",
       "      <td>76.02% (count=171)</td>\n",
       "      <td>81.87% (count=171)</td>\n",
       "      <td>84.80% (count=171)</td>\n",
       "    </tr>\n",
       "    <tr>\n",
       "      <th>29</th>\n",
       "      <td>Gerschtli__teamspeak-update-notifier</td>\n",
       "      <td>92.31% (count=169)</td>\n",
       "      <td>89.94% (count=169)</td>\n",
       "      <td>95.86% (count=169)</td>\n",
       "    </tr>\n",
       "    <tr>\n",
       "      <th>30</th>\n",
       "      <td>albertyw__albertyw.com</td>\n",
       "      <td>77.84% (count=167)</td>\n",
       "      <td>74.85% (count=167)</td>\n",
       "      <td>92.22% (count=167)</td>\n",
       "    </tr>\n",
       "    <tr>\n",
       "      <th>31</th>\n",
       "      <td>flopp__unicode-explorer</td>\n",
       "      <td>76.22% (count=164)</td>\n",
       "      <td>75.00% (count=164)</td>\n",
       "      <td>84.76% (count=164)</td>\n",
       "    </tr>\n",
       "    <tr>\n",
       "      <th>32</th>\n",
       "      <td>typeddjango__pytest-mypy-plugins</td>\n",
       "      <td>76.43% (count=157)</td>\n",
       "      <td>79.62% (count=157)</td>\n",
       "      <td>80.89% (count=157)</td>\n",
       "    </tr>\n",
       "    <tr>\n",
       "      <th>33</th>\n",
       "      <td>brettkromkamp__topic-db</td>\n",
       "      <td>90.38% (count=156)</td>\n",
       "      <td>92.31% (count=156)</td>\n",
       "      <td>98.08% (count=156)</td>\n",
       "    </tr>\n",
       "    <tr>\n",
       "      <th>34</th>\n",
       "      <td>payscale__fables</td>\n",
       "      <td>86.86% (count=137)</td>\n",
       "      <td>84.67% (count=137)</td>\n",
       "      <td>95.62% (count=137)</td>\n",
       "    </tr>\n",
       "    <tr>\n",
       "      <th>35</th>\n",
       "      <td>road-master__video-archiver</td>\n",
       "      <td>79.55% (count=132)</td>\n",
       "      <td>76.52% (count=132)</td>\n",
       "      <td>89.39% (count=132)</td>\n",
       "    </tr>\n",
       "    <tr>\n",
       "      <th>36</th>\n",
       "      <td>ActivityWatch__aw-research</td>\n",
       "      <td>83.06% (count=124)</td>\n",
       "      <td>81.45% (count=124)</td>\n",
       "      <td>88.71% (count=124)</td>\n",
       "    </tr>\n",
       "    <tr>\n",
       "      <th>37</th>\n",
       "      <td>JakobGM__quelf</td>\n",
       "      <td>53.15% (count=111)</td>\n",
       "      <td>56.76% (count=111)</td>\n",
       "      <td>68.47% (count=111)</td>\n",
       "    </tr>\n",
       "    <tr>\n",
       "      <th>38</th>\n",
       "      <td>lebrice__blurred-GAN</td>\n",
       "      <td>68.69% (count=99)</td>\n",
       "      <td>78.79% (count=99)</td>\n",
       "      <td>88.89% (count=99)</td>\n",
       "    </tr>\n",
       "    <tr>\n",
       "      <th>39</th>\n",
       "      <td>boompig__book-classics</td>\n",
       "      <td>90.53% (count=95)</td>\n",
       "      <td>85.26% (count=95)</td>\n",
       "      <td>96.84% (count=95)</td>\n",
       "    </tr>\n",
       "    <tr>\n",
       "      <th>40</th>\n",
       "      <td>cliffxuan__mew</td>\n",
       "      <td>60.24% (count=83)</td>\n",
       "      <td>56.63% (count=83)</td>\n",
       "      <td>89.16% (count=83)</td>\n",
       "    </tr>\n",
       "    <tr>\n",
       "      <th>41</th>\n",
       "      <td>amplify-education__python-hcl2</td>\n",
       "      <td>39.76% (count=83)</td>\n",
       "      <td>39.76% (count=83)</td>\n",
       "      <td>60.24% (count=83)</td>\n",
       "    </tr>\n",
       "    <tr>\n",
       "      <th>42</th>\n",
       "      <td>ammarnajjar__pautomate</td>\n",
       "      <td>93.15% (count=73)</td>\n",
       "      <td>84.93% (count=73)</td>\n",
       "      <td>93.15% (count=73)</td>\n",
       "    </tr>\n",
       "    <tr>\n",
       "      <th>43</th>\n",
       "      <td>ohjames__babies</td>\n",
       "      <td>76.39% (count=72)</td>\n",
       "      <td>86.11% (count=72)</td>\n",
       "      <td>93.06% (count=72)</td>\n",
       "    </tr>\n",
       "    <tr>\n",
       "      <th>44</th>\n",
       "      <td>jelford__webwatcher</td>\n",
       "      <td>87.72% (count=57)</td>\n",
       "      <td>82.46% (count=57)</td>\n",
       "      <td>92.98% (count=57)</td>\n",
       "    </tr>\n",
       "    <tr>\n",
       "      <th>45</th>\n",
       "      <td>dropbox__sqlalchemy-stubs</td>\n",
       "      <td>55.10% (count=49)</td>\n",
       "      <td>61.22% (count=49)</td>\n",
       "      <td>67.35% (count=49)</td>\n",
       "    </tr>\n",
       "    <tr>\n",
       "      <th>46</th>\n",
       "      <td>eirannejad__calcatime</td>\n",
       "      <td>85.00% (count=40)</td>\n",
       "      <td>80.00% (count=40)</td>\n",
       "      <td>97.50% (count=40)</td>\n",
       "    </tr>\n",
       "    <tr>\n",
       "      <th>47</th>\n",
       "      <td>jfly__jfly.github.io</td>\n",
       "      <td>84.62% (count=39)</td>\n",
       "      <td>82.05% (count=39)</td>\n",
       "      <td>94.87% (count=39)</td>\n",
       "    </tr>\n",
       "    <tr>\n",
       "      <th>48</th>\n",
       "      <td>silasary__discord_connotations</td>\n",
       "      <td>82.14% (count=28)</td>\n",
       "      <td>89.29% (count=28)</td>\n",
       "      <td>96.43% (count=28)</td>\n",
       "    </tr>\n",
       "    <tr>\n",
       "      <th>49</th>\n",
       "      <td>yeraydiazdiaz__wait_for_it.py</td>\n",
       "      <td>100.00% (count=7)</td>\n",
       "      <td>85.71% (count=7)</td>\n",
       "      <td>100.00% (count=7)</td>\n",
       "    </tr>\n",
       "  </tbody>\n",
       "</table>\n",
       "</div>"
      ],
      "text/plain": [
       "                                      Repo                   BS  \\\n",
       "0                  basilisp-lang__basilisp  47.43% (count=3.4k)   \n",
       "1                    kornicameister__axion  47.11% (count=1.2k)   \n",
       "2                       nabla-c0d3__sslyze  74.02% (count=1.1k)   \n",
       "3     marcosschroh__dataclasses-avroschema   60.10% (count=822)   \n",
       "4        scalableminds__webknossos-connect   67.80% (count=736)   \n",
       "5                rakitaj__daily-programmer   76.50% (count=634)   \n",
       "6                         seattleflu__id3c   59.58% (count=621)   \n",
       "7                          nubark__instark   84.91% (count=570)   \n",
       "8   lucaswerkmeister__tool-quickcategories   79.62% (count=422)   \n",
       "9              paulcwatts__drf-json-schema   66.25% (count=400)   \n",
       "10                   flopp__GpxTrackPoster   76.80% (count=375)   \n",
       "11                    futursolo__magichttp   62.77% (count=368)   \n",
       "12           everyclass__everyclass-server   77.26% (count=365)   \n",
       "13                webrecorder__browsertrix   52.11% (count=332)   \n",
       "14                       knowark__estimark   84.86% (count=317)   \n",
       "15                    albertyw__git-browse   82.41% (count=307)   \n",
       "16                    AxelVoitier__lookups   43.93% (count=305)   \n",
       "17                             jreese__aql   60.87% (count=299)   \n",
       "18                        joshtemple__lkml   75.09% (count=269)   \n",
       "19                      srittau__FakeSMTPd   92.69% (count=260)   \n",
       "20                      sonic182__aiosonic   61.14% (count=229)   \n",
       "21                    TomerFi__aioswitcher   82.27% (count=220)   \n",
       "22                linw1995__data_extractor   60.95% (count=210)   \n",
       "23           reddit__baseplate.py-upgrader   87.62% (count=202)   \n",
       "24                kitsuyui__bamboo-crawler   70.79% (count=202)   \n",
       "25                   ClearcodeHQ__mirakuru   77.16% (count=197)   \n",
       "26      ShadowTemplate__beautiful-python-3   96.45% (count=197)   \n",
       "27                        ocf__slackbridge   85.56% (count=180)   \n",
       "28               antonagestam__collectfast   76.02% (count=171)   \n",
       "29    Gerschtli__teamspeak-update-notifier   92.31% (count=169)   \n",
       "30                  albertyw__albertyw.com   77.84% (count=167)   \n",
       "31                 flopp__unicode-explorer   76.22% (count=164)   \n",
       "32        typeddjango__pytest-mypy-plugins   76.43% (count=157)   \n",
       "33                 brettkromkamp__topic-db   90.38% (count=156)   \n",
       "34                        payscale__fables   86.86% (count=137)   \n",
       "35             road-master__video-archiver   79.55% (count=132)   \n",
       "36              ActivityWatch__aw-research   83.06% (count=124)   \n",
       "37                          JakobGM__quelf   53.15% (count=111)   \n",
       "38                    lebrice__blurred-GAN    68.69% (count=99)   \n",
       "39                  boompig__book-classics    90.53% (count=95)   \n",
       "40                          cliffxuan__mew    60.24% (count=83)   \n",
       "41          amplify-education__python-hcl2    39.76% (count=83)   \n",
       "42                  ammarnajjar__pautomate    93.15% (count=73)   \n",
       "43                         ohjames__babies    76.39% (count=72)   \n",
       "44                     jelford__webwatcher    87.72% (count=57)   \n",
       "45               dropbox__sqlalchemy-stubs    55.10% (count=49)   \n",
       "46                   eirannejad__calcatime    85.00% (count=40)   \n",
       "47                    jfly__jfly.github.io    84.62% (count=39)   \n",
       "48          silasary__discord_connotations    82.14% (count=28)   \n",
       "49           yeraydiazdiaz__wait_for_it.py    100.00% (count=7)   \n",
       "\n",
       "                 Critic               Oracle  \n",
       "0   47.14% (count=3.4k)  53.56% (count=3.4k)  \n",
       "1   46.08% (count=1.2k)  54.52% (count=1.2k)  \n",
       "2   71.90% (count=1.1k)  82.00% (count=1.1k)  \n",
       "3    57.06% (count=822)   69.46% (count=822)  \n",
       "4    68.61% (count=736)   77.31% (count=736)  \n",
       "5    79.65% (count=634)   91.48% (count=634)  \n",
       "6    57.17% (count=621)   72.46% (count=621)  \n",
       "7    85.09% (count=570)   96.14% (count=570)  \n",
       "8    77.96% (count=422)   86.73% (count=422)  \n",
       "9    67.50% (count=400)   76.25% (count=400)  \n",
       "10   72.80% (count=375)   86.40% (count=375)  \n",
       "11   63.59% (count=368)   69.02% (count=368)  \n",
       "12   76.16% (count=365)   86.03% (count=365)  \n",
       "13   49.10% (count=332)   64.76% (count=332)  \n",
       "14   83.60% (count=317)   92.11% (count=317)  \n",
       "15   81.43% (count=307)   90.55% (count=307)  \n",
       "16   44.59% (count=305)   51.80% (count=305)  \n",
       "17   53.18% (count=299)   71.57% (count=299)  \n",
       "18   72.12% (count=269)   80.30% (count=269)  \n",
       "19   89.62% (count=260)   96.15% (count=260)  \n",
       "20   61.14% (count=229)   66.38% (count=229)  \n",
       "21   82.27% (count=220)   90.45% (count=220)  \n",
       "22   61.90% (count=210)   67.62% (count=210)  \n",
       "23   86.14% (count=202)   95.05% (count=202)  \n",
       "24   68.81% (count=202)   83.66% (count=202)  \n",
       "25   81.22% (count=197)   88.83% (count=197)  \n",
       "26   96.45% (count=197)   97.97% (count=197)  \n",
       "27   81.11% (count=180)   93.89% (count=180)  \n",
       "28   81.87% (count=171)   84.80% (count=171)  \n",
       "29   89.94% (count=169)   95.86% (count=169)  \n",
       "30   74.85% (count=167)   92.22% (count=167)  \n",
       "31   75.00% (count=164)   84.76% (count=164)  \n",
       "32   79.62% (count=157)   80.89% (count=157)  \n",
       "33   92.31% (count=156)   98.08% (count=156)  \n",
       "34   84.67% (count=137)   95.62% (count=137)  \n",
       "35   76.52% (count=132)   89.39% (count=132)  \n",
       "36   81.45% (count=124)   88.71% (count=124)  \n",
       "37   56.76% (count=111)   68.47% (count=111)  \n",
       "38    78.79% (count=99)    88.89% (count=99)  \n",
       "39    85.26% (count=95)    96.84% (count=95)  \n",
       "40    56.63% (count=83)    89.16% (count=83)  \n",
       "41    39.76% (count=83)    60.24% (count=83)  \n",
       "42    84.93% (count=73)    93.15% (count=73)  \n",
       "43    86.11% (count=72)    93.06% (count=72)  \n",
       "44    82.46% (count=57)    92.98% (count=57)  \n",
       "45    61.22% (count=49)    67.35% (count=49)  \n",
       "46    80.00% (count=40)    97.50% (count=40)  \n",
       "47    82.05% (count=39)    94.87% (count=39)  \n",
       "48    89.29% (count=28)    96.43% (count=28)  \n",
       "49     85.71% (count=7)    100.00% (count=7)  "
      ]
     },
     "metadata": {},
     "output_type": "display_data"
    }
   ],
   "source": [
    "from spot.utils import pd, display\n",
    "\n",
    "grouped_res = results[\"BS + critic-False\"].group_by_repo()\n",
    "grouped_full_acc = {k: v.accuracies[\"full_acc\"] for k, v in grouped_res.items()}\n",
    "repos = list(grouped_full_acc.keys())\n",
    "repos.sort(key=lambda x: grouped_full_acc[x].n_total, reverse=True)\n",
    "\n",
    "grouped_acc_bs = {\n",
    "    k: v.accuracies[\"full_acc\"] for k, v in results[\"BS\"].group_by_repo().items()\n",
    "}\n",
    "grouped_oracle_bs = {\n",
    "    k: v.accuracies[\"full_acc\"]\n",
    "    for k, v in results[\"BS + oracle\"].group_by_repo().items()\n",
    "}\n",
    "\n",
    "table = pd.DataFrame(\n",
    "    {\n",
    "        \"Repo\": [r.name for r in repos],\n",
    "        \"BS\": [str(grouped_acc_bs[r]) for r in repos],\n",
    "        \"Critic\": [str(grouped_full_acc[r]) for r in repos],\n",
    "        \"Oracle\": [str(grouped_oracle_bs[r]) for r in repos],\n",
    "    }\n",
    ")\n",
    "display(table)\n"
   ]
  },
  {
   "cell_type": "code",
   "execution_count": 42,
   "metadata": {},
   "outputs": [
    {
     "data": {
      "application/vnd.jupyter.widget-view+json": {
       "model_id": "1615c7e1f80d4b67ad0c4640fef0ae48",
       "version_major": 2,
       "version_minor": 0
      },
      "text/plain": [
       "VBox(children=(IntSlider(value=0, continuous_update=False, max=178), VBox(children=(VBox(children=(Box(childre…"
      ]
     },
     "metadata": {},
     "output_type": "display_data"
    }
   ],
   "source": [
    "from spot.utils import not_none\n",
    "from spot.visualization import visualize_preds_on_code\n",
    "\n",
    "critic_eval = results[critic_result_name(False)]\n",
    "preds_extra = {\n",
    "    \"critic_preds\": [x.candidate_label_scores[x.best_candidate] for x in critic_eval.extra_info]\n",
    "}\n",
    "visualize_preds_on_code(critic_eval.chunks, critic_eval.predictions, preds_extra)\n"
   ]
  },
  {
   "cell_type": "code",
   "execution_count": null,
   "metadata": {},
   "outputs": [],
   "source": [
    "from spot.decode import collect_type_errors_from_predictions\n",
    "from spot.model import DatasetPredResult\n",
    "from spot.type_check import PythonType, MypyFeedback\n",
    "from spot.data import SrcDataset\n",
    "\n",
    "\n",
    "def collect_base_errors(dataset: SrcDataset):\n",
    "    \"Collect the type errors triggered by replacing all labels with `Any`.\"\n",
    "    chunks = dataset.to_chunks(\n",
    "        r0_wrapper.tokenizer, r0_wrapper.args.ctx_args, tqdm_args={\"disable\": True}\n",
    "    )\n",
    "    dummy_preds = [\n",
    "        [PythonType((\"Any\",)) for _ in info.types] for info in chunks.chunks_info\n",
    "    ]\n",
    "    pred_r = DatasetPredResult(chunks, dummy_preds)\n",
    "    return collect_type_errors_from_predictions(dataset, pred_r, max_workers=30)\n",
    "\n",
    "\n",
    "def collect_gold_errors(dataset: SrcDataset):\n",
    "    \"Collect the type errors triggered by ground-truth labels.\"\n",
    "    chunks = dataset.to_chunks(\n",
    "        r0_wrapper.tokenizer, r0_wrapper.args.ctx_args, tqdm_args={\"disable\": True}\n",
    "    )\n",
    "    label_preds = [info.types for info in chunks.chunks_info]\n",
    "    pred_r = DatasetPredResult(chunks, label_preds)\n",
    "    return collect_type_errors_from_predictions(dataset, pred_r, max_workers=30)\n",
    "\n",
    "\n",
    "num_labels = sum(len(s.types) for s in testset.srcs_with_labels())\n",
    "print(\"Total number of labels: \", num_labels)\n",
    "type_errors = dict[str, list[tuple[Path, MypyFeedback]]]()\n",
    "type_errors[\"default\"] = collect_base_errors(testset)\n",
    "type_errors[\"gold\"] = collect_gold_errors(testset)\n",
    "for k, v in results.items():\n",
    "    type_errors[k] = collect_type_errors_from_predictions(testset, v, max_workers=30)\n",
    "\n",
    "from spot.visualization import dict_widget, display_persist\n",
    "\n",
    "display_persist(dict_widget({k: len(v) for k, v in type_errors.items()}))\n"
   ]
  },
  {
   "cell_type": "code",
   "execution_count": null,
   "metadata": {},
   "outputs": [],
   "source": [
    "from spot.visualization import seq_flatten, visualize_counts\n",
    "from spot.utils import Counter\n",
    "from spot.type_check import count_type_frequency\n",
    "\n",
    "\n",
    "def show_type_distr(recursive: bool, top_k: int):\n",
    "    counts = dict[str, Counter]()\n",
    "    for name in [\"greedy\", \"BS + feedback\"]:\n",
    "        types = seq_flatten(results[name].predictions)\n",
    "        counts[name] = count_type_frequency(types, recursive=recursive)\n",
    "\n",
    "    display(visualize_counts(counts, x_name=\"Predicted Type\", top_k=top_k))\n",
    "\n",
    "\n",
    "show_type_distr(recursive=True, top_k=15)\n"
   ]
  },
  {
   "cell_type": "code",
   "execution_count": null,
   "metadata": {},
   "outputs": [],
   "source": [
    "from spot.visualization import visualize_counts, visualize_sequence_tabs, display\n",
    "from spot.utils import Counter\n",
    "\n",
    "default_counts = Counter(e.error_code for _, e in type_errors[\"default\"])\n",
    "\n",
    "error_counts = dict[str, Counter]()\n",
    "for name in [\"gold\"]:  # [\"greedy\", \"BS + feedback\"]:\n",
    "    c = Counter(e.error_code for _, e in type_errors[name])\n",
    "    for e, v in default_counts.items():\n",
    "        c[e] -= v\n",
    "    error_counts[name] = c\n",
    "display(visualize_counts(error_counts, \"Error\"))\n"
   ]
  },
  {
   "cell_type": "code",
   "execution_count": null,
   "metadata": {},
   "outputs": [],
   "source": [
    "from spot.visualization import visualize_conf_matrix\n",
    "\n",
    "visualize_conf_matrix(results)"
   ]
  }
 ],
 "metadata": {
  "kernelspec": {
   "display_name": "Python 3 (ipykernel)",
   "language": "python",
   "name": "python3"
  },
  "language_info": {
   "codemirror_mode": {
    "name": "ipython",
    "version": 3
   },
   "file_extension": ".py",
   "mimetype": "text/x-python",
   "name": "python",
   "nbconvert_exporter": "python",
   "pygments_lexer": "ipython3",
   "version": "3.10.4"
  },
  "orig_nbformat": 4,
  "vscode": {
   "interpreter": {
    "hash": "f6ffc72953da4dd16b2e00785be9c4013ef131f465a8658f3921b6634d4eeec8"
   }
  }
 },
 "nbformat": 4,
 "nbformat_minor": 2
}
