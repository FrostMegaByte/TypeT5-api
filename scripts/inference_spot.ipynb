{
 "cells": [
  {
   "cell_type": "code",
   "execution_count": 1,
   "metadata": {},
   "outputs": [],
   "source": [
    "%load_ext autoreload\n",
    "%autoreload 2\n",
    "\n",
    "import os\n",
    "from pathlib import Path\n",
    "from typing import *\n",
    "\n",
    "from spot.utils import proj_root, get_data_dir\n",
    "\n",
    "os.chdir(proj_root())\n",
    "\n",
    "datadir = get_data_dir()\n",
    "repos_dir = datadir / \"SPOT-data/repos\""
   ]
  },
  {
   "cell_type": "code",
   "execution_count": 2,
   "metadata": {},
   "outputs": [
    {
     "name": "stderr",
     "output_type": "stream",
     "text": [
      "/home/jiayi/Projects/SPOT/.venv/lib/python3.10/site-packages/torchvision/io/image.py:13: UserWarning: Failed to load image Python extension: libtorch_cuda_cu.so: cannot open shared object file: No such file or directory\n",
      "  warn(f\"Failed to load image Python extension: {e}\")\n"
     ]
    },
    {
     "name": "stdout",
     "output_type": "stream",
     "text": [
      "Loading datasets:  src_datasets-all_labels-drop_comments\n"
     ]
    }
   ],
   "source": [
    "# experiment configurations\n",
    "\n",
    "import torch\n",
    "\n",
    "from spot.data import (\n",
    "    SrcDataset,\n",
    "    get_dataset_name,\n",
    "    load_src_datasets,\n",
    ")\n",
    "from copy import copy\n",
    "from spot.train import TrainingConfig, TypeCheckArgs\n",
    "\n",
    "config = TrainingConfig(quicktest=False, all_labels=True)\n",
    "train_R1: bool = True\n",
    "gpu_id = 1\n",
    "\n",
    "project_name = \"test-SPOT\" if config.quicktest else \"SPOT\"\n",
    "train_ctx_args = config.train_ctx_args()\n",
    "\n",
    "max_tokens_per_file = config.ctx_size\n",
    "\n",
    "datasets_name = get_dataset_name(\n",
    "    drop_comments=config.drop_comments,\n",
    "    all_labels=config.all_labels,\n",
    ")\n",
    "\n",
    "tc_args = TypeCheckArgs(check_in_isolation=config.check_in_isolation)\n",
    "\n",
    "r0_model_name = \"R0-model--\" + config.as_name()\n",
    "\n",
    "src_datasets = load_src_datasets(\n",
    "    datadir,\n",
    "    datasets_name,\n",
    "    data_reduction=config.data_reduction,\n",
    "    repos_root=datadir / \"SPOT-data/repos\",\n",
    "    quicktest=config.quicktest,\n",
    ")\n"
   ]
  },
  {
   "cell_type": "code",
   "execution_count": 3,
   "metadata": {},
   "outputs": [
    {
     "name": "stdout",
     "output_type": "stream",
     "text": [
      "DecodingArgs(ctx_args=CtxArgs(ctx_size=4096, left_margin=2048, right_margin=1024), sampling_max_tokens=32768, max_workers=20)\n"
     ]
    }
   ],
   "source": [
    "# load trained model\n",
    "from spot.utils import pickle_load, pickle_dump\n",
    "from spot.model import ModelWrapper\n",
    "\n",
    "\n",
    "r0_wrapper = ModelWrapper.from_pretrained(\n",
    "    datadir / f\"checkpoints/lit-saved/{r0_model_name}\"\n",
    ")\n",
    "# if train_R1:\n",
    "#     r0_extra = pickle_load(datadir / f\"checkpoints/lit-saved/{r0_model_name}/extra.pkl\")\n",
    "#     r1_src_datasets: dict[str, SrcDataset] = r0_extra[\"R1-src_datasets\"]\n",
    "device = torch.device(f\"cuda:{gpu_id}\" if torch.cuda.is_available() else \"cpu\")\n",
    "r0_wrapper.to(device)\n",
    "print(r0_wrapper.args)\n"
   ]
  },
  {
   "cell_type": "code",
   "execution_count": 4,
   "metadata": {},
   "outputs": [
    {
     "name": "stdout",
     "output_type": "stream",
     "text": [
      "Critic loaded.\n"
     ]
    }
   ],
   "source": [
    "# load the critic\n",
    "\n",
    "from spot.critic import CriticModel\n",
    "\n",
    "critic_no_feedback = False\n",
    "feedback_tag = \"no_feedback-\" if critic_no_feedback else \"\"\n",
    "critic_name = \"critic-model--\" + feedback_tag + config.as_name()\n",
    "critic = CriticModel.load(datadir / f\"checkpoints/lit-saved/{critic_name}\")\n",
    "critic.to(device)\n",
    "print(\"Critic loaded.\")"
   ]
  },
  {
   "cell_type": "code",
   "execution_count": 11,
   "metadata": {},
   "outputs": [
    {
     "name": "stderr",
     "output_type": "stream",
     "text": [
      "WARNING:root:No cache found at: /home/jiayi/Projects/SPOT/caches/inference_spot/R0-model--all_labels=True, skip clearing.\n"
     ]
    },
    {
     "name": "stdout",
     "output_type": "stream",
     "text": [
      "Starting task: Computing results\n"
     ]
    },
    {
     "data": {
      "application/vnd.jupyter.widget-view+json": {
       "model_id": "f39c39fa138a4dfaa03afdd1d90332f6",
       "version_major": 2,
       "version_minor": 0
      },
      "text/plain": [
       "predict:   0%|          | 0/6 [00:00<?, ?it/s]"
      ]
     },
     "metadata": {},
     "output_type": "display_data"
    },
    {
     "data": {
      "application/vnd.jupyter.widget-view+json": {
       "model_id": "371de29f522d4600bdb9e87ea3982f31",
       "version_major": 2,
       "version_minor": 0
      },
      "text/plain": [
       "map type_check_src_in_project:   0%|          | 0/96 [00:00<?, ?it/s]"
      ]
     },
     "metadata": {},
     "output_type": "display_data"
    },
    {
     "name": "stdout",
     "output_type": "stream",
     "text": [
      "Type checking success rate: 100.00%\n",
      "Average number of feedbacks per check: 4.50\n"
     ]
    },
    {
     "data": {
      "application/vnd.jupyter.widget-view+json": {
       "model_id": "aef7fe3498964f60861026cc3d069e8a",
       "version_major": 2,
       "version_minor": 0
      },
      "text/plain": [
       "map to_critic_inputs:   0%|          | 0/96 [00:00<?, ?it/s]"
      ]
     },
     "metadata": {},
     "output_type": "display_data"
    },
    {
     "data": {
      "application/vnd.jupyter.widget-view+json": {
       "model_id": "6ad72511146741e4afc63260130c3ffb",
       "version_major": 2,
       "version_minor": 0
      },
      "text/plain": [
       "predict:   0%|          | 0/96 [00:00<?, ?it/s]"
      ]
     },
     "metadata": {},
     "output_type": "display_data"
    },
    {
     "name": "stdout",
     "output_type": "stream",
     "text": [
      "Average number of errors after selection: 4.5\n",
      "Pushover: (Finished: 'Computing results'.) Time taken: 28.5s\n"
     ]
    }
   ],
   "source": [
    "# compute results\n",
    "from spot.decode import sample_candidates, select_candidates_by_type_errors, select_candidates_using_oracle, select_candidates_using_critic\n",
    "from spot.train import evaluate_model\n",
    "from spot.model import DatasetPredResult\n",
    "from spot.utils import pretty_print_dict, run_long_task, PickleCache\n",
    "from spot.model import CtxArgs, DecodingArgs, ModelSPOT\n",
    "\n",
    "testset = src_datasets[\"test\"][0:50:10]\n",
    "\n",
    "# used for inference\n",
    "n_samples = 16\n",
    "greedy_args = DecodingArgs(\n",
    "    sampling_max_tokens=8 * max_tokens_per_file,\n",
    "    ctx_args=config.dec_ctx_args(),\n",
    "    max_workers=28,\n",
    "    do_sample=False,\n",
    ")\n",
    "\n",
    "sample_args = DecodingArgs(\n",
    "    sampling_max_tokens=8 * max_tokens_per_file,\n",
    "    ctx_args=config.dec_ctx_args(),\n",
    "    max_workers=28,\n",
    "    do_sample=True,\n",
    "    top_p=0.9,\n",
    ")\n",
    "\n",
    "bs_args = DecodingArgs(\n",
    "    sampling_max_tokens=max_tokens_per_file,\n",
    "    ctx_args=config.dec_ctx_args(),\n",
    "    max_workers=28,\n",
    "    do_sample=False,\n",
    "    num_beams=n_samples,\n",
    ")\n",
    "\n",
    "dbs_args = DecodingArgs(\n",
    "    sampling_max_tokens=max_tokens_per_file,\n",
    "    ctx_args=config.dec_ctx_args(),\n",
    "    max_workers=28,\n",
    "    do_sample=False,\n",
    "    num_beams=n_samples,\n",
    "    num_beam_groups=n_samples,\n",
    "    diversity_penalty=0.5,\n",
    ")\n",
    "\n",
    "results = dict[str, DatasetPredResult]()\n",
    "\n",
    "eval_cache = PickleCache(proj_root() / \"caches\" / \"inference_spot\" / r0_model_name)\n",
    "eval_cache.clear()\n",
    "\n",
    "with run_long_task(\"Computing results\"):\n",
    "    # r0_wrapper.args = greedy_args\n",
    "    # results[\"greedy\"] = evaluate_model(r0_wrapper, None, testset, eval_cache=eval_cache, tc_args=tc_args)[0][1]\n",
    "\n",
    "    # r0_wrapper.args = bs_args\n",
    "    # results[\"BS\"] = evaluate_model(r0_wrapper, None, testset, eval_cache=eval_cache, tc_args=tc_args)[0][1]\n",
    "\n",
    "    # r0_wrapper.args = dbs_args\n",
    "    # results[\"DBS\"] = evaluate_model(r0_wrapper, None, testset, check_in_isolation=False)[0][1]\n",
    "\n",
    "    r0_wrapper.args = bs_args\n",
    "    test_chunks, pred_candidates = sample_candidates(r0_wrapper, testset, n_samples=n_samples)\n",
    "\n",
    "    # sample_eval = select_candidates_by_type_errors(testset, test_chunks, pred_candidates)\n",
    "    # results[\"BS + feedback\"] = sample_eval\n",
    "\n",
    "    # sample_eval = select_candidates_using_critic(critic, testset, test_chunks, pred_candidates, dec_args=greedy_args)\n",
    "    # results[\"BS + critic\"] = sample_eval\n",
    "\n",
    "    # oracle_eval = select_candidates_using_oracle(test_chunks, pred_candidates)\n",
    "    # results[\"BS + oracle\"] = oracle_eval\n",
    "    from spot.type_check import parse_type_str\n",
    "    from spot.utils import with_default_workers\n",
    "\n",
    "    bad_pred_candidates = [[[parse_type_str(\"BadType\") for y in ys] for ys in xs] for xs in pred_candidates]\n",
    "\n",
    "    sample_eval = select_candidates_using_critic(critic, testset, test_chunks, pred_candidates, dec_args=greedy_args)\n",
    "    results[\"BS + critic\"] = sample_eval\n"
   ]
  },
  {
   "cell_type": "code",
   "execution_count": 6,
   "metadata": {},
   "outputs": [
    {
     "ename": "NameError",
     "evalue": "name 'pred_candidates' is not defined",
     "output_type": "error",
     "traceback": [
      "\u001b[0;31m---------------------------------------------------------------------------\u001b[0m",
      "\u001b[0;31mNameError\u001b[0m                                 Traceback (most recent call last)",
      "\u001b[1;32m/home/jiayi/Projects/SPOT/scripts/inference_spot.ipynb Cell 6'\u001b[0m in \u001b[0;36m<cell line: 4>\u001b[0;34m()\u001b[0m\n\u001b[1;32m      <a href='vscode-notebook-cell://ssh-remote%2Butopia3/home/jiayi/Projects/SPOT/scripts/inference_spot.ipynb#ch0000020vscode-remote?line=0'>1</a>\u001b[0m \u001b[39mfrom\u001b[39;00m \u001b[39mspot\u001b[39;00m\u001b[39m.\u001b[39;00m\u001b[39mtype_check\u001b[39;00m \u001b[39mimport\u001b[39;00m parse_type_str\n\u001b[1;32m      <a href='vscode-notebook-cell://ssh-remote%2Butopia3/home/jiayi/Projects/SPOT/scripts/inference_spot.ipynb#ch0000020vscode-remote?line=1'>2</a>\u001b[0m \u001b[39mfrom\u001b[39;00m \u001b[39mspot\u001b[39;00m\u001b[39m.\u001b[39;00m\u001b[39mutils\u001b[39;00m \u001b[39mimport\u001b[39;00m with_default_workers\n\u001b[0;32m----> <a href='vscode-notebook-cell://ssh-remote%2Butopia3/home/jiayi/Projects/SPOT/scripts/inference_spot.ipynb#ch0000020vscode-remote?line=3'>4</a>\u001b[0m bad_pred_candidates \u001b[39m=\u001b[39m [[[parse_type_str(\u001b[39m\"\u001b[39m\u001b[39mBadType\u001b[39m\u001b[39m\"\u001b[39m) \u001b[39mfor\u001b[39;00m y \u001b[39min\u001b[39;00m ys] \u001b[39mfor\u001b[39;00m ys \u001b[39min\u001b[39;00m xs] \u001b[39mfor\u001b[39;00m xs \u001b[39min\u001b[39;00m pred_candidates]\n\u001b[1;32m      <a href='vscode-notebook-cell://ssh-remote%2Butopia3/home/jiayi/Projects/SPOT/scripts/inference_spot.ipynb#ch0000020vscode-remote?line=5'>6</a>\u001b[0m \u001b[39mwith\u001b[39;00m with_default_workers(\u001b[39m1\u001b[39m):\n\u001b[1;32m      <a href='vscode-notebook-cell://ssh-remote%2Butopia3/home/jiayi/Projects/SPOT/scripts/inference_spot.ipynb#ch0000020vscode-remote?line=6'>7</a>\u001b[0m     sample_eval \u001b[39m=\u001b[39m select_candidates_using_critic(critic, testset, test_chunks, bad_pred_candidates, dec_args\u001b[39m=\u001b[39mgreedy_args)\n",
      "\u001b[0;31mNameError\u001b[0m: name 'pred_candidates' is not defined"
     ]
    }
   ],
   "source": [
    "from spot.type_check import parse_type_str\n",
    "from spot.utils import with_default_workers\n",
    "\n",
    "bad_pred_candidates = [[[parse_type_str(\"BadType\") for y in ys] for ys in xs] for xs in pred_candidates]\n",
    "\n",
    "with with_default_workers(1):\n",
    "    sample_eval = select_candidates_using_critic(critic, testset, test_chunks, bad_pred_candidates, dec_args=greedy_args)\n",
    "results[\"BS + critic\"] = sample_eval"
   ]
  },
  {
   "cell_type": "code",
   "execution_count": null,
   "metadata": {},
   "outputs": [],
   "source": [
    "from spot.visualization import visualize_dicts\n",
    "\n",
    "visualize_dicts([x.accuracies for x in results.values()], titles=list(results.keys()))"
   ]
  },
  {
   "cell_type": "code",
   "execution_count": null,
   "metadata": {},
   "outputs": [],
   "source": [
    "from spot.utils import not_none\n",
    "from spot.visualization import visualize_preds_on_code\n",
    "\n",
    "critic_eval = results[\"BS + critic\"]\n",
    "preds_extra = {\"critic_preds\": [x[\"critic_preds\"] for x in not_none(critic_eval.extra_info)]}\n",
    "visualize_preds_on_code(critic_eval.chunks, critic_eval.predictions, preds_extra)"
   ]
  },
  {
   "cell_type": "code",
   "execution_count": null,
   "metadata": {},
   "outputs": [],
   "source": [
    "from spot.decode import collect_type_errors_from_predictions\n",
    "from spot.model import DatasetPredResult\n",
    "from spot.type_check import PythonType, MypyFeedback\n",
    "from spot.data import SrcDataset\n",
    "\n",
    "\n",
    "def collect_base_errors(dataset: SrcDataset):\n",
    "    \"Collect the type errors triggered by replacing all labels with `Any`.\"\n",
    "    chunks = dataset.to_chunks(\n",
    "        r0_wrapper.tokenizer, r0_wrapper.args.ctx_args, tqdm_args={\"disable\": True}\n",
    "    )\n",
    "    dummy_preds = [\n",
    "        [PythonType((\"Any\",)) for _ in info.types] for info in chunks.chunks_info\n",
    "    ]\n",
    "    pred_r = DatasetPredResult(chunks, dummy_preds)\n",
    "    return collect_type_errors_from_predictions(dataset, pred_r, max_workers=30)\n",
    "\n",
    "def collect_gold_errors(dataset: SrcDataset):\n",
    "    \"Collect the type errors triggered by ground-truth labels.\"\n",
    "    chunks = dataset.to_chunks(\n",
    "        r0_wrapper.tokenizer, r0_wrapper.args.ctx_args, tqdm_args={\"disable\": True}\n",
    "    )\n",
    "    label_preds = [\n",
    "        info.types for info in chunks.chunks_info\n",
    "    ]\n",
    "    pred_r = DatasetPredResult(chunks, label_preds)\n",
    "    return collect_type_errors_from_predictions(dataset, pred_r, max_workers=30)\n",
    "\n",
    "num_labels = sum(len(s.types) for s in testset.srcs_with_labels())\n",
    "print(\"Total number of labels: \", num_labels)\n",
    "type_errors = dict[str, list[tuple[Path, MypyFeedback]]]()\n",
    "type_errors[\"default\"] = collect_base_errors(testset)\n",
    "type_errors[\"gold\"] = collect_gold_errors(testset)\n",
    "for k, v in results.items():\n",
    "    type_errors[k] = collect_type_errors_from_predictions(testset, v, max_workers=30)\n",
    "\n",
    "from spot.visualization import pretty_display_dict, display\n",
    "display(pretty_display_dict({k: len(v) for k, v in type_errors.items()}))"
   ]
  },
  {
   "cell_type": "code",
   "execution_count": null,
   "metadata": {},
   "outputs": [],
   "source": [
    "from spot.utils import pickle_dump\n",
    "\n",
    "pickle_dump(Path(\"caches/inference_spot.pkl\"), \n",
    "    {\"results\": results, \"type_errors\": type_errors})"
   ]
  },
  {
   "cell_type": "code",
   "execution_count": null,
   "metadata": {},
   "outputs": [],
   "source": [
    "from spot.utils import pickle_load\n",
    "\n",
    "if False:\n",
    "    match pickle_load(Path(\"caches/inference_spot.pkl\")):\n",
    "        case {\"results\": results, \"type_errors\": type_errors}:\n",
    "            print(\"Loaded!\")"
   ]
  },
  {
   "cell_type": "code",
   "execution_count": null,
   "metadata": {},
   "outputs": [],
   "source": [
    "from spot.visualization import seq_flatten, visualize_counts\n",
    "from ipywidgets import interact\n",
    "from spot.utils import Counter\n",
    "from spot.type_check import count_type_frequency\n",
    "\n",
    "def show_type_distr(recursive: bool, top_k: int):\n",
    "    counts = dict[str, Counter]()\n",
    "    for name in [\"greedy\", \"BS + feedback\"]:\n",
    "        types = seq_flatten(results[name].predictions)\n",
    "        counts[name] = count_type_frequency(types, recursive=recursive)\n",
    "\n",
    "    display(visualize_counts(counts, x_name=\"Predicted Type\", top_k=top_k))\n",
    "\n",
    "\n",
    "show_type_distr(recursive=True, top_k=15)"
   ]
  },
  {
   "cell_type": "code",
   "execution_count": null,
   "metadata": {},
   "outputs": [],
   "source": [
    "from spot.visualization import visualize_counts, visualize_sequence_tabs, display\n",
    "from spot.utils import Counter\n",
    "\n",
    "default_counts = Counter(e.error_code for _, e in type_errors[\"default\"])\n",
    "\n",
    "error_counts = dict[str, Counter]()\n",
    "for name in [\"gold\"]: #[\"greedy\", \"BS + feedback\"]:\n",
    "    c = Counter(e.error_code for _, e in type_errors[name])\n",
    "    for e, v in default_counts.items():\n",
    "        c[e] -= v\n",
    "    error_counts[name] = c\n",
    "display(visualize_counts(error_counts, \"Error\"))"
   ]
  },
  {
   "cell_type": "code",
   "execution_count": null,
   "metadata": {},
   "outputs": [],
   "source": [
    "from spot.visualization import visualize_conf_matrix\n",
    "visualize_conf_matrix(results)"
   ]
  },
  {
   "cell_type": "code",
   "execution_count": null,
   "metadata": {},
   "outputs": [],
   "source": [
    "import torch\n",
    "torch.cuda.empty_cache()"
   ]
  }
 ],
 "metadata": {
  "kernelspec": {
   "display_name": "Python 3.10.4 ('.venv': pipenv)",
   "language": "python",
   "name": "python3"
  },
  "language_info": {
   "codemirror_mode": {
    "name": "ipython",
    "version": 3
   },
   "file_extension": ".py",
   "mimetype": "text/x-python",
   "name": "python",
   "nbconvert_exporter": "python",
   "pygments_lexer": "ipython3",
   "version": "3.10.4"
  },
  "orig_nbformat": 4,
  "vscode": {
   "interpreter": {
    "hash": "f6ffc72953da4dd16b2e00785be9c4013ef131f465a8658f3921b6634d4eeec8"
   }
  }
 },
 "nbformat": 4,
 "nbformat_minor": 2
}
