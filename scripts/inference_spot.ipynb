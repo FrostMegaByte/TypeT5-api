{
 "cells": [
  {
   "cell_type": "code",
   "execution_count": 1,
   "metadata": {},
   "outputs": [],
   "source": [
    "%load_ext autoreload\n",
    "%autoreload 2\n",
    "\n",
    "import os\n",
    "from pathlib import Path\n",
    "from typing import *\n",
    "\n",
    "from spot.utils import proj_root, get_data_dir\n",
    "\n",
    "os.chdir(proj_root())\n",
    "\n",
    "datadir = get_data_dir()\n",
    "repos_dir = datadir / \"SPOT-data/repos\""
   ]
  },
  {
   "cell_type": "code",
   "execution_count": 2,
   "metadata": {},
   "outputs": [
    {
     "name": "stderr",
     "output_type": "stream",
     "text": [
      "/home/jiayi/Projects/SPOT/.venv/lib/python3.10/site-packages/torchvision/io/image.py:13: UserWarning: Failed to load image Python extension: libtorch_cuda_cu.so: cannot open shared object file: No such file or directory\n",
      "  warn(f\"Failed to load image Python extension: {e}\")\n"
     ]
    },
    {
     "name": "stdout",
     "output_type": "stream",
     "text": [
      "Loading datasets:  src_datasets-all_labels-drop_comments\n"
     ]
    }
   ],
   "source": [
    "# experiment configurations\n",
    "\n",
    "import torch\n",
    "\n",
    "from spot.data import (\n",
    "    SrcDataset,\n",
    "    get_dataset_name,\n",
    "    load_src_datasets,\n",
    ")\n",
    "from copy import copy\n",
    "from spot.train import TrainingConfig, TypeCheckArgs\n",
    "\n",
    "config = TrainingConfig(quicktest=False, all_labels=True)\n",
    "train_R1: bool = True\n",
    "gpu_id = 1\n",
    "\n",
    "project_name = \"test-SPOT\" if config.quicktest else \"SPOT\"\n",
    "# train_ctx_args = config.train_ctx_args()\n",
    "\n",
    "max_tokens_per_file = config.ctx_size\n",
    "\n",
    "datasets_name = get_dataset_name(\n",
    "    drop_comments=config.drop_comments,\n",
    "    all_labels=config.all_labels,\n",
    ")\n",
    "\n",
    "tc_args = TypeCheckArgs(check_in_isolation=config.check_in_isolation)\n",
    "\n",
    "r0_model_name = \"R0-model--\" + config._replace(quicktest=False).as_name()\n",
    "\n",
    "src_datasets = load_src_datasets(\n",
    "    datadir,\n",
    "    datasets_name,\n",
    "    data_reduction=config.data_reduction,\n",
    "    repos_root=datadir / \"SPOT-data/repos\",\n",
    "    quicktest=config.quicktest,\n",
    ")\n"
   ]
  },
  {
   "cell_type": "code",
   "execution_count": 3,
   "metadata": {},
   "outputs": [
    {
     "name": "stdout",
     "output_type": "stream",
     "text": [
      "DecodingArgs(ctx_args=CtxArgs(ctx_size=4096, left_margin=2048, right_margin=1024), sampling_max_tokens=32768, max_workers=20)\n"
     ]
    }
   ],
   "source": [
    "# load trained model\n",
    "from spot.utils import pickle_load, pickle_dump\n",
    "from spot.model import ModelWrapper\n",
    "\n",
    "\n",
    "r0_wrapper = ModelWrapper.from_pretrained(\n",
    "    datadir / f\"checkpoints/lit-saved/{r0_model_name}\"\n",
    ")\n",
    "# if train_R1:\n",
    "#     r0_extra = pickle_load(datadir / f\"checkpoints/lit-saved/{r0_model_name}/extra.pkl\")\n",
    "#     r1_src_datasets: dict[str, SrcDataset] = r0_extra[\"R1-src_datasets\"]\n",
    "device = torch.device(f\"cuda:{gpu_id}\" if torch.cuda.is_available() else \"cpu\")\n",
    "r0_wrapper.to(device)\n",
    "print(r0_wrapper.args)\n"
   ]
  },
  {
   "cell_type": "code",
   "execution_count": 4,
   "metadata": {},
   "outputs": [
    {
     "name": "stdout",
     "output_type": "stream",
     "text": [
      "Critics loaded.\n"
     ]
    }
   ],
   "source": [
    "# load the critics\n",
    "\n",
    "from spot.critic import CriticModel\n",
    "\n",
    "critics = dict[bool, CriticModel]()\n",
    "for no_feedback in [True, False]:\n",
    "    feedback_tag = \"no_feedback-\" if no_feedback else \"\"\n",
    "    critic_name = (\n",
    "        \"critic-model--\" + feedback_tag + config._replace(quicktest=False).as_name()\n",
    "    )\n",
    "    critic = CriticModel.load(datadir / f\"checkpoints/lit-saved/{critic_name}\")\n",
    "    critic.to(device)\n",
    "    critics[no_feedback] = critic\n",
    "print(\"Critics loaded.\")\n"
   ]
  },
  {
   "cell_type": "code",
   "execution_count": 5,
   "metadata": {},
   "outputs": [],
   "source": [
    "from spot.train import evaluate_model\n",
    "from spot.model import DatasetPredResult\n",
    "from spot.utils import pretty_print_dict, run_long_task, PickleCache\n",
    "from spot.model import CtxArgs, DecodingArgs, ModelSPOT\n",
    "\n",
    "testset = src_datasets[\"test\"][1:-1:40]\n",
    "\n",
    "# used for inference\n",
    "n_samples = 16\n",
    "dec_ctx_args = config.dec_ctx_args()\n",
    "dec_ctx_args.max_labels = 1  # one type per chunk\n",
    "greedy_args = DecodingArgs(\n",
    "    sampling_max_tokens=8 * max_tokens_per_file,\n",
    "    ctx_args=dec_ctx_args,\n",
    "    max_workers=28,\n",
    "    do_sample=False,\n",
    ")\n",
    "\n",
    "sample_args = DecodingArgs(\n",
    "    sampling_max_tokens=8 * max_tokens_per_file,\n",
    "    ctx_args=dec_ctx_args,\n",
    "    max_workers=28,\n",
    "    do_sample=True,\n",
    "    top_p=0.9,\n",
    ")\n",
    "\n",
    "bs_args = DecodingArgs(\n",
    "    sampling_max_tokens=max_tokens_per_file,\n",
    "    ctx_args=dec_ctx_args,\n",
    "    max_workers=28,\n",
    "    do_sample=False,\n",
    "    num_beams=n_samples,\n",
    ")\n",
    "\n",
    "\n",
    "def critic_result_name(no_feedback: bool) -> str:\n",
    "    return \"Critic (no feedback)\" if no_feedback else \"Critic\"\n",
    "\n",
    "\n",
    "results = dict[str, DatasetPredResult]()\n",
    "\n",
    "eval_cache = PickleCache(proj_root() / \"caches\" / \"inference_spot\" / r0_model_name)\n",
    "# eval_cache.clear()\n"
   ]
  },
  {
   "cell_type": "code",
   "execution_count": 13,
   "metadata": {},
   "outputs": [
    {
     "name": "stdout",
     "output_type": "stream",
     "text": [
      "Starting task: Computing results\n"
     ]
    },
    {
     "name": "stderr",
     "output_type": "stream",
     "text": [
      "incr_inference_with_feedback: 100%|██████████| 383/383 [04:53<00:00,  1.31it/s]\n"
     ]
    },
    {
     "data": {
      "text/html": [
       "<div>\n",
       "<style scoped>\n",
       "    .dataframe tbody tr th:only-of-type {\n",
       "        vertical-align: middle;\n",
       "    }\n",
       "\n",
       "    .dataframe tbody tr th {\n",
       "        vertical-align: top;\n",
       "    }\n",
       "\n",
       "    .dataframe thead th {\n",
       "        text-align: right;\n",
       "    }\n",
       "</style>\n",
       "<table border=\"1\" class=\"dataframe\">\n",
       "  <thead>\n",
       "    <tr style=\"text-align: right;\">\n",
       "      <th></th>\n",
       "      <th>name</th>\n",
       "      <th>count</th>\n",
       "      <th>avg_time</th>\n",
       "      <th>total_time</th>\n",
       "    </tr>\n",
       "  </thead>\n",
       "  <tbody>\n",
       "    <tr>\n",
       "      <th>2</th>\n",
       "      <td>count_type_errors_in_project</td>\n",
       "      <td>383</td>\n",
       "      <td>0.394409</td>\n",
       "      <td>151.058829</td>\n",
       "    </tr>\n",
       "    <tr>\n",
       "      <th>1</th>\n",
       "      <td>predict_on_batch</td>\n",
       "      <td>383</td>\n",
       "      <td>0.351838</td>\n",
       "      <td>134.753813</td>\n",
       "    </tr>\n",
       "    <tr>\n",
       "      <th>0</th>\n",
       "      <td>chunk_from_src</td>\n",
       "      <td>383</td>\n",
       "      <td>0.016675</td>\n",
       "      <td>6.386624</td>\n",
       "    </tr>\n",
       "    <tr>\n",
       "      <th>3</th>\n",
       "      <td>inline_single_prediction</td>\n",
       "      <td>383</td>\n",
       "      <td>0.000916</td>\n",
       "      <td>0.350652</td>\n",
       "    </tr>\n",
       "  </tbody>\n",
       "</table>\n",
       "</div>"
      ],
      "text/plain": [
       "                           name  count  avg_time  total_time\n",
       "2  count_type_errors_in_project    383  0.394409  151.058829\n",
       "1              predict_on_batch    383  0.351838  134.753813\n",
       "0                chunk_from_src    383  0.016675    6.386624\n",
       "3      inline_single_prediction    383  0.000916    0.350652"
      ]
     },
     "metadata": {},
     "output_type": "display_data"
    },
    {
     "name": "stdout",
     "output_type": "stream",
     "text": [
      "Pushover: (Finished: 'Computing results'.) Time taken: 294.4s\n"
     ]
    }
   ],
   "source": [
    "# compute results\n",
    "from spot.decode import (\n",
    "    sample_candidates,\n",
    "    select_candidates_by_type_errors,\n",
    "    select_candidates_using_oracle,\n",
    "    select_candidates_using_critic,\n",
    "    select_first_candidates,\n",
    "    incr_inference_with_feedback,\n",
    ")\n",
    "\n",
    "\n",
    "def score_transform(x: float):\n",
    "    if x <= 0.1:\n",
    "        return -1.0\n",
    "    if x >= 0.9:\n",
    "        return 1.0\n",
    "    return 0.0\n",
    "\n",
    "\n",
    "with run_long_task(\"Computing results\"):\n",
    "    # r0_wrapper.args = greedy_args\n",
    "    # results[\"greedy\"] = evaluate_model(r0_wrapper, None, testset, eval_cache=eval_cache, tc_args=tc_args)[0][1]\n",
    "\n",
    "    # r0_wrapper.args = bs_args\n",
    "    # results[\"BS\"] = evaluate_model(r0_wrapper, None, testset, eval_cache=eval_cache, tc_args=tc_args)[0][1]\n",
    "\n",
    "    r0_wrapper.args = bs_args\n",
    "    test_chunks, pred_candidates = eval_cache.cached(\n",
    "        \"sample_candidates\",\n",
    "        lambda: sample_candidates(r0_wrapper, testset, n_samples=n_samples),\n",
    "    )\n",
    "\n",
    "    results[\"BS\"] = select_first_candidates(test_chunks, pred_candidates)\n",
    "\n",
    "    results[\"Counting\"] = eval_cache.cached(\n",
    "        \"Result-Counting\",\n",
    "        lambda: select_candidates_by_type_errors(testset, test_chunks, pred_candidates),\n",
    "    )\n",
    "\n",
    "    r0_wrapper.args = bs_args\n",
    "    incr_r = eval_cache.cached(\n",
    "        \"Result-Incr\",\n",
    "        lambda: incr_inference_with_feedback(r0_wrapper, testset, beam_width=16),\n",
    "    )\n",
    "\n",
    "    for no_feedback in [False]:  # [True, False]:\n",
    "        critic = critics[no_feedback]\n",
    "        r_name = critic_result_name(no_feedback)\n",
    "        results[r_name] = eval_cache.cached(\n",
    "            f\"Result-{r_name}\",\n",
    "            lambda: select_candidates_using_critic(\n",
    "                critic,\n",
    "                no_feedback,\n",
    "                testset,\n",
    "                test_chunks,\n",
    "                pred_candidates,\n",
    "                dec_args=greedy_args,\n",
    "                score_transform=score_transform,\n",
    "            ),\n",
    "        )\n",
    "\n",
    "    results[\"Oracle\"] = eval_cache.cached(\n",
    "        \"Result-Oracle\",\n",
    "        lambda: select_candidates_using_oracle(test_chunks, pred_candidates),\n",
    "    )\n"
   ]
  },
  {
   "cell_type": "code",
   "execution_count": 15,
   "metadata": {},
   "outputs": [
    {
     "data": {
      "text/html": [
       "<!DOCTYPE html>\n",
       "<html lang=\"en\">\n",
       "<head>\n",
       "    <meta charset=\"UTF-8\">\n",
       "    <title>IPyWidget export</title>\n",
       "</head>\n",
       "<body>\n",
       "\n",
       "\n",
       "<!-- Load require.js. Delete this if your page already loads require.js -->\n",
       "<script src=\"https://cdnjs.cloudflare.com/ajax/libs/require.js/2.3.4/require.min.js\" integrity=\"sha256-Ae2Vz/4ePdIu6ZyI/5ZGsYnb+m0JlOmKPjt6XZ9JJkA=\" crossorigin=\"anonymous\"></script>\n",
       "<script src=\"https://unpkg.com/@jupyter-widgets/html-manager@^0.20.1/dist/embed-amd.js\" crossorigin=\"anonymous\"></script>\n",
       "\n",
       "<script type=\"application/vnd.jupyter.widget-state+json\">\n",
       "{\n",
       "  \"version_major\": 2,\n",
       "  \"version_minor\": 0,\n",
       "  \"state\": {\n",
       "    \"68553f4bbfc54677a0e9bef876bffd62\": {\n",
       "      \"model_name\": \"LayoutModel\",\n",
       "      \"model_module\": \"@jupyter-widgets/base\",\n",
       "      \"model_module_version\": \"1.2.0\",\n",
       "      \"state\": {}\n",
       "    },\n",
       "    \"480df7ed493342ef9d315d7d19cb94c0\": {\n",
       "      \"model_name\": \"DescriptionStyleModel\",\n",
       "      \"model_module\": \"@jupyter-widgets/controls\",\n",
       "      \"model_module_version\": \"1.5.0\",\n",
       "      \"state\": {}\n",
       "    },\n",
       "    \"c5e0d50136c3455287f0771816ba18f5\": {\n",
       "      \"model_name\": \"HTMLModel\",\n",
       "      \"model_module\": \"@jupyter-widgets/controls\",\n",
       "      \"model_module_version\": \"1.5.0\",\n",
       "      \"state\": {\n",
       "        \"_dom_classes\": [],\n",
       "        \"layout\": \"IPY_MODEL_68553f4bbfc54677a0e9bef876bffd62\",\n",
       "        \"style\": \"IPY_MODEL_480df7ed493342ef9d315d7d19cb94c0\",\n",
       "        \"value\": \"<div style='white-space: pre-wrap; line-height: 1.2; font-family: monospace, monospace;'>partial_acc (ImNone): 73.58% (count=53)\\nfull_acc (ImNone): 71.70% (count=53)\\npartial_acc: 73.58% (count=53)\\nast_acc: 58.97% (count=78)\\nfull_acc: 67.92% (count=53)\\npartial_acc_by_cat: ...\\npartial_acc_by_pos: ...\\navg_label_size: 1.4717\\navg_pred_size: 1.2453\\n</div>\"\n",
       "      }\n",
       "    },\n",
       "    \"c91dfc105eb5441aa433a900e0196b7b\": {\n",
       "      \"model_name\": \"LayoutModel\",\n",
       "      \"model_module\": \"@jupyter-widgets/base\",\n",
       "      \"model_module_version\": \"1.2.0\",\n",
       "      \"state\": {}\n",
       "    },\n",
       "    \"dc8fafe73f074758bbda715b92244e06\": {\n",
       "      \"model_name\": \"DescriptionStyleModel\",\n",
       "      \"model_module\": \"@jupyter-widgets/controls\",\n",
       "      \"model_module_version\": \"1.5.0\",\n",
       "      \"state\": {}\n",
       "    },\n",
       "    \"5926a92cd6f74b4db6ca00d6bae765fc\": {\n",
       "      \"model_name\": \"HTMLModel\",\n",
       "      \"model_module\": \"@jupyter-widgets/controls\",\n",
       "      \"model_module_version\": \"1.5.0\",\n",
       "      \"state\": {\n",
       "        \"_dom_classes\": [],\n",
       "        \"layout\": \"IPY_MODEL_c91dfc105eb5441aa433a900e0196b7b\",\n",
       "        \"style\": \"IPY_MODEL_dc8fafe73f074758bbda715b92244e06\",\n",
       "        \"value\": \"<div style='white-space: pre-wrap; line-height: 1.2; font-family: monospace, monospace;'>partial_acc (ImNone): 73.58% (count=53)\\nfull_acc (ImNone): 71.70% (count=53)\\npartial_acc: 73.58% (count=53)\\nast_acc: 58.97% (count=78)\\nfull_acc: 67.92% (count=53)\\npartial_acc_by_cat:\\n   FuncArg: 75.76% (count=33)\\n   FuncReturn: 70.00% (count=20)\\npartial_acc_by_pos:\\n   range(0, 1): 100.00% (count=2)\\n   range(1, 2): 100.00% (count=1)\\n   range(2, 4): 100.00% (count=2)\\n   range(4, 8): 100.00% (count=4)\\n   range(8, 16): 75.00% (count=8)\\n   range(16, 32): 81.25% (count=16)\\n   range(32, 64): 55.00% (count=20)\\navg_label_size: 1.4717\\navg_pred_size: 1.2453\\n</div>\"\n",
       "      }\n",
       "    },\n",
       "    \"784b2ed5316246858dfa91b93b42c9d6\": {\n",
       "      \"model_name\": \"LayoutModel\",\n",
       "      \"model_module\": \"@jupyter-widgets/base\",\n",
       "      \"model_module_version\": \"1.2.0\",\n",
       "      \"state\": {}\n",
       "    },\n",
       "    \"94a674d382c344e590ec7874714334cf\": {\n",
       "      \"model_name\": \"TabModel\",\n",
       "      \"model_module\": \"@jupyter-widgets/controls\",\n",
       "      \"model_module_version\": \"1.5.0\",\n",
       "      \"state\": {\n",
       "        \"_dom_classes\": [],\n",
       "        \"_titles\": {\n",
       "          \"0\": \"Compressed\",\n",
       "          \"1\": \"Expanded\"\n",
       "        },\n",
       "        \"children\": [\n",
       "          \"IPY_MODEL_c5e0d50136c3455287f0771816ba18f5\",\n",
       "          \"IPY_MODEL_5926a92cd6f74b4db6ca00d6bae765fc\"\n",
       "        ],\n",
       "        \"layout\": \"IPY_MODEL_784b2ed5316246858dfa91b93b42c9d6\"\n",
       "      }\n",
       "    },\n",
       "    \"8fe68cd2899140d08977914b799acd19\": {\n",
       "      \"model_name\": \"LayoutModel\",\n",
       "      \"model_module\": \"@jupyter-widgets/base\",\n",
       "      \"model_module_version\": \"1.2.0\",\n",
       "      \"state\": {}\n",
       "    },\n",
       "    \"ac4d448bba524485aa9726d791df3d02\": {\n",
       "      \"model_name\": \"DescriptionStyleModel\",\n",
       "      \"model_module\": \"@jupyter-widgets/controls\",\n",
       "      \"model_module_version\": \"1.5.0\",\n",
       "      \"state\": {}\n",
       "    },\n",
       "    \"39ccaedb975741b5ac9b10a505e9106a\": {\n",
       "      \"model_name\": \"HTMLModel\",\n",
       "      \"model_module\": \"@jupyter-widgets/controls\",\n",
       "      \"model_module_version\": \"1.5.0\",\n",
       "      \"state\": {\n",
       "        \"_dom_classes\": [],\n",
       "        \"layout\": \"IPY_MODEL_8fe68cd2899140d08977914b799acd19\",\n",
       "        \"style\": \"IPY_MODEL_ac4d448bba524485aa9726d791df3d02\",\n",
       "        \"value\": \"<div style='white-space: pre-wrap; line-height: 1.2; font-family: monospace, monospace;'>partial_acc (ImNone): 73.58% (count=53)\\nfull_acc (ImNone): 71.70% (count=53)\\npartial_acc: 73.58% (count=53)\\nast_acc: 58.97% (count=78)\\nfull_acc: 67.92% (count=53)\\npartial_acc_by_cat: ...\\npartial_acc_by_pos: ...\\navg_label_size: 1.472\\navg_pred_size: 1.245\\n</div>\"\n",
       "      }\n",
       "    },\n",
       "    \"c43f6222870543028c50c2617c845d7e\": {\n",
       "      \"model_name\": \"LayoutModel\",\n",
       "      \"model_module\": \"@jupyter-widgets/base\",\n",
       "      \"model_module_version\": \"1.2.0\",\n",
       "      \"state\": {}\n",
       "    },\n",
       "    \"4bb492f52d424f8790a4b41ecff2f30a\": {\n",
       "      \"model_name\": \"DescriptionStyleModel\",\n",
       "      \"model_module\": \"@jupyter-widgets/controls\",\n",
       "      \"model_module_version\": \"1.5.0\",\n",
       "      \"state\": {}\n",
       "    },\n",
       "    \"2bb4e435ce9f45bf9986878b658cba3d\": {\n",
       "      \"model_name\": \"HTMLModel\",\n",
       "      \"model_module\": \"@jupyter-widgets/controls\",\n",
       "      \"model_module_version\": \"1.5.0\",\n",
       "      \"state\": {\n",
       "        \"_dom_classes\": [],\n",
       "        \"layout\": \"IPY_MODEL_c43f6222870543028c50c2617c845d7e\",\n",
       "        \"style\": \"IPY_MODEL_4bb492f52d424f8790a4b41ecff2f30a\",\n",
       "        \"value\": \"<div style='white-space: pre-wrap; line-height: 1.2; font-family: monospace, monospace;'>partial_acc (ImNone): 73.58% (count=53)\\nfull_acc (ImNone): 71.70% (count=53)\\npartial_acc: 73.58% (count=53)\\nast_acc: 58.97% (count=78)\\nfull_acc: 67.92% (count=53)\\npartial_acc_by_cat:\\n   FuncArg: 75.76% (count=33)\\n   FuncReturn: 70.00% (count=20)\\npartial_acc_by_pos:\\n   range(0, 1): 100.00% (count=2)\\n   range(1, 2): 100.00% (count=1)\\n   range(2, 4): 100.00% (count=2)\\n   range(4, 8): 100.00% (count=4)\\n   range(8, 16): 75.00% (count=8)\\n   range(16, 32): 81.25% (count=16)\\n   range(32, 64): 55.00% (count=20)\\navg_label_size: 1.472\\navg_pred_size: 1.245\\n</div>\"\n",
       "      }\n",
       "    },\n",
       "    \"f9f39cb6aaef48e8821e72f324abb9e1\": {\n",
       "      \"model_name\": \"LayoutModel\",\n",
       "      \"model_module\": \"@jupyter-widgets/base\",\n",
       "      \"model_module_version\": \"1.2.0\",\n",
       "      \"state\": {}\n",
       "    },\n",
       "    \"ec57f684623242009a192d57e20f1ec1\": {\n",
       "      \"model_name\": \"TabModel\",\n",
       "      \"model_module\": \"@jupyter-widgets/controls\",\n",
       "      \"model_module_version\": \"1.5.0\",\n",
       "      \"state\": {\n",
       "        \"_dom_classes\": [],\n",
       "        \"_titles\": {\n",
       "          \"0\": \"Compressed\",\n",
       "          \"1\": \"Expanded\"\n",
       "        },\n",
       "        \"children\": [\n",
       "          \"IPY_MODEL_39ccaedb975741b5ac9b10a505e9106a\",\n",
       "          \"IPY_MODEL_2bb4e435ce9f45bf9986878b658cba3d\"\n",
       "        ],\n",
       "        \"layout\": \"IPY_MODEL_f9f39cb6aaef48e8821e72f324abb9e1\"\n",
       "      }\n",
       "    },\n",
       "    \"d7a80befa35741df90d774304a8434d9\": {\n",
       "      \"model_name\": \"LayoutModel\",\n",
       "      \"model_module\": \"@jupyter-widgets/base\",\n",
       "      \"model_module_version\": \"1.2.0\",\n",
       "      \"state\": {}\n",
       "    },\n",
       "    \"ebc440032dba4cb28101000bf4567073\": {\n",
       "      \"model_name\": \"TabModel\",\n",
       "      \"model_module\": \"@jupyter-widgets/controls\",\n",
       "      \"model_module_version\": \"1.5.0\",\n",
       "      \"state\": {\n",
       "        \"_dom_classes\": [],\n",
       "        \"_titles\": {\n",
       "          \"0\": \"R0\"\n",
       "        },\n",
       "        \"children\": [\n",
       "          \"IPY_MODEL_ec57f684623242009a192d57e20f1ec1\"\n",
       "        ],\n",
       "        \"layout\": \"IPY_MODEL_d7a80befa35741df90d774304a8434d9\"\n",
       "      }\n",
       "    },\n",
       "    \"a2596f4b53c943e08984a3f2b8c89ca4\": {\n",
       "      \"model_name\": \"LayoutModel\",\n",
       "      \"model_module\": \"@jupyter-widgets/base\",\n",
       "      \"model_module_version\": \"1.2.0\",\n",
       "      \"state\": {\n",
       "        \"overflow\": \"scroll\"\n",
       "      }\n",
       "    },\n",
       "    \"2e0c9bddf8114fbc832b9154b024a826\": {\n",
       "      \"model_name\": \"VBoxModel\",\n",
       "      \"model_module\": \"@jupyter-widgets/controls\",\n",
       "      \"model_module_version\": \"1.5.0\",\n",
       "      \"state\": {\n",
       "        \"_dom_classes\": [],\n",
       "        \"children\": [\n",
       "          \"IPY_MODEL_ebc440032dba4cb28101000bf4567073\"\n",
       "        ],\n",
       "        \"layout\": \"IPY_MODEL_a2596f4b53c943e08984a3f2b8c89ca4\"\n",
       "      }\n",
       "    },\n",
       "    \"8e89e8f9b40e4c85b3aac0da4c5b669a\": {\n",
       "      \"model_name\": \"LayoutModel\",\n",
       "      \"model_module\": \"@jupyter-widgets/base\",\n",
       "      \"model_module_version\": \"1.2.0\",\n",
       "      \"state\": {}\n",
       "    },\n",
       "    \"88f05de3863347bca103cf8e70aa9484\": {\n",
       "      \"model_name\": \"DescriptionStyleModel\",\n",
       "      \"model_module\": \"@jupyter-widgets/controls\",\n",
       "      \"model_module_version\": \"1.5.0\",\n",
       "      \"state\": {}\n",
       "    },\n",
       "    \"07fad3376d1b423b876292f96c807d5b\": {\n",
       "      \"model_name\": \"HTMLModel\",\n",
       "      \"model_module\": \"@jupyter-widgets/controls\",\n",
       "      \"model_module_version\": \"1.5.0\",\n",
       "      \"state\": {\n",
       "        \"_dom_classes\": [],\n",
       "        \"layout\": \"IPY_MODEL_8e89e8f9b40e4c85b3aac0da4c5b669a\",\n",
       "        \"style\": \"IPY_MODEL_88f05de3863347bca103cf8e70aa9484\",\n",
       "        \"value\": \"<div style='white-space: pre-wrap; line-height: 1.2; font-family: monospace, monospace;'>partial_acc (ImNone): 73.58% (count=53)\\nfull_acc (ImNone): 71.70% (count=53)\\npartial_acc: 73.58% (count=53)\\nast_acc: 58.97% (count=78)\\nfull_acc: 67.92% (count=53)\\npartial_acc_by_cat: ...\\npartial_acc_by_pos: ...\\navg_label_size: 1.472\\navg_pred_size: 1.245\\n</div>\"\n",
       "      }\n",
       "    },\n",
       "    \"f7d614ec75934707920f6349d5c42492\": {\n",
       "      \"model_name\": \"LayoutModel\",\n",
       "      \"model_module\": \"@jupyter-widgets/base\",\n",
       "      \"model_module_version\": \"1.2.0\",\n",
       "      \"state\": {}\n",
       "    },\n",
       "    \"2f5011feaeb545bc8df3bc342e2fbe21\": {\n",
       "      \"model_name\": \"DescriptionStyleModel\",\n",
       "      \"model_module\": \"@jupyter-widgets/controls\",\n",
       "      \"model_module_version\": \"1.5.0\",\n",
       "      \"state\": {}\n",
       "    },\n",
       "    \"dc700d80cb394893b29f3747017059bc\": {\n",
       "      \"model_name\": \"HTMLModel\",\n",
       "      \"model_module\": \"@jupyter-widgets/controls\",\n",
       "      \"model_module_version\": \"1.5.0\",\n",
       "      \"state\": {\n",
       "        \"_dom_classes\": [],\n",
       "        \"layout\": \"IPY_MODEL_f7d614ec75934707920f6349d5c42492\",\n",
       "        \"style\": \"IPY_MODEL_2f5011feaeb545bc8df3bc342e2fbe21\",\n",
       "        \"value\": \"<div style='white-space: pre-wrap; line-height: 1.2; font-family: monospace, monospace;'>partial_acc (ImNone): 73.58% (count=53)\\nfull_acc (ImNone): 71.70% (count=53)\\npartial_acc: 73.58% (count=53)\\nast_acc: 58.97% (count=78)\\nfull_acc: 67.92% (count=53)\\npartial_acc_by_cat:\\n   FuncArg: 75.76% (count=33)\\n   FuncReturn: 70.00% (count=20)\\npartial_acc_by_pos:\\n   range(0, 1): 100.00% (count=2)\\n   range(1, 2): 100.00% (count=1)\\n   range(2, 4): 100.00% (count=2)\\n   range(4, 8): 100.00% (count=4)\\n   range(8, 16): 75.00% (count=8)\\n   range(16, 32): 81.25% (count=16)\\n   range(32, 64): 55.00% (count=20)\\navg_label_size: 1.472\\navg_pred_size: 1.245\\n</div>\"\n",
       "      }\n",
       "    },\n",
       "    \"e2ec3504d31f40549e517427ae3fb419\": {\n",
       "      \"model_name\": \"LayoutModel\",\n",
       "      \"model_module\": \"@jupyter-widgets/base\",\n",
       "      \"model_module_version\": \"1.2.0\",\n",
       "      \"state\": {}\n",
       "    },\n",
       "    \"d47c7208257140d381907743af100757\": {\n",
       "      \"model_name\": \"TabModel\",\n",
       "      \"model_module\": \"@jupyter-widgets/controls\",\n",
       "      \"model_module_version\": \"1.5.0\",\n",
       "      \"state\": {\n",
       "        \"_dom_classes\": [],\n",
       "        \"_titles\": {\n",
       "          \"0\": \"Compressed\",\n",
       "          \"1\": \"Expanded\"\n",
       "        },\n",
       "        \"children\": [\n",
       "          \"IPY_MODEL_07fad3376d1b423b876292f96c807d5b\",\n",
       "          \"IPY_MODEL_dc700d80cb394893b29f3747017059bc\"\n",
       "        ],\n",
       "        \"layout\": \"IPY_MODEL_e2ec3504d31f40549e517427ae3fb419\"\n",
       "      }\n",
       "    },\n",
       "    \"deabc268c41c41e793d7cd857e9fd748\": {\n",
       "      \"model_name\": \"LayoutModel\",\n",
       "      \"model_module\": \"@jupyter-widgets/base\",\n",
       "      \"model_module_version\": \"1.2.0\",\n",
       "      \"state\": {}\n",
       "    },\n",
       "    \"3ea120d9e3384a50aded586f340cb232\": {\n",
       "      \"model_name\": \"TabModel\",\n",
       "      \"model_module\": \"@jupyter-widgets/controls\",\n",
       "      \"model_module_version\": \"1.5.0\",\n",
       "      \"state\": {\n",
       "        \"_dom_classes\": [],\n",
       "        \"_titles\": {\n",
       "          \"0\": \"Incr\"\n",
       "        },\n",
       "        \"children\": [\n",
       "          \"IPY_MODEL_d47c7208257140d381907743af100757\"\n",
       "        ],\n",
       "        \"layout\": \"IPY_MODEL_deabc268c41c41e793d7cd857e9fd748\"\n",
       "      }\n",
       "    },\n",
       "    \"30bbf1eae597435c92134412d23e779c\": {\n",
       "      \"model_name\": \"LayoutModel\",\n",
       "      \"model_module\": \"@jupyter-widgets/base\",\n",
       "      \"model_module_version\": \"1.2.0\",\n",
       "      \"state\": {\n",
       "        \"overflow\": \"scroll\"\n",
       "      }\n",
       "    },\n",
       "    \"3ac23e30011d492696e788de6ce208eb\": {\n",
       "      \"model_name\": \"VBoxModel\",\n",
       "      \"model_module\": \"@jupyter-widgets/controls\",\n",
       "      \"model_module_version\": \"1.5.0\",\n",
       "      \"state\": {\n",
       "        \"_dom_classes\": [],\n",
       "        \"children\": [\n",
       "          \"IPY_MODEL_3ea120d9e3384a50aded586f340cb232\"\n",
       "        ],\n",
       "        \"layout\": \"IPY_MODEL_30bbf1eae597435c92134412d23e779c\"\n",
       "      }\n",
       "    },\n",
       "    \"4b4bb950b74349bababd285229fa1639\": {\n",
       "      \"model_name\": \"LayoutModel\",\n",
       "      \"model_module\": \"@jupyter-widgets/base\",\n",
       "      \"model_module_version\": \"1.2.0\",\n",
       "      \"state\": {}\n",
       "    },\n",
       "    \"f4a8de7ad33a4add90a1f882a7a88dda\": {\n",
       "      \"model_name\": \"DescriptionStyleModel\",\n",
       "      \"model_module\": \"@jupyter-widgets/controls\",\n",
       "      \"model_module_version\": \"1.5.0\",\n",
       "      \"state\": {}\n",
       "    },\n",
       "    \"fe55185deac04361991d1451ec87abcd\": {\n",
       "      \"model_name\": \"HTMLModel\",\n",
       "      \"model_module\": \"@jupyter-widgets/controls\",\n",
       "      \"model_module_version\": \"1.5.0\",\n",
       "      \"state\": {\n",
       "        \"_dom_classes\": [],\n",
       "        \"layout\": \"IPY_MODEL_4b4bb950b74349bababd285229fa1639\",\n",
       "        \"style\": \"IPY_MODEL_f4a8de7ad33a4add90a1f882a7a88dda\",\n",
       "        \"value\": \"<div style='white-space: pre-wrap; line-height: 1.2; font-family: monospace, monospace;'>partial_acc (ImNone): 76.50% (count=383)\\nfull_acc (ImNone): 74.15% (count=383)\\npartial_acc: 75.20% (count=383)\\nast_acc: 66.18% (count=482)\\nfull_acc: 71.80% (count=383)\\npartial_acc_by_cat: ...\\npartial_acc_by_pos: ...\\navg_label_size: 1.258\\navg_pred_size: 1.128\\n</div>\"\n",
       "      }\n",
       "    },\n",
       "    \"d80a0e665cf740d1884638d9c88d6eea\": {\n",
       "      \"model_name\": \"LayoutModel\",\n",
       "      \"model_module\": \"@jupyter-widgets/base\",\n",
       "      \"model_module_version\": \"1.2.0\",\n",
       "      \"state\": {}\n",
       "    },\n",
       "    \"3a3670789d13451da5e0848ea12e18ab\": {\n",
       "      \"model_name\": \"DescriptionStyleModel\",\n",
       "      \"model_module\": \"@jupyter-widgets/controls\",\n",
       "      \"model_module_version\": \"1.5.0\",\n",
       "      \"state\": {}\n",
       "    },\n",
       "    \"e9284b463c274c67aa67b857ed7642a2\": {\n",
       "      \"model_name\": \"HTMLModel\",\n",
       "      \"model_module\": \"@jupyter-widgets/controls\",\n",
       "      \"model_module_version\": \"1.5.0\",\n",
       "      \"state\": {\n",
       "        \"_dom_classes\": [],\n",
       "        \"layout\": \"IPY_MODEL_d80a0e665cf740d1884638d9c88d6eea\",\n",
       "        \"style\": \"IPY_MODEL_3a3670789d13451da5e0848ea12e18ab\",\n",
       "        \"value\": \"<div style='white-space: pre-wrap; line-height: 1.2; font-family: monospace, monospace;'>partial_acc (ImNone): 76.50% (count=383)\\nfull_acc (ImNone): 74.15% (count=383)\\npartial_acc: 75.20% (count=383)\\nast_acc: 66.18% (count=482)\\nfull_acc: 71.80% (count=383)\\npartial_acc_by_cat:\\n   FuncArg: 72.11% (count=190)\\n   FuncReturn: 82.93% (count=164)\\n   ClassAtribute: 78.57% (count=14)\\n   GlobalVar: 100.00% (count=2)\\n   LocalVar: 15.38% (count=13)\\npartial_acc_by_pos:\\n   range(0, 1): 75.20% (count=383)\\navg_label_size: 1.258\\navg_pred_size: 1.128\\n</div>\"\n",
       "      }\n",
       "    },\n",
       "    \"6563f51b416441609e0ac76b5f6565d9\": {\n",
       "      \"model_name\": \"LayoutModel\",\n",
       "      \"model_module\": \"@jupyter-widgets/base\",\n",
       "      \"model_module_version\": \"1.2.0\",\n",
       "      \"state\": {}\n",
       "    },\n",
       "    \"76891627c1854a03955c9d20873ab3cc\": {\n",
       "      \"model_name\": \"TabModel\",\n",
       "      \"model_module\": \"@jupyter-widgets/controls\",\n",
       "      \"model_module_version\": \"1.5.0\",\n",
       "      \"state\": {\n",
       "        \"_dom_classes\": [],\n",
       "        \"_titles\": {\n",
       "          \"0\": \"Compressed\",\n",
       "          \"1\": \"Expanded\"\n",
       "        },\n",
       "        \"children\": [\n",
       "          \"IPY_MODEL_fe55185deac04361991d1451ec87abcd\",\n",
       "          \"IPY_MODEL_e9284b463c274c67aa67b857ed7642a2\"\n",
       "        ],\n",
       "        \"layout\": \"IPY_MODEL_6563f51b416441609e0ac76b5f6565d9\"\n",
       "      }\n",
       "    },\n",
       "    \"43d4464169024a089e4c1443637cd215\": {\n",
       "      \"model_name\": \"LayoutModel\",\n",
       "      \"model_module\": \"@jupyter-widgets/base\",\n",
       "      \"model_module_version\": \"1.2.0\",\n",
       "      \"state\": {}\n",
       "    },\n",
       "    \"61d11596a80a48d88fff9645f6d622f6\": {\n",
       "      \"model_name\": \"DescriptionStyleModel\",\n",
       "      \"model_module\": \"@jupyter-widgets/controls\",\n",
       "      \"model_module_version\": \"1.5.0\",\n",
       "      \"state\": {}\n",
       "    },\n",
       "    \"61012e05558f4a9e8231c111ae51325c\": {\n",
       "      \"model_name\": \"HTMLModel\",\n",
       "      \"model_module\": \"@jupyter-widgets/controls\",\n",
       "      \"model_module_version\": \"1.5.0\",\n",
       "      \"state\": {\n",
       "        \"_dom_classes\": [],\n",
       "        \"layout\": \"IPY_MODEL_43d4464169024a089e4c1443637cd215\",\n",
       "        \"style\": \"IPY_MODEL_61d11596a80a48d88fff9645f6d622f6\",\n",
       "        \"value\": \"<div style='white-space: pre-wrap; line-height: 1.2; font-family: monospace, monospace;'>partial_acc (ImNone): 78.07% (count=383) [+1.57%]\\nfull_acc (ImNone): 75.72% (count=383) [+1.57%]\\npartial_acc: 76.50% (count=383) [+1.31%]\\nast_acc: 67.22% (count=482) [+1.04%]\\nfull_acc: 73.37% (count=383) [+1.57%]\\npartial_acc_by_cat: ...\\npartial_acc_by_pos: ...\\navg_label_size: 1.258 [0]\\navg_pred_size: 1.128 [0]\\n</div>\"\n",
       "      }\n",
       "    },\n",
       "    \"cdaf8ebd16974809b971542d5f5c7227\": {\n",
       "      \"model_name\": \"LayoutModel\",\n",
       "      \"model_module\": \"@jupyter-widgets/base\",\n",
       "      \"model_module_version\": \"1.2.0\",\n",
       "      \"state\": {}\n",
       "    },\n",
       "    \"837f769f1a4348bcaac99bfe6298e083\": {\n",
       "      \"model_name\": \"DescriptionStyleModel\",\n",
       "      \"model_module\": \"@jupyter-widgets/controls\",\n",
       "      \"model_module_version\": \"1.5.0\",\n",
       "      \"state\": {}\n",
       "    },\n",
       "    \"0744f6390aa647d9aeb0510229ffcf2a\": {\n",
       "      \"model_name\": \"HTMLModel\",\n",
       "      \"model_module\": \"@jupyter-widgets/controls\",\n",
       "      \"model_module_version\": \"1.5.0\",\n",
       "      \"state\": {\n",
       "        \"_dom_classes\": [],\n",
       "        \"layout\": \"IPY_MODEL_cdaf8ebd16974809b971542d5f5c7227\",\n",
       "        \"style\": \"IPY_MODEL_837f769f1a4348bcaac99bfe6298e083\",\n",
       "        \"value\": \"<div style='white-space: pre-wrap; line-height: 1.2; font-family: monospace, monospace;'>partial_acc (ImNone): 78.07% (count=383) [+1.57%]\\nfull_acc (ImNone): 75.72% (count=383) [+1.57%]\\npartial_acc: 76.50% (count=383) [+1.31%]\\nast_acc: 67.22% (count=482) [+1.04%]\\nfull_acc: 73.37% (count=383) [+1.57%]\\npartial_acc_by_cat:\\n   FuncArg: 75.26% (count=190) [+3.16%]\\n   FuncReturn: 82.32% (count=164) [-0.61%]\\n   ClassAtribute: 78.57% (count=14) [+0.00%]\\n   GlobalVar: 100.00% (count=2) [+0.00%]\\n   LocalVar: 15.38% (count=13) [+0.00%]\\npartial_acc_by_pos:\\n   range(0, 1): 76.50% (count=383) [+1.31%]\\navg_label_size: 1.258 [0]\\navg_pred_size: 1.128 [0]\\n</div>\"\n",
       "      }\n",
       "    },\n",
       "    \"dbc0753f47df41718a6b53caa3ffbfed\": {\n",
       "      \"model_name\": \"LayoutModel\",\n",
       "      \"model_module\": \"@jupyter-widgets/base\",\n",
       "      \"model_module_version\": \"1.2.0\",\n",
       "      \"state\": {}\n",
       "    },\n",
       "    \"c5e65a1fee654418b331e9ba45e18017\": {\n",
       "      \"model_name\": \"TabModel\",\n",
       "      \"model_module\": \"@jupyter-widgets/controls\",\n",
       "      \"model_module_version\": \"1.5.0\",\n",
       "      \"state\": {\n",
       "        \"_dom_classes\": [],\n",
       "        \"_titles\": {\n",
       "          \"0\": \"Compressed\",\n",
       "          \"1\": \"Expanded\"\n",
       "        },\n",
       "        \"children\": [\n",
       "          \"IPY_MODEL_61012e05558f4a9e8231c111ae51325c\",\n",
       "          \"IPY_MODEL_0744f6390aa647d9aeb0510229ffcf2a\"\n",
       "        ],\n",
       "        \"layout\": \"IPY_MODEL_dbc0753f47df41718a6b53caa3ffbfed\"\n",
       "      }\n",
       "    },\n",
       "    \"c200c84b5b144f9787c7b366027a4167\": {\n",
       "      \"model_name\": \"LayoutModel\",\n",
       "      \"model_module\": \"@jupyter-widgets/base\",\n",
       "      \"model_module_version\": \"1.2.0\",\n",
       "      \"state\": {}\n",
       "    },\n",
       "    \"573b343ce88145289151014c9bb89442\": {\n",
       "      \"model_name\": \"DescriptionStyleModel\",\n",
       "      \"model_module\": \"@jupyter-widgets/controls\",\n",
       "      \"model_module_version\": \"1.5.0\",\n",
       "      \"state\": {}\n",
       "    },\n",
       "    \"ed76271a043a4b03b1156ae44a033921\": {\n",
       "      \"model_name\": \"HTMLModel\",\n",
       "      \"model_module\": \"@jupyter-widgets/controls\",\n",
       "      \"model_module_version\": \"1.5.0\",\n",
       "      \"state\": {\n",
       "        \"_dom_classes\": [],\n",
       "        \"layout\": \"IPY_MODEL_c200c84b5b144f9787c7b366027a4167\",\n",
       "        \"style\": \"IPY_MODEL_573b343ce88145289151014c9bb89442\",\n",
       "        \"value\": \"<div style='white-space: pre-wrap; line-height: 1.2; font-family: monospace, monospace;'>partial_acc (ImNone): 83.55% (count=383) [+5.48%]\\nfull_acc (ImNone): 78.59% (count=383) [+2.87%]\\npartial_acc: 82.51% (count=383) [+6.01%]\\nast_acc: 73.24% (count=482) [+6.02%]\\nfull_acc: 76.50% (count=383) [+3.13%]\\npartial_acc_by_cat: ...\\npartial_acc_by_pos: ...\\navg_label_size: 1.258 [0]\\navg_pred_size: 1.167 [0.03916]\\n</div>\"\n",
       "      }\n",
       "    },\n",
       "    \"783118f3cdd24e98b44ca6e94b33ebb1\": {\n",
       "      \"model_name\": \"LayoutModel\",\n",
       "      \"model_module\": \"@jupyter-widgets/base\",\n",
       "      \"model_module_version\": \"1.2.0\",\n",
       "      \"state\": {}\n",
       "    },\n",
       "    \"ae520d72b1c64ba097c63c7d06340761\": {\n",
       "      \"model_name\": \"DescriptionStyleModel\",\n",
       "      \"model_module\": \"@jupyter-widgets/controls\",\n",
       "      \"model_module_version\": \"1.5.0\",\n",
       "      \"state\": {}\n",
       "    },\n",
       "    \"e9d01fda60854bc4b18f6891df4118c2\": {\n",
       "      \"model_name\": \"HTMLModel\",\n",
       "      \"model_module\": \"@jupyter-widgets/controls\",\n",
       "      \"model_module_version\": \"1.5.0\",\n",
       "      \"state\": {\n",
       "        \"_dom_classes\": [],\n",
       "        \"layout\": \"IPY_MODEL_783118f3cdd24e98b44ca6e94b33ebb1\",\n",
       "        \"style\": \"IPY_MODEL_ae520d72b1c64ba097c63c7d06340761\",\n",
       "        \"value\": \"<div style='white-space: pre-wrap; line-height: 1.2; font-family: monospace, monospace;'>partial_acc (ImNone): 83.55% (count=383) [+5.48%]\\nfull_acc (ImNone): 78.59% (count=383) [+2.87%]\\npartial_acc: 82.51% (count=383) [+6.01%]\\nast_acc: 73.24% (count=482) [+6.02%]\\nfull_acc: 76.50% (count=383) [+3.13%]\\npartial_acc_by_cat:\\n   FuncArg: 77.89% (count=190) [+2.63%]\\n   FuncReturn: 87.20% (count=164) [+4.88%]\\n   ClassAtribute: 100.00% (count=14) [+21.43%]\\n   GlobalVar: 100.00% (count=2) [+0.00%]\\n   LocalVar: 69.23% (count=13) [+53.85%]\\npartial_acc_by_pos:\\n   range(0, 1): 82.51% (count=383) [+6.01%]\\navg_label_size: 1.258 [0]\\navg_pred_size: 1.167 [0.03916]\\n</div>\"\n",
       "      }\n",
       "    },\n",
       "    \"4f03641dc70c4b60ad4743bbb268b417\": {\n",
       "      \"model_name\": \"LayoutModel\",\n",
       "      \"model_module\": \"@jupyter-widgets/base\",\n",
       "      \"model_module_version\": \"1.2.0\",\n",
       "      \"state\": {}\n",
       "    },\n",
       "    \"5ab4f4bc1b18436cbddb3cc3e96bea23\": {\n",
       "      \"model_name\": \"TabModel\",\n",
       "      \"model_module\": \"@jupyter-widgets/controls\",\n",
       "      \"model_module_version\": \"1.5.0\",\n",
       "      \"state\": {\n",
       "        \"_dom_classes\": [],\n",
       "        \"_titles\": {\n",
       "          \"0\": \"Compressed\",\n",
       "          \"1\": \"Expanded\"\n",
       "        },\n",
       "        \"children\": [\n",
       "          \"IPY_MODEL_ed76271a043a4b03b1156ae44a033921\",\n",
       "          \"IPY_MODEL_e9d01fda60854bc4b18f6891df4118c2\"\n",
       "        ],\n",
       "        \"layout\": \"IPY_MODEL_4f03641dc70c4b60ad4743bbb268b417\"\n",
       "      }\n",
       "    },\n",
       "    \"85ef80e3674c4c8f869b8cff733d7306\": {\n",
       "      \"model_name\": \"LayoutModel\",\n",
       "      \"model_module\": \"@jupyter-widgets/base\",\n",
       "      \"model_module_version\": \"1.2.0\",\n",
       "      \"state\": {}\n",
       "    },\n",
       "    \"4ebbe07a55ec401f9439b82d9032bced\": {\n",
       "      \"model_name\": \"DescriptionStyleModel\",\n",
       "      \"model_module\": \"@jupyter-widgets/controls\",\n",
       "      \"model_module_version\": \"1.5.0\",\n",
       "      \"state\": {}\n",
       "    },\n",
       "    \"298ac8ce5a054138be93e0528d5b9187\": {\n",
       "      \"model_name\": \"HTMLModel\",\n",
       "      \"model_module\": \"@jupyter-widgets/controls\",\n",
       "      \"model_module_version\": \"1.5.0\",\n",
       "      \"state\": {\n",
       "        \"_dom_classes\": [],\n",
       "        \"layout\": \"IPY_MODEL_85ef80e3674c4c8f869b8cff733d7306\",\n",
       "        \"style\": \"IPY_MODEL_4ebbe07a55ec401f9439b82d9032bced\",\n",
       "        \"value\": \"<div style='white-space: pre-wrap; line-height: 1.2; font-family: monospace, monospace;'>partial_acc (ImNone): 78.33% (count=383) [-5.22%]\\nfull_acc (ImNone): 75.72% (count=383) [-2.87%]\\npartial_acc: 77.02% (count=383) [-5.48%]\\nast_acc: 67.43% (count=482) [-5.81%]\\nfull_acc: 73.63% (count=383) [-2.87%]\\npartial_acc_by_cat: ...\\npartial_acc_by_pos: ...\\navg_label_size: 1.258 [0]\\navg_pred_size: 1.125 [-0.04178]\\n</div>\"\n",
       "      }\n",
       "    },\n",
       "    \"11dcb576711a479f99141255014966a7\": {\n",
       "      \"model_name\": \"LayoutModel\",\n",
       "      \"model_module\": \"@jupyter-widgets/base\",\n",
       "      \"model_module_version\": \"1.2.0\",\n",
       "      \"state\": {}\n",
       "    },\n",
       "    \"47284628831449178df3c58ec791a6c6\": {\n",
       "      \"model_name\": \"DescriptionStyleModel\",\n",
       "      \"model_module\": \"@jupyter-widgets/controls\",\n",
       "      \"model_module_version\": \"1.5.0\",\n",
       "      \"state\": {}\n",
       "    },\n",
       "    \"c2cb8e87622a4063851b28b1a198c68e\": {\n",
       "      \"model_name\": \"HTMLModel\",\n",
       "      \"model_module\": \"@jupyter-widgets/controls\",\n",
       "      \"model_module_version\": \"1.5.0\",\n",
       "      \"state\": {\n",
       "        \"_dom_classes\": [],\n",
       "        \"layout\": \"IPY_MODEL_11dcb576711a479f99141255014966a7\",\n",
       "        \"style\": \"IPY_MODEL_47284628831449178df3c58ec791a6c6\",\n",
       "        \"value\": \"<div style='white-space: pre-wrap; line-height: 1.2; font-family: monospace, monospace;'>partial_acc (ImNone): 78.33% (count=383) [-5.22%]\\nfull_acc (ImNone): 75.72% (count=383) [-2.87%]\\npartial_acc: 77.02% (count=383) [-5.48%]\\nast_acc: 67.43% (count=482) [-5.81%]\\nfull_acc: 73.63% (count=383) [-2.87%]\\npartial_acc_by_cat:\\n   FuncArg: 76.84% (count=190) [-1.05%]\\n   FuncReturn: 82.32% (count=164) [-4.88%]\\n   ClassAtribute: 71.43% (count=14) [-28.57%]\\n   GlobalVar: 100.00% (count=2) [+0.00%]\\n   LocalVar: 15.38% (count=13) [-53.85%]\\npartial_acc_by_pos:\\n   range(0, 1): 83.33% (count=24) [+0.83%]\\n   range(1, 2): 76.19% (count=21)\\n   range(2, 4): 86.49% (count=37)\\n   range(4, 8): 72.58% (count=62)\\n   range(8, 16): 82.61% (count=92)\\n   range(16, 32): 77.06% (count=109)\\n   range(32, 64): 57.89% (count=38)\\navg_label_size: 1.258 [0]\\navg_pred_size: 1.125 [-0.04178]\\n</div>\"\n",
       "      }\n",
       "    },\n",
       "    \"59ad56f19c504f7992a50cfb17012834\": {\n",
       "      \"model_name\": \"LayoutModel\",\n",
       "      \"model_module\": \"@jupyter-widgets/base\",\n",
       "      \"model_module_version\": \"1.2.0\",\n",
       "      \"state\": {}\n",
       "    },\n",
       "    \"67f8e1071a724f55b38d2e7350d8776f\": {\n",
       "      \"model_name\": \"TabModel\",\n",
       "      \"model_module\": \"@jupyter-widgets/controls\",\n",
       "      \"model_module_version\": \"1.5.0\",\n",
       "      \"state\": {\n",
       "        \"_dom_classes\": [],\n",
       "        \"_titles\": {\n",
       "          \"0\": \"Compressed\",\n",
       "          \"1\": \"Expanded\"\n",
       "        },\n",
       "        \"children\": [\n",
       "          \"IPY_MODEL_298ac8ce5a054138be93e0528d5b9187\",\n",
       "          \"IPY_MODEL_c2cb8e87622a4063851b28b1a198c68e\"\n",
       "        ],\n",
       "        \"layout\": \"IPY_MODEL_59ad56f19c504f7992a50cfb17012834\"\n",
       "      }\n",
       "    },\n",
       "    \"bfbfb85d822248b690eaec6934160c39\": {\n",
       "      \"model_name\": \"LayoutModel\",\n",
       "      \"model_module\": \"@jupyter-widgets/base\",\n",
       "      \"model_module_version\": \"1.2.0\",\n",
       "      \"state\": {}\n",
       "    },\n",
       "    \"afb40fdf73964439be0fcc2c31b29f7c\": {\n",
       "      \"model_name\": \"DescriptionStyleModel\",\n",
       "      \"model_module\": \"@jupyter-widgets/controls\",\n",
       "      \"model_module_version\": \"1.5.0\",\n",
       "      \"state\": {}\n",
       "    },\n",
       "    \"0da66ae3efda4d1c82b52eca042d85a1\": {\n",
       "      \"model_name\": \"HTMLModel\",\n",
       "      \"model_module\": \"@jupyter-widgets/controls\",\n",
       "      \"model_module_version\": \"1.5.0\",\n",
       "      \"state\": {\n",
       "        \"_dom_classes\": [],\n",
       "        \"layout\": \"IPY_MODEL_bfbfb85d822248b690eaec6934160c39\",\n",
       "        \"style\": \"IPY_MODEL_afb40fdf73964439be0fcc2c31b29f7c\",\n",
       "        \"value\": \"<div style='white-space: pre-wrap; line-height: 1.2; font-family: monospace, monospace;'>partial_acc (ImNone): 87.73% (count=383) [+9.40%]\\nfull_acc (ImNone): 87.21% (count=383) [+11.49%]\\npartial_acc: 87.99% (count=383) [+10.97%]\\nast_acc: 81.54% (count=482) [+14.11%]\\nfull_acc: 86.42% (count=383) [+12.79%]\\npartial_acc_by_cat: ...\\npartial_acc_by_pos: ...\\navg_label_size: 1.258 [0]\\navg_pred_size: 1.183 [0.05744]\\n</div>\"\n",
       "      }\n",
       "    },\n",
       "    \"e9fd0499af64422dbff29ef0f551c407\": {\n",
       "      \"model_name\": \"LayoutModel\",\n",
       "      \"model_module\": \"@jupyter-widgets/base\",\n",
       "      \"model_module_version\": \"1.2.0\",\n",
       "      \"state\": {}\n",
       "    },\n",
       "    \"7922da77d7dc472eba8a404a12ef66f1\": {\n",
       "      \"model_name\": \"DescriptionStyleModel\",\n",
       "      \"model_module\": \"@jupyter-widgets/controls\",\n",
       "      \"model_module_version\": \"1.5.0\",\n",
       "      \"state\": {}\n",
       "    },\n",
       "    \"4f7f9547418046c793a2012e3d30551f\": {\n",
       "      \"model_name\": \"HTMLModel\",\n",
       "      \"model_module\": \"@jupyter-widgets/controls\",\n",
       "      \"model_module_version\": \"1.5.0\",\n",
       "      \"state\": {\n",
       "        \"_dom_classes\": [],\n",
       "        \"layout\": \"IPY_MODEL_e9fd0499af64422dbff29ef0f551c407\",\n",
       "        \"style\": \"IPY_MODEL_7922da77d7dc472eba8a404a12ef66f1\",\n",
       "        \"value\": \"<div style='white-space: pre-wrap; line-height: 1.2; font-family: monospace, monospace;'>partial_acc (ImNone): 87.73% (count=383) [+9.40%]\\nfull_acc (ImNone): 87.21% (count=383) [+11.49%]\\npartial_acc: 87.99% (count=383) [+10.97%]\\nast_acc: 81.54% (count=482) [+14.11%]\\nfull_acc: 86.42% (count=383) [+12.79%]\\npartial_acc_by_cat:\\n   FuncArg: 89.47% (count=190) [+12.63%]\\n   FuncReturn: 87.20% (count=164) [+4.88%]\\n   ClassAtribute: 85.71% (count=14) [+14.29%]\\n   GlobalVar: 100.00% (count=2) [+0.00%]\\n   LocalVar: 76.92% (count=13) [+61.54%]\\npartial_acc_by_pos:\\n   range(0, 1): 87.99% (count=383) [+4.66%]\\navg_label_size: 1.258 [0]\\navg_pred_size: 1.183 [0.05744]\\n</div>\"\n",
       "      }\n",
       "    },\n",
       "    \"f172404529464b45b7dddb2587def279\": {\n",
       "      \"model_name\": \"LayoutModel\",\n",
       "      \"model_module\": \"@jupyter-widgets/base\",\n",
       "      \"model_module_version\": \"1.2.0\",\n",
       "      \"state\": {}\n",
       "    },\n",
       "    \"e47dc92f2d1f4cad8dfb088855f5484a\": {\n",
       "      \"model_name\": \"TabModel\",\n",
       "      \"model_module\": \"@jupyter-widgets/controls\",\n",
       "      \"model_module_version\": \"1.5.0\",\n",
       "      \"state\": {\n",
       "        \"_dom_classes\": [],\n",
       "        \"_titles\": {\n",
       "          \"0\": \"Compressed\",\n",
       "          \"1\": \"Expanded\"\n",
       "        },\n",
       "        \"children\": [\n",
       "          \"IPY_MODEL_0da66ae3efda4d1c82b52eca042d85a1\",\n",
       "          \"IPY_MODEL_4f7f9547418046c793a2012e3d30551f\"\n",
       "        ],\n",
       "        \"layout\": \"IPY_MODEL_f172404529464b45b7dddb2587def279\"\n",
       "      }\n",
       "    },\n",
       "    \"5a88b83efe8a4a6bbddb65766f8b2114\": {\n",
       "      \"model_name\": \"LayoutModel\",\n",
       "      \"model_module\": \"@jupyter-widgets/base\",\n",
       "      \"model_module_version\": \"1.2.0\",\n",
       "      \"state\": {}\n",
       "    },\n",
       "    \"96a846ac51074704b5a039f97198749b\": {\n",
       "      \"model_name\": \"TabModel\",\n",
       "      \"model_module\": \"@jupyter-widgets/controls\",\n",
       "      \"model_module_version\": \"1.5.0\",\n",
       "      \"state\": {\n",
       "        \"_dom_classes\": [],\n",
       "        \"_titles\": {\n",
       "          \"0\": \"BS\",\n",
       "          \"1\": \"Counting\",\n",
       "          \"2\": \"Critic\",\n",
       "          \"3\": \"Incr\",\n",
       "          \"4\": \"Oracle\"\n",
       "        },\n",
       "        \"children\": [\n",
       "          \"IPY_MODEL_76891627c1854a03955c9d20873ab3cc\",\n",
       "          \"IPY_MODEL_c5e65a1fee654418b331e9ba45e18017\",\n",
       "          \"IPY_MODEL_5ab4f4bc1b18436cbddb3cc3e96bea23\",\n",
       "          \"IPY_MODEL_67f8e1071a724f55b38d2e7350d8776f\",\n",
       "          \"IPY_MODEL_e47dc92f2d1f4cad8dfb088855f5484a\"\n",
       "        ],\n",
       "        \"layout\": \"IPY_MODEL_5a88b83efe8a4a6bbddb65766f8b2114\",\n",
       "        \"selected_index\": 4\n",
       "      }\n",
       "    },\n",
       "    \"b8a687f88d2d4fb6abd4fa7c3d447db3\": {\n",
       "      \"model_name\": \"LayoutModel\",\n",
       "      \"model_module\": \"@jupyter-widgets/base\",\n",
       "      \"model_module_version\": \"1.2.0\",\n",
       "      \"state\": {\n",
       "        \"overflow\": \"scroll\"\n",
       "      }\n",
       "    },\n",
       "    \"e0cfd52280b04a2bafdb5955a34e7119\": {\n",
       "      \"model_name\": \"VBoxModel\",\n",
       "      \"model_module\": \"@jupyter-widgets/controls\",\n",
       "      \"model_module_version\": \"1.5.0\",\n",
       "      \"state\": {\n",
       "        \"_dom_classes\": [],\n",
       "        \"children\": [\n",
       "          \"IPY_MODEL_96a846ac51074704b5a039f97198749b\"\n",
       "        ],\n",
       "        \"layout\": \"IPY_MODEL_b8a687f88d2d4fb6abd4fa7c3d447db3\"\n",
       "      }\n",
       "    },\n",
       "    \"7760ee0976e84d959b023c1400773123\": {\n",
       "      \"model_name\": \"LayoutModel\",\n",
       "      \"model_module\": \"@jupyter-widgets/base\",\n",
       "      \"model_module_version\": \"1.2.0\",\n",
       "      \"state\": {}\n",
       "    },\n",
       "    \"bfd3a9b7368a4bfe8ebb3b15721c37f4\": {\n",
       "      \"model_name\": \"DescriptionStyleModel\",\n",
       "      \"model_module\": \"@jupyter-widgets/controls\",\n",
       "      \"model_module_version\": \"1.5.0\",\n",
       "      \"state\": {}\n",
       "    },\n",
       "    \"11852a7c73a64c289f3b966803cd6e3a\": {\n",
       "      \"model_name\": \"HTMLModel\",\n",
       "      \"model_module\": \"@jupyter-widgets/controls\",\n",
       "      \"model_module_version\": \"1.5.0\",\n",
       "      \"state\": {\n",
       "        \"_dom_classes\": [],\n",
       "        \"layout\": \"IPY_MODEL_7760ee0976e84d959b023c1400773123\",\n",
       "        \"style\": \"IPY_MODEL_bfd3a9b7368a4bfe8ebb3b15721c37f4\",\n",
       "        \"value\": \"<div style='white-space: pre-wrap; line-height: 1.2; font-family: monospace, monospace;'>partial_acc (ImNone): 76.50% (count=383)\\nfull_acc (ImNone): 74.15% (count=383)\\npartial_acc: 75.20% (count=383)\\nast_acc: 66.18% (count=482)\\nfull_acc: 71.80% (count=383)\\npartial_acc_by_cat: ...\\npartial_acc_by_pos: ...\\navg_label_size: 1.258\\navg_pred_size: 1.128\\n</div>\"\n",
       "      }\n",
       "    },\n",
       "    \"e56af5953bc54421bc7b650a8d442815\": {\n",
       "      \"model_name\": \"LayoutModel\",\n",
       "      \"model_module\": \"@jupyter-widgets/base\",\n",
       "      \"model_module_version\": \"1.2.0\",\n",
       "      \"state\": {}\n",
       "    },\n",
       "    \"6cf9951c27cb4baaa3b9d386293bad02\": {\n",
       "      \"model_name\": \"DescriptionStyleModel\",\n",
       "      \"model_module\": \"@jupyter-widgets/controls\",\n",
       "      \"model_module_version\": \"1.5.0\",\n",
       "      \"state\": {}\n",
       "    },\n",
       "    \"1f460982f562425592fef9180fb1b1af\": {\n",
       "      \"model_name\": \"HTMLModel\",\n",
       "      \"model_module\": \"@jupyter-widgets/controls\",\n",
       "      \"model_module_version\": \"1.5.0\",\n",
       "      \"state\": {\n",
       "        \"_dom_classes\": [],\n",
       "        \"layout\": \"IPY_MODEL_e56af5953bc54421bc7b650a8d442815\",\n",
       "        \"style\": \"IPY_MODEL_6cf9951c27cb4baaa3b9d386293bad02\",\n",
       "        \"value\": \"<div style='white-space: pre-wrap; line-height: 1.2; font-family: monospace, monospace;'>partial_acc (ImNone): 76.50% (count=383)\\nfull_acc (ImNone): 74.15% (count=383)\\npartial_acc: 75.20% (count=383)\\nast_acc: 66.18% (count=482)\\nfull_acc: 71.80% (count=383)\\npartial_acc_by_cat:\\n   FuncArg: 72.11% (count=190)\\n   FuncReturn: 82.93% (count=164)\\n   ClassAtribute: 78.57% (count=14)\\n   GlobalVar: 100.00% (count=2)\\n   LocalVar: 15.38% (count=13)\\npartial_acc_by_pos:\\n   range(0, 1): 75.20% (count=383)\\navg_label_size: 1.258\\navg_pred_size: 1.128\\n</div>\"\n",
       "      }\n",
       "    },\n",
       "    \"c777bd45d58b44b0a0a7b61ff83f3fbe\": {\n",
       "      \"model_name\": \"LayoutModel\",\n",
       "      \"model_module\": \"@jupyter-widgets/base\",\n",
       "      \"model_module_version\": \"1.2.0\",\n",
       "      \"state\": {}\n",
       "    },\n",
       "    \"b30f8f80ea39496da68b86bba58c223d\": {\n",
       "      \"model_name\": \"TabModel\",\n",
       "      \"model_module\": \"@jupyter-widgets/controls\",\n",
       "      \"model_module_version\": \"1.5.0\",\n",
       "      \"state\": {\n",
       "        \"_dom_classes\": [],\n",
       "        \"_titles\": {\n",
       "          \"0\": \"Compressed\",\n",
       "          \"1\": \"Expanded\"\n",
       "        },\n",
       "        \"children\": [\n",
       "          \"IPY_MODEL_11852a7c73a64c289f3b966803cd6e3a\",\n",
       "          \"IPY_MODEL_1f460982f562425592fef9180fb1b1af\"\n",
       "        ],\n",
       "        \"layout\": \"IPY_MODEL_c777bd45d58b44b0a0a7b61ff83f3fbe\"\n",
       "      }\n",
       "    },\n",
       "    \"6dba9438729746fda7d905206ca22317\": {\n",
       "      \"model_name\": \"LayoutModel\",\n",
       "      \"model_module\": \"@jupyter-widgets/base\",\n",
       "      \"model_module_version\": \"1.2.0\",\n",
       "      \"state\": {}\n",
       "    },\n",
       "    \"9f03122978854d3ab55be2642e4823fe\": {\n",
       "      \"model_name\": \"DescriptionStyleModel\",\n",
       "      \"model_module\": \"@jupyter-widgets/controls\",\n",
       "      \"model_module_version\": \"1.5.0\",\n",
       "      \"state\": {}\n",
       "    },\n",
       "    \"7028137b5e2d4f338af4b869f0c8f060\": {\n",
       "      \"model_name\": \"HTMLModel\",\n",
       "      \"model_module\": \"@jupyter-widgets/controls\",\n",
       "      \"model_module_version\": \"1.5.0\",\n",
       "      \"state\": {\n",
       "        \"_dom_classes\": [],\n",
       "        \"layout\": \"IPY_MODEL_6dba9438729746fda7d905206ca22317\",\n",
       "        \"style\": \"IPY_MODEL_9f03122978854d3ab55be2642e4823fe\",\n",
       "        \"value\": \"<div style='white-space: pre-wrap; line-height: 1.2; font-family: monospace, monospace;'>partial_acc (ImNone): 78.07% (count=383) [+1.57%]\\nfull_acc (ImNone): 75.72% (count=383) [+1.57%]\\npartial_acc: 76.50% (count=383) [+1.31%]\\nast_acc: 67.22% (count=482) [+1.04%]\\nfull_acc: 73.37% (count=383) [+1.57%]\\npartial_acc_by_cat: ...\\npartial_acc_by_pos: ...\\navg_label_size: 1.258 [0]\\navg_pred_size: 1.128 [0]\\n</div>\"\n",
       "      }\n",
       "    },\n",
       "    \"b7100c6e46f74c65b755cefe00f8c444\": {\n",
       "      \"model_name\": \"LayoutModel\",\n",
       "      \"model_module\": \"@jupyter-widgets/base\",\n",
       "      \"model_module_version\": \"1.2.0\",\n",
       "      \"state\": {}\n",
       "    },\n",
       "    \"2aa0ce04930a42969f54e25c3518c5e1\": {\n",
       "      \"model_name\": \"DescriptionStyleModel\",\n",
       "      \"model_module\": \"@jupyter-widgets/controls\",\n",
       "      \"model_module_version\": \"1.5.0\",\n",
       "      \"state\": {}\n",
       "    },\n",
       "    \"6fdc71e3b2bc439fa457687b22dababa\": {\n",
       "      \"model_name\": \"HTMLModel\",\n",
       "      \"model_module\": \"@jupyter-widgets/controls\",\n",
       "      \"model_module_version\": \"1.5.0\",\n",
       "      \"state\": {\n",
       "        \"_dom_classes\": [],\n",
       "        \"layout\": \"IPY_MODEL_b7100c6e46f74c65b755cefe00f8c444\",\n",
       "        \"style\": \"IPY_MODEL_2aa0ce04930a42969f54e25c3518c5e1\",\n",
       "        \"value\": \"<div style='white-space: pre-wrap; line-height: 1.2; font-family: monospace, monospace;'>partial_acc (ImNone): 78.07% (count=383) [+1.57%]\\nfull_acc (ImNone): 75.72% (count=383) [+1.57%]\\npartial_acc: 76.50% (count=383) [+1.31%]\\nast_acc: 67.22% (count=482) [+1.04%]\\nfull_acc: 73.37% (count=383) [+1.57%]\\npartial_acc_by_cat:\\n   FuncArg: 75.26% (count=190) [+3.16%]\\n   FuncReturn: 82.32% (count=164) [-0.61%]\\n   ClassAtribute: 78.57% (count=14) [+0.00%]\\n   GlobalVar: 100.00% (count=2) [+0.00%]\\n   LocalVar: 15.38% (count=13) [+0.00%]\\npartial_acc_by_pos:\\n   range(0, 1): 76.50% (count=383) [+1.31%]\\navg_label_size: 1.258 [0]\\navg_pred_size: 1.128 [0]\\n</div>\"\n",
       "      }\n",
       "    },\n",
       "    \"1befaa6c9e9049cb8e2e7d6cc4ffca5b\": {\n",
       "      \"model_name\": \"LayoutModel\",\n",
       "      \"model_module\": \"@jupyter-widgets/base\",\n",
       "      \"model_module_version\": \"1.2.0\",\n",
       "      \"state\": {}\n",
       "    },\n",
       "    \"6c5857321a1543508e66fddbbced987a\": {\n",
       "      \"model_name\": \"TabModel\",\n",
       "      \"model_module\": \"@jupyter-widgets/controls\",\n",
       "      \"model_module_version\": \"1.5.0\",\n",
       "      \"state\": {\n",
       "        \"_dom_classes\": [],\n",
       "        \"_titles\": {\n",
       "          \"0\": \"Compressed\",\n",
       "          \"1\": \"Expanded\"\n",
       "        },\n",
       "        \"children\": [\n",
       "          \"IPY_MODEL_7028137b5e2d4f338af4b869f0c8f060\",\n",
       "          \"IPY_MODEL_6fdc71e3b2bc439fa457687b22dababa\"\n",
       "        ],\n",
       "        \"layout\": \"IPY_MODEL_1befaa6c9e9049cb8e2e7d6cc4ffca5b\"\n",
       "      }\n",
       "    },\n",
       "    \"588efc24e38844a99b2c2f778b129874\": {\n",
       "      \"model_name\": \"LayoutModel\",\n",
       "      \"model_module\": \"@jupyter-widgets/base\",\n",
       "      \"model_module_version\": \"1.2.0\",\n",
       "      \"state\": {}\n",
       "    },\n",
       "    \"6fba5c2d6cf542c4a25ee49959f04ee3\": {\n",
       "      \"model_name\": \"DescriptionStyleModel\",\n",
       "      \"model_module\": \"@jupyter-widgets/controls\",\n",
       "      \"model_module_version\": \"1.5.0\",\n",
       "      \"state\": {}\n",
       "    },\n",
       "    \"c92d15ba0899414aa3067e8e6e4bb375\": {\n",
       "      \"model_name\": \"HTMLModel\",\n",
       "      \"model_module\": \"@jupyter-widgets/controls\",\n",
       "      \"model_module_version\": \"1.5.0\",\n",
       "      \"state\": {\n",
       "        \"_dom_classes\": [],\n",
       "        \"layout\": \"IPY_MODEL_588efc24e38844a99b2c2f778b129874\",\n",
       "        \"style\": \"IPY_MODEL_6fba5c2d6cf542c4a25ee49959f04ee3\",\n",
       "        \"value\": \"<div style='white-space: pre-wrap; line-height: 1.2; font-family: monospace, monospace;'>partial_acc (ImNone): 83.55% (count=383) [+5.48%]\\nfull_acc (ImNone): 78.59% (count=383) [+2.87%]\\npartial_acc: 82.51% (count=383) [+6.01%]\\nast_acc: 73.24% (count=482) [+6.02%]\\nfull_acc: 76.50% (count=383) [+3.13%]\\npartial_acc_by_cat: ...\\npartial_acc_by_pos: ...\\navg_label_size: 1.258 [0]\\navg_pred_size: 1.167 [0.03916]\\n</div>\"\n",
       "      }\n",
       "    },\n",
       "    \"22b3b1a182f8460597ff59d8fb495e96\": {\n",
       "      \"model_name\": \"LayoutModel\",\n",
       "      \"model_module\": \"@jupyter-widgets/base\",\n",
       "      \"model_module_version\": \"1.2.0\",\n",
       "      \"state\": {}\n",
       "    },\n",
       "    \"bc91bad3148a4583a7b97fcd9b3276cb\": {\n",
       "      \"model_name\": \"DescriptionStyleModel\",\n",
       "      \"model_module\": \"@jupyter-widgets/controls\",\n",
       "      \"model_module_version\": \"1.5.0\",\n",
       "      \"state\": {}\n",
       "    },\n",
       "    \"cf72ee4a387445849e9f430b20dd2d8a\": {\n",
       "      \"model_name\": \"HTMLModel\",\n",
       "      \"model_module\": \"@jupyter-widgets/controls\",\n",
       "      \"model_module_version\": \"1.5.0\",\n",
       "      \"state\": {\n",
       "        \"_dom_classes\": [],\n",
       "        \"layout\": \"IPY_MODEL_22b3b1a182f8460597ff59d8fb495e96\",\n",
       "        \"style\": \"IPY_MODEL_bc91bad3148a4583a7b97fcd9b3276cb\",\n",
       "        \"value\": \"<div style='white-space: pre-wrap; line-height: 1.2; font-family: monospace, monospace;'>partial_acc (ImNone): 83.55% (count=383) [+5.48%]\\nfull_acc (ImNone): 78.59% (count=383) [+2.87%]\\npartial_acc: 82.51% (count=383) [+6.01%]\\nast_acc: 73.24% (count=482) [+6.02%]\\nfull_acc: 76.50% (count=383) [+3.13%]\\npartial_acc_by_cat:\\n   FuncArg: 77.89% (count=190) [+2.63%]\\n   FuncReturn: 87.20% (count=164) [+4.88%]\\n   ClassAtribute: 100.00% (count=14) [+21.43%]\\n   GlobalVar: 100.00% (count=2) [+0.00%]\\n   LocalVar: 69.23% (count=13) [+53.85%]\\npartial_acc_by_pos:\\n   range(0, 1): 82.51% (count=383) [+6.01%]\\navg_label_size: 1.258 [0]\\navg_pred_size: 1.167 [0.03916]\\n</div>\"\n",
       "      }\n",
       "    },\n",
       "    \"bdadc5bc5e1d4de397f113ff9e871fb8\": {\n",
       "      \"model_name\": \"LayoutModel\",\n",
       "      \"model_module\": \"@jupyter-widgets/base\",\n",
       "      \"model_module_version\": \"1.2.0\",\n",
       "      \"state\": {}\n",
       "    },\n",
       "    \"a06efaa35b2448578a3cb349935e5df8\": {\n",
       "      \"model_name\": \"TabModel\",\n",
       "      \"model_module\": \"@jupyter-widgets/controls\",\n",
       "      \"model_module_version\": \"1.5.0\",\n",
       "      \"state\": {\n",
       "        \"_dom_classes\": [],\n",
       "        \"_titles\": {\n",
       "          \"0\": \"Compressed\",\n",
       "          \"1\": \"Expanded\"\n",
       "        },\n",
       "        \"children\": [\n",
       "          \"IPY_MODEL_c92d15ba0899414aa3067e8e6e4bb375\",\n",
       "          \"IPY_MODEL_cf72ee4a387445849e9f430b20dd2d8a\"\n",
       "        ],\n",
       "        \"layout\": \"IPY_MODEL_bdadc5bc5e1d4de397f113ff9e871fb8\"\n",
       "      }\n",
       "    },\n",
       "    \"d9fc8bbbbbcd43368421480bef0be005\": {\n",
       "      \"model_name\": \"LayoutModel\",\n",
       "      \"model_module\": \"@jupyter-widgets/base\",\n",
       "      \"model_module_version\": \"1.2.0\",\n",
       "      \"state\": {}\n",
       "    },\n",
       "    \"57015735caab453aacfd55c58c75a8c4\": {\n",
       "      \"model_name\": \"DescriptionStyleModel\",\n",
       "      \"model_module\": \"@jupyter-widgets/controls\",\n",
       "      \"model_module_version\": \"1.5.0\",\n",
       "      \"state\": {}\n",
       "    },\n",
       "    \"85a5da9c4364430ba1ee9e9bc336b770\": {\n",
       "      \"model_name\": \"HTMLModel\",\n",
       "      \"model_module\": \"@jupyter-widgets/controls\",\n",
       "      \"model_module_version\": \"1.5.0\",\n",
       "      \"state\": {\n",
       "        \"_dom_classes\": [],\n",
       "        \"layout\": \"IPY_MODEL_d9fc8bbbbbcd43368421480bef0be005\",\n",
       "        \"style\": \"IPY_MODEL_57015735caab453aacfd55c58c75a8c4\",\n",
       "        \"value\": \"<div style='white-space: pre-wrap; line-height: 1.2; font-family: monospace, monospace;'>partial_acc (ImNone): 78.33% (count=383) [-5.22%]\\nfull_acc (ImNone): 75.72% (count=383) [-2.87%]\\npartial_acc: 77.02% (count=383) [-5.48%]\\nast_acc: 67.43% (count=482) [-5.81%]\\nfull_acc: 73.63% (count=383) [-2.87%]\\npartial_acc_by_cat: ...\\npartial_acc_by_pos: ...\\navg_label_size: 1.258 [0]\\navg_pred_size: 1.125 [-0.04178]\\n</div>\"\n",
       "      }\n",
       "    },\n",
       "    \"25eb0dead6d64123833b8bea6dd32161\": {\n",
       "      \"model_name\": \"LayoutModel\",\n",
       "      \"model_module\": \"@jupyter-widgets/base\",\n",
       "      \"model_module_version\": \"1.2.0\",\n",
       "      \"state\": {}\n",
       "    },\n",
       "    \"eb06e8109d0d4bb58eb538551383a77d\": {\n",
       "      \"model_name\": \"DescriptionStyleModel\",\n",
       "      \"model_module\": \"@jupyter-widgets/controls\",\n",
       "      \"model_module_version\": \"1.5.0\",\n",
       "      \"state\": {}\n",
       "    },\n",
       "    \"209fc29d7c9047809db1be3c1d2e8de3\": {\n",
       "      \"model_name\": \"HTMLModel\",\n",
       "      \"model_module\": \"@jupyter-widgets/controls\",\n",
       "      \"model_module_version\": \"1.5.0\",\n",
       "      \"state\": {\n",
       "        \"_dom_classes\": [],\n",
       "        \"layout\": \"IPY_MODEL_25eb0dead6d64123833b8bea6dd32161\",\n",
       "        \"style\": \"IPY_MODEL_eb06e8109d0d4bb58eb538551383a77d\",\n",
       "        \"value\": \"<div style='white-space: pre-wrap; line-height: 1.2; font-family: monospace, monospace;'>partial_acc (ImNone): 78.33% (count=383) [-5.22%]\\nfull_acc (ImNone): 75.72% (count=383) [-2.87%]\\npartial_acc: 77.02% (count=383) [-5.48%]\\nast_acc: 67.43% (count=482) [-5.81%]\\nfull_acc: 73.63% (count=383) [-2.87%]\\npartial_acc_by_cat:\\n   FuncArg: 76.84% (count=190) [-1.05%]\\n   FuncReturn: 82.32% (count=164) [-4.88%]\\n   ClassAtribute: 71.43% (count=14) [-28.57%]\\n   GlobalVar: 100.00% (count=2) [+0.00%]\\n   LocalVar: 15.38% (count=13) [-53.85%]\\npartial_acc_by_pos:\\n   range(0, 1): 83.33% (count=24) [+0.83%]\\n   range(1, 2): 76.19% (count=21)\\n   range(2, 4): 86.49% (count=37)\\n   range(4, 8): 72.58% (count=62)\\n   range(8, 16): 82.61% (count=92)\\n   range(16, 32): 77.06% (count=109)\\n   range(32, 64): 57.89% (count=38)\\navg_label_size: 1.258 [0]\\navg_pred_size: 1.125 [-0.04178]\\n</div>\"\n",
       "      }\n",
       "    },\n",
       "    \"9961f1fa18624cf5bc7209edf582c73e\": {\n",
       "      \"model_name\": \"LayoutModel\",\n",
       "      \"model_module\": \"@jupyter-widgets/base\",\n",
       "      \"model_module_version\": \"1.2.0\",\n",
       "      \"state\": {}\n",
       "    },\n",
       "    \"959d92bc94444af5b94ebe858552d7b3\": {\n",
       "      \"model_name\": \"TabModel\",\n",
       "      \"model_module\": \"@jupyter-widgets/controls\",\n",
       "      \"model_module_version\": \"1.5.0\",\n",
       "      \"state\": {\n",
       "        \"_dom_classes\": [],\n",
       "        \"_titles\": {\n",
       "          \"0\": \"Compressed\",\n",
       "          \"1\": \"Expanded\"\n",
       "        },\n",
       "        \"children\": [\n",
       "          \"IPY_MODEL_85a5da9c4364430ba1ee9e9bc336b770\",\n",
       "          \"IPY_MODEL_209fc29d7c9047809db1be3c1d2e8de3\"\n",
       "        ],\n",
       "        \"layout\": \"IPY_MODEL_9961f1fa18624cf5bc7209edf582c73e\"\n",
       "      }\n",
       "    },\n",
       "    \"fc07c53ecc7648aea6b15d8e07548193\": {\n",
       "      \"model_name\": \"LayoutModel\",\n",
       "      \"model_module\": \"@jupyter-widgets/base\",\n",
       "      \"model_module_version\": \"1.2.0\",\n",
       "      \"state\": {}\n",
       "    },\n",
       "    \"5c345e2fa736477ea54e016027ee9cf5\": {\n",
       "      \"model_name\": \"DescriptionStyleModel\",\n",
       "      \"model_module\": \"@jupyter-widgets/controls\",\n",
       "      \"model_module_version\": \"1.5.0\",\n",
       "      \"state\": {}\n",
       "    },\n",
       "    \"e201f311ff13447c9b6e2f5351902799\": {\n",
       "      \"model_name\": \"HTMLModel\",\n",
       "      \"model_module\": \"@jupyter-widgets/controls\",\n",
       "      \"model_module_version\": \"1.5.0\",\n",
       "      \"state\": {\n",
       "        \"_dom_classes\": [],\n",
       "        \"layout\": \"IPY_MODEL_fc07c53ecc7648aea6b15d8e07548193\",\n",
       "        \"style\": \"IPY_MODEL_5c345e2fa736477ea54e016027ee9cf5\",\n",
       "        \"value\": \"<div style='white-space: pre-wrap; line-height: 1.2; font-family: monospace, monospace;'>partial_acc (ImNone): 87.73% (count=383) [+9.40%]\\nfull_acc (ImNone): 87.21% (count=383) [+11.49%]\\npartial_acc: 87.99% (count=383) [+10.97%]\\nast_acc: 81.54% (count=482) [+14.11%]\\nfull_acc: 86.42% (count=383) [+12.79%]\\npartial_acc_by_cat: ...\\npartial_acc_by_pos: ...\\navg_label_size: 1.258 [0]\\navg_pred_size: 1.183 [0.05744]\\n</div>\"\n",
       "      }\n",
       "    },\n",
       "    \"64194212cc664d6390de31252816f52a\": {\n",
       "      \"model_name\": \"LayoutModel\",\n",
       "      \"model_module\": \"@jupyter-widgets/base\",\n",
       "      \"model_module_version\": \"1.2.0\",\n",
       "      \"state\": {}\n",
       "    },\n",
       "    \"e99d1aed63964e8dbd14c1daa1ff9de9\": {\n",
       "      \"model_name\": \"DescriptionStyleModel\",\n",
       "      \"model_module\": \"@jupyter-widgets/controls\",\n",
       "      \"model_module_version\": \"1.5.0\",\n",
       "      \"state\": {}\n",
       "    },\n",
       "    \"7472ad04e42b4c96b98f37a4d0cbb8a3\": {\n",
       "      \"model_name\": \"HTMLModel\",\n",
       "      \"model_module\": \"@jupyter-widgets/controls\",\n",
       "      \"model_module_version\": \"1.5.0\",\n",
       "      \"state\": {\n",
       "        \"_dom_classes\": [],\n",
       "        \"layout\": \"IPY_MODEL_64194212cc664d6390de31252816f52a\",\n",
       "        \"style\": \"IPY_MODEL_e99d1aed63964e8dbd14c1daa1ff9de9\",\n",
       "        \"value\": \"<div style='white-space: pre-wrap; line-height: 1.2; font-family: monospace, monospace;'>partial_acc (ImNone): 87.73% (count=383) [+9.40%]\\nfull_acc (ImNone): 87.21% (count=383) [+11.49%]\\npartial_acc: 87.99% (count=383) [+10.97%]\\nast_acc: 81.54% (count=482) [+14.11%]\\nfull_acc: 86.42% (count=383) [+12.79%]\\npartial_acc_by_cat:\\n   FuncArg: 89.47% (count=190) [+12.63%]\\n   FuncReturn: 87.20% (count=164) [+4.88%]\\n   ClassAtribute: 85.71% (count=14) [+14.29%]\\n   GlobalVar: 100.00% (count=2) [+0.00%]\\n   LocalVar: 76.92% (count=13) [+61.54%]\\npartial_acc_by_pos:\\n   range(0, 1): 87.99% (count=383) [+4.66%]\\navg_label_size: 1.258 [0]\\navg_pred_size: 1.183 [0.05744]\\n</div>\"\n",
       "      }\n",
       "    },\n",
       "    \"19b35e91f16c4dc9aac553bbd0a75036\": {\n",
       "      \"model_name\": \"LayoutModel\",\n",
       "      \"model_module\": \"@jupyter-widgets/base\",\n",
       "      \"model_module_version\": \"1.2.0\",\n",
       "      \"state\": {}\n",
       "    },\n",
       "    \"b0399731f10045d38256b8243cdb64e7\": {\n",
       "      \"model_name\": \"TabModel\",\n",
       "      \"model_module\": \"@jupyter-widgets/controls\",\n",
       "      \"model_module_version\": \"1.5.0\",\n",
       "      \"state\": {\n",
       "        \"_dom_classes\": [],\n",
       "        \"_titles\": {\n",
       "          \"0\": \"Compressed\",\n",
       "          \"1\": \"Expanded\"\n",
       "        },\n",
       "        \"children\": [\n",
       "          \"IPY_MODEL_e201f311ff13447c9b6e2f5351902799\",\n",
       "          \"IPY_MODEL_7472ad04e42b4c96b98f37a4d0cbb8a3\"\n",
       "        ],\n",
       "        \"layout\": \"IPY_MODEL_19b35e91f16c4dc9aac553bbd0a75036\"\n",
       "      }\n",
       "    },\n",
       "    \"ee426e00df664f5c8a52b29386cdf8ea\": {\n",
       "      \"model_name\": \"LayoutModel\",\n",
       "      \"model_module\": \"@jupyter-widgets/base\",\n",
       "      \"model_module_version\": \"1.2.0\",\n",
       "      \"state\": {}\n",
       "    },\n",
       "    \"1eeeda9a7d594f6b8c505fba96d4e737\": {\n",
       "      \"model_name\": \"TabModel\",\n",
       "      \"model_module\": \"@jupyter-widgets/controls\",\n",
       "      \"model_module_version\": \"1.5.0\",\n",
       "      \"state\": {\n",
       "        \"_dom_classes\": [],\n",
       "        \"_titles\": {\n",
       "          \"0\": \"BS\",\n",
       "          \"1\": \"Counting\",\n",
       "          \"2\": \"Critic\",\n",
       "          \"3\": \"Incr\",\n",
       "          \"4\": \"Oracle\"\n",
       "        },\n",
       "        \"children\": [\n",
       "          \"IPY_MODEL_b30f8f80ea39496da68b86bba58c223d\",\n",
       "          \"IPY_MODEL_6c5857321a1543508e66fddbbced987a\",\n",
       "          \"IPY_MODEL_a06efaa35b2448578a3cb349935e5df8\",\n",
       "          \"IPY_MODEL_959d92bc94444af5b94ebe858552d7b3\",\n",
       "          \"IPY_MODEL_b0399731f10045d38256b8243cdb64e7\"\n",
       "        ],\n",
       "        \"layout\": \"IPY_MODEL_ee426e00df664f5c8a52b29386cdf8ea\",\n",
       "        \"selected_index\": 4\n",
       "      }\n",
       "    },\n",
       "    \"ddf986774af64d3f8a593d4f70ef512e\": {\n",
       "      \"model_name\": \"LayoutModel\",\n",
       "      \"model_module\": \"@jupyter-widgets/base\",\n",
       "      \"model_module_version\": \"1.2.0\",\n",
       "      \"state\": {\n",
       "        \"overflow\": \"scroll\"\n",
       "      }\n",
       "    },\n",
       "    \"79db5062798c4934bc699657582d4fc5\": {\n",
       "      \"model_name\": \"VBoxModel\",\n",
       "      \"model_module\": \"@jupyter-widgets/controls\",\n",
       "      \"model_module_version\": \"1.5.0\",\n",
       "      \"state\": {\n",
       "        \"_dom_classes\": [],\n",
       "        \"children\": [\n",
       "          \"IPY_MODEL_1eeeda9a7d594f6b8c505fba96d4e737\"\n",
       "        ],\n",
       "        \"layout\": \"IPY_MODEL_ddf986774af64d3f8a593d4f70ef512e\"\n",
       "      }\n",
       "    }\n",
       "  }\n",
       "}\n",
       "</script>\n",
       "<script type=\"application/vnd.jupyter.widget-view+json\">\n",
       "{\"version_major\": 2, \"version_minor\": 0, \"model_id\": \"79db5062798c4934bc699657582d4fc5\"}\n",
       "</script>\n",
       "\n",
       "</body>\n",
       "</html>\n"
      ],
      "text/plain": [
       "<IPython.core.display.HTML object>"
      ]
     },
     "metadata": {},
     "output_type": "display_data"
    }
   ],
   "source": [
    "from spot.visualization import display_persist, visualize_dicts\n",
    "from spot.data import src_preds_to_accuracies\n",
    "from spot.visualization import display_persist, dict_widget\n",
    "\n",
    "\n",
    "accs_list = [x.accuracies for x in results.values()]\n",
    "titles = list(results.keys())\n",
    "\n",
    "incr_accs = src_preds_to_accuracies(incr_r[1], incr_r[0])\n",
    "accs_list.insert(-1, incr_accs)\n",
    "titles.insert(-1, \"Incr\")\n",
    "\n",
    "display_persist(visualize_dicts(accs_list, titles))\n"
   ]
  },
  {
   "cell_type": "code",
   "execution_count": 29,
   "metadata": {},
   "outputs": [
    {
     "name": "stdout",
     "output_type": "stream",
     "text": [
      "diff_ratio: 0.085987\n",
      "diff_critic_error: 0.47598\n",
      "all_critic_error: 0.067515\n",
      "diff_critic_abs_error: 0.56754\n",
      "all_critic_abs_error: 0.26956\n",
      "diff_scores_distr: ...\n",
      "all_scores_distr: ...\n"
     ]
    }
   ],
   "source": [
    "from spot.debug_critic import check_delta\n",
    "from spot.utils import pretty_print_dict\n",
    "\n",
    "delta_stats = check_delta(\n",
    "    results[\"BS\"], results[\"Oracle\"], results[critic_result_name(False)]\n",
    ")\n",
    "pretty_print_dict(delta_stats, max_show_level=0)\n"
   ]
  },
  {
   "cell_type": "code",
   "execution_count": null,
   "metadata": {},
   "outputs": [
    {
     "data": {
      "application/vnd.plotly.v1+json": {
       "config": {
        "plotlyServerURL": "https://plot.ly"
       },
       "data": [
        {
         "alignmentgroup": "True",
         "hovertemplate": "Source=Source<br>critic score=%{x}<br>Count=%{y}<extra></extra>",
         "legendgroup": "Source",
         "marker": {
          "color": "#636efa",
          "pattern": {
           "shape": ""
          }
         },
         "name": "Source",
         "offsetgroup": "Source",
         "orientation": "v",
         "showlegend": true,
         "textposition": "auto",
         "type": "bar",
         "x": [
          "0.0",
          "0.1",
          "0.2",
          "0.3",
          "0.4",
          "0.5",
          "0.6",
          "0.7",
          "0.8",
          "0.9"
         ],
         "xaxis": "x",
         "y": [
          7,
          4,
          5,
          6,
          8,
          13,
          15,
          21,
          28,
          55
         ],
         "yaxis": "y"
        }
       ],
       "layout": {
        "barmode": "relative",
        "legend": {
         "title": {
          "text": "Source"
         },
         "tracegroupgap": 0
        },
        "template": {
         "data": {
          "bar": [
           {
            "error_x": {
             "color": "#2a3f5f"
            },
            "error_y": {
             "color": "#2a3f5f"
            },
            "marker": {
             "line": {
              "color": "#E5ECF6",
              "width": 0.5
             },
             "pattern": {
              "fillmode": "overlay",
              "size": 10,
              "solidity": 0.2
             }
            },
            "type": "bar"
           }
          ],
          "barpolar": [
           {
            "marker": {
             "line": {
              "color": "#E5ECF6",
              "width": 0.5
             },
             "pattern": {
              "fillmode": "overlay",
              "size": 10,
              "solidity": 0.2
             }
            },
            "type": "barpolar"
           }
          ],
          "carpet": [
           {
            "aaxis": {
             "endlinecolor": "#2a3f5f",
             "gridcolor": "white",
             "linecolor": "white",
             "minorgridcolor": "white",
             "startlinecolor": "#2a3f5f"
            },
            "baxis": {
             "endlinecolor": "#2a3f5f",
             "gridcolor": "white",
             "linecolor": "white",
             "minorgridcolor": "white",
             "startlinecolor": "#2a3f5f"
            },
            "type": "carpet"
           }
          ],
          "choropleth": [
           {
            "colorbar": {
             "outlinewidth": 0,
             "ticks": ""
            },
            "type": "choropleth"
           }
          ],
          "contour": [
           {
            "colorbar": {
             "outlinewidth": 0,
             "ticks": ""
            },
            "colorscale": [
             [
              0,
              "#0d0887"
             ],
             [
              0.1111111111111111,
              "#46039f"
             ],
             [
              0.2222222222222222,
              "#7201a8"
             ],
             [
              0.3333333333333333,
              "#9c179e"
             ],
             [
              0.4444444444444444,
              "#bd3786"
             ],
             [
              0.5555555555555556,
              "#d8576b"
             ],
             [
              0.6666666666666666,
              "#ed7953"
             ],
             [
              0.7777777777777778,
              "#fb9f3a"
             ],
             [
              0.8888888888888888,
              "#fdca26"
             ],
             [
              1,
              "#f0f921"
             ]
            ],
            "type": "contour"
           }
          ],
          "contourcarpet": [
           {
            "colorbar": {
             "outlinewidth": 0,
             "ticks": ""
            },
            "type": "contourcarpet"
           }
          ],
          "heatmap": [
           {
            "colorbar": {
             "outlinewidth": 0,
             "ticks": ""
            },
            "colorscale": [
             [
              0,
              "#0d0887"
             ],
             [
              0.1111111111111111,
              "#46039f"
             ],
             [
              0.2222222222222222,
              "#7201a8"
             ],
             [
              0.3333333333333333,
              "#9c179e"
             ],
             [
              0.4444444444444444,
              "#bd3786"
             ],
             [
              0.5555555555555556,
              "#d8576b"
             ],
             [
              0.6666666666666666,
              "#ed7953"
             ],
             [
              0.7777777777777778,
              "#fb9f3a"
             ],
             [
              0.8888888888888888,
              "#fdca26"
             ],
             [
              1,
              "#f0f921"
             ]
            ],
            "type": "heatmap"
           }
          ],
          "heatmapgl": [
           {
            "colorbar": {
             "outlinewidth": 0,
             "ticks": ""
            },
            "colorscale": [
             [
              0,
              "#0d0887"
             ],
             [
              0.1111111111111111,
              "#46039f"
             ],
             [
              0.2222222222222222,
              "#7201a8"
             ],
             [
              0.3333333333333333,
              "#9c179e"
             ],
             [
              0.4444444444444444,
              "#bd3786"
             ],
             [
              0.5555555555555556,
              "#d8576b"
             ],
             [
              0.6666666666666666,
              "#ed7953"
             ],
             [
              0.7777777777777778,
              "#fb9f3a"
             ],
             [
              0.8888888888888888,
              "#fdca26"
             ],
             [
              1,
              "#f0f921"
             ]
            ],
            "type": "heatmapgl"
           }
          ],
          "histogram": [
           {
            "marker": {
             "pattern": {
              "fillmode": "overlay",
              "size": 10,
              "solidity": 0.2
             }
            },
            "type": "histogram"
           }
          ],
          "histogram2d": [
           {
            "colorbar": {
             "outlinewidth": 0,
             "ticks": ""
            },
            "colorscale": [
             [
              0,
              "#0d0887"
             ],
             [
              0.1111111111111111,
              "#46039f"
             ],
             [
              0.2222222222222222,
              "#7201a8"
             ],
             [
              0.3333333333333333,
              "#9c179e"
             ],
             [
              0.4444444444444444,
              "#bd3786"
             ],
             [
              0.5555555555555556,
              "#d8576b"
             ],
             [
              0.6666666666666666,
              "#ed7953"
             ],
             [
              0.7777777777777778,
              "#fb9f3a"
             ],
             [
              0.8888888888888888,
              "#fdca26"
             ],
             [
              1,
              "#f0f921"
             ]
            ],
            "type": "histogram2d"
           }
          ],
          "histogram2dcontour": [
           {
            "colorbar": {
             "outlinewidth": 0,
             "ticks": ""
            },
            "colorscale": [
             [
              0,
              "#0d0887"
             ],
             [
              0.1111111111111111,
              "#46039f"
             ],
             [
              0.2222222222222222,
              "#7201a8"
             ],
             [
              0.3333333333333333,
              "#9c179e"
             ],
             [
              0.4444444444444444,
              "#bd3786"
             ],
             [
              0.5555555555555556,
              "#d8576b"
             ],
             [
              0.6666666666666666,
              "#ed7953"
             ],
             [
              0.7777777777777778,
              "#fb9f3a"
             ],
             [
              0.8888888888888888,
              "#fdca26"
             ],
             [
              1,
              "#f0f921"
             ]
            ],
            "type": "histogram2dcontour"
           }
          ],
          "mesh3d": [
           {
            "colorbar": {
             "outlinewidth": 0,
             "ticks": ""
            },
            "type": "mesh3d"
           }
          ],
          "parcoords": [
           {
            "line": {
             "colorbar": {
              "outlinewidth": 0,
              "ticks": ""
             }
            },
            "type": "parcoords"
           }
          ],
          "pie": [
           {
            "automargin": true,
            "type": "pie"
           }
          ],
          "scatter": [
           {
            "fillpattern": {
             "fillmode": "overlay",
             "size": 10,
             "solidity": 0.2
            },
            "type": "scatter"
           }
          ],
          "scatter3d": [
           {
            "line": {
             "colorbar": {
              "outlinewidth": 0,
              "ticks": ""
             }
            },
            "marker": {
             "colorbar": {
              "outlinewidth": 0,
              "ticks": ""
             }
            },
            "type": "scatter3d"
           }
          ],
          "scattercarpet": [
           {
            "marker": {
             "colorbar": {
              "outlinewidth": 0,
              "ticks": ""
             }
            },
            "type": "scattercarpet"
           }
          ],
          "scattergeo": [
           {
            "marker": {
             "colorbar": {
              "outlinewidth": 0,
              "ticks": ""
             }
            },
            "type": "scattergeo"
           }
          ],
          "scattergl": [
           {
            "marker": {
             "colorbar": {
              "outlinewidth": 0,
              "ticks": ""
             }
            },
            "type": "scattergl"
           }
          ],
          "scattermapbox": [
           {
            "marker": {
             "colorbar": {
              "outlinewidth": 0,
              "ticks": ""
             }
            },
            "type": "scattermapbox"
           }
          ],
          "scatterpolar": [
           {
            "marker": {
             "colorbar": {
              "outlinewidth": 0,
              "ticks": ""
             }
            },
            "type": "scatterpolar"
           }
          ],
          "scatterpolargl": [
           {
            "marker": {
             "colorbar": {
              "outlinewidth": 0,
              "ticks": ""
             }
            },
            "type": "scatterpolargl"
           }
          ],
          "scatterternary": [
           {
            "marker": {
             "colorbar": {
              "outlinewidth": 0,
              "ticks": ""
             }
            },
            "type": "scatterternary"
           }
          ],
          "surface": [
           {
            "colorbar": {
             "outlinewidth": 0,
             "ticks": ""
            },
            "colorscale": [
             [
              0,
              "#0d0887"
             ],
             [
              0.1111111111111111,
              "#46039f"
             ],
             [
              0.2222222222222222,
              "#7201a8"
             ],
             [
              0.3333333333333333,
              "#9c179e"
             ],
             [
              0.4444444444444444,
              "#bd3786"
             ],
             [
              0.5555555555555556,
              "#d8576b"
             ],
             [
              0.6666666666666666,
              "#ed7953"
             ],
             [
              0.7777777777777778,
              "#fb9f3a"
             ],
             [
              0.8888888888888888,
              "#fdca26"
             ],
             [
              1,
              "#f0f921"
             ]
            ],
            "type": "surface"
           }
          ],
          "table": [
           {
            "cells": {
             "fill": {
              "color": "#EBF0F8"
             },
             "line": {
              "color": "white"
             }
            },
            "header": {
             "fill": {
              "color": "#C8D4E3"
             },
             "line": {
              "color": "white"
             }
            },
            "type": "table"
           }
          ]
         },
         "layout": {
          "annotationdefaults": {
           "arrowcolor": "#2a3f5f",
           "arrowhead": 0,
           "arrowwidth": 1
          },
          "autotypenumbers": "strict",
          "coloraxis": {
           "colorbar": {
            "outlinewidth": 0,
            "ticks": ""
           }
          },
          "colorscale": {
           "diverging": [
            [
             0,
             "#8e0152"
            ],
            [
             0.1,
             "#c51b7d"
            ],
            [
             0.2,
             "#de77ae"
            ],
            [
             0.3,
             "#f1b6da"
            ],
            [
             0.4,
             "#fde0ef"
            ],
            [
             0.5,
             "#f7f7f7"
            ],
            [
             0.6,
             "#e6f5d0"
            ],
            [
             0.7,
             "#b8e186"
            ],
            [
             0.8,
             "#7fbc41"
            ],
            [
             0.9,
             "#4d9221"
            ],
            [
             1,
             "#276419"
            ]
           ],
           "sequential": [
            [
             0,
             "#0d0887"
            ],
            [
             0.1111111111111111,
             "#46039f"
            ],
            [
             0.2222222222222222,
             "#7201a8"
            ],
            [
             0.3333333333333333,
             "#9c179e"
            ],
            [
             0.4444444444444444,
             "#bd3786"
            ],
            [
             0.5555555555555556,
             "#d8576b"
            ],
            [
             0.6666666666666666,
             "#ed7953"
            ],
            [
             0.7777777777777778,
             "#fb9f3a"
            ],
            [
             0.8888888888888888,
             "#fdca26"
            ],
            [
             1,
             "#f0f921"
            ]
           ],
           "sequentialminus": [
            [
             0,
             "#0d0887"
            ],
            [
             0.1111111111111111,
             "#46039f"
            ],
            [
             0.2222222222222222,
             "#7201a8"
            ],
            [
             0.3333333333333333,
             "#9c179e"
            ],
            [
             0.4444444444444444,
             "#bd3786"
            ],
            [
             0.5555555555555556,
             "#d8576b"
            ],
            [
             0.6666666666666666,
             "#ed7953"
            ],
            [
             0.7777777777777778,
             "#fb9f3a"
            ],
            [
             0.8888888888888888,
             "#fdca26"
            ],
            [
             1,
             "#f0f921"
            ]
           ]
          },
          "colorway": [
           "#636efa",
           "#EF553B",
           "#00cc96",
           "#ab63fa",
           "#FFA15A",
           "#19d3f3",
           "#FF6692",
           "#B6E880",
           "#FF97FF",
           "#FECB52"
          ],
          "font": {
           "color": "#2a3f5f"
          },
          "geo": {
           "bgcolor": "white",
           "lakecolor": "white",
           "landcolor": "#E5ECF6",
           "showlakes": true,
           "showland": true,
           "subunitcolor": "white"
          },
          "hoverlabel": {
           "align": "left"
          },
          "hovermode": "closest",
          "mapbox": {
           "style": "light"
          },
          "paper_bgcolor": "white",
          "plot_bgcolor": "#E5ECF6",
          "polar": {
           "angularaxis": {
            "gridcolor": "white",
            "linecolor": "white",
            "ticks": ""
           },
           "bgcolor": "#E5ECF6",
           "radialaxis": {
            "gridcolor": "white",
            "linecolor": "white",
            "ticks": ""
           }
          },
          "scene": {
           "xaxis": {
            "backgroundcolor": "#E5ECF6",
            "gridcolor": "white",
            "gridwidth": 2,
            "linecolor": "white",
            "showbackground": true,
            "ticks": "",
            "zerolinecolor": "white"
           },
           "yaxis": {
            "backgroundcolor": "#E5ECF6",
            "gridcolor": "white",
            "gridwidth": 2,
            "linecolor": "white",
            "showbackground": true,
            "ticks": "",
            "zerolinecolor": "white"
           },
           "zaxis": {
            "backgroundcolor": "#E5ECF6",
            "gridcolor": "white",
            "gridwidth": 2,
            "linecolor": "white",
            "showbackground": true,
            "ticks": "",
            "zerolinecolor": "white"
           }
          },
          "shapedefaults": {
           "line": {
            "color": "#2a3f5f"
           }
          },
          "ternary": {
           "aaxis": {
            "gridcolor": "white",
            "linecolor": "white",
            "ticks": ""
           },
           "baxis": {
            "gridcolor": "white",
            "linecolor": "white",
            "ticks": ""
           },
           "bgcolor": "#E5ECF6",
           "caxis": {
            "gridcolor": "white",
            "linecolor": "white",
            "ticks": ""
           }
          },
          "title": {
           "x": 0.05
          },
          "xaxis": {
           "automargin": true,
           "gridcolor": "white",
           "linecolor": "white",
           "ticks": "",
           "title": {
            "standoff": 15
           },
           "zerolinecolor": "white",
           "zerolinewidth": 2
          },
          "yaxis": {
           "automargin": true,
           "gridcolor": "white",
           "linecolor": "white",
           "ticks": "",
           "title": {
            "standoff": 15
           },
           "zerolinecolor": "white",
           "zerolinewidth": 2
          }
         }
        },
        "title": {
         "text": "critic score distribution"
        },
        "xaxis": {
         "anchor": "y",
         "domain": [
          0,
          1
         ],
         "title": {
          "text": "critic score"
         }
        },
        "yaxis": {
         "anchor": "x",
         "domain": [
          0,
          1
         ],
         "title": {
          "text": "Count"
         }
        }
       }
      },
      "text/html": [
       "<div>                            <div id=\"4f87d1f8-383f-41f8-9b18-33540f318534\" class=\"plotly-graph-div\" style=\"height:525px; width:100%;\"></div>            <script type=\"text/javascript\">                require([\"plotly\"], function(Plotly) {                    window.PLOTLYENV=window.PLOTLYENV || {};                                    if (document.getElementById(\"4f87d1f8-383f-41f8-9b18-33540f318534\")) {                    Plotly.newPlot(                        \"4f87d1f8-383f-41f8-9b18-33540f318534\",                        [{\"alignmentgroup\":\"True\",\"hovertemplate\":\"Source=Source<br>critic score=%{x}<br>Count=%{y}<extra></extra>\",\"legendgroup\":\"Source\",\"marker\":{\"color\":\"#636efa\",\"pattern\":{\"shape\":\"\"}},\"name\":\"Source\",\"offsetgroup\":\"Source\",\"orientation\":\"v\",\"showlegend\":true,\"textposition\":\"auto\",\"x\":[\"0.0\",\"0.1\",\"0.2\",\"0.3\",\"0.4\",\"0.5\",\"0.6\",\"0.7\",\"0.8\",\"0.9\"],\"xaxis\":\"x\",\"y\":[7,4,5,6,8,13,15,21,28,55],\"yaxis\":\"y\",\"type\":\"bar\"}],                        {\"template\":{\"data\":{\"histogram2dcontour\":[{\"type\":\"histogram2dcontour\",\"colorbar\":{\"outlinewidth\":0,\"ticks\":\"\"},\"colorscale\":[[0.0,\"#0d0887\"],[0.1111111111111111,\"#46039f\"],[0.2222222222222222,\"#7201a8\"],[0.3333333333333333,\"#9c179e\"],[0.4444444444444444,\"#bd3786\"],[0.5555555555555556,\"#d8576b\"],[0.6666666666666666,\"#ed7953\"],[0.7777777777777778,\"#fb9f3a\"],[0.8888888888888888,\"#fdca26\"],[1.0,\"#f0f921\"]]}],\"choropleth\":[{\"type\":\"choropleth\",\"colorbar\":{\"outlinewidth\":0,\"ticks\":\"\"}}],\"histogram2d\":[{\"type\":\"histogram2d\",\"colorbar\":{\"outlinewidth\":0,\"ticks\":\"\"},\"colorscale\":[[0.0,\"#0d0887\"],[0.1111111111111111,\"#46039f\"],[0.2222222222222222,\"#7201a8\"],[0.3333333333333333,\"#9c179e\"],[0.4444444444444444,\"#bd3786\"],[0.5555555555555556,\"#d8576b\"],[0.6666666666666666,\"#ed7953\"],[0.7777777777777778,\"#fb9f3a\"],[0.8888888888888888,\"#fdca26\"],[1.0,\"#f0f921\"]]}],\"heatmap\":[{\"type\":\"heatmap\",\"colorbar\":{\"outlinewidth\":0,\"ticks\":\"\"},\"colorscale\":[[0.0,\"#0d0887\"],[0.1111111111111111,\"#46039f\"],[0.2222222222222222,\"#7201a8\"],[0.3333333333333333,\"#9c179e\"],[0.4444444444444444,\"#bd3786\"],[0.5555555555555556,\"#d8576b\"],[0.6666666666666666,\"#ed7953\"],[0.7777777777777778,\"#fb9f3a\"],[0.8888888888888888,\"#fdca26\"],[1.0,\"#f0f921\"]]}],\"heatmapgl\":[{\"type\":\"heatmapgl\",\"colorbar\":{\"outlinewidth\":0,\"ticks\":\"\"},\"colorscale\":[[0.0,\"#0d0887\"],[0.1111111111111111,\"#46039f\"],[0.2222222222222222,\"#7201a8\"],[0.3333333333333333,\"#9c179e\"],[0.4444444444444444,\"#bd3786\"],[0.5555555555555556,\"#d8576b\"],[0.6666666666666666,\"#ed7953\"],[0.7777777777777778,\"#fb9f3a\"],[0.8888888888888888,\"#fdca26\"],[1.0,\"#f0f921\"]]}],\"contourcarpet\":[{\"type\":\"contourcarpet\",\"colorbar\":{\"outlinewidth\":0,\"ticks\":\"\"}}],\"contour\":[{\"type\":\"contour\",\"colorbar\":{\"outlinewidth\":0,\"ticks\":\"\"},\"colorscale\":[[0.0,\"#0d0887\"],[0.1111111111111111,\"#46039f\"],[0.2222222222222222,\"#7201a8\"],[0.3333333333333333,\"#9c179e\"],[0.4444444444444444,\"#bd3786\"],[0.5555555555555556,\"#d8576b\"],[0.6666666666666666,\"#ed7953\"],[0.7777777777777778,\"#fb9f3a\"],[0.8888888888888888,\"#fdca26\"],[1.0,\"#f0f921\"]]}],\"surface\":[{\"type\":\"surface\",\"colorbar\":{\"outlinewidth\":0,\"ticks\":\"\"},\"colorscale\":[[0.0,\"#0d0887\"],[0.1111111111111111,\"#46039f\"],[0.2222222222222222,\"#7201a8\"],[0.3333333333333333,\"#9c179e\"],[0.4444444444444444,\"#bd3786\"],[0.5555555555555556,\"#d8576b\"],[0.6666666666666666,\"#ed7953\"],[0.7777777777777778,\"#fb9f3a\"],[0.8888888888888888,\"#fdca26\"],[1.0,\"#f0f921\"]]}],\"mesh3d\":[{\"type\":\"mesh3d\",\"colorbar\":{\"outlinewidth\":0,\"ticks\":\"\"}}],\"scatter\":[{\"fillpattern\":{\"fillmode\":\"overlay\",\"size\":10,\"solidity\":0.2},\"type\":\"scatter\"}],\"parcoords\":[{\"type\":\"parcoords\",\"line\":{\"colorbar\":{\"outlinewidth\":0,\"ticks\":\"\"}}}],\"scatterpolargl\":[{\"type\":\"scatterpolargl\",\"marker\":{\"colorbar\":{\"outlinewidth\":0,\"ticks\":\"\"}}}],\"bar\":[{\"error_x\":{\"color\":\"#2a3f5f\"},\"error_y\":{\"color\":\"#2a3f5f\"},\"marker\":{\"line\":{\"color\":\"#E5ECF6\",\"width\":0.5},\"pattern\":{\"fillmode\":\"overlay\",\"size\":10,\"solidity\":0.2}},\"type\":\"bar\"}],\"scattergeo\":[{\"type\":\"scattergeo\",\"marker\":{\"colorbar\":{\"outlinewidth\":0,\"ticks\":\"\"}}}],\"scatterpolar\":[{\"type\":\"scatterpolar\",\"marker\":{\"colorbar\":{\"outlinewidth\":0,\"ticks\":\"\"}}}],\"histogram\":[{\"marker\":{\"pattern\":{\"fillmode\":\"overlay\",\"size\":10,\"solidity\":0.2}},\"type\":\"histogram\"}],\"scattergl\":[{\"type\":\"scattergl\",\"marker\":{\"colorbar\":{\"outlinewidth\":0,\"ticks\":\"\"}}}],\"scatter3d\":[{\"type\":\"scatter3d\",\"line\":{\"colorbar\":{\"outlinewidth\":0,\"ticks\":\"\"}},\"marker\":{\"colorbar\":{\"outlinewidth\":0,\"ticks\":\"\"}}}],\"scattermapbox\":[{\"type\":\"scattermapbox\",\"marker\":{\"colorbar\":{\"outlinewidth\":0,\"ticks\":\"\"}}}],\"scatterternary\":[{\"type\":\"scatterternary\",\"marker\":{\"colorbar\":{\"outlinewidth\":0,\"ticks\":\"\"}}}],\"scattercarpet\":[{\"type\":\"scattercarpet\",\"marker\":{\"colorbar\":{\"outlinewidth\":0,\"ticks\":\"\"}}}],\"carpet\":[{\"aaxis\":{\"endlinecolor\":\"#2a3f5f\",\"gridcolor\":\"white\",\"linecolor\":\"white\",\"minorgridcolor\":\"white\",\"startlinecolor\":\"#2a3f5f\"},\"baxis\":{\"endlinecolor\":\"#2a3f5f\",\"gridcolor\":\"white\",\"linecolor\":\"white\",\"minorgridcolor\":\"white\",\"startlinecolor\":\"#2a3f5f\"},\"type\":\"carpet\"}],\"table\":[{\"cells\":{\"fill\":{\"color\":\"#EBF0F8\"},\"line\":{\"color\":\"white\"}},\"header\":{\"fill\":{\"color\":\"#C8D4E3\"},\"line\":{\"color\":\"white\"}},\"type\":\"table\"}],\"barpolar\":[{\"marker\":{\"line\":{\"color\":\"#E5ECF6\",\"width\":0.5},\"pattern\":{\"fillmode\":\"overlay\",\"size\":10,\"solidity\":0.2}},\"type\":\"barpolar\"}],\"pie\":[{\"automargin\":true,\"type\":\"pie\"}]},\"layout\":{\"autotypenumbers\":\"strict\",\"colorway\":[\"#636efa\",\"#EF553B\",\"#00cc96\",\"#ab63fa\",\"#FFA15A\",\"#19d3f3\",\"#FF6692\",\"#B6E880\",\"#FF97FF\",\"#FECB52\"],\"font\":{\"color\":\"#2a3f5f\"},\"hovermode\":\"closest\",\"hoverlabel\":{\"align\":\"left\"},\"paper_bgcolor\":\"white\",\"plot_bgcolor\":\"#E5ECF6\",\"polar\":{\"bgcolor\":\"#E5ECF6\",\"angularaxis\":{\"gridcolor\":\"white\",\"linecolor\":\"white\",\"ticks\":\"\"},\"radialaxis\":{\"gridcolor\":\"white\",\"linecolor\":\"white\",\"ticks\":\"\"}},\"ternary\":{\"bgcolor\":\"#E5ECF6\",\"aaxis\":{\"gridcolor\":\"white\",\"linecolor\":\"white\",\"ticks\":\"\"},\"baxis\":{\"gridcolor\":\"white\",\"linecolor\":\"white\",\"ticks\":\"\"},\"caxis\":{\"gridcolor\":\"white\",\"linecolor\":\"white\",\"ticks\":\"\"}},\"coloraxis\":{\"colorbar\":{\"outlinewidth\":0,\"ticks\":\"\"}},\"colorscale\":{\"sequential\":[[0.0,\"#0d0887\"],[0.1111111111111111,\"#46039f\"],[0.2222222222222222,\"#7201a8\"],[0.3333333333333333,\"#9c179e\"],[0.4444444444444444,\"#bd3786\"],[0.5555555555555556,\"#d8576b\"],[0.6666666666666666,\"#ed7953\"],[0.7777777777777778,\"#fb9f3a\"],[0.8888888888888888,\"#fdca26\"],[1.0,\"#f0f921\"]],\"sequentialminus\":[[0.0,\"#0d0887\"],[0.1111111111111111,\"#46039f\"],[0.2222222222222222,\"#7201a8\"],[0.3333333333333333,\"#9c179e\"],[0.4444444444444444,\"#bd3786\"],[0.5555555555555556,\"#d8576b\"],[0.6666666666666666,\"#ed7953\"],[0.7777777777777778,\"#fb9f3a\"],[0.8888888888888888,\"#fdca26\"],[1.0,\"#f0f921\"]],\"diverging\":[[0,\"#8e0152\"],[0.1,\"#c51b7d\"],[0.2,\"#de77ae\"],[0.3,\"#f1b6da\"],[0.4,\"#fde0ef\"],[0.5,\"#f7f7f7\"],[0.6,\"#e6f5d0\"],[0.7,\"#b8e186\"],[0.8,\"#7fbc41\"],[0.9,\"#4d9221\"],[1,\"#276419\"]]},\"xaxis\":{\"gridcolor\":\"white\",\"linecolor\":\"white\",\"ticks\":\"\",\"title\":{\"standoff\":15},\"zerolinecolor\":\"white\",\"automargin\":true,\"zerolinewidth\":2},\"yaxis\":{\"gridcolor\":\"white\",\"linecolor\":\"white\",\"ticks\":\"\",\"title\":{\"standoff\":15},\"zerolinecolor\":\"white\",\"automargin\":true,\"zerolinewidth\":2},\"scene\":{\"xaxis\":{\"backgroundcolor\":\"#E5ECF6\",\"gridcolor\":\"white\",\"linecolor\":\"white\",\"showbackground\":true,\"ticks\":\"\",\"zerolinecolor\":\"white\",\"gridwidth\":2},\"yaxis\":{\"backgroundcolor\":\"#E5ECF6\",\"gridcolor\":\"white\",\"linecolor\":\"white\",\"showbackground\":true,\"ticks\":\"\",\"zerolinecolor\":\"white\",\"gridwidth\":2},\"zaxis\":{\"backgroundcolor\":\"#E5ECF6\",\"gridcolor\":\"white\",\"linecolor\":\"white\",\"showbackground\":true,\"ticks\":\"\",\"zerolinecolor\":\"white\",\"gridwidth\":2}},\"shapedefaults\":{\"line\":{\"color\":\"#2a3f5f\"}},\"annotationdefaults\":{\"arrowcolor\":\"#2a3f5f\",\"arrowhead\":0,\"arrowwidth\":1},\"geo\":{\"bgcolor\":\"white\",\"landcolor\":\"#E5ECF6\",\"subunitcolor\":\"white\",\"showland\":true,\"showlakes\":true,\"lakecolor\":\"white\"},\"title\":{\"x\":0.05},\"mapbox\":{\"style\":\"light\"}}},\"xaxis\":{\"anchor\":\"y\",\"domain\":[0.0,1.0],\"title\":{\"text\":\"critic score\"}},\"yaxis\":{\"anchor\":\"x\",\"domain\":[0.0,1.0],\"title\":{\"text\":\"Count\"}},\"legend\":{\"title\":{\"text\":\"Source\"},\"tracegroupgap\":0},\"title\":{\"text\":\"critic score distribution\"},\"barmode\":\"relative\"},                        {\"responsive\": true}                    ).then(function(){\n",
       "                            \n",
       "var gd = document.getElementById('4f87d1f8-383f-41f8-9b18-33540f318534');\n",
       "var x = new MutationObserver(function (mutations, observer) {{\n",
       "        var display = window.getComputedStyle(gd).display;\n",
       "        if (!display || display === 'none') {{\n",
       "            console.log([gd, 'removed!']);\n",
       "            Plotly.purge(gd);\n",
       "            observer.disconnect();\n",
       "        }}\n",
       "}});\n",
       "\n",
       "// Listen for the removal of the full notebook cells\n",
       "var notebookContainer = gd.closest('#notebook-container');\n",
       "if (notebookContainer) {{\n",
       "    x.observe(notebookContainer, {childList: true});\n",
       "}}\n",
       "\n",
       "// Listen for the clearing of the current output cell\n",
       "var outputEl = gd.closest('.output');\n",
       "if (outputEl) {{\n",
       "    x.observe(outputEl, {childList: true});\n",
       "}}\n",
       "\n",
       "                        })                };                });            </script>        </div>"
      ]
     },
     "metadata": {},
     "output_type": "display_data"
    },
    {
     "data": {
      "application/vnd.plotly.v1+json": {
       "config": {
        "plotlyServerURL": "https://plot.ly"
       },
       "data": [
        {
         "alignmentgroup": "True",
         "hovertemplate": "Source=Source<br>critic score=%{x}<br>Count=%{y}<extra></extra>",
         "legendgroup": "Source",
         "marker": {
          "color": "#636efa",
          "pattern": {
           "shape": ""
          }
         },
         "name": "Source",
         "offsetgroup": "Source",
         "orientation": "v",
         "showlegend": true,
         "textposition": "auto",
         "type": "bar",
         "x": [
          "0.0",
          "0.1",
          "0.2",
          "0.3",
          "0.4",
          "0.5",
          "0.6",
          "0.7",
          "0.8",
          "0.9"
         ],
         "xaxis": "x",
         "y": [
          136,
          49,
          39,
          38,
          73,
          94,
          126,
          166,
          257,
          906
         ],
         "yaxis": "y"
        }
       ],
       "layout": {
        "barmode": "relative",
        "legend": {
         "title": {
          "text": "Source"
         },
         "tracegroupgap": 0
        },
        "template": {
         "data": {
          "bar": [
           {
            "error_x": {
             "color": "#2a3f5f"
            },
            "error_y": {
             "color": "#2a3f5f"
            },
            "marker": {
             "line": {
              "color": "#E5ECF6",
              "width": 0.5
             },
             "pattern": {
              "fillmode": "overlay",
              "size": 10,
              "solidity": 0.2
             }
            },
            "type": "bar"
           }
          ],
          "barpolar": [
           {
            "marker": {
             "line": {
              "color": "#E5ECF6",
              "width": 0.5
             },
             "pattern": {
              "fillmode": "overlay",
              "size": 10,
              "solidity": 0.2
             }
            },
            "type": "barpolar"
           }
          ],
          "carpet": [
           {
            "aaxis": {
             "endlinecolor": "#2a3f5f",
             "gridcolor": "white",
             "linecolor": "white",
             "minorgridcolor": "white",
             "startlinecolor": "#2a3f5f"
            },
            "baxis": {
             "endlinecolor": "#2a3f5f",
             "gridcolor": "white",
             "linecolor": "white",
             "minorgridcolor": "white",
             "startlinecolor": "#2a3f5f"
            },
            "type": "carpet"
           }
          ],
          "choropleth": [
           {
            "colorbar": {
             "outlinewidth": 0,
             "ticks": ""
            },
            "type": "choropleth"
           }
          ],
          "contour": [
           {
            "colorbar": {
             "outlinewidth": 0,
             "ticks": ""
            },
            "colorscale": [
             [
              0,
              "#0d0887"
             ],
             [
              0.1111111111111111,
              "#46039f"
             ],
             [
              0.2222222222222222,
              "#7201a8"
             ],
             [
              0.3333333333333333,
              "#9c179e"
             ],
             [
              0.4444444444444444,
              "#bd3786"
             ],
             [
              0.5555555555555556,
              "#d8576b"
             ],
             [
              0.6666666666666666,
              "#ed7953"
             ],
             [
              0.7777777777777778,
              "#fb9f3a"
             ],
             [
              0.8888888888888888,
              "#fdca26"
             ],
             [
              1,
              "#f0f921"
             ]
            ],
            "type": "contour"
           }
          ],
          "contourcarpet": [
           {
            "colorbar": {
             "outlinewidth": 0,
             "ticks": ""
            },
            "type": "contourcarpet"
           }
          ],
          "heatmap": [
           {
            "colorbar": {
             "outlinewidth": 0,
             "ticks": ""
            },
            "colorscale": [
             [
              0,
              "#0d0887"
             ],
             [
              0.1111111111111111,
              "#46039f"
             ],
             [
              0.2222222222222222,
              "#7201a8"
             ],
             [
              0.3333333333333333,
              "#9c179e"
             ],
             [
              0.4444444444444444,
              "#bd3786"
             ],
             [
              0.5555555555555556,
              "#d8576b"
             ],
             [
              0.6666666666666666,
              "#ed7953"
             ],
             [
              0.7777777777777778,
              "#fb9f3a"
             ],
             [
              0.8888888888888888,
              "#fdca26"
             ],
             [
              1,
              "#f0f921"
             ]
            ],
            "type": "heatmap"
           }
          ],
          "heatmapgl": [
           {
            "colorbar": {
             "outlinewidth": 0,
             "ticks": ""
            },
            "colorscale": [
             [
              0,
              "#0d0887"
             ],
             [
              0.1111111111111111,
              "#46039f"
             ],
             [
              0.2222222222222222,
              "#7201a8"
             ],
             [
              0.3333333333333333,
              "#9c179e"
             ],
             [
              0.4444444444444444,
              "#bd3786"
             ],
             [
              0.5555555555555556,
              "#d8576b"
             ],
             [
              0.6666666666666666,
              "#ed7953"
             ],
             [
              0.7777777777777778,
              "#fb9f3a"
             ],
             [
              0.8888888888888888,
              "#fdca26"
             ],
             [
              1,
              "#f0f921"
             ]
            ],
            "type": "heatmapgl"
           }
          ],
          "histogram": [
           {
            "marker": {
             "pattern": {
              "fillmode": "overlay",
              "size": 10,
              "solidity": 0.2
             }
            },
            "type": "histogram"
           }
          ],
          "histogram2d": [
           {
            "colorbar": {
             "outlinewidth": 0,
             "ticks": ""
            },
            "colorscale": [
             [
              0,
              "#0d0887"
             ],
             [
              0.1111111111111111,
              "#46039f"
             ],
             [
              0.2222222222222222,
              "#7201a8"
             ],
             [
              0.3333333333333333,
              "#9c179e"
             ],
             [
              0.4444444444444444,
              "#bd3786"
             ],
             [
              0.5555555555555556,
              "#d8576b"
             ],
             [
              0.6666666666666666,
              "#ed7953"
             ],
             [
              0.7777777777777778,
              "#fb9f3a"
             ],
             [
              0.8888888888888888,
              "#fdca26"
             ],
             [
              1,
              "#f0f921"
             ]
            ],
            "type": "histogram2d"
           }
          ],
          "histogram2dcontour": [
           {
            "colorbar": {
             "outlinewidth": 0,
             "ticks": ""
            },
            "colorscale": [
             [
              0,
              "#0d0887"
             ],
             [
              0.1111111111111111,
              "#46039f"
             ],
             [
              0.2222222222222222,
              "#7201a8"
             ],
             [
              0.3333333333333333,
              "#9c179e"
             ],
             [
              0.4444444444444444,
              "#bd3786"
             ],
             [
              0.5555555555555556,
              "#d8576b"
             ],
             [
              0.6666666666666666,
              "#ed7953"
             ],
             [
              0.7777777777777778,
              "#fb9f3a"
             ],
             [
              0.8888888888888888,
              "#fdca26"
             ],
             [
              1,
              "#f0f921"
             ]
            ],
            "type": "histogram2dcontour"
           }
          ],
          "mesh3d": [
           {
            "colorbar": {
             "outlinewidth": 0,
             "ticks": ""
            },
            "type": "mesh3d"
           }
          ],
          "parcoords": [
           {
            "line": {
             "colorbar": {
              "outlinewidth": 0,
              "ticks": ""
             }
            },
            "type": "parcoords"
           }
          ],
          "pie": [
           {
            "automargin": true,
            "type": "pie"
           }
          ],
          "scatter": [
           {
            "fillpattern": {
             "fillmode": "overlay",
             "size": 10,
             "solidity": 0.2
            },
            "type": "scatter"
           }
          ],
          "scatter3d": [
           {
            "line": {
             "colorbar": {
              "outlinewidth": 0,
              "ticks": ""
             }
            },
            "marker": {
             "colorbar": {
              "outlinewidth": 0,
              "ticks": ""
             }
            },
            "type": "scatter3d"
           }
          ],
          "scattercarpet": [
           {
            "marker": {
             "colorbar": {
              "outlinewidth": 0,
              "ticks": ""
             }
            },
            "type": "scattercarpet"
           }
          ],
          "scattergeo": [
           {
            "marker": {
             "colorbar": {
              "outlinewidth": 0,
              "ticks": ""
             }
            },
            "type": "scattergeo"
           }
          ],
          "scattergl": [
           {
            "marker": {
             "colorbar": {
              "outlinewidth": 0,
              "ticks": ""
             }
            },
            "type": "scattergl"
           }
          ],
          "scattermapbox": [
           {
            "marker": {
             "colorbar": {
              "outlinewidth": 0,
              "ticks": ""
             }
            },
            "type": "scattermapbox"
           }
          ],
          "scatterpolar": [
           {
            "marker": {
             "colorbar": {
              "outlinewidth": 0,
              "ticks": ""
             }
            },
            "type": "scatterpolar"
           }
          ],
          "scatterpolargl": [
           {
            "marker": {
             "colorbar": {
              "outlinewidth": 0,
              "ticks": ""
             }
            },
            "type": "scatterpolargl"
           }
          ],
          "scatterternary": [
           {
            "marker": {
             "colorbar": {
              "outlinewidth": 0,
              "ticks": ""
             }
            },
            "type": "scatterternary"
           }
          ],
          "surface": [
           {
            "colorbar": {
             "outlinewidth": 0,
             "ticks": ""
            },
            "colorscale": [
             [
              0,
              "#0d0887"
             ],
             [
              0.1111111111111111,
              "#46039f"
             ],
             [
              0.2222222222222222,
              "#7201a8"
             ],
             [
              0.3333333333333333,
              "#9c179e"
             ],
             [
              0.4444444444444444,
              "#bd3786"
             ],
             [
              0.5555555555555556,
              "#d8576b"
             ],
             [
              0.6666666666666666,
              "#ed7953"
             ],
             [
              0.7777777777777778,
              "#fb9f3a"
             ],
             [
              0.8888888888888888,
              "#fdca26"
             ],
             [
              1,
              "#f0f921"
             ]
            ],
            "type": "surface"
           }
          ],
          "table": [
           {
            "cells": {
             "fill": {
              "color": "#EBF0F8"
             },
             "line": {
              "color": "white"
             }
            },
            "header": {
             "fill": {
              "color": "#C8D4E3"
             },
             "line": {
              "color": "white"
             }
            },
            "type": "table"
           }
          ]
         },
         "layout": {
          "annotationdefaults": {
           "arrowcolor": "#2a3f5f",
           "arrowhead": 0,
           "arrowwidth": 1
          },
          "autotypenumbers": "strict",
          "coloraxis": {
           "colorbar": {
            "outlinewidth": 0,
            "ticks": ""
           }
          },
          "colorscale": {
           "diverging": [
            [
             0,
             "#8e0152"
            ],
            [
             0.1,
             "#c51b7d"
            ],
            [
             0.2,
             "#de77ae"
            ],
            [
             0.3,
             "#f1b6da"
            ],
            [
             0.4,
             "#fde0ef"
            ],
            [
             0.5,
             "#f7f7f7"
            ],
            [
             0.6,
             "#e6f5d0"
            ],
            [
             0.7,
             "#b8e186"
            ],
            [
             0.8,
             "#7fbc41"
            ],
            [
             0.9,
             "#4d9221"
            ],
            [
             1,
             "#276419"
            ]
           ],
           "sequential": [
            [
             0,
             "#0d0887"
            ],
            [
             0.1111111111111111,
             "#46039f"
            ],
            [
             0.2222222222222222,
             "#7201a8"
            ],
            [
             0.3333333333333333,
             "#9c179e"
            ],
            [
             0.4444444444444444,
             "#bd3786"
            ],
            [
             0.5555555555555556,
             "#d8576b"
            ],
            [
             0.6666666666666666,
             "#ed7953"
            ],
            [
             0.7777777777777778,
             "#fb9f3a"
            ],
            [
             0.8888888888888888,
             "#fdca26"
            ],
            [
             1,
             "#f0f921"
            ]
           ],
           "sequentialminus": [
            [
             0,
             "#0d0887"
            ],
            [
             0.1111111111111111,
             "#46039f"
            ],
            [
             0.2222222222222222,
             "#7201a8"
            ],
            [
             0.3333333333333333,
             "#9c179e"
            ],
            [
             0.4444444444444444,
             "#bd3786"
            ],
            [
             0.5555555555555556,
             "#d8576b"
            ],
            [
             0.6666666666666666,
             "#ed7953"
            ],
            [
             0.7777777777777778,
             "#fb9f3a"
            ],
            [
             0.8888888888888888,
             "#fdca26"
            ],
            [
             1,
             "#f0f921"
            ]
           ]
          },
          "colorway": [
           "#636efa",
           "#EF553B",
           "#00cc96",
           "#ab63fa",
           "#FFA15A",
           "#19d3f3",
           "#FF6692",
           "#B6E880",
           "#FF97FF",
           "#FECB52"
          ],
          "font": {
           "color": "#2a3f5f"
          },
          "geo": {
           "bgcolor": "white",
           "lakecolor": "white",
           "landcolor": "#E5ECF6",
           "showlakes": true,
           "showland": true,
           "subunitcolor": "white"
          },
          "hoverlabel": {
           "align": "left"
          },
          "hovermode": "closest",
          "mapbox": {
           "style": "light"
          },
          "paper_bgcolor": "white",
          "plot_bgcolor": "#E5ECF6",
          "polar": {
           "angularaxis": {
            "gridcolor": "white",
            "linecolor": "white",
            "ticks": ""
           },
           "bgcolor": "#E5ECF6",
           "radialaxis": {
            "gridcolor": "white",
            "linecolor": "white",
            "ticks": ""
           }
          },
          "scene": {
           "xaxis": {
            "backgroundcolor": "#E5ECF6",
            "gridcolor": "white",
            "gridwidth": 2,
            "linecolor": "white",
            "showbackground": true,
            "ticks": "",
            "zerolinecolor": "white"
           },
           "yaxis": {
            "backgroundcolor": "#E5ECF6",
            "gridcolor": "white",
            "gridwidth": 2,
            "linecolor": "white",
            "showbackground": true,
            "ticks": "",
            "zerolinecolor": "white"
           },
           "zaxis": {
            "backgroundcolor": "#E5ECF6",
            "gridcolor": "white",
            "gridwidth": 2,
            "linecolor": "white",
            "showbackground": true,
            "ticks": "",
            "zerolinecolor": "white"
           }
          },
          "shapedefaults": {
           "line": {
            "color": "#2a3f5f"
           }
          },
          "ternary": {
           "aaxis": {
            "gridcolor": "white",
            "linecolor": "white",
            "ticks": ""
           },
           "baxis": {
            "gridcolor": "white",
            "linecolor": "white",
            "ticks": ""
           },
           "bgcolor": "#E5ECF6",
           "caxis": {
            "gridcolor": "white",
            "linecolor": "white",
            "ticks": ""
           }
          },
          "title": {
           "x": 0.05
          },
          "xaxis": {
           "automargin": true,
           "gridcolor": "white",
           "linecolor": "white",
           "ticks": "",
           "title": {
            "standoff": 15
           },
           "zerolinecolor": "white",
           "zerolinewidth": 2
          },
          "yaxis": {
           "automargin": true,
           "gridcolor": "white",
           "linecolor": "white",
           "ticks": "",
           "title": {
            "standoff": 15
           },
           "zerolinecolor": "white",
           "zerolinewidth": 2
          }
         }
        },
        "title": {
         "text": "critic score distribution"
        },
        "xaxis": {
         "anchor": "y",
         "domain": [
          0,
          1
         ],
         "title": {
          "text": "critic score"
         }
        },
        "yaxis": {
         "anchor": "x",
         "domain": [
          0,
          1
         ],
         "title": {
          "text": "Count"
         }
        }
       }
      },
      "text/html": [
       "<div>                            <div id=\"6685012d-dea0-4970-9988-a8b303d4ef27\" class=\"plotly-graph-div\" style=\"height:525px; width:100%;\"></div>            <script type=\"text/javascript\">                require([\"plotly\"], function(Plotly) {                    window.PLOTLYENV=window.PLOTLYENV || {};                                    if (document.getElementById(\"6685012d-dea0-4970-9988-a8b303d4ef27\")) {                    Plotly.newPlot(                        \"6685012d-dea0-4970-9988-a8b303d4ef27\",                        [{\"alignmentgroup\":\"True\",\"hovertemplate\":\"Source=Source<br>critic score=%{x}<br>Count=%{y}<extra></extra>\",\"legendgroup\":\"Source\",\"marker\":{\"color\":\"#636efa\",\"pattern\":{\"shape\":\"\"}},\"name\":\"Source\",\"offsetgroup\":\"Source\",\"orientation\":\"v\",\"showlegend\":true,\"textposition\":\"auto\",\"x\":[\"0.0\",\"0.1\",\"0.2\",\"0.3\",\"0.4\",\"0.5\",\"0.6\",\"0.7\",\"0.8\",\"0.9\"],\"xaxis\":\"x\",\"y\":[136,49,39,38,73,94,126,166,257,906],\"yaxis\":\"y\",\"type\":\"bar\"}],                        {\"template\":{\"data\":{\"histogram2dcontour\":[{\"type\":\"histogram2dcontour\",\"colorbar\":{\"outlinewidth\":0,\"ticks\":\"\"},\"colorscale\":[[0.0,\"#0d0887\"],[0.1111111111111111,\"#46039f\"],[0.2222222222222222,\"#7201a8\"],[0.3333333333333333,\"#9c179e\"],[0.4444444444444444,\"#bd3786\"],[0.5555555555555556,\"#d8576b\"],[0.6666666666666666,\"#ed7953\"],[0.7777777777777778,\"#fb9f3a\"],[0.8888888888888888,\"#fdca26\"],[1.0,\"#f0f921\"]]}],\"choropleth\":[{\"type\":\"choropleth\",\"colorbar\":{\"outlinewidth\":0,\"ticks\":\"\"}}],\"histogram2d\":[{\"type\":\"histogram2d\",\"colorbar\":{\"outlinewidth\":0,\"ticks\":\"\"},\"colorscale\":[[0.0,\"#0d0887\"],[0.1111111111111111,\"#46039f\"],[0.2222222222222222,\"#7201a8\"],[0.3333333333333333,\"#9c179e\"],[0.4444444444444444,\"#bd3786\"],[0.5555555555555556,\"#d8576b\"],[0.6666666666666666,\"#ed7953\"],[0.7777777777777778,\"#fb9f3a\"],[0.8888888888888888,\"#fdca26\"],[1.0,\"#f0f921\"]]}],\"heatmap\":[{\"type\":\"heatmap\",\"colorbar\":{\"outlinewidth\":0,\"ticks\":\"\"},\"colorscale\":[[0.0,\"#0d0887\"],[0.1111111111111111,\"#46039f\"],[0.2222222222222222,\"#7201a8\"],[0.3333333333333333,\"#9c179e\"],[0.4444444444444444,\"#bd3786\"],[0.5555555555555556,\"#d8576b\"],[0.6666666666666666,\"#ed7953\"],[0.7777777777777778,\"#fb9f3a\"],[0.8888888888888888,\"#fdca26\"],[1.0,\"#f0f921\"]]}],\"heatmapgl\":[{\"type\":\"heatmapgl\",\"colorbar\":{\"outlinewidth\":0,\"ticks\":\"\"},\"colorscale\":[[0.0,\"#0d0887\"],[0.1111111111111111,\"#46039f\"],[0.2222222222222222,\"#7201a8\"],[0.3333333333333333,\"#9c179e\"],[0.4444444444444444,\"#bd3786\"],[0.5555555555555556,\"#d8576b\"],[0.6666666666666666,\"#ed7953\"],[0.7777777777777778,\"#fb9f3a\"],[0.8888888888888888,\"#fdca26\"],[1.0,\"#f0f921\"]]}],\"contourcarpet\":[{\"type\":\"contourcarpet\",\"colorbar\":{\"outlinewidth\":0,\"ticks\":\"\"}}],\"contour\":[{\"type\":\"contour\",\"colorbar\":{\"outlinewidth\":0,\"ticks\":\"\"},\"colorscale\":[[0.0,\"#0d0887\"],[0.1111111111111111,\"#46039f\"],[0.2222222222222222,\"#7201a8\"],[0.3333333333333333,\"#9c179e\"],[0.4444444444444444,\"#bd3786\"],[0.5555555555555556,\"#d8576b\"],[0.6666666666666666,\"#ed7953\"],[0.7777777777777778,\"#fb9f3a\"],[0.8888888888888888,\"#fdca26\"],[1.0,\"#f0f921\"]]}],\"surface\":[{\"type\":\"surface\",\"colorbar\":{\"outlinewidth\":0,\"ticks\":\"\"},\"colorscale\":[[0.0,\"#0d0887\"],[0.1111111111111111,\"#46039f\"],[0.2222222222222222,\"#7201a8\"],[0.3333333333333333,\"#9c179e\"],[0.4444444444444444,\"#bd3786\"],[0.5555555555555556,\"#d8576b\"],[0.6666666666666666,\"#ed7953\"],[0.7777777777777778,\"#fb9f3a\"],[0.8888888888888888,\"#fdca26\"],[1.0,\"#f0f921\"]]}],\"mesh3d\":[{\"type\":\"mesh3d\",\"colorbar\":{\"outlinewidth\":0,\"ticks\":\"\"}}],\"scatter\":[{\"fillpattern\":{\"fillmode\":\"overlay\",\"size\":10,\"solidity\":0.2},\"type\":\"scatter\"}],\"parcoords\":[{\"type\":\"parcoords\",\"line\":{\"colorbar\":{\"outlinewidth\":0,\"ticks\":\"\"}}}],\"scatterpolargl\":[{\"type\":\"scatterpolargl\",\"marker\":{\"colorbar\":{\"outlinewidth\":0,\"ticks\":\"\"}}}],\"bar\":[{\"error_x\":{\"color\":\"#2a3f5f\"},\"error_y\":{\"color\":\"#2a3f5f\"},\"marker\":{\"line\":{\"color\":\"#E5ECF6\",\"width\":0.5},\"pattern\":{\"fillmode\":\"overlay\",\"size\":10,\"solidity\":0.2}},\"type\":\"bar\"}],\"scattergeo\":[{\"type\":\"scattergeo\",\"marker\":{\"colorbar\":{\"outlinewidth\":0,\"ticks\":\"\"}}}],\"scatterpolar\":[{\"type\":\"scatterpolar\",\"marker\":{\"colorbar\":{\"outlinewidth\":0,\"ticks\":\"\"}}}],\"histogram\":[{\"marker\":{\"pattern\":{\"fillmode\":\"overlay\",\"size\":10,\"solidity\":0.2}},\"type\":\"histogram\"}],\"scattergl\":[{\"type\":\"scattergl\",\"marker\":{\"colorbar\":{\"outlinewidth\":0,\"ticks\":\"\"}}}],\"scatter3d\":[{\"type\":\"scatter3d\",\"line\":{\"colorbar\":{\"outlinewidth\":0,\"ticks\":\"\"}},\"marker\":{\"colorbar\":{\"outlinewidth\":0,\"ticks\":\"\"}}}],\"scattermapbox\":[{\"type\":\"scattermapbox\",\"marker\":{\"colorbar\":{\"outlinewidth\":0,\"ticks\":\"\"}}}],\"scatterternary\":[{\"type\":\"scatterternary\",\"marker\":{\"colorbar\":{\"outlinewidth\":0,\"ticks\":\"\"}}}],\"scattercarpet\":[{\"type\":\"scattercarpet\",\"marker\":{\"colorbar\":{\"outlinewidth\":0,\"ticks\":\"\"}}}],\"carpet\":[{\"aaxis\":{\"endlinecolor\":\"#2a3f5f\",\"gridcolor\":\"white\",\"linecolor\":\"white\",\"minorgridcolor\":\"white\",\"startlinecolor\":\"#2a3f5f\"},\"baxis\":{\"endlinecolor\":\"#2a3f5f\",\"gridcolor\":\"white\",\"linecolor\":\"white\",\"minorgridcolor\":\"white\",\"startlinecolor\":\"#2a3f5f\"},\"type\":\"carpet\"}],\"table\":[{\"cells\":{\"fill\":{\"color\":\"#EBF0F8\"},\"line\":{\"color\":\"white\"}},\"header\":{\"fill\":{\"color\":\"#C8D4E3\"},\"line\":{\"color\":\"white\"}},\"type\":\"table\"}],\"barpolar\":[{\"marker\":{\"line\":{\"color\":\"#E5ECF6\",\"width\":0.5},\"pattern\":{\"fillmode\":\"overlay\",\"size\":10,\"solidity\":0.2}},\"type\":\"barpolar\"}],\"pie\":[{\"automargin\":true,\"type\":\"pie\"}]},\"layout\":{\"autotypenumbers\":\"strict\",\"colorway\":[\"#636efa\",\"#EF553B\",\"#00cc96\",\"#ab63fa\",\"#FFA15A\",\"#19d3f3\",\"#FF6692\",\"#B6E880\",\"#FF97FF\",\"#FECB52\"],\"font\":{\"color\":\"#2a3f5f\"},\"hovermode\":\"closest\",\"hoverlabel\":{\"align\":\"left\"},\"paper_bgcolor\":\"white\",\"plot_bgcolor\":\"#E5ECF6\",\"polar\":{\"bgcolor\":\"#E5ECF6\",\"angularaxis\":{\"gridcolor\":\"white\",\"linecolor\":\"white\",\"ticks\":\"\"},\"radialaxis\":{\"gridcolor\":\"white\",\"linecolor\":\"white\",\"ticks\":\"\"}},\"ternary\":{\"bgcolor\":\"#E5ECF6\",\"aaxis\":{\"gridcolor\":\"white\",\"linecolor\":\"white\",\"ticks\":\"\"},\"baxis\":{\"gridcolor\":\"white\",\"linecolor\":\"white\",\"ticks\":\"\"},\"caxis\":{\"gridcolor\":\"white\",\"linecolor\":\"white\",\"ticks\":\"\"}},\"coloraxis\":{\"colorbar\":{\"outlinewidth\":0,\"ticks\":\"\"}},\"colorscale\":{\"sequential\":[[0.0,\"#0d0887\"],[0.1111111111111111,\"#46039f\"],[0.2222222222222222,\"#7201a8\"],[0.3333333333333333,\"#9c179e\"],[0.4444444444444444,\"#bd3786\"],[0.5555555555555556,\"#d8576b\"],[0.6666666666666666,\"#ed7953\"],[0.7777777777777778,\"#fb9f3a\"],[0.8888888888888888,\"#fdca26\"],[1.0,\"#f0f921\"]],\"sequentialminus\":[[0.0,\"#0d0887\"],[0.1111111111111111,\"#46039f\"],[0.2222222222222222,\"#7201a8\"],[0.3333333333333333,\"#9c179e\"],[0.4444444444444444,\"#bd3786\"],[0.5555555555555556,\"#d8576b\"],[0.6666666666666666,\"#ed7953\"],[0.7777777777777778,\"#fb9f3a\"],[0.8888888888888888,\"#fdca26\"],[1.0,\"#f0f921\"]],\"diverging\":[[0,\"#8e0152\"],[0.1,\"#c51b7d\"],[0.2,\"#de77ae\"],[0.3,\"#f1b6da\"],[0.4,\"#fde0ef\"],[0.5,\"#f7f7f7\"],[0.6,\"#e6f5d0\"],[0.7,\"#b8e186\"],[0.8,\"#7fbc41\"],[0.9,\"#4d9221\"],[1,\"#276419\"]]},\"xaxis\":{\"gridcolor\":\"white\",\"linecolor\":\"white\",\"ticks\":\"\",\"title\":{\"standoff\":15},\"zerolinecolor\":\"white\",\"automargin\":true,\"zerolinewidth\":2},\"yaxis\":{\"gridcolor\":\"white\",\"linecolor\":\"white\",\"ticks\":\"\",\"title\":{\"standoff\":15},\"zerolinecolor\":\"white\",\"automargin\":true,\"zerolinewidth\":2},\"scene\":{\"xaxis\":{\"backgroundcolor\":\"#E5ECF6\",\"gridcolor\":\"white\",\"linecolor\":\"white\",\"showbackground\":true,\"ticks\":\"\",\"zerolinecolor\":\"white\",\"gridwidth\":2},\"yaxis\":{\"backgroundcolor\":\"#E5ECF6\",\"gridcolor\":\"white\",\"linecolor\":\"white\",\"showbackground\":true,\"ticks\":\"\",\"zerolinecolor\":\"white\",\"gridwidth\":2},\"zaxis\":{\"backgroundcolor\":\"#E5ECF6\",\"gridcolor\":\"white\",\"linecolor\":\"white\",\"showbackground\":true,\"ticks\":\"\",\"zerolinecolor\":\"white\",\"gridwidth\":2}},\"shapedefaults\":{\"line\":{\"color\":\"#2a3f5f\"}},\"annotationdefaults\":{\"arrowcolor\":\"#2a3f5f\",\"arrowhead\":0,\"arrowwidth\":1},\"geo\":{\"bgcolor\":\"white\",\"landcolor\":\"#E5ECF6\",\"subunitcolor\":\"white\",\"showland\":true,\"showlakes\":true,\"lakecolor\":\"white\"},\"title\":{\"x\":0.05},\"mapbox\":{\"style\":\"light\"}}},\"xaxis\":{\"anchor\":\"y\",\"domain\":[0.0,1.0],\"title\":{\"text\":\"critic score\"}},\"yaxis\":{\"anchor\":\"x\",\"domain\":[0.0,1.0],\"title\":{\"text\":\"Count\"}},\"legend\":{\"title\":{\"text\":\"Source\"},\"tracegroupgap\":0},\"title\":{\"text\":\"critic score distribution\"},\"barmode\":\"relative\"},                        {\"responsive\": true}                    ).then(function(){\n",
       "                            \n",
       "var gd = document.getElementById('6685012d-dea0-4970-9988-a8b303d4ef27');\n",
       "var x = new MutationObserver(function (mutations, observer) {{\n",
       "        var display = window.getComputedStyle(gd).display;\n",
       "        if (!display || display === 'none') {{\n",
       "            console.log([gd, 'removed!']);\n",
       "            Plotly.purge(gd);\n",
       "            observer.disconnect();\n",
       "        }}\n",
       "}});\n",
       "\n",
       "// Listen for the removal of the full notebook cells\n",
       "var notebookContainer = gd.closest('#notebook-container');\n",
       "if (notebookContainer) {{\n",
       "    x.observe(notebookContainer, {childList: true});\n",
       "}}\n",
       "\n",
       "// Listen for the clearing of the current output cell\n",
       "var outputEl = gd.closest('.output');\n",
       "if (outputEl) {{\n",
       "    x.observe(outputEl, {childList: true});\n",
       "}}\n",
       "\n",
       "                        })                };                });            </script>        </div>"
      ]
     },
     "metadata": {},
     "output_type": "display_data"
    }
   ],
   "source": [
    "from spot.visualization import visualize_counts\n",
    "\n",
    "\n",
    "def display_score_dist(score_counts: Counter):\n",
    "    display(visualize_counts(score_counts, \"critic score\", top_k=score_counts.keys()))\n",
    "\n",
    "\n",
    "display_score_dist(delta_stats[\"diff_scores_distr\"])\n",
    "display_score_dist(delta_stats[\"all_scores_distr\"])\n"
   ]
  },
  {
   "cell_type": "code",
   "execution_count": null,
   "metadata": {},
   "outputs": [
    {
     "data": {
      "text/html": [
       "<!DOCTYPE html>\n",
       "<html lang=\"en\">\n",
       "<head>\n",
       "    <meta charset=\"UTF-8\">\n",
       "    <title>IPyWidget export</title>\n",
       "</head>\n",
       "<body>\n",
       "\n",
       "\n",
       "<!-- Load require.js. Delete this if your page already loads require.js -->\n",
       "<script src=\"https://cdnjs.cloudflare.com/ajax/libs/require.js/2.3.4/require.min.js\" integrity=\"sha256-Ae2Vz/4ePdIu6ZyI/5ZGsYnb+m0JlOmKPjt6XZ9JJkA=\" crossorigin=\"anonymous\"></script>\n",
       "<script src=\"https://unpkg.com/@jupyter-widgets/html-manager@^0.20.1/dist/embed-amd.js\" crossorigin=\"anonymous\"></script>\n",
       "\n",
       "<script type=\"application/vnd.jupyter.widget-state+json\">\n",
       "{\n",
       "  \"version_major\": 2,\n",
       "  \"version_minor\": 0,\n",
       "  \"state\": {\n",
       "    \"0adc8509b12246d39d5c6f6140f6d97f\": {\n",
       "      \"model_name\": \"LayoutModel\",\n",
       "      \"model_module\": \"@jupyter-widgets/base\",\n",
       "      \"model_module_version\": \"1.2.0\",\n",
       "      \"state\": {}\n",
       "    },\n",
       "    \"23b8c3efef2e45c7a5948f33f78d4221\": {\n",
       "      \"model_name\": \"DescriptionStyleModel\",\n",
       "      \"model_module\": \"@jupyter-widgets/controls\",\n",
       "      \"model_module_version\": \"1.5.0\",\n",
       "      \"state\": {}\n",
       "    },\n",
       "    \"6fc774181aa34060bbc971de5b987485\": {\n",
       "      \"model_name\": \"HTMLModel\",\n",
       "      \"model_module\": \"@jupyter-widgets/controls\",\n",
       "      \"model_module_version\": \"1.5.0\",\n",
       "      \"state\": {\n",
       "        \"_dom_classes\": [],\n",
       "        \"layout\": \"IPY_MODEL_0adc8509b12246d39d5c6f6140f6d97f\",\n",
       "        \"style\": \"IPY_MODEL_23b8c3efef2e45c7a5948f33f78d4221\",\n",
       "        \"value\": \"<div style='white-space: pre-wrap; line-height: 1.2; font-family: monospace, monospace;'>By rank: ...\\nBy score: ...\\n</div>\"\n",
       "      }\n",
       "    },\n",
       "    \"19ecee06424d4aefbb124c14ad13598f\": {\n",
       "      \"model_name\": \"LayoutModel\",\n",
       "      \"model_module\": \"@jupyter-widgets/base\",\n",
       "      \"model_module_version\": \"1.2.0\",\n",
       "      \"state\": {}\n",
       "    },\n",
       "    \"bb4db7e7bae340578aa64612e5a0c473\": {\n",
       "      \"model_name\": \"DescriptionStyleModel\",\n",
       "      \"model_module\": \"@jupyter-widgets/controls\",\n",
       "      \"model_module_version\": \"1.5.0\",\n",
       "      \"state\": {}\n",
       "    },\n",
       "    \"180654fe2b734f9da67fb7541cc0ab38\": {\n",
       "      \"model_name\": \"HTMLModel\",\n",
       "      \"model_module\": \"@jupyter-widgets/controls\",\n",
       "      \"model_module_version\": \"1.5.0\",\n",
       "      \"state\": {\n",
       "        \"_dom_classes\": [],\n",
       "        \"layout\": \"IPY_MODEL_19ecee06424d4aefbb124c14ad13598f\",\n",
       "        \"style\": \"IPY_MODEL_bb4db7e7bae340578aa64612e5a0c473\",\n",
       "        \"value\": \"<div style='white-space: pre-wrap; line-height: 1.2; font-family: monospace, monospace;'>By rank:\\n   0: 65.34% (count=1.9k)\\n   1: 62.15% (count=1.9k)\\n   2: 60.88% (count=1.9k)\\n   3: 60.08% (count=1.9k)\\n   4: 60.03% (count=1.9k)\\n   5: 59.39% (count=1.9k)\\n   6: 59.08% (count=1.9k)\\n   7: 59.45% (count=1.9k)\\n   8: 59.82% (count=1.9k)\\n   9: 58.76% (count=1.9k)\\n   10: 58.65% (count=1.9k)\\n   11: 59.39% (count=1.9k)\\n   12: 59.71% (count=1.9k)\\n   13: 58.23% (count=1.9k)\\n   14: 59.02% (count=1.9k)\\n   15: 59.24% (count=1.9k)\\nBy score:\\n   0.0: 13.79% (count=3.8k)\\n   0.1: 24.00% (count=1.1k)\\n   0.2: 22.95% (count=1.1k)\\n   0.3: 26.86% (count=942)\\n   0.4: 29.71% (count=1.5k)\\n   0.5: 33.56% (count=1.8k)\\n   0.6: 46.88% (count=1.9k)\\n   0.7: 67.14% (count=2.4k)\\n   0.8: 70.00% (count=3.1k)\\n   0.9: 88.32% (count=12.5k)\\n</div>\"\n",
       "      }\n",
       "    },\n",
       "    \"b7314ed93b8f4dcca92b9ec0c836b961\": {\n",
       "      \"model_name\": \"LayoutModel\",\n",
       "      \"model_module\": \"@jupyter-widgets/base\",\n",
       "      \"model_module_version\": \"1.2.0\",\n",
       "      \"state\": {}\n",
       "    },\n",
       "    \"78541bdf6c194d778a302b5cbb20ff37\": {\n",
       "      \"model_name\": \"TabModel\",\n",
       "      \"model_module\": \"@jupyter-widgets/controls\",\n",
       "      \"model_module_version\": \"1.5.0\",\n",
       "      \"state\": {\n",
       "        \"_dom_classes\": [],\n",
       "        \"_titles\": {\n",
       "          \"0\": \"Compressed\",\n",
       "          \"1\": \"Expanded\"\n",
       "        },\n",
       "        \"children\": [\n",
       "          \"IPY_MODEL_6fc774181aa34060bbc971de5b987485\",\n",
       "          \"IPY_MODEL_180654fe2b734f9da67fb7541cc0ab38\"\n",
       "        ],\n",
       "        \"layout\": \"IPY_MODEL_b7314ed93b8f4dcca92b9ec0c836b961\"\n",
       "      }\n",
       "    },\n",
       "    \"4e6095858c994a0d84d98324e44bc1ad\": {\n",
       "      \"model_name\": \"LayoutModel\",\n",
       "      \"model_module\": \"@jupyter-widgets/base\",\n",
       "      \"model_module_version\": \"1.2.0\",\n",
       "      \"state\": {}\n",
       "    },\n",
       "    \"6c3bf4ed318b46978bb4fe6ae77be7f1\": {\n",
       "      \"model_name\": \"DescriptionStyleModel\",\n",
       "      \"model_module\": \"@jupyter-widgets/controls\",\n",
       "      \"model_module_version\": \"1.5.0\",\n",
       "      \"state\": {}\n",
       "    },\n",
       "    \"c13d6123eba24c0cbd867d3cf219f4b9\": {\n",
       "      \"model_name\": \"HTMLModel\",\n",
       "      \"model_module\": \"@jupyter-widgets/controls\",\n",
       "      \"model_module_version\": \"1.5.0\",\n",
       "      \"state\": {\n",
       "        \"_dom_classes\": [],\n",
       "        \"layout\": \"IPY_MODEL_4e6095858c994a0d84d98324e44bc1ad\",\n",
       "        \"style\": \"IPY_MODEL_6c3bf4ed318b46978bb4fe6ae77be7f1\",\n",
       "        \"value\": \"<div style='white-space: pre-wrap; line-height: 1.2; font-family: monospace, monospace;'>Model acc by rank: ...\\nModel acc by score: ...\\nCritic acc by rank: ...\\nCritic acc by score: ...\\n</div>\"\n",
       "      }\n",
       "    },\n",
       "    \"ebd998d9a0d04ab693c7fde70d8ab54f\": {\n",
       "      \"model_name\": \"LayoutModel\",\n",
       "      \"model_module\": \"@jupyter-widgets/base\",\n",
       "      \"model_module_version\": \"1.2.0\",\n",
       "      \"state\": {}\n",
       "    },\n",
       "    \"abdf968b1804498c965f14920a16f62b\": {\n",
       "      \"model_name\": \"DescriptionStyleModel\",\n",
       "      \"model_module\": \"@jupyter-widgets/controls\",\n",
       "      \"model_module_version\": \"1.5.0\",\n",
       "      \"state\": {}\n",
       "    },\n",
       "    \"568a5fe8828f4253a602e103b1a0482b\": {\n",
       "      \"model_name\": \"HTMLModel\",\n",
       "      \"model_module\": \"@jupyter-widgets/controls\",\n",
       "      \"model_module_version\": \"1.5.0\",\n",
       "      \"state\": {\n",
       "        \"_dom_classes\": [],\n",
       "        \"layout\": \"IPY_MODEL_ebd998d9a0d04ab693c7fde70d8ab54f\",\n",
       "        \"style\": \"IPY_MODEL_abdf968b1804498c965f14920a16f62b\",\n",
       "        \"value\": \"<div style='white-space: pre-wrap; line-height: 1.2; font-family: monospace, monospace;'>Model acc by rank:\\n   0: 65.34% (count=1.9k)\\n   1: 62.15% (count=1.9k)\\n   2: 60.88% (count=1.9k)\\n   3: 60.08% (count=1.9k)\\n   4: 60.03% (count=1.9k)\\n   5: 59.39% (count=1.9k)\\n   6: 59.08% (count=1.9k)\\n   7: 59.45% (count=1.9k)\\n   8: 59.82% (count=1.9k)\\n   9: 58.76% (count=1.9k)\\n   10: 58.65% (count=1.9k)\\n   11: 59.39% (count=1.9k)\\n   12: 59.71% (count=1.9k)\\n   13: 58.23% (count=1.9k)\\n   14: 59.02% (count=1.9k)\\n   15: 59.24% (count=1.9k)\\nModel acc by score:\\n   0.0: 13.79% (count=3.8k)\\n   0.1: 24.00% (count=1.1k)\\n   0.2: 22.95% (count=1.1k)\\n   0.3: 26.86% (count=942)\\n   0.4: 29.71% (count=1.5k)\\n   0.5: 33.56% (count=1.8k)\\n   0.6: 46.88% (count=1.9k)\\n   0.7: 67.14% (count=2.4k)\\n   0.8: 70.00% (count=3.1k)\\n   0.9: 88.32% (count=12.5k)\\nCritic acc by rank:\\n   0: 76.96% (count=1.9k)\\n   1: 75.96% (count=1.9k)\\n   2: 76.91% (count=1.9k)\\n   3: 76.38% (count=1.9k)\\n   4: 76.43% (count=1.9k)\\n   5: 75.69% (count=1.9k)\\n   6: 76.96% (count=1.9k)\\n   7: 77.55% (count=1.9k)\\n   8: 76.59% (count=1.9k)\\n   9: 76.38% (count=1.9k)\\n   10: 76.22% (count=1.9k)\\n   11: 76.86% (count=1.9k)\\n   12: 76.01% (count=1.9k)\\n   13: 74.42% (count=1.9k)\\n   14: 76.70% (count=1.9k)\\n   15: 77.18% (count=1.9k)\\nCritic acc by score:\\n   0.0: 86.21% (count=3.8k)\\n   0.1: 76.00% (count=1.1k)\\n   0.2: 77.05% (count=1.1k)\\n   0.3: 73.14% (count=942)\\n   0.4: 70.29% (count=1.5k)\\n   0.5: 33.67% (count=1.8k)\\n   0.6: 46.88% (count=1.9k)\\n   0.7: 67.14% (count=2.4k)\\n   0.8: 70.00% (count=3.1k)\\n   0.9: 88.32% (count=12.5k)\\n</div>\"\n",
       "      }\n",
       "    },\n",
       "    \"c4fda012735047a4ba4af4044e88aa2a\": {\n",
       "      \"model_name\": \"LayoutModel\",\n",
       "      \"model_module\": \"@jupyter-widgets/base\",\n",
       "      \"model_module_version\": \"1.2.0\",\n",
       "      \"state\": {}\n",
       "    },\n",
       "    \"ced6b3b0d0614d199d61b4f8ca93236b\": {\n",
       "      \"model_name\": \"TabModel\",\n",
       "      \"model_module\": \"@jupyter-widgets/controls\",\n",
       "      \"model_module_version\": \"1.5.0\",\n",
       "      \"state\": {\n",
       "        \"_dom_classes\": [],\n",
       "        \"_titles\": {\n",
       "          \"0\": \"Compressed\",\n",
       "          \"1\": \"Expanded\"\n",
       "        },\n",
       "        \"children\": [\n",
       "          \"IPY_MODEL_c13d6123eba24c0cbd867d3cf219f4b9\",\n",
       "          \"IPY_MODEL_568a5fe8828f4253a602e103b1a0482b\"\n",
       "        ],\n",
       "        \"layout\": \"IPY_MODEL_c4fda012735047a4ba4af4044e88aa2a\"\n",
       "      }\n",
       "    },\n",
       "    \"c6338e92558b46aeab8045dedb50012b\": {\n",
       "      \"model_name\": \"LayoutModel\",\n",
       "      \"model_module\": \"@jupyter-widgets/base\",\n",
       "      \"model_module_version\": \"1.2.0\",\n",
       "      \"state\": {}\n",
       "    },\n",
       "    \"8de16851e2a44cda8910d350312cfc5f\": {\n",
       "      \"model_name\": \"DescriptionStyleModel\",\n",
       "      \"model_module\": \"@jupyter-widgets/controls\",\n",
       "      \"model_module_version\": \"1.5.0\",\n",
       "      \"state\": {}\n",
       "    },\n",
       "    \"bdbeabfe2adb435faac5d3cbd4e96c34\": {\n",
       "      \"model_name\": \"HTMLModel\",\n",
       "      \"model_module\": \"@jupyter-widgets/controls\",\n",
       "      \"model_module_version\": \"1.5.0\",\n",
       "      \"state\": {\n",
       "        \"_dom_classes\": [],\n",
       "        \"layout\": \"IPY_MODEL_c6338e92558b46aeab8045dedb50012b\",\n",
       "        \"style\": \"IPY_MODEL_8de16851e2a44cda8910d350312cfc5f\",\n",
       "        \"value\": \"<div style='white-space: pre-wrap; line-height: 1.2; font-family: monospace, monospace;'>Model acc by rank: ...\\nModel acc by score: ...\\nCritic acc by rank: ...\\nCritic acc by score: ...\\n</div>\"\n",
       "      }\n",
       "    },\n",
       "    \"cebc1b7b835a4fbfbedc32f8b365efa4\": {\n",
       "      \"model_name\": \"LayoutModel\",\n",
       "      \"model_module\": \"@jupyter-widgets/base\",\n",
       "      \"model_module_version\": \"1.2.0\",\n",
       "      \"state\": {}\n",
       "    },\n",
       "    \"ef3e1a3a87ee479eb5fe245281e75169\": {\n",
       "      \"model_name\": \"DescriptionStyleModel\",\n",
       "      \"model_module\": \"@jupyter-widgets/controls\",\n",
       "      \"model_module_version\": \"1.5.0\",\n",
       "      \"state\": {}\n",
       "    },\n",
       "    \"4e933fb103c3487da929cf71eb010147\": {\n",
       "      \"model_name\": \"HTMLModel\",\n",
       "      \"model_module\": \"@jupyter-widgets/controls\",\n",
       "      \"model_module_version\": \"1.5.0\",\n",
       "      \"state\": {\n",
       "        \"_dom_classes\": [],\n",
       "        \"layout\": \"IPY_MODEL_cebc1b7b835a4fbfbedc32f8b365efa4\",\n",
       "        \"style\": \"IPY_MODEL_ef3e1a3a87ee479eb5fe245281e75169\",\n",
       "        \"value\": \"<div style='white-space: pre-wrap; line-height: 1.2; font-family: monospace, monospace;'>Model acc by rank:\\n   0: 65.34% (count=1.9k)\\n   1: 62.15% (count=1.9k)\\n   2: 60.88% (count=1.9k)\\n   3: 60.08% (count=1.9k)\\n   4: 60.03% (count=1.9k)\\n   5: 59.39% (count=1.9k)\\n   6: 59.08% (count=1.9k)\\n   7: 59.45% (count=1.9k)\\n   8: 59.82% (count=1.9k)\\n   9: 58.76% (count=1.9k)\\n   10: 58.65% (count=1.9k)\\n   11: 59.39% (count=1.9k)\\n   12: 59.71% (count=1.9k)\\n   13: 58.23% (count=1.9k)\\n   14: 59.02% (count=1.9k)\\n   15: 59.24% (count=1.9k)\\nModel acc by score:\\n   0.0: 9.07% (count=3.1k)\\n   0.05: 32.23% (count=782)\\n   0.1: 22.42% (count=571)\\n   0.15: 25.70% (count=533)\\n   0.2: 25.80% (count=566)\\n   0.25: 19.72% (count=497)\\n   0.3: 27.40% (count=489)\\n   0.35: 26.27% (count=453)\\n   0.4: 31.90% (count=652)\\n   0.45: 28.01% (count=846)\\n   0.5: 35.77% (count=794)\\n   0.55: 31.76% (count=973)\\n   0.6: 40.19% (count=826)\\n   0.65: 52.14% (count=1.1k)\\n   0.7: 61.40% (count=1.1k)\\n   0.75: 72.09% (count=1.3k)\\n   0.8: 70.26% (count=1.5k)\\n   0.85: 69.74% (count=1.6k)\\n   0.9: 74.04% (count=2.4k)\\n   0.95: 91.67% (count=10.1k)\\nCritic acc by rank:\\n   0: 76.96% (count=1.9k)\\n   1: 75.96% (count=1.9k)\\n   2: 76.91% (count=1.9k)\\n   3: 76.38% (count=1.9k)\\n   4: 76.43% (count=1.9k)\\n   5: 75.69% (count=1.9k)\\n   6: 76.96% (count=1.9k)\\n   7: 77.55% (count=1.9k)\\n   8: 76.59% (count=1.9k)\\n   9: 76.38% (count=1.9k)\\n   10: 76.22% (count=1.9k)\\n   11: 76.86% (count=1.9k)\\n   12: 76.01% (count=1.9k)\\n   13: 74.42% (count=1.9k)\\n   14: 76.70% (count=1.9k)\\n   15: 77.18% (count=1.9k)\\nCritic acc by score:\\n   0.0: 90.93% (count=3.1k)\\n   0.05: 67.77% (count=782)\\n   0.1: 77.58% (count=571)\\n   0.15: 74.30% (count=533)\\n   0.2: 74.20% (count=566)\\n   0.25: 80.28% (count=497)\\n   0.3: 72.60% (count=489)\\n   0.35: 73.73% (count=453)\\n   0.4: 68.10% (count=652)\\n   0.45: 71.99% (count=846)\\n   0.5: 36.02% (count=794)\\n   0.55: 31.76% (count=973)\\n   0.6: 40.19% (count=826)\\n   0.65: 52.14% (count=1.1k)\\n   0.7: 61.40% (count=1.1k)\\n   0.75: 72.09% (count=1.3k)\\n   0.8: 70.26% (count=1.5k)\\n   0.85: 69.74% (count=1.6k)\\n   0.9: 74.04% (count=2.4k)\\n   0.95: 91.67% (count=10.1k)\\n</div>\"\n",
       "      }\n",
       "    },\n",
       "    \"20496fe50fdc4ba6adef60bdc822c84c\": {\n",
       "      \"model_name\": \"LayoutModel\",\n",
       "      \"model_module\": \"@jupyter-widgets/base\",\n",
       "      \"model_module_version\": \"1.2.0\",\n",
       "      \"state\": {}\n",
       "    },\n",
       "    \"ff2365ab7bb74427ac22924429664f72\": {\n",
       "      \"model_name\": \"TabModel\",\n",
       "      \"model_module\": \"@jupyter-widgets/controls\",\n",
       "      \"model_module_version\": \"1.5.0\",\n",
       "      \"state\": {\n",
       "        \"_dom_classes\": [],\n",
       "        \"_titles\": {\n",
       "          \"0\": \"Compressed\",\n",
       "          \"1\": \"Expanded\"\n",
       "        },\n",
       "        \"children\": [\n",
       "          \"IPY_MODEL_bdbeabfe2adb435faac5d3cbd4e96c34\",\n",
       "          \"IPY_MODEL_4e933fb103c3487da929cf71eb010147\"\n",
       "        ],\n",
       "        \"layout\": \"IPY_MODEL_20496fe50fdc4ba6adef60bdc822c84c\"\n",
       "      }\n",
       "    },\n",
       "    \"b1e7d739974049689329055800bd0509\": {\n",
       "      \"model_name\": \"LayoutModel\",\n",
       "      \"model_module\": \"@jupyter-widgets/base\",\n",
       "      \"model_module_version\": \"1.2.0\",\n",
       "      \"state\": {}\n",
       "    },\n",
       "    \"bed0906cca844810ad3d7bd896df99ca\": {\n",
       "      \"model_name\": \"DescriptionStyleModel\",\n",
       "      \"model_module\": \"@jupyter-widgets/controls\",\n",
       "      \"model_module_version\": \"1.5.0\",\n",
       "      \"state\": {}\n",
       "    },\n",
       "    \"99247122f1f14d56a21fd5632c07d8cc\": {\n",
       "      \"model_name\": \"HTMLModel\",\n",
       "      \"model_module\": \"@jupyter-widgets/controls\",\n",
       "      \"model_module_version\": \"1.5.0\",\n",
       "      \"state\": {\n",
       "        \"_dom_classes\": [],\n",
       "        \"layout\": \"IPY_MODEL_b1e7d739974049689329055800bd0509\",\n",
       "        \"style\": \"IPY_MODEL_bed0906cca844810ad3d7bd896df99ca\",\n",
       "        \"value\": \"<div style='white-space: pre-wrap; line-height: 1.2; font-family: monospace, monospace;'>Model acc by rank: ...\\nModel acc by score: ...\\nCritic acc by rank: ...\\nCritic acc by score: ...\\n</div>\"\n",
       "      }\n",
       "    },\n",
       "    \"d7ea6c80e61f44eaaeecb242d5a7e18a\": {\n",
       "      \"model_name\": \"LayoutModel\",\n",
       "      \"model_module\": \"@jupyter-widgets/base\",\n",
       "      \"model_module_version\": \"1.2.0\",\n",
       "      \"state\": {}\n",
       "    },\n",
       "    \"a436f2b5529948aeb9e5df5c6c7151fc\": {\n",
       "      \"model_name\": \"DescriptionStyleModel\",\n",
       "      \"model_module\": \"@jupyter-widgets/controls\",\n",
       "      \"model_module_version\": \"1.5.0\",\n",
       "      \"state\": {}\n",
       "    },\n",
       "    \"c7f68cbd20744da8b87710aedcd5bcd8\": {\n",
       "      \"model_name\": \"HTMLModel\",\n",
       "      \"model_module\": \"@jupyter-widgets/controls\",\n",
       "      \"model_module_version\": \"1.5.0\",\n",
       "      \"state\": {\n",
       "        \"_dom_classes\": [],\n",
       "        \"layout\": \"IPY_MODEL_d7ea6c80e61f44eaaeecb242d5a7e18a\",\n",
       "        \"style\": \"IPY_MODEL_a436f2b5529948aeb9e5df5c6c7151fc\",\n",
       "        \"value\": \"<div style='white-space: pre-wrap; line-height: 1.2; font-family: monospace, monospace;'>Model acc by rank:\\n   0: 65.34% (count=1.9k)\\n   1: 62.15% (count=1.9k)\\n   2: 60.88% (count=1.9k)\\n   3: 60.08% (count=1.9k)\\n   4: 60.03% (count=1.9k)\\n   5: 59.39% (count=1.9k)\\n   6: 59.08% (count=1.9k)\\n   7: 59.45% (count=1.9k)\\n   8: 59.82% (count=1.9k)\\n   9: 58.76% (count=1.9k)\\n   10: 58.65% (count=1.9k)\\n   11: 59.39% (count=1.9k)\\n   12: 59.71% (count=1.9k)\\n   13: 58.23% (count=1.9k)\\n   14: 59.02% (count=1.9k)\\n   15: 59.24% (count=1.9k)\\nModel acc by score:\\n   0.000000%: 9.07% (count=3.1k)\\n   10.000000%: 22.42% (count=571)\\n   15.000000%: 25.70% (count=533)\\n   20.000000%: 25.80% (count=566)\\n   25.000000%: 19.72% (count=497)\\n   30.000000%: 27.40% (count=489)\\n   35.000000%: 26.27% (count=453)\\n   40.000000%: 31.90% (count=652)\\n   45.000000%: 28.01% (count=846)\\n   5.000000%: 32.23% (count=782)\\n   50.000000%: 35.77% (count=794)\\n   55.000000%: 31.76% (count=973)\\n   60.000000%: 40.19% (count=826)\\n   65.000000%: 52.14% (count=1.1k)\\n   70.000000%: 61.40% (count=1.1k)\\n   75.000000%: 72.09% (count=1.3k)\\n   80.000000%: 70.26% (count=1.5k)\\n   85.000000%: 69.74% (count=1.6k)\\n   90.000000%: 74.04% (count=2.4k)\\n   95.000000%: 91.67% (count=10.1k)\\nCritic acc by rank:\\n   0: 76.96% (count=1.9k)\\n   1: 75.96% (count=1.9k)\\n   2: 76.91% (count=1.9k)\\n   3: 76.38% (count=1.9k)\\n   4: 76.43% (count=1.9k)\\n   5: 75.69% (count=1.9k)\\n   6: 76.96% (count=1.9k)\\n   7: 77.55% (count=1.9k)\\n   8: 76.59% (count=1.9k)\\n   9: 76.38% (count=1.9k)\\n   10: 76.22% (count=1.9k)\\n   11: 76.86% (count=1.9k)\\n   12: 76.01% (count=1.9k)\\n   13: 74.42% (count=1.9k)\\n   14: 76.70% (count=1.9k)\\n   15: 77.18% (count=1.9k)\\nCritic acc by score:\\n   0.000000%: 90.93% (count=3.1k)\\n   10.000000%: 77.58% (count=571)\\n   15.000000%: 74.30% (count=533)\\n   20.000000%: 74.20% (count=566)\\n   25.000000%: 80.28% (count=497)\\n   30.000000%: 72.60% (count=489)\\n   35.000000%: 73.73% (count=453)\\n   40.000000%: 68.10% (count=652)\\n   45.000000%: 71.99% (count=846)\\n   5.000000%: 67.77% (count=782)\\n   50.000000%: 36.02% (count=794)\\n   55.000000%: 31.76% (count=973)\\n   60.000000%: 40.19% (count=826)\\n   65.000000%: 52.14% (count=1.1k)\\n   70.000000%: 61.40% (count=1.1k)\\n   75.000000%: 72.09% (count=1.3k)\\n   80.000000%: 70.26% (count=1.5k)\\n   85.000000%: 69.74% (count=1.6k)\\n   90.000000%: 74.04% (count=2.4k)\\n   95.000000%: 91.67% (count=10.1k)\\n</div>\"\n",
       "      }\n",
       "    },\n",
       "    \"062545b3798a4bbd8227be04dfa17ea1\": {\n",
       "      \"model_name\": \"LayoutModel\",\n",
       "      \"model_module\": \"@jupyter-widgets/base\",\n",
       "      \"model_module_version\": \"1.2.0\",\n",
       "      \"state\": {}\n",
       "    },\n",
       "    \"8b5117ad178742ee9f493630833c1894\": {\n",
       "      \"model_name\": \"TabModel\",\n",
       "      \"model_module\": \"@jupyter-widgets/controls\",\n",
       "      \"model_module_version\": \"1.5.0\",\n",
       "      \"state\": {\n",
       "        \"_dom_classes\": [],\n",
       "        \"_titles\": {\n",
       "          \"0\": \"Compressed\",\n",
       "          \"1\": \"Expanded\"\n",
       "        },\n",
       "        \"children\": [\n",
       "          \"IPY_MODEL_99247122f1f14d56a21fd5632c07d8cc\",\n",
       "          \"IPY_MODEL_c7f68cbd20744da8b87710aedcd5bcd8\"\n",
       "        ],\n",
       "        \"layout\": \"IPY_MODEL_062545b3798a4bbd8227be04dfa17ea1\"\n",
       "      }\n",
       "    },\n",
       "    \"f365cb8d6f9844999ead4e85f2827e0c\": {\n",
       "      \"model_name\": \"LayoutModel\",\n",
       "      \"model_module\": \"@jupyter-widgets/base\",\n",
       "      \"model_module_version\": \"1.2.0\",\n",
       "      \"state\": {}\n",
       "    },\n",
       "    \"b412d02554b14990ba0def81c610a2e1\": {\n",
       "      \"model_name\": \"DescriptionStyleModel\",\n",
       "      \"model_module\": \"@jupyter-widgets/controls\",\n",
       "      \"model_module_version\": \"1.5.0\",\n",
       "      \"state\": {}\n",
       "    },\n",
       "    \"16231b3afe1e45f5b0e2034e25ec64d0\": {\n",
       "      \"model_name\": \"HTMLModel\",\n",
       "      \"model_module\": \"@jupyter-widgets/controls\",\n",
       "      \"model_module_version\": \"1.5.0\",\n",
       "      \"state\": {\n",
       "        \"_dom_classes\": [],\n",
       "        \"layout\": \"IPY_MODEL_f365cb8d6f9844999ead4e85f2827e0c\",\n",
       "        \"style\": \"IPY_MODEL_b412d02554b14990ba0def81c610a2e1\",\n",
       "        \"value\": \"<div style='white-space: pre-wrap; line-height: 1.2; font-family: monospace, monospace;'>Model acc by rank: ...\\nModel acc by score: ...\\nCritic acc by rank: ...\\nCritic acc by score: ...\\n</div>\"\n",
       "      }\n",
       "    },\n",
       "    \"e18462eded3445d796b4bf9d051c9ce2\": {\n",
       "      \"model_name\": \"LayoutModel\",\n",
       "      \"model_module\": \"@jupyter-widgets/base\",\n",
       "      \"model_module_version\": \"1.2.0\",\n",
       "      \"state\": {}\n",
       "    },\n",
       "    \"d4462eb8ef80463f833f77f6586f47fc\": {\n",
       "      \"model_name\": \"DescriptionStyleModel\",\n",
       "      \"model_module\": \"@jupyter-widgets/controls\",\n",
       "      \"model_module_version\": \"1.5.0\",\n",
       "      \"state\": {}\n",
       "    },\n",
       "    \"54908641e4d94c66b5d64fc917ba0e66\": {\n",
       "      \"model_name\": \"HTMLModel\",\n",
       "      \"model_module\": \"@jupyter-widgets/controls\",\n",
       "      \"model_module_version\": \"1.5.0\",\n",
       "      \"state\": {\n",
       "        \"_dom_classes\": [],\n",
       "        \"layout\": \"IPY_MODEL_e18462eded3445d796b4bf9d051c9ce2\",\n",
       "        \"style\": \"IPY_MODEL_d4462eb8ef80463f833f77f6586f47fc\",\n",
       "        \"value\": \"<div style='white-space: pre-wrap; line-height: 1.2; font-family: monospace, monospace;'>Model acc by rank:\\n   0: 65.34% (count=1.9k)\\n   1: 62.15% (count=1.9k)\\n   2: 60.88% (count=1.9k)\\n   3: 60.08% (count=1.9k)\\n   4: 60.03% (count=1.9k)\\n   5: 59.39% (count=1.9k)\\n   6: 59.08% (count=1.9k)\\n   7: 59.45% (count=1.9k)\\n   8: 59.82% (count=1.9k)\\n   9: 58.76% (count=1.9k)\\n   10: 58.65% (count=1.9k)\\n   11: 59.39% (count=1.9k)\\n   12: 59.71% (count=1.9k)\\n   13: 58.23% (count=1.9k)\\n   14: 59.02% (count=1.9k)\\n   15: 59.24% (count=1.9k)\\nModel acc by score:\\n   0%: 9.07% (count=3.1k)\\n   10%: 22.42% (count=571)\\n   15%: 25.70% (count=533)\\n   20%: 25.80% (count=566)\\n   25%: 19.72% (count=497)\\n   30%: 27.40% (count=489)\\n   35%: 26.27% (count=453)\\n   40%: 31.90% (count=652)\\n   45%: 28.01% (count=846)\\n   5%: 32.23% (count=782)\\n   50%: 35.77% (count=794)\\n   55%: 31.76% (count=973)\\n   60%: 40.19% (count=826)\\n   65%: 52.14% (count=1.1k)\\n   70%: 61.40% (count=1.1k)\\n   75%: 72.09% (count=1.3k)\\n   80%: 70.26% (count=1.5k)\\n   85%: 69.74% (count=1.6k)\\n   90%: 74.04% (count=2.4k)\\n   95%: 91.67% (count=10.1k)\\nCritic acc by rank:\\n   0: 76.96% (count=1.9k)\\n   1: 75.96% (count=1.9k)\\n   2: 76.91% (count=1.9k)\\n   3: 76.38% (count=1.9k)\\n   4: 76.43% (count=1.9k)\\n   5: 75.69% (count=1.9k)\\n   6: 76.96% (count=1.9k)\\n   7: 77.55% (count=1.9k)\\n   8: 76.59% (count=1.9k)\\n   9: 76.38% (count=1.9k)\\n   10: 76.22% (count=1.9k)\\n   11: 76.86% (count=1.9k)\\n   12: 76.01% (count=1.9k)\\n   13: 74.42% (count=1.9k)\\n   14: 76.70% (count=1.9k)\\n   15: 77.18% (count=1.9k)\\nCritic acc by score:\\n   0%: 90.93% (count=3.1k)\\n   10%: 77.58% (count=571)\\n   15%: 74.30% (count=533)\\n   20%: 74.20% (count=566)\\n   25%: 80.28% (count=497)\\n   30%: 72.60% (count=489)\\n   35%: 73.73% (count=453)\\n   40%: 68.10% (count=652)\\n   45%: 71.99% (count=846)\\n   5%: 67.77% (count=782)\\n   50%: 36.02% (count=794)\\n   55%: 31.76% (count=973)\\n   60%: 40.19% (count=826)\\n   65%: 52.14% (count=1.1k)\\n   70%: 61.40% (count=1.1k)\\n   75%: 72.09% (count=1.3k)\\n   80%: 70.26% (count=1.5k)\\n   85%: 69.74% (count=1.6k)\\n   90%: 74.04% (count=2.4k)\\n   95%: 91.67% (count=10.1k)\\n</div>\"\n",
       "      }\n",
       "    },\n",
       "    \"ddddd91472c04460a6bb439fcc757888\": {\n",
       "      \"model_name\": \"LayoutModel\",\n",
       "      \"model_module\": \"@jupyter-widgets/base\",\n",
       "      \"model_module_version\": \"1.2.0\",\n",
       "      \"state\": {}\n",
       "    },\n",
       "    \"9cfc79f410f44eac910288084b2c367e\": {\n",
       "      \"model_name\": \"TabModel\",\n",
       "      \"model_module\": \"@jupyter-widgets/controls\",\n",
       "      \"model_module_version\": \"1.5.0\",\n",
       "      \"state\": {\n",
       "        \"_dom_classes\": [],\n",
       "        \"_titles\": {\n",
       "          \"0\": \"Compressed\",\n",
       "          \"1\": \"Expanded\"\n",
       "        },\n",
       "        \"children\": [\n",
       "          \"IPY_MODEL_16231b3afe1e45f5b0e2034e25ec64d0\",\n",
       "          \"IPY_MODEL_54908641e4d94c66b5d64fc917ba0e66\"\n",
       "        ],\n",
       "        \"layout\": \"IPY_MODEL_ddddd91472c04460a6bb439fcc757888\"\n",
       "      }\n",
       "    },\n",
       "    \"de3de2bf07ae4711a48bc53b4eb6c569\": {\n",
       "      \"model_name\": \"LayoutModel\",\n",
       "      \"model_module\": \"@jupyter-widgets/base\",\n",
       "      \"model_module_version\": \"1.2.0\",\n",
       "      \"state\": {}\n",
       "    },\n",
       "    \"7487cf86c4c543cf945884981c47fcf7\": {\n",
       "      \"model_name\": \"DescriptionStyleModel\",\n",
       "      \"model_module\": \"@jupyter-widgets/controls\",\n",
       "      \"model_module_version\": \"1.5.0\",\n",
       "      \"state\": {}\n",
       "    },\n",
       "    \"bdfc916505ae4a71a09ce8ba2f4c6864\": {\n",
       "      \"model_name\": \"HTMLModel\",\n",
       "      \"model_module\": \"@jupyter-widgets/controls\",\n",
       "      \"model_module_version\": \"1.5.0\",\n",
       "      \"state\": {\n",
       "        \"_dom_classes\": [],\n",
       "        \"layout\": \"IPY_MODEL_de3de2bf07ae4711a48bc53b4eb6c569\",\n",
       "        \"style\": \"IPY_MODEL_7487cf86c4c543cf945884981c47fcf7\",\n",
       "        \"value\": \"<div style='white-space: pre-wrap; line-height: 1.2; font-family: monospace, monospace;'>Model acc by rank: ...\\nModel acc by score: ...\\nCritic acc by rank: ...\\nCritic acc by score: ...\\n</div>\"\n",
       "      }\n",
       "    },\n",
       "    \"570782f6e7a940c293ca68aceae0680e\": {\n",
       "      \"model_name\": \"LayoutModel\",\n",
       "      \"model_module\": \"@jupyter-widgets/base\",\n",
       "      \"model_module_version\": \"1.2.0\",\n",
       "      \"state\": {}\n",
       "    },\n",
       "    \"763cb304249e423b98b824ecf24cc2b1\": {\n",
       "      \"model_name\": \"DescriptionStyleModel\",\n",
       "      \"model_module\": \"@jupyter-widgets/controls\",\n",
       "      \"model_module_version\": \"1.5.0\",\n",
       "      \"state\": {}\n",
       "    },\n",
       "    \"3d5aad815d294615b0f24e884f73cf30\": {\n",
       "      \"model_name\": \"HTMLModel\",\n",
       "      \"model_module\": \"@jupyter-widgets/controls\",\n",
       "      \"model_module_version\": \"1.5.0\",\n",
       "      \"state\": {\n",
       "        \"_dom_classes\": [],\n",
       "        \"layout\": \"IPY_MODEL_570782f6e7a940c293ca68aceae0680e\",\n",
       "        \"style\": \"IPY_MODEL_763cb304249e423b98b824ecf24cc2b1\",\n",
       "        \"value\": \"<div style='white-space: pre-wrap; line-height: 1.2; font-family: monospace, monospace;'>Model acc by rank:\\n   0: 65.34% (count=1.9k)\\n   1: 62.15% (count=1.9k)\\n   2: 60.88% (count=1.9k)\\n   3: 60.08% (count=1.9k)\\n   4: 60.03% (count=1.9k)\\n   5: 59.39% (count=1.9k)\\n   6: 59.08% (count=1.9k)\\n   7: 59.45% (count=1.9k)\\n   8: 59.82% (count=1.9k)\\n   9: 58.76% (count=1.9k)\\n   10: 58.65% (count=1.9k)\\n   11: 59.39% (count=1.9k)\\n   12: 59.71% (count=1.9k)\\n   13: 58.23% (count=1.9k)\\n   14: 59.02% (count=1.9k)\\n   15: 59.24% (count=1.9k)\\nModel acc by score:\\n   0.0%: 9.07% (count=3.1k)\\n   10.0%: 22.42% (count=571)\\n   15.0%: 25.70% (count=533)\\n   20.0%: 25.80% (count=566)\\n   25.0%: 19.72% (count=497)\\n   30.0%: 27.40% (count=489)\\n   35.0%: 26.27% (count=453)\\n   40.0%: 31.90% (count=652)\\n   45.0%: 28.01% (count=846)\\n   5.0%: 32.23% (count=782)\\n   50.0%: 35.77% (count=794)\\n   55.00000000000001%: 31.76% (count=973)\\n   60.0%: 40.19% (count=826)\\n   65.0%: 52.14% (count=1.1k)\\n   70.0%: 61.40% (count=1.1k)\\n   75.0%: 72.09% (count=1.3k)\\n   80.0%: 70.26% (count=1.5k)\\n   85.0%: 69.74% (count=1.6k)\\n   90.0%: 74.04% (count=2.4k)\\n   95.0%: 91.67% (count=10.1k)\\nCritic acc by rank:\\n   0: 76.96% (count=1.9k)\\n   1: 75.96% (count=1.9k)\\n   2: 76.91% (count=1.9k)\\n   3: 76.38% (count=1.9k)\\n   4: 76.43% (count=1.9k)\\n   5: 75.69% (count=1.9k)\\n   6: 76.96% (count=1.9k)\\n   7: 77.55% (count=1.9k)\\n   8: 76.59% (count=1.9k)\\n   9: 76.38% (count=1.9k)\\n   10: 76.22% (count=1.9k)\\n   11: 76.86% (count=1.9k)\\n   12: 76.01% (count=1.9k)\\n   13: 74.42% (count=1.9k)\\n   14: 76.70% (count=1.9k)\\n   15: 77.18% (count=1.9k)\\nCritic acc by score:\\n   0.0%: 90.93% (count=3.1k)\\n   10.0%: 77.58% (count=571)\\n   15.0%: 74.30% (count=533)\\n   20.0%: 74.20% (count=566)\\n   25.0%: 80.28% (count=497)\\n   30.0%: 72.60% (count=489)\\n   35.0%: 73.73% (count=453)\\n   40.0%: 68.10% (count=652)\\n   45.0%: 71.99% (count=846)\\n   5.0%: 67.77% (count=782)\\n   50.0%: 36.02% (count=794)\\n   55.00000000000001%: 31.76% (count=973)\\n   60.0%: 40.19% (count=826)\\n   65.0%: 52.14% (count=1.1k)\\n   70.0%: 61.40% (count=1.1k)\\n   75.0%: 72.09% (count=1.3k)\\n   80.0%: 70.26% (count=1.5k)\\n   85.0%: 69.74% (count=1.6k)\\n   90.0%: 74.04% (count=2.4k)\\n   95.0%: 91.67% (count=10.1k)\\n</div>\"\n",
       "      }\n",
       "    },\n",
       "    \"b944f7405b66432587ed00f1ab131972\": {\n",
       "      \"model_name\": \"LayoutModel\",\n",
       "      \"model_module\": \"@jupyter-widgets/base\",\n",
       "      \"model_module_version\": \"1.2.0\",\n",
       "      \"state\": {}\n",
       "    },\n",
       "    \"a998d7e439ff4fd194eb7e97489b1288\": {\n",
       "      \"model_name\": \"TabModel\",\n",
       "      \"model_module\": \"@jupyter-widgets/controls\",\n",
       "      \"model_module_version\": \"1.5.0\",\n",
       "      \"state\": {\n",
       "        \"_dom_classes\": [],\n",
       "        \"_titles\": {\n",
       "          \"0\": \"Compressed\",\n",
       "          \"1\": \"Expanded\"\n",
       "        },\n",
       "        \"children\": [\n",
       "          \"IPY_MODEL_bdfc916505ae4a71a09ce8ba2f4c6864\",\n",
       "          \"IPY_MODEL_3d5aad815d294615b0f24e884f73cf30\"\n",
       "        ],\n",
       "        \"layout\": \"IPY_MODEL_b944f7405b66432587ed00f1ab131972\"\n",
       "      }\n",
       "    },\n",
       "    \"13fa93a99170489b95656e683e19f578\": {\n",
       "      \"model_name\": \"LayoutModel\",\n",
       "      \"model_module\": \"@jupyter-widgets/base\",\n",
       "      \"model_module_version\": \"1.2.0\",\n",
       "      \"state\": {}\n",
       "    },\n",
       "    \"b3af7f58e05844c4858aadf6f5346635\": {\n",
       "      \"model_name\": \"DescriptionStyleModel\",\n",
       "      \"model_module\": \"@jupyter-widgets/controls\",\n",
       "      \"model_module_version\": \"1.5.0\",\n",
       "      \"state\": {}\n",
       "    },\n",
       "    \"3fe35c37fca643138ec1dc754eb92f7a\": {\n",
       "      \"model_name\": \"HTMLModel\",\n",
       "      \"model_module\": \"@jupyter-widgets/controls\",\n",
       "      \"model_module_version\": \"1.5.0\",\n",
       "      \"state\": {\n",
       "        \"_dom_classes\": [],\n",
       "        \"layout\": \"IPY_MODEL_13fa93a99170489b95656e683e19f578\",\n",
       "        \"style\": \"IPY_MODEL_b3af7f58e05844c4858aadf6f5346635\",\n",
       "        \"value\": \"<div style='white-space: pre-wrap; line-height: 1.2; font-family: monospace, monospace;'>Model acc by rank: ...\\nModel acc by score: ...\\nCritic acc by rank: ...\\nCritic acc by score: ...\\n</div>\"\n",
       "      }\n",
       "    },\n",
       "    \"e5e032cc32d2417bb837447ca4282294\": {\n",
       "      \"model_name\": \"LayoutModel\",\n",
       "      \"model_module\": \"@jupyter-widgets/base\",\n",
       "      \"model_module_version\": \"1.2.0\",\n",
       "      \"state\": {}\n",
       "    },\n",
       "    \"9c0b5d974abe467cbfe8a59a0e46f867\": {\n",
       "      \"model_name\": \"DescriptionStyleModel\",\n",
       "      \"model_module\": \"@jupyter-widgets/controls\",\n",
       "      \"model_module_version\": \"1.5.0\",\n",
       "      \"state\": {}\n",
       "    },\n",
       "    \"78e0bc0edb6f4d259e7d677221fd10f0\": {\n",
       "      \"model_name\": \"HTMLModel\",\n",
       "      \"model_module\": \"@jupyter-widgets/controls\",\n",
       "      \"model_module_version\": \"1.5.0\",\n",
       "      \"state\": {\n",
       "        \"_dom_classes\": [],\n",
       "        \"layout\": \"IPY_MODEL_e5e032cc32d2417bb837447ca4282294\",\n",
       "        \"style\": \"IPY_MODEL_9c0b5d974abe467cbfe8a59a0e46f867\",\n",
       "        \"value\": \"<div style='white-space: pre-wrap; line-height: 1.2; font-family: monospace, monospace;'>Model acc by rank:\\n   0: 65.34% (count=1.9k)\\n   1: 62.15% (count=1.9k)\\n   2: 60.88% (count=1.9k)\\n   3: 60.08% (count=1.9k)\\n   4: 60.03% (count=1.9k)\\n   5: 59.39% (count=1.9k)\\n   6: 59.08% (count=1.9k)\\n   7: 59.45% (count=1.9k)\\n   8: 59.82% (count=1.9k)\\n   9: 58.76% (count=1.9k)\\n   10: 58.65% (count=1.9k)\\n   11: 59.39% (count=1.9k)\\n   12: 59.71% (count=1.9k)\\n   13: 58.23% (count=1.9k)\\n   14: 59.02% (count=1.9k)\\n   15: 59.24% (count=1.9k)\\nModel acc by score:\\n   0.00: 9.07% (count=3.1k)\\n   0.05: 32.23% (count=782)\\n   0.10: 22.42% (count=571)\\n   0.15: 25.70% (count=533)\\n   0.20: 25.80% (count=566)\\n   0.25: 19.72% (count=497)\\n   0.30: 27.40% (count=489)\\n   0.35: 26.27% (count=453)\\n   0.40: 31.90% (count=652)\\n   0.45: 28.01% (count=846)\\n   0.50: 35.77% (count=794)\\n   0.55: 31.76% (count=973)\\n   0.60: 40.19% (count=826)\\n   0.65: 52.14% (count=1.1k)\\n   0.70: 61.40% (count=1.1k)\\n   0.75: 72.09% (count=1.3k)\\n   0.80: 70.26% (count=1.5k)\\n   0.85: 69.74% (count=1.6k)\\n   0.90: 74.04% (count=2.4k)\\n   0.95: 91.67% (count=10.1k)\\nCritic acc by rank:\\n   0: 76.96% (count=1.9k)\\n   1: 75.96% (count=1.9k)\\n   2: 76.91% (count=1.9k)\\n   3: 76.38% (count=1.9k)\\n   4: 76.43% (count=1.9k)\\n   5: 75.69% (count=1.9k)\\n   6: 76.96% (count=1.9k)\\n   7: 77.55% (count=1.9k)\\n   8: 76.59% (count=1.9k)\\n   9: 76.38% (count=1.9k)\\n   10: 76.22% (count=1.9k)\\n   11: 76.86% (count=1.9k)\\n   12: 76.01% (count=1.9k)\\n   13: 74.42% (count=1.9k)\\n   14: 76.70% (count=1.9k)\\n   15: 77.18% (count=1.9k)\\nCritic acc by score:\\n   0.00: 90.93% (count=3.1k)\\n   0.05: 67.77% (count=782)\\n   0.10: 77.58% (count=571)\\n   0.15: 74.30% (count=533)\\n   0.20: 74.20% (count=566)\\n   0.25: 80.28% (count=497)\\n   0.30: 72.60% (count=489)\\n   0.35: 73.73% (count=453)\\n   0.40: 68.10% (count=652)\\n   0.45: 71.99% (count=846)\\n   0.50: 36.02% (count=794)\\n   0.55: 31.76% (count=973)\\n   0.60: 40.19% (count=826)\\n   0.65: 52.14% (count=1.1k)\\n   0.70: 61.40% (count=1.1k)\\n   0.75: 72.09% (count=1.3k)\\n   0.80: 70.26% (count=1.5k)\\n   0.85: 69.74% (count=1.6k)\\n   0.90: 74.04% (count=2.4k)\\n   0.95: 91.67% (count=10.1k)\\n</div>\"\n",
       "      }\n",
       "    },\n",
       "    \"fe2cacc8587f40d6a01d281a1c3d5c27\": {\n",
       "      \"model_name\": \"LayoutModel\",\n",
       "      \"model_module\": \"@jupyter-widgets/base\",\n",
       "      \"model_module_version\": \"1.2.0\",\n",
       "      \"state\": {}\n",
       "    },\n",
       "    \"7bf0a069477c419e89f27a43644d150f\": {\n",
       "      \"model_name\": \"TabModel\",\n",
       "      \"model_module\": \"@jupyter-widgets/controls\",\n",
       "      \"model_module_version\": \"1.5.0\",\n",
       "      \"state\": {\n",
       "        \"_dom_classes\": [],\n",
       "        \"_titles\": {\n",
       "          \"0\": \"Compressed\",\n",
       "          \"1\": \"Expanded\"\n",
       "        },\n",
       "        \"children\": [\n",
       "          \"IPY_MODEL_3fe35c37fca643138ec1dc754eb92f7a\",\n",
       "          \"IPY_MODEL_78e0bc0edb6f4d259e7d677221fd10f0\"\n",
       "        ],\n",
       "        \"layout\": \"IPY_MODEL_fe2cacc8587f40d6a01d281a1c3d5c27\"\n",
       "      }\n",
       "    },\n",
       "    \"8208574b47104dda87ca42a288e449ad\": {\n",
       "      \"model_name\": \"LayoutModel\",\n",
       "      \"model_module\": \"@jupyter-widgets/base\",\n",
       "      \"model_module_version\": \"1.2.0\",\n",
       "      \"state\": {}\n",
       "    },\n",
       "    \"b5cf751ba57b4a7296da6e5a6b1f6e43\": {\n",
       "      \"model_name\": \"DescriptionStyleModel\",\n",
       "      \"model_module\": \"@jupyter-widgets/controls\",\n",
       "      \"model_module_version\": \"1.5.0\",\n",
       "      \"state\": {}\n",
       "    },\n",
       "    \"3d69898dee0c491d9d209cf9b13cc96f\": {\n",
       "      \"model_name\": \"HTMLModel\",\n",
       "      \"model_module\": \"@jupyter-widgets/controls\",\n",
       "      \"model_module_version\": \"1.5.0\",\n",
       "      \"state\": {\n",
       "        \"_dom_classes\": [],\n",
       "        \"layout\": \"IPY_MODEL_8208574b47104dda87ca42a288e449ad\",\n",
       "        \"style\": \"IPY_MODEL_b5cf751ba57b4a7296da6e5a6b1f6e43\",\n",
       "        \"value\": \"<div style='white-space: pre-wrap; line-height: 1.2; font-family: monospace, monospace;'>Model acc by rank: ...\\nModel acc by score: ...\\nCritic acc by rank: ...\\nCritic acc by score: ...\\n</div>\"\n",
       "      }\n",
       "    },\n",
       "    \"979ce44f7fbb4cfaa85f35dde96597bc\": {\n",
       "      \"model_name\": \"LayoutModel\",\n",
       "      \"model_module\": \"@jupyter-widgets/base\",\n",
       "      \"model_module_version\": \"1.2.0\",\n",
       "      \"state\": {}\n",
       "    },\n",
       "    \"59b57f6ced6f4aa19505c532ed78b535\": {\n",
       "      \"model_name\": \"DescriptionStyleModel\",\n",
       "      \"model_module\": \"@jupyter-widgets/controls\",\n",
       "      \"model_module_version\": \"1.5.0\",\n",
       "      \"state\": {}\n",
       "    },\n",
       "    \"69532e5104a6457b8910c1c029611d94\": {\n",
       "      \"model_name\": \"HTMLModel\",\n",
       "      \"model_module\": \"@jupyter-widgets/controls\",\n",
       "      \"model_module_version\": \"1.5.0\",\n",
       "      \"state\": {\n",
       "        \"_dom_classes\": [],\n",
       "        \"layout\": \"IPY_MODEL_979ce44f7fbb4cfaa85f35dde96597bc\",\n",
       "        \"style\": \"IPY_MODEL_59b57f6ced6f4aa19505c532ed78b535\",\n",
       "        \"value\": \"<div style='white-space: pre-wrap; line-height: 1.2; font-family: monospace, monospace;'>Model acc by rank:\\n   0: 65.34% (count=1.9k)\\n   1: 62.15% (count=1.9k)\\n   2: 60.88% (count=1.9k)\\n   3: 60.08% (count=1.9k)\\n   4: 60.03% (count=1.9k)\\n   5: 59.39% (count=1.9k)\\n   6: 59.08% (count=1.9k)\\n   7: 59.45% (count=1.9k)\\n   8: 59.82% (count=1.9k)\\n   9: 58.76% (count=1.9k)\\n   10: 58.65% (count=1.9k)\\n   11: 59.39% (count=1.9k)\\n   12: 59.71% (count=1.9k)\\n   13: 58.23% (count=1.9k)\\n   14: 59.02% (count=1.9k)\\n   15: 59.24% (count=1.9k)\\nModel acc by score:\\n   0.0: 13.79% (count=3.8k)\\n   0.1: 24.00% (count=1.1k)\\n   0.2: 22.95% (count=1.1k)\\n   0.3: 26.86% (count=942)\\n   0.4: 29.71% (count=1.5k)\\n   0.5: 33.56% (count=1.8k)\\n   0.6: 46.88% (count=1.9k)\\n   0.7: 67.14% (count=2.4k)\\n   0.8: 70.00% (count=3.1k)\\n   0.9: 88.32% (count=12.5k)\\nCritic acc by rank:\\n   0: 76.96% (count=1.9k)\\n   1: 75.96% (count=1.9k)\\n   2: 76.91% (count=1.9k)\\n   3: 76.38% (count=1.9k)\\n   4: 76.43% (count=1.9k)\\n   5: 75.69% (count=1.9k)\\n   6: 76.96% (count=1.9k)\\n   7: 77.55% (count=1.9k)\\n   8: 76.59% (count=1.9k)\\n   9: 76.38% (count=1.9k)\\n   10: 76.22% (count=1.9k)\\n   11: 76.86% (count=1.9k)\\n   12: 76.01% (count=1.9k)\\n   13: 74.42% (count=1.9k)\\n   14: 76.70% (count=1.9k)\\n   15: 77.18% (count=1.9k)\\nCritic acc by score:\\n   0.0: 86.21% (count=3.8k)\\n   0.1: 76.00% (count=1.1k)\\n   0.2: 77.05% (count=1.1k)\\n   0.3: 73.14% (count=942)\\n   0.4: 70.29% (count=1.5k)\\n   0.5: 33.67% (count=1.8k)\\n   0.6: 46.88% (count=1.9k)\\n   0.7: 67.14% (count=2.4k)\\n   0.8: 70.00% (count=3.1k)\\n   0.9: 88.32% (count=12.5k)\\n</div>\"\n",
       "      }\n",
       "    },\n",
       "    \"111e025db5e34fd892f1542ab57fbc3e\": {\n",
       "      \"model_name\": \"LayoutModel\",\n",
       "      \"model_module\": \"@jupyter-widgets/base\",\n",
       "      \"model_module_version\": \"1.2.0\",\n",
       "      \"state\": {}\n",
       "    },\n",
       "    \"f9e010dfc06446619b5215b2c6a6357c\": {\n",
       "      \"model_name\": \"TabModel\",\n",
       "      \"model_module\": \"@jupyter-widgets/controls\",\n",
       "      \"model_module_version\": \"1.5.0\",\n",
       "      \"state\": {\n",
       "        \"_dom_classes\": [],\n",
       "        \"_titles\": {\n",
       "          \"0\": \"Compressed\",\n",
       "          \"1\": \"Expanded\"\n",
       "        },\n",
       "        \"children\": [\n",
       "          \"IPY_MODEL_3d69898dee0c491d9d209cf9b13cc96f\",\n",
       "          \"IPY_MODEL_69532e5104a6457b8910c1c029611d94\"\n",
       "        ],\n",
       "        \"layout\": \"IPY_MODEL_111e025db5e34fd892f1542ab57fbc3e\"\n",
       "      }\n",
       "    }\n",
       "  }\n",
       "}\n",
       "</script>\n",
       "<script type=\"application/vnd.jupyter.widget-view+json\">\n",
       "{\"version_major\": 2, \"version_minor\": 0, \"model_id\": \"f9e010dfc06446619b5215b2c6a6357c\"}\n",
       "</script>\n",
       "\n",
       "</body>\n",
       "</html>\n"
      ],
      "text/plain": [
       "<IPython.core.display.HTML object>"
      ]
     },
     "metadata": {},
     "output_type": "display_data"
    }
   ],
   "source": [
    "from spot.debug_critic import inspect_critic_on_beams\n",
    "from spot.visualization import dict_widget, display_persist\n",
    "\n",
    "\n",
    "def check_critic(no_feedback: bool):\n",
    "    sample_eval = results[critic_result_name(no_feedback)]\n",
    "    r = inspect_critic_on_beams(sample_eval, pred_candidates)\n",
    "    display_persist(dict_widget(r))\n",
    "\n",
    "\n",
    "check_critic(False)\n"
   ]
  },
  {
   "cell_type": "code",
   "execution_count": null,
   "metadata": {},
   "outputs": [
    {
     "data": {
      "text/html": [
       "<div>\n",
       "<style scoped>\n",
       "    .dataframe tbody tr th:only-of-type {\n",
       "        vertical-align: middle;\n",
       "    }\n",
       "\n",
       "    .dataframe tbody tr th {\n",
       "        vertical-align: top;\n",
       "    }\n",
       "\n",
       "    .dataframe thead th {\n",
       "        text-align: right;\n",
       "    }\n",
       "</style>\n",
       "<table border=\"1\" class=\"dataframe\">\n",
       "  <thead>\n",
       "    <tr style=\"text-align: right;\">\n",
       "      <th></th>\n",
       "      <th>Repo</th>\n",
       "      <th>BS</th>\n",
       "      <th>Critic</th>\n",
       "      <th>Oracle</th>\n",
       "    </tr>\n",
       "  </thead>\n",
       "  <tbody>\n",
       "    <tr>\n",
       "      <th>0</th>\n",
       "      <td>basilisp-lang__basilisp</td>\n",
       "      <td>47.43% (count=3.4k)</td>\n",
       "      <td>47.14% (count=3.4k)</td>\n",
       "      <td>53.56% (count=3.4k)</td>\n",
       "    </tr>\n",
       "    <tr>\n",
       "      <th>1</th>\n",
       "      <td>kornicameister__axion</td>\n",
       "      <td>47.11% (count=1.2k)</td>\n",
       "      <td>46.08% (count=1.2k)</td>\n",
       "      <td>54.52% (count=1.2k)</td>\n",
       "    </tr>\n",
       "    <tr>\n",
       "      <th>2</th>\n",
       "      <td>nabla-c0d3__sslyze</td>\n",
       "      <td>74.02% (count=1.1k)</td>\n",
       "      <td>71.90% (count=1.1k)</td>\n",
       "      <td>82.00% (count=1.1k)</td>\n",
       "    </tr>\n",
       "    <tr>\n",
       "      <th>3</th>\n",
       "      <td>marcosschroh__dataclasses-avroschema</td>\n",
       "      <td>60.10% (count=822)</td>\n",
       "      <td>57.06% (count=822)</td>\n",
       "      <td>69.46% (count=822)</td>\n",
       "    </tr>\n",
       "    <tr>\n",
       "      <th>4</th>\n",
       "      <td>scalableminds__webknossos-connect</td>\n",
       "      <td>67.80% (count=736)</td>\n",
       "      <td>68.61% (count=736)</td>\n",
       "      <td>77.31% (count=736)</td>\n",
       "    </tr>\n",
       "    <tr>\n",
       "      <th>5</th>\n",
       "      <td>rakitaj__daily-programmer</td>\n",
       "      <td>76.50% (count=634)</td>\n",
       "      <td>79.65% (count=634)</td>\n",
       "      <td>91.48% (count=634)</td>\n",
       "    </tr>\n",
       "    <tr>\n",
       "      <th>6</th>\n",
       "      <td>seattleflu__id3c</td>\n",
       "      <td>59.58% (count=621)</td>\n",
       "      <td>57.17% (count=621)</td>\n",
       "      <td>72.46% (count=621)</td>\n",
       "    </tr>\n",
       "    <tr>\n",
       "      <th>7</th>\n",
       "      <td>nubark__instark</td>\n",
       "      <td>84.91% (count=570)</td>\n",
       "      <td>85.09% (count=570)</td>\n",
       "      <td>96.14% (count=570)</td>\n",
       "    </tr>\n",
       "    <tr>\n",
       "      <th>8</th>\n",
       "      <td>lucaswerkmeister__tool-quickcategories</td>\n",
       "      <td>79.62% (count=422)</td>\n",
       "      <td>77.96% (count=422)</td>\n",
       "      <td>86.73% (count=422)</td>\n",
       "    </tr>\n",
       "    <tr>\n",
       "      <th>9</th>\n",
       "      <td>paulcwatts__drf-json-schema</td>\n",
       "      <td>66.25% (count=400)</td>\n",
       "      <td>67.50% (count=400)</td>\n",
       "      <td>76.25% (count=400)</td>\n",
       "    </tr>\n",
       "    <tr>\n",
       "      <th>10</th>\n",
       "      <td>flopp__GpxTrackPoster</td>\n",
       "      <td>76.80% (count=375)</td>\n",
       "      <td>72.80% (count=375)</td>\n",
       "      <td>86.40% (count=375)</td>\n",
       "    </tr>\n",
       "    <tr>\n",
       "      <th>11</th>\n",
       "      <td>futursolo__magichttp</td>\n",
       "      <td>62.77% (count=368)</td>\n",
       "      <td>63.59% (count=368)</td>\n",
       "      <td>69.02% (count=368)</td>\n",
       "    </tr>\n",
       "    <tr>\n",
       "      <th>12</th>\n",
       "      <td>everyclass__everyclass-server</td>\n",
       "      <td>77.26% (count=365)</td>\n",
       "      <td>76.16% (count=365)</td>\n",
       "      <td>86.03% (count=365)</td>\n",
       "    </tr>\n",
       "    <tr>\n",
       "      <th>13</th>\n",
       "      <td>webrecorder__browsertrix</td>\n",
       "      <td>52.11% (count=332)</td>\n",
       "      <td>49.10% (count=332)</td>\n",
       "      <td>64.76% (count=332)</td>\n",
       "    </tr>\n",
       "    <tr>\n",
       "      <th>14</th>\n",
       "      <td>knowark__estimark</td>\n",
       "      <td>84.86% (count=317)</td>\n",
       "      <td>83.60% (count=317)</td>\n",
       "      <td>92.11% (count=317)</td>\n",
       "    </tr>\n",
       "    <tr>\n",
       "      <th>15</th>\n",
       "      <td>albertyw__git-browse</td>\n",
       "      <td>82.41% (count=307)</td>\n",
       "      <td>81.43% (count=307)</td>\n",
       "      <td>90.55% (count=307)</td>\n",
       "    </tr>\n",
       "    <tr>\n",
       "      <th>16</th>\n",
       "      <td>AxelVoitier__lookups</td>\n",
       "      <td>43.93% (count=305)</td>\n",
       "      <td>44.59% (count=305)</td>\n",
       "      <td>51.80% (count=305)</td>\n",
       "    </tr>\n",
       "    <tr>\n",
       "      <th>17</th>\n",
       "      <td>jreese__aql</td>\n",
       "      <td>60.87% (count=299)</td>\n",
       "      <td>53.18% (count=299)</td>\n",
       "      <td>71.57% (count=299)</td>\n",
       "    </tr>\n",
       "    <tr>\n",
       "      <th>18</th>\n",
       "      <td>joshtemple__lkml</td>\n",
       "      <td>75.09% (count=269)</td>\n",
       "      <td>72.12% (count=269)</td>\n",
       "      <td>80.30% (count=269)</td>\n",
       "    </tr>\n",
       "    <tr>\n",
       "      <th>19</th>\n",
       "      <td>srittau__FakeSMTPd</td>\n",
       "      <td>92.69% (count=260)</td>\n",
       "      <td>89.62% (count=260)</td>\n",
       "      <td>96.15% (count=260)</td>\n",
       "    </tr>\n",
       "    <tr>\n",
       "      <th>20</th>\n",
       "      <td>sonic182__aiosonic</td>\n",
       "      <td>61.14% (count=229)</td>\n",
       "      <td>61.14% (count=229)</td>\n",
       "      <td>66.38% (count=229)</td>\n",
       "    </tr>\n",
       "    <tr>\n",
       "      <th>21</th>\n",
       "      <td>TomerFi__aioswitcher</td>\n",
       "      <td>82.27% (count=220)</td>\n",
       "      <td>82.27% (count=220)</td>\n",
       "      <td>90.45% (count=220)</td>\n",
       "    </tr>\n",
       "    <tr>\n",
       "      <th>22</th>\n",
       "      <td>linw1995__data_extractor</td>\n",
       "      <td>60.95% (count=210)</td>\n",
       "      <td>61.90% (count=210)</td>\n",
       "      <td>67.62% (count=210)</td>\n",
       "    </tr>\n",
       "    <tr>\n",
       "      <th>23</th>\n",
       "      <td>reddit__baseplate.py-upgrader</td>\n",
       "      <td>87.62% (count=202)</td>\n",
       "      <td>86.14% (count=202)</td>\n",
       "      <td>95.05% (count=202)</td>\n",
       "    </tr>\n",
       "    <tr>\n",
       "      <th>24</th>\n",
       "      <td>kitsuyui__bamboo-crawler</td>\n",
       "      <td>70.79% (count=202)</td>\n",
       "      <td>68.81% (count=202)</td>\n",
       "      <td>83.66% (count=202)</td>\n",
       "    </tr>\n",
       "    <tr>\n",
       "      <th>25</th>\n",
       "      <td>ClearcodeHQ__mirakuru</td>\n",
       "      <td>77.16% (count=197)</td>\n",
       "      <td>81.22% (count=197)</td>\n",
       "      <td>88.83% (count=197)</td>\n",
       "    </tr>\n",
       "    <tr>\n",
       "      <th>26</th>\n",
       "      <td>ShadowTemplate__beautiful-python-3</td>\n",
       "      <td>96.45% (count=197)</td>\n",
       "      <td>96.45% (count=197)</td>\n",
       "      <td>97.97% (count=197)</td>\n",
       "    </tr>\n",
       "    <tr>\n",
       "      <th>27</th>\n",
       "      <td>ocf__slackbridge</td>\n",
       "      <td>85.56% (count=180)</td>\n",
       "      <td>81.11% (count=180)</td>\n",
       "      <td>93.89% (count=180)</td>\n",
       "    </tr>\n",
       "    <tr>\n",
       "      <th>28</th>\n",
       "      <td>antonagestam__collectfast</td>\n",
       "      <td>76.02% (count=171)</td>\n",
       "      <td>81.87% (count=171)</td>\n",
       "      <td>84.80% (count=171)</td>\n",
       "    </tr>\n",
       "    <tr>\n",
       "      <th>29</th>\n",
       "      <td>Gerschtli__teamspeak-update-notifier</td>\n",
       "      <td>92.31% (count=169)</td>\n",
       "      <td>89.94% (count=169)</td>\n",
       "      <td>95.86% (count=169)</td>\n",
       "    </tr>\n",
       "    <tr>\n",
       "      <th>30</th>\n",
       "      <td>albertyw__albertyw.com</td>\n",
       "      <td>77.84% (count=167)</td>\n",
       "      <td>74.85% (count=167)</td>\n",
       "      <td>92.22% (count=167)</td>\n",
       "    </tr>\n",
       "    <tr>\n",
       "      <th>31</th>\n",
       "      <td>flopp__unicode-explorer</td>\n",
       "      <td>76.22% (count=164)</td>\n",
       "      <td>75.00% (count=164)</td>\n",
       "      <td>84.76% (count=164)</td>\n",
       "    </tr>\n",
       "    <tr>\n",
       "      <th>32</th>\n",
       "      <td>typeddjango__pytest-mypy-plugins</td>\n",
       "      <td>76.43% (count=157)</td>\n",
       "      <td>79.62% (count=157)</td>\n",
       "      <td>80.89% (count=157)</td>\n",
       "    </tr>\n",
       "    <tr>\n",
       "      <th>33</th>\n",
       "      <td>brettkromkamp__topic-db</td>\n",
       "      <td>90.38% (count=156)</td>\n",
       "      <td>92.31% (count=156)</td>\n",
       "      <td>98.08% (count=156)</td>\n",
       "    </tr>\n",
       "    <tr>\n",
       "      <th>34</th>\n",
       "      <td>payscale__fables</td>\n",
       "      <td>86.86% (count=137)</td>\n",
       "      <td>84.67% (count=137)</td>\n",
       "      <td>95.62% (count=137)</td>\n",
       "    </tr>\n",
       "    <tr>\n",
       "      <th>35</th>\n",
       "      <td>road-master__video-archiver</td>\n",
       "      <td>79.55% (count=132)</td>\n",
       "      <td>76.52% (count=132)</td>\n",
       "      <td>89.39% (count=132)</td>\n",
       "    </tr>\n",
       "    <tr>\n",
       "      <th>36</th>\n",
       "      <td>ActivityWatch__aw-research</td>\n",
       "      <td>83.06% (count=124)</td>\n",
       "      <td>81.45% (count=124)</td>\n",
       "      <td>88.71% (count=124)</td>\n",
       "    </tr>\n",
       "    <tr>\n",
       "      <th>37</th>\n",
       "      <td>JakobGM__quelf</td>\n",
       "      <td>53.15% (count=111)</td>\n",
       "      <td>56.76% (count=111)</td>\n",
       "      <td>68.47% (count=111)</td>\n",
       "    </tr>\n",
       "    <tr>\n",
       "      <th>38</th>\n",
       "      <td>lebrice__blurred-GAN</td>\n",
       "      <td>68.69% (count=99)</td>\n",
       "      <td>78.79% (count=99)</td>\n",
       "      <td>88.89% (count=99)</td>\n",
       "    </tr>\n",
       "    <tr>\n",
       "      <th>39</th>\n",
       "      <td>boompig__book-classics</td>\n",
       "      <td>90.53% (count=95)</td>\n",
       "      <td>85.26% (count=95)</td>\n",
       "      <td>96.84% (count=95)</td>\n",
       "    </tr>\n",
       "    <tr>\n",
       "      <th>40</th>\n",
       "      <td>cliffxuan__mew</td>\n",
       "      <td>60.24% (count=83)</td>\n",
       "      <td>56.63% (count=83)</td>\n",
       "      <td>89.16% (count=83)</td>\n",
       "    </tr>\n",
       "    <tr>\n",
       "      <th>41</th>\n",
       "      <td>amplify-education__python-hcl2</td>\n",
       "      <td>39.76% (count=83)</td>\n",
       "      <td>39.76% (count=83)</td>\n",
       "      <td>60.24% (count=83)</td>\n",
       "    </tr>\n",
       "    <tr>\n",
       "      <th>42</th>\n",
       "      <td>ammarnajjar__pautomate</td>\n",
       "      <td>93.15% (count=73)</td>\n",
       "      <td>84.93% (count=73)</td>\n",
       "      <td>93.15% (count=73)</td>\n",
       "    </tr>\n",
       "    <tr>\n",
       "      <th>43</th>\n",
       "      <td>ohjames__babies</td>\n",
       "      <td>76.39% (count=72)</td>\n",
       "      <td>86.11% (count=72)</td>\n",
       "      <td>93.06% (count=72)</td>\n",
       "    </tr>\n",
       "    <tr>\n",
       "      <th>44</th>\n",
       "      <td>jelford__webwatcher</td>\n",
       "      <td>87.72% (count=57)</td>\n",
       "      <td>82.46% (count=57)</td>\n",
       "      <td>92.98% (count=57)</td>\n",
       "    </tr>\n",
       "    <tr>\n",
       "      <th>45</th>\n",
       "      <td>dropbox__sqlalchemy-stubs</td>\n",
       "      <td>55.10% (count=49)</td>\n",
       "      <td>61.22% (count=49)</td>\n",
       "      <td>67.35% (count=49)</td>\n",
       "    </tr>\n",
       "    <tr>\n",
       "      <th>46</th>\n",
       "      <td>eirannejad__calcatime</td>\n",
       "      <td>85.00% (count=40)</td>\n",
       "      <td>80.00% (count=40)</td>\n",
       "      <td>97.50% (count=40)</td>\n",
       "    </tr>\n",
       "    <tr>\n",
       "      <th>47</th>\n",
       "      <td>jfly__jfly.github.io</td>\n",
       "      <td>84.62% (count=39)</td>\n",
       "      <td>82.05% (count=39)</td>\n",
       "      <td>94.87% (count=39)</td>\n",
       "    </tr>\n",
       "    <tr>\n",
       "      <th>48</th>\n",
       "      <td>silasary__discord_connotations</td>\n",
       "      <td>82.14% (count=28)</td>\n",
       "      <td>89.29% (count=28)</td>\n",
       "      <td>96.43% (count=28)</td>\n",
       "    </tr>\n",
       "    <tr>\n",
       "      <th>49</th>\n",
       "      <td>yeraydiazdiaz__wait_for_it.py</td>\n",
       "      <td>100.00% (count=7)</td>\n",
       "      <td>85.71% (count=7)</td>\n",
       "      <td>100.00% (count=7)</td>\n",
       "    </tr>\n",
       "  </tbody>\n",
       "</table>\n",
       "</div>"
      ],
      "text/plain": [
       "                                      Repo                   BS  \\\n",
       "0                  basilisp-lang__basilisp  47.43% (count=3.4k)   \n",
       "1                    kornicameister__axion  47.11% (count=1.2k)   \n",
       "2                       nabla-c0d3__sslyze  74.02% (count=1.1k)   \n",
       "3     marcosschroh__dataclasses-avroschema   60.10% (count=822)   \n",
       "4        scalableminds__webknossos-connect   67.80% (count=736)   \n",
       "5                rakitaj__daily-programmer   76.50% (count=634)   \n",
       "6                         seattleflu__id3c   59.58% (count=621)   \n",
       "7                          nubark__instark   84.91% (count=570)   \n",
       "8   lucaswerkmeister__tool-quickcategories   79.62% (count=422)   \n",
       "9              paulcwatts__drf-json-schema   66.25% (count=400)   \n",
       "10                   flopp__GpxTrackPoster   76.80% (count=375)   \n",
       "11                    futursolo__magichttp   62.77% (count=368)   \n",
       "12           everyclass__everyclass-server   77.26% (count=365)   \n",
       "13                webrecorder__browsertrix   52.11% (count=332)   \n",
       "14                       knowark__estimark   84.86% (count=317)   \n",
       "15                    albertyw__git-browse   82.41% (count=307)   \n",
       "16                    AxelVoitier__lookups   43.93% (count=305)   \n",
       "17                             jreese__aql   60.87% (count=299)   \n",
       "18                        joshtemple__lkml   75.09% (count=269)   \n",
       "19                      srittau__FakeSMTPd   92.69% (count=260)   \n",
       "20                      sonic182__aiosonic   61.14% (count=229)   \n",
       "21                    TomerFi__aioswitcher   82.27% (count=220)   \n",
       "22                linw1995__data_extractor   60.95% (count=210)   \n",
       "23           reddit__baseplate.py-upgrader   87.62% (count=202)   \n",
       "24                kitsuyui__bamboo-crawler   70.79% (count=202)   \n",
       "25                   ClearcodeHQ__mirakuru   77.16% (count=197)   \n",
       "26      ShadowTemplate__beautiful-python-3   96.45% (count=197)   \n",
       "27                        ocf__slackbridge   85.56% (count=180)   \n",
       "28               antonagestam__collectfast   76.02% (count=171)   \n",
       "29    Gerschtli__teamspeak-update-notifier   92.31% (count=169)   \n",
       "30                  albertyw__albertyw.com   77.84% (count=167)   \n",
       "31                 flopp__unicode-explorer   76.22% (count=164)   \n",
       "32        typeddjango__pytest-mypy-plugins   76.43% (count=157)   \n",
       "33                 brettkromkamp__topic-db   90.38% (count=156)   \n",
       "34                        payscale__fables   86.86% (count=137)   \n",
       "35             road-master__video-archiver   79.55% (count=132)   \n",
       "36              ActivityWatch__aw-research   83.06% (count=124)   \n",
       "37                          JakobGM__quelf   53.15% (count=111)   \n",
       "38                    lebrice__blurred-GAN    68.69% (count=99)   \n",
       "39                  boompig__book-classics    90.53% (count=95)   \n",
       "40                          cliffxuan__mew    60.24% (count=83)   \n",
       "41          amplify-education__python-hcl2    39.76% (count=83)   \n",
       "42                  ammarnajjar__pautomate    93.15% (count=73)   \n",
       "43                         ohjames__babies    76.39% (count=72)   \n",
       "44                     jelford__webwatcher    87.72% (count=57)   \n",
       "45               dropbox__sqlalchemy-stubs    55.10% (count=49)   \n",
       "46                   eirannejad__calcatime    85.00% (count=40)   \n",
       "47                    jfly__jfly.github.io    84.62% (count=39)   \n",
       "48          silasary__discord_connotations    82.14% (count=28)   \n",
       "49           yeraydiazdiaz__wait_for_it.py    100.00% (count=7)   \n",
       "\n",
       "                 Critic               Oracle  \n",
       "0   47.14% (count=3.4k)  53.56% (count=3.4k)  \n",
       "1   46.08% (count=1.2k)  54.52% (count=1.2k)  \n",
       "2   71.90% (count=1.1k)  82.00% (count=1.1k)  \n",
       "3    57.06% (count=822)   69.46% (count=822)  \n",
       "4    68.61% (count=736)   77.31% (count=736)  \n",
       "5    79.65% (count=634)   91.48% (count=634)  \n",
       "6    57.17% (count=621)   72.46% (count=621)  \n",
       "7    85.09% (count=570)   96.14% (count=570)  \n",
       "8    77.96% (count=422)   86.73% (count=422)  \n",
       "9    67.50% (count=400)   76.25% (count=400)  \n",
       "10   72.80% (count=375)   86.40% (count=375)  \n",
       "11   63.59% (count=368)   69.02% (count=368)  \n",
       "12   76.16% (count=365)   86.03% (count=365)  \n",
       "13   49.10% (count=332)   64.76% (count=332)  \n",
       "14   83.60% (count=317)   92.11% (count=317)  \n",
       "15   81.43% (count=307)   90.55% (count=307)  \n",
       "16   44.59% (count=305)   51.80% (count=305)  \n",
       "17   53.18% (count=299)   71.57% (count=299)  \n",
       "18   72.12% (count=269)   80.30% (count=269)  \n",
       "19   89.62% (count=260)   96.15% (count=260)  \n",
       "20   61.14% (count=229)   66.38% (count=229)  \n",
       "21   82.27% (count=220)   90.45% (count=220)  \n",
       "22   61.90% (count=210)   67.62% (count=210)  \n",
       "23   86.14% (count=202)   95.05% (count=202)  \n",
       "24   68.81% (count=202)   83.66% (count=202)  \n",
       "25   81.22% (count=197)   88.83% (count=197)  \n",
       "26   96.45% (count=197)   97.97% (count=197)  \n",
       "27   81.11% (count=180)   93.89% (count=180)  \n",
       "28   81.87% (count=171)   84.80% (count=171)  \n",
       "29   89.94% (count=169)   95.86% (count=169)  \n",
       "30   74.85% (count=167)   92.22% (count=167)  \n",
       "31   75.00% (count=164)   84.76% (count=164)  \n",
       "32   79.62% (count=157)   80.89% (count=157)  \n",
       "33   92.31% (count=156)   98.08% (count=156)  \n",
       "34   84.67% (count=137)   95.62% (count=137)  \n",
       "35   76.52% (count=132)   89.39% (count=132)  \n",
       "36   81.45% (count=124)   88.71% (count=124)  \n",
       "37   56.76% (count=111)   68.47% (count=111)  \n",
       "38    78.79% (count=99)    88.89% (count=99)  \n",
       "39    85.26% (count=95)    96.84% (count=95)  \n",
       "40    56.63% (count=83)    89.16% (count=83)  \n",
       "41    39.76% (count=83)    60.24% (count=83)  \n",
       "42    84.93% (count=73)    93.15% (count=73)  \n",
       "43    86.11% (count=72)    93.06% (count=72)  \n",
       "44    82.46% (count=57)    92.98% (count=57)  \n",
       "45    61.22% (count=49)    67.35% (count=49)  \n",
       "46    80.00% (count=40)    97.50% (count=40)  \n",
       "47    82.05% (count=39)    94.87% (count=39)  \n",
       "48    89.29% (count=28)    96.43% (count=28)  \n",
       "49     85.71% (count=7)    100.00% (count=7)  "
      ]
     },
     "metadata": {},
     "output_type": "display_data"
    }
   ],
   "source": [
    "from spot.utils import pd, display\n",
    "\n",
    "grouped_res = results[\"BS + critic-False\"].group_by_repo()\n",
    "grouped_full_acc = {k: v.accuracies[\"full_acc\"] for k, v in grouped_res.items()}\n",
    "repos = list(grouped_full_acc.keys())\n",
    "repos.sort(key=lambda x: grouped_full_acc[x].n_total, reverse=True)\n",
    "\n",
    "grouped_acc_bs = {\n",
    "    k: v.accuracies[\"full_acc\"] for k, v in results[\"BS\"].group_by_repo().items()\n",
    "}\n",
    "grouped_oracle_bs = {\n",
    "    k: v.accuracies[\"full_acc\"]\n",
    "    for k, v in results[\"BS + oracle\"].group_by_repo().items()\n",
    "}\n",
    "\n",
    "table = pd.DataFrame(\n",
    "    {\n",
    "        \"Repo\": [r.name for r in repos],\n",
    "        \"BS\": [str(grouped_acc_bs[r]) for r in repos],\n",
    "        \"Critic\": [str(grouped_full_acc[r]) for r in repos],\n",
    "        \"Oracle\": [str(grouped_oracle_bs[r]) for r in repos],\n",
    "    }\n",
    ")\n",
    "display(table)\n"
   ]
  },
  {
   "cell_type": "code",
   "execution_count": 42,
   "metadata": {},
   "outputs": [
    {
     "data": {
      "application/vnd.jupyter.widget-view+json": {
       "model_id": "1615c7e1f80d4b67ad0c4640fef0ae48",
       "version_major": 2,
       "version_minor": 0
      },
      "text/plain": [
       "VBox(children=(IntSlider(value=0, continuous_update=False, max=178), VBox(children=(VBox(children=(Box(childre…"
      ]
     },
     "metadata": {},
     "output_type": "display_data"
    }
   ],
   "source": [
    "from spot.utils import not_none\n",
    "from spot.visualization import visualize_preds_on_code\n",
    "\n",
    "critic_eval = results[critic_result_name(False)]\n",
    "preds_extra = {\n",
    "    \"critic_preds\": [\n",
    "        x.candidate_label_scores[x.best_candidate] for x in critic_eval.extra_info\n",
    "    ]\n",
    "}\n",
    "visualize_preds_on_code(critic_eval.chunks, critic_eval.predictions, preds_extra)\n"
   ]
  },
  {
   "cell_type": "code",
   "execution_count": null,
   "metadata": {},
   "outputs": [],
   "source": [
    "from spot.decode import collect_type_errors_from_predictions\n",
    "from spot.model import DatasetPredResult\n",
    "from spot.type_check import PythonType, MypyFeedback\n",
    "from spot.data import SrcDataset\n",
    "\n",
    "\n",
    "def collect_base_errors(dataset: SrcDataset):\n",
    "    \"Collect the type errors triggered by replacing all labels with `Any`.\"\n",
    "    chunks = dataset.to_chunks(\n",
    "        r0_wrapper.tokenizer, r0_wrapper.args.ctx_args, tqdm_args={\"disable\": True}\n",
    "    )\n",
    "    dummy_preds = [\n",
    "        [PythonType((\"Any\",)) for _ in info.types] for info in chunks.chunks_info\n",
    "    ]\n",
    "    pred_r = DatasetPredResult(chunks, dummy_preds)\n",
    "    return collect_type_errors_from_predictions(dataset, pred_r, max_workers=30)\n",
    "\n",
    "\n",
    "def collect_gold_errors(dataset: SrcDataset):\n",
    "    \"Collect the type errors triggered by ground-truth labels.\"\n",
    "    chunks = dataset.to_chunks(\n",
    "        r0_wrapper.tokenizer, r0_wrapper.args.ctx_args, tqdm_args={\"disable\": True}\n",
    "    )\n",
    "    label_preds = [info.types for info in chunks.chunks_info]\n",
    "    pred_r = DatasetPredResult(chunks, label_preds)\n",
    "    return collect_type_errors_from_predictions(dataset, pred_r, max_workers=30)\n",
    "\n",
    "\n",
    "num_labels = sum(len(s.types) for s in testset.srcs_with_labels())\n",
    "print(\"Total number of labels: \", num_labels)\n",
    "type_errors = dict[str, list[tuple[Path, MypyFeedback]]]()\n",
    "type_errors[\"default\"] = collect_base_errors(testset)\n",
    "type_errors[\"gold\"] = collect_gold_errors(testset)\n",
    "for k, v in results.items():\n",
    "    type_errors[k] = collect_type_errors_from_predictions(testset, v, max_workers=30)\n",
    "\n",
    "from spot.visualization import dict_widget, display_persist\n",
    "\n",
    "display_persist(dict_widget({k: len(v) for k, v in type_errors.items()}))\n"
   ]
  },
  {
   "cell_type": "code",
   "execution_count": null,
   "metadata": {},
   "outputs": [],
   "source": [
    "from spot.visualization import seq_flatten, visualize_counts\n",
    "from spot.utils import Counter\n",
    "from spot.type_check import count_type_frequency\n",
    "\n",
    "\n",
    "def show_type_distr(recursive: bool, top_k: int):\n",
    "    counts = dict[str, Counter]()\n",
    "    for name in [\"greedy\", \"BS + feedback\"]:\n",
    "        types = seq_flatten(results[name].predictions)\n",
    "        counts[name] = count_type_frequency(types, recursive=recursive)\n",
    "\n",
    "    display(visualize_counts(counts, x_name=\"Predicted Type\", top_k=top_k))\n",
    "\n",
    "\n",
    "show_type_distr(recursive=True, top_k=15)\n"
   ]
  },
  {
   "cell_type": "code",
   "execution_count": null,
   "metadata": {},
   "outputs": [],
   "source": [
    "from spot.visualization import visualize_counts, visualize_sequence_tabs, display\n",
    "from spot.utils import Counter\n",
    "\n",
    "default_counts = Counter(e.error_code for _, e in type_errors[\"default\"])\n",
    "\n",
    "error_counts = dict[str, Counter]()\n",
    "for name in [\"gold\"]:  # [\"greedy\", \"BS + feedback\"]:\n",
    "    c = Counter(e.error_code for _, e in type_errors[name])\n",
    "    for e, v in default_counts.items():\n",
    "        c[e] -= v\n",
    "    error_counts[name] = c\n",
    "display(visualize_counts(error_counts, \"Error\"))\n"
   ]
  },
  {
   "cell_type": "code",
   "execution_count": null,
   "metadata": {},
   "outputs": [],
   "source": [
    "from spot.visualization import visualize_conf_matrix\n",
    "\n",
    "visualize_conf_matrix(results)\n"
   ]
  }
 ],
 "metadata": {
  "kernelspec": {
   "display_name": "Python 3 (ipykernel)",
   "language": "python",
   "name": "python3"
  },
  "language_info": {
   "codemirror_mode": {
    "name": "ipython",
    "version": 3
   },
   "file_extension": ".py",
   "mimetype": "text/x-python",
   "name": "python",
   "nbconvert_exporter": "python",
   "pygments_lexer": "ipython3",
   "version": "3.10.4"
  },
  "orig_nbformat": 4,
  "vscode": {
   "interpreter": {
    "hash": "f6ffc72953da4dd16b2e00785be9c4013ef131f465a8658f3921b6634d4eeec8"
   }
  }
 },
 "nbformat": 4,
 "nbformat_minor": 2
}
