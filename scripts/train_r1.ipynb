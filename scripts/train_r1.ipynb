{
 "cells": [
  {
   "cell_type": "code",
   "execution_count": 1,
   "metadata": {
    "notebookRunGroups": {
     "groupValue": "1"
    }
   },
   "outputs": [],
   "source": [
    "%load_ext autoreload\n",
    "%autoreload 2\n",
    "\n",
    "import os\n",
    "import pickle\n",
    "from pathlib import Path\n",
    "from typing import *\n",
    "\n",
    "import pandas as pd\n",
    "import plotly.express as px\n",
    "\n",
    "from spot.utils import cst, proj_root, run_long_task, tqdm\n",
    "\n",
    "os.chdir(proj_root())\n",
    "\n",
    "datadir = Path(os.getenv(\"datadir\"))\n",
    "repos_dir = datadir / \"SPOT-data/repos\""
   ]
  },
  {
   "cell_type": "code",
   "execution_count": 2,
   "metadata": {
    "notebookRunGroups": {
     "groupValue": "1"
    }
   },
   "outputs": [],
   "source": [
    "from spot.data import SrcDataset\n",
    "\n",
    "src_datasets_path = datadir / f\"SPOT-data/src_datasets\"\n",
    "src_datasets = dict[str, SrcDataset]()\n",
    "for n in [\"train\", \"valid\", \"test\"]:\n",
    "    with open(src_datasets_path / f\"{n}.pkl\", \"rb\") as f:\n",
    "        src_datasets[n] = pickle.load(f)\n",
    "        src_datasets[n].repos_root = repos_dir\n"
   ]
  },
  {
   "cell_type": "code",
   "execution_count": 3,
   "metadata": {},
   "outputs": [
    {
     "name": "stderr",
     "output_type": "stream",
     "text": [
      "/home/jiayi/Projects/SPOT/.venv/lib/python3.10/site-packages/torch/nn/modules/module.py:1402: UserWarning: positional arguments and argument \"destination\" are deprecated. nn.Module.state_dict will not accept them in the future. Refer to https://pytorch.org/docs/master/generated/torch.nn.Module.html#torch.nn.Module.state_dict for details.\n",
      "  warnings.warn(\n"
     ]
    }
   ],
   "source": [
    "import torch\n",
    "\n",
    "from spot.model import ModelSPOT, ModelWrapper\n",
    "\n",
    "with_margin = True\n",
    "data_reduction = 1\n",
    "\n",
    "margin_tag = \"with_margin\" if with_margin else \"no_margin\"\n",
    "data_tag = \"data_full\" if data_reduction == 1 else f\"data_1-{data_reduction}\"\n",
    "\n",
    "device = torch.device(\"cuda:0\" if torch.cuda.is_available() else \"cpu\")\n",
    "r0_model_name = f\"SPOT-R0-{margin_tag}-{data_tag}\"\n",
    "r0_wrapper = ModelWrapper.from_pretrained(\n",
    "    datadir / f\"checkpoints/saved/{r0_model_name}\"\n",
    ")\n",
    "r0_wrapper.model.to(device)\n",
    "tokenizer = r0_wrapper.tokenizer"
   ]
  },
  {
   "cell_type": "code",
   "execution_count": 4,
   "metadata": {
    "notebookRunGroups": {
     "groupValue": "1"
    }
   },
   "outputs": [],
   "source": [
    "# Set this to the best ctx_size\n",
    "best_r0_ctx_factor = 2\n",
    "r0_wrapper_best = r0_wrapper.scale_ctx_size(best_r0_ctx_factor)\n"
   ]
  },
  {
   "cell_type": "code",
   "execution_count": 5,
   "metadata": {
    "notebookRunGroups": {
     "groupValue": "1"
    }
   },
   "outputs": [
    {
     "name": "stderr",
     "output_type": "stream",
     "text": [
      "/home/jiayi/Projects/SPOT/.venv/lib/python3.10/site-packages/torch/nn/modules/module.py:1402: UserWarning: positional arguments and argument \"destination\" are deprecated. nn.Module.state_dict will not accept them in the future. Refer to https://pytorch.org/docs/master/generated/torch.nn.Module.html#torch.nn.Module.state_dict for details.\n",
      "  warnings.warn(\n"
     ]
    }
   ],
   "source": [
    "from spot.model import CtxArgs, DecodingArgs, ModelSPOT, ModelWrapper, TokenizerSPOT\n",
    "from spot.utils import TaskLoggingMonitor\n",
    "\n",
    "train_r1 = True\n",
    "\n",
    "r1_model_name = f\"SPOT-R1-{margin_tag}-{data_tag}\"\n",
    "\n",
    "if train_r1:\n",
    "    r1_model_path = \"Salesforce/codet5-base\"\n",
    "    # fine_tune from R0\n",
    "    # r1_model_path = datadir / f\"checkpoints/saved/{r0_model_name}\"\n",
    "else:\n",
    "    r1_model_path = datadir / f\"checkpoints/saved/{r1_model_name}\"\n",
    "\n",
    "r1_model: ModelSPOT = ModelSPOT.from_pretrained(r1_model_path).to(device)\n",
    "r1_monitor = TaskLoggingMonitor(\"R1\")\n",
    "r1_args = r0_wrapper.args\n",
    "r1_wrapper = ModelWrapper(r1_model, tokenizer, r1_args, r1_monitor)"
   ]
  },
  {
   "cell_type": "code",
   "execution_count": 6,
   "metadata": {
    "notebookRunGroups": {
     "groupValue": "1"
    }
   },
   "outputs": [
    {
     "name": "stdout",
     "output_type": "stream",
     "text": [
      "Working on: test\n",
      "Working on: valid\n",
      "Working on: train\n",
      "Pushover: (Finished: Generating R1 datasets.) Time taken: 28.3s\n"
     ]
    }
   ],
   "source": [
    "import pickle\n",
    "\n",
    "from spot.data import ChunkedDataset, save_datasets\n",
    "from spot.utils import PickleCache\n",
    "\n",
    "test_r1_generation = False\n",
    "use_file_level_feedback = False\n",
    "\n",
    "feedback_tag = \"iso_file\"  # \"per_file\" if use_file_level_feedback else \"per_project\"\n",
    "\n",
    "r1_cache = PickleCache(datadir / f\"cache/r1_src_datasets-{test_r1_generation}\")\n",
    "\n",
    "with run_long_task(\"Generating R1 datasets\", notify=False):\n",
    "    r1_src_datasets = dict()\n",
    "    for name in [\"test\", \"valid\", \"train\"]:\n",
    "        print(\"Working on:\", name)\n",
    "        r0_src = src_datasets[name]\n",
    "        if test_r1_generation:\n",
    "            r0_src = SrcDataset(r0_src.srcs_with_labels()[:16], r0_src.repos_root)\n",
    "        _, r0_data, r0_preds = r1_cache.cached(\n",
    "            f\"eval_r0/{name}\",\n",
    "            lambda: r0_wrapper_best.eval_on_dataset(r0_src, tqdm_args={\"leave\": False}),\n",
    "        )\n",
    "        r1_src_datasets[name] = r1_cache.cached(\n",
    "            f\"r1_src_datasets/{name}\",\n",
    "            lambda: r1_wrapper.generate_r1_srcs(\n",
    "                r0_src,\n",
    "                r0_data,\n",
    "                r0_preds,\n",
    "            ),\n",
    "        )\n"
   ]
  },
  {
   "cell_type": "code",
   "execution_count": 7,
   "metadata": {
    "notebookRunGroups": {
     "groupValue": "1"
    }
   },
   "outputs": [
    {
     "data": {
      "application/vnd.jupyter.widget-view+json": {
       "model_id": "de5f7c11342f4579963e4dc989d930e9",
       "version_major": 2,
       "version_minor": 0
      },
      "text/plain": [
       "processing chunks:   0%|          | 0/3805 [00:00<?, ?it/s]"
      ]
     },
     "metadata": {},
     "output_type": "display_data"
    },
    {
     "data": {
      "application/vnd.jupyter.widget-view+json": {
       "model_id": "a0e05a6dbe9945cf8eda40fcb57be439",
       "version_major": 2,
       "version_minor": 0
      },
      "text/plain": [
       "processing chunks:   0%|          | 0/53864 [00:00<?, ?it/s]"
      ]
     },
     "metadata": {},
     "output_type": "display_data"
    },
    {
     "name": "stderr",
     "output_type": "stream",
     "text": [
      "Using amp half precision backend\n",
      "ERROR:wandb.jupyter:Failed to detect the name of this notebook, you can set it manually with the WANDB_NOTEBOOK_NAME environment variable to enable code saving.\n"
     ]
    },
    {
     "name": "stdout",
     "output_type": "stream",
     "text": [
      "Pushover: (Finished: Preparing R1 chunked datasets.) Time taken: 74.0s\n"
     ]
    },
    {
     "name": "stderr",
     "output_type": "stream",
     "text": [
      "\u001b[34m\u001b[1mwandb\u001b[0m: Currently logged in as: \u001b[33mmrvplusone\u001b[0m. Use \u001b[1m`wandb login --relogin`\u001b[0m to force relogin\n"
     ]
    },
    {
     "data": {
      "text/html": [
       "Tracking run with wandb version 0.12.16"
      ],
      "text/plain": [
       "<IPython.core.display.HTML object>"
      ]
     },
     "metadata": {},
     "output_type": "display_data"
    },
    {
     "data": {
      "text/html": [
       "Run data is saved locally in <code>/mnt/data0/jiayi/wandb/run-20220519_151536-2v2zw35m</code>"
      ],
      "text/plain": [
       "<IPython.core.display.HTML object>"
      ]
     },
     "metadata": {},
     "output_type": "display_data"
    },
    {
     "data": {
      "text/html": [
       "Syncing run <strong><a href=\"https://wandb.ai/mrvplusone/SPOT-R1-with_margin-data_full/runs/2v2zw35m\" target=\"_blank\">vibrant-bird-10</a></strong> to <a href=\"https://wandb.ai/mrvplusone/SPOT-R1-with_margin-data_full\" target=\"_blank\">Weights & Biases</a> (<a href=\"https://wandb.me/run\" target=\"_blank\">docs</a>)<br/>"
      ],
      "text/plain": [
       "<IPython.core.display.HTML object>"
      ]
     },
     "metadata": {},
     "output_type": "display_data"
    },
    {
     "name": "stderr",
     "output_type": "stream",
     "text": [
      "***** Running Evaluation *****\n",
      "  Num examples = 2786\n",
      "  Batch size = 64\n"
     ]
    },
    {
     "data": {
      "text/html": [
       "\n",
       "    <div>\n",
       "      \n",
       "      <progress value='88' max='44' style='width:300px; height:20px; vertical-align: middle;'></progress>\n",
       "      [44/44 07:18]\n",
       "    </div>\n",
       "    "
      ],
      "text/plain": [
       "<IPython.core.display.HTML object>"
      ]
     },
     "metadata": {},
     "output_type": "display_data"
    },
    {
     "name": "stderr",
     "output_type": "stream",
     "text": [
      "Automatic Weights & Biases logging enabled, to disable set os.environ[\"WANDB_DISABLED\"] = \"true\"\n",
      "/home/jiayi/Projects/SPOT/.venv/lib/python3.10/site-packages/transformers/optimization.py:306: FutureWarning: This implementation of AdamW is deprecated and will be removed in a future version. Use the PyTorch implementation torch.optim.AdamW instead, or set `no_deprecation_warning=True` to disable this warning\n",
      "  warnings.warn(\n",
      "***** Running training *****\n",
      "  Num examples = 40588\n",
      "  Num Epochs = 3\n",
      "  Instantaneous batch size per device = 8\n",
      "  Total train batch size (w. parallel, distributed & accumulation) = 8\n",
      "  Gradient Accumulation steps = 1\n",
      "  Total optimization steps = 15222\n"
     ]
    },
    {
     "name": "stdout",
     "output_type": "stream",
     "text": [
      "initial performance: {'eval_loss': 0.3440489172935486, 'eval_runtime': 75.7023, 'eval_samples_per_second': 36.802, 'eval_steps_per_second': 0.581}\n"
     ]
    },
    {
     "data": {
      "text/html": [
       "\n",
       "    <div>\n",
       "      \n",
       "      <progress value='2500' max='15222' style='width:300px; height:20px; vertical-align: middle;'></progress>\n",
       "      [ 2500/15222 30:35 < 2:35:48, 1.36 it/s, Epoch 0/3]\n",
       "    </div>\n",
       "    <table border=\"1\" class=\"dataframe\">\n",
       "  <thead>\n",
       " <tr style=\"text-align: left;\">\n",
       "      <th>Step</th>\n",
       "      <th>Training Loss</th>\n",
       "      <th>Validation Loss</th>\n",
       "    </tr>\n",
       "  </thead>\n",
       "  <tbody>\n",
       "    <tr>\n",
       "      <td>500</td>\n",
       "      <td>0.219300</td>\n",
       "      <td>0.294917</td>\n",
       "    </tr>\n",
       "    <tr>\n",
       "      <td>1000</td>\n",
       "      <td>0.226100</td>\n",
       "      <td>0.282882</td>\n",
       "    </tr>\n",
       "    <tr>\n",
       "      <td>1500</td>\n",
       "      <td>0.225000</td>\n",
       "      <td>0.288669</td>\n",
       "    </tr>\n",
       "    <tr>\n",
       "      <td>2000</td>\n",
       "      <td>0.211800</td>\n",
       "      <td>0.283320</td>\n",
       "    </tr>\n",
       "    <tr>\n",
       "      <td>2500</td>\n",
       "      <td>0.211100</td>\n",
       "      <td>0.287434</td>\n",
       "    </tr>\n",
       "  </tbody>\n",
       "</table><p>"
      ],
      "text/plain": [
       "<IPython.core.display.HTML object>"
      ]
     },
     "metadata": {},
     "output_type": "display_data"
    },
    {
     "name": "stderr",
     "output_type": "stream",
     "text": [
      "***** Running Evaluation *****\n",
      "  Num examples = 2786\n",
      "  Batch size = 64\n",
      "Saving model checkpoint to /mnt/data0/jiayi/checkpoints/SPOT-R1-with_margin-data_full/checkpoint-500\n",
      "Configuration saved in /mnt/data0/jiayi/checkpoints/SPOT-R1-with_margin-data_full/checkpoint-500/config.json\n",
      "/home/jiayi/Projects/SPOT/.venv/lib/python3.10/site-packages/torch/nn/modules/module.py:1402: UserWarning: positional arguments and argument \"destination\" are deprecated. nn.Module.state_dict will not accept them in the future. Refer to https://pytorch.org/docs/master/generated/torch.nn.Module.html#torch.nn.Module.state_dict for details.\n",
      "  warnings.warn(\n",
      "Model weights saved in /mnt/data0/jiayi/checkpoints/SPOT-R1-with_margin-data_full/checkpoint-500/pytorch_model.bin\n",
      "tokenizer config file saved in /mnt/data0/jiayi/checkpoints/SPOT-R1-with_margin-data_full/checkpoint-500/tokenizer_config.json\n",
      "Special tokens file saved in /mnt/data0/jiayi/checkpoints/SPOT-R1-with_margin-data_full/checkpoint-500/special_tokens_map.json\n",
      "Deleting older checkpoint [/mnt/data0/jiayi/checkpoints/SPOT-R1-with_margin-data_full/checkpoint-4500] due to args.save_total_limit\n",
      "***** Running Evaluation *****\n",
      "  Num examples = 2786\n",
      "  Batch size = 64\n",
      "Saving model checkpoint to /mnt/data0/jiayi/checkpoints/SPOT-R1-with_margin-data_full/checkpoint-1000\n",
      "Configuration saved in /mnt/data0/jiayi/checkpoints/SPOT-R1-with_margin-data_full/checkpoint-1000/config.json\n",
      "/home/jiayi/Projects/SPOT/.venv/lib/python3.10/site-packages/torch/nn/modules/module.py:1402: UserWarning: positional arguments and argument \"destination\" are deprecated. nn.Module.state_dict will not accept them in the future. Refer to https://pytorch.org/docs/master/generated/torch.nn.Module.html#torch.nn.Module.state_dict for details.\n",
      "  warnings.warn(\n",
      "Model weights saved in /mnt/data0/jiayi/checkpoints/SPOT-R1-with_margin-data_full/checkpoint-1000/pytorch_model.bin\n",
      "tokenizer config file saved in /mnt/data0/jiayi/checkpoints/SPOT-R1-with_margin-data_full/checkpoint-1000/tokenizer_config.json\n",
      "Special tokens file saved in /mnt/data0/jiayi/checkpoints/SPOT-R1-with_margin-data_full/checkpoint-1000/special_tokens_map.json\n",
      "Deleting older checkpoint [/mnt/data0/jiayi/checkpoints/SPOT-R1-with_margin-data_full/checkpoint-5500] due to args.save_total_limit\n",
      "***** Running Evaluation *****\n",
      "  Num examples = 2786\n",
      "  Batch size = 64\n",
      "Saving model checkpoint to /mnt/data0/jiayi/checkpoints/SPOT-R1-with_margin-data_full/checkpoint-1500\n",
      "Configuration saved in /mnt/data0/jiayi/checkpoints/SPOT-R1-with_margin-data_full/checkpoint-1500/config.json\n",
      "/home/jiayi/Projects/SPOT/.venv/lib/python3.10/site-packages/torch/nn/modules/module.py:1402: UserWarning: positional arguments and argument \"destination\" are deprecated. nn.Module.state_dict will not accept them in the future. Refer to https://pytorch.org/docs/master/generated/torch.nn.Module.html#torch.nn.Module.state_dict for details.\n",
      "  warnings.warn(\n",
      "Model weights saved in /mnt/data0/jiayi/checkpoints/SPOT-R1-with_margin-data_full/checkpoint-1500/pytorch_model.bin\n",
      "tokenizer config file saved in /mnt/data0/jiayi/checkpoints/SPOT-R1-with_margin-data_full/checkpoint-1500/tokenizer_config.json\n",
      "Special tokens file saved in /mnt/data0/jiayi/checkpoints/SPOT-R1-with_margin-data_full/checkpoint-1500/special_tokens_map.json\n",
      "Deleting older checkpoint [/mnt/data0/jiayi/checkpoints/SPOT-R1-with_margin-data_full/checkpoint-6000] due to args.save_total_limit\n",
      "***** Running Evaluation *****\n",
      "  Num examples = 2786\n",
      "  Batch size = 64\n",
      "Saving model checkpoint to /mnt/data0/jiayi/checkpoints/SPOT-R1-with_margin-data_full/checkpoint-2000\n",
      "Configuration saved in /mnt/data0/jiayi/checkpoints/SPOT-R1-with_margin-data_full/checkpoint-2000/config.json\n",
      "/home/jiayi/Projects/SPOT/.venv/lib/python3.10/site-packages/torch/nn/modules/module.py:1402: UserWarning: positional arguments and argument \"destination\" are deprecated. nn.Module.state_dict will not accept them in the future. Refer to https://pytorch.org/docs/master/generated/torch.nn.Module.html#torch.nn.Module.state_dict for details.\n",
      "  warnings.warn(\n",
      "Model weights saved in /mnt/data0/jiayi/checkpoints/SPOT-R1-with_margin-data_full/checkpoint-2000/pytorch_model.bin\n",
      "tokenizer config file saved in /mnt/data0/jiayi/checkpoints/SPOT-R1-with_margin-data_full/checkpoint-2000/tokenizer_config.json\n",
      "Special tokens file saved in /mnt/data0/jiayi/checkpoints/SPOT-R1-with_margin-data_full/checkpoint-2000/special_tokens_map.json\n",
      "Deleting older checkpoint [/mnt/data0/jiayi/checkpoints/SPOT-R1-with_margin-data_full/checkpoint-500] due to args.save_total_limit\n",
      "***** Running Evaluation *****\n",
      "  Num examples = 2786\n",
      "  Batch size = 64\n",
      "Saving model checkpoint to /mnt/data0/jiayi/checkpoints/SPOT-R1-with_margin-data_full/checkpoint-2500\n",
      "Configuration saved in /mnt/data0/jiayi/checkpoints/SPOT-R1-with_margin-data_full/checkpoint-2500/config.json\n",
      "/home/jiayi/Projects/SPOT/.venv/lib/python3.10/site-packages/torch/nn/modules/module.py:1402: UserWarning: positional arguments and argument \"destination\" are deprecated. nn.Module.state_dict will not accept them in the future. Refer to https://pytorch.org/docs/master/generated/torch.nn.Module.html#torch.nn.Module.state_dict for details.\n",
      "  warnings.warn(\n",
      "Model weights saved in /mnt/data0/jiayi/checkpoints/SPOT-R1-with_margin-data_full/checkpoint-2500/pytorch_model.bin\n",
      "tokenizer config file saved in /mnt/data0/jiayi/checkpoints/SPOT-R1-with_margin-data_full/checkpoint-2500/tokenizer_config.json\n",
      "Special tokens file saved in /mnt/data0/jiayi/checkpoints/SPOT-R1-with_margin-data_full/checkpoint-2500/special_tokens_map.json\n",
      "Deleting older checkpoint [/mnt/data0/jiayi/checkpoints/SPOT-R1-with_margin-data_full/checkpoint-1500] due to args.save_total_limit\n",
      "\n",
      "\n",
      "Training completed. Do not forget to share your model on huggingface.co/models =)\n",
      "\n",
      "\n",
      "Loading best model from /mnt/data0/jiayi/checkpoints/SPOT-R1-with_margin-data_full/checkpoint-1000 (score: 0.2828815281391144).\n"
     ]
    },
    {
     "name": "stdout",
     "output_type": "stream",
     "text": [
      "Pushover: (Finished: Training SPOT-R1-with_margin-data_full.) Time taken: 1912.1s\n"
     ]
    },
    {
     "name": "stderr",
     "output_type": "stream",
     "text": [
      "***** Running Evaluation *****\n",
      "  Num examples = 2786\n",
      "  Batch size = 64\n"
     ]
    },
    {
     "data": {
      "text/html": [
       "\n",
       "    <div>\n",
       "      \n",
       "      <progress value='44' max='44' style='width:300px; height:20px; vertical-align: middle;'></progress>\n",
       "      [44/44 01:14]\n",
       "    </div>\n",
       "    "
      ],
      "text/plain": [
       "<IPython.core.display.HTML object>"
      ]
     },
     "metadata": {},
     "output_type": "display_data"
    },
    {
     "name": "stdout",
     "output_type": "stream",
     "text": [
      "final performance: {'eval_loss': 0.2828815281391144, 'eval_runtime': 75.7831, 'eval_samples_per_second': 36.763, 'eval_steps_per_second': 0.581, 'epoch': 0.49}\n"
     ]
    },
    {
     "data": {
      "text/html": [
       "Waiting for W&B process to finish... <strong style=\"color:green\">(success).</strong>"
      ],
      "text/plain": [
       "<IPython.core.display.HTML object>"
      ]
     },
     "metadata": {},
     "output_type": "display_data"
    },
    {
     "data": {
      "application/vnd.jupyter.widget-view+json": {
       "model_id": "7d9d5747bb0e44608d3106de744d0528",
       "version_major": 2,
       "version_minor": 0
      },
      "text/plain": [
       "VBox(children=(Label(value='0.001 MB of 0.001 MB uploaded (0.000 MB deduped)\\r'), FloatProgress(value=1.0, max…"
      ]
     },
     "metadata": {},
     "output_type": "display_data"
    },
    {
     "data": {
      "text/html": [
       "<style>\n",
       "    table.wandb td:nth-child(1) { padding: 0 10px; text-align: left ; width: auto;} td:nth-child(2) {text-align: left ; width: 100%}\n",
       "    .wandb-row { display: flex; flex-direction: row; flex-wrap: wrap; justify-content: flex-start; width: 100% }\n",
       "    .wandb-col { display: flex; flex-direction: column; flex-basis: 100%; flex: 1; padding: 10px; }\n",
       "    </style>\n",
       "<div class=\"wandb-row\"><div class=\"wandb-col\"><h3>Run history:</h3><br/><table class=\"wandb\"><tr><td>eval/loss</td><td>█▂▁▂▁▂▁</td></tr><tr><td>eval/runtime</td><td>▁▅█▇▇▇▇</td></tr><tr><td>eval/samples_per_second</td><td>█▃▁▂▃▂▂</td></tr><tr><td>eval/steps_per_second</td><td>▁▁▁▁▁▁▁</td></tr><tr><td>train/epoch</td><td>▁▁▃▃▅▅▆▆████</td></tr><tr><td>train/global_step</td><td>▁▂▂▄▄▅▅▇▇████</td></tr><tr><td>train/learning_rate</td><td>█▆▄▃▁</td></tr><tr><td>train/loss</td><td>▅█▇▁▁</td></tr><tr><td>train/total_flos</td><td>▁</td></tr><tr><td>train/train_loss</td><td>▁</td></tr><tr><td>train/train_runtime</td><td>▁</td></tr><tr><td>train/train_samples_per_second</td><td>▁</td></tr><tr><td>train/train_steps_per_second</td><td>▁</td></tr></table><br/></div><div class=\"wandb-col\"><h3>Run summary:</h3><br/><table class=\"wandb\"><tr><td>eval/loss</td><td>0.28288</td></tr><tr><td>eval/runtime</td><td>75.7831</td></tr><tr><td>eval/samples_per_second</td><td>36.763</td></tr><tr><td>eval/steps_per_second</td><td>0.581</td></tr><tr><td>train/epoch</td><td>0.49</td></tr><tr><td>train/global_step</td><td>2500</td></tr><tr><td>train/learning_rate</td><td>2e-05</td></tr><tr><td>train/loss</td><td>0.2111</td></tr><tr><td>train/total_flos</td><td>2.43583156224e+16</td></tr><tr><td>train/train_loss</td><td>0.21865</td></tr><tr><td>train/train_runtime</td><td>1836.3162</td></tr><tr><td>train/train_samples_per_second</td><td>66.309</td></tr><tr><td>train/train_steps_per_second</td><td>8.289</td></tr></table><br/></div></div>"
      ],
      "text/plain": [
       "<IPython.core.display.HTML object>"
      ]
     },
     "metadata": {},
     "output_type": "display_data"
    },
    {
     "data": {
      "text/html": [
       "Synced <strong style=\"color:#cdcd00\">vibrant-bird-10</strong>: <a href=\"https://wandb.ai/mrvplusone/SPOT-R1-with_margin-data_full/runs/2v2zw35m\" target=\"_blank\">https://wandb.ai/mrvplusone/SPOT-R1-with_margin-data_full/runs/2v2zw35m</a><br/>Synced 5 W&B file(s), 0 media file(s), 0 artifact file(s) and 0 other file(s)"
      ],
      "text/plain": [
       "<IPython.core.display.HTML object>"
      ]
     },
     "metadata": {},
     "output_type": "display_data"
    },
    {
     "data": {
      "text/html": [
       "Find logs at: <code>/mnt/data0/jiayi/wandb/run-20220519_151536-2v2zw35m/logs</code>"
      ],
      "text/plain": [
       "<IPython.core.display.HTML object>"
      ]
     },
     "metadata": {},
     "output_type": "display_data"
    },
    {
     "name": "stderr",
     "output_type": "stream",
     "text": [
      "Configuration saved in /mnt/data0/jiayi/checkpoints/saved/SPOT-R1-with_margin-data_full/config.json\n",
      "/home/jiayi/Projects/SPOT/.venv/lib/python3.10/site-packages/torch/nn/modules/module.py:1402: UserWarning: positional arguments and argument \"destination\" are deprecated. nn.Module.state_dict will not accept them in the future. Refer to https://pytorch.org/docs/master/generated/torch.nn.Module.html#torch.nn.Module.state_dict for details.\n",
      "  warnings.warn(\n",
      "Model weights saved in /mnt/data0/jiayi/checkpoints/saved/SPOT-R1-with_margin-data_full/pytorch_model.bin\n",
      "tokenizer config file saved in /mnt/data0/jiayi/checkpoints/saved/SPOT-R1-with_margin-data_full/tokenizer_config.json\n",
      "Special tokens file saved in /mnt/data0/jiayi/checkpoints/saved/SPOT-R1-with_margin-data_full/special_tokens_map.json\n"
     ]
    }
   ],
   "source": [
    "import wandb\n",
    "from spot.model import ModelTrainingArgs\n",
    "\n",
    "r1_train_args = ModelTrainingArgs(\n",
    "    train_batch_size=8,\n",
    "    eval_batch_size=64,\n",
    "    max_epochs=3,\n",
    ")\n",
    "\n",
    "if train_r1:\n",
    "    r1_chunks: dict[str, ChunkedDataset] = {}\n",
    "    with run_long_task(\"Preparing R1 chunked datasets\", notify=False):\n",
    "        for n in [\"valid\", \"train\"]:\n",
    "            r1_chunks[n] = r1_src_datasets[n].to_chunks(\n",
    "                tokenizer, r1_wrapper.args.ctx_args, max_workers=20\n",
    "            )\n",
    "\n",
    "    r1_trainer = r1_wrapper.build_trainer(\n",
    "        datadir / \"checkpoints\" / r1_model_name,\n",
    "        r1_train_args,\n",
    "        dataset=r1_chunks[\"train\"].data,\n",
    "        eval_dataset=r1_chunks[\"valid\"].data,\n",
    "    )\n",
    "\n",
    "    wandb.init(\n",
    "        project=r1_model_name,\n",
    "        dir=str(datadir),\n",
    "        config={\"r1_decoding_args\": r1_args, \"r1_train_args\": r1_train_args},\n",
    "    )\n",
    "\n",
    "    with run_long_task(f\"Training {r1_model_name}\"):\n",
    "        init_perf = r1_trainer.evaluate(max_length=r1_args.generation_max_length)\n",
    "        print(\"initial performance:\", init_perf)\n",
    "        r1_trainer.train()\n",
    "\n",
    "    wandb.log({\"time_stats\": r1_monitor.timer.total_times()})\n",
    "\n",
    "    final_perf = r1_trainer.evaluate(max_length=r1_args.generation_max_length)\n",
    "    print(\"final performance:\", final_perf)\n",
    "    wandb.finish()\n",
    "\n",
    "    r1_wrapper.save_pretrained(datadir / f\"checkpoints/saved/{r1_model_name}\")\n"
   ]
  },
  {
   "cell_type": "code",
   "execution_count": 8,
   "metadata": {
    "notebookRunGroups": {
     "groupValue": "1"
    }
   },
   "outputs": [
    {
     "data": {
      "application/vnd.jupyter.widget-view+json": {
       "model_id": "7b47a5ede7054017934869d4de658cbe",
       "version_major": 2,
       "version_minor": 0
      },
      "text/plain": [
       "processing chunks:   0%|          | 0/2729 [00:00<?, ?it/s]"
      ]
     },
     "metadata": {},
     "output_type": "display_data"
    },
    {
     "data": {
      "application/vnd.jupyter.widget-view+json": {
       "model_id": "cfd471c08abd4a9695635b3687b351a3",
       "version_major": 2,
       "version_minor": 0
      },
      "text/plain": [
       "predict:   0%|          | 0/2162 [00:00<?, ?it/s]"
      ]
     },
     "metadata": {},
     "output_type": "display_data"
    },
    {
     "name": "stdout",
     "output_type": "stream",
     "text": [
      "partial_acc: 0.8386\n",
      "partial_acc_wo_any: 0.8454\n",
      "partial_accs:\n",
      "   FuncArg: 0.8436\n",
      "   FuncReturn: 0.8622\n",
      "   ClassAtribute: 0.7711\n",
      "   GlobalVar: 0.7857\n",
      "   LocalVar: 0.8651\n",
      "full_acc: 0.7804\n",
      "full_accs:\n",
      "   FuncArg: 0.7966\n",
      "   FuncReturn: 0.8167\n",
      "   ClassAtribute: 0.6913\n",
      "   GlobalVar: 0.6071\n",
      "   LocalVar: 0.631\n",
      "n_labels: 8419\n"
     ]
    }
   ],
   "source": [
    "from spot.data import preds_to_accuracies, pretty_print_accuracies\n",
    "from spot.visualization import display_code_sequence, visualize_batch\n",
    "\n",
    "r1_wrapper_test = r1_wrapper.scale_ctx_size(2)\n",
    "r1_accs, r1_data, r1_preds = r1_wrapper_test.eval_on_dataset(r1_src_datasets[\"test\"])\n",
    "pretty_print_accuracies(r1_accs)\n"
   ]
  },
  {
   "cell_type": "code",
   "execution_count": 13,
   "metadata": {},
   "outputs": [
    {
     "data": {
      "application/vnd.jupyter.widget-view+json": {
       "model_id": "3e302d703ee64c51b00202a1918b21d8",
       "version_major": 2,
       "version_minor": 0
      },
      "text/plain": [
       "Tab(children=(HTML(value=\"<pre style='line-height: 1.2; padding: 10px; color: rgb(212,212,212); background-col…"
      ]
     },
     "metadata": {},
     "output_type": "display_data"
    }
   ],
   "source": [
    "display_code_sequence(\n",
    "    [\n",
    "        visualize_batch(\n",
    "            r1_data,\n",
    "            i+16,\n",
    "            r1_preds,\n",
    "            tokenizer,\n",
    "            r1_wrapper_test.args.ctx_args,\n",
    "        )\n",
    "        for i in range(min(16, len(r1_data.chunks_info)))\n",
    "    ]\n",
    ")"
   ]
  }
 ],
 "metadata": {
  "interpreter": {
   "hash": "f6ffc72953da4dd16b2e00785be9c4013ef131f465a8658f3921b6634d4eeec8"
  },
  "kernelspec": {
   "display_name": "Python 3.10.4 ('.venv': pipenv)",
   "language": "python",
   "name": "python3"
  },
  "language_info": {
   "codemirror_mode": {
    "name": "ipython",
    "version": 3
   },
   "file_extension": ".py",
   "mimetype": "text/x-python",
   "name": "python",
   "nbconvert_exporter": "python",
   "pygments_lexer": "ipython3",
   "version": "3.10.4"
  },
  "orig_nbformat": 4
 },
 "nbformat": 4,
 "nbformat_minor": 2
}
