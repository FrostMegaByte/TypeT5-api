{
 "cells": [
  {
   "cell_type": "code",
   "execution_count": 1,
   "metadata": {},
   "outputs": [],
   "source": [
    "%load_ext autoreload\n",
    "%autoreload 2\n",
    "\n",
    "import os\n",
    "import pickle\n",
    "from concurrent.futures import ProcessPoolExecutor\n",
    "from pathlib import Path\n",
    "from typing import *\n",
    "\n",
    "import pandas as pd\n",
    "import plotly.express as px\n",
    "\n",
    "from spot.data import GitRepo\n",
    "from spot.utils import cst, proj_root, pushover_alert, run_long_task, tqdm\n",
    "\n",
    "os.chdir(proj_root())\n",
    "\n",
    "datadir = Path(os.getenv(\"datadir\"))\n",
    "repos_dir = datadir / \"SPOT-data/repos\"\n",
    "\n",
    "useful_repos_path = proj_root() / \"scripts\" / \"useful_repos.pkl\"\n",
    "with useful_repos_path.open(\"rb\") as f:\n",
    "    useful_repos: list[GitRepo] = pickle.load(f)\n",
    "\n",
    "repos_split_path = datadir / \"SPOT-data/repos-processed-with_margin/repos_split.pkl\"\n",
    "with repos_split_path.open(\"rb\") as f:\n",
    "    repos_split: dict[str, list[GitRepo]] = pickle.load(f)"
   ]
  },
  {
   "cell_type": "code",
   "execution_count": 2,
   "metadata": {},
   "outputs": [
    {
     "name": "stderr",
     "output_type": "stream",
     "text": [
      "/home/jiayi/Projects/SPOT/.venv/lib/python3.10/site-packages/torch/nn/modules/module.py:1402: UserWarning: positional arguments and argument \"destination\" are deprecated. nn.Module.state_dict will not accept them in the future. Refer to https://pytorch.org/docs/master/generated/torch.nn.Module.html#torch.nn.Module.state_dict for details.\n",
      "  warnings.warn(\n"
     ]
    }
   ],
   "source": [
    "import numpy as np\n",
    "import torch\n",
    "from datasets import Dataset\n",
    "\n",
    "from spot.data import load_datasets\n",
    "from spot.model import CtxArgs, DecodingArgs, ModelSPOT, ModelWrapper, TokenizerSPOT\n",
    "from spot.utils import TaskLoggingMonitor\n",
    "\n",
    "train_r0 = False  # whether to train or load trained R0 model\n",
    "with_margin = True\n",
    "data_reduction = 1\n",
    "\n",
    "\n",
    "margin_tag = \"with_margin\" if with_margin else \"no_margin\"\n",
    "\n",
    "r0_datasets, repos_split = load_datasets(\n",
    "    datadir / f\"SPOT-data/repos-processed-{margin_tag}\"\n",
    ")\n",
    "\n",
    "data_tag = \"data_full\" if data_reduction == 1 else f\"data_1-{data_reduction}\"\n",
    "n_train = len(r0_datasets[\"train\"].data) // data_reduction\n",
    "\n",
    "r0_model_name = f\"SPOT-{margin_tag}-{data_tag}\"\n",
    "\n",
    "if train_r0:\n",
    "    r0_model_path = \"Salesforce/codet5-base\"\n",
    "else: \n",
    "    r0_model_path = datadir / f\"checkpoints/saved/{r0_model_name}\"\n",
    "    \n",
    "device = torch.device(\"cuda:0\" if torch.cuda.is_available() else \"cpu\")\n",
    "tokenizer: TokenizerSPOT = TokenizerSPOT.from_pretrained(r0_model_path)\n",
    "\n",
    "r0_model: ModelSPOT = ModelSPOT.from_pretrained(r0_model_path).to(device)\n",
    "r0_monitor = TaskLoggingMonitor(\"R0\")\n",
    "r0_args = DecodingArgs(\n",
    "    sampling_batch_size=512,\n",
    "    ctx_args=CtxArgs(\n",
    "        ctx_size=512,\n",
    "        ctx_margin=128,\n",
    "        types_in_ctx=True,\n",
    "    ),\n",
    "    max_workers=20,\n",
    ")\n",
    "r0_wrapper = ModelWrapper(r0_model, tokenizer, r0_args, r0_monitor)"
   ]
  },
  {
   "cell_type": "code",
   "execution_count": 3,
   "metadata": {},
   "outputs": [
    {
     "name": "stderr",
     "output_type": "stream",
     "text": [
      "Using amp half precision backend\n"
     ]
    }
   ],
   "source": [
    "import wandb\n",
    "from spot.model import ModelTrainingArgs\n",
    "\n",
    "r0_train_args = ModelTrainingArgs(\n",
    "    train_batch_size=42,\n",
    "    eval_batch_size=256,\n",
    "    max_epochs=3,\n",
    ")\n",
    "r0_trainer = r0_wrapper.build_trainer(\n",
    "    datadir / \"checkpoints\" / r0_model_name,\n",
    "    r0_train_args,\n",
    "    dataset=r0_datasets[\"train\"].data,\n",
    "    eval_dataset=r0_datasets[\"valid\"].data,\n",
    ")\n",
    "\n",
    "if train_r0:\n",
    "    wandb.init(\n",
    "        project=r0_model_name,\n",
    "        dir=str(datadir),\n",
    "        config={\"r0_decoding_args\": r0_args, \"r0_train_args\": r0_train_args},\n",
    "    )\n",
    "\n",
    "    with run_long_task(f\"Training {r0_model_name}\"):\n",
    "        init_perf = r0_trainer.evaluate(max_length=r0_args.generation_max_length)\n",
    "        print(\"initial eval loss:\", init_perf)\n",
    "        r0_trainer.train()\n",
    "\n",
    "    wandb.log({\"time_stats\": r0_monitor.timer.total_times()})\n",
    "\n",
    "    final_perf = r0_trainer.evaluate(max_length=r0_args.generation_max_length)\n",
    "    print(\"final eval loss:\", final_perf)\n",
    "    wandb.finish()\n"
   ]
  },
  {
   "cell_type": "code",
   "execution_count": null,
   "metadata": {},
   "outputs": [
    {
     "data": {
      "application/vnd.jupyter.widget-view+json": {
       "model_id": "43a5363881af4df8ba706f50d195baf4",
       "version_major": 2,
       "version_minor": 0
      },
      "text/plain": [
       "predict:   0%|          | 0/3974 [00:00<?, ?it/s]"
      ]
     },
     "metadata": {},
     "output_type": "display_data"
    },
    {
     "name": "stdout",
     "output_type": "stream",
     "text": [
      "partial_acc: 76.09%\n",
      "partial_acc_wo_any: 76.54%\n",
      "partial_accs:\n",
      "   FuncArg: 72.92%\n",
      "   FuncReturn: 82.47%\n",
      "   ClassAtribute: 71.09%\n",
      "   GlobalVar: 78.50%\n",
      "   LocalVar: 78.96%\n",
      "full_acc: 68.64%\n",
      "full_accs:\n",
      "   FuncArg: 66.84%\n",
      "   FuncReturn: 76.65%\n",
      "   ClassAtribute: 60.33%\n",
      "   GlobalVar: 47.66%\n",
      "   LocalVar: 53.96%\n",
      "n_labels: 17756\n"
     ]
    }
   ],
   "source": [
    "from spot.data import preds_to_accuracies, pretty_print_accuracies\n",
    "\n",
    "r0_preds = r0_wrapper.predict(r0_datasets[\"test\"], tqdm_args={})\n",
    "\n",
    "pretty_print_accuracies(preds_to_accuracies(r0_preds, r0_datasets[\"test\"]))"
   ]
  },
  {
   "cell_type": "code",
   "execution_count": 4,
   "metadata": {},
   "outputs": [
    {
     "name": "stderr",
     "output_type": "stream",
     "text": [
      "loading configuration file https://huggingface.co/Salesforce/codet5-base/resolve/main/config.json from cache at /mnt/data0/jiayi/hugface_cache/transformers/f1adf9032ebe26d0dd0b9c4917416e2db960b7e8b8e68f0612e8e5d5379488f5.20220fde7ff6c94c24bdcd615678f6a4374f3176abdc061beecc43a906725837\n",
      "Model config T5Config {\n",
      "  \"_name_or_path\": \"/content/drive/MyDrive/CodeT5/pretrained_models/codet5_base\",\n",
      "  \"architectures\": [\n",
      "    \"T5ForConditionalGeneration\"\n",
      "  ],\n",
      "  \"bos_token_id\": 1,\n",
      "  \"d_ff\": 3072,\n",
      "  \"d_kv\": 64,\n",
      "  \"d_model\": 768,\n",
      "  \"decoder_start_token_id\": 0,\n",
      "  \"dropout_rate\": 0.1,\n",
      "  \"eos_token_id\": 2,\n",
      "  \"feed_forward_proj\": \"relu\",\n",
      "  \"gradient_checkpointing\": false,\n",
      "  \"id2label\": {\n",
      "    \"0\": \"LABEL_0\"\n",
      "  },\n",
      "  \"initializer_factor\": 1.0,\n",
      "  \"is_encoder_decoder\": true,\n",
      "  \"label2id\": {\n",
      "    \"LABEL_0\": 0\n",
      "  },\n",
      "  \"layer_norm_epsilon\": 1e-06,\n",
      "  \"model_type\": \"t5\",\n",
      "  \"n_positions\": 512,\n",
      "  \"num_decoder_layers\": 12,\n",
      "  \"num_heads\": 12,\n",
      "  \"num_layers\": 12,\n",
      "  \"output_past\": true,\n",
      "  \"pad_token_id\": 0,\n",
      "  \"relative_attention_max_distance\": 128,\n",
      "  \"relative_attention_num_buckets\": 32,\n",
      "  \"task_specific_params\": {\n",
      "    \"summarization\": {\n",
      "      \"early_stopping\": true,\n",
      "      \"length_penalty\": 2.0,\n",
      "      \"max_length\": 200,\n",
      "      \"min_length\": 30,\n",
      "      \"no_repeat_ngram_size\": 3,\n",
      "      \"num_beams\": 4,\n",
      "      \"prefix\": \"summarize: \"\n",
      "    },\n",
      "    \"translation_en_to_de\": {\n",
      "      \"early_stopping\": true,\n",
      "      \"max_length\": 300,\n",
      "      \"num_beams\": 4,\n",
      "      \"prefix\": \"translate English to German: \"\n",
      "    },\n",
      "    \"translation_en_to_fr\": {\n",
      "      \"early_stopping\": true,\n",
      "      \"max_length\": 300,\n",
      "      \"num_beams\": 4,\n",
      "      \"prefix\": \"translate English to French: \"\n",
      "    },\n",
      "    \"translation_en_to_ro\": {\n",
      "      \"early_stopping\": true,\n",
      "      \"max_length\": 300,\n",
      "      \"num_beams\": 4,\n",
      "      \"prefix\": \"translate English to Romanian: \"\n",
      "    }\n",
      "  },\n",
      "  \"torch_dtype\": \"float32\",\n",
      "  \"transformers_version\": \"4.18.0\",\n",
      "  \"use_cache\": true,\n",
      "  \"vocab_size\": 32100\n",
      "}\n",
      "\n",
      "loading weights file https://huggingface.co/Salesforce/codet5-base/resolve/main/pytorch_model.bin from cache at /mnt/data0/jiayi/hugface_cache/transformers/1afeeca5d5f5a78dca99d501138e9d6ffc6ff52d8048459ca67b3752e7b4d325.200e87e8e909da91038103a5ef6266da8d95a33855e53ec2031712515063c45c\n",
      "/home/jiayi/Projects/SPOT/.venv/lib/python3.10/site-packages/torch/nn/modules/module.py:1402: UserWarning: positional arguments and argument \"destination\" are deprecated. nn.Module.state_dict will not accept them in the future. Refer to https://pytorch.org/docs/master/generated/torch.nn.Module.html#torch.nn.Module.state_dict for details.\n",
      "  warnings.warn(\n",
      "All model checkpoint weights were used when initializing T5ForConditionalGeneration.\n",
      "\n",
      "All the weights of T5ForConditionalGeneration were initialized from the model checkpoint at Salesforce/codet5-base.\n",
      "If your task is similar to the task the model of the checkpoint was trained on, you can already use T5ForConditionalGeneration for predictions without further training.\n"
     ]
    }
   ],
   "source": [
    "train_r1 = True\n",
    "\n",
    "r1_model_name = f\"SPOT-R1-{margin_tag}-{data_tag}\"\n",
    "\n",
    "if train_r1:\n",
    "    r1_model_path = \"Salesforce/codet5-base\"\n",
    "else:\n",
    "    r1_model_path = datadir / f\"checkpoints/saved/{r1_model_name}\"\n",
    "\n",
    "r1_model: ModelSPOT = ModelSPOT.from_pretrained(r1_model_path).to(device)\n",
    "r1_monitor = TaskLoggingMonitor(\"R1\")\n",
    "r1_args = DecodingArgs(\n",
    "    sampling_batch_size=512,\n",
    "    ctx_args=CtxArgs(\n",
    "        ctx_size=512,\n",
    "        ctx_margin=128,\n",
    "        types_in_ctx=False,\n",
    "    ),\n",
    "    max_workers=20,\n",
    ")\n",
    "r1_wrapper = ModelWrapper(r1_model, tokenizer, r1_args, r1_monitor)"
   ]
  },
  {
   "cell_type": "code",
   "execution_count": 5,
   "metadata": {},
   "outputs": [
    {
     "name": "stdout",
     "output_type": "stream",
     "text": [
      "Loading R1 datasets from /mnt/data0/jiayi/SPOT-data/repos-processed-R1-with_margin...\n"
     ]
    }
   ],
   "source": [
    "import pickle\n",
    "\n",
    "from spot.data import TypeInfDataset, save_datasets\n",
    "\n",
    "test_r1_parsing = False\n",
    "use_file_level_feedback = False\n",
    "\n",
    "feedback_tag = \"-per_file\" if use_file_level_feedback else \"\"\n",
    "r1_data_path = datadir / f\"SPOT-data/{'test-' if test_r1_parsing else ''}repos-processed-R1-{margin_tag}{feedback_tag}\"\n",
    "r1_datasets: Dict[str, TypeInfDataset]\n",
    "load_r1_data = (r1_data_path / 'train-extra.pkl').exists() and not test_r1_parsing\n",
    "\n",
    "if load_r1_data:\n",
    "    print(f\"Loading R1 datasets from {r1_data_path}...\")\n",
    "    r1_datasets, _ = load_datasets(r1_data_path)\n",
    "else:\n",
    "    # compute the r0_predictions first in case the next step fails\n",
    "    r0_cache_path = r1_data_path / \"r0_predictions.pkl\"\n",
    "\n",
    "    if r0_cache_path.exists():\n",
    "        print(f\"Loading R0 predictions from {r0_cache_path}...\")\n",
    "        with open(r0_cache_path, \"rb\") as f:\n",
    "            r0_predictions = pickle.load(f)\n",
    "    else:\n",
    "        r0_predictions = dict()\n",
    "        for name in [\"valid\", \"test\", \"train\"]:\n",
    "            print(\"Predicting on:\", name)\n",
    "            r0_data = r0_datasets[name]\n",
    "            if test_r1_parsing:\n",
    "                r0_data = r0_data[:64]\n",
    "            r0_predictions[name] = r0_wrapper.predict(r0_data, tqdm_args={\"leave\": False})\n",
    "        \n",
    "        r1_data_path.mkdir(parents=True, exist_ok=True)\n",
    "        with open(r1_data_path / \"r0_predictions.pkl\", \"wb\") as f:\n",
    "            pickle.dump(r0_predictions, f)"
   ]
  },
  {
   "cell_type": "code",
   "execution_count": 6,
   "metadata": {},
   "outputs": [],
   "source": [
    "if not load_r1_data:\n",
    "    r1_datasets = {}\n",
    "    for name in [\"test\", \"train\", \"valid\"]:\n",
    "        print(\"Processing dataset:\", name)\n",
    "        repos = [r.repo_dir(repos_dir) for r in repos_split[name]]\n",
    "        r0_data = r0_datasets[name]\n",
    "        r0_preds = r0_predictions[name]\n",
    "        if test_r1_parsing:\n",
    "            r0_data = r0_data[:16]\n",
    "            r0_preds = r0_preds[:16]\n",
    "        r1_datasets[name] = r1_wrapper.generate_r1_inputs(\n",
    "            repos, r0_data, r0_preds, tqdm_args={\"leave\": False}, use_file_level_feedback=use_file_level_feedback,\n",
    "        )\n",
    "    save_datasets(r1_datasets, repos_split, r1_data_path)"
   ]
  },
  {
   "cell_type": "code",
   "execution_count": 7,
   "metadata": {},
   "outputs": [
    {
     "name": "stderr",
     "output_type": "stream",
     "text": [
      "PyTorch: setting up devices\n",
      "Using amp half precision backend\n",
      "Failed to detect the name of this notebook, you can set it manually with the WANDB_NOTEBOOK_NAME environment variable to enable code saving.\n",
      "\u001b[34m\u001b[1mwandb\u001b[0m: Currently logged in as: \u001b[33mmrvplusone\u001b[0m. Use \u001b[1m`wandb login --relogin`\u001b[0m to force relogin\n"
     ]
    },
    {
     "data": {
      "text/html": [
       "Tracking run with wandb version 0.12.16"
      ],
      "text/plain": [
       "<IPython.core.display.HTML object>"
      ]
     },
     "metadata": {},
     "output_type": "display_data"
    },
    {
     "data": {
      "text/html": [
       "Run data is saved locally in <code>/mnt/data0/jiayi/wandb/run-20220516_103345-3d5sneci</code>"
      ],
      "text/plain": [
       "<IPython.core.display.HTML object>"
      ]
     },
     "metadata": {},
     "output_type": "display_data"
    },
    {
     "data": {
      "text/html": [
       "Syncing run <strong><a href=\"https://wandb.ai/mrvplusone/SPOT-R1-with_margin-data_full/runs/3d5sneci\" target=\"_blank\">silvery-deluge-6</a></strong> to <a href=\"https://wandb.ai/mrvplusone/SPOT-R1-with_margin-data_full\" target=\"_blank\">Weights & Biases</a> (<a href=\"https://wandb.me/run\" target=\"_blank\">docs</a>)<br/>"
      ],
      "text/plain": [
       "<IPython.core.display.HTML object>"
      ]
     },
     "metadata": {},
     "output_type": "display_data"
    },
    {
     "name": "stderr",
     "output_type": "stream",
     "text": [
      "***** Running Evaluation *****\n",
      "  Num examples = 5347\n",
      "  Batch size = 200\n"
     ]
    },
    {
     "data": {
      "text/html": [
       "\n",
       "    <div>\n",
       "      \n",
       "      <progress value='27' max='27' style='width:300px; height:20px; vertical-align: middle;'></progress>\n",
       "      [27/27 00:44]\n",
       "    </div>\n",
       "    "
      ],
      "text/plain": [
       "<IPython.core.display.HTML object>"
      ]
     },
     "metadata": {},
     "output_type": "display_data"
    },
    {
     "name": "stderr",
     "output_type": "stream",
     "text": [
      "Automatic Weights & Biases logging enabled, to disable set os.environ[\"WANDB_DISABLED\"] = \"true\"\n",
      "/home/jiayi/Projects/SPOT/.venv/lib/python3.10/site-packages/transformers/optimization.py:306: FutureWarning: This implementation of AdamW is deprecated and will be removed in a future version. Use the PyTorch implementation torch.optim.AdamW instead, or set `no_deprecation_warning=True` to disable this warning\n",
      "  warnings.warn(\n",
      "***** Running training *****\n",
      "  Num examples = 81003\n",
      "  Num Epochs = 3\n",
      "  Instantaneous batch size per device = 36\n",
      "  Total train batch size (w. parallel, distributed & accumulation) = 36\n",
      "  Gradient Accumulation steps = 1\n",
      "  Total optimization steps = 6753\n"
     ]
    },
    {
     "name": "stdout",
     "output_type": "stream",
     "text": [
      "initial performance: {'eval_loss': 2.967663049697876, 'eval_runtime': 45.7404, 'eval_samples_per_second': 116.899, 'eval_steps_per_second': 0.59}\n"
     ]
    },
    {
     "data": {
      "text/html": [
       "\n",
       "    <div>\n",
       "      \n",
       "      <progress value='346' max='6753' style='width:300px; height:20px; vertical-align: middle;'></progress>\n",
       "      [ 346/6753 04:47 < 1:29:05, 1.20 it/s, Epoch 0.15/3]\n",
       "    </div>\n",
       "    <table border=\"1\" class=\"dataframe\">\n",
       "  <thead>\n",
       " <tr style=\"text-align: left;\">\n",
       "      <th>Step</th>\n",
       "      <th>Training Loss</th>\n",
       "      <th>Validation Loss</th>\n",
       "    </tr>\n",
       "  </thead>\n",
       "  <tbody>\n",
       "  </tbody>\n",
       "</table><p>"
      ],
      "text/plain": [
       "<IPython.core.display.HTML object>"
      ]
     },
     "metadata": {},
     "output_type": "display_data"
    }
   ],
   "source": [
    "r1_train_args = ModelTrainingArgs(\n",
    "    train_batch_size=38,\n",
    "    eval_batch_size=200,\n",
    "    max_epochs=3,\n",
    ")\n",
    "r1_trainer = r1_wrapper.build_trainer(\n",
    "    datadir / \"checkpoints\" / r1_model_name,\n",
    "    r1_train_args,\n",
    "    dataset=r1_datasets[\"train\"].data,\n",
    "    eval_dataset=r1_datasets[\"valid\"].data,\n",
    ")\n",
    "\n",
    "if train_r1:\n",
    "    wandb.init(\n",
    "        project=r1_model_name,\n",
    "        dir=str(datadir),\n",
    "        config={\"r1_decoding_args\": r1_args, \"r1_train_args\": r1_train_args},\n",
    "    )\n",
    "\n",
    "    with run_long_task(f\"Training {r1_model_name}\"):\n",
    "        init_perf = r1_trainer.evaluate(max_length=r1_args.generation_max_length)\n",
    "        print(\"initial performance:\", init_perf)\n",
    "        r1_trainer.train()\n",
    "\n",
    "    wandb.log({\"time_stats\": r1_monitor.timer.total_times()})\n",
    "\n",
    "    final_perf = r1_trainer.evaluate(max_length=r1_args.generation_max_length)\n",
    "    print(\"final performance:\", final_perf)\n",
    "    wandb.finish()"
   ]
  },
  {
   "cell_type": "code",
   "execution_count": null,
   "metadata": {},
   "outputs": [
    {
     "data": {
      "application/vnd.jupyter.widget-view+json": {
       "model_id": "3223892738234a6a9f78647fd4320f6f",
       "version_major": 2,
       "version_minor": 0
      },
      "text/plain": [
       "predict:   0%|          | 0/22 [00:00<?, ?it/s]"
      ]
     },
     "metadata": {},
     "output_type": "display_data"
    },
    {
     "name": "stdout",
     "output_type": "stream",
     "text": [
      "partial_acc: 2.53%\n",
      "partial_acc_wo_any: 2.53%\n",
      "partial_accs:\n",
      "   FuncArg: 4.35%\n",
      "full_acc: 1.27%\n",
      "full_accs:\n",
      "   FuncArg: 2.17%\n",
      "n_labels: 79\n"
     ]
    }
   ],
   "source": [
    "from spot.data import preds_to_accuracies, pretty_print_accuracies\n",
    "\n",
    "r1_preds = r1_wrapper.predict(r1_datasets[\"test\"], tqdm_args={})\n",
    "r1_accs = preds_to_accuracies(r1_preds, r1_datasets[\"test\"])\n",
    "pretty_print_accuracies(r1_accs)"
   ]
  },
  {
   "cell_type": "code",
   "execution_count": 9,
   "metadata": {},
   "outputs": [
    {
     "data": {
      "application/vnd.jupyter.widget-view+json": {
       "model_id": "41811a1ef8004e65beae0e59e4d5daab",
       "version_major": 2,
       "version_minor": 0
      },
      "text/plain": [
       "Tab(children=(HTML(value=\"<pre style='line-height: 1.2; padding: 10px; color: rgb(212,212,212); background-col…"
      ]
     },
     "metadata": {},
     "output_type": "display_data"
    }
   ],
   "source": [
    "from spot.visualization import display_code_sequence, visualize_batch\n",
    "\n",
    "display_code_sequence([visualize_batch(r1_datasets[\"test\"], i, r1_preds, tokenizer, r1_args.ctx_args) for i in range(10)])"
   ]
  }
 ],
 "metadata": {
  "interpreter": {
   "hash": "f6ffc72953da4dd16b2e00785be9c4013ef131f465a8658f3921b6634d4eeec8"
  },
  "kernelspec": {
   "display_name": "Python 3.10.4 ('.venv': pipenv)",
   "language": "python",
   "name": "python3"
  },
  "language_info": {
   "codemirror_mode": {
    "name": "ipython",
    "version": 3
   },
   "file_extension": ".py",
   "mimetype": "text/x-python",
   "name": "python",
   "nbconvert_exporter": "python",
   "pygments_lexer": "ipython3",
   "version": "3.10.4"
  },
  "orig_nbformat": 4
 },
 "nbformat": 4,
 "nbformat_minor": 2
}
