{
 "cells": [
  {
   "cell_type": "code",
   "execution_count": 1,
   "metadata": {},
   "outputs": [],
   "source": [
    "%load_ext autoreload\n",
    "%autoreload 2\n",
    "\n",
    "import os\n",
    "from pathlib import Path\n",
    "from typing import *\n",
    "\n",
    "import pandas as pd\n",
    "import plotly.express as px\n",
    "\n",
    "from spot.utils import cst, proj_root, run_long_task, tqdm\n",
    "\n",
    "os.chdir(proj_root())\n",
    "\n",
    "datadir = Path(os.getenv(\"datadir\"))\n",
    "repos_dir = datadir / \"SPOT-data/repos\""
   ]
  },
  {
   "cell_type": "code",
   "execution_count": 2,
   "metadata": {},
   "outputs": [],
   "source": [
    "# experiment configurations\n",
    "\n",
    "import torch\n",
    "\n",
    "from spot.data import SrcDataset, get_model_name, load_src_datasets\n",
    "from spot.model import CtxArgs, DecodingArgs, ModelSPOT, ModelTrainingArgs, ModelWrapper\n",
    "\n",
    "quicktest = True\n",
    "drop_comments = False\n",
    "data_reduction = 1\n",
    "\n",
    "\n",
    "ctx_args = CtxArgs(\n",
    "    ctx_size=1024,\n",
    "    left_margin=256 + 128,\n",
    "    right_margin=256 - 128,\n",
    "    types_in_ctx=False,\n",
    ")\n",
    "\n",
    "dec_args = DecodingArgs(\n",
    "    sampling_batch_size=128,\n",
    "    ctx_args=ctx_args,\n",
    "    max_workers=20,\n",
    ")\n",
    "\n",
    "\n",
    "r0_model_name = get_model_name(\n",
    "    drop_comments=drop_comments,\n",
    "    ctx_args=ctx_args,\n",
    "    data_reduction=data_reduction,\n",
    "    quicktest=quicktest,\n",
    ")\n",
    "\n",
    "src_datasets = load_src_datasets(\n",
    "    datadir,\n",
    "    drop_comments=drop_comments,\n",
    "    spot_round=0,\n",
    "    data_reduction=data_reduction,\n",
    "    repos_root=datadir / \"SPOT-data/repos\",\n",
    "    quicktest=quicktest,\n",
    ")\n"
   ]
  },
  {
   "cell_type": "code",
   "execution_count": 3,
   "metadata": {},
   "outputs": [
    {
     "name": "stderr",
     "output_type": "stream",
     "text": [
      "/home/jiayi/Projects/SPOT/.venv/lib/python3.10/site-packages/torchvision/io/image.py:13: UserWarning: Failed to load image Python extension: libtorch_cuda_cu.so: cannot open shared object file: No such file or directory\n",
      "  warn(f\"Failed to load image Python extension: {e}\")\n"
     ]
    },
    {
     "data": {
      "application/vnd.jupyter.widget-view+json": {
       "model_id": "958dbff9b75144089c6399776a7594d3",
       "version_major": 2,
       "version_minor": 0
      },
      "text/plain": [
       "processing chunks:   0%|          | 0/3675 [00:00<?, ?it/s]"
      ]
     },
     "metadata": {},
     "output_type": "display_data"
    },
    {
     "data": {
      "application/vnd.jupyter.widget-view+json": {
       "model_id": "823cb491044248e3934a95b5059f279f",
       "version_major": 2,
       "version_minor": 0
      },
      "text/plain": [
       "processing chunks:   0%|          | 0/2615 [00:00<?, ?it/s]"
      ]
     },
     "metadata": {},
     "output_type": "display_data"
    },
    {
     "data": {
      "application/vnd.jupyter.widget-view+json": {
       "model_id": "ab0f86c3eeed44c1b83020ba38b35b44",
       "version_major": 2,
       "version_minor": 0
      },
      "text/plain": [
       "processing chunks:   0%|          | 0/51966 [00:00<?, ?it/s]"
      ]
     },
     "metadata": {},
     "output_type": "display_data"
    },
    {
     "name": "stderr",
     "output_type": "stream",
     "text": [
      "Failed to detect the name of this notebook, you can set it manually with the WANDB_NOTEBOOK_NAME environment variable to enable code saving.\n"
     ]
    },
    {
     "name": "stdout",
     "output_type": "stream",
     "text": [
      "Pushover: (Finished: 'Preparing chunked datasets'.) Time taken: 70.2s\n"
     ]
    },
    {
     "name": "stderr",
     "output_type": "stream",
     "text": [
      "\u001b[34m\u001b[1mwandb\u001b[0m: Currently logged in as: \u001b[33mmrvplusone\u001b[0m. Use \u001b[1m`wandb login --relogin`\u001b[0m to force relogin\n"
     ]
    },
    {
     "data": {
      "text/html": [
       "Tracking run with wandb version 0.12.16"
      ],
      "text/plain": [
       "<IPython.core.display.HTML object>"
      ]
     },
     "metadata": {},
     "output_type": "display_data"
    },
    {
     "data": {
      "text/html": [
       "Run data is saved locally in <code>/mnt/data0/jiayi/wandb/run-20220525_181216-34aa0wfa</code>"
      ],
      "text/plain": [
       "<IPython.core.display.HTML object>"
      ]
     },
     "metadata": {},
     "output_type": "display_data"
    },
    {
     "data": {
      "text/html": [
       "Syncing run <strong><a href=\"https://wandb.ai/mrvplusone/SPOT-model-R0-%28384%2C%20512%2C%20128%29/runs/34aa0wfa\" target=\"_blank\">olive-bird-25</a></strong> to <a href=\"https://wandb.ai/mrvplusone/SPOT-model-R0-%28384%2C%20512%2C%20128%29\" target=\"_blank\">Weights & Biases</a> (<a href=\"https://wandb.me/run\" target=\"_blank\">docs</a>)<br/>"
      ],
      "text/plain": [
       "<IPython.core.display.HTML object>"
      ]
     },
     "metadata": {},
     "output_type": "display_data"
    },
    {
     "name": "stderr",
     "output_type": "stream",
     "text": [
      "Using 16bit native Automatic Mixed Precision (AMP)\n",
      "GPU available: True, used: True\n",
      "TPU available: False, using: 0 TPU cores\n",
      "IPU available: False, using: 0 IPUs\n",
      "HPU available: False, using: 0 HPUs\n",
      "LOCAL_RANK: 0 - CUDA_VISIBLE_DEVICES: [1,2]\n",
      "\n",
      "  | Name  | Type                       | Params\n",
      "-----------------------------------------------------\n",
      "0 | model | T5ForConditionalGeneration | 222 M \n",
      "-----------------------------------------------------\n",
      "222 M     Trainable params\n",
      "0         Non-trainable params\n",
      "222 M     Total params\n",
      "445.764   Total estimated model params size (MB)\n"
     ]
    },
    {
     "data": {
      "application/vnd.jupyter.widget-view+json": {
       "model_id": "27f1704c2491411ba9b8f9a4c417aaf0",
       "version_major": 2,
       "version_minor": 0
      },
      "text/plain": [
       "Sanity Checking: 0it [00:00, ?it/s]"
      ]
     },
     "metadata": {},
     "output_type": "display_data"
    },
    {
     "data": {
      "application/vnd.jupyter.widget-view+json": {
       "model_id": "6bd63fd6a7e04148a09d12ee36096f7a",
       "version_major": 2,
       "version_minor": 0
      },
      "text/plain": [
       "Training: 0it [00:00, ?it/s]"
      ]
     },
     "metadata": {},
     "output_type": "display_data"
    },
    {
     "data": {
      "application/vnd.jupyter.widget-view+json": {
       "model_id": "8fa34def8e4742dda81c253c8e287354",
       "version_major": 2,
       "version_minor": 0
      },
      "text/plain": [
       "Validation: 0it [00:00, ?it/s]"
      ]
     },
     "metadata": {},
     "output_type": "display_data"
    },
    {
     "data": {
      "application/vnd.jupyter.widget-view+json": {
       "model_id": "c56b0f691e0543a788392399c8462f30",
       "version_major": 2,
       "version_minor": 0
      },
      "text/plain": [
       "Validation: 0it [00:00, ?it/s]"
      ]
     },
     "metadata": {},
     "output_type": "display_data"
    },
    {
     "data": {
      "application/vnd.jupyter.widget-view+json": {
       "model_id": "127357fde1c44d05b8a41fe897af7626",
       "version_major": 2,
       "version_minor": 0
      },
      "text/plain": [
       "Validation: 0it [00:00, ?it/s]"
      ]
     },
     "metadata": {},
     "output_type": "display_data"
    },
    {
     "data": {
      "application/vnd.jupyter.widget-view+json": {
       "model_id": "530aa86f8f7d4892a80727d118f60604",
       "version_major": 2,
       "version_minor": 0
      },
      "text/plain": [
       "Validation: 0it [00:00, ?it/s]"
      ]
     },
     "metadata": {},
     "output_type": "display_data"
    },
    {
     "data": {
      "application/vnd.jupyter.widget-view+json": {
       "model_id": "770647eed8e74b3ba617f6e3ed7f7b3e",
       "version_major": 2,
       "version_minor": 0
      },
      "text/plain": [
       "Validation: 0it [00:00, ?it/s]"
      ]
     },
     "metadata": {},
     "output_type": "display_data"
    },
    {
     "data": {
      "application/vnd.jupyter.widget-view+json": {
       "model_id": "538d26cb952b43e598530e0bce146d32",
       "version_major": 2,
       "version_minor": 0
      },
      "text/plain": [
       "Validation: 0it [00:00, ?it/s]"
      ]
     },
     "metadata": {},
     "output_type": "display_data"
    },
    {
     "name": "stdout",
     "output_type": "stream",
     "text": [
      "Pushover: (Finished: 'Training SPOT-model-R0-(384, 512, 128)'.) Time taken: 3142.3s\n"
     ]
    },
    {
     "name": "stderr",
     "output_type": "stream",
     "text": [
      "LOCAL_RANK: 0 - CUDA_VISIBLE_DEVICES: [1,2]\n"
     ]
    },
    {
     "data": {
      "application/vnd.jupyter.widget-view+json": {
       "model_id": "37dd16561a8b4ba69ceec134c5207fff",
       "version_major": 2,
       "version_minor": 0
      },
      "text/plain": [
       "Validation: 0it [00:00, ?it/s]"
      ]
     },
     "metadata": {},
     "output_type": "display_data"
    },
    {
     "name": "stdout",
     "output_type": "stream",
     "text": [
      "────────────────────────────────────────────────────────────────────────────────────────────────────────────────────────\n",
      "     Validate metric           DataLoader 0\n",
      "────────────────────────────────────────────────────────────────────────────────────────────────────────────────────────\n",
      "       valid/loss           0.32140225172042847\n",
      "────────────────────────────────────────────────────────────────────────────────────────────────────────────────────────\n",
      "Generating R1 dataset: train\n"
     ]
    },
    {
     "data": {
      "application/vnd.jupyter.widget-view+json": {
       "model_id": "d694274975e44566b3b1d6faa1eab09b",
       "version_major": 2,
       "version_minor": 0
      },
      "text/plain": [
       "  0%|          | 0/9 [00:00<?, ?it/s]"
      ]
     },
     "metadata": {},
     "output_type": "display_data"
    },
    {
     "data": {
      "application/vnd.jupyter.widget-view+json": {
       "model_id": "29b5fa93e8b14bc9964314aac36a3477",
       "version_major": 2,
       "version_minor": 0
      },
      "text/plain": [
       "predict:   0%|          | 0/4200 [00:00<?, ?it/s]"
      ]
     },
     "metadata": {},
     "output_type": "display_data"
    },
    {
     "data": {
      "application/vnd.jupyter.widget-view+json": {
       "model_id": "7e83e5abd07e4ae1b209f358474dab5d",
       "version_major": 2,
       "version_minor": 0
      },
      "text/plain": [
       "predict:   0%|          | 0/4200 [00:00<?, ?it/s]"
      ]
     },
     "metadata": {},
     "output_type": "display_data"
    },
    {
     "data": {
      "application/vnd.jupyter.widget-view+json": {
       "model_id": "8b95a19178124bbc8748c8dc585ffc5d",
       "version_major": 2,
       "version_minor": 0
      },
      "text/plain": [
       "predict:   0%|          | 0/4200 [00:00<?, ?it/s]"
      ]
     },
     "metadata": {},
     "output_type": "display_data"
    },
    {
     "data": {
      "application/vnd.jupyter.widget-view+json": {
       "model_id": "cd56eb6f6c604fb58759419814ae9c65",
       "version_major": 2,
       "version_minor": 0
      },
      "text/plain": [
       "predict:   0%|          | 0/4200 [00:00<?, ?it/s]"
      ]
     },
     "metadata": {},
     "output_type": "display_data"
    },
    {
     "data": {
      "application/vnd.jupyter.widget-view+json": {
       "model_id": "632952b63ecc4af1897d72c714928245",
       "version_major": 2,
       "version_minor": 0
      },
      "text/plain": [
       "predict:   0%|          | 0/4200 [00:00<?, ?it/s]"
      ]
     },
     "metadata": {},
     "output_type": "display_data"
    },
    {
     "data": {
      "application/vnd.jupyter.widget-view+json": {
       "model_id": "0e69456ef2d9494fa1a16ec876c7ef44",
       "version_major": 2,
       "version_minor": 0
      },
      "text/plain": [
       "predict:   0%|          | 0/4200 [00:00<?, ?it/s]"
      ]
     },
     "metadata": {},
     "output_type": "display_data"
    },
    {
     "data": {
      "application/vnd.jupyter.widget-view+json": {
       "model_id": "432552a0d6e244d1921d6e38c50156a2",
       "version_major": 2,
       "version_minor": 0
      },
      "text/plain": [
       "predict:   0%|          | 0/4200 [00:00<?, ?it/s]"
      ]
     },
     "metadata": {},
     "output_type": "display_data"
    },
    {
     "data": {
      "application/vnd.jupyter.widget-view+json": {
       "model_id": "bf873493203b487a86d1124ebe3b9324",
       "version_major": 2,
       "version_minor": 0
      },
      "text/plain": [
       "predict:   0%|          | 0/4200 [00:00<?, ?it/s]"
      ]
     },
     "metadata": {},
     "output_type": "display_data"
    },
    {
     "data": {
      "application/vnd.jupyter.widget-view+json": {
       "model_id": "aa06211549cb44379aecfd19c103a2a6",
       "version_major": 2,
       "version_minor": 0
      },
      "text/plain": [
       "predict:   0%|          | 0/1237 [00:00<?, ?it/s]"
      ]
     },
     "metadata": {},
     "output_type": "display_data"
    },
    {
     "data": {
      "application/vnd.jupyter.widget-view+json": {
       "model_id": "ea7fdf5e04ce4121be055a915d78695d",
       "version_major": 2,
       "version_minor": 0
      },
      "text/plain": [
       "type_check_src:   0%|          | 0/14300 [00:00<?, ?it/s]"
      ]
     },
     "metadata": {},
     "output_type": "display_data"
    },
    {
     "name": "stdout",
     "output_type": "stream",
     "text": [
      "num_type_checked: 14285\n",
      "errors_per_file:\n",
      "   mean: 1.787\n",
      "   median: 0\n",
      "   min: 0\n",
      "   max: 243\n"
     ]
    },
    {
     "data": {
      "application/vnd.jupyter.widget-view+json": {
       "model_id": "8001880f1d334501a1d796f508dcd360",
       "version_major": 2,
       "version_minor": 0
      },
      "text/plain": [
       "feedbacks_to_tokenized_src:   0%|          | 0/14300 [00:00<?, ?it/s]"
      ]
     },
     "metadata": {},
     "output_type": "display_data"
    },
    {
     "name": "stdout",
     "output_type": "stream",
     "text": [
      "Generating R1 dataset: valid\n"
     ]
    },
    {
     "data": {
      "application/vnd.jupyter.widget-view+json": {
       "model_id": "b9584efbe51a4141b775aeddf9a1fed7",
       "version_major": 2,
       "version_minor": 0
      },
      "text/plain": [
       "predict:   0%|          | 0/2674 [00:00<?, ?it/s]"
      ]
     },
     "metadata": {},
     "output_type": "display_data"
    },
    {
     "data": {
      "application/vnd.jupyter.widget-view+json": {
       "model_id": "e7707de00749408492ceb057ba11f782",
       "version_major": 2,
       "version_minor": 0
      },
      "text/plain": [
       "type_check_src:   0%|          | 0/998 [00:00<?, ?it/s]"
      ]
     },
     "metadata": {},
     "output_type": "display_data"
    },
    {
     "name": "stdout",
     "output_type": "stream",
     "text": [
      "num_type_checked: 998\n",
      "errors_per_file:\n",
      "   mean: 2.314\n",
      "   median: 0\n",
      "   min: 0\n",
      "   max: 84\n"
     ]
    },
    {
     "data": {
      "application/vnd.jupyter.widget-view+json": {
       "model_id": "ca4eaf4c21cf4cb0bcb291dcf655528f",
       "version_major": 2,
       "version_minor": 0
      },
      "text/plain": [
       "feedbacks_to_tokenized_src:   0%|          | 0/998 [00:00<?, ?it/s]"
      ]
     },
     "metadata": {},
     "output_type": "display_data"
    },
    {
     "name": "stdout",
     "output_type": "stream",
     "text": [
      "Generating R1 dataset: test\n"
     ]
    },
    {
     "data": {
      "application/vnd.jupyter.widget-view+json": {
       "model_id": "14643cee2a384cf5b361ad116267ba8b",
       "version_major": 2,
       "version_minor": 0
      },
      "text/plain": [
       "predict:   0%|          | 0/2068 [00:00<?, ?it/s]"
      ]
     },
     "metadata": {},
     "output_type": "display_data"
    },
    {
     "data": {
      "application/vnd.jupyter.widget-view+json": {
       "model_id": "5d764a3e3f4946179e0d8db2426caebb",
       "version_major": 2,
       "version_minor": 0
      },
      "text/plain": [
       "type_check_src:   0%|          | 0/866 [00:00<?, ?it/s]"
      ]
     },
     "metadata": {},
     "output_type": "display_data"
    },
    {
     "name": "stdout",
     "output_type": "stream",
     "text": [
      "num_type_checked: 866\n",
      "errors_per_file:\n",
      "   mean: 1.768\n",
      "   median: 0\n",
      "   min: 0\n",
      "   max: 118\n"
     ]
    },
    {
     "data": {
      "application/vnd.jupyter.widget-view+json": {
       "model_id": "d44fb2473b6a49f3980b8efcf6390799",
       "version_major": 2,
       "version_minor": 0
      },
      "text/plain": [
       "feedbacks_to_tokenized_src:   0%|          | 0/866 [00:00<?, ?it/s]"
      ]
     },
     "metadata": {},
     "output_type": "display_data"
    },
    {
     "name": "stdout",
     "output_type": "stream",
     "text": [
      "Pushover: (Finished: 'Generating R1 datasets'.) Time taken: 3849.6s\n"
     ]
    }
   ],
   "source": [
    "# train the model\n",
    "from spot.train import train_spot_model\n",
    "\n",
    "train_args = ModelTrainingArgs(\n",
    "    train_batch_size=12,\n",
    "    eval_batch_size=64,\n",
    "    max_epochs=1,\n",
    ")\n",
    "\n",
    "r0_wrapper, r0_extra = train_spot_model(\n",
    "    src_datasets,\n",
    "    r0_model_name,\n",
    "    dec_args=dec_args,\n",
    "    train_args=train_args,\n",
    "    record_batches=True,\n",
    "    quicktest=quicktest,\n",
    ")\n"
   ]
  },
  {
   "cell_type": "code",
   "execution_count": 3,
   "metadata": {},
   "outputs": [
    {
     "name": "stdout",
     "output_type": "stream",
     "text": [
      "DecodingArgs(ctx_args=CtxArgs(left=384, window=512, right=128), sampling_batch_size=128, max_workers=20, generation_max_length=128, do_sample=False, top_p=0.9)\n"
     ]
    }
   ],
   "source": [
    "# load trained model\n",
    "from spot.utils import pickle_load\n",
    "\n",
    "r0_wrapper = ModelWrapper.from_pretrained(\n",
    "    datadir / f\"checkpoints/lit-saved/{r0_model_name}\"\n",
    ")\n",
    "r0_extra = pickle_load(datadir / f\"checkpoints/lit-saved/{r0_model_name}/extra.pkl\")\n",
    "r1_src_datasets: dict[str, SrcDataset] = r0_extra[\"R1-src_datasets\"]\n",
    "device = torch.device(\"cuda:0\" if torch.cuda.is_available() else \"cpu\")\n",
    "r0_wrapper.to(device)\n",
    "r0_wrapper.args.do_sample = False\n",
    "print(r0_wrapper.args)\n"
   ]
  },
  {
   "cell_type": "code",
   "execution_count": 7,
   "metadata": {},
   "outputs": [
    {
     "data": {
      "application/vnd.jupyter.widget-view+json": {
       "model_id": "3515d7ef8d8b4dbe99ed76ceb1ad438e",
       "version_major": 2,
       "version_minor": 0
      },
      "text/plain": [
       "type_check_src:   0%|          | 0/866 [00:00<?, ?it/s]"
      ]
     },
     "metadata": {},
     "output_type": "display_data"
    },
    {
     "name": "stdout",
     "output_type": "stream",
     "text": [
      "type_check_success_ratio: 1\n",
      "feedbacks_per_file:\n",
      "   mean: 0.1374\n",
      "   median: 0\n",
      "   min: 0\n",
      "   max: 38\n"
     ]
    },
    {
     "data": {
      "application/vnd.jupyter.widget-view+json": {
       "model_id": "dd28e5eb4b2a4d2ca6219df70c689905",
       "version_major": 2,
       "version_minor": 0
      },
      "text/plain": [
       "feedbacks_to_tokenized_src:   0%|          | 0/866 [00:00<?, ?it/s]"
      ]
     },
     "metadata": {},
     "output_type": "display_data"
    }
   ],
   "source": [
    "# checking mypy feedbacks\n",
    "\n",
    "from spot.utils import pretty_print_accuracies, groupby\n",
    "from spot.type_env import MypyFeedback\n",
    "\n",
    "\n",
    "def ground_truth_feedback(dataset: SrcDataset):\n",
    "    preds = {\n",
    "        f: {i: str(t) for i, t in enumerate(src.types)}\n",
    "        for f, src in dataset.file2src().items()\n",
    "    }\n",
    "    return dataset.add_type_checker_feedback(\n",
    "        r0_wrapper.tokenizer, preds, max_workers=20, tqdm_args={}\n",
    "    )\n",
    "\n",
    "\n",
    "def show_feedback_stats(new_dataset: SrcDataset):\n",
    "    fb_list: list[list[MypyFeedback]] = new_dataset.extra_stats[\"mypy_feedbacks\"]\n",
    "    stats = {}\n",
    "    stats[\"total_feedbacks\"] = sum(len(l) for l in fb_list)\n",
    "    error_code_counter = Counter[str]()\n",
    "    for l in fb_list:\n",
    "        for fb in l:\n",
    "            error_code_counter[fb.error_code] += 1\n",
    "    stats[\"top_feedbacks\"] = dict(error_code_counter.most_common(10))\n",
    "    pretty_print_accuracies(stats)\n",
    "    df = pd.DataFrame(error_code_counter.most_common(), columns=[\"error_code\", \"count\"])\n",
    "    display(px.bar(df, x=\"error_code\", y=\"count\"))\n",
    "    fdbk_srcs = [(f, src) for src, fs in zip(new_dataset.all_srcs, fb_list) for f in fs]\n",
    "    error_groups = groupby(fdbk_srcs, lambda x: x[0].error_code)\n",
    "    return error_groups\n",
    "\n",
    "\n",
    "# new_src = ground_truth_feedback(src_datasets[\"test\"])\n",
    "error_groups = show_feedback_stats(r1_src_datasets[\"train\"])\n"
   ]
  },
  {
   "cell_type": "code",
   "execution_count": 9,
   "metadata": {},
   "outputs": [
    {
     "name": "stdout",
     "output_type": "stream",
     "text": [
      "total_feedbacks: 119\n",
      "top_feedbacks:\n",
      "   attr-defined: 35\n",
      "   arg-type: 30\n",
      "   assignment: 15\n",
      "   index: 8\n",
      "   return-value: 7\n",
      "   name-defined: 7\n",
      "   misc: 5\n",
      "   has-type: 4\n",
      "   override: 2\n",
      "   return: 2\n"
     ]
    },
    {
     "data": {
      "application/vnd.plotly.v1+json": {
       "config": {
        "plotlyServerURL": "https://plot.ly"
       },
       "data": [
        {
         "alignmentgroup": "True",
         "hovertemplate": "error_code=%{x}<br>count=%{y}<extra></extra>",
         "legendgroup": "",
         "marker": {
          "color": "#636efa",
          "pattern": {
           "shape": ""
          }
         },
         "name": "",
         "offsetgroup": "",
         "orientation": "v",
         "showlegend": false,
         "textposition": "auto",
         "type": "bar",
         "x": [
          "attr-defined",
          "arg-type",
          "assignment",
          "index",
          "return-value",
          "name-defined",
          "misc",
          "has-type",
          "override",
          "return",
          "call-overload",
          "dict-item",
          "call-arg"
         ],
         "xaxis": "x",
         "y": [
          35,
          30,
          15,
          8,
          7,
          7,
          5,
          4,
          2,
          2,
          2,
          1,
          1
         ],
         "yaxis": "y"
        }
       ],
       "layout": {
        "barmode": "relative",
        "legend": {
         "tracegroupgap": 0
        },
        "margin": {
         "t": 60
        },
        "template": {
         "data": {
          "bar": [
           {
            "error_x": {
             "color": "#2a3f5f"
            },
            "error_y": {
             "color": "#2a3f5f"
            },
            "marker": {
             "line": {
              "color": "#E5ECF6",
              "width": 0.5
             },
             "pattern": {
              "fillmode": "overlay",
              "size": 10,
              "solidity": 0.2
             }
            },
            "type": "bar"
           }
          ],
          "barpolar": [
           {
            "marker": {
             "line": {
              "color": "#E5ECF6",
              "width": 0.5
             },
             "pattern": {
              "fillmode": "overlay",
              "size": 10,
              "solidity": 0.2
             }
            },
            "type": "barpolar"
           }
          ],
          "carpet": [
           {
            "aaxis": {
             "endlinecolor": "#2a3f5f",
             "gridcolor": "white",
             "linecolor": "white",
             "minorgridcolor": "white",
             "startlinecolor": "#2a3f5f"
            },
            "baxis": {
             "endlinecolor": "#2a3f5f",
             "gridcolor": "white",
             "linecolor": "white",
             "minorgridcolor": "white",
             "startlinecolor": "#2a3f5f"
            },
            "type": "carpet"
           }
          ],
          "choropleth": [
           {
            "colorbar": {
             "outlinewidth": 0,
             "ticks": ""
            },
            "type": "choropleth"
           }
          ],
          "contour": [
           {
            "colorbar": {
             "outlinewidth": 0,
             "ticks": ""
            },
            "colorscale": [
             [
              0,
              "#0d0887"
             ],
             [
              0.1111111111111111,
              "#46039f"
             ],
             [
              0.2222222222222222,
              "#7201a8"
             ],
             [
              0.3333333333333333,
              "#9c179e"
             ],
             [
              0.4444444444444444,
              "#bd3786"
             ],
             [
              0.5555555555555556,
              "#d8576b"
             ],
             [
              0.6666666666666666,
              "#ed7953"
             ],
             [
              0.7777777777777778,
              "#fb9f3a"
             ],
             [
              0.8888888888888888,
              "#fdca26"
             ],
             [
              1,
              "#f0f921"
             ]
            ],
            "type": "contour"
           }
          ],
          "contourcarpet": [
           {
            "colorbar": {
             "outlinewidth": 0,
             "ticks": ""
            },
            "type": "contourcarpet"
           }
          ],
          "heatmap": [
           {
            "colorbar": {
             "outlinewidth": 0,
             "ticks": ""
            },
            "colorscale": [
             [
              0,
              "#0d0887"
             ],
             [
              0.1111111111111111,
              "#46039f"
             ],
             [
              0.2222222222222222,
              "#7201a8"
             ],
             [
              0.3333333333333333,
              "#9c179e"
             ],
             [
              0.4444444444444444,
              "#bd3786"
             ],
             [
              0.5555555555555556,
              "#d8576b"
             ],
             [
              0.6666666666666666,
              "#ed7953"
             ],
             [
              0.7777777777777778,
              "#fb9f3a"
             ],
             [
              0.8888888888888888,
              "#fdca26"
             ],
             [
              1,
              "#f0f921"
             ]
            ],
            "type": "heatmap"
           }
          ],
          "heatmapgl": [
           {
            "colorbar": {
             "outlinewidth": 0,
             "ticks": ""
            },
            "colorscale": [
             [
              0,
              "#0d0887"
             ],
             [
              0.1111111111111111,
              "#46039f"
             ],
             [
              0.2222222222222222,
              "#7201a8"
             ],
             [
              0.3333333333333333,
              "#9c179e"
             ],
             [
              0.4444444444444444,
              "#bd3786"
             ],
             [
              0.5555555555555556,
              "#d8576b"
             ],
             [
              0.6666666666666666,
              "#ed7953"
             ],
             [
              0.7777777777777778,
              "#fb9f3a"
             ],
             [
              0.8888888888888888,
              "#fdca26"
             ],
             [
              1,
              "#f0f921"
             ]
            ],
            "type": "heatmapgl"
           }
          ],
          "histogram": [
           {
            "marker": {
             "pattern": {
              "fillmode": "overlay",
              "size": 10,
              "solidity": 0.2
             }
            },
            "type": "histogram"
           }
          ],
          "histogram2d": [
           {
            "colorbar": {
             "outlinewidth": 0,
             "ticks": ""
            },
            "colorscale": [
             [
              0,
              "#0d0887"
             ],
             [
              0.1111111111111111,
              "#46039f"
             ],
             [
              0.2222222222222222,
              "#7201a8"
             ],
             [
              0.3333333333333333,
              "#9c179e"
             ],
             [
              0.4444444444444444,
              "#bd3786"
             ],
             [
              0.5555555555555556,
              "#d8576b"
             ],
             [
              0.6666666666666666,
              "#ed7953"
             ],
             [
              0.7777777777777778,
              "#fb9f3a"
             ],
             [
              0.8888888888888888,
              "#fdca26"
             ],
             [
              1,
              "#f0f921"
             ]
            ],
            "type": "histogram2d"
           }
          ],
          "histogram2dcontour": [
           {
            "colorbar": {
             "outlinewidth": 0,
             "ticks": ""
            },
            "colorscale": [
             [
              0,
              "#0d0887"
             ],
             [
              0.1111111111111111,
              "#46039f"
             ],
             [
              0.2222222222222222,
              "#7201a8"
             ],
             [
              0.3333333333333333,
              "#9c179e"
             ],
             [
              0.4444444444444444,
              "#bd3786"
             ],
             [
              0.5555555555555556,
              "#d8576b"
             ],
             [
              0.6666666666666666,
              "#ed7953"
             ],
             [
              0.7777777777777778,
              "#fb9f3a"
             ],
             [
              0.8888888888888888,
              "#fdca26"
             ],
             [
              1,
              "#f0f921"
             ]
            ],
            "type": "histogram2dcontour"
           }
          ],
          "mesh3d": [
           {
            "colorbar": {
             "outlinewidth": 0,
             "ticks": ""
            },
            "type": "mesh3d"
           }
          ],
          "parcoords": [
           {
            "line": {
             "colorbar": {
              "outlinewidth": 0,
              "ticks": ""
             }
            },
            "type": "parcoords"
           }
          ],
          "pie": [
           {
            "automargin": true,
            "type": "pie"
           }
          ],
          "scatter": [
           {
            "fillpattern": {
             "fillmode": "overlay",
             "size": 10,
             "solidity": 0.2
            },
            "type": "scatter"
           }
          ],
          "scatter3d": [
           {
            "line": {
             "colorbar": {
              "outlinewidth": 0,
              "ticks": ""
             }
            },
            "marker": {
             "colorbar": {
              "outlinewidth": 0,
              "ticks": ""
             }
            },
            "type": "scatter3d"
           }
          ],
          "scattercarpet": [
           {
            "marker": {
             "colorbar": {
              "outlinewidth": 0,
              "ticks": ""
             }
            },
            "type": "scattercarpet"
           }
          ],
          "scattergeo": [
           {
            "marker": {
             "colorbar": {
              "outlinewidth": 0,
              "ticks": ""
             }
            },
            "type": "scattergeo"
           }
          ],
          "scattergl": [
           {
            "marker": {
             "colorbar": {
              "outlinewidth": 0,
              "ticks": ""
             }
            },
            "type": "scattergl"
           }
          ],
          "scattermapbox": [
           {
            "marker": {
             "colorbar": {
              "outlinewidth": 0,
              "ticks": ""
             }
            },
            "type": "scattermapbox"
           }
          ],
          "scatterpolar": [
           {
            "marker": {
             "colorbar": {
              "outlinewidth": 0,
              "ticks": ""
             }
            },
            "type": "scatterpolar"
           }
          ],
          "scatterpolargl": [
           {
            "marker": {
             "colorbar": {
              "outlinewidth": 0,
              "ticks": ""
             }
            },
            "type": "scatterpolargl"
           }
          ],
          "scatterternary": [
           {
            "marker": {
             "colorbar": {
              "outlinewidth": 0,
              "ticks": ""
             }
            },
            "type": "scatterternary"
           }
          ],
          "surface": [
           {
            "colorbar": {
             "outlinewidth": 0,
             "ticks": ""
            },
            "colorscale": [
             [
              0,
              "#0d0887"
             ],
             [
              0.1111111111111111,
              "#46039f"
             ],
             [
              0.2222222222222222,
              "#7201a8"
             ],
             [
              0.3333333333333333,
              "#9c179e"
             ],
             [
              0.4444444444444444,
              "#bd3786"
             ],
             [
              0.5555555555555556,
              "#d8576b"
             ],
             [
              0.6666666666666666,
              "#ed7953"
             ],
             [
              0.7777777777777778,
              "#fb9f3a"
             ],
             [
              0.8888888888888888,
              "#fdca26"
             ],
             [
              1,
              "#f0f921"
             ]
            ],
            "type": "surface"
           }
          ],
          "table": [
           {
            "cells": {
             "fill": {
              "color": "#EBF0F8"
             },
             "line": {
              "color": "white"
             }
            },
            "header": {
             "fill": {
              "color": "#C8D4E3"
             },
             "line": {
              "color": "white"
             }
            },
            "type": "table"
           }
          ]
         },
         "layout": {
          "annotationdefaults": {
           "arrowcolor": "#2a3f5f",
           "arrowhead": 0,
           "arrowwidth": 1
          },
          "autotypenumbers": "strict",
          "coloraxis": {
           "colorbar": {
            "outlinewidth": 0,
            "ticks": ""
           }
          },
          "colorscale": {
           "diverging": [
            [
             0,
             "#8e0152"
            ],
            [
             0.1,
             "#c51b7d"
            ],
            [
             0.2,
             "#de77ae"
            ],
            [
             0.3,
             "#f1b6da"
            ],
            [
             0.4,
             "#fde0ef"
            ],
            [
             0.5,
             "#f7f7f7"
            ],
            [
             0.6,
             "#e6f5d0"
            ],
            [
             0.7,
             "#b8e186"
            ],
            [
             0.8,
             "#7fbc41"
            ],
            [
             0.9,
             "#4d9221"
            ],
            [
             1,
             "#276419"
            ]
           ],
           "sequential": [
            [
             0,
             "#0d0887"
            ],
            [
             0.1111111111111111,
             "#46039f"
            ],
            [
             0.2222222222222222,
             "#7201a8"
            ],
            [
             0.3333333333333333,
             "#9c179e"
            ],
            [
             0.4444444444444444,
             "#bd3786"
            ],
            [
             0.5555555555555556,
             "#d8576b"
            ],
            [
             0.6666666666666666,
             "#ed7953"
            ],
            [
             0.7777777777777778,
             "#fb9f3a"
            ],
            [
             0.8888888888888888,
             "#fdca26"
            ],
            [
             1,
             "#f0f921"
            ]
           ],
           "sequentialminus": [
            [
             0,
             "#0d0887"
            ],
            [
             0.1111111111111111,
             "#46039f"
            ],
            [
             0.2222222222222222,
             "#7201a8"
            ],
            [
             0.3333333333333333,
             "#9c179e"
            ],
            [
             0.4444444444444444,
             "#bd3786"
            ],
            [
             0.5555555555555556,
             "#d8576b"
            ],
            [
             0.6666666666666666,
             "#ed7953"
            ],
            [
             0.7777777777777778,
             "#fb9f3a"
            ],
            [
             0.8888888888888888,
             "#fdca26"
            ],
            [
             1,
             "#f0f921"
            ]
           ]
          },
          "colorway": [
           "#636efa",
           "#EF553B",
           "#00cc96",
           "#ab63fa",
           "#FFA15A",
           "#19d3f3",
           "#FF6692",
           "#B6E880",
           "#FF97FF",
           "#FECB52"
          ],
          "font": {
           "color": "#2a3f5f"
          },
          "geo": {
           "bgcolor": "white",
           "lakecolor": "white",
           "landcolor": "#E5ECF6",
           "showlakes": true,
           "showland": true,
           "subunitcolor": "white"
          },
          "hoverlabel": {
           "align": "left"
          },
          "hovermode": "closest",
          "mapbox": {
           "style": "light"
          },
          "paper_bgcolor": "white",
          "plot_bgcolor": "#E5ECF6",
          "polar": {
           "angularaxis": {
            "gridcolor": "white",
            "linecolor": "white",
            "ticks": ""
           },
           "bgcolor": "#E5ECF6",
           "radialaxis": {
            "gridcolor": "white",
            "linecolor": "white",
            "ticks": ""
           }
          },
          "scene": {
           "xaxis": {
            "backgroundcolor": "#E5ECF6",
            "gridcolor": "white",
            "gridwidth": 2,
            "linecolor": "white",
            "showbackground": true,
            "ticks": "",
            "zerolinecolor": "white"
           },
           "yaxis": {
            "backgroundcolor": "#E5ECF6",
            "gridcolor": "white",
            "gridwidth": 2,
            "linecolor": "white",
            "showbackground": true,
            "ticks": "",
            "zerolinecolor": "white"
           },
           "zaxis": {
            "backgroundcolor": "#E5ECF6",
            "gridcolor": "white",
            "gridwidth": 2,
            "linecolor": "white",
            "showbackground": true,
            "ticks": "",
            "zerolinecolor": "white"
           }
          },
          "shapedefaults": {
           "line": {
            "color": "#2a3f5f"
           }
          },
          "ternary": {
           "aaxis": {
            "gridcolor": "white",
            "linecolor": "white",
            "ticks": ""
           },
           "baxis": {
            "gridcolor": "white",
            "linecolor": "white",
            "ticks": ""
           },
           "bgcolor": "#E5ECF6",
           "caxis": {
            "gridcolor": "white",
            "linecolor": "white",
            "ticks": ""
           }
          },
          "title": {
           "x": 0.05
          },
          "xaxis": {
           "automargin": true,
           "gridcolor": "white",
           "linecolor": "white",
           "ticks": "",
           "title": {
            "standoff": 15
           },
           "zerolinecolor": "white",
           "zerolinewidth": 2
          },
          "yaxis": {
           "automargin": true,
           "gridcolor": "white",
           "linecolor": "white",
           "ticks": "",
           "title": {
            "standoff": 15
           },
           "zerolinecolor": "white",
           "zerolinewidth": 2
          }
         }
        },
        "xaxis": {
         "anchor": "y",
         "domain": [
          0,
          1
         ],
         "title": {
          "text": "error_code"
         }
        },
        "yaxis": {
         "anchor": "x",
         "domain": [
          0,
          1
         ],
         "title": {
          "text": "count"
         }
        }
       }
      },
      "text/html": [
       "<div>                            <div id=\"57f0c9ce-8796-4ff5-b09a-4a1d03ac8807\" class=\"plotly-graph-div\" style=\"height:525px; width:100%;\"></div>            <script type=\"text/javascript\">                require([\"plotly\"], function(Plotly) {                    window.PLOTLYENV=window.PLOTLYENV || {};                                    if (document.getElementById(\"57f0c9ce-8796-4ff5-b09a-4a1d03ac8807\")) {                    Plotly.newPlot(                        \"57f0c9ce-8796-4ff5-b09a-4a1d03ac8807\",                        [{\"alignmentgroup\":\"True\",\"hovertemplate\":\"error_code=%{x}<br>count=%{y}<extra></extra>\",\"legendgroup\":\"\",\"marker\":{\"color\":\"#636efa\",\"pattern\":{\"shape\":\"\"}},\"name\":\"\",\"offsetgroup\":\"\",\"orientation\":\"v\",\"showlegend\":false,\"textposition\":\"auto\",\"x\":[\"attr-defined\",\"arg-type\",\"assignment\",\"index\",\"return-value\",\"name-defined\",\"misc\",\"has-type\",\"override\",\"return\",\"call-overload\",\"dict-item\",\"call-arg\"],\"xaxis\":\"x\",\"y\":[35,30,15,8,7,7,5,4,2,2,2,1,1],\"yaxis\":\"y\",\"type\":\"bar\"}],                        {\"template\":{\"data\":{\"histogram2dcontour\":[{\"type\":\"histogram2dcontour\",\"colorbar\":{\"outlinewidth\":0,\"ticks\":\"\"},\"colorscale\":[[0.0,\"#0d0887\"],[0.1111111111111111,\"#46039f\"],[0.2222222222222222,\"#7201a8\"],[0.3333333333333333,\"#9c179e\"],[0.4444444444444444,\"#bd3786\"],[0.5555555555555556,\"#d8576b\"],[0.6666666666666666,\"#ed7953\"],[0.7777777777777778,\"#fb9f3a\"],[0.8888888888888888,\"#fdca26\"],[1.0,\"#f0f921\"]]}],\"choropleth\":[{\"type\":\"choropleth\",\"colorbar\":{\"outlinewidth\":0,\"ticks\":\"\"}}],\"histogram2d\":[{\"type\":\"histogram2d\",\"colorbar\":{\"outlinewidth\":0,\"ticks\":\"\"},\"colorscale\":[[0.0,\"#0d0887\"],[0.1111111111111111,\"#46039f\"],[0.2222222222222222,\"#7201a8\"],[0.3333333333333333,\"#9c179e\"],[0.4444444444444444,\"#bd3786\"],[0.5555555555555556,\"#d8576b\"],[0.6666666666666666,\"#ed7953\"],[0.7777777777777778,\"#fb9f3a\"],[0.8888888888888888,\"#fdca26\"],[1.0,\"#f0f921\"]]}],\"heatmap\":[{\"type\":\"heatmap\",\"colorbar\":{\"outlinewidth\":0,\"ticks\":\"\"},\"colorscale\":[[0.0,\"#0d0887\"],[0.1111111111111111,\"#46039f\"],[0.2222222222222222,\"#7201a8\"],[0.3333333333333333,\"#9c179e\"],[0.4444444444444444,\"#bd3786\"],[0.5555555555555556,\"#d8576b\"],[0.6666666666666666,\"#ed7953\"],[0.7777777777777778,\"#fb9f3a\"],[0.8888888888888888,\"#fdca26\"],[1.0,\"#f0f921\"]]}],\"heatmapgl\":[{\"type\":\"heatmapgl\",\"colorbar\":{\"outlinewidth\":0,\"ticks\":\"\"},\"colorscale\":[[0.0,\"#0d0887\"],[0.1111111111111111,\"#46039f\"],[0.2222222222222222,\"#7201a8\"],[0.3333333333333333,\"#9c179e\"],[0.4444444444444444,\"#bd3786\"],[0.5555555555555556,\"#d8576b\"],[0.6666666666666666,\"#ed7953\"],[0.7777777777777778,\"#fb9f3a\"],[0.8888888888888888,\"#fdca26\"],[1.0,\"#f0f921\"]]}],\"contourcarpet\":[{\"type\":\"contourcarpet\",\"colorbar\":{\"outlinewidth\":0,\"ticks\":\"\"}}],\"contour\":[{\"type\":\"contour\",\"colorbar\":{\"outlinewidth\":0,\"ticks\":\"\"},\"colorscale\":[[0.0,\"#0d0887\"],[0.1111111111111111,\"#46039f\"],[0.2222222222222222,\"#7201a8\"],[0.3333333333333333,\"#9c179e\"],[0.4444444444444444,\"#bd3786\"],[0.5555555555555556,\"#d8576b\"],[0.6666666666666666,\"#ed7953\"],[0.7777777777777778,\"#fb9f3a\"],[0.8888888888888888,\"#fdca26\"],[1.0,\"#f0f921\"]]}],\"surface\":[{\"type\":\"surface\",\"colorbar\":{\"outlinewidth\":0,\"ticks\":\"\"},\"colorscale\":[[0.0,\"#0d0887\"],[0.1111111111111111,\"#46039f\"],[0.2222222222222222,\"#7201a8\"],[0.3333333333333333,\"#9c179e\"],[0.4444444444444444,\"#bd3786\"],[0.5555555555555556,\"#d8576b\"],[0.6666666666666666,\"#ed7953\"],[0.7777777777777778,\"#fb9f3a\"],[0.8888888888888888,\"#fdca26\"],[1.0,\"#f0f921\"]]}],\"mesh3d\":[{\"type\":\"mesh3d\",\"colorbar\":{\"outlinewidth\":0,\"ticks\":\"\"}}],\"scatter\":[{\"fillpattern\":{\"fillmode\":\"overlay\",\"size\":10,\"solidity\":0.2},\"type\":\"scatter\"}],\"parcoords\":[{\"type\":\"parcoords\",\"line\":{\"colorbar\":{\"outlinewidth\":0,\"ticks\":\"\"}}}],\"scatterpolargl\":[{\"type\":\"scatterpolargl\",\"marker\":{\"colorbar\":{\"outlinewidth\":0,\"ticks\":\"\"}}}],\"bar\":[{\"error_x\":{\"color\":\"#2a3f5f\"},\"error_y\":{\"color\":\"#2a3f5f\"},\"marker\":{\"line\":{\"color\":\"#E5ECF6\",\"width\":0.5},\"pattern\":{\"fillmode\":\"overlay\",\"size\":10,\"solidity\":0.2}},\"type\":\"bar\"}],\"scattergeo\":[{\"type\":\"scattergeo\",\"marker\":{\"colorbar\":{\"outlinewidth\":0,\"ticks\":\"\"}}}],\"scatterpolar\":[{\"type\":\"scatterpolar\",\"marker\":{\"colorbar\":{\"outlinewidth\":0,\"ticks\":\"\"}}}],\"histogram\":[{\"marker\":{\"pattern\":{\"fillmode\":\"overlay\",\"size\":10,\"solidity\":0.2}},\"type\":\"histogram\"}],\"scattergl\":[{\"type\":\"scattergl\",\"marker\":{\"colorbar\":{\"outlinewidth\":0,\"ticks\":\"\"}}}],\"scatter3d\":[{\"type\":\"scatter3d\",\"line\":{\"colorbar\":{\"outlinewidth\":0,\"ticks\":\"\"}},\"marker\":{\"colorbar\":{\"outlinewidth\":0,\"ticks\":\"\"}}}],\"scattermapbox\":[{\"type\":\"scattermapbox\",\"marker\":{\"colorbar\":{\"outlinewidth\":0,\"ticks\":\"\"}}}],\"scatterternary\":[{\"type\":\"scatterternary\",\"marker\":{\"colorbar\":{\"outlinewidth\":0,\"ticks\":\"\"}}}],\"scattercarpet\":[{\"type\":\"scattercarpet\",\"marker\":{\"colorbar\":{\"outlinewidth\":0,\"ticks\":\"\"}}}],\"carpet\":[{\"aaxis\":{\"endlinecolor\":\"#2a3f5f\",\"gridcolor\":\"white\",\"linecolor\":\"white\",\"minorgridcolor\":\"white\",\"startlinecolor\":\"#2a3f5f\"},\"baxis\":{\"endlinecolor\":\"#2a3f5f\",\"gridcolor\":\"white\",\"linecolor\":\"white\",\"minorgridcolor\":\"white\",\"startlinecolor\":\"#2a3f5f\"},\"type\":\"carpet\"}],\"table\":[{\"cells\":{\"fill\":{\"color\":\"#EBF0F8\"},\"line\":{\"color\":\"white\"}},\"header\":{\"fill\":{\"color\":\"#C8D4E3\"},\"line\":{\"color\":\"white\"}},\"type\":\"table\"}],\"barpolar\":[{\"marker\":{\"line\":{\"color\":\"#E5ECF6\",\"width\":0.5},\"pattern\":{\"fillmode\":\"overlay\",\"size\":10,\"solidity\":0.2}},\"type\":\"barpolar\"}],\"pie\":[{\"automargin\":true,\"type\":\"pie\"}]},\"layout\":{\"autotypenumbers\":\"strict\",\"colorway\":[\"#636efa\",\"#EF553B\",\"#00cc96\",\"#ab63fa\",\"#FFA15A\",\"#19d3f3\",\"#FF6692\",\"#B6E880\",\"#FF97FF\",\"#FECB52\"],\"font\":{\"color\":\"#2a3f5f\"},\"hovermode\":\"closest\",\"hoverlabel\":{\"align\":\"left\"},\"paper_bgcolor\":\"white\",\"plot_bgcolor\":\"#E5ECF6\",\"polar\":{\"bgcolor\":\"#E5ECF6\",\"angularaxis\":{\"gridcolor\":\"white\",\"linecolor\":\"white\",\"ticks\":\"\"},\"radialaxis\":{\"gridcolor\":\"white\",\"linecolor\":\"white\",\"ticks\":\"\"}},\"ternary\":{\"bgcolor\":\"#E5ECF6\",\"aaxis\":{\"gridcolor\":\"white\",\"linecolor\":\"white\",\"ticks\":\"\"},\"baxis\":{\"gridcolor\":\"white\",\"linecolor\":\"white\",\"ticks\":\"\"},\"caxis\":{\"gridcolor\":\"white\",\"linecolor\":\"white\",\"ticks\":\"\"}},\"coloraxis\":{\"colorbar\":{\"outlinewidth\":0,\"ticks\":\"\"}},\"colorscale\":{\"sequential\":[[0.0,\"#0d0887\"],[0.1111111111111111,\"#46039f\"],[0.2222222222222222,\"#7201a8\"],[0.3333333333333333,\"#9c179e\"],[0.4444444444444444,\"#bd3786\"],[0.5555555555555556,\"#d8576b\"],[0.6666666666666666,\"#ed7953\"],[0.7777777777777778,\"#fb9f3a\"],[0.8888888888888888,\"#fdca26\"],[1.0,\"#f0f921\"]],\"sequentialminus\":[[0.0,\"#0d0887\"],[0.1111111111111111,\"#46039f\"],[0.2222222222222222,\"#7201a8\"],[0.3333333333333333,\"#9c179e\"],[0.4444444444444444,\"#bd3786\"],[0.5555555555555556,\"#d8576b\"],[0.6666666666666666,\"#ed7953\"],[0.7777777777777778,\"#fb9f3a\"],[0.8888888888888888,\"#fdca26\"],[1.0,\"#f0f921\"]],\"diverging\":[[0,\"#8e0152\"],[0.1,\"#c51b7d\"],[0.2,\"#de77ae\"],[0.3,\"#f1b6da\"],[0.4,\"#fde0ef\"],[0.5,\"#f7f7f7\"],[0.6,\"#e6f5d0\"],[0.7,\"#b8e186\"],[0.8,\"#7fbc41\"],[0.9,\"#4d9221\"],[1,\"#276419\"]]},\"xaxis\":{\"gridcolor\":\"white\",\"linecolor\":\"white\",\"ticks\":\"\",\"title\":{\"standoff\":15},\"zerolinecolor\":\"white\",\"automargin\":true,\"zerolinewidth\":2},\"yaxis\":{\"gridcolor\":\"white\",\"linecolor\":\"white\",\"ticks\":\"\",\"title\":{\"standoff\":15},\"zerolinecolor\":\"white\",\"automargin\":true,\"zerolinewidth\":2},\"scene\":{\"xaxis\":{\"backgroundcolor\":\"#E5ECF6\",\"gridcolor\":\"white\",\"linecolor\":\"white\",\"showbackground\":true,\"ticks\":\"\",\"zerolinecolor\":\"white\",\"gridwidth\":2},\"yaxis\":{\"backgroundcolor\":\"#E5ECF6\",\"gridcolor\":\"white\",\"linecolor\":\"white\",\"showbackground\":true,\"ticks\":\"\",\"zerolinecolor\":\"white\",\"gridwidth\":2},\"zaxis\":{\"backgroundcolor\":\"#E5ECF6\",\"gridcolor\":\"white\",\"linecolor\":\"white\",\"showbackground\":true,\"ticks\":\"\",\"zerolinecolor\":\"white\",\"gridwidth\":2}},\"shapedefaults\":{\"line\":{\"color\":\"#2a3f5f\"}},\"annotationdefaults\":{\"arrowcolor\":\"#2a3f5f\",\"arrowhead\":0,\"arrowwidth\":1},\"geo\":{\"bgcolor\":\"white\",\"landcolor\":\"#E5ECF6\",\"subunitcolor\":\"white\",\"showland\":true,\"showlakes\":true,\"lakecolor\":\"white\"},\"title\":{\"x\":0.05},\"mapbox\":{\"style\":\"light\"}}},\"xaxis\":{\"anchor\":\"y\",\"domain\":[0.0,1.0],\"title\":{\"text\":\"error_code\"}},\"yaxis\":{\"anchor\":\"x\",\"domain\":[0.0,1.0],\"title\":{\"text\":\"count\"}},\"legend\":{\"tracegroupgap\":0},\"margin\":{\"t\":60},\"barmode\":\"relative\"},                        {\"responsive\": true}                    ).then(function(){\n",
       "                            \n",
       "var gd = document.getElementById('57f0c9ce-8796-4ff5-b09a-4a1d03ac8807');\n",
       "var x = new MutationObserver(function (mutations, observer) {{\n",
       "        var display = window.getComputedStyle(gd).display;\n",
       "        if (!display || display === 'none') {{\n",
       "            console.log([gd, 'removed!']);\n",
       "            Plotly.purge(gd);\n",
       "            observer.disconnect();\n",
       "        }}\n",
       "}});\n",
       "\n",
       "// Listen for the removal of the full notebook cells\n",
       "var notebookContainer = gd.closest('#notebook-container');\n",
       "if (notebookContainer) {{\n",
       "    x.observe(notebookContainer, {childList: true});\n",
       "}}\n",
       "\n",
       "// Listen for the clearing of the current output cell\n",
       "var outputEl = gd.closest('.output');\n",
       "if (outputEl) {{\n",
       "    x.observe(outputEl, {childList: true});\n",
       "}}\n",
       "\n",
       "                        })                };                });            </script>        </div>"
      ]
     },
     "metadata": {},
     "output_type": "display_data"
    },
    {
     "data": {
      "application/vnd.jupyter.widget-view+json": {
       "model_id": "52a907bb47514253b31c99757c1e8af1",
       "version_major": 2,
       "version_minor": 0
      },
      "text/plain": [
       "VBox(children=(HBox(children=(IntSlider(value=0, max=34), Label(value='(35 total)'))), Box(children=(Output(la…"
      ]
     },
     "metadata": {},
     "output_type": "display_data"
    }
   ],
   "source": [
    "from spot.visualization import visualize_texts\n",
    "\n",
    "def add_line_numbers(code: str):\n",
    "    lines = code.split(\"\\n\")\n",
    "    return \"\\n\".join(f\"{i+1:3d}|  {l}\" for i, l in enumerate(lines))\n",
    "\n",
    "\n",
    "to_display = []\n",
    "for xs in error_groups[\"attr-defined\"]:\n",
    "    to_display.append(\n",
    "        f\"feedback: {xs[0]}\\n\"\n",
    "        + \"=========code=========\\n\"\n",
    "        + add_line_numbers(xs[1].origin_code)\n",
    "    )\n",
    "visualize_texts(to_display)\n"
   ]
  },
  {
   "cell_type": "code",
   "execution_count": 5,
   "metadata": {},
   "outputs": [
    {
     "data": {
      "application/vnd.jupyter.widget-view+json": {
       "model_id": "14a9525726bf4d7a9988ba7e1431c13b",
       "version_major": 2,
       "version_minor": 0
      },
      "text/plain": [
       "processing chunks:   0%|          | 0/2615 [00:00<?, ?it/s]"
      ]
     },
     "metadata": {},
     "output_type": "display_data"
    },
    {
     "data": {
      "application/vnd.jupyter.widget-view+json": {
       "model_id": "c94fa38d0300427d8621978ce8743ddd",
       "version_major": 2,
       "version_minor": 0
      },
      "text/plain": [
       "predict:   0%|          | 0/2068 [00:00<?, ?it/s]"
      ]
     },
     "metadata": {},
     "output_type": "display_data"
    },
    {
     "name": "stdout",
     "output_type": "stream",
     "text": [
      "[PickleCache] Saving to cache: %s /mnt/data0/jiayi/checkpoints/lit-saved/SPOT-model-R0-(384, 512, 128)/eval/ctx_size_factor=1.pkl\n",
      "===ctx_size factor: 1===\n",
      "ctx_args: CtxArgs(left=384, window=512, right=128)\n",
      "partial_acc: 0.8329\n",
      "partial_acc_wo_any: 0.8395\n",
      "partial_accs:\n",
      "   FuncArg: 0.8274\n",
      "   FuncReturn: 0.8579\n",
      "   ClassAtribute: 0.7905\n",
      "   GlobalVar: 0.8393\n",
      "   LocalVar: 0.8617\n",
      "full_acc: 0.7762\n",
      "full_accs:\n",
      "   FuncArg: 0.7763\n",
      "   FuncReturn: 0.8171\n",
      "   ClassAtribute: 0.7189\n",
      "   GlobalVar: 0.6429\n",
      "   LocalVar: 0.6482\n",
      "n_labels: 8421\n"
     ]
    },
    {
     "data": {
      "application/vnd.jupyter.widget-view+json": {
       "model_id": "937709a10ceb4642b1886e52b3b276b0",
       "version_major": 2,
       "version_minor": 0
      },
      "text/plain": [
       "processing chunks:   0%|          | 0/2615 [00:00<?, ?it/s]"
      ]
     },
     "metadata": {},
     "output_type": "display_data"
    },
    {
     "data": {
      "application/vnd.jupyter.widget-view+json": {
       "model_id": "6cbe7f3b8980465182944e206f723e0d",
       "version_major": 2,
       "version_minor": 0
      },
      "text/plain": [
       "predict:   0%|          | 0/2070 [00:00<?, ?it/s]"
      ]
     },
     "metadata": {},
     "output_type": "display_data"
    },
    {
     "name": "stdout",
     "output_type": "stream",
     "text": [
      "[PickleCache] Saving to cache: %s /mnt/data0/jiayi/checkpoints/lit-saved/SPOT-model-R0-(384, 512, 128)/eval/ctx_size_factor=2.pkl\n",
      "===ctx_size factor: 2===\n",
      "ctx_args: CtxArgs(left=1280, window=512, right=256)\n",
      "partial_acc: 0.8535\n",
      "partial_acc_wo_any: 0.8602\n",
      "partial_accs:\n",
      "   FuncArg: 0.8541\n",
      "   FuncReturn: 0.8787\n",
      "   ClassAtribute: 0.7964\n",
      "   GlobalVar: 0.7857\n",
      "   LocalVar: 0.881\n",
      "full_acc: 0.8004\n",
      "full_accs:\n",
      "   FuncArg: 0.8121\n",
      "   FuncReturn: 0.8357\n",
      "   ClassAtribute: 0.7174\n",
      "   GlobalVar: 0.625\n",
      "   LocalVar: 0.7024\n",
      "n_labels: 8418\n",
      "Pushover: (Finished: 'Evaluate accuracy vs ctx_size: SPOT-model-R0-(384, 512, 128)'.) Time taken: 594.1s\n"
     ]
    }
   ],
   "source": [
    "# evaluate the model\n",
    "\n",
    "import plotly.express as px\n",
    "\n",
    "from spot.data import load_src_datasets, pretty_print_accuracies\n",
    "from spot.utils import PickleCache\n",
    "\n",
    "\n",
    "def evaluate_model(\n",
    "    wrapper: ModelWrapper,\n",
    "    model_name: str,\n",
    "    testset: SrcDataset,\n",
    "    size_factors=[1, 2],\n",
    "    reeval=False,\n",
    "):\n",
    "    eval_cache = PickleCache(datadir / f\"checkpoints/lit-saved/{model_name}/eval\")\n",
    "    if reeval:\n",
    "        eval_cache.clear()\n",
    "\n",
    "    with run_long_task(f\"Evaluate accuracy vs ctx_size: {model_name}\"):\n",
    "        wrapper_args = wrapper.args\n",
    "        acc_series = []\n",
    "        try:\n",
    "            for factor in size_factors:\n",
    "                wrapper.args = wrapper_args.scale_ctx_size(factor)\n",
    "                accs = eval_cache.cached(\n",
    "                    f\"ctx_size_factor={factor}.pkl\",\n",
    "                    lambda: wrapper.eval_on_dataset(\n",
    "                        testset, tqdm_args={\"leave\": False}\n",
    "                    )[0],\n",
    "                )\n",
    "                acc_series.append(accs)\n",
    "                print(f\"===ctx_size factor: {factor}===\")\n",
    "                print(f\"ctx_args: {wrapper.args.ctx_args}\")\n",
    "                pretty_print_accuracies(accs)\n",
    "        finally:\n",
    "            wrapper.args = wrapper_args\n",
    "\n",
    "    acc_df = pd.DataFrame(\n",
    "        {\n",
    "            \"ctx_size\": size_factors,\n",
    "            \"partial_acc\": [x[\"partial_acc\"] for x in acc_series],\n",
    "            \"full_acc\": [x[\"full_acc\"] for x in acc_series],\n",
    "        }\n",
    "    )\n",
    "    px.line(acc_df, x=\"ctx_size\", y=[\"partial_acc\", \"full_acc\"], title=model_name)\n",
    "    return acc_series\n",
    "\n",
    "\n",
    "evaluate_model(r0_wrapper, r0_model_name, src_datasets[\"test\"])\n",
    "None\n"
   ]
  },
  {
   "cell_type": "code",
   "execution_count": 10,
   "metadata": {},
   "outputs": [
    {
     "data": {
      "application/vnd.jupyter.widget-view+json": {
       "model_id": "b7ef6f21200a469da76c94c2dc7fa724",
       "version_major": 2,
       "version_minor": 0
      },
      "text/plain": [
       "processing chunks:   0%|          | 0/3817 [00:00<?, ?it/s]"
      ]
     },
     "metadata": {},
     "output_type": "display_data"
    },
    {
     "data": {
      "application/vnd.jupyter.widget-view+json": {
       "model_id": "0fd0d8c894ed4516b914e01dd0b27082",
       "version_major": 2,
       "version_minor": 0
      },
      "text/plain": [
       "processing chunks:   0%|          | 0/2734 [00:00<?, ?it/s]"
      ]
     },
     "metadata": {},
     "output_type": "display_data"
    },
    {
     "data": {
      "application/vnd.jupyter.widget-view+json": {
       "model_id": "7d114a3bb74d437c8a7035320104999c",
       "version_major": 2,
       "version_minor": 0
      },
      "text/plain": [
       "processing chunks:   0%|          | 0/52932 [00:00<?, ?it/s]"
      ]
     },
     "metadata": {},
     "output_type": "display_data"
    },
    {
     "name": "stdout",
     "output_type": "stream",
     "text": [
      "Pushover: (Finished: 'Preparing chunked datasets'.) Time taken: 85.5s\n"
     ]
    },
    {
     "data": {
      "text/html": [
       "Tracking run with wandb version 0.12.16"
      ],
      "text/plain": [
       "<IPython.core.display.HTML object>"
      ]
     },
     "metadata": {},
     "output_type": "display_data"
    },
    {
     "data": {
      "text/html": [
       "Run data is saved locally in <code>/mnt/data0/jiayi/wandb/run-20220525_214447-ie9k6vty</code>"
      ],
      "text/plain": [
       "<IPython.core.display.HTML object>"
      ]
     },
     "metadata": {},
     "output_type": "display_data"
    },
    {
     "data": {
      "text/html": [
       "Syncing run <strong><a href=\"https://wandb.ai/mrvplusone/SPOT-model-R1-%28384%2C%20512%2C%20128%29/runs/ie9k6vty\" target=\"_blank\">fearless-silence-1</a></strong> to <a href=\"https://wandb.ai/mrvplusone/SPOT-model-R1-%28384%2C%20512%2C%20128%29\" target=\"_blank\">Weights & Biases</a> (<a href=\"https://wandb.me/run\" target=\"_blank\">docs</a>)<br/>"
      ],
      "text/plain": [
       "<IPython.core.display.HTML object>"
      ]
     },
     "metadata": {},
     "output_type": "display_data"
    },
    {
     "name": "stderr",
     "output_type": "stream",
     "text": [
      "Using 16bit native Automatic Mixed Precision (AMP)\n",
      "GPU available: True, used: True\n",
      "TPU available: False, using: 0 TPU cores\n",
      "IPU available: False, using: 0 IPUs\n",
      "HPU available: False, using: 0 HPUs\n",
      "LOCAL_RANK: 0 - CUDA_VISIBLE_DEVICES: [1,2]\n",
      "\n",
      "  | Name  | Type                       | Params\n",
      "-----------------------------------------------------\n",
      "0 | model | T5ForConditionalGeneration | 222 M \n",
      "-----------------------------------------------------\n",
      "222 M     Trainable params\n",
      "0         Non-trainable params\n",
      "222 M     Total params\n",
      "445.764   Total estimated model params size (MB)\n"
     ]
    },
    {
     "data": {
      "application/vnd.jupyter.widget-view+json": {
       "model_id": "b071103160024393b952b736fc05e9de",
       "version_major": 2,
       "version_minor": 0
      },
      "text/plain": [
       "Sanity Checking: 0it [00:00, ?it/s]"
      ]
     },
     "metadata": {},
     "output_type": "display_data"
    },
    {
     "data": {
      "application/vnd.jupyter.widget-view+json": {
       "model_id": "0a3212a4955e4af7a7d5386118a469ad",
       "version_major": 2,
       "version_minor": 0
      },
      "text/plain": [
       "Training: 0it [00:00, ?it/s]"
      ]
     },
     "metadata": {},
     "output_type": "display_data"
    },
    {
     "data": {
      "application/vnd.jupyter.widget-view+json": {
       "model_id": "81a61440c41b4c42b8c4611e0aacfd70",
       "version_major": 2,
       "version_minor": 0
      },
      "text/plain": [
       "Validation: 0it [00:00, ?it/s]"
      ]
     },
     "metadata": {},
     "output_type": "display_data"
    },
    {
     "data": {
      "application/vnd.jupyter.widget-view+json": {
       "model_id": "36fbcf4fd3e0446db22f4f3008f61b0f",
       "version_major": 2,
       "version_minor": 0
      },
      "text/plain": [
       "Validation: 0it [00:00, ?it/s]"
      ]
     },
     "metadata": {},
     "output_type": "display_data"
    },
    {
     "data": {
      "application/vnd.jupyter.widget-view+json": {
       "model_id": "bde6d1904d224840be09291d51266413",
       "version_major": 2,
       "version_minor": 0
      },
      "text/plain": [
       "Validation: 0it [00:00, ?it/s]"
      ]
     },
     "metadata": {},
     "output_type": "display_data"
    },
    {
     "data": {
      "application/vnd.jupyter.widget-view+json": {
       "model_id": "ef8cbbfd5f104d28aece860ef3fec00d",
       "version_major": 2,
       "version_minor": 0
      },
      "text/plain": [
       "Validation: 0it [00:00, ?it/s]"
      ]
     },
     "metadata": {},
     "output_type": "display_data"
    },
    {
     "data": {
      "application/vnd.jupyter.widget-view+json": {
       "model_id": "4a2a04abbc21423daa5f3533c6b4a534",
       "version_major": 2,
       "version_minor": 0
      },
      "text/plain": [
       "Validation: 0it [00:00, ?it/s]"
      ]
     },
     "metadata": {},
     "output_type": "display_data"
    },
    {
     "data": {
      "application/vnd.jupyter.widget-view+json": {
       "model_id": "bc22f0bf0a7c4a198b75bba684081dbe",
       "version_major": 2,
       "version_minor": 0
      },
      "text/plain": [
       "Validation: 0it [00:00, ?it/s]"
      ]
     },
     "metadata": {},
     "output_type": "display_data"
    },
    {
     "data": {
      "application/vnd.jupyter.widget-view+json": {
       "model_id": "fd260943870c46cab60487905c2068b3",
       "version_major": 2,
       "version_minor": 0
      },
      "text/plain": [
       "Validation: 0it [00:00, ?it/s]"
      ]
     },
     "metadata": {},
     "output_type": "display_data"
    },
    {
     "data": {
      "application/vnd.jupyter.widget-view+json": {
       "model_id": "431305622c51496798d24a7e346f1e54",
       "version_major": 2,
       "version_minor": 0
      },
      "text/plain": [
       "Validation: 0it [00:00, ?it/s]"
      ]
     },
     "metadata": {},
     "output_type": "display_data"
    },
    {
     "data": {
      "application/vnd.jupyter.widget-view+json": {
       "model_id": "8fd19ca28acb4d47aa59bd81207f0346",
       "version_major": 2,
       "version_minor": 0
      },
      "text/plain": [
       "Validation: 0it [00:00, ?it/s]"
      ]
     },
     "metadata": {},
     "output_type": "display_data"
    },
    {
     "data": {
      "application/vnd.jupyter.widget-view+json": {
       "model_id": "08eb5168dbdf47469ff6142c6e750914",
       "version_major": 2,
       "version_minor": 0
      },
      "text/plain": [
       "Validation: 0it [00:00, ?it/s]"
      ]
     },
     "metadata": {},
     "output_type": "display_data"
    },
    {
     "data": {
      "application/vnd.jupyter.widget-view+json": {
       "model_id": "633a3924b50c4eefaa6058007fe6f5b9",
       "version_major": 2,
       "version_minor": 0
      },
      "text/plain": [
       "Validation: 0it [00:00, ?it/s]"
      ]
     },
     "metadata": {},
     "output_type": "display_data"
    },
    {
     "name": "stdout",
     "output_type": "stream",
     "text": [
      "Pushover: (Finished: 'Training SPOT-model-R1-(384, 512, 128)'.) Time taken: 5644.1s\n"
     ]
    },
    {
     "name": "stderr",
     "output_type": "stream",
     "text": [
      "LOCAL_RANK: 0 - CUDA_VISIBLE_DEVICES: [1,2]\n"
     ]
    },
    {
     "data": {
      "application/vnd.jupyter.widget-view+json": {
       "model_id": "2992cb9a7bae466a801a5d071f94359c",
       "version_major": 2,
       "version_minor": 0
      },
      "text/plain": [
       "Validation: 0it [00:00, ?it/s]"
      ]
     },
     "metadata": {},
     "output_type": "display_data"
    },
    {
     "name": "stdout",
     "output_type": "stream",
     "text": [
      "────────────────────────────────────────────────────────────────────────────────────────────────────────────────────────\n",
      "     Validate metric           DataLoader 0\n",
      "────────────────────────────────────────────────────────────────────────────────────────────────────────────────────────\n",
      "       valid/loss           0.3151528835296631\n",
      "────────────────────────────────────────────────────────────────────────────────────────────────────────────────────────\n"
     ]
    },
    {
     "data": {
      "text/html": [
       "Waiting for W&B process to finish... <strong style=\"color:green\">(success).</strong>"
      ],
      "text/plain": [
       "<IPython.core.display.HTML object>"
      ]
     },
     "metadata": {},
     "output_type": "display_data"
    },
    {
     "data": {
      "application/vnd.jupyter.widget-view+json": {
       "model_id": "e8eef2c819f34ba4a0476d4402f48d4b",
       "version_major": 2,
       "version_minor": 0
      },
      "text/plain": [
       "VBox(children=(Label(value='0.001 MB of 0.001 MB uploaded (0.000 MB deduped)\\r'), FloatProgress(value=1.0, max…"
      ]
     },
     "metadata": {},
     "output_type": "display_data"
    },
    {
     "data": {
      "text/html": [
       "<style>\n",
       "    table.wandb td:nth-child(1) { padding: 0 10px; text-align: left ; width: auto;} td:nth-child(2) {text-align: left ; width: 100%}\n",
       "    .wandb-row { display: flex; flex-direction: row; flex-wrap: wrap; justify-content: flex-start; width: 100% }\n",
       "    .wandb-col { display: flex; flex-direction: column; flex-basis: 100%; flex: 1; padding: 10px; }\n",
       "    </style>\n",
       "<div class=\"wandb-row\"><div class=\"wandb-col\"><h3>Run history:</h3><br/><table class=\"wandb\"><tr><td>epoch</td><td>▁▁▁▁▁▁▁▁▁▁▁▁▁▁▁▁▁▁▁▁▁▁▁▅▅▅▅▅▅▅▅▅▅▅▅▅▅▅▅█</td></tr><tr><td>train/loss</td><td>▄▄█▁▃▄▁▃▂▃▃▄▃▁▄▃▁▅▂▂▃▄▃▄▂▂▃▁▂▃▃▂▂▅▂▂▂▃▁▃</td></tr><tr><td>train/lr</td><td>███████████████████████▁▁▁▁▁▁▁▁▁▁▁▁▁▁▁▁▁</td></tr><tr><td>trainer/global_step</td><td>▁▁▁▁▂▂▂▂▂▃▃▃▃▃▃▄▄▄▄▄▅▅▅▅▅▆▆▆▆▆▆▇▇▇▇▇▇███</td></tr><tr><td>valid/loss</td><td>█▅▃▃▂▃▂▁▁▁▂▂</td></tr></table><br/></div><div class=\"wandb-col\"><h3>Run summary:</h3><br/><table class=\"wandb\"><tr><td>epoch</td><td>2</td></tr><tr><td>train/loss</td><td>0.35081</td></tr><tr><td>train/lr</td><td>0.0</td></tr><tr><td>trainer/global_step</td><td>5835</td></tr><tr><td>valid/loss</td><td>0.31515</td></tr></table><br/></div></div>"
      ],
      "text/plain": [
       "<IPython.core.display.HTML object>"
      ]
     },
     "metadata": {},
     "output_type": "display_data"
    },
    {
     "data": {
      "text/html": [
       "Synced <strong style=\"color:#cdcd00\">fearless-silence-1</strong>: <a href=\"https://wandb.ai/mrvplusone/SPOT-model-R1-%28384%2C%20512%2C%20128%29/runs/ie9k6vty\" target=\"_blank\">https://wandb.ai/mrvplusone/SPOT-model-R1-%28384%2C%20512%2C%20128%29/runs/ie9k6vty</a><br/>Synced 5 W&B file(s), 0 media file(s), 0 artifact file(s) and 0 other file(s)"
      ],
      "text/plain": [
       "<IPython.core.display.HTML object>"
      ]
     },
     "metadata": {},
     "output_type": "display_data"
    },
    {
     "data": {
      "text/html": [
       "Find logs at: <code>/mnt/data0/jiayi/wandb/run-20220525_214447-ie9k6vty/logs</code>"
      ],
      "text/plain": [
       "<IPython.core.display.HTML object>"
      ]
     },
     "metadata": {},
     "output_type": "display_data"
    },
    {
     "name": "stdout",
     "output_type": "stream",
     "text": [
      "Loading best model from:  /mnt/data0/jiayi/checkpoints/lit-running/SPOT-model-R1-(384, 512, 128)/epoch=1-step=4335.ckpt\n"
     ]
    }
   ],
   "source": [
    "# R1 experiment configurations\n",
    "\n",
    "import torch\n",
    "\n",
    "from spot.data import ChunkedDataset, SrcDataset, get_dataset_name, get_model_name\n",
    "from spot.model import CtxArgs, DecodingArgs, ModelSPOT, ModelTrainingArgs, ModelWrapper\n",
    "\n",
    "r1_model_name = get_model_name(\n",
    "    spot_round=1,\n",
    "    drop_comments=drop_comments,\n",
    "    ctx_args=ctx_args,\n",
    "    data_reduction=data_reduction,\n",
    "    quicktest=quicktest,\n",
    ")\n",
    "\n",
    "train_args.max_epochs = 3\n",
    "r1_wrapper, r1_extra = train_spot_model(\n",
    "    r1_src_datasets,\n",
    "    r1_model_name,\n",
    "    dec_args=dec_args,\n",
    "    train_args=train_args,\n",
    "    record_batches=False,\n",
    "    quicktest=quicktest,\n",
    ")\n"
   ]
  },
  {
   "cell_type": "code",
   "execution_count": 11,
   "metadata": {},
   "outputs": [
    {
     "name": "stderr",
     "output_type": "stream",
     "text": [
      "WARNING:root:No cache found at: /mnt/data0/jiayi/checkpoints/lit-saved/SPOT-model-R1-(384, 512, 128)/eval\n"
     ]
    },
    {
     "data": {
      "application/vnd.jupyter.widget-view+json": {
       "model_id": "8c447a034b494d1d81b379996e46477b",
       "version_major": 2,
       "version_minor": 0
      },
      "text/plain": [
       "processing chunks:   0%|          | 0/2734 [00:00<?, ?it/s]"
      ]
     },
     "metadata": {},
     "output_type": "display_data"
    },
    {
     "data": {
      "application/vnd.jupyter.widget-view+json": {
       "model_id": "f8d035e061e94b2791ed8e38e7fbbada",
       "version_major": 2,
       "version_minor": 0
      },
      "text/plain": [
       "predict:   0%|          | 0/2176 [00:00<?, ?it/s]"
      ]
     },
     "metadata": {},
     "output_type": "display_data"
    },
    {
     "name": "stdout",
     "output_type": "stream",
     "text": [
      "[PickleCache] Saving to cache: %s /mnt/data0/jiayi/checkpoints/lit-saved/SPOT-model-R1-(384, 512, 128)/eval/ctx_size_factor=1.pkl\n",
      "===ctx_size factor: 1===\n",
      "ctx_args: CtxArgs(left=384, window=512, right=128)\n",
      "partial_acc: 0.8436\n",
      "partial_acc_wo_any: 0.8483\n",
      "partial_accs:\n",
      "   FuncArg: 0.836\n",
      "   FuncReturn: 0.8742\n",
      "   ClassAtribute: 0.7919\n",
      "   GlobalVar: 0.8393\n",
      "   LocalVar: 0.8933\n",
      "full_acc: 0.7834\n",
      "full_accs:\n",
      "   FuncArg: 0.7865\n",
      "   FuncReturn: 0.8302\n",
      "   ClassAtribute: 0.7032\n",
      "   GlobalVar: 0.6429\n",
      "   LocalVar: 0.668\n",
      "n_labels: 8422\n"
     ]
    },
    {
     "data": {
      "application/vnd.jupyter.widget-view+json": {
       "model_id": "8ddafae766ed4945b736394c2fce01ab",
       "version_major": 2,
       "version_minor": 0
      },
      "text/plain": [
       "processing chunks:   0%|          | 0/2734 [00:00<?, ?it/s]"
      ]
     },
     "metadata": {},
     "output_type": "display_data"
    },
    {
     "data": {
      "application/vnd.jupyter.widget-view+json": {
       "model_id": "6b59377efe8447d9b5f781691c4f951c",
       "version_major": 2,
       "version_minor": 0
      },
      "text/plain": [
       "predict:   0%|          | 0/2178 [00:00<?, ?it/s]"
      ]
     },
     "metadata": {},
     "output_type": "display_data"
    },
    {
     "name": "stdout",
     "output_type": "stream",
     "text": [
      "[PickleCache] Saving to cache: %s /mnt/data0/jiayi/checkpoints/lit-saved/SPOT-model-R1-(384, 512, 128)/eval/ctx_size_factor=2.pkl\n",
      "===ctx_size factor: 2===\n",
      "ctx_args: CtxArgs(left=1280, window=512, right=256)\n",
      "partial_acc: 0.8571\n",
      "partial_acc_wo_any: 0.8624\n",
      "partial_accs:\n",
      "   FuncArg: 0.8594\n",
      "   FuncReturn: 0.8762\n",
      "   ClassAtribute: 0.8084\n",
      "   GlobalVar: 0.7857\n",
      "   LocalVar: 0.881\n",
      "full_acc: 0.8008\n",
      "full_accs:\n",
      "   FuncArg: 0.8121\n",
      "   FuncReturn: 0.8325\n",
      "   ClassAtribute: 0.7286\n",
      "   GlobalVar: 0.6429\n",
      "   LocalVar: 0.6865\n",
      "n_labels: 8418\n",
      "Pushover: (Finished: 'Evaluate accuracy vs ctx_size: SPOT-model-R1-(384, 512, 128)'.) Time taken: 601.2s\n"
     ]
    }
   ],
   "source": [
    "r1_wrapper.to(device)\n",
    "evaluate_model(r1_wrapper, r1_model_name, r1_src_datasets[\"test\"], reeval=True)\n",
    "None\n"
   ]
  },
  {
   "cell_type": "code",
   "execution_count": 14,
   "metadata": {},
   "outputs": [
    {
     "data": {
      "application/vnd.jupyter.widget-view+json": {
       "model_id": "c9dadd023eeb4e1ba5221727a6a785ed",
       "version_major": 2,
       "version_minor": 0
      },
      "text/plain": [
       "processing chunks:   0%|          | 0/74 [00:00<?, ?it/s]"
      ]
     },
     "metadata": {},
     "output_type": "display_data"
    },
    {
     "data": {
      "application/vnd.jupyter.widget-view+json": {
       "model_id": "03ea49004b164cbe8305a595fc0b840f",
       "version_major": 2,
       "version_minor": 0
      },
      "text/plain": [
       "predict:   0%|          | 0/52 [00:00<?, ?it/s]"
      ]
     },
     "metadata": {},
     "output_type": "display_data"
    },
    {
     "data": {
      "application/vnd.jupyter.widget-view+json": {
       "model_id": "a0e4f6a9bee44de99322480f6bbae70e",
       "version_major": 2,
       "version_minor": 0
      },
      "text/plain": [
       "Tab(children=(HTML(value=\"<pre style='line-height: 1.2; padding: 10px; color: rgb(212,212,212); background-col…"
      ]
     },
     "metadata": {},
     "output_type": "display_data"
    }
   ],
   "source": [
    "from IPython.display import display\n",
    "\n",
    "from spot.visualization import visualize_code_sequence, visualize_batch\n",
    "\n",
    "\n",
    "def visualize_preds_code(\n",
    "    wrapper: ModelWrapper,\n",
    "    src_dataset: SrcDataset,\n",
    "    n_visual_exs: int = 16,\n",
    "):\n",
    "    _, visual_data, visual_preds = wrapper.eval_on_dataset(\n",
    "        src_dataset[:n_visual_exs], tqdm_args={\"leave\": False}\n",
    "    )\n",
    "\n",
    "    display(\n",
    "        visualize_code_sequence(\n",
    "            [\n",
    "                visualize_batch(\n",
    "                    visual_data,\n",
    "                    i,\n",
    "                    visual_preds,\n",
    "                    wrapper.tokenizer,\n",
    "                    wrapper.args.ctx_args,\n",
    "                )\n",
    "                for i in range(min(n_visual_exs, len(visual_preds)))\n",
    "            ]\n",
    "        )\n",
    "    )\n",
    "\n",
    "\n",
    "visualize_preds_code(r1_wrapper, r1_src_datasets[\"test\"], n_visual_exs=16)\n"
   ]
  }
 ],
 "metadata": {
  "interpreter": {
   "hash": "f6ffc72953da4dd16b2e00785be9c4013ef131f465a8658f3921b6634d4eeec8"
  },
  "kernelspec": {
   "display_name": "Python 3.10.4 ('.venv': pipenv)",
   "language": "python",
   "name": "python3"
  },
  "language_info": {
   "codemirror_mode": {
    "name": "ipython",
    "version": 3
   },
   "file_extension": ".py",
   "mimetype": "text/x-python",
   "name": "python",
   "nbconvert_exporter": "python",
   "pygments_lexer": "ipython3",
   "version": "3.10.4"
  },
  "orig_nbformat": 4
 },
 "nbformat": 4,
 "nbformat_minor": 2
}
