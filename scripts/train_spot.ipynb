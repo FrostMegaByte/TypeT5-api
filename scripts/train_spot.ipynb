{
 "cells": [
  {
   "cell_type": "code",
   "execution_count": 1,
   "metadata": {},
   "outputs": [],
   "source": [
    "%load_ext autoreload\n",
    "%autoreload 2\n",
    "\n",
    "import os\n",
    "from pathlib import Path\n",
    "from typing import *\n",
    "\n",
    "import pandas as pd\n",
    "import plotly.express as px\n",
    "\n",
    "from spot.utils import cst, proj_root, run_long_task, tqdm\n",
    "\n",
    "os.chdir(proj_root())\n",
    "\n",
    "datadir = Path(os.getenv(\"datadir\"))\n",
    "repos_dir = datadir / \"SPOT-data/repos\""
   ]
  },
  {
   "cell_type": "code",
   "execution_count": 2,
   "metadata": {},
   "outputs": [
    {
     "name": "stdout",
     "output_type": "stream",
     "text": [
      "Filtering files for train\n",
      "labels_kept_after_filtering: 0.95591\n",
      "tkns_kept_after_filtering: 0.87797\n",
      "Filtering files for valid\n",
      "labels_kept_after_filtering: 0.9611\n",
      "tkns_kept_after_filtering: 0.9049\n",
      "Filtering files for test\n",
      "labels_kept_after_filtering: 0.95657\n",
      "tkns_kept_after_filtering: 0.89668\n"
     ]
    }
   ],
   "source": [
    "# experiment configurations\n",
    "\n",
    "import torch\n",
    "\n",
    "from spot.data import SrcDataset, TokenizedSrc, get_model_name, load_src_datasets\n",
    "from spot.model import CtxArgs, DecodingArgs, ModelSPOT, ModelTrainingArgs, ModelWrapper\n",
    "\n",
    "quicktest = False\n",
    "drop_comments = True\n",
    "data_reduction = 1\n",
    "train_R1 = True\n",
    "max_tokens_per_file = 4096\n",
    "\n",
    "\n",
    "# TODO: try 2K, 1K, 1K model\n",
    "ctx_args = CtxArgs(\n",
    "    ctx_size=max_tokens_per_file,\n",
    "    left_margin=512,\n",
    "    right_margin=512,\n",
    "    types_in_ctx=False,\n",
    ")\n",
    "\n",
    "dec_args = DecodingArgs(\n",
    "    sampling_max_tokens=4 * max_tokens_per_file,\n",
    "    ctx_args=ctx_args,\n",
    "    max_workers=20,\n",
    ")\n",
    "\n",
    "\n",
    "r0_model_name = get_model_name(\n",
    "    drop_comments=drop_comments,\n",
    "    ctx_args=ctx_args,\n",
    "    data_reduction=data_reduction,\n",
    "    quicktest=quicktest,\n",
    ")\n",
    "\n",
    "src_datasets = load_src_datasets(\n",
    "    datadir,\n",
    "    drop_comments=drop_comments,\n",
    "    spot_round=0,\n",
    "    data_reduction=data_reduction,\n",
    "    repos_root=datadir / \"SPOT-data/repos\",\n",
    "    quicktest=quicktest,\n",
    ")\n",
    "\n",
    "for n in [\"train\", \"valid\", \"test\"]:\n",
    "    print(\"Filtering files for\", n)\n",
    "    tkns = max_tokens_per_file\n",
    "    src_datasets[n].filter_files(min_labels_per_file=3, min_tokens_per_file=0, max_labels_per_file=10000, max_tokens_per_file=1000000)\n"
   ]
  },
  {
   "cell_type": "code",
   "execution_count": 3,
   "metadata": {},
   "outputs": [
    {
     "name": "stderr",
     "output_type": "stream",
     "text": [
      "/home/jiayi/Projects/SPOT/.venv/lib/python3.10/site-packages/torchvision/io/image.py:13: UserWarning: Failed to load image Python extension: libtorch_cuda_cu.so: cannot open shared object file: No such file or directory\n",
      "  warn(f\"Failed to load image Python extension: {e}\")\n"
     ]
    },
    {
     "data": {
      "application/vnd.jupyter.widget-view+json": {
       "model_id": "fd9a9e0cc21943a69d7272e3b869800e",
       "version_major": 2,
       "version_minor": 0
      },
      "text/plain": [
       "chunk_srcs_per_file:   0%|          | 0/726 [00:00<?, ?it/s]"
      ]
     },
     "metadata": {},
     "output_type": "display_data"
    },
    {
     "data": {
      "application/vnd.jupyter.widget-view+json": {
       "model_id": "782cbdea7a554502a70c5a4afb7c3b1e",
       "version_major": 2,
       "version_minor": 0
      },
      "text/plain": [
       "verify_labels:   0%|          | 0/856 [00:00<?, ?it/s]"
      ]
     },
     "metadata": {},
     "output_type": "display_data"
    },
    {
     "data": {
      "application/vnd.jupyter.widget-view+json": {
       "model_id": "37ed55fcabbe44529baecd359d4568ae",
       "version_major": 2,
       "version_minor": 0
      },
      "text/plain": [
       "chunk_srcs_per_file:   0%|          | 0/619 [00:00<?, ?it/s]"
      ]
     },
     "metadata": {},
     "output_type": "display_data"
    },
    {
     "data": {
      "application/vnd.jupyter.widget-view+json": {
       "model_id": "8d8cfe65372b42a2a92b4dce8be9c30b",
       "version_major": 2,
       "version_minor": 0
      },
      "text/plain": [
       "verify_labels:   0%|          | 0/699 [00:00<?, ?it/s]"
      ]
     },
     "metadata": {},
     "output_type": "display_data"
    },
    {
     "data": {
      "application/vnd.jupyter.widget-view+json": {
       "model_id": "8993d28426304648ba2bc1ca1006b436",
       "version_major": 2,
       "version_minor": 0
      },
      "text/plain": [
       "chunk_srcs_per_file:   0%|          | 0/10613 [00:00<?, ?it/s]"
      ]
     },
     "metadata": {},
     "output_type": "display_data"
    },
    {
     "data": {
      "application/vnd.jupyter.widget-view+json": {
       "model_id": "00bbfb21ca3f4d1bbd0096669e17b4f8",
       "version_major": 2,
       "version_minor": 0
      },
      "text/plain": [
       "verify_labels:   0%|          | 0/12235 [00:00<?, ?it/s]"
      ]
     },
     "metadata": {},
     "output_type": "display_data"
    },
    {
     "name": "stderr",
     "output_type": "stream",
     "text": [
      "Failed to detect the name of this notebook, you can set it manually with the WANDB_NOTEBOOK_NAME environment variable to enable code saving.\n"
     ]
    },
    {
     "name": "stdout",
     "output_type": "stream",
     "text": [
      "Pushover: (Finished: 'Preparing chunked datasets'.) Time taken: 10.6s\n"
     ]
    },
    {
     "name": "stderr",
     "output_type": "stream",
     "text": [
      "\u001b[34m\u001b[1mwandb\u001b[0m: Currently logged in as: \u001b[33mmrvplusone\u001b[0m. Use \u001b[1m`wandb login --relogin`\u001b[0m to force relogin\n"
     ]
    },
    {
     "data": {
      "text/html": [
       "wandb version 0.12.17 is available!  To upgrade, please run:\n",
       " $ pip install wandb --upgrade"
      ],
      "text/plain": [
       "<IPython.core.display.HTML object>"
      ]
     },
     "metadata": {},
     "output_type": "display_data"
    },
    {
     "data": {
      "text/html": [
       "Tracking run with wandb version 0.12.16"
      ],
      "text/plain": [
       "<IPython.core.display.HTML object>"
      ]
     },
     "metadata": {},
     "output_type": "display_data"
    },
    {
     "data": {
      "text/html": [
       "Run data is saved locally in <code>/mnt/data0/jiayi/wandb/run-20220529_231205-39l0u37x</code>"
      ],
      "text/plain": [
       "<IPython.core.display.HTML object>"
      ]
     },
     "metadata": {},
     "output_type": "display_data"
    },
    {
     "data": {
      "text/html": [
       "Syncing run <strong><a href=\"https://wandb.ai/mrvplusone/SPOT-model-per_file-R0-%28512%2C%203072%2C%20512%29-drop_comments/runs/39l0u37x\" target=\"_blank\">earthy-pine-1</a></strong> to <a href=\"https://wandb.ai/mrvplusone/SPOT-model-per_file-R0-%28512%2C%203072%2C%20512%29-drop_comments\" target=\"_blank\">Weights & Biases</a> (<a href=\"https://wandb.me/run\" target=\"_blank\">docs</a>)<br/>"
      ],
      "text/plain": [
       "<IPython.core.display.HTML object>"
      ]
     },
     "metadata": {},
     "output_type": "display_data"
    },
    {
     "name": "stderr",
     "output_type": "stream",
     "text": [
      "Using 16bit native Automatic Mixed Precision (AMP)\n",
      "GPU available: True, used: True\n",
      "TPU available: False, using: 0 TPU cores\n",
      "IPU available: False, using: 0 IPUs\n",
      "HPU available: False, using: 0 HPUs\n",
      "LOCAL_RANK: 0 - CUDA_VISIBLE_DEVICES: [1,2]\n",
      "\n",
      "  | Name  | Type                       | Params\n",
      "-----------------------------------------------------\n",
      "0 | model | T5ForConditionalGeneration | 222 M \n",
      "-----------------------------------------------------\n",
      "222 M     Trainable params\n",
      "0         Non-trainable params\n",
      "222 M     Total params\n",
      "445.764   Total estimated model params size (MB)\n"
     ]
    },
    {
     "data": {
      "application/vnd.jupyter.widget-view+json": {
       "model_id": "d211f7539ca84fdda22165fde1d61efd",
       "version_major": 2,
       "version_minor": 0
      },
      "text/plain": [
       "Sanity Checking: 0it [00:00, ?it/s]"
      ]
     },
     "metadata": {},
     "output_type": "display_data"
    },
    {
     "data": {
      "application/vnd.jupyter.widget-view+json": {
       "model_id": "e4fdaccbb64f49f19af70c3c6711147b",
       "version_major": 2,
       "version_minor": 0
      },
      "text/plain": [
       "Training: 0it [00:00, ?it/s]"
      ]
     },
     "metadata": {},
     "output_type": "display_data"
    },
    {
     "data": {
      "application/vnd.jupyter.widget-view+json": {
       "model_id": "53111a64f48549f89fc630bedd62ef86",
       "version_major": 2,
       "version_minor": 0
      },
      "text/plain": [
       "Validation: 0it [00:00, ?it/s]"
      ]
     },
     "metadata": {},
     "output_type": "display_data"
    },
    {
     "data": {
      "application/vnd.jupyter.widget-view+json": {
       "model_id": "ac58d600642c4709a820e2a937fa4b48",
       "version_major": 2,
       "version_minor": 0
      },
      "text/plain": [
       "Validation: 0it [00:00, ?it/s]"
      ]
     },
     "metadata": {},
     "output_type": "display_data"
    },
    {
     "data": {
      "application/vnd.jupyter.widget-view+json": {
       "model_id": "1511a826fa2d4a9cbca0ead2b6295355",
       "version_major": 2,
       "version_minor": 0
      },
      "text/plain": [
       "Validation: 0it [00:00, ?it/s]"
      ]
     },
     "metadata": {},
     "output_type": "display_data"
    },
    {
     "data": {
      "application/vnd.jupyter.widget-view+json": {
       "model_id": "0c5a36a8ba444e8abeecc1410f74babc",
       "version_major": 2,
       "version_minor": 0
      },
      "text/plain": [
       "Validation: 0it [00:00, ?it/s]"
      ]
     },
     "metadata": {},
     "output_type": "display_data"
    },
    {
     "data": {
      "application/vnd.jupyter.widget-view+json": {
       "model_id": "0c96062592d6459abdb3b73dec8288cf",
       "version_major": 2,
       "version_minor": 0
      },
      "text/plain": [
       "Validation: 0it [00:00, ?it/s]"
      ]
     },
     "metadata": {},
     "output_type": "display_data"
    },
    {
     "data": {
      "application/vnd.jupyter.widget-view+json": {
       "model_id": "9a2b792c24534ab5a6c451d990052dbf",
       "version_major": 2,
       "version_minor": 0
      },
      "text/plain": [
       "Validation: 0it [00:00, ?it/s]"
      ]
     },
     "metadata": {},
     "output_type": "display_data"
    },
    {
     "data": {
      "application/vnd.jupyter.widget-view+json": {
       "model_id": "a82444e35e3d473b8a226d1fe9d869dd",
       "version_major": 2,
       "version_minor": 0
      },
      "text/plain": [
       "Validation: 0it [00:00, ?it/s]"
      ]
     },
     "metadata": {},
     "output_type": "display_data"
    },
    {
     "data": {
      "application/vnd.jupyter.widget-view+json": {
       "model_id": "730179859efa4afda10982d7d549a6f2",
       "version_major": 2,
       "version_minor": 0
      },
      "text/plain": [
       "Validation: 0it [00:00, ?it/s]"
      ]
     },
     "metadata": {},
     "output_type": "display_data"
    },
    {
     "data": {
      "application/vnd.jupyter.widget-view+json": {
       "model_id": "d62c64a492394dfb8c925fbce68de0fc",
       "version_major": 2,
       "version_minor": 0
      },
      "text/plain": [
       "Validation: 0it [00:00, ?it/s]"
      ]
     },
     "metadata": {},
     "output_type": "display_data"
    },
    {
     "data": {
      "application/vnd.jupyter.widget-view+json": {
       "model_id": "f052bf185a2c4e6ca079e29ce00056c0",
       "version_major": 2,
       "version_minor": 0
      },
      "text/plain": [
       "Validation: 0it [00:00, ?it/s]"
      ]
     },
     "metadata": {},
     "output_type": "display_data"
    },
    {
     "data": {
      "application/vnd.jupyter.widget-view+json": {
       "model_id": "a12e79d311b04deb8eb8c05140abd50c",
       "version_major": 2,
       "version_minor": 0
      },
      "text/plain": [
       "Validation: 0it [00:00, ?it/s]"
      ]
     },
     "metadata": {},
     "output_type": "display_data"
    },
    {
     "data": {
      "application/vnd.jupyter.widget-view+json": {
       "model_id": "67c24483b24e4d86a5b121f2c451bd4c",
       "version_major": 2,
       "version_minor": 0
      },
      "text/plain": [
       "Validation: 0it [00:00, ?it/s]"
      ]
     },
     "metadata": {},
     "output_type": "display_data"
    },
    {
     "data": {
      "application/vnd.jupyter.widget-view+json": {
       "model_id": "bd3e1606e22e47d49cec4f3754df3a8c",
       "version_major": 2,
       "version_minor": 0
      },
      "text/plain": [
       "Validation: 0it [00:00, ?it/s]"
      ]
     },
     "metadata": {},
     "output_type": "display_data"
    },
    {
     "data": {
      "application/vnd.jupyter.widget-view+json": {
       "model_id": "c3733b87251e483d871b64fb36d8cdbe",
       "version_major": 2,
       "version_minor": 0
      },
      "text/plain": [
       "Validation: 0it [00:00, ?it/s]"
      ]
     },
     "metadata": {},
     "output_type": "display_data"
    },
    {
     "data": {
      "application/vnd.jupyter.widget-view+json": {
       "model_id": "acc9ab6acdbd4c29b2d1374e3d23cf44",
       "version_major": 2,
       "version_minor": 0
      },
      "text/plain": [
       "Validation: 0it [00:00, ?it/s]"
      ]
     },
     "metadata": {},
     "output_type": "display_data"
    },
    {
     "data": {
      "application/vnd.jupyter.widget-view+json": {
       "model_id": "b5c2a24de2a84696838b08008fb5eb74",
       "version_major": 2,
       "version_minor": 0
      },
      "text/plain": [
       "Validation: 0it [00:00, ?it/s]"
      ]
     },
     "metadata": {},
     "output_type": "display_data"
    },
    {
     "data": {
      "application/vnd.jupyter.widget-view+json": {
       "model_id": "0d42eaa364004cb19bead3d0c5c870a7",
       "version_major": 2,
       "version_minor": 0
      },
      "text/plain": [
       "Validation: 0it [00:00, ?it/s]"
      ]
     },
     "metadata": {},
     "output_type": "display_data"
    },
    {
     "data": {
      "application/vnd.jupyter.widget-view+json": {
       "model_id": "295bc940fcdd46248320a06e28dcc0db",
       "version_major": 2,
       "version_minor": 0
      },
      "text/plain": [
       "Validation: 0it [00:00, ?it/s]"
      ]
     },
     "metadata": {},
     "output_type": "display_data"
    },
    {
     "data": {
      "application/vnd.jupyter.widget-view+json": {
       "model_id": "c879da84fb0e45f597064990f5905645",
       "version_major": 2,
       "version_minor": 0
      },
      "text/plain": [
       "Validation: 0it [00:00, ?it/s]"
      ]
     },
     "metadata": {},
     "output_type": "display_data"
    },
    {
     "name": "stdout",
     "output_type": "stream",
     "text": [
      "Pushover: (Finished: 'Training SPOT-model-per_file-R0-(512, 3072, 512)-drop_comments'.) Time taken: 8314.9s\n"
     ]
    },
    {
     "name": "stderr",
     "output_type": "stream",
     "text": [
      "LOCAL_RANK: 0 - CUDA_VISIBLE_DEVICES: [1,2]\n"
     ]
    },
    {
     "data": {
      "application/vnd.jupyter.widget-view+json": {
       "model_id": "adccb9b743e44f569adb4282bfc28bce",
       "version_major": 2,
       "version_minor": 0
      },
      "text/plain": [
       "Validation: 0it [00:00, ?it/s]"
      ]
     },
     "metadata": {},
     "output_type": "display_data"
    },
    {
     "name": "stdout",
     "output_type": "stream",
     "text": [
      "────────────────────────────────────────────────────────────────────────────────────────────────────────────────────────\n",
      "     Validate metric           DataLoader 0\n",
      "────────────────────────────────────────────────────────────────────────────────────────────────────────────────────────\n",
      "       valid/loss           0.2291736900806427\n",
      "────────────────────────────────────────────────────────────────────────────────────────────────────────────────────────\n"
     ]
    },
    {
     "data": {
      "text/html": [
       "Waiting for W&B process to finish... <strong style=\"color:green\">(success).</strong>"
      ],
      "text/plain": [
       "<IPython.core.display.HTML object>"
      ]
     },
     "metadata": {},
     "output_type": "display_data"
    },
    {
     "data": {
      "application/vnd.jupyter.widget-view+json": {
       "model_id": "c180768b26a945e59c7b1fe6f6a8deec",
       "version_major": 2,
       "version_minor": 0
      },
      "text/plain": [
       "VBox(children=(Label(value='0.001 MB of 0.001 MB uploaded (0.000 MB deduped)\\r'), FloatProgress(value=1.0, max…"
      ]
     },
     "metadata": {},
     "output_type": "display_data"
    },
    {
     "data": {
      "text/html": [
       "<style>\n",
       "    table.wandb td:nth-child(1) { padding: 0 10px; text-align: left ; width: auto;} td:nth-child(2) {text-align: left ; width: 100%}\n",
       "    .wandb-row { display: flex; flex-direction: row; flex-wrap: wrap; justify-content: flex-start; width: 100% }\n",
       "    .wandb-col { display: flex; flex-direction: column; flex-basis: 100%; flex: 1; padding: 10px; }\n",
       "    </style>\n",
       "<div class=\"wandb-row\"><div class=\"wandb-col\"><h3>Run history:</h3><br/><table class=\"wandb\"><tr><td>epoch</td><td>▁▁▁▁▁▁▁▁▁▁▁▁▁▁▁▁▁▁▁▁▁▁▁▁████████████████</td></tr><tr><td>train/loss</td><td>▁█▁▂▁▂▂▃▁▂▁▂▁▁▅▂▂▁▁▂▃▁▂▂▁▁▂▁▁▂▂▁▁▁▂▁▁▂▁▂</td></tr><tr><td>train/lr</td><td>████████████████████████▁▁▁▁▁▁▁▁▁▁▁▁▁▁▁▁</td></tr><tr><td>trainer/global_step</td><td>▁▁▁▂▂▂▂▂▂▃▃▃▃▃▃▄▄▄▄▄▅▅▅▅▅▅▆▆▆▆▆▇▇▇▇▇▇███</td></tr><tr><td>valid/loss</td><td>█▆▄▄▃▃▃▂▃▂▁▁▁▁▁▁▁▁▁▁</td></tr></table><br/></div><div class=\"wandb-col\"><h3>Run summary:</h3><br/><table class=\"wandb\"><tr><td>epoch</td><td>2</td></tr><tr><td>train/loss</td><td>0.11992</td></tr><tr><td>train/lr</td><td>0.0</td></tr><tr><td>trainer/global_step</td><td>9982</td></tr><tr><td>valid/loss</td><td>0.22917</td></tr></table><br/></div></div>"
      ],
      "text/plain": [
       "<IPython.core.display.HTML object>"
      ]
     },
     "metadata": {},
     "output_type": "display_data"
    },
    {
     "data": {
      "text/html": [
       "Synced <strong style=\"color:#cdcd00\">earthy-pine-1</strong>: <a href=\"https://wandb.ai/mrvplusone/SPOT-model-per_file-R0-%28512%2C%203072%2C%20512%29-drop_comments/runs/39l0u37x\" target=\"_blank\">https://wandb.ai/mrvplusone/SPOT-model-per_file-R0-%28512%2C%203072%2C%20512%29-drop_comments/runs/39l0u37x</a><br/>Synced 5 W&B file(s), 0 media file(s), 0 artifact file(s) and 0 other file(s)"
      ],
      "text/plain": [
       "<IPython.core.display.HTML object>"
      ]
     },
     "metadata": {},
     "output_type": "display_data"
    },
    {
     "data": {
      "text/html": [
       "Find logs at: <code>/mnt/data0/jiayi/wandb/run-20220529_231205-39l0u37x/logs</code>"
      ],
      "text/plain": [
       "<IPython.core.display.HTML object>"
      ]
     },
     "metadata": {},
     "output_type": "display_data"
    },
    {
     "name": "stdout",
     "output_type": "stream",
     "text": [
      "Loading best model with score 0.22553381323814392 from: /mnt/data0/jiayi/checkpoints/lit-running/SPOT-model-per_file-R0-(512, 3072, 512)-drop_comments/epoch=1-step=8482.ckpt\n",
      "Generating R1 dataset: train\n"
     ]
    },
    {
     "data": {
      "application/vnd.jupyter.widget-view+json": {
       "model_id": "ceff198ccf684ac58bb4f0d2d11b538a",
       "version_major": 2,
       "version_minor": 0
      },
      "text/plain": [
       "R1_srcs_from_ckpts:   0%|          | 0/17 [00:00<?, ?it/s]"
      ]
     },
     "metadata": {},
     "output_type": "display_data"
    },
    {
     "data": {
      "application/vnd.jupyter.widget-view+json": {
       "model_id": "363769cf947d42cdaac55c7edce298b4",
       "version_major": 2,
       "version_minor": 0
      },
      "text/plain": [
       "predict:   0%|          | 0/752 [00:00<?, ?it/s]"
      ]
     },
     "metadata": {},
     "output_type": "display_data"
    },
    {
     "data": {
      "application/vnd.jupyter.widget-view+json": {
       "model_id": "5828183f5c07475ca33ce569ff9497a7",
       "version_major": 2,
       "version_minor": 0
      },
      "text/plain": [
       "predict:   0%|          | 0/711 [00:00<?, ?it/s]"
      ]
     },
     "metadata": {},
     "output_type": "display_data"
    },
    {
     "data": {
      "application/vnd.jupyter.widget-view+json": {
       "model_id": "eb50b869af864c1c85fe483fd88fc109",
       "version_major": 2,
       "version_minor": 0
      },
      "text/plain": [
       "predict:   0%|          | 0/643 [00:00<?, ?it/s]"
      ]
     },
     "metadata": {},
     "output_type": "display_data"
    },
    {
     "data": {
      "application/vnd.jupyter.widget-view+json": {
       "model_id": "8e188c63a5884077bf37da35ba2d6b57",
       "version_major": 2,
       "version_minor": 0
      },
      "text/plain": [
       "predict:   0%|          | 0/704 [00:00<?, ?it/s]"
      ]
     },
     "metadata": {},
     "output_type": "display_data"
    },
    {
     "data": {
      "application/vnd.jupyter.widget-view+json": {
       "model_id": "f7606d6962d14591b43ad6742de8346c",
       "version_major": 2,
       "version_minor": 0
      },
      "text/plain": [
       "predict:   0%|          | 0/728 [00:00<?, ?it/s]"
      ]
     },
     "metadata": {},
     "output_type": "display_data"
    },
    {
     "data": {
      "application/vnd.jupyter.widget-view+json": {
       "model_id": "e16fc5268f7b463ea4346ff7bad5ce3f",
       "version_major": 2,
       "version_minor": 0
      },
      "text/plain": [
       "predict:   0%|          | 0/711 [00:00<?, ?it/s]"
      ]
     },
     "metadata": {},
     "output_type": "display_data"
    },
    {
     "data": {
      "application/vnd.jupyter.widget-view+json": {
       "model_id": "febc003d399a42a0842606527ce9bf70",
       "version_major": 2,
       "version_minor": 0
      },
      "text/plain": [
       "predict:   0%|          | 0/758 [00:00<?, ?it/s]"
      ]
     },
     "metadata": {},
     "output_type": "display_data"
    },
    {
     "data": {
      "application/vnd.jupyter.widget-view+json": {
       "model_id": "7e9953d6635241ee8928066a598ffa22",
       "version_major": 2,
       "version_minor": 0
      },
      "text/plain": [
       "predict:   0%|          | 0/742 [00:00<?, ?it/s]"
      ]
     },
     "metadata": {},
     "output_type": "display_data"
    },
    {
     "data": {
      "application/vnd.jupyter.widget-view+json": {
       "model_id": "eabe093ec2b0450fb79906eacb5de191",
       "version_major": 2,
       "version_minor": 0
      },
      "text/plain": [
       "predict:   0%|          | 0/755 [00:00<?, ?it/s]"
      ]
     },
     "metadata": {},
     "output_type": "display_data"
    },
    {
     "data": {
      "application/vnd.jupyter.widget-view+json": {
       "model_id": "e0722f0647e54e21bc0b11d9ee14d096",
       "version_major": 2,
       "version_minor": 0
      },
      "text/plain": [
       "predict:   0%|          | 0/759 [00:00<?, ?it/s]"
      ]
     },
     "metadata": {},
     "output_type": "display_data"
    },
    {
     "data": {
      "application/vnd.jupyter.widget-view+json": {
       "model_id": "862246f450e8422db918e7a6a0069043",
       "version_major": 2,
       "version_minor": 0
      },
      "text/plain": [
       "predict:   0%|          | 0/715 [00:00<?, ?it/s]"
      ]
     },
     "metadata": {},
     "output_type": "display_data"
    },
    {
     "data": {
      "application/vnd.jupyter.widget-view+json": {
       "model_id": "37fc7bba4395474599dda4140a084460",
       "version_major": 2,
       "version_minor": 0
      },
      "text/plain": [
       "predict:   0%|          | 0/767 [00:00<?, ?it/s]"
      ]
     },
     "metadata": {},
     "output_type": "display_data"
    },
    {
     "data": {
      "application/vnd.jupyter.widget-view+json": {
       "model_id": "2909d6e9e79947ad9accac332decd487",
       "version_major": 2,
       "version_minor": 0
      },
      "text/plain": [
       "predict:   0%|          | 0/665 [00:00<?, ?it/s]"
      ]
     },
     "metadata": {},
     "output_type": "display_data"
    },
    {
     "data": {
      "application/vnd.jupyter.widget-view+json": {
       "model_id": "2b22147070534e41b34d9aa24dfff843",
       "version_major": 2,
       "version_minor": 0
      },
      "text/plain": [
       "predict:   0%|          | 0/602 [00:00<?, ?it/s]"
      ]
     },
     "metadata": {},
     "output_type": "display_data"
    },
    {
     "data": {
      "application/vnd.jupyter.widget-view+json": {
       "model_id": "bd4765a8cadc4526aae0db90458f887e",
       "version_major": 2,
       "version_minor": 0
      },
      "text/plain": [
       "predict:   0%|          | 0/704 [00:00<?, ?it/s]"
      ]
     },
     "metadata": {},
     "output_type": "display_data"
    },
    {
     "data": {
      "application/vnd.jupyter.widget-view+json": {
       "model_id": "20f390b31d3549bdaf0af816d46047aa",
       "version_major": 2,
       "version_minor": 0
      },
      "text/plain": [
       "predict:   0%|          | 0/710 [00:00<?, ?it/s]"
      ]
     },
     "metadata": {},
     "output_type": "display_data"
    },
    {
     "data": {
      "application/vnd.jupyter.widget-view+json": {
       "model_id": "b0ccc2e9ee06457faaff1da3ba8c7bd9",
       "version_major": 2,
       "version_minor": 0
      },
      "text/plain": [
       "predict:   0%|          | 0/69 [00:00<?, ?it/s]"
      ]
     },
     "metadata": {},
     "output_type": "display_data"
    },
    {
     "data": {
      "application/vnd.jupyter.widget-view+json": {
       "model_id": "830511c2307d42c6bb9531d959291e54",
       "version_major": 2,
       "version_minor": 0
      },
      "text/plain": [
       "type_check_src:   0%|          | 0/10009 [00:00<?, ?it/s]"
      ]
     },
     "metadata": {},
     "output_type": "display_data"
    },
    {
     "name": "stdout",
     "output_type": "stream",
     "text": [
      "type_check_success_ratio: 0.9985\n",
      "feedbacks_per_file:\n",
      "   mean: 1.191\n",
      "   median: 0\n",
      "   min: 0\n",
      "   max: 243\n"
     ]
    },
    {
     "data": {
      "application/vnd.jupyter.widget-view+json": {
       "model_id": "16fa7e981b294b319426019cd3bc0dc9",
       "version_major": 2,
       "version_minor": 0
      },
      "text/plain": [
       "feedbacks_to_tokenized_src:   0%|          | 0/10009 [00:00<?, ?it/s]"
      ]
     },
     "metadata": {},
     "output_type": "display_data"
    },
    {
     "name": "stdout",
     "output_type": "stream",
     "text": [
      "Pushover: (Failed: Generating R1 datasets.) Code 1:\n",
      "<<\n",
      "from typing import *\n",
      "import json\n",
      " \n",
      "from feedgen.feed import FeedGenerator\n",
      "from flask import request, redirect, Response\n",
      "\n",
      "from bozen.butil import pr, prn, dpr, form, htmlEsc\n",
      "from bozen import FormDoc, MonDoc, BzDate, BzDateTime\n",
      "from bozen import paginate\n",
      "\n",
      "import config\n",
      "from allpages import app, jinjaEnv\n",
      "import ht\n",
      "from userdb import User\n",
      "import models\n",
      "from permission import needUser, currentUserName\n",
      "\n",
      "import messlist\n",
      "   \n",
      "\n",
      "@app.route('/listFollowing/<id>')\n",
      "def listFollowing(id):\n",
      "    user = User.getDoc(id)\n",
      "    ai = models.getAccountInfo(id)\n",
      "    count = len(ai.following_ids)\n",
      "    pag = paginate.Paginator(count)\n",
      "    \n",
      "    tem = jinjaEnv.get_template(\"listFollowing.html\")\n",
      "    h = tem.render(\n",
      "        id = id,\n",
      "        user = user,\n",
      "        ai = ai,\n",
      "        count = count,\n",
      "        pag = pag,\n",
      "        table = followingTableH(ai, pag),\n",
      "    )\n",
      "    return h\n",
      " \n",
      "def followingTableH(ai: models.AccountInfo, pag: paginate.Paginator) -> str:\n",
      "    h = USER_INFO_TABLE_HEADER\n",
      "    userIds = sorted(ai.following_ids)\n",
      "    userIds2 = userIds[pag.skip:pag.skip+pag.numShow]\n",
      "    for userId in userIds2:\n",
      "        h += userInfoLine(userId)\n",
      "    h += \"</table>\\n\"\n",
      "    return h\n",
      "\n",
      "USER_INFO_TABLE_HEADER = \"\"\"<table class='bz-report-table'>\n",
      "<tr>\n",
      "    <th>User</th>\n",
      "    <th>Posts</th>\n",
      "    <th>Head<br>Posts</th>\n",
      "    <th>Following</th>\n",
      "    <th>Followers</th>\n",
      "    <th>Real<br>Name</th>\n",
      "    <th>Blog<br>Title</th>\n",
      "</tr>\n",
      "\"\"\"   \n",
      "\n",
      "def userInfoLine(id: str) -> str:\n",
      "    ai = models.getAccountInfo(id)\n",
      "    numPosts = models.Message.count({'author_id': id})\n",
      "    numHeadPosts = models.Message.count({\n",
      "        'author_id': id,\n",
      "        'replyTo_id': {'$in': [None, '']},  \n",
      "    })\n",
      "    numFollowing = len(ai.following_ids)\n",
      "    numFollowers = models.AccountInfo.count({'following_ids': id})\n",
      "\n",
      "    h = form(\"\"\"<tr>\n",
      "    <td><a href='/blog/{user}'>@{user}</a></td> \n",
      "    <td style='text-align:right;'>{numPosts}</td> \n",
      "    <td style='text-align:right;'>{numHeadPosts}</td> \n",
      "    <td style='text-align:right;'>\n",
      "        <a href='/listFollowing/{user}'>{numFollowing}</a> &nbsp;\n",
      "        <a href='/followingMess/{user}'><i class='fa fa-eye'></i></a></td> \n",
      "    <td style='text-align:right;'>\n",
      "        <a href='/listFollowers/{user}'>{numFollowers}</a> &nbsp;\n",
      "        <a href='/followerMess/{user}'>\n",
      "            <i class='fa fa-arrow-circle-left'></i></a></td>   \n",
      "    <td>{realName}</td> \n",
      "    <td>{title}</td> \n",
      "</tr>\"\"\",\n",
      "            user = id,\n",
      "            numPosts = numPosts, \n",
      "            numHeadPosts = numHeadPosts,\n",
      "            numFollowing = numFollowing,\n",
      "            numFollowers = numFollowers,\n",
      "            realName = ai.asReadableH('realName'),\n",
      "            title = ai.asReadableH('title'),\n",
      "    )\n",
      "    return h\n",
      "    \n",
      " \n",
      " \n",
      "\n",
      "@app.route('/listFollowers/<id>')\n",
      "def listFollowers(id):\n",
      "    user = User.getDoc(id)\n",
      "    count = models.AccountInfo.count({'following_ids': id})\n",
      "    pag = paginate.Paginator(count)\n",
      "    \n",
      "    tem = jinjaEnv.get_template(\"listFollowers.html\")\n",
      "    h = tem.render(\n",
      "        id = id,\n",
      "        user = user,\n",
      "        count = count,\n",
      "        pag = pag,\n",
      "        table = followersTableH(id, pag),\n",
      "    )\n",
      "    return h\n",
      " \n",
      "def followersTableH(id: str, pag: paginate.Paginator) -> str:\n",
      "    h = USER_INFO_TABLE_HEADER\n",
      "    followers = models.AccountInfo.find({'following_ids': id},\n",
      "        skip=pag.skip, \n",
      "        limit=pag.numShow, \n",
      "        sort='_id')\n",
      "    for follower in followers:\n",
      "        h += userInfoLine(follower._id)\n",
      "    h += \"</table>\\n\"\n",
      "    return h\n",
      " \n",
      "\n",
      "\n",
      "@app.route('/userList')\n",
      "def userList():\n",
      "    count = User.count()\n",
      "    pag = paginate.Paginator(count)\n",
      "    tem = jinjaEnv.get_template(\"userList.html\")\n",
      "    h = tem.render(\n",
      "        count = count,\n",
      "        pag = pag,\n",
      "        table = userListTableH(pag),\n",
      "    )\n",
      "    return h\n",
      "\n",
      "def userListTableH(pag):\n",
      "    h = USER_INFO_TABLE_HEADER\n",
      "    users = User.find(\n",
      "        skip=pag.skip, \n",
      "        limit=pag.numShow, \n",
      "        sort='_id')\n",
      "    for u in users:\n",
      "        h += userInfoLine(u._id)\n",
      "    h += \"</table>\\n\"\n",
      "    return h\n",
      " \n",
      "\n",
      "class FollowingFormatter(messlist.ListFormatter):\n",
      "    \n",
      "    def __init__(self, id: str):\n",
      "        super().__init__()\n",
      "        self.id = id\n",
      "        ai = models.getAccountInfo(id)\n",
      "        self.q = {'author_id': {'$in': ai.following_ids}}\n",
      "    \n",
      "    def pageUrl(self) -> str:\n",
      "        return \"/followingMess/\" + id\n",
      "    \n",
      "    def getFeedGenerator(self) -> FeedGenerator:\n",
      "        fg = FeedGenerator()\n",
      "        fg.title(\"%s - Newsfeed for @%s\" % (config.SITE_NAME, self.id))\n",
      "        fg.link(href=\"%s/followingMess/%s\" % (config.SITE_STUB, self.id))\n",
      "        fg.description(\"Newsfeed for @%s\" % (self.id,))\n",
      "        return fg\n",
      "\n",
      "@app.route('/followingMess/<id>')\n",
      "def followingMess(id): \n",
      "    user = User.getDoc(id)\n",
      "    lf = FollowingFormatter(id)\n",
      "    tem = jinjaEnv.get_template(\"followingMess.html\")\n",
      "    \n",
      "    h = tem.render(\n",
      "        id = id,\n",
      "        user = user,\n",
      "        lf = lf,\n",
      "    )\n",
      "    return h\n",
      "\n",
      "@app.route('/rss/followingMess/<id>') \n",
      "def rss_followingMess(id):\n",
      "    lf = FollowingFormatter(id)\n",
      "    xml = lf.renderRss()\n",
      "    return Response(xml, mimetype=\"text/xml\")\n",
      "\n",
      "@app.route('/au/followingMess/<id>')\n",
      "def au_followingMess(id):\n",
      "    lf = FollowingFormatter(id)\n",
      "    ts = lf.mostRecentTimeStamp()\n",
      "    tsj = json.dumps({'ts':ts})\n",
      "    return tsj   \n",
      "     \n",
      "\n",
      "class FollowerFormatter(messlist.ListFormatter):\n",
      "    \n",
      "    def __init__(self, id: str):\n",
      "        super().__init__()\n",
      "        self.id = id\n",
      "        followers = models.AccountInfo.find({'following_ids': id})\n",
      "        follower_ids = [f._id for f in followers]\n",
      "        self.q = {'author_id': {'$in': follower_ids}}\n",
      "    \n",
      "    def pageUrl(self) -> str:\n",
      "        return \"/followerMess/\" + id\n",
      "    \n",
      "    def getFeedGenerator(self) -> FeedGenerator:\n",
      "        fg = FeedGenerator()\n",
      "        fg.title(\"%s - Followers of @%s\" % (config.SITE_NAME, self.id))\n",
      "        fg.link(href=\"%s/followerMess/%s\" % (config.SITE_STUB, self.id))\n",
      "        fg.description(\"Followers of @%s\" % (self.id,))\n",
      "        return fg\n",
      "\n",
      "@app.route('/followerMess/<id>')\n",
      "def followerMess(id): \n",
      "    user = User.getDoc(id)\n",
      "    lf = FollowerFormatter(id)\n",
      "    tem = jinjaEnv.get_template(\"followerMess.html\")\n",
      "    \n",
      "    h = tem.render(\n",
      "        id = id,\n",
      "        user = user,\n",
      "        lf = lf,\n",
      "    )\n",
      "    return h\n",
      "\n",
      "@app.route('/rss/followerMess/<id>') \n",
      "def rss_followerMess(id):\n",
      "    lf = FollowerFormatter(id)\n",
      "    xml = lf.renderRss()\n",
      "    return Response(xml, mimetype=\"text/xml\")\n",
      "  \n",
      "@app.route('/au/followerMess/<id>')\n",
      "def au_followerMess(id):\n",
      "    lf = FollowerFormatter(id)\n",
      "    ts = lf.mostRecentTimeStamp()\n",
      "    tsj = json.dumps({'ts':ts})\n",
      "    return tsj   \n",
      "    \n",
      " \n",
      "\n",
      ">>\n",
      "Code 2:\n",
      "<<\n",
      "from typing import *\n",
      "import json\n",
      " \n",
      "from feedgen.feed import FeedGenerator\n",
      "from flask import request, redirect, Response\n",
      "\n",
      "from bozen.butil import pr, prn, dpr, form, htmlEsc\n",
      "from bozen import FormDoc, MonDoc, BzDate, BzDateTime\n",
      "from bozen import paginate\n",
      "\n",
      "import config\n",
      "from allpages import app, jinjaEnv\n",
      "import ht\n",
      "from userdb import User\n",
      "import models\n",
      "from permission import needUser, currentUserName\n",
      "\n",
      "import messlist\n",
      "   \n",
      "\n",
      "@app.route('/listFollowing/<id>')\n",
      "def listFollowing(id):\n",
      "    user = User.getDoc(id)\n",
      "    ai = models.getAccountInfo(id)\n",
      "    count = len(ai.following_ids)\n",
      "    pag = paginate.Paginator(count)\n",
      "    \n",
      "    tem = jinjaEnv.get_template(\"listFollowing.html\")\n",
      "    h = tem.render(\n",
      "        id = id,\n",
      "        user = user,\n",
      "        ai = ai,\n",
      "        count = count,\n",
      "        pag = pag,\n",
      "        table = followingTableH(ai, pag),\n",
      "    )\n",
      "    return h\n",
      " \n",
      "def followingTableH(ai: models.AccountInfo, pag: paginate.Paginator) -> str:\n",
      "    h = USER_INFO_TABLE_HEADER\n",
      "    userIds = sorted(ai.following_ids)\n",
      "    userIds2 = userIds[pag.skip:pag.skip+pag.numShow]\n",
      "    for userId in userIds2:\n",
      "        h += userInfoLine(userId)\n",
      "    h += \"</table>\\n\"\n",
      "    return h\n",
      "\n",
      "USER_INFO_TABLE_HEADER = \"\"\"<table class='bz-report-table'>\n",
      "<tr>\n",
      "    <th>User</th>\n",
      "    <th>Posts</th>\n",
      "    <th>Head<br>Posts</th>\n",
      "    <th>Following</th>\n",
      "    <th>Followers</th>\n",
      "    <th>Real<br>Name</th>\n",
      "    <th>Blog<br>Title</th>\n",
      "</tr>\n",
      "\"\"\"   \n",
      "\n",
      "def userInfoLine(id: str) -> str:\n",
      "    ai = models.getAccountInfo(id)\n",
      "    numPosts = models.Message.count({'author_id': id})\n",
      "    numHeadPosts = models.Message.count({\n",
      "        'author_id': id,\n",
      "        'replyTo_id': {'$in': [None, '']},  \n",
      "    })\n",
      "    numFollowing = len(ai.following_ids)\n",
      "    numFollowers = models.AccountInfo.count({'following_ids': id})\n",
      "\n",
      "    h = form(\"\"\"<tr>\n",
      "    <td><a href='/blog/{user}'>@{user}</a></td> \n",
      "    <td style='text-align:right;'>{numPosts}</td> \n",
      "    <td style='text-align:right;'>{numHeadPosts}</td> \n",
      "    <td style='text-align:right;'>\n",
      "        <a href='/listFollowing/{user}'>{numFollowing}</a> &nbsp;\n",
      "        <a href='/followingMess/{user}'><i class='fa fa-eye'></i></a></td> \n",
      "    <td style='text-align:right;'>\n",
      "        <a href='/listFollowers/{user}'>{numFollowers}</a> &nbsp;\n",
      "        <a href='/followerMess/{user}'>\n",
      "            <i class='fa fa-arrow-circle-left'></i></a></td>   \n",
      "    <td>{realName}</td> \n",
      "    <td>{title}</td> \n",
      "</tr>\"\"\",\n",
      "            user = id,\n",
      "            numPosts = numPosts, \n",
      "            numHeadPosts = numHeadPosts,\n",
      "            numFollowing = numFollowing,\n",
      "            numFollowers = numFollowers,\n",
      "            realName = ai.asReadableH('realName'),\n",
      "            title = ai.asReadableH('title'),\n",
      "    )\n",
      "    return h\n",
      "    \n",
      " \n",
      " \n",
      "\n",
      "@app.route('/listFollowers/<id>')\n",
      "def listFollowers(id):\n",
      "    user = User.getDoc(id)\n",
      "    count = models.AccountInfo.count({'following_ids': id})\n",
      "    pag = paginate.Paginator(count)\n",
      "    \n",
      "    tem = jinjaEnv.get_template(\"listFollowers.html\")\n",
      "    h = tem.render(\n",
      "        id = id,\n",
      "        user = user,\n",
      "        count = count,\n",
      "        pag = pag,\n",
      "        table = followersTableH(id, pag),\n",
      "    )\n",
      "    return h\n",
      " \n",
      "def followersTableH(id: str, pag: paginate.Paginator) -> str:\n",
      "    h = USER_INFO_TABLE_HEADER\n",
      "    followers = models.AccountInfo.find({'following_ids': id},\n",
      "        skip=pag.skip, \n",
      "        limit=pag.numShow, \n",
      "        sort='_id')\n",
      "    for follower in followers:\n",
      "        h += userInfoLine(follower._id)\n",
      "    h += \"</table>\\n\"\n",
      "    return h\n",
      " \n",
      "\n",
      "\n",
      "@app.route('/userList')\n",
      "def userList():\n",
      "    count = User.count()\n",
      "    pag = paginate.Paginator(count)\n",
      "    tem = jinjaEnv.get_template(\"userList.html\")\n",
      "    h = tem.render(\n",
      "        count = count,\n",
      "        pag = pag,\n",
      "        table = userListTableH(pag),\n",
      "    )\n",
      "    return h\n",
      "\n",
      "def userListTableH(pag):\n",
      "    h = USER_INFO_TABLE_HEADER\n",
      "    users = User.find(\n",
      "        skip=pag.skip, \n",
      "        limit=pag.numShow, \n",
      "        sort='_id')\n",
      "    for u in users:\n",
      "        h += userInfoLine(u._id)\n",
      "    h += \"</table>\\n\"\n",
      "    return h\n",
      " \n",
      "\n",
      "class FollowingFormatter(messlist.ListFormatter):\n",
      "    \n",
      "    def __init__(self, id: str):\n",
      "        super().__init__()\n",
      "        self.id = id\n",
      "        ai = models.getAccountInfo(id)\n",
      "        self.q = {'author_id': {'$in': ai.following_ids}}\n",
      "    \n",
      "    def pageUrl(self) -> str:\n",
      "        return \"/followingMess/\" + id\n",
      "    \n",
      "    def getFeedGenerator(self) -> FeedGenerator:\n",
      "        fg = FeedGenerator()\n",
      "        fg.title(\"%s - Newsfeed for @%s\" % (config.SITE_NAME, self.id))\n",
      "        fg.link(href=\"%s/followingMess/%s\" % (config.SITE_STUB, self.id))\n",
      "        fg.description(\"Newsfeed for @%s\" % (self.id,))\n",
      "        return fg\n",
      "\n",
      "@app.route('/followingMess/<id>')\n",
      "def followingMess(id): \n",
      "    user = User.getDoc(id)\n",
      "    lf = FollowingFormatter(id)\n",
      "    tem = jinjaEnv.get_template(\"followingMess.html\")\n",
      "    \n",
      "    h = tem.render(\n",
      "        id = id,\n",
      "        user = user,\n",
      "        lf = lf,\n",
      "    )\n",
      "    return h\n",
      "\n",
      "@app.route('/rss/followingMess/<id>') \n",
      "def rss_followingMess(id):\n",
      "    lf = FollowingFormatter(id)\n",
      "    xml = lf.renderRss()\n",
      "    return Response(xml, mimetype=\"text/xml\")\n",
      "\n",
      "@app.route('/au/followingMess/<id>')\n",
      "def au_followingMess(id):\n",
      "    lf = FollowingFormatter(id)\n",
      "    ts = lf.mostRecentTimeStamp()\n",
      "    tsj = json.dumps({'ts':ts})\n",
      "    return tsj   \n",
      "     \n",
      "\n",
      "class FollowerFormatter(messlist.ListFormatter):\n",
      "    \n",
      "    def __init__(self, id: str):\n",
      "        super().__init__()\n",
      "        self.id = id\n",
      "        followers = models.AccountInfo.find({'following_ids': id})\n",
      "        follower_ids = [f._id for f in followers]\n",
      "        self.q = {'author_id': {'$in': follower_ids}}\n",
      "    \n",
      "    def pageUrl(self) -> str:\n",
      "        return \"/followerMess/\" + id\n",
      "    \n",
      "    def getFeedGenerator(self) -> FeedGenerator:\n",
      "        fg = FeedGenerator()\n",
      "        fg.title(\"%s - Followers of @%s\" % (config.SITE_NAME, self.id))\n",
      "        fg.link(href=\"%s/followerMess/%s\" % (config.SITE_STUB, self.id))\n",
      "        fg.description(\"Followers of @%s\" % (self.id,))\n",
      "        return fg\n",
      "\n",
      "@app.route('/followerMess/<id>')\n",
      "def followerMess(id): \n",
      "    user = User.getDoc(id)\n",
      "    lf = FollowerFormatter(id)\n",
      "    tem = jinjaEnv.get_template(\"followerMess.html\")\n",
      "    \n",
      "    h = tem.render(\n",
      "        id = id,\n",
      "        user = user,\n",
      "        lf = lf,\n",
      "    )\n",
      "    return h\n",
      "\n",
      "@app.route('/rss/followerMess/<id>') \n",
      "def rss_followerMess(id):\n",
      "    lf = FollowerFormatter(id)\n",
      "    xml = lf.renderRss()\n",
      "    return Response(xml, mimetype=\"text/xml\")\n",
      "  \n",
      "@app.route('/au/followerMess/<id>')\n",
      "def au_followerMess(id):\n",
      "    lf = FollowerFormatter(id)\n",
      "    ts = lf.mostRecentTimeStamp()\n",
      "    tsj = json.dumps({'ts':ts})\n",
      "    return tsj   \n",
      "    \n",
      "\n",
      ">>\n"
     ]
    },
    {
     "name": "stderr",
     "output_type": "stream",
     "text": [
      "--- Logging error ---\n",
      "concurrent.futures.process._RemoteTraceback: \n",
      "\"\"\"\n",
      "Traceback (most recent call last):\n",
      "  File \"/home/jiayi/anaconda3/envs/py3.10/lib/python3.10/concurrent/futures/process.py\", line 243, in _process_worker\n",
      "    r = call_item.fn(*call_item.args, **call_item.kwargs)\n",
      "  File \"/home/jiayi/anaconda3/envs/py3.10/lib/python3.10/concurrent/futures/process.py\", line 202, in _process_chunk\n",
      "    return [fn(*args) for args in chunk]\n",
      "  File \"/home/jiayi/anaconda3/envs/py3.10/lib/python3.10/concurrent/futures/process.py\", line 202, in <listcomp>\n",
      "    return [fn(*args) for args in chunk]\n",
      "  File \"/home/jiayi/Projects/SPOT/src/spot/data.py\", line 241, in feedbacks_to_tokenized_src\n",
      "    assert m_code == current_code, \"Code 1:\\n<<{}>>\\nCode 2:\\n<<{}>>\".format(\n",
      "AssertionError: Code 1:\n",
      "<<\n",
      "from typing import *\n",
      "import json\n",
      " \n",
      "from feedgen.feed import FeedGenerator\n",
      "from flask import request, redirect, Response\n",
      "\n",
      "from bozen.butil import pr, prn, dpr, form, htmlEsc\n",
      "from bozen import FormDoc, MonDoc, BzDate, BzDateTime\n",
      "from bozen import paginate\n",
      "\n",
      "import config\n",
      "from allpages import app, jinjaEnv\n",
      "import ht\n",
      "from userdb import User\n",
      "import models\n",
      "from permission import needUser, currentUserName\n",
      "\n",
      "import messlist\n",
      "   \n",
      "\n",
      "@app.route('/listFollowing/<id>')\n",
      "def listFollowing(id):\n",
      "    user = User.getDoc(id)\n",
      "    ai = models.getAccountInfo(id)\n",
      "    count = len(ai.following_ids)\n",
      "    pag = paginate.Paginator(count)\n",
      "    \n",
      "    tem = jinjaEnv.get_template(\"listFollowing.html\")\n",
      "    h = tem.render(\n",
      "        id = id,\n",
      "        user = user,\n",
      "        ai = ai,\n",
      "        count = count,\n",
      "        pag = pag,\n",
      "        table = followingTableH(ai, pag),\n",
      "    )\n",
      "    return h\n",
      " \n",
      "def followingTableH(ai: models.AccountInfo, pag: paginate.Paginator) -> str:\n",
      "    h = USER_INFO_TABLE_HEADER\n",
      "    userIds = sorted(ai.following_ids)\n",
      "    userIds2 = userIds[pag.skip:pag.skip+pag.numShow]\n",
      "    for userId in userIds2:\n",
      "        h += userInfoLine(userId)\n",
      "    h += \"</table>\\n\"\n",
      "    return h\n",
      "\n",
      "USER_INFO_TABLE_HEADER = \"\"\"<table class='bz-report-table'>\n",
      "<tr>\n",
      "    <th>User</th>\n",
      "    <th>Posts</th>\n",
      "    <th>Head<br>Posts</th>\n",
      "    <th>Following</th>\n",
      "    <th>Followers</th>\n",
      "    <th>Real<br>Name</th>\n",
      "    <th>Blog<br>Title</th>\n",
      "</tr>\n",
      "\"\"\"   \n",
      "\n",
      "def userInfoLine(id: str) -> str:\n",
      "    ai = models.getAccountInfo(id)\n",
      "    numPosts = models.Message.count({'author_id': id})\n",
      "    numHeadPosts = models.Message.count({\n",
      "        'author_id': id,\n",
      "        'replyTo_id': {'$in': [None, '']},  \n",
      "    })\n",
      "    numFollowing = len(ai.following_ids)\n",
      "    numFollowers = models.AccountInfo.count({'following_ids': id})\n",
      "\n",
      "    h = form(\"\"\"<tr>\n",
      "    <td><a href='/blog/{user}'>@{user}</a></td> \n",
      "    <td style='text-align:right;'>{numPosts}</td> \n",
      "    <td style='text-align:right;'>{numHeadPosts}</td> \n",
      "    <td style='text-align:right;'>\n",
      "        <a href='/listFollowing/{user}'>{numFollowing}</a> &nbsp;\n",
      "        <a href='/followingMess/{user}'><i class='fa fa-eye'></i></a></td> \n",
      "    <td style='text-align:right;'>\n",
      "        <a href='/listFollowers/{user}'>{numFollowers}</a> &nbsp;\n",
      "        <a href='/followerMess/{user}'>\n",
      "            <i class='fa fa-arrow-circle-left'></i></a></td>   \n",
      "    <td>{realName}</td> \n",
      "    <td>{title}</td> \n",
      "</tr>\"\"\",\n",
      "            user = id,\n",
      "            numPosts = numPosts, \n",
      "            numHeadPosts = numHeadPosts,\n",
      "            numFollowing = numFollowing,\n",
      "            numFollowers = numFollowers,\n",
      "            realName = ai.asReadableH('realName'),\n",
      "            title = ai.asReadableH('title'),\n",
      "    )\n",
      "    return h\n",
      "    \n",
      " \n",
      " \n",
      "\n",
      "@app.route('/listFollowers/<id>')\n",
      "def listFollowers(id):\n",
      "    user = User.getDoc(id)\n",
      "    count = models.AccountInfo.count({'following_ids': id})\n",
      "    pag = paginate.Paginator(count)\n",
      "    \n",
      "    tem = jinjaEnv.get_template(\"listFollowers.html\")\n",
      "    h = tem.render(\n",
      "        id = id,\n",
      "        user = user,\n",
      "        count = count,\n",
      "        pag = pag,\n",
      "        table = followersTableH(id, pag),\n",
      "    )\n",
      "    return h\n",
      " \n",
      "def followersTableH(id: str, pag: paginate.Paginator) -> str:\n",
      "    h = USER_INFO_TABLE_HEADER\n",
      "    followers = models.AccountInfo.find({'following_ids': id},\n",
      "        skip=pag.skip, \n",
      "        limit=pag.numShow, \n",
      "        sort='_id')\n",
      "    for follower in followers:\n",
      "        h += userInfoLine(follower._id)\n",
      "    h += \"</table>\\n\"\n",
      "    return h\n",
      " \n",
      "\n",
      "\n",
      "@app.route('/userList')\n",
      "def userList():\n",
      "    count = User.count()\n",
      "    pag = paginate.Paginator(count)\n",
      "    tem = jinjaEnv.get_template(\"userList.html\")\n",
      "    h = tem.render(\n",
      "        count = count,\n",
      "        pag = pag,\n",
      "        table = userListTableH(pag),\n",
      "    )\n",
      "    return h\n",
      "\n",
      "def userListTableH(pag):\n",
      "    h = USER_INFO_TABLE_HEADER\n",
      "    users = User.find(\n",
      "        skip=pag.skip, \n",
      "        limit=pag.numShow, \n",
      "        sort='_id')\n",
      "    for u in users:\n",
      "        h += userInfoLine(u._id)\n",
      "    h += \"</table>\\n\"\n",
      "    return h\n",
      " \n",
      "\n",
      "class FollowingFormatter(messlist.ListFormatter):\n",
      "    \n",
      "    def __init__(self, id: str):\n",
      "        super().__init__()\n",
      "        self.id = id\n",
      "        ai = models.getAccountInfo(id)\n",
      "        self.q = {'author_id': {'$in': ai.following_ids}}\n",
      "    \n",
      "    def pageUrl(self) -> str:\n",
      "        return \"/followingMess/\" + id\n",
      "    \n",
      "    def getFeedGenerator(self) -> FeedGenerator:\n",
      "        fg = FeedGenerator()\n",
      "        fg.title(\"%s - Newsfeed for @%s\" % (config.SITE_NAME, self.id))\n",
      "        fg.link(href=\"%s/followingMess/%s\" % (config.SITE_STUB, self.id))\n",
      "        fg.description(\"Newsfeed for @%s\" % (self.id,))\n",
      "        return fg\n",
      "\n",
      "@app.route('/followingMess/<id>')\n",
      "def followingMess(id): \n",
      "    user = User.getDoc(id)\n",
      "    lf = FollowingFormatter(id)\n",
      "    tem = jinjaEnv.get_template(\"followingMess.html\")\n",
      "    \n",
      "    h = tem.render(\n",
      "        id = id,\n",
      "        user = user,\n",
      "        lf = lf,\n",
      "    )\n",
      "    return h\n",
      "\n",
      "@app.route('/rss/followingMess/<id>') \n",
      "def rss_followingMess(id):\n",
      "    lf = FollowingFormatter(id)\n",
      "    xml = lf.renderRss()\n",
      "    return Response(xml, mimetype=\"text/xml\")\n",
      "\n",
      "@app.route('/au/followingMess/<id>')\n",
      "def au_followingMess(id):\n",
      "    lf = FollowingFormatter(id)\n",
      "    ts = lf.mostRecentTimeStamp()\n",
      "    tsj = json.dumps({'ts':ts})\n",
      "    return tsj   \n",
      "     \n",
      "\n",
      "class FollowerFormatter(messlist.ListFormatter):\n",
      "    \n",
      "    def __init__(self, id: str):\n",
      "        super().__init__()\n",
      "        self.id = id\n",
      "        followers = models.AccountInfo.find({'following_ids': id})\n",
      "        follower_ids = [f._id for f in followers]\n",
      "        self.q = {'author_id': {'$in': follower_ids}}\n",
      "    \n",
      "    def pageUrl(self) -> str:\n",
      "        return \"/followerMess/\" + id\n",
      "    \n",
      "    def getFeedGenerator(self) -> FeedGenerator:\n",
      "        fg = FeedGenerator()\n",
      "        fg.title(\"%s - Followers of @%s\" % (config.SITE_NAME, self.id))\n",
      "        fg.link(href=\"%s/followerMess/%s\" % (config.SITE_STUB, self.id))\n",
      "        fg.description(\"Followers of @%s\" % (self.id,))\n",
      "        return fg\n",
      "\n",
      "@app.route('/followerMess/<id>')\n",
      "def followerMess(id): \n",
      "    user = User.getDoc(id)\n",
      "    lf = FollowerFormatter(id)\n",
      "    tem = jinjaEnv.get_template(\"followerMess.html\")\n",
      "    \n",
      "    h = tem.render(\n",
      "        id = id,\n",
      "        user = user,\n",
      "        lf = lf,\n",
      "    )\n",
      "    return h\n",
      "\n",
      "@app.route('/rss/followerMess/<id>') \n",
      "def rss_followerMess(id):\n",
      "    lf = FollowerFormatter(id)\n",
      "    xml = lf.renderRss()\n",
      "    return Response(xml, mimetype=\"text/xml\")\n",
      "  \n",
      "@app.route('/au/followerMess/<id>')\n",
      "def au_followerMess(id):\n",
      "    lf = FollowerFormatter(id)\n",
      "    ts = lf.mostRecentTimeStamp()\n",
      "    tsj = json.dumps({'ts':ts})\n",
      "    return tsj   \n",
      "    \n",
      " \n",
      "\n",
      ">>\n",
      "Code 2:\n",
      "<<\n",
      "from typing import *\n",
      "import json\n",
      " \n",
      "from feedgen.feed import FeedGenerator\n",
      "from flask import request, redirect, Response\n",
      "\n",
      "from bozen.butil import pr, prn, dpr, form, htmlEsc\n",
      "from bozen import FormDoc, MonDoc, BzDate, BzDateTime\n",
      "from bozen import paginate\n",
      "\n",
      "import config\n",
      "from allpages import app, jinjaEnv\n",
      "import ht\n",
      "from userdb import User\n",
      "import models\n",
      "from permission import needUser, currentUserName\n",
      "\n",
      "import messlist\n",
      "   \n",
      "\n",
      "@app.route('/listFollowing/<id>')\n",
      "def listFollowing(id):\n",
      "    user = User.getDoc(id)\n",
      "    ai = models.getAccountInfo(id)\n",
      "    count = len(ai.following_ids)\n",
      "    pag = paginate.Paginator(count)\n",
      "    \n",
      "    tem = jinjaEnv.get_template(\"listFollowing.html\")\n",
      "    h = tem.render(\n",
      "        id = id,\n",
      "        user = user,\n",
      "        ai = ai,\n",
      "        count = count,\n",
      "        pag = pag,\n",
      "        table = followingTableH(ai, pag),\n",
      "    )\n",
      "    return h\n",
      " \n",
      "def followingTableH(ai: models.AccountInfo, pag: paginate.Paginator) -> str:\n",
      "    h = USER_INFO_TABLE_HEADER\n",
      "    userIds = sorted(ai.following_ids)\n",
      "    userIds2 = userIds[pag.skip:pag.skip+pag.numShow]\n",
      "    for userId in userIds2:\n",
      "        h += userInfoLine(userId)\n",
      "    h += \"</table>\\n\"\n",
      "    return h\n",
      "\n",
      "USER_INFO_TABLE_HEADER = \"\"\"<table class='bz-report-table'>\n",
      "<tr>\n",
      "    <th>User</th>\n",
      "    <th>Posts</th>\n",
      "    <th>Head<br>Posts</th>\n",
      "    <th>Following</th>\n",
      "    <th>Followers</th>\n",
      "    <th>Real<br>Name</th>\n",
      "    <th>Blog<br>Title</th>\n",
      "</tr>\n",
      "\"\"\"   \n",
      "\n",
      "def userInfoLine(id: str) -> str:\n",
      "    ai = models.getAccountInfo(id)\n",
      "    numPosts = models.Message.count({'author_id': id})\n",
      "    numHeadPosts = models.Message.count({\n",
      "        'author_id': id,\n",
      "        'replyTo_id': {'$in': [None, '']},  \n",
      "    })\n",
      "    numFollowing = len(ai.following_ids)\n",
      "    numFollowers = models.AccountInfo.count({'following_ids': id})\n",
      "\n",
      "    h = form(\"\"\"<tr>\n",
      "    <td><a href='/blog/{user}'>@{user}</a></td> \n",
      "    <td style='text-align:right;'>{numPosts}</td> \n",
      "    <td style='text-align:right;'>{numHeadPosts}</td> \n",
      "    <td style='text-align:right;'>\n",
      "        <a href='/listFollowing/{user}'>{numFollowing}</a> &nbsp;\n",
      "        <a href='/followingMess/{user}'><i class='fa fa-eye'></i></a></td> \n",
      "    <td style='text-align:right;'>\n",
      "        <a href='/listFollowers/{user}'>{numFollowers}</a> &nbsp;\n",
      "        <a href='/followerMess/{user}'>\n",
      "            <i class='fa fa-arrow-circle-left'></i></a></td>   \n",
      "    <td>{realName}</td> \n",
      "    <td>{title}</td> \n",
      "</tr>\"\"\",\n",
      "            user = id,\n",
      "            numPosts = numPosts, \n",
      "            numHeadPosts = numHeadPosts,\n",
      "            numFollowing = numFollowing,\n",
      "            numFollowers = numFollowers,\n",
      "            realName = ai.asReadableH('realName'),\n",
      "            title = ai.asReadableH('title'),\n",
      "    )\n",
      "    return h\n",
      "    \n",
      " \n",
      " \n",
      "\n",
      "@app.route('/listFollowers/<id>')\n",
      "def listFollowers(id):\n",
      "    user = User.getDoc(id)\n",
      "    count = models.AccountInfo.count({'following_ids': id})\n",
      "    pag = paginate.Paginator(count)\n",
      "    \n",
      "    tem = jinjaEnv.get_template(\"listFollowers.html\")\n",
      "    h = tem.render(\n",
      "        id = id,\n",
      "        user = user,\n",
      "        count = count,\n",
      "        pag = pag,\n",
      "        table = followersTableH(id, pag),\n",
      "    )\n",
      "    return h\n",
      " \n",
      "def followersTableH(id: str, pag: paginate.Paginator) -> str:\n",
      "    h = USER_INFO_TABLE_HEADER\n",
      "    followers = models.AccountInfo.find({'following_ids': id},\n",
      "        skip=pag.skip, \n",
      "        limit=pag.numShow, \n",
      "        sort='_id')\n",
      "    for follower in followers:\n",
      "        h += userInfoLine(follower._id)\n",
      "    h += \"</table>\\n\"\n",
      "    return h\n",
      " \n",
      "\n",
      "\n",
      "@app.route('/userList')\n",
      "def userList():\n",
      "    count = User.count()\n",
      "    pag = paginate.Paginator(count)\n",
      "    tem = jinjaEnv.get_template(\"userList.html\")\n",
      "    h = tem.render(\n",
      "        count = count,\n",
      "        pag = pag,\n",
      "        table = userListTableH(pag),\n",
      "    )\n",
      "    return h\n",
      "\n",
      "def userListTableH(pag):\n",
      "    h = USER_INFO_TABLE_HEADER\n",
      "    users = User.find(\n",
      "        skip=pag.skip, \n",
      "        limit=pag.numShow, \n",
      "        sort='_id')\n",
      "    for u in users:\n",
      "        h += userInfoLine(u._id)\n",
      "    h += \"</table>\\n\"\n",
      "    return h\n",
      " \n",
      "\n",
      "class FollowingFormatter(messlist.ListFormatter):\n",
      "    \n",
      "    def __init__(self, id: str):\n",
      "        super().__init__()\n",
      "        self.id = id\n",
      "        ai = models.getAccountInfo(id)\n",
      "        self.q = {'author_id': {'$in': ai.following_ids}}\n",
      "    \n",
      "    def pageUrl(self) -> str:\n",
      "        return \"/followingMess/\" + id\n",
      "    \n",
      "    def getFeedGenerator(self) -> FeedGenerator:\n",
      "        fg = FeedGenerator()\n",
      "        fg.title(\"%s - Newsfeed for @%s\" % (config.SITE_NAME, self.id))\n",
      "        fg.link(href=\"%s/followingMess/%s\" % (config.SITE_STUB, self.id))\n",
      "        fg.description(\"Newsfeed for @%s\" % (self.id,))\n",
      "        return fg\n",
      "\n",
      "@app.route('/followingMess/<id>')\n",
      "def followingMess(id): \n",
      "    user = User.getDoc(id)\n",
      "    lf = FollowingFormatter(id)\n",
      "    tem = jinjaEnv.get_template(\"followingMess.html\")\n",
      "    \n",
      "    h = tem.render(\n",
      "        id = id,\n",
      "        user = user,\n",
      "        lf = lf,\n",
      "    )\n",
      "    return h\n",
      "\n",
      "@app.route('/rss/followingMess/<id>') \n",
      "def rss_followingMess(id):\n",
      "    lf = FollowingFormatter(id)\n",
      "    xml = lf.renderRss()\n",
      "    return Response(xml, mimetype=\"text/xml\")\n",
      "\n",
      "@app.route('/au/followingMess/<id>')\n",
      "def au_followingMess(id):\n",
      "    lf = FollowingFormatter(id)\n",
      "    ts = lf.mostRecentTimeStamp()\n",
      "    tsj = json.dumps({'ts':ts})\n",
      "    return tsj   \n",
      "     \n",
      "\n",
      "class FollowerFormatter(messlist.ListFormatter):\n",
      "    \n",
      "    def __init__(self, id: str):\n",
      "        super().__init__()\n",
      "        self.id = id\n",
      "        followers = models.AccountInfo.find({'following_ids': id})\n",
      "        follower_ids = [f._id for f in followers]\n",
      "        self.q = {'author_id': {'$in': follower_ids}}\n",
      "    \n",
      "    def pageUrl(self) -> str:\n",
      "        return \"/followerMess/\" + id\n",
      "    \n",
      "    def getFeedGenerator(self) -> FeedGenerator:\n",
      "        fg = FeedGenerator()\n",
      "        fg.title(\"%s - Followers of @%s\" % (config.SITE_NAME, self.id))\n",
      "        fg.link(href=\"%s/followerMess/%s\" % (config.SITE_STUB, self.id))\n",
      "        fg.description(\"Followers of @%s\" % (self.id,))\n",
      "        return fg\n",
      "\n",
      "@app.route('/followerMess/<id>')\n",
      "def followerMess(id): \n",
      "    user = User.getDoc(id)\n",
      "    lf = FollowerFormatter(id)\n",
      "    tem = jinjaEnv.get_template(\"followerMess.html\")\n",
      "    \n",
      "    h = tem.render(\n",
      "        id = id,\n",
      "        user = user,\n",
      "        lf = lf,\n",
      "    )\n",
      "    return h\n",
      "\n",
      "@app.route('/rss/followerMess/<id>') \n",
      "def rss_followerMess(id):\n",
      "    lf = FollowerFormatter(id)\n",
      "    xml = lf.renderRss()\n",
      "    return Response(xml, mimetype=\"text/xml\")\n",
      "  \n",
      "@app.route('/au/followerMess/<id>')\n",
      "def au_followerMess(id):\n",
      "    lf = FollowerFormatter(id)\n",
      "    ts = lf.mostRecentTimeStamp()\n",
      "    tsj = json.dumps({'ts':ts})\n",
      "    return tsj   \n",
      "    \n",
      "\n",
      ">>\n",
      "\"\"\"\n",
      "\n",
      "The above exception was the direct cause of the following exception:\n",
      "\n",
      "Traceback (most recent call last):\n",
      "  File \"/home/jiayi/Projects/SPOT/src/spot/train.py\", line 183, in train_spot_model\n",
      "    tokenizer,\n",
      "  File \"/home/jiayi/Projects/SPOT/src/spot/train.py\", line 248, in R1_srcs_from_ckpts\n",
      "    tokenizer,\n",
      "  File \"/home/jiayi/Projects/SPOT/src/spot/data.py\", line 1176, in R1_srcs_from_preds\n",
      "    return r0_src.add_type_checker_feedback(\n",
      "  File \"/home/jiayi/Projects/SPOT/src/spot/data.py\", line 587, in add_type_checker_feedback\n",
      "    new_srcs = process_map(\n",
      "  File \"/home/jiayi/Projects/SPOT/.venv/lib/python3.10/site-packages/tqdm/contrib/concurrent.py\", line 130, in process_map\n",
      "    return _executor_map(ProcessPoolExecutor, fn, *iterables, **tqdm_kwargs)\n",
      "  File \"/home/jiayi/Projects/SPOT/.venv/lib/python3.10/site-packages/tqdm/contrib/concurrent.py\", line 76, in _executor_map\n",
      "    return list(tqdm_class(ex.map(fn, *iterables, **map_args), **kwargs))\n",
      "  File \"/home/jiayi/Projects/SPOT/.venv/lib/python3.10/site-packages/tqdm/notebook.py\", line 258, in __iter__\n",
      "    for obj in it:\n",
      "  File \"/home/jiayi/Projects/SPOT/.venv/lib/python3.10/site-packages/tqdm/std.py\", line 1195, in __iter__\n",
      "    for obj in iterable:\n",
      "  File \"/home/jiayi/anaconda3/envs/py3.10/lib/python3.10/concurrent/futures/process.py\", line 567, in _chain_from_iterable_of_lists\n",
      "    for element in iterable:\n",
      "  File \"/home/jiayi/anaconda3/envs/py3.10/lib/python3.10/concurrent/futures/_base.py\", line 609, in result_iterator\n",
      "    yield fs.pop().result()\n",
      "  File \"/home/jiayi/anaconda3/envs/py3.10/lib/python3.10/concurrent/futures/_base.py\", line 439, in result\n",
      "    return self.__get_result()\n",
      "  File \"/home/jiayi/anaconda3/envs/py3.10/lib/python3.10/concurrent/futures/_base.py\", line 391, in __get_result\n",
      "    raise self._exception\n",
      "AssertionError: Code 1:\n",
      "<<\n",
      "from typing import *\n",
      "import json\n",
      " \n",
      "from feedgen.feed import FeedGenerator\n",
      "from flask import request, redirect, Response\n",
      "\n",
      "from bozen.butil import pr, prn, dpr, form, htmlEsc\n",
      "from bozen import FormDoc, MonDoc, BzDate, BzDateTime\n",
      "from bozen import paginate\n",
      "\n",
      "import config\n",
      "from allpages import app, jinjaEnv\n",
      "import ht\n",
      "from userdb import User\n",
      "import models\n",
      "from permission import needUser, currentUserName\n",
      "\n",
      "import messlist\n",
      "   \n",
      "\n",
      "@app.route('/listFollowing/<id>')\n",
      "def listFollowing(id):\n",
      "    user = User.getDoc(id)\n",
      "    ai = models.getAccountInfo(id)\n",
      "    count = len(ai.following_ids)\n",
      "    pag = paginate.Paginator(count)\n",
      "    \n",
      "    tem = jinjaEnv.get_template(\"listFollowing.html\")\n",
      "    h = tem.render(\n",
      "        id = id,\n",
      "        user = user,\n",
      "        ai = ai,\n",
      "        count = count,\n",
      "        pag = pag,\n",
      "        table = followingTableH(ai, pag),\n",
      "    )\n",
      "    return h\n",
      " \n",
      "def followingTableH(ai: models.AccountInfo, pag: paginate.Paginator) -> str:\n",
      "    h = USER_INFO_TABLE_HEADER\n",
      "    userIds = sorted(ai.following_ids)\n",
      "    userIds2 = userIds[pag.skip:pag.skip+pag.numShow]\n",
      "    for userId in userIds2:\n",
      "        h += userInfoLine(userId)\n",
      "    h += \"</table>\\n\"\n",
      "    return h\n",
      "\n",
      "USER_INFO_TABLE_HEADER = \"\"\"<table class='bz-report-table'>\n",
      "<tr>\n",
      "    <th>User</th>\n",
      "    <th>Posts</th>\n",
      "    <th>Head<br>Posts</th>\n",
      "    <th>Following</th>\n",
      "    <th>Followers</th>\n",
      "    <th>Real<br>Name</th>\n",
      "    <th>Blog<br>Title</th>\n",
      "</tr>\n",
      "\"\"\"   \n",
      "\n",
      "def userInfoLine(id: str) -> str:\n",
      "    ai = models.getAccountInfo(id)\n",
      "    numPosts = models.Message.count({'author_id': id})\n",
      "    numHeadPosts = models.Message.count({\n",
      "        'author_id': id,\n",
      "        'replyTo_id': {'$in': [None, '']},  \n",
      "    })\n",
      "    numFollowing = len(ai.following_ids)\n",
      "    numFollowers = models.AccountInfo.count({'following_ids': id})\n",
      "\n",
      "    h = form(\"\"\"<tr>\n",
      "    <td><a href='/blog/{user}'>@{user}</a></td> \n",
      "    <td style='text-align:right;'>{numPosts}</td> \n",
      "    <td style='text-align:right;'>{numHeadPosts}</td> \n",
      "    <td style='text-align:right;'>\n",
      "        <a href='/listFollowing/{user}'>{numFollowing}</a> &nbsp;\n",
      "        <a href='/followingMess/{user}'><i class='fa fa-eye'></i></a></td> \n",
      "    <td style='text-align:right;'>\n",
      "        <a href='/listFollowers/{user}'>{numFollowers}</a> &nbsp;\n",
      "        <a href='/followerMess/{user}'>\n",
      "            <i class='fa fa-arrow-circle-left'></i></a></td>   \n",
      "    <td>{realName}</td> \n",
      "    <td>{title}</td> \n",
      "</tr>\"\"\",\n",
      "            user = id,\n",
      "            numPosts = numPosts, \n",
      "            numHeadPosts = numHeadPosts,\n",
      "            numFollowing = numFollowing,\n",
      "            numFollowers = numFollowers,\n",
      "            realName = ai.asReadableH('realName'),\n",
      "            title = ai.asReadableH('title'),\n",
      "    )\n",
      "    return h\n",
      "    \n",
      " \n",
      " \n",
      "\n",
      "@app.route('/listFollowers/<id>')\n",
      "def listFollowers(id):\n",
      "    user = User.getDoc(id)\n",
      "    count = models.AccountInfo.count({'following_ids': id})\n",
      "    pag = paginate.Paginator(count)\n",
      "    \n",
      "    tem = jinjaEnv.get_template(\"listFollowers.html\")\n",
      "    h = tem.render(\n",
      "        id = id,\n",
      "        user = user,\n",
      "        count = count,\n",
      "        pag = pag,\n",
      "        table = followersTableH(id, pag),\n",
      "    )\n",
      "    return h\n",
      " \n",
      "def followersTableH(id: str, pag: paginate.Paginator) -> str:\n",
      "    h = USER_INFO_TABLE_HEADER\n",
      "    followers = models.AccountInfo.find({'following_ids': id},\n",
      "        skip=pag.skip, \n",
      "        limit=pag.numShow, \n",
      "        sort='_id')\n",
      "    for follower in followers:\n",
      "        h += userInfoLine(follower._id)\n",
      "    h += \"</table>\\n\"\n",
      "    return h\n",
      " \n",
      "\n",
      "\n",
      "@app.route('/userList')\n",
      "def userList():\n",
      "    count = User.count()\n",
      "    pag = paginate.Paginator(count)\n",
      "    tem = jinjaEnv.get_template(\"userList.html\")\n",
      "    h = tem.render(\n",
      "        count = count,\n",
      "        pag = pag,\n",
      "        table = userListTableH(pag),\n",
      "    )\n",
      "    return h\n",
      "\n",
      "def userListTableH(pag):\n",
      "    h = USER_INFO_TABLE_HEADER\n",
      "    users = User.find(\n",
      "        skip=pag.skip, \n",
      "        limit=pag.numShow, \n",
      "        sort='_id')\n",
      "    for u in users:\n",
      "        h += userInfoLine(u._id)\n",
      "    h += \"</table>\\n\"\n",
      "    return h\n",
      " \n",
      "\n",
      "class FollowingFormatter(messlist.ListFormatter):\n",
      "    \n",
      "    def __init__(self, id: str):\n",
      "        super().__init__()\n",
      "        self.id = id\n",
      "        ai = models.getAccountInfo(id)\n",
      "        self.q = {'author_id': {'$in': ai.following_ids}}\n",
      "    \n",
      "    def pageUrl(self) -> str:\n",
      "        return \"/followingMess/\" + id\n",
      "    \n",
      "    def getFeedGenerator(self) -> FeedGenerator:\n",
      "        fg = FeedGenerator()\n",
      "        fg.title(\"%s - Newsfeed for @%s\" % (config.SITE_NAME, self.id))\n",
      "        fg.link(href=\"%s/followingMess/%s\" % (config.SITE_STUB, self.id))\n",
      "        fg.description(\"Newsfeed for @%s\" % (self.id,))\n",
      "        return fg\n",
      "\n",
      "@app.route('/followingMess/<id>')\n",
      "def followingMess(id): \n",
      "    user = User.getDoc(id)\n",
      "    lf = FollowingFormatter(id)\n",
      "    tem = jinjaEnv.get_template(\"followingMess.html\")\n",
      "    \n",
      "    h = tem.render(\n",
      "        id = id,\n",
      "        user = user,\n",
      "        lf = lf,\n",
      "    )\n",
      "    return h\n",
      "\n",
      "@app.route('/rss/followingMess/<id>') \n",
      "def rss_followingMess(id):\n",
      "    lf = FollowingFormatter(id)\n",
      "    xml = lf.renderRss()\n",
      "    return Response(xml, mimetype=\"text/xml\")\n",
      "\n",
      "@app.route('/au/followingMess/<id>')\n",
      "def au_followingMess(id):\n",
      "    lf = FollowingFormatter(id)\n",
      "    ts = lf.mostRecentTimeStamp()\n",
      "    tsj = json.dumps({'ts':ts})\n",
      "    return tsj   \n",
      "     \n",
      "\n",
      "class FollowerFormatter(messlist.ListFormatter):\n",
      "    \n",
      "    def __init__(self, id: str):\n",
      "        super().__init__()\n",
      "        self.id = id\n",
      "        followers = models.AccountInfo.find({'following_ids': id})\n",
      "        follower_ids = [f._id for f in followers]\n",
      "        self.q = {'author_id': {'$in': follower_ids}}\n",
      "    \n",
      "    def pageUrl(self) -> str:\n",
      "        return \"/followerMess/\" + id\n",
      "    \n",
      "    def getFeedGenerator(self) -> FeedGenerator:\n",
      "        fg = FeedGenerator()\n",
      "        fg.title(\"%s - Followers of @%s\" % (config.SITE_NAME, self.id))\n",
      "        fg.link(href=\"%s/followerMess/%s\" % (config.SITE_STUB, self.id))\n",
      "        fg.description(\"Followers of @%s\" % (self.id,))\n",
      "        return fg\n",
      "\n",
      "@app.route('/followerMess/<id>')\n",
      "def followerMess(id): \n",
      "    user = User.getDoc(id)\n",
      "    lf = FollowerFormatter(id)\n",
      "    tem = jinjaEnv.get_template(\"followerMess.html\")\n",
      "    \n",
      "    h = tem.render(\n",
      "        id = id,\n",
      "        user = user,\n",
      "        lf = lf,\n",
      "    )\n",
      "    return h\n",
      "\n",
      "@app.route('/rss/followerMess/<id>') \n",
      "def rss_followerMess(id):\n",
      "    lf = FollowerFormatter(id)\n",
      "    xml = lf.renderRss()\n",
      "    return Response(xml, mimetype=\"text/xml\")\n",
      "  \n",
      "@app.route('/au/followerMess/<id>')\n",
      "def au_followerMess(id):\n",
      "    lf = FollowerFormatter(id)\n",
      "    ts = lf.mostRecentTimeStamp()\n",
      "    tsj = json.dumps({'ts':ts})\n",
      "    return tsj   \n",
      "    \n",
      " \n",
      "\n",
      ">>\n",
      "Code 2:\n",
      "<<\n",
      "from typing import *\n",
      "import json\n",
      " \n",
      "from feedgen.feed import FeedGenerator\n",
      "from flask import request, redirect, Response\n",
      "\n",
      "from bozen.butil import pr, prn, dpr, form, htmlEsc\n",
      "from bozen import FormDoc, MonDoc, BzDate, BzDateTime\n",
      "from bozen import paginate\n",
      "\n",
      "import config\n",
      "from allpages import app, jinjaEnv\n",
      "import ht\n",
      "from userdb import User\n",
      "import models\n",
      "from permission import needUser, currentUserName\n",
      "\n",
      "import messlist\n",
      "   \n",
      "\n",
      "@app.route('/listFollowing/<id>')\n",
      "def listFollowing(id):\n",
      "    user = User.getDoc(id)\n",
      "    ai = models.getAccountInfo(id)\n",
      "    count = len(ai.following_ids)\n",
      "    pag = paginate.Paginator(count)\n",
      "    \n",
      "    tem = jinjaEnv.get_template(\"listFollowing.html\")\n",
      "    h = tem.render(\n",
      "        id = id,\n",
      "        user = user,\n",
      "        ai = ai,\n",
      "        count = count,\n",
      "        pag = pag,\n",
      "        table = followingTableH(ai, pag),\n",
      "    )\n",
      "    return h\n",
      " \n",
      "def followingTableH(ai: models.AccountInfo, pag: paginate.Paginator) -> str:\n",
      "    h = USER_INFO_TABLE_HEADER\n",
      "    userIds = sorted(ai.following_ids)\n",
      "    userIds2 = userIds[pag.skip:pag.skip+pag.numShow]\n",
      "    for userId in userIds2:\n",
      "        h += userInfoLine(userId)\n",
      "    h += \"</table>\\n\"\n",
      "    return h\n",
      "\n",
      "USER_INFO_TABLE_HEADER = \"\"\"<table class='bz-report-table'>\n",
      "<tr>\n",
      "    <th>User</th>\n",
      "    <th>Posts</th>\n",
      "    <th>Head<br>Posts</th>\n",
      "    <th>Following</th>\n",
      "    <th>Followers</th>\n",
      "    <th>Real<br>Name</th>\n",
      "    <th>Blog<br>Title</th>\n",
      "</tr>\n",
      "\"\"\"   \n",
      "\n",
      "def userInfoLine(id: str) -> str:\n",
      "    ai = models.getAccountInfo(id)\n",
      "    numPosts = models.Message.count({'author_id': id})\n",
      "    numHeadPosts = models.Message.count({\n",
      "        'author_id': id,\n",
      "        'replyTo_id': {'$in': [None, '']},  \n",
      "    })\n",
      "    numFollowing = len(ai.following_ids)\n",
      "    numFollowers = models.AccountInfo.count({'following_ids': id})\n",
      "\n",
      "    h = form(\"\"\"<tr>\n",
      "    <td><a href='/blog/{user}'>@{user}</a></td> \n",
      "    <td style='text-align:right;'>{numPosts}</td> \n",
      "    <td style='text-align:right;'>{numHeadPosts}</td> \n",
      "    <td style='text-align:right;'>\n",
      "        <a href='/listFollowing/{user}'>{numFollowing}</a> &nbsp;\n",
      "        <a href='/followingMess/{user}'><i class='fa fa-eye'></i></a></td> \n",
      "    <td style='text-align:right;'>\n",
      "        <a href='/listFollowers/{user}'>{numFollowers}</a> &nbsp;\n",
      "        <a href='/followerMess/{user}'>\n",
      "            <i class='fa fa-arrow-circle-left'></i></a></td>   \n",
      "    <td>{realName}</td> \n",
      "    <td>{title}</td> \n",
      "</tr>\"\"\",\n",
      "            user = id,\n",
      "            numPosts = numPosts, \n",
      "            numHeadPosts = numHeadPosts,\n",
      "            numFollowing = numFollowing,\n",
      "            numFollowers = numFollowers,\n",
      "            realName = ai.asReadableH('realName'),\n",
      "            title = ai.asReadableH('title'),\n",
      "    )\n",
      "    return h\n",
      "    \n",
      " \n",
      " \n",
      "\n",
      "@app.route('/listFollowers/<id>')\n",
      "def listFollowers(id):\n",
      "    user = User.getDoc(id)\n",
      "    count = models.AccountInfo.count({'following_ids': id})\n",
      "    pag = paginate.Paginator(count)\n",
      "    \n",
      "    tem = jinjaEnv.get_template(\"listFollowers.html\")\n",
      "    h = tem.render(\n",
      "        id = id,\n",
      "        user = user,\n",
      "        count = count,\n",
      "        pag = pag,\n",
      "        table = followersTableH(id, pag),\n",
      "    )\n",
      "    return h\n",
      " \n",
      "def followersTableH(id: str, pag: paginate.Paginator) -> str:\n",
      "    h = USER_INFO_TABLE_HEADER\n",
      "    followers = models.AccountInfo.find({'following_ids': id},\n",
      "        skip=pag.skip, \n",
      "        limit=pag.numShow, \n",
      "        sort='_id')\n",
      "    for follower in followers:\n",
      "        h += userInfoLine(follower._id)\n",
      "    h += \"</table>\\n\"\n",
      "    return h\n",
      " \n",
      "\n",
      "\n",
      "@app.route('/userList')\n",
      "def userList():\n",
      "    count = User.count()\n",
      "    pag = paginate.Paginator(count)\n",
      "    tem = jinjaEnv.get_template(\"userList.html\")\n",
      "    h = tem.render(\n",
      "        count = count,\n",
      "        pag = pag,\n",
      "        table = userListTableH(pag),\n",
      "    )\n",
      "    return h\n",
      "\n",
      "def userListTableH(pag):\n",
      "    h = USER_INFO_TABLE_HEADER\n",
      "    users = User.find(\n",
      "        skip=pag.skip, \n",
      "        limit=pag.numShow, \n",
      "        sort='_id')\n",
      "    for u in users:\n",
      "        h += userInfoLine(u._id)\n",
      "    h += \"</table>\\n\"\n",
      "    return h\n",
      " \n",
      "\n",
      "class FollowingFormatter(messlist.ListFormatter):\n",
      "    \n",
      "    def __init__(self, id: str):\n",
      "        super().__init__()\n",
      "        self.id = id\n",
      "        ai = models.getAccountInfo(id)\n",
      "        self.q = {'author_id': {'$in': ai.following_ids}}\n",
      "    \n",
      "    def pageUrl(self) -> str:\n",
      "        return \"/followingMess/\" + id\n",
      "    \n",
      "    def getFeedGenerator(self) -> FeedGenerator:\n",
      "        fg = FeedGenerator()\n",
      "        fg.title(\"%s - Newsfeed for @%s\" % (config.SITE_NAME, self.id))\n",
      "        fg.link(href=\"%s/followingMess/%s\" % (config.SITE_STUB, self.id))\n",
      "        fg.description(\"Newsfeed for @%s\" % (self.id,))\n",
      "        return fg\n",
      "\n",
      "@app.route('/followingMess/<id>')\n",
      "def followingMess(id): \n",
      "    user = User.getDoc(id)\n",
      "    lf = FollowingFormatter(id)\n",
      "    tem = jinjaEnv.get_template(\"followingMess.html\")\n",
      "    \n",
      "    h = tem.render(\n",
      "        id = id,\n",
      "        user = user,\n",
      "        lf = lf,\n",
      "    )\n",
      "    return h\n",
      "\n",
      "@app.route('/rss/followingMess/<id>') \n",
      "def rss_followingMess(id):\n",
      "    lf = FollowingFormatter(id)\n",
      "    xml = lf.renderRss()\n",
      "    return Response(xml, mimetype=\"text/xml\")\n",
      "\n",
      "@app.route('/au/followingMess/<id>')\n",
      "def au_followingMess(id):\n",
      "    lf = FollowingFormatter(id)\n",
      "    ts = lf.mostRecentTimeStamp()\n",
      "    tsj = json.dumps({'ts':ts})\n",
      "    return tsj   \n",
      "     \n",
      "\n",
      "class FollowerFormatter(messlist.ListFormatter):\n",
      "    \n",
      "    def __init__(self, id: str):\n",
      "        super().__init__()\n",
      "        self.id = id\n",
      "        followers = models.AccountInfo.find({'following_ids': id})\n",
      "        follower_ids = [f._id for f in followers]\n",
      "        self.q = {'author_id': {'$in': follower_ids}}\n",
      "    \n",
      "    def pageUrl(self) -> str:\n",
      "        return \"/followerMess/\" + id\n",
      "    \n",
      "    def getFeedGenerator(self) -> FeedGenerator:\n",
      "        fg = FeedGenerator()\n",
      "        fg.title(\"%s - Followers of @%s\" % (config.SITE_NAME, self.id))\n",
      "        fg.link(href=\"%s/followerMess/%s\" % (config.SITE_STUB, self.id))\n",
      "        fg.description(\"Followers of @%s\" % (self.id,))\n",
      "        return fg\n",
      "\n",
      "@app.route('/followerMess/<id>')\n",
      "def followerMess(id): \n",
      "    user = User.getDoc(id)\n",
      "    lf = FollowerFormatter(id)\n",
      "    tem = jinjaEnv.get_template(\"followerMess.html\")\n",
      "    \n",
      "    h = tem.render(\n",
      "        id = id,\n",
      "        user = user,\n",
      "        lf = lf,\n",
      "    )\n",
      "    return h\n",
      "\n",
      "@app.route('/rss/followerMess/<id>') \n",
      "def rss_followerMess(id):\n",
      "    lf = FollowerFormatter(id)\n",
      "    xml = lf.renderRss()\n",
      "    return Response(xml, mimetype=\"text/xml\")\n",
      "  \n",
      "@app.route('/au/followerMess/<id>')\n",
      "def au_followerMess(id):\n",
      "    lf = FollowerFormatter(id)\n",
      "    ts = lf.mostRecentTimeStamp()\n",
      "    tsj = json.dumps({'ts':ts})\n",
      "    return tsj   \n",
      "    \n",
      "\n",
      ">>\n",
      "\n",
      "During handling of the above exception, another exception occurred:\n",
      "\n",
      "Traceback (most recent call last):\n",
      "  File \"/home/jiayi/anaconda3/envs/py3.10/lib/python3.10/logging/__init__.py\", line 1100, in emit\n",
      "    msg = self.format(record)\n",
      "  File \"/home/jiayi/anaconda3/envs/py3.10/lib/python3.10/logging/__init__.py\", line 943, in format\n",
      "    return fmt.format(record)\n",
      "  File \"/home/jiayi/anaconda3/envs/py3.10/lib/python3.10/logging/__init__.py\", line 678, in format\n",
      "    record.message = record.getMessage()\n",
      "  File \"/home/jiayi/anaconda3/envs/py3.10/lib/python3.10/logging/__init__.py\", line 368, in getMessage\n",
      "    msg = msg % self.args\n",
      "TypeError: not all arguments converted during string formatting\n",
      "Call stack:\n",
      "  File \"/home/jiayi/anaconda3/envs/py3.10/lib/python3.10/runpy.py\", line 196, in _run_module_as_main\n",
      "    return _run_code(code, main_globals, None,\n",
      "  File \"/home/jiayi/anaconda3/envs/py3.10/lib/python3.10/runpy.py\", line 86, in _run_code\n",
      "    exec(code, run_globals)\n",
      "  File \"/home/jiayi/Projects/SPOT/.venv/lib/python3.10/site-packages/ipykernel_launcher.py\", line 17, in <module>\n",
      "    app.launch_new_instance()\n",
      "  File \"/home/jiayi/Projects/SPOT/.venv/lib/python3.10/site-packages/traitlets/config/application.py\", line 972, in launch_instance\n",
      "    app.start()\n",
      "  File \"/home/jiayi/Projects/SPOT/.venv/lib/python3.10/site-packages/ipykernel/kernelapp.py\", line 712, in start\n",
      "    self.io_loop.start()\n",
      "  File \"/home/jiayi/Projects/SPOT/.venv/lib/python3.10/site-packages/tornado/platform/asyncio.py\", line 199, in start\n",
      "    self.asyncio_loop.run_forever()\n",
      "  File \"/home/jiayi/anaconda3/envs/py3.10/lib/python3.10/asyncio/base_events.py\", line 600, in run_forever\n",
      "    self._run_once()\n",
      "  File \"/home/jiayi/anaconda3/envs/py3.10/lib/python3.10/asyncio/base_events.py\", line 1896, in _run_once\n",
      "    handle._run()\n",
      "  File \"/home/jiayi/anaconda3/envs/py3.10/lib/python3.10/asyncio/events.py\", line 80, in _run\n",
      "    self._context.run(self._callback, *self._args)\n",
      "  File \"/home/jiayi/Projects/SPOT/.venv/lib/python3.10/site-packages/ipykernel/kernelbase.py\", line 504, in dispatch_queue\n",
      "    await self.process_one()\n",
      "  File \"/home/jiayi/Projects/SPOT/.venv/lib/python3.10/site-packages/ipykernel/kernelbase.py\", line 493, in process_one\n",
      "    await dispatch(*args)\n",
      "  File \"/home/jiayi/Projects/SPOT/.venv/lib/python3.10/site-packages/ipykernel/kernelbase.py\", line 400, in dispatch_shell\n",
      "    await result\n",
      "  File \"/home/jiayi/Projects/SPOT/.venv/lib/python3.10/site-packages/ipykernel/kernelbase.py\", line 724, in execute_request\n",
      "    reply_content = await reply_content\n",
      "  File \"/home/jiayi/Projects/SPOT/.venv/lib/python3.10/site-packages/ipykernel/ipkernel.py\", line 383, in do_execute\n",
      "    res = shell.run_cell(\n",
      "  File \"/home/jiayi/Projects/SPOT/.venv/lib/python3.10/site-packages/ipykernel/zmqshell.py\", line 528, in run_cell\n",
      "    return super().run_cell(*args, **kwargs)\n",
      "  File \"/home/jiayi/Projects/SPOT/.venv/lib/python3.10/site-packages/IPython/core/interactiveshell.py\", line 2880, in run_cell\n",
      "    result = self._run_cell(\n",
      "  File \"/home/jiayi/Projects/SPOT/.venv/lib/python3.10/site-packages/IPython/core/interactiveshell.py\", line 2935, in _run_cell\n",
      "    return runner(coro)\n",
      "  File \"/home/jiayi/Projects/SPOT/.venv/lib/python3.10/site-packages/IPython/core/async_helpers.py\", line 129, in _pseudo_sync_runner\n",
      "    coro.send(None)\n",
      "  File \"/home/jiayi/Projects/SPOT/.venv/lib/python3.10/site-packages/IPython/core/interactiveshell.py\", line 3134, in run_cell_async\n",
      "    has_raised = await self.run_ast_nodes(code_ast.body, cell_name,\n",
      "  File \"/home/jiayi/Projects/SPOT/.venv/lib/python3.10/site-packages/IPython/core/interactiveshell.py\", line 3337, in run_ast_nodes\n",
      "    if await self.run_code(code, result, async_=asy):\n",
      "  File \"/home/jiayi/Projects/SPOT/.venv/lib/python3.10/site-packages/IPython/core/interactiveshell.py\", line 3397, in run_code\n",
      "    exec(code_obj, self.user_global_ns, self.user_ns)\n",
      "  File \"/tmp/ipykernel_5766/2591729126.py\", line 10, in <cell line: 10>\n",
      "    r0_wrapper, r0_extra = train_spot_model(\n",
      "  File \"/home/jiayi/Projects/SPOT/src/spot/train.py\", line 209, in train_spot_model\n",
      "    \"Error encountered after training, returning partial results... Error:\\n\", e\n",
      "Message: 'Error encountered after training, returning partial results... Error:\\n'\n",
      "Arguments: (AssertionError('Code 1:\\n<<\\nfrom typing import *\\nimport json\\n \\nfrom feedgen.feed import FeedGenerator\\nfrom flask import request, redirect, Response\\n\\nfrom bozen.butil import pr, prn, dpr, form, htmlEsc\\nfrom bozen import FormDoc, MonDoc, BzDate, BzDateTime\\nfrom bozen import paginate\\n\\nimport config\\nfrom allpages import app, jinjaEnv\\nimport ht\\nfrom userdb import User\\nimport models\\nfrom permission import needUser, currentUserName\\n\\nimport messlist\\n   \\n\\n@app.route(\\'/listFollowing/<id>\\')\\ndef listFollowing(id):\\n    user = User.getDoc(id)\\n    ai = models.getAccountInfo(id)\\n    count = len(ai.following_ids)\\n    pag = paginate.Paginator(count)\\n    \\n    tem = jinjaEnv.get_template(\"listFollowing.html\")\\n    h = tem.render(\\n        id = id,\\n        user = user,\\n        ai = ai,\\n        count = count,\\n        pag = pag,\\n        table = followingTableH(ai, pag),\\n    )\\n    return h\\n \\ndef followingTableH(ai: models.AccountInfo, pag: paginate.Paginator) -> str:\\n    h = USER_INFO_TABLE_HEADER\\n    userIds = sorted(ai.following_ids)\\n    userIds2 = userIds[pag.skip:pag.skip+pag.numShow]\\n    for userId in userIds2:\\n        h += userInfoLine(userId)\\n    h += \"</table>\\\\n\"\\n    return h\\n\\nUSER_INFO_TABLE_HEADER = \"\"\"<table class=\\'bz-report-table\\'>\\n<tr>\\n    <th>User</th>\\n    <th>Posts</th>\\n    <th>Head<br>Posts</th>\\n    <th>Following</th>\\n    <th>Followers</th>\\n    <th>Real<br>Name</th>\\n    <th>Blog<br>Title</th>\\n</tr>\\n\"\"\"   \\n\\ndef userInfoLine(id: str) -> str:\\n    ai = models.getAccountInfo(id)\\n    numPosts = models.Message.count({\\'author_id\\': id})\\n    numHeadPosts = models.Message.count({\\n        \\'author_id\\': id,\\n        \\'replyTo_id\\': {\\'$in\\': [None, \\'\\']},  \\n    })\\n    numFollowing = len(ai.following_ids)\\n    numFollowers = models.AccountInfo.count({\\'following_ids\\': id})\\n\\n    h = form(\"\"\"<tr>\\n    <td><a href=\\'/blog/{user}\\'>@{user}</a></td> \\n    <td style=\\'text-align:right;\\'>{numPosts}</td> \\n    <td style=\\'text-align:right;\\'>{numHeadPosts}</td> \\n    <td style=\\'text-align:right;\\'>\\n        <a href=\\'/listFollowing/{user}\\'>{numFollowing}</a> &nbsp;\\n        <a href=\\'/followingMess/{user}\\'><i class=\\'fa fa-eye\\'></i></a></td> \\n    <td style=\\'text-align:right;\\'>\\n        <a href=\\'/listFollowers/{user}\\'>{numFollowers}</a> &nbsp;\\n        <a href=\\'/followerMess/{user}\\'>\\n            <i class=\\'fa fa-arrow-circle-left\\'></i></a></td>   \\n    <td>{realName}</td> \\n    <td>{title}</td> \\n</tr>\"\"\",\\n            user = id,\\n            numPosts = numPosts, \\n            numHeadPosts = numHeadPosts,\\n            numFollowing = numFollowing,\\n            numFollowers = numFollowers,\\n            realName = ai.asReadableH(\\'realName\\'),\\n            title = ai.asReadableH(\\'title\\'),\\n    )\\n    return h\\n    \\n \\n \\n\\n@app.route(\\'/listFollowers/<id>\\')\\ndef listFollowers(id):\\n    user = User.getDoc(id)\\n    count = models.AccountInfo.count({\\'following_ids\\': id})\\n    pag = paginate.Paginator(count)\\n    \\n    tem = jinjaEnv.get_template(\"listFollowers.html\")\\n    h = tem.render(\\n        id = id,\\n        user = user,\\n        count = count,\\n        pag = pag,\\n        table = followersTableH(id, pag),\\n    )\\n    return h\\n \\ndef followersTableH(id: str, pag: paginate.Paginator) -> str:\\n    h = USER_INFO_TABLE_HEADER\\n    followers = models.AccountInfo.find({\\'following_ids\\': id},\\n        skip=pag.skip, \\n        limit=pag.numShow, \\n        sort=\\'_id\\')\\n    for follower in followers:\\n        h += userInfoLine(follower._id)\\n    h += \"</table>\\\\n\"\\n    return h\\n \\n\\n\\n@app.route(\\'/userList\\')\\ndef userList():\\n    count = User.count()\\n    pag = paginate.Paginator(count)\\n    tem = jinjaEnv.get_template(\"userList.html\")\\n    h = tem.render(\\n        count = count,\\n        pag = pag,\\n        table = userListTableH(pag),\\n    )\\n    return h\\n\\ndef userListTableH(pag):\\n    h = USER_INFO_TABLE_HEADER\\n    users = User.find(\\n        skip=pag.skip, \\n        limit=pag.numShow, \\n        sort=\\'_id\\')\\n    for u in users:\\n        h += userInfoLine(u._id)\\n    h += \"</table>\\\\n\"\\n    return h\\n \\n\\nclass FollowingFormatter(messlist.ListFormatter):\\n    \\n    def __init__(self, id: str):\\n        super().__init__()\\n        self.id = id\\n        ai = models.getAccountInfo(id)\\n        self.q = {\\'author_id\\': {\\'$in\\': ai.following_ids}}\\n    \\n    def pageUrl(self) -> str:\\n        return \"/followingMess/\" + id\\n    \\n    def getFeedGenerator(self) -> FeedGenerator:\\n        fg = FeedGenerator()\\n        fg.title(\"%s - Newsfeed for @%s\" % (config.SITE_NAME, self.id))\\n        fg.link(href=\"%s/followingMess/%s\" % (config.SITE_STUB, self.id))\\n        fg.description(\"Newsfeed for @%s\" % (self.id,))\\n        return fg\\n\\n@app.route(\\'/followingMess/<id>\\')\\ndef followingMess(id): \\n    user = User.getDoc(id)\\n    lf = FollowingFormatter(id)\\n    tem = jinjaEnv.get_template(\"followingMess.html\")\\n    \\n    h = tem.render(\\n        id = id,\\n        user = user,\\n        lf = lf,\\n    )\\n    return h\\n\\n@app.route(\\'/rss/followingMess/<id>\\') \\ndef rss_followingMess(id):\\n    lf = FollowingFormatter(id)\\n    xml = lf.renderRss()\\n    return Response(xml, mimetype=\"text/xml\")\\n\\n@app.route(\\'/au/followingMess/<id>\\')\\ndef au_followingMess(id):\\n    lf = FollowingFormatter(id)\\n    ts = lf.mostRecentTimeStamp()\\n    tsj = json.dumps({\\'ts\\':ts})\\n    return tsj   \\n     \\n\\nclass FollowerFormatter(messlist.ListFormatter):\\n    \\n    def __init__(self, id: str):\\n        super().__init__()\\n        self.id = id\\n        followers = models.AccountInfo.find({\\'following_ids\\': id})\\n        follower_ids = [f._id for f in followers]\\n        self.q = {\\'author_id\\': {\\'$in\\': follower_ids}}\\n    \\n    def pageUrl(self) -> str:\\n        return \"/followerMess/\" + id\\n    \\n    def getFeedGenerator(self) -> FeedGenerator:\\n        fg = FeedGenerator()\\n        fg.title(\"%s - Followers of @%s\" % (config.SITE_NAME, self.id))\\n        fg.link(href=\"%s/followerMess/%s\" % (config.SITE_STUB, self.id))\\n        fg.description(\"Followers of @%s\" % (self.id,))\\n        return fg\\n\\n@app.route(\\'/followerMess/<id>\\')\\ndef followerMess(id): \\n    user = User.getDoc(id)\\n    lf = FollowerFormatter(id)\\n    tem = jinjaEnv.get_template(\"followerMess.html\")\\n    \\n    h = tem.render(\\n        id = id,\\n        user = user,\\n        lf = lf,\\n    )\\n    return h\\n\\n@app.route(\\'/rss/followerMess/<id>\\') \\ndef rss_followerMess(id):\\n    lf = FollowerFormatter(id)\\n    xml = lf.renderRss()\\n    return Response(xml, mimetype=\"text/xml\")\\n  \\n@app.route(\\'/au/followerMess/<id>\\')\\ndef au_followerMess(id):\\n    lf = FollowerFormatter(id)\\n    ts = lf.mostRecentTimeStamp()\\n    tsj = json.dumps({\\'ts\\':ts})\\n    return tsj   \\n    \\n \\n\\n>>\\nCode 2:\\n<<\\nfrom typing import *\\nimport json\\n \\nfrom feedgen.feed import FeedGenerator\\nfrom flask import request, redirect, Response\\n\\nfrom bozen.butil import pr, prn, dpr, form, htmlEsc\\nfrom bozen import FormDoc, MonDoc, BzDate, BzDateTime\\nfrom bozen import paginate\\n\\nimport config\\nfrom allpages import app, jinjaEnv\\nimport ht\\nfrom userdb import User\\nimport models\\nfrom permission import needUser, currentUserName\\n\\nimport messlist\\n   \\n\\n@app.route(\\'/listFollowing/<id>\\')\\ndef listFollowing(id):\\n    user = User.getDoc(id)\\n    ai = models.getAccountInfo(id)\\n    count = len(ai.following_ids)\\n    pag = paginate.Paginator(count)\\n    \\n    tem = jinjaEnv.get_template(\"listFollowing.html\")\\n    h = tem.render(\\n        id = id,\\n        user = user,\\n        ai = ai,\\n        count = count,\\n        pag = pag,\\n        table = followingTableH(ai, pag),\\n    )\\n    return h\\n \\ndef followingTableH(ai: models.AccountInfo, pag: paginate.Paginator) -> str:\\n    h = USER_INFO_TABLE_HEADER\\n    userIds = sorted(ai.following_ids)\\n    userIds2 = userIds[pag.skip:pag.skip+pag.numShow]\\n    for userId in userIds2:\\n        h += userInfoLine(userId)\\n    h += \"</table>\\\\n\"\\n    return h\\n\\nUSER_INFO_TABLE_HEADER = \"\"\"<table class=\\'bz-report-table\\'>\\n<tr>\\n    <th>User</th>\\n    <th>Posts</th>\\n    <th>Head<br>Posts</th>\\n    <th>Following</th>\\n    <th>Followers</th>\\n    <th>Real<br>Name</th>\\n    <th>Blog<br>Title</th>\\n</tr>\\n\"\"\"   \\n\\ndef userInfoLine(id: str) -> str:\\n    ai = models.getAccountInfo(id)\\n    numPosts = models.Message.count({\\'author_id\\': id})\\n    numHeadPosts = models.Message.count({\\n        \\'author_id\\': id,\\n        \\'replyTo_id\\': {\\'$in\\': [None, \\'\\']},  \\n    })\\n    numFollowing = len(ai.following_ids)\\n    numFollowers = models.AccountInfo.count({\\'following_ids\\': id})\\n\\n    h = form(\"\"\"<tr>\\n    <td><a href=\\'/blog/{user}\\'>@{user}</a></td> \\n    <td style=\\'text-align:right;\\'>{numPosts}</td> \\n    <td style=\\'text-align:right;\\'>{numHeadPosts}</td> \\n    <td style=\\'text-align:right;\\'>\\n        <a href=\\'/listFollowing/{user}\\'>{numFollowing}</a> &nbsp;\\n        <a href=\\'/followingMess/{user}\\'><i class=\\'fa fa-eye\\'></i></a></td> \\n    <td style=\\'text-align:right;\\'>\\n        <a href=\\'/listFollowers/{user}\\'>{numFollowers}</a> &nbsp;\\n        <a href=\\'/followerMess/{user}\\'>\\n            <i class=\\'fa fa-arrow-circle-left\\'></i></a></td>   \\n    <td>{realName}</td> \\n    <td>{title}</td> \\n</tr>\"\"\",\\n            user = id,\\n            numPosts = numPosts, \\n            numHeadPosts = numHeadPosts,\\n            numFollowing = numFollowing,\\n            numFollowers = numFollowers,\\n            realName = ai.asReadableH(\\'realName\\'),\\n            title = ai.asReadableH(\\'title\\'),\\n    )\\n    return h\\n    \\n \\n \\n\\n@app.route(\\'/listFollowers/<id>\\')\\ndef listFollowers(id):\\n    user = User.getDoc(id)\\n    count = models.AccountInfo.count({\\'following_ids\\': id})\\n    pag = paginate.Paginator(count)\\n    \\n    tem = jinjaEnv.get_template(\"listFollowers.html\")\\n    h = tem.render(\\n        id = id,\\n        user = user,\\n        count = count,\\n        pag = pag,\\n        table = followersTableH(id, pag),\\n    )\\n    return h\\n \\ndef followersTableH(id: str, pag: paginate.Paginator) -> str:\\n    h = USER_INFO_TABLE_HEADER\\n    followers = models.AccountInfo.find({\\'following_ids\\': id},\\n        skip=pag.skip, \\n        limit=pag.numShow, \\n        sort=\\'_id\\')\\n    for follower in followers:\\n        h += userInfoLine(follower._id)\\n    h += \"</table>\\\\n\"\\n    return h\\n \\n\\n\\n@app.route(\\'/userList\\')\\ndef userList():\\n    count = User.count()\\n    pag = paginate.Paginator(count)\\n    tem = jinjaEnv.get_template(\"userList.html\")\\n    h = tem.render(\\n        count = count,\\n        pag = pag,\\n        table = userListTableH(pag),\\n    )\\n    return h\\n\\ndef userListTableH(pag):\\n    h = USER_INFO_TABLE_HEADER\\n    users = User.find(\\n        skip=pag.skip, \\n        limit=pag.numShow, \\n        sort=\\'_id\\')\\n    for u in users:\\n        h += userInfoLine(u._id)\\n    h += \"</table>\\\\n\"\\n    return h\\n \\n\\nclass FollowingFormatter(messlist.ListFormatter):\\n    \\n    def __init__(self, id: str):\\n        super().__init__()\\n        self.id = id\\n        ai = models.getAccountInfo(id)\\n        self.q = {\\'author_id\\': {\\'$in\\': ai.following_ids}}\\n    \\n    def pageUrl(self) -> str:\\n        return \"/followingMess/\" + id\\n    \\n    def getFeedGenerator(self) -> FeedGenerator:\\n        fg = FeedGenerator()\\n        fg.title(\"%s - Newsfeed for @%s\" % (config.SITE_NAME, self.id))\\n        fg.link(href=\"%s/followingMess/%s\" % (config.SITE_STUB, self.id))\\n        fg.description(\"Newsfeed for @%s\" % (self.id,))\\n        return fg\\n\\n@app.route(\\'/followingMess/<id>\\')\\ndef followingMess(id): \\n    user = User.getDoc(id)\\n    lf = FollowingFormatter(id)\\n    tem = jinjaEnv.get_template(\"followingMess.html\")\\n    \\n    h = tem.render(\\n        id = id,\\n        user = user,\\n        lf = lf,\\n    )\\n    return h\\n\\n@app.route(\\'/rss/followingMess/<id>\\') \\ndef rss_followingMess(id):\\n    lf = FollowingFormatter(id)\\n    xml = lf.renderRss()\\n    return Response(xml, mimetype=\"text/xml\")\\n\\n@app.route(\\'/au/followingMess/<id>\\')\\ndef au_followingMess(id):\\n    lf = FollowingFormatter(id)\\n    ts = lf.mostRecentTimeStamp()\\n    tsj = json.dumps({\\'ts\\':ts})\\n    return tsj   \\n     \\n\\nclass FollowerFormatter(messlist.ListFormatter):\\n    \\n    def __init__(self, id: str):\\n        super().__init__()\\n        self.id = id\\n        followers = models.AccountInfo.find({\\'following_ids\\': id})\\n        follower_ids = [f._id for f in followers]\\n        self.q = {\\'author_id\\': {\\'$in\\': follower_ids}}\\n    \\n    def pageUrl(self) -> str:\\n        return \"/followerMess/\" + id\\n    \\n    def getFeedGenerator(self) -> FeedGenerator:\\n        fg = FeedGenerator()\\n        fg.title(\"%s - Followers of @%s\" % (config.SITE_NAME, self.id))\\n        fg.link(href=\"%s/followerMess/%s\" % (config.SITE_STUB, self.id))\\n        fg.description(\"Followers of @%s\" % (self.id,))\\n        return fg\\n\\n@app.route(\\'/followerMess/<id>\\')\\ndef followerMess(id): \\n    user = User.getDoc(id)\\n    lf = FollowerFormatter(id)\\n    tem = jinjaEnv.get_template(\"followerMess.html\")\\n    \\n    h = tem.render(\\n        id = id,\\n        user = user,\\n        lf = lf,\\n    )\\n    return h\\n\\n@app.route(\\'/rss/followerMess/<id>\\') \\ndef rss_followerMess(id):\\n    lf = FollowerFormatter(id)\\n    xml = lf.renderRss()\\n    return Response(xml, mimetype=\"text/xml\")\\n  \\n@app.route(\\'/au/followerMess/<id>\\')\\ndef au_followerMess(id):\\n    lf = FollowerFormatter(id)\\n    ts = lf.mostRecentTimeStamp()\\n    tsj = json.dumps({\\'ts\\':ts})\\n    return tsj   \\n    \\n\\n>>'),)\n"
     ]
    }
   ],
   "source": [
    "# train the model\n",
    "from spot.train import train_spot_model\n",
    "\n",
    "train_args = ModelTrainingArgs(\n",
    "    train_max_tokens=max_tokens_per_file,\n",
    "    eval_max_tokens=2 * max_tokens_per_file,\n",
    "    max_epochs=3,\n",
    ")\n",
    "\n",
    "r0_wrapper, r0_extra = train_spot_model(\n",
    "    src_datasets,\n",
    "    r0_model_name,\n",
    "    dec_args=dec_args,\n",
    "    train_args=train_args,\n",
    "    record_batches=train_R1,\n",
    "    quicktest=quicktest,\n",
    "    use_small_model=False,\n",
    ")\n"
   ]
  },
  {
   "cell_type": "code",
   "execution_count": null,
   "metadata": {},
   "outputs": [],
   "source": [
    "from spot.train import R1_srcs_from_extra\n",
    "\n",
    "r0_wrapper = ModelWrapper.from_pretrained(\n",
    "    datadir / f\"checkpoints/lit-saved/{r0_model_name}\"\n",
    ")\n",
    "\n",
    "chunks: dict[str, ChunkedDataset] = {}\n",
    "with run_long_task(\"Preparing chunked datasets\", notify=False):\n",
    "    for n in [\"valid\", \"test\", \"train\"]:\n",
    "        src = src_datasets[n]\n",
    "        chunks[n] = src.to_chunks(r0_wrapper.tokenizer, dec_args.ctx_args)\n",
    "\n",
    "r0_extra = pickle_load(datadir / \"checkpoints/lit-running\" / r0_model_name / \"extra.pickle\")\n",
    "ckpt_dir = datadir / \"checkpoints/lit-running\" / r0_model_name / \"models\"\n",
    "\n",
    "R1_srcs_from_extra(\n",
    "    r0_wrapper,\n",
    "    src_datasets,\n",
    "    chunks,\n",
    "    r0_extra,\n",
    "    ckpt_dir,\n",
    "    ckpt_interval=350,\n",
    ")\n",
    "datadir / \"checkpoints/lit-running\" / r0_model_name / \"extra.pickle\""
   ]
  },
  {
   "cell_type": "code",
   "execution_count": 10,
   "metadata": {},
   "outputs": [
    {
     "name": "stdout",
     "output_type": "stream",
     "text": [
      "DecodingArgs(ctx_args=CtxArgs(left=512, window=3072, right=512), sampling_max_tokens=16384, max_workers=20, max_tokens_per_type=10, do_sample=False, top_p=0.9, num_beams=None)\n"
     ]
    }
   ],
   "source": [
    "# load trained model\n",
    "from spot.utils import pickle_load, pickle_dump\n",
    "\n",
    "r0_wrapper = ModelWrapper.from_pretrained(\n",
    "    datadir / f\"checkpoints/lit-saved/{r0_model_name}\"\n",
    ")\n",
    "if train_R1:\n",
    "    r0_extra = pickle_load(datadir / f\"checkpoints/lit-saved/{r0_model_name}/extra.pkl\")\n",
    "    r1_src_datasets: dict[str, SrcDataset] = r0_extra[\"R1-src_datasets\"]\n",
    "device = torch.device(\"cuda:0\" if torch.cuda.is_available() else \"cpu\")\n",
    "r0_wrapper.to(device)\n",
    "r0_wrapper.args.do_sample = False\n",
    "print(r0_wrapper.args)\n"
   ]
  },
  {
   "cell_type": "code",
   "execution_count": null,
   "metadata": {},
   "outputs": [
    {
     "name": "stdout",
     "output_type": "stream",
     "text": [
      "total_feedbacks: 13\n",
      "top_feedbacks:\n",
      "   attr-defined: 4\n",
      "   return-value: 3\n",
      "   type-arg: 2\n",
      "   return: 1\n",
      "   assignment: 1\n",
      "   name-defined: 1\n",
      "   syntax: 1\n"
     ]
    },
    {
     "data": {
      "application/vnd.plotly.v1+json": {
       "config": {
        "plotlyServerURL": "https://plot.ly"
       },
       "data": [
        {
         "alignmentgroup": "True",
         "hovertemplate": "error_code=%{x}<br>count=%{y}<extra></extra>",
         "legendgroup": "",
         "marker": {
          "color": "#636efa",
          "pattern": {
           "shape": ""
          }
         },
         "name": "",
         "offsetgroup": "",
         "orientation": "v",
         "showlegend": false,
         "textposition": "auto",
         "type": "bar",
         "x": [
          "attr-defined",
          "return-value",
          "type-arg",
          "return",
          "assignment",
          "name-defined",
          "syntax"
         ],
         "xaxis": "x",
         "y": [
          4,
          3,
          2,
          1,
          1,
          1,
          1
         ],
         "yaxis": "y"
        }
       ],
       "layout": {
        "barmode": "relative",
        "legend": {
         "tracegroupgap": 0
        },
        "template": {
         "data": {
          "bar": [
           {
            "error_x": {
             "color": "#2a3f5f"
            },
            "error_y": {
             "color": "#2a3f5f"
            },
            "marker": {
             "line": {
              "color": "#E5ECF6",
              "width": 0.5
             },
             "pattern": {
              "fillmode": "overlay",
              "size": 10,
              "solidity": 0.2
             }
            },
            "type": "bar"
           }
          ],
          "barpolar": [
           {
            "marker": {
             "line": {
              "color": "#E5ECF6",
              "width": 0.5
             },
             "pattern": {
              "fillmode": "overlay",
              "size": 10,
              "solidity": 0.2
             }
            },
            "type": "barpolar"
           }
          ],
          "carpet": [
           {
            "aaxis": {
             "endlinecolor": "#2a3f5f",
             "gridcolor": "white",
             "linecolor": "white",
             "minorgridcolor": "white",
             "startlinecolor": "#2a3f5f"
            },
            "baxis": {
             "endlinecolor": "#2a3f5f",
             "gridcolor": "white",
             "linecolor": "white",
             "minorgridcolor": "white",
             "startlinecolor": "#2a3f5f"
            },
            "type": "carpet"
           }
          ],
          "choropleth": [
           {
            "colorbar": {
             "outlinewidth": 0,
             "ticks": ""
            },
            "type": "choropleth"
           }
          ],
          "contour": [
           {
            "colorbar": {
             "outlinewidth": 0,
             "ticks": ""
            },
            "colorscale": [
             [
              0,
              "#0d0887"
             ],
             [
              0.1111111111111111,
              "#46039f"
             ],
             [
              0.2222222222222222,
              "#7201a8"
             ],
             [
              0.3333333333333333,
              "#9c179e"
             ],
             [
              0.4444444444444444,
              "#bd3786"
             ],
             [
              0.5555555555555556,
              "#d8576b"
             ],
             [
              0.6666666666666666,
              "#ed7953"
             ],
             [
              0.7777777777777778,
              "#fb9f3a"
             ],
             [
              0.8888888888888888,
              "#fdca26"
             ],
             [
              1,
              "#f0f921"
             ]
            ],
            "type": "contour"
           }
          ],
          "contourcarpet": [
           {
            "colorbar": {
             "outlinewidth": 0,
             "ticks": ""
            },
            "type": "contourcarpet"
           }
          ],
          "heatmap": [
           {
            "colorbar": {
             "outlinewidth": 0,
             "ticks": ""
            },
            "colorscale": [
             [
              0,
              "#0d0887"
             ],
             [
              0.1111111111111111,
              "#46039f"
             ],
             [
              0.2222222222222222,
              "#7201a8"
             ],
             [
              0.3333333333333333,
              "#9c179e"
             ],
             [
              0.4444444444444444,
              "#bd3786"
             ],
             [
              0.5555555555555556,
              "#d8576b"
             ],
             [
              0.6666666666666666,
              "#ed7953"
             ],
             [
              0.7777777777777778,
              "#fb9f3a"
             ],
             [
              0.8888888888888888,
              "#fdca26"
             ],
             [
              1,
              "#f0f921"
             ]
            ],
            "type": "heatmap"
           }
          ],
          "heatmapgl": [
           {
            "colorbar": {
             "outlinewidth": 0,
             "ticks": ""
            },
            "colorscale": [
             [
              0,
              "#0d0887"
             ],
             [
              0.1111111111111111,
              "#46039f"
             ],
             [
              0.2222222222222222,
              "#7201a8"
             ],
             [
              0.3333333333333333,
              "#9c179e"
             ],
             [
              0.4444444444444444,
              "#bd3786"
             ],
             [
              0.5555555555555556,
              "#d8576b"
             ],
             [
              0.6666666666666666,
              "#ed7953"
             ],
             [
              0.7777777777777778,
              "#fb9f3a"
             ],
             [
              0.8888888888888888,
              "#fdca26"
             ],
             [
              1,
              "#f0f921"
             ]
            ],
            "type": "heatmapgl"
           }
          ],
          "histogram": [
           {
            "marker": {
             "pattern": {
              "fillmode": "overlay",
              "size": 10,
              "solidity": 0.2
             }
            },
            "type": "histogram"
           }
          ],
          "histogram2d": [
           {
            "colorbar": {
             "outlinewidth": 0,
             "ticks": ""
            },
            "colorscale": [
             [
              0,
              "#0d0887"
             ],
             [
              0.1111111111111111,
              "#46039f"
             ],
             [
              0.2222222222222222,
              "#7201a8"
             ],
             [
              0.3333333333333333,
              "#9c179e"
             ],
             [
              0.4444444444444444,
              "#bd3786"
             ],
             [
              0.5555555555555556,
              "#d8576b"
             ],
             [
              0.6666666666666666,
              "#ed7953"
             ],
             [
              0.7777777777777778,
              "#fb9f3a"
             ],
             [
              0.8888888888888888,
              "#fdca26"
             ],
             [
              1,
              "#f0f921"
             ]
            ],
            "type": "histogram2d"
           }
          ],
          "histogram2dcontour": [
           {
            "colorbar": {
             "outlinewidth": 0,
             "ticks": ""
            },
            "colorscale": [
             [
              0,
              "#0d0887"
             ],
             [
              0.1111111111111111,
              "#46039f"
             ],
             [
              0.2222222222222222,
              "#7201a8"
             ],
             [
              0.3333333333333333,
              "#9c179e"
             ],
             [
              0.4444444444444444,
              "#bd3786"
             ],
             [
              0.5555555555555556,
              "#d8576b"
             ],
             [
              0.6666666666666666,
              "#ed7953"
             ],
             [
              0.7777777777777778,
              "#fb9f3a"
             ],
             [
              0.8888888888888888,
              "#fdca26"
             ],
             [
              1,
              "#f0f921"
             ]
            ],
            "type": "histogram2dcontour"
           }
          ],
          "mesh3d": [
           {
            "colorbar": {
             "outlinewidth": 0,
             "ticks": ""
            },
            "type": "mesh3d"
           }
          ],
          "parcoords": [
           {
            "line": {
             "colorbar": {
              "outlinewidth": 0,
              "ticks": ""
             }
            },
            "type": "parcoords"
           }
          ],
          "pie": [
           {
            "automargin": true,
            "type": "pie"
           }
          ],
          "scatter": [
           {
            "fillpattern": {
             "fillmode": "overlay",
             "size": 10,
             "solidity": 0.2
            },
            "type": "scatter"
           }
          ],
          "scatter3d": [
           {
            "line": {
             "colorbar": {
              "outlinewidth": 0,
              "ticks": ""
             }
            },
            "marker": {
             "colorbar": {
              "outlinewidth": 0,
              "ticks": ""
             }
            },
            "type": "scatter3d"
           }
          ],
          "scattercarpet": [
           {
            "marker": {
             "colorbar": {
              "outlinewidth": 0,
              "ticks": ""
             }
            },
            "type": "scattercarpet"
           }
          ],
          "scattergeo": [
           {
            "marker": {
             "colorbar": {
              "outlinewidth": 0,
              "ticks": ""
             }
            },
            "type": "scattergeo"
           }
          ],
          "scattergl": [
           {
            "marker": {
             "colorbar": {
              "outlinewidth": 0,
              "ticks": ""
             }
            },
            "type": "scattergl"
           }
          ],
          "scattermapbox": [
           {
            "marker": {
             "colorbar": {
              "outlinewidth": 0,
              "ticks": ""
             }
            },
            "type": "scattermapbox"
           }
          ],
          "scatterpolar": [
           {
            "marker": {
             "colorbar": {
              "outlinewidth": 0,
              "ticks": ""
             }
            },
            "type": "scatterpolar"
           }
          ],
          "scatterpolargl": [
           {
            "marker": {
             "colorbar": {
              "outlinewidth": 0,
              "ticks": ""
             }
            },
            "type": "scatterpolargl"
           }
          ],
          "scatterternary": [
           {
            "marker": {
             "colorbar": {
              "outlinewidth": 0,
              "ticks": ""
             }
            },
            "type": "scatterternary"
           }
          ],
          "surface": [
           {
            "colorbar": {
             "outlinewidth": 0,
             "ticks": ""
            },
            "colorscale": [
             [
              0,
              "#0d0887"
             ],
             [
              0.1111111111111111,
              "#46039f"
             ],
             [
              0.2222222222222222,
              "#7201a8"
             ],
             [
              0.3333333333333333,
              "#9c179e"
             ],
             [
              0.4444444444444444,
              "#bd3786"
             ],
             [
              0.5555555555555556,
              "#d8576b"
             ],
             [
              0.6666666666666666,
              "#ed7953"
             ],
             [
              0.7777777777777778,
              "#fb9f3a"
             ],
             [
              0.8888888888888888,
              "#fdca26"
             ],
             [
              1,
              "#f0f921"
             ]
            ],
            "type": "surface"
           }
          ],
          "table": [
           {
            "cells": {
             "fill": {
              "color": "#EBF0F8"
             },
             "line": {
              "color": "white"
             }
            },
            "header": {
             "fill": {
              "color": "#C8D4E3"
             },
             "line": {
              "color": "white"
             }
            },
            "type": "table"
           }
          ]
         },
         "layout": {
          "annotationdefaults": {
           "arrowcolor": "#2a3f5f",
           "arrowhead": 0,
           "arrowwidth": 1
          },
          "autotypenumbers": "strict",
          "coloraxis": {
           "colorbar": {
            "outlinewidth": 0,
            "ticks": ""
           }
          },
          "colorscale": {
           "diverging": [
            [
             0,
             "#8e0152"
            ],
            [
             0.1,
             "#c51b7d"
            ],
            [
             0.2,
             "#de77ae"
            ],
            [
             0.3,
             "#f1b6da"
            ],
            [
             0.4,
             "#fde0ef"
            ],
            [
             0.5,
             "#f7f7f7"
            ],
            [
             0.6,
             "#e6f5d0"
            ],
            [
             0.7,
             "#b8e186"
            ],
            [
             0.8,
             "#7fbc41"
            ],
            [
             0.9,
             "#4d9221"
            ],
            [
             1,
             "#276419"
            ]
           ],
           "sequential": [
            [
             0,
             "#0d0887"
            ],
            [
             0.1111111111111111,
             "#46039f"
            ],
            [
             0.2222222222222222,
             "#7201a8"
            ],
            [
             0.3333333333333333,
             "#9c179e"
            ],
            [
             0.4444444444444444,
             "#bd3786"
            ],
            [
             0.5555555555555556,
             "#d8576b"
            ],
            [
             0.6666666666666666,
             "#ed7953"
            ],
            [
             0.7777777777777778,
             "#fb9f3a"
            ],
            [
             0.8888888888888888,
             "#fdca26"
            ],
            [
             1,
             "#f0f921"
            ]
           ],
           "sequentialminus": [
            [
             0,
             "#0d0887"
            ],
            [
             0.1111111111111111,
             "#46039f"
            ],
            [
             0.2222222222222222,
             "#7201a8"
            ],
            [
             0.3333333333333333,
             "#9c179e"
            ],
            [
             0.4444444444444444,
             "#bd3786"
            ],
            [
             0.5555555555555556,
             "#d8576b"
            ],
            [
             0.6666666666666666,
             "#ed7953"
            ],
            [
             0.7777777777777778,
             "#fb9f3a"
            ],
            [
             0.8888888888888888,
             "#fdca26"
            ],
            [
             1,
             "#f0f921"
            ]
           ]
          },
          "colorway": [
           "#636efa",
           "#EF553B",
           "#00cc96",
           "#ab63fa",
           "#FFA15A",
           "#19d3f3",
           "#FF6692",
           "#B6E880",
           "#FF97FF",
           "#FECB52"
          ],
          "font": {
           "color": "#2a3f5f"
          },
          "geo": {
           "bgcolor": "white",
           "lakecolor": "white",
           "landcolor": "#E5ECF6",
           "showlakes": true,
           "showland": true,
           "subunitcolor": "white"
          },
          "hoverlabel": {
           "align": "left"
          },
          "hovermode": "closest",
          "mapbox": {
           "style": "light"
          },
          "paper_bgcolor": "white",
          "plot_bgcolor": "#E5ECF6",
          "polar": {
           "angularaxis": {
            "gridcolor": "white",
            "linecolor": "white",
            "ticks": ""
           },
           "bgcolor": "#E5ECF6",
           "radialaxis": {
            "gridcolor": "white",
            "linecolor": "white",
            "ticks": ""
           }
          },
          "scene": {
           "xaxis": {
            "backgroundcolor": "#E5ECF6",
            "gridcolor": "white",
            "gridwidth": 2,
            "linecolor": "white",
            "showbackground": true,
            "ticks": "",
            "zerolinecolor": "white"
           },
           "yaxis": {
            "backgroundcolor": "#E5ECF6",
            "gridcolor": "white",
            "gridwidth": 2,
            "linecolor": "white",
            "showbackground": true,
            "ticks": "",
            "zerolinecolor": "white"
           },
           "zaxis": {
            "backgroundcolor": "#E5ECF6",
            "gridcolor": "white",
            "gridwidth": 2,
            "linecolor": "white",
            "showbackground": true,
            "ticks": "",
            "zerolinecolor": "white"
           }
          },
          "shapedefaults": {
           "line": {
            "color": "#2a3f5f"
           }
          },
          "ternary": {
           "aaxis": {
            "gridcolor": "white",
            "linecolor": "white",
            "ticks": ""
           },
           "baxis": {
            "gridcolor": "white",
            "linecolor": "white",
            "ticks": ""
           },
           "bgcolor": "#E5ECF6",
           "caxis": {
            "gridcolor": "white",
            "linecolor": "white",
            "ticks": ""
           }
          },
          "title": {
           "x": 0.05
          },
          "xaxis": {
           "automargin": true,
           "gridcolor": "white",
           "linecolor": "white",
           "ticks": "",
           "title": {
            "standoff": 15
           },
           "zerolinecolor": "white",
           "zerolinewidth": 2
          },
          "yaxis": {
           "automargin": true,
           "gridcolor": "white",
           "linecolor": "white",
           "ticks": "",
           "title": {
            "standoff": 15
           },
           "zerolinecolor": "white",
           "zerolinewidth": 2
          }
         }
        },
        "title": {
         "text": "Error code frequencies"
        },
        "xaxis": {
         "anchor": "y",
         "domain": [
          0,
          1
         ],
         "title": {
          "text": "error_code"
         }
        },
        "yaxis": {
         "anchor": "x",
         "domain": [
          0,
          1
         ],
         "title": {
          "text": "count"
         }
        }
       }
      },
      "text/html": [
       "<div>                            <div id=\"3e676c86-28a8-4b74-8649-1b4411db7a96\" class=\"plotly-graph-div\" style=\"height:525px; width:100%;\"></div>            <script type=\"text/javascript\">                require([\"plotly\"], function(Plotly) {                    window.PLOTLYENV=window.PLOTLYENV || {};                                    if (document.getElementById(\"3e676c86-28a8-4b74-8649-1b4411db7a96\")) {                    Plotly.newPlot(                        \"3e676c86-28a8-4b74-8649-1b4411db7a96\",                        [{\"alignmentgroup\":\"True\",\"hovertemplate\":\"error_code=%{x}<br>count=%{y}<extra></extra>\",\"legendgroup\":\"\",\"marker\":{\"color\":\"#636efa\",\"pattern\":{\"shape\":\"\"}},\"name\":\"\",\"offsetgroup\":\"\",\"orientation\":\"v\",\"showlegend\":false,\"textposition\":\"auto\",\"x\":[\"attr-defined\",\"return-value\",\"type-arg\",\"return\",\"assignment\",\"name-defined\",\"syntax\"],\"xaxis\":\"x\",\"y\":[4,3,2,1,1,1,1],\"yaxis\":\"y\",\"type\":\"bar\"}],                        {\"template\":{\"data\":{\"histogram2dcontour\":[{\"type\":\"histogram2dcontour\",\"colorbar\":{\"outlinewidth\":0,\"ticks\":\"\"},\"colorscale\":[[0.0,\"#0d0887\"],[0.1111111111111111,\"#46039f\"],[0.2222222222222222,\"#7201a8\"],[0.3333333333333333,\"#9c179e\"],[0.4444444444444444,\"#bd3786\"],[0.5555555555555556,\"#d8576b\"],[0.6666666666666666,\"#ed7953\"],[0.7777777777777778,\"#fb9f3a\"],[0.8888888888888888,\"#fdca26\"],[1.0,\"#f0f921\"]]}],\"choropleth\":[{\"type\":\"choropleth\",\"colorbar\":{\"outlinewidth\":0,\"ticks\":\"\"}}],\"histogram2d\":[{\"type\":\"histogram2d\",\"colorbar\":{\"outlinewidth\":0,\"ticks\":\"\"},\"colorscale\":[[0.0,\"#0d0887\"],[0.1111111111111111,\"#46039f\"],[0.2222222222222222,\"#7201a8\"],[0.3333333333333333,\"#9c179e\"],[0.4444444444444444,\"#bd3786\"],[0.5555555555555556,\"#d8576b\"],[0.6666666666666666,\"#ed7953\"],[0.7777777777777778,\"#fb9f3a\"],[0.8888888888888888,\"#fdca26\"],[1.0,\"#f0f921\"]]}],\"heatmap\":[{\"type\":\"heatmap\",\"colorbar\":{\"outlinewidth\":0,\"ticks\":\"\"},\"colorscale\":[[0.0,\"#0d0887\"],[0.1111111111111111,\"#46039f\"],[0.2222222222222222,\"#7201a8\"],[0.3333333333333333,\"#9c179e\"],[0.4444444444444444,\"#bd3786\"],[0.5555555555555556,\"#d8576b\"],[0.6666666666666666,\"#ed7953\"],[0.7777777777777778,\"#fb9f3a\"],[0.8888888888888888,\"#fdca26\"],[1.0,\"#f0f921\"]]}],\"heatmapgl\":[{\"type\":\"heatmapgl\",\"colorbar\":{\"outlinewidth\":0,\"ticks\":\"\"},\"colorscale\":[[0.0,\"#0d0887\"],[0.1111111111111111,\"#46039f\"],[0.2222222222222222,\"#7201a8\"],[0.3333333333333333,\"#9c179e\"],[0.4444444444444444,\"#bd3786\"],[0.5555555555555556,\"#d8576b\"],[0.6666666666666666,\"#ed7953\"],[0.7777777777777778,\"#fb9f3a\"],[0.8888888888888888,\"#fdca26\"],[1.0,\"#f0f921\"]]}],\"contourcarpet\":[{\"type\":\"contourcarpet\",\"colorbar\":{\"outlinewidth\":0,\"ticks\":\"\"}}],\"contour\":[{\"type\":\"contour\",\"colorbar\":{\"outlinewidth\":0,\"ticks\":\"\"},\"colorscale\":[[0.0,\"#0d0887\"],[0.1111111111111111,\"#46039f\"],[0.2222222222222222,\"#7201a8\"],[0.3333333333333333,\"#9c179e\"],[0.4444444444444444,\"#bd3786\"],[0.5555555555555556,\"#d8576b\"],[0.6666666666666666,\"#ed7953\"],[0.7777777777777778,\"#fb9f3a\"],[0.8888888888888888,\"#fdca26\"],[1.0,\"#f0f921\"]]}],\"surface\":[{\"type\":\"surface\",\"colorbar\":{\"outlinewidth\":0,\"ticks\":\"\"},\"colorscale\":[[0.0,\"#0d0887\"],[0.1111111111111111,\"#46039f\"],[0.2222222222222222,\"#7201a8\"],[0.3333333333333333,\"#9c179e\"],[0.4444444444444444,\"#bd3786\"],[0.5555555555555556,\"#d8576b\"],[0.6666666666666666,\"#ed7953\"],[0.7777777777777778,\"#fb9f3a\"],[0.8888888888888888,\"#fdca26\"],[1.0,\"#f0f921\"]]}],\"mesh3d\":[{\"type\":\"mesh3d\",\"colorbar\":{\"outlinewidth\":0,\"ticks\":\"\"}}],\"scatter\":[{\"fillpattern\":{\"fillmode\":\"overlay\",\"size\":10,\"solidity\":0.2},\"type\":\"scatter\"}],\"parcoords\":[{\"type\":\"parcoords\",\"line\":{\"colorbar\":{\"outlinewidth\":0,\"ticks\":\"\"}}}],\"scatterpolargl\":[{\"type\":\"scatterpolargl\",\"marker\":{\"colorbar\":{\"outlinewidth\":0,\"ticks\":\"\"}}}],\"bar\":[{\"error_x\":{\"color\":\"#2a3f5f\"},\"error_y\":{\"color\":\"#2a3f5f\"},\"marker\":{\"line\":{\"color\":\"#E5ECF6\",\"width\":0.5},\"pattern\":{\"fillmode\":\"overlay\",\"size\":10,\"solidity\":0.2}},\"type\":\"bar\"}],\"scattergeo\":[{\"type\":\"scattergeo\",\"marker\":{\"colorbar\":{\"outlinewidth\":0,\"ticks\":\"\"}}}],\"scatterpolar\":[{\"type\":\"scatterpolar\",\"marker\":{\"colorbar\":{\"outlinewidth\":0,\"ticks\":\"\"}}}],\"histogram\":[{\"marker\":{\"pattern\":{\"fillmode\":\"overlay\",\"size\":10,\"solidity\":0.2}},\"type\":\"histogram\"}],\"scattergl\":[{\"type\":\"scattergl\",\"marker\":{\"colorbar\":{\"outlinewidth\":0,\"ticks\":\"\"}}}],\"scatter3d\":[{\"type\":\"scatter3d\",\"line\":{\"colorbar\":{\"outlinewidth\":0,\"ticks\":\"\"}},\"marker\":{\"colorbar\":{\"outlinewidth\":0,\"ticks\":\"\"}}}],\"scattermapbox\":[{\"type\":\"scattermapbox\",\"marker\":{\"colorbar\":{\"outlinewidth\":0,\"ticks\":\"\"}}}],\"scatterternary\":[{\"type\":\"scatterternary\",\"marker\":{\"colorbar\":{\"outlinewidth\":0,\"ticks\":\"\"}}}],\"scattercarpet\":[{\"type\":\"scattercarpet\",\"marker\":{\"colorbar\":{\"outlinewidth\":0,\"ticks\":\"\"}}}],\"carpet\":[{\"aaxis\":{\"endlinecolor\":\"#2a3f5f\",\"gridcolor\":\"white\",\"linecolor\":\"white\",\"minorgridcolor\":\"white\",\"startlinecolor\":\"#2a3f5f\"},\"baxis\":{\"endlinecolor\":\"#2a3f5f\",\"gridcolor\":\"white\",\"linecolor\":\"white\",\"minorgridcolor\":\"white\",\"startlinecolor\":\"#2a3f5f\"},\"type\":\"carpet\"}],\"table\":[{\"cells\":{\"fill\":{\"color\":\"#EBF0F8\"},\"line\":{\"color\":\"white\"}},\"header\":{\"fill\":{\"color\":\"#C8D4E3\"},\"line\":{\"color\":\"white\"}},\"type\":\"table\"}],\"barpolar\":[{\"marker\":{\"line\":{\"color\":\"#E5ECF6\",\"width\":0.5},\"pattern\":{\"fillmode\":\"overlay\",\"size\":10,\"solidity\":0.2}},\"type\":\"barpolar\"}],\"pie\":[{\"automargin\":true,\"type\":\"pie\"}]},\"layout\":{\"autotypenumbers\":\"strict\",\"colorway\":[\"#636efa\",\"#EF553B\",\"#00cc96\",\"#ab63fa\",\"#FFA15A\",\"#19d3f3\",\"#FF6692\",\"#B6E880\",\"#FF97FF\",\"#FECB52\"],\"font\":{\"color\":\"#2a3f5f\"},\"hovermode\":\"closest\",\"hoverlabel\":{\"align\":\"left\"},\"paper_bgcolor\":\"white\",\"plot_bgcolor\":\"#E5ECF6\",\"polar\":{\"bgcolor\":\"#E5ECF6\",\"angularaxis\":{\"gridcolor\":\"white\",\"linecolor\":\"white\",\"ticks\":\"\"},\"radialaxis\":{\"gridcolor\":\"white\",\"linecolor\":\"white\",\"ticks\":\"\"}},\"ternary\":{\"bgcolor\":\"#E5ECF6\",\"aaxis\":{\"gridcolor\":\"white\",\"linecolor\":\"white\",\"ticks\":\"\"},\"baxis\":{\"gridcolor\":\"white\",\"linecolor\":\"white\",\"ticks\":\"\"},\"caxis\":{\"gridcolor\":\"white\",\"linecolor\":\"white\",\"ticks\":\"\"}},\"coloraxis\":{\"colorbar\":{\"outlinewidth\":0,\"ticks\":\"\"}},\"colorscale\":{\"sequential\":[[0.0,\"#0d0887\"],[0.1111111111111111,\"#46039f\"],[0.2222222222222222,\"#7201a8\"],[0.3333333333333333,\"#9c179e\"],[0.4444444444444444,\"#bd3786\"],[0.5555555555555556,\"#d8576b\"],[0.6666666666666666,\"#ed7953\"],[0.7777777777777778,\"#fb9f3a\"],[0.8888888888888888,\"#fdca26\"],[1.0,\"#f0f921\"]],\"sequentialminus\":[[0.0,\"#0d0887\"],[0.1111111111111111,\"#46039f\"],[0.2222222222222222,\"#7201a8\"],[0.3333333333333333,\"#9c179e\"],[0.4444444444444444,\"#bd3786\"],[0.5555555555555556,\"#d8576b\"],[0.6666666666666666,\"#ed7953\"],[0.7777777777777778,\"#fb9f3a\"],[0.8888888888888888,\"#fdca26\"],[1.0,\"#f0f921\"]],\"diverging\":[[0,\"#8e0152\"],[0.1,\"#c51b7d\"],[0.2,\"#de77ae\"],[0.3,\"#f1b6da\"],[0.4,\"#fde0ef\"],[0.5,\"#f7f7f7\"],[0.6,\"#e6f5d0\"],[0.7,\"#b8e186\"],[0.8,\"#7fbc41\"],[0.9,\"#4d9221\"],[1,\"#276419\"]]},\"xaxis\":{\"gridcolor\":\"white\",\"linecolor\":\"white\",\"ticks\":\"\",\"title\":{\"standoff\":15},\"zerolinecolor\":\"white\",\"automargin\":true,\"zerolinewidth\":2},\"yaxis\":{\"gridcolor\":\"white\",\"linecolor\":\"white\",\"ticks\":\"\",\"title\":{\"standoff\":15},\"zerolinecolor\":\"white\",\"automargin\":true,\"zerolinewidth\":2},\"scene\":{\"xaxis\":{\"backgroundcolor\":\"#E5ECF6\",\"gridcolor\":\"white\",\"linecolor\":\"white\",\"showbackground\":true,\"ticks\":\"\",\"zerolinecolor\":\"white\",\"gridwidth\":2},\"yaxis\":{\"backgroundcolor\":\"#E5ECF6\",\"gridcolor\":\"white\",\"linecolor\":\"white\",\"showbackground\":true,\"ticks\":\"\",\"zerolinecolor\":\"white\",\"gridwidth\":2},\"zaxis\":{\"backgroundcolor\":\"#E5ECF6\",\"gridcolor\":\"white\",\"linecolor\":\"white\",\"showbackground\":true,\"ticks\":\"\",\"zerolinecolor\":\"white\",\"gridwidth\":2}},\"shapedefaults\":{\"line\":{\"color\":\"#2a3f5f\"}},\"annotationdefaults\":{\"arrowcolor\":\"#2a3f5f\",\"arrowhead\":0,\"arrowwidth\":1},\"geo\":{\"bgcolor\":\"white\",\"landcolor\":\"#E5ECF6\",\"subunitcolor\":\"white\",\"showland\":true,\"showlakes\":true,\"lakecolor\":\"white\"},\"title\":{\"x\":0.05},\"mapbox\":{\"style\":\"light\"}}},\"xaxis\":{\"anchor\":\"y\",\"domain\":[0.0,1.0],\"title\":{\"text\":\"error_code\"}},\"yaxis\":{\"anchor\":\"x\",\"domain\":[0.0,1.0],\"title\":{\"text\":\"count\"}},\"legend\":{\"tracegroupgap\":0},\"title\":{\"text\":\"Error code frequencies\"},\"barmode\":\"relative\"},                        {\"responsive\": true}                    ).then(function(){\n",
       "                            \n",
       "var gd = document.getElementById('3e676c86-28a8-4b74-8649-1b4411db7a96');\n",
       "var x = new MutationObserver(function (mutations, observer) {{\n",
       "        var display = window.getComputedStyle(gd).display;\n",
       "        if (!display || display === 'none') {{\n",
       "            console.log([gd, 'removed!']);\n",
       "            Plotly.purge(gd);\n",
       "            observer.disconnect();\n",
       "        }}\n",
       "}});\n",
       "\n",
       "// Listen for the removal of the full notebook cells\n",
       "var notebookContainer = gd.closest('#notebook-container');\n",
       "if (notebookContainer) {{\n",
       "    x.observe(notebookContainer, {childList: true});\n",
       "}}\n",
       "\n",
       "// Listen for the clearing of the current output cell\n",
       "var outputEl = gd.closest('.output');\n",
       "if (outputEl) {{\n",
       "    x.observe(outputEl, {childList: true});\n",
       "}}\n",
       "\n",
       "                        })                };                });            </script>        </div>"
      ]
     },
     "metadata": {},
     "output_type": "display_data"
    }
   ],
   "source": [
    "# checking mypy feedbacks\n",
    "\n",
    "from spot.type_env import MypyFeedback\n",
    "from spot.utils import groupby, pretty_print_accuracies\n",
    "\n",
    "\n",
    "def ground_truth_feedback(dataset: SrcDataset):\n",
    "    preds = {\n",
    "        f: {i: str(t) for i, t in enumerate(src.types)}\n",
    "        for f, src in dataset.file2src().items()\n",
    "    }\n",
    "    return dataset.add_type_checker_feedback(\n",
    "        r0_wrapper.tokenizer, preds, max_workers=20, tqdm_args={}\n",
    "    )\n",
    "\n",
    "\n",
    "def show_feedback_stats(new_dataset: SrcDataset):\n",
    "    fb_list: list[list[MypyFeedback]] = new_dataset.extra_stats[\"mypy_feedbacks\"]\n",
    "    stats = {}\n",
    "    stats[\"total_feedbacks\"] = sum(len(l) for l in fb_list)\n",
    "    error_code_counter = Counter[str]()\n",
    "    for l in fb_list:\n",
    "        for fb in l:\n",
    "            error_code_counter[fb.error_code] += 1\n",
    "    stats[\"top_feedbacks\"] = dict(error_code_counter.most_common(10))\n",
    "    pretty_print_accuracies(stats)\n",
    "    df = pd.DataFrame(error_code_counter.most_common(), columns=[\"error_code\", \"count\"])\n",
    "    display(px.bar(df, x=\"error_code\", y=\"count\", title=\"Error code frequencies\"))\n",
    "    fdbk_srcs = [(f, src) for src, fs in zip(new_dataset.all_srcs, fb_list) for f in fs]\n",
    "    error_groups = groupby(fdbk_srcs, lambda x: x[0].error_code)\n",
    "    return error_groups\n",
    "\n",
    "\n",
    "# new_src = ground_truth_feedback(src_datasets[\"test\"])\n",
    "if train_R1:\n",
    "    error_groups = show_feedback_stats(r1_src_datasets[\"test\"])\n"
   ]
  },
  {
   "cell_type": "code",
   "execution_count": null,
   "metadata": {},
   "outputs": [
    {
     "data": {
      "application/vnd.jupyter.widget-view+json": {
       "model_id": "f2565637307441b4b5940fa17c688fa0",
       "version_major": 2,
       "version_minor": 0
      },
      "text/plain": [
       "VBox(children=(HBox(children=(IntSlider(value=0, max=12), Label(value='(13 total)'))), Box(children=(Output(la…"
      ]
     },
     "metadata": {},
     "output_type": "display_data"
    }
   ],
   "source": [
    "from spot.visualization import visualize_sequence\n",
    "from spot.utils import seq_flatten\n",
    "\n",
    "\n",
    "def add_line_numbers(code: str):\n",
    "    lines = code.split(\"\\n\")\n",
    "    return \"\\n\".join(f\"{i+1:3d}|  {l}\" for i, l in enumerate(lines))\n",
    "\n",
    "\n",
    "if train_R1:\n",
    "    to_display = []\n",
    "    for xs in seq_flatten(error_groups.values()):\n",
    "        to_display.append(\n",
    "            f\"feedback: {xs[0]}\\n\"\n",
    "            + \"=========code=========\\n\"\n",
    "            + add_line_numbers(xs[1].origin_code)\n",
    "        )\n",
    "    display(visualize_sequence(to_display))\n"
   ]
  },
  {
   "cell_type": "code",
   "execution_count": 11,
   "metadata": {},
   "outputs": [],
   "source": [
    "# model evaluation\n",
    "\n",
    "import ipywidgets as widgets\n",
    "import plotly.express as px\n",
    "\n",
    "from spot.data import R1_srcs_from_preds, load_src_datasets, pretty_print_accuracies\n",
    "from spot.utils import PickleCache, assert_eq\n",
    "from spot.visualization import visualize_sequence\n",
    "\n",
    "\n",
    "def eval_model_helper(\n",
    "    r0_wrapper: ModelWrapper,\n",
    "    r1_wrapper: Optional[ModelWrapper],\n",
    "    eval_cache: PickleCache,\n",
    "    r0_srcs: SrcDataset,\n",
    "    reeval=False,\n",
    "):\n",
    "    if reeval:\n",
    "        eval_cache.clear()\n",
    "    r0_accs, r0_chunks, r0_preds = eval_cache.cached(\n",
    "        \"r0_eval.pkl\",\n",
    "        lambda: r0_wrapper.eval_on_dataset(r0_srcs, tqdm_args={\"leave\": False}),\n",
    "    )\n",
    "    if r1_wrapper is None:\n",
    "        return r0_accs\n",
    "\n",
    "    r1_srcs = eval_cache.cached(\n",
    "        \"r1_srcs.pkl\",\n",
    "        lambda: R1_srcs_from_preds(\n",
    "            r1_wrapper.tokenizer,\n",
    "            r0_srcs,\n",
    "            r0_chunks.chunks_info,\n",
    "            r0_chunks.files,\n",
    "            r0_preds,\n",
    "            max_workers=r0_wrapper.args.max_workers,\n",
    "        ),\n",
    "    )\n",
    "\n",
    "    r1_accs, _, _ = eval_cache.cached(\n",
    "        \"r1_eval.pkl\",\n",
    "        lambda: r1_wrapper.eval_on_dataset(r1_srcs, tqdm_args={\"leave\": False}),\n",
    "    )\n",
    "\n",
    "    return (r0_accs, r1_accs)\n",
    "\n",
    "\n",
    "def evaluate_model(\n",
    "    r0_wrapper: ModelWrapper,\n",
    "    r1_wrapper: Optional[ModelWrapper],\n",
    "    model_name: str,\n",
    "    r0_srcs: SrcDataset,\n",
    "    size_factors=[1],\n",
    "    reeval=False,\n",
    "):\n",
    "\n",
    "    acc_series = []\n",
    "    accs_seq = []\n",
    "    if r1_wrapper is not None:\n",
    "        assert_eq(r0_wrapper.args, r1_wrapper.args)\n",
    "    with run_long_task(f\"Evaluate accuracy vs ctx_size: {model_name}\"):\n",
    "        for factor in size_factors:\n",
    "            wrapper0 = r0_wrapper.scale_ctx_size(factor)\n",
    "            wrapper1 = (\n",
    "                r1_wrapper.scale_ctx_size(factor) if r1_wrapper is not None else None\n",
    "            )\n",
    "            eval_cache = PickleCache(\n",
    "                datadir / f\"checkpoints/lit-saved/{model_name}/eval-ctx_size={factor}\"\n",
    "            )\n",
    "            accs = eval_model_helper(\n",
    "                wrapper0, wrapper1, eval_cache, r0_srcs, reeval=reeval\n",
    "            )\n",
    "            if isinstance(accs, tuple):\n",
    "                acc_series.append(accs[1])\n",
    "                accs_seq.extend([(\"R0\", accs[0]), (\"R1\", accs[1])])\n",
    "            else:\n",
    "                accs_seq.extend([(\"R0\", accs)])\n",
    "                acc_series.append(accs)\n",
    "\n",
    "    def print_acc(i, expand):\n",
    "        m, a = accs_seq[i]\n",
    "        print(f\"model={m}, ctx_size_factor={factor}\")\n",
    "        print(f\"ctx_args: {wrapper0.args.ctx_args}\")\n",
    "        pretty_print_accuracies(a, max_show_level=100 if expand else 0)\n",
    "\n",
    "    display(widgets.interactive(print_acc, i=(0, len(accs_seq) - 1), expand=False))\n",
    "\n",
    "    if len(size_factors) > 1:\n",
    "        acc_df = pd.DataFrame(\n",
    "            {\n",
    "                \"ctx_size\": size_factors,\n",
    "                \"partial_acc\": [x[\"partial_acc\"] for x in acc_series],\n",
    "                \"full_acc\": [x[\"full_acc\"] for x in acc_series],\n",
    "                \"full_acc_strict\": [x[\"full_acc_strict\"] for x in acc_series],\n",
    "            }\n",
    "        )\n",
    "        display(\n",
    "            px.line(\n",
    "                acc_df,\n",
    "                x=\"ctx_size\",\n",
    "                y=[\"partial_acc\", \"full_acc\", \"full_acc_strict\"],\n",
    "                title=model_name,\n",
    "            )\n",
    "        )\n",
    "    return acc_series"
   ]
  },
  {
   "cell_type": "code",
   "execution_count": 7,
   "metadata": {},
   "outputs": [
    {
     "name": "stderr",
     "output_type": "stream",
     "text": [
      "WARNING:root:No cache found at: /mnt/data0/jiayi/checkpoints/lit-saved/SPOT-model-per_file-R0-(512, 3072, 512)-drop_comments/eval-ctx_size=1, skip clearing.\n"
     ]
    },
    {
     "data": {
      "application/vnd.jupyter.widget-view+json": {
       "model_id": "bd70652b8a6841b7bf51ac6b4821e27a",
       "version_major": 2,
       "version_minor": 0
      },
      "text/plain": [
       "chunk_srcs_per_file:   0%|          | 0/619 [00:00<?, ?it/s]"
      ]
     },
     "metadata": {},
     "output_type": "display_data"
    },
    {
     "data": {
      "application/vnd.jupyter.widget-view+json": {
       "model_id": "1f2c476867d24b6e8c9a5d175995872d",
       "version_major": 2,
       "version_minor": 0
      },
      "text/plain": [
       "verify_labels:   0%|          | 0/699 [00:00<?, ?it/s]"
      ]
     },
     "metadata": {},
     "output_type": "display_data"
    },
    {
     "data": {
      "application/vnd.jupyter.widget-view+json": {
       "model_id": "bb640e643b154e08b0ce673d0fcc5a8e",
       "version_major": 2,
       "version_minor": 0
      },
      "text/plain": [
       "predict:   0%|          | 0/699 [00:00<?, ?it/s]"
      ]
     },
     "metadata": {},
     "output_type": "display_data"
    },
    {
     "name": "stdout",
     "output_type": "stream",
     "text": [
      "[PickleCache] Saving to cache: '/mnt/data0/jiayi/checkpoints/lit-saved/SPOT-model-per_file-R0-(512, 3072, 512)-drop_comments/eval-ctx_size=1/r0_eval.pkl'\n",
      "Pushover: (Finished: 'Evaluate accuracy vs ctx_size: SPOT-model-per_file-R0-(512, 3072, 512)-drop_comments'.) Time taken: 250.3s\n"
     ]
    },
    {
     "data": {
      "application/vnd.jupyter.widget-view+json": {
       "model_id": "5a5ad6e5b06e4f9094943b695e9710a6",
       "version_major": 2,
       "version_minor": 0
      },
      "text/plain": [
       "interactive(children=(IntSlider(value=0, description='i', max=0), Checkbox(value=False, description='expand'),…"
      ]
     },
     "metadata": {},
     "output_type": "display_data"
    }
   ],
   "source": [
    "\n",
    "evaluate_model(\n",
    "    r0_wrapper,\n",
    "    None,\n",
    "    r0_model_name,\n",
    "    src_datasets[\"test\"],\n",
    "    reeval=True,\n",
    ")\n",
    "None\n"
   ]
  },
  {
   "cell_type": "code",
   "execution_count": 9,
   "metadata": {},
   "outputs": [
    {
     "data": {
      "application/vnd.jupyter.widget-view+json": {
       "model_id": "82457f4ba51b4b7bbfe091da79545d57",
       "version_major": 2,
       "version_minor": 0
      },
      "text/plain": [
       "chunk_srcs_per_file:   0%|          | 0/619 [00:00<?, ?it/s]"
      ]
     },
     "metadata": {},
     "output_type": "display_data"
    },
    {
     "data": {
      "application/vnd.jupyter.widget-view+json": {
       "model_id": "12cd8b7a28464c3cbf2fc3f6441c0045",
       "version_major": 2,
       "version_minor": 0
      },
      "text/plain": [
       "verify_labels:   0%|          | 0/800 [00:00<?, ?it/s]"
      ]
     },
     "metadata": {},
     "output_type": "display_data"
    },
    {
     "data": {
      "application/vnd.jupyter.widget-view+json": {
       "model_id": "02f60c54d4354124a44274a667dfb8d4",
       "version_major": 2,
       "version_minor": 0
      },
      "text/plain": [
       "predict:   0%|          | 0/800 [00:00<?, ?it/s]"
      ]
     },
     "metadata": {},
     "output_type": "display_data"
    },
    {
     "name": "stdout",
     "output_type": "stream",
     "text": [
      "[PickleCache] Saving to cache: '/mnt/data0/jiayi/checkpoints/lit-saved/SPOT-model-per_file-R0-(512, 3072, 512)-drop_comments/eval-ctx_size=1/r0_eval.pkl'\n",
      "Pushover: (Finished: 'Evaluate accuracy vs ctx_size: SPOT-model-per_file-R0-(512, 3072, 512)-drop_comments'.) Time taken: 323.0s\n"
     ]
    },
    {
     "data": {
      "application/vnd.jupyter.widget-view+json": {
       "model_id": "14501f67cdd54404982e7804c7869469",
       "version_major": 2,
       "version_minor": 0
      },
      "text/plain": [
       "interactive(children=(IntSlider(value=0, description='i', max=0), Checkbox(value=False, description='expand'),…"
      ]
     },
     "metadata": {},
     "output_type": "display_data"
    }
   ],
   "source": [
    "r0_wrapper.args.ctx_args = CtxArgs(\n",
    "    max_tokens_per_file,\n",
    "    1024 * 2,\n",
    "    1024\n",
    ")\n",
    "evaluate_model(\n",
    "    r0_wrapper,\n",
    "    None,\n",
    "    r0_model_name,\n",
    "    src_datasets[\"test\"],\n",
    "    reeval=True,\n",
    ")\n",
    "None"
   ]
  },
  {
   "cell_type": "code",
   "execution_count": 11,
   "metadata": {},
   "outputs": [
    {
     "data": {
      "application/vnd.jupyter.widget-view+json": {
       "model_id": "550fc751ebda49eaa4a0ce16b65c8688",
       "version_major": 2,
       "version_minor": 0
      },
      "text/plain": [
       "chunk_srcs_per_file:   0%|          | 0/619 [00:00<?, ?it/s]"
      ]
     },
     "metadata": {},
     "output_type": "display_data"
    },
    {
     "data": {
      "application/vnd.jupyter.widget-view+json": {
       "model_id": "c5bd87bb918f492a96ef95bbc8739770",
       "version_major": 2,
       "version_minor": 0
      },
      "text/plain": [
       "verify_labels:   0%|          | 0/932 [00:00<?, ?it/s]"
      ]
     },
     "metadata": {},
     "output_type": "display_data"
    },
    {
     "data": {
      "application/vnd.jupyter.widget-view+json": {
       "model_id": "eea4ce6257734eb9bca601127b8c2526",
       "version_major": 2,
       "version_minor": 0
      },
      "text/plain": [
       "predict:   0%|          | 0/932 [00:00<?, ?it/s]"
      ]
     },
     "metadata": {},
     "output_type": "display_data"
    },
    {
     "name": "stdout",
     "output_type": "stream",
     "text": [
      "[PickleCache] Saving to cache: '/mnt/data0/jiayi/checkpoints/lit-saved/SPOT-model-per_file-R0-(512, 3072, 512)-drop_comments/eval-ctx_size=1/r0_eval.pkl'\n",
      "Pushover: (Finished: 'Evaluate accuracy vs ctx_size: SPOT-model-per_file-R0-(512, 3072, 512)-drop_comments'.) Time taken: 728.6s\n"
     ]
    },
    {
     "data": {
      "application/vnd.jupyter.widget-view+json": {
       "model_id": "f4cf7b6a134d434e902b02c4f45e484c",
       "version_major": 2,
       "version_minor": 0
      },
      "text/plain": [
       "interactive(children=(IntSlider(value=0, description='i', max=0), Checkbox(value=False, description='expand'),…"
      ]
     },
     "metadata": {},
     "output_type": "display_data"
    }
   ],
   "source": [
    "r0_wrapper.args.ctx_args = CtxArgs(\n",
    "    max_tokens_per_file,\n",
    "    1024 * 2,\n",
    "    1024 + 512,\n",
    ")\n",
    "r0_wrapper.args.num_beams = 4\n",
    "evaluate_model(\n",
    "    r0_wrapper,\n",
    "    None,\n",
    "    r0_model_name,\n",
    "    src_datasets[\"test\"],\n",
    "    reeval=True,\n",
    ")\n",
    "None"
   ]
  },
  {
   "cell_type": "code",
   "execution_count": 12,
   "metadata": {},
   "outputs": [
    {
     "name": "stderr",
     "output_type": "stream",
     "text": [
      "WARNING:root:No cache found at: /mnt/data0/jiayi/checkpoints/lit-saved/SPOT-model-per_file-R0-(512, 3072, 512)-drop_comments/eval-ctx_size=1, skip clearing.\n"
     ]
    },
    {
     "data": {
      "application/vnd.jupyter.widget-view+json": {
       "model_id": "5e9c828d10724fcabf626f7e91c459ab",
       "version_major": 2,
       "version_minor": 0
      },
      "text/plain": [
       "chunk_srcs_per_file:   0%|          | 0/619 [00:00<?, ?it/s]"
      ]
     },
     "metadata": {},
     "output_type": "display_data"
    },
    {
     "data": {
      "application/vnd.jupyter.widget-view+json": {
       "model_id": "de022b4365be4b27b6d915c4e75dc729",
       "version_major": 2,
       "version_minor": 0
      },
      "text/plain": [
       "verify_labels:   0%|          | 0/800 [00:00<?, ?it/s]"
      ]
     },
     "metadata": {},
     "output_type": "display_data"
    },
    {
     "data": {
      "application/vnd.jupyter.widget-view+json": {
       "model_id": "e869bdde4bef4b7c97c9bf5f85bf232f",
       "version_major": 2,
       "version_minor": 0
      },
      "text/plain": [
       "predict:   0%|          | 0/800 [00:00<?, ?it/s]"
      ]
     },
     "metadata": {},
     "output_type": "display_data"
    },
    {
     "ename": "KeyboardInterrupt",
     "evalue": "",
     "output_type": "error",
     "traceback": [
      "\u001b[0;31m---------------------------------------------------------------------------\u001b[0m",
      "\u001b[0;31mKeyboardInterrupt\u001b[0m                         Traceback (most recent call last)",
      "\u001b[1;32m/home/jiayi/Projects/SPOT/scripts/train_spot.ipynb Cell 12'\u001b[0m in \u001b[0;36m<cell line: 8>\u001b[0;34m()\u001b[0m\n\u001b[1;32m      <a href='vscode-notebook-cell://ssh-remote%2Butopia3/home/jiayi/Projects/SPOT/scripts/train_spot.ipynb#ch0000017vscode-remote?line=5'>6</a>\u001b[0m r0_wrapper\u001b[39m.\u001b[39margs\u001b[39m.\u001b[39mnum_beams \u001b[39m=\u001b[39m \u001b[39m8\u001b[39m\n\u001b[1;32m      <a href='vscode-notebook-cell://ssh-remote%2Butopia3/home/jiayi/Projects/SPOT/scripts/train_spot.ipynb#ch0000017vscode-remote?line=6'>7</a>\u001b[0m r0_wrapper\u001b[39m.\u001b[39margs\u001b[39m.\u001b[39msampling_max_tokens \u001b[39m=\u001b[39m max_tokens_per_file\n\u001b[0;32m----> <a href='vscode-notebook-cell://ssh-remote%2Butopia3/home/jiayi/Projects/SPOT/scripts/train_spot.ipynb#ch0000017vscode-remote?line=7'>8</a>\u001b[0m evaluate_model(\n\u001b[1;32m      <a href='vscode-notebook-cell://ssh-remote%2Butopia3/home/jiayi/Projects/SPOT/scripts/train_spot.ipynb#ch0000017vscode-remote?line=8'>9</a>\u001b[0m     r0_wrapper,\n\u001b[1;32m     <a href='vscode-notebook-cell://ssh-remote%2Butopia3/home/jiayi/Projects/SPOT/scripts/train_spot.ipynb#ch0000017vscode-remote?line=9'>10</a>\u001b[0m     \u001b[39mNone\u001b[39;49;00m,\n\u001b[1;32m     <a href='vscode-notebook-cell://ssh-remote%2Butopia3/home/jiayi/Projects/SPOT/scripts/train_spot.ipynb#ch0000017vscode-remote?line=10'>11</a>\u001b[0m     r0_model_name,\n\u001b[1;32m     <a href='vscode-notebook-cell://ssh-remote%2Butopia3/home/jiayi/Projects/SPOT/scripts/train_spot.ipynb#ch0000017vscode-remote?line=11'>12</a>\u001b[0m     src_datasets[\u001b[39m\"\u001b[39;49m\u001b[39mtest\u001b[39;49m\u001b[39m\"\u001b[39;49m],\n\u001b[1;32m     <a href='vscode-notebook-cell://ssh-remote%2Butopia3/home/jiayi/Projects/SPOT/scripts/train_spot.ipynb#ch0000017vscode-remote?line=12'>13</a>\u001b[0m     reeval\u001b[39m=\u001b[39;49m\u001b[39mTrue\u001b[39;49;00m,\n\u001b[1;32m     <a href='vscode-notebook-cell://ssh-remote%2Butopia3/home/jiayi/Projects/SPOT/scripts/train_spot.ipynb#ch0000017vscode-remote?line=13'>14</a>\u001b[0m )\n\u001b[1;32m     <a href='vscode-notebook-cell://ssh-remote%2Butopia3/home/jiayi/Projects/SPOT/scripts/train_spot.ipynb#ch0000017vscode-remote?line=14'>15</a>\u001b[0m \u001b[39mNone\u001b[39;00m\n",
      "\u001b[1;32m/home/jiayi/Projects/SPOT/scripts/train_spot.ipynb Cell 8'\u001b[0m in \u001b[0;36mevaluate_model\u001b[0;34m(r0_wrapper, r1_wrapper, model_name, r0_srcs, size_factors, reeval)\u001b[0m\n\u001b[1;32m     <a href='vscode-notebook-cell://ssh-remote%2Butopia3/home/jiayi/Projects/SPOT/scripts/train_spot.ipynb#ch0000024vscode-remote?line=62'>63</a>\u001b[0m wrapper1 \u001b[39m=\u001b[39m (\n\u001b[1;32m     <a href='vscode-notebook-cell://ssh-remote%2Butopia3/home/jiayi/Projects/SPOT/scripts/train_spot.ipynb#ch0000024vscode-remote?line=63'>64</a>\u001b[0m     r1_wrapper\u001b[39m.\u001b[39mscale_ctx_size(factor) \u001b[39mif\u001b[39;00m r1_wrapper \u001b[39mis\u001b[39;00m \u001b[39mnot\u001b[39;00m \u001b[39mNone\u001b[39;00m \u001b[39melse\u001b[39;00m \u001b[39mNone\u001b[39;00m\n\u001b[1;32m     <a href='vscode-notebook-cell://ssh-remote%2Butopia3/home/jiayi/Projects/SPOT/scripts/train_spot.ipynb#ch0000024vscode-remote?line=64'>65</a>\u001b[0m )\n\u001b[1;32m     <a href='vscode-notebook-cell://ssh-remote%2Butopia3/home/jiayi/Projects/SPOT/scripts/train_spot.ipynb#ch0000024vscode-remote?line=65'>66</a>\u001b[0m eval_cache \u001b[39m=\u001b[39m PickleCache(\n\u001b[1;32m     <a href='vscode-notebook-cell://ssh-remote%2Butopia3/home/jiayi/Projects/SPOT/scripts/train_spot.ipynb#ch0000024vscode-remote?line=66'>67</a>\u001b[0m     datadir \u001b[39m/\u001b[39m \u001b[39mf\u001b[39m\u001b[39m\"\u001b[39m\u001b[39mcheckpoints/lit-saved/\u001b[39m\u001b[39m{\u001b[39;00mmodel_name\u001b[39m}\u001b[39;00m\u001b[39m/eval-ctx_size=\u001b[39m\u001b[39m{\u001b[39;00mfactor\u001b[39m}\u001b[39;00m\u001b[39m\"\u001b[39m\n\u001b[1;32m     <a href='vscode-notebook-cell://ssh-remote%2Butopia3/home/jiayi/Projects/SPOT/scripts/train_spot.ipynb#ch0000024vscode-remote?line=67'>68</a>\u001b[0m )\n\u001b[0;32m---> <a href='vscode-notebook-cell://ssh-remote%2Butopia3/home/jiayi/Projects/SPOT/scripts/train_spot.ipynb#ch0000024vscode-remote?line=68'>69</a>\u001b[0m accs \u001b[39m=\u001b[39m eval_model_helper(\n\u001b[1;32m     <a href='vscode-notebook-cell://ssh-remote%2Butopia3/home/jiayi/Projects/SPOT/scripts/train_spot.ipynb#ch0000024vscode-remote?line=69'>70</a>\u001b[0m     wrapper0, wrapper1, eval_cache, r0_srcs, reeval\u001b[39m=\u001b[39;49mreeval\n\u001b[1;32m     <a href='vscode-notebook-cell://ssh-remote%2Butopia3/home/jiayi/Projects/SPOT/scripts/train_spot.ipynb#ch0000024vscode-remote?line=70'>71</a>\u001b[0m )\n\u001b[1;32m     <a href='vscode-notebook-cell://ssh-remote%2Butopia3/home/jiayi/Projects/SPOT/scripts/train_spot.ipynb#ch0000024vscode-remote?line=71'>72</a>\u001b[0m \u001b[39mif\u001b[39;00m \u001b[39misinstance\u001b[39m(accs, \u001b[39mtuple\u001b[39m):\n\u001b[1;32m     <a href='vscode-notebook-cell://ssh-remote%2Butopia3/home/jiayi/Projects/SPOT/scripts/train_spot.ipynb#ch0000024vscode-remote?line=72'>73</a>\u001b[0m     acc_series\u001b[39m.\u001b[39mappend(accs[\u001b[39m1\u001b[39m])\n",
      "\u001b[1;32m/home/jiayi/Projects/SPOT/scripts/train_spot.ipynb Cell 8'\u001b[0m in \u001b[0;36meval_model_helper\u001b[0;34m(r0_wrapper, r1_wrapper, eval_cache, r0_srcs, reeval)\u001b[0m\n\u001b[1;32m     <a href='vscode-notebook-cell://ssh-remote%2Butopia3/home/jiayi/Projects/SPOT/scripts/train_spot.ipynb#ch0000024vscode-remote?line=17'>18</a>\u001b[0m \u001b[39mif\u001b[39;00m reeval:\n\u001b[1;32m     <a href='vscode-notebook-cell://ssh-remote%2Butopia3/home/jiayi/Projects/SPOT/scripts/train_spot.ipynb#ch0000024vscode-remote?line=18'>19</a>\u001b[0m     eval_cache\u001b[39m.\u001b[39mclear()\n\u001b[0;32m---> <a href='vscode-notebook-cell://ssh-remote%2Butopia3/home/jiayi/Projects/SPOT/scripts/train_spot.ipynb#ch0000024vscode-remote?line=19'>20</a>\u001b[0m r0_accs, r0_chunks, r0_preds \u001b[39m=\u001b[39m eval_cache\u001b[39m.\u001b[39;49mcached(\n\u001b[1;32m     <a href='vscode-notebook-cell://ssh-remote%2Butopia3/home/jiayi/Projects/SPOT/scripts/train_spot.ipynb#ch0000024vscode-remote?line=20'>21</a>\u001b[0m     \u001b[39m\"\u001b[39;49m\u001b[39mr0_eval.pkl\u001b[39;49m\u001b[39m\"\u001b[39;49m,\n\u001b[1;32m     <a href='vscode-notebook-cell://ssh-remote%2Butopia3/home/jiayi/Projects/SPOT/scripts/train_spot.ipynb#ch0000024vscode-remote?line=21'>22</a>\u001b[0m     \u001b[39mlambda\u001b[39;49;00m: r0_wrapper\u001b[39m.\u001b[39;49meval_on_dataset(r0_srcs, tqdm_args\u001b[39m=\u001b[39;49m{\u001b[39m\"\u001b[39;49m\u001b[39mleave\u001b[39;49m\u001b[39m\"\u001b[39;49m: \u001b[39mFalse\u001b[39;49;00m}),\n\u001b[1;32m     <a href='vscode-notebook-cell://ssh-remote%2Butopia3/home/jiayi/Projects/SPOT/scripts/train_spot.ipynb#ch0000024vscode-remote?line=22'>23</a>\u001b[0m )\n\u001b[1;32m     <a href='vscode-notebook-cell://ssh-remote%2Butopia3/home/jiayi/Projects/SPOT/scripts/train_spot.ipynb#ch0000024vscode-remote?line=23'>24</a>\u001b[0m \u001b[39mif\u001b[39;00m r1_wrapper \u001b[39mis\u001b[39;00m \u001b[39mNone\u001b[39;00m:\n\u001b[1;32m     <a href='vscode-notebook-cell://ssh-remote%2Butopia3/home/jiayi/Projects/SPOT/scripts/train_spot.ipynb#ch0000024vscode-remote?line=24'>25</a>\u001b[0m     \u001b[39mreturn\u001b[39;00m r0_accs\n",
      "File \u001b[0;32m~/Projects/SPOT/src/spot/utils.py:336\u001b[0m, in \u001b[0;36mPickleCache.cached\u001b[0;34m(self, rel_path, func)\u001b[0m\n\u001b[1;32m    <a href='file:///home/jiayi/Projects/SPOT/src/spot/utils.py?line=333'>334</a>\u001b[0m path \u001b[39m=\u001b[39m \u001b[39mself\u001b[39m\u001b[39m.\u001b[39mcache_dir \u001b[39m/\u001b[39m rel_path\n\u001b[1;32m    <a href='file:///home/jiayi/Projects/SPOT/src/spot/utils.py?line=334'>335</a>\u001b[0m \u001b[39mif\u001b[39;00m \u001b[39mnot\u001b[39;00m path\u001b[39m.\u001b[39mexists():\n\u001b[0;32m--> <a href='file:///home/jiayi/Projects/SPOT/src/spot/utils.py?line=335'>336</a>\u001b[0m     value \u001b[39m=\u001b[39m func()\n\u001b[1;32m    <a href='file:///home/jiayi/Projects/SPOT/src/spot/utils.py?line=336'>337</a>\u001b[0m     path\u001b[39m.\u001b[39mparent\u001b[39m.\u001b[39mmkdir(parents\u001b[39m=\u001b[39m\u001b[39mTrue\u001b[39;00m, exist_ok\u001b[39m=\u001b[39m\u001b[39mTrue\u001b[39;00m)\n\u001b[1;32m    <a href='file:///home/jiayi/Projects/SPOT/src/spot/utils.py?line=337'>338</a>\u001b[0m     \u001b[39mprint\u001b[39m(\u001b[39mf\u001b[39m\u001b[39m\"\u001b[39m\u001b[39m[PickleCache] Saving to cache: \u001b[39m\u001b[39m'\u001b[39m\u001b[39m{\u001b[39;00mpath\u001b[39m}\u001b[39;00m\u001b[39m'\u001b[39m\u001b[39m\"\u001b[39m)\n",
      "\u001b[1;32m/home/jiayi/Projects/SPOT/scripts/train_spot.ipynb Cell 8'\u001b[0m in \u001b[0;36meval_model_helper.<locals>.<lambda>\u001b[0;34m()\u001b[0m\n\u001b[1;32m     <a href='vscode-notebook-cell://ssh-remote%2Butopia3/home/jiayi/Projects/SPOT/scripts/train_spot.ipynb#ch0000024vscode-remote?line=17'>18</a>\u001b[0m \u001b[39mif\u001b[39;00m reeval:\n\u001b[1;32m     <a href='vscode-notebook-cell://ssh-remote%2Butopia3/home/jiayi/Projects/SPOT/scripts/train_spot.ipynb#ch0000024vscode-remote?line=18'>19</a>\u001b[0m     eval_cache\u001b[39m.\u001b[39mclear()\n\u001b[1;32m     <a href='vscode-notebook-cell://ssh-remote%2Butopia3/home/jiayi/Projects/SPOT/scripts/train_spot.ipynb#ch0000024vscode-remote?line=19'>20</a>\u001b[0m r0_accs, r0_chunks, r0_preds \u001b[39m=\u001b[39m eval_cache\u001b[39m.\u001b[39mcached(\n\u001b[1;32m     <a href='vscode-notebook-cell://ssh-remote%2Butopia3/home/jiayi/Projects/SPOT/scripts/train_spot.ipynb#ch0000024vscode-remote?line=20'>21</a>\u001b[0m     \u001b[39m\"\u001b[39m\u001b[39mr0_eval.pkl\u001b[39m\u001b[39m\"\u001b[39m,\n\u001b[0;32m---> <a href='vscode-notebook-cell://ssh-remote%2Butopia3/home/jiayi/Projects/SPOT/scripts/train_spot.ipynb#ch0000024vscode-remote?line=21'>22</a>\u001b[0m     \u001b[39mlambda\u001b[39;00m: r0_wrapper\u001b[39m.\u001b[39;49meval_on_dataset(r0_srcs, tqdm_args\u001b[39m=\u001b[39;49m{\u001b[39m\"\u001b[39;49m\u001b[39mleave\u001b[39;49m\u001b[39m\"\u001b[39;49m: \u001b[39mFalse\u001b[39;49;00m}),\n\u001b[1;32m     <a href='vscode-notebook-cell://ssh-remote%2Butopia3/home/jiayi/Projects/SPOT/scripts/train_spot.ipynb#ch0000024vscode-remote?line=22'>23</a>\u001b[0m )\n\u001b[1;32m     <a href='vscode-notebook-cell://ssh-remote%2Butopia3/home/jiayi/Projects/SPOT/scripts/train_spot.ipynb#ch0000024vscode-remote?line=23'>24</a>\u001b[0m \u001b[39mif\u001b[39;00m r1_wrapper \u001b[39mis\u001b[39;00m \u001b[39mNone\u001b[39;00m:\n\u001b[1;32m     <a href='vscode-notebook-cell://ssh-remote%2Butopia3/home/jiayi/Projects/SPOT/scripts/train_spot.ipynb#ch0000024vscode-remote?line=24'>25</a>\u001b[0m     \u001b[39mreturn\u001b[39;00m r0_accs\n",
      "File \u001b[0;32m~/Projects/SPOT/src/spot/model.py:151\u001b[0m, in \u001b[0;36mModelWrapper.eval_on_dataset\u001b[0;34m(self, src_data, tqdm_args)\u001b[0m\n\u001b[1;32m    <a href='file:///home/jiayi/Projects/SPOT/src/spot/model.py?line=146'>147</a>\u001b[0m \u001b[39m\"\"\"Convinient method to preprocess the src according to the model's ctx_args and evaluate the (R0) accuracy.\"\"\"\u001b[39;00m\n\u001b[1;32m    <a href='file:///home/jiayi/Projects/SPOT/src/spot/model.py?line=147'>148</a>\u001b[0m chunks \u001b[39m=\u001b[39m src_data\u001b[39m.\u001b[39mto_chunks(\n\u001b[1;32m    <a href='file:///home/jiayi/Projects/SPOT/src/spot/model.py?line=148'>149</a>\u001b[0m     \u001b[39mself\u001b[39m\u001b[39m.\u001b[39mtokenizer, \u001b[39mself\u001b[39m\u001b[39m.\u001b[39margs\u001b[39m.\u001b[39mctx_args, tqdm_args\u001b[39m=\u001b[39mtqdm_args\n\u001b[1;32m    <a href='file:///home/jiayi/Projects/SPOT/src/spot/model.py?line=149'>150</a>\u001b[0m )\n\u001b[0;32m--> <a href='file:///home/jiayi/Projects/SPOT/src/spot/model.py?line=150'>151</a>\u001b[0m preds \u001b[39m=\u001b[39m \u001b[39mself\u001b[39;49m\u001b[39m.\u001b[39;49mpredict(chunks\u001b[39m.\u001b[39;49mdata, tqdm_args\u001b[39m=\u001b[39;49mtqdm_args)\n\u001b[1;32m    <a href='file:///home/jiayi/Projects/SPOT/src/spot/model.py?line=151'>152</a>\u001b[0m accs \u001b[39m=\u001b[39m preds_to_accuracies(preds, chunks, normalize_types\u001b[39m=\u001b[39m\u001b[39mTrue\u001b[39;00m)\n\u001b[1;32m    <a href='file:///home/jiayi/Projects/SPOT/src/spot/model.py?line=152'>153</a>\u001b[0m accs_strict \u001b[39m=\u001b[39m preds_to_accuracies(preds, chunks, normalize_types\u001b[39m=\u001b[39m\u001b[39mFalse\u001b[39;00m)\n",
      "File \u001b[0;32m~/Projects/SPOT/src/spot/model.py:113\u001b[0m, in \u001b[0;36mModelWrapper.predict\u001b[0;34m(self, dataset, tqdm_args)\u001b[0m\n\u001b[1;32m    <a href='file:///home/jiayi/Projects/SPOT/src/spot/model.py?line=110'>111</a>\u001b[0m n_chunks \u001b[39m=\u001b[39m batch[\u001b[39m\"\u001b[39m\u001b[39minput_ids\u001b[39m\u001b[39m\"\u001b[39m]\u001b[39m.\u001b[39mshape[\u001b[39m0\u001b[39m]\n\u001b[1;32m    <a href='file:///home/jiayi/Projects/SPOT/src/spot/model.py?line=111'>112</a>\u001b[0m batch[\u001b[39m\"\u001b[39m\u001b[39minput_ids\u001b[39m\u001b[39m\"\u001b[39m] \u001b[39m=\u001b[39m batch[\u001b[39m\"\u001b[39m\u001b[39minput_ids\u001b[39m\u001b[39m\"\u001b[39m]\u001b[39m.\u001b[39mto(device)\n\u001b[0;32m--> <a href='file:///home/jiayi/Projects/SPOT/src/spot/model.py?line=112'>113</a>\u001b[0m preds \u001b[39m=\u001b[39m \u001b[39mself\u001b[39;49m\u001b[39m.\u001b[39;49mpredict_on_batch(batch)\n\u001b[1;32m    <a href='file:///home/jiayi/Projects/SPOT/src/spot/model.py?line=113'>114</a>\u001b[0m \u001b[39mfor\u001b[39;00m i, p \u001b[39min\u001b[39;00m \u001b[39mzip\u001b[39m(batch[\u001b[39m\"\u001b[39m\u001b[39mchunk_id\u001b[39m\u001b[39m\"\u001b[39m], preds):\n\u001b[1;32m    <a href='file:///home/jiayi/Projects/SPOT/src/spot/model.py?line=114'>115</a>\u001b[0m     pred_types[\u001b[39mint\u001b[39m(i)] \u001b[39m=\u001b[39m p\n",
      "File \u001b[0;32m~/Projects/SPOT/src/spot/model.py:80\u001b[0m, in \u001b[0;36mModelWrapper.predict_on_batch\u001b[0;34m(self, batch, do_sample)\u001b[0m\n\u001b[1;32m     <a href='file:///home/jiayi/Projects/SPOT/src/spot/model.py?line=76'>77</a>\u001b[0m n_labels \u001b[39m=\u001b[39m batch[\u001b[39m\"\u001b[39m\u001b[39mn_labels\u001b[39m\u001b[39m\"\u001b[39m]\n\u001b[1;32m     <a href='file:///home/jiayi/Projects/SPOT/src/spot/model.py?line=77'>78</a>\u001b[0m max_labels \u001b[39m=\u001b[39m \u001b[39mmax\u001b[39m(n_labels)\n\u001b[0;32m---> <a href='file:///home/jiayi/Projects/SPOT/src/spot/model.py?line=79'>80</a>\u001b[0m output_ids \u001b[39m=\u001b[39m model\u001b[39m.\u001b[39;49mgenerate(\n\u001b[1;32m     <a href='file:///home/jiayi/Projects/SPOT/src/spot/model.py?line=80'>81</a>\u001b[0m     inputs\u001b[39m=\u001b[39;49mbatch[\u001b[39m\"\u001b[39;49m\u001b[39minput_ids\u001b[39;49m\u001b[39m\"\u001b[39;49m],\n\u001b[1;32m     <a href='file:///home/jiayi/Projects/SPOT/src/spot/model.py?line=81'>82</a>\u001b[0m     do_sample\u001b[39m=\u001b[39;49m\u001b[39mself\u001b[39;49m\u001b[39m.\u001b[39;49margs\u001b[39m.\u001b[39;49mdo_sample \u001b[39mif\u001b[39;49;00m do_sample \u001b[39mis\u001b[39;49;00m \u001b[39mNone\u001b[39;49;00m \u001b[39melse\u001b[39;49;00m do_sample,\n\u001b[1;32m     <a href='file:///home/jiayi/Projects/SPOT/src/spot/model.py?line=82'>83</a>\u001b[0m     top_p\u001b[39m=\u001b[39;49m\u001b[39mself\u001b[39;49m\u001b[39m.\u001b[39;49margs\u001b[39m.\u001b[39;49mtop_p,\n\u001b[1;32m     <a href='file:///home/jiayi/Projects/SPOT/src/spot/model.py?line=83'>84</a>\u001b[0m     num_beams\u001b[39m=\u001b[39;49m\u001b[39mself\u001b[39;49m\u001b[39m.\u001b[39;49margs\u001b[39m.\u001b[39;49mnum_beams,\n\u001b[1;32m     <a href='file:///home/jiayi/Projects/SPOT/src/spot/model.py?line=84'>85</a>\u001b[0m     max_length\u001b[39m=\u001b[39;49m\u001b[39mself\u001b[39;49m\u001b[39m.\u001b[39;49margs\u001b[39m.\u001b[39;49mmax_tokens_per_type \u001b[39m*\u001b[39;49m max_labels,\n\u001b[1;32m     <a href='file:///home/jiayi/Projects/SPOT/src/spot/model.py?line=85'>86</a>\u001b[0m )\u001b[39m.\u001b[39mcpu()  \u001b[39m# type: ignore\u001b[39;00m\n\u001b[1;32m     <a href='file:///home/jiayi/Projects/SPOT/src/spot/model.py?line=86'>87</a>\u001b[0m \u001b[39massert\u001b[39;00m \u001b[39mlen\u001b[39m(output_ids\u001b[39m.\u001b[39mshape) \u001b[39m==\u001b[39m \u001b[39m2\u001b[39m\n\u001b[1;32m     <a href='file:///home/jiayi/Projects/SPOT/src/spot/model.py?line=88'>89</a>\u001b[0m n_chunks \u001b[39m=\u001b[39m output_ids\u001b[39m.\u001b[39mshape[\u001b[39m0\u001b[39m]\n",
      "File \u001b[0;32m~/Projects/SPOT/.venv/lib/python3.10/site-packages/torch/autograd/grad_mode.py:27\u001b[0m, in \u001b[0;36m_DecoratorContextManager.__call__.<locals>.decorate_context\u001b[0;34m(*args, **kwargs)\u001b[0m\n\u001b[1;32m     <a href='file:///home/jiayi/Projects/SPOT/.venv/lib/python3.10/site-packages/torch/autograd/grad_mode.py?line=23'>24</a>\u001b[0m \u001b[39m@functools\u001b[39m\u001b[39m.\u001b[39mwraps(func)\n\u001b[1;32m     <a href='file:///home/jiayi/Projects/SPOT/.venv/lib/python3.10/site-packages/torch/autograd/grad_mode.py?line=24'>25</a>\u001b[0m \u001b[39mdef\u001b[39;00m \u001b[39mdecorate_context\u001b[39m(\u001b[39m*\u001b[39margs, \u001b[39m*\u001b[39m\u001b[39m*\u001b[39mkwargs):\n\u001b[1;32m     <a href='file:///home/jiayi/Projects/SPOT/.venv/lib/python3.10/site-packages/torch/autograd/grad_mode.py?line=25'>26</a>\u001b[0m     \u001b[39mwith\u001b[39;00m \u001b[39mself\u001b[39m\u001b[39m.\u001b[39mclone():\n\u001b[0;32m---> <a href='file:///home/jiayi/Projects/SPOT/.venv/lib/python3.10/site-packages/torch/autograd/grad_mode.py?line=26'>27</a>\u001b[0m         \u001b[39mreturn\u001b[39;00m func(\u001b[39m*\u001b[39;49margs, \u001b[39m*\u001b[39;49m\u001b[39m*\u001b[39;49mkwargs)\n",
      "File \u001b[0;32m~/Projects/SPOT/.venv/lib/python3.10/site-packages/transformers/generation_utils.py:1344\u001b[0m, in \u001b[0;36mGenerationMixin.generate\u001b[0;34m(self, inputs, max_length, min_length, do_sample, early_stopping, num_beams, temperature, top_k, top_p, typical_p, repetition_penalty, bad_words_ids, force_words_ids, bos_token_id, pad_token_id, eos_token_id, length_penalty, no_repeat_ngram_size, encoder_no_repeat_ngram_size, num_return_sequences, max_time, max_new_tokens, decoder_start_token_id, use_cache, num_beam_groups, diversity_penalty, prefix_allowed_tokens_fn, logits_processor, renormalize_logits, stopping_criteria, constraints, output_attentions, output_hidden_states, output_scores, return_dict_in_generate, forced_bos_token_id, forced_eos_token_id, remove_invalid_values, synced_gpus, exponential_decay_length_penalty, **model_kwargs)\u001b[0m\n\u001b[1;32m   <a href='file:///home/jiayi/Projects/SPOT/.venv/lib/python3.10/site-packages/transformers/generation_utils.py?line=1339'>1340</a>\u001b[0m     input_ids, model_kwargs \u001b[39m=\u001b[39m \u001b[39mself\u001b[39m\u001b[39m.\u001b[39m_expand_inputs_for_generation(\n\u001b[1;32m   <a href='file:///home/jiayi/Projects/SPOT/.venv/lib/python3.10/site-packages/transformers/generation_utils.py?line=1340'>1341</a>\u001b[0m         input_ids, expand_size\u001b[39m=\u001b[39mnum_beams, is_encoder_decoder\u001b[39m=\u001b[39m\u001b[39mself\u001b[39m\u001b[39m.\u001b[39mconfig\u001b[39m.\u001b[39mis_encoder_decoder, \u001b[39m*\u001b[39m\u001b[39m*\u001b[39mmodel_kwargs\n\u001b[1;32m   <a href='file:///home/jiayi/Projects/SPOT/.venv/lib/python3.10/site-packages/transformers/generation_utils.py?line=1341'>1342</a>\u001b[0m     )\n\u001b[1;32m   <a href='file:///home/jiayi/Projects/SPOT/.venv/lib/python3.10/site-packages/transformers/generation_utils.py?line=1342'>1343</a>\u001b[0m     \u001b[39m# 12. run beam search\u001b[39;00m\n\u001b[0;32m-> <a href='file:///home/jiayi/Projects/SPOT/.venv/lib/python3.10/site-packages/transformers/generation_utils.py?line=1343'>1344</a>\u001b[0m     \u001b[39mreturn\u001b[39;00m \u001b[39mself\u001b[39;49m\u001b[39m.\u001b[39;49mbeam_search(\n\u001b[1;32m   <a href='file:///home/jiayi/Projects/SPOT/.venv/lib/python3.10/site-packages/transformers/generation_utils.py?line=1344'>1345</a>\u001b[0m         input_ids,\n\u001b[1;32m   <a href='file:///home/jiayi/Projects/SPOT/.venv/lib/python3.10/site-packages/transformers/generation_utils.py?line=1345'>1346</a>\u001b[0m         beam_scorer,\n\u001b[1;32m   <a href='file:///home/jiayi/Projects/SPOT/.venv/lib/python3.10/site-packages/transformers/generation_utils.py?line=1346'>1347</a>\u001b[0m         logits_processor\u001b[39m=\u001b[39;49mlogits_processor,\n\u001b[1;32m   <a href='file:///home/jiayi/Projects/SPOT/.venv/lib/python3.10/site-packages/transformers/generation_utils.py?line=1347'>1348</a>\u001b[0m         stopping_criteria\u001b[39m=\u001b[39;49mstopping_criteria,\n\u001b[1;32m   <a href='file:///home/jiayi/Projects/SPOT/.venv/lib/python3.10/site-packages/transformers/generation_utils.py?line=1348'>1349</a>\u001b[0m         pad_token_id\u001b[39m=\u001b[39;49mpad_token_id,\n\u001b[1;32m   <a href='file:///home/jiayi/Projects/SPOT/.venv/lib/python3.10/site-packages/transformers/generation_utils.py?line=1349'>1350</a>\u001b[0m         eos_token_id\u001b[39m=\u001b[39;49meos_token_id,\n\u001b[1;32m   <a href='file:///home/jiayi/Projects/SPOT/.venv/lib/python3.10/site-packages/transformers/generation_utils.py?line=1350'>1351</a>\u001b[0m         output_scores\u001b[39m=\u001b[39;49moutput_scores,\n\u001b[1;32m   <a href='file:///home/jiayi/Projects/SPOT/.venv/lib/python3.10/site-packages/transformers/generation_utils.py?line=1351'>1352</a>\u001b[0m         return_dict_in_generate\u001b[39m=\u001b[39;49mreturn_dict_in_generate,\n\u001b[1;32m   <a href='file:///home/jiayi/Projects/SPOT/.venv/lib/python3.10/site-packages/transformers/generation_utils.py?line=1352'>1353</a>\u001b[0m         synced_gpus\u001b[39m=\u001b[39;49msynced_gpus,\n\u001b[1;32m   <a href='file:///home/jiayi/Projects/SPOT/.venv/lib/python3.10/site-packages/transformers/generation_utils.py?line=1353'>1354</a>\u001b[0m         \u001b[39m*\u001b[39;49m\u001b[39m*\u001b[39;49mmodel_kwargs,\n\u001b[1;32m   <a href='file:///home/jiayi/Projects/SPOT/.venv/lib/python3.10/site-packages/transformers/generation_utils.py?line=1354'>1355</a>\u001b[0m     )\n\u001b[1;32m   <a href='file:///home/jiayi/Projects/SPOT/.venv/lib/python3.10/site-packages/transformers/generation_utils.py?line=1356'>1357</a>\u001b[0m \u001b[39melif\u001b[39;00m is_beam_sample_gen_mode:\n\u001b[1;32m   <a href='file:///home/jiayi/Projects/SPOT/.venv/lib/python3.10/site-packages/transformers/generation_utils.py?line=1357'>1358</a>\u001b[0m     \u001b[39m# 10. prepare logits warper\u001b[39;00m\n\u001b[1;32m   <a href='file:///home/jiayi/Projects/SPOT/.venv/lib/python3.10/site-packages/transformers/generation_utils.py?line=1358'>1359</a>\u001b[0m     logits_warper \u001b[39m=\u001b[39m \u001b[39mself\u001b[39m\u001b[39m.\u001b[39m_get_logits_warper(\n\u001b[1;32m   <a href='file:///home/jiayi/Projects/SPOT/.venv/lib/python3.10/site-packages/transformers/generation_utils.py?line=1359'>1360</a>\u001b[0m         top_k\u001b[39m=\u001b[39mtop_k,\n\u001b[1;32m   <a href='file:///home/jiayi/Projects/SPOT/.venv/lib/python3.10/site-packages/transformers/generation_utils.py?line=1360'>1361</a>\u001b[0m         top_p\u001b[39m=\u001b[39mtop_p,\n\u001b[0;32m   (...)\u001b[0m\n\u001b[1;32m   <a href='file:///home/jiayi/Projects/SPOT/.venv/lib/python3.10/site-packages/transformers/generation_utils.py?line=1364'>1365</a>\u001b[0m         renormalize_logits\u001b[39m=\u001b[39mrenormalize_logits,\n\u001b[1;32m   <a href='file:///home/jiayi/Projects/SPOT/.venv/lib/python3.10/site-packages/transformers/generation_utils.py?line=1365'>1366</a>\u001b[0m     )\n",
      "File \u001b[0;32m~/Projects/SPOT/.venv/lib/python3.10/site-packages/transformers/generation_utils.py:2271\u001b[0m, in \u001b[0;36mGenerationMixin.beam_search\u001b[0;34m(self, input_ids, beam_scorer, logits_processor, stopping_criteria, max_length, pad_token_id, eos_token_id, output_attentions, output_hidden_states, output_scores, return_dict_in_generate, synced_gpus, **model_kwargs)\u001b[0m\n\u001b[1;32m   <a href='file:///home/jiayi/Projects/SPOT/.venv/lib/python3.10/site-packages/transformers/generation_utils.py?line=2267'>2268</a>\u001b[0m \u001b[39m# increase cur_len\u001b[39;00m\n\u001b[1;32m   <a href='file:///home/jiayi/Projects/SPOT/.venv/lib/python3.10/site-packages/transformers/generation_utils.py?line=2268'>2269</a>\u001b[0m cur_len \u001b[39m=\u001b[39m cur_len \u001b[39m+\u001b[39m \u001b[39m1\u001b[39m\n\u001b[0;32m-> <a href='file:///home/jiayi/Projects/SPOT/.venv/lib/python3.10/site-packages/transformers/generation_utils.py?line=2270'>2271</a>\u001b[0m \u001b[39mif\u001b[39;00m beam_scorer\u001b[39m.\u001b[39;49mis_done \u001b[39mor\u001b[39;00m stopping_criteria(input_ids, scores):\n\u001b[1;32m   <a href='file:///home/jiayi/Projects/SPOT/.venv/lib/python3.10/site-packages/transformers/generation_utils.py?line=2271'>2272</a>\u001b[0m     \u001b[39mif\u001b[39;00m \u001b[39mnot\u001b[39;00m synced_gpus:\n\u001b[1;32m   <a href='file:///home/jiayi/Projects/SPOT/.venv/lib/python3.10/site-packages/transformers/generation_utils.py?line=2272'>2273</a>\u001b[0m         \u001b[39mbreak\u001b[39;00m\n",
      "File \u001b[0;32m~/Projects/SPOT/.venv/lib/python3.10/site-packages/transformers/generation_beam_search.py:204\u001b[0m, in \u001b[0;36mBeamSearchScorer.is_done\u001b[0;34m(self)\u001b[0m\n\u001b[1;32m    <a href='file:///home/jiayi/Projects/SPOT/.venv/lib/python3.10/site-packages/transformers/generation_beam_search.py?line=201'>202</a>\u001b[0m \u001b[39m@property\u001b[39m\n\u001b[1;32m    <a href='file:///home/jiayi/Projects/SPOT/.venv/lib/python3.10/site-packages/transformers/generation_beam_search.py?line=202'>203</a>\u001b[0m \u001b[39mdef\u001b[39;00m \u001b[39mis_done\u001b[39m(\u001b[39mself\u001b[39m) \u001b[39m-\u001b[39m\u001b[39m>\u001b[39m \u001b[39mbool\u001b[39m:\n\u001b[0;32m--> <a href='file:///home/jiayi/Projects/SPOT/.venv/lib/python3.10/site-packages/transformers/generation_beam_search.py?line=203'>204</a>\u001b[0m     \u001b[39mreturn\u001b[39;00m \u001b[39mself\u001b[39;49m\u001b[39m.\u001b[39;49m_done\u001b[39m.\u001b[39;49mall()\n",
      "\u001b[0;31mKeyboardInterrupt\u001b[0m: "
     ]
    }
   ],
   "source": [
    "r0_wrapper.args.ctx_args = CtxArgs(\n",
    "    max_tokens_per_file,\n",
    "    1024 * 2,\n",
    "    1024,\n",
    ")\n",
    "r0_wrapper.args.num_beams = 16\n",
    "r0_wrapper.args.sampling_max_tokens = max_tokens_per_file\n",
    "evaluate_model(\n",
    "    r0_wrapper,\n",
    "    None,\n",
    "    r0_model_name,\n",
    "    src_datasets[\"test\"],\n",
    "    reeval=True,\n",
    ")\n",
    "None"
   ]
  },
  {
   "cell_type": "code",
   "execution_count": null,
   "metadata": {},
   "outputs": [],
   "source": [
    "# R1 experiment configurations\n",
    "\n",
    "import torch\n",
    "\n",
    "from spot.data import ChunkedDataset, SrcDataset, get_dataset_name, get_model_name\n",
    "from spot.model import CtxArgs, DecodingArgs, ModelSPOT, ModelTrainingArgs, ModelWrapper\n",
    "\n",
    "r1_model_name = get_model_name(\n",
    "    spot_round=1,\n",
    "    drop_comments=drop_comments,\n",
    "    ctx_args=ctx_args,\n",
    "    data_reduction=data_reduction,\n",
    "    quicktest=quicktest,\n",
    ")\n"
   ]
  },
  {
   "cell_type": "code",
   "execution_count": null,
   "metadata": {},
   "outputs": [
    {
     "data": {
      "application/vnd.jupyter.widget-view+json": {
       "model_id": "1f66a1b8ede04bbaa4f3b9a4b54281ad",
       "version_major": 2,
       "version_minor": 0
      },
      "text/plain": [
       "chunk_srcs_per_file:   0%|          | 0/4 [00:00<?, ?it/s]"
      ]
     },
     "metadata": {},
     "output_type": "display_data"
    },
    {
     "data": {
      "application/vnd.jupyter.widget-view+json": {
       "model_id": "a0d09b49518d4a91aec0a21335a10f5b",
       "version_major": 2,
       "version_minor": 0
      },
      "text/plain": [
       "verify_labels:   0%|          | 0/4 [00:00<?, ?it/s]"
      ]
     },
     "metadata": {},
     "output_type": "display_data"
    },
    {
     "data": {
      "application/vnd.jupyter.widget-view+json": {
       "model_id": "a4682374eaee4d58b0793fe0302dc2f1",
       "version_major": 2,
       "version_minor": 0
      },
      "text/plain": [
       "chunk_srcs_per_file:   0%|          | 0/7 [00:00<?, ?it/s]"
      ]
     },
     "metadata": {},
     "output_type": "display_data"
    },
    {
     "data": {
      "application/vnd.jupyter.widget-view+json": {
       "model_id": "9e6f174ff62d485996b6cfb3844930bb",
       "version_major": 2,
       "version_minor": 0
      },
      "text/plain": [
       "verify_labels:   0%|          | 0/7 [00:00<?, ?it/s]"
      ]
     },
     "metadata": {},
     "output_type": "display_data"
    },
    {
     "data": {
      "application/vnd.jupyter.widget-view+json": {
       "model_id": "bbcc3e0214374ea1bb059e2bfd788b6b",
       "version_major": 2,
       "version_minor": 0
      },
      "text/plain": [
       "chunk_srcs_per_file:   0%|          | 0/7 [00:00<?, ?it/s]"
      ]
     },
     "metadata": {},
     "output_type": "display_data"
    },
    {
     "data": {
      "application/vnd.jupyter.widget-view+json": {
       "model_id": "90497c6eb777440ba5b6efdb2b4a247c",
       "version_major": 2,
       "version_minor": 0
      },
      "text/plain": [
       "verify_labels:   0%|          | 0/7 [00:00<?, ?it/s]"
      ]
     },
     "metadata": {},
     "output_type": "display_data"
    },
    {
     "name": "stdout",
     "output_type": "stream",
     "text": [
      "Pushover: (Finished: 'Preparing chunked datasets'.) Time taken: 0.1s\n"
     ]
    },
    {
     "data": {
      "text/html": [
       "wandb version 0.12.17 is available!  To upgrade, please run:\n",
       " $ pip install wandb --upgrade"
      ],
      "text/plain": [
       "<IPython.core.display.HTML object>"
      ]
     },
     "metadata": {},
     "output_type": "display_data"
    },
    {
     "data": {
      "text/html": [
       "Tracking run with wandb version 0.12.16"
      ],
      "text/plain": [
       "<IPython.core.display.HTML object>"
      ]
     },
     "metadata": {},
     "output_type": "display_data"
    },
    {
     "data": {
      "text/html": [
       "Run data is saved locally in <code>/mnt/data0/jiayi/wandb/run-20220529_230208-1jrq5avq</code>"
      ],
      "text/plain": [
       "<IPython.core.display.HTML object>"
      ]
     },
     "metadata": {},
     "output_type": "display_data"
    },
    {
     "data": {
      "text/html": [
       "Syncing run <strong><a href=\"https://wandb.ai/mrvplusone/quicktest-SPOT-model-per_file-R1-%28512%2C%203072%2C%20512%29-drop_comments/runs/1jrq5avq\" target=\"_blank\">classic-jazz-1</a></strong> to <a href=\"https://wandb.ai/mrvplusone/quicktest-SPOT-model-per_file-R1-%28512%2C%203072%2C%20512%29-drop_comments\" target=\"_blank\">Weights & Biases</a> (<a href=\"https://wandb.me/run\" target=\"_blank\">docs</a>)<br/>"
      ],
      "text/plain": [
       "<IPython.core.display.HTML object>"
      ]
     },
     "metadata": {},
     "output_type": "display_data"
    },
    {
     "name": "stderr",
     "output_type": "stream",
     "text": [
      "Using 16bit native Automatic Mixed Precision (AMP)\n",
      "GPU available: True, used: True\n",
      "TPU available: False, using: 0 TPU cores\n",
      "IPU available: False, using: 0 IPUs\n",
      "HPU available: False, using: 0 HPUs\n",
      "`Trainer(val_check_interval=1)` was configured so validation will run after every batch.\n",
      "LOCAL_RANK: 0 - CUDA_VISIBLE_DEVICES: [1,2]\n",
      "\n",
      "  | Name  | Type                       | Params\n",
      "-----------------------------------------------------\n",
      "0 | model | T5ForConditionalGeneration | 222 M \n",
      "-----------------------------------------------------\n",
      "222 M     Trainable params\n",
      "0         Non-trainable params\n",
      "222 M     Total params\n",
      "445.764   Total estimated model params size (MB)\n"
     ]
    },
    {
     "data": {
      "application/vnd.jupyter.widget-view+json": {
       "model_id": "19d002fa9a99405d8e9f31f1a49d5417",
       "version_major": 2,
       "version_minor": 0
      },
      "text/plain": [
       "Sanity Checking: 0it [00:00, ?it/s]"
      ]
     },
     "metadata": {},
     "output_type": "display_data"
    },
    {
     "name": "stderr",
     "output_type": "stream",
     "text": [
      "/home/jiayi/Projects/SPOT/.venv/lib/python3.10/site-packages/pytorch_lightning/trainer/trainer.py:1927: PossibleUserWarning:\n",
      "\n",
      "The number of training batches (3) is smaller than the logging interval Trainer(log_every_n_steps=50). Set a lower value for log_every_n_steps if you want to see logs for the training epoch.\n",
      "\n"
     ]
    },
    {
     "data": {
      "application/vnd.jupyter.widget-view+json": {
       "model_id": "8d5515d71036485ea3a7833fcde5df29",
       "version_major": 2,
       "version_minor": 0
      },
      "text/plain": [
       "Training: 0it [00:00, ?it/s]"
      ]
     },
     "metadata": {},
     "output_type": "display_data"
    },
    {
     "data": {
      "application/vnd.jupyter.widget-view+json": {
       "model_id": "7df24c43aeff4d029c64dd471828e5c3",
       "version_major": 2,
       "version_minor": 0
      },
      "text/plain": [
       "Validation: 0it [00:00, ?it/s]"
      ]
     },
     "metadata": {},
     "output_type": "display_data"
    },
    {
     "name": "stderr",
     "output_type": "stream",
     "text": [
      "Epoch 0, global step 1: 'valid/loss' reached 1.94272 (best 1.94272), saving model to '/mnt/data0/jiayi/checkpoints/lit-running/quicktest-SPOT-model-per_file-R1-(512, 3072, 512)-drop_comments/epoch=0-step=1.ckpt' as top 2\n"
     ]
    },
    {
     "data": {
      "application/vnd.jupyter.widget-view+json": {
       "model_id": "c00794a1b1544046992b8e3ee4bb29d0",
       "version_major": 2,
       "version_minor": 0
      },
      "text/plain": [
       "Validation: 0it [00:00, ?it/s]"
      ]
     },
     "metadata": {},
     "output_type": "display_data"
    },
    {
     "name": "stderr",
     "output_type": "stream",
     "text": [
      "Epoch 0, global step 2: 'valid/loss' reached 1.94272 (best 1.94272), saving model to '/mnt/data0/jiayi/checkpoints/lit-running/quicktest-SPOT-model-per_file-R1-(512, 3072, 512)-drop_comments/epoch=0-step=2.ckpt' as top 2\n"
     ]
    },
    {
     "data": {
      "application/vnd.jupyter.widget-view+json": {
       "model_id": "10f2cffaeb8c4ffdac8f08632f0ad326",
       "version_major": 2,
       "version_minor": 0
      },
      "text/plain": [
       "Validation: 0it [00:00, ?it/s]"
      ]
     },
     "metadata": {},
     "output_type": "display_data"
    },
    {
     "name": "stderr",
     "output_type": "stream",
     "text": [
      "Epoch 0, global step 3: 'valid/loss' reached 1.41335 (best 1.41335), saving model to '/mnt/data0/jiayi/checkpoints/lit-running/quicktest-SPOT-model-per_file-R1-(512, 3072, 512)-drop_comments/epoch=0-step=3.ckpt' as top 2\n",
      "Metric valid/loss improved. New best score: 1.413\n"
     ]
    },
    {
     "data": {
      "application/vnd.jupyter.widget-view+json": {
       "model_id": "a259a908c723426f9cca530e580b53a2",
       "version_major": 2,
       "version_minor": 0
      },
      "text/plain": [
       "Validation: 0it [00:00, ?it/s]"
      ]
     },
     "metadata": {},
     "output_type": "display_data"
    },
    {
     "name": "stderr",
     "output_type": "stream",
     "text": [
      "Epoch 1, global step 4: 'valid/loss' reached 1.41335 (best 1.41335), saving model to '/mnt/data0/jiayi/checkpoints/lit-running/quicktest-SPOT-model-per_file-R1-(512, 3072, 512)-drop_comments/epoch=1-step=4.ckpt' as top 2\n"
     ]
    },
    {
     "data": {
      "application/vnd.jupyter.widget-view+json": {
       "model_id": "923268999fa348bdb1c43d41f5346d56",
       "version_major": 2,
       "version_minor": 0
      },
      "text/plain": [
       "Validation: 0it [00:00, ?it/s]"
      ]
     },
     "metadata": {},
     "output_type": "display_data"
    },
    {
     "name": "stderr",
     "output_type": "stream",
     "text": [
      "Epoch 1, global step 5: 'valid/loss' reached 1.36920 (best 1.36920), saving model to '/mnt/data0/jiayi/checkpoints/lit-running/quicktest-SPOT-model-per_file-R1-(512, 3072, 512)-drop_comments/epoch=1-step=5.ckpt' as top 2\n"
     ]
    },
    {
     "data": {
      "application/vnd.jupyter.widget-view+json": {
       "model_id": "ef5ee1d60a3c45cca0e9e76a695442ab",
       "version_major": 2,
       "version_minor": 0
      },
      "text/plain": [
       "Validation: 0it [00:00, ?it/s]"
      ]
     },
     "metadata": {},
     "output_type": "display_data"
    },
    {
     "name": "stderr",
     "output_type": "stream",
     "text": [
      "Epoch 1, global step 6: 'valid/loss' reached 1.32861 (best 1.32861), saving model to '/mnt/data0/jiayi/checkpoints/lit-running/quicktest-SPOT-model-per_file-R1-(512, 3072, 512)-drop_comments/epoch=1-step=6.ckpt' as top 2\n",
      "Metric valid/loss improved by 0.085 >= min_delta = 0.0. New best score: 1.329\n"
     ]
    },
    {
     "data": {
      "application/vnd.jupyter.widget-view+json": {
       "model_id": "0ce5133dddc041328d54893459014f51",
       "version_major": 2,
       "version_minor": 0
      },
      "text/plain": [
       "Validation: 0it [00:00, ?it/s]"
      ]
     },
     "metadata": {},
     "output_type": "display_data"
    },
    {
     "name": "stderr",
     "output_type": "stream",
     "text": [
      "Epoch 2, global step 7: 'valid/loss' reached 1.32245 (best 1.32245), saving model to '/mnt/data0/jiayi/checkpoints/lit-running/quicktest-SPOT-model-per_file-R1-(512, 3072, 512)-drop_comments/epoch=2-step=7.ckpt' as top 2\n"
     ]
    },
    {
     "data": {
      "application/vnd.jupyter.widget-view+json": {
       "model_id": "e6181ddece3f4c8095d6692976d5ed19",
       "version_major": 2,
       "version_minor": 0
      },
      "text/plain": [
       "Validation: 0it [00:00, ?it/s]"
      ]
     },
     "metadata": {},
     "output_type": "display_data"
    },
    {
     "name": "stderr",
     "output_type": "stream",
     "text": [
      "Epoch 2, global step 8: 'valid/loss' reached 1.31677 (best 1.31677), saving model to '/mnt/data0/jiayi/checkpoints/lit-running/quicktest-SPOT-model-per_file-R1-(512, 3072, 512)-drop_comments/epoch=2-step=8.ckpt' as top 2\n"
     ]
    },
    {
     "data": {
      "application/vnd.jupyter.widget-view+json": {
       "model_id": "8430b2805dd24ba289f4c0ac051c1296",
       "version_major": 2,
       "version_minor": 0
      },
      "text/plain": [
       "Validation: 0it [00:00, ?it/s]"
      ]
     },
     "metadata": {},
     "output_type": "display_data"
    },
    {
     "name": "stderr",
     "output_type": "stream",
     "text": [
      "Epoch 2, global step 9: 'valid/loss' reached 1.30975 (best 1.30975), saving model to '/mnt/data0/jiayi/checkpoints/lit-running/quicktest-SPOT-model-per_file-R1-(512, 3072, 512)-drop_comments/epoch=2-step=9.ckpt' as top 2\n",
      "Metric valid/loss improved by 0.019 >= min_delta = 0.0. New best score: 1.310\n"
     ]
    },
    {
     "name": "stdout",
     "output_type": "stream",
     "text": [
      "Pushover: (Finished: 'Training quicktest-SPOT-model-per_file-R1-(512, 3072, 512)-drop_comments'.) Time taken: 42.8s\n"
     ]
    },
    {
     "name": "stderr",
     "output_type": "stream",
     "text": [
      "LOCAL_RANK: 0 - CUDA_VISIBLE_DEVICES: [1,2]\n"
     ]
    },
    {
     "data": {
      "application/vnd.jupyter.widget-view+json": {
       "model_id": "efc4c651756e4bb08d55fab2583cf8c1",
       "version_major": 2,
       "version_minor": 0
      },
      "text/plain": [
       "Validation: 0it [00:00, ?it/s]"
      ]
     },
     "metadata": {},
     "output_type": "display_data"
    },
    {
     "name": "stdout",
     "output_type": "stream",
     "text": [
      "────────────────────────────────────────────────────────────────────────────────────────────────────────────────────────\n",
      "     Validate metric           DataLoader 0\n",
      "────────────────────────────────────────────────────────────────────────────────────────────────────────────────────────\n",
      "       valid/loss           1.3097461462020874\n",
      "────────────────────────────────────────────────────────────────────────────────────────────────────────────────────────\n"
     ]
    },
    {
     "data": {
      "text/html": [
       "Waiting for W&B process to finish... <strong style=\"color:green\">(success).</strong>"
      ],
      "text/plain": [
       "<IPython.core.display.HTML object>"
      ]
     },
     "metadata": {},
     "output_type": "display_data"
    },
    {
     "data": {
      "application/vnd.jupyter.widget-view+json": {
       "model_id": "3ac6df01c031459aa8d32c5685225689",
       "version_major": 2,
       "version_minor": 0
      },
      "text/plain": [
       "VBox(children=(Label(value='0.001 MB of 0.001 MB uploaded (0.000 MB deduped)\\r'), FloatProgress(value=1.0, max…"
      ]
     },
     "metadata": {},
     "output_type": "display_data"
    },
    {
     "data": {
      "text/html": [
       "<style>\n",
       "    table.wandb td:nth-child(1) { padding: 0 10px; text-align: left ; width: auto;} td:nth-child(2) {text-align: left ; width: 100%}\n",
       "    .wandb-row { display: flex; flex-direction: row; flex-wrap: wrap; justify-content: flex-start; width: 100% }\n",
       "    .wandb-col { display: flex; flex-direction: column; flex-basis: 100%; flex: 1; padding: 10px; }\n",
       "    </style>\n",
       "<div class=\"wandb-row\"><div class=\"wandb-col\"><h3>Run history:</h3><br/><table class=\"wandb\"><tr><td>epoch</td><td>▁▁▁▃▃▃▆▆▆█</td></tr><tr><td>trainer/global_step</td><td>▁▂▃▃▄▅▆▆▇█</td></tr><tr><td>valid/loss</td><td>██▂▂▂▁▁▁▁▁</td></tr></table><br/></div><div class=\"wandb-col\"><h3>Run summary:</h3><br/><table class=\"wandb\"><tr><td>epoch</td><td>3</td></tr><tr><td>trainer/global_step</td><td>9</td></tr><tr><td>valid/loss</td><td>1.30975</td></tr></table><br/></div></div>"
      ],
      "text/plain": [
       "<IPython.core.display.HTML object>"
      ]
     },
     "metadata": {},
     "output_type": "display_data"
    },
    {
     "data": {
      "text/html": [
       "Synced <strong style=\"color:#cdcd00\">classic-jazz-1</strong>: <a href=\"https://wandb.ai/mrvplusone/quicktest-SPOT-model-per_file-R1-%28512%2C%203072%2C%20512%29-drop_comments/runs/1jrq5avq\" target=\"_blank\">https://wandb.ai/mrvplusone/quicktest-SPOT-model-per_file-R1-%28512%2C%203072%2C%20512%29-drop_comments/runs/1jrq5avq</a><br/>Synced 5 W&B file(s), 0 media file(s), 0 artifact file(s) and 0 other file(s)"
      ],
      "text/plain": [
       "<IPython.core.display.HTML object>"
      ]
     },
     "metadata": {},
     "output_type": "display_data"
    },
    {
     "data": {
      "text/html": [
       "Find logs at: <code>/mnt/data0/jiayi/wandb/run-20220529_230208-1jrq5avq/logs</code>"
      ],
      "text/plain": [
       "<IPython.core.display.HTML object>"
      ]
     },
     "metadata": {},
     "output_type": "display_data"
    }
   ],
   "source": [
    "train_args.max_epochs = 3\n",
    "\n",
    "r1_wrapper, r1_extra = train_spot_model(\n",
    "    r1_src_datasets,\n",
    "    r1_model_name,\n",
    "    dec_args=dec_args,\n",
    "    train_args=train_args,\n",
    "    record_batches=False,\n",
    "    quicktest=quicktest,\n",
    ")\n"
   ]
  },
  {
   "cell_type": "code",
   "execution_count": null,
   "metadata": {},
   "outputs": [
    {
     "data": {
      "application/vnd.jupyter.widget-view+json": {
       "model_id": "20465615cd4f457b9c9604e74ba8d223",
       "version_major": 2,
       "version_minor": 0
      },
      "text/plain": [
       "chunk_srcs_per_file:   0%|          | 0/7 [00:00<?, ?it/s]"
      ]
     },
     "metadata": {},
     "output_type": "display_data"
    },
    {
     "data": {
      "application/vnd.jupyter.widget-view+json": {
       "model_id": "5094c6dbb9d44d9f8ea65314888eee8b",
       "version_major": 2,
       "version_minor": 0
      },
      "text/plain": [
       "verify_labels:   0%|          | 0/7 [00:00<?, ?it/s]"
      ]
     },
     "metadata": {},
     "output_type": "display_data"
    },
    {
     "data": {
      "application/vnd.jupyter.widget-view+json": {
       "model_id": "83fc4eb44ffc472e80dda3d3a1cac976",
       "version_major": 2,
       "version_minor": 0
      },
      "text/plain": [
       "predict:   0%|          | 0/7 [00:00<?, ?it/s]"
      ]
     },
     "metadata": {},
     "output_type": "display_data"
    },
    {
     "name": "stdout",
     "output_type": "stream",
     "text": [
      "[PickleCache] Saving to cache: '/mnt/data0/jiayi/checkpoints/lit-saved/quicktest-SPOT-model-per_file-R1-(512, 3072, 512)-drop_comments/eval-ctx_size=1/r0_eval.pkl'\n"
     ]
    },
    {
     "data": {
      "application/vnd.jupyter.widget-view+json": {
       "model_id": "ffd16360d29948d0a3b9c143613056de",
       "version_major": 2,
       "version_minor": 0
      },
      "text/plain": [
       "type_check_src:   0%|          | 0/7 [00:00<?, ?it/s]"
      ]
     },
     "metadata": {},
     "output_type": "display_data"
    },
    {
     "name": "stdout",
     "output_type": "stream",
     "text": [
      "type_check_success_ratio: 1\n",
      "feedbacks_per_file:\n",
      "   mean: 1.857\n",
      "   median: 0\n",
      "   min: 0\n",
      "   max: 12\n"
     ]
    },
    {
     "data": {
      "application/vnd.jupyter.widget-view+json": {
       "model_id": "d2ff0928848c4f128a8fe1d3496fa307",
       "version_major": 2,
       "version_minor": 0
      },
      "text/plain": [
       "feedbacks_to_tokenized_src:   0%|          | 0/7 [00:00<?, ?it/s]"
      ]
     },
     "metadata": {},
     "output_type": "display_data"
    },
    {
     "name": "stdout",
     "output_type": "stream",
     "text": [
      "[PickleCache] Saving to cache: '/mnt/data0/jiayi/checkpoints/lit-saved/quicktest-SPOT-model-per_file-R1-(512, 3072, 512)-drop_comments/eval-ctx_size=1/r1_srcs.pkl'\n"
     ]
    },
    {
     "data": {
      "application/vnd.jupyter.widget-view+json": {
       "model_id": "eb5d7c0e6b1848f8b527f162c6e83ad8",
       "version_major": 2,
       "version_minor": 0
      },
      "text/plain": [
       "chunk_srcs_per_file:   0%|          | 0/7 [00:00<?, ?it/s]"
      ]
     },
     "metadata": {},
     "output_type": "display_data"
    },
    {
     "data": {
      "application/vnd.jupyter.widget-view+json": {
       "model_id": "b547d45760df402b9eb511534b544acc",
       "version_major": 2,
       "version_minor": 0
      },
      "text/plain": [
       "verify_labels:   0%|          | 0/7 [00:00<?, ?it/s]"
      ]
     },
     "metadata": {},
     "output_type": "display_data"
    },
    {
     "data": {
      "application/vnd.jupyter.widget-view+json": {
       "model_id": "fa35e7ba58e441d3b8bf3ef8be88e680",
       "version_major": 2,
       "version_minor": 0
      },
      "text/plain": [
       "predict:   0%|          | 0/7 [00:00<?, ?it/s]"
      ]
     },
     "metadata": {},
     "output_type": "display_data"
    },
    {
     "name": "stdout",
     "output_type": "stream",
     "text": [
      "[PickleCache] Saving to cache: '/mnt/data0/jiayi/checkpoints/lit-saved/quicktest-SPOT-model-per_file-R1-(512, 3072, 512)-drop_comments/eval-ctx_size=1/r1_eval.pkl'\n",
      "Pushover: (Finished: 'Evaluate accuracy vs ctx_size: quicktest-SPOT-model-per_file-R1-(512, 3072, 512)-drop_comments'.) Time taken: 13.0s\n"
     ]
    },
    {
     "data": {
      "application/vnd.jupyter.widget-view+json": {
       "model_id": "9f94f4e01f484fdf9f0f98d9f44e1a32",
       "version_major": 2,
       "version_minor": 0
      },
      "text/plain": [
       "interactive(children=(IntSlider(value=0, description='i', max=1), Checkbox(value=False, description='expand'),…"
      ]
     },
     "metadata": {},
     "output_type": "display_data"
    }
   ],
   "source": [
    "# load trained model and evaluate\n",
    "\n",
    "r1_wrapper = ModelWrapper.from_pretrained(\n",
    "    datadir / f\"checkpoints/lit-saved/{r1_model_name}\"\n",
    ")\n",
    "\n",
    "r1_wrapper.to(device)\n",
    "\n",
    "evaluate_model(\n",
    "    r0_wrapper,\n",
    "    r1_wrapper,\n",
    "    r1_model_name,\n",
    "    src_datasets[\"test\"],\n",
    "    reeval=False,\n",
    ")\n",
    "None\n"
   ]
  },
  {
   "cell_type": "code",
   "execution_count": null,
   "metadata": {},
   "outputs": [
    {
     "data": {
      "application/vnd.jupyter.widget-view+json": {
       "model_id": "9c1430f4c0234a4785c57b4e17bcd860",
       "version_major": 2,
       "version_minor": 0
      },
      "text/plain": [
       "chunk_srcs_per_file:   0%|          | 0/7 [00:00<?, ?it/s]"
      ]
     },
     "metadata": {},
     "output_type": "display_data"
    },
    {
     "data": {
      "application/vnd.jupyter.widget-view+json": {
       "model_id": "e9a08b5496c74c5d838b9e358c0487ad",
       "version_major": 2,
       "version_minor": 0
      },
      "text/plain": [
       "verify_labels:   0%|          | 0/7 [00:00<?, ?it/s]"
      ]
     },
     "metadata": {},
     "output_type": "display_data"
    },
    {
     "data": {
      "application/vnd.jupyter.widget-view+json": {
       "model_id": "4563ea2b255c46dabf690e18d8cb2cd4",
       "version_major": 2,
       "version_minor": 0
      },
      "text/plain": [
       "predict:   0%|          | 0/7 [00:00<?, ?it/s]"
      ]
     },
     "metadata": {},
     "output_type": "display_data"
    },
    {
     "data": {
      "application/vnd.jupyter.widget-view+json": {
       "model_id": "189f279884b14f059151468853f97baa",
       "version_major": 2,
       "version_minor": 0
      },
      "text/plain": [
       "VBox(children=(HBox(children=(IntSlider(value=0, max=6), Label(value='(7 total)'))), Box(children=(Output(layo…"
      ]
     },
     "metadata": {},
     "output_type": "display_data"
    }
   ],
   "source": [
    "from IPython.display import display\n",
    "\n",
    "from spot.visualization import visualize_batch, visualize_code_sequence\n",
    "\n",
    "\n",
    "def visualize_preds_code(\n",
    "    wrapper: ModelWrapper,\n",
    "    src_dataset: SrcDataset,\n",
    "    n_visual_exs: int = 16,\n",
    "):\n",
    "    _, visual_data, visual_preds = wrapper.eval_on_dataset(\n",
    "        src_dataset[:n_visual_exs], tqdm_args={\"leave\": False}\n",
    "    )\n",
    "\n",
    "    display(\n",
    "        visualize_code_sequence(\n",
    "            [\n",
    "                visualize_batch(\n",
    "                    visual_data,\n",
    "                    i,\n",
    "                    visual_preds,\n",
    "                )\n",
    "                for i in range(min(n_visual_exs, len(visual_preds)))\n",
    "            ]\n",
    "        )\n",
    "    )\n",
    "\n",
    "visualize_preds_code(r1_wrapper, r1_src_datasets[\"test\"], n_visual_exs=50)\n"
   ]
  }
 ],
 "metadata": {
  "interpreter": {
   "hash": "f6ffc72953da4dd16b2e00785be9c4013ef131f465a8658f3921b6634d4eeec8"
  },
  "kernelspec": {
   "display_name": "Python 3.10.4 ('.venv': pipenv)",
   "language": "python",
   "name": "python3"
  },
  "language_info": {
   "codemirror_mode": {
    "name": "ipython",
    "version": 3
   },
   "file_extension": ".py",
   "mimetype": "text/x-python",
   "name": "python",
   "nbconvert_exporter": "python",
   "pygments_lexer": "ipython3",
   "version": "3.10.4"
  },
  "orig_nbformat": 4
 },
 "nbformat": 4,
 "nbformat_minor": 2
}
