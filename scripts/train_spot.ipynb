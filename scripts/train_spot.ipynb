{
 "cells": [
  {
   "cell_type": "code",
   "execution_count": 1,
   "metadata": {},
   "outputs": [],
   "source": [
    "%load_ext autoreload\n",
    "%autoreload 2\n",
    "\n",
    "import os\n",
    "from pathlib import Path\n",
    "from typing import *\n",
    "\n",
    "import pandas as pd\n",
    "import plotly.express as px\n",
    "\n",
    "from spot.utils import cst, proj_root, run_long_task, tqdm\n",
    "\n",
    "os.chdir(proj_root())\n",
    "\n",
    "datadir = Path(os.getenv(\"datadir\"))\n",
    "repos_dir = datadir / \"SPOT-data/repos\""
   ]
  },
  {
   "cell_type": "code",
   "execution_count": 3,
   "metadata": {},
   "outputs": [],
   "source": [
    "# experiment configurations\n",
    "\n",
    "import torch\n",
    "\n",
    "from spot.data import SrcDataset, get_model_name, load_src_datasets\n",
    "from spot.model import CtxArgs, DecodingArgs, ModelSPOT, ModelTrainingArgs, ModelWrapper\n",
    "\n",
    "quicktest = True\n",
    "drop_comments = False\n",
    "data_reduction = 1\n",
    "\n",
    "\n",
    "ctx_args = CtxArgs(\n",
    "    ctx_size=1024,\n",
    "    left_margin=256 + 128,\n",
    "    right_margin=256 - 128,\n",
    "    types_in_ctx=False,\n",
    ")\n",
    "\n",
    "dec_args = DecodingArgs(\n",
    "    sampling_batch_size=128,\n",
    "    ctx_args=ctx_args,\n",
    "    max_workers=20,\n",
    ")\n",
    "\n",
    "\n",
    "r0_model_name = get_model_name(\n",
    "    drop_comments=drop_comments,\n",
    "    ctx_args=ctx_args,\n",
    "    data_reduction=data_reduction,\n",
    "    quicktest=quicktest,\n",
    ")\n",
    "\n",
    "src_datasets = load_src_datasets(\n",
    "    datadir,\n",
    "    drop_comments=drop_comments,\n",
    "    spot_round=0,\n",
    "    data_reduction=data_reduction,\n",
    "    repos_root=datadir / \"SPOT-data/repos\",\n",
    "    quicktest=quicktest,\n",
    ")"
   ]
  },
  {
   "cell_type": "code",
   "execution_count": 4,
   "metadata": {},
   "outputs": [
    {
     "name": "stderr",
     "output_type": "stream",
     "text": [
      "/home/jiayi/Projects/SPOT/.venv/lib/python3.10/site-packages/torchvision/io/image.py:13: UserWarning: Failed to load image Python extension: libtorch_cuda_cu.so: cannot open shared object file: No such file or directory\n",
      "  warn(f\"Failed to load image Python extension: {e}\")\n"
     ]
    },
    {
     "data": {
      "application/vnd.jupyter.widget-view+json": {
       "model_id": "d1d61727a7174a07b8ed5407b07cb5e5",
       "version_major": 2,
       "version_minor": 0
      },
      "text/plain": [
       "processing chunks:   0%|          | 0/56 [00:00<?, ?it/s]"
      ]
     },
     "metadata": {},
     "output_type": "display_data"
    },
    {
     "data": {
      "application/vnd.jupyter.widget-view+json": {
       "model_id": "7694a41952a94ee098cc45bf0ef0cb87",
       "version_major": 2,
       "version_minor": 0
      },
      "text/plain": [
       "processing chunks:   0%|          | 0/56 [00:00<?, ?it/s]"
      ]
     },
     "metadata": {},
     "output_type": "display_data"
    },
    {
     "data": {
      "application/vnd.jupyter.widget-view+json": {
       "model_id": "00525cf9a4a1450ebff677208afe489e",
       "version_major": 2,
       "version_minor": 0
      },
      "text/plain": [
       "processing chunks:   0%|          | 0/47 [00:00<?, ?it/s]"
      ]
     },
     "metadata": {},
     "output_type": "display_data"
    },
    {
     "name": "stderr",
     "output_type": "stream",
     "text": [
      "Failed to detect the name of this notebook, you can set it manually with the WANDB_NOTEBOOK_NAME environment variable to enable code saving.\n"
     ]
    },
    {
     "name": "stdout",
     "output_type": "stream",
     "text": [
      "Pushover: (Finished: 'Preparing chunked datasets'.) Time taken: 7.4s\n"
     ]
    },
    {
     "name": "stderr",
     "output_type": "stream",
     "text": [
      "\u001b[34m\u001b[1mwandb\u001b[0m: Currently logged in as: \u001b[33mmrvplusone\u001b[0m. Use \u001b[1m`wandb login --relogin`\u001b[0m to force relogin\n"
     ]
    },
    {
     "data": {
      "text/html": [
       "Tracking run with wandb version 0.12.16"
      ],
      "text/plain": [
       "<IPython.core.display.HTML object>"
      ]
     },
     "metadata": {},
     "output_type": "display_data"
    },
    {
     "data": {
      "text/html": [
       "Run data is saved locally in <code>/mnt/data0/jiayi/wandb/run-20220525_172354-5t270opb</code>"
      ],
      "text/plain": [
       "<IPython.core.display.HTML object>"
      ]
     },
     "metadata": {},
     "output_type": "display_data"
    },
    {
     "data": {
      "text/html": [
       "Syncing run <strong><a href=\"https://wandb.ai/mrvplusone/quicktest-SPOT-model-R0-%28384%2C%20512%2C%20128%29/runs/5t270opb\" target=\"_blank\">electric-snowflake-15</a></strong> to <a href=\"https://wandb.ai/mrvplusone/quicktest-SPOT-model-R0-%28384%2C%20512%2C%20128%29\" target=\"_blank\">Weights & Biases</a> (<a href=\"https://wandb.me/run\" target=\"_blank\">docs</a>)<br/>"
      ],
      "text/plain": [
       "<IPython.core.display.HTML object>"
      ]
     },
     "metadata": {},
     "output_type": "display_data"
    },
    {
     "name": "stderr",
     "output_type": "stream",
     "text": [
      "Using 16bit native Automatic Mixed Precision (AMP)\n",
      "GPU available: True, used: True\n",
      "TPU available: False, using: 0 TPU cores\n",
      "IPU available: False, using: 0 IPUs\n",
      "HPU available: False, using: 0 HPUs\n",
      "`Trainer(val_check_interval=1)` was configured so validation will run after every batch.\n",
      "LOCAL_RANK: 0 - CUDA_VISIBLE_DEVICES: [1,2]\n",
      "\n",
      "  | Name  | Type                       | Params\n",
      "-----------------------------------------------------\n",
      "0 | model | T5ForConditionalGeneration | 222 M \n",
      "-----------------------------------------------------\n",
      "222 M     Trainable params\n",
      "0         Non-trainable params\n",
      "222 M     Total params\n",
      "445.764   Total estimated model params size (MB)\n"
     ]
    },
    {
     "data": {
      "application/vnd.jupyter.widget-view+json": {
       "model_id": "46a778121c5241a1a464750036432fc0",
       "version_major": 2,
       "version_minor": 0
      },
      "text/plain": [
       "Sanity Checking: 0it [00:00, ?it/s]"
      ]
     },
     "metadata": {},
     "output_type": "display_data"
    },
    {
     "name": "stderr",
     "output_type": "stream",
     "text": [
      "/home/jiayi/Projects/SPOT/.venv/lib/python3.10/site-packages/pytorch_lightning/trainer/trainer.py:1927: PossibleUserWarning: The number of training batches (4) is smaller than the logging interval Trainer(log_every_n_steps=50). Set a lower value for log_every_n_steps if you want to see logs for the training epoch.\n",
      "  rank_zero_warn(\n"
     ]
    },
    {
     "data": {
      "application/vnd.jupyter.widget-view+json": {
       "model_id": "afdb5d3c9c7f4329adf866226c158977",
       "version_major": 2,
       "version_minor": 0
      },
      "text/plain": [
       "Training: 0it [00:00, ?it/s]"
      ]
     },
     "metadata": {},
     "output_type": "display_data"
    },
    {
     "data": {
      "application/vnd.jupyter.widget-view+json": {
       "model_id": "0d9786c1737a41ffa28212d1cfeb3813",
       "version_major": 2,
       "version_minor": 0
      },
      "text/plain": [
       "Validation: 0it [00:00, ?it/s]"
      ]
     },
     "metadata": {},
     "output_type": "display_data"
    },
    {
     "name": "stderr",
     "output_type": "stream",
     "text": [
      "Epoch 0, global step 1: 'valid/loss' reached 1.91412 (best 1.91412), saving model to '/mnt/data0/jiayi/checkpoints/lit-running/quicktest-SPOT-model-R0-(384, 512, 128)/epoch=0-step=1.ckpt' as top 2\n"
     ]
    },
    {
     "data": {
      "application/vnd.jupyter.widget-view+json": {
       "model_id": "a0acf5d3ab4d4746815fd19ef5a7a29b",
       "version_major": 2,
       "version_minor": 0
      },
      "text/plain": [
       "Validation: 0it [00:00, ?it/s]"
      ]
     },
     "metadata": {},
     "output_type": "display_data"
    },
    {
     "name": "stderr",
     "output_type": "stream",
     "text": [
      "Epoch 0, global step 2: 'valid/loss' reached 1.91412 (best 1.91412), saving model to '/mnt/data0/jiayi/checkpoints/lit-running/quicktest-SPOT-model-R0-(384, 512, 128)/epoch=0-step=2.ckpt' as top 2\n"
     ]
    },
    {
     "data": {
      "application/vnd.jupyter.widget-view+json": {
       "model_id": "cddfbad62e52474eb275557569d1b60c",
       "version_major": 2,
       "version_minor": 0
      },
      "text/plain": [
       "Validation: 0it [00:00, ?it/s]"
      ]
     },
     "metadata": {},
     "output_type": "display_data"
    },
    {
     "name": "stderr",
     "output_type": "stream",
     "text": [
      "Epoch 0, global step 3: 'valid/loss' reached 1.72943 (best 1.72943), saving model to '/mnt/data0/jiayi/checkpoints/lit-running/quicktest-SPOT-model-R0-(384, 512, 128)/epoch=0-step=3.ckpt' as top 2\n"
     ]
    },
    {
     "data": {
      "application/vnd.jupyter.widget-view+json": {
       "model_id": "f64333d85d0e4b9f93ac3142efb42743",
       "version_major": 2,
       "version_minor": 0
      },
      "text/plain": [
       "Validation: 0it [00:00, ?it/s]"
      ]
     },
     "metadata": {},
     "output_type": "display_data"
    },
    {
     "name": "stderr",
     "output_type": "stream",
     "text": [
      "Epoch 0, global step 4: 'valid/loss' reached 1.60340 (best 1.60340), saving model to '/mnt/data0/jiayi/checkpoints/lit-running/quicktest-SPOT-model-R0-(384, 512, 128)/epoch=0-step=4.ckpt' as top 2\n",
      "Metric valid/loss improved. New best score: 1.603\n"
     ]
    },
    {
     "name": "stdout",
     "output_type": "stream",
     "text": [
      "Pushover: (Finished: 'Training quicktest-SPOT-model-R0-(384, 512, 128)'.) Time taken: 34.1s\n"
     ]
    },
    {
     "name": "stderr",
     "output_type": "stream",
     "text": [
      "LOCAL_RANK: 0 - CUDA_VISIBLE_DEVICES: [1,2]\n"
     ]
    },
    {
     "data": {
      "application/vnd.jupyter.widget-view+json": {
       "model_id": "3836a9d28e3c48c7babbe981042ea21e",
       "version_major": 2,
       "version_minor": 0
      },
      "text/plain": [
       "Validation: 0it [00:00, ?it/s]"
      ]
     },
     "metadata": {},
     "output_type": "display_data"
    },
    {
     "name": "stdout",
     "output_type": "stream",
     "text": [
      "────────────────────────────────────────────────────────────────────────────────────────────────────────────────────────\n",
      "     Validate metric           DataLoader 0\n",
      "────────────────────────────────────────────────────────────────────────────────────────────────────────────────────────\n",
      "       valid/loss            1.603398323059082\n",
      "────────────────────────────────────────────────────────────────────────────────────────────────────────────────────────\n"
     ]
    },
    {
     "data": {
      "application/vnd.jupyter.widget-view+json": {
       "model_id": "e16e916abf9545e3993279a70b6fdda2",
       "version_major": 2,
       "version_minor": 0
      },
      "text/plain": [
       "  0%|          | 0/3 [00:00<?, ?it/s]"
      ]
     },
     "metadata": {},
     "output_type": "display_data"
    },
    {
     "data": {
      "application/vnd.jupyter.widget-view+json": {
       "model_id": "75ef86d1981d489abdc09526617a2443",
       "version_major": 2,
       "version_minor": 0
      },
      "text/plain": [
       "predict:   0%|          | 0/12 [00:00<?, ?it/s]"
      ]
     },
     "metadata": {},
     "output_type": "display_data"
    },
    {
     "data": {
      "application/vnd.jupyter.widget-view+json": {
       "model_id": "175720d9d4ed470a912dbec2d4e09bce",
       "version_major": 2,
       "version_minor": 0
      },
      "text/plain": [
       "predict:   0%|          | 0/12 [00:00<?, ?it/s]"
      ]
     },
     "metadata": {},
     "output_type": "display_data"
    },
    {
     "data": {
      "application/vnd.jupyter.widget-view+json": {
       "model_id": "dbb368e5f5d44574806e629017c1782a",
       "version_major": 2,
       "version_minor": 0
      },
      "text/plain": [
       "predict:   0%|          | 0/5 [00:00<?, ?it/s]"
      ]
     },
     "metadata": {},
     "output_type": "display_data"
    },
    {
     "data": {
      "application/vnd.jupyter.widget-view+json": {
       "model_id": "2fd967f041e04bf095a9d6e6354a89f5",
       "version_major": 2,
       "version_minor": 0
      },
      "text/plain": [
       "type_check_src:   0%|          | 0/15 [00:00<?, ?it/s]"
      ]
     },
     "metadata": {},
     "output_type": "display_data"
    },
    {
     "name": "stdout",
     "output_type": "stream",
     "text": [
      "num_type_checked: 15\n",
      "errors_per_file:\n",
      "   mean: 2\n",
      "   median: 1\n",
      "   min: 0\n",
      "   max: 7\n"
     ]
    },
    {
     "data": {
      "application/vnd.jupyter.widget-view+json": {
       "model_id": "e9947c4d43384470b5dc153e9beeb85d",
       "version_major": 2,
       "version_minor": 0
      },
      "text/plain": [
       "feedbacks_to_tokenized_src:   0%|          | 0/15 [00:00<?, ?it/s]"
      ]
     },
     "metadata": {},
     "output_type": "display_data"
    },
    {
     "data": {
      "application/vnd.jupyter.widget-view+json": {
       "model_id": "31193e28c4ee4c1ca8bd6ac02ee096b4",
       "version_major": 2,
       "version_minor": 0
      },
      "text/plain": [
       "predict:   0%|          | 0/42 [00:00<?, ?it/s]"
      ]
     },
     "metadata": {},
     "output_type": "display_data"
    },
    {
     "data": {
      "application/vnd.jupyter.widget-view+json": {
       "model_id": "fa8a74d569b24341babcc9b9fbf01974",
       "version_major": 2,
       "version_minor": 0
      },
      "text/plain": [
       "type_check_src:   0%|          | 0/19 [00:00<?, ?it/s]"
      ]
     },
     "metadata": {},
     "output_type": "display_data"
    },
    {
     "name": "stdout",
     "output_type": "stream",
     "text": [
      "num_type_checked: 19\n",
      "errors_per_file:\n",
      "   mean: 1.789\n",
      "   median: 1\n",
      "   min: 0\n",
      "   max: 5\n"
     ]
    },
    {
     "data": {
      "application/vnd.jupyter.widget-view+json": {
       "model_id": "5020fcdc0cbc477ea9272c59db7030d4",
       "version_major": 2,
       "version_minor": 0
      },
      "text/plain": [
       "feedbacks_to_tokenized_src:   0%|          | 0/19 [00:00<?, ?it/s]"
      ]
     },
     "metadata": {},
     "output_type": "display_data"
    },
    {
     "data": {
      "application/vnd.jupyter.widget-view+json": {
       "model_id": "0a064d672b314f8aa33217b994e32033",
       "version_major": 2,
       "version_minor": 0
      },
      "text/plain": [
       "predict:   0%|          | 0/46 [00:00<?, ?it/s]"
      ]
     },
     "metadata": {},
     "output_type": "display_data"
    },
    {
     "data": {
      "application/vnd.jupyter.widget-view+json": {
       "model_id": "75170052a3c8489483bb97a813715497",
       "version_major": 2,
       "version_minor": 0
      },
      "text/plain": [
       "type_check_src:   0%|          | 0/21 [00:00<?, ?it/s]"
      ]
     },
     "metadata": {},
     "output_type": "display_data"
    },
    {
     "name": "stdout",
     "output_type": "stream",
     "text": [
      "num_type_checked: 21\n",
      "errors_per_file:\n",
      "   mean: 3.19\n",
      "   median: 1\n",
      "   min: 0\n",
      "   max: 17\n"
     ]
    },
    {
     "data": {
      "application/vnd.jupyter.widget-view+json": {
       "model_id": "92aa5a4096f34e1490717dfc9367e13d",
       "version_major": 2,
       "version_minor": 0
      },
      "text/plain": [
       "feedbacks_to_tokenized_src:   0%|          | 0/21 [00:00<?, ?it/s]"
      ]
     },
     "metadata": {},
     "output_type": "display_data"
    },
    {
     "name": "stdout",
     "output_type": "stream",
     "text": [
      "Pushover: (Finished: 'Generating R1 dataset'.) Time taken: 48.7s\n"
     ]
    }
   ],
   "source": [
    "# train the model\n",
    "from spot.train import train_spot_model\n",
    "\n",
    "train_args = ModelTrainingArgs(\n",
    "    train_batch_size=12,\n",
    "    eval_batch_size=64,\n",
    "    max_epochs=1,\n",
    ")\n",
    "\n",
    "r0_wrapper, r0_extra = train_spot_model(\n",
    "    src_datasets,\n",
    "    r0_model_name,\n",
    "    dec_args=dec_args,\n",
    "    train_args=train_args,\n",
    "    record_batches=True,\n",
    "    quicktest=quicktest,\n",
    ")\n"
   ]
  },
  {
   "cell_type": "code",
   "execution_count": 5,
   "metadata": {},
   "outputs": [
    {
     "name": "stdout",
     "output_type": "stream",
     "text": [
      "DecodingArgs(ctx_args=CtxArgs(left=384, window=512, right=128), sampling_batch_size=128, max_workers=20, generation_max_length=128, do_sample=False, top_p=0.9)\n"
     ]
    }
   ],
   "source": [
    "# load trained model\n",
    "from spot.utils import pickle_load\n",
    "\n",
    "r0_wrapper = ModelWrapper.from_pretrained(\n",
    "    datadir / f\"checkpoints/lit-saved/{r0_model_name}\"\n",
    ")\n",
    "r0_extra = pickle_load(datadir / f\"checkpoints/lit-saved/{r0_model_name}/extra.pkl\")\n",
    "r1_src_datasets: dict[str, SrcDataset] = r0_extra[\"R1-src_datasets\"]\n",
    "device = torch.device(\"cuda:0\" if torch.cuda.is_available() else \"cpu\")\n",
    "r0_wrapper.to(device)\n",
    "r0_wrapper.args.do_sample = False\n",
    "print(r0_wrapper.args)\n"
   ]
  },
  {
   "cell_type": "code",
   "execution_count": 13,
   "metadata": {},
   "outputs": [
    {
     "name": "stdout",
     "output_type": "stream",
     "text": [
      "[PickleCache] Loading from cache: %s /mnt/data0/jiayi/checkpoints/lit-saved/quicktest-SPOT-model-R0-(384, 512, 128)/eval/ctx_size_factor=1.pkl\n",
      "===ctx_size factor: 1===\n",
      "ctx_args: CtxArgs(left=384, window=512, right=128)\n",
      "partial_acc: 0.6438\n",
      "partial_acc_wo_any: 0.6405\n",
      "partial_accs:\n",
      "   FuncArg: 0.7308\n",
      "   FuncReturn: 0.6515\n",
      "   ClassAtribute: 0.5\n",
      "   LocalVar: 0.5833\n",
      "full_acc: 0.5813\n",
      "full_accs:\n",
      "   FuncArg: 0.6346\n",
      "   FuncReturn: 0.6061\n",
      "   ClassAtribute: 0.4667\n",
      "   LocalVar: 0.5\n",
      "n_labels: 160\n",
      "[PickleCache] Loading from cache: %s /mnt/data0/jiayi/checkpoints/lit-saved/quicktest-SPOT-model-R0-(384, 512, 128)/eval/ctx_size_factor=2.pkl\n",
      "===ctx_size factor: 2===\n",
      "ctx_args: CtxArgs(left=1280, window=512, right=256)\n",
      "partial_acc: 0.5924\n",
      "partial_acc_wo_any: 0.5867\n",
      "partial_accs:\n",
      "   FuncArg: 0.5686\n",
      "   FuncReturn: 0.5846\n",
      "   ClassAtribute: 0.6\n",
      "   LocalVar: 0.7273\n",
      "full_acc: 0.5605\n",
      "full_accs:\n",
      "   FuncArg: 0.549\n",
      "   FuncReturn: 0.5538\n",
      "   ClassAtribute: 0.5667\n",
      "   LocalVar: 0.6364\n",
      "n_labels: 157\n",
      "Pushover: (Finished: 'Evaluate accuracy vs ctx_size: quicktest-SPOT-model-R0-(384, 512, 128)'.) Time taken: 0.0s\n"
     ]
    }
   ],
   "source": [
    "# evaluate the model\n",
    "\n",
    "from spot.data import pretty_print_accuracies, load_src_datasets\n",
    "from spot.utils import PickleCache\n",
    "import plotly.express as px\n",
    "\n",
    "\n",
    "def evaluate_model(\n",
    "    wrapper: ModelWrapper, model_name: str, testset: SrcDataset, size_factors=[1, 2],\n",
    "    reeval=False,\n",
    "):\n",
    "    eval_cache = PickleCache(datadir / f\"checkpoints/lit-saved/{model_name}/eval\")\n",
    "    if reeval:\n",
    "        eval_cache.clear()\n",
    "\n",
    "    with run_long_task(f\"Evaluate accuracy vs ctx_size: {model_name}\"):\n",
    "        wrapper_args = wrapper.args\n",
    "        acc_series = []\n",
    "        try:\n",
    "            for factor in size_factors:\n",
    "                wrapper.args = wrapper_args.scale_ctx_size(factor)\n",
    "                accs = eval_cache.cached(\n",
    "                    f\"ctx_size_factor={factor}.pkl\",\n",
    "                    lambda: wrapper.eval_on_dataset(\n",
    "                        testset, tqdm_args={\"leave\": False}\n",
    "                    )[0],\n",
    "                )\n",
    "                acc_series.append(accs)\n",
    "                print(f\"===ctx_size factor: {factor}===\")\n",
    "                print(f\"ctx_args: {wrapper.args.ctx_args}\")\n",
    "                pretty_print_accuracies(accs)\n",
    "        finally:\n",
    "            wrapper.args = wrapper_args\n",
    "\n",
    "    acc_df = pd.DataFrame(\n",
    "        {\n",
    "            \"ctx_size\": size_factors,\n",
    "            \"partial_acc\": [x[\"partial_acc\"] for x in acc_series],\n",
    "            \"full_acc\": [x[\"full_acc\"] for x in acc_series],\n",
    "        }\n",
    "    )\n",
    "    px.line(acc_df, x=\"ctx_size\", y=[\"partial_acc\", \"full_acc\"], title=model_name)\n",
    "    return acc_series\n",
    "\n",
    "\n",
    "evaluate_model(r0_wrapper, r0_model_name, src_datasets[\"test\"])\n",
    "None\n"
   ]
  },
  {
   "cell_type": "code",
   "execution_count": 8,
   "metadata": {},
   "outputs": [
    {
     "data": {
      "application/vnd.jupyter.widget-view+json": {
       "model_id": "4ff66537a2494eca986a105f25b2bc1d",
       "version_major": 2,
       "version_minor": 0
      },
      "text/plain": [
       "processing chunks:   0%|          | 0/57 [00:00<?, ?it/s]"
      ]
     },
     "metadata": {},
     "output_type": "display_data"
    },
    {
     "data": {
      "application/vnd.jupyter.widget-view+json": {
       "model_id": "102d7c8729e84040a7b379d64f97ea19",
       "version_major": 2,
       "version_minor": 0
      },
      "text/plain": [
       "processing chunks:   0%|          | 0/60 [00:00<?, ?it/s]"
      ]
     },
     "metadata": {},
     "output_type": "display_data"
    },
    {
     "data": {
      "application/vnd.jupyter.widget-view+json": {
       "model_id": "a036e047ccbf4eb999867e479ea8a480",
       "version_major": 2,
       "version_minor": 0
      },
      "text/plain": [
       "processing chunks:   0%|          | 0/45 [00:00<?, ?it/s]"
      ]
     },
     "metadata": {},
     "output_type": "display_data"
    },
    {
     "name": "stderr",
     "output_type": "stream",
     "text": [
      "/home/jiayi/Projects/SPOT/.venv/lib/python3.10/site-packages/pytorch_lightning/loggers/wandb.py:347: UserWarning:\n",
      "\n",
      "There is a wandb run already in progress and newly created instances of `WandbLogger` will reuse this run. If this is not desired, call `wandb.finish()` before instantiating `WandbLogger`.\n",
      "\n",
      "Using 16bit native Automatic Mixed Precision (AMP)\n",
      "GPU available: True, used: True\n",
      "TPU available: False, using: 0 TPU cores\n",
      "IPU available: False, using: 0 IPUs\n",
      "HPU available: False, using: 0 HPUs\n",
      "`Trainer(val_check_interval=1)` was configured so validation will run after every batch.\n",
      "LOCAL_RANK: 0 - CUDA_VISIBLE_DEVICES: [1,2]\n",
      "\n",
      "  | Name  | Type                       | Params\n",
      "-----------------------------------------------------\n",
      "0 | model | T5ForConditionalGeneration | 222 M \n",
      "-----------------------------------------------------\n",
      "222 M     Trainable params\n",
      "0         Non-trainable params\n",
      "222 M     Total params\n",
      "445.764   Total estimated model params size (MB)\n"
     ]
    },
    {
     "name": "stdout",
     "output_type": "stream",
     "text": [
      "Pushover: (Finished: 'Preparing chunked datasets'.) Time taken: 14.9s\n"
     ]
    },
    {
     "data": {
      "application/vnd.jupyter.widget-view+json": {
       "model_id": "32ac26da63924daf8390305d17512646",
       "version_major": 2,
       "version_minor": 0
      },
      "text/plain": [
       "Sanity Checking: 0it [00:00, ?it/s]"
      ]
     },
     "metadata": {},
     "output_type": "display_data"
    },
    {
     "name": "stderr",
     "output_type": "stream",
     "text": [
      "/home/jiayi/Projects/SPOT/.venv/lib/python3.10/site-packages/pytorch_lightning/trainer/trainer.py:1927: PossibleUserWarning:\n",
      "\n",
      "The number of training batches (4) is smaller than the logging interval Trainer(log_every_n_steps=50). Set a lower value for log_every_n_steps if you want to see logs for the training epoch.\n",
      "\n"
     ]
    },
    {
     "data": {
      "application/vnd.jupyter.widget-view+json": {
       "model_id": "63295668078f492082dca294cbf95685",
       "version_major": 2,
       "version_minor": 0
      },
      "text/plain": [
       "Training: 0it [00:00, ?it/s]"
      ]
     },
     "metadata": {},
     "output_type": "display_data"
    },
    {
     "data": {
      "application/vnd.jupyter.widget-view+json": {
       "model_id": "78da2fc253d1454cb215d70735ffb30f",
       "version_major": 2,
       "version_minor": 0
      },
      "text/plain": [
       "Validation: 0it [00:00, ?it/s]"
      ]
     },
     "metadata": {},
     "output_type": "display_data"
    },
    {
     "name": "stderr",
     "output_type": "stream",
     "text": [
      "Epoch 0, global step 1: 'valid/loss' reached 2.05834 (best 2.05834), saving model to '/mnt/data0/jiayi/checkpoints/lit-running/quicktest-SPOT-model-R1-(384, 512, 128)/epoch=0-step=1.ckpt' as top 2\n"
     ]
    },
    {
     "data": {
      "application/vnd.jupyter.widget-view+json": {
       "model_id": "e2eebddc123041b9b768c2f8f35a8b82",
       "version_major": 2,
       "version_minor": 0
      },
      "text/plain": [
       "Validation: 0it [00:00, ?it/s]"
      ]
     },
     "metadata": {},
     "output_type": "display_data"
    },
    {
     "name": "stderr",
     "output_type": "stream",
     "text": [
      "Epoch 0, global step 2: 'valid/loss' reached 1.80262 (best 1.80262), saving model to '/mnt/data0/jiayi/checkpoints/lit-running/quicktest-SPOT-model-R1-(384, 512, 128)/epoch=0-step=2.ckpt' as top 2\n"
     ]
    },
    {
     "data": {
      "application/vnd.jupyter.widget-view+json": {
       "model_id": "5f65267eb7e740adbdfaa4dc71032fd3",
       "version_major": 2,
       "version_minor": 0
      },
      "text/plain": [
       "Validation: 0it [00:00, ?it/s]"
      ]
     },
     "metadata": {},
     "output_type": "display_data"
    },
    {
     "name": "stderr",
     "output_type": "stream",
     "text": [
      "Epoch 0, global step 3: 'valid/loss' reached 1.80262 (best 1.80262), saving model to '/mnt/data0/jiayi/checkpoints/lit-running/quicktest-SPOT-model-R1-(384, 512, 128)/epoch=0-step=3.ckpt' as top 2\n"
     ]
    },
    {
     "data": {
      "application/vnd.jupyter.widget-view+json": {
       "model_id": "af3a4b1277644e8c80d58ad452a29057",
       "version_major": 2,
       "version_minor": 0
      },
      "text/plain": [
       "Validation: 0it [00:00, ?it/s]"
      ]
     },
     "metadata": {},
     "output_type": "display_data"
    },
    {
     "name": "stderr",
     "output_type": "stream",
     "text": [
      "Epoch 0, global step 4: 'valid/loss' reached 1.70794 (best 1.70794), saving model to '/mnt/data0/jiayi/checkpoints/lit-running/quicktest-SPOT-model-R1-(384, 512, 128)/epoch=0-step=4.ckpt' as top 2\n",
      "Metric valid/loss improved. New best score: 1.708\n"
     ]
    },
    {
     "name": "stdout",
     "output_type": "stream",
     "text": [
      "Pushover: (Finished: 'Training quicktest-SPOT-model-R1-(384, 512, 128)'.) Time taken: 27.0s\n"
     ]
    },
    {
     "name": "stderr",
     "output_type": "stream",
     "text": [
      "LOCAL_RANK: 0 - CUDA_VISIBLE_DEVICES: [1,2]\n"
     ]
    },
    {
     "data": {
      "application/vnd.jupyter.widget-view+json": {
       "model_id": "a8c9d58799e5458186164a7bbaa702f8",
       "version_major": 2,
       "version_minor": 0
      },
      "text/plain": [
       "Validation: 0it [00:00, ?it/s]"
      ]
     },
     "metadata": {},
     "output_type": "display_data"
    },
    {
     "name": "stdout",
     "output_type": "stream",
     "text": [
      "────────────────────────────────────────────────────────────────────────────────────────────────────────────────────────\n",
      "     Validate metric           DataLoader 0\n",
      "────────────────────────────────────────────────────────────────────────────────────────────────────────────────────────\n",
      "       valid/loss           1.7079379558563232\n",
      "────────────────────────────────────────────────────────────────────────────────────────────────────────────────────────\n"
     ]
    }
   ],
   "source": [
    "# R1 experiment configurations\n",
    "\n",
    "import torch\n",
    "\n",
    "from spot.data import ChunkedDataset, SrcDataset, get_dataset_name, get_model_name\n",
    "from spot.model import CtxArgs, DecodingArgs, ModelSPOT, ModelTrainingArgs, ModelWrapper\n",
    "\n",
    "r1_model_name = get_model_name(\n",
    "    spot_round=1,\n",
    "    drop_comments=drop_comments,\n",
    "    ctx_args=ctx_args,\n",
    "    data_reduction=data_reduction,\n",
    "    quicktest=quicktest,\n",
    ")\n",
    "\n",
    "r1_wrapper, r1_extra = train_spot_model(\n",
    "    r1_src_datasets,\n",
    "    r1_model_name,\n",
    "    dec_args=dec_args,\n",
    "    train_args=train_args,\n",
    "    record_batches=False,\n",
    "    quicktest=quicktest,\n",
    ")\n"
   ]
  },
  {
   "cell_type": "code",
   "execution_count": 15,
   "metadata": {},
   "outputs": [
    {
     "data": {
      "application/vnd.jupyter.widget-view+json": {
       "model_id": "fb6263b4b6914f589df6eb0644469824",
       "version_major": 2,
       "version_minor": 0
      },
      "text/plain": [
       "processing chunks:   0%|          | 0/60 [00:00<?, ?it/s]"
      ]
     },
     "metadata": {},
     "output_type": "display_data"
    },
    {
     "data": {
      "application/vnd.jupyter.widget-view+json": {
       "model_id": "7fd8e1ffd28849bab944bf8f3e005b0d",
       "version_major": 2,
       "version_minor": 0
      },
      "text/plain": [
       "predict:   0%|          | 0/49 [00:00<?, ?it/s]"
      ]
     },
     "metadata": {},
     "output_type": "display_data"
    },
    {
     "name": "stdout",
     "output_type": "stream",
     "text": [
      "[PickleCache] Saving to cache: %s /mnt/data0/jiayi/checkpoints/lit-saved/quicktest-SPOT-model-R1-(384, 512, 128)/eval/ctx_size_factor=1.pkl\n",
      "===ctx_size factor: 1===\n",
      "ctx_args: CtxArgs(left=384, window=512, right=128)\n",
      "partial_acc: 0.559\n",
      "partial_acc_wo_any: 0.5455\n",
      "partial_accs:\n",
      "   FuncArg: 0.5\n",
      "   FuncReturn: 0.6269\n",
      "   ClassAtribute: 0.6\n",
      "   LocalVar: 0.3333\n",
      "full_acc: 0.5342\n",
      "full_accs:\n",
      "   FuncArg: 0.4615\n",
      "   FuncReturn: 0.6269\n",
      "   ClassAtribute: 0.5667\n",
      "   LocalVar: 0.25\n",
      "n_labels: 161\n"
     ]
    },
    {
     "data": {
      "application/vnd.jupyter.widget-view+json": {
       "model_id": "c819060bf8d341a2848121c2eba2e9d9",
       "version_major": 2,
       "version_minor": 0
      },
      "text/plain": [
       "processing chunks:   0%|          | 0/60 [00:00<?, ?it/s]"
      ]
     },
     "metadata": {},
     "output_type": "display_data"
    },
    {
     "data": {
      "application/vnd.jupyter.widget-view+json": {
       "model_id": "bb81f7c954a54d439c805e441ac7323e",
       "version_major": 2,
       "version_minor": 0
      },
      "text/plain": [
       "predict:   0%|          | 0/48 [00:00<?, ?it/s]"
      ]
     },
     "metadata": {},
     "output_type": "display_data"
    },
    {
     "name": "stdout",
     "output_type": "stream",
     "text": [
      "[PickleCache] Saving to cache: %s /mnt/data0/jiayi/checkpoints/lit-saved/quicktest-SPOT-model-R1-(384, 512, 128)/eval/ctx_size_factor=2.pkl\n",
      "===ctx_size factor: 2===\n",
      "ctx_args: CtxArgs(left=1280, window=512, right=256)\n",
      "partial_acc: 0.5096\n",
      "partial_acc_wo_any: 0.5\n",
      "partial_accs:\n",
      "   FuncArg: 0.4314\n",
      "   FuncReturn: 0.6462\n",
      "   ClassAtribute: 0.5\n",
      "   LocalVar: 0.09091\n",
      "full_acc: 0.4713\n",
      "full_accs:\n",
      "   FuncArg: 0.3922\n",
      "   FuncReturn: 0.6154\n",
      "   ClassAtribute: 0.4667\n",
      "n_labels: 157\n",
      "Pushover: (Finished: 'Evaluate accuracy vs ctx_size: quicktest-SPOT-model-R1-(384, 512, 128)'.) Time taken: 39.5s\n"
     ]
    }
   ],
   "source": [
    "r1_wrapper.to(device)\n",
    "evaluate_model(r1_wrapper, r1_model_name, r1_src_datasets[\"test\"], reeval=True)\n",
    "None\n"
   ]
  },
  {
   "cell_type": "code",
   "execution_count": null,
   "metadata": {},
   "outputs": [
    {
     "data": {
      "application/vnd.jupyter.widget-view+json": {
       "model_id": "9a8efcdf573d4d19850006485f4bf10f",
       "version_major": 2,
       "version_minor": 0
      },
      "text/plain": [
       "processing chunks:   0%|          | 0/47 [00:00<?, ?it/s]"
      ]
     },
     "metadata": {},
     "output_type": "display_data"
    },
    {
     "data": {
      "application/vnd.jupyter.widget-view+json": {
       "model_id": "4c5c8dfc3ae94158965662da46ea9245",
       "version_major": 2,
       "version_minor": 0
      },
      "text/plain": [
       "predict:   0%|          | 0/36 [00:00<?, ?it/s]"
      ]
     },
     "metadata": {},
     "output_type": "display_data"
    },
    {
     "data": {
      "application/vnd.jupyter.widget-view+json": {
       "model_id": "c8b8953499824d8882bd25db60638973",
       "version_major": 2,
       "version_minor": 0
      },
      "text/plain": [
       "Tab(children=(HTML(value=\"<pre style='line-height: 1.2; padding: 10px; color: rgb(212,212,212); background-col…"
      ]
     },
     "metadata": {},
     "output_type": "display_data"
    }
   ],
   "source": [
    "from spot.visualization import display_code_sequence, visualize_batch\n",
    "\n",
    "n_visual_exs = 16\n",
    "\n",
    "_, visual_data, visual_preds = r0_wrapper.eval_on_dataset(\n",
    "    src_datasets[\"test\"][:n_visual_exs], tqdm_args={\"leave\": False}\n",
    ")\n",
    "\n",
    "display_code_sequence(\n",
    "    [\n",
    "        visualize_batch(\n",
    "            visual_data,\n",
    "            i,\n",
    "            visual_preds,\n",
    "            r0_wrapper.tokenizer,\n",
    "            r0_wrapper.args.ctx_args,\n",
    "        )\n",
    "        for i in range(min(n_visual_exs, len(visual_preds)))\n",
    "    ]\n",
    ")\n"
   ]
  }
 ],
 "metadata": {
  "interpreter": {
   "hash": "f6ffc72953da4dd16b2e00785be9c4013ef131f465a8658f3921b6634d4eeec8"
  },
  "kernelspec": {
   "display_name": "Python 3.10.4 ('.venv': pipenv)",
   "language": "python",
   "name": "python3"
  },
  "language_info": {
   "codemirror_mode": {
    "name": "ipython",
    "version": 3
   },
   "file_extension": ".py",
   "mimetype": "text/x-python",
   "name": "python",
   "nbconvert_exporter": "python",
   "pygments_lexer": "ipython3",
   "version": "3.10.4"
  },
  "orig_nbformat": 4
 },
 "nbformat": 4,
 "nbformat_minor": 2
}
