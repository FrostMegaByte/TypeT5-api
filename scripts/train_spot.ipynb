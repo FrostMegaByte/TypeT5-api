{
 "cells": [
  {
   "cell_type": "code",
   "execution_count": 1,
   "metadata": {
    "notebookRunGroups": {
     "groupValue": "1"
    }
   },
   "outputs": [],
   "source": [
    "%load_ext autoreload\n",
    "%autoreload 2\n",
    "\n",
    "import os\n",
    "import pickle\n",
    "from pathlib import Path\n",
    "from typing import *\n",
    "\n",
    "import pandas as pd\n",
    "import plotly.express as px\n",
    "\n",
    "from spot.data import GitRepo\n",
    "from spot.utils import cst, proj_root, pushover_alert, run_long_task, tqdm\n",
    "\n",
    "os.chdir(proj_root())\n",
    "\n",
    "datadir = Path(os.getenv(\"datadir\"))\n",
    "repos_dir = datadir / \"SPOT-data/repos\"\n",
    "\n",
    "useful_repos_path = proj_root() / \"scripts\" / \"useful_repos.pkl\"\n",
    "with useful_repos_path.open(\"rb\") as f:\n",
    "    useful_repos: list[GitRepo] = pickle.load(f)\n",
    "\n",
    "repos_split_path = datadir / \"SPOT-data/repos-processed-with_margin/repos_split.pkl\"\n",
    "with repos_split_path.open(\"rb\") as f:\n",
    "    repos_split: dict[str, list[GitRepo]] = pickle.load(f)"
   ]
  },
  {
   "cell_type": "code",
   "execution_count": 2,
   "metadata": {
    "notebookRunGroups": {
     "groupValue": "1"
    }
   },
   "outputs": [],
   "source": [
    "from spot.data import SrcDataset\n",
    "\n",
    "src_datasets_path = datadir / f\"SPOT-data/src_datasets\"\n",
    "src_datasets = dict[str, SrcDataset]()\n",
    "for n in [\"train\", \"valid\", \"test\"]:\n",
    "    with open(src_datasets_path / f\"{n}.pkl\", \"rb\") as f:\n",
    "        src_datasets[n] = pickle.load(f)\n",
    "        src_datasets[n].repos_root = repos_dir\n"
   ]
  },
  {
   "cell_type": "code",
   "execution_count": 3,
   "metadata": {
    "notebookRunGroups": {
     "groupValue": "1"
    }
   },
   "outputs": [
    {
     "name": "stderr",
     "output_type": "stream",
     "text": [
      "/home/jiayi/Projects/SPOT/.venv/lib/python3.10/site-packages/torch/nn/modules/module.py:1402: UserWarning: positional arguments and argument \"destination\" are deprecated. nn.Module.state_dict will not accept them in the future. Refer to https://pytorch.org/docs/master/generated/torch.nn.Module.html#torch.nn.Module.state_dict for details.\n",
      "  warnings.warn(\n"
     ]
    }
   ],
   "source": [
    "import numpy as np\n",
    "import torch\n",
    "from datasets import Dataset\n",
    "\n",
    "from spot.data import ChunkedDataset\n",
    "from spot.model import CtxArgs, DecodingArgs, ModelSPOT, ModelWrapper, TokenizerSPOT\n",
    "from spot.utils import TaskLoggingMonitor\n",
    "\n",
    "train_r0 = False  # whether to train or load trained R0 model\n",
    "with_margin = True\n",
    "data_reduction = 1\n",
    "\n",
    "margin_tag = \"with_margin\" if with_margin else \"no_margin\"\n",
    "data_tag = \"data_full\" if data_reduction == 1 else f\"data_1-{data_reduction}\"\n",
    "\n",
    "ctx_args = CtxArgs(\n",
    "    ctx_size=512,\n",
    "    ctx_margin=128,\n",
    "    types_in_ctx=False,\n",
    ")\n",
    "\n",
    "tokenizer: TokenizerSPOT = TokenizerSPOT.from_pretrained(\"Salesforce/codet5-base\")\n",
    "\n",
    "r0_model_name = f\"SPOT-R0-{margin_tag}-{data_tag}\"\n",
    "\n",
    "if train_r0:\n",
    "    r0_model_path = \"Salesforce/codet5-base\"\n",
    "else:\n",
    "    r0_model_path = datadir / f\"checkpoints/saved/{r0_model_name}\"\n",
    "\n",
    "device = torch.device(\"cuda:0\" if torch.cuda.is_available() else \"cpu\")\n",
    "\n",
    "r0_model: ModelSPOT = ModelSPOT.from_pretrained(r0_model_path).to(device)\n",
    "r0_monitor = TaskLoggingMonitor(\"R0\")\n",
    "r0_args = DecodingArgs(\n",
    "    sampling_batch_size=512,\n",
    "    ctx_args=ctx_args,\n",
    "    max_workers=20,\n",
    ")\n",
    "r0_wrapper = ModelWrapper(r0_model, tokenizer, r0_args, r0_monitor)\n"
   ]
  },
  {
   "cell_type": "code",
   "execution_count": 4,
   "metadata": {
    "notebookRunGroups": {
     "groupValue": "1"
    }
   },
   "outputs": [
    {
     "data": {
      "application/vnd.jupyter.widget-view+json": {
       "model_id": "a3f30f9af9484c3c96d8b0fd10f71575",
       "version_major": 2,
       "version_minor": 0
      },
      "text/plain": [
       "processing chunks:   0%|          | 0/108759 [00:00<?, ?it/s]"
      ]
     },
     "metadata": {},
     "output_type": "display_data"
    },
    {
     "data": {
      "application/vnd.jupyter.widget-view+json": {
       "model_id": "6a1578f25168484bbb92f71597512421",
       "version_major": 2,
       "version_minor": 0
      },
      "text/plain": [
       "processing chunks:   0%|          | 0/7607 [00:00<?, ?it/s]"
      ]
     },
     "metadata": {},
     "output_type": "display_data"
    },
    {
     "data": {
      "application/vnd.jupyter.widget-view+json": {
       "model_id": "48b0715834c242e1b87a394f3fef1024",
       "version_major": 2,
       "version_minor": 0
      },
      "text/plain": [
       "processing chunks:   0%|          | 0/5686 [00:00<?, ?it/s]"
      ]
     },
     "metadata": {},
     "output_type": "display_data"
    },
    {
     "name": "stdout",
     "output_type": "stream",
     "text": [
      "Pushover: (Finished: Preparing chunked datasets.) Time taken: 62.9s\n"
     ]
    }
   ],
   "source": [
    "r0_datasets: dict[str, ChunkedDataset] = {}\n",
    "\n",
    "with run_long_task(\"Preparing chunked datasets\", notify=False):\n",
    "    for n, d in src_datasets.items():\n",
    "        r0_datasets[n] = d.to_chunks(tokenizer, ctx_args, max_workers=20)\n",
    "\n",
    "n_train = len(r0_datasets[\"train\"].data) // data_reduction\n",
    "r0_datasets[\"train\"] = r0_datasets[\"train\"][:n_train]"
   ]
  },
  {
   "cell_type": "code",
   "execution_count": 5,
   "metadata": {
    "notebookRunGroups": {
     "groupValue": "1"
    }
   },
   "outputs": [
    {
     "name": "stderr",
     "output_type": "stream",
     "text": [
      "Using amp half precision backend\n"
     ]
    }
   ],
   "source": [
    "import wandb\n",
    "from spot.model import ModelTrainingArgs\n",
    "\n",
    "r0_train_args = ModelTrainingArgs(\n",
    "    train_batch_size=38,\n",
    "    eval_batch_size=256,\n",
    "    max_epochs=3,\n",
    ")\n",
    "r0_trainer = r0_wrapper.build_trainer(\n",
    "    datadir / \"checkpoints\" / r0_model_name,\n",
    "    r0_train_args,\n",
    "    dataset=r0_datasets[\"train\"].data,\n",
    "    eval_dataset=r0_datasets[\"valid\"].data,\n",
    ")\n",
    "\n",
    "if train_r0:\n",
    "    wandb.init(\n",
    "        project=r0_model_name,\n",
    "        dir=str(datadir),\n",
    "        config={\"r0_decoding_args\": r0_args, \"r0_train_args\": r0_train_args},\n",
    "    )\n",
    "\n",
    "    with run_long_task(f\"Training {r0_model_name}\"):\n",
    "        init_perf = r0_trainer.evaluate(max_length=r0_args.generation_max_length)\n",
    "        print(\"initial eval loss:\", init_perf)\n",
    "        r0_trainer.train()\n",
    "\n",
    "    wandb.log({\"time_stats\": r0_monitor.timer.total_times()})\n",
    "\n",
    "    final_perf = r0_trainer.evaluate(max_length=r0_args.generation_max_length)\n",
    "    print(\"final eval loss:\", final_perf)\n",
    "    wandb.finish()\n"
   ]
  },
  {
   "cell_type": "code",
   "execution_count": 5,
   "metadata": {},
   "outputs": [
    {
     "data": {
      "application/vnd.jupyter.widget-view+json": {
       "model_id": "4eaf2667708c41c8aadefa4792f724c0",
       "version_major": 2,
       "version_minor": 0
      },
      "text/plain": [
       "predict:   0%|          | 0/3429 [00:00<?, ?it/s]"
      ]
     },
     "metadata": {},
     "output_type": "display_data"
    },
    {
     "name": "stdout",
     "output_type": "stream",
     "text": [
      "partial_acc: 77.39%\n",
      "partial_acc_wo_any: 77.90%\n",
      "partial_accs:\n",
      "   FuncArg: 73.52%\n",
      "   FuncReturn: 84.09%\n",
      "   ClassAtribute: 73.71%\n",
      "   GlobalVar: 89.80%\n",
      "   LocalVar: 81.63%\n",
      "full_acc: 70.09%\n",
      "full_accs:\n",
      "   FuncArg: 67.42%\n",
      "   FuncReturn: 78.43%\n",
      "   ClassAtribute: 63.07%\n",
      "   GlobalVar: 71.43%\n",
      "   LocalVar: 57.60%\n",
      "n_labels: 8831\n"
     ]
    }
   ],
   "source": [
    "from spot.data import preds_to_accuracies, pretty_print_accuracies\n",
    "\n",
    "r0_preds = r0_wrapper.predict(r0_datasets[\"test\"], tqdm_args={})\n",
    "\n",
    "pretty_print_accuracies(preds_to_accuracies(r0_preds, r0_datasets[\"test\"]))\n"
   ]
  },
  {
   "cell_type": "code",
   "execution_count": 7,
   "metadata": {},
   "outputs": [
    {
     "data": {
      "application/vnd.jupyter.widget-view+json": {
       "model_id": "15a59ba22663401fb81a8f5545784459",
       "version_major": 2,
       "version_minor": 0
      },
      "text/plain": [
       "processing chunks:   0%|          | 0/5686 [00:00<?, ?it/s]"
      ]
     },
     "metadata": {},
     "output_type": "display_data"
    },
    {
     "data": {
      "application/vnd.jupyter.widget-view+json": {
       "model_id": "2a62b30ed0584a4695833568ede45ce2",
       "version_major": 2,
       "version_minor": 0
      },
      "text/plain": [
       "predict:   0%|          | 0/3429 [00:00<?, ?it/s]"
      ]
     },
     "metadata": {},
     "output_type": "display_data"
    },
    {
     "data": {
      "application/vnd.jupyter.widget-view+json": {
       "model_id": "97ff801289de46a79d279d6419c75d15",
       "version_major": 2,
       "version_minor": 0
      },
      "text/plain": [
       "processing chunks:   0%|          | 0/2843 [00:00<?, ?it/s]"
      ]
     },
     "metadata": {},
     "output_type": "display_data"
    },
    {
     "data": {
      "application/vnd.jupyter.widget-view+json": {
       "model_id": "27f5d5cb384a438087cf8463ec19f4c2",
       "version_major": 2,
       "version_minor": 0
      },
      "text/plain": [
       "predict:   0%|          | 0/2223 [00:00<?, ?it/s]"
      ]
     },
     "metadata": {},
     "output_type": "display_data"
    },
    {
     "data": {
      "application/vnd.jupyter.widget-view+json": {
       "model_id": "a3b1d502ddfd4429b4b888669a179819",
       "version_major": 2,
       "version_minor": 0
      },
      "text/plain": [
       "processing chunks:   0%|          | 0/1896 [00:00<?, ?it/s]"
      ]
     },
     "metadata": {},
     "output_type": "display_data"
    },
    {
     "data": {
      "application/vnd.jupyter.widget-view+json": {
       "model_id": "f0d5a3d3d491427e80abdbc712b7fbe5",
       "version_major": 2,
       "version_minor": 0
      },
      "text/plain": [
       "predict:   0%|          | 0/1624 [00:00<?, ?it/s]"
      ]
     },
     "metadata": {},
     "output_type": "display_data"
    },
    {
     "data": {
      "application/vnd.jupyter.widget-view+json": {
       "model_id": "3844f103bcfe4309a3c9531fcce4b74f",
       "version_major": 2,
       "version_minor": 0
      },
      "text/plain": [
       "processing chunks:   0%|          | 0/1422 [00:00<?, ?it/s]"
      ]
     },
     "metadata": {},
     "output_type": "display_data"
    },
    {
     "data": {
      "application/vnd.jupyter.widget-view+json": {
       "model_id": "7e73690e1f6e4f79b8b9861479d3a947",
       "version_major": 2,
       "version_minor": 0
      },
      "text/plain": [
       "predict:   0%|          | 0/1277 [00:00<?, ?it/s]"
      ]
     },
     "metadata": {},
     "output_type": "display_data"
    },
    {
     "name": "stdout",
     "output_type": "stream",
     "text": [
      "Pushover: (Finished: Evaluate R0 accuracy vs ctx_size.) Time taken: 851.0s\n"
     ]
    }
   ],
   "source": [
    "from spot.data import preds_to_accuracies, pretty_print_accuracies\n",
    "\n",
    "size_factors = [1, 2, 3, 4]\n",
    "with run_long_task(\"Evaluate R0 accuracy vs ctx_size\"):\n",
    "    acc_series = []\n",
    "    for factor in size_factors:\n",
    "        wrapper = r0_wrapper.scale_ctx_size(factor)\n",
    "        wrapper.args.ctx_args.types_in_ctx = True\n",
    "        accs = wrapper.eval_on_dataset(src_datasets[\"test\"], tqdm_args={\"leave\": False})\n",
    "        acc_series.append(accs)\n"
   ]
  },
  {
   "cell_type": "code",
   "execution_count": 11,
   "metadata": {},
   "outputs": [
    {
     "data": {
      "application/vnd.plotly.v1+json": {
       "config": {
        "plotlyServerURL": "https://plot.ly"
       },
       "data": [
        {
         "hovertemplate": "variable=partial_acc<br>ctx_size=%{x}<br>value=%{y}<extra></extra>",
         "legendgroup": "partial_acc",
         "line": {
          "color": "#636efa",
          "dash": "solid"
         },
         "marker": {
          "symbol": "circle"
         },
         "mode": "lines",
         "name": "partial_acc",
         "orientation": "v",
         "showlegend": true,
         "type": "scatter",
         "x": [
          1,
          2,
          3,
          4
         ],
         "xaxis": "x",
         "y": [
          0.7991167478201789,
          0.8393747168101495,
          0.8424750679963735,
          0.8307831803241528
         ],
         "yaxis": "y"
        },
        {
         "hovertemplate": "variable=full_acc<br>ctx_size=%{x}<br>value=%{y}<extra></extra>",
         "legendgroup": "full_acc",
         "line": {
          "color": "#EF553B",
          "dash": "solid"
         },
         "marker": {
          "symbol": "circle"
         },
         "mode": "lines",
         "name": "full_acc",
         "orientation": "v",
         "showlegend": true,
         "type": "scatter",
         "x": [
          1,
          2,
          3,
          4
         ],
         "xaxis": "x",
         "y": [
          0.7345713962178688,
          0.7771862256456729,
          0.7839981867633726,
          0.7683327666326646
         ],
         "yaxis": "y"
        }
       ],
       "layout": {
        "legend": {
         "title": {
          "text": "variable"
         },
         "tracegroupgap": 0
        },
        "template": {
         "data": {
          "bar": [
           {
            "error_x": {
             "color": "#2a3f5f"
            },
            "error_y": {
             "color": "#2a3f5f"
            },
            "marker": {
             "line": {
              "color": "#E5ECF6",
              "width": 0.5
             },
             "pattern": {
              "fillmode": "overlay",
              "size": 10,
              "solidity": 0.2
             }
            },
            "type": "bar"
           }
          ],
          "barpolar": [
           {
            "marker": {
             "line": {
              "color": "#E5ECF6",
              "width": 0.5
             },
             "pattern": {
              "fillmode": "overlay",
              "size": 10,
              "solidity": 0.2
             }
            },
            "type": "barpolar"
           }
          ],
          "carpet": [
           {
            "aaxis": {
             "endlinecolor": "#2a3f5f",
             "gridcolor": "white",
             "linecolor": "white",
             "minorgridcolor": "white",
             "startlinecolor": "#2a3f5f"
            },
            "baxis": {
             "endlinecolor": "#2a3f5f",
             "gridcolor": "white",
             "linecolor": "white",
             "minorgridcolor": "white",
             "startlinecolor": "#2a3f5f"
            },
            "type": "carpet"
           }
          ],
          "choropleth": [
           {
            "colorbar": {
             "outlinewidth": 0,
             "ticks": ""
            },
            "type": "choropleth"
           }
          ],
          "contour": [
           {
            "colorbar": {
             "outlinewidth": 0,
             "ticks": ""
            },
            "colorscale": [
             [
              0,
              "#0d0887"
             ],
             [
              0.1111111111111111,
              "#46039f"
             ],
             [
              0.2222222222222222,
              "#7201a8"
             ],
             [
              0.3333333333333333,
              "#9c179e"
             ],
             [
              0.4444444444444444,
              "#bd3786"
             ],
             [
              0.5555555555555556,
              "#d8576b"
             ],
             [
              0.6666666666666666,
              "#ed7953"
             ],
             [
              0.7777777777777778,
              "#fb9f3a"
             ],
             [
              0.8888888888888888,
              "#fdca26"
             ],
             [
              1,
              "#f0f921"
             ]
            ],
            "type": "contour"
           }
          ],
          "contourcarpet": [
           {
            "colorbar": {
             "outlinewidth": 0,
             "ticks": ""
            },
            "type": "contourcarpet"
           }
          ],
          "heatmap": [
           {
            "colorbar": {
             "outlinewidth": 0,
             "ticks": ""
            },
            "colorscale": [
             [
              0,
              "#0d0887"
             ],
             [
              0.1111111111111111,
              "#46039f"
             ],
             [
              0.2222222222222222,
              "#7201a8"
             ],
             [
              0.3333333333333333,
              "#9c179e"
             ],
             [
              0.4444444444444444,
              "#bd3786"
             ],
             [
              0.5555555555555556,
              "#d8576b"
             ],
             [
              0.6666666666666666,
              "#ed7953"
             ],
             [
              0.7777777777777778,
              "#fb9f3a"
             ],
             [
              0.8888888888888888,
              "#fdca26"
             ],
             [
              1,
              "#f0f921"
             ]
            ],
            "type": "heatmap"
           }
          ],
          "heatmapgl": [
           {
            "colorbar": {
             "outlinewidth": 0,
             "ticks": ""
            },
            "colorscale": [
             [
              0,
              "#0d0887"
             ],
             [
              0.1111111111111111,
              "#46039f"
             ],
             [
              0.2222222222222222,
              "#7201a8"
             ],
             [
              0.3333333333333333,
              "#9c179e"
             ],
             [
              0.4444444444444444,
              "#bd3786"
             ],
             [
              0.5555555555555556,
              "#d8576b"
             ],
             [
              0.6666666666666666,
              "#ed7953"
             ],
             [
              0.7777777777777778,
              "#fb9f3a"
             ],
             [
              0.8888888888888888,
              "#fdca26"
             ],
             [
              1,
              "#f0f921"
             ]
            ],
            "type": "heatmapgl"
           }
          ],
          "histogram": [
           {
            "marker": {
             "pattern": {
              "fillmode": "overlay",
              "size": 10,
              "solidity": 0.2
             }
            },
            "type": "histogram"
           }
          ],
          "histogram2d": [
           {
            "colorbar": {
             "outlinewidth": 0,
             "ticks": ""
            },
            "colorscale": [
             [
              0,
              "#0d0887"
             ],
             [
              0.1111111111111111,
              "#46039f"
             ],
             [
              0.2222222222222222,
              "#7201a8"
             ],
             [
              0.3333333333333333,
              "#9c179e"
             ],
             [
              0.4444444444444444,
              "#bd3786"
             ],
             [
              0.5555555555555556,
              "#d8576b"
             ],
             [
              0.6666666666666666,
              "#ed7953"
             ],
             [
              0.7777777777777778,
              "#fb9f3a"
             ],
             [
              0.8888888888888888,
              "#fdca26"
             ],
             [
              1,
              "#f0f921"
             ]
            ],
            "type": "histogram2d"
           }
          ],
          "histogram2dcontour": [
           {
            "colorbar": {
             "outlinewidth": 0,
             "ticks": ""
            },
            "colorscale": [
             [
              0,
              "#0d0887"
             ],
             [
              0.1111111111111111,
              "#46039f"
             ],
             [
              0.2222222222222222,
              "#7201a8"
             ],
             [
              0.3333333333333333,
              "#9c179e"
             ],
             [
              0.4444444444444444,
              "#bd3786"
             ],
             [
              0.5555555555555556,
              "#d8576b"
             ],
             [
              0.6666666666666666,
              "#ed7953"
             ],
             [
              0.7777777777777778,
              "#fb9f3a"
             ],
             [
              0.8888888888888888,
              "#fdca26"
             ],
             [
              1,
              "#f0f921"
             ]
            ],
            "type": "histogram2dcontour"
           }
          ],
          "mesh3d": [
           {
            "colorbar": {
             "outlinewidth": 0,
             "ticks": ""
            },
            "type": "mesh3d"
           }
          ],
          "parcoords": [
           {
            "line": {
             "colorbar": {
              "outlinewidth": 0,
              "ticks": ""
             }
            },
            "type": "parcoords"
           }
          ],
          "pie": [
           {
            "automargin": true,
            "type": "pie"
           }
          ],
          "scatter": [
           {
            "fillpattern": {
             "fillmode": "overlay",
             "size": 10,
             "solidity": 0.2
            },
            "type": "scatter"
           }
          ],
          "scatter3d": [
           {
            "line": {
             "colorbar": {
              "outlinewidth": 0,
              "ticks": ""
             }
            },
            "marker": {
             "colorbar": {
              "outlinewidth": 0,
              "ticks": ""
             }
            },
            "type": "scatter3d"
           }
          ],
          "scattercarpet": [
           {
            "marker": {
             "colorbar": {
              "outlinewidth": 0,
              "ticks": ""
             }
            },
            "type": "scattercarpet"
           }
          ],
          "scattergeo": [
           {
            "marker": {
             "colorbar": {
              "outlinewidth": 0,
              "ticks": ""
             }
            },
            "type": "scattergeo"
           }
          ],
          "scattergl": [
           {
            "marker": {
             "colorbar": {
              "outlinewidth": 0,
              "ticks": ""
             }
            },
            "type": "scattergl"
           }
          ],
          "scattermapbox": [
           {
            "marker": {
             "colorbar": {
              "outlinewidth": 0,
              "ticks": ""
             }
            },
            "type": "scattermapbox"
           }
          ],
          "scatterpolar": [
           {
            "marker": {
             "colorbar": {
              "outlinewidth": 0,
              "ticks": ""
             }
            },
            "type": "scatterpolar"
           }
          ],
          "scatterpolargl": [
           {
            "marker": {
             "colorbar": {
              "outlinewidth": 0,
              "ticks": ""
             }
            },
            "type": "scatterpolargl"
           }
          ],
          "scatterternary": [
           {
            "marker": {
             "colorbar": {
              "outlinewidth": 0,
              "ticks": ""
             }
            },
            "type": "scatterternary"
           }
          ],
          "surface": [
           {
            "colorbar": {
             "outlinewidth": 0,
             "ticks": ""
            },
            "colorscale": [
             [
              0,
              "#0d0887"
             ],
             [
              0.1111111111111111,
              "#46039f"
             ],
             [
              0.2222222222222222,
              "#7201a8"
             ],
             [
              0.3333333333333333,
              "#9c179e"
             ],
             [
              0.4444444444444444,
              "#bd3786"
             ],
             [
              0.5555555555555556,
              "#d8576b"
             ],
             [
              0.6666666666666666,
              "#ed7953"
             ],
             [
              0.7777777777777778,
              "#fb9f3a"
             ],
             [
              0.8888888888888888,
              "#fdca26"
             ],
             [
              1,
              "#f0f921"
             ]
            ],
            "type": "surface"
           }
          ],
          "table": [
           {
            "cells": {
             "fill": {
              "color": "#EBF0F8"
             },
             "line": {
              "color": "white"
             }
            },
            "header": {
             "fill": {
              "color": "#C8D4E3"
             },
             "line": {
              "color": "white"
             }
            },
            "type": "table"
           }
          ]
         },
         "layout": {
          "annotationdefaults": {
           "arrowcolor": "#2a3f5f",
           "arrowhead": 0,
           "arrowwidth": 1
          },
          "autotypenumbers": "strict",
          "coloraxis": {
           "colorbar": {
            "outlinewidth": 0,
            "ticks": ""
           }
          },
          "colorscale": {
           "diverging": [
            [
             0,
             "#8e0152"
            ],
            [
             0.1,
             "#c51b7d"
            ],
            [
             0.2,
             "#de77ae"
            ],
            [
             0.3,
             "#f1b6da"
            ],
            [
             0.4,
             "#fde0ef"
            ],
            [
             0.5,
             "#f7f7f7"
            ],
            [
             0.6,
             "#e6f5d0"
            ],
            [
             0.7,
             "#b8e186"
            ],
            [
             0.8,
             "#7fbc41"
            ],
            [
             0.9,
             "#4d9221"
            ],
            [
             1,
             "#276419"
            ]
           ],
           "sequential": [
            [
             0,
             "#0d0887"
            ],
            [
             0.1111111111111111,
             "#46039f"
            ],
            [
             0.2222222222222222,
             "#7201a8"
            ],
            [
             0.3333333333333333,
             "#9c179e"
            ],
            [
             0.4444444444444444,
             "#bd3786"
            ],
            [
             0.5555555555555556,
             "#d8576b"
            ],
            [
             0.6666666666666666,
             "#ed7953"
            ],
            [
             0.7777777777777778,
             "#fb9f3a"
            ],
            [
             0.8888888888888888,
             "#fdca26"
            ],
            [
             1,
             "#f0f921"
            ]
           ],
           "sequentialminus": [
            [
             0,
             "#0d0887"
            ],
            [
             0.1111111111111111,
             "#46039f"
            ],
            [
             0.2222222222222222,
             "#7201a8"
            ],
            [
             0.3333333333333333,
             "#9c179e"
            ],
            [
             0.4444444444444444,
             "#bd3786"
            ],
            [
             0.5555555555555556,
             "#d8576b"
            ],
            [
             0.6666666666666666,
             "#ed7953"
            ],
            [
             0.7777777777777778,
             "#fb9f3a"
            ],
            [
             0.8888888888888888,
             "#fdca26"
            ],
            [
             1,
             "#f0f921"
            ]
           ]
          },
          "colorway": [
           "#636efa",
           "#EF553B",
           "#00cc96",
           "#ab63fa",
           "#FFA15A",
           "#19d3f3",
           "#FF6692",
           "#B6E880",
           "#FF97FF",
           "#FECB52"
          ],
          "font": {
           "color": "#2a3f5f"
          },
          "geo": {
           "bgcolor": "white",
           "lakecolor": "white",
           "landcolor": "#E5ECF6",
           "showlakes": true,
           "showland": true,
           "subunitcolor": "white"
          },
          "hoverlabel": {
           "align": "left"
          },
          "hovermode": "closest",
          "mapbox": {
           "style": "light"
          },
          "paper_bgcolor": "white",
          "plot_bgcolor": "#E5ECF6",
          "polar": {
           "angularaxis": {
            "gridcolor": "white",
            "linecolor": "white",
            "ticks": ""
           },
           "bgcolor": "#E5ECF6",
           "radialaxis": {
            "gridcolor": "white",
            "linecolor": "white",
            "ticks": ""
           }
          },
          "scene": {
           "xaxis": {
            "backgroundcolor": "#E5ECF6",
            "gridcolor": "white",
            "gridwidth": 2,
            "linecolor": "white",
            "showbackground": true,
            "ticks": "",
            "zerolinecolor": "white"
           },
           "yaxis": {
            "backgroundcolor": "#E5ECF6",
            "gridcolor": "white",
            "gridwidth": 2,
            "linecolor": "white",
            "showbackground": true,
            "ticks": "",
            "zerolinecolor": "white"
           },
           "zaxis": {
            "backgroundcolor": "#E5ECF6",
            "gridcolor": "white",
            "gridwidth": 2,
            "linecolor": "white",
            "showbackground": true,
            "ticks": "",
            "zerolinecolor": "white"
           }
          },
          "shapedefaults": {
           "line": {
            "color": "#2a3f5f"
           }
          },
          "ternary": {
           "aaxis": {
            "gridcolor": "white",
            "linecolor": "white",
            "ticks": ""
           },
           "baxis": {
            "gridcolor": "white",
            "linecolor": "white",
            "ticks": ""
           },
           "bgcolor": "#E5ECF6",
           "caxis": {
            "gridcolor": "white",
            "linecolor": "white",
            "ticks": ""
           }
          },
          "title": {
           "x": 0.05
          },
          "xaxis": {
           "automargin": true,
           "gridcolor": "white",
           "linecolor": "white",
           "ticks": "",
           "title": {
            "standoff": 15
           },
           "zerolinecolor": "white",
           "zerolinewidth": 2
          },
          "yaxis": {
           "automargin": true,
           "gridcolor": "white",
           "linecolor": "white",
           "ticks": "",
           "title": {
            "standoff": 15
           },
           "zerolinecolor": "white",
           "zerolinewidth": 2
          }
         }
        },
        "title": {
         "text": "SPOT-R0-with_margin-data_full"
        },
        "xaxis": {
         "anchor": "y",
         "domain": [
          0,
          1
         ],
         "title": {
          "text": "ctx_size"
         }
        },
        "yaxis": {
         "anchor": "x",
         "domain": [
          0,
          1
         ],
         "title": {
          "text": "value"
         }
        }
       }
      },
      "text/html": [
       "<div>                            <div id=\"9d4c1020-1014-468b-9ace-dcfe0176cfd6\" class=\"plotly-graph-div\" style=\"height:525px; width:100%;\"></div>            <script type=\"text/javascript\">                require([\"plotly\"], function(Plotly) {                    window.PLOTLYENV=window.PLOTLYENV || {};                                    if (document.getElementById(\"9d4c1020-1014-468b-9ace-dcfe0176cfd6\")) {                    Plotly.newPlot(                        \"9d4c1020-1014-468b-9ace-dcfe0176cfd6\",                        [{\"hovertemplate\":\"variable=partial_acc<br>ctx_size=%{x}<br>value=%{y}<extra></extra>\",\"legendgroup\":\"partial_acc\",\"line\":{\"color\":\"#636efa\",\"dash\":\"solid\"},\"marker\":{\"symbol\":\"circle\"},\"mode\":\"lines\",\"name\":\"partial_acc\",\"orientation\":\"v\",\"showlegend\":true,\"x\":[1,2,3,4],\"xaxis\":\"x\",\"y\":[0.7991167478201789,0.8393747168101495,0.8424750679963735,0.8307831803241528],\"yaxis\":\"y\",\"type\":\"scatter\"},{\"hovertemplate\":\"variable=full_acc<br>ctx_size=%{x}<br>value=%{y}<extra></extra>\",\"legendgroup\":\"full_acc\",\"line\":{\"color\":\"#EF553B\",\"dash\":\"solid\"},\"marker\":{\"symbol\":\"circle\"},\"mode\":\"lines\",\"name\":\"full_acc\",\"orientation\":\"v\",\"showlegend\":true,\"x\":[1,2,3,4],\"xaxis\":\"x\",\"y\":[0.7345713962178688,0.7771862256456729,0.7839981867633726,0.7683327666326646],\"yaxis\":\"y\",\"type\":\"scatter\"}],                        {\"template\":{\"data\":{\"histogram2dcontour\":[{\"type\":\"histogram2dcontour\",\"colorbar\":{\"outlinewidth\":0,\"ticks\":\"\"},\"colorscale\":[[0.0,\"#0d0887\"],[0.1111111111111111,\"#46039f\"],[0.2222222222222222,\"#7201a8\"],[0.3333333333333333,\"#9c179e\"],[0.4444444444444444,\"#bd3786\"],[0.5555555555555556,\"#d8576b\"],[0.6666666666666666,\"#ed7953\"],[0.7777777777777778,\"#fb9f3a\"],[0.8888888888888888,\"#fdca26\"],[1.0,\"#f0f921\"]]}],\"choropleth\":[{\"type\":\"choropleth\",\"colorbar\":{\"outlinewidth\":0,\"ticks\":\"\"}}],\"histogram2d\":[{\"type\":\"histogram2d\",\"colorbar\":{\"outlinewidth\":0,\"ticks\":\"\"},\"colorscale\":[[0.0,\"#0d0887\"],[0.1111111111111111,\"#46039f\"],[0.2222222222222222,\"#7201a8\"],[0.3333333333333333,\"#9c179e\"],[0.4444444444444444,\"#bd3786\"],[0.5555555555555556,\"#d8576b\"],[0.6666666666666666,\"#ed7953\"],[0.7777777777777778,\"#fb9f3a\"],[0.8888888888888888,\"#fdca26\"],[1.0,\"#f0f921\"]]}],\"heatmap\":[{\"type\":\"heatmap\",\"colorbar\":{\"outlinewidth\":0,\"ticks\":\"\"},\"colorscale\":[[0.0,\"#0d0887\"],[0.1111111111111111,\"#46039f\"],[0.2222222222222222,\"#7201a8\"],[0.3333333333333333,\"#9c179e\"],[0.4444444444444444,\"#bd3786\"],[0.5555555555555556,\"#d8576b\"],[0.6666666666666666,\"#ed7953\"],[0.7777777777777778,\"#fb9f3a\"],[0.8888888888888888,\"#fdca26\"],[1.0,\"#f0f921\"]]}],\"heatmapgl\":[{\"type\":\"heatmapgl\",\"colorbar\":{\"outlinewidth\":0,\"ticks\":\"\"},\"colorscale\":[[0.0,\"#0d0887\"],[0.1111111111111111,\"#46039f\"],[0.2222222222222222,\"#7201a8\"],[0.3333333333333333,\"#9c179e\"],[0.4444444444444444,\"#bd3786\"],[0.5555555555555556,\"#d8576b\"],[0.6666666666666666,\"#ed7953\"],[0.7777777777777778,\"#fb9f3a\"],[0.8888888888888888,\"#fdca26\"],[1.0,\"#f0f921\"]]}],\"contourcarpet\":[{\"type\":\"contourcarpet\",\"colorbar\":{\"outlinewidth\":0,\"ticks\":\"\"}}],\"contour\":[{\"type\":\"contour\",\"colorbar\":{\"outlinewidth\":0,\"ticks\":\"\"},\"colorscale\":[[0.0,\"#0d0887\"],[0.1111111111111111,\"#46039f\"],[0.2222222222222222,\"#7201a8\"],[0.3333333333333333,\"#9c179e\"],[0.4444444444444444,\"#bd3786\"],[0.5555555555555556,\"#d8576b\"],[0.6666666666666666,\"#ed7953\"],[0.7777777777777778,\"#fb9f3a\"],[0.8888888888888888,\"#fdca26\"],[1.0,\"#f0f921\"]]}],\"surface\":[{\"type\":\"surface\",\"colorbar\":{\"outlinewidth\":0,\"ticks\":\"\"},\"colorscale\":[[0.0,\"#0d0887\"],[0.1111111111111111,\"#46039f\"],[0.2222222222222222,\"#7201a8\"],[0.3333333333333333,\"#9c179e\"],[0.4444444444444444,\"#bd3786\"],[0.5555555555555556,\"#d8576b\"],[0.6666666666666666,\"#ed7953\"],[0.7777777777777778,\"#fb9f3a\"],[0.8888888888888888,\"#fdca26\"],[1.0,\"#f0f921\"]]}],\"mesh3d\":[{\"type\":\"mesh3d\",\"colorbar\":{\"outlinewidth\":0,\"ticks\":\"\"}}],\"scatter\":[{\"fillpattern\":{\"fillmode\":\"overlay\",\"size\":10,\"solidity\":0.2},\"type\":\"scatter\"}],\"parcoords\":[{\"type\":\"parcoords\",\"line\":{\"colorbar\":{\"outlinewidth\":0,\"ticks\":\"\"}}}],\"scatterpolargl\":[{\"type\":\"scatterpolargl\",\"marker\":{\"colorbar\":{\"outlinewidth\":0,\"ticks\":\"\"}}}],\"bar\":[{\"error_x\":{\"color\":\"#2a3f5f\"},\"error_y\":{\"color\":\"#2a3f5f\"},\"marker\":{\"line\":{\"color\":\"#E5ECF6\",\"width\":0.5},\"pattern\":{\"fillmode\":\"overlay\",\"size\":10,\"solidity\":0.2}},\"type\":\"bar\"}],\"scattergeo\":[{\"type\":\"scattergeo\",\"marker\":{\"colorbar\":{\"outlinewidth\":0,\"ticks\":\"\"}}}],\"scatterpolar\":[{\"type\":\"scatterpolar\",\"marker\":{\"colorbar\":{\"outlinewidth\":0,\"ticks\":\"\"}}}],\"histogram\":[{\"marker\":{\"pattern\":{\"fillmode\":\"overlay\",\"size\":10,\"solidity\":0.2}},\"type\":\"histogram\"}],\"scattergl\":[{\"type\":\"scattergl\",\"marker\":{\"colorbar\":{\"outlinewidth\":0,\"ticks\":\"\"}}}],\"scatter3d\":[{\"type\":\"scatter3d\",\"line\":{\"colorbar\":{\"outlinewidth\":0,\"ticks\":\"\"}},\"marker\":{\"colorbar\":{\"outlinewidth\":0,\"ticks\":\"\"}}}],\"scattermapbox\":[{\"type\":\"scattermapbox\",\"marker\":{\"colorbar\":{\"outlinewidth\":0,\"ticks\":\"\"}}}],\"scatterternary\":[{\"type\":\"scatterternary\",\"marker\":{\"colorbar\":{\"outlinewidth\":0,\"ticks\":\"\"}}}],\"scattercarpet\":[{\"type\":\"scattercarpet\",\"marker\":{\"colorbar\":{\"outlinewidth\":0,\"ticks\":\"\"}}}],\"carpet\":[{\"aaxis\":{\"endlinecolor\":\"#2a3f5f\",\"gridcolor\":\"white\",\"linecolor\":\"white\",\"minorgridcolor\":\"white\",\"startlinecolor\":\"#2a3f5f\"},\"baxis\":{\"endlinecolor\":\"#2a3f5f\",\"gridcolor\":\"white\",\"linecolor\":\"white\",\"minorgridcolor\":\"white\",\"startlinecolor\":\"#2a3f5f\"},\"type\":\"carpet\"}],\"table\":[{\"cells\":{\"fill\":{\"color\":\"#EBF0F8\"},\"line\":{\"color\":\"white\"}},\"header\":{\"fill\":{\"color\":\"#C8D4E3\"},\"line\":{\"color\":\"white\"}},\"type\":\"table\"}],\"barpolar\":[{\"marker\":{\"line\":{\"color\":\"#E5ECF6\",\"width\":0.5},\"pattern\":{\"fillmode\":\"overlay\",\"size\":10,\"solidity\":0.2}},\"type\":\"barpolar\"}],\"pie\":[{\"automargin\":true,\"type\":\"pie\"}]},\"layout\":{\"autotypenumbers\":\"strict\",\"colorway\":[\"#636efa\",\"#EF553B\",\"#00cc96\",\"#ab63fa\",\"#FFA15A\",\"#19d3f3\",\"#FF6692\",\"#B6E880\",\"#FF97FF\",\"#FECB52\"],\"font\":{\"color\":\"#2a3f5f\"},\"hovermode\":\"closest\",\"hoverlabel\":{\"align\":\"left\"},\"paper_bgcolor\":\"white\",\"plot_bgcolor\":\"#E5ECF6\",\"polar\":{\"bgcolor\":\"#E5ECF6\",\"angularaxis\":{\"gridcolor\":\"white\",\"linecolor\":\"white\",\"ticks\":\"\"},\"radialaxis\":{\"gridcolor\":\"white\",\"linecolor\":\"white\",\"ticks\":\"\"}},\"ternary\":{\"bgcolor\":\"#E5ECF6\",\"aaxis\":{\"gridcolor\":\"white\",\"linecolor\":\"white\",\"ticks\":\"\"},\"baxis\":{\"gridcolor\":\"white\",\"linecolor\":\"white\",\"ticks\":\"\"},\"caxis\":{\"gridcolor\":\"white\",\"linecolor\":\"white\",\"ticks\":\"\"}},\"coloraxis\":{\"colorbar\":{\"outlinewidth\":0,\"ticks\":\"\"}},\"colorscale\":{\"sequential\":[[0.0,\"#0d0887\"],[0.1111111111111111,\"#46039f\"],[0.2222222222222222,\"#7201a8\"],[0.3333333333333333,\"#9c179e\"],[0.4444444444444444,\"#bd3786\"],[0.5555555555555556,\"#d8576b\"],[0.6666666666666666,\"#ed7953\"],[0.7777777777777778,\"#fb9f3a\"],[0.8888888888888888,\"#fdca26\"],[1.0,\"#f0f921\"]],\"sequentialminus\":[[0.0,\"#0d0887\"],[0.1111111111111111,\"#46039f\"],[0.2222222222222222,\"#7201a8\"],[0.3333333333333333,\"#9c179e\"],[0.4444444444444444,\"#bd3786\"],[0.5555555555555556,\"#d8576b\"],[0.6666666666666666,\"#ed7953\"],[0.7777777777777778,\"#fb9f3a\"],[0.8888888888888888,\"#fdca26\"],[1.0,\"#f0f921\"]],\"diverging\":[[0,\"#8e0152\"],[0.1,\"#c51b7d\"],[0.2,\"#de77ae\"],[0.3,\"#f1b6da\"],[0.4,\"#fde0ef\"],[0.5,\"#f7f7f7\"],[0.6,\"#e6f5d0\"],[0.7,\"#b8e186\"],[0.8,\"#7fbc41\"],[0.9,\"#4d9221\"],[1,\"#276419\"]]},\"xaxis\":{\"gridcolor\":\"white\",\"linecolor\":\"white\",\"ticks\":\"\",\"title\":{\"standoff\":15},\"zerolinecolor\":\"white\",\"automargin\":true,\"zerolinewidth\":2},\"yaxis\":{\"gridcolor\":\"white\",\"linecolor\":\"white\",\"ticks\":\"\",\"title\":{\"standoff\":15},\"zerolinecolor\":\"white\",\"automargin\":true,\"zerolinewidth\":2},\"scene\":{\"xaxis\":{\"backgroundcolor\":\"#E5ECF6\",\"gridcolor\":\"white\",\"linecolor\":\"white\",\"showbackground\":true,\"ticks\":\"\",\"zerolinecolor\":\"white\",\"gridwidth\":2},\"yaxis\":{\"backgroundcolor\":\"#E5ECF6\",\"gridcolor\":\"white\",\"linecolor\":\"white\",\"showbackground\":true,\"ticks\":\"\",\"zerolinecolor\":\"white\",\"gridwidth\":2},\"zaxis\":{\"backgroundcolor\":\"#E5ECF6\",\"gridcolor\":\"white\",\"linecolor\":\"white\",\"showbackground\":true,\"ticks\":\"\",\"zerolinecolor\":\"white\",\"gridwidth\":2}},\"shapedefaults\":{\"line\":{\"color\":\"#2a3f5f\"}},\"annotationdefaults\":{\"arrowcolor\":\"#2a3f5f\",\"arrowhead\":0,\"arrowwidth\":1},\"geo\":{\"bgcolor\":\"white\",\"landcolor\":\"#E5ECF6\",\"subunitcolor\":\"white\",\"showland\":true,\"showlakes\":true,\"lakecolor\":\"white\"},\"title\":{\"x\":0.05},\"mapbox\":{\"style\":\"light\"}}},\"xaxis\":{\"anchor\":\"y\",\"domain\":[0.0,1.0],\"title\":{\"text\":\"ctx_size\"}},\"yaxis\":{\"anchor\":\"x\",\"domain\":[0.0,1.0],\"title\":{\"text\":\"value\"}},\"legend\":{\"title\":{\"text\":\"variable\"},\"tracegroupgap\":0},\"title\":{\"text\":\"SPOT-R0-with_margin-data_full\"}},                        {\"responsive\": true}                    ).then(function(){\n",
       "                            \n",
       "var gd = document.getElementById('9d4c1020-1014-468b-9ace-dcfe0176cfd6');\n",
       "var x = new MutationObserver(function (mutations, observer) {{\n",
       "        var display = window.getComputedStyle(gd).display;\n",
       "        if (!display || display === 'none') {{\n",
       "            console.log([gd, 'removed!']);\n",
       "            Plotly.purge(gd);\n",
       "            observer.disconnect();\n",
       "        }}\n",
       "}});\n",
       "\n",
       "// Listen for the removal of the full notebook cells\n",
       "var notebookContainer = gd.closest('#notebook-container');\n",
       "if (notebookContainer) {{\n",
       "    x.observe(notebookContainer, {childList: true});\n",
       "}}\n",
       "\n",
       "// Listen for the clearing of the current output cell\n",
       "var outputEl = gd.closest('.output');\n",
       "if (outputEl) {{\n",
       "    x.observe(outputEl, {childList: true});\n",
       "}}\n",
       "\n",
       "                        })                };                });            </script>        </div>"
      ]
     },
     "metadata": {},
     "output_type": "display_data"
    }
   ],
   "source": [
    "import plotly.express as px\n",
    "\n",
    "acc_df = pd.DataFrame(\n",
    "    {\n",
    "        \"ctx_size\": size_factors,\n",
    "        \"partial_acc\": [x[\"partial_acc\"] for x in acc_series],\n",
    "        \"full_acc\": [x[\"full_acc\"] for x in acc_series],\n",
    "    }\n",
    ")\n",
    "px.line(acc_df, x=\"ctx_size\", y=[\"partial_acc\", \"full_acc\"], title=r0_model_name)\n"
   ]
  },
  {
   "cell_type": "code",
   "execution_count": 6,
   "metadata": {
    "notebookRunGroups": {
     "groupValue": "1"
    }
   },
   "outputs": [],
   "source": [
    "# Set this to the best ctx_size\n",
    "best_r0_ctx_factor = 3"
   ]
  },
  {
   "cell_type": "code",
   "execution_count": 18,
   "metadata": {},
   "outputs": [
    {
     "name": "stdout",
     "output_type": "stream",
     "text": [
      "ctx_size factor: 1\n",
      "partial_acc: 79.91%\n",
      "partial_acc_wo_any: 80.40%\n",
      "partial_accs:\n",
      "   FuncArg: 77.32%\n",
      "   FuncReturn: 84.88%\n",
      "   ClassAtribute: 76.66%\n",
      "   GlobalVar: 91.84%\n",
      "   LocalVar: 80.92%\n",
      "full_acc: 73.46%\n",
      "full_accs:\n",
      "   FuncArg: 71.96%\n",
      "   FuncReturn: 79.70%\n",
      "   ClassAtribute: 67.87%\n",
      "   GlobalVar: 71.43%\n",
      "   LocalVar: 58.66%\n",
      "n_labels: 8831\n",
      "ctx_size factor: 3\n",
      "partial_acc: 84.25%\n",
      "partial_acc_wo_any: 84.78%\n",
      "partial_accs:\n",
      "   FuncArg: 84.07%\n",
      "   FuncReturn: 87.44%\n",
      "   ClassAtribute: 77.03%\n",
      "   GlobalVar: 87.76%\n",
      "   LocalVar: 87.94%\n",
      "full_acc: 78.40%\n",
      "full_accs:\n",
      "   FuncArg: 79.65%\n",
      "   FuncReturn: 81.77%\n",
      "   ClassAtribute: 69.79%\n",
      "   GlobalVar: 69.39%\n",
      "   LocalVar: 67.73%\n",
      "n_labels: 8824\n"
     ]
    },
    {
     "ename": "KeyboardInterrupt",
     "evalue": "",
     "output_type": "error",
     "traceback": [
      "\u001b[0;31m---------------------------------------------------------------------------\u001b[0m",
      "\u001b[0;31mKeyboardInterrupt\u001b[0m                         Traceback (most recent call last)",
      "\u001b[1;32m/home/jiayi/Projects/SPOT/scripts/train_spot.ipynb Cell 10'\u001b[0m in \u001b[0;36m<cell line: 16>\u001b[0;34m()\u001b[0m\n\u001b[1;32m     <a href='vscode-notebook-cell://ssh-remote%2Butopia3/home/jiayi/Projects/SPOT/scripts/train_spot.ipynb#ch0000009vscode-remote?line=34'>35</a>\u001b[0m     \u001b[39mif\u001b[39;00m test_r1_generation:\n\u001b[1;32m     <a href='vscode-notebook-cell://ssh-remote%2Butopia3/home/jiayi/Projects/SPOT/scripts/train_spot.ipynb#ch0000009vscode-remote?line=35'>36</a>\u001b[0m         r0_data \u001b[39m=\u001b[39m r0_data[:\u001b[39m64\u001b[39m]\n\u001b[0;32m---> <a href='vscode-notebook-cell://ssh-remote%2Butopia3/home/jiayi/Projects/SPOT/scripts/train_spot.ipynb#ch0000009vscode-remote?line=36'>37</a>\u001b[0m     r0_predictions[name] \u001b[39m=\u001b[39m r0_wrapper\u001b[39m.\u001b[39;49mscale_ctx_size(\n\u001b[1;32m     <a href='vscode-notebook-cell://ssh-remote%2Butopia3/home/jiayi/Projects/SPOT/scripts/train_spot.ipynb#ch0000009vscode-remote?line=37'>38</a>\u001b[0m         best_r0_ctx_factor\n\u001b[1;32m     <a href='vscode-notebook-cell://ssh-remote%2Butopia3/home/jiayi/Projects/SPOT/scripts/train_spot.ipynb#ch0000009vscode-remote?line=38'>39</a>\u001b[0m     )\u001b[39m.\u001b[39;49mpredict(r0_data, tqdm_args\u001b[39m=\u001b[39;49m{\u001b[39m\"\u001b[39;49m\u001b[39mleave\u001b[39;49m\u001b[39m\"\u001b[39;49m: \u001b[39mFalse\u001b[39;49;00m})\n\u001b[1;32m     <a href='vscode-notebook-cell://ssh-remote%2Butopia3/home/jiayi/Projects/SPOT/scripts/train_spot.ipynb#ch0000009vscode-remote?line=40'>41</a>\u001b[0m r1_data_path\u001b[39m.\u001b[39mmkdir(parents\u001b[39m=\u001b[39m\u001b[39mTrue\u001b[39;00m, exist_ok\u001b[39m=\u001b[39m\u001b[39mTrue\u001b[39;00m)\n\u001b[1;32m     <a href='vscode-notebook-cell://ssh-remote%2Butopia3/home/jiayi/Projects/SPOT/scripts/train_spot.ipynb#ch0000009vscode-remote?line=41'>42</a>\u001b[0m \u001b[39mwith\u001b[39;00m \u001b[39mopen\u001b[39m(r1_data_path \u001b[39m/\u001b[39m \u001b[39m\"\u001b[39m\u001b[39mr0_predictions.pkl\u001b[39m\u001b[39m\"\u001b[39m, \u001b[39m\"\u001b[39m\u001b[39mwb\u001b[39m\u001b[39m\"\u001b[39m) \u001b[39mas\u001b[39;00m f:\n",
      "File \u001b[0;32m~/Projects/SPOT/src/spot/model.py:85\u001b[0m, in \u001b[0;36mModelWrapper.predict\u001b[0;34m(self, dataset, tqdm_args)\u001b[0m\n\u001b[1;32m     <a href='file:///home/jiayi/Projects/SPOT/src/spot/model.py?line=82'>83</a>\u001b[0m chunk_id \u001b[39m=\u001b[39m \u001b[39m0\u001b[39m\n\u001b[1;32m     <a href='file:///home/jiayi/Projects/SPOT/src/spot/model.py?line=83'>84</a>\u001b[0m \u001b[39mfor\u001b[39;00m batch \u001b[39min\u001b[39;00m loader:\n\u001b[0;32m---> <a href='file:///home/jiayi/Projects/SPOT/src/spot/model.py?line=84'>85</a>\u001b[0m     output_ids \u001b[39m=\u001b[39m model\u001b[39m.\u001b[39;49mgenerate(\n\u001b[1;32m     <a href='file:///home/jiayi/Projects/SPOT/src/spot/model.py?line=85'>86</a>\u001b[0m         inputs\u001b[39m=\u001b[39;49mbatch[\u001b[39m\"\u001b[39;49m\u001b[39minput_ids\u001b[39;49m\u001b[39m\"\u001b[39;49m]\u001b[39m.\u001b[39;49mto(device),\n\u001b[1;32m     <a href='file:///home/jiayi/Projects/SPOT/src/spot/model.py?line=86'>87</a>\u001b[0m         do_sample\u001b[39m=\u001b[39;49m\u001b[39mTrue\u001b[39;49;00m,\n\u001b[1;32m     <a href='file:///home/jiayi/Projects/SPOT/src/spot/model.py?line=87'>88</a>\u001b[0m         top_p\u001b[39m=\u001b[39;49m\u001b[39mself\u001b[39;49m\u001b[39m.\u001b[39;49margs\u001b[39m.\u001b[39;49mtop_p,\n\u001b[1;32m     <a href='file:///home/jiayi/Projects/SPOT/src/spot/model.py?line=88'>89</a>\u001b[0m         max_length\u001b[39m=\u001b[39;49m\u001b[39mself\u001b[39;49m\u001b[39m.\u001b[39;49margs\u001b[39m.\u001b[39;49mgeneration_max_length,\n\u001b[1;32m     <a href='file:///home/jiayi/Projects/SPOT/src/spot/model.py?line=89'>90</a>\u001b[0m     )\u001b[39m.\u001b[39mcpu()  \u001b[39m# type: ignore\u001b[39;00m\n\u001b[1;32m     <a href='file:///home/jiayi/Projects/SPOT/src/spot/model.py?line=90'>91</a>\u001b[0m     \u001b[39massert\u001b[39;00m \u001b[39mlen\u001b[39m(output_ids\u001b[39m.\u001b[39mshape) \u001b[39m==\u001b[39m \u001b[39m2\u001b[39m\n\u001b[1;32m     <a href='file:///home/jiayi/Projects/SPOT/src/spot/model.py?line=92'>93</a>\u001b[0m     n_chunks \u001b[39m=\u001b[39m output_ids\u001b[39m.\u001b[39mshape[\u001b[39m0\u001b[39m]\n",
      "File \u001b[0;32m~/Projects/SPOT/.venv/lib/python3.10/site-packages/torch/autograd/grad_mode.py:27\u001b[0m, in \u001b[0;36m_DecoratorContextManager.__call__.<locals>.decorate_context\u001b[0;34m(*args, **kwargs)\u001b[0m\n\u001b[1;32m     <a href='file:///home/jiayi/Projects/SPOT/.venv/lib/python3.10/site-packages/torch/autograd/grad_mode.py?line=23'>24</a>\u001b[0m \u001b[39m@functools\u001b[39m\u001b[39m.\u001b[39mwraps(func)\n\u001b[1;32m     <a href='file:///home/jiayi/Projects/SPOT/.venv/lib/python3.10/site-packages/torch/autograd/grad_mode.py?line=24'>25</a>\u001b[0m \u001b[39mdef\u001b[39;00m \u001b[39mdecorate_context\u001b[39m(\u001b[39m*\u001b[39margs, \u001b[39m*\u001b[39m\u001b[39m*\u001b[39mkwargs):\n\u001b[1;32m     <a href='file:///home/jiayi/Projects/SPOT/.venv/lib/python3.10/site-packages/torch/autograd/grad_mode.py?line=25'>26</a>\u001b[0m     \u001b[39mwith\u001b[39;00m \u001b[39mself\u001b[39m\u001b[39m.\u001b[39mclone():\n\u001b[0;32m---> <a href='file:///home/jiayi/Projects/SPOT/.venv/lib/python3.10/site-packages/torch/autograd/grad_mode.py?line=26'>27</a>\u001b[0m         \u001b[39mreturn\u001b[39;00m func(\u001b[39m*\u001b[39;49margs, \u001b[39m*\u001b[39;49m\u001b[39m*\u001b[39;49mkwargs)\n",
      "File \u001b[0;32m~/Projects/SPOT/.venv/lib/python3.10/site-packages/transformers/generation_utils.py:1273\u001b[0m, in \u001b[0;36mGenerationMixin.generate\u001b[0;34m(self, inputs, max_length, min_length, do_sample, early_stopping, num_beams, temperature, top_k, top_p, typical_p, repetition_penalty, bad_words_ids, force_words_ids, bos_token_id, pad_token_id, eos_token_id, length_penalty, no_repeat_ngram_size, encoder_no_repeat_ngram_size, num_return_sequences, max_time, max_new_tokens, decoder_start_token_id, use_cache, num_beam_groups, diversity_penalty, prefix_allowed_tokens_fn, logits_processor, stopping_criteria, constraints, output_attentions, output_hidden_states, output_scores, return_dict_in_generate, forced_bos_token_id, forced_eos_token_id, remove_invalid_values, synced_gpus, exponential_decay_length_penalty, **model_kwargs)\u001b[0m\n\u001b[1;32m   <a href='file:///home/jiayi/Projects/SPOT/.venv/lib/python3.10/site-packages/transformers/generation_utils.py?line=1267'>1268</a>\u001b[0m logits_warper \u001b[39m=\u001b[39m \u001b[39mself\u001b[39m\u001b[39m.\u001b[39m_get_logits_warper(\n\u001b[1;32m   <a href='file:///home/jiayi/Projects/SPOT/.venv/lib/python3.10/site-packages/transformers/generation_utils.py?line=1268'>1269</a>\u001b[0m     top_k\u001b[39m=\u001b[39mtop_k, top_p\u001b[39m=\u001b[39mtop_p, typical_p\u001b[39m=\u001b[39mtypical_p, temperature\u001b[39m=\u001b[39mtemperature, num_beams\u001b[39m=\u001b[39mnum_beams\n\u001b[1;32m   <a href='file:///home/jiayi/Projects/SPOT/.venv/lib/python3.10/site-packages/transformers/generation_utils.py?line=1269'>1270</a>\u001b[0m )\n\u001b[1;32m   <a href='file:///home/jiayi/Projects/SPOT/.venv/lib/python3.10/site-packages/transformers/generation_utils.py?line=1271'>1272</a>\u001b[0m \u001b[39m# 11. expand input_ids with `num_return_sequences` additional sequences per batch\u001b[39;00m\n\u001b[0;32m-> <a href='file:///home/jiayi/Projects/SPOT/.venv/lib/python3.10/site-packages/transformers/generation_utils.py?line=1272'>1273</a>\u001b[0m input_ids, model_kwargs \u001b[39m=\u001b[39m \u001b[39mself\u001b[39;49m\u001b[39m.\u001b[39;49m_expand_inputs_for_generation(\n\u001b[1;32m   <a href='file:///home/jiayi/Projects/SPOT/.venv/lib/python3.10/site-packages/transformers/generation_utils.py?line=1273'>1274</a>\u001b[0m     input_ids,\n\u001b[1;32m   <a href='file:///home/jiayi/Projects/SPOT/.venv/lib/python3.10/site-packages/transformers/generation_utils.py?line=1274'>1275</a>\u001b[0m     expand_size\u001b[39m=\u001b[39;49mnum_return_sequences,\n\u001b[1;32m   <a href='file:///home/jiayi/Projects/SPOT/.venv/lib/python3.10/site-packages/transformers/generation_utils.py?line=1275'>1276</a>\u001b[0m     is_encoder_decoder\u001b[39m=\u001b[39;49m\u001b[39mself\u001b[39;49m\u001b[39m.\u001b[39;49mconfig\u001b[39m.\u001b[39;49mis_encoder_decoder,\n\u001b[1;32m   <a href='file:///home/jiayi/Projects/SPOT/.venv/lib/python3.10/site-packages/transformers/generation_utils.py?line=1276'>1277</a>\u001b[0m     \u001b[39m*\u001b[39;49m\u001b[39m*\u001b[39;49mmodel_kwargs,\n\u001b[1;32m   <a href='file:///home/jiayi/Projects/SPOT/.venv/lib/python3.10/site-packages/transformers/generation_utils.py?line=1277'>1278</a>\u001b[0m )\n\u001b[1;32m   <a href='file:///home/jiayi/Projects/SPOT/.venv/lib/python3.10/site-packages/transformers/generation_utils.py?line=1279'>1280</a>\u001b[0m \u001b[39m# 12. run sample\u001b[39;00m\n\u001b[1;32m   <a href='file:///home/jiayi/Projects/SPOT/.venv/lib/python3.10/site-packages/transformers/generation_utils.py?line=1280'>1281</a>\u001b[0m \u001b[39mreturn\u001b[39;00m \u001b[39mself\u001b[39m\u001b[39m.\u001b[39msample(\n\u001b[1;32m   <a href='file:///home/jiayi/Projects/SPOT/.venv/lib/python3.10/site-packages/transformers/generation_utils.py?line=1281'>1282</a>\u001b[0m     input_ids,\n\u001b[1;32m   <a href='file:///home/jiayi/Projects/SPOT/.venv/lib/python3.10/site-packages/transformers/generation_utils.py?line=1282'>1283</a>\u001b[0m     logits_processor\u001b[39m=\u001b[39mlogits_processor,\n\u001b[0;32m   (...)\u001b[0m\n\u001b[1;32m   <a href='file:///home/jiayi/Projects/SPOT/.venv/lib/python3.10/site-packages/transformers/generation_utils.py?line=1290'>1291</a>\u001b[0m     \u001b[39m*\u001b[39m\u001b[39m*\u001b[39mmodel_kwargs,\n\u001b[1;32m   <a href='file:///home/jiayi/Projects/SPOT/.venv/lib/python3.10/site-packages/transformers/generation_utils.py?line=1291'>1292</a>\u001b[0m )\n",
      "File \u001b[0;32m~/Projects/SPOT/.venv/lib/python3.10/site-packages/transformers/generation_utils.py:578\u001b[0m, in \u001b[0;36mGenerationMixin._expand_inputs_for_generation\u001b[0;34m(input_ids, expand_size, is_encoder_decoder, attention_mask, encoder_outputs, **model_kwargs)\u001b[0m\n\u001b[1;32m    <a href='file:///home/jiayi/Projects/SPOT/.venv/lib/python3.10/site-packages/transformers/generation_utils.py?line=567'>568</a>\u001b[0m \u001b[39m@staticmethod\u001b[39m\n\u001b[1;32m    <a href='file:///home/jiayi/Projects/SPOT/.venv/lib/python3.10/site-packages/transformers/generation_utils.py?line=568'>569</a>\u001b[0m \u001b[39mdef\u001b[39;00m \u001b[39m_expand_inputs_for_generation\u001b[39m(\n\u001b[1;32m    <a href='file:///home/jiayi/Projects/SPOT/.venv/lib/python3.10/site-packages/transformers/generation_utils.py?line=569'>570</a>\u001b[0m     input_ids: torch\u001b[39m.\u001b[39mLongTensor,\n\u001b[0;32m   (...)\u001b[0m\n\u001b[1;32m    <a href='file:///home/jiayi/Projects/SPOT/.venv/lib/python3.10/site-packages/transformers/generation_utils.py?line=574'>575</a>\u001b[0m     \u001b[39m*\u001b[39m\u001b[39m*\u001b[39mmodel_kwargs,\n\u001b[1;32m    <a href='file:///home/jiayi/Projects/SPOT/.venv/lib/python3.10/site-packages/transformers/generation_utils.py?line=575'>576</a>\u001b[0m ) \u001b[39m-\u001b[39m\u001b[39m>\u001b[39m Tuple[torch\u001b[39m.\u001b[39mLongTensor, Dict[\u001b[39mstr\u001b[39m, Any]]:\n\u001b[1;32m    <a href='file:///home/jiayi/Projects/SPOT/.venv/lib/python3.10/site-packages/transformers/generation_utils.py?line=576'>577</a>\u001b[0m     expanded_return_idx \u001b[39m=\u001b[39m (\n\u001b[0;32m--> <a href='file:///home/jiayi/Projects/SPOT/.venv/lib/python3.10/site-packages/transformers/generation_utils.py?line=577'>578</a>\u001b[0m         torch\u001b[39m.\u001b[39;49marange(input_ids\u001b[39m.\u001b[39;49mshape[\u001b[39m0\u001b[39;49m])\u001b[39m.\u001b[39;49mview(\u001b[39m-\u001b[39;49m\u001b[39m1\u001b[39;49m, \u001b[39m1\u001b[39;49m)\u001b[39m.\u001b[39;49mrepeat(\u001b[39m1\u001b[39;49m, expand_size)\u001b[39m.\u001b[39;49mview(\u001b[39m-\u001b[39;49m\u001b[39m1\u001b[39;49m)\u001b[39m.\u001b[39;49mto(input_ids\u001b[39m.\u001b[39;49mdevice)\n\u001b[1;32m    <a href='file:///home/jiayi/Projects/SPOT/.venv/lib/python3.10/site-packages/transformers/generation_utils.py?line=578'>579</a>\u001b[0m     )\n\u001b[1;32m    <a href='file:///home/jiayi/Projects/SPOT/.venv/lib/python3.10/site-packages/transformers/generation_utils.py?line=579'>580</a>\u001b[0m     input_ids \u001b[39m=\u001b[39m input_ids\u001b[39m.\u001b[39mindex_select(\u001b[39m0\u001b[39m, expanded_return_idx)\n\u001b[1;32m    <a href='file:///home/jiayi/Projects/SPOT/.venv/lib/python3.10/site-packages/transformers/generation_utils.py?line=581'>582</a>\u001b[0m     \u001b[39mif\u001b[39;00m \u001b[39m\"\u001b[39m\u001b[39mtoken_type_ids\u001b[39m\u001b[39m\"\u001b[39m \u001b[39min\u001b[39;00m model_kwargs:\n",
      "\u001b[0;31mKeyboardInterrupt\u001b[0m: "
     ]
    }
   ],
   "source": [
    "print(\"ctx_size factor: 1\")\n",
    "pretty_print_accuracies(acc_series[0])\n",
    "print(\"ctx_size factor: 3\")\n",
    "pretty_print_accuracies(acc_series[best_r0_ctx_factor - 1])\n"
   ]
  },
  {
   "cell_type": "code",
   "execution_count": 7,
   "metadata": {
    "notebookRunGroups": {
     "groupValue": "1"
    }
   },
   "outputs": [
    {
     "name": "stderr",
     "output_type": "stream",
     "text": [
      "loading configuration file https://huggingface.co/Salesforce/codet5-base/resolve/main/config.json from cache at /mnt/data0/jiayi/hugface_cache/transformers/f1adf9032ebe26d0dd0b9c4917416e2db960b7e8b8e68f0612e8e5d5379488f5.20220fde7ff6c94c24bdcd615678f6a4374f3176abdc061beecc43a906725837\n",
      "Model config T5Config {\n",
      "  \"_name_or_path\": \"/content/drive/MyDrive/CodeT5/pretrained_models/codet5_base\",\n",
      "  \"architectures\": [\n",
      "    \"T5ForConditionalGeneration\"\n",
      "  ],\n",
      "  \"bos_token_id\": 1,\n",
      "  \"d_ff\": 3072,\n",
      "  \"d_kv\": 64,\n",
      "  \"d_model\": 768,\n",
      "  \"decoder_start_token_id\": 0,\n",
      "  \"dropout_rate\": 0.1,\n",
      "  \"eos_token_id\": 2,\n",
      "  \"feed_forward_proj\": \"relu\",\n",
      "  \"gradient_checkpointing\": false,\n",
      "  \"id2label\": {\n",
      "    \"0\": \"LABEL_0\"\n",
      "  },\n",
      "  \"initializer_factor\": 1.0,\n",
      "  \"is_encoder_decoder\": true,\n",
      "  \"label2id\": {\n",
      "    \"LABEL_0\": 0\n",
      "  },\n",
      "  \"layer_norm_epsilon\": 1e-06,\n",
      "  \"model_type\": \"t5\",\n",
      "  \"n_positions\": 512,\n",
      "  \"num_decoder_layers\": 12,\n",
      "  \"num_heads\": 12,\n",
      "  \"num_layers\": 12,\n",
      "  \"output_past\": true,\n",
      "  \"pad_token_id\": 0,\n",
      "  \"relative_attention_max_distance\": 128,\n",
      "  \"relative_attention_num_buckets\": 32,\n",
      "  \"task_specific_params\": {\n",
      "    \"summarization\": {\n",
      "      \"early_stopping\": true,\n",
      "      \"length_penalty\": 2.0,\n",
      "      \"max_length\": 200,\n",
      "      \"min_length\": 30,\n",
      "      \"no_repeat_ngram_size\": 3,\n",
      "      \"num_beams\": 4,\n",
      "      \"prefix\": \"summarize: \"\n",
      "    },\n",
      "    \"translation_en_to_de\": {\n",
      "      \"early_stopping\": true,\n",
      "      \"max_length\": 300,\n",
      "      \"num_beams\": 4,\n",
      "      \"prefix\": \"translate English to German: \"\n",
      "    },\n",
      "    \"translation_en_to_fr\": {\n",
      "      \"early_stopping\": true,\n",
      "      \"max_length\": 300,\n",
      "      \"num_beams\": 4,\n",
      "      \"prefix\": \"translate English to French: \"\n",
      "    },\n",
      "    \"translation_en_to_ro\": {\n",
      "      \"early_stopping\": true,\n",
      "      \"max_length\": 300,\n",
      "      \"num_beams\": 4,\n",
      "      \"prefix\": \"translate English to Romanian: \"\n",
      "    }\n",
      "  },\n",
      "  \"torch_dtype\": \"float32\",\n",
      "  \"transformers_version\": \"4.18.0\",\n",
      "  \"use_cache\": true,\n",
      "  \"vocab_size\": 32100\n",
      "}\n",
      "\n",
      "loading weights file https://huggingface.co/Salesforce/codet5-base/resolve/main/pytorch_model.bin from cache at /mnt/data0/jiayi/hugface_cache/transformers/1afeeca5d5f5a78dca99d501138e9d6ffc6ff52d8048459ca67b3752e7b4d325.200e87e8e909da91038103a5ef6266da8d95a33855e53ec2031712515063c45c\n",
      "/home/jiayi/Projects/SPOT/.venv/lib/python3.10/site-packages/torch/nn/modules/module.py:1402: UserWarning: positional arguments and argument \"destination\" are deprecated. nn.Module.state_dict will not accept them in the future. Refer to https://pytorch.org/docs/master/generated/torch.nn.Module.html#torch.nn.Module.state_dict for details.\n",
      "  warnings.warn(\n",
      "All model checkpoint weights were used when initializing T5ForConditionalGeneration.\n",
      "\n",
      "All the weights of T5ForConditionalGeneration were initialized from the model checkpoint at Salesforce/codet5-base.\n",
      "If your task is similar to the task the model of the checkpoint was trained on, you can already use T5ForConditionalGeneration for predictions without further training.\n"
     ]
    }
   ],
   "source": [
    "train_r1 = True\n",
    "\n",
    "r1_model_name = f\"SPOT-R1-{margin_tag}-{data_tag}\"\n",
    "\n",
    "if train_r1:\n",
    "    r1_model_path = \"Salesforce/codet5-base\"\n",
    "else:\n",
    "    r1_model_path = datadir / f\"checkpoints/saved/{r1_model_name}\"\n",
    "\n",
    "r1_model: ModelSPOT = ModelSPOT.from_pretrained(r1_model_path).to(device)\n",
    "r1_monitor = TaskLoggingMonitor(\"R1\")\n",
    "r1_args = DecodingArgs(\n",
    "    sampling_batch_size=512,\n",
    "    ctx_args=CtxArgs(\n",
    "        ctx_size=512,\n",
    "        ctx_margin=128,\n",
    "        types_in_ctx=False,\n",
    "    ),\n",
    "    max_workers=20,\n",
    ")\n",
    "r1_wrapper = ModelWrapper(r1_model, tokenizer, r1_args, r1_monitor)"
   ]
  },
  {
   "cell_type": "code",
   "execution_count": 18,
   "metadata": {
    "notebookRunGroups": {
     "groupValue": "1"
    }
   },
   "outputs": [
    {
     "name": "stdout",
     "output_type": "stream",
     "text": [
      "Predicting on: valid\n"
     ]
    },
    {
     "data": {
      "application/vnd.jupyter.widget-view+json": {
       "model_id": "02d7604977314ada9524aaa50628bb22",
       "version_major": 2,
       "version_minor": 0
      },
      "text/plain": [
       "predict:   0%|          | 0/4040 [00:00<?, ?it/s]"
      ]
     },
     "metadata": {},
     "output_type": "display_data"
    },
    {
     "name": "stdout",
     "output_type": "stream",
     "text": [
      "Predicting on: test\n"
     ]
    },
    {
     "data": {
      "application/vnd.jupyter.widget-view+json": {
       "model_id": "ddd01b6e015a4d0facb1ab906c6812c8",
       "version_major": 2,
       "version_minor": 0
      },
      "text/plain": [
       "predict:   0%|          | 0/3429 [00:00<?, ?it/s]"
      ]
     },
     "metadata": {},
     "output_type": "display_data"
    },
    {
     "name": "stdout",
     "output_type": "stream",
     "text": [
      "Predicting on: train\n"
     ]
    },
    {
     "data": {
      "application/vnd.jupyter.widget-view+json": {
       "model_id": "46af16726aa7401a9c70f6f6509b9da8",
       "version_major": 2,
       "version_minor": 0
      },
      "text/plain": [
       "predict:   0%|          | 0/61503 [00:00<?, ?it/s]"
      ]
     },
     "metadata": {},
     "output_type": "display_data"
    }
   ],
   "source": [
    "import pickle\n",
    "\n",
    "from spot.data import ChunkedDataset, save_datasets\n",
    "\n",
    "test_r1_generation = False\n",
    "use_file_level_feedback = False\n",
    "\n",
    "feedback_tag = \"per_file\" if use_file_level_feedback else \"per_project\"\n",
    "r1_data_path = (\n",
    "    datadir\n",
    "    / f\"SPOT-data/{'test-' if test_r1_generation else ''}src_datasets-R1-{feedback_tag}\"\n",
    ")\n",
    "r1_src_datasets: Dict[str, SrcDataset]\n",
    "load_r1_data = r1_data_path.exists() and not test_r1_generation\n",
    "\n",
    "if load_r1_data:\n",
    "    print(f\"Loading R1 datasets from {r1_data_path}...\")\n",
    "    for n in [\"train\", \"valid\", \"test\"]:\n",
    "        with open(r1_data_path / f\"{n}.pkl\", \"rb\") as f:\n",
    "            r1_src_datasets[n] = pickle.load(f)\n",
    "            r1_src_datasets[n].repos_root = repos_dir\n",
    "else:\n",
    "    # compute the r0_predictions first in case the next step fails\n",
    "    r0_cache_path = r1_data_path / \"r0_predictions.pkl\"\n",
    "\n",
    "    if r0_cache_path.exists():\n",
    "        print(f\"Loading R0 predictions from {r0_cache_path}...\")\n",
    "        with open(r0_cache_path, \"rb\") as f:\n",
    "            r0_predictions = pickle.load(f)\n",
    "    else:\n",
    "        r0_predictions = dict()\n",
    "        with run_long_task(\"Make R0 predictions\", notify=False):\n",
    "            for name in [\"valid\", \"test\", \"train\"]:\n",
    "                print(\"Predicting on:\", name)\n",
    "                r0_data = r0_datasets[name]\n",
    "                if test_r1_generation:\n",
    "                    r0_data = r0_data[:64]\n",
    "                r0_predictions[name] = r0_wrapper.scale_ctx_size(\n",
    "                    best_r0_ctx_factor\n",
    "                ).predict(r0_data, tqdm_args={\"leave\": False})\n",
    "\n",
    "        r1_data_path.mkdir(parents=True, exist_ok=True)\n",
    "        with open(r1_data_path / \"r0_predictions.pkl\", \"wb\") as f:\n",
    "            pickle.dump(r0_predictions, f)\n"
   ]
  },
  {
   "cell_type": "code",
   "execution_count": null,
   "metadata": {
    "notebookRunGroups": {
     "groupValue": "1"
    }
   },
   "outputs": [
    {
     "name": "stdout",
     "output_type": "stream",
     "text": [
      "Processing dataset: test\n",
      "[R1] Starting task: 'get_type_checked_inputs'\n"
     ]
    },
    {
     "data": {
      "application/vnd.jupyter.widget-view+json": {
       "model_id": "7902424c2773463d85602a0f705daa3d",
       "version_major": 2,
       "version_minor": 0
      },
      "text/plain": [
       "reading orginal srcs:   0%|          | 0/2 [00:00<?, ?it/s]"
      ]
     },
     "metadata": {},
     "output_type": "display_data"
    },
    {
     "name": "stdout",
     "output_type": "stream",
     "text": [
      "[R1] Starting task: 'get_type_checked_inputs > Call mypy'\n"
     ]
    },
    {
     "data": {
      "application/vnd.jupyter.widget-view+json": {
       "model_id": "8e777943eb0c40228d038a5489c86822",
       "version_major": 2,
       "version_minor": 0
      },
      "text/plain": [
       "calling mypy:   0%|          | 0/1 [00:00<?, ?it/s]"
      ]
     },
     "metadata": {},
     "output_type": "display_data"
    },
    {
     "name": "stdout",
     "output_type": "stream",
     "text": [
      "[R1] 'get_type_checked_inputs > Call mypy' finished in 0.3348526954650879 seconds\n"
     ]
    },
    {
     "data": {
      "application/vnd.jupyter.widget-view+json": {
       "model_id": "50122b40db48483db11d1c5493de7d08",
       "version_major": 2,
       "version_minor": 0
      },
      "text/plain": [
       "generating augmented inputs:   0%|          | 0/2 [00:00<?, ?it/s]"
      ]
     },
     "metadata": {},
     "output_type": "display_data"
    },
    {
     "name": "stdout",
     "output_type": "stream",
     "text": [
      "[R1] 'get_type_checked_inputs' finished in 0.889845609664917 seconds\n",
      "[R1] Starting task: 'chunk_masked_code'\n"
     ]
    },
    {
     "data": {
      "application/vnd.jupyter.widget-view+json": {
       "model_id": "ad39342ef2e74448847919a5e6a818d5",
       "version_major": 2,
       "version_minor": 0
      },
      "text/plain": [
       "tokenizing sources:   0%|          | 0/2 [00:00<?, ?it/s]"
      ]
     },
     "metadata": {},
     "output_type": "display_data"
    },
    {
     "data": {
      "application/vnd.jupyter.widget-view+json": {
       "model_id": "88d4cf57222a4a97b8b91c40b8b97c6e",
       "version_major": 2,
       "version_minor": 0
      },
      "text/plain": [
       "processing chunks:   0%|          | 0/27 [00:00<?, ?it/s]"
      ]
     },
     "metadata": {},
     "output_type": "display_data"
    },
    {
     "name": "stdout",
     "output_type": "stream",
     "text": [
      "[R1] 'chunk_masked_code' finished in 3.9471073150634766 seconds\n",
      "Processing dataset: train\n",
      "[R1] Starting task: 'get_type_checked_inputs'\n"
     ]
    },
    {
     "data": {
      "application/vnd.jupyter.widget-view+json": {
       "model_id": "8e6fecbbfad4431980fa89dd1b1a01f9",
       "version_major": 2,
       "version_minor": 0
      },
      "text/plain": [
       "reading orginal srcs:   0%|          | 0/10 [00:00<?, ?it/s]"
      ]
     },
     "metadata": {},
     "output_type": "display_data"
    },
    {
     "name": "stdout",
     "output_type": "stream",
     "text": [
      "[R1] Starting task: 'get_type_checked_inputs > Call mypy'\n"
     ]
    },
    {
     "data": {
      "application/vnd.jupyter.widget-view+json": {
       "model_id": "2c20b38cc3ac48738ab7c646897c3fcb",
       "version_major": 2,
       "version_minor": 0
      },
      "text/plain": [
       "calling mypy:   0%|          | 0/1 [00:00<?, ?it/s]"
      ]
     },
     "metadata": {},
     "output_type": "display_data"
    },
    {
     "name": "stdout",
     "output_type": "stream",
     "text": [
      "[R1] 'get_type_checked_inputs > Call mypy' finished in 0.1553797721862793 seconds\n"
     ]
    },
    {
     "data": {
      "application/vnd.jupyter.widget-view+json": {
       "model_id": "86c69b4f8a894552bb37e4885cb077b7",
       "version_major": 2,
       "version_minor": 0
      },
      "text/plain": [
       "generating augmented inputs:   0%|          | 0/10 [00:00<?, ?it/s]"
      ]
     },
     "metadata": {},
     "output_type": "display_data"
    },
    {
     "name": "stdout",
     "output_type": "stream",
     "text": [
      "[R1] 'get_type_checked_inputs' finished in 1.586441993713379 seconds\n",
      "[R1] Starting task: 'chunk_masked_code'\n"
     ]
    },
    {
     "data": {
      "application/vnd.jupyter.widget-view+json": {
       "model_id": "9225c2fd08a14ce99a5cd4d26b98d7ce",
       "version_major": 2,
       "version_minor": 0
      },
      "text/plain": [
       "tokenizing sources:   0%|          | 0/10 [00:00<?, ?it/s]"
      ]
     },
     "metadata": {},
     "output_type": "display_data"
    },
    {
     "data": {
      "application/vnd.jupyter.widget-view+json": {
       "model_id": "8b3126457740498ba279711a96c7b546",
       "version_major": 2,
       "version_minor": 0
      },
      "text/plain": [
       "processing chunks:   0%|          | 0/26 [00:00<?, ?it/s]"
      ]
     },
     "metadata": {},
     "output_type": "display_data"
    },
    {
     "name": "stdout",
     "output_type": "stream",
     "text": [
      "[R1] 'chunk_masked_code' finished in 4.452892541885376 seconds\n",
      "Processing dataset: valid\n",
      "[R1] Starting task: 'get_type_checked_inputs'\n"
     ]
    },
    {
     "data": {
      "application/vnd.jupyter.widget-view+json": {
       "model_id": "8c4c0d1ec8314e9cabd50ed3b283b630",
       "version_major": 2,
       "version_minor": 0
      },
      "text/plain": [
       "reading orginal srcs:   0%|          | 0/8 [00:00<?, ?it/s]"
      ]
     },
     "metadata": {},
     "output_type": "display_data"
    },
    {
     "name": "stdout",
     "output_type": "stream",
     "text": [
      "[R1] Starting task: 'get_type_checked_inputs > Call mypy'\n"
     ]
    },
    {
     "data": {
      "application/vnd.jupyter.widget-view+json": {
       "model_id": "7c7f773c38a64ac28444d16c2dbf3015",
       "version_major": 2,
       "version_minor": 0
      },
      "text/plain": [
       "calling mypy:   0%|          | 0/1 [00:00<?, ?it/s]"
      ]
     },
     "metadata": {},
     "output_type": "display_data"
    },
    {
     "name": "stdout",
     "output_type": "stream",
     "text": [
      "[R1] 'get_type_checked_inputs > Call mypy' finished in 1.1858718395233154 seconds\n"
     ]
    },
    {
     "data": {
      "application/vnd.jupyter.widget-view+json": {
       "model_id": "c20b71a5d6f44b60a37620e9e059a05e",
       "version_major": 2,
       "version_minor": 0
      },
      "text/plain": [
       "generating augmented inputs:   0%|          | 0/8 [00:00<?, ?it/s]"
      ]
     },
     "metadata": {},
     "output_type": "display_data"
    },
    {
     "name": "stdout",
     "output_type": "stream",
     "text": [
      "[R1] 'get_type_checked_inputs' finished in 2.1966168880462646 seconds\n",
      "[R1] Starting task: 'chunk_masked_code'\n"
     ]
    },
    {
     "data": {
      "application/vnd.jupyter.widget-view+json": {
       "model_id": "7b88389761754457a94026fd726e6f61",
       "version_major": 2,
       "version_minor": 0
      },
      "text/plain": [
       "tokenizing sources:   0%|          | 0/8 [00:00<?, ?it/s]"
      ]
     },
     "metadata": {},
     "output_type": "display_data"
    },
    {
     "data": {
      "application/vnd.jupyter.widget-view+json": {
       "model_id": "18b134488a604db3b08046b12151a4f3",
       "version_major": 2,
       "version_minor": 0
      },
      "text/plain": [
       "processing chunks:   0%|          | 0/42 [00:00<?, ?it/s]"
      ]
     },
     "metadata": {},
     "output_type": "display_data"
    },
    {
     "name": "stdout",
     "output_type": "stream",
     "text": [
      "[R1] 'chunk_masked_code' finished in 5.094545125961304 seconds\n",
      "Deleting old datasets at: /mnt/data0/jiayi/SPOT-data/test-src_datasets-R1-per_project\n",
      "268K\t/mnt/data0/jiayi/SPOT-data/test-src_datasets-R1-per_project\n"
     ]
    }
   ],
   "source": [
    "if not load_r1_data:\n",
    "    r1_datasets = {}\n",
    "    \n",
    "    with run_long_task(\"Generate R1 inputs\", notify=False):\n",
    "        for name in [\"test\", \"train\", \"valid\"]:\n",
    "            print(\"Processing dataset:\", name)\n",
    "            repos = [r.repo_dir(repos_dir) for r in repos_split[name]]\n",
    "            r0_data = r0_datasets[name]\n",
    "            r0_preds = r0_predictions[name]\n",
    "            if test_r1_generation:\n",
    "                r0_data = r0_data[:16]\n",
    "                r0_preds = r0_preds[:16]\n",
    "            r1_datasets[name] = r1_wrapper.generate_r1_inputs(\n",
    "                r0_data,\n",
    "                r0_preds,\n",
    "                tqdm_args={\"leave\": False},\n",
    "                use_file_level_feedback=use_file_level_feedback,\n",
    "            )\n",
    "    save_datasets(r1_datasets, repos_split, r1_data_path)\n"
   ]
  },
  {
   "cell_type": "code",
   "execution_count": null,
   "metadata": {},
   "outputs": [
    {
     "name": "stderr",
     "output_type": "stream",
     "text": [
      "PyTorch: setting up devices\n",
      "Using amp half precision backend\n",
      "Failed to detect the name of this notebook, you can set it manually with the WANDB_NOTEBOOK_NAME environment variable to enable code saving.\n",
      "\u001b[34m\u001b[1mwandb\u001b[0m: Currently logged in as: \u001b[33mmrvplusone\u001b[0m. Use \u001b[1m`wandb login --relogin`\u001b[0m to force relogin\n"
     ]
    },
    {
     "data": {
      "text/html": [
       "Tracking run with wandb version 0.12.16"
      ],
      "text/plain": [
       "<IPython.core.display.HTML object>"
      ]
     },
     "metadata": {},
     "output_type": "display_data"
    },
    {
     "data": {
      "text/html": [
       "Run data is saved locally in <code>/mnt/data0/jiayi/wandb/run-20220516_103345-3d5sneci</code>"
      ],
      "text/plain": [
       "<IPython.core.display.HTML object>"
      ]
     },
     "metadata": {},
     "output_type": "display_data"
    },
    {
     "data": {
      "text/html": [
       "Syncing run <strong><a href=\"https://wandb.ai/mrvplusone/SPOT-R1-with_margin-data_full/runs/3d5sneci\" target=\"_blank\">silvery-deluge-6</a></strong> to <a href=\"https://wandb.ai/mrvplusone/SPOT-R1-with_margin-data_full\" target=\"_blank\">Weights & Biases</a> (<a href=\"https://wandb.me/run\" target=\"_blank\">docs</a>)<br/>"
      ],
      "text/plain": [
       "<IPython.core.display.HTML object>"
      ]
     },
     "metadata": {},
     "output_type": "display_data"
    },
    {
     "name": "stderr",
     "output_type": "stream",
     "text": [
      "***** Running Evaluation *****\n",
      "  Num examples = 5347\n",
      "  Batch size = 200\n"
     ]
    },
    {
     "data": {
      "text/html": [
       "\n",
       "    <div>\n",
       "      \n",
       "      <progress value='54' max='27' style='width:300px; height:20px; vertical-align: middle;'></progress>\n",
       "      [27/27 08:27]\n",
       "    </div>\n",
       "    "
      ],
      "text/plain": [
       "<IPython.core.display.HTML object>"
      ]
     },
     "metadata": {},
     "output_type": "display_data"
    },
    {
     "name": "stderr",
     "output_type": "stream",
     "text": [
      "Automatic Weights & Biases logging enabled, to disable set os.environ[\"WANDB_DISABLED\"] = \"true\"\n",
      "/home/jiayi/Projects/SPOT/.venv/lib/python3.10/site-packages/transformers/optimization.py:306: FutureWarning: This implementation of AdamW is deprecated and will be removed in a future version. Use the PyTorch implementation torch.optim.AdamW instead, or set `no_deprecation_warning=True` to disable this warning\n",
      "  warnings.warn(\n",
      "***** Running training *****\n",
      "  Num examples = 81003\n",
      "  Num Epochs = 3\n",
      "  Instantaneous batch size per device = 36\n",
      "  Total train batch size (w. parallel, distributed & accumulation) = 36\n",
      "  Gradient Accumulation steps = 1\n",
      "  Total optimization steps = 6753\n"
     ]
    },
    {
     "name": "stdout",
     "output_type": "stream",
     "text": [
      "initial performance: {'eval_loss': 2.967663049697876, 'eval_runtime': 45.7404, 'eval_samples_per_second': 116.899, 'eval_steps_per_second': 0.59}\n"
     ]
    },
    {
     "data": {
      "text/html": [
       "\n",
       "    <div>\n",
       "      \n",
       "      <progress value='5500' max='6753' style='width:300px; height:20px; vertical-align: middle;'></progress>\n",
       "      [5500/6753 1:25:24 < 19:27, 1.07 it/s, Epoch 2/3]\n",
       "    </div>\n",
       "    <table border=\"1\" class=\"dataframe\">\n",
       "  <thead>\n",
       " <tr style=\"text-align: left;\">\n",
       "      <th>Step</th>\n",
       "      <th>Training Loss</th>\n",
       "      <th>Validation Loss</th>\n",
       "    </tr>\n",
       "  </thead>\n",
       "  <tbody>\n",
       "    <tr>\n",
       "      <td>500</td>\n",
       "      <td>0.512200</td>\n",
       "      <td>0.511515</td>\n",
       "    </tr>\n",
       "    <tr>\n",
       "      <td>1000</td>\n",
       "      <td>0.428000</td>\n",
       "      <td>0.471736</td>\n",
       "    </tr>\n",
       "    <tr>\n",
       "      <td>1500</td>\n",
       "      <td>0.398900</td>\n",
       "      <td>0.462796</td>\n",
       "    </tr>\n",
       "    <tr>\n",
       "      <td>2000</td>\n",
       "      <td>0.386200</td>\n",
       "      <td>0.460489</td>\n",
       "    </tr>\n",
       "    <tr>\n",
       "      <td>2500</td>\n",
       "      <td>0.351300</td>\n",
       "      <td>0.457103</td>\n",
       "    </tr>\n",
       "    <tr>\n",
       "      <td>3000</td>\n",
       "      <td>0.329000</td>\n",
       "      <td>0.445091</td>\n",
       "    </tr>\n",
       "    <tr>\n",
       "      <td>3500</td>\n",
       "      <td>0.323500</td>\n",
       "      <td>0.446647</td>\n",
       "    </tr>\n",
       "    <tr>\n",
       "      <td>4000</td>\n",
       "      <td>0.317200</td>\n",
       "      <td>0.434070</td>\n",
       "    </tr>\n",
       "    <tr>\n",
       "      <td>4500</td>\n",
       "      <td>0.310400</td>\n",
       "      <td>0.434677</td>\n",
       "    </tr>\n",
       "    <tr>\n",
       "      <td>5000</td>\n",
       "      <td>0.286000</td>\n",
       "      <td>0.441188</td>\n",
       "    </tr>\n",
       "    <tr>\n",
       "      <td>5500</td>\n",
       "      <td>0.279000</td>\n",
       "      <td>0.439869</td>\n",
       "    </tr>\n",
       "  </tbody>\n",
       "</table><p>"
      ],
      "text/plain": [
       "<IPython.core.display.HTML object>"
      ]
     },
     "metadata": {},
     "output_type": "display_data"
    },
    {
     "name": "stderr",
     "output_type": "stream",
     "text": [
      "***** Running Evaluation *****\n",
      "  Num examples = 5347\n",
      "  Batch size = 200\n",
      "Saving model checkpoint to /mnt/data0/jiayi/checkpoints/SPOT-R1-with_margin-data_full/checkpoint-500\n",
      "Configuration saved in /mnt/data0/jiayi/checkpoints/SPOT-R1-with_margin-data_full/checkpoint-500/config.json\n",
      "/home/jiayi/Projects/SPOT/.venv/lib/python3.10/site-packages/torch/nn/modules/module.py:1402: UserWarning: positional arguments and argument \"destination\" are deprecated. nn.Module.state_dict will not accept them in the future. Refer to https://pytorch.org/docs/master/generated/torch.nn.Module.html#torch.nn.Module.state_dict for details.\n",
      "  warnings.warn(\n",
      "Model weights saved in /mnt/data0/jiayi/checkpoints/SPOT-R1-with_margin-data_full/checkpoint-500/pytorch_model.bin\n",
      "tokenizer config file saved in /mnt/data0/jiayi/checkpoints/SPOT-R1-with_margin-data_full/checkpoint-500/tokenizer_config.json\n",
      "Special tokens file saved in /mnt/data0/jiayi/checkpoints/SPOT-R1-with_margin-data_full/checkpoint-500/special_tokens_map.json\n",
      "***** Running Evaluation *****\n",
      "  Num examples = 5347\n",
      "  Batch size = 200\n",
      "Saving model checkpoint to /mnt/data0/jiayi/checkpoints/SPOT-R1-with_margin-data_full/checkpoint-1000\n",
      "Configuration saved in /mnt/data0/jiayi/checkpoints/SPOT-R1-with_margin-data_full/checkpoint-1000/config.json\n",
      "/home/jiayi/Projects/SPOT/.venv/lib/python3.10/site-packages/torch/nn/modules/module.py:1402: UserWarning: positional arguments and argument \"destination\" are deprecated. nn.Module.state_dict will not accept them in the future. Refer to https://pytorch.org/docs/master/generated/torch.nn.Module.html#torch.nn.Module.state_dict for details.\n",
      "  warnings.warn(\n",
      "Model weights saved in /mnt/data0/jiayi/checkpoints/SPOT-R1-with_margin-data_full/checkpoint-1000/pytorch_model.bin\n",
      "tokenizer config file saved in /mnt/data0/jiayi/checkpoints/SPOT-R1-with_margin-data_full/checkpoint-1000/tokenizer_config.json\n",
      "Special tokens file saved in /mnt/data0/jiayi/checkpoints/SPOT-R1-with_margin-data_full/checkpoint-1000/special_tokens_map.json\n",
      "Deleting older checkpoint [/mnt/data0/jiayi/checkpoints/SPOT-R1-with_margin-data_full/checkpoint-4000] due to args.save_total_limit\n",
      "***** Running Evaluation *****\n",
      "  Num examples = 5347\n",
      "  Batch size = 200\n",
      "Saving model checkpoint to /mnt/data0/jiayi/checkpoints/SPOT-R1-with_margin-data_full/checkpoint-1500\n",
      "Configuration saved in /mnt/data0/jiayi/checkpoints/SPOT-R1-with_margin-data_full/checkpoint-1500/config.json\n",
      "/home/jiayi/Projects/SPOT/.venv/lib/python3.10/site-packages/torch/nn/modules/module.py:1402: UserWarning: positional arguments and argument \"destination\" are deprecated. nn.Module.state_dict will not accept them in the future. Refer to https://pytorch.org/docs/master/generated/torch.nn.Module.html#torch.nn.Module.state_dict for details.\n",
      "  warnings.warn(\n",
      "Model weights saved in /mnt/data0/jiayi/checkpoints/SPOT-R1-with_margin-data_full/checkpoint-1500/pytorch_model.bin\n",
      "tokenizer config file saved in /mnt/data0/jiayi/checkpoints/SPOT-R1-with_margin-data_full/checkpoint-1500/tokenizer_config.json\n",
      "Special tokens file saved in /mnt/data0/jiayi/checkpoints/SPOT-R1-with_margin-data_full/checkpoint-1500/special_tokens_map.json\n",
      "Deleting older checkpoint [/mnt/data0/jiayi/checkpoints/SPOT-R1-with_margin-data_full/checkpoint-4500] due to args.save_total_limit\n",
      "***** Running Evaluation *****\n",
      "  Num examples = 5347\n",
      "  Batch size = 200\n",
      "Saving model checkpoint to /mnt/data0/jiayi/checkpoints/SPOT-R1-with_margin-data_full/checkpoint-2000\n",
      "Configuration saved in /mnt/data0/jiayi/checkpoints/SPOT-R1-with_margin-data_full/checkpoint-2000/config.json\n",
      "/home/jiayi/Projects/SPOT/.venv/lib/python3.10/site-packages/torch/nn/modules/module.py:1402: UserWarning: positional arguments and argument \"destination\" are deprecated. nn.Module.state_dict will not accept them in the future. Refer to https://pytorch.org/docs/master/generated/torch.nn.Module.html#torch.nn.Module.state_dict for details.\n",
      "  warnings.warn(\n",
      "Model weights saved in /mnt/data0/jiayi/checkpoints/SPOT-R1-with_margin-data_full/checkpoint-2000/pytorch_model.bin\n",
      "tokenizer config file saved in /mnt/data0/jiayi/checkpoints/SPOT-R1-with_margin-data_full/checkpoint-2000/tokenizer_config.json\n",
      "Special tokens file saved in /mnt/data0/jiayi/checkpoints/SPOT-R1-with_margin-data_full/checkpoint-2000/special_tokens_map.json\n",
      "Deleting older checkpoint [/mnt/data0/jiayi/checkpoints/SPOT-R1-with_margin-data_full/checkpoint-500] due to args.save_total_limit\n",
      "***** Running Evaluation *****\n",
      "  Num examples = 5347\n",
      "  Batch size = 200\n",
      "Saving model checkpoint to /mnt/data0/jiayi/checkpoints/SPOT-R1-with_margin-data_full/checkpoint-2500\n",
      "Configuration saved in /mnt/data0/jiayi/checkpoints/SPOT-R1-with_margin-data_full/checkpoint-2500/config.json\n",
      "/home/jiayi/Projects/SPOT/.venv/lib/python3.10/site-packages/torch/nn/modules/module.py:1402: UserWarning: positional arguments and argument \"destination\" are deprecated. nn.Module.state_dict will not accept them in the future. Refer to https://pytorch.org/docs/master/generated/torch.nn.Module.html#torch.nn.Module.state_dict for details.\n",
      "  warnings.warn(\n",
      "Model weights saved in /mnt/data0/jiayi/checkpoints/SPOT-R1-with_margin-data_full/checkpoint-2500/pytorch_model.bin\n",
      "tokenizer config file saved in /mnt/data0/jiayi/checkpoints/SPOT-R1-with_margin-data_full/checkpoint-2500/tokenizer_config.json\n",
      "Special tokens file saved in /mnt/data0/jiayi/checkpoints/SPOT-R1-with_margin-data_full/checkpoint-2500/special_tokens_map.json\n",
      "Deleting older checkpoint [/mnt/data0/jiayi/checkpoints/SPOT-R1-with_margin-data_full/checkpoint-1000] due to args.save_total_limit\n",
      "***** Running Evaluation *****\n",
      "  Num examples = 5347\n",
      "  Batch size = 200\n",
      "Saving model checkpoint to /mnt/data0/jiayi/checkpoints/SPOT-R1-with_margin-data_full/checkpoint-3000\n",
      "Configuration saved in /mnt/data0/jiayi/checkpoints/SPOT-R1-with_margin-data_full/checkpoint-3000/config.json\n",
      "/home/jiayi/Projects/SPOT/.venv/lib/python3.10/site-packages/torch/nn/modules/module.py:1402: UserWarning: positional arguments and argument \"destination\" are deprecated. nn.Module.state_dict will not accept them in the future. Refer to https://pytorch.org/docs/master/generated/torch.nn.Module.html#torch.nn.Module.state_dict for details.\n",
      "  warnings.warn(\n",
      "Model weights saved in /mnt/data0/jiayi/checkpoints/SPOT-R1-with_margin-data_full/checkpoint-3000/pytorch_model.bin\n",
      "tokenizer config file saved in /mnt/data0/jiayi/checkpoints/SPOT-R1-with_margin-data_full/checkpoint-3000/tokenizer_config.json\n",
      "Special tokens file saved in /mnt/data0/jiayi/checkpoints/SPOT-R1-with_margin-data_full/checkpoint-3000/special_tokens_map.json\n",
      "Deleting older checkpoint [/mnt/data0/jiayi/checkpoints/SPOT-R1-with_margin-data_full/checkpoint-1500] due to args.save_total_limit\n",
      "***** Running Evaluation *****\n",
      "  Num examples = 5347\n",
      "  Batch size = 200\n",
      "Saving model checkpoint to /mnt/data0/jiayi/checkpoints/SPOT-R1-with_margin-data_full/checkpoint-3500\n",
      "Configuration saved in /mnt/data0/jiayi/checkpoints/SPOT-R1-with_margin-data_full/checkpoint-3500/config.json\n",
      "/home/jiayi/Projects/SPOT/.venv/lib/python3.10/site-packages/torch/nn/modules/module.py:1402: UserWarning: positional arguments and argument \"destination\" are deprecated. nn.Module.state_dict will not accept them in the future. Refer to https://pytorch.org/docs/master/generated/torch.nn.Module.html#torch.nn.Module.state_dict for details.\n",
      "  warnings.warn(\n",
      "Model weights saved in /mnt/data0/jiayi/checkpoints/SPOT-R1-with_margin-data_full/checkpoint-3500/pytorch_model.bin\n",
      "tokenizer config file saved in /mnt/data0/jiayi/checkpoints/SPOT-R1-with_margin-data_full/checkpoint-3500/tokenizer_config.json\n",
      "Special tokens file saved in /mnt/data0/jiayi/checkpoints/SPOT-R1-with_margin-data_full/checkpoint-3500/special_tokens_map.json\n",
      "Deleting older checkpoint [/mnt/data0/jiayi/checkpoints/SPOT-R1-with_margin-data_full/checkpoint-2000] due to args.save_total_limit\n",
      "***** Running Evaluation *****\n",
      "  Num examples = 5347\n",
      "  Batch size = 200\n",
      "Saving model checkpoint to /mnt/data0/jiayi/checkpoints/SPOT-R1-with_margin-data_full/checkpoint-4000\n",
      "Configuration saved in /mnt/data0/jiayi/checkpoints/SPOT-R1-with_margin-data_full/checkpoint-4000/config.json\n",
      "/home/jiayi/Projects/SPOT/.venv/lib/python3.10/site-packages/torch/nn/modules/module.py:1402: UserWarning: positional arguments and argument \"destination\" are deprecated. nn.Module.state_dict will not accept them in the future. Refer to https://pytorch.org/docs/master/generated/torch.nn.Module.html#torch.nn.Module.state_dict for details.\n",
      "  warnings.warn(\n",
      "Model weights saved in /mnt/data0/jiayi/checkpoints/SPOT-R1-with_margin-data_full/checkpoint-4000/pytorch_model.bin\n",
      "tokenizer config file saved in /mnt/data0/jiayi/checkpoints/SPOT-R1-with_margin-data_full/checkpoint-4000/tokenizer_config.json\n",
      "Special tokens file saved in /mnt/data0/jiayi/checkpoints/SPOT-R1-with_margin-data_full/checkpoint-4000/special_tokens_map.json\n",
      "Deleting older checkpoint [/mnt/data0/jiayi/checkpoints/SPOT-R1-with_margin-data_full/checkpoint-2500] due to args.save_total_limit\n",
      "***** Running Evaluation *****\n",
      "  Num examples = 5347\n",
      "  Batch size = 200\n",
      "Saving model checkpoint to /mnt/data0/jiayi/checkpoints/SPOT-R1-with_margin-data_full/checkpoint-4500\n",
      "Configuration saved in /mnt/data0/jiayi/checkpoints/SPOT-R1-with_margin-data_full/checkpoint-4500/config.json\n",
      "/home/jiayi/Projects/SPOT/.venv/lib/python3.10/site-packages/torch/nn/modules/module.py:1402: UserWarning: positional arguments and argument \"destination\" are deprecated. nn.Module.state_dict will not accept them in the future. Refer to https://pytorch.org/docs/master/generated/torch.nn.Module.html#torch.nn.Module.state_dict for details.\n",
      "  warnings.warn(\n",
      "Model weights saved in /mnt/data0/jiayi/checkpoints/SPOT-R1-with_margin-data_full/checkpoint-4500/pytorch_model.bin\n",
      "tokenizer config file saved in /mnt/data0/jiayi/checkpoints/SPOT-R1-with_margin-data_full/checkpoint-4500/tokenizer_config.json\n",
      "Special tokens file saved in /mnt/data0/jiayi/checkpoints/SPOT-R1-with_margin-data_full/checkpoint-4500/special_tokens_map.json\n",
      "Deleting older checkpoint [/mnt/data0/jiayi/checkpoints/SPOT-R1-with_margin-data_full/checkpoint-3000] due to args.save_total_limit\n",
      "***** Running Evaluation *****\n",
      "  Num examples = 5347\n",
      "  Batch size = 200\n",
      "Saving model checkpoint to /mnt/data0/jiayi/checkpoints/SPOT-R1-with_margin-data_full/checkpoint-5000\n",
      "Configuration saved in /mnt/data0/jiayi/checkpoints/SPOT-R1-with_margin-data_full/checkpoint-5000/config.json\n",
      "/home/jiayi/Projects/SPOT/.venv/lib/python3.10/site-packages/torch/nn/modules/module.py:1402: UserWarning: positional arguments and argument \"destination\" are deprecated. nn.Module.state_dict will not accept them in the future. Refer to https://pytorch.org/docs/master/generated/torch.nn.Module.html#torch.nn.Module.state_dict for details.\n",
      "  warnings.warn(\n",
      "Model weights saved in /mnt/data0/jiayi/checkpoints/SPOT-R1-with_margin-data_full/checkpoint-5000/pytorch_model.bin\n",
      "tokenizer config file saved in /mnt/data0/jiayi/checkpoints/SPOT-R1-with_margin-data_full/checkpoint-5000/tokenizer_config.json\n",
      "Special tokens file saved in /mnt/data0/jiayi/checkpoints/SPOT-R1-with_margin-data_full/checkpoint-5000/special_tokens_map.json\n",
      "Deleting older checkpoint [/mnt/data0/jiayi/checkpoints/SPOT-R1-with_margin-data_full/checkpoint-3500] due to args.save_total_limit\n",
      "***** Running Evaluation *****\n",
      "  Num examples = 5347\n",
      "  Batch size = 200\n",
      "Saving model checkpoint to /mnt/data0/jiayi/checkpoints/SPOT-R1-with_margin-data_full/checkpoint-5500\n",
      "Configuration saved in /mnt/data0/jiayi/checkpoints/SPOT-R1-with_margin-data_full/checkpoint-5500/config.json\n",
      "/home/jiayi/Projects/SPOT/.venv/lib/python3.10/site-packages/torch/nn/modules/module.py:1402: UserWarning: positional arguments and argument \"destination\" are deprecated. nn.Module.state_dict will not accept them in the future. Refer to https://pytorch.org/docs/master/generated/torch.nn.Module.html#torch.nn.Module.state_dict for details.\n",
      "  warnings.warn(\n",
      "Model weights saved in /mnt/data0/jiayi/checkpoints/SPOT-R1-with_margin-data_full/checkpoint-5500/pytorch_model.bin\n",
      "tokenizer config file saved in /mnt/data0/jiayi/checkpoints/SPOT-R1-with_margin-data_full/checkpoint-5500/tokenizer_config.json\n",
      "Special tokens file saved in /mnt/data0/jiayi/checkpoints/SPOT-R1-with_margin-data_full/checkpoint-5500/special_tokens_map.json\n",
      "Deleting older checkpoint [/mnt/data0/jiayi/checkpoints/SPOT-R1-with_margin-data_full/checkpoint-4500] due to args.save_total_limit\n",
      "\n",
      "\n",
      "Training completed. Do not forget to share your model on huggingface.co/models =)\n",
      "\n",
      "\n",
      "Loading best model from /mnt/data0/jiayi/checkpoints/SPOT-R1-with_margin-data_full/checkpoint-4000 (score: 0.43407025933265686).\n"
     ]
    },
    {
     "name": "stdout",
     "output_type": "stream",
     "text": [
      "Alert: (Training SPOT-R1-with_margin-data_full finished) Time taken: 5170.9s\n"
     ]
    },
    {
     "name": "stderr",
     "output_type": "stream",
     "text": [
      "***** Running Evaluation *****\n",
      "  Num examples = 5347\n",
      "  Batch size = 200\n"
     ]
    },
    {
     "data": {
      "text/html": [
       "\n",
       "    <div>\n",
       "      \n",
       "      <progress value='27' max='27' style='width:300px; height:20px; vertical-align: middle;'></progress>\n",
       "      [27/27 00:44]\n",
       "    </div>\n",
       "    "
      ],
      "text/plain": [
       "<IPython.core.display.HTML object>"
      ]
     },
     "metadata": {},
     "output_type": "display_data"
    },
    {
     "name": "stdout",
     "output_type": "stream",
     "text": [
      "final performance: {'eval_loss': 0.43407025933265686, 'eval_runtime': 45.9524, 'eval_samples_per_second': 116.36, 'eval_steps_per_second': 0.588, 'epoch': 2.44}\n"
     ]
    },
    {
     "data": {
      "text/html": [
       "Waiting for W&B process to finish... <strong style=\"color:green\">(success).</strong>"
      ],
      "text/plain": [
       "<IPython.core.display.HTML object>"
      ]
     },
     "metadata": {},
     "output_type": "display_data"
    },
    {
     "data": {
      "application/vnd.jupyter.widget-view+json": {
       "model_id": "9585ece620f7436fa9f9038212211248",
       "version_major": 2,
       "version_minor": 0
      },
      "text/plain": [
       "VBox(children=(Label(value='0.001 MB of 0.001 MB uploaded (0.000 MB deduped)\\r'), FloatProgress(value=1.0, max…"
      ]
     },
     "metadata": {},
     "output_type": "display_data"
    },
    {
     "data": {
      "text/html": [
       "<style>\n",
       "    table.wandb td:nth-child(1) { padding: 0 10px; text-align: left ; width: auto;} td:nth-child(2) {text-align: left ; width: 100%}\n",
       "    .wandb-row { display: flex; flex-direction: row; flex-wrap: wrap; justify-content: flex-start; width: 100% }\n",
       "    .wandb-col { display: flex; flex-direction: column; flex-basis: 100%; flex: 1; padding: 10px; }\n",
       "    </style>\n",
       "<div class=\"wandb-row\"><div class=\"wandb-col\"><h3>Run history:</h3><br/><table class=\"wandb\"><tr><td>eval/loss</td><td>█▁▁▁▁▁▁▁▁▁▁▁▁</td></tr><tr><td>eval/runtime</td><td>▁█▇▇█▇▇█▇▇▇██</td></tr><tr><td>eval/samples_per_second</td><td>█▁▂▂▁▂▂▁▂▂▂▁▁</td></tr><tr><td>eval/steps_per_second</td><td>█▁▁▁▁▁▁▁▁▁▁▁▁</td></tr><tr><td>train/epoch</td><td>▁▁▂▂▂▂▃▃▄▄▅▅▅▅▆▆▇▇▇▇████</td></tr><tr><td>train/global_step</td><td>▁▂▂▂▂▃▃▄▄▄▄▅▅▅▅▆▆▇▇▇▇████</td></tr><tr><td>train/learning_rate</td><td>█▇▇▆▅▅▄▃▂▂▁</td></tr><tr><td>train/loss</td><td>█▅▅▄▃▃▂▂▂▁▁</td></tr><tr><td>train/total_flos</td><td>▁</td></tr><tr><td>train/train_loss</td><td>▁</td></tr><tr><td>train/train_runtime</td><td>▁</td></tr><tr><td>train/train_samples_per_second</td><td>▁</td></tr><tr><td>train/train_steps_per_second</td><td>▁</td></tr></table><br/></div><div class=\"wandb-col\"><h3>Run summary:</h3><br/><table class=\"wandb\"><tr><td>eval/loss</td><td>0.43407</td></tr><tr><td>eval/runtime</td><td>45.9524</td></tr><tr><td>eval/samples_per_second</td><td>116.36</td></tr><tr><td>eval/steps_per_second</td><td>0.588</td></tr><tr><td>train/epoch</td><td>2.44</td></tr><tr><td>train/global_step</td><td>5500</td></tr><tr><td>train/learning_rate</td><td>0.0</td></tr><tr><td>train/loss</td><td>0.279</td></tr><tr><td>train/total_flos</td><td>1.2053347111010304e+17</td></tr><tr><td>train/train_loss</td><td>0.35653</td></tr><tr><td>train/train_runtime</td><td>5125.1693</td></tr><tr><td>train/train_samples_per_second</td><td>47.415</td></tr><tr><td>train/train_steps_per_second</td><td>1.318</td></tr></table><br/></div></div>"
      ],
      "text/plain": [
       "<IPython.core.display.HTML object>"
      ]
     },
     "metadata": {},
     "output_type": "display_data"
    },
    {
     "data": {
      "text/html": [
       "Synced <strong style=\"color:#cdcd00\">silvery-deluge-6</strong>: <a href=\"https://wandb.ai/mrvplusone/SPOT-R1-with_margin-data_full/runs/3d5sneci\" target=\"_blank\">https://wandb.ai/mrvplusone/SPOT-R1-with_margin-data_full/runs/3d5sneci</a><br/>Synced 5 W&B file(s), 0 media file(s), 0 artifact file(s) and 0 other file(s)"
      ],
      "text/plain": [
       "<IPython.core.display.HTML object>"
      ]
     },
     "metadata": {},
     "output_type": "display_data"
    },
    {
     "data": {
      "text/html": [
       "Find logs at: <code>/mnt/data0/jiayi/wandb/run-20220516_103345-3d5sneci/logs</code>"
      ],
      "text/plain": [
       "<IPython.core.display.HTML object>"
      ]
     },
     "metadata": {},
     "output_type": "display_data"
    }
   ],
   "source": [
    "r1_train_args = ModelTrainingArgs(\n",
    "    train_batch_size=38,\n",
    "    eval_batch_size=256,\n",
    "    max_epochs=3,\n",
    ")\n",
    "r1_trainer = r1_wrapper.build_trainer(\n",
    "    datadir / \"checkpoints\" / r1_model_name,\n",
    "    r1_train_args,\n",
    "    dataset=r1_datasets[\"train\"].data,\n",
    "    eval_dataset=r1_datasets[\"valid\"].data,\n",
    ")\n",
    "\n",
    "if train_r1:\n",
    "    wandb.init(\n",
    "        project=r1_model_name,\n",
    "        dir=str(datadir),\n",
    "        config={\"r1_decoding_args\": r1_args, \"r1_train_args\": r1_train_args},\n",
    "    )\n",
    "\n",
    "    with run_long_task(f\"Training {r1_model_name}\"):\n",
    "        init_perf = r1_trainer.evaluate(max_length=r1_args.generation_max_length)\n",
    "        print(\"initial performance:\", init_perf)\n",
    "        r1_trainer.train()\n",
    "\n",
    "    wandb.log({\"time_stats\": r1_monitor.timer.total_times()})\n",
    "\n",
    "    final_perf = r1_trainer.evaluate(max_length=r1_args.generation_max_length)\n",
    "    print(\"final performance:\", final_perf)\n",
    "    wandb.finish()\n"
   ]
  },
  {
   "cell_type": "code",
   "execution_count": null,
   "metadata": {},
   "outputs": [
    {
     "data": {
      "application/vnd.jupyter.widget-view+json": {
       "model_id": "c367150a393b4dcbbcd9e00c0f541945",
       "version_major": 2,
       "version_minor": 0
      },
      "text/plain": [
       "predict:   0%|          | 0/16 [00:00<?, ?it/s]"
      ]
     },
     "metadata": {},
     "output_type": "display_data"
    },
    {
     "name": "stdout",
     "output_type": "stream",
     "text": [
      "partial_acc: 2.50%\n",
      "partial_acc_wo_any: 2.50%\n",
      "partial_accs:\n",
      "   FuncArg: 4.17%\n",
      "full_acc: 2.50%\n",
      "full_accs:\n",
      "   FuncArg: 4.17%\n",
      "n_labels: 40\n"
     ]
    }
   ],
   "source": [
    "from spot.data import preds_to_accuracies, pretty_print_accuracies\n",
    "\n",
    "r1_preds = r1_wrapper.predict(r1_datasets[\"test\"], tqdm_args={})\n",
    "r1_accs = preds_to_accuracies(r1_preds, r1_datasets[\"test\"])\n",
    "pretty_print_accuracies(r1_accs)\n"
   ]
  },
  {
   "cell_type": "code",
   "execution_count": 17,
   "metadata": {},
   "outputs": [
    {
     "name": "stdout",
     "output_type": "stream",
     "text": [
      "[R1] Starting task: 'get_type_checked_inputs'\n"
     ]
    },
    {
     "data": {
      "application/vnd.jupyter.widget-view+json": {
       "model_id": "6d208b6b94da499bb78b12eedecedb5d",
       "version_major": 2,
       "version_minor": 0
      },
      "text/plain": [
       "reading orginal srcs:   0%|          | 0/950 [00:00<?, ?it/s]"
      ]
     },
     "metadata": {},
     "output_type": "display_data"
    },
    {
     "name": "stdout",
     "output_type": "stream",
     "text": [
      "[R1] Starting task: 'get_type_checked_inputs > Call mypy'\n"
     ]
    },
    {
     "data": {
      "application/vnd.jupyter.widget-view+json": {
       "model_id": "26074d1622f64c37adc3d01391de3238",
       "version_major": 2,
       "version_minor": 0
      },
      "text/plain": [
       "calling mypy:   0%|          | 0/50 [00:00<?, ?it/s]"
      ]
     },
     "metadata": {},
     "output_type": "display_data"
    },
    {
     "name": "stderr",
     "output_type": "stream",
     "text": [
      "WARNING:root:Mypy errored when checking '/mnt/data0/jiayi/SPOT-data/repos/downloaded/rakitaj__daily-programmer'.\n"
     ]
    },
    {
     "name": "stdout",
     "output_type": "stream",
     "text": [
      "[R1] 'get_type_checked_inputs > Call mypy' finished in 3.115276336669922 seconds\n"
     ]
    },
    {
     "data": {
      "application/vnd.jupyter.widget-view+json": {
       "model_id": "cc0d02c8a4c74fb3bed9611b7e1a6564",
       "version_major": 2,
       "version_minor": 0
      },
      "text/plain": [
       "generating augmented inputs:   0%|          | 0/950 [00:00<?, ?it/s]"
      ]
     },
     "metadata": {},
     "output_type": "display_data"
    },
    {
     "name": "stdout",
     "output_type": "stream",
     "text": [
      "[R1] 'get_type_checked_inputs' finished in 34.11896514892578 seconds\n",
      "[R1] Starting task: 'chunk_masked_code'\n"
     ]
    },
    {
     "data": {
      "application/vnd.jupyter.widget-view+json": {
       "model_id": "cb33c92b0b3d4adf9a3762c91da1c293",
       "version_major": 2,
       "version_minor": 0
      },
      "text/plain": [
       "tokenizing sources:   0%|          | 0/950 [00:00<?, ?it/s]"
      ]
     },
     "metadata": {},
     "output_type": "display_data"
    },
    {
     "data": {
      "application/vnd.jupyter.widget-view+json": {
       "model_id": "7dcd7c1da1cc434da544edf103a1fc0f",
       "version_major": 2,
       "version_minor": 0
      },
      "text/plain": [
       "processing chunks:   0%|          | 0/2164 [00:00<?, ?it/s]"
      ]
     },
     "metadata": {},
     "output_type": "display_data"
    },
    {
     "name": "stdout",
     "output_type": "stream",
     "text": [
      "[R1] 'chunk_masked_code' finished in 18.242862224578857 seconds\n"
     ]
    },
    {
     "data": {
      "application/vnd.jupyter.widget-view+json": {
       "model_id": "e2b8f439f33249558dca7252ab378028",
       "version_major": 2,
       "version_minor": 0
      },
      "text/plain": [
       "predict:   0%|          | 0/1920 [00:00<?, ?it/s]"
      ]
     },
     "metadata": {},
     "output_type": "display_data"
    },
    {
     "name": "stdout",
     "output_type": "stream",
     "text": [
      "partial_acc: 75.35%\n",
      "partial_acc_wo_any: 76.03%\n",
      "partial_accs:\n",
      "   FuncArg: 73.97%\n",
      "   FuncReturn: 82.43%\n",
      "   ClassAtribute: 62.58%\n",
      "   GlobalVar: 78.50%\n",
      "   LocalVar: 81.77%\n",
      "full_acc: 67.61%\n",
      "full_accs:\n",
      "   FuncArg: 67.72%\n",
      "   FuncReturn: 75.93%\n",
      "   ClassAtribute: 52.71%\n",
      "   GlobalVar: 45.79%\n",
      "   LocalVar: 53.25%\n",
      "n_labels: 17747\n"
     ]
    }
   ],
   "source": [
    "from spot.data import preds_to_accuracies, pretty_print_accuracies\n",
    "\n",
    "r1_wrapper_large = r1_wrapper.scale_ctx_size(3)\n",
    "r1_test_data_large = r1_wrapper_large.generate_r1_inputs(\n",
    "    [r.repo_dir(repos_dir) for r in repos_split[\"test\"]],\n",
    "    r0_datasets[\"test\"],\n",
    "    r0_preds,\n",
    "    tqdm_args={\"leave\": False},\n",
    "    use_file_level_feedback=use_file_level_feedback,\n",
    ")\n",
    "\n",
    "r1_preds_large = r1_wrapper_large.predict(r1_test_data_large, tqdm_args={})\n",
    "r1_accs_large = preds_to_accuracies(r1_preds_large, r1_test_data_large)\n",
    "pretty_print_accuracies(r1_accs_large)\n"
   ]
  },
  {
   "cell_type": "code",
   "execution_count": 13,
   "metadata": {},
   "outputs": [
    {
     "data": {
      "application/vnd.jupyter.widget-view+json": {
       "model_id": "75a594662d5e431d9e9a45fc2171bef0",
       "version_major": 2,
       "version_minor": 0
      },
      "text/plain": [
       "Tab(children=(HTML(value=\"<pre style='line-height: 1.2; padding: 10px; color: rgb(212,212,212); background-col…"
      ]
     },
     "metadata": {},
     "output_type": "display_data"
    }
   ],
   "source": [
    "from spot.visualization import display_code_sequence, visualize_batch\n",
    "\n",
    "display_code_sequence(\n",
    "    [\n",
    "        visualize_batch(\n",
    "            r0_datasets['test'],\n",
    "            i,\n",
    "            r0_predictions['test'],\n",
    "            tokenizer,\n",
    "            r0_wrapper.args.ctx_args,\n",
    "        )\n",
    "        for i in range(16)\n",
    "    ]\n",
    ")\n"
   ]
  },
  {
   "cell_type": "code",
   "execution_count": 17,
   "metadata": {},
   "outputs": [
    {
     "data": {
      "application/vnd.jupyter.widget-view+json": {
       "model_id": "2bde0b671df04f6baa8a5e93c97e5fcc",
       "version_major": 2,
       "version_minor": 0
      },
      "text/plain": [
       "Tab(children=(HTML(value=\"<pre style='line-height: 1.2; padding: 10px; color: rgb(212,212,212); background-col…"
      ]
     },
     "metadata": {},
     "output_type": "display_data"
    }
   ],
   "source": [
    "from spot.visualization import display_code_sequence, visualize_batch\n",
    "\n",
    "display_code_sequence(\n",
    "    [\n",
    "        visualize_batch(\n",
    "            r1_datasets['test'],\n",
    "            i,\n",
    "            r1_preds,\n",
    "            tokenizer,\n",
    "            r1_wrapper.args.ctx_args,\n",
    "        )\n",
    "        for i in range(16)\n",
    "    ]\n",
    ")\n"
   ]
  }
 ],
 "metadata": {
  "interpreter": {
   "hash": "f6ffc72953da4dd16b2e00785be9c4013ef131f465a8658f3921b6634d4eeec8"
  },
  "kernelspec": {
   "display_name": "Python 3.10.4 ('.venv': pipenv)",
   "language": "python",
   "name": "python3"
  },
  "language_info": {
   "codemirror_mode": {
    "name": "ipython",
    "version": 3
   },
   "file_extension": ".py",
   "mimetype": "text/x-python",
   "name": "python",
   "nbconvert_exporter": "python",
   "pygments_lexer": "ipython3",
   "version": "3.10.4"
  },
  "orig_nbformat": 4
 },
 "nbformat": 4,
 "nbformat_minor": 2
}
