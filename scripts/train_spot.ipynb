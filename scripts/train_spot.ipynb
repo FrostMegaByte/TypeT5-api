{
 "cells": [
  {
   "cell_type": "code",
   "execution_count": 1,
   "metadata": {},
   "outputs": [],
   "source": [
    "%load_ext autoreload\n",
    "%autoreload 2\n",
    "\n",
    "import os\n",
    "import pickle\n",
    "from concurrent.futures import ProcessPoolExecutor\n",
    "from pathlib import Path\n",
    "from typing import *\n",
    "\n",
    "import pandas as pd\n",
    "import plotly.express as px\n",
    "\n",
    "from spot.data import GitRepo\n",
    "from spot.type_env import (\n",
    "    AnnotPath,\n",
    "    MypyChecker,\n",
    "    SelectAnnotations,\n",
    "    TypeInfAction,\n",
    "    TypeInfEnv,\n",
    "    TypeInfState,\n",
    "    collect_annotations,\n",
    "    mypy_checker,\n",
    ")\n",
    "from spot.utils import cst, proj_root, read_file, seq_flatten, tqdm, write_file\n",
    "\n",
    "os.chdir(proj_root())\n",
    "\n",
    "datadir = Path(os.getenv(\"datadir\"))\n",
    "repos_dir = datadir / \"SPOT-data/repos\"\n",
    "\n",
    "useful_repos_path = proj_root() / \"scripts\" / \"useful_repos.pkl\"\n",
    "with useful_repos_path.open(\"rb\") as f:\n",
    "    useful_repos: list[GitRepo] = pickle.load(f)\n",
    "\n",
    "repos_split_path = datadir / \"SPOT-data/repos-processed-with_margin/repos_split.pkl\"\n",
    "with repos_split_path.open(\"rb\") as f:\n",
    "    repos_split: dict[str, list[GitRepo]] = pickle.load(f)"
   ]
  },
  {
   "cell_type": "code",
   "execution_count": 3,
   "metadata": {},
   "outputs": [
    {
     "name": "stderr",
     "output_type": "stream",
     "text": [
      "/home/jiayi/Projects/SPOT/.venv/lib/python3.10/site-packages/torch/nn/modules/module.py:1402: UserWarning: positional arguments and argument \"destination\" are deprecated. nn.Module.state_dict will not accept them in the future. Refer to https://pytorch.org/docs/master/generated/torch.nn.Module.html#torch.nn.Module.state_dict for details.\n",
      "  warnings.warn(\n"
     ]
    }
   ],
   "source": [
    "from datasets import Dataset\n",
    "from spot.model import ModelWrapper, DecodingArgs, CtxArgs\n",
    "from spot.utils import TaskLoggingMonitor\n",
    "import torch\n",
    "from spot.model import ModelSPOT, TokenizerSPOT\n",
    "import numpy as np\n",
    "from spot.data import load_datasets\n",
    "\n",
    "train_r0 = False  # whether to train or load trained R0 model\n",
    "with_margin = True\n",
    "data_reduction = 1\n",
    "\n",
    "\n",
    "margin_tag = \"with_margin\" if with_margin else \"no_margin\"\n",
    "\n",
    "r0_datasets, repos_split = load_datasets(\n",
    "    datadir / f\"SPOT-data/repos-processed-{margin_tag}\"\n",
    ")\n",
    "\n",
    "data_tag = \"data_full\" if data_reduction == 1 else f\"data_1-{data_reduction}\"\n",
    "n_train = len(r0_datasets[\"train\"].data) // data_reduction\n",
    "\n",
    "r0_model_name = f\"SPOT-{margin_tag}-{data_tag}\"\n",
    "\n",
    "if train_r0:\n",
    "    r0_model_path = \"Salesforce/codet5-base\"\n",
    "else: \n",
    "    r0_model_path = datadir / f\"checkpoints/saved/{r0_model_name}\"\n",
    "    \n",
    "device = torch.device(\"cuda:0\" if torch.cuda.is_available() else \"cpu\")\n",
    "tokenizer: TokenizerSPOT = TokenizerSPOT.from_pretrained(r0_model_path)\n",
    "\n",
    "r0_model: ModelSPOT = ModelSPOT.from_pretrained(r0_model_path).to(device)\n",
    "r0_monitor = TaskLoggingMonitor(\"R0\")\n",
    "r0_args = DecodingArgs(\n",
    "    sampling_batch_size=512,\n",
    "    ctx_args=CtxArgs(\n",
    "        ctx_size=512,\n",
    "        ctx_margin=128,\n",
    "        types_in_ctx=True,\n",
    "    ),\n",
    "    max_workers=20,\n",
    ")\n",
    "r0_wrapper = ModelWrapper(r0_model, tokenizer, r0_args, r0_monitor)"
   ]
  },
  {
   "cell_type": "code",
   "execution_count": 4,
   "metadata": {},
   "outputs": [
    {
     "name": "stderr",
     "output_type": "stream",
     "text": [
      "Using amp half precision backend\n"
     ]
    }
   ],
   "source": [
    "import wandb\n",
    "from spot.model import ModelTrainingArgs\n",
    "\n",
    "r0_train_args = ModelTrainingArgs(\n",
    "    train_batch_size=42,\n",
    "    eval_batch_size=256,\n",
    "    max_epochs=3,\n",
    ")\n",
    "r0_trainer = r0_wrapper.build_trainer(\n",
    "    datadir / \"checkpoints\" / r0_model_name,\n",
    "    r0_train_args,\n",
    "    dataset=r0_datasets[\"train\"].data,\n",
    "    eval_dataset=r0_datasets[\"valid\"].data,\n",
    ")\n",
    "\n",
    "if train_r0:\n",
    "    wandb.init(\n",
    "        project=r0_model_name,\n",
    "        dir=str(datadir),\n",
    "        config={\"r0_decoding_args\": r0_args, \"r0_train_args\": r0_train_args},\n",
    "    )\n",
    "\n",
    "    try:\n",
    "        init_perf = r0_trainer.evaluate(max_length=r0_args.generation_max_length)\n",
    "        print(\"initial eval loss:\", init_perf)\n",
    "        r0_trainer.train()\n",
    "    except Exception as e:\n",
    "        wandb.alert(\n",
    "            title=\"Training stopped due to exception\",\n",
    "            text=f\"In {r0_model_name}, exception: {e}\",\n",
    "        )\n",
    "        raise e\n",
    "    wandb.alert(title=\"Training finished\", text=f\"{r0_model_name} has finished.\")\n",
    "    wandb.log({\"time_stats\": r0_monitor.timer.total_times()})\n",
    "\n",
    "    final_perf = r0_trainer.evaluate(max_length=r0_args.generation_max_length)\n",
    "    print(\"final eval loss:\", final_perf)\n",
    "    wandb.finish()\n"
   ]
  },
  {
   "cell_type": "code",
   "execution_count": 10,
   "metadata": {},
   "outputs": [
    {
     "name": "stdout",
     "output_type": "stream",
     "text": [
      "partial_acc: 75.54%\n",
      "partial_acc_wo_any: 76.01%\n",
      "partial_accs:\n",
      "   FuncArg: 72.52%\n",
      "   FuncReturn: 82.34%\n",
      "   ClassAtribute: 69.17%\n",
      "   GlobalVar: 79.44%\n",
      "   LocalVar: 78.06%\n",
      "full_acc: 68.15%\n",
      "full_accs:\n",
      "   FuncArg: 66.50%\n",
      "   FuncReturn: 76.40%\n",
      "   ClassAtribute: 58.97%\n",
      "   GlobalVar: 52.34%\n",
      "   LocalVar: 51.80%\n",
      "n_labels: 17756\n"
     ]
    }
   ],
   "source": [
    "pretty_print_accuracies(preds_to_accuracies(r0_preds, ti_datasets[\"test\"]))"
   ]
  },
  {
   "cell_type": "code",
   "execution_count": 9,
   "metadata": {},
   "outputs": [
    {
     "data": {
      "application/vnd.jupyter.widget-view+json": {
       "model_id": "2f19984232ff427fa564642cfc80f04d",
       "version_major": 2,
       "version_minor": 0
      },
      "text/plain": [
       "predict:   0%|          | 0/3974 [00:00<?, ?it/s]"
      ]
     },
     "metadata": {},
     "output_type": "display_data"
    },
    {
     "ename": "NameError",
     "evalue": "name 'r0_datasets' is not defined",
     "output_type": "error",
     "traceback": [
      "\u001b[0;31m---------------------------------------------------------------------------\u001b[0m",
      "\u001b[0;31mNameError\u001b[0m                                 Traceback (most recent call last)",
      "\u001b[1;32m/home/jiayi/Projects/SPOT/scripts/train_spot.ipynb Cell 4'\u001b[0m in \u001b[0;36m<cell line: 5>\u001b[0;34m()\u001b[0m\n\u001b[1;32m      <a href='vscode-notebook-cell://ssh-remote%2Butopia3/home/jiayi/Projects/SPOT/scripts/train_spot.ipynb#ch0000012vscode-remote?line=0'>1</a>\u001b[0m \u001b[39mfrom\u001b[39;00m \u001b[39mspot\u001b[39;00m\u001b[39m.\u001b[39;00m\u001b[39mdata\u001b[39;00m \u001b[39mimport\u001b[39;00m pretty_print_accuracies, preds_to_accuracies\n\u001b[1;32m      <a href='vscode-notebook-cell://ssh-remote%2Butopia3/home/jiayi/Projects/SPOT/scripts/train_spot.ipynb#ch0000012vscode-remote?line=2'>3</a>\u001b[0m r0_preds \u001b[39m=\u001b[39m r0_wrapper\u001b[39m.\u001b[39mpredict(ti_datasets[\u001b[39m\"\u001b[39m\u001b[39mtest\u001b[39m\u001b[39m\"\u001b[39m], tqdm_args\u001b[39m=\u001b[39m{})\n\u001b[0;32m----> <a href='vscode-notebook-cell://ssh-remote%2Butopia3/home/jiayi/Projects/SPOT/scripts/train_spot.ipynb#ch0000012vscode-remote?line=4'>5</a>\u001b[0m pretty_print_accuracies(preds_to_accuracies(r0_preds, r0_datasets[\u001b[39m\"\u001b[39m\u001b[39mtest\u001b[39m\u001b[39m\"\u001b[39m]))\n",
      "\u001b[0;31mNameError\u001b[0m: name 'r0_datasets' is not defined"
     ]
    }
   ],
   "source": [
    "from spot.data import pretty_print_accuracies, preds_to_accuracies\n",
    "\n",
    "r0_preds = r0_wrapper.predict(r0_datasets[\"test\"], tqdm_args={})\n",
    "\n",
    "pretty_print_accuracies(preds_to_accuracies(r0_preds, r0_datasets[\"test\"]))"
   ]
  },
  {
   "cell_type": "code",
   "execution_count": 5,
   "metadata": {},
   "outputs": [
    {
     "name": "stderr",
     "output_type": "stream",
     "text": [
      "loading configuration file /mnt/data0/jiayi/checkpoints/saved/SPOT-R1-with_margin-data_full/config.json\n",
      "Model config T5Config {\n",
      "  \"_name_or_path\": \"Salesforce/codet5-base\",\n",
      "  \"architectures\": [\n",
      "    \"T5ForConditionalGeneration\"\n",
      "  ],\n",
      "  \"bos_token_id\": 1,\n",
      "  \"d_ff\": 3072,\n",
      "  \"d_kv\": 64,\n",
      "  \"d_model\": 768,\n",
      "  \"decoder_start_token_id\": 0,\n",
      "  \"dropout_rate\": 0.1,\n",
      "  \"eos_token_id\": 2,\n",
      "  \"feed_forward_proj\": \"relu\",\n",
      "  \"gradient_checkpointing\": false,\n",
      "  \"id2label\": {\n",
      "    \"0\": \"LABEL_0\"\n",
      "  },\n",
      "  \"initializer_factor\": 1.0,\n",
      "  \"is_encoder_decoder\": true,\n",
      "  \"label2id\": {\n",
      "    \"LABEL_0\": 0\n",
      "  },\n",
      "  \"layer_norm_epsilon\": 1e-06,\n",
      "  \"model_type\": \"t5\",\n",
      "  \"n_positions\": 512,\n",
      "  \"num_decoder_layers\": 12,\n",
      "  \"num_heads\": 12,\n",
      "  \"num_layers\": 12,\n",
      "  \"output_past\": true,\n",
      "  \"pad_token_id\": 0,\n",
      "  \"relative_attention_max_distance\": 128,\n",
      "  \"relative_attention_num_buckets\": 32,\n",
      "  \"task_specific_params\": {\n",
      "    \"summarization\": {\n",
      "      \"early_stopping\": true,\n",
      "      \"length_penalty\": 2.0,\n",
      "      \"max_length\": 200,\n",
      "      \"min_length\": 30,\n",
      "      \"no_repeat_ngram_size\": 3,\n",
      "      \"num_beams\": 4,\n",
      "      \"prefix\": \"summarize: \"\n",
      "    },\n",
      "    \"translation_en_to_de\": {\n",
      "      \"early_stopping\": true,\n",
      "      \"max_length\": 300,\n",
      "      \"num_beams\": 4,\n",
      "      \"prefix\": \"translate English to German: \"\n",
      "    },\n",
      "    \"translation_en_to_fr\": {\n",
      "      \"early_stopping\": true,\n",
      "      \"max_length\": 300,\n",
      "      \"num_beams\": 4,\n",
      "      \"prefix\": \"translate English to French: \"\n",
      "    },\n",
      "    \"translation_en_to_ro\": {\n",
      "      \"early_stopping\": true,\n",
      "      \"max_length\": 300,\n",
      "      \"num_beams\": 4,\n",
      "      \"prefix\": \"translate English to Romanian: \"\n",
      "    }\n",
      "  },\n",
      "  \"torch_dtype\": \"float32\",\n",
      "  \"transformers_version\": \"4.18.0\",\n",
      "  \"use_cache\": true,\n",
      "  \"vocab_size\": 32100\n",
      "}\n",
      "\n",
      "loading weights file /mnt/data0/jiayi/checkpoints/saved/SPOT-R1-with_margin-data_full/pytorch_model.bin\n",
      "/home/jiayi/Projects/SPOT/.venv/lib/python3.10/site-packages/torch/nn/modules/module.py:1402: UserWarning: positional arguments and argument \"destination\" are deprecated. nn.Module.state_dict will not accept them in the future. Refer to https://pytorch.org/docs/master/generated/torch.nn.Module.html#torch.nn.Module.state_dict for details.\n",
      "  warnings.warn(\n",
      "All model checkpoint weights were used when initializing T5ForConditionalGeneration.\n",
      "\n",
      "All the weights of T5ForConditionalGeneration were initialized from the model checkpoint at /mnt/data0/jiayi/checkpoints/saved/SPOT-R1-with_margin-data_full.\n",
      "If your task is similar to the task the model of the checkpoint was trained on, you can already use T5ForConditionalGeneration for predictions without further training.\n"
     ]
    }
   ],
   "source": [
    "train_r1 = False\n",
    "\n",
    "r1_model_name = f\"SPOT-R1-{margin_tag}-{data_tag}\"\n",
    "\n",
    "if train_r1:\n",
    "    r1_model_path = \"Salesforce/codet5-base\"\n",
    "else:\n",
    "    r1_model_path = datadir / f\"checkpoints/saved/{r1_model_name}\"\n",
    "\n",
    "r1_model: ModelSPOT = ModelSPOT.from_pretrained(r1_model_path).to(device)\n",
    "r1_monitor = TaskLoggingMonitor(\"R1\")\n",
    "r1_args = DecodingArgs(\n",
    "    sampling_batch_size=512,\n",
    "    ctx_args=CtxArgs(\n",
    "        ctx_size=512,\n",
    "        ctx_margin=128,\n",
    "        types_in_ctx=False,\n",
    "    ),\n",
    "    max_workers=20,\n",
    ")\n",
    "r1_wrapper = ModelWrapper(r1_model, tokenizer, r1_args, r1_monitor)\n"
   ]
  },
  {
   "cell_type": "code",
   "execution_count": 25,
   "metadata": {},
   "outputs": [
    {
     "name": "stdout",
     "output_type": "stream",
     "text": [
      "Processing dataset: valid\n"
     ]
    },
    {
     "data": {
      "application/vnd.jupyter.widget-view+json": {
       "model_id": "7bedbb833a2c43dfbd3908963ca4952a",
       "version_major": 2,
       "version_minor": 0
      },
      "text/plain": [
       "predict:   0%|          | 0/16 [00:00<?, ?it/s]"
      ]
     },
     "metadata": {},
     "output_type": "display_data"
    },
    {
     "name": "stdout",
     "output_type": "stream",
     "text": [
      "[R1] Current task: get_type_checked_inputs\n",
      "[R1] Current task: get_type_checked_inputs > Collect type checker feedback\n"
     ]
    },
    {
     "data": {
      "application/vnd.jupyter.widget-view+json": {
       "model_id": "398b2246ec244dbeb3f787cbd6b011a2",
       "version_major": 2,
       "version_minor": 0
      },
      "text/plain": [
       "Collect type checker feedback:   0%|          | 0/40 [00:00<?, ?it/s]"
      ]
     },
     "metadata": {},
     "output_type": "display_data"
    },
    {
     "name": "stdout",
     "output_type": "stream",
     "text": [
      "[R1] Current task: get_type_checked_inputs > Augment inputs\n"
     ]
    },
    {
     "data": {
      "application/vnd.jupyter.widget-view+json": {
       "model_id": "acd3c03426c04938b7c41f0c89b89792",
       "version_major": 2,
       "version_minor": 0
      },
      "text/plain": [
       "generating augmented inputs:   0%|          | 0/8 [00:00<?, ?it/s]"
      ]
     },
     "metadata": {},
     "output_type": "display_data"
    },
    {
     "name": "stdout",
     "output_type": "stream",
     "text": [
      "[R1] Current task: chunk_masked_code\n"
     ]
    },
    {
     "data": {
      "application/vnd.jupyter.widget-view+json": {
       "model_id": "fc2eaf82fcb8469d8e2491bcd8d81b3c",
       "version_major": 2,
       "version_minor": 0
      },
      "text/plain": [
       "tokenizing sources:   0%|          | 0/8 [00:00<?, ?it/s]"
      ]
     },
     "metadata": {},
     "output_type": "display_data"
    },
    {
     "data": {
      "application/vnd.jupyter.widget-view+json": {
       "model_id": "c4f7b072f77847598989633fa3461e69",
       "version_major": 2,
       "version_minor": 0
      },
      "text/plain": [
       "processing chunks:   0%|          | 0/22 [00:00<?, ?it/s]"
      ]
     },
     "metadata": {},
     "output_type": "display_data"
    },
    {
     "name": "stdout",
     "output_type": "stream",
     "text": [
      "Processing dataset: test\n"
     ]
    },
    {
     "data": {
      "application/vnd.jupyter.widget-view+json": {
       "model_id": "04aea51d8d484614afec6979c69c4d9b",
       "version_major": 2,
       "version_minor": 0
      },
      "text/plain": [
       "predict:   0%|          | 0/16 [00:00<?, ?it/s]"
      ]
     },
     "metadata": {},
     "output_type": "display_data"
    },
    {
     "name": "stdout",
     "output_type": "stream",
     "text": [
      "[R1] Current task: get_type_checked_inputs\n",
      "[R1] Current task: get_type_checked_inputs > Collect type checker feedback\n"
     ]
    },
    {
     "data": {
      "application/vnd.jupyter.widget-view+json": {
       "model_id": "c695186ff5a74fae86c9de0fc58a29e9",
       "version_major": 2,
       "version_minor": 0
      },
      "text/plain": [
       "Collect type checker feedback:   0%|          | 0/50 [00:00<?, ?it/s]"
      ]
     },
     "metadata": {},
     "output_type": "display_data"
    },
    {
     "name": "stdout",
     "output_type": "stream",
     "text": [
      "[R1] Current task: get_type_checked_inputs > Augment inputs\n"
     ]
    },
    {
     "data": {
      "application/vnd.jupyter.widget-view+json": {
       "model_id": "2e830cdb5a204c71a8d36997c44caab2",
       "version_major": 2,
       "version_minor": 0
      },
      "text/plain": [
       "generating augmented inputs:   0%|          | 0/2 [00:00<?, ?it/s]"
      ]
     },
     "metadata": {},
     "output_type": "display_data"
    },
    {
     "name": "stdout",
     "output_type": "stream",
     "text": [
      "[R1] Current task: chunk_masked_code\n"
     ]
    },
    {
     "data": {
      "application/vnd.jupyter.widget-view+json": {
       "model_id": "c999e8cf1dbc45a3aceddf38266455c7",
       "version_major": 2,
       "version_minor": 0
      },
      "text/plain": [
       "tokenizing sources:   0%|          | 0/2 [00:00<?, ?it/s]"
      ]
     },
     "metadata": {},
     "output_type": "display_data"
    },
    {
     "data": {
      "application/vnd.jupyter.widget-view+json": {
       "model_id": "c6d187282e7b4cb6a2788de0248cb46a",
       "version_major": 2,
       "version_minor": 0
      },
      "text/plain": [
       "processing chunks:   0%|          | 0/29 [00:00<?, ?it/s]"
      ]
     },
     "metadata": {},
     "output_type": "display_data"
    },
    {
     "name": "stdout",
     "output_type": "stream",
     "text": [
      "Processing dataset: train\n"
     ]
    },
    {
     "data": {
      "application/vnd.jupyter.widget-view+json": {
       "model_id": "d60f1e9e52cd48228b77f9e9f1edd063",
       "version_major": 2,
       "version_minor": 0
      },
      "text/plain": [
       "predict:   0%|          | 0/16 [00:00<?, ?it/s]"
      ]
     },
     "metadata": {},
     "output_type": "display_data"
    },
    {
     "name": "stdout",
     "output_type": "stream",
     "text": [
      "[R1] Current task: get_type_checked_inputs\n",
      "[R1] Current task: get_type_checked_inputs > Collect type checker feedback\n"
     ]
    },
    {
     "data": {
      "application/vnd.jupyter.widget-view+json": {
       "model_id": "107fc0c418c849269b6b963765f14364",
       "version_major": 2,
       "version_minor": 0
      },
      "text/plain": [
       "Collect type checker feedback:   0%|          | 0/573 [00:00<?, ?it/s]"
      ]
     },
     "metadata": {},
     "output_type": "display_data"
    },
    {
     "name": "stdout",
     "output_type": "stream",
     "text": [
      "[R1] Current task: get_type_checked_inputs > Augment inputs\n"
     ]
    },
    {
     "data": {
      "application/vnd.jupyter.widget-view+json": {
       "model_id": "69876136a2db4399adab59e8bee13f44",
       "version_major": 2,
       "version_minor": 0
      },
      "text/plain": [
       "generating augmented inputs:   0%|          | 0/9 [00:00<?, ?it/s]"
      ]
     },
     "metadata": {},
     "output_type": "display_data"
    },
    {
     "name": "stdout",
     "output_type": "stream",
     "text": [
      "[R1] Current task: chunk_masked_code\n"
     ]
    },
    {
     "data": {
      "application/vnd.jupyter.widget-view+json": {
       "model_id": "fe74b851ad474b6b86d8b8af75663b86",
       "version_major": 2,
       "version_minor": 0
      },
      "text/plain": [
       "tokenizing sources:   0%|          | 0/9 [00:00<?, ?it/s]"
      ]
     },
     "metadata": {},
     "output_type": "display_data"
    },
    {
     "data": {
      "application/vnd.jupyter.widget-view+json": {
       "model_id": "e5d99c84fa4f4efbb8a34a8fead4355b",
       "version_major": 2,
       "version_minor": 0
      },
      "text/plain": [
       "processing chunks:   0%|          | 0/25 [00:00<?, ?it/s]"
      ]
     },
     "metadata": {},
     "output_type": "display_data"
    },
    {
     "name": "stdout",
     "output_type": "stream",
     "text": [
      "Deleting old datasets at: /mnt/data0/jiayi/SPOT-data/test-repos-processed-R1-with_margin\n",
      "308K\t/mnt/data0/jiayi/SPOT-data/test-repos-processed-R1-with_margin\n"
     ]
    }
   ],
   "source": [
    "from spot.data import TypeInfDataset, save_datasets\n",
    "\n",
    "test_r1_parsing = True\n",
    "\n",
    "r1_data_path = datadir / f\"SPOT-data/{'test-' if test_r1_parsing else ''}repos-processed-R1-{margin_tag}\"\n",
    "r1_datasets: Dict[str, TypeInfDataset]\n",
    "if r1_data_path.exists() and not test_r1_parsing:\n",
    "    print(f\"Loading R1 datasets from {r1_data_path}...\")\n",
    "    r1_datasets, _ = load_datasets(r1_data_path)\n",
    "else:\n",
    "    r1_datasets = {}\n",
    "    for name in [\"valid\", \"test\", \"train\"]:\n",
    "        print(\"Processing dataset:\", name)\n",
    "        repos = [r.repo_dir(repos_dir) for r in repos_split[name]]\n",
    "        r0_data = r0_datasets[name]\n",
    "        if test_r1_parsing:\n",
    "            r0_data = r0_data[:16]\n",
    "        r0_preds = r0_wrapper.predict(r0_data, tqdm_args={\"leave\": False})\n",
    "        r1_datasets[name] = r1_wrapper.generate_r1_inputs(\n",
    "            repos, r0_data, r0_preds, tqdm_args={\"leave\": False}\n",
    "        )\n",
    "    save_datasets(r1_datasets, repos_split, r1_data_path)"
   ]
  },
  {
   "cell_type": "code",
   "execution_count": 11,
   "metadata": {},
   "outputs": [
    {
     "name": "stderr",
     "output_type": "stream",
     "text": [
      "PyTorch: setting up devices\n",
      "Using amp half precision backend\n"
     ]
    },
    {
     "data": {
      "text/html": [
       "Tracking run with wandb version 0.12.16"
      ],
      "text/plain": [
       "<IPython.core.display.HTML object>"
      ]
     },
     "metadata": {},
     "output_type": "display_data"
    },
    {
     "data": {
      "text/html": [
       "Run data is saved locally in <code>/mnt/data0/jiayi/wandb/run-20220515_015513-243p73eo</code>"
      ],
      "text/plain": [
       "<IPython.core.display.HTML object>"
      ]
     },
     "metadata": {},
     "output_type": "display_data"
    },
    {
     "data": {
      "text/html": [
       "Syncing run <strong><a href=\"https://wandb.ai/mrvplusone/SPOT-R1-with_margin-data_full/runs/243p73eo\" target=\"_blank\">cerulean-monkey-1</a></strong> to <a href=\"https://wandb.ai/mrvplusone/SPOT-R1-with_margin-data_full\" target=\"_blank\">Weights & Biases</a> (<a href=\"https://wandb.me/run\" target=\"_blank\">docs</a>)<br/>"
      ],
      "text/plain": [
       "<IPython.core.display.HTML object>"
      ]
     },
     "metadata": {},
     "output_type": "display_data"
    },
    {
     "name": "stderr",
     "output_type": "stream",
     "text": [
      "***** Running Evaluation *****\n",
      "  Num examples = 5312\n",
      "  Batch size = 256\n"
     ]
    },
    {
     "data": {
      "text/html": [
       "\n",
       "    <div>\n",
       "      \n",
       "      <progress value='42' max='21' style='width:300px; height:20px; vertical-align: middle;'></progress>\n",
       "      [21/21 09:31]\n",
       "    </div>\n",
       "    "
      ],
      "text/plain": [
       "<IPython.core.display.HTML object>"
      ]
     },
     "metadata": {},
     "output_type": "display_data"
    },
    {
     "name": "stderr",
     "output_type": "stream",
     "text": [
      "Automatic Weights & Biases logging enabled, to disable set os.environ[\"WANDB_DISABLED\"] = \"true\"\n",
      "/home/jiayi/Projects/SPOT/.venv/lib/python3.10/site-packages/transformers/optimization.py:306: FutureWarning: This implementation of AdamW is deprecated and will be removed in a future version. Use the PyTorch implementation torch.optim.AdamW instead, or set `no_deprecation_warning=True` to disable this warning\n",
      "  warnings.warn(\n",
      "***** Running training *****\n",
      "  Num examples = 80433\n",
      "  Num Epochs = 3\n",
      "  Instantaneous batch size per device = 42\n",
      "  Total train batch size (w. parallel, distributed & accumulation) = 42\n",
      "  Gradient Accumulation steps = 1\n",
      "  Total optimization steps = 5748\n"
     ]
    },
    {
     "name": "stdout",
     "output_type": "stream",
     "text": [
      "initial performance: {'eval_loss': 3.0191705226898193, 'eval_runtime': 45.5838, 'eval_samples_per_second': 116.533, 'eval_steps_per_second': 0.461}\n"
     ]
    },
    {
     "data": {
      "text/html": [
       "\n",
       "    <div>\n",
       "      \n",
       "      <progress value='4500' max='5748' style='width:300px; height:20px; vertical-align: middle;'></progress>\n",
       "      [4500/5748 1:19:38 < 22:05, 0.94 it/s, Epoch 2/3]\n",
       "    </div>\n",
       "    <table border=\"1\" class=\"dataframe\">\n",
       "  <thead>\n",
       " <tr style=\"text-align: left;\">\n",
       "      <th>Step</th>\n",
       "      <th>Training Loss</th>\n",
       "      <th>Validation Loss</th>\n",
       "    </tr>\n",
       "  </thead>\n",
       "  <tbody>\n",
       "    <tr>\n",
       "      <td>500</td>\n",
       "      <td>0.568300</td>\n",
       "      <td>0.543072</td>\n",
       "    </tr>\n",
       "    <tr>\n",
       "      <td>1000</td>\n",
       "      <td>0.457400</td>\n",
       "      <td>0.488604</td>\n",
       "    </tr>\n",
       "    <tr>\n",
       "      <td>1500</td>\n",
       "      <td>0.426000</td>\n",
       "      <td>0.470420</td>\n",
       "    </tr>\n",
       "    <tr>\n",
       "      <td>2000</td>\n",
       "      <td>0.394600</td>\n",
       "      <td>0.464758</td>\n",
       "    </tr>\n",
       "    <tr>\n",
       "      <td>2500</td>\n",
       "      <td>0.356200</td>\n",
       "      <td>0.459326</td>\n",
       "    </tr>\n",
       "    <tr>\n",
       "      <td>3000</td>\n",
       "      <td>0.348300</td>\n",
       "      <td>0.452277</td>\n",
       "    </tr>\n",
       "    <tr>\n",
       "      <td>3500</td>\n",
       "      <td>0.347900</td>\n",
       "      <td>0.453843</td>\n",
       "    </tr>\n",
       "    <tr>\n",
       "      <td>4000</td>\n",
       "      <td>0.331200</td>\n",
       "      <td>0.452933</td>\n",
       "    </tr>\n",
       "    <tr>\n",
       "      <td>4500</td>\n",
       "      <td>0.311600</td>\n",
       "      <td>0.452866</td>\n",
       "    </tr>\n",
       "  </tbody>\n",
       "</table><p>"
      ],
      "text/plain": [
       "<IPython.core.display.HTML object>"
      ]
     },
     "metadata": {},
     "output_type": "display_data"
    },
    {
     "name": "stderr",
     "output_type": "stream",
     "text": [
      "***** Running Evaluation *****\n",
      "  Num examples = 5312\n",
      "  Batch size = 256\n",
      "Saving model checkpoint to /mnt/data0/jiayi/checkpoints/SPOT-R1-with_margin-data_full/checkpoint-500\n",
      "Configuration saved in /mnt/data0/jiayi/checkpoints/SPOT-R1-with_margin-data_full/checkpoint-500/config.json\n",
      "/home/jiayi/Projects/SPOT/.venv/lib/python3.10/site-packages/torch/nn/modules/module.py:1402: UserWarning: positional arguments and argument \"destination\" are deprecated. nn.Module.state_dict will not accept them in the future. Refer to https://pytorch.org/docs/master/generated/torch.nn.Module.html#torch.nn.Module.state_dict for details.\n",
      "  warnings.warn(\n",
      "Model weights saved in /mnt/data0/jiayi/checkpoints/SPOT-R1-with_margin-data_full/checkpoint-500/pytorch_model.bin\n",
      "tokenizer config file saved in /mnt/data0/jiayi/checkpoints/SPOT-R1-with_margin-data_full/checkpoint-500/tokenizer_config.json\n",
      "Special tokens file saved in /mnt/data0/jiayi/checkpoints/SPOT-R1-with_margin-data_full/checkpoint-500/special_tokens_map.json\n",
      "***** Running Evaluation *****\n",
      "  Num examples = 5312\n",
      "  Batch size = 256\n",
      "Saving model checkpoint to /mnt/data0/jiayi/checkpoints/SPOT-R1-with_margin-data_full/checkpoint-1000\n",
      "Configuration saved in /mnt/data0/jiayi/checkpoints/SPOT-R1-with_margin-data_full/checkpoint-1000/config.json\n",
      "/home/jiayi/Projects/SPOT/.venv/lib/python3.10/site-packages/torch/nn/modules/module.py:1402: UserWarning: positional arguments and argument \"destination\" are deprecated. nn.Module.state_dict will not accept them in the future. Refer to https://pytorch.org/docs/master/generated/torch.nn.Module.html#torch.nn.Module.state_dict for details.\n",
      "  warnings.warn(\n",
      "Model weights saved in /mnt/data0/jiayi/checkpoints/SPOT-R1-with_margin-data_full/checkpoint-1000/pytorch_model.bin\n",
      "tokenizer config file saved in /mnt/data0/jiayi/checkpoints/SPOT-R1-with_margin-data_full/checkpoint-1000/tokenizer_config.json\n",
      "Special tokens file saved in /mnt/data0/jiayi/checkpoints/SPOT-R1-with_margin-data_full/checkpoint-1000/special_tokens_map.json\n",
      "***** Running Evaluation *****\n",
      "  Num examples = 5312\n",
      "  Batch size = 256\n",
      "Saving model checkpoint to /mnt/data0/jiayi/checkpoints/SPOT-R1-with_margin-data_full/checkpoint-1500\n",
      "Configuration saved in /mnt/data0/jiayi/checkpoints/SPOT-R1-with_margin-data_full/checkpoint-1500/config.json\n",
      "/home/jiayi/Projects/SPOT/.venv/lib/python3.10/site-packages/torch/nn/modules/module.py:1402: UserWarning: positional arguments and argument \"destination\" are deprecated. nn.Module.state_dict will not accept them in the future. Refer to https://pytorch.org/docs/master/generated/torch.nn.Module.html#torch.nn.Module.state_dict for details.\n",
      "  warnings.warn(\n",
      "Model weights saved in /mnt/data0/jiayi/checkpoints/SPOT-R1-with_margin-data_full/checkpoint-1500/pytorch_model.bin\n",
      "tokenizer config file saved in /mnt/data0/jiayi/checkpoints/SPOT-R1-with_margin-data_full/checkpoint-1500/tokenizer_config.json\n",
      "Special tokens file saved in /mnt/data0/jiayi/checkpoints/SPOT-R1-with_margin-data_full/checkpoint-1500/special_tokens_map.json\n",
      "***** Running Evaluation *****\n",
      "  Num examples = 5312\n",
      "  Batch size = 256\n",
      "Saving model checkpoint to /mnt/data0/jiayi/checkpoints/SPOT-R1-with_margin-data_full/checkpoint-2000\n",
      "Configuration saved in /mnt/data0/jiayi/checkpoints/SPOT-R1-with_margin-data_full/checkpoint-2000/config.json\n",
      "/home/jiayi/Projects/SPOT/.venv/lib/python3.10/site-packages/torch/nn/modules/module.py:1402: UserWarning: positional arguments and argument \"destination\" are deprecated. nn.Module.state_dict will not accept them in the future. Refer to https://pytorch.org/docs/master/generated/torch.nn.Module.html#torch.nn.Module.state_dict for details.\n",
      "  warnings.warn(\n",
      "Model weights saved in /mnt/data0/jiayi/checkpoints/SPOT-R1-with_margin-data_full/checkpoint-2000/pytorch_model.bin\n",
      "tokenizer config file saved in /mnt/data0/jiayi/checkpoints/SPOT-R1-with_margin-data_full/checkpoint-2000/tokenizer_config.json\n",
      "Special tokens file saved in /mnt/data0/jiayi/checkpoints/SPOT-R1-with_margin-data_full/checkpoint-2000/special_tokens_map.json\n",
      "Deleting older checkpoint [/mnt/data0/jiayi/checkpoints/SPOT-R1-with_margin-data_full/checkpoint-500] due to args.save_total_limit\n",
      "***** Running Evaluation *****\n",
      "  Num examples = 5312\n",
      "  Batch size = 256\n",
      "Saving model checkpoint to /mnt/data0/jiayi/checkpoints/SPOT-R1-with_margin-data_full/checkpoint-2500\n",
      "Configuration saved in /mnt/data0/jiayi/checkpoints/SPOT-R1-with_margin-data_full/checkpoint-2500/config.json\n",
      "/home/jiayi/Projects/SPOT/.venv/lib/python3.10/site-packages/torch/nn/modules/module.py:1402: UserWarning: positional arguments and argument \"destination\" are deprecated. nn.Module.state_dict will not accept them in the future. Refer to https://pytorch.org/docs/master/generated/torch.nn.Module.html#torch.nn.Module.state_dict for details.\n",
      "  warnings.warn(\n",
      "Model weights saved in /mnt/data0/jiayi/checkpoints/SPOT-R1-with_margin-data_full/checkpoint-2500/pytorch_model.bin\n",
      "tokenizer config file saved in /mnt/data0/jiayi/checkpoints/SPOT-R1-with_margin-data_full/checkpoint-2500/tokenizer_config.json\n",
      "Special tokens file saved in /mnt/data0/jiayi/checkpoints/SPOT-R1-with_margin-data_full/checkpoint-2500/special_tokens_map.json\n",
      "Deleting older checkpoint [/mnt/data0/jiayi/checkpoints/SPOT-R1-with_margin-data_full/checkpoint-1000] due to args.save_total_limit\n",
      "***** Running Evaluation *****\n",
      "  Num examples = 5312\n",
      "  Batch size = 256\n",
      "Saving model checkpoint to /mnt/data0/jiayi/checkpoints/SPOT-R1-with_margin-data_full/checkpoint-3000\n",
      "Configuration saved in /mnt/data0/jiayi/checkpoints/SPOT-R1-with_margin-data_full/checkpoint-3000/config.json\n",
      "/home/jiayi/Projects/SPOT/.venv/lib/python3.10/site-packages/torch/nn/modules/module.py:1402: UserWarning: positional arguments and argument \"destination\" are deprecated. nn.Module.state_dict will not accept them in the future. Refer to https://pytorch.org/docs/master/generated/torch.nn.Module.html#torch.nn.Module.state_dict for details.\n",
      "  warnings.warn(\n",
      "Model weights saved in /mnt/data0/jiayi/checkpoints/SPOT-R1-with_margin-data_full/checkpoint-3000/pytorch_model.bin\n",
      "tokenizer config file saved in /mnt/data0/jiayi/checkpoints/SPOT-R1-with_margin-data_full/checkpoint-3000/tokenizer_config.json\n",
      "Special tokens file saved in /mnt/data0/jiayi/checkpoints/SPOT-R1-with_margin-data_full/checkpoint-3000/special_tokens_map.json\n",
      "Deleting older checkpoint [/mnt/data0/jiayi/checkpoints/SPOT-R1-with_margin-data_full/checkpoint-1500] due to args.save_total_limit\n",
      "***** Running Evaluation *****\n",
      "  Num examples = 5312\n",
      "  Batch size = 256\n",
      "Saving model checkpoint to /mnt/data0/jiayi/checkpoints/SPOT-R1-with_margin-data_full/checkpoint-3500\n",
      "Configuration saved in /mnt/data0/jiayi/checkpoints/SPOT-R1-with_margin-data_full/checkpoint-3500/config.json\n",
      "/home/jiayi/Projects/SPOT/.venv/lib/python3.10/site-packages/torch/nn/modules/module.py:1402: UserWarning: positional arguments and argument \"destination\" are deprecated. nn.Module.state_dict will not accept them in the future. Refer to https://pytorch.org/docs/master/generated/torch.nn.Module.html#torch.nn.Module.state_dict for details.\n",
      "  warnings.warn(\n",
      "Model weights saved in /mnt/data0/jiayi/checkpoints/SPOT-R1-with_margin-data_full/checkpoint-3500/pytorch_model.bin\n",
      "tokenizer config file saved in /mnt/data0/jiayi/checkpoints/SPOT-R1-with_margin-data_full/checkpoint-3500/tokenizer_config.json\n",
      "Special tokens file saved in /mnt/data0/jiayi/checkpoints/SPOT-R1-with_margin-data_full/checkpoint-3500/special_tokens_map.json\n",
      "Deleting older checkpoint [/mnt/data0/jiayi/checkpoints/SPOT-R1-with_margin-data_full/checkpoint-2000] due to args.save_total_limit\n",
      "***** Running Evaluation *****\n",
      "  Num examples = 5312\n",
      "  Batch size = 256\n",
      "Saving model checkpoint to /mnt/data0/jiayi/checkpoints/SPOT-R1-with_margin-data_full/checkpoint-4000\n",
      "Configuration saved in /mnt/data0/jiayi/checkpoints/SPOT-R1-with_margin-data_full/checkpoint-4000/config.json\n",
      "/home/jiayi/Projects/SPOT/.venv/lib/python3.10/site-packages/torch/nn/modules/module.py:1402: UserWarning: positional arguments and argument \"destination\" are deprecated. nn.Module.state_dict will not accept them in the future. Refer to https://pytorch.org/docs/master/generated/torch.nn.Module.html#torch.nn.Module.state_dict for details.\n",
      "  warnings.warn(\n",
      "Model weights saved in /mnt/data0/jiayi/checkpoints/SPOT-R1-with_margin-data_full/checkpoint-4000/pytorch_model.bin\n",
      "tokenizer config file saved in /mnt/data0/jiayi/checkpoints/SPOT-R1-with_margin-data_full/checkpoint-4000/tokenizer_config.json\n",
      "Special tokens file saved in /mnt/data0/jiayi/checkpoints/SPOT-R1-with_margin-data_full/checkpoint-4000/special_tokens_map.json\n",
      "Deleting older checkpoint [/mnt/data0/jiayi/checkpoints/SPOT-R1-with_margin-data_full/checkpoint-2500] due to args.save_total_limit\n",
      "wandb: Network error (ReadTimeout), entering retry loop.\n",
      "wandb: Network error (ReadTimeout), entering retry loop.\n",
      "***** Running Evaluation *****\n",
      "  Num examples = 5312\n",
      "  Batch size = 256\n",
      "Saving model checkpoint to /mnt/data0/jiayi/checkpoints/SPOT-R1-with_margin-data_full/checkpoint-4500\n",
      "Configuration saved in /mnt/data0/jiayi/checkpoints/SPOT-R1-with_margin-data_full/checkpoint-4500/config.json\n",
      "/home/jiayi/Projects/SPOT/.venv/lib/python3.10/site-packages/torch/nn/modules/module.py:1402: UserWarning: positional arguments and argument \"destination\" are deprecated. nn.Module.state_dict will not accept them in the future. Refer to https://pytorch.org/docs/master/generated/torch.nn.Module.html#torch.nn.Module.state_dict for details.\n",
      "  warnings.warn(\n",
      "Model weights saved in /mnt/data0/jiayi/checkpoints/SPOT-R1-with_margin-data_full/checkpoint-4500/pytorch_model.bin\n",
      "tokenizer config file saved in /mnt/data0/jiayi/checkpoints/SPOT-R1-with_margin-data_full/checkpoint-4500/tokenizer_config.json\n",
      "Special tokens file saved in /mnt/data0/jiayi/checkpoints/SPOT-R1-with_margin-data_full/checkpoint-4500/special_tokens_map.json\n",
      "Deleting older checkpoint [/mnt/data0/jiayi/checkpoints/SPOT-R1-with_margin-data_full/checkpoint-3500] due to args.save_total_limit\n",
      "\n",
      "\n",
      "Training completed. Do not forget to share your model on huggingface.co/models =)\n",
      "\n",
      "\n",
      "Loading best model from /mnt/data0/jiayi/checkpoints/SPOT-R1-with_margin-data_full/checkpoint-3000 (score: 0.4522767961025238).\n",
      "***** Running Evaluation *****\n",
      "  Num examples = 5312\n",
      "  Batch size = 256\n"
     ]
    },
    {
     "data": {
      "text/html": [
       "\n",
       "    <div>\n",
       "      \n",
       "      <progress value='21' max='21' style='width:300px; height:20px; vertical-align: middle;'></progress>\n",
       "      [21/21 00:43]\n",
       "    </div>\n",
       "    "
      ],
      "text/plain": [
       "<IPython.core.display.HTML object>"
      ]
     },
     "metadata": {},
     "output_type": "display_data"
    },
    {
     "name": "stdout",
     "output_type": "stream",
     "text": [
      "final performance: {'eval_loss': 0.4522767961025238, 'eval_runtime': 45.7371, 'eval_samples_per_second': 116.142, 'eval_steps_per_second': 0.459, 'epoch': 2.35}\n"
     ]
    },
    {
     "data": {
      "text/html": [
       "Waiting for W&B process to finish... <strong style=\"color:green\">(success).</strong>"
      ],
      "text/plain": [
       "<IPython.core.display.HTML object>"
      ]
     },
     "metadata": {},
     "output_type": "display_data"
    },
    {
     "data": {
      "application/vnd.jupyter.widget-view+json": {
       "model_id": "41ddd7467dc54452b933e467686379c8",
       "version_major": 2,
       "version_minor": 0
      },
      "text/plain": [
       "VBox(children=(Label(value='0.001 MB of 0.001 MB uploaded (0.000 MB deduped)\\r'), FloatProgress(value=1.0, max…"
      ]
     },
     "metadata": {},
     "output_type": "display_data"
    },
    {
     "data": {
      "text/html": [
       "<style>\n",
       "    table.wandb td:nth-child(1) { padding: 0 10px; text-align: left ; width: auto;} td:nth-child(2) {text-align: left ; width: 100%}\n",
       "    .wandb-row { display: flex; flex-direction: row; flex-wrap: wrap; justify-content: flex-start; width: 100% }\n",
       "    .wandb-col { display: flex; flex-direction: column; flex-basis: 100%; flex: 1; padding: 10px; }\n",
       "    </style>\n",
       "<div class=\"wandb-row\"><div class=\"wandb-col\"><h3>Run history:</h3><br/><table class=\"wandb\"><tr><td>eval/loss</td><td>█▁▁▁▁▁▁▁▁▁▁</td></tr><tr><td>eval/runtime</td><td>▁▇▇▇▇▇▇█▇█▇</td></tr><tr><td>eval/samples_per_second</td><td>█▂▂▂▂▂▂▁▂▁▂</td></tr><tr><td>eval/steps_per_second</td><td>█▁▁▁▁▁▁▁▁▁▁</td></tr><tr><td>train/epoch</td><td>▁▁▂▂▃▃▄▄▄▄▅▅▆▆▇▇████</td></tr><tr><td>train/global_step</td><td>▁▂▂▃▃▃▃▄▄▅▅▆▆▆▆▇▇█████</td></tr><tr><td>train/learning_rate</td><td>█▇▆▅▄▄▃▂▁</td></tr><tr><td>train/loss</td><td>█▅▄▃▂▂▂▂▁</td></tr><tr><td>train/total_flos</td><td>▁</td></tr><tr><td>train/train_loss</td><td>▁</td></tr><tr><td>train/train_runtime</td><td>▁</td></tr><tr><td>train/train_samples_per_second</td><td>▁</td></tr><tr><td>train/train_steps_per_second</td><td>▁</td></tr></table><br/></div><div class=\"wandb-col\"><h3>Run summary:</h3><br/><table class=\"wandb\"><tr><td>eval/loss</td><td>0.45228</td></tr><tr><td>eval/runtime</td><td>45.7371</td></tr><tr><td>eval/samples_per_second</td><td>116.142</td></tr><tr><td>eval/steps_per_second</td><td>0.459</td></tr><tr><td>train/epoch</td><td>2.35</td></tr><tr><td>train/global_step</td><td>4500</td></tr><tr><td>train/learning_rate</td><td>0.0</td></tr><tr><td>train/loss</td><td>0.3116</td></tr><tr><td>train/total_flos</td><td>1.1504554260037632e+17</td></tr><tr><td>train/train_loss</td><td>0.3935</td></tr><tr><td>train/train_runtime</td><td>4779.6005</td></tr><tr><td>train/train_samples_per_second</td><td>50.485</td></tr><tr><td>train/train_steps_per_second</td><td>1.203</td></tr></table><br/></div></div>"
      ],
      "text/plain": [
       "<IPython.core.display.HTML object>"
      ]
     },
     "metadata": {},
     "output_type": "display_data"
    },
    {
     "data": {
      "text/html": [
       "Synced <strong style=\"color:#cdcd00\">cerulean-monkey-1</strong>: <a href=\"https://wandb.ai/mrvplusone/SPOT-R1-with_margin-data_full/runs/243p73eo\" target=\"_blank\">https://wandb.ai/mrvplusone/SPOT-R1-with_margin-data_full/runs/243p73eo</a><br/>Synced 5 W&B file(s), 0 media file(s), 0 artifact file(s) and 0 other file(s)"
      ],
      "text/plain": [
       "<IPython.core.display.HTML object>"
      ]
     },
     "metadata": {},
     "output_type": "display_data"
    },
    {
     "data": {
      "text/html": [
       "Find logs at: <code>/mnt/data0/jiayi/wandb/run-20220515_015513-243p73eo/logs</code>"
      ],
      "text/plain": [
       "<IPython.core.display.HTML object>"
      ]
     },
     "metadata": {},
     "output_type": "display_data"
    }
   ],
   "source": [
    "r1_train_args = r0_train_args\n",
    "r1_trainer = r1_wrapper.build_trainer(\n",
    "    datadir / \"checkpoints\" / r1_model_name,\n",
    "    r1_train_args,\n",
    "    dataset=r1_datasets[\"train\"].data,\n",
    "    eval_dataset=r1_datasets[\"valid\"].data,\n",
    ")\n",
    "\n",
    "if train_r1:\n",
    "    wandb.init(\n",
    "        project=r1_model_name,\n",
    "        dir=str(datadir),\n",
    "        config={\"r1_decoding_args\": r1_args, \"r1_train_args\": r1_train_args},\n",
    "    )\n",
    "\n",
    "    try:\n",
    "        init_perf = r1_trainer.evaluate(max_length=r1_args.generation_max_length)\n",
    "        print(\"initial performance:\", init_perf)\n",
    "        r1_trainer.train()\n",
    "    except Exception as e:\n",
    "        wandb.alert(\n",
    "            title=\"Training stopped due to exception\",\n",
    "            text=f\"In {r1_model_name}, exception: {e}\",\n",
    "        )\n",
    "        raise e\n",
    "    wandb.alert(title=\"Training finished\", text=f\"{r1_model_name} has finished.\")\n",
    "    wandb.log({\"time_stats\": r1_monitor.timer.total_times()})\n",
    "\n",
    "final_perf = r1_trainer.evaluate(max_length=r1_args.generation_max_length)\n",
    "print(\"final performance:\", final_perf)\n",
    "wandb.finish()\n"
   ]
  },
  {
   "cell_type": "code",
   "execution_count": 26,
   "metadata": {},
   "outputs": [
    {
     "data": {
      "application/vnd.jupyter.widget-view+json": {
       "model_id": "9d5a7a0de1ad4a928fab705d3f017550",
       "version_major": 2,
       "version_minor": 0
      },
      "text/plain": [
       "predict:   0%|          | 0/20 [00:00<?, ?it/s]"
      ]
     },
     "metadata": {},
     "output_type": "display_data"
    },
    {
     "name": "stdout",
     "output_type": "stream",
     "text": [
      "partial_acc: 69.62%\n",
      "partial_acc_wo_any: 69.62%\n",
      "partial_accs:\n",
      "   FuncArg: 69.57%\n",
      "   FuncReturn: 72.41%\n",
      "   LocalVar: 50.00%\n",
      "full_acc: 53.16%\n",
      "full_accs:\n",
      "   FuncArg: 50.00%\n",
      "   FuncReturn: 62.07%\n",
      "   LocalVar: 25.00%\n",
      "n_labels: 79\n"
     ]
    }
   ],
   "source": [
    "from spot.data import pretty_print_accuracies, preds_to_accuracies\n",
    "\n",
    "r1_preds = r1_wrapper.predict(r1_datasets[\"test\"], tqdm_args={})\n",
    "\n",
    "pretty_print_accuracies(preds_to_accuracies(r1_preds, r1_datasets[\"test\"]))"
   ]
  },
  {
   "cell_type": "code",
   "execution_count": 27,
   "metadata": {},
   "outputs": [
    {
     "data": {
      "application/vnd.jupyter.widget-view+json": {
       "model_id": "1e6994c10804454c972dec7530beaf16",
       "version_major": 2,
       "version_minor": 0
      },
      "text/plain": [
       "Tab(children=(HTML(value=\"<pre style='line-height: 1.2; padding: 10px; color: rgb(212,212,212); background-col…"
      ]
     },
     "metadata": {},
     "output_type": "display_data"
    }
   ],
   "source": [
    "from spot.visualization import display_code_sequence, visualize_batch\n",
    "\n",
    "display_code_sequence([visualize_batch(r1_datasets[\"test\"], i, r1_preds, tokenizer, r1_args.ctx_args) for i in range(3)])"
   ]
  }
 ],
 "metadata": {
  "interpreter": {
   "hash": "f6ffc72953da4dd16b2e00785be9c4013ef131f465a8658f3921b6634d4eeec8"
  },
  "kernelspec": {
   "display_name": "Python 3.10.4 ('.venv': pipenv)",
   "language": "python",
   "name": "python3"
  },
  "language_info": {
   "codemirror_mode": {
    "name": "ipython",
    "version": 3
   },
   "file_extension": ".py",
   "mimetype": "text/x-python",
   "name": "python",
   "nbconvert_exporter": "python",
   "pygments_lexer": "ipython3",
   "version": "3.10.4"
  },
  "orig_nbformat": 4
 },
 "nbformat": 4,
 "nbformat_minor": 2
}
