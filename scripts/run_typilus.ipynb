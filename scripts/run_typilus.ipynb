{
 "cells": [
  {
   "cell_type": "code",
   "execution_count": 1,
   "metadata": {},
   "outputs": [],
   "source": [
    "%load_ext autoreload\n",
    "%autoreload 2\n",
    "\n",
    "from spot.utils import proj_root, os\n",
    "os.chdir(proj_root())"
   ]
  },
  {
   "cell_type": "code",
   "execution_count": 2,
   "metadata": {},
   "outputs": [
    {
     "name": "stderr",
     "output_type": "stream",
     "text": [
      "Removing newer syntax: 100%|██████████| 128/128 [00:00<00:00, 277.37it/s]"
     ]
    },
    {
     "name": "stdout",
     "output_type": "stream",
     "text": [
      "128 / 128 files have been rewritten.\n"
     ]
    },
    {
     "name": "stderr",
     "output_type": "stream",
     "text": [
      "\n"
     ]
    }
   ],
   "source": [
    "from spot.experiments.utils import remove_newer_syntax_for_repo, Path\n",
    "from spot.experiments.typilus import eval_typilus_on_repos, Type4PySupportedSyntax\n",
    "from spot.utils import get_dataset_dir\n",
    "import shutil\n",
    "\n",
    "repos_dir = get_dataset_dir(\"InferTypes4Py\") / \"repos\"\n",
    "shutil.rmtree(repos_dir / \"test-typilus\", ignore_errors=True)\n",
    "shutil.copytree(repos_dir / \"test\", repos_dir / \"test-typilus\")\n",
    "remove_newer_syntax_for_repo(repos_dir / \"test-typilus\", Type4PySupportedSyntax)"
   ]
  },
  {
   "cell_type": "code",
   "execution_count": 3,
   "metadata": {},
   "outputs": [
    {
     "name": "stderr",
     "output_type": "stream",
     "text": [
      "Running Typilus: 100%|██████████| 3/3 [00:11<00:00,  3.72s/it]\n",
      "Collecting labels: 100%|██████████| 3/3 [00:05<00:00,  1.96s/it]\n"
     ]
    },
    {
     "name": "stdout",
     "output_type": "stream",
     "text": [
      "plain_acc:\n",
      "   plain_acc: 26.54% (count=2.4k)\n",
      "   plain_acc_by_common:\n",
      "      rare: 0.00% (count=866)\n",
      "      common: 41.87% (count=1.5k)\n",
      "   plain_acc_by_cat:\n",
      "      FuncArg: 27.28% (count=1.8k)\n",
      "      FuncReturn: 19.95% (count=366)\n",
      "      ClassAtribute: 30.33% (count=244)\n",
      "      GlobalVar: 75.00% (count=4)\n",
      "   plain_acc_label_size: 1.7747\n",
      "   plain_acc_pred_size: 1.1754\n",
      "   plain_acc_ignored_labels: 0\n",
      "   n_missing: 293\n",
      "acc:\n",
      "   acc: 28.02% (count=2.4k)\n",
      "   acc_by_common:\n",
      "      rare: 0.00% (count=866)\n",
      "      common: 44.20% (count=1.5k)\n",
      "   acc_by_cat:\n",
      "      FuncArg: 28.88% (count=1.8k)\n",
      "      FuncReturn: 20.77% (count=366)\n",
      "      ClassAtribute: 31.97% (count=244)\n",
      "      GlobalVar: 75.00% (count=4)\n",
      "   acc_label_size: 1.6517\n",
      "   acc_pred_size: 1.1281\n",
      "   acc_ignored_labels: 0\n",
      "   n_missing: 293\n",
      "base_acc:\n",
      "   base_acc: 44.34% (count=2.4k)\n",
      "   base_acc_by_common:\n",
      "      rare: 0.00% (count=627)\n",
      "      common: 60.32% (count=1.7k)\n",
      "   base_acc_by_cat:\n",
      "      FuncArg: 46.35% (count=1.8k)\n",
      "      FuncReturn: 37.43% (count=366)\n",
      "      ClassAtribute: 39.75% (count=244)\n",
      "      GlobalVar: 75.00% (count=4)\n",
      "   base_acc_label_size: 1\n",
      "   base_acc_pred_size: 1\n",
      "   base_acc_ignored_labels: 0\n",
      "   n_missing: 293\n"
     ]
    }
   ],
   "source": [
    "from spot.model import ModelWrapper\n",
    "from spot.static_analysis import AccuracyMetric\n",
    "from spot.utils import *\n",
    "\n",
    "test_repos = [\n",
    "    p\n",
    "    for p in (repos_dir / \"test-typilus\").iterdir()\n",
    "    if p.is_dir()\n",
    "]\n",
    "\n",
    "common_names = ModelWrapper.load_common_type_names(get_model_dir() / \"model-v7--TrainingConfig(drop_env_types=False)\")\n",
    "metrics = AccuracyMetric.default_metrics(common_names)\n",
    "typilus_path = Path(\"~/Projects/typilus-action/\").expanduser()\n",
    "work_dir = Path(\"~/Projects/typilus-action/data_out\").expanduser()\n",
    "\n",
    "accs = eval_typilus_on_repos(test_repos, metrics, typilus_path, work_dir)\n",
    "pretty_print_dict(accs)\n"
   ]
  }
 ],
 "metadata": {
  "kernelspec": {
   "display_name": "Python 3.10.4 ('.venv': pipenv)",
   "language": "python",
   "name": "python3"
  },
  "language_info": {
   "codemirror_mode": {
    "name": "ipython",
    "version": 3
   },
   "file_extension": ".py",
   "mimetype": "text/x-python",
   "name": "python",
   "nbconvert_exporter": "python",
   "pygments_lexer": "ipython3",
   "version": "3.10.4"
  },
  "orig_nbformat": 4,
  "vscode": {
   "interpreter": {
    "hash": "f6ffc72953da4dd16b2e00785be9c4013ef131f465a8658f3921b6634d4eeec8"
   }
  }
 },
 "nbformat": 4,
 "nbformat_minor": 2
}
