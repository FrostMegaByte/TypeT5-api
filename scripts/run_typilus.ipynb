{
 "cells": [
  {
   "cell_type": "code",
   "execution_count": 1,
   "metadata": {},
   "outputs": [],
   "source": [
    "%load_ext autoreload\n",
    "%autoreload 2\n",
    "\n",
    "from spot.utils import proj_root, os\n",
    "os.chdir(proj_root())"
   ]
  },
  {
   "cell_type": "code",
   "execution_count": 2,
   "metadata": {},
   "outputs": [
    {
     "name": "stderr",
     "output_type": "stream",
     "text": [
      "Removing newer syntax: 100%|██████████| 128/128 [00:00<00:00, 255.92it/s]"
     ]
    },
    {
     "name": "stdout",
     "output_type": "stream",
     "text": [
      "128 / 128 files have been rewritten.\n"
     ]
    },
    {
     "name": "stderr",
     "output_type": "stream",
     "text": [
      "\n"
     ]
    }
   ],
   "source": [
    "from spot.experiments.utils import remove_newer_syntax_for_repo, Path\n",
    "from spot.experiments.typilus import eval_typilus_on_repos, Type4PySupportedSyntax\n",
    "from spot.utils import get_dataset_dir\n",
    "import shutil\n",
    "\n",
    "dataset_name = \"InferTypes4Py\"\n",
    "# dataset_name = \"ManyTypes4Py\"\n",
    "repos_dir = get_dataset_dir(dataset_name) / \"repos\"\n",
    "shutil.rmtree(repos_dir / \"test-typilus\", ignore_errors=True)\n",
    "shutil.copytree(repos_dir / \"test\", repos_dir / \"test-typilus\")\n",
    "remove_newer_syntax_for_repo(repos_dir / \"test-typilus\", Type4PySupportedSyntax)"
   ]
  },
  {
   "cell_type": "code",
   "execution_count": 3,
   "metadata": {},
   "outputs": [
    {
     "name": "stderr",
     "output_type": "stream",
     "text": [
      "Running Typilus: 100%|██████████| 3/3 [00:11<00:00,  3.78s/it]\n",
      "Collecting labels: 100%|██████████| 3/3 [00:05<00:00,  1.99s/it]\n"
     ]
    },
    {
     "name": "stdout",
     "output_type": "stream",
     "text": [
      "plain_acc:\n",
      "   plain_acc: 41.87% (count=1.5k)\n",
      "   plain_acc_by_common:\n",
      "      common: 41.87% (count=1.5k)\n",
      "   plain_acc_by_simple:\n",
      "      complex: 22.10% (count=181)\n",
      "      simple: 44.58% (count=1.3k)\n",
      "   plain_acc_by_cat:\n",
      "      FuncArg: 41.24% (count=1.2k)\n",
      "      FuncReturn: 36.32% (count=201)\n",
      "      ClassAtribute: 54.41% (count=136)\n",
      "      GlobalVar: 75.00% (count=4)\n",
      "   plain_acc_label_size: 1.8233\n",
      "   plain_acc_pred_size: 1.224\n",
      "   plain_acc_ignored_labels: 0\n",
      "   n_missing: 293\n",
      "   n_skipped_rare: 866\n",
      "acc:\n",
      "   acc: 52.33% (count=1.5k)\n",
      "   acc_by_common:\n",
      "      common: 52.33% (count=1.5k)\n",
      "   acc_by_simple:\n",
      "      complex: 53.91% (count=128)\n",
      "      simple: 52.19% (count=1.4k)\n",
      "   acc_by_cat:\n",
      "      FuncArg: 53.32% (count=1.2k)\n",
      "      FuncReturn: 41.29% (count=201)\n",
      "      ClassAtribute: 59.56% (count=136)\n",
      "      GlobalVar: 75.00% (count=4)\n",
      "   acc_label_size: 1.6807\n",
      "   acc_pred_size: 1.1507\n",
      "   acc_ignored_labels: 0\n",
      "   n_missing: 293\n",
      "   n_skipped_rare: 866\n",
      "base_acc:\n",
      "   base_acc: 64.67% (count=1.5k)\n",
      "   base_acc_by_common:\n",
      "      common: 64.67% (count=1.5k)\n",
      "   base_acc_by_simple:\n",
      "      simple: 64.67% (count=1.5k)\n",
      "   base_acc_by_cat:\n",
      "      FuncArg: 67.30% (count=1.2k)\n",
      "      FuncReturn: 51.24% (count=201)\n",
      "      ClassAtribute: 61.76% (count=136)\n",
      "      GlobalVar: 75.00% (count=4)\n",
      "   base_acc_label_size: 1\n",
      "   base_acc_pred_size: 1\n",
      "   base_acc_ignored_labels: 0\n",
      "   n_missing: 293\n",
      "   n_skipped_rare: 866\n"
     ]
    }
   ],
   "source": [
    "from spot.model import ModelWrapper\n",
    "from spot.static_analysis import AccuracyMetric\n",
    "from spot.utils import *\n",
    "\n",
    "test_repos = [\n",
    "    p\n",
    "    for p in (repos_dir / \"test-typilus\").iterdir()\n",
    "    if p.is_dir()\n",
    "]\n",
    "\n",
    "common_names = ModelWrapper.load_common_type_names(get_model_dir() / \"model-v7--TrainingConfig(drop_env_types=False)\")\n",
    "metrics = AccuracyMetric.default_metrics(common_names)\n",
    "typilus_path = Path(\"~/Projects/typilus-action/\").expanduser()\n",
    "work_dir = Path(\"~/Projects/typilus-action/data_out\").expanduser()\n",
    "\n",
    "accs = eval_typilus_on_repos(test_repos, metrics, typilus_path, work_dir, max_workers=4)\n",
    "pretty_print_dict(accs)\n"
   ]
  }
 ],
 "metadata": {
  "kernelspec": {
   "display_name": "Python 3.10.4 ('.venv': pipenv)",
   "language": "python",
   "name": "python3"
  },
  "language_info": {
   "codemirror_mode": {
    "name": "ipython",
    "version": 3
   },
   "file_extension": ".py",
   "mimetype": "text/x-python",
   "name": "python",
   "nbconvert_exporter": "python",
   "pygments_lexer": "ipython3",
   "version": "3.10.4"
  },
  "orig_nbformat": 4,
  "vscode": {
   "interpreter": {
    "hash": "f6ffc72953da4dd16b2e00785be9c4013ef131f465a8658f3921b6634d4eeec8"
   }
  }
 },
 "nbformat": 4,
 "nbformat_minor": 2
}
