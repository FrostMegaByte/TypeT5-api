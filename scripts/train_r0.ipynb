{
 "cells": [
  {
   "cell_type": "code",
   "execution_count": 1,
   "metadata": {},
   "outputs": [],
   "source": [
    "%load_ext autoreload\n",
    "%autoreload 2\n",
    "\n",
    "import os\n",
    "import pickle\n",
    "from pathlib import Path\n",
    "from typing import *\n",
    "\n",
    "import pandas as pd\n",
    "import plotly.express as px\n",
    "\n",
    "from spot.utils import cst, proj_root, run_long_task, tqdm\n",
    "\n",
    "os.chdir(proj_root())\n",
    "\n",
    "datadir = Path(os.getenv(\"datadir\"))\n",
    "repos_dir = datadir / \"SPOT-data/repos\""
   ]
  },
  {
   "cell_type": "code",
   "execution_count": 2,
   "metadata": {},
   "outputs": [],
   "source": [
    "from spot.data import SrcDataset\n",
    "\n",
    "src_datasets_path = datadir / f\"SPOT-data/src_datasets\"\n",
    "src_datasets = dict[str, SrcDataset]()\n",
    "for n in [\"train\", \"valid\", \"test\"]:\n",
    "    with open(src_datasets_path / f\"{n}.pkl\", \"rb\") as f:\n",
    "        src_datasets[n] = pickle.load(f)\n",
    "        src_datasets[n].repos_root = repos_dir\n"
   ]
  },
  {
   "cell_type": "code",
   "execution_count": 3,
   "metadata": {},
   "outputs": [
    {
     "name": "stdout",
     "output_type": "stream",
     "text": [
      "R0 model name:  SPOT-R0-with_margin-data_full\n"
     ]
    },
    {
     "name": "stderr",
     "output_type": "stream",
     "text": [
      "/home/jiayi/Projects/SPOT/.venv/lib/python3.10/site-packages/torch/nn/modules/module.py:1402: UserWarning: positional arguments and argument \"destination\" are deprecated. nn.Module.state_dict will not accept them in the future. Refer to https://pytorch.org/docs/master/generated/torch.nn.Module.html#torch.nn.Module.state_dict for details.\n",
      "  warnings.warn(\n"
     ]
    }
   ],
   "source": [
    "import torch\n",
    "\n",
    "from spot.data import ChunkedDataset\n",
    "from spot.model import CtxArgs, DecodingArgs, ModelSPOT, ModelWrapper, TokenizerSPOT\n",
    "from spot.utils import TaskLoggingMonitor\n",
    "\n",
    "train_r0 = False  # whether to train or load trained R0 model\n",
    "with_margin = True\n",
    "data_reduction = 1\n",
    "\n",
    "margin_tag = \"with_margin\" if with_margin else \"no_margin\"\n",
    "data_tag = \"data_full\" if data_reduction == 1 else f\"data_1-{data_reduction}\"\n",
    "\n",
    "ctx_args = CtxArgs(\n",
    "    ctx_size=1024,\n",
    "    ctx_margin=256 if with_margin else 0,\n",
    "    types_in_ctx=False,\n",
    ")\n",
    "\n",
    "tokenizer: TokenizerSPOT = TokenizerSPOT.from_pretrained(\"Salesforce/codet5-base\")\n",
    "\n",
    "r0_model_name = f\"SPOT-R0-{margin_tag}-{data_tag}\"\n",
    "print(\"R0 model name: \", r0_model_name)\n",
    "\n",
    "if train_r0:\n",
    "    r0_model_path = \"Salesforce/codet5-base\"\n",
    "else:\n",
    "    r0_model_path = datadir / f\"checkpoints/saved/{r0_model_name}\"\n",
    "\n",
    "device = torch.device(\"cuda:0\" if torch.cuda.is_available() else \"cpu\")\n",
    "\n",
    "r0_model: ModelSPOT = ModelSPOT.from_pretrained(r0_model_path).to(device)\n",
    "r0_monitor = TaskLoggingMonitor(\"R0\")\n",
    "r0_args = DecodingArgs(\n",
    "    sampling_batch_size=128,\n",
    "    ctx_args=ctx_args,\n",
    "    max_workers=20,\n",
    ")\n",
    "r0_wrapper = ModelWrapper(r0_model, tokenizer, r0_args, r0_monitor)\n"
   ]
  },
  {
   "cell_type": "code",
   "execution_count": 4,
   "metadata": {},
   "outputs": [
    {
     "data": {
      "application/vnd.jupyter.widget-view+json": {
       "model_id": "b3bc2b68a6e6461593818e65cda25f08",
       "version_major": 2,
       "version_minor": 0
      },
      "text/plain": [
       "processing chunks:   0%|          | 0/3675 [00:00<?, ?it/s]"
      ]
     },
     "metadata": {},
     "output_type": "display_data"
    },
    {
     "data": {
      "application/vnd.jupyter.widget-view+json": {
       "model_id": "553da0e9a6c148c5a5f2eb5c4e301516",
       "version_major": 2,
       "version_minor": 0
      },
      "text/plain": [
       "processing chunks:   0%|          | 0/51966 [00:00<?, ?it/s]"
      ]
     },
     "metadata": {},
     "output_type": "display_data"
    },
    {
     "name": "stdout",
     "output_type": "stream",
     "text": [
      "Pushover: (Finished: Preparing chunked datasets.) Time taken: 66.6s\n"
     ]
    },
    {
     "name": "stderr",
     "output_type": "stream",
     "text": [
      "Using amp half precision backend\n",
      "Failed to detect the name of this notebook, you can set it manually with the WANDB_NOTEBOOK_NAME environment variable to enable code saving.\n",
      "\u001b[34m\u001b[1mwandb\u001b[0m: Currently logged in as: \u001b[33mmrvplusone\u001b[0m. Use \u001b[1m`wandb login --relogin`\u001b[0m to force relogin\n"
     ]
    },
    {
     "data": {
      "text/html": [
       "Tracking run with wandb version 0.12.16"
      ],
      "text/plain": [
       "<IPython.core.display.HTML object>"
      ]
     },
     "metadata": {},
     "output_type": "display_data"
    },
    {
     "data": {
      "text/html": [
       "Run data is saved locally in <code>/mnt/data0/jiayi/wandb/run-20220519_000841-3bivcwnk</code>"
      ],
      "text/plain": [
       "<IPython.core.display.HTML object>"
      ]
     },
     "metadata": {},
     "output_type": "display_data"
    },
    {
     "data": {
      "text/html": [
       "Syncing run <strong><a href=\"https://wandb.ai/mrvplusone/SPOT-R0-with_margin-data_full/runs/3bivcwnk\" target=\"_blank\">resilient-pyramid-4</a></strong> to <a href=\"https://wandb.ai/mrvplusone/SPOT-R0-with_margin-data_full\" target=\"_blank\">Weights & Biases</a> (<a href=\"https://wandb.me/run\" target=\"_blank\">docs</a>)<br/>"
      ],
      "text/plain": [
       "<IPython.core.display.HTML object>"
      ]
     },
     "metadata": {},
     "output_type": "display_data"
    },
    {
     "name": "stderr",
     "output_type": "stream",
     "text": [
      "***** Running Evaluation *****\n",
      "  Num examples = 2698\n",
      "  Batch size = 64\n"
     ]
    },
    {
     "data": {
      "text/html": [
       "\n",
       "    <div>\n",
       "      \n",
       "      <progress value='86' max='43' style='width:300px; height:20px; vertical-align: middle;'></progress>\n",
       "      [43/43 07:13]\n",
       "    </div>\n",
       "    "
      ],
      "text/plain": [
       "<IPython.core.display.HTML object>"
      ]
     },
     "metadata": {},
     "output_type": "display_data"
    },
    {
     "name": "stderr",
     "output_type": "stream",
     "text": [
      "Automatic Weights & Biases logging enabled, to disable set os.environ[\"WANDB_DISABLED\"] = \"true\"\n",
      "/home/jiayi/Projects/SPOT/.venv/lib/python3.10/site-packages/transformers/optimization.py:306: FutureWarning: This implementation of AdamW is deprecated and will be removed in a future version. Use the PyTorch implementation torch.optim.AdamW instead, or set `no_deprecation_warning=True` to disable this warning\n",
      "  warnings.warn(\n",
      "***** Running training *****\n",
      "  Num examples = 39054\n",
      "  Num Epochs = 3\n",
      "  Instantaneous batch size per device = 8\n",
      "  Total train batch size (w. parallel, distributed & accumulation) = 8\n",
      "  Gradient Accumulation steps = 1\n",
      "  Total optimization steps = 14646\n"
     ]
    },
    {
     "name": "stdout",
     "output_type": "stream",
     "text": [
      "initial eval loss: {'eval_loss': 1.8910937309265137, 'eval_runtime': 73.4613, 'eval_samples_per_second': 36.727, 'eval_steps_per_second': 0.585}\n"
     ]
    },
    {
     "data": {
      "text/html": [
       "\n",
       "    <div>\n",
       "      \n",
       "      <progress value='6000' max='14646' style='width:300px; height:20px; vertical-align: middle;'></progress>\n",
       "      [ 6000/14646 1:12:58 < 1:45:10, 1.37 it/s, Epoch 1/3]\n",
       "    </div>\n",
       "    <table border=\"1\" class=\"dataframe\">\n",
       "  <thead>\n",
       " <tr style=\"text-align: left;\">\n",
       "      <th>Step</th>\n",
       "      <th>Training Loss</th>\n",
       "      <th>Validation Loss</th>\n",
       "    </tr>\n",
       "  </thead>\n",
       "  <tbody>\n",
       "    <tr>\n",
       "      <td>500</td>\n",
       "      <td>0.513600</td>\n",
       "      <td>0.384755</td>\n",
       "    </tr>\n",
       "    <tr>\n",
       "      <td>1000</td>\n",
       "      <td>0.405400</td>\n",
       "      <td>0.361666</td>\n",
       "    </tr>\n",
       "    <tr>\n",
       "      <td>1500</td>\n",
       "      <td>0.356800</td>\n",
       "      <td>0.349090</td>\n",
       "    </tr>\n",
       "    <tr>\n",
       "      <td>2000</td>\n",
       "      <td>0.343900</td>\n",
       "      <td>0.341426</td>\n",
       "    </tr>\n",
       "    <tr>\n",
       "      <td>2500</td>\n",
       "      <td>0.332100</td>\n",
       "      <td>0.329760</td>\n",
       "    </tr>\n",
       "    <tr>\n",
       "      <td>3000</td>\n",
       "      <td>0.313300</td>\n",
       "      <td>0.330826</td>\n",
       "    </tr>\n",
       "    <tr>\n",
       "      <td>3500</td>\n",
       "      <td>0.305500</td>\n",
       "      <td>0.329098</td>\n",
       "    </tr>\n",
       "    <tr>\n",
       "      <td>4000</td>\n",
       "      <td>0.308400</td>\n",
       "      <td>0.326190</td>\n",
       "    </tr>\n",
       "    <tr>\n",
       "      <td>4500</td>\n",
       "      <td>0.288800</td>\n",
       "      <td>0.324418</td>\n",
       "    </tr>\n",
       "    <tr>\n",
       "      <td>5000</td>\n",
       "      <td>0.274800</td>\n",
       "      <td>0.329245</td>\n",
       "    </tr>\n",
       "    <tr>\n",
       "      <td>5500</td>\n",
       "      <td>0.230200</td>\n",
       "      <td>0.326732</td>\n",
       "    </tr>\n",
       "    <tr>\n",
       "      <td>6000</td>\n",
       "      <td>0.229100</td>\n",
       "      <td>0.331668</td>\n",
       "    </tr>\n",
       "  </tbody>\n",
       "</table><p>"
      ],
      "text/plain": [
       "<IPython.core.display.HTML object>"
      ]
     },
     "metadata": {},
     "output_type": "display_data"
    },
    {
     "name": "stderr",
     "output_type": "stream",
     "text": [
      "***** Running Evaluation *****\n",
      "  Num examples = 2698\n",
      "  Batch size = 64\n",
      "Saving model checkpoint to /mnt/data0/jiayi/checkpoints/SPOT-R0-with_margin-data_full/checkpoint-500\n",
      "Configuration saved in /mnt/data0/jiayi/checkpoints/SPOT-R0-with_margin-data_full/checkpoint-500/config.json\n",
      "/home/jiayi/Projects/SPOT/.venv/lib/python3.10/site-packages/torch/nn/modules/module.py:1402: UserWarning: positional arguments and argument \"destination\" are deprecated. nn.Module.state_dict will not accept them in the future. Refer to https://pytorch.org/docs/master/generated/torch.nn.Module.html#torch.nn.Module.state_dict for details.\n",
      "  warnings.warn(\n",
      "Model weights saved in /mnt/data0/jiayi/checkpoints/SPOT-R0-with_margin-data_full/checkpoint-500/pytorch_model.bin\n",
      "tokenizer config file saved in /mnt/data0/jiayi/checkpoints/SPOT-R0-with_margin-data_full/checkpoint-500/tokenizer_config.json\n",
      "Special tokens file saved in /mnt/data0/jiayi/checkpoints/SPOT-R0-with_margin-data_full/checkpoint-500/special_tokens_map.json\n",
      "Deleting older checkpoint [/mnt/data0/jiayi/checkpoints/SPOT-R0-with_margin-data_full/checkpoint-1500] due to args.save_total_limit\n",
      "***** Running Evaluation *****\n",
      "  Num examples = 2698\n",
      "  Batch size = 64\n",
      "Saving model checkpoint to /mnt/data0/jiayi/checkpoints/SPOT-R0-with_margin-data_full/checkpoint-1000\n",
      "Configuration saved in /mnt/data0/jiayi/checkpoints/SPOT-R0-with_margin-data_full/checkpoint-1000/config.json\n",
      "/home/jiayi/Projects/SPOT/.venv/lib/python3.10/site-packages/torch/nn/modules/module.py:1402: UserWarning: positional arguments and argument \"destination\" are deprecated. nn.Module.state_dict will not accept them in the future. Refer to https://pytorch.org/docs/master/generated/torch.nn.Module.html#torch.nn.Module.state_dict for details.\n",
      "  warnings.warn(\n",
      "Model weights saved in /mnt/data0/jiayi/checkpoints/SPOT-R0-with_margin-data_full/checkpoint-1000/pytorch_model.bin\n",
      "tokenizer config file saved in /mnt/data0/jiayi/checkpoints/SPOT-R0-with_margin-data_full/checkpoint-1000/tokenizer_config.json\n",
      "Special tokens file saved in /mnt/data0/jiayi/checkpoints/SPOT-R0-with_margin-data_full/checkpoint-1000/special_tokens_map.json\n",
      "Deleting older checkpoint [/mnt/data0/jiayi/checkpoints/SPOT-R0-with_margin-data_full/checkpoint-2000] due to args.save_total_limit\n",
      "***** Running Evaluation *****\n",
      "  Num examples = 2698\n",
      "  Batch size = 64\n",
      "Saving model checkpoint to /mnt/data0/jiayi/checkpoints/SPOT-R0-with_margin-data_full/checkpoint-1500\n",
      "Configuration saved in /mnt/data0/jiayi/checkpoints/SPOT-R0-with_margin-data_full/checkpoint-1500/config.json\n",
      "/home/jiayi/Projects/SPOT/.venv/lib/python3.10/site-packages/torch/nn/modules/module.py:1402: UserWarning: positional arguments and argument \"destination\" are deprecated. nn.Module.state_dict will not accept them in the future. Refer to https://pytorch.org/docs/master/generated/torch.nn.Module.html#torch.nn.Module.state_dict for details.\n",
      "  warnings.warn(\n",
      "Model weights saved in /mnt/data0/jiayi/checkpoints/SPOT-R0-with_margin-data_full/checkpoint-1500/pytorch_model.bin\n",
      "tokenizer config file saved in /mnt/data0/jiayi/checkpoints/SPOT-R0-with_margin-data_full/checkpoint-1500/tokenizer_config.json\n",
      "Special tokens file saved in /mnt/data0/jiayi/checkpoints/SPOT-R0-with_margin-data_full/checkpoint-1500/special_tokens_map.json\n",
      "Deleting older checkpoint [/mnt/data0/jiayi/checkpoints/SPOT-R0-with_margin-data_full/checkpoint-2500] due to args.save_total_limit\n",
      "***** Running Evaluation *****\n",
      "  Num examples = 2698\n",
      "  Batch size = 64\n",
      "Saving model checkpoint to /mnt/data0/jiayi/checkpoints/SPOT-R0-with_margin-data_full/checkpoint-2000\n",
      "Configuration saved in /mnt/data0/jiayi/checkpoints/SPOT-R0-with_margin-data_full/checkpoint-2000/config.json\n",
      "/home/jiayi/Projects/SPOT/.venv/lib/python3.10/site-packages/torch/nn/modules/module.py:1402: UserWarning: positional arguments and argument \"destination\" are deprecated. nn.Module.state_dict will not accept them in the future. Refer to https://pytorch.org/docs/master/generated/torch.nn.Module.html#torch.nn.Module.state_dict for details.\n",
      "  warnings.warn(\n",
      "Model weights saved in /mnt/data0/jiayi/checkpoints/SPOT-R0-with_margin-data_full/checkpoint-2000/pytorch_model.bin\n",
      "tokenizer config file saved in /mnt/data0/jiayi/checkpoints/SPOT-R0-with_margin-data_full/checkpoint-2000/tokenizer_config.json\n",
      "Special tokens file saved in /mnt/data0/jiayi/checkpoints/SPOT-R0-with_margin-data_full/checkpoint-2000/special_tokens_map.json\n",
      "Deleting older checkpoint [/mnt/data0/jiayi/checkpoints/SPOT-R0-with_margin-data_full/checkpoint-500] due to args.save_total_limit\n",
      "***** Running Evaluation *****\n",
      "  Num examples = 2698\n",
      "  Batch size = 64\n",
      "Saving model checkpoint to /mnt/data0/jiayi/checkpoints/SPOT-R0-with_margin-data_full/checkpoint-2500\n",
      "Configuration saved in /mnt/data0/jiayi/checkpoints/SPOT-R0-with_margin-data_full/checkpoint-2500/config.json\n",
      "/home/jiayi/Projects/SPOT/.venv/lib/python3.10/site-packages/torch/nn/modules/module.py:1402: UserWarning: positional arguments and argument \"destination\" are deprecated. nn.Module.state_dict will not accept them in the future. Refer to https://pytorch.org/docs/master/generated/torch.nn.Module.html#torch.nn.Module.state_dict for details.\n",
      "  warnings.warn(\n",
      "Model weights saved in /mnt/data0/jiayi/checkpoints/SPOT-R0-with_margin-data_full/checkpoint-2500/pytorch_model.bin\n",
      "tokenizer config file saved in /mnt/data0/jiayi/checkpoints/SPOT-R0-with_margin-data_full/checkpoint-2500/tokenizer_config.json\n",
      "Special tokens file saved in /mnt/data0/jiayi/checkpoints/SPOT-R0-with_margin-data_full/checkpoint-2500/special_tokens_map.json\n",
      "Deleting older checkpoint [/mnt/data0/jiayi/checkpoints/SPOT-R0-with_margin-data_full/checkpoint-1000] due to args.save_total_limit\n",
      "***** Running Evaluation *****\n",
      "  Num examples = 2698\n",
      "  Batch size = 64\n",
      "Saving model checkpoint to /mnt/data0/jiayi/checkpoints/SPOT-R0-with_margin-data_full/checkpoint-3000\n",
      "Configuration saved in /mnt/data0/jiayi/checkpoints/SPOT-R0-with_margin-data_full/checkpoint-3000/config.json\n",
      "/home/jiayi/Projects/SPOT/.venv/lib/python3.10/site-packages/torch/nn/modules/module.py:1402: UserWarning: positional arguments and argument \"destination\" are deprecated. nn.Module.state_dict will not accept them in the future. Refer to https://pytorch.org/docs/master/generated/torch.nn.Module.html#torch.nn.Module.state_dict for details.\n",
      "  warnings.warn(\n",
      "Model weights saved in /mnt/data0/jiayi/checkpoints/SPOT-R0-with_margin-data_full/checkpoint-3000/pytorch_model.bin\n",
      "tokenizer config file saved in /mnt/data0/jiayi/checkpoints/SPOT-R0-with_margin-data_full/checkpoint-3000/tokenizer_config.json\n",
      "Special tokens file saved in /mnt/data0/jiayi/checkpoints/SPOT-R0-with_margin-data_full/checkpoint-3000/special_tokens_map.json\n",
      "Deleting older checkpoint [/mnt/data0/jiayi/checkpoints/SPOT-R0-with_margin-data_full/checkpoint-1500] due to args.save_total_limit\n",
      "***** Running Evaluation *****\n",
      "  Num examples = 2698\n",
      "  Batch size = 64\n",
      "Saving model checkpoint to /mnt/data0/jiayi/checkpoints/SPOT-R0-with_margin-data_full/checkpoint-3500\n",
      "Configuration saved in /mnt/data0/jiayi/checkpoints/SPOT-R0-with_margin-data_full/checkpoint-3500/config.json\n",
      "/home/jiayi/Projects/SPOT/.venv/lib/python3.10/site-packages/torch/nn/modules/module.py:1402: UserWarning: positional arguments and argument \"destination\" are deprecated. nn.Module.state_dict will not accept them in the future. Refer to https://pytorch.org/docs/master/generated/torch.nn.Module.html#torch.nn.Module.state_dict for details.\n",
      "  warnings.warn(\n",
      "Model weights saved in /mnt/data0/jiayi/checkpoints/SPOT-R0-with_margin-data_full/checkpoint-3500/pytorch_model.bin\n",
      "tokenizer config file saved in /mnt/data0/jiayi/checkpoints/SPOT-R0-with_margin-data_full/checkpoint-3500/tokenizer_config.json\n",
      "Special tokens file saved in /mnt/data0/jiayi/checkpoints/SPOT-R0-with_margin-data_full/checkpoint-3500/special_tokens_map.json\n",
      "Deleting older checkpoint [/mnt/data0/jiayi/checkpoints/SPOT-R0-with_margin-data_full/checkpoint-2000] due to args.save_total_limit\n",
      "***** Running Evaluation *****\n",
      "  Num examples = 2698\n",
      "  Batch size = 64\n",
      "Saving model checkpoint to /mnt/data0/jiayi/checkpoints/SPOT-R0-with_margin-data_full/checkpoint-4000\n",
      "Configuration saved in /mnt/data0/jiayi/checkpoints/SPOT-R0-with_margin-data_full/checkpoint-4000/config.json\n",
      "/home/jiayi/Projects/SPOT/.venv/lib/python3.10/site-packages/torch/nn/modules/module.py:1402: UserWarning: positional arguments and argument \"destination\" are deprecated. nn.Module.state_dict will not accept them in the future. Refer to https://pytorch.org/docs/master/generated/torch.nn.Module.html#torch.nn.Module.state_dict for details.\n",
      "  warnings.warn(\n",
      "Model weights saved in /mnt/data0/jiayi/checkpoints/SPOT-R0-with_margin-data_full/checkpoint-4000/pytorch_model.bin\n",
      "tokenizer config file saved in /mnt/data0/jiayi/checkpoints/SPOT-R0-with_margin-data_full/checkpoint-4000/tokenizer_config.json\n",
      "Special tokens file saved in /mnt/data0/jiayi/checkpoints/SPOT-R0-with_margin-data_full/checkpoint-4000/special_tokens_map.json\n",
      "Deleting older checkpoint [/mnt/data0/jiayi/checkpoints/SPOT-R0-with_margin-data_full/checkpoint-2500] due to args.save_total_limit\n",
      "***** Running Evaluation *****\n",
      "  Num examples = 2698\n",
      "  Batch size = 64\n",
      "Saving model checkpoint to /mnt/data0/jiayi/checkpoints/SPOT-R0-with_margin-data_full/checkpoint-4500\n",
      "Configuration saved in /mnt/data0/jiayi/checkpoints/SPOT-R0-with_margin-data_full/checkpoint-4500/config.json\n",
      "/home/jiayi/Projects/SPOT/.venv/lib/python3.10/site-packages/torch/nn/modules/module.py:1402: UserWarning: positional arguments and argument \"destination\" are deprecated. nn.Module.state_dict will not accept them in the future. Refer to https://pytorch.org/docs/master/generated/torch.nn.Module.html#torch.nn.Module.state_dict for details.\n",
      "  warnings.warn(\n",
      "Model weights saved in /mnt/data0/jiayi/checkpoints/SPOT-R0-with_margin-data_full/checkpoint-4500/pytorch_model.bin\n",
      "tokenizer config file saved in /mnt/data0/jiayi/checkpoints/SPOT-R0-with_margin-data_full/checkpoint-4500/tokenizer_config.json\n",
      "Special tokens file saved in /mnt/data0/jiayi/checkpoints/SPOT-R0-with_margin-data_full/checkpoint-4500/special_tokens_map.json\n",
      "Deleting older checkpoint [/mnt/data0/jiayi/checkpoints/SPOT-R0-with_margin-data_full/checkpoint-3000] due to args.save_total_limit\n",
      "***** Running Evaluation *****\n",
      "  Num examples = 2698\n",
      "  Batch size = 64\n",
      "Saving model checkpoint to /mnt/data0/jiayi/checkpoints/SPOT-R0-with_margin-data_full/checkpoint-5000\n",
      "Configuration saved in /mnt/data0/jiayi/checkpoints/SPOT-R0-with_margin-data_full/checkpoint-5000/config.json\n",
      "/home/jiayi/Projects/SPOT/.venv/lib/python3.10/site-packages/torch/nn/modules/module.py:1402: UserWarning: positional arguments and argument \"destination\" are deprecated. nn.Module.state_dict will not accept them in the future. Refer to https://pytorch.org/docs/master/generated/torch.nn.Module.html#torch.nn.Module.state_dict for details.\n",
      "  warnings.warn(\n",
      "Model weights saved in /mnt/data0/jiayi/checkpoints/SPOT-R0-with_margin-data_full/checkpoint-5000/pytorch_model.bin\n",
      "tokenizer config file saved in /mnt/data0/jiayi/checkpoints/SPOT-R0-with_margin-data_full/checkpoint-5000/tokenizer_config.json\n",
      "Special tokens file saved in /mnt/data0/jiayi/checkpoints/SPOT-R0-with_margin-data_full/checkpoint-5000/special_tokens_map.json\n",
      "Deleting older checkpoint [/mnt/data0/jiayi/checkpoints/SPOT-R0-with_margin-data_full/checkpoint-3500] due to args.save_total_limit\n",
      "***** Running Evaluation *****\n",
      "  Num examples = 2698\n",
      "  Batch size = 64\n",
      "Saving model checkpoint to /mnt/data0/jiayi/checkpoints/SPOT-R0-with_margin-data_full/checkpoint-5500\n",
      "Configuration saved in /mnt/data0/jiayi/checkpoints/SPOT-R0-with_margin-data_full/checkpoint-5500/config.json\n",
      "/home/jiayi/Projects/SPOT/.venv/lib/python3.10/site-packages/torch/nn/modules/module.py:1402: UserWarning: positional arguments and argument \"destination\" are deprecated. nn.Module.state_dict will not accept them in the future. Refer to https://pytorch.org/docs/master/generated/torch.nn.Module.html#torch.nn.Module.state_dict for details.\n",
      "  warnings.warn(\n",
      "Model weights saved in /mnt/data0/jiayi/checkpoints/SPOT-R0-with_margin-data_full/checkpoint-5500/pytorch_model.bin\n",
      "tokenizer config file saved in /mnt/data0/jiayi/checkpoints/SPOT-R0-with_margin-data_full/checkpoint-5500/tokenizer_config.json\n",
      "Special tokens file saved in /mnt/data0/jiayi/checkpoints/SPOT-R0-with_margin-data_full/checkpoint-5500/special_tokens_map.json\n",
      "Deleting older checkpoint [/mnt/data0/jiayi/checkpoints/SPOT-R0-with_margin-data_full/checkpoint-4000] due to args.save_total_limit\n",
      "***** Running Evaluation *****\n",
      "  Num examples = 2698\n",
      "  Batch size = 64\n",
      "Saving model checkpoint to /mnt/data0/jiayi/checkpoints/SPOT-R0-with_margin-data_full/checkpoint-6000\n",
      "Configuration saved in /mnt/data0/jiayi/checkpoints/SPOT-R0-with_margin-data_full/checkpoint-6000/config.json\n",
      "/home/jiayi/Projects/SPOT/.venv/lib/python3.10/site-packages/torch/nn/modules/module.py:1402: UserWarning: positional arguments and argument \"destination\" are deprecated. nn.Module.state_dict will not accept them in the future. Refer to https://pytorch.org/docs/master/generated/torch.nn.Module.html#torch.nn.Module.state_dict for details.\n",
      "  warnings.warn(\n",
      "Model weights saved in /mnt/data0/jiayi/checkpoints/SPOT-R0-with_margin-data_full/checkpoint-6000/pytorch_model.bin\n",
      "tokenizer config file saved in /mnt/data0/jiayi/checkpoints/SPOT-R0-with_margin-data_full/checkpoint-6000/tokenizer_config.json\n",
      "Special tokens file saved in /mnt/data0/jiayi/checkpoints/SPOT-R0-with_margin-data_full/checkpoint-6000/special_tokens_map.json\n",
      "Deleting older checkpoint [/mnt/data0/jiayi/checkpoints/SPOT-R0-with_margin-data_full/checkpoint-5000] due to args.save_total_limit\n",
      "\n",
      "\n",
      "Training completed. Do not forget to share your model on huggingface.co/models =)\n",
      "\n",
      "\n",
      "Loading best model from /mnt/data0/jiayi/checkpoints/SPOT-R0-with_margin-data_full/checkpoint-4500 (score: 0.3244181275367737).\n"
     ]
    },
    {
     "name": "stdout",
     "output_type": "stream",
     "text": [
      "Pushover: (Finished: Training SPOT-R0-with_margin-data_full.) Time taken: 4452.1s\n"
     ]
    },
    {
     "name": "stderr",
     "output_type": "stream",
     "text": [
      "***** Running Evaluation *****\n",
      "  Num examples = 2698\n",
      "  Batch size = 64\n"
     ]
    },
    {
     "data": {
      "text/html": [
       "\n",
       "    <div>\n",
       "      \n",
       "      <progress value='43' max='43' style='width:300px; height:20px; vertical-align: middle;'></progress>\n",
       "      [43/43 01:11]\n",
       "    </div>\n",
       "    "
      ],
      "text/plain": [
       "<IPython.core.display.HTML object>"
      ]
     },
     "metadata": {},
     "output_type": "display_data"
    },
    {
     "name": "stdout",
     "output_type": "stream",
     "text": [
      "final eval loss: {'eval_loss': 0.3244181275367737, 'eval_runtime': 73.5595, 'eval_samples_per_second': 36.678, 'eval_steps_per_second': 0.585, 'epoch': 1.23}\n"
     ]
    },
    {
     "data": {
      "text/html": [
       "Waiting for W&B process to finish... <strong style=\"color:green\">(success).</strong>"
      ],
      "text/plain": [
       "<IPython.core.display.HTML object>"
      ]
     },
     "metadata": {},
     "output_type": "display_data"
    },
    {
     "data": {
      "application/vnd.jupyter.widget-view+json": {
       "model_id": "bbce0203066042858ab965ee115881f2",
       "version_major": 2,
       "version_minor": 0
      },
      "text/plain": [
       "VBox(children=(Label(value='0.001 MB of 0.001 MB uploaded (0.000 MB deduped)\\r'), FloatProgress(value=1.0, max…"
      ]
     },
     "metadata": {},
     "output_type": "display_data"
    },
    {
     "data": {
      "text/html": [
       "<style>\n",
       "    table.wandb td:nth-child(1) { padding: 0 10px; text-align: left ; width: auto;} td:nth-child(2) {text-align: left ; width: 100%}\n",
       "    .wandb-row { display: flex; flex-direction: row; flex-wrap: wrap; justify-content: flex-start; width: 100% }\n",
       "    .wandb-col { display: flex; flex-direction: column; flex-basis: 100%; flex: 1; padding: 10px; }\n",
       "    </style>\n",
       "<div class=\"wandb-row\"><div class=\"wandb-col\"><h3>Run history:</h3><br/><table class=\"wandb\"><tr><td>eval/loss</td><td>█▁▁▁▁▁▁▁▁▁▁▁▁▁</td></tr><tr><td>eval/runtime</td><td>▁▆▇▇▇██▇█▇▇▇▇▇</td></tr><tr><td>eval/samples_per_second</td><td>█▃▂▂▂▁▁▂▁▂▂▂▃▂</td></tr><tr><td>eval/steps_per_second</td><td>██████▁███████</td></tr><tr><td>train/epoch</td><td>▁▁▂▂▂▂▃▃▄▄▄▄▅▅▅▅▆▆▇▇▇▇████</td></tr><tr><td>train/global_step</td><td>▁▂▂▂▂▃▃▃▃▄▄▅▅▅▅▆▆▆▆▇▇▇▇████</td></tr><tr><td>train/learning_rate</td><td>█▇▇▆▅▅▄▄▃▂▂▁</td></tr><tr><td>train/loss</td><td>█▅▄▄▄▃▃▃▂▂▁▁</td></tr><tr><td>train/total_flos</td><td>▁</td></tr><tr><td>train/train_loss</td><td>▁</td></tr><tr><td>train/train_runtime</td><td>▁</td></tr><tr><td>train/train_samples_per_second</td><td>▁</td></tr><tr><td>train/train_steps_per_second</td><td>▁</td></tr></table><br/></div><div class=\"wandb-col\"><h3>Run summary:</h3><br/><table class=\"wandb\"><tr><td>eval/loss</td><td>0.32442</td></tr><tr><td>eval/runtime</td><td>73.5595</td></tr><tr><td>eval/samples_per_second</td><td>36.678</td></tr><tr><td>eval/steps_per_second</td><td>0.585</td></tr><tr><td>train/epoch</td><td>1.23</td></tr><tr><td>train/global_step</td><td>6000</td></tr><tr><td>train/learning_rate</td><td>1e-05</td></tr><tr><td>train/loss</td><td>0.2291</td></tr><tr><td>train/total_flos</td><td>5.845752166219776e+16</td></tr><tr><td>train/train_loss</td><td>0.32516</td></tr><tr><td>train/train_runtime</td><td>4378.5903</td></tr><tr><td>train/train_samples_per_second</td><td>26.758</td></tr><tr><td>train/train_steps_per_second</td><td>3.345</td></tr></table><br/></div></div>"
      ],
      "text/plain": [
       "<IPython.core.display.HTML object>"
      ]
     },
     "metadata": {},
     "output_type": "display_data"
    },
    {
     "data": {
      "text/html": [
       "Synced <strong style=\"color:#cdcd00\">resilient-pyramid-4</strong>: <a href=\"https://wandb.ai/mrvplusone/SPOT-R0-with_margin-data_full/runs/3bivcwnk\" target=\"_blank\">https://wandb.ai/mrvplusone/SPOT-R0-with_margin-data_full/runs/3bivcwnk</a><br/>Synced 5 W&B file(s), 0 media file(s), 0 artifact file(s) and 0 other file(s)"
      ],
      "text/plain": [
       "<IPython.core.display.HTML object>"
      ]
     },
     "metadata": {},
     "output_type": "display_data"
    },
    {
     "data": {
      "text/html": [
       "Find logs at: <code>/mnt/data0/jiayi/wandb/run-20220519_000841-3bivcwnk/logs</code>"
      ],
      "text/plain": [
       "<IPython.core.display.HTML object>"
      ]
     },
     "metadata": {},
     "output_type": "display_data"
    },
    {
     "name": "stderr",
     "output_type": "stream",
     "text": [
      "Configuration saved in /mnt/data0/jiayi/checkpoints/saved/SPOT-R0-with_margin-data_full/config.json\n",
      "/home/jiayi/Projects/SPOT/.venv/lib/python3.10/site-packages/torch/nn/modules/module.py:1402: UserWarning: positional arguments and argument \"destination\" are deprecated. nn.Module.state_dict will not accept them in the future. Refer to https://pytorch.org/docs/master/generated/torch.nn.Module.html#torch.nn.Module.state_dict for details.\n",
      "  warnings.warn(\n",
      "Model weights saved in /mnt/data0/jiayi/checkpoints/saved/SPOT-R0-with_margin-data_full/pytorch_model.bin\n",
      "tokenizer config file saved in /mnt/data0/jiayi/checkpoints/saved/SPOT-R0-with_margin-data_full/tokenizer_config.json\n",
      "Special tokens file saved in /mnt/data0/jiayi/checkpoints/saved/SPOT-R0-with_margin-data_full/special_tokens_map.json\n"
     ]
    }
   ],
   "source": [
    "import wandb\n",
    "from spot.model import ModelTrainingArgs\n",
    "\n",
    "r0_train_args = ModelTrainingArgs(\n",
    "    train_batch_size=8,\n",
    "    eval_batch_size=64,\n",
    "    max_epochs=3,\n",
    ")\n",
    "\n",
    "if train_r0:\n",
    "    r0_chunks: dict[str, ChunkedDataset] = {}\n",
    "    with run_long_task(\"Preparing chunked datasets\", notify=False):\n",
    "        for n in [\"valid\", \"train\"]:\n",
    "            r0_chunks[n] = src_datasets[n].to_chunks(\n",
    "                tokenizer, ctx_args, max_workers=20\n",
    "            )\n",
    "\n",
    "    n_train = len(r0_chunks[\"train\"].data) // data_reduction\n",
    "    r0_chunks[\"train\"] = r0_chunks[\"train\"][:n_train]\n",
    "\n",
    "    r0_trainer = r0_wrapper.build_trainer(\n",
    "        datadir / \"checkpoints\" / r0_model_name,\n",
    "        r0_train_args,\n",
    "        dataset=r0_chunks[\"train\"].data,\n",
    "        eval_dataset=r0_chunks[\"valid\"].data,\n",
    "    )\n",
    "\n",
    "    wandb.init(\n",
    "        project=r0_model_name,\n",
    "        dir=str(datadir),\n",
    "        config={\"r0_decoding_args\": r0_args, \"r0_train_args\": r0_train_args},\n",
    "    )\n",
    "\n",
    "    with run_long_task(f\"Training {r0_model_name}\"):\n",
    "        init_perf = r0_trainer.evaluate(max_length=r0_args.generation_max_length)\n",
    "        print(\"initial eval loss:\", init_perf)\n",
    "        r0_trainer.train()\n",
    "\n",
    "    wandb.log({\"time_stats\": r0_monitor.timer.total_times()})\n",
    "\n",
    "    final_perf = r0_trainer.evaluate(max_length=r0_args.generation_max_length)\n",
    "    print(\"final eval loss:\", final_perf)\n",
    "    wandb.finish()\n",
    "\n",
    "    r0_wrapper.save_pretrained(datadir / \"checkpoints/saved\" / r0_model_name)\n"
   ]
  },
  {
   "cell_type": "code",
   "execution_count": 6,
   "metadata": {},
   "outputs": [
    {
     "data": {
      "application/vnd.jupyter.widget-view+json": {
       "model_id": "3bfa38c4aff8477f842edbbcf5a4ac01",
       "version_major": 2,
       "version_minor": 0
      },
      "text/plain": [
       "processing chunks:   0%|          | 0/2615 [00:00<?, ?it/s]"
      ]
     },
     "metadata": {},
     "output_type": "display_data"
    },
    {
     "data": {
      "application/vnd.jupyter.widget-view+json": {
       "model_id": "ebb2323c9ddf4995b1cbe7e3aace3f9a",
       "version_major": 2,
       "version_minor": 0
      },
      "text/plain": [
       "predict:   0%|          | 0/2071 [00:00<?, ?it/s]"
      ]
     },
     "metadata": {},
     "output_type": "display_data"
    },
    {
     "name": "stdout",
     "output_type": "stream",
     "text": [
      "ctx_size factor: 1\n",
      "partial_acc: 84.18%\n",
      "partial_acc_wo_any: 84.74%\n",
      "partial_accs:\n",
      "   FuncArg: 83.76%\n",
      "   FuncReturn: 87.11%\n",
      "   ClassAtribute: 78.82%\n",
      "   GlobalVar: 87.50%\n",
      "   LocalVar: 85.43%\n",
      "full_acc: 78.28%\n",
      "full_accs:\n",
      "   FuncArg: 79.03%\n",
      "   FuncReturn: 82.46%\n",
      "   ClassAtribute: 70.40%\n",
      "   GlobalVar: 64.29%\n",
      "   LocalVar: 64.57%\n",
      "n_labels: 8425\n"
     ]
    },
    {
     "data": {
      "application/vnd.jupyter.widget-view+json": {
       "model_id": "039e9bcb645d49e48b6a50b1fe00304a",
       "version_major": 2,
       "version_minor": 0
      },
      "text/plain": [
       "processing chunks:   0%|          | 0/2615 [00:00<?, ?it/s]"
      ]
     },
     "metadata": {},
     "output_type": "display_data"
    },
    {
     "data": {
      "application/vnd.jupyter.widget-view+json": {
       "model_id": "4ce4df660ad74380acf5b9f8cd532d7d",
       "version_major": 2,
       "version_minor": 0
      },
      "text/plain": [
       "predict:   0%|          | 0/2070 [00:00<?, ?it/s]"
      ]
     },
     "metadata": {},
     "output_type": "display_data"
    },
    {
     "name": "stdout",
     "output_type": "stream",
     "text": [
      "ctx_size factor: 2\n",
      "partial_acc: 86.23%\n",
      "partial_acc_wo_any: 86.83%\n",
      "partial_accs:\n",
      "   FuncArg: 86.58%\n",
      "   FuncReturn: 88.15%\n",
      "   ClassAtribute: 81.06%\n",
      "   GlobalVar: 80.36%\n",
      "   LocalVar: 88.10%\n",
      "full_acc: 81.21%\n",
      "full_accs:\n",
      "   FuncArg: 82.74%\n",
      "   FuncReturn: 83.92%\n",
      "   ClassAtribute: 73.83%\n",
      "   GlobalVar: 60.71%\n",
      "   LocalVar: 70.63%\n",
      "n_labels: 8418\n"
     ]
    },
    {
     "data": {
      "application/vnd.jupyter.widget-view+json": {
       "model_id": "b5e157d68e2a4917a413ed4d188fde9d",
       "version_major": 2,
       "version_minor": 0
      },
      "text/plain": [
       "processing chunks:   0%|          | 0/2615 [00:00<?, ?it/s]"
      ]
     },
     "metadata": {},
     "output_type": "display_data"
    },
    {
     "data": {
      "application/vnd.jupyter.widget-view+json": {
       "model_id": "431df8c8e8204f3786b48150b52e9d37",
       "version_major": 2,
       "version_minor": 0
      },
      "text/plain": [
       "predict:   0%|          | 0/2070 [00:00<?, ?it/s]"
      ]
     },
     "metadata": {},
     "output_type": "display_data"
    },
    {
     "ename": "KeyboardInterrupt",
     "evalue": "",
     "output_type": "error",
     "traceback": [
      "\u001b[0;31m---------------------------------------------------------------------------\u001b[0m",
      "\u001b[0;31mKeyboardInterrupt\u001b[0m                         Traceback (most recent call last)",
      "\u001b[1;32m/home/jiayi/Projects/SPOT/scripts/train_r0.ipynb Cell 5'\u001b[0m in \u001b[0;36m<cell line: 4>\u001b[0;34m()\u001b[0m\n\u001b[1;32m      <a href='vscode-notebook-cell://ssh-remote%2Butopia3/home/jiayi/Projects/SPOT/scripts/train_r0.ipynb#ch0000004vscode-remote?line=6'>7</a>\u001b[0m wrapper \u001b[39m=\u001b[39m r0_wrapper\u001b[39m.\u001b[39mscale_ctx_size(factor)\n\u001b[1;32m      <a href='vscode-notebook-cell://ssh-remote%2Butopia3/home/jiayi/Projects/SPOT/scripts/train_r0.ipynb#ch0000004vscode-remote?line=7'>8</a>\u001b[0m wrapper\u001b[39m.\u001b[39margs\u001b[39m.\u001b[39mctx_args\u001b[39m.\u001b[39mtypes_in_ctx \u001b[39m=\u001b[39m \u001b[39mTrue\u001b[39;00m\n\u001b[0;32m----> <a href='vscode-notebook-cell://ssh-remote%2Butopia3/home/jiayi/Projects/SPOT/scripts/train_r0.ipynb#ch0000004vscode-remote?line=8'>9</a>\u001b[0m accs \u001b[39m=\u001b[39m wrapper\u001b[39m.\u001b[39;49meval_on_dataset(\n\u001b[1;32m     <a href='vscode-notebook-cell://ssh-remote%2Butopia3/home/jiayi/Projects/SPOT/scripts/train_r0.ipynb#ch0000004vscode-remote?line=9'>10</a>\u001b[0m     src_datasets[\u001b[39m\"\u001b[39;49m\u001b[39mtest\u001b[39;49m\u001b[39m\"\u001b[39;49m], tqdm_args\u001b[39m=\u001b[39;49m{\u001b[39m\"\u001b[39;49m\u001b[39mleave\u001b[39;49m\u001b[39m\"\u001b[39;49m: \u001b[39mFalse\u001b[39;49;00m}\n\u001b[1;32m     <a href='vscode-notebook-cell://ssh-remote%2Butopia3/home/jiayi/Projects/SPOT/scripts/train_r0.ipynb#ch0000004vscode-remote?line=10'>11</a>\u001b[0m )[\u001b[39m0\u001b[39m]\n\u001b[1;32m     <a href='vscode-notebook-cell://ssh-remote%2Butopia3/home/jiayi/Projects/SPOT/scripts/train_r0.ipynb#ch0000004vscode-remote?line=11'>12</a>\u001b[0m acc_series\u001b[39m.\u001b[39mappend(accs)\n\u001b[1;32m     <a href='vscode-notebook-cell://ssh-remote%2Butopia3/home/jiayi/Projects/SPOT/scripts/train_r0.ipynb#ch0000004vscode-remote?line=12'>13</a>\u001b[0m \u001b[39mprint\u001b[39m(\u001b[39mf\u001b[39m\u001b[39m\"\u001b[39m\u001b[39mctx_size factor: \u001b[39m\u001b[39m{\u001b[39;00mfactor\u001b[39m}\u001b[39;00m\u001b[39m\"\u001b[39m)\n",
      "File \u001b[0;32m~/Projects/SPOT/src/spot/model.py:132\u001b[0m, in \u001b[0;36mModelWrapper.eval_on_dataset\u001b[0;34m(self, src_data, tqdm_args)\u001b[0m\n\u001b[1;32m    <a href='file:///home/jiayi/Projects/SPOT/src/spot/model.py?line=124'>125</a>\u001b[0m \u001b[39m\"\"\"Convinient method to preprocess the src according to the model's ctx_args and evaluate the (R0) accuracy.\"\"\"\u001b[39;00m\n\u001b[1;32m    <a href='file:///home/jiayi/Projects/SPOT/src/spot/model.py?line=125'>126</a>\u001b[0m data \u001b[39m=\u001b[39m src_data\u001b[39m.\u001b[39mto_chunks(\n\u001b[1;32m    <a href='file:///home/jiayi/Projects/SPOT/src/spot/model.py?line=126'>127</a>\u001b[0m     \u001b[39mself\u001b[39m\u001b[39m.\u001b[39mtokenizer,\n\u001b[1;32m    <a href='file:///home/jiayi/Projects/SPOT/src/spot/model.py?line=127'>128</a>\u001b[0m     \u001b[39mself\u001b[39m\u001b[39m.\u001b[39margs\u001b[39m.\u001b[39mctx_args,\n\u001b[1;32m    <a href='file:///home/jiayi/Projects/SPOT/src/spot/model.py?line=128'>129</a>\u001b[0m     max_workers\u001b[39m=\u001b[39m\u001b[39mself\u001b[39m\u001b[39m.\u001b[39margs\u001b[39m.\u001b[39mmax_workers,\n\u001b[1;32m    <a href='file:///home/jiayi/Projects/SPOT/src/spot/model.py?line=129'>130</a>\u001b[0m     tqdm_args\u001b[39m=\u001b[39mtqdm_args,\n\u001b[1;32m    <a href='file:///home/jiayi/Projects/SPOT/src/spot/model.py?line=130'>131</a>\u001b[0m )\n\u001b[0;32m--> <a href='file:///home/jiayi/Projects/SPOT/src/spot/model.py?line=131'>132</a>\u001b[0m preds \u001b[39m=\u001b[39m \u001b[39mself\u001b[39;49m\u001b[39m.\u001b[39;49mpredict(data, tqdm_args\u001b[39m=\u001b[39;49mtqdm_args)\n\u001b[1;32m    <a href='file:///home/jiayi/Projects/SPOT/src/spot/model.py?line=132'>133</a>\u001b[0m accs \u001b[39m=\u001b[39m preds_to_accuracies(preds, data)\n\u001b[1;32m    <a href='file:///home/jiayi/Projects/SPOT/src/spot/model.py?line=133'>134</a>\u001b[0m \u001b[39mreturn\u001b[39;00m (accs, data, preds)\n",
      "File \u001b[0;32m~/Projects/SPOT/src/spot/model.py:83\u001b[0m, in \u001b[0;36mModelWrapper.predict\u001b[0;34m(self, dataset, tqdm_args)\u001b[0m\n\u001b[1;32m     <a href='file:///home/jiayi/Projects/SPOT/src/spot/model.py?line=80'>81</a>\u001b[0m chunk_id \u001b[39m=\u001b[39m \u001b[39m0\u001b[39m\n\u001b[1;32m     <a href='file:///home/jiayi/Projects/SPOT/src/spot/model.py?line=81'>82</a>\u001b[0m \u001b[39mfor\u001b[39;00m batch \u001b[39min\u001b[39;00m loader:\n\u001b[0;32m---> <a href='file:///home/jiayi/Projects/SPOT/src/spot/model.py?line=82'>83</a>\u001b[0m     output_ids \u001b[39m=\u001b[39m model\u001b[39m.\u001b[39;49mgenerate(\n\u001b[1;32m     <a href='file:///home/jiayi/Projects/SPOT/src/spot/model.py?line=83'>84</a>\u001b[0m         inputs\u001b[39m=\u001b[39;49mbatch[\u001b[39m\"\u001b[39;49m\u001b[39minput_ids\u001b[39;49m\u001b[39m\"\u001b[39;49m]\u001b[39m.\u001b[39;49mto(device),\n\u001b[1;32m     <a href='file:///home/jiayi/Projects/SPOT/src/spot/model.py?line=84'>85</a>\u001b[0m         do_sample\u001b[39m=\u001b[39;49m\u001b[39mTrue\u001b[39;49;00m,\n\u001b[1;32m     <a href='file:///home/jiayi/Projects/SPOT/src/spot/model.py?line=85'>86</a>\u001b[0m         top_p\u001b[39m=\u001b[39;49m\u001b[39mself\u001b[39;49m\u001b[39m.\u001b[39;49margs\u001b[39m.\u001b[39;49mtop_p,\n\u001b[1;32m     <a href='file:///home/jiayi/Projects/SPOT/src/spot/model.py?line=86'>87</a>\u001b[0m         max_length\u001b[39m=\u001b[39;49m\u001b[39mself\u001b[39;49m\u001b[39m.\u001b[39;49margs\u001b[39m.\u001b[39;49mgeneration_max_length,\n\u001b[1;32m     <a href='file:///home/jiayi/Projects/SPOT/src/spot/model.py?line=87'>88</a>\u001b[0m     )\u001b[39m.\u001b[39mcpu()  \u001b[39m# type: ignore\u001b[39;00m\n\u001b[1;32m     <a href='file:///home/jiayi/Projects/SPOT/src/spot/model.py?line=88'>89</a>\u001b[0m     \u001b[39massert\u001b[39;00m \u001b[39mlen\u001b[39m(output_ids\u001b[39m.\u001b[39mshape) \u001b[39m==\u001b[39m \u001b[39m2\u001b[39m\n\u001b[1;32m     <a href='file:///home/jiayi/Projects/SPOT/src/spot/model.py?line=90'>91</a>\u001b[0m     n_chunks \u001b[39m=\u001b[39m output_ids\u001b[39m.\u001b[39mshape[\u001b[39m0\u001b[39m]\n",
      "File \u001b[0;32m~/Projects/SPOT/.venv/lib/python3.10/site-packages/torch/autograd/grad_mode.py:27\u001b[0m, in \u001b[0;36m_DecoratorContextManager.__call__.<locals>.decorate_context\u001b[0;34m(*args, **kwargs)\u001b[0m\n\u001b[1;32m     <a href='file:///home/jiayi/Projects/SPOT/.venv/lib/python3.10/site-packages/torch/autograd/grad_mode.py?line=23'>24</a>\u001b[0m \u001b[39m@functools\u001b[39m\u001b[39m.\u001b[39mwraps(func)\n\u001b[1;32m     <a href='file:///home/jiayi/Projects/SPOT/.venv/lib/python3.10/site-packages/torch/autograd/grad_mode.py?line=24'>25</a>\u001b[0m \u001b[39mdef\u001b[39;00m \u001b[39mdecorate_context\u001b[39m(\u001b[39m*\u001b[39margs, \u001b[39m*\u001b[39m\u001b[39m*\u001b[39mkwargs):\n\u001b[1;32m     <a href='file:///home/jiayi/Projects/SPOT/.venv/lib/python3.10/site-packages/torch/autograd/grad_mode.py?line=25'>26</a>\u001b[0m     \u001b[39mwith\u001b[39;00m \u001b[39mself\u001b[39m\u001b[39m.\u001b[39mclone():\n\u001b[0;32m---> <a href='file:///home/jiayi/Projects/SPOT/.venv/lib/python3.10/site-packages/torch/autograd/grad_mode.py?line=26'>27</a>\u001b[0m         \u001b[39mreturn\u001b[39;00m func(\u001b[39m*\u001b[39;49margs, \u001b[39m*\u001b[39;49m\u001b[39m*\u001b[39;49mkwargs)\n",
      "File \u001b[0;32m~/Projects/SPOT/.venv/lib/python3.10/site-packages/transformers/generation_utils.py:1281\u001b[0m, in \u001b[0;36mGenerationMixin.generate\u001b[0;34m(self, inputs, max_length, min_length, do_sample, early_stopping, num_beams, temperature, top_k, top_p, typical_p, repetition_penalty, bad_words_ids, force_words_ids, bos_token_id, pad_token_id, eos_token_id, length_penalty, no_repeat_ngram_size, encoder_no_repeat_ngram_size, num_return_sequences, max_time, max_new_tokens, decoder_start_token_id, use_cache, num_beam_groups, diversity_penalty, prefix_allowed_tokens_fn, logits_processor, stopping_criteria, constraints, output_attentions, output_hidden_states, output_scores, return_dict_in_generate, forced_bos_token_id, forced_eos_token_id, remove_invalid_values, synced_gpus, exponential_decay_length_penalty, **model_kwargs)\u001b[0m\n\u001b[1;32m   <a href='file:///home/jiayi/Projects/SPOT/.venv/lib/python3.10/site-packages/transformers/generation_utils.py?line=1272'>1273</a>\u001b[0m     input_ids, model_kwargs \u001b[39m=\u001b[39m \u001b[39mself\u001b[39m\u001b[39m.\u001b[39m_expand_inputs_for_generation(\n\u001b[1;32m   <a href='file:///home/jiayi/Projects/SPOT/.venv/lib/python3.10/site-packages/transformers/generation_utils.py?line=1273'>1274</a>\u001b[0m         input_ids,\n\u001b[1;32m   <a href='file:///home/jiayi/Projects/SPOT/.venv/lib/python3.10/site-packages/transformers/generation_utils.py?line=1274'>1275</a>\u001b[0m         expand_size\u001b[39m=\u001b[39mnum_return_sequences,\n\u001b[1;32m   <a href='file:///home/jiayi/Projects/SPOT/.venv/lib/python3.10/site-packages/transformers/generation_utils.py?line=1275'>1276</a>\u001b[0m         is_encoder_decoder\u001b[39m=\u001b[39m\u001b[39mself\u001b[39m\u001b[39m.\u001b[39mconfig\u001b[39m.\u001b[39mis_encoder_decoder,\n\u001b[1;32m   <a href='file:///home/jiayi/Projects/SPOT/.venv/lib/python3.10/site-packages/transformers/generation_utils.py?line=1276'>1277</a>\u001b[0m         \u001b[39m*\u001b[39m\u001b[39m*\u001b[39mmodel_kwargs,\n\u001b[1;32m   <a href='file:///home/jiayi/Projects/SPOT/.venv/lib/python3.10/site-packages/transformers/generation_utils.py?line=1277'>1278</a>\u001b[0m     )\n\u001b[1;32m   <a href='file:///home/jiayi/Projects/SPOT/.venv/lib/python3.10/site-packages/transformers/generation_utils.py?line=1279'>1280</a>\u001b[0m     \u001b[39m# 12. run sample\u001b[39;00m\n\u001b[0;32m-> <a href='file:///home/jiayi/Projects/SPOT/.venv/lib/python3.10/site-packages/transformers/generation_utils.py?line=1280'>1281</a>\u001b[0m     \u001b[39mreturn\u001b[39;00m \u001b[39mself\u001b[39;49m\u001b[39m.\u001b[39;49msample(\n\u001b[1;32m   <a href='file:///home/jiayi/Projects/SPOT/.venv/lib/python3.10/site-packages/transformers/generation_utils.py?line=1281'>1282</a>\u001b[0m         input_ids,\n\u001b[1;32m   <a href='file:///home/jiayi/Projects/SPOT/.venv/lib/python3.10/site-packages/transformers/generation_utils.py?line=1282'>1283</a>\u001b[0m         logits_processor\u001b[39m=\u001b[39;49mlogits_processor,\n\u001b[1;32m   <a href='file:///home/jiayi/Projects/SPOT/.venv/lib/python3.10/site-packages/transformers/generation_utils.py?line=1283'>1284</a>\u001b[0m         logits_warper\u001b[39m=\u001b[39;49mlogits_warper,\n\u001b[1;32m   <a href='file:///home/jiayi/Projects/SPOT/.venv/lib/python3.10/site-packages/transformers/generation_utils.py?line=1284'>1285</a>\u001b[0m         stopping_criteria\u001b[39m=\u001b[39;49mstopping_criteria,\n\u001b[1;32m   <a href='file:///home/jiayi/Projects/SPOT/.venv/lib/python3.10/site-packages/transformers/generation_utils.py?line=1285'>1286</a>\u001b[0m         pad_token_id\u001b[39m=\u001b[39;49mpad_token_id,\n\u001b[1;32m   <a href='file:///home/jiayi/Projects/SPOT/.venv/lib/python3.10/site-packages/transformers/generation_utils.py?line=1286'>1287</a>\u001b[0m         eos_token_id\u001b[39m=\u001b[39;49meos_token_id,\n\u001b[1;32m   <a href='file:///home/jiayi/Projects/SPOT/.venv/lib/python3.10/site-packages/transformers/generation_utils.py?line=1287'>1288</a>\u001b[0m         output_scores\u001b[39m=\u001b[39;49moutput_scores,\n\u001b[1;32m   <a href='file:///home/jiayi/Projects/SPOT/.venv/lib/python3.10/site-packages/transformers/generation_utils.py?line=1288'>1289</a>\u001b[0m         return_dict_in_generate\u001b[39m=\u001b[39;49mreturn_dict_in_generate,\n\u001b[1;32m   <a href='file:///home/jiayi/Projects/SPOT/.venv/lib/python3.10/site-packages/transformers/generation_utils.py?line=1289'>1290</a>\u001b[0m         synced_gpus\u001b[39m=\u001b[39;49msynced_gpus,\n\u001b[1;32m   <a href='file:///home/jiayi/Projects/SPOT/.venv/lib/python3.10/site-packages/transformers/generation_utils.py?line=1290'>1291</a>\u001b[0m         \u001b[39m*\u001b[39;49m\u001b[39m*\u001b[39;49mmodel_kwargs,\n\u001b[1;32m   <a href='file:///home/jiayi/Projects/SPOT/.venv/lib/python3.10/site-packages/transformers/generation_utils.py?line=1291'>1292</a>\u001b[0m     )\n\u001b[1;32m   <a href='file:///home/jiayi/Projects/SPOT/.venv/lib/python3.10/site-packages/transformers/generation_utils.py?line=1293'>1294</a>\u001b[0m \u001b[39melif\u001b[39;00m is_beam_gen_mode:\n\u001b[1;32m   <a href='file:///home/jiayi/Projects/SPOT/.venv/lib/python3.10/site-packages/transformers/generation_utils.py?line=1294'>1295</a>\u001b[0m     \u001b[39mif\u001b[39;00m num_return_sequences \u001b[39m>\u001b[39m num_beams:\n",
      "File \u001b[0;32m~/Projects/SPOT/.venv/lib/python3.10/site-packages/transformers/generation_utils.py:1892\u001b[0m, in \u001b[0;36mGenerationMixin.sample\u001b[0;34m(self, input_ids, logits_processor, stopping_criteria, logits_warper, max_length, pad_token_id, eos_token_id, output_attentions, output_hidden_states, output_scores, return_dict_in_generate, synced_gpus, **model_kwargs)\u001b[0m\n\u001b[1;32m   <a href='file:///home/jiayi/Projects/SPOT/.venv/lib/python3.10/site-packages/transformers/generation_utils.py?line=1888'>1889</a>\u001b[0m model_inputs \u001b[39m=\u001b[39m \u001b[39mself\u001b[39m\u001b[39m.\u001b[39mprepare_inputs_for_generation(input_ids, \u001b[39m*\u001b[39m\u001b[39m*\u001b[39mmodel_kwargs)\n\u001b[1;32m   <a href='file:///home/jiayi/Projects/SPOT/.venv/lib/python3.10/site-packages/transformers/generation_utils.py?line=1890'>1891</a>\u001b[0m \u001b[39m# forward pass to get next token\u001b[39;00m\n\u001b[0;32m-> <a href='file:///home/jiayi/Projects/SPOT/.venv/lib/python3.10/site-packages/transformers/generation_utils.py?line=1891'>1892</a>\u001b[0m outputs \u001b[39m=\u001b[39m \u001b[39mself\u001b[39;49m(\n\u001b[1;32m   <a href='file:///home/jiayi/Projects/SPOT/.venv/lib/python3.10/site-packages/transformers/generation_utils.py?line=1892'>1893</a>\u001b[0m     \u001b[39m*\u001b[39;49m\u001b[39m*\u001b[39;49mmodel_inputs,\n\u001b[1;32m   <a href='file:///home/jiayi/Projects/SPOT/.venv/lib/python3.10/site-packages/transformers/generation_utils.py?line=1893'>1894</a>\u001b[0m     return_dict\u001b[39m=\u001b[39;49m\u001b[39mTrue\u001b[39;49;00m,\n\u001b[1;32m   <a href='file:///home/jiayi/Projects/SPOT/.venv/lib/python3.10/site-packages/transformers/generation_utils.py?line=1894'>1895</a>\u001b[0m     output_attentions\u001b[39m=\u001b[39;49moutput_attentions,\n\u001b[1;32m   <a href='file:///home/jiayi/Projects/SPOT/.venv/lib/python3.10/site-packages/transformers/generation_utils.py?line=1895'>1896</a>\u001b[0m     output_hidden_states\u001b[39m=\u001b[39;49moutput_hidden_states,\n\u001b[1;32m   <a href='file:///home/jiayi/Projects/SPOT/.venv/lib/python3.10/site-packages/transformers/generation_utils.py?line=1896'>1897</a>\u001b[0m )\n\u001b[1;32m   <a href='file:///home/jiayi/Projects/SPOT/.venv/lib/python3.10/site-packages/transformers/generation_utils.py?line=1898'>1899</a>\u001b[0m \u001b[39mif\u001b[39;00m synced_gpus \u001b[39mand\u001b[39;00m this_peer_finished:\n\u001b[1;32m   <a href='file:///home/jiayi/Projects/SPOT/.venv/lib/python3.10/site-packages/transformers/generation_utils.py?line=1899'>1900</a>\u001b[0m     cur_len \u001b[39m=\u001b[39m cur_len \u001b[39m+\u001b[39m \u001b[39m1\u001b[39m\n",
      "File \u001b[0;32m~/Projects/SPOT/.venv/lib/python3.10/site-packages/torch/nn/modules/module.py:1129\u001b[0m, in \u001b[0;36mModule._call_impl\u001b[0;34m(self, *input, **kwargs)\u001b[0m\n\u001b[1;32m   <a href='file:///home/jiayi/Projects/SPOT/.venv/lib/python3.10/site-packages/torch/nn/modules/module.py?line=1124'>1125</a>\u001b[0m \u001b[39m# If we don't have any hooks, we want to skip the rest of the logic in\u001b[39;00m\n\u001b[1;32m   <a href='file:///home/jiayi/Projects/SPOT/.venv/lib/python3.10/site-packages/torch/nn/modules/module.py?line=1125'>1126</a>\u001b[0m \u001b[39m# this function, and just call forward.\u001b[39;00m\n\u001b[1;32m   <a href='file:///home/jiayi/Projects/SPOT/.venv/lib/python3.10/site-packages/torch/nn/modules/module.py?line=1126'>1127</a>\u001b[0m \u001b[39mif\u001b[39;00m \u001b[39mnot\u001b[39;00m (\u001b[39mself\u001b[39m\u001b[39m.\u001b[39m_backward_hooks \u001b[39mor\u001b[39;00m \u001b[39mself\u001b[39m\u001b[39m.\u001b[39m_forward_hooks \u001b[39mor\u001b[39;00m \u001b[39mself\u001b[39m\u001b[39m.\u001b[39m_forward_pre_hooks \u001b[39mor\u001b[39;00m _global_backward_hooks\n\u001b[1;32m   <a href='file:///home/jiayi/Projects/SPOT/.venv/lib/python3.10/site-packages/torch/nn/modules/module.py?line=1127'>1128</a>\u001b[0m         \u001b[39mor\u001b[39;00m _global_forward_hooks \u001b[39mor\u001b[39;00m _global_forward_pre_hooks):\n\u001b[0;32m-> <a href='file:///home/jiayi/Projects/SPOT/.venv/lib/python3.10/site-packages/torch/nn/modules/module.py?line=1128'>1129</a>\u001b[0m     \u001b[39mreturn\u001b[39;00m forward_call(\u001b[39m*\u001b[39;49m\u001b[39minput\u001b[39;49m, \u001b[39m*\u001b[39;49m\u001b[39m*\u001b[39;49mkwargs)\n\u001b[1;32m   <a href='file:///home/jiayi/Projects/SPOT/.venv/lib/python3.10/site-packages/torch/nn/modules/module.py?line=1129'>1130</a>\u001b[0m \u001b[39m# Do not call functions when jit is used\u001b[39;00m\n\u001b[1;32m   <a href='file:///home/jiayi/Projects/SPOT/.venv/lib/python3.10/site-packages/torch/nn/modules/module.py?line=1130'>1131</a>\u001b[0m full_backward_hooks, non_full_backward_hooks \u001b[39m=\u001b[39m [], []\n",
      "File \u001b[0;32m~/Projects/SPOT/.venv/lib/python3.10/site-packages/transformers/models/t5/modeling_t5.py:1638\u001b[0m, in \u001b[0;36mT5ForConditionalGeneration.forward\u001b[0;34m(self, input_ids, attention_mask, decoder_input_ids, decoder_attention_mask, head_mask, decoder_head_mask, cross_attn_head_mask, encoder_outputs, past_key_values, inputs_embeds, decoder_inputs_embeds, labels, use_cache, output_attentions, output_hidden_states, return_dict)\u001b[0m\n\u001b[1;32m   <a href='file:///home/jiayi/Projects/SPOT/.venv/lib/python3.10/site-packages/transformers/models/t5/modeling_t5.py?line=1634'>1635</a>\u001b[0m         decoder_attention_mask \u001b[39m=\u001b[39m decoder_attention_mask\u001b[39m.\u001b[39mto(\u001b[39mself\u001b[39m\u001b[39m.\u001b[39mdecoder\u001b[39m.\u001b[39mfirst_device)\n\u001b[1;32m   <a href='file:///home/jiayi/Projects/SPOT/.venv/lib/python3.10/site-packages/transformers/models/t5/modeling_t5.py?line=1636'>1637</a>\u001b[0m \u001b[39m# Decode\u001b[39;00m\n\u001b[0;32m-> <a href='file:///home/jiayi/Projects/SPOT/.venv/lib/python3.10/site-packages/transformers/models/t5/modeling_t5.py?line=1637'>1638</a>\u001b[0m decoder_outputs \u001b[39m=\u001b[39m \u001b[39mself\u001b[39;49m\u001b[39m.\u001b[39;49mdecoder(\n\u001b[1;32m   <a href='file:///home/jiayi/Projects/SPOT/.venv/lib/python3.10/site-packages/transformers/models/t5/modeling_t5.py?line=1638'>1639</a>\u001b[0m     input_ids\u001b[39m=\u001b[39;49mdecoder_input_ids,\n\u001b[1;32m   <a href='file:///home/jiayi/Projects/SPOT/.venv/lib/python3.10/site-packages/transformers/models/t5/modeling_t5.py?line=1639'>1640</a>\u001b[0m     attention_mask\u001b[39m=\u001b[39;49mdecoder_attention_mask,\n\u001b[1;32m   <a href='file:///home/jiayi/Projects/SPOT/.venv/lib/python3.10/site-packages/transformers/models/t5/modeling_t5.py?line=1640'>1641</a>\u001b[0m     inputs_embeds\u001b[39m=\u001b[39;49mdecoder_inputs_embeds,\n\u001b[1;32m   <a href='file:///home/jiayi/Projects/SPOT/.venv/lib/python3.10/site-packages/transformers/models/t5/modeling_t5.py?line=1641'>1642</a>\u001b[0m     past_key_values\u001b[39m=\u001b[39;49mpast_key_values,\n\u001b[1;32m   <a href='file:///home/jiayi/Projects/SPOT/.venv/lib/python3.10/site-packages/transformers/models/t5/modeling_t5.py?line=1642'>1643</a>\u001b[0m     encoder_hidden_states\u001b[39m=\u001b[39;49mhidden_states,\n\u001b[1;32m   <a href='file:///home/jiayi/Projects/SPOT/.venv/lib/python3.10/site-packages/transformers/models/t5/modeling_t5.py?line=1643'>1644</a>\u001b[0m     encoder_attention_mask\u001b[39m=\u001b[39;49mattention_mask,\n\u001b[1;32m   <a href='file:///home/jiayi/Projects/SPOT/.venv/lib/python3.10/site-packages/transformers/models/t5/modeling_t5.py?line=1644'>1645</a>\u001b[0m     head_mask\u001b[39m=\u001b[39;49mdecoder_head_mask,\n\u001b[1;32m   <a href='file:///home/jiayi/Projects/SPOT/.venv/lib/python3.10/site-packages/transformers/models/t5/modeling_t5.py?line=1645'>1646</a>\u001b[0m     cross_attn_head_mask\u001b[39m=\u001b[39;49mcross_attn_head_mask,\n\u001b[1;32m   <a href='file:///home/jiayi/Projects/SPOT/.venv/lib/python3.10/site-packages/transformers/models/t5/modeling_t5.py?line=1646'>1647</a>\u001b[0m     use_cache\u001b[39m=\u001b[39;49muse_cache,\n\u001b[1;32m   <a href='file:///home/jiayi/Projects/SPOT/.venv/lib/python3.10/site-packages/transformers/models/t5/modeling_t5.py?line=1647'>1648</a>\u001b[0m     output_attentions\u001b[39m=\u001b[39;49moutput_attentions,\n\u001b[1;32m   <a href='file:///home/jiayi/Projects/SPOT/.venv/lib/python3.10/site-packages/transformers/models/t5/modeling_t5.py?line=1648'>1649</a>\u001b[0m     output_hidden_states\u001b[39m=\u001b[39;49moutput_hidden_states,\n\u001b[1;32m   <a href='file:///home/jiayi/Projects/SPOT/.venv/lib/python3.10/site-packages/transformers/models/t5/modeling_t5.py?line=1649'>1650</a>\u001b[0m     return_dict\u001b[39m=\u001b[39;49mreturn_dict,\n\u001b[1;32m   <a href='file:///home/jiayi/Projects/SPOT/.venv/lib/python3.10/site-packages/transformers/models/t5/modeling_t5.py?line=1650'>1651</a>\u001b[0m )\n\u001b[1;32m   <a href='file:///home/jiayi/Projects/SPOT/.venv/lib/python3.10/site-packages/transformers/models/t5/modeling_t5.py?line=1652'>1653</a>\u001b[0m sequence_output \u001b[39m=\u001b[39m decoder_outputs[\u001b[39m0\u001b[39m]\n\u001b[1;32m   <a href='file:///home/jiayi/Projects/SPOT/.venv/lib/python3.10/site-packages/transformers/models/t5/modeling_t5.py?line=1654'>1655</a>\u001b[0m \u001b[39m# Set device for model parallelism\u001b[39;00m\n",
      "File \u001b[0;32m~/Projects/SPOT/.venv/lib/python3.10/site-packages/torch/nn/modules/module.py:1129\u001b[0m, in \u001b[0;36mModule._call_impl\u001b[0;34m(self, *input, **kwargs)\u001b[0m\n\u001b[1;32m   <a href='file:///home/jiayi/Projects/SPOT/.venv/lib/python3.10/site-packages/torch/nn/modules/module.py?line=1124'>1125</a>\u001b[0m \u001b[39m# If we don't have any hooks, we want to skip the rest of the logic in\u001b[39;00m\n\u001b[1;32m   <a href='file:///home/jiayi/Projects/SPOT/.venv/lib/python3.10/site-packages/torch/nn/modules/module.py?line=1125'>1126</a>\u001b[0m \u001b[39m# this function, and just call forward.\u001b[39;00m\n\u001b[1;32m   <a href='file:///home/jiayi/Projects/SPOT/.venv/lib/python3.10/site-packages/torch/nn/modules/module.py?line=1126'>1127</a>\u001b[0m \u001b[39mif\u001b[39;00m \u001b[39mnot\u001b[39;00m (\u001b[39mself\u001b[39m\u001b[39m.\u001b[39m_backward_hooks \u001b[39mor\u001b[39;00m \u001b[39mself\u001b[39m\u001b[39m.\u001b[39m_forward_hooks \u001b[39mor\u001b[39;00m \u001b[39mself\u001b[39m\u001b[39m.\u001b[39m_forward_pre_hooks \u001b[39mor\u001b[39;00m _global_backward_hooks\n\u001b[1;32m   <a href='file:///home/jiayi/Projects/SPOT/.venv/lib/python3.10/site-packages/torch/nn/modules/module.py?line=1127'>1128</a>\u001b[0m         \u001b[39mor\u001b[39;00m _global_forward_hooks \u001b[39mor\u001b[39;00m _global_forward_pre_hooks):\n\u001b[0;32m-> <a href='file:///home/jiayi/Projects/SPOT/.venv/lib/python3.10/site-packages/torch/nn/modules/module.py?line=1128'>1129</a>\u001b[0m     \u001b[39mreturn\u001b[39;00m forward_call(\u001b[39m*\u001b[39;49m\u001b[39minput\u001b[39;49m, \u001b[39m*\u001b[39;49m\u001b[39m*\u001b[39;49mkwargs)\n\u001b[1;32m   <a href='file:///home/jiayi/Projects/SPOT/.venv/lib/python3.10/site-packages/torch/nn/modules/module.py?line=1129'>1130</a>\u001b[0m \u001b[39m# Do not call functions when jit is used\u001b[39;00m\n\u001b[1;32m   <a href='file:///home/jiayi/Projects/SPOT/.venv/lib/python3.10/site-packages/torch/nn/modules/module.py?line=1130'>1131</a>\u001b[0m full_backward_hooks, non_full_backward_hooks \u001b[39m=\u001b[39m [], []\n",
      "File \u001b[0;32m~/Projects/SPOT/.venv/lib/python3.10/site-packages/transformers/models/t5/modeling_t5.py:1033\u001b[0m, in \u001b[0;36mT5Stack.forward\u001b[0;34m(self, input_ids, attention_mask, encoder_hidden_states, encoder_attention_mask, inputs_embeds, head_mask, cross_attn_head_mask, past_key_values, use_cache, output_attentions, output_hidden_states, return_dict)\u001b[0m\n\u001b[1;32m   <a href='file:///home/jiayi/Projects/SPOT/.venv/lib/python3.10/site-packages/transformers/models/t5/modeling_t5.py?line=1019'>1020</a>\u001b[0m     layer_outputs \u001b[39m=\u001b[39m checkpoint(\n\u001b[1;32m   <a href='file:///home/jiayi/Projects/SPOT/.venv/lib/python3.10/site-packages/transformers/models/t5/modeling_t5.py?line=1020'>1021</a>\u001b[0m         create_custom_forward(layer_module),\n\u001b[1;32m   <a href='file:///home/jiayi/Projects/SPOT/.venv/lib/python3.10/site-packages/transformers/models/t5/modeling_t5.py?line=1021'>1022</a>\u001b[0m         hidden_states,\n\u001b[0;32m   (...)\u001b[0m\n\u001b[1;32m   <a href='file:///home/jiayi/Projects/SPOT/.venv/lib/python3.10/site-packages/transformers/models/t5/modeling_t5.py?line=1029'>1030</a>\u001b[0m         \u001b[39mNone\u001b[39;00m,  \u001b[39m# past_key_value is always None with gradient checkpointing\u001b[39;00m\n\u001b[1;32m   <a href='file:///home/jiayi/Projects/SPOT/.venv/lib/python3.10/site-packages/transformers/models/t5/modeling_t5.py?line=1030'>1031</a>\u001b[0m     )\n\u001b[1;32m   <a href='file:///home/jiayi/Projects/SPOT/.venv/lib/python3.10/site-packages/transformers/models/t5/modeling_t5.py?line=1031'>1032</a>\u001b[0m \u001b[39melse\u001b[39;00m:\n\u001b[0;32m-> <a href='file:///home/jiayi/Projects/SPOT/.venv/lib/python3.10/site-packages/transformers/models/t5/modeling_t5.py?line=1032'>1033</a>\u001b[0m     layer_outputs \u001b[39m=\u001b[39m layer_module(\n\u001b[1;32m   <a href='file:///home/jiayi/Projects/SPOT/.venv/lib/python3.10/site-packages/transformers/models/t5/modeling_t5.py?line=1033'>1034</a>\u001b[0m         hidden_states,\n\u001b[1;32m   <a href='file:///home/jiayi/Projects/SPOT/.venv/lib/python3.10/site-packages/transformers/models/t5/modeling_t5.py?line=1034'>1035</a>\u001b[0m         attention_mask\u001b[39m=\u001b[39;49mextended_attention_mask,\n\u001b[1;32m   <a href='file:///home/jiayi/Projects/SPOT/.venv/lib/python3.10/site-packages/transformers/models/t5/modeling_t5.py?line=1035'>1036</a>\u001b[0m         position_bias\u001b[39m=\u001b[39;49mposition_bias,\n\u001b[1;32m   <a href='file:///home/jiayi/Projects/SPOT/.venv/lib/python3.10/site-packages/transformers/models/t5/modeling_t5.py?line=1036'>1037</a>\u001b[0m         encoder_hidden_states\u001b[39m=\u001b[39;49mencoder_hidden_states,\n\u001b[1;32m   <a href='file:///home/jiayi/Projects/SPOT/.venv/lib/python3.10/site-packages/transformers/models/t5/modeling_t5.py?line=1037'>1038</a>\u001b[0m         encoder_attention_mask\u001b[39m=\u001b[39;49mencoder_extended_attention_mask,\n\u001b[1;32m   <a href='file:///home/jiayi/Projects/SPOT/.venv/lib/python3.10/site-packages/transformers/models/t5/modeling_t5.py?line=1038'>1039</a>\u001b[0m         encoder_decoder_position_bias\u001b[39m=\u001b[39;49mencoder_decoder_position_bias,\n\u001b[1;32m   <a href='file:///home/jiayi/Projects/SPOT/.venv/lib/python3.10/site-packages/transformers/models/t5/modeling_t5.py?line=1039'>1040</a>\u001b[0m         layer_head_mask\u001b[39m=\u001b[39;49mlayer_head_mask,\n\u001b[1;32m   <a href='file:///home/jiayi/Projects/SPOT/.venv/lib/python3.10/site-packages/transformers/models/t5/modeling_t5.py?line=1040'>1041</a>\u001b[0m         cross_attn_layer_head_mask\u001b[39m=\u001b[39;49mcross_attn_layer_head_mask,\n\u001b[1;32m   <a href='file:///home/jiayi/Projects/SPOT/.venv/lib/python3.10/site-packages/transformers/models/t5/modeling_t5.py?line=1041'>1042</a>\u001b[0m         past_key_value\u001b[39m=\u001b[39;49mpast_key_value,\n\u001b[1;32m   <a href='file:///home/jiayi/Projects/SPOT/.venv/lib/python3.10/site-packages/transformers/models/t5/modeling_t5.py?line=1042'>1043</a>\u001b[0m         use_cache\u001b[39m=\u001b[39;49muse_cache,\n\u001b[1;32m   <a href='file:///home/jiayi/Projects/SPOT/.venv/lib/python3.10/site-packages/transformers/models/t5/modeling_t5.py?line=1043'>1044</a>\u001b[0m         output_attentions\u001b[39m=\u001b[39;49moutput_attentions,\n\u001b[1;32m   <a href='file:///home/jiayi/Projects/SPOT/.venv/lib/python3.10/site-packages/transformers/models/t5/modeling_t5.py?line=1044'>1045</a>\u001b[0m     )\n\u001b[1;32m   <a href='file:///home/jiayi/Projects/SPOT/.venv/lib/python3.10/site-packages/transformers/models/t5/modeling_t5.py?line=1046'>1047</a>\u001b[0m \u001b[39m# layer_outputs is a tuple with:\u001b[39;00m\n\u001b[1;32m   <a href='file:///home/jiayi/Projects/SPOT/.venv/lib/python3.10/site-packages/transformers/models/t5/modeling_t5.py?line=1047'>1048</a>\u001b[0m \u001b[39m# hidden-states, key-value-states, (self-attention position bias), (self-attention weights), (cross-attention position bias), (cross-attention weights)\u001b[39;00m\n\u001b[1;32m   <a href='file:///home/jiayi/Projects/SPOT/.venv/lib/python3.10/site-packages/transformers/models/t5/modeling_t5.py?line=1048'>1049</a>\u001b[0m \u001b[39mif\u001b[39;00m use_cache \u001b[39mis\u001b[39;00m \u001b[39mFalse\u001b[39;00m:\n",
      "File \u001b[0;32m~/Projects/SPOT/.venv/lib/python3.10/site-packages/torch/nn/modules/module.py:1129\u001b[0m, in \u001b[0;36mModule._call_impl\u001b[0;34m(self, *input, **kwargs)\u001b[0m\n\u001b[1;32m   <a href='file:///home/jiayi/Projects/SPOT/.venv/lib/python3.10/site-packages/torch/nn/modules/module.py?line=1124'>1125</a>\u001b[0m \u001b[39m# If we don't have any hooks, we want to skip the rest of the logic in\u001b[39;00m\n\u001b[1;32m   <a href='file:///home/jiayi/Projects/SPOT/.venv/lib/python3.10/site-packages/torch/nn/modules/module.py?line=1125'>1126</a>\u001b[0m \u001b[39m# this function, and just call forward.\u001b[39;00m\n\u001b[1;32m   <a href='file:///home/jiayi/Projects/SPOT/.venv/lib/python3.10/site-packages/torch/nn/modules/module.py?line=1126'>1127</a>\u001b[0m \u001b[39mif\u001b[39;00m \u001b[39mnot\u001b[39;00m (\u001b[39mself\u001b[39m\u001b[39m.\u001b[39m_backward_hooks \u001b[39mor\u001b[39;00m \u001b[39mself\u001b[39m\u001b[39m.\u001b[39m_forward_hooks \u001b[39mor\u001b[39;00m \u001b[39mself\u001b[39m\u001b[39m.\u001b[39m_forward_pre_hooks \u001b[39mor\u001b[39;00m _global_backward_hooks\n\u001b[1;32m   <a href='file:///home/jiayi/Projects/SPOT/.venv/lib/python3.10/site-packages/torch/nn/modules/module.py?line=1127'>1128</a>\u001b[0m         \u001b[39mor\u001b[39;00m _global_forward_hooks \u001b[39mor\u001b[39;00m _global_forward_pre_hooks):\n\u001b[0;32m-> <a href='file:///home/jiayi/Projects/SPOT/.venv/lib/python3.10/site-packages/torch/nn/modules/module.py?line=1128'>1129</a>\u001b[0m     \u001b[39mreturn\u001b[39;00m forward_call(\u001b[39m*\u001b[39;49m\u001b[39minput\u001b[39;49m, \u001b[39m*\u001b[39;49m\u001b[39m*\u001b[39;49mkwargs)\n\u001b[1;32m   <a href='file:///home/jiayi/Projects/SPOT/.venv/lib/python3.10/site-packages/torch/nn/modules/module.py?line=1129'>1130</a>\u001b[0m \u001b[39m# Do not call functions when jit is used\u001b[39;00m\n\u001b[1;32m   <a href='file:///home/jiayi/Projects/SPOT/.venv/lib/python3.10/site-packages/torch/nn/modules/module.py?line=1130'>1131</a>\u001b[0m full_backward_hooks, non_full_backward_hooks \u001b[39m=\u001b[39m [], []\n",
      "File \u001b[0;32m~/Projects/SPOT/.venv/lib/python3.10/site-packages/transformers/models/t5/modeling_t5.py:668\u001b[0m, in \u001b[0;36mT5Block.forward\u001b[0;34m(self, hidden_states, attention_mask, position_bias, encoder_hidden_states, encoder_attention_mask, encoder_decoder_position_bias, layer_head_mask, cross_attn_layer_head_mask, past_key_value, use_cache, output_attentions, return_dict)\u001b[0m\n\u001b[1;32m    <a href='file:///home/jiayi/Projects/SPOT/.venv/lib/python3.10/site-packages/transformers/models/t5/modeling_t5.py?line=664'>665</a>\u001b[0m \u001b[39melse\u001b[39;00m:\n\u001b[1;32m    <a href='file:///home/jiayi/Projects/SPOT/.venv/lib/python3.10/site-packages/transformers/models/t5/modeling_t5.py?line=665'>666</a>\u001b[0m     self_attn_past_key_value, cross_attn_past_key_value \u001b[39m=\u001b[39m \u001b[39mNone\u001b[39;00m, \u001b[39mNone\u001b[39;00m\n\u001b[0;32m--> <a href='file:///home/jiayi/Projects/SPOT/.venv/lib/python3.10/site-packages/transformers/models/t5/modeling_t5.py?line=667'>668</a>\u001b[0m self_attention_outputs \u001b[39m=\u001b[39m \u001b[39mself\u001b[39;49m\u001b[39m.\u001b[39;49mlayer[\u001b[39m0\u001b[39;49m](\n\u001b[1;32m    <a href='file:///home/jiayi/Projects/SPOT/.venv/lib/python3.10/site-packages/transformers/models/t5/modeling_t5.py?line=668'>669</a>\u001b[0m     hidden_states,\n\u001b[1;32m    <a href='file:///home/jiayi/Projects/SPOT/.venv/lib/python3.10/site-packages/transformers/models/t5/modeling_t5.py?line=669'>670</a>\u001b[0m     attention_mask\u001b[39m=\u001b[39;49mattention_mask,\n\u001b[1;32m    <a href='file:///home/jiayi/Projects/SPOT/.venv/lib/python3.10/site-packages/transformers/models/t5/modeling_t5.py?line=670'>671</a>\u001b[0m     position_bias\u001b[39m=\u001b[39;49mposition_bias,\n\u001b[1;32m    <a href='file:///home/jiayi/Projects/SPOT/.venv/lib/python3.10/site-packages/transformers/models/t5/modeling_t5.py?line=671'>672</a>\u001b[0m     layer_head_mask\u001b[39m=\u001b[39;49mlayer_head_mask,\n\u001b[1;32m    <a href='file:///home/jiayi/Projects/SPOT/.venv/lib/python3.10/site-packages/transformers/models/t5/modeling_t5.py?line=672'>673</a>\u001b[0m     past_key_value\u001b[39m=\u001b[39;49mself_attn_past_key_value,\n\u001b[1;32m    <a href='file:///home/jiayi/Projects/SPOT/.venv/lib/python3.10/site-packages/transformers/models/t5/modeling_t5.py?line=673'>674</a>\u001b[0m     use_cache\u001b[39m=\u001b[39;49muse_cache,\n\u001b[1;32m    <a href='file:///home/jiayi/Projects/SPOT/.venv/lib/python3.10/site-packages/transformers/models/t5/modeling_t5.py?line=674'>675</a>\u001b[0m     output_attentions\u001b[39m=\u001b[39;49moutput_attentions,\n\u001b[1;32m    <a href='file:///home/jiayi/Projects/SPOT/.venv/lib/python3.10/site-packages/transformers/models/t5/modeling_t5.py?line=675'>676</a>\u001b[0m )\n\u001b[1;32m    <a href='file:///home/jiayi/Projects/SPOT/.venv/lib/python3.10/site-packages/transformers/models/t5/modeling_t5.py?line=676'>677</a>\u001b[0m hidden_states, present_key_value_state \u001b[39m=\u001b[39m self_attention_outputs[:\u001b[39m2\u001b[39m]\n\u001b[1;32m    <a href='file:///home/jiayi/Projects/SPOT/.venv/lib/python3.10/site-packages/transformers/models/t5/modeling_t5.py?line=677'>678</a>\u001b[0m attention_outputs \u001b[39m=\u001b[39m self_attention_outputs[\u001b[39m2\u001b[39m:]  \u001b[39m# Keep self-attention outputs and relative position weights\u001b[39;00m\n",
      "File \u001b[0;32m~/Projects/SPOT/.venv/lib/python3.10/site-packages/torch/nn/modules/module.py:1129\u001b[0m, in \u001b[0;36mModule._call_impl\u001b[0;34m(self, *input, **kwargs)\u001b[0m\n\u001b[1;32m   <a href='file:///home/jiayi/Projects/SPOT/.venv/lib/python3.10/site-packages/torch/nn/modules/module.py?line=1124'>1125</a>\u001b[0m \u001b[39m# If we don't have any hooks, we want to skip the rest of the logic in\u001b[39;00m\n\u001b[1;32m   <a href='file:///home/jiayi/Projects/SPOT/.venv/lib/python3.10/site-packages/torch/nn/modules/module.py?line=1125'>1126</a>\u001b[0m \u001b[39m# this function, and just call forward.\u001b[39;00m\n\u001b[1;32m   <a href='file:///home/jiayi/Projects/SPOT/.venv/lib/python3.10/site-packages/torch/nn/modules/module.py?line=1126'>1127</a>\u001b[0m \u001b[39mif\u001b[39;00m \u001b[39mnot\u001b[39;00m (\u001b[39mself\u001b[39m\u001b[39m.\u001b[39m_backward_hooks \u001b[39mor\u001b[39;00m \u001b[39mself\u001b[39m\u001b[39m.\u001b[39m_forward_hooks \u001b[39mor\u001b[39;00m \u001b[39mself\u001b[39m\u001b[39m.\u001b[39m_forward_pre_hooks \u001b[39mor\u001b[39;00m _global_backward_hooks\n\u001b[1;32m   <a href='file:///home/jiayi/Projects/SPOT/.venv/lib/python3.10/site-packages/torch/nn/modules/module.py?line=1127'>1128</a>\u001b[0m         \u001b[39mor\u001b[39;00m _global_forward_hooks \u001b[39mor\u001b[39;00m _global_forward_pre_hooks):\n\u001b[0;32m-> <a href='file:///home/jiayi/Projects/SPOT/.venv/lib/python3.10/site-packages/torch/nn/modules/module.py?line=1128'>1129</a>\u001b[0m     \u001b[39mreturn\u001b[39;00m forward_call(\u001b[39m*\u001b[39;49m\u001b[39minput\u001b[39;49m, \u001b[39m*\u001b[39;49m\u001b[39m*\u001b[39;49mkwargs)\n\u001b[1;32m   <a href='file:///home/jiayi/Projects/SPOT/.venv/lib/python3.10/site-packages/torch/nn/modules/module.py?line=1129'>1130</a>\u001b[0m \u001b[39m# Do not call functions when jit is used\u001b[39;00m\n\u001b[1;32m   <a href='file:///home/jiayi/Projects/SPOT/.venv/lib/python3.10/site-packages/torch/nn/modules/module.py?line=1130'>1131</a>\u001b[0m full_backward_hooks, non_full_backward_hooks \u001b[39m=\u001b[39m [], []\n",
      "File \u001b[0;32m~/Projects/SPOT/.venv/lib/python3.10/site-packages/transformers/models/t5/modeling_t5.py:573\u001b[0m, in \u001b[0;36mT5LayerSelfAttention.forward\u001b[0;34m(self, hidden_states, attention_mask, position_bias, layer_head_mask, past_key_value, use_cache, output_attentions)\u001b[0m\n\u001b[1;32m    <a href='file:///home/jiayi/Projects/SPOT/.venv/lib/python3.10/site-packages/transformers/models/t5/modeling_t5.py?line=562'>563</a>\u001b[0m \u001b[39mdef\u001b[39;00m \u001b[39mforward\u001b[39m(\n\u001b[1;32m    <a href='file:///home/jiayi/Projects/SPOT/.venv/lib/python3.10/site-packages/transformers/models/t5/modeling_t5.py?line=563'>564</a>\u001b[0m     \u001b[39mself\u001b[39m,\n\u001b[1;32m    <a href='file:///home/jiayi/Projects/SPOT/.venv/lib/python3.10/site-packages/transformers/models/t5/modeling_t5.py?line=564'>565</a>\u001b[0m     hidden_states,\n\u001b[0;32m   (...)\u001b[0m\n\u001b[1;32m    <a href='file:///home/jiayi/Projects/SPOT/.venv/lib/python3.10/site-packages/transformers/models/t5/modeling_t5.py?line=570'>571</a>\u001b[0m     output_attentions\u001b[39m=\u001b[39m\u001b[39mFalse\u001b[39;00m,\n\u001b[1;32m    <a href='file:///home/jiayi/Projects/SPOT/.venv/lib/python3.10/site-packages/transformers/models/t5/modeling_t5.py?line=571'>572</a>\u001b[0m ):\n\u001b[0;32m--> <a href='file:///home/jiayi/Projects/SPOT/.venv/lib/python3.10/site-packages/transformers/models/t5/modeling_t5.py?line=572'>573</a>\u001b[0m     normed_hidden_states \u001b[39m=\u001b[39m \u001b[39mself\u001b[39;49m\u001b[39m.\u001b[39;49mlayer_norm(hidden_states)\n\u001b[1;32m    <a href='file:///home/jiayi/Projects/SPOT/.venv/lib/python3.10/site-packages/transformers/models/t5/modeling_t5.py?line=573'>574</a>\u001b[0m     attention_output \u001b[39m=\u001b[39m \u001b[39mself\u001b[39m\u001b[39m.\u001b[39mSelfAttention(\n\u001b[1;32m    <a href='file:///home/jiayi/Projects/SPOT/.venv/lib/python3.10/site-packages/transformers/models/t5/modeling_t5.py?line=574'>575</a>\u001b[0m         normed_hidden_states,\n\u001b[1;32m    <a href='file:///home/jiayi/Projects/SPOT/.venv/lib/python3.10/site-packages/transformers/models/t5/modeling_t5.py?line=575'>576</a>\u001b[0m         mask\u001b[39m=\u001b[39mattention_mask,\n\u001b[0;32m   (...)\u001b[0m\n\u001b[1;32m    <a href='file:///home/jiayi/Projects/SPOT/.venv/lib/python3.10/site-packages/transformers/models/t5/modeling_t5.py?line=580'>581</a>\u001b[0m         output_attentions\u001b[39m=\u001b[39moutput_attentions,\n\u001b[1;32m    <a href='file:///home/jiayi/Projects/SPOT/.venv/lib/python3.10/site-packages/transformers/models/t5/modeling_t5.py?line=581'>582</a>\u001b[0m     )\n\u001b[1;32m    <a href='file:///home/jiayi/Projects/SPOT/.venv/lib/python3.10/site-packages/transformers/models/t5/modeling_t5.py?line=582'>583</a>\u001b[0m     hidden_states \u001b[39m=\u001b[39m hidden_states \u001b[39m+\u001b[39m \u001b[39mself\u001b[39m\u001b[39m.\u001b[39mdropout(attention_output[\u001b[39m0\u001b[39m])\n",
      "File \u001b[0;32m~/Projects/SPOT/.venv/lib/python3.10/site-packages/torch/nn/modules/module.py:1129\u001b[0m, in \u001b[0;36mModule._call_impl\u001b[0;34m(self, *input, **kwargs)\u001b[0m\n\u001b[1;32m   <a href='file:///home/jiayi/Projects/SPOT/.venv/lib/python3.10/site-packages/torch/nn/modules/module.py?line=1124'>1125</a>\u001b[0m \u001b[39m# If we don't have any hooks, we want to skip the rest of the logic in\u001b[39;00m\n\u001b[1;32m   <a href='file:///home/jiayi/Projects/SPOT/.venv/lib/python3.10/site-packages/torch/nn/modules/module.py?line=1125'>1126</a>\u001b[0m \u001b[39m# this function, and just call forward.\u001b[39;00m\n\u001b[1;32m   <a href='file:///home/jiayi/Projects/SPOT/.venv/lib/python3.10/site-packages/torch/nn/modules/module.py?line=1126'>1127</a>\u001b[0m \u001b[39mif\u001b[39;00m \u001b[39mnot\u001b[39;00m (\u001b[39mself\u001b[39m\u001b[39m.\u001b[39m_backward_hooks \u001b[39mor\u001b[39;00m \u001b[39mself\u001b[39m\u001b[39m.\u001b[39m_forward_hooks \u001b[39mor\u001b[39;00m \u001b[39mself\u001b[39m\u001b[39m.\u001b[39m_forward_pre_hooks \u001b[39mor\u001b[39;00m _global_backward_hooks\n\u001b[1;32m   <a href='file:///home/jiayi/Projects/SPOT/.venv/lib/python3.10/site-packages/torch/nn/modules/module.py?line=1127'>1128</a>\u001b[0m         \u001b[39mor\u001b[39;00m _global_forward_hooks \u001b[39mor\u001b[39;00m _global_forward_pre_hooks):\n\u001b[0;32m-> <a href='file:///home/jiayi/Projects/SPOT/.venv/lib/python3.10/site-packages/torch/nn/modules/module.py?line=1128'>1129</a>\u001b[0m     \u001b[39mreturn\u001b[39;00m forward_call(\u001b[39m*\u001b[39;49m\u001b[39minput\u001b[39;49m, \u001b[39m*\u001b[39;49m\u001b[39m*\u001b[39;49mkwargs)\n\u001b[1;32m   <a href='file:///home/jiayi/Projects/SPOT/.venv/lib/python3.10/site-packages/torch/nn/modules/module.py?line=1129'>1130</a>\u001b[0m \u001b[39m# Do not call functions when jit is used\u001b[39;00m\n\u001b[1;32m   <a href='file:///home/jiayi/Projects/SPOT/.venv/lib/python3.10/site-packages/torch/nn/modules/module.py?line=1130'>1131</a>\u001b[0m full_backward_hooks, non_full_backward_hooks \u001b[39m=\u001b[39m [], []\n",
      "File \u001b[0;32m~/Projects/SPOT/.venv/lib/python3.10/site-packages/transformers/models/t5/modeling_t5.py:254\u001b[0m, in \u001b[0;36mT5LayerNorm.forward\u001b[0;34m(self, hidden_states)\u001b[0m\n\u001b[1;32m    <a href='file:///home/jiayi/Projects/SPOT/.venv/lib/python3.10/site-packages/transformers/models/t5/modeling_t5.py?line=246'>247</a>\u001b[0m \u001b[39mdef\u001b[39;00m \u001b[39mforward\u001b[39m(\u001b[39mself\u001b[39m, hidden_states):\n\u001b[1;32m    <a href='file:///home/jiayi/Projects/SPOT/.venv/lib/python3.10/site-packages/transformers/models/t5/modeling_t5.py?line=247'>248</a>\u001b[0m \n\u001b[1;32m    <a href='file:///home/jiayi/Projects/SPOT/.venv/lib/python3.10/site-packages/transformers/models/t5/modeling_t5.py?line=248'>249</a>\u001b[0m     \u001b[39m# T5 uses a layer_norm which only scales and doesn't shift, which is also known as Root Mean\u001b[39;00m\n\u001b[1;32m    <a href='file:///home/jiayi/Projects/SPOT/.venv/lib/python3.10/site-packages/transformers/models/t5/modeling_t5.py?line=249'>250</a>\u001b[0m     \u001b[39m# Square Layer Normalization https://arxiv.org/abs/1910.07467 thus varience is calculated\u001b[39;00m\n\u001b[1;32m    <a href='file:///home/jiayi/Projects/SPOT/.venv/lib/python3.10/site-packages/transformers/models/t5/modeling_t5.py?line=250'>251</a>\u001b[0m     \u001b[39m# w/o mean and there is no bias. Additionally we want to make sure that the accumulation for\u001b[39;00m\n\u001b[1;32m    <a href='file:///home/jiayi/Projects/SPOT/.venv/lib/python3.10/site-packages/transformers/models/t5/modeling_t5.py?line=251'>252</a>\u001b[0m     \u001b[39m# half-precision inputs is done in fp32\u001b[39;00m\n\u001b[0;32m--> <a href='file:///home/jiayi/Projects/SPOT/.venv/lib/python3.10/site-packages/transformers/models/t5/modeling_t5.py?line=253'>254</a>\u001b[0m     variance \u001b[39m=\u001b[39m hidden_states\u001b[39m.\u001b[39;49mto(torch\u001b[39m.\u001b[39;49mfloat32)\u001b[39m.\u001b[39;49mpow(\u001b[39m2\u001b[39;49m)\u001b[39m.\u001b[39mmean(\u001b[39m-\u001b[39m\u001b[39m1\u001b[39m, keepdim\u001b[39m=\u001b[39m\u001b[39mTrue\u001b[39;00m)\n\u001b[1;32m    <a href='file:///home/jiayi/Projects/SPOT/.venv/lib/python3.10/site-packages/transformers/models/t5/modeling_t5.py?line=254'>255</a>\u001b[0m     hidden_states \u001b[39m=\u001b[39m hidden_states \u001b[39m*\u001b[39m torch\u001b[39m.\u001b[39mrsqrt(variance \u001b[39m+\u001b[39m \u001b[39mself\u001b[39m\u001b[39m.\u001b[39mvariance_epsilon)\n\u001b[1;32m    <a href='file:///home/jiayi/Projects/SPOT/.venv/lib/python3.10/site-packages/transformers/models/t5/modeling_t5.py?line=256'>257</a>\u001b[0m     \u001b[39m# convert into half-precision if necessary\u001b[39;00m\n",
      "\u001b[0;31mKeyboardInterrupt\u001b[0m: "
     ]
    }
   ],
   "source": [
    "from spot.data import pretty_print_accuracies\n",
    "\n",
    "size_factors = [1, 2, 3]\n",
    "with run_long_task(\"Evaluate R0 accuracy vs ctx_size\"):\n",
    "    acc_series = []\n",
    "    for factor in size_factors:\n",
    "        wrapper = r0_wrapper.scale_ctx_size(factor)\n",
    "        wrapper.args.ctx_args.types_in_ctx = True\n",
    "        accs = wrapper.eval_on_dataset(\n",
    "            src_datasets[\"test\"], tqdm_args={\"leave\": False}\n",
    "        )[0]\n",
    "        acc_series.append(accs)\n",
    "        print(f\"ctx_size factor: {factor}\")\n",
    "        pretty_print_accuracies(accs)\n",
    "\n",
    "import plotly.express as px\n",
    "\n",
    "acc_df = pd.DataFrame(\n",
    "    {\n",
    "        \"ctx_size\": size_factors,\n",
    "        \"partial_acc\": [x[\"partial_acc\"] for x in acc_series],\n",
    "        \"full_acc\": [x[\"full_acc\"] for x in acc_series],\n",
    "    }\n",
    ")\n",
    "px.line(acc_df, x=\"ctx_size\", y=[\"partial_acc\", \"full_acc\"], title=r0_model_name)\n"
   ]
  }
 ],
 "metadata": {
  "interpreter": {
   "hash": "f6ffc72953da4dd16b2e00785be9c4013ef131f465a8658f3921b6634d4eeec8"
  },
  "kernelspec": {
   "display_name": "Python 3.10.4 ('.venv': pipenv)",
   "language": "python",
   "name": "python3"
  },
  "language_info": {
   "codemirror_mode": {
    "name": "ipython",
    "version": 3
   },
   "file_extension": ".py",
   "mimetype": "text/x-python",
   "name": "python",
   "nbconvert_exporter": "python",
   "pygments_lexer": "ipython3",
   "version": "3.10.4"
  },
  "orig_nbformat": 4
 },
 "nbformat": 4,
 "nbformat_minor": 2
}
