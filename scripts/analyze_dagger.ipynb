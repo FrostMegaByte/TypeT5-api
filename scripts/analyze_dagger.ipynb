{
 "cells": [
  {
   "cell_type": "code",
   "execution_count": 1,
   "metadata": {},
   "outputs": [],
   "source": [
    "%load_ext autoreload\n",
    "%autoreload 2\n",
    "\n",
    "import os\n",
    "from typing import *\n",
    "\n",
    "from spot.utils import proj_root, get_data_dir\n",
    "\n",
    "os.chdir(proj_root())\n",
    "\n",
    "datadir = get_data_dir()"
   ]
  },
  {
   "cell_type": "code",
   "execution_count": 2,
   "metadata": {},
   "outputs": [
    {
     "name": "stderr",
     "output_type": "stream",
     "text": [
      "/home/jiayi/Projects/SPOT/.venv/lib/python3.10/site-packages/torchvision/io/image.py:13: UserWarning: Failed to load image Python extension: libtorch_cuda_cu.so: cannot open shared object file: No such file or directory\n",
      "  warn(f\"Failed to load image Python extension: {e}\")\n"
     ]
    },
    {
     "name": "stdout",
     "output_type": "stream",
     "text": [
      "quicktest=False\n",
      "Loading datasets:  src_datasets-all_labels-drop_comments\n"
     ]
    }
   ],
   "source": [
    "# experiment configurations\n",
    "\n",
    "from spot.data import (\n",
    "    SrcDataset,\n",
    "    get_dataset_name,\n",
    "    load_src_datasets,\n",
    "    TypeCheckSettings,\n",
    ")\n",
    "from spot.model import CtxArgs, DecodingArgs, ModelSPOT, ModelWrapper\n",
    "from spot.train import TrainingConfig, TypeCheckArgs\n",
    "\n",
    "config = TrainingConfig(\n",
    "    quicktest=False,\n",
    "    all_labels=True,\n",
    "    ctx_size=2048,\n",
    "    left_margin=1024,\n",
    "    right_margin=512,\n",
    ")\n",
    "gpu_id = 1\n",
    "TypeCheckSettings.temp_path = f\"DAgger-{gpu_id}\"\n",
    "\n",
    "print(f\"quicktest={config.quicktest}\")\n",
    "\n",
    "project_name = \"test-SPOT\" if config.quicktest else \"SPOT\"\n",
    "train_ctx_args = config.train_ctx_args()\n",
    "tc_args = TypeCheckArgs(check_in_isolation=config.check_in_isolation)\n",
    "\n",
    "datasets_name = get_dataset_name(\n",
    "    drop_comments=config.drop_comments,\n",
    "    all_labels=config.all_labels,\n",
    ")\n",
    "\n",
    "model_name = \"DAgger-model--\" + config.as_name()\n",
    "\n",
    "src_datasets = load_src_datasets(\n",
    "    datadir,\n",
    "    datasets_name,\n",
    "    data_reduction=config.data_reduction,\n",
    "    quicktest=config.quicktest,\n",
    ")"
   ]
  },
  {
   "cell_type": "code",
   "execution_count": 5,
   "metadata": {},
   "outputs": [],
   "source": [
    "# load the model\n",
    "from spot.model import load_model_spot, DefaultTokenizer\n",
    "from spot.model import ModelWrapper\n",
    "from spot.dagger import DAggerModel\n",
    "import torch\n",
    "\n",
    "dec_args = DecodingArgs(\n",
    "    sampling_max_tokens=8 * config.ctx_size,\n",
    "    ctx_args=config.dec_ctx_args(),\n",
    "    do_sample=False,\n",
    "    num_beams=8,\n",
    ")\n",
    "\n",
    "wrapper = ModelWrapper.from_pretrained(datadir / f\"checkpoints/saved/{model_name}\")\n",
    "device = torch.device(f\"cuda:{gpu_id}\" if torch.cuda.is_available() else \"cpu\")\n",
    "wrapper.to(device)\n",
    "dmodel = DAggerModel(wrapper)"
   ]
  },
  {
   "cell_type": "code",
   "execution_count": 12,
   "metadata": {},
   "outputs": [
    {
     "name": "stderr",
     "output_type": "stream",
     "text": [
      "compute_preexisting_fdbks: 100%|██████████| 6/6 [00:02<00:00,  2.15it/s]\n",
      "eval_on_data: 100%|██████████| 180/180 [03:38<00:00,  1.21s/it]\n"
     ]
    },
    {
     "name": "stdout",
     "output_type": "stream",
     "text": [
      "partial_acc (ImNone): 64.44% (count=180)\n",
      "full_acc (ImNone): 61.11% (count=180)\n",
      "partial_acc: 63.33% (count=180)\n",
      "ast_acc: 47.13% (count=244)\n",
      "full_acc: 60.00% (count=180)\n",
      "partial_acc_by_cat:\n",
      "   FuncArg: 58.42% (count=101)\n",
      "   FuncReturn: 67.12% (count=73)\n",
      "   GlobalVar: 100.00% (count=3)\n",
      "   LocalVar: 100.00% (count=3)\n",
      "partial_acc_by_pos:\n",
      "   range(0, 1): 90.91% (count=11)\n",
      "   range(1, 2): 87.50% (count=8)\n",
      "   range(2, 4): 100.00% (count=12)\n",
      "   range(4, 8): 76.92% (count=13)\n",
      "   range(8, 16): 45.45% (count=11)\n",
      "   range(16, 32): 50.00% (count=16)\n",
      "   range(32, 64): 56.25% (count=32)\n",
      "   range(64, 128): 57.81% (count=64)\n",
      "   range(128, 256): 53.85% (count=13)\n",
      "avg_label_size: 1.3556\n",
      "avg_pred_size: 1.0778\n"
     ]
    }
   ],
   "source": [
    "# evaluate\n",
    "from spot.utils import pretty_print_dict, pretty_show_dict\n",
    "from spot.visualization import visualize_preds_on_code\n",
    "\n",
    "eval_r = await dmodel.eval_on_data(src_datasets[\"train\"][1:105:10])\n",
    "pretty_print_dict(eval_r.accuracies)"
   ]
  },
  {
   "cell_type": "code",
   "execution_count": 14,
   "metadata": {},
   "outputs": [
    {
     "name": "stderr",
     "output_type": "stream",
     "text": [
      "Exporting: 100%|██████████| 11/11 [00:00<00:00, 97.24it/s]\n",
      "Computing accuracies: 100%|██████████| 11/11 [00:00<00:00, 4176.84it/s]\n"
     ]
    }
   ],
   "source": [
    "from spot.data import SrcDataset\n",
    "from spot.visualization import export_preds_on_code\n",
    "\n",
    "viz_ds = SrcDataset(src_datasets[\"test\"].repos_root, eval_r.final_srcs)\n",
    "viz_preds = eval_r.final_preds\n",
    "\n",
    "export_preds_on_code(viz_ds, viz_preds, proj_root() / \"caches/DAgger-preds-on-code\")"
   ]
  }
 ],
 "metadata": {
  "kernelspec": {
   "display_name": "Python 3.10.4 ('.venv': pipenv)",
   "language": "python",
   "name": "python3"
  },
  "language_info": {
   "codemirror_mode": {
    "name": "ipython",
    "version": 3
   },
   "file_extension": ".py",
   "mimetype": "text/x-python",
   "name": "python",
   "nbconvert_exporter": "python",
   "pygments_lexer": "ipython3",
   "version": "3.10.4"
  },
  "orig_nbformat": 4,
  "vscode": {
   "interpreter": {
    "hash": "f6ffc72953da4dd16b2e00785be9c4013ef131f465a8658f3921b6634d4eeec8"
   }
  }
 },
 "nbformat": 4,
 "nbformat_minor": 2
}
