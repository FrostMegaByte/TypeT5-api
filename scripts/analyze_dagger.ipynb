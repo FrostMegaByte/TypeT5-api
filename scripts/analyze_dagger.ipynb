{
 "cells": [
  {
   "cell_type": "code",
   "execution_count": 2,
   "metadata": {},
   "outputs": [],
   "source": [
    "%load_ext autoreload\n",
    "%autoreload 2\n",
    "\n",
    "import os\n",
    "import asyncio\n",
    "from typing import *\n",
    "\n",
    "from spot.utils import proj_root, get_data_dir\n",
    "\n",
    "os.chdir(proj_root())\n",
    "\n",
    "datadir = get_data_dir()"
   ]
  },
  {
   "cell_type": "code",
   "execution_count": 3,
   "metadata": {},
   "outputs": [
    {
     "name": "stderr",
     "output_type": "stream",
     "text": [
      "/home/jiayi/Projects/SPOT/.venv/lib/python3.10/site-packages/torchvision/io/image.py:13: UserWarning: Failed to load image Python extension: libtorch_cuda_cu.so: cannot open shared object file: No such file or directory\n",
      "  warn(f\"Failed to load image Python extension: {e}\")\n"
     ]
    },
    {
     "name": "stdout",
     "output_type": "stream",
     "text": [
      "quicktest=False\n",
      "Loading datasets:  src_datasets-all_labels-drop_comments\n"
     ]
    }
   ],
   "source": [
    "# experiment configurations\n",
    "\n",
    "from spot.data import (\n",
    "    SrcDataset,\n",
    "    get_dataset_name,\n",
    "    load_src_datasets,\n",
    "    TypeCheckSettings,\n",
    ")\n",
    "from spot.model import CtxArgs, DecodingArgs, ModelSPOT, ModelWrapper\n",
    "from spot.train import TrainingConfig, TypeCheckArgs\n",
    "\n",
    "config = TrainingConfig(\n",
    "    quicktest=False,\n",
    "    all_labels=True,\n",
    "    ctx_size=2048,\n",
    "    left_margin=1024,\n",
    "    right_margin=512,\n",
    ")\n",
    "gpu_id = 0\n",
    "TypeCheckSettings.temp_path = f\"DAgger-{gpu_id}\"\n",
    "\n",
    "print(f\"quicktest={config.quicktest}\")\n",
    "\n",
    "project_name = \"test-SPOT\" if config.quicktest else \"SPOT\"\n",
    "train_ctx_args = config.train_ctx_args()\n",
    "tc_args = TypeCheckArgs(check_in_isolation=config.check_in_isolation)\n",
    "\n",
    "dec_args = DecodingArgs(\n",
    "    sampling_max_tokens=8 * config.ctx_size,\n",
    "    ctx_args=config.dec_ctx_args(),\n",
    ")\n",
    "\n",
    "datasets_name = get_dataset_name(\n",
    "    drop_comments=config.drop_comments,\n",
    "    all_labels=config.all_labels,\n",
    ")\n",
    "\n",
    "model_name = \"DAgger-model--\" + config.as_name()\n",
    "\n",
    "src_datasets = load_src_datasets(\n",
    "    datadir,\n",
    "    datasets_name,\n",
    "    data_reduction=config.data_reduction,\n",
    "    quicktest=config.quicktest,\n",
    ")"
   ]
  },
  {
   "cell_type": "code",
   "execution_count": 4,
   "metadata": {},
   "outputs": [],
   "source": [
    "# load the model\n",
    "from spot.model import load_model_spot, DefaultTokenizer\n",
    "from spot.model import ModelWrapper\n",
    "from spot.dagger import DAggerModel\n",
    "import torch\n",
    "\n",
    "wrapper = ModelWrapper.from_pretrained(datadir / f\"checkpoints/saved/{model_name}\")\n",
    "device = torch.device(f\"cuda:{gpu_id}\" if torch.cuda.is_available() else \"cpu\")\n",
    "wrapper.to(device)\n",
    "dmodel = DAggerModel(wrapper)"
   ]
  },
  {
   "cell_type": "code",
   "execution_count": 5,
   "metadata": {},
   "outputs": [
    {
     "name": "stderr",
     "output_type": "stream",
     "text": [
      "compute_preexisting_fdbks: 100%|██████████| 1/1 [00:01<00:00,  1.30s/it]\n",
      "eval_on_data: 100%|██████████| 157/157 [01:01<00:00,  2.55it/s]"
     ]
    },
    {
     "name": "stdout",
     "output_type": "stream",
     "text": [
      "partial_acc (ImNone): 79.62% (count=157)\n",
      "full_acc (ImNone): 76.43% (count=157)\n",
      "partial_acc: 76.43% (count=157)\n",
      "ast_acc: 62.32% (count=207)\n",
      "full_acc: 71.34% (count=157)\n",
      "partial_acc_by_cat:\n",
      "   FuncArg: 73.17% (count=82)\n",
      "   FuncReturn: 80.00% (count=60)\n",
      "   ClassAtribute: 88.89% (count=9)\n",
      "   LocalVar: 66.67% (count=6)\n",
      "partial_acc_by_pos:\n",
      "   range(0, 1): 100.00% (count=5)\n",
      "   range(1, 2): 100.00% (count=5)\n",
      "   range(2, 4): 75.00% (count=8)\n",
      "   range(4, 8): 100.00% (count=16)\n",
      "   range(8, 16): 83.33% (count=30)\n",
      "   range(16, 32): 72.09% (count=43)\n",
      "   range(32, 64): 64.00% (count=50)\n",
      "avg_label_size: 1.3185\n",
      "avg_pred_size: 1.1656\n"
     ]
    },
    {
     "name": "stderr",
     "output_type": "stream",
     "text": [
      "\n"
     ]
    }
   ],
   "source": [
    "# evaluate\n",
    "from spot.utils import pretty_print_dict, pretty_show_dict\n",
    "from spot.visualization import visualize_preds_on_code\n",
    "\n",
    "eval_r = await dmodel.eval_on_data(src_datasets[\"test\"][0:5])\n",
    "pretty_print_dict(eval_r.accuracies)"
   ]
  },
  {
   "cell_type": "code",
   "execution_count": 6,
   "metadata": {},
   "outputs": [
    {
     "name": "stderr",
     "output_type": "stream",
     "text": [
      "Exporting: 100%|██████████| 5/5 [00:00<00:00, 97.71it/s]\n",
      "Computing accuracies: 100%|██████████| 5/5 [00:00<00:00, 3873.57it/s]\n"
     ]
    }
   ],
   "source": [
    "from spot.data import SrcDataset\n",
    "from spot.visualization import export_preds_on_code\n",
    "\n",
    "viz_ds = SrcDataset(src_datasets[\"test\"].repos_root, eval_r.final_srcs)\n",
    "viz_preds = eval_r.final_preds\n",
    "\n",
    "export_preds_on_code(viz_ds, viz_preds, proj_root() / \"caches/DAgger-preds-on-code\")"
   ]
  }
 ],
 "metadata": {
  "kernelspec": {
   "display_name": "Python 3.10.4 ('.venv': pipenv)",
   "language": "python",
   "name": "python3"
  },
  "language_info": {
   "codemirror_mode": {
    "name": "ipython",
    "version": 3
   },
   "file_extension": ".py",
   "mimetype": "text/x-python",
   "name": "python",
   "nbconvert_exporter": "python",
   "pygments_lexer": "ipython3",
   "version": "3.10.4"
  },
  "orig_nbformat": 4,
  "vscode": {
   "interpreter": {
    "hash": "f6ffc72953da4dd16b2e00785be9c4013ef131f465a8658f3921b6634d4eeec8"
   }
  }
 },
 "nbformat": 4,
 "nbformat_minor": 2
}
