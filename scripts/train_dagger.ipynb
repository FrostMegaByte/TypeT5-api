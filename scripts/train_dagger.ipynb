{
 "cells": [
  {
   "cell_type": "code",
   "execution_count": 1,
   "metadata": {},
   "outputs": [],
   "source": [
    "%load_ext autoreload\n",
    "%autoreload 2\n",
    "\n",
    "import os\n",
    "import pickle\n",
    "from concurrent.futures import ProcessPoolExecutor\n",
    "from pathlib import Path\n",
    "from typing import *\n",
    "\n",
    "import pandas as pd\n",
    "import plotly.express as px\n",
    "\n",
    "from spot.data import GitRepo\n",
    "from spot.type_env import (\n",
    "    AnnotPath,\n",
    "    MypyChecker,\n",
    "    SelectAnnotations,\n",
    "    TypeInfAction,\n",
    "    TypeInfEnv,\n",
    "    TypeInfState,\n",
    "    collect_annotations,\n",
    "    mypy_checker,\n",
    ")\n",
    "from spot.utils import cst, proj_root, read_file, seq_flatten, tqdm, write_file\n",
    "\n",
    "os.chdir(proj_root())\n",
    "\n",
    "datadir = Path(os.getenv(\"datadir\"))\n",
    "repos_dir = datadir / \"SPOT-data/repos\"\n",
    "\n",
    "useful_repos_path = proj_root() / \"scripts\" / \"useful_repos.pkl\"\n",
    "with useful_repos_path.open(\"rb\") as f:\n",
    "    useful_repos: list[GitRepo] = pickle.load(f)\n",
    "\n",
    "repos_split_path = datadir / \"SPOT-data/repos-processed-with_margin/repos_split.pkl\"\n",
    "with repos_split_path.open(\"rb\") as f:\n",
    "    repos_split = pickle.load(f)"
   ]
  },
  {
   "cell_type": "code",
   "execution_count": 2,
   "metadata": {},
   "outputs": [
    {
     "name": "stderr",
     "output_type": "stream",
     "text": [
      "/home/jiayi/Projects/SPOT/.venv/lib/python3.10/site-packages/torch/nn/modules/module.py:1402: UserWarning: positional arguments and argument \"destination\" are deprecated. nn.Module.state_dict will not accept them in the future. Refer to https://pytorch.org/docs/master/generated/torch.nn.Module.html#torch.nn.Module.state_dict for details.\n",
      "  warnings.warn(\n"
     ]
    }
   ],
   "source": [
    "import torch\n",
    "\n",
    "from spot.model import ModelSPOT, TokenizerSPOT\n",
    "\n",
    "train_from_scrach = True\n",
    "\n",
    "model_path = \"Salesforce/codet5-base\" if train_from_scrach else datadir / \"checkpoints/saved/SPOT-CodeT5-with_margin\"\n",
    "device = torch.device(\"cuda:0\" if torch.cuda.is_available() else \"cpu\")\n",
    "tokenizer: TokenizerSPOT = TokenizerSPOT.from_pretrained(model_path)\n",
    "model: ModelSPOT = ModelSPOT.from_pretrained(model_path).to(device)"
   ]
  },
  {
   "cell_type": "code",
   "execution_count": 9,
   "metadata": {},
   "outputs": [],
   "source": [
    "from IPython.display import display, display_pretty\n",
    "\n",
    "import wandb\n",
    "from spot.training import DAggerTrainer, DAggerTrainerArgs\n",
    "\n",
    "test_run = True\n",
    "test_tag = 'test-' if test_run else ''\n",
    "\n",
    "scratch_tag = '-scratch' if train_from_scrach else ''\n",
    "model_name = f\"{test_tag}SPOT-DAgger{scratch_tag}\"\n",
    "\n",
    "args = DAggerTrainerArgs(\n",
    "    output_dir=proj_root() / \"checkpoints\" / model_name,\n",
    "    max_epochs=2,\n",
    "    skip_first_eval=False,\n",
    "    repos_group_size=16,\n",
    "    ctx_size=512,\n",
    "    ctx_margin=128,\n",
    "    types_in_ctx=False,\n",
    "    sampling_batch_size=300,\n",
    "    train_batch_size=42,\n",
    "    generation_max_length=128,\n",
    "    max_workers=16,\n",
    ")\n",
    "\n",
    "\n",
    "trainer = DAggerTrainer(model, tokenizer, args)\n",
    "train_repos = [r.repo_dir(repos_dir) for r in repos_split[\"train\"]]\n",
    "valid_repos = [r.repo_dir(repos_dir) for r in repos_split[\"valid\"]]\n",
    "if test_run:\n",
    "    train_repos = train_repos[:10]\n",
    "    valid_repos = valid_repos[:5]"
   ]
  },
  {
   "cell_type": "code",
   "execution_count": 11,
   "metadata": {},
   "outputs": [
    {
     "data": {
      "text/html": [
       "Finishing last run (ID:zcrxbgsx) before initializing another..."
      ],
      "text/plain": [
       "<IPython.core.display.HTML object>"
      ]
     },
     "metadata": {},
     "output_type": "display_data"
    },
    {
     "data": {
      "text/html": [
       "Waiting for W&B process to finish... <strong style=\"color:green\">(success).</strong>"
      ],
      "text/plain": [
       "<IPython.core.display.HTML object>"
      ]
     },
     "metadata": {},
     "output_type": "display_data"
    },
    {
     "data": {
      "application/vnd.jupyter.widget-view+json": {
       "model_id": "225590c20fbc457daab88a135d4a0e79",
       "version_major": 2,
       "version_minor": 0
      },
      "text/plain": [
       "VBox(children=(Label(value='0.001 MB of 0.001 MB uploaded (0.000 MB deduped)\\r'), FloatProgress(value=1.0, max…"
      ]
     },
     "metadata": {},
     "output_type": "display_data"
    },
    {
     "data": {
      "text/html": [
       "Synced <strong style=\"color:#cdcd00\">divine-morning-2</strong>: <a href=\"https://wandb.ai/mrvplusone/test-SPOT-DAgger-scratch/runs/zcrxbgsx\" target=\"_blank\">https://wandb.ai/mrvplusone/test-SPOT-DAgger-scratch/runs/zcrxbgsx</a><br/>Synced 4 W&B file(s), 0 media file(s), 0 artifact file(s) and 0 other file(s)"
      ],
      "text/plain": [
       "<IPython.core.display.HTML object>"
      ]
     },
     "metadata": {},
     "output_type": "display_data"
    },
    {
     "data": {
      "text/html": [
       "Find logs at: <code>/mnt/data0/jiayi/wandb/wandb/run-20220512_160617-zcrxbgsx/logs</code>"
      ],
      "text/plain": [
       "<IPython.core.display.HTML object>"
      ]
     },
     "metadata": {},
     "output_type": "display_data"
    },
    {
     "data": {
      "text/html": [
       "Successfully finished last run (ID:zcrxbgsx). Initializing new run:<br/>"
      ],
      "text/plain": [
       "<IPython.core.display.HTML object>"
      ]
     },
     "metadata": {},
     "output_type": "display_data"
    },
    {
     "data": {
      "text/html": [
       "Tracking run with wandb version 0.12.16"
      ],
      "text/plain": [
       "<IPython.core.display.HTML object>"
      ]
     },
     "metadata": {},
     "output_type": "display_data"
    },
    {
     "data": {
      "text/html": [
       "Run data is saved locally in <code>/mnt/data0/jiayi/wandb/run-20220512_160634-32klu7x7</code>"
      ],
      "text/plain": [
       "<IPython.core.display.HTML object>"
      ]
     },
     "metadata": {},
     "output_type": "display_data"
    },
    {
     "data": {
      "text/html": [
       "Syncing run <strong><a href=\"https://wandb.ai/mrvplusone/test-SPOT-DAgger-scratch/runs/32klu7x7\" target=\"_blank\">royal-resonance-3</a></strong> to <a href=\"https://wandb.ai/mrvplusone/test-SPOT-DAgger-scratch\" target=\"_blank\">Weights & Biases</a> (<a href=\"https://wandb.me/run\" target=\"_blank\">docs</a>)<br/>"
      ],
      "text/plain": [
       "<IPython.core.display.HTML object>"
      ]
     },
     "metadata": {},
     "output_type": "display_data"
    },
    {
     "data": {
      "application/vnd.jupyter.widget-view+json": {
       "model_id": "96c27f8fc9914dbf9d6f2ecacd323f6c",
       "version_major": 2,
       "version_minor": 0
      },
      "text/plain": [
       "DAgger Training:   0%|          | 0/20 [00:00<?, ?it/s]"
      ]
     },
     "metadata": {},
     "output_type": "display_data"
    },
    {
     "name": "stdout",
     "output_type": "stream",
     "text": [
      "[Epoch 0] R0 stats:\n"
     ]
    },
    {
     "data": {
      "text/plain": [
       "{'R0_accuracy_partial': {'total': 0.5273802115743622,\n",
       "  'FuncArg': 0.5296147211040828,\n",
       "  'ClassAtribute': 0.2440087145969499,\n",
       "  'FuncReturn': 0.6820566631689402,\n",
       "  'LocalVar': 0.16071428571428573,\n",
       "  'GlobalVar': 0.42857142857142855},\n",
       " 'R0_accuracy_full': {'total': 0.41288114499066586,\n",
       "  'FuncArg': 0.3887291546866015,\n",
       "  'FuncReturn': 0.5991605456453305,\n",
       "  'ClassAtribute': 0.16122004357298475,\n",
       "  'LocalVar': 0.08928571428571429,\n",
       "  'GlobalVar': 0.14285714285714285},\n",
       " 'R0_n_labels': 3214}"
      ]
     },
     "metadata": {},
     "output_type": "display_data"
    },
    {
     "name": "stdout",
     "output_type": "stream",
     "text": [
      "[Epoch 0] R1 stats:\n"
     ]
    },
    {
     "data": {
      "text/plain": [
       "{'R1_accuracy_partial': {'total': 0.47121070650482416,\n",
       "  'FuncArg': 0.4723820483314154,\n",
       "  'ClassAtribute': 0.20697167755991286,\n",
       "  'FuncReturn': 0.6107030430220357,\n",
       "  'LocalVar': 0.23214285714285715,\n",
       "  'GlobalVar': 0.42857142857142855},\n",
       " 'R1_accuracy_full': {'total': 0.3657018362900716,\n",
       "  'FuncArg': 0.3411967779056387,\n",
       "  'FuncReturn': 0.5456453305351522,\n",
       "  'ClassAtribute': 0.12200435729847495,\n",
       "  'LocalVar': 0.08928571428571429,\n",
       "  'GlobalVar': 0.14285714285714285},\n",
       " 'R1_n_labels': 3213}"
      ]
     },
     "metadata": {},
     "output_type": "display_data"
    },
    {
     "name": "stdout",
     "output_type": "stream",
     "text": [
      "[Epoch 1] R0 stats:\n"
     ]
    },
    {
     "data": {
      "text/plain": [
       "{'R0_accuracy_partial': {'total': 0.5721841941505912,\n",
       "  'FuncArg': 0.562392179413456,\n",
       "  'ClassAtribute': 0.3899782135076253,\n",
       "  'FuncReturn': 0.6915005246589717,\n",
       "  'LocalVar': 0.30357142857142855,\n",
       "  'GlobalVar': 0.8571428571428571},\n",
       " 'R0_accuracy_full': {'total': 0.47510889856876165,\n",
       "  'FuncArg': 0.4485336400230017,\n",
       "  'ClassAtribute': 0.3289760348583878,\n",
       "  'FuncReturn': 0.6169989506820567,\n",
       "  'GlobalVar': 0.7142857142857143,\n",
       "  'LocalVar': 0.05357142857142857},\n",
       " 'R0_n_labels': 3214}"
      ]
     },
     "metadata": {},
     "output_type": "display_data"
    },
    {
     "name": "stdout",
     "output_type": "stream",
     "text": [
      "[Epoch 1] R1 stats:\n"
     ]
    },
    {
     "data": {
      "text/plain": [
       "{'R1_accuracy_partial': {'total': 0.5798319327731093,\n",
       "  'FuncArg': 0.5650172612197929,\n",
       "  'FuncReturn': 0.6988457502623295,\n",
       "  'ClassAtribute': 0.40522875816993464,\n",
       "  'LocalVar': 0.42857142857142855,\n",
       "  'GlobalVar': 0.7142857142857143},\n",
       " 'R1_accuracy_full': {'total': 0.4774354186118892,\n",
       "  'FuncArg': 0.4430379746835443,\n",
       "  'FuncReturn': 0.6253934942287513,\n",
       "  'ClassAtribute': 0.3464052287581699,\n",
       "  'GlobalVar': 0.5714285714285714,\n",
       "  'LocalVar': 0.08928571428571429},\n",
       " 'R1_n_labels': 3213}"
      ]
     },
     "metadata": {},
     "output_type": "display_data"
    },
    {
     "name": "stderr",
     "output_type": "stream",
     "text": [
      "/home/jiayi/Projects/SPOT/.venv/lib/python3.10/site-packages/torch/nn/modules/module.py:1402: UserWarning: positional arguments and argument \"destination\" are deprecated. nn.Module.state_dict will not accept them in the future. Refer to https://pytorch.org/docs/master/generated/torch.nn.Module.html#torch.nn.Module.state_dict for details.\n",
      "  warnings.warn(\n"
     ]
    },
    {
     "name": "stdout",
     "output_type": "stream",
     "text": [
      "[Epoch 2] R0 stats:\n"
     ]
    },
    {
     "data": {
      "text/plain": [
       "{'R0_accuracy_partial': {'total': 0.5883634100808961,\n",
       "  'FuncArg': 0.5802185163887291,\n",
       "  'ClassAtribute': 0.4684095860566449,\n",
       "  'FuncReturn': 0.6715634837355718,\n",
       "  'LocalVar': 0.375,\n",
       "  'GlobalVar': 0.8571428571428571},\n",
       " 'R0_accuracy_full': {'total': 0.48879900435594276,\n",
       "  'FuncArg': 0.45255894192064405,\n",
       "  'FuncReturn': 0.6065057712486883,\n",
       "  'ClassAtribute': 0.4139433551198257,\n",
       "  'GlobalVar': 0.2857142857142857,\n",
       "  'LocalVar': 0.25},\n",
       " 'R0_n_labels': 3214}"
      ]
     },
     "metadata": {},
     "output_type": "display_data"
    },
    {
     "name": "stdout",
     "output_type": "stream",
     "text": [
      "[Epoch 2] R1 stats:\n"
     ]
    },
    {
     "data": {
      "text/plain": [
       "{'R1_accuracy_partial': {'total': 0.6050420168067226,\n",
       "  'FuncArg': 0.593210586881473,\n",
       "  'ClassAtribute': 0.5185185185185185,\n",
       "  'FuncReturn': 0.6810073452256034,\n",
       "  'LocalVar': 0.375,\n",
       "  'GlobalVar': 0.7142857142857143},\n",
       " 'R1_accuracy_full': {'total': 0.4964207905384376,\n",
       "  'FuncArg': 0.452819332566168,\n",
       "  'ClassAtribute': 0.4596949891067538,\n",
       "  'FuncReturn': 0.6065057712486883,\n",
       "  'GlobalVar': 0.42857142857142855,\n",
       "  'LocalVar': 0.2857142857142857},\n",
       " 'R1_n_labels': 3213}"
      ]
     },
     "metadata": {},
     "output_type": "display_data"
    },
    {
     "name": "stderr",
     "output_type": "stream",
     "text": [
      "/home/jiayi/Projects/SPOT/.venv/lib/python3.10/site-packages/torch/nn/modules/module.py:1402: UserWarning: positional arguments and argument \"destination\" are deprecated. nn.Module.state_dict will not accept them in the future. Refer to https://pytorch.org/docs/master/generated/torch.nn.Module.html#torch.nn.Module.state_dict for details.\n",
      "  warnings.warn(\n"
     ]
    }
   ],
   "source": [
    "wandb.init(project=model_name, config=args, dir=str(datadir))\n",
    "\n",
    "try:\n",
    "    trainer.train(train_repos, valid_repos)\n",
    "except Exception as e:\n",
    "    wandb.alert(title=\"Training stopped due to exception\", text=f\"In {model_name}, exception: {e}\")\n",
    "    raise e\n",
    "wandb.alert(title=\"Training finished\", text=f\"{model_name} has finished.\")"
   ]
  },
  {
   "cell_type": "code",
   "execution_count": 30,
   "metadata": {},
   "outputs": [],
   "source": [
    "_, _, ds, preds = trainer.eval_on_repos(valid_repos[1:2], silent=True)"
   ]
  },
  {
   "cell_type": "code",
   "execution_count": 32,
   "metadata": {},
   "outputs": [
    {
     "data": {
      "application/vnd.jupyter.widget-view+json": {
       "model_id": "5f4ada0b7af14dcf92e494f70534c83b",
       "version_major": 2,
       "version_minor": 0
      },
      "text/plain": [
       "Tab(children=(HTML(value=\"<pre style='line-height: 1.2; padding: 10px; color: rgb(212,212,212); background-col…"
      ]
     },
     "metadata": {},
     "output_type": "display_data"
    }
   ],
   "source": [
    "from spot import PythonType\n",
    "from spot.data import TypeInfDataset, inline_predictions\n",
    "\n",
    "\n",
    "def visualize_batch(dataset: TypeInfDataset, preds: list[list[PythonType]], i: int):\n",
    "    types = preds[i]\n",
    "    typpes_enc = [tokenizer.encode(str(t), add_special_tokens=False) for t in types]\n",
    "\n",
    "    code_tks = inline_predictions(dataset.data[\"input_ids\"][i], typpes_enc, tokenizer)\n",
    "    code_dec = tokenizer.decode(code_tks, skip_special_tokens=False)\n",
    "    label_dec = dataset.chunks_info[i].types\n",
    "    return \"\".join([\n",
    "        \"labels: \", str(label_dec), \"\\n\",\n",
    "        \"preds: \", str(types), \"\\n\",\n",
    "        \"========================== Code =======================\\n\", code_dec, \"\\n\",\n",
    "    ])\n",
    "\n",
    "from spot.visualization import display_code_sequence\n",
    "\n",
    "display_code_sequence([visualize_batch(ds, preds, i) for i in range(6, 20)])"
   ]
  },
  {
   "cell_type": "code",
   "execution_count": null,
   "metadata": {},
   "outputs": [],
   "source": [
    "def add_name(\n",
    "        self, name_attr: Attr, space_attr: Attr, new_schema: Schema\n",
    "    ) -> Atrr\n",
    "    return 1"
   ]
  },
  {
   "cell_type": "code",
   "execution_count": null,
   "metadata": {},
   "outputs": [
    {
     "data": {
      "text/html": [
       "<div>\n",
       "<style scoped>\n",
       "    .dataframe tbody tr th:only-of-type {\n",
       "        vertical-align: middle;\n",
       "    }\n",
       "\n",
       "    .dataframe tbody tr th {\n",
       "        vertical-align: top;\n",
       "    }\n",
       "\n",
       "    .dataframe thead th {\n",
       "        text-align: right;\n",
       "    }\n",
       "</style>\n",
       "<table border=\"1\" class=\"dataframe\">\n",
       "  <thead>\n",
       "    <tr style=\"text-align: right;\">\n",
       "      <th></th>\n",
       "      <th>name</th>\n",
       "      <th>count</th>\n",
       "      <th>avg_time</th>\n",
       "      <th>total_time</th>\n",
       "    </tr>\n",
       "  </thead>\n",
       "  <tbody>\n",
       "    <tr>\n",
       "      <th>3</th>\n",
       "      <td>training &gt; model fitting</td>\n",
       "      <td>7</td>\n",
       "      <td>153.695309</td>\n",
       "      <td>1075.867161</td>\n",
       "    </tr>\n",
       "    <tr>\n",
       "      <th>1</th>\n",
       "      <td>training &gt; model prediction</td>\n",
       "      <td>8</td>\n",
       "      <td>84.873097</td>\n",
       "      <td>678.984775</td>\n",
       "    </tr>\n",
       "    <tr>\n",
       "      <th>2</th>\n",
       "      <td>training &gt; type checking</td>\n",
       "      <td>7</td>\n",
       "      <td>66.090760</td>\n",
       "      <td>462.635319</td>\n",
       "    </tr>\n",
       "    <tr>\n",
       "      <th>0</th>\n",
       "      <td>training &gt; preparing data</td>\n",
       "      <td>15</td>\n",
       "      <td>12.201682</td>\n",
       "      <td>183.025235</td>\n",
       "    </tr>\n",
       "  </tbody>\n",
       "</table>\n",
       "</div>"
      ],
      "text/plain": [
       "                          name  count    avg_time   total_time\n",
       "3     training > model fitting      7  153.695309  1075.867161\n",
       "1  training > model prediction      8   84.873097   678.984775\n",
       "2     training > type checking      7   66.090760   462.635319\n",
       "0    training > preparing data     15   12.201682   183.025235"
      ]
     },
     "metadata": {},
     "output_type": "display_data"
    }
   ],
   "source": [
    "display(trainer.timer.as_dataframe())"
   ]
  }
 ],
 "metadata": {
  "interpreter": {
   "hash": "f6ffc72953da4dd16b2e00785be9c4013ef131f465a8658f3921b6634d4eeec8"
  },
  "kernelspec": {
   "display_name": "Python 3.10.4 ('.venv': pipenv)",
   "language": "python",
   "name": "python3"
  },
  "language_info": {
   "codemirror_mode": {
    "name": "ipython",
    "version": 3
   },
   "file_extension": ".py",
   "mimetype": "text/x-python",
   "name": "python",
   "nbconvert_exporter": "python",
   "pygments_lexer": "ipython3",
   "version": "3.10.4"
  },
  "orig_nbformat": 4
 },
 "nbformat": 4,
 "nbformat_minor": 2
}
