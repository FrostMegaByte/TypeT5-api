{
 "cells": [
  {
   "cell_type": "code",
   "execution_count": 1,
   "metadata": {},
   "outputs": [],
   "source": [
    "%load_ext autoreload\n",
    "%autoreload 2\n",
    "\n",
    "import os\n",
    "import pickle\n",
    "from concurrent.futures import ProcessPoolExecutor\n",
    "from pathlib import Path\n",
    "from typing import *\n",
    "\n",
    "import pandas as pd\n",
    "import plotly.express as px\n",
    "\n",
    "from spot.data import GitRepo\n",
    "from spot.type_env import (\n",
    "    AnnotPath,\n",
    "    MypyChecker,\n",
    "    SelectAnnotations,\n",
    "    TypeInfAction,\n",
    "    TypeInfEnv,\n",
    "    TypeInfState,\n",
    "    collect_annotations,\n",
    "    mypy_checker,\n",
    ")\n",
    "from spot.utils import cst, proj_root, read_file, seq_flatten, tqdm, write_file\n",
    "\n",
    "os.chdir(proj_root())\n",
    "\n",
    "datadir = Path(os.getenv(\"datadir\"))\n",
    "repos_dir = datadir / \"SPOT-data/repos\"\n",
    "\n",
    "useful_repos_path = proj_root() / \"scripts\" / \"useful_repos.pkl\"\n",
    "with useful_repos_path.open(\"rb\") as f:\n",
    "    useful_repos: list[GitRepo] = pickle.load(f)\n",
    "\n",
    "repos_split_path = datadir / \"SPOT-data/repos-processed-with_margin/repos_split.pkl\"\n",
    "with repos_split_path.open(\"rb\") as f:\n",
    "    repos_split = pickle.load(f)"
   ]
  },
  {
   "cell_type": "code",
   "execution_count": 2,
   "metadata": {},
   "outputs": [
    {
     "name": "stderr",
     "output_type": "stream",
     "text": [
      "/home/jiayi/Projects/SPOT/.venv/lib/python3.10/site-packages/torch/nn/modules/module.py:1402: UserWarning: positional arguments and argument \"destination\" are deprecated. nn.Module.state_dict will not accept them in the future. Refer to https://pytorch.org/docs/master/generated/torch.nn.Module.html#torch.nn.Module.state_dict for details.\n",
      "  warnings.warn(\n"
     ]
    }
   ],
   "source": [
    "import torch\n",
    "\n",
    "from spot.model import ModelSPOT, TokenizerSPOT\n",
    "\n",
    "train_from_scrach = True\n",
    "\n",
    "model_path = \"Salesforce/codet5-base\" if train_from_scrach else datadir / \"checkpoints/saved/SPOT-CodeT5-with_margin\"\n",
    "device = torch.device(\"cuda:0\" if torch.cuda.is_available() else \"cpu\")\n",
    "tokenizer: TokenizerSPOT = TokenizerSPOT.from_pretrained(model_path)\n",
    "model: ModelSPOT = ModelSPOT.from_pretrained(model_path).to(device)"
   ]
  },
  {
   "cell_type": "code",
   "execution_count": 3,
   "metadata": {},
   "outputs": [
    {
     "ename": "TypeError",
     "evalue": "DAggerTrainerArgs.__init__() got an unexpected keyword argument 'skip_first_eval'",
     "output_type": "error",
     "traceback": [
      "\u001b[0;31m---------------------------------------------------------------------------\u001b[0m",
      "\u001b[0;31mTypeError\u001b[0m                                 Traceback (most recent call last)",
      "\u001b[1;32m/home/jiayi/Projects/SPOT/scripts/train_dagger.ipynb Cell 3'\u001b[0m in \u001b[0;36m<cell line: 12>\u001b[0;34m()\u001b[0m\n\u001b[1;32m      <a href='vscode-notebook-cell://ssh-remote%2Butopia3/home/jiayi/Projects/SPOT/scripts/train_dagger.ipynb#ch0000002vscode-remote?line=8'>9</a>\u001b[0m scratch_tag \u001b[39m=\u001b[39m \u001b[39m'\u001b[39m\u001b[39m-scratch\u001b[39m\u001b[39m'\u001b[39m \u001b[39mif\u001b[39;00m train_from_scrach \u001b[39melse\u001b[39;00m \u001b[39m'\u001b[39m\u001b[39m'\u001b[39m\n\u001b[1;32m     <a href='vscode-notebook-cell://ssh-remote%2Butopia3/home/jiayi/Projects/SPOT/scripts/train_dagger.ipynb#ch0000002vscode-remote?line=9'>10</a>\u001b[0m model_name \u001b[39m=\u001b[39m \u001b[39mf\u001b[39m\u001b[39m\"\u001b[39m\u001b[39m{\u001b[39;00mtest_tag\u001b[39m}\u001b[39;00m\u001b[39mSPOT-DAgger\u001b[39m\u001b[39m{\u001b[39;00mscratch_tag\u001b[39m}\u001b[39;00m\u001b[39m\"\u001b[39m\n\u001b[0;32m---> <a href='vscode-notebook-cell://ssh-remote%2Butopia3/home/jiayi/Projects/SPOT/scripts/train_dagger.ipynb#ch0000002vscode-remote?line=11'>12</a>\u001b[0m args \u001b[39m=\u001b[39m DAggerTrainerArgs(\n\u001b[1;32m     <a href='vscode-notebook-cell://ssh-remote%2Butopia3/home/jiayi/Projects/SPOT/scripts/train_dagger.ipynb#ch0000002vscode-remote?line=12'>13</a>\u001b[0m     output_dir\u001b[39m=\u001b[39;49mproj_root() \u001b[39m/\u001b[39;49m \u001b[39m\"\u001b[39;49m\u001b[39mcheckpoints\u001b[39;49m\u001b[39m\"\u001b[39;49m \u001b[39m/\u001b[39;49m model_name,\n\u001b[1;32m     <a href='vscode-notebook-cell://ssh-remote%2Butopia3/home/jiayi/Projects/SPOT/scripts/train_dagger.ipynb#ch0000002vscode-remote?line=13'>14</a>\u001b[0m     max_epochs\u001b[39m=\u001b[39;49m\u001b[39m2\u001b[39;49m,\n\u001b[1;32m     <a href='vscode-notebook-cell://ssh-remote%2Butopia3/home/jiayi/Projects/SPOT/scripts/train_dagger.ipynb#ch0000002vscode-remote?line=14'>15</a>\u001b[0m     skip_first_eval\u001b[39m=\u001b[39;49m\u001b[39mFalse\u001b[39;49;00m,\n\u001b[1;32m     <a href='vscode-notebook-cell://ssh-remote%2Butopia3/home/jiayi/Projects/SPOT/scripts/train_dagger.ipynb#ch0000002vscode-remote?line=15'>16</a>\u001b[0m     repos_group_size\u001b[39m=\u001b[39;49m\u001b[39m16\u001b[39;49m,\n\u001b[1;32m     <a href='vscode-notebook-cell://ssh-remote%2Butopia3/home/jiayi/Projects/SPOT/scripts/train_dagger.ipynb#ch0000002vscode-remote?line=16'>17</a>\u001b[0m     ctx_size\u001b[39m=\u001b[39;49m\u001b[39m512\u001b[39;49m,\n\u001b[1;32m     <a href='vscode-notebook-cell://ssh-remote%2Butopia3/home/jiayi/Projects/SPOT/scripts/train_dagger.ipynb#ch0000002vscode-remote?line=17'>18</a>\u001b[0m     ctx_margin\u001b[39m=\u001b[39;49m\u001b[39m128\u001b[39;49m,\n\u001b[1;32m     <a href='vscode-notebook-cell://ssh-remote%2Butopia3/home/jiayi/Projects/SPOT/scripts/train_dagger.ipynb#ch0000002vscode-remote?line=18'>19</a>\u001b[0m     types_in_ctx\u001b[39m=\u001b[39;49m\u001b[39mFalse\u001b[39;49;00m,\n\u001b[1;32m     <a href='vscode-notebook-cell://ssh-remote%2Butopia3/home/jiayi/Projects/SPOT/scripts/train_dagger.ipynb#ch0000002vscode-remote?line=19'>20</a>\u001b[0m     sampling_batch_size\u001b[39m=\u001b[39;49m\u001b[39m300\u001b[39;49m,\n\u001b[1;32m     <a href='vscode-notebook-cell://ssh-remote%2Butopia3/home/jiayi/Projects/SPOT/scripts/train_dagger.ipynb#ch0000002vscode-remote?line=20'>21</a>\u001b[0m     train_batch_size\u001b[39m=\u001b[39;49m\u001b[39m42\u001b[39;49m,\n\u001b[1;32m     <a href='vscode-notebook-cell://ssh-remote%2Butopia3/home/jiayi/Projects/SPOT/scripts/train_dagger.ipynb#ch0000002vscode-remote?line=21'>22</a>\u001b[0m     generation_max_length\u001b[39m=\u001b[39;49m\u001b[39m128\u001b[39;49m,\n\u001b[1;32m     <a href='vscode-notebook-cell://ssh-remote%2Butopia3/home/jiayi/Projects/SPOT/scripts/train_dagger.ipynb#ch0000002vscode-remote?line=22'>23</a>\u001b[0m     max_workers\u001b[39m=\u001b[39;49m\u001b[39m16\u001b[39;49m,\n\u001b[1;32m     <a href='vscode-notebook-cell://ssh-remote%2Butopia3/home/jiayi/Projects/SPOT/scripts/train_dagger.ipynb#ch0000002vscode-remote?line=23'>24</a>\u001b[0m )\n\u001b[1;32m     <a href='vscode-notebook-cell://ssh-remote%2Butopia3/home/jiayi/Projects/SPOT/scripts/train_dagger.ipynb#ch0000002vscode-remote?line=26'>27</a>\u001b[0m trainer \u001b[39m=\u001b[39m DAggerTrainer(model, tokenizer, args)\n\u001b[1;32m     <a href='vscode-notebook-cell://ssh-remote%2Butopia3/home/jiayi/Projects/SPOT/scripts/train_dagger.ipynb#ch0000002vscode-remote?line=27'>28</a>\u001b[0m train_repos \u001b[39m=\u001b[39m [r\u001b[39m.\u001b[39mrepo_dir(repos_dir) \u001b[39mfor\u001b[39;00m r \u001b[39min\u001b[39;00m repos_split[\u001b[39m\"\u001b[39m\u001b[39mtrain\u001b[39m\u001b[39m\"\u001b[39m]]\n",
      "\u001b[0;31mTypeError\u001b[0m: DAggerTrainerArgs.__init__() got an unexpected keyword argument 'skip_first_eval'"
     ]
    }
   ],
   "source": [
    "from IPython.display import display, display_pretty\n",
    "\n",
    "import wandb\n",
    "from spot.training import DAggerTrainer, DAggerTrainerArgs\n",
    "\n",
    "test_run = False\n",
    "test_tag = 'test-' if test_run else ''\n",
    "\n",
    "scratch_tag = '-scratch' if train_from_scrach else ''\n",
    "model_name = f\"{test_tag}SPOT-DAgger{scratch_tag}\"\n",
    "\n",
    "args = DAggerTrainerArgs(\n",
    "    output_dir=proj_root() / \"checkpoints\" / model_name,\n",
    "    max_epochs=2,\n",
    "    skip_first_eval=False,\n",
    "    repos_group_size=16,\n",
    "    ctx_size=512,\n",
    "    ctx_margin=128,\n",
    "    types_in_ctx=False,\n",
    "    sampling_batch_size=300,\n",
    "    train_batch_size=42,\n",
    "    generation_max_length=128,\n",
    "    max_workers=16,\n",
    ")\n",
    "\n",
    "\n",
    "trainer = DAggerTrainer(model, tokenizer, args)\n",
    "train_repos = [r.repo_dir(repos_dir) for r in repos_split[\"train\"]]\n",
    "valid_repos = [r.repo_dir(repos_dir) for r in repos_split[\"valid\"]]\n",
    "if test_run:\n",
    "    train_repos = train_repos[:10]\n",
    "    valid_repos = valid_repos[:10]"
   ]
  },
  {
   "cell_type": "code",
   "execution_count": null,
   "metadata": {},
   "outputs": [
    {
     "data": {
      "text/html": [
       "Finishing last run (ID:1i814ul8) before initializing another..."
      ],
      "text/plain": [
       "<IPython.core.display.HTML object>"
      ]
     },
     "metadata": {},
     "output_type": "display_data"
    },
    {
     "data": {
      "text/html": [
       "Waiting for W&B process to finish... <strong style=\"color:green\">(success).</strong>"
      ],
      "text/plain": [
       "<IPython.core.display.HTML object>"
      ]
     },
     "metadata": {},
     "output_type": "display_data"
    },
    {
     "data": {
      "application/vnd.jupyter.widget-view+json": {
       "model_id": "9981fc926eb34008a7e7fd9596953ae1",
       "version_major": 2,
       "version_minor": 0
      },
      "text/plain": [
       "VBox(children=(Label(value='0.001 MB of 0.001 MB uploaded (0.000 MB deduped)\\r'), FloatProgress(value=1.0, max…"
      ]
     },
     "metadata": {},
     "output_type": "display_data"
    },
    {
     "data": {
      "text/html": [
       "<style>\n",
       "    table.wandb td:nth-child(1) { padding: 0 10px; text-align: left ; width: auto;} td:nth-child(2) {text-align: left ; width: 100%}\n",
       "    .wandb-row { display: flex; flex-direction: row; flex-wrap: wrap; justify-content: flex-start; width: 100% }\n",
       "    .wandb-col { display: flex; flex-direction: column; flex-basis: 100%; flex: 1; padding: 10px; }\n",
       "    </style>\n",
       "<div class=\"wandb-row\"><div class=\"wandb-col\"><h3>Run history:</h3><br/><table class=\"wandb\"><tr><td>epoch</td><td>▁</td></tr><tr><td>loss</td><td>▁</td></tr><tr><td>step</td><td>▁</td></tr></table><br/></div><div class=\"wandb-col\"><h3>Run summary:</h3><br/><table class=\"wandb\"><tr><td>epoch</td><td>1</td></tr><tr><td>loss</td><td>0.67867</td></tr><tr><td>step</td><td>16</td></tr></table><br/></div></div>"
      ],
      "text/plain": [
       "<IPython.core.display.HTML object>"
      ]
     },
     "metadata": {},
     "output_type": "display_data"
    },
    {
     "data": {
      "text/html": [
       "Synced <strong style=\"color:#cdcd00\">rosy-dream-4</strong>: <a href=\"https://wandb.ai/mrvplusone/SPOT-DAgger-scratch/runs/1i814ul8\" target=\"_blank\">https://wandb.ai/mrvplusone/SPOT-DAgger-scratch/runs/1i814ul8</a><br/>Synced 4 W&B file(s), 0 media file(s), 0 artifact file(s) and 0 other file(s)"
      ],
      "text/plain": [
       "<IPython.core.display.HTML object>"
      ]
     },
     "metadata": {},
     "output_type": "display_data"
    },
    {
     "data": {
      "text/html": [
       "Find logs at: <code>./wandb/run-20220512_150056-1i814ul8/logs</code>"
      ],
      "text/plain": [
       "<IPython.core.display.HTML object>"
      ]
     },
     "metadata": {},
     "output_type": "display_data"
    },
    {
     "data": {
      "text/html": [
       "Successfully finished last run (ID:1i814ul8). Initializing new run:<br/>"
      ],
      "text/plain": [
       "<IPython.core.display.HTML object>"
      ]
     },
     "metadata": {},
     "output_type": "display_data"
    },
    {
     "data": {
      "text/html": [
       "Tracking run with wandb version 0.12.16"
      ],
      "text/plain": [
       "<IPython.core.display.HTML object>"
      ]
     },
     "metadata": {},
     "output_type": "display_data"
    },
    {
     "data": {
      "text/html": [
       "Run data is saved locally in <code>/home/jiayi/Projects/SPOT/wandb/run-20220512_152146-3otyktgm</code>"
      ],
      "text/plain": [
       "<IPython.core.display.HTML object>"
      ]
     },
     "metadata": {},
     "output_type": "display_data"
    },
    {
     "data": {
      "text/html": [
       "Syncing run <strong><a href=\"https://wandb.ai/mrvplusone/SPOT-DAgger-scratch/runs/3otyktgm\" target=\"_blank\">fallen-puddle-5</a></strong> to <a href=\"https://wandb.ai/mrvplusone/SPOT-DAgger-scratch\" target=\"_blank\">Weights & Biases</a> (<a href=\"https://wandb.me/run\" target=\"_blank\">docs</a>)<br/>"
      ],
      "text/plain": [
       "<IPython.core.display.HTML object>"
      ]
     },
     "metadata": {},
     "output_type": "display_data"
    },
    {
     "data": {
      "application/vnd.jupyter.widget-view+json": {
       "model_id": "8c725648c38b40bdbe410dbc5c19ce80",
       "version_major": 2,
       "version_minor": 0
      },
      "text/plain": [
       "DAgger Training:   0%|          | 0/1146 [00:00<?, ?it/s]"
      ]
     },
     "metadata": {},
     "output_type": "display_data"
    },
    {
     "ename": "KeyboardInterrupt",
     "evalue": "",
     "output_type": "error",
     "traceback": [
      "\u001b[0;31m---------------------------------------------------------------------------\u001b[0m",
      "\u001b[0;31mKeyboardInterrupt\u001b[0m                         Traceback (most recent call last)",
      "\u001b[1;32m/home/jiayi/Projects/SPOT/scripts/train_dagger.ipynb Cell 4'\u001b[0m in \u001b[0;36m<cell line: 3>\u001b[0;34m()\u001b[0m\n\u001b[1;32m      <a href='vscode-notebook-cell://ssh-remote%2Butopia3/home/jiayi/Projects/SPOT/scripts/train_dagger.ipynb#ch0000003vscode-remote?line=0'>1</a>\u001b[0m wandb\u001b[39m.\u001b[39minit(project\u001b[39m=\u001b[39mmodel_name, config\u001b[39m=\u001b[39margs)\n\u001b[1;32m      <a href='vscode-notebook-cell://ssh-remote%2Butopia3/home/jiayi/Projects/SPOT/scripts/train_dagger.ipynb#ch0000003vscode-remote?line=2'>3</a>\u001b[0m \u001b[39mtry\u001b[39;00m:\n\u001b[0;32m----> <a href='vscode-notebook-cell://ssh-remote%2Butopia3/home/jiayi/Projects/SPOT/scripts/train_dagger.ipynb#ch0000003vscode-remote?line=3'>4</a>\u001b[0m     trainer\u001b[39m.\u001b[39;49mtrain(train_repos, valid_repos, skip_first_eval\u001b[39m=\u001b[39;49m\u001b[39mTrue\u001b[39;49;00m)\n\u001b[1;32m      <a href='vscode-notebook-cell://ssh-remote%2Butopia3/home/jiayi/Projects/SPOT/scripts/train_dagger.ipynb#ch0000003vscode-remote?line=4'>5</a>\u001b[0m \u001b[39mexcept\u001b[39;00m \u001b[39mException\u001b[39;00m \u001b[39mas\u001b[39;00m e:\n\u001b[1;32m      <a href='vscode-notebook-cell://ssh-remote%2Butopia3/home/jiayi/Projects/SPOT/scripts/train_dagger.ipynb#ch0000003vscode-remote?line=5'>6</a>\u001b[0m     wandb\u001b[39m.\u001b[39malert(title\u001b[39m=\u001b[39m\u001b[39m\"\u001b[39m\u001b[39mTraining stopped due to exception\u001b[39m\u001b[39m\"\u001b[39m, text\u001b[39m=\u001b[39m\u001b[39mf\u001b[39m\u001b[39m\"\u001b[39m\u001b[39mIn \u001b[39m\u001b[39m{\u001b[39;00mmodel_name\u001b[39m}\u001b[39;00m\u001b[39m, exception: \u001b[39m\u001b[39m{\u001b[39;00me\u001b[39m}\u001b[39;00m\u001b[39m\"\u001b[39m)\n",
      "File \u001b[0;32m~/Projects/SPOT/src/spot/training.py:110\u001b[0m, in \u001b[0;36mDAggerTrainer.train\u001b[0;34m(self, train_repos, eval_repos, skip_first_eval)\u001b[0m\n\u001b[1;32m    <a href='file:///home/jiayi/Projects/SPOT/src/spot/training.py?line=107'>108</a>\u001b[0m     \u001b[39massert\u001b[39;00m \u001b[39mnot\u001b[39;00m early_stopper\u001b[39m.\u001b[39mshould_stop(\u001b[39m0\u001b[39m, eval_step())\n\u001b[1;32m    <a href='file:///home/jiayi/Projects/SPOT/src/spot/training.py?line=108'>109</a>\u001b[0m \u001b[39mfor\u001b[39;00m epoch \u001b[39min\u001b[39;00m \u001b[39mrange\u001b[39m(\u001b[39m1\u001b[39m, max_epochs \u001b[39m+\u001b[39m \u001b[39m1\u001b[39m):\n\u001b[0;32m--> <a href='file:///home/jiayi/Projects/SPOT/src/spot/training.py?line=109'>110</a>\u001b[0m     train_step()\n\u001b[1;32m    <a href='file:///home/jiayi/Projects/SPOT/src/spot/training.py?line=110'>111</a>\u001b[0m     score \u001b[39m=\u001b[39m eval_step()\n\u001b[1;32m    <a href='file:///home/jiayi/Projects/SPOT/src/spot/training.py?line=111'>112</a>\u001b[0m     \u001b[39mif\u001b[39;00m early_stopper\u001b[39m.\u001b[39mshould_stop(epoch, score):\n",
      "File \u001b[0;32m~/Projects/SPOT/src/spot/training.py:96\u001b[0m, in \u001b[0;36mDAggerTrainer.train.<locals>.train_step\u001b[0;34m()\u001b[0m\n\u001b[1;32m     <a href='file:///home/jiayi/Projects/SPOT/src/spot/training.py?line=93'>94</a>\u001b[0m \u001b[39mwith\u001b[39;00m \u001b[39mself\u001b[39m\u001b[39m.\u001b[39mlog_task(\u001b[39m\"\u001b[39m\u001b[39mtraining\u001b[39m\u001b[39m\"\u001b[39m):\n\u001b[1;32m     <a href='file:///home/jiayi/Projects/SPOT/src/spot/training.py?line=94'>95</a>\u001b[0m     \u001b[39mfor\u001b[39;00m repos \u001b[39min\u001b[39;00m grouped(train_repos, repos_group_size):\n\u001b[0;32m---> <a href='file:///home/jiayi/Projects/SPOT/src/spot/training.py?line=95'>96</a>\u001b[0m         super_data, dagger_data, _ \u001b[39m=\u001b[39m \u001b[39mself\u001b[39;49m\u001b[39m.\u001b[39;49mgenerate_r1_inputs(\n\u001b[1;32m     <a href='file:///home/jiayi/Projects/SPOT/src/spot/training.py?line=96'>97</a>\u001b[0m             repos, silent\u001b[39m=\u001b[39;49m\u001b[39mTrue\u001b[39;49;00m\n\u001b[1;32m     <a href='file:///home/jiayi/Projects/SPOT/src/spot/training.py?line=97'>98</a>\u001b[0m         )\n\u001b[1;32m     <a href='file:///home/jiayi/Projects/SPOT/src/spot/training.py?line=98'>99</a>\u001b[0m         train_data \u001b[39m=\u001b[39m interleave_datasets(\n\u001b[1;32m    <a href='file:///home/jiayi/Projects/SPOT/src/spot/training.py?line=99'>100</a>\u001b[0m             [super_data\u001b[39m.\u001b[39mdata, dagger_data\u001b[39m.\u001b[39mdata]\n\u001b[1;32m    <a href='file:///home/jiayi/Projects/SPOT/src/spot/training.py?line=100'>101</a>\u001b[0m         )\n\u001b[1;32m    <a href='file:///home/jiayi/Projects/SPOT/src/spot/training.py?line=101'>102</a>\u001b[0m         \u001b[39mwith\u001b[39;00m \u001b[39mself\u001b[39m\u001b[39m.\u001b[39mlog_task(\u001b[39m\"\u001b[39m\u001b[39mtrain_on_data\u001b[39m\u001b[39m\"\u001b[39m):\n",
      "File \u001b[0;32m~/Projects/SPOT/src/spot/training.py:158\u001b[0m, in \u001b[0;36mDAggerTrainer.generate_r1_inputs\u001b[0;34m(self, repos, silent)\u001b[0m\n\u001b[1;32m    <a href='file:///home/jiayi/Projects/SPOT/src/spot/training.py?line=155'>156</a>\u001b[0m \u001b[39m# make predictions on the original training set\u001b[39;00m\n\u001b[1;32m    <a href='file:///home/jiayi/Projects/SPOT/src/spot/training.py?line=156'>157</a>\u001b[0m \u001b[39mwith\u001b[39;00m \u001b[39mself\u001b[39m\u001b[39m.\u001b[39mlog_task(\u001b[39m\"\u001b[39m\u001b[39mpredict\u001b[39m\u001b[39m\"\u001b[39m):\n\u001b[0;32m--> <a href='file:///home/jiayi/Projects/SPOT/src/spot/training.py?line=157'>158</a>\u001b[0m     r0_preds \u001b[39m=\u001b[39m \u001b[39mself\u001b[39;49m\u001b[39m.\u001b[39;49mpredict(r0_data, silent\u001b[39m=\u001b[39;49msilent)\n\u001b[1;32m    <a href='file:///home/jiayi/Projects/SPOT/src/spot/training.py?line=158'>159</a>\u001b[0m \u001b[39mwith\u001b[39;00m \u001b[39mself\u001b[39m\u001b[39m.\u001b[39mlog_task(\u001b[39m\"\u001b[39m\u001b[39mget_type_checked_inputs\u001b[39m\u001b[39m\"\u001b[39m):\n\u001b[1;32m    <a href='file:///home/jiayi/Projects/SPOT/src/spot/training.py?line=159'>160</a>\u001b[0m     new_inputs \u001b[39m=\u001b[39m \u001b[39mself\u001b[39m\u001b[39m.\u001b[39mget_type_checked_inputs(\n\u001b[1;32m    <a href='file:///home/jiayi/Projects/SPOT/src/spot/training.py?line=160'>161</a>\u001b[0m         r0_data, r0_preds, repos, silent\u001b[39m=\u001b[39msilent\n\u001b[1;32m    <a href='file:///home/jiayi/Projects/SPOT/src/spot/training.py?line=161'>162</a>\u001b[0m     )\n",
      "File \u001b[0;32m~/Projects/SPOT/src/spot/training.py:192\u001b[0m, in \u001b[0;36mDAggerTrainer.predict\u001b[0;34m(self, dataset, silent)\u001b[0m\n\u001b[1;32m    <a href='file:///home/jiayi/Projects/SPOT/src/spot/training.py?line=189'>190</a>\u001b[0m chunk_id \u001b[39m=\u001b[39m \u001b[39m0\u001b[39m\n\u001b[1;32m    <a href='file:///home/jiayi/Projects/SPOT/src/spot/training.py?line=190'>191</a>\u001b[0m \u001b[39mfor\u001b[39;00m batch \u001b[39min\u001b[39;00m loader:\n\u001b[0;32m--> <a href='file:///home/jiayi/Projects/SPOT/src/spot/training.py?line=191'>192</a>\u001b[0m     output_ids \u001b[39m=\u001b[39m \u001b[39mself\u001b[39;49m\u001b[39m.\u001b[39;49mmodel\u001b[39m.\u001b[39;49mgenerate(\n\u001b[1;32m    <a href='file:///home/jiayi/Projects/SPOT/src/spot/training.py?line=192'>193</a>\u001b[0m         inputs\u001b[39m=\u001b[39;49mbatch[\u001b[39m\"\u001b[39;49m\u001b[39minput_ids\u001b[39;49m\u001b[39m\"\u001b[39;49m]\u001b[39m.\u001b[39;49mto(device),\n\u001b[1;32m    <a href='file:///home/jiayi/Projects/SPOT/src/spot/training.py?line=193'>194</a>\u001b[0m         do_sample\u001b[39m=\u001b[39;49m\u001b[39mTrue\u001b[39;49;00m,\n\u001b[1;32m    <a href='file:///home/jiayi/Projects/SPOT/src/spot/training.py?line=194'>195</a>\u001b[0m         top_p\u001b[39m=\u001b[39;49m\u001b[39mself\u001b[39;49m\u001b[39m.\u001b[39;49margs\u001b[39m.\u001b[39;49mtop_p,\n\u001b[1;32m    <a href='file:///home/jiayi/Projects/SPOT/src/spot/training.py?line=195'>196</a>\u001b[0m         max_length\u001b[39m=\u001b[39;49m\u001b[39mself\u001b[39;49m\u001b[39m.\u001b[39;49margs\u001b[39m.\u001b[39;49mgeneration_max_length,\n\u001b[1;32m    <a href='file:///home/jiayi/Projects/SPOT/src/spot/training.py?line=196'>197</a>\u001b[0m         \u001b[39m# num_beams=self.args.generation_num_beams,\u001b[39;49;00m\n\u001b[1;32m    <a href='file:///home/jiayi/Projects/SPOT/src/spot/training.py?line=197'>198</a>\u001b[0m     )\u001b[39m.\u001b[39mcpu()  \u001b[39m# type: ignore\u001b[39;00m\n\u001b[1;32m    <a href='file:///home/jiayi/Projects/SPOT/src/spot/training.py?line=198'>199</a>\u001b[0m     \u001b[39massert\u001b[39;00m \u001b[39mlen\u001b[39m(output_ids\u001b[39m.\u001b[39mshape) \u001b[39m==\u001b[39m \u001b[39m2\u001b[39m\n\u001b[1;32m    <a href='file:///home/jiayi/Projects/SPOT/src/spot/training.py?line=200'>201</a>\u001b[0m     n_chunks \u001b[39m=\u001b[39m output_ids\u001b[39m.\u001b[39mshape[\u001b[39m0\u001b[39m]\n",
      "File \u001b[0;32m~/Projects/SPOT/.venv/lib/python3.10/site-packages/torch/autograd/grad_mode.py:27\u001b[0m, in \u001b[0;36m_DecoratorContextManager.__call__.<locals>.decorate_context\u001b[0;34m(*args, **kwargs)\u001b[0m\n\u001b[1;32m     <a href='file:///home/jiayi/Projects/SPOT/.venv/lib/python3.10/site-packages/torch/autograd/grad_mode.py?line=23'>24</a>\u001b[0m \u001b[39m@functools\u001b[39m\u001b[39m.\u001b[39mwraps(func)\n\u001b[1;32m     <a href='file:///home/jiayi/Projects/SPOT/.venv/lib/python3.10/site-packages/torch/autograd/grad_mode.py?line=24'>25</a>\u001b[0m \u001b[39mdef\u001b[39;00m \u001b[39mdecorate_context\u001b[39m(\u001b[39m*\u001b[39margs, \u001b[39m*\u001b[39m\u001b[39m*\u001b[39mkwargs):\n\u001b[1;32m     <a href='file:///home/jiayi/Projects/SPOT/.venv/lib/python3.10/site-packages/torch/autograd/grad_mode.py?line=25'>26</a>\u001b[0m     \u001b[39mwith\u001b[39;00m \u001b[39mself\u001b[39m\u001b[39m.\u001b[39mclone():\n\u001b[0;32m---> <a href='file:///home/jiayi/Projects/SPOT/.venv/lib/python3.10/site-packages/torch/autograd/grad_mode.py?line=26'>27</a>\u001b[0m         \u001b[39mreturn\u001b[39;00m func(\u001b[39m*\u001b[39;49margs, \u001b[39m*\u001b[39;49m\u001b[39m*\u001b[39;49mkwargs)\n",
      "File \u001b[0;32m~/Projects/SPOT/.venv/lib/python3.10/site-packages/transformers/generation_utils.py:1273\u001b[0m, in \u001b[0;36mGenerationMixin.generate\u001b[0;34m(self, inputs, max_length, min_length, do_sample, early_stopping, num_beams, temperature, top_k, top_p, typical_p, repetition_penalty, bad_words_ids, force_words_ids, bos_token_id, pad_token_id, eos_token_id, length_penalty, no_repeat_ngram_size, encoder_no_repeat_ngram_size, num_return_sequences, max_time, max_new_tokens, decoder_start_token_id, use_cache, num_beam_groups, diversity_penalty, prefix_allowed_tokens_fn, logits_processor, stopping_criteria, constraints, output_attentions, output_hidden_states, output_scores, return_dict_in_generate, forced_bos_token_id, forced_eos_token_id, remove_invalid_values, synced_gpus, exponential_decay_length_penalty, **model_kwargs)\u001b[0m\n\u001b[1;32m   <a href='file:///home/jiayi/Projects/SPOT/.venv/lib/python3.10/site-packages/transformers/generation_utils.py?line=1267'>1268</a>\u001b[0m logits_warper \u001b[39m=\u001b[39m \u001b[39mself\u001b[39m\u001b[39m.\u001b[39m_get_logits_warper(\n\u001b[1;32m   <a href='file:///home/jiayi/Projects/SPOT/.venv/lib/python3.10/site-packages/transformers/generation_utils.py?line=1268'>1269</a>\u001b[0m     top_k\u001b[39m=\u001b[39mtop_k, top_p\u001b[39m=\u001b[39mtop_p, typical_p\u001b[39m=\u001b[39mtypical_p, temperature\u001b[39m=\u001b[39mtemperature, num_beams\u001b[39m=\u001b[39mnum_beams\n\u001b[1;32m   <a href='file:///home/jiayi/Projects/SPOT/.venv/lib/python3.10/site-packages/transformers/generation_utils.py?line=1269'>1270</a>\u001b[0m )\n\u001b[1;32m   <a href='file:///home/jiayi/Projects/SPOT/.venv/lib/python3.10/site-packages/transformers/generation_utils.py?line=1271'>1272</a>\u001b[0m \u001b[39m# 11. expand input_ids with `num_return_sequences` additional sequences per batch\u001b[39;00m\n\u001b[0;32m-> <a href='file:///home/jiayi/Projects/SPOT/.venv/lib/python3.10/site-packages/transformers/generation_utils.py?line=1272'>1273</a>\u001b[0m input_ids, model_kwargs \u001b[39m=\u001b[39m \u001b[39mself\u001b[39;49m\u001b[39m.\u001b[39;49m_expand_inputs_for_generation(\n\u001b[1;32m   <a href='file:///home/jiayi/Projects/SPOT/.venv/lib/python3.10/site-packages/transformers/generation_utils.py?line=1273'>1274</a>\u001b[0m     input_ids,\n\u001b[1;32m   <a href='file:///home/jiayi/Projects/SPOT/.venv/lib/python3.10/site-packages/transformers/generation_utils.py?line=1274'>1275</a>\u001b[0m     expand_size\u001b[39m=\u001b[39;49mnum_return_sequences,\n\u001b[1;32m   <a href='file:///home/jiayi/Projects/SPOT/.venv/lib/python3.10/site-packages/transformers/generation_utils.py?line=1275'>1276</a>\u001b[0m     is_encoder_decoder\u001b[39m=\u001b[39;49m\u001b[39mself\u001b[39;49m\u001b[39m.\u001b[39;49mconfig\u001b[39m.\u001b[39;49mis_encoder_decoder,\n\u001b[1;32m   <a href='file:///home/jiayi/Projects/SPOT/.venv/lib/python3.10/site-packages/transformers/generation_utils.py?line=1276'>1277</a>\u001b[0m     \u001b[39m*\u001b[39;49m\u001b[39m*\u001b[39;49mmodel_kwargs,\n\u001b[1;32m   <a href='file:///home/jiayi/Projects/SPOT/.venv/lib/python3.10/site-packages/transformers/generation_utils.py?line=1277'>1278</a>\u001b[0m )\n\u001b[1;32m   <a href='file:///home/jiayi/Projects/SPOT/.venv/lib/python3.10/site-packages/transformers/generation_utils.py?line=1279'>1280</a>\u001b[0m \u001b[39m# 12. run sample\u001b[39;00m\n\u001b[1;32m   <a href='file:///home/jiayi/Projects/SPOT/.venv/lib/python3.10/site-packages/transformers/generation_utils.py?line=1280'>1281</a>\u001b[0m \u001b[39mreturn\u001b[39;00m \u001b[39mself\u001b[39m\u001b[39m.\u001b[39msample(\n\u001b[1;32m   <a href='file:///home/jiayi/Projects/SPOT/.venv/lib/python3.10/site-packages/transformers/generation_utils.py?line=1281'>1282</a>\u001b[0m     input_ids,\n\u001b[1;32m   <a href='file:///home/jiayi/Projects/SPOT/.venv/lib/python3.10/site-packages/transformers/generation_utils.py?line=1282'>1283</a>\u001b[0m     logits_processor\u001b[39m=\u001b[39mlogits_processor,\n\u001b[0;32m   (...)\u001b[0m\n\u001b[1;32m   <a href='file:///home/jiayi/Projects/SPOT/.venv/lib/python3.10/site-packages/transformers/generation_utils.py?line=1290'>1291</a>\u001b[0m     \u001b[39m*\u001b[39m\u001b[39m*\u001b[39mmodel_kwargs,\n\u001b[1;32m   <a href='file:///home/jiayi/Projects/SPOT/.venv/lib/python3.10/site-packages/transformers/generation_utils.py?line=1291'>1292</a>\u001b[0m )\n",
      "File \u001b[0;32m~/Projects/SPOT/.venv/lib/python3.10/site-packages/transformers/generation_utils.py:578\u001b[0m, in \u001b[0;36mGenerationMixin._expand_inputs_for_generation\u001b[0;34m(input_ids, expand_size, is_encoder_decoder, attention_mask, encoder_outputs, **model_kwargs)\u001b[0m\n\u001b[1;32m    <a href='file:///home/jiayi/Projects/SPOT/.venv/lib/python3.10/site-packages/transformers/generation_utils.py?line=567'>568</a>\u001b[0m \u001b[39m@staticmethod\u001b[39m\n\u001b[1;32m    <a href='file:///home/jiayi/Projects/SPOT/.venv/lib/python3.10/site-packages/transformers/generation_utils.py?line=568'>569</a>\u001b[0m \u001b[39mdef\u001b[39;00m \u001b[39m_expand_inputs_for_generation\u001b[39m(\n\u001b[1;32m    <a href='file:///home/jiayi/Projects/SPOT/.venv/lib/python3.10/site-packages/transformers/generation_utils.py?line=569'>570</a>\u001b[0m     input_ids: torch\u001b[39m.\u001b[39mLongTensor,\n\u001b[0;32m   (...)\u001b[0m\n\u001b[1;32m    <a href='file:///home/jiayi/Projects/SPOT/.venv/lib/python3.10/site-packages/transformers/generation_utils.py?line=574'>575</a>\u001b[0m     \u001b[39m*\u001b[39m\u001b[39m*\u001b[39mmodel_kwargs,\n\u001b[1;32m    <a href='file:///home/jiayi/Projects/SPOT/.venv/lib/python3.10/site-packages/transformers/generation_utils.py?line=575'>576</a>\u001b[0m ) \u001b[39m-\u001b[39m\u001b[39m>\u001b[39m Tuple[torch\u001b[39m.\u001b[39mLongTensor, Dict[\u001b[39mstr\u001b[39m, Any]]:\n\u001b[1;32m    <a href='file:///home/jiayi/Projects/SPOT/.venv/lib/python3.10/site-packages/transformers/generation_utils.py?line=576'>577</a>\u001b[0m     expanded_return_idx \u001b[39m=\u001b[39m (\n\u001b[0;32m--> <a href='file:///home/jiayi/Projects/SPOT/.venv/lib/python3.10/site-packages/transformers/generation_utils.py?line=577'>578</a>\u001b[0m         torch\u001b[39m.\u001b[39;49marange(input_ids\u001b[39m.\u001b[39;49mshape[\u001b[39m0\u001b[39;49m])\u001b[39m.\u001b[39;49mview(\u001b[39m-\u001b[39;49m\u001b[39m1\u001b[39;49m, \u001b[39m1\u001b[39;49m)\u001b[39m.\u001b[39;49mrepeat(\u001b[39m1\u001b[39;49m, expand_size)\u001b[39m.\u001b[39;49mview(\u001b[39m-\u001b[39;49m\u001b[39m1\u001b[39;49m)\u001b[39m.\u001b[39;49mto(input_ids\u001b[39m.\u001b[39;49mdevice)\n\u001b[1;32m    <a href='file:///home/jiayi/Projects/SPOT/.venv/lib/python3.10/site-packages/transformers/generation_utils.py?line=578'>579</a>\u001b[0m     )\n\u001b[1;32m    <a href='file:///home/jiayi/Projects/SPOT/.venv/lib/python3.10/site-packages/transformers/generation_utils.py?line=579'>580</a>\u001b[0m     input_ids \u001b[39m=\u001b[39m input_ids\u001b[39m.\u001b[39mindex_select(\u001b[39m0\u001b[39m, expanded_return_idx)\n\u001b[1;32m    <a href='file:///home/jiayi/Projects/SPOT/.venv/lib/python3.10/site-packages/transformers/generation_utils.py?line=581'>582</a>\u001b[0m     \u001b[39mif\u001b[39;00m \u001b[39m\"\u001b[39m\u001b[39mtoken_type_ids\u001b[39m\u001b[39m\"\u001b[39m \u001b[39min\u001b[39;00m model_kwargs:\n",
      "\u001b[0;31mKeyboardInterrupt\u001b[0m: "
     ]
    }
   ],
   "source": [
    "wandb.init(project=model_name, config=args)\n",
    "\n",
    "try:\n",
    "    trainer.train(train_repos, valid_repos)\n",
    "except Exception as e:\n",
    "    wandb.alert(title=\"Training stopped due to exception\", text=f\"In {model_name}, exception: {e}\")\n",
    "    raise e\n",
    "wandb.alert(title=\"Training finished\", text=f\"{model_name} has finished.\")"
   ]
  },
  {
   "cell_type": "code",
   "execution_count": null,
   "metadata": {},
   "outputs": [
    {
     "data": {
      "text/plain": [
       "{4: 1875,\n",
       " 55: 1596,\n",
       " 74: 1983,\n",
       " 35: 1762,\n",
       " 91: 1767,\n",
       " 79: 1337,\n",
       " 31: 1082,\n",
       " 0: 1023,\n",
       " 12: 1630}"
      ]
     },
     "execution_count": 8,
     "metadata": {},
     "output_type": "execute_result"
    }
   ],
   "source": [
    "from random import randint\n",
    "rd = {randint(0, 100): randint(1000,2000) for _ in range(10)}\n",
    "rd"
   ]
  },
  {
   "cell_type": "code",
   "execution_count": null,
   "metadata": {},
   "outputs": [
    {
     "data": {
      "text/plain": [
       "[4, 55, 74, 35, 91, 79, 31, 0, 12]"
      ]
     },
     "execution_count": 10,
     "metadata": {},
     "output_type": "execute_result"
    }
   ],
   "source": [
    "list(rd.keys())"
   ]
  },
  {
   "cell_type": "code",
   "execution_count": null,
   "metadata": {},
   "outputs": [
    {
     "data": {
      "application/vnd.jupyter.widget-view+json": {
       "model_id": "50a76eee71ce4fa6b79ba73c59a28cdd",
       "version_major": 2,
       "version_minor": 0
      },
      "text/plain": [
       "parsing and masking sources:   0%|          | 0/86 [00:00<?, ?it/s]"
      ]
     },
     "metadata": {},
     "output_type": "display_data"
    },
    {
     "data": {
      "application/vnd.jupyter.widget-view+json": {
       "model_id": "45ad58a2197c4529b76eca95a24b65de",
       "version_major": 2,
       "version_minor": 0
      },
      "text/plain": [
       "tokenizing sources:   0%|          | 0/86 [00:00<?, ?it/s]"
      ]
     },
     "metadata": {},
     "output_type": "display_data"
    },
    {
     "data": {
      "application/vnd.jupyter.widget-view+json": {
       "model_id": "95070e780a9e4dd2937358b901ada5da",
       "version_major": 2,
       "version_minor": 0
      },
      "text/plain": [
       "processing chunks:   0%|          | 0/646 [00:00<?, ?it/s]"
      ]
     },
     "metadata": {},
     "output_type": "display_data"
    },
    {
     "data": {
      "application/vnd.jupyter.widget-view+json": {
       "model_id": "289653f76e2e4c2c8441153b2ed2b7a4",
       "version_major": 2,
       "version_minor": 0
      },
      "text/plain": [
       "predict:   0%|          | 0/346 [00:00<?, ?it/s]"
      ]
     },
     "metadata": {},
     "output_type": "display_data"
    },
    {
     "data": {
      "application/vnd.jupyter.widget-view+json": {
       "model_id": "059a9f3f40fc4e06b0368d46fc500519",
       "version_major": 2,
       "version_minor": 0
      },
      "text/plain": [
       "apply file changes:   0%|          | 0/53 [00:00<?, ?it/s]"
      ]
     },
     "metadata": {},
     "output_type": "display_data"
    },
    {
     "data": {
      "application/vnd.jupyter.widget-view+json": {
       "model_id": "1c0dbde5841e4f42ba42e100bfdcb94a",
       "version_major": 2,
       "version_minor": 0
      },
      "text/plain": [
       "calling mypy:   0%|          | 0/3 [00:00<?, ?it/s]"
      ]
     },
     "metadata": {},
     "output_type": "display_data"
    },
    {
     "data": {
      "application/vnd.jupyter.widget-view+json": {
       "model_id": "0dbcf3bf913c44a9ba242a163934d640",
       "version_major": 2,
       "version_minor": 0
      },
      "text/plain": [
       "generating augmented inputs:   0%|          | 0/53 [00:00<?, ?it/s]"
      ]
     },
     "metadata": {},
     "output_type": "display_data"
    },
    {
     "data": {
      "application/vnd.jupyter.widget-view+json": {
       "model_id": "5cc22fb26a0e448bb5be25ffeeef9d3d",
       "version_major": 2,
       "version_minor": 0
      },
      "text/plain": [
       "tokenizing sources:   0%|          | 0/53 [00:00<?, ?it/s]"
      ]
     },
     "metadata": {},
     "output_type": "display_data"
    },
    {
     "data": {
      "application/vnd.jupyter.widget-view+json": {
       "model_id": "6113a3913fcc47a9998cd860d35a5123",
       "version_major": 2,
       "version_minor": 0
      },
      "text/plain": [
       "processing chunks:   0%|          | 0/654 [00:00<?, ?it/s]"
      ]
     },
     "metadata": {},
     "output_type": "display_data"
    },
    {
     "data": {
      "application/vnd.jupyter.widget-view+json": {
       "model_id": "0f451af7b02b400f87d1b589c8617441",
       "version_major": 2,
       "version_minor": 0
      },
      "text/plain": [
       "predict:   0%|          | 0/357 [00:00<?, ?it/s]"
      ]
     },
     "metadata": {},
     "output_type": "display_data"
    }
   ],
   "source": [
    "_, _, ds, preds = trainer.eval_on_repos(valid_repos[1:4], silent=False)"
   ]
  },
  {
   "cell_type": "code",
   "execution_count": null,
   "metadata": {},
   "outputs": [
    {
     "data": {
      "application/vnd.jupyter.widget-view+json": {
       "model_id": "ffd692bd5dd34e299b98ee0625995e95",
       "version_major": 2,
       "version_minor": 0
      },
      "text/plain": [
       "Tab(children=(HTML(value=\"<pre style='line-height:1.2;'>labels: [List[Schema]]\\npreds: [List[Union[Schema, Md5…"
      ]
     },
     "metadata": {},
     "output_type": "display_data"
    }
   ],
   "source": [
    "from spot.data import TypeInfDataset, inline_predictions\n",
    "from spot import PythonType\n",
    "\n",
    "def visualize_batch(dataset: TypeInfDataset, preds: list[list[PythonType]], i: int):\n",
    "    types = preds[i]\n",
    "    typpes_enc = [tokenizer.encode(str(t), add_special_tokens=False) for t in types]\n",
    "\n",
    "    code_tks = inline_predictions(dataset.data[\"input_ids\"][i], typpes_enc, tokenizer)\n",
    "    code_dec = tokenizer.decode(code_tks, skip_special_tokens=False)\n",
    "    label_dec = dataset.chunks_info[i].types\n",
    "    return \"\".join([\n",
    "        \"labels: \", str(label_dec), \"\\n\",\n",
    "        \"preds: \", str(types), \"\\n\",\n",
    "        \"========================== Code =======================\\n\", code_dec, \"\\n\",\n",
    "    ])\n",
    "\n",
    "from spot.visualization import display_code_sequence\n",
    "\n",
    "\n",
    "display_code_sequence([visualize_batch(ds, preds, i) for i in range(6, 20)])"
   ]
  },
  {
   "cell_type": "code",
   "execution_count": null,
   "metadata": {},
   "outputs": [
    {
     "data": {
      "text/html": [
       "<div>\n",
       "<style scoped>\n",
       "    .dataframe tbody tr th:only-of-type {\n",
       "        vertical-align: middle;\n",
       "    }\n",
       "\n",
       "    .dataframe tbody tr th {\n",
       "        vertical-align: top;\n",
       "    }\n",
       "\n",
       "    .dataframe thead th {\n",
       "        text-align: right;\n",
       "    }\n",
       "</style>\n",
       "<table border=\"1\" class=\"dataframe\">\n",
       "  <thead>\n",
       "    <tr style=\"text-align: right;\">\n",
       "      <th></th>\n",
       "      <th>name</th>\n",
       "      <th>count</th>\n",
       "      <th>avg_time</th>\n",
       "      <th>total_time</th>\n",
       "    </tr>\n",
       "  </thead>\n",
       "  <tbody>\n",
       "    <tr>\n",
       "      <th>3</th>\n",
       "      <td>training &gt; model fitting</td>\n",
       "      <td>7</td>\n",
       "      <td>153.695309</td>\n",
       "      <td>1075.867161</td>\n",
       "    </tr>\n",
       "    <tr>\n",
       "      <th>1</th>\n",
       "      <td>training &gt; model prediction</td>\n",
       "      <td>8</td>\n",
       "      <td>84.873097</td>\n",
       "      <td>678.984775</td>\n",
       "    </tr>\n",
       "    <tr>\n",
       "      <th>2</th>\n",
       "      <td>training &gt; type checking</td>\n",
       "      <td>7</td>\n",
       "      <td>66.090760</td>\n",
       "      <td>462.635319</td>\n",
       "    </tr>\n",
       "    <tr>\n",
       "      <th>0</th>\n",
       "      <td>training &gt; preparing data</td>\n",
       "      <td>15</td>\n",
       "      <td>12.201682</td>\n",
       "      <td>183.025235</td>\n",
       "    </tr>\n",
       "  </tbody>\n",
       "</table>\n",
       "</div>"
      ],
      "text/plain": [
       "                          name  count    avg_time   total_time\n",
       "3     training > model fitting      7  153.695309  1075.867161\n",
       "1  training > model prediction      8   84.873097   678.984775\n",
       "2     training > type checking      7   66.090760   462.635319\n",
       "0    training > preparing data     15   12.201682   183.025235"
      ]
     },
     "metadata": {},
     "output_type": "display_data"
    }
   ],
   "source": [
    "display(trainer.timer.as_dataframe())"
   ]
  },
  {
   "cell_type": "code",
   "execution_count": null,
   "metadata": {},
   "outputs": [],
   "source": [
    "code=\"\"\"from typing import Any # SPOT\n",
    "\"Check health of a baseplate service on localhost.\"\n",
    "import argparse\n",
    "import socket\n",
    "import sys\n",
    "import typing\n",
    "import urllib.parse\n",
    "\n",
    "import requests\n",
    "\n",
    "from baseplate.lib._requests import add_unix_socket_support\n",
    "from baseplate.lib.config import Endpoint\n",
    "from baseplate.lib.config import EndpointConfiguration\n",
    "from baseplate.lib.config import InternetAddress\n",
    "from baseplate.lib.thrift_pool import ThriftConnectionPool\n",
    "from baseplate.thrift import BaseplateServiceV2\n",
    "from baseplate.thrift.ttypes import IsHealthyProbe\n",
    "from baseplate.thrift.ttypes import IsHealthyRequest\n",
    "\n",
    "\n",
    "TIMEOUT = 30  # seconds\n",
    "\n",
    "\n",
    "def check_thrift_service(endpoint: Endpoint, probe: str) -> None:\n",
    "    pool = ThriftConnectionPool(endpoint, size=1, timeout=TIMEOUT)\n",
    "    with pool.connection() as protocol:\n",
    "        client = BaseplateServiceV2.Client(protocol)\n",
    "        assert client.is_healthy(\n",
    "            request=IsHealthyRequest(probe=probe),\n",
    "        ), f\"service indicated unhealthiness in probe {probe}\"\n",
    "\n",
    "\n",
    "def check_http_service(endpoint: EndpointConfiguration, probe: str) -> InternetAddress:\n",
    "    if endpoint.family == socket.AF_INET:\n",
    "        address: None = typing.cast(InternetAddress, endpoint.address)\n",
    "        url = f\"http://{address.host}:{address.port}/health?type={probe}\"\n",
    "    elif endpoint.family == socket.AF_UNIX:\n",
    "        quoted_path = urllib.parse.quote(typing.cast(str, endpoint.address), safe=\"\")\n",
    "        url = f\"http+unix://{quoted_path}/health?type={probe}\"\n",
    "    else:\n",
    "        raise ValueError(f\"unrecognized socket family {endpoint.family!r}\")\n",
    "\n",
    "    session = requests.Session()\n",
    "    add_unix_socket_support(session)\n",
    "    response = session.get(url, timeout=TIMEOUT)\n",
    "    response.raise_for_status()\n",
    "    response.json()\n",
    "\n",
    "\n",
    "CHECKERS = {\"thrift\": check_thrift_service, \"wsgi\": check_http_service}\n",
    "\n",
    "\n",
    "def parse_args() -> argparse.Namespace:\n",
    "    parser = argparse.ArgumentParser(description=sys.modules[__name__].__doc__)\n",
    "\n",
    "    parser.add_argument(\n",
    "        \"type\",\n",
    "        choices=CHECKERS.keys(),\n",
    "        default=\"thrift\",\n",
    "        help=\"The protocol of the service to check.\",\n",
    "    )\n",
    "    parser.add_argument(\n",
    "        \"endpoint\",\n",
    "        type=Endpoint,\n",
    "        default=Endpoint(\"localhost:9090\"),\n",
    "        help=\"The endpoint to find the service on.\",\n",
    "    )\n",
    "    parser.add_argument(\n",
    "        \"--probe\",\n",
    "        choices=[probe.lower() for probe in IsHealthyProbe._NAMES_TO_VALUES],\n",
    "        default=\"readiness\",\n",
    "        help=\"The probe to check.\",\n",
    "    )\n",
    "\n",
    "    return parser.parse_args()\n",
    "\n",
    "\n",
    "def run_healthchecks() -> None:\n",
    "    args = parse_args()\n",
    "\n",
    "    checker = CHECKERS[args.type]\n",
    "    checker(args.endpoint, IsHealthyProbe._NAMES_TO_VALUES[args.probe.upper()])\n",
    "    print(\"OK!\")\n",
    "\n",
    "\n",
    "if __name__ == \"__main__\":\n",
    "    run_healthchecks()\"\"\"\n",
    "\n",
    "lines = code.splitlines()"
   ]
  },
  {
   "cell_type": "code",
   "execution_count": null,
   "metadata": {},
   "outputs": [
    {
     "data": {
      "text/plain": [
       "87"
      ]
     },
     "execution_count": 6,
     "metadata": {},
     "output_type": "execute_result"
    }
   ],
   "source": [
    "len(lines)"
   ]
  }
 ],
 "metadata": {
  "interpreter": {
   "hash": "f6ffc72953da4dd16b2e00785be9c4013ef131f465a8658f3921b6634d4eeec8"
  },
  "kernelspec": {
   "display_name": "Python 3.10.4 ('.venv': pipenv)",
   "language": "python",
   "name": "python3"
  },
  "language_info": {
   "codemirror_mode": {
    "name": "ipython",
    "version": 3
   },
   "file_extension": ".py",
   "mimetype": "text/x-python",
   "name": "python",
   "nbconvert_exporter": "python",
   "pygments_lexer": "ipython3",
   "version": "3.10.4"
  },
  "orig_nbformat": 4
 },
 "nbformat": 4,
 "nbformat_minor": 2
}
