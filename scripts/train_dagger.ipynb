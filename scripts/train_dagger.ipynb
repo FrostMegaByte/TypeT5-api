{
 "cells": [
  {
   "cell_type": "code",
   "execution_count": 1,
   "metadata": {},
   "outputs": [],
   "source": [
    "%load_ext autoreload\n",
    "%autoreload 2\n",
    "\n",
    "import os\n",
    "import pickle\n",
    "from concurrent.futures import ProcessPoolExecutor\n",
    "from pathlib import Path\n",
    "from typing import *\n",
    "\n",
    "import pandas as pd\n",
    "import plotly.express as px\n",
    "\n",
    "from spot.data import GitRepo\n",
    "from spot.type_env import (\n",
    "    AnnotPath,\n",
    "    MypyChecker,\n",
    "    SelectAnnotations,\n",
    "    TypeInfAction,\n",
    "    TypeInfEnv,\n",
    "    TypeInfState,\n",
    "    collect_annotations,\n",
    "    mypy_checker,\n",
    ")\n",
    "from spot.utils import cst, proj_root, read_file, seq_flatten, tqdm, write_file\n",
    "\n",
    "os.chdir(proj_root())\n",
    "\n",
    "datadir = Path(os.getenv(\"datadir\"))\n",
    "repos_dir = datadir / \"SPOT-data/repos\"\n",
    "\n",
    "useful_repos_path = proj_root() / \"scripts\" / \"useful_repos.pkl\"\n",
    "with useful_repos_path.open(\"rb\") as f:\n",
    "    useful_repos: list[GitRepo] = pickle.load(f)\n",
    "\n",
    "repos_split_path = datadir / \"SPOT-data/repos-processed-with_margin/repos_split.pkl\"\n",
    "with repos_split_path.open(\"rb\") as f:\n",
    "    repos_split = pickle.load(f)"
   ]
  },
  {
   "cell_type": "code",
   "execution_count": 2,
   "metadata": {},
   "outputs": [
    {
     "name": "stderr",
     "output_type": "stream",
     "text": [
      "/home/jiayi/Projects/SPOT/.venv/lib/python3.10/site-packages/torch/nn/modules/module.py:1402: UserWarning: positional arguments and argument \"destination\" are deprecated. nn.Module.state_dict will not accept them in the future. Refer to https://pytorch.org/docs/master/generated/torch.nn.Module.html#torch.nn.Module.state_dict for details.\n",
      "  warnings.warn(\n"
     ]
    }
   ],
   "source": [
    "import torch\n",
    "from transformers import (\n",
    "    DataCollatorForSeq2Seq,\n",
    "    RobertaTokenizer,\n",
    "    T5ForConditionalGeneration,\n",
    ")\n",
    "from transformers.models.t5 import T5ForConditionalGeneration\n",
    "\n",
    "from spot.model import ModelSPOT, TokenizerSPOT\n",
    "\n",
    "model_path = datadir / \"checkpoints/saved/SPOT-CodeT5-with_margin\"\n",
    "device = torch.device(\"cuda:0\" if torch.cuda.is_available() else \"cpu\")\n",
    "tokenizer: TokenizerSPOT = TokenizerSPOT.from_pretrained(model_path)\n",
    "model: ModelSPOT\n",
    "model = ModelSPOT.from_pretrained(model_path).to(device)\n",
    "max_target_length = 128\n",
    "max_input_length = 1028"
   ]
  },
  {
   "cell_type": "code",
   "execution_count": 3,
   "metadata": {},
   "outputs": [
    {
     "name": "stderr",
     "output_type": "stream",
     "text": [
      "Failed to detect the name of this notebook, you can set it manually with the WANDB_NOTEBOOK_NAME environment variable to enable code saving.\n",
      "\u001b[34m\u001b[1mwandb\u001b[0m: Currently logged in as: \u001b[33mmrvplusone\u001b[0m. Use \u001b[1m`wandb login --relogin`\u001b[0m to force relogin\n"
     ]
    },
    {
     "data": {
      "text/html": [
       "Tracking run with wandb version 0.12.16"
      ],
      "text/plain": [
       "<IPython.core.display.HTML object>"
      ]
     },
     "metadata": {},
     "output_type": "display_data"
    },
    {
     "data": {
      "text/html": [
       "Run data is saved locally in <code>/home/jiayi/Projects/SPOT/wandb/run-20220509_214139-3n9cym6y</code>"
      ],
      "text/plain": [
       "<IPython.core.display.HTML object>"
      ]
     },
     "metadata": {},
     "output_type": "display_data"
    },
    {
     "data": {
      "text/html": [
       "Syncing run <strong><a href=\"https://wandb.ai/mrvplusone/test-DAgger-SPOT-CodeT5/runs/3n9cym6y\" target=\"_blank\">noble-mountain-11</a></strong> to <a href=\"https://wandb.ai/mrvplusone/test-DAgger-SPOT-CodeT5\" target=\"_blank\">Weights & Biases</a> (<a href=\"https://wandb.me/run\" target=\"_blank\">docs</a>)<br/>"
      ],
      "text/plain": [
       "<IPython.core.display.HTML object>"
      ]
     },
     "metadata": {},
     "output_type": "display_data"
    },
    {
     "data": {
      "text/html": [
       "<button onClick=\"this.nextSibling.style.display='block';this.style.display='none';\">Display W&B run</button><iframe src=\"https://wandb.ai/mrvplusone/test-DAgger-SPOT-CodeT5/runs/3n9cym6y?jupyter=true\" style=\"border:none;width:100%;height:420px;display:none;\"></iframe>"
      ],
      "text/plain": [
       "<wandb.sdk.wandb_run.Run at 0x7f7f8d970250>"
      ]
     },
     "execution_count": 3,
     "metadata": {},
     "output_type": "execute_result"
    }
   ],
   "source": [
    "import wandb\n",
    "from spot.training import DAggerTrainer, DAggerTrainerArgs\n",
    "\n",
    "args = DAggerTrainerArgs(\n",
    "    output_dir=proj_root() / \"checkpoints\" / \"DAgger\",\n",
    "    max_epochs=2,\n",
    "    repos_group_size=10,\n",
    "    ctx_size=512,\n",
    "    ctx_margin=128,\n",
    "    sampling_batch_size=64,\n",
    "    train_batch_size=32,\n",
    "    generation_max_length=max_target_length,\n",
    "    generation_num_beams=1,\n",
    ")\n",
    "\n",
    "wandb.init(project=\"test-DAgger-SPOT-CodeT5\", config=args)"
   ]
  },
  {
   "cell_type": "code",
   "execution_count": 6,
   "metadata": {},
   "outputs": [
    {
     "data": {
      "application/vnd.jupyter.widget-view+json": {
       "model_id": "01eb9b8de7c54f9586f90c181146ad9d",
       "version_major": 2,
       "version_minor": 0
      },
      "text/plain": [
       "DAgger Training:   0%|          | 0/6 [00:00<?, ?it/s]"
      ]
     },
     "metadata": {},
     "output_type": "display_data"
    },
    {
     "name": "stdout",
     "output_type": "stream",
     "text": [
      "[Epoch 0] R0 stats: {'R0_accuracy_partial': {'total': 0.7835497835497836, 'FuncArg': 0.7642276422764228, 'FuncReturn': 0.9076923076923077, 'ClassAtribute': 0.6451612903225806, 'LocalVar': 0.6666666666666666}, 'R0_accuracy_full': {'total': 0.7748917748917749, 'FuncArg': 0.7642276422764228, 'FuncReturn': 0.8769230769230769, 'ClassAtribute': 0.6451612903225806, 'LocalVar': 0.6666666666666666}, 'R0_n_labels': 231}\n",
      "[Epoch 0] R1 stats: {'R1_accuracy_partial': {'total': 0.8051948051948052, 'FuncArg': 0.8373983739837398, 'FuncReturn': 0.8923076923076924, 'ClassAtribute': 0.6451612903225806, 'LocalVar': 0.4166666666666667}, 'R1_accuracy_full': {'total': 0.7748917748917749, 'FuncArg': 0.8292682926829268, 'FuncReturn': 0.8, 'ClassAtribute': 0.6451612903225806, 'LocalVar': 0.4166666666666667}, 'R1_n_labels': 231}\n",
      "[Epoch 1] R0 stats: {'R0_accuracy_partial': {'total': 0.7922077922077922, 'FuncArg': 0.7723577235772358, 'FuncReturn': 0.9230769230769231, 'ClassAtribute': 0.6774193548387096, 'LocalVar': 0.5833333333333334}, 'R0_accuracy_full': {'total': 0.7792207792207793, 'FuncArg': 0.7723577235772358, 'FuncReturn': 0.8769230769230769, 'ClassAtribute': 0.6774193548387096, 'LocalVar': 0.5833333333333334}, 'R0_n_labels': 231}\n",
      "[Epoch 1] R1 stats: {'R1_accuracy_partial': {'total': 0.7662337662337663, 'FuncArg': 0.7886178861788617, 'FuncReturn': 0.8923076923076924, 'ClassAtribute': 0.6451612903225806, 'LocalVar': 0.16666666666666666}, 'R1_accuracy_full': {'total': 0.7445887445887446, 'FuncArg': 0.7886178861788617, 'FuncReturn': 0.8153846153846154, 'ClassAtribute': 0.6451612903225806, 'LocalVar': 0.16666666666666666}, 'R1_n_labels': 231}\n"
     ]
    }
   ],
   "source": [
    "from IPython.display import display\n",
    "\n",
    "trainer = DAggerTrainer(model, tokenizer, args, max_workers=1)\n",
    "train_repos = [r.repo_dir(repos_dir) for r in repos_split[\"train\"][0:3]]\n",
    "valid_repos = [r.repo_dir(repos_dir) for r in repos_split[\"valid\"][2:4]]\n",
    "\n",
    "trainer.train(train_repos, valid_repos)"
   ]
  },
  {
   "cell_type": "code",
   "execution_count": 7,
   "metadata": {},
   "outputs": [
    {
     "data": {
      "text/html": [
       "<div>\n",
       "<style scoped>\n",
       "    .dataframe tbody tr th:only-of-type {\n",
       "        vertical-align: middle;\n",
       "    }\n",
       "\n",
       "    .dataframe tbody tr th {\n",
       "        vertical-align: top;\n",
       "    }\n",
       "\n",
       "    .dataframe thead th {\n",
       "        text-align: right;\n",
       "    }\n",
       "</style>\n",
       "<table border=\"1\" class=\"dataframe\">\n",
       "  <thead>\n",
       "    <tr style=\"text-align: right;\">\n",
       "      <th></th>\n",
       "      <th>name</th>\n",
       "      <th>count</th>\n",
       "      <th>avg_time</th>\n",
       "      <th>total_time</th>\n",
       "    </tr>\n",
       "  </thead>\n",
       "  <tbody>\n",
       "    <tr>\n",
       "      <th>4</th>\n",
       "      <td>training</td>\n",
       "      <td>2</td>\n",
       "      <td>19.481645</td>\n",
       "      <td>38.963290</td>\n",
       "    </tr>\n",
       "    <tr>\n",
       "      <th>3</th>\n",
       "      <td>training &gt; model fitting</td>\n",
       "      <td>2</td>\n",
       "      <td>8.284251</td>\n",
       "      <td>16.568503</td>\n",
       "    </tr>\n",
       "    <tr>\n",
       "      <th>8</th>\n",
       "      <td>evaluating</td>\n",
       "      <td>2</td>\n",
       "      <td>8.220471</td>\n",
       "      <td>16.440942</td>\n",
       "    </tr>\n",
       "    <tr>\n",
       "      <th>2</th>\n",
       "      <td>training &gt; type checking</td>\n",
       "      <td>2</td>\n",
       "      <td>4.995415</td>\n",
       "      <td>9.990830</td>\n",
       "    </tr>\n",
       "    <tr>\n",
       "      <th>7</th>\n",
       "      <td>evaluating &gt; type checking</td>\n",
       "      <td>2</td>\n",
       "      <td>3.839049</td>\n",
       "      <td>7.678098</td>\n",
       "    </tr>\n",
       "    <tr>\n",
       "      <th>1</th>\n",
       "      <td>training &gt; model prediction</td>\n",
       "      <td>2</td>\n",
       "      <td>3.096355</td>\n",
       "      <td>6.192711</td>\n",
       "    </tr>\n",
       "    <tr>\n",
       "      <th>0</th>\n",
       "      <td>training &gt; preparing data</td>\n",
       "      <td>4</td>\n",
       "      <td>1.547501</td>\n",
       "      <td>6.190005</td>\n",
       "    </tr>\n",
       "    <tr>\n",
       "      <th>6</th>\n",
       "      <td>evaluating &gt; model prediction</td>\n",
       "      <td>4</td>\n",
       "      <td>1.451308</td>\n",
       "      <td>5.805234</td>\n",
       "    </tr>\n",
       "    <tr>\n",
       "      <th>5</th>\n",
       "      <td>evaluating &gt; preparing data</td>\n",
       "      <td>4</td>\n",
       "      <td>0.734775</td>\n",
       "      <td>2.939101</td>\n",
       "    </tr>\n",
       "  </tbody>\n",
       "</table>\n",
       "</div>"
      ],
      "text/plain": [
       "                            name  count   avg_time  total_time\n",
       "4                       training      2  19.481645   38.963290\n",
       "3       training > model fitting      2   8.284251   16.568503\n",
       "8                     evaluating      2   8.220471   16.440942\n",
       "2       training > type checking      2   4.995415    9.990830\n",
       "7     evaluating > type checking      2   3.839049    7.678098\n",
       "1    training > model prediction      2   3.096355    6.192711\n",
       "0      training > preparing data      4   1.547501    6.190005\n",
       "6  evaluating > model prediction      4   1.451308    5.805234\n",
       "5    evaluating > preparing data      4   0.734775    2.939101"
      ]
     },
     "metadata": {},
     "output_type": "display_data"
    }
   ],
   "source": [
    "display(trainer.timer.as_dataframe())"
   ]
  }
 ],
 "metadata": {
  "interpreter": {
   "hash": "f6ffc72953da4dd16b2e00785be9c4013ef131f465a8658f3921b6634d4eeec8"
  },
  "kernelspec": {
   "display_name": "Python 3.10.4 ('.venv': pipenv)",
   "language": "python",
   "name": "python3"
  },
  "language_info": {
   "codemirror_mode": {
    "name": "ipython",
    "version": 3
   },
   "file_extension": ".py",
   "mimetype": "text/x-python",
   "name": "python",
   "nbconvert_exporter": "python",
   "pygments_lexer": "ipython3",
   "version": "3.10.4"
  },
  "orig_nbformat": 4
 },
 "nbformat": 4,
 "nbformat_minor": 2
}
