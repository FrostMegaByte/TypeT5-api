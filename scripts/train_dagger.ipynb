{
 "cells": [
  {
   "cell_type": "code",
   "execution_count": 1,
   "metadata": {},
   "outputs": [],
   "source": [
    "%load_ext autoreload\n",
    "%autoreload 2\n",
    "\n",
    "import os\n",
    "import pickle\n",
    "from concurrent.futures import ProcessPoolExecutor\n",
    "from pathlib import Path\n",
    "from typing import *\n",
    "\n",
    "import pandas as pd\n",
    "import plotly.express as px\n",
    "\n",
    "from spot.data import GitRepo\n",
    "from spot.type_env import (\n",
    "    AnnotPath,\n",
    "    MypyChecker,\n",
    "    SelectAnnotations,\n",
    "    TypeInfAction,\n",
    "    TypeInfEnv,\n",
    "    TypeInfState,\n",
    "    collect_annotations,\n",
    "    mypy_checker,\n",
    ")\n",
    "from spot.utils import cst, proj_root, read_file, seq_flatten, tqdm, write_file\n",
    "\n",
    "os.chdir(proj_root())\n",
    "\n",
    "datadir = Path(os.getenv(\"datadir\"))\n",
    "repos_dir = datadir / \"SPOT-data/repos\"\n",
    "\n",
    "useful_repos_path = proj_root() / \"scripts\" / \"useful_repos.pkl\"\n",
    "with useful_repos_path.open(\"rb\") as f:\n",
    "    useful_repos: list[GitRepo] = pickle.load(f)\n",
    "\n",
    "repos_split_path = datadir / \"SPOT-data/repos-processed-with_margin/repos_split.pkl\"\n",
    "with repos_split_path.open(\"rb\") as f:\n",
    "    repos_split = pickle.load(f)"
   ]
  },
  {
   "cell_type": "code",
   "execution_count": 6,
   "metadata": {},
   "outputs": [
    {
     "name": "stderr",
     "output_type": "stream",
     "text": [
      "/home/jiayi/Projects/SPOT/.venv/lib/python3.10/site-packages/torch/nn/modules/module.py:1402: UserWarning: positional arguments and argument \"destination\" are deprecated. nn.Module.state_dict will not accept them in the future. Refer to https://pytorch.org/docs/master/generated/torch.nn.Module.html#torch.nn.Module.state_dict for details.\n",
      "  warnings.warn(\n"
     ]
    }
   ],
   "source": [
    "import torch\n",
    "\n",
    "from spot.model import ModelSPOT, TokenizerSPOT\n",
    "\n",
    "train_from_scrach = True\n",
    "\n",
    "model_path = \"Salesforce/codet5-base\" if train_from_scrach else datadir / \"checkpoints/saved/SPOT-CodeT5-with_margin\"\n",
    "# model_path = datadir / \"checkpoints/saved/SPOT-DAgger-scratch\"\n",
    "device = torch.device(\"cuda:0\" if torch.cuda.is_available() else \"cpu\")\n",
    "tokenizer: TokenizerSPOT = TokenizerSPOT.from_pretrained(model_path)\n",
    "model: ModelSPOT = ModelSPOT.from_pretrained(model_path).to(device)"
   ]
  },
  {
   "cell_type": "code",
   "execution_count": 7,
   "metadata": {},
   "outputs": [],
   "source": [
    "from IPython.display import display, display_pretty\n",
    "\n",
    "import wandb\n",
    "from spot.training import DAggerTrainer, DAggerTrainerArgs, CtxArgs\n",
    "\n",
    "test_run = False\n",
    "test_tag = 'test-' if test_run else ''\n",
    "\n",
    "scratch_tag = '-scratch' if train_from_scrach else ''\n",
    "model_name = f\"{test_tag}SPOT-DAgger{scratch_tag}\"\n",
    "\n",
    "args = DAggerTrainerArgs(\n",
    "    output_dir=datadir / \"checkpoints\" / model_name,\n",
    "    max_epochs=3,\n",
    "    skip_first_eval=False,\n",
    "    repos_group_size=16,\n",
    "    ctx_args=CtxArgs(\n",
    "        ctx_size=512,\n",
    "        ctx_margin=128,\n",
    "        types_in_ctx=False,\n",
    "    ),\n",
    "    sampling_batch_size=300,\n",
    "    train_batch_size=42,\n",
    "    generation_max_length=128,\n",
    "    max_workers=16,\n",
    ")\n",
    "\n",
    "\n",
    "trainer = DAggerTrainer(model, tokenizer, args)\n",
    "train_repos = [r.repo_dir(repos_dir) for r in repos_split[\"train\"]]\n",
    "valid_repos = [r.repo_dir(repos_dir) for r in repos_split[\"valid\"]]\n",
    "if test_run:\n",
    "    train_repos = train_repos[:10]\n",
    "    valid_repos = valid_repos[:5]"
   ]
  },
  {
   "cell_type": "code",
   "execution_count": 4,
   "metadata": {},
   "outputs": [
    {
     "name": "stderr",
     "output_type": "stream",
     "text": [
      "Failed to detect the name of this notebook, you can set it manually with the WANDB_NOTEBOOK_NAME environment variable to enable code saving.\n",
      "\u001b[34m\u001b[1mwandb\u001b[0m: Currently logged in as: \u001b[33mmrvplusone\u001b[0m. Use \u001b[1m`wandb login --relogin`\u001b[0m to force relogin\n"
     ]
    },
    {
     "data": {
      "text/html": [
       "Tracking run with wandb version 0.12.16"
      ],
      "text/plain": [
       "<IPython.core.display.HTML object>"
      ]
     },
     "metadata": {},
     "output_type": "display_data"
    },
    {
     "data": {
      "text/html": [
       "Run data is saved locally in <code>/mnt/data0/jiayi/wandb/run-20220512_173821-2g1aftlj</code>"
      ],
      "text/plain": [
       "<IPython.core.display.HTML object>"
      ]
     },
     "metadata": {},
     "output_type": "display_data"
    },
    {
     "data": {
      "text/html": [
       "Syncing run <strong><a href=\"https://wandb.ai/mrvplusone/SPOT-DAgger-scratch/runs/2g1aftlj\" target=\"_blank\">twilight-jazz-8</a></strong> to <a href=\"https://wandb.ai/mrvplusone/SPOT-DAgger-scratch\" target=\"_blank\">Weights & Biases</a> (<a href=\"https://wandb.me/run\" target=\"_blank\">docs</a>)<br/>"
      ],
      "text/plain": [
       "<IPython.core.display.HTML object>"
      ]
     },
     "metadata": {},
     "output_type": "display_data"
    },
    {
     "data": {
      "application/vnd.jupyter.widget-view+json": {
       "model_id": "0e1aaeb13b2c44f2bced510007d3a670",
       "version_major": 2,
       "version_minor": 0
      },
      "text/plain": [
       "DAgger Training:   0%|          | 0/1719 [00:00<?, ?it/s]"
      ]
     },
     "metadata": {},
     "output_type": "display_data"
    },
    {
     "name": "stdout",
     "output_type": "stream",
     "text": [
      "[Epoch 0] R0 stats:\n"
     ]
    },
    {
     "data": {
      "text/plain": [
       "{'R0_accuracy_partial': {'total': 0.058035498379842336,\n",
       "  'FuncReturn': 0.06209987195902689,\n",
       "  'FuncArg': 0.06948910325116113,\n",
       "  'ClassAtribute': 0.010392609699769052,\n",
       "  'LocalVar': 0.009784735812133072,\n",
       "  'GlobalVar': 0.016129032258064516},\n",
       " 'R0_accuracy_full': {'total': 0.051071238574261255,\n",
       "  'FuncReturn': 0.0528169014084507,\n",
       "  'FuncArg': 0.062433011789924976,\n",
       "  'ClassAtribute': 0.008852963818321785,\n",
       "  'LocalVar': 0.007827788649706457},\n",
       " 'R0_n_labels': 20677}"
      ]
     },
     "metadata": {},
     "output_type": "display_data"
    },
    {
     "name": "stdout",
     "output_type": "stream",
     "text": [
      "[Epoch 0] R1 stats:\n"
     ]
    },
    {
     "data": {
      "text/plain": [
       "{'R1_accuracy_partial': {'total': 0.03617721029212614,\n",
       "  'FuncArg': 0.04966502903081733,\n",
       "  'FuncReturn': 0.025448143405889884,\n",
       "  'ClassAtribute': 0.009237875288683603,\n",
       "  'LocalVar': 0.01761252446183953},\n",
       " 'R1_accuracy_full': {'total': 0.03201779841361965,\n",
       "  'FuncArg': 0.04493077266636891,\n",
       "  'FuncReturn': 0.02112676056338028,\n",
       "  'ClassAtribute': 0.008852963818321785,\n",
       "  'LocalVar': 0.007827788649706457},\n",
       " 'R1_n_labels': 20676}"
      ]
     },
     "metadata": {},
     "output_type": "display_data"
    },
    {
     "name": "stderr",
     "output_type": "stream",
     "text": [
      "WARNING:root:Mypy errored when checking '/mnt/data0/jiayi/SPOT-data/repos/downloaded/klaasjanelzinga__rss-aggreggator'.\n"
     ]
    },
    {
     "name": "stdout",
     "output_type": "stream",
     "text": [
      "[Epoch 1] R0 stats:\n"
     ]
    },
    {
     "data": {
      "text/plain": [
       "{'R0_accuracy_partial': {'total': 0.6701165546259128,\n",
       "  'FuncArg': 0.5856555912826009,\n",
       "  'ClassAtribute': 0.6882217090069284,\n",
       "  'FuncReturn': 0.81354033290653,\n",
       "  'LocalVar': 0.6340508806262231,\n",
       "  'GlobalVar': 0.8387096774193549},\n",
       " 'R0_accuracy_full': {'total': 0.5960245683609808,\n",
       "  'FuncArg': 0.5156305823508396,\n",
       "  'ClassAtribute': 0.6127790608160123,\n",
       "  'FuncReturn': 0.7413572343149808,\n",
       "  'LocalVar': 0.4774951076320939,\n",
       "  'GlobalVar': 0.6693548387096774},\n",
       " 'R0_n_labels': 20677}"
      ]
     },
     "metadata": {},
     "output_type": "display_data"
    },
    {
     "name": "stdout",
     "output_type": "stream",
     "text": [
      "[Epoch 1] R1 stats:\n"
     ]
    },
    {
     "data": {
      "text/plain": [
       "{'R1_accuracy_partial': {'total': 0.672228670922809,\n",
       "  'FuncArg': 0.590174184903975,\n",
       "  'ClassAtribute': 0.6897613548883756,\n",
       "  'FuncReturn': 0.8130601792573624,\n",
       "  'LocalVar': 0.6340508806262231,\n",
       "  'GlobalVar': 0.7741935483870968},\n",
       " 'R1_accuracy_full': {'total': 0.5962952215128652,\n",
       "  'FuncArg': 0.5173738276016079,\n",
       "  'ClassAtribute': 0.6143187066974596,\n",
       "  'FuncReturn': 0.7419974391805377,\n",
       "  'LocalVar': 0.4500978473581213,\n",
       "  'GlobalVar': 0.6048387096774194},\n",
       " 'R1_n_labels': 20676}"
      ]
     },
     "metadata": {},
     "output_type": "display_data"
    },
    {
     "name": "stderr",
     "output_type": "stream",
     "text": [
      "/home/jiayi/Projects/SPOT/.venv/lib/python3.10/site-packages/torch/nn/modules/module.py:1402: UserWarning: positional arguments and argument \"destination\" are deprecated. nn.Module.state_dict will not accept them in the future. Refer to https://pytorch.org/docs/master/generated/torch.nn.Module.html#torch.nn.Module.state_dict for details.\n",
      "  warnings.warn(\n",
      "WARNING:root:Mypy errored when checking '/mnt/data0/jiayi/SPOT-data/repos/downloaded/klaasjanelzinga__rss-aggreggator'.\n"
     ]
    },
    {
     "name": "stdout",
     "output_type": "stream",
     "text": [
      "[Epoch 2] R0 stats:\n"
     ]
    },
    {
     "data": {
      "text/plain": [
       "{'R0_accuracy_partial': {'total': 0.6805145814189679,\n",
       "  'ClassAtribute': 0.7236335642802155,\n",
       "  'FuncArg': 0.5936941764916042,\n",
       "  'FuncReturn': 0.8196222791293214,\n",
       "  'LocalVar': 0.6301369863013698,\n",
       "  'GlobalVar': 0.8145161290322581},\n",
       " 'R0_accuracy_full': {'total': 0.6068094984765682,\n",
       "  'ClassAtribute': 0.6535796766743649,\n",
       "  'FuncArg': 0.5205430510896749,\n",
       "  'FuncReturn': 0.7511203585147247,\n",
       "  'LocalVar': 0.4735812133072407,\n",
       "  'GlobalVar': 0.6935483870967742},\n",
       " 'R0_n_labels': 20677}"
      ]
     },
     "metadata": {},
     "output_type": "display_data"
    },
    {
     "name": "stdout",
     "output_type": "stream",
     "text": [
      "[Epoch 2] R1 stats:\n"
     ]
    },
    {
     "data": {
      "text/plain": [
       "{'R1_accuracy_partial': {'total': 0.6881892048752176,\n",
       "  'ClassAtribute': 0.7205542725173211,\n",
       "  'FuncArg': 0.6061634658329611,\n",
       "  'FuncReturn': 0.8233034571062741,\n",
       "  'GlobalVar': 0.782258064516129,\n",
       "  'LocalVar': 0.6457925636007827},\n",
       " 'R1_accuracy_full': {'total': 0.612932869026891,\n",
       "  'ClassAtribute': 0.6443418013856813,\n",
       "  'FuncArg': 0.531308619919607,\n",
       "  'FuncReturn': 0.7544814340588989,\n",
       "  'LocalVar': 0.5048923679060665,\n",
       "  'GlobalVar': 0.6370967741935484},\n",
       " 'R1_n_labels': 20676}"
      ]
     },
     "metadata": {},
     "output_type": "display_data"
    },
    {
     "name": "stderr",
     "output_type": "stream",
     "text": [
      "/home/jiayi/Projects/SPOT/.venv/lib/python3.10/site-packages/torch/nn/modules/module.py:1402: UserWarning: positional arguments and argument \"destination\" are deprecated. nn.Module.state_dict will not accept them in the future. Refer to https://pytorch.org/docs/master/generated/torch.nn.Module.html#torch.nn.Module.state_dict for details.\n",
      "  warnings.warn(\n",
      "wandb: Network error (ConnectTimeout), entering retry loop.\n",
      "WARNING:root:Mypy errored when checking '/mnt/data0/jiayi/SPOT-data/repos/downloaded/klaasjanelzinga__rss-aggreggator'.\n"
     ]
    },
    {
     "name": "stdout",
     "output_type": "stream",
     "text": [
      "[Epoch 3] R0 stats:\n"
     ]
    },
    {
     "data": {
      "text/plain": [
       "{'R0_accuracy_partial': {'total': 0.6874304783092324,\n",
       "  'ClassAtribute': 0.7209391839876829,\n",
       "  'FuncArg': 0.6067345480528761,\n",
       "  'FuncReturn': 0.8204225352112676,\n",
       "  'LocalVar': 0.62426614481409,\n",
       "  'GlobalVar': 0.8306451612903226},\n",
       " 'R0_accuracy_full': {'total': 0.6153213715722784,\n",
       "  'ClassAtribute': 0.6505003849114703,\n",
       "  'FuncArg': 0.5352804573061808,\n",
       "  'FuncReturn': 0.7520806658130602,\n",
       "  'LocalVar': 0.4911937377690802,\n",
       "  'GlobalVar': 0.7258064516129032},\n",
       " 'R0_n_labels': 20677}"
      ]
     },
     "metadata": {},
     "output_type": "display_data"
    },
    {
     "name": "stdout",
     "output_type": "stream",
     "text": [
      "[Epoch 3] R1 stats:\n"
     ]
    },
    {
     "data": {
      "text/plain": [
       "{'R1_accuracy_partial': {'total': 0.6973302379570516,\n",
       "  'ClassAtribute': 0.737490377213241,\n",
       "  'FuncArg': 0.6190263510495757,\n",
       "  'FuncReturn': 0.8250640204865557,\n",
       "  'GlobalVar': 0.8548387096774194,\n",
       "  'LocalVar': 0.6086105675146771},\n",
       " 'R1_accuracy_full': {'total': 0.6259914877152254,\n",
       "  'ClassAtribute': 0.6655119322555813,\n",
       "  'FuncArg': 0.5493523894595802,\n",
       "  'FuncReturn': 0.7573623559539052,\n",
       "  'LocalVar': 0.4774951076320939,\n",
       "  'GlobalVar': 0.7096774193548387},\n",
       " 'R1_n_labels': 20676}"
      ]
     },
     "metadata": {},
     "output_type": "display_data"
    },
    {
     "name": "stderr",
     "output_type": "stream",
     "text": [
      "/home/jiayi/Projects/SPOT/.venv/lib/python3.10/site-packages/torch/nn/modules/module.py:1402: UserWarning: positional arguments and argument \"destination\" are deprecated. nn.Module.state_dict will not accept them in the future. Refer to https://pytorch.org/docs/master/generated/torch.nn.Module.html#torch.nn.Module.state_dict for details.\n",
      "  warnings.warn(\n"
     ]
    }
   ],
   "source": [
    "wandb.init(project=model_name, config=args, dir=str(datadir))\n",
    "\n",
    "try:\n",
    "    trainer.train(train_repos, valid_repos)\n",
    "except Exception as e:\n",
    "    wandb.alert(title=\"Training stopped due to exception\", text=f\"In {model_name}, exception: {e}\")\n",
    "    raise e\n",
    "wandb.alert(title=\"Training finished\", text=f\"{model_name} has finished.\")\n",
    "wandb.log({\"time_stats\": trainer.timer.total_times()})\n",
    "wandb.finish()"
   ]
  },
  {
   "cell_type": "code",
   "execution_count": 8,
   "metadata": {},
   "outputs": [
    {
     "data": {
      "text/plain": [
       "{'R1_partial_acc_no_any': 0.42105263157894735,\n",
       " 'R1_partial_acc': 0.7160480349344979,\n",
       " 'R1_partial_accs': {'FuncArg': 0.6601084119654688,\n",
       "  'FuncReturn': 0.7658889782783588,\n",
       "  'ClassAtribute': 0.8468660968660968,\n",
       "  'GlobalVar': 0.7115384615384616,\n",
       "  'LocalVar': 0.5949367088607594},\n",
       " 'R1_full_acc': 0.6512008733624454,\n",
       " 'R1_full_accs': {'FuncArg': 0.5884360570166633,\n",
       "  'FuncReturn': 0.6983105390185036,\n",
       "  'ClassAtribute': 0.8183760683760684,\n",
       "  'GlobalVar': 0.5961538461538461,\n",
       "  'LocalVar': 0.4978902953586498},\n",
       " 'R1_n_labels': 9160}"
      ]
     },
     "metadata": {},
     "output_type": "display_data"
    }
   ],
   "source": [
    "r0_stats, r1_stats, ds, preds = trainer.eval_on_repos(valid_repos[1:20])\n",
    "display(r1_stats)"
   ]
  },
  {
   "cell_type": "code",
   "execution_count": 12,
   "metadata": {},
   "outputs": [
    {
     "data": {
      "application/vnd.jupyter.widget-view+json": {
       "model_id": "34f40265df83401c950111f73245544d",
       "version_major": 2,
       "version_minor": 0
      },
      "text/plain": [
       "parsing and masking sources:   0%|          | 0/1093 [00:00<?, ?it/s]"
      ]
     },
     "metadata": {},
     "output_type": "display_data"
    },
    {
     "data": {
      "application/vnd.jupyter.widget-view+json": {
       "model_id": "bcc7d824baf941d6b338d4761d188dcf",
       "version_major": 2,
       "version_minor": 0
      },
      "text/plain": [
       "tokenizing sources:   0%|          | 0/1093 [00:00<?, ?it/s]"
      ]
     },
     "metadata": {},
     "output_type": "display_data"
    },
    {
     "data": {
      "application/vnd.jupyter.widget-view+json": {
       "model_id": "da41d2fdb22d4e3b8a2dff85732bcbb2",
       "version_major": 2,
       "version_minor": 0
      },
      "text/plain": [
       "processing chunks:   0%|          | 0/2767 [00:00<?, ?it/s]"
      ]
     },
     "metadata": {},
     "output_type": "display_data"
    },
    {
     "data": {
      "application/vnd.jupyter.widget-view+json": {
       "model_id": "aad50a13cb13441eb714eb1fd226e731",
       "version_major": 2,
       "version_minor": 0
      },
      "text/plain": [
       "predict:   0%|          | 0/1336 [00:00<?, ?it/s]"
      ]
     },
     "metadata": {},
     "output_type": "display_data"
    },
    {
     "data": {
      "application/vnd.jupyter.widget-view+json": {
       "model_id": "a48cb1cefecd46c683336ea6791e75b7",
       "version_major": 2,
       "version_minor": 0
      },
      "text/plain": [
       "reading orginal srcs:   0%|          | 0/527 [00:00<?, ?it/s]"
      ]
     },
     "metadata": {},
     "output_type": "display_data"
    },
    {
     "data": {
      "application/vnd.jupyter.widget-view+json": {
       "model_id": "5d614d32ebbf405a8986c3ca5a1a9296",
       "version_major": 2,
       "version_minor": 0
      },
      "text/plain": [
       "calling mypy:   0%|          | 0/19 [00:00<?, ?it/s]"
      ]
     },
     "metadata": {},
     "output_type": "display_data"
    },
    {
     "data": {
      "application/vnd.jupyter.widget-view+json": {
       "model_id": "07081ddb7adf48e79cf75c7109d88596",
       "version_major": 2,
       "version_minor": 0
      },
      "text/plain": [
       "generating augmented inputs:   0%|          | 0/527 [00:00<?, ?it/s]"
      ]
     },
     "metadata": {},
     "output_type": "display_data"
    },
    {
     "data": {
      "application/vnd.jupyter.widget-view+json": {
       "model_id": "12807f0141b244e3a99e7fb5eb3d5620",
       "version_major": 2,
       "version_minor": 0
      },
      "text/plain": [
       "tokenizing sources:   0%|          | 0/527 [00:00<?, ?it/s]"
      ]
     },
     "metadata": {},
     "output_type": "display_data"
    },
    {
     "data": {
      "application/vnd.jupyter.widget-view+json": {
       "model_id": "0072580f26e24269bc12acd452c9d582",
       "version_major": 2,
       "version_minor": 0
      },
      "text/plain": [
       "processing chunks:   0%|          | 0/1892 [00:00<?, ?it/s]"
      ]
     },
     "metadata": {},
     "output_type": "display_data"
    },
    {
     "data": {
      "application/vnd.jupyter.widget-view+json": {
       "model_id": "73c9afaa7d4047bfa1f8d33425668be2",
       "version_major": 2,
       "version_minor": 0
      },
      "text/plain": [
       "predict:   0%|          | 0/1457 [00:00<?, ?it/s]"
      ]
     },
     "metadata": {},
     "output_type": "display_data"
    },
    {
     "data": {
      "text/plain": [
       "{'R1_partial_acc_no_any': 0.3881578947368421,\n",
       " 'R1_partial_acc': 0.737117903930131,\n",
       " 'R1_partial_accs': {'FuncArg': 0.6906243726159406,\n",
       "  'FuncReturn': 0.7972646822204345,\n",
       "  'ClassAtribute': 0.8212250712250713,\n",
       "  'GlobalVar': 0.7692307692307693,\n",
       "  'LocalVar': 0.5780590717299579},\n",
       " 'R1_full_acc': 0.6697598253275109,\n",
       " 'R1_full_accs': {'FuncArg': 0.6169443886769725,\n",
       "  'FuncReturn': 0.7236524537409493,\n",
       "  'ClassAtribute': 0.7927350427350427,\n",
       "  'GlobalVar': 0.6346153846153846,\n",
       "  'LocalVar': 0.4936708860759494},\n",
       " 'R1_n_labels': 9160}"
      ]
     },
     "metadata": {},
     "output_type": "display_data"
    }
   ],
   "source": [
    "from spot.training import CtxArgs\n",
    "ctx_args_larger = CtxArgs(1024, 256, False)\n",
    "trainer.args.sampling_batch_size = 64\n",
    "r0_stats, r1_stats, ds, preds = trainer.eval_on_repos(valid_repos[1:20], ctx_args_larger)\n",
    "trainer.args.sampling_batch_size = 300\n",
    "display(r1_stats)"
   ]
  },
  {
   "cell_type": "code",
   "execution_count": 16,
   "metadata": {},
   "outputs": [
    {
     "data": {
      "application/vnd.jupyter.widget-view+json": {
       "model_id": "0f70c39421d34afdaa6fb54208156257",
       "version_major": 2,
       "version_minor": 0
      },
      "text/plain": [
       "Tab(children=(HTML(value=\"<pre style='line-height: 1.2; padding: 10px; color: rgb(212,212,212); background-col…"
      ]
     },
     "metadata": {},
     "output_type": "display_data"
    }
   ],
   "source": [
    "from spot import PythonType\n",
    "from spot.data import TypeInfDataset, inline_predictions\n",
    "\n",
    "\n",
    "def visualize_batch(dataset: TypeInfDataset, preds: list[list[PythonType]], i: int):\n",
    "    types = preds[i]\n",
    "    typpes_enc = [tokenizer.encode(str(t), add_special_tokens=False) for t in types]\n",
    "\n",
    "    code_tks = inline_predictions(dataset.data[\"input_ids\"][i], typpes_enc, tokenizer)\n",
    "    code_dec = tokenizer.decode(code_tks, skip_special_tokens=False)\n",
    "    label_dec = dataset.chunks_info[i].types\n",
    "    return \"\".join([\n",
    "        \"labels: \", str(label_dec), \"\\n\",\n",
    "        \"preds: \", str(types), \"\\n\",\n",
    "        \"========================== Code =======================\\n\", code_dec, \"\\n\",\n",
    "    ])\n",
    "\n",
    "from spot.visualization import display_code_sequence\n",
    "\n",
    "display_code_sequence([visualize_batch(ds, preds, i) for i in range(12)])"
   ]
  },
  {
   "cell_type": "code",
   "execution_count": null,
   "metadata": {},
   "outputs": [
    {
     "data": {
      "text/html": [
       "<div>\n",
       "<style scoped>\n",
       "    .dataframe tbody tr th:only-of-type {\n",
       "        vertical-align: middle;\n",
       "    }\n",
       "\n",
       "    .dataframe tbody tr th {\n",
       "        vertical-align: top;\n",
       "    }\n",
       "\n",
       "    .dataframe thead th {\n",
       "        text-align: right;\n",
       "    }\n",
       "</style>\n",
       "<table border=\"1\" class=\"dataframe\">\n",
       "  <thead>\n",
       "    <tr style=\"text-align: right;\">\n",
       "      <th></th>\n",
       "      <th>name</th>\n",
       "      <th>count</th>\n",
       "      <th>avg_time</th>\n",
       "      <th>total_time</th>\n",
       "    </tr>\n",
       "  </thead>\n",
       "  <tbody>\n",
       "    <tr>\n",
       "      <th>3</th>\n",
       "      <td>training &gt; model fitting</td>\n",
       "      <td>7</td>\n",
       "      <td>153.695309</td>\n",
       "      <td>1075.867161</td>\n",
       "    </tr>\n",
       "    <tr>\n",
       "      <th>1</th>\n",
       "      <td>training &gt; model prediction</td>\n",
       "      <td>8</td>\n",
       "      <td>84.873097</td>\n",
       "      <td>678.984775</td>\n",
       "    </tr>\n",
       "    <tr>\n",
       "      <th>2</th>\n",
       "      <td>training &gt; type checking</td>\n",
       "      <td>7</td>\n",
       "      <td>66.090760</td>\n",
       "      <td>462.635319</td>\n",
       "    </tr>\n",
       "    <tr>\n",
       "      <th>0</th>\n",
       "      <td>training &gt; preparing data</td>\n",
       "      <td>15</td>\n",
       "      <td>12.201682</td>\n",
       "      <td>183.025235</td>\n",
       "    </tr>\n",
       "  </tbody>\n",
       "</table>\n",
       "</div>"
      ],
      "text/plain": [
       "                          name  count    avg_time   total_time\n",
       "3     training > model fitting      7  153.695309  1075.867161\n",
       "1  training > model prediction      8   84.873097   678.984775\n",
       "2     training > type checking      7   66.090760   462.635319\n",
       "0    training > preparing data     15   12.201682   183.025235"
      ]
     },
     "metadata": {},
     "output_type": "display_data"
    }
   ],
   "source": [
    "display(trainer.timer.as_dataframe())"
   ]
  }
 ],
 "metadata": {
  "interpreter": {
   "hash": "f6ffc72953da4dd16b2e00785be9c4013ef131f465a8658f3921b6634d4eeec8"
  },
  "kernelspec": {
   "display_name": "Python 3.10.4 ('.venv': pipenv)",
   "language": "python",
   "name": "python3"
  },
  "language_info": {
   "codemirror_mode": {
    "name": "ipython",
    "version": 3
   },
   "file_extension": ".py",
   "mimetype": "text/x-python",
   "name": "python",
   "nbconvert_exporter": "python",
   "pygments_lexer": "ipython3",
   "version": "3.10.4"
  },
  "orig_nbformat": 4
 },
 "nbformat": 4,
 "nbformat_minor": 2
}
