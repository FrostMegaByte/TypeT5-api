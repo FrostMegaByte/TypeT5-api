{
 "cells": [
  {
   "cell_type": "code",
   "execution_count": 1,
   "metadata": {},
   "outputs": [],
   "source": [
    "%load_ext autoreload\n",
    "%autoreload 2\n",
    "\n",
    "import os\n",
    "import pickle\n",
    "from concurrent.futures import ProcessPoolExecutor\n",
    "from pathlib import Path\n",
    "from typing import *\n",
    "\n",
    "import pandas as pd\n",
    "import plotly.express as px\n",
    "\n",
    "from spot.data import GitRepo\n",
    "from spot.type_env import (\n",
    "    AnnotPath,\n",
    "    MypyChecker,\n",
    "    SelectAnnotations,\n",
    "    TypeInfAction,\n",
    "    TypeInfEnv,\n",
    "    TypeInfState,\n",
    "    collect_annotations,\n",
    "    mypy_checker,\n",
    ")\n",
    "from spot.utils import cst, proj_root, read_file, seq_flatten, tqdm, write_file\n",
    "\n",
    "os.chdir(proj_root())\n",
    "\n",
    "datadir = Path(os.getenv(\"datadir\"))\n",
    "repos_dir = datadir / \"SPOT-data/repos\"\n",
    "\n",
    "useful_repos_path = proj_root() / \"scripts\" / \"useful_repos.pkl\"\n",
    "with useful_repos_path.open(\"rb\") as f:\n",
    "    useful_repos: list[GitRepo] = pickle.load(f)\n",
    "\n",
    "repos_split_path = datadir / \"SPOT-data/repos-processed-with_margin/repos_split.pkl\"\n",
    "with repos_split_path.open(\"rb\") as f:\n",
    "    repos_split = pickle.load(f)"
   ]
  },
  {
   "cell_type": "code",
   "execution_count": 2,
   "metadata": {},
   "outputs": [
    {
     "name": "stderr",
     "output_type": "stream",
     "text": [
      "/home/jiayi/Projects/SPOT/.venv/lib/python3.10/site-packages/torch/nn/modules/module.py:1402: UserWarning: positional arguments and argument \"destination\" are deprecated. nn.Module.state_dict will not accept them in the future. Refer to https://pytorch.org/docs/master/generated/torch.nn.Module.html#torch.nn.Module.state_dict for details.\n",
      "  warnings.warn(\n"
     ]
    }
   ],
   "source": [
    "import torch\n",
    "\n",
    "from spot.model import ModelSPOT, TokenizerSPOT\n",
    "\n",
    "model_path = datadir / \"checkpoints/saved/SPOT-CodeT5-with_margin\"\n",
    "device = torch.device(\"cuda:0\" if torch.cuda.is_available() else \"cpu\")\n",
    "tokenizer: TokenizerSPOT = TokenizerSPOT.from_pretrained(model_path)\n",
    "model: ModelSPOT = ModelSPOT.from_pretrained(model_path).to(device)"
   ]
  },
  {
   "cell_type": "code",
   "execution_count": 3,
   "metadata": {},
   "outputs": [],
   "source": [
    "from IPython.display import display\n",
    "\n",
    "import wandb\n",
    "from spot.training import DAggerTrainer, DAggerTrainerArgs\n",
    "\n",
    "test_run = False\n",
    "test_tag = 'test-' if test_run else ''\n",
    "\n",
    "model_name = f\"{test_tag}SPOT-DAgger\"\n",
    "\n",
    "args = DAggerTrainerArgs(\n",
    "    output_dir=proj_root() / \"checkpoints\" / model_name,\n",
    "    max_epochs=2,\n",
    "    repos_group_size=16,\n",
    "    ctx_size=512,\n",
    "    ctx_margin=128,\n",
    "    sampling_batch_size=300,\n",
    "    train_batch_size=42,\n",
    "    generation_max_length=128,\n",
    "    max_workers=16,\n",
    ")\n",
    "\n",
    "\n",
    "trainer = DAggerTrainer(model, tokenizer, args)\n",
    "train_repos = [r.repo_dir(repos_dir) for r in repos_split[\"train\"]]\n",
    "valid_repos = [r.repo_dir(repos_dir) for r in repos_split[\"valid\"]]\n",
    "if test_run:\n",
    "    train_repos = train_repos[:10]\n",
    "    valid_repos = valid_repos[:10]"
   ]
  },
  {
   "cell_type": "code",
   "execution_count": 4,
   "metadata": {},
   "outputs": [
    {
     "name": "stderr",
     "output_type": "stream",
     "text": [
      "Failed to detect the name of this notebook, you can set it manually with the WANDB_NOTEBOOK_NAME environment variable to enable code saving.\n",
      "\u001b[34m\u001b[1mwandb\u001b[0m: Currently logged in as: \u001b[33mmrvplusone\u001b[0m. Use \u001b[1m`wandb login --relogin`\u001b[0m to force relogin\n"
     ]
    },
    {
     "data": {
      "text/html": [
       "Tracking run with wandb version 0.12.16"
      ],
      "text/plain": [
       "<IPython.core.display.HTML object>"
      ]
     },
     "metadata": {},
     "output_type": "display_data"
    },
    {
     "data": {
      "text/html": [
       "Run data is saved locally in <code>/home/jiayi/Projects/SPOT/wandb/run-20220511_180014-2q6fb91u</code>"
      ],
      "text/plain": [
       "<IPython.core.display.HTML object>"
      ]
     },
     "metadata": {},
     "output_type": "display_data"
    },
    {
     "data": {
      "text/html": [
       "Syncing run <strong><a href=\"https://wandb.ai/mrvplusone/SPOT-DAgger/runs/2q6fb91u\" target=\"_blank\">twilight-forest-6</a></strong> to <a href=\"https://wandb.ai/mrvplusone/SPOT-DAgger\" target=\"_blank\">Weights & Biases</a> (<a href=\"https://wandb.me/run\" target=\"_blank\">docs</a>)<br/>"
      ],
      "text/plain": [
       "<IPython.core.display.HTML object>"
      ]
     },
     "metadata": {},
     "output_type": "display_data"
    },
    {
     "data": {
      "application/vnd.jupyter.widget-view+json": {
       "model_id": "d44bbe0265bf4b499c0b95f527d3e9e4",
       "version_major": 2,
       "version_minor": 0
      },
      "text/plain": [
       "DAgger Training:   0%|          | 0/1146 [00:00<?, ?it/s]"
      ]
     },
     "metadata": {},
     "output_type": "display_data"
    },
    {
     "name": "stdout",
     "output_type": "stream",
     "text": [
      "[Epoch 0] R0 stats: {'R0_accuracy_partial': {'total': 0.7511115406920549, 'FuncArg': 0.6980251346499102, 'ClassAtribute': 0.7765064836003052, 'FuncReturn': 0.8344476281439032, 'LocalVar': 0.7176470588235294, 'GlobalVar': 0.8840579710144928}, 'R0_accuracy_full': {'total': 0.6830659191958245, 'FuncArg': 0.6274685816876122, 'ClassAtribute': 0.7063310450038138, 'FuncReturn': 0.7777777777777778, 'LocalVar': 0.611764705882353, 'GlobalVar': 0.6811594202898551}, 'R0_n_labels': 10346}\n",
      "[Epoch 0] R1 stats: {'R1_accuracy_partial': {'total': 0.7447834645669291, 'FuncArg': 0.6966824644549763, 'ClassAtribute': 0.75592960979342, 'FuncReturn': 0.8295566502463054, 'LocalVar': 0.6782945736434108, 'GlobalVar': 0.875}, 'R1_accuracy_full': {'total': 0.7049212598425196, 'FuncArg': 0.6562158220925993, 'ClassAtribute': 0.7115531752104055, 'FuncReturn': 0.7960591133004926, 'LocalVar': 0.6085271317829457, 'GlobalVar': 0.796875}, 'R1_n_labels': 10160}\n"
     ]
    }
   ],
   "source": [
    "wandb.init(project=model_name, config=args)\n",
    "\n",
    "try:\n",
    "    trainer.train(train_repos, valid_repos)\n",
    "except Exception as e:\n",
    "    wandb.alert(title=\"Training stopped due to exception\", text=f\"In {model_name}, exception: {e}\")\n",
    "    raise e\n",
    "wandb.alert(title=\"Training finished\", text=f\"{model_name} has finished.\")"
   ]
  },
  {
   "cell_type": "code",
   "execution_count": null,
   "metadata": {},
   "outputs": [
    {
     "data": {
      "application/vnd.jupyter.widget-view+json": {
       "model_id": "4ef46daaab2d4c52badccae873906260",
       "version_major": 2,
       "version_minor": 0
      },
      "text/plain": [
       "parsing and masking sources:   0%|          | 0/1953 [00:00<?, ?it/s]"
      ]
     },
     "metadata": {},
     "output_type": "display_data"
    },
    {
     "data": {
      "application/vnd.jupyter.widget-view+json": {
       "model_id": "92bac322e5ab4fc4b49288f4981695d4",
       "version_major": 2,
       "version_minor": 0
      },
      "text/plain": [
       "tokenizing sources:   0%|          | 0/1953 [00:00<?, ?it/s]"
      ]
     },
     "metadata": {},
     "output_type": "display_data"
    },
    {
     "data": {
      "application/vnd.jupyter.widget-view+json": {
       "model_id": "0a49028b88bc432abf29e67aae88d853",
       "version_major": 2,
       "version_minor": 0
      },
      "text/plain": [
       "processing chunks:   0%|          | 0/5422 [00:00<?, ?it/s]"
      ]
     },
     "metadata": {},
     "output_type": "display_data"
    },
    {
     "data": {
      "application/vnd.jupyter.widget-view+json": {
       "model_id": "a1b1b1b32e38426688b4e0fb806829c1",
       "version_major": 2,
       "version_minor": 0
      },
      "text/plain": [
       "predict:   0%|          | 0/5 [00:00<?, ?it/s]"
      ]
     },
     "metadata": {},
     "output_type": "display_data"
    },
    {
     "data": {
      "application/vnd.jupyter.widget-view+json": {
       "model_id": "18fbe22117cb4c72a02cd730e19a8d0b",
       "version_major": 2,
       "version_minor": 0
      },
      "text/plain": [
       "reading orginal srcs:   0%|          | 0/938 [00:00<?, ?it/s]"
      ]
     },
     "metadata": {},
     "output_type": "display_data"
    },
    {
     "data": {
      "application/vnd.jupyter.widget-view+json": {
       "model_id": "2aa8ffe238414b2586e74b2fc4f28e95",
       "version_major": 2,
       "version_minor": 0
      },
      "text/plain": [
       "apply file changes:   0%|          | 0/938 [00:00<?, ?it/s]"
      ]
     },
     "metadata": {},
     "output_type": "display_data"
    },
    {
     "data": {
      "application/vnd.jupyter.widget-view+json": {
       "model_id": "e5155d52e130450384860981a2ea7588",
       "version_major": 2,
       "version_minor": 0
      },
      "text/plain": [
       "calling mypy:   0%|          | 0/40 [00:00<?, ?it/s]"
      ]
     },
     "metadata": {},
     "output_type": "display_data"
    },
    {
     "data": {
      "application/vnd.jupyter.widget-view+json": {
       "model_id": "d1dab603fa6c480fa8005ec34bf1704d",
       "version_major": 2,
       "version_minor": 0
      },
      "text/plain": [
       "generating augmented inputs:   0%|          | 0/938 [00:00<?, ?it/s]"
      ]
     },
     "metadata": {},
     "output_type": "display_data"
    },
    {
     "data": {
      "application/vnd.jupyter.widget-view+json": {
       "model_id": "24003504918e45f49964a2a75b114807",
       "version_major": 2,
       "version_minor": 0
      },
      "text/plain": [
       "tokenizing sources:   0%|          | 0/938 [00:00<?, ?it/s]"
      ]
     },
     "metadata": {},
     "output_type": "display_data"
    },
    {
     "data": {
      "application/vnd.jupyter.widget-view+json": {
       "model_id": "f930e890235c40db8bce41471dd3b90a",
       "version_major": 2,
       "version_minor": 0
      },
      "text/plain": [
       "processing chunks:   0%|          | 0/3982 [00:00<?, ?it/s]"
      ]
     },
     "metadata": {},
     "output_type": "display_data"
    },
    {
     "data": {
      "application/vnd.jupyter.widget-view+json": {
       "model_id": "33bc89ec8c064f6fa49d0d1b7f4d1e29",
       "version_major": 2,
       "version_minor": 0
      },
      "text/plain": [
       "predict:   0%|          | 0/5 [00:00<?, ?it/s]"
      ]
     },
     "metadata": {},
     "output_type": "display_data"
    },
    {
     "data": {
      "text/plain": [
       "({'R0_accuracy_partial': {'total': 0.7467620336361879,\n",
       "   'FuncArg': 0.6946140035906643,\n",
       "   'ClassAtribute': 0.7574370709382151,\n",
       "   'FuncReturn': 0.8341292581980261,\n",
       "   'LocalVar': 0.7058823529411765,\n",
       "   'GlobalVar': 0.927536231884058},\n",
       "  'R0_accuracy_full': {'total': 0.6792963464140731,\n",
       "   'FuncArg': 0.6245960502692999,\n",
       "   'ClassAtribute': 0.6864988558352403,\n",
       "   'FuncReturn': 0.7780961477236549,\n",
       "   'LocalVar': 0.596078431372549,\n",
       "   'GlobalVar': 0.7681159420289855},\n",
       "  'R0_n_labels': 10346},\n",
       " {'R1_accuracy_partial': {'total': 0.7504204174497973,\n",
       "   'FuncArg': 0.6992064956634065,\n",
       "   'ClassAtribute': 0.7669753086419753,\n",
       "   'FuncReturn': 0.8387516254876463,\n",
       "   'GlobalVar': 0.8823529411764706,\n",
       "   'LocalVar': 0.6666666666666666},\n",
       "  'R1_accuracy_full': {'total': 0.707488376694035,\n",
       "   'FuncArg': 0.6552869533124193,\n",
       "   'ClassAtribute': 0.7222222222222222,\n",
       "   'FuncReturn': 0.8033159947984395,\n",
       "   'GlobalVar': 0.7843137254901961,\n",
       "   'LocalVar': 0.5767790262172284},\n",
       "  'R1_n_labels': 10109})"
      ]
     },
     "execution_count": 11,
     "metadata": {},
     "output_type": "execute_result"
    }
   ],
   "source": [
    "trainer.eval_on_repos(valid_repos, silent=False)"
   ]
  },
  {
   "cell_type": "code",
   "execution_count": null,
   "metadata": {},
   "outputs": [
    {
     "data": {
      "text/html": [
       "<div>\n",
       "<style scoped>\n",
       "    .dataframe tbody tr th:only-of-type {\n",
       "        vertical-align: middle;\n",
       "    }\n",
       "\n",
       "    .dataframe tbody tr th {\n",
       "        vertical-align: top;\n",
       "    }\n",
       "\n",
       "    .dataframe thead th {\n",
       "        text-align: right;\n",
       "    }\n",
       "</style>\n",
       "<table border=\"1\" class=\"dataframe\">\n",
       "  <thead>\n",
       "    <tr style=\"text-align: right;\">\n",
       "      <th></th>\n",
       "      <th>name</th>\n",
       "      <th>count</th>\n",
       "      <th>avg_time</th>\n",
       "      <th>total_time</th>\n",
       "    </tr>\n",
       "  </thead>\n",
       "  <tbody>\n",
       "    <tr>\n",
       "      <th>3</th>\n",
       "      <td>training &gt; model fitting</td>\n",
       "      <td>7</td>\n",
       "      <td>153.695309</td>\n",
       "      <td>1075.867161</td>\n",
       "    </tr>\n",
       "    <tr>\n",
       "      <th>1</th>\n",
       "      <td>training &gt; model prediction</td>\n",
       "      <td>8</td>\n",
       "      <td>84.873097</td>\n",
       "      <td>678.984775</td>\n",
       "    </tr>\n",
       "    <tr>\n",
       "      <th>2</th>\n",
       "      <td>training &gt; type checking</td>\n",
       "      <td>7</td>\n",
       "      <td>66.090760</td>\n",
       "      <td>462.635319</td>\n",
       "    </tr>\n",
       "    <tr>\n",
       "      <th>0</th>\n",
       "      <td>training &gt; preparing data</td>\n",
       "      <td>15</td>\n",
       "      <td>12.201682</td>\n",
       "      <td>183.025235</td>\n",
       "    </tr>\n",
       "  </tbody>\n",
       "</table>\n",
       "</div>"
      ],
      "text/plain": [
       "                          name  count    avg_time   total_time\n",
       "3     training > model fitting      7  153.695309  1075.867161\n",
       "1  training > model prediction      8   84.873097   678.984775\n",
       "2     training > type checking      7   66.090760   462.635319\n",
       "0    training > preparing data     15   12.201682   183.025235"
      ]
     },
     "metadata": {},
     "output_type": "display_data"
    }
   ],
   "source": [
    "display(trainer.timer.as_dataframe())"
   ]
  },
  {
   "cell_type": "code",
   "execution_count": null,
   "metadata": {},
   "outputs": [],
   "source": [
    "import libcst as cst\n",
    "\n",
    "mod = cst.parse_module(Path(\"data/code/code_with_slash.py\").read_text())"
   ]
  },
  {
   "cell_type": "code",
   "execution_count": null,
   "metadata": {},
   "outputs": [
    {
     "name": "stdout",
     "output_type": "stream",
     "text": [
      "def __init__(\n",
      "    self, check_interval: int, folder: Path, /) -> None:\n",
      "    super().__init__(check_interval, \"AutoLocker\")\n",
      "\n",
      "    self._autolocked: Dict[Path, int] = {}\n",
      "    self._lockers: Dict[Path, \"DirectEdit\"] = {}\n",
      "    self._to_lock: Items = []\n",
      "\n"
     ]
    }
   ],
   "source": [
    "print(mod.code)"
   ]
  }
 ],
 "metadata": {
  "interpreter": {
   "hash": "f6ffc72953da4dd16b2e00785be9c4013ef131f465a8658f3921b6634d4eeec8"
  },
  "kernelspec": {
   "display_name": "Python 3.10.4 ('.venv': pipenv)",
   "language": "python",
   "name": "python3"
  },
  "language_info": {
   "codemirror_mode": {
    "name": "ipython",
    "version": 3
   },
   "file_extension": ".py",
   "mimetype": "text/x-python",
   "name": "python",
   "nbconvert_exporter": "python",
   "pygments_lexer": "ipython3",
   "version": "3.10.4"
  },
  "orig_nbformat": 4
 },
 "nbformat": 4,
 "nbformat_minor": 2
}
