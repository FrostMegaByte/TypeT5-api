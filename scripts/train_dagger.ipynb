{
 "cells": [
  {
   "cell_type": "code",
   "execution_count": 1,
   "metadata": {},
   "outputs": [],
   "source": [
    "%load_ext autoreload\n",
    "%autoreload 2\n",
    "\n",
    "import os\n",
    "from typing import *\n",
    "\n",
    "from spot.utils import proj_root, get_data_dir\n",
    "\n",
    "os.chdir(proj_root())\n",
    "\n",
    "datadir = get_data_dir()"
   ]
  },
  {
   "cell_type": "code",
   "execution_count": 2,
   "metadata": {},
   "outputs": [
    {
     "name": "stderr",
     "output_type": "stream",
     "text": [
      "/home/jiayi/Projects/SPOT/.venv/lib/python3.10/site-packages/torchvision/io/image.py:13: UserWarning: Failed to load image Python extension: libtorch_cuda_cu.so: cannot open shared object file: No such file or directory\n",
      "  warn(f\"Failed to load image Python extension: {e}\")\n"
     ]
    },
    {
     "name": "stdout",
     "output_type": "stream",
     "text": [
      "Loading datasets:  src_datasets-all_labels-drop_comments\n"
     ]
    }
   ],
   "source": [
    "# experiment configurations\n",
    "\n",
    "from spot.data import (\n",
    "    SrcDataset,\n",
    "    get_dataset_name,\n",
    "    load_src_datasets,\n",
    "    TypeCheckSettings,\n",
    ")\n",
    "from spot.model import CtxArgs, DecodingArgs, ModelSPOT, ModelWrapper\n",
    "from copy import copy\n",
    "from spot.train import TrainingConfig, TypeCheckArgs\n",
    "\n",
    "config = TrainingConfig(\n",
    "    quicktest=False,\n",
    "    all_labels=True,\n",
    "    ctx_size=2048,\n",
    "    left_margin=1024,\n",
    "    right_margin=512,\n",
    ")\n",
    "gpu_id = 0\n",
    "TypeCheckSettings.temp_path = f\"DAgger-{gpu_id}\"\n",
    "\n",
    "project_name = \"test-SPOT\" if config.quicktest else \"SPOT\"\n",
    "train_ctx_args = config.train_ctx_args()\n",
    "tc_args = TypeCheckArgs(check_in_isolation=config.check_in_isolation)\n",
    "\n",
    "max_tokens_per_file = config.ctx_size\n",
    "dec_args = DecodingArgs(\n",
    "    sampling_max_tokens=8 * max_tokens_per_file,\n",
    "    ctx_args=config.dec_ctx_args(),\n",
    ")\n",
    "\n",
    "datasets_name = get_dataset_name(\n",
    "    drop_comments=config.drop_comments,\n",
    "    all_labels=config.all_labels,\n",
    ")\n",
    "\n",
    "model_name = \"DAgger-model--\" + config.as_name()\n",
    "\n",
    "src_datasets = load_src_datasets(\n",
    "    datadir,\n",
    "    datasets_name,\n",
    "    data_reduction=config.data_reduction,\n",
    "    quicktest=config.quicktest,\n",
    ")\n"
   ]
  },
  {
   "cell_type": "code",
   "execution_count": 3,
   "metadata": {},
   "outputs": [],
   "source": [
    "from spot.model import load_model_spot, DefaultTokenizer\n",
    "from spot.model import ModelWrapper\n",
    "from spot.dagger import DAggerModel\n",
    "import torch\n",
    "\n",
    "model = load_model_spot(\"Salesforce/codet5-base\")\n",
    "wrapper = ModelWrapper(model, DefaultTokenizer, dec_args)\n",
    "device = torch.device(f\"cuda:{gpu_id}\" if torch.cuda.is_available() else \"cpu\")\n",
    "wrapper.to(device)\n",
    "dmodel = DAggerModel(wrapper)\n"
   ]
  },
  {
   "cell_type": "code",
   "execution_count": 5,
   "metadata": {},
   "outputs": [
    {
     "name": "stderr",
     "output_type": "stream",
     "text": [
      "compute_preexisting_fdbks: 100%|██████████| 4/4 [00:02<00:00,  1.43it/s]\n",
      "Evaluating: 100%|██████████| 920/920 [03:47<00:00,  4.04it/s]\n"
     ]
    },
    {
     "name": "stdout",
     "output_type": "stream",
     "text": [
      "partial_acc (ImNone): 5.54% (count=920)\n",
      "full_acc (ImNone): 5.11% (count=920)\n",
      "partial_acc: 5.00% (count=920)\n",
      "ast_acc: 3.66% (count=1.1k)\n",
      "full_acc: 4.57% (count=920)\n",
      "partial_acc_by_cat:\n",
      "   FuncArg: 2.26% (count=531)\n",
      "   FuncReturn: 12.00% (count=275)\n",
      "   ClassAtribute: 0.00% (count=71)\n",
      "   GlobalVar: 0.00% (count=1)\n",
      "   LocalVar: 2.38% (count=42)\n",
      "partial_acc_by_pos:\n",
      "   range(0, 1): 6.00% (count=50)\n",
      "   range(1, 2): 0.00% (count=44)\n",
      "   range(2, 4): 7.69% (count=78)\n",
      "   range(4, 8): 1.56% (count=128)\n",
      "   range(8, 16): 3.21% (count=187)\n",
      "   range(16, 32): 8.21% (count=207)\n",
      "   range(32, 64): 7.01% (count=157)\n",
      "   range(64, 128): 1.45% (count=69)\n",
      "avg_label_size: 1.2478\n",
      "avg_pred_size: 1.0076\n"
     ]
    }
   ],
   "source": [
    "from spot.utils import pretty_print_dict\n",
    "\n",
    "eval_r = await dmodel.eval_on_data(src_datasets[\"test\"][0:50])\n",
    "pretty_print_dict(eval_r.accuracies)\n"
   ]
  },
  {
   "cell_type": "code",
   "execution_count": 4,
   "metadata": {},
   "outputs": [
    {
     "name": "stderr",
     "output_type": "stream",
     "text": [
      "Failed to detect the name of this notebook, you can set it manually with the WANDB_NOTEBOOK_NAME environment variable to enable code saving.\n",
      "\u001b[34m\u001b[1mwandb\u001b[0m: Currently logged in as: \u001b[33mmrvplusone\u001b[0m. Use \u001b[1m`wandb login --relogin`\u001b[0m to force relogin\n"
     ]
    },
    {
     "data": {
      "text/html": [
       "wandb version 0.12.21 is available!  To upgrade, please run:\n",
       " $ pip install wandb --upgrade"
      ],
      "text/plain": [
       "<IPython.core.display.HTML object>"
      ]
     },
     "metadata": {},
     "output_type": "display_data"
    },
    {
     "data": {
      "text/html": [
       "Tracking run with wandb version 0.12.18"
      ],
      "text/plain": [
       "<IPython.core.display.HTML object>"
      ]
     },
     "metadata": {},
     "output_type": "display_data"
    },
    {
     "data": {
      "text/html": [
       "Run data is saved locally in <code>/mnt/data0/jiayi/wandb/run-20220714_190728-3tqj3eiy</code>"
      ],
      "text/plain": [
       "<IPython.core.display.HTML object>"
      ]
     },
     "metadata": {},
     "output_type": "display_data"
    },
    {
     "data": {
      "text/html": [
       "Syncing run <strong><a href=\"https://wandb.ai/mrvplusone/SPOT/runs/3tqj3eiy\" target=\"_blank\">DAgger-model--all_labels=True-ctx_size=2048-left_margin=1024-right_margin=512</a></strong> to <a href=\"https://wandb.ai/mrvplusone/SPOT\" target=\"_blank\">Weights & Biases</a> (<a href=\"https://wandb.me/run\" target=\"_blank\">docs</a>)<br/>"
      ],
      "text/plain": [
       "<IPython.core.display.HTML object>"
      ]
     },
     "metadata": {},
     "output_type": "display_data"
    },
    {
     "name": "stderr",
     "output_type": "stream",
     "text": [
      "compute_preexisting_fdbks: 100%|██████████| 612/612 [01:01<00:00,  9.96it/s]\n",
      "Training:   0%|          | 1/295457 [00:06<538:10:49,  6.56s/it]\n"
     ]
    },
    {
     "ename": "TypeError",
     "evalue": "<lambda>() got an unexpected keyword argument 'step'",
     "output_type": "error",
     "traceback": [
      "\u001b[0;31m---------------------------------------------------------------------------\u001b[0m",
      "\u001b[0;31mTypeError\u001b[0m                                 Traceback (most recent call last)",
      "\u001b[1;32m/home/jiayi/Projects/SPOT/scripts/train_dagger.ipynb Cell 5\u001b[0m in \u001b[0;36m<cell line: 11>\u001b[0;34m()\u001b[0m\n\u001b[1;32m      <a href='vscode-notebook-cell://ssh-remote%2Butopia3/home/jiayi/Projects/SPOT/scripts/train_dagger.ipynb#ch0000004vscode-remote?line=1'>2</a>\u001b[0m \u001b[39mimport\u001b[39;00m \u001b[39mwandb\u001b[39;00m\n\u001b[1;32m      <a href='vscode-notebook-cell://ssh-remote%2Butopia3/home/jiayi/Projects/SPOT/scripts/train_dagger.ipynb#ch0000004vscode-remote?line=3'>4</a>\u001b[0m wandb\u001b[39m.\u001b[39minit(\n\u001b[1;32m      <a href='vscode-notebook-cell://ssh-remote%2Butopia3/home/jiayi/Projects/SPOT/scripts/train_dagger.ipynb#ch0000004vscode-remote?line=4'>5</a>\u001b[0m     project\u001b[39m=\u001b[39mproject_name,\n\u001b[1;32m      <a href='vscode-notebook-cell://ssh-remote%2Butopia3/home/jiayi/Projects/SPOT/scripts/train_dagger.ipynb#ch0000004vscode-remote?line=5'>6</a>\u001b[0m     name\u001b[39m=\u001b[39mmodel_name,\n\u001b[1;32m      <a href='vscode-notebook-cell://ssh-remote%2Butopia3/home/jiayi/Projects/SPOT/scripts/train_dagger.ipynb#ch0000004vscode-remote?line=6'>7</a>\u001b[0m     config\u001b[39m=\u001b[39mconfig\u001b[39m.\u001b[39mas_dict(),\n\u001b[1;32m      <a href='vscode-notebook-cell://ssh-remote%2Butopia3/home/jiayi/Projects/SPOT/scripts/train_dagger.ipynb#ch0000004vscode-remote?line=7'>8</a>\u001b[0m     \u001b[39mdir\u001b[39m\u001b[39m=\u001b[39m\u001b[39mstr\u001b[39m(datadir),\n\u001b[1;32m      <a href='vscode-notebook-cell://ssh-remote%2Butopia3/home/jiayi/Projects/SPOT/scripts/train_dagger.ipynb#ch0000004vscode-remote?line=8'>9</a>\u001b[0m )\n\u001b[0;32m---> <a href='vscode-notebook-cell://ssh-remote%2Butopia3/home/jiayi/Projects/SPOT/scripts/train_dagger.ipynb#ch0000004vscode-remote?line=10'>11</a>\u001b[0m \u001b[39mawait\u001b[39;00m dmodel\u001b[39m.\u001b[39mtrain_on_data(\n\u001b[1;32m     <a href='vscode-notebook-cell://ssh-remote%2Butopia3/home/jiayi/Projects/SPOT/scripts/train_dagger.ipynb#ch0000004vscode-remote?line=11'>12</a>\u001b[0m     src_datasets, DAggerArgs(config\u001b[39m.\u001b[39mgrad_accum_labels), log_fn\u001b[39m=\u001b[39m\u001b[39mlambda\u001b[39;00m t, x: wandb\u001b[39m.\u001b[39mlog(x, step\u001b[39m=\u001b[39mt)\n\u001b[1;32m     <a href='vscode-notebook-cell://ssh-remote%2Butopia3/home/jiayi/Projects/SPOT/scripts/train_dagger.ipynb#ch0000004vscode-remote?line=12'>13</a>\u001b[0m )\n",
      "File \u001b[0;32m~/Projects/SPOT/src/spot/dagger.py:207\u001b[0m, in \u001b[0;36mDAggerModel.train_on_data\u001b[0;34m(self, src_datasets, dagger_args, log_fn, concurrency)\u001b[0m\n\u001b[1;32m    198\u001b[0m     step \u001b[39m=\u001b[39m train_acc\u001b[39m.\u001b[39mcount\n\u001b[1;32m    199\u001b[0m     log_fn(\n\u001b[1;32m    200\u001b[0m         {\n\u001b[1;32m    201\u001b[0m             \u001b[39m\"\u001b[39m\u001b[39mtrain/acc\u001b[39m\u001b[39m\"\u001b[39m: train_acc\u001b[39m.\u001b[39mvalue,\n\u001b[0;32m   (...)\u001b[0m\n\u001b[1;32m    204\u001b[0m         step\u001b[39m=\u001b[39mstep,\n\u001b[1;32m    205\u001b[0m     )\n\u001b[0;32m--> 207\u001b[0m \u001b[39mawait\u001b[39;00m throttled_async_run(train_step, train_srcs, concurrency)\n",
      "File \u001b[0;32m~/Projects/SPOT/src/spot/dagger.py:272\u001b[0m, in \u001b[0;36mthrottled_async_run\u001b[0;34m(f, xs, concurrency)\u001b[0m\n\u001b[1;32m    269\u001b[0m         \u001b[39mreturn\u001b[39;00m \u001b[39mawait\u001b[39;00m f(x)\n\u001b[1;32m    271\u001b[0m tasks \u001b[39m=\u001b[39m [task(x) \u001b[39mfor\u001b[39;00m x \u001b[39min\u001b[39;00m xs]\n\u001b[0;32m--> 272\u001b[0m \u001b[39mreturn\u001b[39;00m \u001b[39mawait\u001b[39;00m asyncio\u001b[39m.\u001b[39mgather(\u001b[39m*\u001b[39mtasks)\n",
      "File \u001b[0;32m~/Projects/SPOT/src/spot/dagger.py:269\u001b[0m, in \u001b[0;36mthrottled_async_run.<locals>.task\u001b[0;34m(x)\u001b[0m\n\u001b[1;32m    267\u001b[0m \u001b[39masync\u001b[39;00m \u001b[39mdef\u001b[39;00m \u001b[39mtask\u001b[39m(x):\n\u001b[1;32m    268\u001b[0m     \u001b[39masync\u001b[39;00m \u001b[39mwith\u001b[39;00m sem:\n\u001b[0;32m--> 269\u001b[0m         \u001b[39mreturn\u001b[39;00m \u001b[39mawait\u001b[39;00m f(x)\n",
      "File \u001b[0;32m~/Projects/SPOT/src/spot/dagger.py:199\u001b[0m, in \u001b[0;36mDAggerModel.train_on_data.<locals>.train_step\u001b[0;34m(src)\u001b[0m\n\u001b[1;32m    197\u001b[0m     train_loss\u001b[39m.\u001b[39mupdate(l)\n\u001b[1;32m    198\u001b[0m step \u001b[39m=\u001b[39m train_acc\u001b[39m.\u001b[39mcount\n\u001b[0;32m--> 199\u001b[0m log_fn(\n\u001b[1;32m    200\u001b[0m     {\n\u001b[1;32m    201\u001b[0m         \u001b[39m\"\u001b[39;49m\u001b[39mtrain/acc\u001b[39;49m\u001b[39m\"\u001b[39;49m: train_acc\u001b[39m.\u001b[39;49mvalue,\n\u001b[1;32m    202\u001b[0m         \u001b[39m\"\u001b[39;49m\u001b[39mtrain/loss\u001b[39;49m\u001b[39m\"\u001b[39;49m: train_loss\u001b[39m.\u001b[39;49mvalue,\n\u001b[1;32m    203\u001b[0m     },\n\u001b[1;32m    204\u001b[0m     step\u001b[39m=\u001b[39;49mstep,\n\u001b[1;32m    205\u001b[0m )\n",
      "\u001b[0;31mTypeError\u001b[0m: <lambda>() got an unexpected keyword argument 'step'"
     ]
    }
   ],
   "source": [
    "from spot.dagger import DAggerArgs\n",
    "import wandb\n",
    "\n",
    "wandb.init(\n",
    "    project=project_name,\n",
    "    name=model_name,\n",
    "    config=config.as_dict(),\n",
    "    dir=str(datadir),\n",
    ")\n",
    "\n",
    "await dmodel.train_on_data(\n",
    "    src_datasets, DAggerArgs(config.grad_accum_labels), log_fn=lambda t, x: wandb.log(x, step=t)\n",
    ")\n"
   ]
  },
  {
   "cell_type": "code",
   "execution_count": null,
   "metadata": {},
   "outputs": [
    {
     "name": "stderr",
     "output_type": "stream",
     "text": [
      "compute_preexisting_fdbks: 100%|██████████| 4/4 [00:02<00:00,  1.43it/s]\n",
      "Evaluating:  14%|█▎        | 126/920 [00:27<02:50,  4.65it/s]\n",
      "Traceback (most recent call last):\n",
      "  File \"/home/jiayi/Projects/SPOT/src/spot/dagger.py\", line 269, in task\n",
      "    return await f(x)\n",
      "  File \"/home/jiayi/Projects/SPOT/src/spot/dagger.py\", line 225, in eval_step\n",
      "    r = await self.run_on_src(\n",
      "  File \"/home/jiayi/Projects/SPOT/src/spot/dagger.py\", line 106, in run_on_src\n",
      "    check_r = await eloop.run_in_executor(\n",
      "asyncio.exceptions.CancelledError\n",
      "\n",
      "During handling of the above exception, another exception occurred:\n",
      "\n",
      "Traceback (most recent call last):\n",
      "  File \"/home/jiayi/Projects/SPOT/.venv/lib/python3.10/site-packages/IPython/core/interactiveshell.py\", line 3396, in run_code\n",
      "    await eval(code_obj, self.user_global_ns, self.user_ns)\n",
      "  File \"/tmp/ipykernel_49914/923053019.py\", line 3, in <cell line: 3>\n",
      "    eval_r = await dmodel.eval_on_data(src_datasets[\"test\"][0:50])\n",
      "  File \"/home/jiayi/Projects/SPOT/src/spot/dagger.py\", line 238, in eval_on_data\n",
      "    await throttled_async_run(eval_step, dataset.all_srcs, concurrency)\n",
      "  File \"/home/jiayi/Projects/SPOT/src/spot/dagger.py\", line 272, in throttled_async_run\n",
      "    return await asyncio.gather(*tasks)\n",
      "asyncio.exceptions.CancelledError\n",
      "\n",
      "During handling of the above exception, another exception occurred:\n",
      "\n",
      "Traceback (most recent call last):\n",
      "  File \"/home/jiayi/Projects/SPOT/.venv/lib/python3.10/site-packages/IPython/core/interactiveshell.py\", line 1993, in showtraceback\n",
      "    stb = self.InteractiveTB.structured_traceback(\n",
      "  File \"/home/jiayi/Projects/SPOT/.venv/lib/python3.10/site-packages/IPython/core/ultratb.py\", line 1118, in structured_traceback\n",
      "    return FormattedTB.structured_traceback(\n",
      "  File \"/home/jiayi/Projects/SPOT/.venv/lib/python3.10/site-packages/IPython/core/ultratb.py\", line 1012, in structured_traceback\n",
      "    return VerboseTB.structured_traceback(\n",
      "  File \"/home/jiayi/Projects/SPOT/.venv/lib/python3.10/site-packages/IPython/core/ultratb.py\", line 865, in structured_traceback\n",
      "    formatted_exception = self.format_exception_as_a_whole(etype, evalue, etb, number_of_lines_of_context,\n",
      "  File \"/home/jiayi/Projects/SPOT/.venv/lib/python3.10/site-packages/IPython/core/ultratb.py\", line 818, in format_exception_as_a_whole\n",
      "    frames.append(self.format_record(r))\n",
      "  File \"/home/jiayi/Projects/SPOT/.venv/lib/python3.10/site-packages/IPython/core/ultratb.py\", line 736, in format_record\n",
      "    result += ''.join(_format_traceback_lines(frame_info.lines, Colors, self.has_colors, lvals))\n",
      "  File \"/home/jiayi/Projects/SPOT/.venv/lib/python3.10/site-packages/stack_data/utils.py\", line 145, in cached_property_wrapper\n",
      "    value = obj.__dict__[self.func.__name__] = self.func(obj)\n",
      "  File \"/home/jiayi/Projects/SPOT/.venv/lib/python3.10/site-packages/stack_data/core.py\", line 698, in lines\n",
      "    pieces = self.included_pieces\n",
      "  File \"/home/jiayi/Projects/SPOT/.venv/lib/python3.10/site-packages/stack_data/utils.py\", line 145, in cached_property_wrapper\n",
      "    value = obj.__dict__[self.func.__name__] = self.func(obj)\n",
      "  File \"/home/jiayi/Projects/SPOT/.venv/lib/python3.10/site-packages/stack_data/core.py\", line 649, in included_pieces\n",
      "    pos = scope_pieces.index(self.executing_piece)\n",
      "  File \"/home/jiayi/Projects/SPOT/.venv/lib/python3.10/site-packages/stack_data/utils.py\", line 145, in cached_property_wrapper\n",
      "    value = obj.__dict__[self.func.__name__] = self.func(obj)\n",
      "  File \"/home/jiayi/Projects/SPOT/.venv/lib/python3.10/site-packages/stack_data/core.py\", line 628, in executing_piece\n",
      "    return only(\n",
      "  File \"/home/jiayi/Projects/SPOT/.venv/lib/python3.10/site-packages/executing/executing.py\", line 164, in only\n",
      "    raise NotOneValueFound('Expected one value, found 0')\n",
      "executing.executing.NotOneValueFound: Expected one value, found 0\n"
     ]
    },
    {
     "name": "stdout",
     "output_type": "stream",
     "text": [
      "Unexpected exception formatting exception. Falling back to standard exception\n"
     ]
    }
   ],
   "source": [
    "from spot.utils import pretty_print_dict\n",
    "\n",
    "eval_r = await dmodel.eval_on_data(src_datasets[\"test\"][0:50])\n",
    "pretty_print_dict(eval_r.accuracies)\n"
   ]
  },
  {
   "cell_type": "code",
   "execution_count": null,
   "metadata": {},
   "outputs": [],
   "source": [
    "from spot.utils import pretty_print_dict\n",
    "\n",
    "eval_r = await dmodel.eval_on_data(src_datasets[\"test\"])\n",
    "pretty_print_dict(eval_r.accuracies)\n"
   ]
  }
 ],
 "metadata": {
  "kernelspec": {
   "display_name": "Python 3.10.4 ('.venv': pipenv)",
   "language": "python",
   "name": "python3"
  },
  "language_info": {
   "codemirror_mode": {
    "name": "ipython",
    "version": 3
   },
   "file_extension": ".py",
   "mimetype": "text/x-python",
   "name": "python",
   "nbconvert_exporter": "python",
   "pygments_lexer": "ipython3",
   "version": "3.10.4"
  },
  "orig_nbformat": 4,
  "vscode": {
   "interpreter": {
    "hash": "f6ffc72953da4dd16b2e00785be9c4013ef131f465a8658f3921b6634d4eeec8"
   }
  }
 },
 "nbformat": 4,
 "nbformat_minor": 2
}
