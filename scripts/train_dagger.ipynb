{
 "cells": [
  {
   "cell_type": "code",
   "execution_count": 1,
   "metadata": {},
   "outputs": [],
   "source": [
    "%load_ext autoreload\n",
    "%autoreload 2\n",
    "\n",
    "import os\n",
    "import pickle\n",
    "from concurrent.futures import ProcessPoolExecutor\n",
    "from pathlib import Path\n",
    "from typing import *\n",
    "\n",
    "import pandas as pd\n",
    "import plotly.express as px\n",
    "\n",
    "from spot.data import GitRepo\n",
    "from spot.type_env import (\n",
    "    AnnotPath,\n",
    "    MypyChecker,\n",
    "    SelectAnnotations,\n",
    "    TypeInfAction,\n",
    "    TypeInfEnv,\n",
    "    TypeInfState,\n",
    "    collect_annotations,\n",
    "    mypy_checker,\n",
    ")\n",
    "from spot.utils import cst, proj_root, read_file, seq_flatten, tqdm, write_file\n",
    "\n",
    "os.chdir(proj_root())\n",
    "\n",
    "datadir = Path(os.getenv(\"datadir\"))\n",
    "repos_dir = datadir / \"SPOT-data/repos\"\n",
    "\n",
    "useful_repos_path = proj_root() / \"scripts\" / \"useful_repos.pkl\"\n",
    "with useful_repos_path.open(\"rb\") as f:\n",
    "    useful_repos: list[GitRepo] = pickle.load(f)\n",
    "\n",
    "repos_split_path = datadir / \"SPOT-data/repos-processed-with_margin/repos_split.pkl\"\n",
    "with repos_split_path.open(\"rb\") as f:\n",
    "    repos_split = pickle.load(f)"
   ]
  },
  {
   "cell_type": "code",
   "execution_count": 4,
   "metadata": {},
   "outputs": [
    {
     "name": "stderr",
     "output_type": "stream",
     "text": [
      "/home/jiayi/Projects/SPOT/.venv/lib/python3.10/site-packages/torch/nn/modules/module.py:1402: UserWarning: positional arguments and argument \"destination\" are deprecated. nn.Module.state_dict will not accept them in the future. Refer to https://pytorch.org/docs/master/generated/torch.nn.Module.html#torch.nn.Module.state_dict for details.\n",
      "  warnings.warn(\n"
     ]
    }
   ],
   "source": [
    "import torch\n",
    "\n",
    "from spot.model import ModelSPOT, TokenizerSPOT\n",
    "\n",
    "r0_model_path = datadir / \"checkpoints/saved/SPOT-CodeT5-with_margin\"\n",
    "r1_model_path = \"Salesforce/codet5-base\"\n",
    "\n",
    "# model_path = datadir / \"checkpoints/saved/SPOT-DAgger-scratch\"\n",
    "device = torch.device(\"cuda:0\" if torch.cuda.is_available() else \"cpu\")\n",
    "tokenizer: TokenizerSPOT = TokenizerSPOT.from_pretrained(r0_model_path)\n",
    "r0_model: ModelSPOT = ModelSPOT.from_pretrained(r0_model_path).to(device)\n",
    "r1_model: ModelSPOT = ModelSPOT.from_pretrained(r1_model_path).to(device)"
   ]
  },
  {
   "cell_type": "code",
   "execution_count": 5,
   "metadata": {},
   "outputs": [],
   "source": [
    "from IPython.display import display, display_pretty\n",
    "\n",
    "import wandb\n",
    "from spot.training import DAggerTrainer, DAggerTrainerArgs, CtxArgs\n",
    "\n",
    "test_run = True\n",
    "test_tag = 'test-' if test_run else ''\n",
    "\n",
    "model_name = f\"{test_tag}SPOT-DAgger-r1\"\n",
    "\n",
    "args = DAggerTrainerArgs(\n",
    "    output_dir=datadir / \"checkpoints\" / model_name,\n",
    "    max_epochs=3,\n",
    "    skip_first_eval=False,\n",
    "    repos_group_size=16,\n",
    "    ctx_args=CtxArgs(\n",
    "        ctx_size=512,\n",
    "        ctx_margin=128,\n",
    "        types_in_ctx=False,\n",
    "    ),\n",
    "    sampling_batch_size=256,\n",
    "    train_batch_size=42,\n",
    "    generation_max_length=128,\n",
    "    max_workers=16,\n",
    ")\n",
    "\n",
    "\n",
    "trainer = DAggerTrainer(r0_model, r1_model, tokenizer, args)\n",
    "train_repos = [r.repo_dir(repos_dir) for r in repos_split[\"train\"]]\n",
    "valid_repos = [r.repo_dir(repos_dir) for r in repos_split[\"valid\"]]\n",
    "if test_run:\n",
    "    train_repos = train_repos[:10]\n",
    "    valid_repos = valid_repos[:5]"
   ]
  },
  {
   "cell_type": "code",
   "execution_count": 7,
   "metadata": {},
   "outputs": [
    {
     "data": {
      "text/html": [
       "Finishing last run (ID:313xs375) before initializing another..."
      ],
      "text/plain": [
       "<IPython.core.display.HTML object>"
      ]
     },
     "metadata": {},
     "output_type": "display_data"
    },
    {
     "data": {
      "text/html": [
       "Waiting for W&B process to finish... <strong style=\"color:green\">(success).</strong>"
      ],
      "text/plain": [
       "<IPython.core.display.HTML object>"
      ]
     },
     "metadata": {},
     "output_type": "display_data"
    },
    {
     "data": {
      "application/vnd.jupyter.widget-view+json": {
       "model_id": "9cffa33d6e21497d9774a656952ab2c3",
       "version_major": 2,
       "version_minor": 0
      },
      "text/plain": [
       "VBox(children=(Label(value='0.000 MB of 0.001 MB uploaded (0.000 MB deduped)\\r'), FloatProgress(value=0.0, max…"
      ]
     },
     "metadata": {},
     "output_type": "display_data"
    },
    {
     "data": {
      "text/html": [
       "<style>\n",
       "    table.wandb td:nth-child(1) { padding: 0 10px; text-align: left ; width: auto;} td:nth-child(2) {text-align: left ; width: 100%}\n",
       "    .wandb-row { display: flex; flex-direction: row; flex-wrap: wrap; justify-content: flex-start; width: 100% }\n",
       "    .wandb-col { display: flex; flex-direction: column; flex-basis: 100%; flex: 1; padding: 10px; }\n",
       "    </style>\n",
       "<div class=\"wandb-row\"><div class=\"wandb-col\"><h3>Run history:</h3><br/><table class=\"wandb\"><tr><td>R0_full_acc</td><td>▁</td></tr><tr><td>R0_n_labels</td><td>▁</td></tr><tr><td>R0_partial_acc</td><td>▁</td></tr><tr><td>R0_partial_acc_no_any</td><td>▁</td></tr><tr><td>R1_full_acc</td><td>▁</td></tr><tr><td>R1_n_labels</td><td>▁</td></tr><tr><td>R1_partial_acc</td><td>▁</td></tr><tr><td>R1_partial_acc_no_any</td><td>▁</td></tr><tr><td>epoch</td><td>▁▁</td></tr><tr><td>step</td><td>▁▁</td></tr></table><br/></div><div class=\"wandb-col\"><h3>Run summary:</h3><br/><table class=\"wandb\"><tr><td>R0_full_acc</td><td>0.53049</td></tr><tr><td>R0_n_labels</td><td>3214</td></tr><tr><td>R0_partial_acc</td><td>0.61045</td></tr><tr><td>R0_partial_acc_no_any</td><td>0.61814</td></tr><tr><td>R1_full_acc</td><td>0.0498</td></tr><tr><td>R1_n_labels</td><td>3213</td></tr><tr><td>R1_partial_acc</td><td>0.05478</td></tr><tr><td>R1_partial_acc_no_any</td><td>0.03577</td></tr><tr><td>epoch</td><td>0</td></tr><tr><td>step</td><td>0</td></tr></table><br/></div></div>"
      ],
      "text/plain": [
       "<IPython.core.display.HTML object>"
      ]
     },
     "metadata": {},
     "output_type": "display_data"
    },
    {
     "data": {
      "text/html": [
       "Synced <strong style=\"color:#cdcd00\">serene-leaf-1</strong>: <a href=\"https://wandb.ai/mrvplusone/test-SPOT-DAgger-r1/runs/313xs375\" target=\"_blank\">https://wandb.ai/mrvplusone/test-SPOT-DAgger-r1/runs/313xs375</a><br/>Synced 5 W&B file(s), 0 media file(s), 0 artifact file(s) and 0 other file(s)"
      ],
      "text/plain": [
       "<IPython.core.display.HTML object>"
      ]
     },
     "metadata": {},
     "output_type": "display_data"
    },
    {
     "data": {
      "text/html": [
       "Find logs at: <code>/mnt/data0/jiayi/wandb/run-20220513_165041-313xs375/logs</code>"
      ],
      "text/plain": [
       "<IPython.core.display.HTML object>"
      ]
     },
     "metadata": {},
     "output_type": "display_data"
    },
    {
     "data": {
      "text/html": [
       "Successfully finished last run (ID:313xs375). Initializing new run:<br/>"
      ],
      "text/plain": [
       "<IPython.core.display.HTML object>"
      ]
     },
     "metadata": {},
     "output_type": "display_data"
    },
    {
     "data": {
      "text/html": [
       "Tracking run with wandb version 0.12.16"
      ],
      "text/plain": [
       "<IPython.core.display.HTML object>"
      ]
     },
     "metadata": {},
     "output_type": "display_data"
    },
    {
     "data": {
      "text/html": [
       "Run data is saved locally in <code>/mnt/data0/jiayi/wandb/run-20220513_171144-1gssi0bv</code>"
      ],
      "text/plain": [
       "<IPython.core.display.HTML object>"
      ]
     },
     "metadata": {},
     "output_type": "display_data"
    },
    {
     "data": {
      "text/html": [
       "Syncing run <strong><a href=\"https://wandb.ai/mrvplusone/test-SPOT-DAgger-r1/runs/1gssi0bv\" target=\"_blank\">twilight-pond-2</a></strong> to <a href=\"https://wandb.ai/mrvplusone/test-SPOT-DAgger-r1\" target=\"_blank\">Weights & Biases</a> (<a href=\"https://wandb.me/run\" target=\"_blank\">docs</a>)<br/>"
      ],
      "text/plain": [
       "<IPython.core.display.HTML object>"
      ]
     },
     "metadata": {},
     "output_type": "display_data"
    },
    {
     "data": {
      "application/vnd.jupyter.widget-view+json": {
       "model_id": "09fdcd11065143ccb3c1785ee3702e14",
       "version_major": 2,
       "version_minor": 0
      },
      "text/plain": [
       "DAgger Training:   0%|          | 0/30 [00:00<?, ?it/s]"
      ]
     },
     "metadata": {},
     "output_type": "display_data"
    },
    {
     "data": {
      "application/vnd.jupyter.widget-view+json": {
       "model_id": "79916fff7b1e4fb4a3fba05244bcb80c",
       "version_major": 2,
       "version_minor": 0
      },
      "text/plain": [
       "parsing and masking sources:   0%|          | 0/351 [00:00<?, ?it/s]"
      ]
     },
     "metadata": {},
     "output_type": "display_data"
    },
    {
     "data": {
      "application/vnd.jupyter.widget-view+json": {
       "model_id": "0fcd0f6c8477430da27c3b6772bb0514",
       "version_major": 2,
       "version_minor": 0
      },
      "text/plain": [
       "tokenizing sources:   0%|          | 0/351 [00:00<?, ?it/s]"
      ]
     },
     "metadata": {},
     "output_type": "display_data"
    },
    {
     "data": {
      "application/vnd.jupyter.widget-view+json": {
       "model_id": "d14bf97094524076b806b40063304a51",
       "version_major": 2,
       "version_minor": 0
      },
      "text/plain": [
       "processing chunks:   0%|          | 0/1353 [00:00<?, ?it/s]"
      ]
     },
     "metadata": {},
     "output_type": "display_data"
    },
    {
     "data": {
      "application/vnd.jupyter.widget-view+json": {
       "model_id": "dc44ef12a84c4b30a2b14beadd987e16",
       "version_major": 2,
       "version_minor": 0
      },
      "text/plain": [
       "predict:   0%|          | 0/730 [00:00<?, ?it/s]"
      ]
     },
     "metadata": {},
     "output_type": "display_data"
    },
    {
     "data": {
      "application/vnd.jupyter.widget-view+json": {
       "model_id": "a0b3b9c8b14f4ed59451f0c4b9bc1d2d",
       "version_major": 2,
       "version_minor": 0
      },
      "text/plain": [
       "Collect type checker feedback:   0%|          | 0/5 [00:00<?, ?it/s]"
      ]
     },
     "metadata": {},
     "output_type": "display_data"
    },
    {
     "data": {
      "application/vnd.jupyter.widget-view+json": {
       "model_id": "b50c7be1ee594d26a98605640c48db1e",
       "version_major": 2,
       "version_minor": 0
      },
      "text/plain": [
       "generating augmented inputs:   0%|          | 0/249 [00:00<?, ?it/s]"
      ]
     },
     "metadata": {},
     "output_type": "display_data"
    },
    {
     "data": {
      "application/vnd.jupyter.widget-view+json": {
       "model_id": "a547facb21a64837b1d4a0e8107a119a",
       "version_major": 2,
       "version_minor": 0
      },
      "text/plain": [
       "tokenizing sources:   0%|          | 0/249 [00:00<?, ?it/s]"
      ]
     },
     "metadata": {},
     "output_type": "display_data"
    },
    {
     "data": {
      "application/vnd.jupyter.widget-view+json": {
       "model_id": "b8a799801b4c4d89b24cb9b3dcce8f79",
       "version_major": 2,
       "version_minor": 0
      },
      "text/plain": [
       "processing chunks:   0%|          | 0/1318 [00:00<?, ?it/s]"
      ]
     },
     "metadata": {},
     "output_type": "display_data"
    },
    {
     "data": {
      "application/vnd.jupyter.widget-view+json": {
       "model_id": "65e3eacb6e5a4139887b99a46640522b",
       "version_major": 2,
       "version_minor": 0
      },
      "text/plain": [
       "predict:   0%|          | 0/800 [00:00<?, ?it/s]"
      ]
     },
     "metadata": {},
     "output_type": "display_data"
    },
    {
     "name": "stdout",
     "output_type": "stream",
     "text": [
      "[Epoch 0] R0 stats:\n",
      "\n",
      "R0_partial_acc: 7738.02%%\n",
      "\n",
      "R0_partial_acc_wo_any: 7851.21%%\n",
      "\n",
      "R0_partial_accs:\n",
      "   \n",
      "FuncArg: 7429.56%%\n",
      "   \n",
      "FuncReturn: 8488.98%%\n",
      "   \n",
      "ClassAtribute: 7668.85%%\n",
      "   \n",
      "GlobalVar: 10000.00%%\n",
      "   \n",
      "LocalVar: 4821.43%%\n",
      "\n",
      "R0_full_acc: 6947.73%%\n",
      "\n",
      "R0_full_accs:\n",
      "   \n",
      "FuncArg: 6457.73%%\n",
      "   \n",
      "FuncReturn: 7995.80%%\n",
      "   \n",
      "ClassAtribute: 7015.25%%\n",
      "   \n",
      "GlobalVar: 5714.29%%\n",
      "   \n",
      "LocalVar: 3928.57%%\n",
      "\n",
      "R0_n_labels: 3214\n",
      "[Epoch 0] R1 stats:\n",
      "\n",
      "R1_partial_acc: 463.74%%\n",
      "\n",
      "R1_partial_acc_wo_any: 281.06%%\n",
      "\n",
      "R1_partial_accs:\n",
      "   \n",
      "FuncArg: 632.91%%\n",
      "   \n",
      "FuncReturn: 398.74%%\n",
      "   \n",
      "LocalVar: 178.57%%\n",
      "\n",
      "R1_full_acc: 426.39%%\n",
      "\n",
      "R1_full_accs:\n",
      "   \n",
      "FuncArg: 621.40%%\n",
      "   \n",
      "FuncReturn: 304.30%%\n",
      "\n",
      "R1_n_labels: 3213\n"
     ]
    },
    {
     "data": {
      "application/vnd.jupyter.widget-view+json": {
       "model_id": "21fc7aa06d8a4d38930373641aaa4e11",
       "version_major": 2,
       "version_minor": 0
      },
      "text/plain": [
       "parsing and masking sources:   0%|          | 0/351 [00:00<?, ?it/s]"
      ]
     },
     "metadata": {},
     "output_type": "display_data"
    },
    {
     "data": {
      "application/vnd.jupyter.widget-view+json": {
       "model_id": "035cab21ee8d4f659894c9e6a044baeb",
       "version_major": 2,
       "version_minor": 0
      },
      "text/plain": [
       "tokenizing sources:   0%|          | 0/351 [00:00<?, ?it/s]"
      ]
     },
     "metadata": {},
     "output_type": "display_data"
    },
    {
     "data": {
      "application/vnd.jupyter.widget-view+json": {
       "model_id": "c10ac830081f4f1c9667e8d386902792",
       "version_major": 2,
       "version_minor": 0
      },
      "text/plain": [
       "processing chunks:   0%|          | 0/1353 [00:00<?, ?it/s]"
      ]
     },
     "metadata": {},
     "output_type": "display_data"
    },
    {
     "data": {
      "application/vnd.jupyter.widget-view+json": {
       "model_id": "dd5f498a4f23433cb3157f920fa058dc",
       "version_major": 2,
       "version_minor": 0
      },
      "text/plain": [
       "predict:   0%|          | 0/730 [00:00<?, ?it/s]"
      ]
     },
     "metadata": {},
     "output_type": "display_data"
    },
    {
     "data": {
      "application/vnd.jupyter.widget-view+json": {
       "model_id": "0805d490141040a6957ebdcb8b7dab48",
       "version_major": 2,
       "version_minor": 0
      },
      "text/plain": [
       "Collect type checker feedback:   0%|          | 0/5 [00:00<?, ?it/s]"
      ]
     },
     "metadata": {},
     "output_type": "display_data"
    },
    {
     "data": {
      "application/vnd.jupyter.widget-view+json": {
       "model_id": "6772d874f7d84dd0bcaa8bff2bb7424b",
       "version_major": 2,
       "version_minor": 0
      },
      "text/plain": [
       "generating augmented inputs:   0%|          | 0/249 [00:00<?, ?it/s]"
      ]
     },
     "metadata": {},
     "output_type": "display_data"
    },
    {
     "data": {
      "application/vnd.jupyter.widget-view+json": {
       "model_id": "8ead774c3d8c44acb41767fa0092e6b8",
       "version_major": 2,
       "version_minor": 0
      },
      "text/plain": [
       "tokenizing sources:   0%|          | 0/249 [00:00<?, ?it/s]"
      ]
     },
     "metadata": {},
     "output_type": "display_data"
    },
    {
     "data": {
      "application/vnd.jupyter.widget-view+json": {
       "model_id": "cfc5d929441e4e93a3e89e288f75f351",
       "version_major": 2,
       "version_minor": 0
      },
      "text/plain": [
       "processing chunks:   0%|          | 0/1322 [00:00<?, ?it/s]"
      ]
     },
     "metadata": {},
     "output_type": "display_data"
    },
    {
     "data": {
      "application/vnd.jupyter.widget-view+json": {
       "model_id": "995c65c907f94b4aa2f421f071ac3d98",
       "version_major": 2,
       "version_minor": 0
      },
      "text/plain": [
       "predict:   0%|          | 0/794 [00:00<?, ?it/s]"
      ]
     },
     "metadata": {},
     "output_type": "display_data"
    },
    {
     "name": "stdout",
     "output_type": "stream",
     "text": [
      "[Epoch 1] R0 stats:\n",
      "\n",
      "R0_partial_acc: 7825.14%%\n",
      "\n",
      "R0_partial_acc_wo_any: 7953.38%%\n",
      "\n",
      "R0_partial_accs:\n",
      "   \n",
      "FuncArg: 7573.32%%\n",
      "   \n",
      "FuncReturn: 8562.43%%\n",
      "   \n",
      "ClassAtribute: 7668.85%%\n",
      "   \n",
      "GlobalVar: 7142.86%%\n",
      "   \n",
      "LocalVar: 4464.29%%\n",
      "\n",
      "R0_full_acc: 7022.40%%\n",
      "\n",
      "R0_full_accs:\n",
      "   \n",
      "FuncArg: 6555.49%%\n",
      "   \n",
      "FuncReturn: 8153.20%%\n",
      "   \n",
      "ClassAtribute: 6906.32%%\n",
      "   \n",
      "GlobalVar: 2857.14%%\n",
      "   \n",
      "LocalVar: 3750.00%%\n",
      "\n",
      "R0_n_labels: 3214\n",
      "[Epoch 1] R1 stats:\n",
      "\n",
      "R1_partial_acc: 8814.19%%\n",
      "\n",
      "R1_partial_acc_wo_any: 8834.24%%\n",
      "\n",
      "R1_partial_accs:\n",
      "   \n",
      "FuncArg: 9108.17%%\n",
      "   \n",
      "FuncReturn: 8698.85%%\n",
      "   \n",
      "ClassAtribute: 8474.95%%\n",
      "   \n",
      "GlobalVar: 7142.86%%\n",
      "   \n",
      "LocalVar: 4642.86%%\n",
      "\n",
      "R1_full_acc: 8555.87%%\n",
      "\n",
      "R1_full_accs:\n",
      "   \n",
      "FuncArg: 8768.70%%\n",
      "   \n",
      "FuncReturn: 8614.90%%\n",
      "   \n",
      "ClassAtribute: 8126.36%%\n",
      "   \n",
      "GlobalVar: 7142.86%%\n",
      "   \n",
      "LocalVar: 4642.86%%\n",
      "\n",
      "R1_n_labels: 3213\n"
     ]
    },
    {
     "name": "stderr",
     "output_type": "stream",
     "text": [
      "/home/jiayi/Projects/SPOT/.venv/lib/python3.10/site-packages/torch/nn/modules/module.py:1402: UserWarning: positional arguments and argument \"destination\" are deprecated. nn.Module.state_dict will not accept them in the future. Refer to https://pytorch.org/docs/master/generated/torch.nn.Module.html#torch.nn.Module.state_dict for details.\n",
      "  warnings.warn(\n"
     ]
    },
    {
     "data": {
      "application/vnd.jupyter.widget-view+json": {
       "model_id": "23c79201cc4042e79158d7a355eda26c",
       "version_major": 2,
       "version_minor": 0
      },
      "text/plain": [
       "parsing and masking sources:   0%|          | 0/351 [00:00<?, ?it/s]"
      ]
     },
     "metadata": {},
     "output_type": "display_data"
    },
    {
     "data": {
      "application/vnd.jupyter.widget-view+json": {
       "model_id": "f6bc5a5f31744562b4de42a7992998eb",
       "version_major": 2,
       "version_minor": 0
      },
      "text/plain": [
       "tokenizing sources:   0%|          | 0/351 [00:00<?, ?it/s]"
      ]
     },
     "metadata": {},
     "output_type": "display_data"
    },
    {
     "data": {
      "application/vnd.jupyter.widget-view+json": {
       "model_id": "7cb8c0cd544d497484a084960dc5a6e6",
       "version_major": 2,
       "version_minor": 0
      },
      "text/plain": [
       "processing chunks:   0%|          | 0/1353 [00:00<?, ?it/s]"
      ]
     },
     "metadata": {},
     "output_type": "display_data"
    },
    {
     "data": {
      "application/vnd.jupyter.widget-view+json": {
       "model_id": "60d54665482a46d7be3fb4af6a9218a7",
       "version_major": 2,
       "version_minor": 0
      },
      "text/plain": [
       "predict:   0%|          | 0/730 [00:00<?, ?it/s]"
      ]
     },
     "metadata": {},
     "output_type": "display_data"
    },
    {
     "data": {
      "application/vnd.jupyter.widget-view+json": {
       "model_id": "0d536cbc287a46868d1ec65599c86ac8",
       "version_major": 2,
       "version_minor": 0
      },
      "text/plain": [
       "Collect type checker feedback:   0%|          | 0/5 [00:00<?, ?it/s]"
      ]
     },
     "metadata": {},
     "output_type": "display_data"
    },
    {
     "data": {
      "application/vnd.jupyter.widget-view+json": {
       "model_id": "18bbc92263c24bb4bcb99538a6cf3845",
       "version_major": 2,
       "version_minor": 0
      },
      "text/plain": [
       "generating augmented inputs:   0%|          | 0/249 [00:00<?, ?it/s]"
      ]
     },
     "metadata": {},
     "output_type": "display_data"
    },
    {
     "data": {
      "application/vnd.jupyter.widget-view+json": {
       "model_id": "ed1609608601496eb5d32e2c2f660572",
       "version_major": 2,
       "version_minor": 0
      },
      "text/plain": [
       "tokenizing sources:   0%|          | 0/249 [00:00<?, ?it/s]"
      ]
     },
     "metadata": {},
     "output_type": "display_data"
    },
    {
     "data": {
      "application/vnd.jupyter.widget-view+json": {
       "model_id": "39bc2df06e774fc69b88eacb267e2d81",
       "version_major": 2,
       "version_minor": 0
      },
      "text/plain": [
       "processing chunks:   0%|          | 0/1318 [00:00<?, ?it/s]"
      ]
     },
     "metadata": {},
     "output_type": "display_data"
    },
    {
     "data": {
      "application/vnd.jupyter.widget-view+json": {
       "model_id": "ac87a3d88fcb48ccb05dbda218d52223",
       "version_major": 2,
       "version_minor": 0
      },
      "text/plain": [
       "predict:   0%|          | 0/805 [00:00<?, ?it/s]"
      ]
     },
     "metadata": {},
     "output_type": "display_data"
    },
    {
     "name": "stdout",
     "output_type": "stream",
     "text": [
      "[Epoch 2] R0 stats:\n",
      "\n",
      "R0_partial_acc: 7703.80%%\n",
      "\n",
      "R0_partial_acc_wo_any: 7825.67%%\n",
      "\n",
      "R0_partial_accs:\n",
      "   \n",
      "FuncArg: 7389.30%%\n",
      "   \n",
      "FuncReturn: 8583.42%%\n",
      "   \n",
      "ClassAtribute: 7342.05%%\n",
      "   \n",
      "GlobalVar: 10000.00%%\n",
      "   \n",
      "LocalVar: 5178.57%%\n",
      "\n",
      "R0_full_acc: 6981.95%%\n",
      "\n",
      "R0_full_accs:\n",
      "   \n",
      "FuncArg: 6486.49%%\n",
      "   \n",
      "FuncReturn: 8153.20%%\n",
      "   \n",
      "ClassAtribute: 6753.81%%\n",
      "   \n",
      "GlobalVar: 7142.86%%\n",
      "   \n",
      "LocalVar: 4285.71%%\n",
      "\n",
      "R0_n_labels: 3214\n",
      "[Epoch 2] R1 stats:\n",
      "\n",
      "R1_partial_acc: 9137.88%%\n",
      "\n",
      "R1_partial_acc_wo_any: 9134.46%%\n",
      "\n",
      "R1_partial_accs:\n",
      "   \n",
      "FuncArg: 9418.87%%\n",
      "   \n",
      "FuncReturn: 8992.65%%\n",
      "   \n",
      "ClassAtribute: 9019.61%%\n",
      "   \n",
      "GlobalVar: 4285.71%%\n",
      "   \n",
      "LocalVar: 4464.29%%\n",
      "\n",
      "R1_full_acc: 8969.81%%\n",
      "\n",
      "R1_full_accs:\n",
      "   \n",
      "FuncArg: 9229.00%%\n",
      "   \n",
      "FuncReturn: 8908.71%%\n",
      "   \n",
      "ClassAtribute: 8779.96%%\n",
      "   \n",
      "GlobalVar: 2857.14%%\n",
      "   \n",
      "LocalVar: 4285.71%%\n",
      "\n",
      "R1_n_labels: 3213\n"
     ]
    },
    {
     "name": "stderr",
     "output_type": "stream",
     "text": [
      "/home/jiayi/Projects/SPOT/.venv/lib/python3.10/site-packages/torch/nn/modules/module.py:1402: UserWarning: positional arguments and argument \"destination\" are deprecated. nn.Module.state_dict will not accept them in the future. Refer to https://pytorch.org/docs/master/generated/torch.nn.Module.html#torch.nn.Module.state_dict for details.\n",
      "  warnings.warn(\n"
     ]
    },
    {
     "data": {
      "application/vnd.jupyter.widget-view+json": {
       "model_id": "3191c0c0c9ab45249e7b195787b71e9b",
       "version_major": 2,
       "version_minor": 0
      },
      "text/plain": [
       "parsing and masking sources:   0%|          | 0/351 [00:00<?, ?it/s]"
      ]
     },
     "metadata": {},
     "output_type": "display_data"
    },
    {
     "data": {
      "application/vnd.jupyter.widget-view+json": {
       "model_id": "5f770e78df024ba18ee6b2fb47c300f5",
       "version_major": 2,
       "version_minor": 0
      },
      "text/plain": [
       "tokenizing sources:   0%|          | 0/351 [00:00<?, ?it/s]"
      ]
     },
     "metadata": {},
     "output_type": "display_data"
    },
    {
     "data": {
      "application/vnd.jupyter.widget-view+json": {
       "model_id": "15cb73c6739a4cee8548389a0db5fc9c",
       "version_major": 2,
       "version_minor": 0
      },
      "text/plain": [
       "processing chunks:   0%|          | 0/1353 [00:00<?, ?it/s]"
      ]
     },
     "metadata": {},
     "output_type": "display_data"
    },
    {
     "data": {
      "application/vnd.jupyter.widget-view+json": {
       "model_id": "1b1cea56b9294a5cb03e82730b5d7eb0",
       "version_major": 2,
       "version_minor": 0
      },
      "text/plain": [
       "predict:   0%|          | 0/730 [00:00<?, ?it/s]"
      ]
     },
     "metadata": {},
     "output_type": "display_data"
    },
    {
     "data": {
      "application/vnd.jupyter.widget-view+json": {
       "model_id": "cfbc96795f3b4cd1989a0190f20f89b2",
       "version_major": 2,
       "version_minor": 0
      },
      "text/plain": [
       "Collect type checker feedback:   0%|          | 0/5 [00:00<?, ?it/s]"
      ]
     },
     "metadata": {},
     "output_type": "display_data"
    },
    {
     "data": {
      "application/vnd.jupyter.widget-view+json": {
       "model_id": "d093468c3e3d4b2aae57c0c8ddf6cfc9",
       "version_major": 2,
       "version_minor": 0
      },
      "text/plain": [
       "generating augmented inputs:   0%|          | 0/249 [00:00<?, ?it/s]"
      ]
     },
     "metadata": {},
     "output_type": "display_data"
    },
    {
     "data": {
      "application/vnd.jupyter.widget-view+json": {
       "model_id": "50720125e1f4453aab7700f042331634",
       "version_major": 2,
       "version_minor": 0
      },
      "text/plain": [
       "tokenizing sources:   0%|          | 0/249 [00:00<?, ?it/s]"
      ]
     },
     "metadata": {},
     "output_type": "display_data"
    },
    {
     "data": {
      "application/vnd.jupyter.widget-view+json": {
       "model_id": "33ae6ba104654c96a6fa872ca28c58d3",
       "version_major": 2,
       "version_minor": 0
      },
      "text/plain": [
       "processing chunks:   0%|          | 0/1321 [00:00<?, ?it/s]"
      ]
     },
     "metadata": {},
     "output_type": "display_data"
    },
    {
     "data": {
      "application/vnd.jupyter.widget-view+json": {
       "model_id": "962c14b533254cda98502ad5db8c0669",
       "version_major": 2,
       "version_minor": 0
      },
      "text/plain": [
       "predict:   0%|          | 0/807 [00:00<?, ?it/s]"
      ]
     },
     "metadata": {},
     "output_type": "display_data"
    },
    {
     "name": "stdout",
     "output_type": "stream",
     "text": [
      "[Epoch 3] R0 stats:\n",
      "\n",
      "R0_partial_acc: 7812.69%%\n",
      "\n",
      "R0_partial_acc_wo_any: 7921.46%%\n",
      "\n",
      "R0_partial_accs:\n",
      "   \n",
      "FuncArg: 7561.82%%\n",
      "   \n",
      "FuncReturn: 8551.94%%\n",
      "   \n",
      "ClassAtribute: 7625.27%%\n",
      "   \n",
      "GlobalVar: 10000.00%%\n",
      "   \n",
      "LocalVar: 4285.71%%\n",
      "\n",
      "R0_full_acc: 7044.18%%\n",
      "\n",
      "R0_full_accs:\n",
      "   \n",
      "FuncArg: 6572.74%%\n",
      "   \n",
      "FuncReturn: 8142.71%%\n",
      "   \n",
      "ClassAtribute: 7015.25%%\n",
      "   \n",
      "GlobalVar: 2857.14%%\n",
      "   \n",
      "LocalVar: 3750.00%%\n",
      "\n",
      "R0_n_labels: 3214\n",
      "[Epoch 3] R1 stats:\n",
      "\n",
      "R1_partial_acc: 9389.98%%\n",
      "\n",
      "R1_partial_acc_wo_any: 9383.58%%\n",
      "\n",
      "R1_partial_accs:\n",
      "   \n",
      "FuncArg: 9660.53%%\n",
      "   \n",
      "FuncReturn: 9150.05%%\n",
      "   \n",
      "ClassAtribute: 9411.76%%\n",
      "   \n",
      "GlobalVar: 8571.43%%\n",
      "   \n",
      "LocalVar: 5000.00%%\n",
      "\n",
      "R1_full_acc: 9265.48%%\n",
      "\n",
      "R1_full_accs:\n",
      "   \n",
      "FuncArg: 9533.95%%\n",
      "   \n",
      "FuncReturn: 9097.59%%\n",
      "   \n",
      "ClassAtribute: 9128.54%%\n",
      "   \n",
      "GlobalVar: 8571.43%%\n",
      "   \n",
      "LocalVar: 5000.00%%\n",
      "\n",
      "R1_n_labels: 3213\n"
     ]
    },
    {
     "name": "stderr",
     "output_type": "stream",
     "text": [
      "/home/jiayi/Projects/SPOT/.venv/lib/python3.10/site-packages/torch/nn/modules/module.py:1402: UserWarning: positional arguments and argument \"destination\" are deprecated. nn.Module.state_dict will not accept them in the future. Refer to https://pytorch.org/docs/master/generated/torch.nn.Module.html#torch.nn.Module.state_dict for details.\n",
      "  warnings.warn(\n"
     ]
    },
    {
     "data": {
      "text/html": [
       "Waiting for W&B process to finish... <strong style=\"color:green\">(success).</strong>"
      ],
      "text/plain": [
       "<IPython.core.display.HTML object>"
      ]
     },
     "metadata": {},
     "output_type": "display_data"
    },
    {
     "data": {
      "application/vnd.jupyter.widget-view+json": {
       "model_id": "42ef3f5f1b324cc1bbc9d2142c639867",
       "version_major": 2,
       "version_minor": 0
      },
      "text/plain": [
       "VBox(children=(Label(value='0.001 MB of 0.001 MB uploaded (0.000 MB deduped)\\r'), FloatProgress(value=1.0, max…"
      ]
     },
     "metadata": {},
     "output_type": "display_data"
    },
    {
     "data": {
      "text/html": [
       "<style>\n",
       "    table.wandb td:nth-child(1) { padding: 0 10px; text-align: left ; width: auto;} td:nth-child(2) {text-align: left ; width: 100%}\n",
       "    .wandb-row { display: flex; flex-direction: row; flex-wrap: wrap; justify-content: flex-start; width: 100% }\n",
       "    .wandb-col { display: flex; flex-direction: column; flex-basis: 100%; flex: 1; padding: 10px; }\n",
       "    </style>\n",
       "<div class=\"wandb-row\"><div class=\"wandb-col\"><h3>Run history:</h3><br/><table class=\"wandb\"><tr><td>R0_full_acc</td><td>▁▆▃█</td></tr><tr><td>R0_n_labels</td><td>▁▁▁▁</td></tr><tr><td>R0_partial_acc</td><td>▃█▁▇</td></tr><tr><td>R0_partial_acc_wo_any</td><td>▂█▁▆</td></tr><tr><td>R1_full_acc</td><td>▁▇██</td></tr><tr><td>R1_n_labels</td><td>▁▁▁▁</td></tr><tr><td>R1_partial_acc</td><td>▁███</td></tr><tr><td>R1_partial_acc_wo_any</td><td>▁███</td></tr><tr><td>epoch</td><td>▁▁▃▃▃▆▆▆███</td></tr><tr><td>loss</td><td>█▂▁</td></tr><tr><td>step</td><td>▁▁▃▃▃▆▆▆███</td></tr></table><br/></div><div class=\"wandb-col\"><h3>Run summary:</h3><br/><table class=\"wandb\"><tr><td>R0_full_acc</td><td>0.70442</td></tr><tr><td>R0_n_labels</td><td>3214</td></tr><tr><td>R0_partial_acc</td><td>0.78127</td></tr><tr><td>R0_partial_acc_wo_any</td><td>0.79215</td></tr><tr><td>R1_full_acc</td><td>0.92655</td></tr><tr><td>R1_n_labels</td><td>3213</td></tr><tr><td>R1_partial_acc</td><td>0.939</td></tr><tr><td>R1_partial_acc_wo_any</td><td>0.93836</td></tr><tr><td>epoch</td><td>3</td></tr><tr><td>loss</td><td>0.06567</td></tr><tr><td>step</td><td>30</td></tr></table><br/></div></div>"
      ],
      "text/plain": [
       "<IPython.core.display.HTML object>"
      ]
     },
     "metadata": {},
     "output_type": "display_data"
    },
    {
     "data": {
      "text/html": [
       "Synced <strong style=\"color:#cdcd00\">twilight-pond-2</strong>: <a href=\"https://wandb.ai/mrvplusone/test-SPOT-DAgger-r1/runs/1gssi0bv\" target=\"_blank\">https://wandb.ai/mrvplusone/test-SPOT-DAgger-r1/runs/1gssi0bv</a><br/>Synced 5 W&B file(s), 0 media file(s), 0 artifact file(s) and 0 other file(s)"
      ],
      "text/plain": [
       "<IPython.core.display.HTML object>"
      ]
     },
     "metadata": {},
     "output_type": "display_data"
    },
    {
     "data": {
      "text/html": [
       "Find logs at: <code>/mnt/data0/jiayi/wandb/run-20220513_171144-1gssi0bv/logs</code>"
      ],
      "text/plain": [
       "<IPython.core.display.HTML object>"
      ]
     },
     "metadata": {},
     "output_type": "display_data"
    }
   ],
   "source": [
    "wandb.init(project=model_name, config=args, dir=str(datadir))\n",
    "\n",
    "try:\n",
    "    trainer.train(train_repos, valid_repos)\n",
    "except Exception as e:\n",
    "    wandb.alert(title=\"Training stopped due to exception\", text=f\"In {model_name}, exception: {e}\")\n",
    "    raise e\n",
    "wandb.alert(title=\"Training finished\", text=f\"{model_name} has finished.\")\n",
    "wandb.log({\"time_stats\": trainer.timer.total_times()})\n",
    "wandb.finish()"
   ]
  },
  {
   "cell_type": "code",
   "execution_count": 48,
   "metadata": {},
   "outputs": [
    {
     "data": {
      "application/vnd.jupyter.widget-view+json": {
       "model_id": "38eaa2507ffb413e87d8936fb16bdbce",
       "version_major": 2,
       "version_minor": 0
      },
      "text/plain": [
       "parsing and masking sources:   0%|          | 0/74 [00:00<?, ?it/s]"
      ]
     },
     "metadata": {},
     "output_type": "display_data"
    },
    {
     "data": {
      "application/vnd.jupyter.widget-view+json": {
       "model_id": "9a5e96448fd4483ca937be8836783636",
       "version_major": 2,
       "version_minor": 0
      },
      "text/plain": [
       "tokenizing sources:   0%|          | 0/74 [00:00<?, ?it/s]"
      ]
     },
     "metadata": {},
     "output_type": "display_data"
    },
    {
     "data": {
      "application/vnd.jupyter.widget-view+json": {
       "model_id": "79bdd1088d6c4a9a9041943dd81af518",
       "version_major": 2,
       "version_minor": 0
      },
      "text/plain": [
       "processing chunks:   0%|          | 0/503 [00:00<?, ?it/s]"
      ]
     },
     "metadata": {},
     "output_type": "display_data"
    },
    {
     "data": {
      "application/vnd.jupyter.widget-view+json": {
       "model_id": "9c1c94d9e6694d85a9220e059be59ddc",
       "version_major": 2,
       "version_minor": 0
      },
      "text/plain": [
       "predict:   0%|          | 0/234 [00:00<?, ?it/s]"
      ]
     },
     "metadata": {},
     "output_type": "display_data"
    },
    {
     "data": {
      "application/vnd.jupyter.widget-view+json": {
       "model_id": "aa3c2e4912ff44e587152b1adf9198ff",
       "version_major": 2,
       "version_minor": 0
      },
      "text/plain": [
       "Collect type checker feedback:   0%|          | 0/3 [00:00<?, ?it/s]"
      ]
     },
     "metadata": {},
     "output_type": "display_data"
    },
    {
     "data": {
      "application/vnd.jupyter.widget-view+json": {
       "model_id": "4a680fb9ab5f40c293de5c27ec0b3d7b",
       "version_major": 2,
       "version_minor": 0
      },
      "text/plain": [
       "generating augmented inputs:   0%|          | 0/44 [00:00<?, ?it/s]"
      ]
     },
     "metadata": {},
     "output_type": "display_data"
    },
    {
     "data": {
      "application/vnd.jupyter.widget-view+json": {
       "model_id": "a8a4abf7aa3043148c890e8e36c705d5",
       "version_major": 2,
       "version_minor": 0
      },
      "text/plain": [
       "tokenizing sources:   0%|          | 0/44 [00:00<?, ?it/s]"
      ]
     },
     "metadata": {},
     "output_type": "display_data"
    },
    {
     "data": {
      "application/vnd.jupyter.widget-view+json": {
       "model_id": "45533e594d7c4ecb98555418f2702d4f",
       "version_major": 2,
       "version_minor": 0
      },
      "text/plain": [
       "processing chunks:   0%|          | 0/485 [00:00<?, ?it/s]"
      ]
     },
     "metadata": {},
     "output_type": "display_data"
    },
    {
     "data": {
      "application/vnd.jupyter.widget-view+json": {
       "model_id": "d5708b2e5abf4b66a5399c07078d3c2d",
       "version_major": 2,
       "version_minor": 0
      },
      "text/plain": [
       "predict:   0%|          | 0/260 [00:00<?, ?it/s]"
      ]
     },
     "metadata": {},
     "output_type": "display_data"
    },
    {
     "name": "stdout",
     "output_type": "stream",
     "text": [
      "R0_partial_acc: 66.36%\n",
      "R0_partial_acc_wo_any: 67.75%\n",
      "R0_partial_accs:\n",
      "   ...\n",
      "R0_full_acc: 58.21%\n",
      "R0_full_accs:\n",
      "   ...\n",
      "R0_n_labels: 871\n",
      "R1_partial_acc: 63.26%\n",
      "R1_partial_acc_wo_any: 64.38%\n",
      "R1_partial_accs:\n",
      "   ...\n",
      "R1_full_acc: 55.91%\n",
      "R1_full_accs:\n",
      "   ...\n",
      "R1_n_labels: 871\n"
     ]
    }
   ],
   "source": [
    "from spot.data import pretty_print_accuracies\n",
    "\n",
    "test_repos = [r.repo_dir(repos_dir) for r in repos_split[\"test\"]]\n",
    "\n",
    "(r0_stats, r0_data, r0_preds), (r1_stats, r1_data, r1_preds) = trainer.eval_on_repos(test_repos[0:3])\n",
    "pretty_print_accuracies(r0_stats, max_show_level=0)\n",
    "pretty_print_accuracies(r1_stats, max_show_level=0)"
   ]
  },
  {
   "cell_type": "code",
   "execution_count": 49,
   "metadata": {},
   "outputs": [
    {
     "data": {
      "application/vnd.jupyter.widget-view+json": {
       "model_id": "be6dfd7ca6174d36bb9ffc09a4c026ad",
       "version_major": 2,
       "version_minor": 0
      },
      "text/plain": [
       "Tab(children=(HTML(value=\"<pre style='line-height: 1.2; padding: 10px; color: rgb(212,212,212); background-col…"
      ]
     },
     "metadata": {},
     "output_type": "display_data"
    }
   ],
   "source": [
    "from spot import PythonType\n",
    "from spot.data import TypeInfDataset, inline_predictions\n",
    "from spot.visualization import display_code_sequence, code_inline_extra_ids\n",
    "\n",
    "ctx_margin = args.ctx_args.ctx_margin\n",
    "\n",
    "\n",
    "def visualize_batch(dataset: TypeInfDataset, preds: list[list[PythonType]], i: int):\n",
    "    pred_types = preds[i]\n",
    "    typpes_enc = [tokenizer.encode(str(t), add_special_tokens=False) for t in pred_types]\n",
    "\n",
    "    label_types = dataset.chunks_info[i].types\n",
    "    code_tks = inline_predictions(dataset.data[\"input_ids\"][i], typpes_enc, tokenizer)\n",
    "    sep_1 = tokenizer.encode(\"\\n---------⬆context⬆---------\\n\", add_special_tokens=False)\n",
    "    sep_2 = tokenizer.encode(\"\\n---------⬇context⬇---------\\n\", add_special_tokens=False)\n",
    "    code_tks = code_tks[:ctx_margin] + sep_1 + code_tks[ctx_margin:-ctx_margin] + sep_2 + code_tks[-ctx_margin:]\n",
    "    code_dec = tokenizer.decode(code_tks, skip_special_tokens=False)\n",
    "    code_dec = code_inline_extra_ids(code_dec, label_types)\n",
    "    src_ids = sorted(list(set(dataset.chunks_info[i].src_ids)))\n",
    "    files = [dataset.files[i].relative_to(datadir) for i in src_ids]\n",
    "    return \"\".join([\n",
    "        \"labels: \", str(label_types), \"\\n\",\n",
    "        \"preds: \", str(pred_types), \"\\n\",\n",
    "        \"files: \", str(files), \"\\n\",\n",
    "        \"========================== Code =======================\\n\", code_dec, \"\\n\",\n",
    "    ])\n",
    "\n",
    "\n",
    "display_code_sequence([visualize_batch(r1_data, r1_preds, i) for i in range(20)])"
   ]
  },
  {
   "cell_type": "code",
   "execution_count": 50,
   "metadata": {},
   "outputs": [
    {
     "data": {
      "application/vnd.jupyter.widget-view+json": {
       "model_id": "24d1617aa20345a2be4414464bf7a522",
       "version_major": 2,
       "version_minor": 0
      },
      "text/plain": [
       "Tab(children=(HTML(value=\"<pre style='line-height: 1.2; padding: 10px; color: rgb(212,212,212); background-col…"
      ]
     },
     "metadata": {},
     "output_type": "display_data"
    }
   ],
   "source": [
    "display_code_sequence([visualize_batch(r0_data, r0_preds, i) for i in range(20)])"
   ]
  },
  {
   "cell_type": "code",
   "execution_count": 63,
   "metadata": {},
   "outputs": [
    {
     "name": "stdout",
     "output_type": "stream",
     "text": [
      "import os\n",
      "import pathlib\n",
      "import platform\n",
      "import sys\n",
      "import tempfile\n",
      "from typing import TYPE_CHECKING, Any, Dict, Iterator, List, Mapping, Optional, Set\n",
      "\n",
      "import pkg_resources\n",
      "import pytest\n",
      "import yaml\n",
      "from _pytest.config.argparsing import Parser\n",
      "from _pytest.nodes import Node\n",
      "from py._path.local import LocalPath\n",
      "\n",
      "from pytest_mypy_plugins import utils\n",
      "\n",
      "if TYPE_CHECKING:\n",
      "    from pytest_mypy_plugins.item import YamlTestItem\n",
      "\n",
      "\n",
      "class File:\n",
      "    def __init__(self, path: str, content: str) -> None:\n",
      "        self.path = path\n",
      "        self.content = content\n",
      "\n",
      "\n",
      "def parse_test_files(test_files: List[Dict[str, Any]]) -> List[File]:\n",
      "    files: List[File] = []\n",
      "    for test_file in test_files:\n",
      "        path = test_file.get(\"path\", \"main.py\")\n",
      "        file = File(path=path, content=test_file.get(\"content\", \"\"))\n",
      "        files.append(file)\n",
      "    return files\n",
      "\n",
      "\n",
      "def parse_environment_variables(env_vars: List[str]) -> Dict[str, str]:\n",
      "    parsed_vars: Dict[str, str] = {}\n",
      "    for env_var in env_vars:\n",
      "        name, _, value = env_var.partition(\"=\")\n",
      "        parsed_vars[name] = value\n",
      "    return parsed_vars\n",
      "\n",
      "\n",
      "def parse_parametrized(params: List[Mapping[str, Any]]) -> List[Mapping[str, Any]]:\n",
      "    if not params:\n",
      "        return [{}]\n",
      "\n",
      "    parsed_params: List[Mapping[str, Any]] = []\n",
      "    known_params: Optional[Set[str]] = None\n",
      "    for idx, param in enumerate(params):\n",
      "        param_keys = set(sorted(param.keys()))\n",
      "        if not known_params:\n",
      "            known_params = param_keys\n",
      "        elif known_params.intersection(param_keys) != known_params:\n",
      "            raise ValueError(\n",
      "                \"All parametrized entries must have same keys.\"\n",
      "                f'First entry is {\", \".join(known_params)} but {\", \".join(param_keys)} '\n",
      "                \"was spotted at {idx} position\",\n",
      "            )\n",
      "        parsed_params.append({k: v for k, v in param.items() if not k.startswith(\"__\")})\n",
      "\n",
      "    return parsed_params\n",
      "\n",
      "\n",
      "class SafeLineLoader(yaml.SafeLoader):\n",
      "    def construct_mapping(self, node: yaml.Node, deep: bool = False) -> None:\n",
      "        mapping = super().construct_mapping(node, deep=deep)\n",
      "        # Add 1 so line numbering starts at 1\n",
      "        starting_line = node.start_mark.line + 1\n",
      "        for (title_node, contents_node) in node.value:\n",
      "            if title_node.value == \"main\":\n",
      "                starting_line = title_node.start_mark.line + 1\n",
      "        mapping[\"__line__\"] = starting_line\n",
      "        return mapping\n",
      "\n",
      "\n",
      "class YamlTestFile(pytest.File):\n",
      "    def collect(self) -> Iterator[YamlTestItem]:\n",
      "        from pytest_mypy_plugins.item import YamlTestItem\n",
      "\n",
      "        # To support both Pytest 6.x and 7.x\n",
      "        path = getattr(self, \"path\", None) or getattr(self, \"fspath\")\n",
      "        parsed_file = yaml.load(stream=path.read_text(\"utf8\"), Loader=SafeLineLoader)\n",
      "        if parsed_file is None:\n",
      "            return\n",
      "\n",
      "        if not isinstance(parsed_file, list):\n",
      "            raise ValueError(f\"Test file has to be YAML list, got {type(parsed_file)!r}.\")\n",
      "\n",
      "        for raw_test in parsed_file:\n",
      "            test_name_prefix = raw_test[\"case\"]\n",
      "            if \" \" in test_name_prefix:\n",
      "                raise ValueError(f\"Invalid test name {test_name_prefix!r}, only '[a-zA-Z0-9_]' is allowed.\")\n",
      "            else:\n",
      "                parametrized = parse_parametrized(raw_test.get(\"parametrized\", []))\n",
      "\n",
      "            for params in parametrized:\n",
      "                if params:\n",
      "                    test_name_suffix = \",\".join(f\"{k}={v}\" for k, v in params.items())\n",
      "                    test_name_suffix = f\"[{test_name_suffix}]\"\n",
      "                else:\n",
      "                    test_name_suffix = \"\"\n",
      "\n",
      "                test_name = f\"{test_name_prefix}{test_name_suffix}\"\n",
      "                main_content = utils.render_template(template=raw_test[\"main\"], data=params)\n",
      "                main_file = File(path=\"main.py\", content=main_content)\n",
      "                test_files = [main_file] + parse_test_files(raw_test.get(\"files\", []))\n",
      "                expect_fail = raw_test.get(\"expect_fail\", False)\n",
      "                regex = raw_test.get(\"regex\", False)\n",
      "\n",
      "                expected_output = []\n",
      "                for test_file in test_files:\n",
      "                    output_lines = utils.extract_output_matchers_from_comments(\n",
      "                        test_file.path, test_file.content.split(\"\\n\"), regex=regex\n",
      "                    )\n",
      "                    expected_output.extend(output_lines)\n",
      "\n",
      "                starting_lineno = raw_test[\"__line__\"]\n",
      "                extra_environment_variables = parse_environment_variables(raw_test.get(\"env\", []))\n",
      "                disable_cache = raw_test.get(\"disable_cache\", False)\n",
      "                expected_output.extend(\n",
      "                    utils.extract_output_matchers_from_out(raw_test.get(\"out\", \"\"), params, regex=regex)\n",
      "                )\n",
      "                additional_mypy_config = raw_test.get(\"mypy_config\", \"\")\n",
      "\n",
      "                skip = self._eval_skip(str(raw_test.get(\"skip\", \"False\")))\n",
      "                if not skip:\n",
      "                    yield YamlTestItem.from_parent(\n",
      "                        self,\n",
      "                        name=test_name,\n",
      "                        files=test_files,\n",
      "                        starting_lineno=starting_lineno,\n",
      "                        environment_variables=extra_environment_variables,\n",
      "                        disable_cache=disable_cache,\n",
      "                        expected_output=expected_output,\n",
      "                        parsed_test_data=raw_test,\n",
      "                        mypy_config=additional_mypy_config,\n",
      "                        expect_fail=expect_fail,\n",
      "                    )\n",
      "\n",
      "    def _eval_skip(self, skip_if: str) -> bool:\n",
      "        return eval(skip_if, {\"sys\": sys, \"os\": os, \"pytest\": pytest, \"platform\": platform})\n",
      "\n",
      "\n",
      "if pkg_resources.parse_version(pytest.__version__) >= pkg_resources.parse_version(\"7.0.0rc1\"):\n",
      "\n",
      "    def pytest_collect_file(file_path: pathlib.Path, parent: Node) -> Optional[YamlTestFile]:\n",
      "        if file_path.suffix in {\".yaml\", \".yml\"} and file_path.name.startswith((\"test-\", \"test_\")):\n",
      "            return YamlTestFile.from_parent(parent, path=file_path, fspath=None)\n",
      "        return None\n",
      "\n",
      "else:\n",
      "\n",
      "    def pytest_collect_file(path: LocalPath, parent: Node) -> Optional[YamlTestFile]:  # type: ignore[misc]\n",
      "        if path.ext in {\".yaml\", \".yml\"} and path.basename.startswith((\"test-\", \"test_\")):\n",
      "            return YamlTestFile.from_parent(parent, fspath=path)\n",
      "        return None\n",
      "\n",
      "\n",
      "def pytest_addoption(parser: Parser) -> None:\n",
      "    group = parser.getgroup(\"mypy-tests\")\n",
      "    group.addoption(\n",
      "        \"--mypy-testing-base\", type=str, default=tempfile.gettempdir(), help=\"Base directory for tests to use\"\n",
      "    )\n",
      "    group.addoption(\"--mypy-ini-file\", type=str, help=\"Which .ini file to use as a default config for tests\")\n",
      "    group.addoption(\n",
      "        \"--mypy-same-process\",\n",
      "        action=\"store_true\",\n",
      "        help=\"Run in the same process. Useful for debugging, will create problems with import cache\",\n",
      "    )\n",
      "    group.addoption(\n",
      "        \"--mypy-extension-hook\",\n",
      "        type=str,\n",
      "        help=\"Fully qualified path to the extension hook function, in case you need custom yaml keys. \"\n",
      "        \"Has to be top-level.\",\n",
      "    )\n",
      "    group.addoption(\n",
      "        \"--mypy-only-local-stub\",\n",
      "        action=\"store_true\",\n",
      "        help=\"mypy will ignore errors from site-packages\",\n",
      "    )\n",
      "\n"
     ]
    }
   ],
   "source": [
    "from spot.data import mask_type_annots\n",
    "from spot.utils import join_str\n",
    "src_collect = read_file(\"/mnt/data0/jiayi/SPOT-data/repos/downloaded/typeddjango__pytest-mypy-plugins/pytest_mypy_plugins/collect.py\")\n",
    "mask_r = mask_type_annots(src_collect)\n",
    "print(join_str(mask_r[\"code_segs\"], list(map(str, mask_r[\"types\"]))))"
   ]
  },
  {
   "cell_type": "code",
   "execution_count": 62,
   "metadata": {},
   "outputs": [
    {
     "name": "stdout",
     "output_type": "stream",
     "text": [
      "[\"'File.__init__.path'\", \"'File.__init__.content'\", \"'File.__init__.<return>'\", \"'parse_test_files.test_files'\", \"'parse_test_files.files'\", \"'parse_test_files.<return>'\", \"'parse_environment_variables.env_vars'\", \"'parse_environment_variables.parsed_vars'\", \"'parse_environment_variables.<return>'\", \"'parse_parametrized.params'\", \"'parse_parametrized.parsed_params'\", \"'parse_parametrized.known_params'\", \"'parse_parametrized.<return>'\", \"'SafeLineLoader.construct_mapping.node'\", \"'SafeLineLoader.construct_mapping.deep'\", \"'SafeLineLoader.construct_mapping.<return>'\", \"'YamlTestFile.collect.<return>'\", \"'YamlTestFile._eval_skip.skip_if'\", \"'YamlTestFile._eval_skip.<return>'\", \"'pytest_collect_file.file_path'\", \"'pytest_collect_file.parent'\", \"'pytest_collect_file.<return>'\", \"'pytest_collect_file[1].path'\", \"'pytest_collect_file[1].parent'\", \"'pytest_collect_file[1].<return>'\", \"'pytest_addoption.parser'\", \"'pytest_addoption.<return>'\"]\n"
     ]
    }
   ],
   "source": [
    "import libcst as cst\n",
    "print([str(a.path) for a in collect_annotations(cst.parse_module(src_collect))])"
   ]
  },
  {
   "cell_type": "code",
   "execution_count": null,
   "metadata": {},
   "outputs": [
    {
     "data": {
      "text/html": [
       "<div>\n",
       "<style scoped>\n",
       "    .dataframe tbody tr th:only-of-type {\n",
       "        vertical-align: middle;\n",
       "    }\n",
       "\n",
       "    .dataframe tbody tr th {\n",
       "        vertical-align: top;\n",
       "    }\n",
       "\n",
       "    .dataframe thead th {\n",
       "        text-align: right;\n",
       "    }\n",
       "</style>\n",
       "<table border=\"1\" class=\"dataframe\">\n",
       "  <thead>\n",
       "    <tr style=\"text-align: right;\">\n",
       "      <th></th>\n",
       "      <th>name</th>\n",
       "      <th>count</th>\n",
       "      <th>avg_time</th>\n",
       "      <th>total_time</th>\n",
       "    </tr>\n",
       "  </thead>\n",
       "  <tbody>\n",
       "    <tr>\n",
       "      <th>3</th>\n",
       "      <td>training &gt; model fitting</td>\n",
       "      <td>7</td>\n",
       "      <td>153.695309</td>\n",
       "      <td>1075.867161</td>\n",
       "    </tr>\n",
       "    <tr>\n",
       "      <th>1</th>\n",
       "      <td>training &gt; model prediction</td>\n",
       "      <td>8</td>\n",
       "      <td>84.873097</td>\n",
       "      <td>678.984775</td>\n",
       "    </tr>\n",
       "    <tr>\n",
       "      <th>2</th>\n",
       "      <td>training &gt; type checking</td>\n",
       "      <td>7</td>\n",
       "      <td>66.090760</td>\n",
       "      <td>462.635319</td>\n",
       "    </tr>\n",
       "    <tr>\n",
       "      <th>0</th>\n",
       "      <td>training &gt; preparing data</td>\n",
       "      <td>15</td>\n",
       "      <td>12.201682</td>\n",
       "      <td>183.025235</td>\n",
       "    </tr>\n",
       "  </tbody>\n",
       "</table>\n",
       "</div>"
      ],
      "text/plain": [
       "                          name  count    avg_time   total_time\n",
       "3     training > model fitting      7  153.695309  1075.867161\n",
       "1  training > model prediction      8   84.873097   678.984775\n",
       "2     training > type checking      7   66.090760   462.635319\n",
       "0    training > preparing data     15   12.201682   183.025235"
      ]
     },
     "metadata": {},
     "output_type": "display_data"
    }
   ],
   "source": [
    "display(trainer.timer.as_dataframe())"
   ]
  }
 ],
 "metadata": {
  "interpreter": {
   "hash": "f6ffc72953da4dd16b2e00785be9c4013ef131f465a8658f3921b6634d4eeec8"
  },
  "kernelspec": {
   "display_name": "Python 3.10.4 ('.venv': pipenv)",
   "language": "python",
   "name": "python3"
  },
  "language_info": {
   "codemirror_mode": {
    "name": "ipython",
    "version": 3
   },
   "file_extension": ".py",
   "mimetype": "text/x-python",
   "name": "python",
   "nbconvert_exporter": "python",
   "pygments_lexer": "ipython3",
   "version": "3.10.4"
  },
  "orig_nbformat": 4
 },
 "nbformat": 4,
 "nbformat_minor": 2
}
