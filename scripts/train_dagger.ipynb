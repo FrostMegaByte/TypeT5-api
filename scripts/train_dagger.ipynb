{
 "cells": [
  {
   "cell_type": "code",
   "execution_count": 1,
   "metadata": {},
   "outputs": [],
   "source": [
    "%load_ext autoreload\n",
    "%autoreload 2\n",
    "\n",
    "import os\n",
    "import pickle\n",
    "from concurrent.futures import ProcessPoolExecutor\n",
    "from pathlib import Path\n",
    "from typing import *\n",
    "\n",
    "import pandas as pd\n",
    "import plotly.express as px\n",
    "\n",
    "from spot.data import GitRepo\n",
    "from spot.type_env import (\n",
    "    AnnotPath,\n",
    "    MypyChecker,\n",
    "    SelectAnnotations,\n",
    "    TypeInfAction,\n",
    "    TypeInfEnv,\n",
    "    TypeInfState,\n",
    "    collect_annotations,\n",
    "    mypy_checker,\n",
    ")\n",
    "from spot.utils import cst, proj_root, read_file, seq_flatten, tqdm, write_file\n",
    "\n",
    "os.chdir(proj_root())\n",
    "\n",
    "datadir = Path(os.getenv(\"datadir\"))\n",
    "repos_dir = datadir / \"SPOT-data/repos\"\n",
    "\n",
    "useful_repos_path = proj_root() / \"scripts\" / \"useful_repos.pkl\"\n",
    "with useful_repos_path.open(\"rb\") as f:\n",
    "    useful_repos: list[GitRepo] = pickle.load(f)\n",
    "\n",
    "repos_split_path = datadir / \"SPOT-data/repos-processed-with_margin/repos_split.pkl\"\n",
    "with repos_split_path.open(\"rb\") as f:\n",
    "    repos_split = pickle.load(f)"
   ]
  },
  {
   "cell_type": "code",
   "execution_count": 2,
   "metadata": {},
   "outputs": [
    {
     "name": "stderr",
     "output_type": "stream",
     "text": [
      "/home/jiayi/Projects/SPOT/.venv/lib/python3.10/site-packages/torch/nn/modules/module.py:1402: UserWarning: positional arguments and argument \"destination\" are deprecated. nn.Module.state_dict will not accept them in the future. Refer to https://pytorch.org/docs/master/generated/torch.nn.Module.html#torch.nn.Module.state_dict for details.\n",
      "  warnings.warn(\n"
     ]
    }
   ],
   "source": [
    "import torch\n",
    "from transformers import (\n",
    "    DataCollatorForSeq2Seq,\n",
    "    RobertaTokenizer,\n",
    "    T5ForConditionalGeneration,\n",
    ")\n",
    "from transformers.models.t5 import T5ForConditionalGeneration\n",
    "\n",
    "from spot.model import ModelSPOT, TokenizerSPOT\n",
    "\n",
    "model_path = datadir / \"checkpoints/saved/SPOT-CodeT5-with_margin\"\n",
    "device = torch.device(\"cuda:0\" if torch.cuda.is_available() else \"cpu\")\n",
    "tokenizer: TokenizerSPOT = TokenizerSPOT.from_pretrained(model_path)\n",
    "model: ModelSPOT\n",
    "model = ModelSPOT.from_pretrained(model_path).to(device)"
   ]
  },
  {
   "cell_type": "code",
   "execution_count": 3,
   "metadata": {},
   "outputs": [
    {
     "name": "stderr",
     "output_type": "stream",
     "text": [
      "Failed to detect the name of this notebook, you can set it manually with the WANDB_NOTEBOOK_NAME environment variable to enable code saving.\n",
      "\u001b[34m\u001b[1mwandb\u001b[0m: Currently logged in as: \u001b[33mmrvplusone\u001b[0m. Use \u001b[1m`wandb login --relogin`\u001b[0m to force relogin\n"
     ]
    },
    {
     "data": {
      "text/html": [
       "Tracking run with wandb version 0.12.16"
      ],
      "text/plain": [
       "<IPython.core.display.HTML object>"
      ]
     },
     "metadata": {},
     "output_type": "display_data"
    },
    {
     "data": {
      "text/html": [
       "Run data is saved locally in <code>/home/jiayi/Projects/SPOT/wandb/run-20220510_152842-jt4rglp4</code>"
      ],
      "text/plain": [
       "<IPython.core.display.HTML object>"
      ]
     },
     "metadata": {},
     "output_type": "display_data"
    },
    {
     "data": {
      "text/html": [
       "Syncing run <strong><a href=\"https://wandb.ai/mrvplusone/DAgger-SPOT-CodeT5/runs/jt4rglp4\" target=\"_blank\">hopeful-microwave-7</a></strong> to <a href=\"https://wandb.ai/mrvplusone/DAgger-SPOT-CodeT5\" target=\"_blank\">Weights & Biases</a> (<a href=\"https://wandb.me/run\" target=\"_blank\">docs</a>)<br/>"
      ],
      "text/plain": [
       "<IPython.core.display.HTML object>"
      ]
     },
     "metadata": {},
     "output_type": "display_data"
    },
    {
     "data": {
      "text/html": [
       "<button onClick=\"this.nextSibling.style.display='block';this.style.display='none';\">Display W&B run</button><iframe src=\"https://wandb.ai/mrvplusone/DAgger-SPOT-CodeT5/runs/jt4rglp4?jupyter=true\" style=\"border:none;width:100%;height:420px;display:none;\"></iframe>"
      ],
      "text/plain": [
       "<wandb.sdk.wandb_run.Run at 0x7fb040bcdb10>"
      ]
     },
     "execution_count": 3,
     "metadata": {},
     "output_type": "execute_result"
    }
   ],
   "source": [
    "from IPython.display import display\n",
    "\n",
    "import wandb\n",
    "from spot.training import DAggerTrainer, DAggerTrainerArgs\n",
    "\n",
    "args = DAggerTrainerArgs(\n",
    "    output_dir=proj_root() / \"checkpoints\" / \"DAgger\",\n",
    "    max_epochs=2,\n",
    "    repos_group_size=16,\n",
    "    ctx_size=512,\n",
    "    ctx_margin=128,\n",
    "    sampling_batch_size=256,\n",
    "    train_batch_size=42,\n",
    "    generation_max_length=128,\n",
    "    max_workers=16,\n",
    ")\n",
    "\n",
    "test_run = False\n",
    "\n",
    "trainer = DAggerTrainer(model, tokenizer, args)\n",
    "train_repos = [r.repo_dir(repos_dir) for r in repos_split[\"train\"]]\n",
    "valid_repos = [r.repo_dir(repos_dir) for r in repos_split[\"valid\"]]\n",
    "if test_run:\n",
    "    train_repos = train_repos[:10]\n",
    "    valid_repos = valid_repos[:10]\n",
    "    \n",
    "test_tag = 'test-' if test_run else ''\n",
    "exp_name = f\"{test_tag}DAgger-SPOT-CodeT5\"\n",
    "wandb.init(project=exp_name, config=args)"
   ]
  },
  {
   "cell_type": "code",
   "execution_count": 4,
   "metadata": {},
   "outputs": [
    {
     "data": {
      "application/vnd.jupyter.widget-view+json": {
       "model_id": "d024f305bb1d48eda70c07f41eb37290",
       "version_major": 2,
       "version_minor": 0
      },
      "text/plain": [
       "DAgger Training:   0%|          | 0/1148 [00:00<?, ?it/s]"
      ]
     },
     "metadata": {},
     "output_type": "display_data"
    },
    {
     "ename": "AssertionError",
     "evalue": "ty: None has incorrect type <class 'NoneType'>",
     "output_type": "error",
     "traceback": [
      "\u001b[0;31m---------------------------------------------------------------------------\u001b[0m",
      "\u001b[0;31mAssertionError\u001b[0m                            Traceback (most recent call last)",
      "\u001b[1;32m/home/jiayi/Projects/SPOT/scripts/train_dagger.ipynb Cell 4'\u001b[0m in \u001b[0;36m<cell line: 1>\u001b[0;34m()\u001b[0m\n\u001b[1;32m      <a href='vscode-notebook-cell://ssh-remote%2Butopia3/home/jiayi/Projects/SPOT/scripts/train_dagger.ipynb#ch0000003vscode-remote?line=2'>3</a>\u001b[0m \u001b[39mexcept\u001b[39;00m \u001b[39mException\u001b[39;00m \u001b[39mas\u001b[39;00m e:\n\u001b[1;32m      <a href='vscode-notebook-cell://ssh-remote%2Butopia3/home/jiayi/Projects/SPOT/scripts/train_dagger.ipynb#ch0000003vscode-remote?line=3'>4</a>\u001b[0m     wandb\u001b[39m.\u001b[39malert(title\u001b[39m=\u001b[39m\u001b[39m\"\u001b[39m\u001b[39mTraining stopped due to exception\u001b[39m\u001b[39m\"\u001b[39m, text\u001b[39m=\u001b[39m\u001b[39mf\u001b[39m\u001b[39m\"\u001b[39m\u001b[39mIn \u001b[39m\u001b[39m{\u001b[39;00mexp_name\u001b[39m}\u001b[39;00m\u001b[39m, exception: \u001b[39m\u001b[39m{\u001b[39;00me\u001b[39m}\u001b[39;00m\u001b[39m\"\u001b[39m)\n\u001b[0;32m----> <a href='vscode-notebook-cell://ssh-remote%2Butopia3/home/jiayi/Projects/SPOT/scripts/train_dagger.ipynb#ch0000003vscode-remote?line=4'>5</a>\u001b[0m     \u001b[39mraise\u001b[39;00m e\n\u001b[1;32m      <a href='vscode-notebook-cell://ssh-remote%2Butopia3/home/jiayi/Projects/SPOT/scripts/train_dagger.ipynb#ch0000003vscode-remote?line=5'>6</a>\u001b[0m wandb\u001b[39m.\u001b[39malert(title\u001b[39m=\u001b[39m\u001b[39m\"\u001b[39m\u001b[39mTraining finished\u001b[39m\u001b[39m\"\u001b[39m, text\u001b[39m=\u001b[39m\u001b[39mf\u001b[39m\u001b[39m\"\u001b[39m\u001b[39m{\u001b[39;00mexp_name\u001b[39m}\u001b[39;00m\u001b[39m has finished.\u001b[39m\u001b[39m\"\u001b[39m)\n",
      "\u001b[1;32m/home/jiayi/Projects/SPOT/scripts/train_dagger.ipynb Cell 4'\u001b[0m in \u001b[0;36m<cell line: 1>\u001b[0;34m()\u001b[0m\n\u001b[1;32m      <a href='vscode-notebook-cell://ssh-remote%2Butopia3/home/jiayi/Projects/SPOT/scripts/train_dagger.ipynb#ch0000003vscode-remote?line=0'>1</a>\u001b[0m \u001b[39mtry\u001b[39;00m:\n\u001b[0;32m----> <a href='vscode-notebook-cell://ssh-remote%2Butopia3/home/jiayi/Projects/SPOT/scripts/train_dagger.ipynb#ch0000003vscode-remote?line=1'>2</a>\u001b[0m     trainer\u001b[39m.\u001b[39;49mtrain(train_repos, valid_repos)\n\u001b[1;32m      <a href='vscode-notebook-cell://ssh-remote%2Butopia3/home/jiayi/Projects/SPOT/scripts/train_dagger.ipynb#ch0000003vscode-remote?line=2'>3</a>\u001b[0m \u001b[39mexcept\u001b[39;00m \u001b[39mException\u001b[39;00m \u001b[39mas\u001b[39;00m e:\n\u001b[1;32m      <a href='vscode-notebook-cell://ssh-remote%2Butopia3/home/jiayi/Projects/SPOT/scripts/train_dagger.ipynb#ch0000003vscode-remote?line=3'>4</a>\u001b[0m     wandb\u001b[39m.\u001b[39malert(title\u001b[39m=\u001b[39m\u001b[39m\"\u001b[39m\u001b[39mTraining stopped due to exception\u001b[39m\u001b[39m\"\u001b[39m, text\u001b[39m=\u001b[39m\u001b[39mf\u001b[39m\u001b[39m\"\u001b[39m\u001b[39mIn \u001b[39m\u001b[39m{\u001b[39;00mexp_name\u001b[39m}\u001b[39;00m\u001b[39m, exception: \u001b[39m\u001b[39m{\u001b[39;00me\u001b[39m}\u001b[39;00m\u001b[39m\"\u001b[39m)\n",
      "File \u001b[0;32m~/Projects/SPOT/src/spot/training.py:70\u001b[0m, in \u001b[0;36mDAggerTrainer.train\u001b[0;34m(self, train_repos, eval_repos)\u001b[0m\n\u001b[1;32m     <a href='file:///home/jiayi/Projects/SPOT/src/spot/training.py?line=67'>68</a>\u001b[0m \u001b[39mwith\u001b[39;00m \u001b[39mself\u001b[39m\u001b[39m.\u001b[39mlog_task(\u001b[39m\"\u001b[39m\u001b[39mtraining\u001b[39m\u001b[39m\"\u001b[39m):\n\u001b[1;32m     <a href='file:///home/jiayi/Projects/SPOT/src/spot/training.py?line=68'>69</a>\u001b[0m     \u001b[39mfor\u001b[39;00m repos \u001b[39min\u001b[39;00m grouped(train_repos, repos_group_size):\n\u001b[0;32m---> <a href='file:///home/jiayi/Projects/SPOT/src/spot/training.py?line=69'>70</a>\u001b[0m         super_data, dagger_data, _ \u001b[39m=\u001b[39m \u001b[39mself\u001b[39;49m\u001b[39m.\u001b[39;49mgenerate_data(repos)\n\u001b[1;32m     <a href='file:///home/jiayi/Projects/SPOT/src/spot/training.py?line=70'>71</a>\u001b[0m         train_data \u001b[39m=\u001b[39m interleave_datasets(\n\u001b[1;32m     <a href='file:///home/jiayi/Projects/SPOT/src/spot/training.py?line=71'>72</a>\u001b[0m             [super_data\u001b[39m.\u001b[39mdata, dagger_data\u001b[39m.\u001b[39mdata]\n\u001b[1;32m     <a href='file:///home/jiayi/Projects/SPOT/src/spot/training.py?line=72'>73</a>\u001b[0m         )\n\u001b[1;32m     <a href='file:///home/jiayi/Projects/SPOT/src/spot/training.py?line=73'>74</a>\u001b[0m         \u001b[39mwith\u001b[39;00m \u001b[39mself\u001b[39m\u001b[39m.\u001b[39mlog_task(\u001b[39m\"\u001b[39m\u001b[39mmodel fitting\u001b[39m\u001b[39m\"\u001b[39m):\n",
      "File \u001b[0;32m~/Projects/SPOT/src/spot/training.py:128\u001b[0m, in \u001b[0;36mDAggerTrainer.generate_data\u001b[0;34m(self, repos)\u001b[0m\n\u001b[1;32m    <a href='file:///home/jiayi/Projects/SPOT/src/spot/training.py?line=123'>124</a>\u001b[0m     new_inputs \u001b[39m=\u001b[39m \u001b[39mself\u001b[39m\u001b[39m.\u001b[39mget_type_checked_inputs(\n\u001b[1;32m    <a href='file:///home/jiayi/Projects/SPOT/src/spot/training.py?line=124'>125</a>\u001b[0m         repos, pred_types, r0_data\u001b[39m.\u001b[39mmeta, r0_data\u001b[39m.\u001b[39mfiles\n\u001b[1;32m    <a href='file:///home/jiayi/Projects/SPOT/src/spot/training.py?line=125'>126</a>\u001b[0m     )\n\u001b[1;32m    <a href='file:///home/jiayi/Projects/SPOT/src/spot/training.py?line=126'>127</a>\u001b[0m \u001b[39mwith\u001b[39;00m \u001b[39mself\u001b[39m\u001b[39m.\u001b[39mlog_task(\u001b[39m\"\u001b[39m\u001b[39mpreparing data\u001b[39m\u001b[39m\"\u001b[39m):\n\u001b[0;32m--> <a href='file:///home/jiayi/Projects/SPOT/src/spot/training.py?line=127'>128</a>\u001b[0m     dagger_dataset, dager_meta \u001b[39m=\u001b[39m chunk_masked_code(\n\u001b[1;32m    <a href='file:///home/jiayi/Projects/SPOT/src/spot/training.py?line=128'>129</a>\u001b[0m         \u001b[39mlist\u001b[39;49m(new_inputs\u001b[39m.\u001b[39;49mvalues()),\n\u001b[1;32m    <a href='file:///home/jiayi/Projects/SPOT/src/spot/training.py?line=129'>130</a>\u001b[0m         \u001b[39mself\u001b[39;49m\u001b[39m.\u001b[39;49margs\u001b[39m.\u001b[39;49mctx_size,\n\u001b[1;32m    <a href='file:///home/jiayi/Projects/SPOT/src/spot/training.py?line=130'>131</a>\u001b[0m         \u001b[39mself\u001b[39;49m\u001b[39m.\u001b[39;49mtokenizer,\n\u001b[1;32m    <a href='file:///home/jiayi/Projects/SPOT/src/spot/training.py?line=131'>132</a>\u001b[0m         \u001b[39mself\u001b[39;49m\u001b[39m.\u001b[39;49margs\u001b[39m.\u001b[39;49mctx_margin,\n\u001b[1;32m    <a href='file:///home/jiayi/Projects/SPOT/src/spot/training.py?line=132'>133</a>\u001b[0m         silent\u001b[39m=\u001b[39;49m\u001b[39mTrue\u001b[39;49;00m,\n\u001b[1;32m    <a href='file:///home/jiayi/Projects/SPOT/src/spot/training.py?line=133'>134</a>\u001b[0m     )\n\u001b[1;32m    <a href='file:///home/jiayi/Projects/SPOT/src/spot/training.py?line=134'>135</a>\u001b[0m r1_data \u001b[39m=\u001b[39m TypeInfDataset(dagger_dataset, dager_meta, r0_data\u001b[39m.\u001b[39mfiles)\n\u001b[1;32m    <a href='file:///home/jiayi/Projects/SPOT/src/spot/training.py?line=135'>136</a>\u001b[0m \u001b[39mreturn\u001b[39;00m r0_data, r1_data, pred_types\n",
      "File \u001b[0;32m~/Projects/SPOT/src/spot/data.py:372\u001b[0m, in \u001b[0;36mchunk_masked_code\u001b[0;34m(srcs, chunk_size, tokenizer, max_workers, ctx_margin, silent)\u001b[0m\n\u001b[1;32m    <a href='file:///home/jiayi/Projects/SPOT/src/spot/data.py?line=369'>370</a>\u001b[0m \u001b[39m# verify types have the correct type\u001b[39;00m\n\u001b[1;32m    <a href='file:///home/jiayi/Projects/SPOT/src/spot/data.py?line=370'>371</a>\u001b[0m \u001b[39mfor\u001b[39;00m ty \u001b[39min\u001b[39;00m types:\n\u001b[0;32m--> <a href='file:///home/jiayi/Projects/SPOT/src/spot/data.py?line=371'>372</a>\u001b[0m     \u001b[39massert\u001b[39;00m \u001b[39mhasattr\u001b[39m(ty, \u001b[39m\"\u001b[39m\u001b[39mhead\u001b[39m\u001b[39m\"\u001b[39m) \u001b[39mand\u001b[39;00m \u001b[39mhasattr\u001b[39m(\n\u001b[1;32m    <a href='file:///home/jiayi/Projects/SPOT/src/spot/data.py?line=372'>373</a>\u001b[0m         ty, \u001b[39m\"\u001b[39m\u001b[39margs\u001b[39m\u001b[39m\"\u001b[39m\n\u001b[1;32m    <a href='file:///home/jiayi/Projects/SPOT/src/spot/data.py?line=373'>374</a>\u001b[0m     ), \u001b[39mf\u001b[39m\u001b[39m\"\u001b[39m\u001b[39mty: \u001b[39m\u001b[39m{\u001b[39;00mty\u001b[39m}\u001b[39;00m\u001b[39m has incorrect type \u001b[39m\u001b[39m{\u001b[39;00m\u001b[39mtype\u001b[39m(ty)\u001b[39m}\u001b[39;00m\u001b[39m\"\u001b[39m\n\u001b[1;32m    <a href='file:///home/jiayi/Projects/SPOT/src/spot/data.py?line=375'>376</a>\u001b[0m \u001b[39mreturn\u001b[39;00m Dataset\u001b[39m.\u001b[39mfrom_dict(chunks), label_info\n",
      "\u001b[0;31mAssertionError\u001b[0m: ty: None has incorrect type <class 'NoneType'>"
     ]
    }
   ],
   "source": [
    "try:\n",
    "    trainer.train(train_repos, valid_repos)\n",
    "except Exception as e:\n",
    "    wandb.alert(title=\"Training stopped due to exception\", text=f\"In {exp_name}, exception: {e}\")\n",
    "    raise e\n",
    "wandb.alert(title=\"Training finished\", text=f\"{exp_name} has finished.\")"
   ]
  },
  {
   "cell_type": "code",
   "execution_count": null,
   "metadata": {},
   "outputs": [
    {
     "data": {
      "text/html": [
       "<div>\n",
       "<style scoped>\n",
       "    .dataframe tbody tr th:only-of-type {\n",
       "        vertical-align: middle;\n",
       "    }\n",
       "\n",
       "    .dataframe tbody tr th {\n",
       "        vertical-align: top;\n",
       "    }\n",
       "\n",
       "    .dataframe thead th {\n",
       "        text-align: right;\n",
       "    }\n",
       "</style>\n",
       "<table border=\"1\" class=\"dataframe\">\n",
       "  <thead>\n",
       "    <tr style=\"text-align: right;\">\n",
       "      <th></th>\n",
       "      <th>name</th>\n",
       "      <th>count</th>\n",
       "      <th>avg_time</th>\n",
       "      <th>total_time</th>\n",
       "    </tr>\n",
       "  </thead>\n",
       "  <tbody>\n",
       "    <tr>\n",
       "      <th>3</th>\n",
       "      <td>training &gt; model fitting</td>\n",
       "      <td>7</td>\n",
       "      <td>153.695309</td>\n",
       "      <td>1075.867161</td>\n",
       "    </tr>\n",
       "    <tr>\n",
       "      <th>1</th>\n",
       "      <td>training &gt; model prediction</td>\n",
       "      <td>8</td>\n",
       "      <td>84.873097</td>\n",
       "      <td>678.984775</td>\n",
       "    </tr>\n",
       "    <tr>\n",
       "      <th>2</th>\n",
       "      <td>training &gt; type checking</td>\n",
       "      <td>7</td>\n",
       "      <td>66.090760</td>\n",
       "      <td>462.635319</td>\n",
       "    </tr>\n",
       "    <tr>\n",
       "      <th>0</th>\n",
       "      <td>training &gt; preparing data</td>\n",
       "      <td>15</td>\n",
       "      <td>12.201682</td>\n",
       "      <td>183.025235</td>\n",
       "    </tr>\n",
       "  </tbody>\n",
       "</table>\n",
       "</div>"
      ],
      "text/plain": [
       "                          name  count    avg_time   total_time\n",
       "3     training > model fitting      7  153.695309  1075.867161\n",
       "1  training > model prediction      8   84.873097   678.984775\n",
       "2     training > type checking      7   66.090760   462.635319\n",
       "0    training > preparing data     15   12.201682   183.025235"
      ]
     },
     "metadata": {},
     "output_type": "display_data"
    }
   ],
   "source": [
    "display(trainer.timer.as_dataframe())"
   ]
  },
  {
   "cell_type": "code",
   "execution_count": 7,
   "metadata": {},
   "outputs": [
    {
     "data": {
      "text/plain": [
       "False"
      ]
     },
     "execution_count": 7,
     "metadata": {},
     "output_type": "execute_result"
    }
   ],
   "source": [
    "None == 'None'"
   ]
  }
 ],
 "metadata": {
  "interpreter": {
   "hash": "f6ffc72953da4dd16b2e00785be9c4013ef131f465a8658f3921b6634d4eeec8"
  },
  "kernelspec": {
   "display_name": "Python 3.10.4 ('.venv': pipenv)",
   "language": "python",
   "name": "python3"
  },
  "language_info": {
   "codemirror_mode": {
    "name": "ipython",
    "version": 3
   },
   "file_extension": ".py",
   "mimetype": "text/x-python",
   "name": "python",
   "nbconvert_exporter": "python",
   "pygments_lexer": "ipython3",
   "version": "3.10.4"
  },
  "orig_nbformat": 4
 },
 "nbformat": 4,
 "nbformat_minor": 2
}
