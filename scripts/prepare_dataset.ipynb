{
 "cells": [
  {
   "cell_type": "code",
   "execution_count": 1,
   "metadata": {},
   "outputs": [],
   "source": [
    "%load_ext autoreload\n",
    "%autoreload 2\n",
    "\n",
    "import json\n",
    "import logging\n",
    "import os\n",
    "import shutil\n",
    "import subprocess\n",
    "import time\n",
    "from concurrent.futures import ProcessPoolExecutor, ThreadPoolExecutor, as_completed\n",
    "from pathlib import Path\n",
    "\n",
    "import libcst as cst\n",
    "from tqdm import tqdm\n",
    "\n",
    "from spot.data import GitRepo\n",
    "from spot.type_env import collect_annotations, mypy_checker\n",
    "from spot.utils import proj_root, read_file, write_file\n",
    "\n",
    "os.chdir(proj_root())"
   ]
  },
  {
   "cell_type": "code",
   "execution_count": 3,
   "metadata": {},
   "outputs": [],
   "source": [
    "all_repos=json.loads(read_file(\"scripts/mypy-dependents-by-stars.json\"))\n",
    "all_repos=[GitRepo.from_json(r) for r in all_repos] # for testing\n",
    "# all_repos=all_repos[:10]"
   ]
  },
  {
   "cell_type": "code",
   "execution_count": 4,
   "metadata": {},
   "outputs": [
    {
     "name": "stdout",
     "output_type": "stream",
     "text": [
      "Repos already downloaded.\n",
      "Reading last updates...\n"
     ]
    },
    {
     "name": "stderr",
     "output_type": "stream",
     "text": [
      "100%|██████████| 4890/4890 [00:27<00:00, 175.00it/s]"
     ]
    },
    {
     "name": "stdout",
     "output_type": "stream",
     "text": [
      "Downloaded 4890/5996 repos.\n"
     ]
    },
    {
     "name": "stderr",
     "output_type": "stream",
     "text": [
      "\n"
     ]
    }
   ],
   "source": [
    "# download all candidate repos\n",
    "\n",
    "def clear_downloaded_repos(repos_dir):\n",
    "    shutil.rmtree(repos_dir)\n",
    "\n",
    "def download_repos(to_download: list[GitRepo], repos_dir, download_timeout=10.0, max_workers=10) -> list[GitRepo]:\n",
    "    def download_single(repo: GitRepo):\n",
    "        try:\n",
    "            if repo.download(repos_dir, timeout=download_timeout):\n",
    "                repo.read_last_update(repos_dir)\n",
    "                return repo\n",
    "            else:\n",
    "                return None\n",
    "        except subprocess.TimeoutExpired:\n",
    "            return None\n",
    "        except Exception as e:\n",
    "            logging.warning(f\"Failed to download {repo.name}. Exception: {e}\")\n",
    "            return None\n",
    "\n",
    "    print(\"Downloading repos from Github...\")\n",
    "    t_start = time.time()\n",
    "    with ThreadPoolExecutor(max_workers=max_workers) as executor:\n",
    "        fs = [executor.submit(download_single, repo) for repo in to_download]\n",
    "        rs = [f.result() for f in tqdm(as_completed(fs), total=len(fs))]\n",
    "    print(f\"Downloading took {time.time() - t_start} seconds.\")\n",
    "    downloaded = [r for r in rs if r is not None]\n",
    "    return downloaded \n",
    "\n",
    "datadir = Path(os.getenv(\"datadir\"))\n",
    "repos_dir = datadir / \"SPOT-data/repos\"\n",
    "if not repos_dir.exists():\n",
    "    (repos_dir / \"downloading\").mkdir(parents=True)\n",
    "    (repos_dir / \"downloaded\").mkdir(parents=True)\n",
    "    downloaded_repos = download_repos(all_repos, repos_dir)\n",
    "    print(\"Deleting failed repos...\")\n",
    "    shutil.rmtree(repos_dir / \"downloading\")\n",
    "else:\n",
    "    print(\"Repos already downloaded.\")\n",
    "    downloaded_dirs = set(d.name for d in (repos_dir / \"downloaded\").iterdir())\n",
    "    downloaded_repos = [r for r in all_repos if r.authorname() in downloaded_dirs]\n",
    "    print(\"Reading last updates...\")\n",
    "    for r in tqdm(downloaded_repos):\n",
    "        r.read_last_update(repos_dir)\n",
    "print(f\"Downloaded {len(downloaded_repos)}/{len(all_repos)} repos.\")\n",
    "\n",
    "# assert len(list((repos_dir / \"downloaded\").iterdir())) == len(downloaded_repos)"
   ]
  },
  {
   "cell_type": "code",
   "execution_count": 33,
   "metadata": {},
   "outputs": [
    {
     "name": "stdout",
     "output_type": "stream",
     "text": [
      "1218 / 4890 repos are updated within a year.\n"
     ]
    },
    {
     "name": "stderr",
     "output_type": "stream",
     "text": [
      "100%|██████████| 1218/1218 [00:05<00:00, 243.41it/s]"
     ]
    },
    {
     "name": "stdout",
     "output_type": "stream",
     "text": [
      "1181/1218 repos are within the size limit.\n"
     ]
    },
    {
     "name": "stderr",
     "output_type": "stream",
     "text": [
      "\n"
     ]
    }
   ],
   "source": [
    "from datetime import datetime, timezone\n",
    "\n",
    "date_threshold = datetime(2021, 4, 20)\n",
    "new_repos = [r for r in downloaded_repos if r.last_update > date_threshold]\n",
    "print(f\"{len(new_repos)} / {len(downloaded_repos)} repos are updated within a year.\")\n",
    "loc_limit = 50000\n",
    "\n",
    "small_repos = []\n",
    "for rep in tqdm(new_repos):\n",
    "    try:\n",
    "        loc = rep.count_lines_of_code(repos_dir)\n",
    "        if loc < loc_limit:\n",
    "            small_repos.append(rep)\n",
    "    except UnicodeDecodeError:\n",
    "        # nothing we can do\n",
    "        pass\n",
    "    except Exception as e:\n",
    "        logging.warning(f\"Failed to count lines of code for {rep.name}. Exception: {e}\")\n",
    "\n",
    "print(f\"{len(small_repos)}/{len(new_repos)} repos are within the size limit ({loc_limit} LOC).\")"
   ]
  },
  {
   "cell_type": "code",
   "execution_count": 34,
   "metadata": {},
   "outputs": [
    {
     "name": "stderr",
     "output_type": "stream",
     "text": [
      "  0%|          | 0/1181 [00:00<?, ?it/s]WARNING:root:Failed to count annotations for common-workflow-language. Exception: Syntax Error @ 24:23.\n",
      "Incomplete input. Encountered 'linenum', but expected ';', or 'NEWLINE'.\n",
      "\n",
      "                print linenum, l.rstrip()\n",
      "                      ^\n",
      "  1%|          | 6/1181 [00:00<03:12,  6.10it/s]WARNING:root:Failed to count annotations for rchain. Exception: Syntax Error @ 22:15.\n",
      "Incomplete input. Encountered '\"Test Plan:\"', but expected ';', or 'NEWLINE'.\n",
      "\n",
      "        print \"Test Plan:\", self.test_name\n",
      "              ^\n",
      "  1%|          | 14/1181 [00:02<03:14,  6.00it/s]WARNING:root:Failed to count annotations for Transcrypt. Exception: Syntax Error @ 1:1.\n",
      "Incomplete input. Unexpectedly encountered '='.\n",
      "\n",
      "= nonsense =\n",
      "^\n",
      "  2%|▏         | 26/1181 [00:03<01:55, 10.01it/s]WARNING:root:Failed to count annotations for canmatrix. Exception: Syntax Error @ 70:15.\n",
      "Incomplete input. Encountered '\"not yet working script for generating a communication layer for dedicated ECU out of can database\"', but expected ';', or 'NEWLINE'.\n",
      "\n",
      "        print \"not yet working script for generating a communication layer for dedicated ECU out of can database\"\n",
      "              ^\n",
      "  3%|▎         | 35/1181 [00:04<02:18,  8.30it/s]WARNING:root:Failed to count annotations for cookiecutter-django-vue. Exception: Syntax Error @ 26:2.\n",
      "Incomplete input. Unexpectedly encountered '%'.\n",
      "\n",
      "{% if cookiecutter.use_sentry == 'y' -%}\n",
      " ^\n",
      "  5%|▌         | 63/1181 [00:09<03:55,  4.75it/s]WARNING:root:Failed to count annotations for kuyruk. Exception: Syntax Error @ 21:11.\n",
      "Incomplete input. Encountered '\"Done.\"', but expected ';', or 'NEWLINE'.\n",
      "\n",
      "    print \"Done.\"\n",
      "          ^\n",
      "  7%|▋         | 80/1181 [00:11<02:34,  7.13it/s]WARNING:root:Failed to count annotations for create-aio-app. Exception: Syntax Error @ 2:2.\n",
      "Incomplete input. Unexpectedly encountered '%'.\n",
      "\n",
      "{%- if cookiecutter.use_postgres == 'y' %}\n",
      " ^\n",
      "  9%|▉         | 106/1181 [00:13<01:36, 11.18it/s]WARNING:root:Failed to count annotations for conversationai-models. Exception: Syntax Error @ 80:9.\n",
      "Incomplete input. Unexpectedly encountered an indent.\n",
      "\n",
      "        writer.summary.add_str, i)\n",
      "        ^\n",
      "  9%|▉         | 112/1181 [00:14<01:35, 11.15it/s]WARNING:root:Failed to count annotations for datawig. Exception: Syntax Error @ 237:5.\n",
      "Incomplete input. Encountered 'df', but expected ')'.\n",
      "\n",
      "    df['mse_percent'] = df.mse / df.groupby(['data','missingness','percent_missing'])['mse'].transform(max)\n",
      "    ^\n",
      " 10%|▉         | 118/1181 [00:14<01:40, 10.62it/s]WARNING:root:Failed to count annotations for Clean-code-in-Python. Exception: Syntax Error @ 13:2.\n",
      "Incomplete input. Encountered '(', but expected 'NAME'.\n",
      "\n",
      "@(lambda f: lambda *args, **kwargs: _log(f, *args, **kwargs))\n",
      " ^\n",
      "WARNING:root:Failed to count annotations for wemake-python-styleguide. Exception: Syntax Error @ 8:16.\n",
      "Incomplete input. Encountered '[', but expected '(', or 'NEWLINE'.\n",
      "\n",
      "@some_decorator['text']  # noqa: WPS466\n",
      "               ^\n",
      " 11%|█         | 126/1181 [00:15<00:51, 20.45it/s]WARNING:root:Failed to count annotations for network-programmability-stream. Exception: Syntax Error @ 21:58.\n",
      "Incomplete input. Unexpectedly encountered ':'.\n",
      "\n",
      "    with arista_driver(**ARISTA_SW_PARAMS) as arista_sw, :\n",
      "                                                         ^\n",
      " 11%|█         | 129/1181 [00:15<01:30, 11.62it/s]WARNING:root:Failed to count annotations for tomodachi. Exception: Syntax Error @ 2:26.\n",
      "Incomplete input. Encountered '\\n', but expected 'NAME'.\n",
      "\n",
      "import tomodachi.  # noqa\n",
      "                         ^\n",
      " 11%|█▏        | 135/1181 [00:16<01:32, 11.26it/s]WARNING:root:Failed to count annotations for python-best-practices-cookiecutter. Exception: Syntax Error @ 3:6.\n",
      "Incomplete input. Encountered '{', but expected '.', '...', or 'NAME'.\n",
      "\n",
      "from {{cookiecutter.repo_name}}.{{cookiecutter.repo_name}} import fib\n",
      "     ^\n",
      "WARNING:root:Failed to count annotations for guillotina. Exception: Syntax Error @ 7:24.\n",
      "Incomplete input. Encountered '{', but expected ')', '*', '**', or 'NAME'.\n",
      "\n",
      "async def test_install({{cookiecutter.package_name}}_requester):  # noqa\n",
      "                       ^\n",
      " 12%|█▏        | 141/1181 [00:16<01:35, 10.88it/s]WARNING:root:Failed to count annotations for treasure-boxes. Exception: Syntax Error @ 67:227.\n",
      "Incomplete input. Encountered '\\n', but expected 'NAME'.\n",
      "\n",
      "                lst_last_transaction_collection_id.append(each_purpose['LastTransactionCollectionPointId']) . #this identifies the last collecpoint where consent was given (Example : web form , newsletter subsciption page etc)\n",
      "                                                                                                                                                                                                                                  ^\n",
      " 13%|█▎        | 149/1181 [00:17<01:19, 12.96it/s]WARNING:root:Failed to count annotations for entity-controller. Exception: Syntax Error @ 66:5.\n",
      "Incomplete input. Encountered '\"\"\"Test is_on, turn_on, turn_off methods.\"\"\"', but expected 'INDENT'.\n",
      "\n",
      "    \"\"\"Test is_on, turn_on, turn_off methods.\"\"\"\n",
      "    ^\n",
      " 15%|█▍        | 172/1181 [00:19<01:17, 13.01it/s]WARNING:root:Failed to count annotations for shopify_python. Exception: Syntax Error @ 5:18.\n",
      "Incomplete input. Encountered ',', but expected ';', or 'NEWLINE'.\n",
      "\n",
      "raise MyException, 'message'  # [two-arg-exception]\n",
      "                 ^\n",
      " 16%|█▋        | 193/1181 [00:21<01:28, 11.14it/s]WARNING:root:Failed to count annotations for slapos. Exception: Syntax Error @ 218:26.\n",
      "Incomplete input. Encountered '600', but expected ')'.\n",
      "\n",
      "        os.mkfifo(fifo, 0600)\n",
      "                         ^\n",
      " 20%|██        | 237/1181 [00:25<01:27, 10.82it/s]WARNING:root:Failed to count annotations for pyborg-1up. Exception: Syntax Error @ 43:15.\n",
      "Incomplete input. Encountered '\"Connection from \"', but expected ';', or 'NEWLINE'.\n",
      "\n",
      "        print \"Connection from \", self.request.getpeername()\n",
      "              ^\n",
      " 21%|██        | 243/1181 [00:26<02:32,  6.16it/s]WARNING:root:Failed to count annotations for arxiv-browse. Exception: Syntax Error @ 219:63.\n",
      "Internal error: There must be at least one space before 'as'.\n",
      "\n",
      "        with open(LOG_FILE_NAME, 'w', buffering=1)as report_fh:\n",
      "                                                              ^\n",
      " 21%|██        | 246/1181 [00:26<01:48,  8.60it/s]WARNING:root:Failed to count annotations for pandachaika. Exception: Syntax Error @ 1:10.\n",
      "Internal error: Must have at least one space after import.\n",
      "\n",
      "﻿import io\n",
      "         ^\n",
      "WARNING:root:Failed to count annotations for toolkit. Exception: division by zero\n",
      " 22%|██▏       | 257/1181 [00:26<00:47, 19.40it/s]WARNING:root:Failed to count annotations for tractor. Exception: Syntax Error @ 76:37.\n",
      "Incomplete input. Encountered 'as', but expected ')'.\n",
      "\n",
      "                trio.open_nursery() as n,\n",
      "                                    ^\n",
      " 22%|██▏       | 260/1181 [00:27<00:51, 17.72it/s]WARNING:root:Failed to count annotations for ethdkg. Exception: Syntax Error @ 3:10.\n",
      "Incomplete input. Encountered '\"python3.7 -m ethdkg\"', but expected ';', or 'NEWLINE'.\n",
      "\n",
      "pkill -f \"python3.7 -m ethdkg\"\n",
      "         ^\n",
      " 22%|██▏       | 263/1181 [00:27<00:58, 15.71it/s]WARNING:root:Failed to count annotations for lightbus. Exception: Syntax Error @ 126:1.\n",
      "Incomplete input. Unexpectedly encountered '>>'.\n",
      "\n",
      ">>> bus.get_api_schema()\n",
      "^\n",
      " 23%|██▎       | 271/1181 [00:28<01:18, 11.54it/s]WARNING:root:Failed to count annotations for vimiv-qt. Exception: Syntax Error @ 9:4.\n",
      "Incomplete input. Unexpectedly encountered '\\n'.\n",
      "\n",
      "for\n",
      "   ^\n",
      " 25%|██▍       | 295/1181 [00:29<00:52, 16.93it/s]WARNING:root:Failed to count annotations for kolla-cli. Exception: division by zero\n",
      "WARNING:root:Failed to count annotations for go-site. Exception: Syntax Error @ 38:15.\n",
      "Incomplete input. Encountered '\"set basline\"', but expected ';', or 'NEWLINE'.\n",
      "\n",
      "        print \"set basline\"\n",
      "              ^\n",
      " 25%|██▌       | 299/1181 [00:29<00:51, 17.21it/s]WARNING:root:Failed to count annotations for dotfiles. Exception: division by zero\n",
      " 26%|██▋       | 311/1181 [00:30<01:02, 14.02it/s]WARNING:root:Failed to count annotations for c2cgeoportal. Exception: Syntax Error @ 5:8.\n",
      "Incomplete input. Encountered '{', but expected 'NAME'.\n",
      "\n",
      "import {{cookiecutter.package}}_geoportal.authentication\n",
      "       ^\n",
      " 27%|██▋       | 318/1181 [00:31<01:23, 10.34it/s]WARNING:root:Failed to count annotations for dotfiles. Exception: division by zero\n",
      " 28%|██▊       | 332/1181 [00:32<01:06, 12.67it/s]WARNING:root:Failed to count annotations for dotfiles. Exception: division by zero\n",
      "WARNING:root:Failed to count annotations for nixnet-python. Exception: Syntax Error @ 1:10.\n",
      "Internal error: Must have at least one space after import.\n",
      "\n",
      "﻿import os\n",
      "         ^\n",
      " 30%|██▉       | 354/1181 [00:33<01:10, 11.66it/s]WARNING:root:Failed to count annotations for qtqa. Exception: Syntax Error @ 71:53.\n",
      "Internal error: Must have at least one space after await\n",
      "\n",
      "        projects = await(self.g.list_all_projects())\n",
      "                                                    ^\n",
      "WARNING:root:Failed to count annotations for python-snippets. Exception: Syntax Error @ 3:8.\n",
      "\"'\" is not a valid token.\n",
      "\n",
      "def ^2(' ):\n",
      "       ^\n",
      " 31%|███       | 367/1181 [00:34<01:10, 11.50it/s]WARNING:root:Failed to count annotations for tractor. Exception: Syntax Error @ 76:37.\n",
      "Incomplete input. Encountered 'as', but expected ')'.\n",
      "\n",
      "                trio.open_nursery() as n,\n",
      "                                    ^\n",
      " 34%|███▎      | 396/1181 [00:36<01:03, 12.39it/s]WARNING:root:Failed to count annotations for fat-forensics. Exception: Syntax Error @ 8:64.\n",
      "Internal error: There must be at least one space between 'as' and name.\n",
      "\n",
      "                                                       describe)\n",
      "                                                               ^\n",
      " 34%|███▍      | 400/1181 [00:37<01:41,  7.72it/s]WARNING:root:Failed to count annotations for pipenv-setup. Exception: Syntax Error @ 9:1.\n",
      "Incomplete input. Unexpectedly encountered ')'.\n",
      "\n",
      ")\n",
      "^\n",
      " 34%|███▍      | 405/1181 [00:37<01:06, 11.66it/s]WARNING:root:Failed to count annotations for pymap. Exception: Syntax Error @ 44:50.\n",
      "Incomplete input. Encountered 'as', but expected ')'.\n",
      "\n",
      "        async with (self.catch_errors('GetUser') as result,\n",
      "                                                 ^\n",
      " 37%|███▋      | 442/1181 [00:40<00:48, 15.21it/s]WARNING:root:Failed to count annotations for pulse-data. Exception: division by zero\n",
      " 38%|███▊      | 445/1181 [00:40<00:48, 15.10it/s]WARNING:root:Failed to count annotations for Erasmus. Exception: Syntax Error @ 146:15.\n",
      "Incomplete input. Encountered 'exception', but expected ';', or 'NEWLINE'.\n",
      "\n",
      "        match exception:\n",
      "              ^\n",
      " 38%|███▊      | 450/1181 [00:40<00:40, 18.22it/s]WARNING:root:Failed to count annotations for DataModellingTools. Exception: Syntax Error @ 357:58.\n",
      "Incomplete input. Encountered ',', but expected ':'.\n",
      "\n",
      "                        except antlr.RecognitionException, e:\n",
      "                                                         ^\n",
      " 40%|████      | 475/1181 [00:41<00:40, 17.35it/s]WARNING:root:Failed to count annotations for dotfiles. Exception: division by zero\n",
      " 41%|████      | 486/1181 [00:42<00:26, 26.06it/s]WARNING:root:Failed to count annotations for fantasy-anime-league. Exception: Syntax Error @ 59:15.\n",
      "Incomplete input. Encountered '\"%s -- team/username error\"', but expected ';', or 'NEWLINE'.\n",
      "\n",
      "        print \"%s -- team/username error\" % (team_error)\n",
      "              ^\n",
      " 43%|████▎     | 512/1181 [00:43<00:29, 22.81it/s]WARNING:root:Failed to count annotations for zsh-docker-aliases. Exception: division by zero\n",
      " 44%|████▎     | 516/1181 [00:43<00:26, 25.25it/s]WARNING:root:Failed to count annotations for emacs.d. Exception: division by zero\n",
      " 44%|████▍     | 522/1181 [00:43<00:33, 19.81it/s]WARNING:root:Failed to count annotations for config. Exception: Syntax Error @ 37:1.\n",
      "Inconsistent indentation. Expected a dedent.\n",
      "\n",
      "        try: execfile (file, __main__.__dict__)\n",
      "^\n",
      " 46%|████▌     | 541/1181 [00:45<00:33, 19.32it/s]WARNING:root:Failed to count annotations for ve. Exception: division by zero\n",
      " 46%|████▋     | 547/1181 [00:45<00:39, 16.12it/s]WARNING:root:Failed to count annotations for dotfiles. Exception: division by zero\n",
      " 52%|█████▏    | 612/1181 [00:49<00:39, 14.31it/s]WARNING:root:Failed to count annotations for ppb-vector. Exception: Syntax Error @ 5:11.\n",
      "Incomplete input. Encountered 'Vector', but expected ';', or 'NEWLINE'.\n",
      "\n",
      "    match Vector(1, 2):\n",
      "          ^\n",
      " 54%|█████▍    | 641/1181 [00:51<00:29, 18.41it/s]WARNING:root:Failed to count annotations for .dotfiles. Exception: division by zero\n",
      " 55%|█████▍    | 648/1181 [00:52<00:34, 15.28it/s]WARNING:root:Failed to count annotations for neuralknight. Exception: division by zero\n",
      " 55%|█████▌    | 650/1181 [00:52<00:37, 14.27it/s]WARNING:root:Failed to count annotations for whatsthis. Exception: division by zero\n",
      " 55%|█████▌    | 655/1181 [00:52<00:30, 17.13it/s]WARNING:root:Failed to count annotations for terraform-aws-api-gateway. Exception: division by zero\n",
      " 56%|█████▋    | 666/1181 [00:53<00:21, 24.10it/s]WARNING:root:Failed to count annotations for snippets. Exception: Syntax Error @ 30:11.\n",
      "Incomplete input. Encountered 'row', but expected ';', or 'NEWLINE'.\n",
      "\n",
      "    print row\n",
      "          ^\n",
      " 58%|█████▊    | 687/1181 [00:53<00:16, 29.45it/s]WARNING:root:Failed to count annotations for LinqPadSnippets. Exception: Syntax Error @ 11:1.\n",
      "Incomplete input. Unexpectedly encountered '%'.\n",
      "\n",
      "%matplotlib\n",
      "^\n",
      "WARNING:root:Failed to count annotations for teleskype. Exception: Syntax Error @ 5:15.\n",
      "Incomplete input. Unexpectedly encountered '/'.\n",
      "\n",
      "python_path = /path/to/teleskype/virtualenv/bin/python\n",
      "              ^\n",
      " 59%|█████▊    | 691/1181 [00:54<00:21, 23.18it/s]WARNING:root:Failed to count annotations for osm-gimmisn. Exception: division by zero\n",
      " 59%|█████▉    | 696/1181 [00:54<00:17, 27.36it/s]WARNING:root:Failed to count annotations for dotfiles. Exception: division by zero\n",
      " 60%|██████    | 710/1181 [00:55<00:23, 19.71it/s]WARNING:root:Failed to count annotations for homeauto. Exception: Syntax Error @ 15:11.\n",
      "Incomplete input. Encountered \"'reading at %s'\", but expected ';', or 'NEWLINE'.\n",
      "\n",
      "    print 'reading at %s' % root\n",
      "          ^\n",
      " 61%|██████    | 721/1181 [00:55<00:26, 17.09it/s]WARNING:root:Failed to count annotations for eduid-dockerfiles. Exception: division by zero\n",
      " 62%|██████▏   | 728/1181 [00:55<00:20, 21.80it/s]WARNING:root:Failed to count annotations for .emacs.d. Exception: division by zero\n",
      " 63%|██████▎   | 741/1181 [00:57<00:34, 12.81it/s]WARNING:root:Failed to count annotations for curstr.nvim. Exception: division by zero\n",
      " 65%|██████▌   | 768/1181 [00:58<00:20, 20.28it/s]WARNING:root:Failed to count annotations for dot_files. Exception: Syntax Error @ 13:26.\n",
      "Incomplete input. Encountered \"'&\\\\w+?;'\", but expected ')'.\n",
      "\n",
      "_UNESCAPE = re.compile(ur'&\\w+?;', re.UNICODE)\n",
      "                         ^\n",
      " 66%|██████▌   | 778/1181 [00:59<00:20, 19.91it/s]WARNING:root:Failed to count annotations for advent. Exception: Syntax Error @ 53:7.\n",
      "Incomplete input. Encountered 'Counter', but expected ';', or 'NEWLINE'.\n",
      "\n",
      "print Counter(closest_particle)\n",
      "      ^\n",
      " 67%|██████▋   | 793/1181 [00:59<00:16, 23.58it/s]WARNING:root:Failed to count annotations for volatile_thunk. Exception: division by zero\n",
      " 67%|██████▋   | 797/1181 [01:00<00:16, 23.50it/s]WARNING:root:Failed to count annotations for nvim. Exception: division by zero\n",
      " 68%|██████▊   | 802/1181 [01:00<00:16, 22.78it/s]WARNING:root:Failed to count annotations for sostagram. Exception: division by zero\n",
      " 69%|██████▉   | 813/1181 [01:00<00:11, 31.53it/s]WARNING:root:Failed to count annotations for python-stubs. Exception: division by zero\n",
      "WARNING:root:Failed to count annotations for dotfiles. Exception: division by zero\n",
      " 69%|██████▉   | 819/1181 [01:00<00:09, 36.97it/s]WARNING:root:Failed to count annotations for zsh-peco-ssh-connect. Exception: division by zero\n",
      "WARNING:root:Failed to count annotations for zsh-git-aliases. Exception: division by zero\n",
      " 70%|██████▉   | 825/1181 [01:00<00:08, 39.96it/s]WARNING:root:Failed to count annotations for zsh-pyenv. Exception: division by zero\n",
      " 72%|███████▏  | 848/1181 [01:01<00:09, 34.75it/s]WARNING:root:Failed to count annotations for dotfiles. Exception: Syntax Error @ 5:1.\n",
      "'$' is not a valid token.\n",
      "\n",
      "$HOST = socket.gethostname()\n",
      "^\n",
      "WARNING:root:Failed to count annotations for docker-hugo. Exception: division by zero\n",
      " 72%|███████▏  | 854/1181 [01:01<00:09, 35.35it/s]WARNING:root:Failed to count annotations for luismayta.github.io. Exception: division by zero\n",
      " 73%|███████▎  | 859/1181 [01:01<00:08, 37.15it/s]WARNING:root:Failed to count annotations for zsh-flutter. Exception: division by zero\n",
      " 74%|███████▍  | 875/1181 [01:02<00:12, 23.87it/s]WARNING:root:Failed to count annotations for coding-challenges. Exception: Syntax Error @ 16:11.\n",
      "Incomplete input. Encountered 'array', but expected ';', or 'NEWLINE'.\n",
      "\n",
      "    print array\n",
      "          ^\n",
      "WARNING:root:Failed to count annotations for mfw-template. Exception: Syntax Error @ 3:7.\n",
      "Incomplete input. Encountered '{', but expected 'NAME'.\n",
      "\n",
      "class {{ cookiecutter.behavior_name }}ModelUI(object):\n",
      "      ^\n",
      " 75%|███████▌  | 888/1181 [01:02<00:13, 21.28it/s]WARNING:root:Failed to count annotations for resume. Exception: division by zero\n",
      " 77%|███████▋  | 906/1181 [01:03<00:08, 32.72it/s]WARNING:root:Failed to count annotations for zsh-rvm. Exception: division by zero\n",
      "WARNING:root:Failed to count annotations for learning. Exception: Syntax Error @ 5:1.\n",
      "Incomplete input. Encountered a dedent, but expected 'INDENT'.\n",
      "\n",
      "        for j in range(i, len(sequence + 1)):\n",
      "                                             ^\n",
      " 77%|███████▋  | 913/1181 [01:03<00:08, 33.06it/s]WARNING:root:Failed to count annotations for dotfiles. Exception: division by zero\n",
      " 79%|███████▊  | 929/1181 [01:04<00:08, 30.07it/s]WARNING:root:Failed to count annotations for dotfiles. Exception: division by zero\n",
      " 80%|███████▉  | 940/1181 [01:04<00:09, 26.41it/s]WARNING:root:Failed to count annotations for dotfiles. Exception: division by zero\n",
      "WARNING:root:Failed to count annotations for python-prj-template. Exception: Syntax Error @ 2:6.\n",
      "Incomplete input. Encountered '{', but expected '.', '...', or 'NAME'.\n",
      "\n",
      "from {{cookiecutter.package_name}}.config import GCONFIG\n",
      "     ^\n",
      " 82%|████████▏ | 966/1181 [01:05<00:04, 46.09it/s]WARNING:root:Failed to count annotations for fuzzy-note. Exception: division by zero\n",
      " 82%|████████▏ | 971/1181 [01:05<00:06, 34.61it/s]WARNING:root:Failed to count annotations for WS_THEbotIT. Exception: Syntax Error @ 127:76.\n",
      "Incomplete input. Encountered 'async', but expected ')'.\n",
      "\n",
      "    page.save(summary = 'setzen der Links auf die Seiten', botflag = True, async= True)\n",
      "                                                                           ^\n",
      " 83%|████████▎ | 979/1181 [01:05<00:04, 43.67it/s]WARNING:root:Failed to count annotations for py-docker-template. Exception: division by zero\n",
      " 83%|████████▎ | 985/1181 [01:05<00:04, 45.99it/s]WARNING:root:Failed to count annotations for .vim. Exception: division by zero\n",
      " 84%|████████▍ | 991/1181 [01:05<00:04, 39.09it/s]WARNING:root:Failed to count annotations for terraform-aws-lambda. Exception: division by zero\n",
      " 85%|████████▍ | 1001/1181 [01:06<00:04, 38.22it/s]WARNING:root:Failed to count annotations for watchdodge. Exception: Syntax Error @ 76:1.\n",
      "Incomplete input. Encountered a dedent, but expected 'INDENT'.\n",
      "\n",
      "<<<<<<< HEAD\n",
      "^\n",
      " 86%|████████▌ | 1014/1181 [01:06<00:05, 30.88it/s]WARNING:root:Failed to count annotations for Random. Exception: Syntax Error @ 8:7.\n",
      "Incomplete input. Encountered 'b', but expected ';', or 'NEWLINE'.\n",
      "\n",
      "print b['nikhil']\n",
      "      ^\n",
      " 86%|████████▌ | 1018/1181 [01:06<00:06, 25.39it/s]WARNING:root:Failed to count annotations for mapgen. Exception: division by zero\n",
      " 87%|████████▋ | 1024/1181 [01:07<00:08, 17.78it/s]WARNING:root:Failed to count annotations for drone-pytools. Exception: division by zero\n",
      " 87%|████████▋ | 1029/1181 [01:07<00:07, 21.58it/s]WARNING:root:Failed to count annotations for docker-php. Exception: division by zero\n",
      " 87%|████████▋ | 1033/1181 [01:07<00:06, 23.09it/s]WARNING:root:Failed to count annotations for prometeo. Exception: Syntax Error @ 312:39.\n",
      "Incomplete input. Encountered 'async', but expected ')'.\n",
      "\n",
      "    def visit_FunctionDef(self, node, async=False):\n",
      "                                      ^\n",
      "WARNING:root:Failed to count annotations for snippets. Exception: Syntax Error @ 11:19.\n",
      "Incomplete input. Encountered '\"working\"', but expected ';', or 'NEWLINE'.\n",
      "\n",
      "            print \"working\"\n",
      "                  ^\n",
      " 89%|████████▉ | 1052/1181 [01:08<00:04, 26.79it/s]WARNING:root:Failed to count annotations for notify-run-deployment. Exception: division by zero\n",
      " 90%|████████▉ | 1057/1181 [01:08<00:04, 28.66it/s]WARNING:root:Failed to count annotations for junk. Exception: Syntax Error @ 29:15.\n",
      "Incomplete input. Encountered '\"getting\"', but expected ';', or 'NEWLINE'.\n",
      "\n",
      "        print \"getting\", name\n",
      "              ^\n",
      " 90%|█████████ | 1065/1181 [01:08<00:03, 31.32it/s]WARNING:root:Failed to count annotations for zsh-tfenv. Exception: division by zero\n",
      "WARNING:root:Failed to count annotations for dotfiles. Exception: division by zero\n",
      " 91%|█████████ | 1075/1181 [01:08<00:02, 42.64it/s]WARNING:root:Failed to count annotations for LMS. Exception: Syntax Error @ 5:8.\n",
      "Incomplete input. Encountered 'exercise', but expected ';', or 'NEWLINE'.\n",
      "\n",
      "Normal exercise\n",
      "       ^\n",
      " 93%|█████████▎| 1101/1181 [01:09<00:01, 40.84it/s]WARNING:root:Failed to count annotations for python-playground. Exception: division by zero\n",
      " 94%|█████████▍| 1108/1181 [01:09<00:01, 46.91it/s]WARNING:root:Failed to count annotations for zuul-infra. Exception: division by zero\n",
      "WARNING:root:Failed to count annotations for django-project-template. Exception: division by zero\n",
      "WARNING:root:Failed to count annotations for zsh-nvm. Exception: division by zero\n",
      " 96%|█████████▌| 1131/1181 [01:10<00:01, 39.11it/s]WARNING:root:Failed to count annotations for sayanarijit.github.io. Exception: division by zero\n",
      " 97%|█████████▋| 1149/1181 [01:10<00:00, 37.52it/s]WARNING:root:Failed to count annotations for snooty. Exception: division by zero\n",
      "WARNING:root:Failed to count annotations for chess. Exception: division by zero\n",
      " 98%|█████████▊| 1156/1181 [01:10<00:00, 29.20it/s]WARNING:root:Failed to count annotations for hab-map-django. Exception: Syntax Error @ 9:70.\n",
      "'\\\\' is not a valid token.\n",
      "\n",
      "        return self.annotate(timestamp=TruncMonth('effective_date')) \\ # Truncate to Day and add to select list\n",
      "                                                                     ^\n",
      "100%|██████████| 1181/1181 [01:17<00:00, 15.17it/s]\n"
     ]
    },
    {
     "name": "stdout",
     "output_type": "stream",
     "text": [
      "664/1181 repos have enough portions of type annotations.\n"
     ]
    }
   ],
   "source": [
    "# filter out repos with too few annotations\n",
    "\n",
    "def count_repo_annots(rep):\n",
    "    try: \n",
    "        rep.count_annotations(repos_dir)\n",
    "        if rep.n_type_annots / rep.lines_of_code > 0.05:\n",
    "            return rep\n",
    "    except Exception as e:\n",
    "        logging.warning(f\"Failed to count annotations for {rep.name}. Exception: {e}\")\n",
    "        return None\n",
    "\n",
    "with ProcessPoolExecutor(max_workers=30) as executor:\n",
    "    fs = [executor.submit(count_repo_annots, rep) for rep in small_repos]\n",
    "    rs = [f.result() for f in tqdm(as_completed(fs), total=len(fs))]\n",
    "useful_repos: list[GitRepo] = [r for r in rs if r is not None and 'typeshed' not in r.name]\n",
    "\n",
    "print(f\"{len(useful_repos)}/{len(small_repos)} repos are parsable and have enough portions of type annotations.\")"
   ]
  },
  {
   "cell_type": "code",
   "execution_count": 35,
   "metadata": {},
   "outputs": [
    {
     "name": "stdout",
     "output_type": "stream",
     "text": [
      "Total number of manual annotations: 343595\n",
      "Total number of type places: 544497\n",
      "Total number of lines of code: 3342911\n"
     ]
    },
    {
     "data": {
      "text/plain": [
       "[GitRepo(author='skorokithakis', name='catt', url='https://github.com/skorokithakis/catt', stars=1740, forks=762, lines_of_code=2036, last_update=datetime.datetime(2022, 4, 10, 1, 30, 43), n_type_annots=140, n_type_places=433),\n",
       " GitRepo(author='encode', name='databases', url='https://github.com/encode/databases', stars=769, forks=48, lines_of_code=3124, last_update=datetime.datetime(2022, 3, 6, 12, 25, 10), n_type_annots=323, n_type_places=498),\n",
       " GitRepo(author='Curt-Park', name='rainbow-is-all-you-need', url='https://github.com/Curt-Park/rainbow-is-all-you-need', stars=490, forks=110, lines_of_code=107, last_update=datetime.datetime(2022, 1, 13, 23, 4, 48), n_type_annots=26, n_type_places=30),\n",
       " GitRepo(author='jreese', name='aiomultiprocess', url='https://github.com/jreese/aiomultiprocess', stars=585, forks=45, lines_of_code=1140, last_update=datetime.datetime(2022, 2, 4, 21, 28, 7), n_type_annots=138, n_type_places=213),\n",
       " GitRepo(author='instaloader', name='instaloader', url='https://github.com/instaloader/instaloader', stars=874, forks=134, lines_of_code=5417, last_update=datetime.datetime(2022, 4, 18, 9, 49, 34), n_type_annots=569, n_type_places=843)]"
      ]
     },
     "execution_count": 35,
     "metadata": {},
     "output_type": "execute_result"
    }
   ],
   "source": [
    "# Some summary statistics\n",
    "\n",
    "# print total number of manual annotations\n",
    "n_total_annots = sum(rep.n_type_annots for rep in useful_repos)\n",
    "print(\"Total number of manual annotations:\", n_total_annots)\n",
    "\n",
    "# print total number of type places\n",
    "n_total_places = sum(rep.n_type_places for rep in useful_repos)\n",
    "print(\"Total number of type places:\", n_total_places)\n",
    "\n",
    "# print total number of lines of code\n",
    "n_total_lines = sum(rep.lines_of_code for rep in useful_repos)\n",
    "print(\"Total number of lines of code:\", n_total_lines)\n",
    "\n",
    "# print average number of type annotations per line of code excluding projects with more than 1000 lines of code\n",
    "n_avg_annots = sum(rep.n_type_annots for rep in useful_repos if rep.lines_of_code < 1000) / n_total_lines"
   ]
  },
  {
   "cell_type": "code",
   "execution_count": 5,
   "metadata": {},
   "outputs": [
    {
     "name": "stdout",
     "output_type": "stream",
     "text": [
      "[GitRepo(author='typeddjango', name='pytest-mypy-plugins', url='https://github.com/typeddjango/pytest-mypy-plugins', stars=12, forks=0, lines_of_code=1039, last_update=datetime.datetime(2022, 4, 18, 23, 25, 40), n_type_annots=155, n_type_places=158), GitRepo(author='jfly', name='jfly.github.io', url='https://github.com/jfly/jfly.github.io', stars=0, forks=0, lines_of_code=650, last_update=datetime.datetime(2022, 4, 12, 8, 23, 39), n_type_annots=39, n_type_places=122), GitRepo(author='seattleflu', name='id3c', url='https://github.com/seattleflu/id3c', stars=2, forks=0, lines_of_code=8883, last_update=datetime.datetime(2022, 4, 21, 15, 38, 59), n_type_annots=675, n_type_places=1068)]\n"
     ]
    }
   ],
   "source": [
    "import pickle\n",
    "\n",
    "useful_repos_path = proj_root() / \"scripts\" / \"useful_repos.pkl\"\n",
    "with useful_repos_path.open(\"wb\") as f:\n",
    "    pickle.dump(useful_repos, f)\n",
    "print(f\"Saved {len(useful_repos)} useful repos to {useful_repos_path}.\")\n",
    "with useful_repos_path.open(\"rb\") as f:\n",
    "    print(pickle.load(f)[:3])"
   ]
  },
  {
   "cell_type": "code",
   "execution_count": 2,
   "metadata": {},
   "outputs": [],
   "source": [
    "import pickle\n",
    "from spot import proj_root\n",
    "\n",
    "useful_repos_path = proj_root() / \"scripts\" / \"useful_repos.pkl\"\n",
    "with useful_repos_path.open(\"rb\") as f:\n",
    "    useful_repos = pickle.load(f)"
   ]
  },
  {
   "cell_type": "code",
   "execution_count": 5,
   "metadata": {},
   "outputs": [
    {
     "name": "stdout",
     "output_type": "stream",
     "text": [
      "Deleting old datasets at: /mnt/data0/jiayi/SPOT-data/repos-processed-with_margin\n",
      "Processing dataset: train\n"
     ]
    },
    {
     "data": {
      "application/vnd.jupyter.widget-view+json": {
       "model_id": "79434db199b2435bbfb4488181072996",
       "version_major": 2,
       "version_minor": 0
      },
      "text/plain": [
       "parsing and masking sources:   0%|          | 0/29836 [00:00<?, ?it/s]"
      ]
     },
     "metadata": {},
     "output_type": "display_data"
    },
    {
     "data": {
      "application/vnd.jupyter.widget-view+json": {
       "model_id": "4ec742f0b5434eb984f450fd479b696d",
       "version_major": 2,
       "version_minor": 0
      },
      "text/plain": [
       "tokenizing sources:   0%|          | 0/29835 [00:00<?, ?it/s]"
      ]
     },
     "metadata": {},
     "output_type": "display_data"
    },
    {
     "data": {
      "application/vnd.jupyter.widget-view+json": {
       "model_id": "db5373617f9340f3b0cfde666e2a830f",
       "version_major": 2,
       "version_minor": 0
      },
      "text/plain": [
       "processing chunks:   0%|          | 0/75298 [00:00<?, ?it/s]"
      ]
     },
     "metadata": {},
     "output_type": "display_data"
    },
    {
     "name": "stdout",
     "output_type": "stream",
     "text": [
      "Processing dataset: valid\n"
     ]
    },
    {
     "data": {
      "application/vnd.jupyter.widget-view+json": {
       "model_id": "f940473faf534f1e8a6ef5470e2a4fc2",
       "version_major": 2,
       "version_minor": 0
      },
      "text/plain": [
       "parsing and masking sources:   0%|          | 0/1953 [00:00<?, ?it/s]"
      ]
     },
     "metadata": {},
     "output_type": "display_data"
    },
    {
     "data": {
      "application/vnd.jupyter.widget-view+json": {
       "model_id": "636c21b33b9243f093570fe6db3dc5d3",
       "version_major": 2,
       "version_minor": 0
      },
      "text/plain": [
       "tokenizing sources:   0%|          | 0/1953 [00:00<?, ?it/s]"
      ]
     },
     "metadata": {},
     "output_type": "display_data"
    },
    {
     "data": {
      "application/vnd.jupyter.widget-view+json": {
       "model_id": "81fb11e0685e4998b758cf578487276d",
       "version_major": 2,
       "version_minor": 0
      },
      "text/plain": [
       "processing chunks:   0%|          | 0/5422 [00:00<?, ?it/s]"
      ]
     },
     "metadata": {},
     "output_type": "display_data"
    },
    {
     "name": "stdout",
     "output_type": "stream",
     "text": [
      "Processing dataset: test\n"
     ]
    },
    {
     "data": {
      "application/vnd.jupyter.widget-view+json": {
       "model_id": "d6629873646746f4bc176515280df9f8",
       "version_major": 2,
       "version_minor": 0
      },
      "text/plain": [
       "parsing and masking sources:   0%|          | 0/1594 [00:00<?, ?it/s]"
      ]
     },
     "metadata": {},
     "output_type": "display_data"
    },
    {
     "data": {
      "application/vnd.jupyter.widget-view+json": {
       "model_id": "f2bad27d30154948a73abe7989385f7b",
       "version_major": 2,
       "version_minor": 0
      },
      "text/plain": [
       "tokenizing sources:   0%|          | 0/1594 [00:00<?, ?it/s]"
      ]
     },
     "metadata": {},
     "output_type": "display_data"
    },
    {
     "data": {
      "application/vnd.jupyter.widget-view+json": {
       "model_id": "ba78f5668ffb4efbbf66eecac9c580b8",
       "version_major": 2,
       "version_minor": 0
      },
      "text/plain": [
       "processing chunks:   0%|          | 0/3573 [00:00<?, ?it/s]"
      ]
     },
     "metadata": {},
     "output_type": "display_data"
    }
   ],
   "source": [
    "from spot.data import load_or_process_datasets\n",
    "from spot.model import TokenizerSPOT\n",
    "\n",
    "datadir = Path(os.getenv(\"datadir\"))\n",
    "repos_dir = datadir / \"SPOT-data/repos\"\n",
    "tokenizer = TokenizerSPOT.from_pretrained(\"Salesforce/codet5-base\")\n",
    "\n",
    "with_margin = True\n",
    "margin_tag = \"with_margin\" if with_margin else \"no_margin\"\n",
    "\n",
    "ctx_margin = tokenizer.model_max_length // 4 if with_margin else 0\n",
    "\n",
    "test_parsing = False\n",
    "test_tag = \"test-\" if test_parsing else \"\"\n",
    "\n",
    "ti_datasets, repos_split = load_or_process_datasets(\n",
    "    datadir / f\"SPOT-data/{test_tag}repos-processed-{margin_tag}\",\n",
    "    tokenizer,\n",
    "    repos_dir,\n",
    "    repos_test=useful_repos[0:50] if not test_parsing else useful_repos[0:3],\n",
    "    repos_valid=useful_repos[50:90] if not test_parsing else useful_repos[3:4],\n",
    "    repos_train=useful_repos[90:] if not test_parsing else useful_repos[4:6],\n",
    "    regenerate=True,\n",
    "    ctx_margin=ctx_margin,\n",
    "    max_workers=20,\n",
    ")"
   ]
  }
 ],
 "metadata": {
  "interpreter": {
   "hash": "f6ffc72953da4dd16b2e00785be9c4013ef131f465a8658f3921b6634d4eeec8"
  },
  "kernelspec": {
   "display_name": "Python 3.9.7 ('.venv': pipenv)",
   "language": "python",
   "name": "python3"
  },
  "language_info": {
   "codemirror_mode": {
    "name": "ipython",
    "version": 3
   },
   "file_extension": ".py",
   "mimetype": "text/x-python",
   "name": "python",
   "nbconvert_exporter": "python",
   "pygments_lexer": "ipython3",
   "version": "3.10.4"
  },
  "orig_nbformat": 4
 },
 "nbformat": 4,
 "nbformat_minor": 2
}
